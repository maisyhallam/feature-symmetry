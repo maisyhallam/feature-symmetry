{
 "cells": [
  {
   "cell_type": "code",
   "execution_count": 47,
   "id": "b45d44bf",
   "metadata": {},
   "outputs": [],
   "source": [
    "import csv # for writing dataframes to csv\n",
    "import random # for making a random choice\n",
    "import os # for scanning directories\n",
    "import itertools\n",
    "import string # for generating strings\n",
    "from collections import Counter\n",
    "\n",
    "import kintypes as kt # bringing large lists of kin types into the namespace\n",
    "import math # for calculating logs\n",
    "import pandas as pd\n",
    "import numpy as np\n",
    "import scipy.stats\n",
    "import re\n",
    "from tqdm import tqdm\n",
    "\n",
    "testing = True # set to True to run code blocks with tests and examples\n",
    "filtering = False # set to True to run the filtering process"
   ]
  },
  {
   "cell_type": "markdown",
   "id": "a9d39313",
   "metadata": {},
   "source": [
    "# Internal co-selection\n",
    "\n",
    "Internal co-selection refers to a process of kin term evolution whereby terminological changes in one part of the paradigm co-occur with changes in related parts of the paradigm, increasing the predictive structure of the paradigm.\n",
    "\n",
    "In this notebook, we will build simulations to investigate the robustness of this tendency cross-linguistically, using data from Kinbank, a global database of kin terminology. \n",
    "\n",
    "We will measure internal co-selection in terms of the **mutual information** between Generation N and Generation N+1 in a particular kinship system. That tells us how much information can be gained from one generation by observing the other - how certain we can be about which children 'go with' which parents. This can be calculated as the **entropy** of one generation (how much unpredictable variation there is) minus the **conditional entropy** between the two generations (how much unpredictability remains in one generation after observing another).\n",
    "\n",
    "## Calculating mutual information of a kinship system\n",
    "\n",
    "To calculate the mutual information (MI) of a particular kinship system, we must perform the following steps:\n",
    "\n",
    "1. Extract kin terminology data from Kinbank for this language.\n",
    "2. Condense the full kinship system down to the terms we are interested in: Ego's generation and Ego's parents' generation.\n",
    "3. Calculate the probabilities of each kin term within the generation in which it belongs; and the probabilities of each parent-child pair.\n",
    "4. Calculate entropy, conditional entropy, subtract them from each other to get the mutual information of the system.\n",
    "\n",
    "After we get that going, we can do these same calculations on simulated kinship systems.\n",
    "\n",
    "### 1. Extract kin terminology from Kinbank\n",
    "\n",
    "First, let's actually load our data in. The following function `get_kb_files()` pulls the full list of Kinbank filenames - one file per language. Later, we can iterate through these to generate MI values for every language in our dataset."
   ]
  },
  {
   "cell_type": "code",
   "execution_count": 48,
   "id": "246b31ff",
   "metadata": {},
   "outputs": [],
   "source": [
    "def get_kb_files(path) -> list:\n",
    "    files = []\n",
    "    directory = os.scandir(path)\n",
    "    for file in directory:\n",
    "        files.append(file.name)\n",
    "    return files\n",
    "\n",
    "all_kb_files = get_kb_files('../../kinbank')"
   ]
  },
  {
   "cell_type": "code",
   "execution_count": 49,
   "id": "ca211494",
   "metadata": {},
   "outputs": [
    {
     "data": {
      "text/plain": [
       "[\"'Are'are_area1240.csv\",\n",
       " 'Abui_abui1241.csv',\n",
       " 'Achinese_achi1257.csv',\n",
       " 'Achuar_achu1249.csv',\n",
       " 'Aché_ache1246.csv',\n",
       " 'Adang_adan1251.csv',\n",
       " 'Adnyamathanha_adny1235.csv',\n",
       " 'Aghul_aghu1253.csv',\n",
       " 'Agob-Ende-Kawam_agob1244.csv',\n",
       " 'Aguaruna_agua1253.csv',\n",
       " 'Akhvakh_Northern_Akhvakh__akhv1239.csv',\n",
       " 'Akkadian_akka1240.csv',\n",
       " 'Aklanon_akla1241.csv',\n",
       " 'Alamblak_alam1246.csv',\n",
       " 'Alangan_alan1249.csv',\n",
       " 'Albanian_alba1267.csv',\n",
       " 'Albanian_Tosk__tosk1239.csv',\n",
       " 'Alyawarr_alya1239.csv',\n",
       " 'Amanab_aman1265.csv',\n",
       " 'Amharic_amha1245.csv',\n",
       " 'Amis_amis1246.csv',\n",
       " 'Ampibabo_Lauje_ampi1237.csv',\n",
       " 'Anambé_anam1249.csv',\n",
       " 'Ancient_Greek_anci1242.csv',\n",
       " 'Andi_andi1255.csv',\n",
       " 'Anejom_anei1239.csv',\n",
       " 'Angaite_anga1316.csv',\n",
       " 'Aniwa_aniw1237.csv',\n",
       " 'Anuta_anut1237.csv',\n",
       " 'Arabana_arab1267.csv',\n",
       " 'Arabana_arab1267a.csv',\n",
       " 'Araki_arak1252.csv',\n",
       " 'Araweté_araw1273.csv',\n",
       " 'Archi_arch1244.csv',\n",
       " 'Aria_(Mouk-Aria)_mouk1240a.csv',\n",
       " 'Arizona_Yaqui_yaqu1251a.csv',\n",
       " 'Armenian_nucl1235.csv',\n",
       " 'Arosi_aros1241.csv',\n",
       " 'Asera_aser1237.csv',\n",
       " 'ASF_Auslan_aust1271.csv',\n",
       " 'Assamese_assa1263.csv',\n",
       " 'Asu_Tanzania__asut1235.csv',\n",
       " 'Atayal_atay1247.csv',\n",
       " 'Atchin_atch1238.csv',\n",
       " 'Atoni_(Uab_Meto)_uabm1237.csv',\n",
       " 'Atsugewi_atsu1245.csv',\n",
       " 'Atta_atta1244.csv',\n",
       " 'Au_auuu1241.csv',\n",
       " 'Avar_Ancux__ancu1238.csv',\n",
       " 'Avar_Andalal__anda1281.csv',\n",
       " 'Avar_avar1256.csv',\n",
       " 'Avar_Batlux__batl1238.csv',\n",
       " 'Avar_Hid_dialect__hidd1238.csv',\n",
       " 'Avatime_avat1244.csv',\n",
       " 'Avava_(Bangasa_Dialect)_katb1237.csv',\n",
       " 'Avava_(Niviar_Dialect)_katb1237b.csv',\n",
       " 'Avava_katb1237a.csv',\n",
       " 'Avaz_Khunzakh__kunz1243.csv',\n",
       " 'Avestan_aves1237.csv',\n",
       " 'Avá_Canoeiro_avac1239.csv',\n",
       " 'Awa_imbo1238.csv',\n",
       " 'Awetí_awet1244.csv',\n",
       " 'Awiakay_awia1234.csv',\n",
       " 'Ayiwo_ayiw1239.csv',\n",
       " 'Ayoreo_ayor1240.csv',\n",
       " 'Aztec_clas1250.csv',\n",
       " 'Bacanese_Malay_(Bacan)_baca1243.csv',\n",
       " 'Badimaya_badi1246.csv',\n",
       " 'Bafia_bafi1243.csv',\n",
       " 'Bahonsuai_baho1237.csv',\n",
       " 'Bahvalal_bagv1239.csv',\n",
       " 'Balaesang_bala1314.csv',\n",
       " 'Balangao_bala1310.csv',\n",
       " 'Balinese_bali1278.csv',\n",
       " 'Bali_Congo__bali1274.csv',\n",
       " 'Bali_DRC__bali1275.csv',\n",
       " 'Balochi_balo1260.csv',\n",
       " 'Bamun_bamu1253.csv',\n",
       " 'Bandjalang_band1339.csv',\n",
       " 'Banjar_banj1239.csv',\n",
       " 'Bannock_bann1248.csv',\n",
       " 'Bannoni_bann1247.csv',\n",
       " 'Barabet_(Hano)_hano1246a.csv',\n",
       " 'Bardi_bard1254.csv',\n",
       " 'Bario_Kelabit_bari1288.csv',\n",
       " 'Bari_bari1297.csv',\n",
       " 'Barok_(Karu)_baro1253.csv',\n",
       " 'Baruya_baru1267.csv',\n",
       " 'Basque_basq1248.csv',\n",
       " 'Basque_west1508.csv',\n",
       " 'Batak_Toba_bata1289.csv',\n",
       " 'Batanga_bata1285.csv',\n",
       " 'Bats_Tsova_Tush__bats1242.csv',\n",
       " 'Bau-Jagoi_Bidayuh_baub1235.csv',\n",
       " 'Baure_baur1253.csv',\n",
       " 'Belarusian_bela1254.csv',\n",
       " 'Bemba_bemb1257.csv',\n",
       " 'Bena_Tanzania__bena1262.csv',\n",
       " 'Bende_bend1258.csv',\n",
       " 'Bengali_beng1280.csv',\n",
       " 'Bera_bera1259.csv',\n",
       " 'Berik_beri1254.csv',\n",
       " 'Bezhta_bezh1248.csv',\n",
       " 'Biak_biak1248.csv',\n",
       " 'Bierebo_bier1244.csv',\n",
       " 'Big_Nambas_bign1238.csv',\n",
       " 'Big_Nambas_bign1238a.csv',\n",
       " 'Bihari_biha1245.csv',\n",
       " 'Bila_bila1255.csv',\n",
       " 'Bilibil_bilb1241.csv',\n",
       " 'Bilua_bilu1245.csv',\n",
       " 'Bindal_bind1236.csv',\n",
       " 'Bininj_Kun-wok_gunw1252.csv',\n",
       " 'Binukid_(Talaandig-Binukid)_binu1244.csv',\n",
       " 'Birhor_birh1242.csv',\n",
       " 'Biri_biri1256.csv',\n",
       " 'Bit_bitt1240.csv',\n",
       " 'Blagar_blag1240.csv',\n",
       " 'Boano_(Sulawesi)_boan1243.csv',\n",
       " 'Boers_afri1274.csv',\n",
       " 'Bontok_bont1247.csv',\n",
       " 'Breton_bret1244.csv',\n",
       " \"Brooke's_Point_Palawano_broo1239.csv\",\n",
       " 'Brunei-Sabah_Malay_(Malay)_saba1263.csv',\n",
       " 'Budukh_budu1248.csv',\n",
       " 'Budza_budz1238.csv',\n",
       " 'Buhid_buhi1245.csv',\n",
       " 'Buin_buin1247.csv',\n",
       " 'Bukat_buka1261.csv',\n",
       " 'Bukusu_buku1249.csv',\n",
       " 'Bulgarian_bulg1262.csv',\n",
       " 'Buli_buli1256.csv',\n",
       " 'Bunganditj_bung1264.csv',\n",
       " 'Bungku_bung1269.csv',\n",
       " 'Bunun_bunu1267.csv',\n",
       " 'Burmese_nucl1310.csv',\n",
       " 'Buru_(Indonesia)_buru1303.csv',\n",
       " 'Bushoong_bush1247.csv',\n",
       " 'Butmas-Tur_butm1237.csv',\n",
       " 'Bwaidoga_bwai1243.csv',\n",
       " 'Cahuilla_cahu1264.csv',\n",
       " 'Carolinians_caro1242.csv',\n",
       " 'Car_Nicobarese_carn1240.csv',\n",
       " 'Casiguran_Dumagat_Agta_casi1235.csv',\n",
       " 'Cayubaba_cayu1262.csv',\n",
       " 'Cebuano_cebu1242.csv',\n",
       " 'Central_Aymara_cent2142.csv',\n",
       " 'Central_Cagayan_Agta_cent2084.csv',\n",
       " 'Central_Kurdish_cent1972.csv',\n",
       " 'Central_Melanau_cent2101.csv',\n",
       " 'Central_Sama_cent2092.csv',\n",
       " 'Central_Subanen_(Subanung)_cent2089.csv',\n",
       " 'Central_Tagbanwa_cent2090.csv',\n",
       " 'Chamalal_cham1309.csv',\n",
       " 'Chamalal_Gigatli__giga1238.csv',\n",
       " 'Chamarro_cham1312.csv',\n",
       " 'Chavacano_chav1241.csv',\n",
       " 'Cha_palaa_chac1249.csv',\n",
       " 'Cheke_Holo_chek1238.csv',\n",
       " 'Chemehuevi_chem1251.csv',\n",
       " 'Chenchu_chen1255.csv',\n",
       " 'Chepang_chep1245.csv',\n",
       " 'Chimariko_chim1301.csv',\n",
       " 'Chipaya_chip1262.csv',\n",
       " 'Chiricahua_mesc1238.csv',\n",
       " 'Chiriguano_east2555.csv',\n",
       " 'Chokwe_chok1245.csv',\n",
       " 'Chuukese_(Trukese)_chuu1238.csv',\n",
       " 'Cinta_Larga_cint1239.csv',\n",
       " 'Coastal_Yuki_yuki1243b.csv',\n",
       " 'Cocama_Cocamilla_coca1259.csv',\n",
       " 'Cocopa_coco1261.csv',\n",
       " 'Cofan_cofa1242.csv',\n",
       " 'Colloquial_Malay_mala1479.csv',\n",
       " 'Colorado_Ute_utee1244a.csv',\n",
       " 'Comanche_coma1245.csv',\n",
       " 'Copper_Inuit_copp1244.csv',\n",
       " 'Cora_elna1235.csv',\n",
       " 'Cornish_corn1251.csv',\n",
       " 'Cotabato_Manobo_cota1241.csv',\n",
       " 'Cruzeño_cruz1243.csv',\n",
       " 'Cubeo_cube1242.csv',\n",
       " 'Cupeño_cupe1243.csv',\n",
       " 'Cusco_Quechua_cusc1236.csv',\n",
       " 'Czech_czec1258.csv',\n",
       " 'Daakie_port1286.csv',\n",
       " 'Dakaka_daka1243.csv',\n",
       " 'Dalabon_ngal1292.csv',\n",
       " 'Dampelas_damp1237.csv',\n",
       " 'Dandami_Maria_dand1238.csv',\n",
       " 'Danish_dani1285.csv',\n",
       " 'Dargwa_Chirag__chir1284.csv',\n",
       " 'Dargwa_Itsari__itsa1239.csv',\n",
       " 'Daribi_dadi1250.csv',\n",
       " 'Dari_dari1249.csv',\n",
       " 'Degexit_an_dege1248.csv',\n",
       " 'Dehong_deho1238.csv',\n",
       " 'Dehu_dehu1237.csv',\n",
       " 'DeneTha_South_Slavey__sout2959.csv',\n",
       " 'Dene_Suliné_chip1261.csv',\n",
       " 'De_kwana_Maquiritari__maqu1238.csv',\n",
       " 'Dharumbal_dhar1248.csv',\n",
       " 'Dharumbal_dhar1248a.csv',\n",
       " 'Dhuwal-Dhuwala_(Yolngu)_dhuw1248.csv',\n",
       " 'Dhuwal_dhuw1249.csv',\n",
       " 'Digo_digo1243.csv',\n",
       " 'Ding_ding1239.csv',\n",
       " 'Diyari_dier1241.csv',\n",
       " 'Diyari_dier1241a.csv',\n",
       " 'Djambarrpuyngu_djam1256.csv',\n",
       " 'Djapu_dhuw1249.csv',\n",
       " 'Djinang_djin1253.csv',\n",
       " 'Djinang_djin1253a.csv',\n",
       " 'Dobu_dobu1241.csv',\n",
       " 'Dogrib_dogr1252.csv',\n",
       " 'Dondo_dond1249.csv',\n",
       " 'Doutai_dout1240.csv',\n",
       " 'Duala_dual1243.csv',\n",
       " 'Duma_duma1253.csv',\n",
       " 'Duna_duna1248.csv',\n",
       " 'Dupaningan_Agat_dupa1235.csv',\n",
       " 'Dutch_dutc1256.csv',\n",
       " 'Duungidjawu_duun1241.csv',\n",
       " 'Dyirbal_dyir1250.csv',\n",
       " 'Dzonghka_Lhop_dzon1239.csv',\n",
       " 'Dzonghka_Sha_dzon1239.csv',\n",
       " 'Dzonghka_Wang_wang1287.csv',\n",
       " 'Délįne_nort2942.csv',\n",
       " 'Eastern_Armenian_east2283.csv',\n",
       " 'Eastern_Pahari_Nepali__east1436.csv',\n",
       " 'Eastern_Yiddish_east2295.csv',\n",
       " 'Easter_Islanders_rapa1244.csv',\n",
       " 'East_Ambae_(Lolovoli)_east2443.csv',\n",
       " 'East_Futuna_east2447.csv',\n",
       " 'East_Kave_east2516.csv',\n",
       " 'East_Kewa_east2516.csv',\n",
       " 'Edopi_edop1238.csv',\n",
       " 'Eipo_eipo1242.csv',\n",
       " 'Ekari_ekar1243.csv',\n",
       " 'Ekonda_Mongo_ekon1238.csv',\n",
       " 'Elamite_elam1244.csv',\n",
       " 'Ellice_tuva1244.csv',\n",
       " 'Emae_(Mae)_emae1237.csv',\n",
       " 'Emau_(Emao_Island)_emau1237.csv',\n",
       " 'Emerillon_emer1243.csv',\n",
       " 'Ende_(Papua_New_Guinea)_ende1235.csv',\n",
       " 'English_stan1293.csv',\n",
       " 'Epena_epen1239.csv',\n",
       " 'Erave_(South_Kewa)_erav1244.csv',\n",
       " 'ErzyaMordvin_erzy1239.csv',\n",
       " 'Erzya_erzy1239.csv',\n",
       " 'Estonian_esto1258.csv',\n",
       " 'Eudeve_eude1234.csv',\n",
       " 'Eyak_eyak1241.csv',\n",
       " 'Fang_EG_fang1246.csv',\n",
       " 'Fefe_fefe1239.csv',\n",
       " 'Fijian_fiji1243.csv',\n",
       " 'Finnic_finn1318.csv',\n",
       " 'Finnish_finn1318.csv',\n",
       " 'Fipa_fipa1238.csv',\n",
       " 'FlindersIsland_flin1247.csv',\n",
       " 'Foi_foii1241.csv',\n",
       " 'Fordata_ford1242.csv',\n",
       " 'ForestEnets_fore1265.csv',\n",
       " 'Fore_fore1270.csv',\n",
       " 'Fortsenal_(Kiai)_fort1240.csv',\n",
       " 'Frisian_fris1239.csv',\n",
       " 'Futuna-Aniwa_futu1245.csv',\n",
       " 'Futunans_east2447.csv',\n",
       " \"Ga'dang_gada1258.csv\",\n",
       " 'Gabrielino_tong1329.csv',\n",
       " 'Galeia_A_gale1259.csv',\n",
       " 'Galeia_B_gale1259.csv',\n",
       " 'Galibi_Carib_gali1262.csv',\n",
       " 'Ganda_gand1255.csv',\n",
       " 'Gane_(Gimán)_gane1237.csv',\n",
       " 'Ganggalida_gang1267.csv',\n",
       " 'Gayo_gayo1244.csv',\n",
       " 'Gela_gela1263.csv',\n",
       " 'German_stan1295.csv',\n",
       " 'Gimi_gimi1243.csv',\n",
       " 'Giryama_giry1241.csv',\n",
       " 'Godoberi_ghod1238.csv',\n",
       " 'Gogo_gogo1263.csv',\n",
       " 'Gondi_gond1265.csv',\n",
       " 'Gothic_goth1244.csv',\n",
       " 'Grand_Valley_Dani_lowe1415.csv',\n",
       " 'Guajá_guaj1256.csv',\n",
       " 'Guarayu_guar1292.csv',\n",
       " 'Guarijio_huar1255.csv',\n",
       " 'Gui_(Gwi)_gwii1239.csv',\n",
       " 'Gujarati_guja1252.csv',\n",
       " 'Gumatj_guma1253.csv',\n",
       " 'Gumbaynggir_kumb1268.csv',\n",
       " 'Gunya_guny1241.csv',\n",
       " 'Gupapuyngu_gupa1247.csv',\n",
       " 'Gurindji_guri1247.csv',\n",
       " 'Gusii_gusi1247.csv',\n",
       " 'Guugu_Yimidhirr_gugu1255.csv',\n",
       " 'Guugu_Yimidhirr_gugu1255a.csv',\n",
       " 'Gününa_Küne_puel1244.csv',\n",
       " 'Hanunoo_hanu1241.csv',\n",
       " 'Hausa_haus1257.csv',\n",
       " 'Hawaiians_hawa1245.csv',\n",
       " 'Hawaii_hawa1245.csv',\n",
       " 'Haya_haya1250.csv',\n",
       " 'Ha_haaa1252.csv',\n",
       " 'Hehe_hehe1240.csv',\n",
       " 'Herero_here1253.csv',\n",
       " 'Hewa_hewa1241.csv',\n",
       " 'Highland_Puebla_Nahuatl_high1278.csv',\n",
       " 'Hiligaynon_hili1240.csv',\n",
       " 'HillMari_west2392.csv',\n",
       " 'Hindi_hind1269.csv',\n",
       " 'Hinuq_hinu1240.csv',\n",
       " 'Hittite_hitt1242.csv',\n",
       " 'Hiw_hiww1237.csv',\n",
       " 'Hopi_hopi1249.csv',\n",
       " 'Hopi_S__hopi1249b.csv',\n",
       " 'Hoti_Yuwana__yuwa1244.csv',\n",
       " 'Huastec_Nahuatl_huas1257.csv',\n",
       " 'Huichol_huic1243.csv',\n",
       " 'Huli_huli1244.csv',\n",
       " 'Hungarian_hung1274.csv',\n",
       " 'Hunza_hunz1248.csv',\n",
       " 'Hunzib_hunz1247.csv',\n",
       " 'Hupa_hupa1239.csv',\n",
       " \"I'saka_(Krisa)_kris1246.csv\",\n",
       " 'Iau_iauu1242.csv',\n",
       " 'Ibaloi_(Nabaloi)_ibal1244.csv',\n",
       " 'Ibanag_iban1267.csv',\n",
       " 'Iban_iban1264.csv',\n",
       " 'Icelandic_icel1247.csv',\n",
       " \"Ida'an_idaa1241.csv\",\n",
       " 'Idi_idii1243.csv',\n",
       " 'Idi_nucl1597.csv',\n",
       " 'Ifaluk_Nuclear_Woleaian__nucl1479.csv',\n",
       " 'Ifugaw_(Ifugao)_ifug1247.csv',\n",
       " 'Igbo_nucl1417.csv',\n",
       " 'Ignaciano_igna1246.csv',\n",
       " \"Ili'uun_iliu1237.csv\",\n",
       " 'Ilokano_ilok1237.csv',\n",
       " 'Inanwatan_(Suabo)_inan1242.csv',\n",
       " 'Indonesian_Bajau_indo1317.csv',\n",
       " 'Indonesian_indo1316.csv',\n",
       " 'Ingrian_ingr1248.csv',\n",
       " 'Ingush_ingu1240.csv',\n",
       " 'Inxokvari_inxo1238.csv',\n",
       " 'Iraya_iray1237.csv',\n",
       " 'Irish_iris1253.csv',\n",
       " 'Isirawa_isir1237.csv',\n",
       " 'Isnag_isna1241.csv',\n",
       " 'Italian_ital1282.csv',\n",
       " 'Itbayat_ivat1242.csv',\n",
       " 'Itneg_(Binongan)_bino1237.csv',\n",
       " 'Itonama_iton1250.csv',\n",
       " 'Iwam_iwam1256.csv',\n",
       " 'Iyojwa_ja_Chorote_iyoj1235.csv',\n",
       " 'Jahai_(Jehai)_jeha1242.csv',\n",
       " 'Jamaican_Creole_jama1262.csv',\n",
       " 'Japanese_nucl1643.csv',\n",
       " 'Jaru_jaru1254.csv',\n",
       " 'Javanese_java1254.csv',\n",
       " 'Jicarilla_jica1244.csv',\n",
       " 'Jinghpaw_jing1260.csv',\n",
       " 'Jingulu_djin1251.csv',\n",
       " 'Judeo_Tat_jude1256.csv',\n",
       " 'Jurúna_juru1256.csv',\n",
       " 'Kadai_kada1286.csv',\n",
       " 'Kadar_kada1242.csv',\n",
       " 'Kagulu_kagu1239.csv',\n",
       " 'Kaiwá_kaiw1246.csv',\n",
       " 'Kalamang_kara1499.csv',\n",
       " 'Kalam_kala1397.csv',\n",
       " 'Kala_Lagaw_Ya_kala1377.csv',\n",
       " 'Kalinga_(Ahin-Kayapa_Kalanguya)_ahin1234.csv',\n",
       " 'Kalkatungu_kalk1246.csv',\n",
       " 'Kamang_kama1365.csv',\n",
       " 'Kamano_kama1370.csv',\n",
       " 'Kamayurá_kama1373.csv',\n",
       " 'Kamba_kamb1297.csv',\n",
       " 'Kambera_kamb1299.csv',\n",
       " 'Kankanaey_(Kankanai)_kank1243.csv',\n",
       " 'Kankanay_nort2877.csv',\n",
       " 'Kanum_kanu1280.csv',\n",
       " 'Kaonde_kaon1241.csv',\n",
       " 'Kapingamarangi_kapi1249.csv',\n",
       " 'Kapingamarangi_kapi1249a.csv',\n",
       " 'Karajarri_kara1476.csv',\n",
       " 'Karitiana_kari1311.csv',\n",
       " 'Kariyarra_kari1304.csv',\n",
       " 'Karok_karo1304.csv',\n",
       " 'Kartujarra_kart1247.csv',\n",
       " 'Karuwali_karr1236.csv',\n",
       " 'Kashaya_kash1280.csv',\n",
       " 'Kashmiri_kash1277.csv',\n",
       " 'Kaure_kaur1271.csv',\n",
       " 'Kaurna_kaur1267.csv',\n",
       " 'Kawaiisu_kawa1283.csv',\n",
       " 'Kayabí_kaya1329.csv',\n",
       " 'Kayardild_kaya1318.csv',\n",
       " 'Kazakh_kaza1248.csv',\n",
       " 'KazymKhanty_nort2672.csv',\n",
       " 'Kazym_Berezover_Suryskarer_Khanty_khan1273.csv',\n",
       " 'Kei_keii1239.csv',\n",
       " 'Kemiju_(Jate)_keya1238.csv',\n",
       " 'Kemtuik_kemt1242.csv',\n",
       " 'Kerewe_kere1283.csv',\n",
       " 'Ketengban_kete1254.csv',\n",
       " 'Ket_kett1243.csv',\n",
       " 'Kewa_east2516.csv',\n",
       " 'Keyagana_(Jate)_keya1238.csv',\n",
       " 'Khalkha-Mongolian_mong1331.csv',\n",
       " 'Kikuyu_kiku1240.csv',\n",
       " 'Kilivila_kili1267.csv',\n",
       " 'Kilmeri_kilm1241.csv',\n",
       " 'Kimaama_kima1246.csv',\n",
       " 'Kiowa_Apache_kiow1264.csv',\n",
       " 'Kiput_kipu1237.csv',\n",
       " 'Kiraman_kira1248.csv',\n",
       " 'Kitanemuk_serr1255b.csv',\n",
       " 'Kiwaian_kiwa1251.csv',\n",
       " 'Kiwaian_sout2949.csv',\n",
       " 'Klon_kelo1247.csv',\n",
       " 'Klon_klon1234.csv',\n",
       " 'Kodava_koda1255.csv',\n",
       " 'Kodeoha_kode1237.csv',\n",
       " 'Kodi_kodi1247.csv',\n",
       " 'Kogi_cogu1240.csv',\n",
       " 'Koiari_gras1249.csv',\n",
       " 'Kombai_komb1274.csv',\n",
       " 'Komba_komb1273.csv',\n",
       " 'KomiZyrian_komi1268.csv',\n",
       " 'Komi_Zyrian_komi1268.csv',\n",
       " 'Komnzo_komn1238.csv',\n",
       " 'Komo_DRC__komo1260.csv',\n",
       " 'Kom_komc1235.csv',\n",
       " 'Konawe_kona1243.csv',\n",
       " 'Konda_(Western_Dani)_west2594.csv',\n",
       " 'Korafe_kora1295.csv',\n",
       " 'Koroni_koro1311.csv',\n",
       " 'Korowai_koro1312.csv',\n",
       " 'Kota_kota1274.csv',\n",
       " 'Koya_koya1251.csv',\n",
       " 'Kriol_Roper_River_krio1252.csv',\n",
       " 'Kristang_(Malacca_Creole_Portugese)_mala1533.csv',\n",
       " 'Kuanua_kuan1248.csv',\n",
       " 'Kui_kuii1252.csv',\n",
       " 'Kukatja_kuka1246.csv',\n",
       " 'Kuku-Yalanji_kuku1273.csv',\n",
       " 'KukuYalanji_kuku1273.csv',\n",
       " 'Kulisusu_kuli1254.csv',\n",
       " 'Kuman_kuma1280.csv',\n",
       " 'Kumaoni_kuma1273.csv',\n",
       " 'Kumyk_kumy1244.csv',\n",
       " 'Kung_juho1239.csv',\n",
       " 'Kunimaipa_kuni1267.csv',\n",
       " 'Kunjen_kunj1248.csv',\n",
       " 'Kunza_kunz1244.csv',\n",
       " 'Kuot_kuot1243.csv',\n",
       " 'Kurukh_kuru1302.csv',\n",
       " \"Kuuku_Ya'u_kuuk1238.csv\",\n",
       " 'Kuvi_kuvi1243.csv',\n",
       " 'Ku_Waru_boun1245.csv',\n",
       " 'Kwaio_kwai1243.csv',\n",
       " 'Kwamera_kwam1252.csv',\n",
       " 'Kwasio_kwas1243.csv',\n",
       " 'Kwere_kwer1261.csv',\n",
       " 'Kwoma_kwom1262.csv',\n",
       " 'Kyaka_kyak1244.csv',\n",
       " 'Kélé_kele1257.csv',\n",
       " 'Lahnda_lahn1241.csv',\n",
       " 'Laiwui_laiw1239.csv',\n",
       " 'Lake_Miwok_lake1258.csv',\n",
       " 'Lala_Bisa_lala1264.csv',\n",
       " 'Lalomerui_lalo1239.csv',\n",
       " 'Lamahalot_lama1277.csv',\n",
       " 'Lamba_lamb1271.csv',\n",
       " 'Lametin_mere1242.csv',\n",
       " 'Lamogai_lamo1244.csv',\n",
       " 'Landewe_land1259.csv',\n",
       " 'Langi_lang1320.csv',\n",
       " 'Lardil_lard1243.csv',\n",
       " 'Larevat_lare1249.csv',\n",
       " 'Latin_lati1261.csv',\n",
       " 'Latin_lati1261a.csv',\n",
       " 'Latvian_latv1249.csv',\n",
       " 'Lauje_lauj1238.csv',\n",
       " 'Lau_Fijian_laua1243.csv',\n",
       " 'Lau_lauu1247.csv',\n",
       " 'Lavatbura-lamusong_(Konobin)_lava1239.csv',\n",
       " 'Lebanese_Arabic_stan1323.csv',\n",
       " 'Lelepa_lele1267.csv',\n",
       " 'Lenakel_lena1238.csv',\n",
       " 'Lengua_leng1262.csv',\n",
       " 'Letemboi-Repanbitip_lete1241.csv',\n",
       " 'Lewo_lewo1242.csv',\n",
       " 'Limilngan_limi1242.csv',\n",
       " 'Lingala_ling1263.csv',\n",
       " 'Lipan_Apache_lipa1241.csv',\n",
       " 'Lisu_lisu1250a.csv',\n",
       " 'Lisu_lisu1250b.csv',\n",
       " 'Lisu_lisu1250c.csv',\n",
       " 'Lisu_lisu1250d.csv',\n",
       " 'Lithuanian_lith1251.csv',\n",
       " 'Livonian_livv1244.csv',\n",
       " 'Lo-Toga_(Loh)_loto1240.csv',\n",
       " 'Loloda-Laba_(Loda)_lolo1264.csv',\n",
       " 'Loniu_loni1238.csv',\n",
       " 'Lonwolwol_lonw1238.csv',\n",
       " 'Lower_Pima_Pima_Bajo_pima1248.csv',\n",
       " 'Lozi_lozi1239.csv',\n",
       " 'Luangiua_(Ontong_Java)_onto1237.csv',\n",
       " 'Luba_Katanga_luba1250.csv',\n",
       " 'Luba_Lulua_luba1249.csv',\n",
       " 'Lubuagan_Kalinga_lubu1243.csv',\n",
       " 'Luburua_(Kara)_lubu1242.csv',\n",
       " 'Luguru_lugu1238.csv',\n",
       " 'Luiseńo_luis1253.csv',\n",
       " 'Lunda_lund1266.csv',\n",
       " 'Luvale_luva1239.csv',\n",
       " 'Luxembourgish_luxe1241.csv',\n",
       " \"Ma'anyan_maan1238.csv\",\n",
       " 'Maba_(Indonesia)_maba1278.csv',\n",
       " 'Maca_maca1260.csv',\n",
       " 'Macedonian_mace1250.csv',\n",
       " 'Macushi_macu1259.csv',\n",
       " 'Madak_(Konnos)_mada1284.csv',\n",
       " 'Madole_modo1249.csv',\n",
       " 'Madurese_nucl1460.csv',\n",
       " 'Mafea_(Mavea)_mafe1237.csv',\n",
       " 'Magam_maga1262.csv',\n",
       " 'Maguindanao_(Magindonao_Moro)_magu1243.csv',\n",
       " 'Magyar_hung1274.csv',\n",
       " 'Mahasu_Pahari_maha1287.csv',\n",
       " 'Mairasi_nucl1594.csv',\n",
       " 'Maithili_mait1250.csv',\n",
       " 'Maklew_makl1246.csv',\n",
       " 'Makonde_mako1251.csv',\n",
       " 'Malapandaram_mala1468.csv',\n",
       " 'Malayalam_mala1464.csv',\n",
       " 'Mala_mala1294.csv',\n",
       " 'Malgana_malg1242.csv',\n",
       " 'Malgana_malg1242a.csv',\n",
       " 'Mali_mali1284.csv',\n",
       " 'Malua_Bay_malu1245.csv',\n",
       " 'Manam_mana1295.csv',\n",
       " 'Manange_mana1288.csv',\n",
       " 'Mangaia_mang1402.csv',\n",
       " 'Mangarevans_mang1401.csv',\n",
       " 'Mangareva_mang1401.csv',\n",
       " 'Mangei_(Sobjo)_mang1407.csv',\n",
       " 'Manggarai_mang1405.csv',\n",
       " 'Mansi_mans1258.csv',\n",
       " 'Maori_maor1246.csv',\n",
       " 'Mapudungun_mapu1245.csv',\n",
       " 'Maragus_(Tape)_mara1399.csv',\n",
       " 'Maranao_(Lanao_Moro)_mara1404.csv',\n",
       " 'Marathi_mara1378.csv',\n",
       " 'Margany_marg1253.csv',\n",
       " 'Marind_nucl1622.csv',\n",
       " 'Mari_east2328.csv',\n",
       " 'Marquesas_marq1246.csv',\n",
       " 'Marra_mara1385.csv',\n",
       " 'Marshallese_mars1254.csv',\n",
       " 'MartuWangka_mart1256.csv',\n",
       " 'Marwari_India__marw1260.csv',\n",
       " 'Masaaba_masa1299.csv',\n",
       " 'Mashco_Piro_mash1270.csv',\n",
       " 'Maskelynes_mask1242.csv',\n",
       " 'Mattole_matt1238.csv',\n",
       " 'Matukar_matu1261.csv',\n",
       " 'Maybrat_maib1239.csv',\n",
       " 'Mayo_mayo1264.csv',\n",
       " 'Mbala_mbal1257.csv',\n",
       " 'Mbere_mber1257.csv',\n",
       " 'Mblafe_mbla1238.csv',\n",
       " 'Mbuun_mpuo1241.csv',\n",
       " 'Mbyá_Guaraní_mbya1239.csv',\n",
       " 'MeadowMari_gras1239.csv',\n",
       " 'Mekeo_(East)_meke1243d.csv',\n",
       " 'Mekeo_(North)_meke1243c.csv',\n",
       " 'Mekeo_(North-West)_meke1243a.csv',\n",
       " 'Mekeo_(West)_meke1243b.csv',\n",
       " 'Mekeo_meke1243.csv',\n",
       " 'Mekongga_meko1237.csv',\n",
       " 'Mele-Fila_(Ifira-Mele)_mele1250.csv',\n",
       " 'Menui_menu1237.csv',\n",
       " 'Merei_mere1242.csv',\n",
       " 'Meriam_meri1244.csv',\n",
       " 'Merlav_merl1237.csv',\n",
       " 'Meru_meru1245.csv',\n",
       " 'Meta_meta1238.csv',\n",
       " 'Meyah_meya1236.csv',\n",
       " 'Miani_mian1254.csv',\n",
       " 'Middle_English_midd1317.csv',\n",
       " 'Middle_High_German_midd1343.csv',\n",
       " 'Midob_mido1240.csv',\n",
       " 'Minangkabau_mina1268.csv',\n",
       " 'Miningir_(Lunga)_mini1251.csv',\n",
       " 'Mocoví_moco1246.csv',\n",
       " 'Modern_Greek_mode1248.csv',\n",
       " 'Modern_Welsh_wels1247.csv',\n",
       " 'Mokpwe_mokp1239.csv',\n",
       " 'MokshaMordvin_moks1248.csv',\n",
       " 'Momu-Fas_fass1245.csv',\n",
       " 'Mongo_mong1338.csv',\n",
       " 'Moni_moni1261.csv',\n",
       " 'Mono-Alu_mono1273.csv',\n",
       " 'Mono_mono1275.csv',\n",
       " 'Monumbo_nucl1458.csv',\n",
       " 'Morgan1871_Amazulu_(Amazulu_Kafir)_zulu1248.csv',\n",
       " \"Morgan1871_An-ah'-ne-lin_(Gros_Ventres_of_Prairie)_gros1243.csv\",\n",
       " 'Morgan1871_Arikara_(Arickaree)_arik1262.csv',\n",
       " 'Morgan1871_Assiniboine_(Asiniboine)_assi1247.csv',\n",
       " 'Morgan1871_Baffin_Inuktitut_(Eskimo,_Northumberland_Inlet)_baff1241.csv',\n",
       " 'Morgan1871_Bengâli_beng1280.csv',\n",
       " 'Morgan1871_Blood_Siksika_(Blood_Blackfoot)_bloo1239.csv',\n",
       " 'Morgan1871_Burmese_burm1266.csv',\n",
       " 'Morgan1871_Canarese_nucl1305.csv',\n",
       " 'Morgan1871_Cayuga_cayu1261.csv',\n",
       " 'Morgan1871_Cherokee_cher1273.csv',\n",
       " 'Morgan1871_Chibcha_(New_Granada)_chib1270.csv',\n",
       " 'Morgan1871_Chickasa_chic1270.csv',\n",
       " 'Morgan1871_Chinese_sini1245.csv',\n",
       " 'Morgan1871_Choctaw_(1)_choc1276.csv',\n",
       " 'Morgan1871_Choctaw_(2)_choc1276.csv',\n",
       " 'Morgan1871_Creek_cree1270.csv',\n",
       " 'Morgan1871_Cree_of_the_Lowlands_cree1272.csv',\n",
       " 'Morgan1871_Crow_crow1244.csv',\n",
       " 'Morgan1871_Dakota_Blackfoot_lako1247.csv',\n",
       " 'Morgan1871_Dakota_Brule_brul1239.csv',\n",
       " 'Morgan1871_Dakota_Isauntie_dako1258.csv',\n",
       " 'Morgan1871_Dakota_Ogalalla_lako1247.csv',\n",
       " 'Morgan1871_Dakota_Sisseton_dako1258.csv',\n",
       " 'Morgan1871_Dakota_Uncpapa_lako1247.csv',\n",
       " 'Morgan1871_Dakota_Yanktonais_dako1258.csv',\n",
       " 'Morgan1871_Dakota_Yankton_dako1258.csv',\n",
       " 'Morgan1871_Delaware_comm1246.csv',\n",
       " 'Morgan1871_Etchemiu,_or_Malisete_male1293.csv',\n",
       " 'Morgan1871_Grand_Pawnee_pawn1254.csv',\n",
       " 'Morgan1871_Gujarati_guja1252.csv',\n",
       " \"Morgan1871_Hare_Indians_or_Tä-nä'-tin-ne_hare1243.csv\",\n",
       " 'Morgan1871_Hawaiian_hawa1245.csv',\n",
       " 'Morgan1871_Hindi_hind1269.csv',\n",
       " 'Morgan1871_Iowä_iowa1245.csv',\n",
       " 'Morgan1871_Japanese_japa1256.csv',\n",
       " 'Morgan1871_Kalaallisut_(Eskimo,_Greenland)_kala1399.csv',\n",
       " 'Morgan1871_Karen_(Pwo_dialect)_pwoo1239.csv',\n",
       " 'Morgan1871_Karen_(Sgau_dialect)_sgaw1245.csv',\n",
       " 'Morgan1871_Karen_kare1337.csv',\n",
       " 'Morgan1871_Kaskaskia_algo1255.csv',\n",
       " 'Morgan1871_Kaw_kans1243.csv',\n",
       " 'Morgan1871_Kickapoo_(Kikapoo)_kick1244.csv',\n",
       " 'Morgan1871_Kings_Mill_Islands_gilb1244.csv',\n",
       " 'Morgan1871_Kootenay_kute1249.csv',\n",
       " 'Morgan1871_Kusaien_kosr1238.csv',\n",
       " 'Morgan1871_Kǔtchin,_or_Louchieux_gwic1235.csv',\n",
       " 'Morgan1871_Laguna_west2632.csv',\n",
       " 'Morgan1871_Mandan_mand1446.csv',\n",
       " 'Morgan1871_Maori_maor1246.csv',\n",
       " 'Morgan1871_Marâthî_mara1378.csv',\n",
       " 'Morgan1871_Menomine_meno1252.csv',\n",
       " 'Morgan1871_Miami_miam1252.csv',\n",
       " 'Morgan1871_Miemac_mikm1235.csv',\n",
       " 'Morgan1871_Minnitaree_hida1246.csv',\n",
       " 'Morgan1871_Mohawk_moha1258.csv',\n",
       " 'Morgan1871_Mohegan_mohe1244.csv',\n",
       " 'Morgan1871_Mountain_Cherokee_cher1273.csv',\n",
       " 'Morgan1871_Munsee_muns1251.csv',\n",
       " 'Morgan1871_Ojibwa_Kansas_ojib1241.csv',\n",
       " 'Morgan1871_Ojibwa_Lake_Huron_ojib1241.csv',\n",
       " 'Morgan1871_Ojibwa_Lake_Michigan_uppe1274.csv',\n",
       " 'Morgan1871_Ojibwa_Lake_Superior_ojib1241.csv',\n",
       " 'Morgan1871_Okinaken_okan1243.csv',\n",
       " 'Morgan1871_Omahä_omah1247.csv',\n",
       " 'Morgan1871_Oneida_onei1249.csv',\n",
       " 'Morgan1871_Onondaga_onon1246.csv',\n",
       " 'Morgan1871_Osage_osag1243.csv',\n",
       " 'Morgan1871_Otoe_otoo1241.csv',\n",
       " 'Morgan1871_Ottawa_(Otǎwa)_otta1242.csv',\n",
       " 'Morgan1871_Peoria_peor1238.csv',\n",
       " 'Morgan1871_Pianeshaw_miam1252.csv',\n",
       " 'Morgan1871_Piegan_Siksika_(Piegan_Blackfoot)_pieg1239.csv',\n",
       " 'Morgan1871_Plains_Cree_(Cree_of_the_Prairie)_plai1258.csv',\n",
       " 'Morgan1871_Potawatomi_(Potǎwattamie)_pota1247.csv',\n",
       " 'Morgan1871_Punkä_ponc1241.csv',\n",
       " \"Morgan1871_Red-knife,_or_Täl-sote'e-nä_dogr1252.csv\",\n",
       " 'Morgan1871_Republican_Pawnee_pawn1254.csv',\n",
       " 'Morgan1871_Sawk_and_Fox_mesk1242.csv',\n",
       " 'Morgan1871_Seneca_sene1264.csv',\n",
       " 'Morgan1871_Shawnee_shaw1249.csv',\n",
       " 'Morgan1871_Shiyan_chey1247.csv',\n",
       " \"Morgan1871_Slave_Lake_Indians_or_A-cha'o-tin-ne_slav1253.csv\",\n",
       " 'Morgan1871_Spokäne_spok1245.csv',\n",
       " 'Morgan1871_Tabasco_Chontal_(Chontal_Tabasco)_taba1266.csv',\n",
       " 'Morgan1871_Tamil_tami1289.csv',\n",
       " 'Morgan1871_Telugu_telu1262.csv',\n",
       " 'Morgan1871_Tesuque_tesu1245.csv',\n",
       " 'Morgan1871_Tukuthe_gwic1235.csv',\n",
       " 'Morgan1871_Tuscarora_tusc1257.csv',\n",
       " 'Morgan1871_Two_Mountain_Iroquios_laur1250.csv',\n",
       " 'Morgan1871_Utahs_(Tabegwaches)_utes1238.csv',\n",
       " 'Morgan1871_Weaw_nucl1653.csv',\n",
       " \"Morgan1871_Western_Canadian_Inuktitut_(Eskimo,_West_of_Hudson's_Bay)_west2618.csv\",\n",
       " 'Morgan1871_Winnebagoe_winn1245.csv',\n",
       " 'Morgan1871_Woods_Cree_(Cree_of_the_Woods)_wood1236.csv',\n",
       " 'Morgan1871_Wyandote_wyan1247.csv',\n",
       " 'Morgan1871_Yakama_yaki1237.csv',\n",
       " 'Mori_Atas_mori1269.csv',\n",
       " 'Mori_Bawah_mori1268.csv',\n",
       " 'Moronene_moro1287.csv',\n",
       " 'Mortlockese_mort1237.csv',\n",
       " 'Mosetén_Chimané_mose1249.csv',\n",
       " 'Mota_mota1237.csv',\n",
       " 'Motu_motu1246.csv',\n",
       " 'Mouk_mouk1240.csv',\n",
       " 'Movima_movi1243.csv',\n",
       " 'Mudburra_mudb1240.csv',\n",
       " 'Muduapa_(Vitu)_mudu1242.csv',\n",
       " 'Muisca_Chibcha__chib1270.csv',\n",
       " 'Muna_muna1247.csv',\n",
       " 'Mundurukú_mund1330.csv',\n",
       " 'Mungaka_mung1266.csv',\n",
       " 'Munggava_(Rennell)_mung1271.csv',\n",
       " 'Mungiki_(Bellona)_mung1270.csv',\n",
       " 'Murrinhpatha_murr1258.csv',\n",
       " 'Muruwari_muru1266.csv',\n",
       " 'Mussau-Emira_muss1246.csv',\n",
       " 'Mwotlap_motl1237.csv',\n",
       " 'Myene_myen1241.csv',\n",
       " 'Māori_maor1246.csv',\n",
       " 'Nafsan_sout2856.csv',\n",
       " 'Nage_nage1237.csv',\n",
       " 'Nagovisi_sibe1248.csv',\n",
       " 'Nahavaq_sout2857.csv',\n",
       " 'Nakanai_naka1262.csv',\n",
       " 'Nalik_(Lukuramau)_nali1244.csv',\n",
       " 'Nalik_(Madina)_nali1244b.csv',\n",
       " 'Namakura_nama1268.csv',\n",
       " 'Namakura_nama1268b.csv',\n",
       " 'Naman_litz1237.csv',\n",
       " 'Nama_nama1266.csv',\n",
       " 'Nambo_namb1293.csv',\n",
       " 'Nanggu_nang1262.csv',\n",
       " 'Nasioi_naas1242.csv',\n",
       " 'Navajo_nava1243.csv',\n",
       " 'Ndumu_ndum1239.csv',\n",
       " 'Negerhollands_nege1244.csv',\n",
       " 'Negwa_(Yagwoia)_yagw1240.csv',\n",
       " 'Nehan_neha1247.csv',\n",
       " 'Neme_neme1244.csv',\n",
       " 'Nengone_neng1238.csv',\n",
       " 'Nen_nenn1238.csv',\n",
       " 'Nen_nenn1238a.csv',\n",
       " 'Nepali_nepa1254.csv',\n",
       " 'Nese_nese1235.csv',\n",
       " 'Netsilik_nets1241.csv',\n",
       " \"Neve'ei_vinm1237.csv\",\n",
       " \"Neve'ei_vinm1237a.csv\",\n",
       " 'Neverver_ling1265.csv',\n",
       " 'Nevome_pima1248b.csv',\n",
       " 'Ngaanyatjarra_ngaa1240.csv',\n",
       " 'Ngaatjatjarra_ngaa1240.csv',\n",
       " 'Ngadjumaya_ngad1258.csv',\n",
       " 'Nganasan_ngan1291.csv',\n",
       " 'Ngarinyman_ngar1235.csv',\n",
       " 'Ngarla_ngar1286.csv',\n",
       " 'Ngarluma_ngar1287.csv',\n",
       " 'Ngarrindjeri_narr1259.csv',\n",
       " 'Ngiyambaa_wang1291.csv',\n",
       " 'Ngombe_Binja_binj1250.csv',\n",
       " 'Ngoni_ngon1269.csv',\n",
       " 'Ngulu_ngul1246.csv',\n",
       " 'Nguna_ngun1274.csv',\n",
       " 'Nhanta_nhan1238.csv',\n",
       " 'Nimboran_nucl1633.csv',\n",
       " 'Ninam_nina1238.csv',\n",
       " \"Niuafo'ou_niua1240.csv\",\n",
       " 'Niueans_niue1239.csv',\n",
       " 'Niue_niue1239.csv',\n",
       " 'Nivacle_niva1238.csv',\n",
       " 'Njebi_njeb1242.csv',\n",
       " 'Nogai_noga1249.csv',\n",
       " 'Northeastern_Maidu_nort2952.csv',\n",
       " 'Northern_Embera_nort2972.csv',\n",
       " 'Northern_Gondi_nort2702.csv',\n",
       " 'Northern_Haida_nort2938.csv',\n",
       " 'Northern_Kurdish_nort2641.csv',\n",
       " 'Northern_Ojibwa_nort2961.csv',\n",
       " 'Northern_Paiute_nort2954.csv',\n",
       " 'Northern_Pomo_nort2966.csv',\n",
       " 'Northern_Sami_nort2671.csv',\n",
       " 'Northern_Tepehuan_nort2959.csv',\n",
       " 'NorthMuyu_nort2916.csv',\n",
       " 'NorthSaami_nort2671.csv',\n",
       " 'Northwestern_Maidu_nort2951.csv',\n",
       " 'North_Ambrym_nort2839.csv',\n",
       " 'North_Azerbaijani_nort2697.csv',\n",
       " 'North_Efate_(Nguna,_Nakanamanga)_nort2836.csv',\n",
       " 'North_Marquesan_nort2845.csv',\n",
       " 'North_Northern_Paiute_nort1551.csv',\n",
       " 'North_Tanna_nort2847.csv',\n",
       " 'Norwegian_Bokmål_norw1259.csv',\n",
       " 'Nsong_song1299.csv',\n",
       " 'Numbami_numb1247.csv',\n",
       " 'Nunamiut_nort2944.csv',\n",
       " 'Nungon_yaum1237.csv',\n",
       " 'Nuu_Chah_Nulth_nuuc1236.csv',\n",
       " 'Nyakyusa_nyak1260.csv',\n",
       " 'Nyamal_nyam1271.csv',\n",
       " 'Nyangumarta_nyan1301.csv',\n",
       " 'Nyawaygi_nyaw1247.csv',\n",
       " 'Nyoro_nyor1246.csv',\n",
       " 'Nyulnyul_nyul1247.csv',\n",
       " 'Olal_olal1237.csv',\n",
       " 'Old_Aramaic_olda1245.csv',\n",
       " 'Old_Church_Slavonic_chur1257.csv',\n",
       " 'Old_English_ca_450_1100__olde1238.csv',\n",
       " 'Old_Irish_oldi1245.csv',\n",
       " 'Old_Javanese_(Kawi)_kawi1241.csv',\n",
       " 'Old_Norse_oldn1244.csv',\n",
       " 'Old_Prussian_prus1238.csv',\n",
       " 'Old_Rapa_(Rapa)_rapa1245.csv',\n",
       " 'Old_Russian_oldr1238.csv',\n",
       " 'Old_Welsh_oldw1239.csv',\n",
       " 'Onobasulu_onob1238.csv',\n",
       " 'Ontong_Java_onto1237.csv',\n",
       " 'Opata_opat1246.csv',\n",
       " 'Oriya_oriy1255.csv',\n",
       " 'Oroko_orok1266.csv',\n",
       " 'Ossetian_osse1243.csv',\n",
       " 'Ossetic_osse1245.csv',\n",
       " 'Ottowa_Ojibwa_otta1242.csv',\n",
       " 'Owa_(Santa_Ana)_owaa1237.csv',\n",
       " 'O_du_oduu1239.csv',\n",
       " 'Paakantyi_darl1243.csv',\n",
       " 'Pacoh_paco1243.csv',\n",
       " 'Padoe_pado1242.csv',\n",
       " 'Pagu_pagu1249.csv',\n",
       " 'Paici_paic1239.csv',\n",
       " 'Paiwan_paiw1248.csv',\n",
       " 'Palauan_pala1344.csv',\n",
       " 'Paliyan_pali1274.csv',\n",
       " 'Paluai_balu1257.csv',\n",
       " 'Pama_(Paamanese)_paam1238.csv',\n",
       " 'Pampanga_(Kampampangan)_pamp1243.csv',\n",
       " 'Panare_enap1235.csv',\n",
       " 'Pangasinan_pang1290.csv',\n",
       " 'Panjabi_panj1256.csv',\n",
       " 'Paraguayan_Guaraní_para1311.csv',\n",
       " 'Parakanã_para1312.csv',\n",
       " 'Pashto_pash1269.csv',\n",
       " 'Patani_pata1260.csv',\n",
       " 'Pauserna_paus1244.csv',\n",
       " 'Payungu_bayu1240.csv',\n",
       " 'Pemon_pemo1248.csv',\n",
       " 'Pendau_pend1242.csv',\n",
       " 'Penrhyn_(Tongareva)_penr1237.csv',\n",
       " 'Petapa_Taje_taje1237a.csv',\n",
       " 'Phende_phen1239.csv',\n",
       " 'Pilagá_pila1245.csv',\n",
       " 'Pima_de_Yepáchic_chih1238.csv',\n",
       " 'Pinji_pinj1243.csv',\n",
       " 'PintupiLuritja_pint1250.csv',\n",
       " 'Pipil_pipi1250.csv',\n",
       " 'Pirriya_pirr1240.csv',\n",
       " 'Pitjantjatjara_pitj1243.csv',\n",
       " 'Pitta_Pitta_pitt1247.csv',\n",
       " 'Pohnpeian_pohn1238.csv',\n",
       " 'Pohnpeian_pohn1238a.csv',\n",
       " 'Pokomo_poko1261.csv',\n",
       " 'Polci_polc1243.csv',\n",
       " 'Polish_poli1260.csv',\n",
       " 'Portuguese_port1283.csv',\n",
       " 'Port_Sandwich_port1285.csv',\n",
       " 'Prai_phai1238.csv',\n",
       " 'Prakaa_prak1243.csv',\n",
       " 'Proto-Oceanic_ocea1241.csv',\n",
       " 'Proto_Sogeram_soge1235.csv',\n",
       " 'Proto_Tupi_Guarani_tupi1276.csv',\n",
       " 'Puinave_puin1248.csv',\n",
       " 'Pukapuka_puka1242.csv',\n",
       " 'Puluwatese_(Puluwat)_pulu1242.csv',\n",
       " 'Pumé_pume1238.csv',\n",
       " 'Punu_punu1239.csv',\n",
       " 'Puyuma_puyu1239.csv',\n",
       " 'Páez_paez1247.csv',\n",
       " 'Qawasquar_qawa1238.csv',\n",
       " 'Quechan_quec1382.csv',\n",
       " 'Rade_(Rhade)_rade1240.csv',\n",
       " 'Raga_(Hano)_hano1246.csv',\n",
       " 'Raga_(Hano_Thomas_Ennever)_hano1246b.csv',\n",
       " 'Rahambuu_raha1237.csv',\n",
       " 'Rakahanga-Manihiki_raka1237.csv',\n",
       " 'Rangiora_(NW_Tuamotus)_tuam1242.csv',\n",
       " 'Rapanui_(Easter_Island)_rapa1244.csv',\n",
       " 'Raroians_tuam1242.csv',\n",
       " 'Rarotongan_(Cook_Islands_Maori)_raro1241.csv',\n",
       " 'Ratagnon_rata1245.csv',\n",
       " 'Rejang_(Rejangese)_reja1240.csv',\n",
       " 'Rennell_Islanders_renn1242.csv',\n",
       " 'Riantana_rian1263.csv',\n",
       " 'Ritharrngu_rita1239.csv',\n",
       " \"Riuk_Bekati'_(Dayak)_beka1241.csv\",\n",
       " 'Romanian_roma1327.csv',\n",
       " 'Rotinese_Termanu__term1237.csv',\n",
       " 'Rotokas_roto1249.csv',\n",
       " 'Rotumans_rotu1241.csv',\n",
       " 'Rotuman_rotu1241.csv',\n",
       " 'Routa_rout1237.csv',\n",
       " 'Roviana_rovi1238.csv',\n",
       " 'Rundi_rund1242.csv',\n",
       " 'Russian_russ1263.csv',\n",
       " 'Russian_russ1263a.csv',\n",
       " 'Rutul_shin1265.csv',\n",
       " 'Saaroa_saar1237.csv',\n",
       " 'Sakata_saka1287.csv',\n",
       " 'Sake_sake1247.csv',\n",
       " 'Samoan_samo1305.csv',\n",
       " 'Samoan_samo1305a.csv',\n",
       " 'Sanapana_sana1298.csv',\n",
       " 'Sango_sang1331.csv',\n",
       " 'Sangtam_Naga_sang1321.csv',\n",
       " 'Sangu_sang1333.csv',\n",
       " 'Sangu_Tanzania__sang1330.csv',\n",
       " 'Sanskrit_sans1269.csv',\n",
       " 'San_Salvador_Kongo_sans1272.csv',\n",
       " 'Sarangani_Blaan_sara1326.csv',\n",
       " 'Sardinian_sard1257.csv',\n",
       " 'Satawalese_sata1237.csv',\n",
       " 'Saterfriesisch_sate1242.csv',\n",
       " 'Sateré_Mawé_sate1243.csv',\n",
       " 'Savosavo_savo1255.csv',\n",
       " 'Sawai_sawa1247.csv',\n",
       " 'Sawi_sawi1257.csv',\n",
       " 'Sa_a_saaa1240.csv',\n",
       " 'Sa_saaa1241.csv',\n",
       " 'Seke_(Ske)_seke1241.csv',\n",
       " 'Seki_seki1238.csv',\n",
       " 'Selkup_selk1253.csv',\n",
       " 'Selk_nam_onaa1245.csv',\n",
       " 'Senbarei_unua1237.csv',\n",
       " 'Serbocroation_sout1528.csv',\n",
       " 'Serbs_serb1264.csv',\n",
       " 'Seri_seri1257.csv',\n",
       " 'Serrano_serr1255.csv',\n",
       " 'Setaman_Baktamin_seta1246.csv',\n",
       " 'Shasta_shas1239.csv',\n",
       " 'Sherpa_sher1255.csv',\n",
       " 'Shipibo_ship1254.csv',\n",
       " 'Shi_shii1238.csv',\n",
       " 'Shona_shon1251.csv',\n",
       " 'Shoshoni_shos1248.csv',\n",
       " 'Sie_(Sye)_siee1239.csv',\n",
       " 'Sikaiana_sika1261.csv',\n",
       " 'Sika_sika1262.csv',\n",
       " 'Sindhi_sind1272.csv',\n",
       " 'Sinhala_sinh1246.csv',\n",
       " 'Sion_sion1247.csv',\n",
       " 'Sira_sira1266.csv',\n",
       " 'Sirionó_siri1273.csv',\n",
       " 'Siwai_Motuna_siwa1245.csv',\n",
       " 'SkoltSaami_skol1241.csv',\n",
       " 'Slovakian_slov1269.csv',\n",
       " 'Slovenian_slov1268.csv',\n",
       " 'Soga_soga1242.csv',\n",
       " 'Songoora_song1300.csv',\n",
       " 'Sonsorol_sons1242.csv',\n",
       " 'SosvaMansi_nort2677.csv',\n",
       " 'Sougb_mani1235.csv',\n",
       " 'Southeastern_Tepehuano_sout2976.csv',\n",
       " 'Southeast_Ambrym_sout2859.csv',\n",
       " 'Southeast_Babar_sout2883.csv',\n",
       " 'Southern_Coastal_Tsimshian_nucl1649.csv',\n",
       " 'Southern_Paiute_sout2969.csv',\n",
       " 'Southern_Tepehuan_sout2975.csv',\n",
       " 'Southern_Tepehuan_W__sout2977.csv',\n",
       " 'Southern_Ute_utee1244.csv',\n",
       " 'SouthSaami_sout2674.csv',\n",
       " 'Southwest_Tanna_sout2869.csv',\n",
       " 'South_Efate_sout2856a.csv',\n",
       " 'South_Marquesan_sout2866.csv',\n",
       " 'South_Tuvaluan_(Vaitupu)_sout2865.csv',\n",
       " 'Standard_Catalan_stan1289.csv',\n",
       " 'Standard_English_stan1293.csv',\n",
       " 'Standard_French_stan1290.csv',\n",
       " 'Standard_German_stan1295.csv',\n",
       " 'Standard_Spanish_stan1288.csv',\n",
       " 'Suki_suki1245.csv',\n",
       " 'Sukuma_suku1261.csv',\n",
       " 'Suku_suku1259.csv',\n",
       " 'Sula_Fagudu_sula1245.csv',\n",
       " 'Sula_Mangoli_mang1408.csv',\n",
       " 'Sumbwa_sumb1240.csv',\n",
       " 'Sundanese_sund1252.csv',\n",
       " 'Sungagage_mari1426i.csv',\n",
       " 'Sungwadaga_mari1426b.csv',\n",
       " 'Sungwadia_mari1426a.csv',\n",
       " 'Sungwaloge_(Nalemba_Edward)_mari1426g.csv',\n",
       " ...]"
      ]
     },
     "execution_count": 49,
     "metadata": {},
     "output_type": "execute_result"
    }
   ],
   "source": [
    "all_kb_files"
   ]
  },
  {
   "cell_type": "markdown",
   "id": "1508a7a7",
   "metadata": {},
   "source": [
    "Using one of these filenames, we can extract the kin terminology from that file and populate a dictionary with it. We're only interested in two columns from the Kinbank data: `parameter`, which contains a short code indicating a **kin type**, and `word`, which contains the **kin term** associated with that kin type. An example of a row in the English data would be `mMeB, uncle`, where `mMeB` means 'male speaker's mother's older brother', and `uncle` is the term associated with that person."
   ]
  },
  {
   "cell_type": "code",
   "execution_count": 50,
   "id": "4d98021d",
   "metadata": {},
   "outputs": [],
   "source": [
    "def get_kin_terms(filepath: str) -> dict:\n",
    "    ks = {}\n",
    "    with open(filepath, encoding='utf8') as f:\n",
    "        csv_reader = csv.DictReader(f)\n",
    "        next(csv_reader) # to skip the header row\n",
    "        for line in csv_reader:\n",
    "            kin_type = line['parameter']\n",
    "            kin_term = line['word']\n",
    "            ks[kin_type] = kin_term\n",
    "    return ks"
   ]
  },
  {
   "cell_type": "markdown",
   "id": "fc4a2019",
   "metadata": {},
   "source": [
    "### 2. Condense the system down\n",
    "\n",
    "We're interested in the mutual information between the kin terms in Generation 0 (Ego's generaiton) and Generation +1 (Ego's parents' generation).\n",
    "\n",
    "We want create a data structure that pairs up parent types with the corresponding child types. This is because we're interested in whether kinship systems maintain patterns of terminological distinctions and mergers across these two generations, so we will need to know which parent terms 'go with' which child terms.\n",
    "\n",
    "In `kintypes`, you will find a list of pairs of kin types, where the first element in the pair is a parent type, and the second is their child; e.g. mMeB and mMeBD (mother's elder brother and mother's elder brother's daughter). \n",
    "\n",
    "`get_pairs()` takes a kinship system as input, and outputs a list of tuples. The first element in the tuple is the parent term, the second is the corresponding child term. "
   ]
  },
  {
   "cell_type": "code",
   "execution_count": 51,
   "id": "a64747f6",
   "metadata": {},
   "outputs": [],
   "source": [
    "def get_pairs(ks: dict) -> list:\n",
    "    pairs_of_terms = []\n",
    "    parent_types = []\n",
    "\n",
    "    for pair in kt.ics_pairs:\n",
    "        if pair[0] in ks and pair[1] in ks:\n",
    "            pairs_of_terms.append((ks[pair[0]],ks[pair[1]]))\n",
    "            parent_types.append(pair[0])\n",
    "                \n",
    "    return pairs_of_terms"
   ]
  },
  {
   "cell_type": "markdown",
   "id": "640b7174",
   "metadata": {},
   "source": [
    "But for our calculations, we'll still need to know which terms belong to which generation. Luckily, we know that the 0th element in each tuple is from Ego's parents' generation and the 1st element is from Ego's generation. So we can happily split these tuples down the middle and populate two lists with the terms. `split_pairs()` takes a list of pairs and sorts it into terms that belong to Ego's generation and terms that belong to Ego's parents' generation."
   ]
  },
  {
   "cell_type": "code",
   "execution_count": 52,
   "id": "d001bb4d",
   "metadata": {},
   "outputs": [],
   "source": [
    "def split_pairs(pairs: list) -> list:\n",
    "    gn = []\n",
    "    gn1 = []\n",
    "    for pair in pairs:\n",
    "        gn.append(pair[1])\n",
    "        gn1.append(pair[0])\n",
    "    \n",
    "    return gn,gn1"
   ]
  },
  {
   "cell_type": "markdown",
   "id": "57fc975d",
   "metadata": {},
   "source": [
    "### 3. Calculate probabilities\n",
    "\n",
    "To calculate entropy, we need a probability distribution over the terms in one single generation of a kinship system. So let's start with a function that can calculate the probability of a particular term.\n",
    "\n",
    "Given a term and the full list of terms in the same generation, `probability()` counts how many times that term exists in `generation` and divides that by the total length of `generation`."
   ]
  },
  {
   "cell_type": "code",
   "execution_count": 53,
   "id": "7a04be21",
   "metadata": {},
   "outputs": [],
   "source": [
    "def probability(term: str, generation: list) -> float:\n",
    "    return generation.count(term)/len(generation)"
   ]
  },
  {
   "cell_type": "markdown",
   "id": "87de612e",
   "metadata": {},
   "source": [
    "When calculating mutual information, we also need the **conditional entropy** between the two generations of our system. To calculate this, we will need not only the probabilities of terms in a generation, but also the **joint probabilities** of every pair of terms across those two generations. In other words, we need to calculate the probabilities of our `get_pairs` output.\n",
    "\n",
    "Given two terms, `joint_probability()` counts how many pairs made of those two terms exist in `pairs`, then divides that by the total length of `pairs`."
   ]
  },
  {
   "cell_type": "code",
   "execution_count": 54,
   "id": "a6ec2ed7",
   "metadata": {},
   "outputs": [],
   "source": [
    "def joint_probability(term1: str, term2: str, pairs: list) -> float:\n",
    "    pair = (term1,term2)\n",
    "    return pairs.count(pair)/len(pairs)"
   ]
  },
  {
   "cell_type": "markdown",
   "id": "fed267dd",
   "metadata": {},
   "source": [
    "### 4. Calculating entropy and mutual information\n",
    "\n",
    "Entropy (in bits) is defined as \n",
    "\n",
    "$$\n",
    "H(X) = -\\sum_{x \\in X}p(x) log_2p(x)\n",
    "$$\n",
    "\n",
    "or, in English, it is the inverse sum over a distribution X of the probability of y * the log probability of y.\n",
    "\n",
    "Entropy is a measure of the average level of uncertainty about the possible outcomes of a variable.\n",
    "\n",
    "First, let's define a function `entropy()` that will iterate over a generation of the kinship system and output the entropy of that generation. \n",
    "\n",
    "Note: we only need one generation's entropy score to calculate mutual information - we make the arbitrary choice to calculate the entropy of Ego's parents' generation later in this notebook."
   ]
  },
  {
   "cell_type": "code",
   "execution_count": 55,
   "id": "f9cbfa2b",
   "metadata": {},
   "outputs": [],
   "source": [
    "def entropy(generation: list) -> list:\n",
    "    entropy = 0\n",
    "    for term in set(generation): # using a set as we want to count each unique term only once\n",
    "        p = probability(term,generation)\n",
    "        #print('entropy of',term,p*math.log(p))\n",
    "        entropy += p*math.log2(p)\n",
    "    return round(-entropy,5)"
   ]
  },
  {
   "cell_type": "markdown",
   "id": "6cf0561a",
   "metadata": {},
   "source": [
    "Conditional entropy of Y given X is defined as\n",
    "\n",
    "$$\n",
    "H(Y|X) = -\\sum_{x \\in X,y \\in Y}p(x,y) log_2 {p(x,y) \\over p(x)}\n",
    "$$\n",
    "\n",
    "or in English, the inverse sum over two distributions Y and X of the probability of each y * the log probability of each y given x.\n",
    "\n",
    "Conditional entropy is the amount of information needed to describe the outcome of a random variable Y given that we already know the value of another random variable X.\n",
    "\n",
    "To calculate it, we need the joint probability of each pair (given by `joint_probability()`) and the probability of one member of that pair (given by `probability()`). We can then calculate the conditional probability of parent term given child term as the joint probability of those terms over the probability of the parent term.\n",
    "\n",
    "`conditional_entropy()` iterates over all pairs to output the conditional entropy of Ego's generation given Ego's parents' generation."
   ]
  },
  {
   "cell_type": "code",
   "execution_count": 56,
   "id": "661d794e",
   "metadata": {},
   "outputs": [],
   "source": [
    "def conditional_entropy(gn: list, pairs:list) -> float:\n",
    "    entropy = 0\n",
    "    for x,y in set(pairs): # x = parent, y = child\n",
    "        p_xy = joint_probability(x,y,pairs)\n",
    "        p_y = probability(y,gn)\n",
    "        if p_xy > 0 and p_y > 0:\n",
    "            #print('p(', x, '|', y,') = ', p_xy/p_y, 'p(y) = ', p_y)\n",
    "            entropy += p_xy * math.log2(p_xy/p_y)\n",
    "    return round(-entropy,5)"
   ]
  },
  {
   "cell_type": "markdown",
   "id": "725714bb",
   "metadata": {},
   "source": [
    "Finally, mutual information is defined as\n",
    "\n",
    "$$\n",
    "I(X;Y) \\equiv H(X) - H(X|Y)\n",
    "$$\n",
    "\n",
    "or in English, entropy of X minus the conditional entropy of X given Y.\n",
    "\n",
    "In this study, it is equal to the entropy of Ego's parents' generation minus the conditional entropy of Ego's parents' generation given Ego's generation. It tells us how much mutual dependence there is between these two generations; i.e. how much we can predict about one by observing the other."
   ]
  },
  {
   "cell_type": "code",
   "execution_count": 57,
   "id": "6e3a4b22",
   "metadata": {},
   "outputs": [],
   "source": [
    "def mutual_information(pairs: list):\n",
    "    gn,gn1 = split_pairs(pairs)\n",
    "    e = entropy(gn1)\n",
    "    ce = conditional_entropy(gn,pairs)\n",
    "    mi = e - ce\n",
    "    return round(mi,5)"
   ]
  },
  {
   "cell_type": "markdown",
   "id": "8aa97164",
   "metadata": {},
   "source": [
    "### 5. Calculate MI for each language and save data\n",
    "\n",
    "With all of the above infrastructure, we can calculate the mutual information between G0 and G+1 for all the languages in Kinbank and save this data to a separate .csv file.\n",
    "\n",
    "First, a function that calculates the relevant data and stores it."
   ]
  },
  {
   "cell_type": "code",
   "execution_count": 58,
   "id": "0b67aa85",
   "metadata": {},
   "outputs": [],
   "source": [
    "def write_data(pairs,results):\n",
    "    gn,gn1 = split_pairs(pairs)\n",
    "    egn = entropy(gn)\n",
    "    egn1 = entropy(gn1)\n",
    "    ce = conditional_entropy(gn,pairs)\n",
    "    mi = mutual_information(pairs)\n",
    "    \n",
    "    results['mutual_information'] = mi\n",
    "    results['entropy_gn'] = egn\n",
    "    results['entropy_gn1'] = egn1\n",
    "    results['conditional_entropy'] = ce\n",
    "    results['variation_gn'] = len(set(gn))\n",
    "    results['variation_gn1'] = len(set(gn1))\n",
    "    results['number_of_pairs'] = len(set(pairs))\n",
    "    \n",
    "    return results"
   ]
  },
  {
   "cell_type": "code",
   "execution_count": 59,
   "id": "fb334db8",
   "metadata": {},
   "outputs": [],
   "source": [
    "families = ['Afro-Asiatic','Algic','Arawakan','Atlantic-Congo','Austroasiatic','Austronesian','Cariban','Dravidian','Indo-European',\n",
    "            'Nakh-Daghestanian','Nuclear Trans New Guinea', 'Other','Pama-Nyungan','Pano-Tacanan','Salishan','Sino-Tibetan',\n",
    "            'Tai-Kadai','Tupian','Turkic','Uralic','Uto-Aztecan']\n",
    "\n"
   ]
  },
  {
   "cell_type": "code",
   "execution_count": 60,
   "id": "3f441311",
   "metadata": {},
   "outputs": [],
   "source": [
    "def calculate_MI(families: list,filename: str):\n",
    "    df = []\n",
    "    codes = []\n",
    "    filepath = '../../kinbank-family/'\n",
    "    \n",
    "    for family in families:\n",
    "        all_files = get_kb_files(filepath + family)\n",
    "        \n",
    "        for file in all_files:\n",
    "            print(file)\n",
    "            match = re.search(\"[a-z]{4}[0-9]{4}[a-z]?\", file)\n",
    "            code = match.group()\n",
    "            language = file.split('_' + code)[0]\n",
    "\n",
    "            if code not in codes:\n",
    "                codes.append(code)\n",
    "\n",
    "                ks = get_kin_terms(filepath + family + '/' + file)\n",
    "\n",
    "                pairs = get_pairs(ks)\n",
    "\n",
    "                if pairs: # if pairs is not empty\n",
    "\n",
    "                    results = {}\n",
    "                    results['language'] = language\n",
    "                    results['language_family'] = family\n",
    "                    results['code'] = code\n",
    "                    results['simulation_code'] = code + '_REAL'\n",
    "                    results['simulation'] = 'N'\n",
    "                    write_data(pairs,results)\n",
    "\n",
    "                    df.append(results)\n",
    "        \n",
    "    pd.DataFrame(df).to_csv('../data/raw/' + filename + '.csv',index=False)\n",
    "    \n",
    "    return pd.DataFrame(df)"
   ]
  },
  {
   "cell_type": "code",
   "execution_count": 22,
   "id": "78d12a88",
   "metadata": {},
   "outputs": [
    {
     "name": "stdout",
     "output_type": "stream",
     "text": [
      "Albanian_alba1267.csv\n",
      "Albanian_Tosk__tosk1239.csv\n",
      "Ancient_Greek_anci1242.csv\n",
      "Armenian_nucl1235.csv\n",
      "Assamese_assa1263.csv\n",
      "Avestan_aves1237.csv\n",
      "Balochi_balo1260.csv\n",
      "Belarusian_bela1254.csv\n",
      "Bengali_beng1280.csv\n",
      "Bihari_biha1245.csv\n",
      "Boers_afri1274.csv\n",
      "Breton_bret1244.csv\n",
      "Bulgarian_bulg1262.csv\n",
      "Central_Kurdish_cent1972.csv\n",
      "Chavacano_chav1241.csv\n",
      "Cornish_corn1251.csv\n",
      "Czech_czec1258.csv\n",
      "Danish_dani1285.csv\n",
      "Dari_dari1249.csv\n",
      "Dutch_dutc1256.csv\n",
      "Eastern_Armenian_east2283.csv\n",
      "Eastern_Pahari_Nepali__east1436.csv\n",
      "Eastern_Yiddish_east2295.csv\n",
      "English_stan1293.csv\n",
      "Frisian_fris1239.csv\n",
      "German_stan1295.csv\n",
      "Gothic_goth1244.csv\n",
      "Gujarati_guja1252.csv\n",
      "Hindi_hind1269.csv\n",
      "Hittite_hitt1242.csv\n",
      "Icelandic_icel1247.csv\n",
      "Irish_iris1253.csv\n",
      "Italian_ital1282.csv\n",
      "Jamaican_Creole_jama1262.csv\n",
      "Judeo_Tat_jude1256.csv\n",
      "Kashmiri_kash1277.csv\n",
      "Kriol_Roper_River_krio1252.csv\n",
      "Kristang_(Malacca_Creole_Portugese)_mala1533.csv\n",
      "Kumaoni_kuma1273.csv\n",
      "Lahnda_lahn1241.csv\n",
      "Latin_lati1261.csv\n",
      "Latin_lati1261a.csv\n",
      "Latvian_latv1249.csv\n",
      "Lithuanian_lith1251.csv\n",
      "Luxembourgish_luxe1241.csv\n",
      "Macedonian_mace1250.csv\n",
      "Mahasu_Pahari_maha1287.csv\n",
      "Maithili_mait1250.csv\n",
      "Marathi_mara1378.csv\n",
      "Marwari_India__marw1260.csv\n",
      "Middle_English_midd1317.csv\n",
      "Middle_High_German_midd1343.csv\n",
      "Modern_Greek_mode1248.csv\n",
      "Modern_Welsh_wels1247.csv\n",
      "Morgan1871_Bengâli_beng1280.csv\n",
      "Morgan1871_Gujarati_guja1252.csv\n",
      "Morgan1871_Hindi_hind1269.csv\n",
      "Morgan1871_Marâthî_mara1378.csv\n",
      "Negerhollands_nege1244.csv\n",
      "Nepali_nepa1254.csv\n",
      "Northern_Kurdish_nort2641.csv\n",
      "Norwegian_Bokmål_norw1259.csv\n",
      "Old_Church_Slavonic_chur1257.csv\n",
      "Old_English_ca_450_1100__olde1238.csv\n",
      "Old_Irish_oldi1245.csv\n",
      "Old_Norse_oldn1244.csv\n",
      "Old_Prussian_prus1238.csv\n",
      "Old_Russian_oldr1238.csv\n",
      "Old_Welsh_oldw1239.csv\n",
      "Oriya_oriy1255.csv\n",
      "Ossetian_osse1243.csv\n",
      "Ossetic_osse1245.csv\n",
      "Panjabi_panj1256.csv\n",
      "Pashto_pash1269.csv\n",
      "Polish_poli1260.csv\n",
      "Portuguese_port1283.csv\n",
      "Romanian_roma1327.csv\n",
      "Russian_russ1263.csv\n",
      "Russian_russ1263a.csv\n",
      "Sanskrit_sans1269.csv\n",
      "Sardinian_sard1257.csv\n",
      "Saterfriesisch_sate1242.csv\n",
      "Serbocroation_sout1528.csv\n",
      "Serbs_serb1264.csv\n",
      "Sindhi_sind1272.csv\n",
      "Sinhala_sinh1246.csv\n",
      "Slovakian_slov1269.csv\n",
      "Slovenian_slov1268.csv\n",
      "Standard_Catalan_stan1289.csv\n",
      "Standard_English_stan1293.csv\n",
      "Standard_French_stan1290.csv\n",
      "Standard_German_stan1295.csv\n",
      "Standard_Spanish_stan1288.csv\n",
      "Swedish_swed1254.csv\n",
      "Tajik_taji1245.csv\n",
      "Tokharian_A_tokh1242.csv\n",
      "Tokharian_B_tokh1243.csv\n",
      "Tok_Pisin_tokp1240.csv\n",
      "Torres_Strait_Creole_(Broken)_torr1261.csv\n",
      "Ukrainian_ukra1253.csv\n",
      "Urdu_urdu1245.csv\n",
      "Vlax_Romani_vlax1238.csv\n",
      "Wallon_wall1255.csv\n",
      "Western_Armenian_homs1234.csv\n",
      "Western_Farsi_west2369.csv\n",
      "Western_Panjabi_west2386.csv\n"
     ]
    },
    {
     "data": {
      "text/html": [
       "<div>\n",
       "<style scoped>\n",
       "    .dataframe tbody tr th:only-of-type {\n",
       "        vertical-align: middle;\n",
       "    }\n",
       "\n",
       "    .dataframe tbody tr th {\n",
       "        vertical-align: top;\n",
       "    }\n",
       "\n",
       "    .dataframe thead th {\n",
       "        text-align: right;\n",
       "    }\n",
       "</style>\n",
       "<table border=\"1\" class=\"dataframe\">\n",
       "  <thead>\n",
       "    <tr style=\"text-align: right;\">\n",
       "      <th></th>\n",
       "      <th>language</th>\n",
       "      <th>language_family</th>\n",
       "      <th>code</th>\n",
       "      <th>simulation_code</th>\n",
       "      <th>simulation</th>\n",
       "      <th>mutual_information</th>\n",
       "      <th>entropy_gn</th>\n",
       "      <th>entropy_gn1</th>\n",
       "      <th>conditional_entropy</th>\n",
       "      <th>variation_gn</th>\n",
       "      <th>variation_gn1</th>\n",
       "      <th>number_of_pairs</th>\n",
       "    </tr>\n",
       "  </thead>\n",
       "  <tbody>\n",
       "    <tr>\n",
       "      <th>0</th>\n",
       "      <td>Albanian</td>\n",
       "      <td>Indo-European</td>\n",
       "      <td>alba1267</td>\n",
       "      <td>alba1267_REAL</td>\n",
       "      <td>N</td>\n",
       "      <td>0.91829</td>\n",
       "      <td>2.25163</td>\n",
       "      <td>2.58496</td>\n",
       "      <td>1.66667</td>\n",
       "      <td>6</td>\n",
       "      <td>6</td>\n",
       "      <td>16</td>\n",
       "    </tr>\n",
       "    <tr>\n",
       "      <th>1</th>\n",
       "      <td>Albanian_Tosk_</td>\n",
       "      <td>Indo-European</td>\n",
       "      <td>tosk1239</td>\n",
       "      <td>tosk1239_REAL</td>\n",
       "      <td>N</td>\n",
       "      <td>0.91829</td>\n",
       "      <td>1.41830</td>\n",
       "      <td>2.58496</td>\n",
       "      <td>1.66667</td>\n",
       "      <td>4</td>\n",
       "      <td>6</td>\n",
       "      <td>10</td>\n",
       "    </tr>\n",
       "    <tr>\n",
       "      <th>2</th>\n",
       "      <td>Ancient_Greek</td>\n",
       "      <td>Indo-European</td>\n",
       "      <td>anci1242</td>\n",
       "      <td>anci1242_REAL</td>\n",
       "      <td>N</td>\n",
       "      <td>0.91830</td>\n",
       "      <td>1.91830</td>\n",
       "      <td>1.91830</td>\n",
       "      <td>1.00000</td>\n",
       "      <td>4</td>\n",
       "      <td>4</td>\n",
       "      <td>8</td>\n",
       "    </tr>\n",
       "    <tr>\n",
       "      <th>3</th>\n",
       "      <td>Armenian</td>\n",
       "      <td>Indo-European</td>\n",
       "      <td>nucl1235</td>\n",
       "      <td>nucl1235_REAL</td>\n",
       "      <td>N</td>\n",
       "      <td>2.25163</td>\n",
       "      <td>3.25163</td>\n",
       "      <td>2.58496</td>\n",
       "      <td>0.33333</td>\n",
       "      <td>10</td>\n",
       "      <td>6</td>\n",
       "      <td>12</td>\n",
       "    </tr>\n",
       "    <tr>\n",
       "      <th>4</th>\n",
       "      <td>Assamese</td>\n",
       "      <td>Indo-European</td>\n",
       "      <td>assa1263</td>\n",
       "      <td>assa1263_REAL</td>\n",
       "      <td>N</td>\n",
       "      <td>1.50000</td>\n",
       "      <td>2.25000</td>\n",
       "      <td>2.62500</td>\n",
       "      <td>1.12500</td>\n",
       "      <td>5</td>\n",
       "      <td>7</td>\n",
       "      <td>11</td>\n",
       "    </tr>\n",
       "    <tr>\n",
       "      <th>...</th>\n",
       "      <td>...</td>\n",
       "      <td>...</td>\n",
       "      <td>...</td>\n",
       "      <td>...</td>\n",
       "      <td>...</td>\n",
       "      <td>...</td>\n",
       "      <td>...</td>\n",
       "      <td>...</td>\n",
       "      <td>...</td>\n",
       "      <td>...</td>\n",
       "      <td>...</td>\n",
       "      <td>...</td>\n",
       "    </tr>\n",
       "    <tr>\n",
       "      <th>96</th>\n",
       "      <td>Vlax_Romani</td>\n",
       "      <td>Indo-European</td>\n",
       "      <td>vlax1238</td>\n",
       "      <td>vlax1238_REAL</td>\n",
       "      <td>N</td>\n",
       "      <td>0.91830</td>\n",
       "      <td>1.91830</td>\n",
       "      <td>1.91830</td>\n",
       "      <td>1.00000</td>\n",
       "      <td>4</td>\n",
       "      <td>4</td>\n",
       "      <td>8</td>\n",
       "    </tr>\n",
       "    <tr>\n",
       "      <th>97</th>\n",
       "      <td>Wallon</td>\n",
       "      <td>Indo-European</td>\n",
       "      <td>wall1255</td>\n",
       "      <td>wall1255_REAL</td>\n",
       "      <td>N</td>\n",
       "      <td>0.91829</td>\n",
       "      <td>1.91830</td>\n",
       "      <td>2.18872</td>\n",
       "      <td>1.27043</td>\n",
       "      <td>4</td>\n",
       "      <td>5</td>\n",
       "      <td>10</td>\n",
       "    </tr>\n",
       "    <tr>\n",
       "      <th>98</th>\n",
       "      <td>Western_Armenian</td>\n",
       "      <td>Indo-European</td>\n",
       "      <td>homs1234</td>\n",
       "      <td>homs1234_REAL</td>\n",
       "      <td>N</td>\n",
       "      <td>0.91829</td>\n",
       "      <td>1.58496</td>\n",
       "      <td>2.58496</td>\n",
       "      <td>1.66667</td>\n",
       "      <td>5</td>\n",
       "      <td>6</td>\n",
       "      <td>12</td>\n",
       "    </tr>\n",
       "    <tr>\n",
       "      <th>99</th>\n",
       "      <td>Western_Farsi</td>\n",
       "      <td>Indo-European</td>\n",
       "      <td>west2369</td>\n",
       "      <td>west2369_REAL</td>\n",
       "      <td>N</td>\n",
       "      <td>2.22987</td>\n",
       "      <td>3.57770</td>\n",
       "      <td>2.57770</td>\n",
       "      <td>0.34783</td>\n",
       "      <td>12</td>\n",
       "      <td>6</td>\n",
       "      <td>16</td>\n",
       "    </tr>\n",
       "    <tr>\n",
       "      <th>100</th>\n",
       "      <td>Western_Panjabi</td>\n",
       "      <td>Indo-European</td>\n",
       "      <td>west2386</td>\n",
       "      <td>west2386_REAL</td>\n",
       "      <td>N</td>\n",
       "      <td>0.91829</td>\n",
       "      <td>1.58496</td>\n",
       "      <td>2.58496</td>\n",
       "      <td>1.66667</td>\n",
       "      <td>5</td>\n",
       "      <td>6</td>\n",
       "      <td>12</td>\n",
       "    </tr>\n",
       "  </tbody>\n",
       "</table>\n",
       "<p>101 rows × 12 columns</p>\n",
       "</div>"
      ],
      "text/plain": [
       "             language language_family      code simulation_code simulation  \\\n",
       "0            Albanian   Indo-European  alba1267   alba1267_REAL          N   \n",
       "1      Albanian_Tosk_   Indo-European  tosk1239   tosk1239_REAL          N   \n",
       "2       Ancient_Greek   Indo-European  anci1242   anci1242_REAL          N   \n",
       "3            Armenian   Indo-European  nucl1235   nucl1235_REAL          N   \n",
       "4            Assamese   Indo-European  assa1263   assa1263_REAL          N   \n",
       "..                ...             ...       ...             ...        ...   \n",
       "96        Vlax_Romani   Indo-European  vlax1238   vlax1238_REAL          N   \n",
       "97             Wallon   Indo-European  wall1255   wall1255_REAL          N   \n",
       "98   Western_Armenian   Indo-European  homs1234   homs1234_REAL          N   \n",
       "99      Western_Farsi   Indo-European  west2369   west2369_REAL          N   \n",
       "100   Western_Panjabi   Indo-European  west2386   west2386_REAL          N   \n",
       "\n",
       "     mutual_information  entropy_gn  entropy_gn1  conditional_entropy  \\\n",
       "0               0.91829     2.25163      2.58496              1.66667   \n",
       "1               0.91829     1.41830      2.58496              1.66667   \n",
       "2               0.91830     1.91830      1.91830              1.00000   \n",
       "3               2.25163     3.25163      2.58496              0.33333   \n",
       "4               1.50000     2.25000      2.62500              1.12500   \n",
       "..                  ...         ...          ...                  ...   \n",
       "96              0.91830     1.91830      1.91830              1.00000   \n",
       "97              0.91829     1.91830      2.18872              1.27043   \n",
       "98              0.91829     1.58496      2.58496              1.66667   \n",
       "99              2.22987     3.57770      2.57770              0.34783   \n",
       "100             0.91829     1.58496      2.58496              1.66667   \n",
       "\n",
       "     variation_gn  variation_gn1  number_of_pairs  \n",
       "0               6              6               16  \n",
       "1               4              6               10  \n",
       "2               4              4                8  \n",
       "3              10              6               12  \n",
       "4               5              7               11  \n",
       "..            ...            ...              ...  \n",
       "96              4              4                8  \n",
       "97              4              5               10  \n",
       "98              5              6               12  \n",
       "99             12              6               16  \n",
       "100             5              6               12  \n",
       "\n",
       "[101 rows x 12 columns]"
      ]
     },
     "execution_count": 22,
     "metadata": {},
     "output_type": "execute_result"
    }
   ],
   "source": [
    "calculate_MI(['Indo-European'],'test')"
   ]
  },
  {
   "cell_type": "code",
   "execution_count": 61,
   "id": "7f6d71bf",
   "metadata": {},
   "outputs": [
    {
     "name": "stdout",
     "output_type": "stream",
     "text": [
      "Akkadian_akka1240.csv\n",
      "Amharic_amha1245.csv\n",
      "Hausa_haus1257.csv\n",
      "Lebanese_Arabic_stan1323.csv\n",
      "Old_Aramaic_olda1245.csv\n",
      "Polci_polc1243.csv\n",
      "Morgan1871_An-ah'-ne-lin_(Gros_Ventres_of_Prairie)_gros1243.csv\n",
      "Morgan1871_Blood_Siksika_(Blood_Blackfoot)_bloo1239.csv\n",
      "Morgan1871_Cree_of_the_Lowlands_cree1272.csv\n",
      "Morgan1871_Delaware_comm1246.csv\n",
      "Morgan1871_Etchemiu,_or_Malisete_male1293.csv\n",
      "Morgan1871_Kaskaskia_algo1255.csv\n",
      "Morgan1871_Kickapoo_(Kikapoo)_kick1244.csv\n",
      "Morgan1871_Menomine_meno1252.csv\n",
      "Morgan1871_Miami_miam1252.csv\n",
      "Morgan1871_Miemac_mikm1235.csv\n",
      "Morgan1871_Mohegan_mohe1244.csv\n",
      "Morgan1871_Munsee_muns1251.csv\n",
      "Morgan1871_Ojibwa_Kansas_ojib1241.csv\n",
      "Morgan1871_Ojibwa_Lake_Huron_ojib1241.csv\n",
      "Morgan1871_Ojibwa_Lake_Michigan_uppe1274.csv\n",
      "Morgan1871_Ojibwa_Lake_Superior_ojib1241.csv\n",
      "Morgan1871_Ottawa_(Otǎwa)_otta1242.csv\n",
      "Morgan1871_Peoria_peor1238.csv\n",
      "Morgan1871_Pianeshaw_miam1252.csv\n",
      "Morgan1871_Piegan_Siksika_(Piegan_Blackfoot)_pieg1239.csv\n",
      "Morgan1871_Plains_Cree_(Cree_of_the_Prairie)_plai1258.csv\n",
      "Morgan1871_Potawatomi_(Potǎwattamie)_pota1247.csv\n",
      "Morgan1871_Sawk_and_Fox_mesk1242.csv\n",
      "Morgan1871_Shawnee_shaw1249.csv\n",
      "Morgan1871_Shiyan_chey1247.csv\n",
      "Morgan1871_Weaw_nucl1653.csv\n",
      "Morgan1871_Woods_Cree_(Cree_of_the_Woods)_wood1236.csv\n",
      "Northern_Ojibwa_nort2961.csv\n",
      "Ottowa_Ojibwa_otta1242.csv\n",
      "Wiyot_wiyo1248.csv\n",
      "Yurok_yuro1248.csv\n",
      "Baure_baur1253.csv\n",
      "Ignaciano_igna1246.csv\n",
      "Mashco_Piro_mash1270.csv\n",
      "Trinitario_trin1274.csv\n",
      "Wapishana_wapi1253.csv\n",
      "Waurá_waur1244.csv\n",
      "Wayuu_wayu1243.csv\n",
      "Yavitero_yavi1244.csv\n",
      "Asu_Tanzania__asut1235.csv\n",
      "Avatime_avat1244.csv\n",
      "Bafia_bafi1243.csv\n",
      "Bali_Congo__bali1274.csv\n",
      "Bali_DRC__bali1275.csv\n",
      "Bamun_bamu1253.csv\n",
      "Batanga_bata1285.csv\n",
      "Bemba_bemb1257.csv\n",
      "Bena_Tanzania__bena1262.csv\n",
      "Bende_bend1258.csv\n",
      "Bera_bera1259.csv\n",
      "Bila_bila1255.csv\n",
      "Budza_budz1238.csv\n",
      "Bukusu_buku1249.csv\n",
      "Bushoong_bush1247.csv\n",
      "Chokwe_chok1245.csv\n",
      "Digo_digo1243.csv\n",
      "Ding_ding1239.csv\n",
      "Duala_dual1243.csv\n",
      "Duma_duma1253.csv\n",
      "Ekonda_Mongo_ekon1238.csv\n",
      "Fang_EG_fang1246.csv\n",
      "Fefe_fefe1239.csv\n",
      "Fipa_fipa1238.csv\n",
      "Ganda_gand1255.csv\n",
      "Giryama_giry1241.csv\n",
      "Gogo_gogo1263.csv\n",
      "Gusii_gusi1247.csv\n",
      "Haya_haya1250.csv\n",
      "Ha_haaa1252.csv\n",
      "Hehe_hehe1240.csv\n",
      "Herero_here1253.csv\n",
      "Igbo_nucl1417.csv\n",
      "Kagulu_kagu1239.csv\n",
      "Kamba_kamb1297.csv\n",
      "Kaonde_kaon1241.csv\n",
      "Kerewe_kere1283.csv\n",
      "Kikuyu_kiku1240.csv\n",
      "Komo_DRC__komo1260.csv\n",
      "Kom_komc1235.csv\n",
      "Kota_kota1274.csv\n",
      "Kwasio_kwas1243.csv\n",
      "Kwere_kwer1261.csv\n",
      "Kélé_kele1257.csv\n",
      "Lala_Bisa_lala1264.csv\n",
      "Lamba_lamb1271.csv\n",
      "Langi_lang1320.csv\n",
      "Lingala_ling1263.csv\n",
      "Lozi_lozi1239.csv\n",
      "Luba_Katanga_luba1250.csv\n",
      "Luba_Lulua_luba1249.csv\n",
      "Luguru_lugu1238.csv\n",
      "Lunda_lund1266.csv\n",
      "Luvale_luva1239.csv\n",
      "Makonde_mako1251.csv\n",
      "Masaaba_masa1299.csv\n",
      "Mbala_mbal1257.csv\n",
      "Mbere_mber1257.csv\n",
      "Mbuun_mpuo1241.csv\n",
      "Meru_meru1245.csv\n",
      "Meta_meta1238.csv\n",
      "Mokpwe_mokp1239.csv\n",
      "Mongo_mong1338.csv\n",
      "Morgan1871_Amazulu_(Amazulu_Kafir)_zulu1248.csv\n",
      "Mungaka_mung1266.csv\n",
      "Myene_myen1241.csv\n",
      "Ndumu_ndum1239.csv\n",
      "Ngombe_Binja_binj1250.csv\n",
      "Ngoni_ngon1269.csv\n",
      "Ngulu_ngul1246.csv\n",
      "Njebi_njeb1242.csv\n",
      "Nsong_song1299.csv\n",
      "Nyakyusa_nyak1260.csv\n",
      "Nyoro_nyor1246.csv\n",
      "Oroko_orok1266.csv\n",
      "Phende_phen1239.csv\n",
      "Pinji_pinj1243.csv\n",
      "Pokomo_poko1261.csv\n",
      "Punu_punu1239.csv\n",
      "Rundi_rund1242.csv\n",
      "Sakata_saka1287.csv\n",
      "Sake_sake1247.csv\n",
      "Sango_sang1331.csv\n",
      "Sangu_sang1333.csv\n",
      "Sangu_Tanzania__sang1330.csv\n",
      "San_Salvador_Kongo_sans1272.csv\n",
      "Seki_seki1238.csv\n",
      "Shi_shii1238.csv\n",
      "Shona_shon1251.csv\n",
      "Sira_sira1266.csv\n",
      "Soga_soga1242.csv\n",
      "Songoora_song1300.csv\n",
      "Sukuma_suku1261.csv\n",
      "Suku_suku1259.csv\n",
      "Sumbwa_sumb1240.csv\n",
      "Suundi_suun1239.csv\n",
      "Taabwa_shil1264.csv\n",
      "Temi_temi1247.csv\n",
      "Tetela_tete1250.csv\n",
      "Tiv_tivv1240.csv\n",
      "Tonga_Nyasa__tong1321.csv\n",
      "Tooro_toor1238.csv\n",
      "Tsaangi_tsaa1242.csv\n",
      "Tsogo_tsog1243.csv\n",
      "Tsonga_tson1249.csv\n",
      "Tswana_tswa1253.csv\n",
      "Umbundu_umbu1257.csv\n",
      "Venda_vend1245.csv\n",
      "Vili_vili1238.csv\n",
      "Yaka_CAR__yaka1272.csv\n",
      "Yaka_Pelende_Lonzo_yaka1269.csv\n",
      "Yansi_yans1239.csv\n",
      "Yao_yaoo1241.csv\n",
      "Yombe_yomb1244.csv\n",
      "Zigula_zigu1242.csv\n",
      "Zinza_zinz1238.csv\n",
      "Zulu_zulu1248.csv\n",
      "Birhor_birh1242.csv\n",
      "Bit_bitt1240.csv\n",
      "Car_Nicobarese_carn1240.csv\n",
      "Jahai_(Jehai)_jeha1242.csv\n",
      "O_du_oduu1239.csv\n",
      "Pacoh_paco1243.csv\n",
      "Prai_phai1238.csv\n",
      "'Are'are_area1240.csv\n",
      "Achinese_achi1257.csv\n",
      "Aklanon_akla1241.csv\n",
      "Alangan_alan1249.csv\n",
      "Amis_amis1246.csv\n",
      "Ampibabo_Lauje_ampi1237.csv\n",
      "Anejom_anei1239.csv\n",
      "Aniwa_aniw1237.csv\n",
      "Anuta_anut1237.csv\n",
      "Araki_arak1252.csv\n",
      "Aria_(Mouk-Aria)_mouk1240a.csv\n",
      "Arosi_aros1241.csv\n",
      "Asera_aser1237.csv\n",
      "Atayal_atay1247.csv\n",
      "Atchin_atch1238.csv\n",
      "Atoni_(Uab_Meto)_uabm1237.csv\n",
      "Atta_atta1244.csv\n",
      "Avava_(Bangasa_Dialect)_katb1237.csv\n",
      "Avava_(Niviar_Dialect)_katb1237b.csv\n",
      "Avava_katb1237a.csv\n",
      "Ayiwo_ayiw1239.csv\n",
      "Bacanese_Malay_(Bacan)_baca1243.csv\n",
      "Bahonsuai_baho1237.csv\n",
      "Balaesang_bala1314.csv\n",
      "Balangao_bala1310.csv\n",
      "Balinese_bali1278.csv\n",
      "Banjar_banj1239.csv\n",
      "Bannoni_bann1247.csv\n",
      "Barabet_(Hano)_hano1246a.csv\n",
      "Bario_Kelabit_bari1288.csv\n",
      "Barok_(Karu)_baro1253.csv\n",
      "Batak_Toba_bata1289.csv\n",
      "Bau-Jagoi_Bidayuh_baub1235.csv\n",
      "Biak_biak1248.csv\n",
      "Bierebo_bier1244.csv\n",
      "Big_Nambas_bign1238.csv\n",
      "Big_Nambas_bign1238a.csv\n",
      "Bilibil_bilb1241.csv\n",
      "Binukid_(Talaandig-Binukid)_binu1244.csv\n",
      "Boano_(Sulawesi)_boan1243.csv\n",
      "Bontok_bont1247.csv\n",
      "Brooke's_Point_Palawano_broo1239.csv\n",
      "Brunei-Sabah_Malay_(Malay)_saba1263.csv\n",
      "Buhid_buhi1245.csv\n",
      "Bukat_buka1261.csv\n",
      "Buli_buli1256.csv\n",
      "Bungku_bung1269.csv\n",
      "Bunun_bunu1267.csv\n",
      "Buru_(Indonesia)_buru1303.csv\n",
      "Butmas-Tur_butm1237.csv\n",
      "Bwaidoga_bwai1243.csv\n",
      "Carolinians_caro1242.csv\n",
      "Casiguran_Dumagat_Agta_casi1235.csv\n",
      "Cebuano_cebu1242.csv\n",
      "Central_Cagayan_Agta_cent2084.csv\n",
      "Central_Melanau_cent2101.csv\n",
      "Central_Sama_cent2092.csv\n",
      "Central_Subanen_(Subanung)_cent2089.csv\n",
      "Central_Tagbanwa_cent2090.csv\n",
      "Chamarro_cham1312.csv\n",
      "Cheke_Holo_chek1238.csv\n",
      "Chuukese_(Trukese)_chuu1238.csv\n",
      "Colloquial_Malay_mala1479.csv\n",
      "Cotabato_Manobo_cota1241.csv\n",
      "Daakie_port1286.csv\n",
      "Dakaka_daka1243.csv\n",
      "Dampelas_damp1237.csv\n",
      "Dehu_dehu1237.csv\n",
      "Dobu_dobu1241.csv\n",
      "Dondo_dond1249.csv\n",
      "Dupaningan_Agat_dupa1235.csv\n",
      "Easter_Islanders_rapa1244.csv\n",
      "East_Ambae_(Lolovoli)_east2443.csv\n",
      "East_Futuna_east2447.csv\n",
      "Ellice_tuva1244.csv\n",
      "Emae_(Mae)_emae1237.csv\n",
      "Emau_(Emao_Island)_emau1237.csv\n",
      "Fijian_fiji1243.csv\n",
      "Fordata_ford1242.csv\n",
      "Fortsenal_(Kiai)_fort1240.csv\n",
      "Futuna-Aniwa_futu1245.csv\n",
      "Futunans_east2447.csv\n",
      "Ga'dang_gada1258.csv\n",
      "Gane_(Gimán)_gane1237.csv\n",
      "Gayo_gayo1244.csv\n",
      "Gela_gela1263.csv\n",
      "Hanunoo_hanu1241.csv\n",
      "Hawaiians_hawa1245.csv\n",
      "Hawaii_hawa1245.csv\n",
      "Hiligaynon_hili1240.csv\n",
      "Hiw_hiww1237.csv\n",
      "Ibaloi_(Nabaloi)_ibal1244.csv\n",
      "Ibanag_iban1267.csv\n",
      "Iban_iban1264.csv\n",
      "Ida'an_idaa1241.csv\n",
      "Ifaluk_Nuclear_Woleaian__nucl1479.csv\n",
      "Ifugaw_(Ifugao)_ifug1247.csv\n",
      "Ili'uun_iliu1237.csv\n",
      "Ilokano_ilok1237.csv\n",
      "Indonesian_Bajau_indo1317.csv\n",
      "Indonesian_indo1316.csv\n",
      "Iraya_iray1237.csv\n",
      "Isnag_isna1241.csv\n",
      "Itbayat_ivat1242.csv\n",
      "Itneg_(Binongan)_bino1237.csv\n",
      "Javanese_java1254.csv\n",
      "Kadai_kada1286.csv\n",
      "Kalinga_(Ahin-Kayapa_Kalanguya)_ahin1234.csv\n",
      "Kambera_kamb1299.csv\n",
      "Kankanaey_(Kankanai)_kank1243.csv\n",
      "Kankanay_nort2877.csv\n",
      "Kapingamarangi_kapi1249.csv\n",
      "Kapingamarangi_kapi1249a.csv\n",
      "Kei_keii1239.csv\n",
      "Kilivila_kili1267.csv\n",
      "Kiput_kipu1237.csv\n",
      "Kodeoha_kode1237.csv\n",
      "Kodi_kodi1247.csv\n",
      "Konawe_kona1243.csv\n",
      "Koroni_koro1311.csv\n",
      "Kuanua_kuan1248.csv\n",
      "Kulisusu_kuli1254.csv\n",
      "Kwaio_kwai1243.csv\n",
      "Kwamera_kwam1252.csv\n",
      "Laiwui_laiw1239.csv\n",
      "Lalomerui_lalo1239.csv\n",
      "Lamahalot_lama1277.csv\n",
      "Lametin_mere1242.csv\n",
      "Lamogai_lamo1244.csv\n",
      "Landewe_land1259.csv\n",
      "Larevat_lare1249.csv\n",
      "Lauje_lauj1238.csv\n",
      "Lau_Fijian_laua1243.csv\n",
      "Lau_lauu1247.csv\n",
      "Lavatbura-lamusong_(Konobin)_lava1239.csv\n",
      "Lelepa_lele1267.csv\n",
      "Lenakel_lena1238.csv\n",
      "Letemboi-Repanbitip_lete1241.csv\n",
      "Lewo_lewo1242.csv\n",
      "Lo-Toga_(Loh)_loto1240.csv\n",
      "Loniu_loni1238.csv\n",
      "Lonwolwol_lonw1238.csv\n",
      "Luangiua_(Ontong_Java)_onto1237.csv\n",
      "Lubuagan_Kalinga_lubu1243.csv\n",
      "Luburua_(Kara)_lubu1242.csv\n",
      "Ma'anyan_maan1238.csv\n",
      "Maba_(Indonesia)_maba1278.csv\n",
      "Madak_(Konnos)_mada1284.csv\n",
      "Madurese_nucl1460.csv\n",
      "Mafea_(Mavea)_mafe1237.csv\n",
      "Magam_maga1262.csv\n",
      "Maguindanao_(Magindonao_Moro)_magu1243.csv\n",
      "Malua_Bay_malu1245.csv\n",
      "Manam_mana1295.csv\n",
      "Mangaia_mang1402.csv\n",
      "Mangarevans_mang1401.csv\n",
      "Mangareva_mang1401.csv\n",
      "Mangei_(Sobjo)_mang1407.csv\n",
      "Manggarai_mang1405.csv\n",
      "Maori_maor1246.csv\n",
      "Maragus_(Tape)_mara1399.csv\n",
      "Maranao_(Lanao_Moro)_mara1404.csv\n",
      "Marquesas_marq1246.csv\n",
      "Marshallese_mars1254.csv\n",
      "Maskelynes_mask1242.csv\n",
      "Matukar_matu1261.csv\n",
      "Mekeo_(East)_meke1243d.csv\n",
      "Mekeo_(North)_meke1243c.csv\n",
      "Mekeo_(North-West)_meke1243a.csv\n",
      "Mekeo_(West)_meke1243b.csv\n",
      "Mekeo_meke1243.csv\n",
      "Mekongga_meko1237.csv\n",
      "Mele-Fila_(Ifira-Mele)_mele1250.csv\n",
      "Menui_menu1237.csv\n",
      "Merei_mere1242.csv\n",
      "Merlav_merl1237.csv\n",
      "Minangkabau_mina1268.csv\n",
      "Miningir_(Lunga)_mini1251.csv\n",
      "Mono-Alu_mono1273.csv\n",
      "Morgan1871_Hawaiian_hawa1245.csv\n",
      "Morgan1871_Kings_Mill_Islands_gilb1244.csv\n",
      "Morgan1871_Kusaien_kosr1238.csv\n",
      "Morgan1871_Maori_maor1246.csv\n",
      "Mori_Atas_mori1269.csv\n",
      "Mori_Bawah_mori1268.csv\n",
      "Moronene_moro1287.csv\n",
      "Mortlockese_mort1237.csv\n",
      "Mota_mota1237.csv\n",
      "Motu_motu1246.csv\n",
      "Mouk_mouk1240.csv\n",
      "Muduapa_(Vitu)_mudu1242.csv\n",
      "Muna_muna1247.csv\n",
      "Munggava_(Rennell)_mung1271.csv\n",
      "Mungiki_(Bellona)_mung1270.csv\n",
      "Mussau-Emira_muss1246.csv\n",
      "Mwotlap_motl1237.csv\n",
      "Māori_maor1246.csv\n",
      "Nafsan_sout2856.csv\n",
      "Nage_nage1237.csv\n",
      "Nahavaq_sout2857.csv\n",
      "Nakanai_naka1262.csv\n",
      "Nalik_(Lukuramau)_nali1244.csv\n",
      "Nalik_(Madina)_nali1244b.csv\n",
      "Namakura_nama1268.csv\n",
      "Namakura_nama1268b.csv\n",
      "Naman_litz1237.csv\n",
      "Nanggu_nang1262.csv\n",
      "Nehan_neha1247.csv\n",
      "Nengone_neng1238.csv\n",
      "Nese_nese1235.csv\n",
      "Neve'ei_vinm1237.csv\n",
      "Neve'ei_vinm1237a.csv\n",
      "Neverver_ling1265.csv\n",
      "Nguna_ngun1274.csv\n",
      "Niuafo'ou_niua1240.csv\n",
      "Niueans_niue1239.csv\n",
      "Niue_niue1239.csv\n",
      "North_Ambrym_nort2839.csv\n",
      "North_Efate_(Nguna,_Nakanamanga)_nort2836.csv\n",
      "North_Marquesan_nort2845.csv\n",
      "North_Tanna_nort2847.csv\n",
      "Numbami_numb1247.csv\n",
      "Olal_olal1237.csv\n",
      "Old_Javanese_(Kawi)_kawi1241.csv\n",
      "Old_Rapa_(Rapa)_rapa1245.csv\n",
      "Ontong_Java_onto1237.csv\n",
      "Owa_(Santa_Ana)_owaa1237.csv\n",
      "Padoe_pado1242.csv\n",
      "Paici_paic1239.csv\n",
      "Paiwan_paiw1248.csv\n",
      "Palauan_pala1344.csv\n",
      "Paluai_balu1257.csv\n",
      "Pama_(Paamanese)_paam1238.csv\n",
      "Pampanga_(Kampampangan)_pamp1243.csv\n",
      "Pangasinan_pang1290.csv\n",
      "Patani_pata1260.csv\n",
      "Pendau_pend1242.csv\n",
      "Penrhyn_(Tongareva)_penr1237.csv\n",
      "Petapa_Taje_taje1237a.csv\n",
      "Pohnpeian_pohn1238.csv\n",
      "Pohnpeian_pohn1238a.csv\n",
      "Port_Sandwich_port1285.csv\n",
      "Proto-Oceanic_ocea1241.csv\n",
      "Pukapuka_puka1242.csv\n",
      "Puluwatese_(Puluwat)_pulu1242.csv\n",
      "Puyuma_puyu1239.csv\n",
      "Rade_(Rhade)_rade1240.csv\n",
      "Raga_(Hano)_hano1246.csv\n",
      "Raga_(Hano_Thomas_Ennever)_hano1246b.csv\n",
      "Rahambuu_raha1237.csv\n",
      "Rakahanga-Manihiki_raka1237.csv\n",
      "Rangiora_(NW_Tuamotus)_tuam1242.csv\n",
      "Rapanui_(Easter_Island)_rapa1244.csv\n",
      "Raroians_tuam1242.csv\n",
      "Rarotongan_(Cook_Islands_Maori)_raro1241.csv\n",
      "Ratagnon_rata1245.csv\n",
      "Rejang_(Rejangese)_reja1240.csv\n",
      "Rennell_Islanders_renn1242.csv\n",
      "Riuk_Bekati'_(Dayak)_beka1241.csv\n",
      "Rotinese_Termanu__term1237.csv\n",
      "Rotumans_rotu1241.csv\n",
      "Rotuman_rotu1241.csv\n",
      "Routa_rout1237.csv\n",
      "Roviana_rovi1238.csv\n",
      "Saaroa_saar1237.csv\n",
      "Samoan_samo1305.csv\n",
      "Samoan_samo1305a.csv\n",
      "Sarangani_Blaan_sara1326.csv\n",
      "Satawalese_sata1237.csv\n",
      "Sawai_sawa1247.csv\n",
      "Sa_a_saaa1240.csv\n",
      "Sa_saaa1241.csv\n"
     ]
    },
    {
     "name": "stdout",
     "output_type": "stream",
     "text": [
      "Seke_(Ske)_seke1241.csv\n",
      "Senbarei_unua1237.csv\n",
      "Sie_(Sye)_siee1239.csv\n",
      "Sikaiana_sika1261.csv\n",
      "Sika_sika1262.csv\n",
      "Sonsorol_sons1242.csv\n",
      "Southeast_Ambrym_sout2859.csv\n",
      "Southeast_Babar_sout2883.csv\n",
      "Southwest_Tanna_sout2869.csv\n",
      "South_Efate_sout2856a.csv\n",
      "South_Marquesan_sout2866.csv\n",
      "South_Tuvaluan_(Vaitupu)_sout2865.csv\n",
      "Sula_Fagudu_sula1245.csv\n",
      "Sula_Mangoli_mang1408.csv\n",
      "Sundanese_sund1252.csv\n",
      "Sungagage_mari1426i.csv\n",
      "Sungwadaga_mari1426b.csv\n",
      "Sungwadia_mari1426a.csv\n",
      "Sungwaloge_(Nalemba_Edward)_mari1426g.csv\n",
      "Sungwaloge_(Nalemba_Simeone_Tari)_mari1426f.csv\n",
      "Sungwaloge_(Navenvene)_mari1426d.csv\n",
      "Sungwaloge_(Tauta)_mari1426e.csv\n",
      "Sungwaloge_(Tawet)_mari1426c.csv\n",
      "Sunwadia_mari1426.csv\n",
      "Tadyawan_tady1237.csv\n",
      "Tagalog_taga1270.csv\n",
      "Tahitians_tahi1242.csv\n",
      "Tahitian_tahi1242.csv\n",
      "Tajio_taji1246.csv\n",
      "Takia_taki1248.csv\n",
      "Takuu_taku1257.csv\n",
      "Talibabu_tali1262.csv\n",
      "Talise_(Tolo)_tali1259.csv\n",
      "Tamambo_malo1243.csv\n",
      "Tanala_tana1285.csv\n",
      "Tanampedagi_Taje_taje1237b.csv\n",
      "Tangoa_(Movono)_tang1347.csv\n",
      "Tasiko_tasi1237.csv\n",
      "Taumako_taum1237.csv\n",
      "Tausug_(Sulu_Moro)_taus1251.csv\n",
      "Tausug_taus1251a.csv\n",
      "Tetum_(Tetun)_tetu1245.csv\n",
      "Tetun_Dili_(Tetum)_tetu1246.csv\n",
      "Thao_thao1240.csv\n",
      "Tiale_tial1239.csv\n",
      "Tialo_(Tomini)_tomi1243.csv\n",
      "Tigak_tiga1245.csv\n",
      "Tikopia_tiko1237.csv\n",
      "Tikopia_tiko1237a.csv\n",
      "Tirax_(Mae)_maee1241.csv\n",
      "Tiri-Mea_(Grand_Couli)_tiri1258.csv\n",
      "Tokelau_toke1240.csv\n",
      "Tokelau_toke1240a.csv\n",
      "Tokotu'a_(Kabaena)_kaba1285.csv\n",
      "Tolaki_tola1247.csv\n",
      "Tomadino_toma1248.csv\n",
      "Tombulu_tomb1243.csv\n",
      "Tongan_tong1325.csv\n",
      "Tongarevans_penr1237.csv\n",
      "Tonga_(Tonga_Islands)_tong1325.csv\n",
      "Tonsea_tons1240.csv\n",
      "Toqabaqita_toab1237.csv\n",
      "Torete_tore1237.csv\n",
      "Totoli_toto1304.csv\n",
      "Tubuai_tubu1240.csv\n",
      "Tukang_Besi_South_tuka1249.csv\n",
      "Tulambatu_tula1253.csv\n",
      "Tungag_tung1290.csv\n",
      "Tuvalu_(Nanumea)_tuva1244.csv\n",
      "Ulawa_ulaw1237.csv\n",
      "Uma_Juman_(Kayan)_umaj1240.csv\n",
      "Umiray_Dumaget_Agta_umir1236.csv\n",
      "Unua_unua1237.csv\n",
      "Urak_Lawoi_urak1238.csv\n",
      "Ura_urav1235.csv\n",
      "Uripiv-Wala-Rano-Atchin_urip1239.csv\n",
      "Vaekau-Taumako_pile1238.csv\n",
      "Vao_vaoo1237.csv\n",
      "Varisi_vari1239.csv\n",
      "Vera'a_vera1241.csv\n",
      "Vures_vure1239.csv\n",
      "Waia_waia1242.csv\n",
      "Wallisian_(East_Uvea)_wall1257.csv\n",
      "Waropen_waro1242.csv\n",
      "Waru_waru1266.csv\n",
      "Watut_watu1246.csv\n",
      "Wawonii_wawo1239.csv\n",
      "Weda_weda1240.csv\n",
      "Western_Bukidnon_Manobo_west2555.csv\n",
      "Western_Tawbuid_(Batangan)_west2559.csv\n",
      "West_Coast_Bajau_west2560.csv\n",
      "West_Futuna_west2515.csv\n",
      "Whitesands_whit1269.csv\n",
      "Wiwirano_wiwi1237.csv\n",
      "Wogeo_woge1237.csv\n",
      "Woleaian_wole1240.csv\n",
      "Wolio_woli1241.csv\n",
      "Wuvulu_Aua_wuvu1239.csv\n",
      "Xalangi_(Maevo_Vanuatu)_mari1426h.csv\n",
      "Xaracuu_(Canala)_xara1244.csv\n",
      "Yabem_yabe1254.csv\n",
      "Yakan_yaka1277.csv\n",
      "Yamdena_yamd1240.csv\n",
      "Yami_Tao__yami1254.csv\n",
      "Zabana_(Kia)_zaba1237.csv\n",
      "De_kwana_Maquiritari__maqu1238.csv\n",
      "Galibi_Carib_gali1262.csv\n",
      "Macushi_macu1259.csv\n",
      "Panare_enap1235.csv\n",
      "Pemon_pemo1248.csv\n",
      "Waimiri_Atroari_waim1253.csv\n",
      "Wai_Wai_waiw1244.csv\n",
      "Chenchu_chen1255.csv\n",
      "Dandami_Maria_dand1238.csv\n",
      "Gondi_gond1265.csv\n",
      "Kadar_kada1242.csv\n",
      "Kodava_koda1255.csv\n",
      "Koya_koya1251.csv\n",
      "Kui_kuii1252.csv\n",
      "Kurukh_kuru1302.csv\n",
      "Kuvi_kuvi1243.csv\n",
      "Malapandaram_mala1468.csv\n",
      "Malayalam_mala1464.csv\n",
      "Morgan1871_Canarese_nucl1305.csv\n",
      "Morgan1871_Tamil_tami1289.csv\n",
      "Morgan1871_Telugu_telu1262.csv\n",
      "Northern_Gondi_nort2702.csv\n",
      "Paliyan_pali1274.csv\n",
      "Tamil_tami1289.csv\n",
      "Telugu_telu1262.csv\n",
      "Toda_toda1252.csv\n",
      "Yerukula_yeru1240.csv\n",
      "Albanian_alba1267.csv\n",
      "Albanian_Tosk__tosk1239.csv\n",
      "Ancient_Greek_anci1242.csv\n",
      "Armenian_nucl1235.csv\n",
      "Assamese_assa1263.csv\n",
      "Avestan_aves1237.csv\n",
      "Balochi_balo1260.csv\n",
      "Belarusian_bela1254.csv\n",
      "Bengali_beng1280.csv\n",
      "Bihari_biha1245.csv\n",
      "Boers_afri1274.csv\n",
      "Breton_bret1244.csv\n",
      "Bulgarian_bulg1262.csv\n",
      "Central_Kurdish_cent1972.csv\n",
      "Chavacano_chav1241.csv\n",
      "Cornish_corn1251.csv\n",
      "Czech_czec1258.csv\n",
      "Danish_dani1285.csv\n",
      "Dari_dari1249.csv\n",
      "Dutch_dutc1256.csv\n",
      "Eastern_Armenian_east2283.csv\n",
      "Eastern_Pahari_Nepali__east1436.csv\n",
      "Eastern_Yiddish_east2295.csv\n",
      "English_stan1293.csv\n",
      "Frisian_fris1239.csv\n",
      "German_stan1295.csv\n",
      "Gothic_goth1244.csv\n",
      "Gujarati_guja1252.csv\n",
      "Hindi_hind1269.csv\n",
      "Hittite_hitt1242.csv\n",
      "Icelandic_icel1247.csv\n",
      "Irish_iris1253.csv\n",
      "Italian_ital1282.csv\n",
      "Jamaican_Creole_jama1262.csv\n",
      "Judeo_Tat_jude1256.csv\n",
      "Kashmiri_kash1277.csv\n",
      "Kriol_Roper_River_krio1252.csv\n",
      "Kristang_(Malacca_Creole_Portugese)_mala1533.csv\n",
      "Kumaoni_kuma1273.csv\n",
      "Lahnda_lahn1241.csv\n",
      "Latin_lati1261.csv\n",
      "Latin_lati1261a.csv\n",
      "Latvian_latv1249.csv\n",
      "Lithuanian_lith1251.csv\n",
      "Luxembourgish_luxe1241.csv\n",
      "Macedonian_mace1250.csv\n",
      "Mahasu_Pahari_maha1287.csv\n",
      "Maithili_mait1250.csv\n",
      "Marathi_mara1378.csv\n",
      "Marwari_India__marw1260.csv\n",
      "Middle_English_midd1317.csv\n",
      "Middle_High_German_midd1343.csv\n",
      "Modern_Greek_mode1248.csv\n",
      "Modern_Welsh_wels1247.csv\n",
      "Morgan1871_Bengâli_beng1280.csv\n",
      "Morgan1871_Gujarati_guja1252.csv\n",
      "Morgan1871_Hindi_hind1269.csv\n",
      "Morgan1871_Marâthî_mara1378.csv\n",
      "Negerhollands_nege1244.csv\n",
      "Nepali_nepa1254.csv\n",
      "Northern_Kurdish_nort2641.csv\n",
      "Norwegian_Bokmål_norw1259.csv\n",
      "Old_Church_Slavonic_chur1257.csv\n",
      "Old_English_ca_450_1100__olde1238.csv\n",
      "Old_Irish_oldi1245.csv\n",
      "Old_Norse_oldn1244.csv\n",
      "Old_Prussian_prus1238.csv\n",
      "Old_Russian_oldr1238.csv\n",
      "Old_Welsh_oldw1239.csv\n",
      "Oriya_oriy1255.csv\n",
      "Ossetian_osse1243.csv\n",
      "Ossetic_osse1245.csv\n",
      "Panjabi_panj1256.csv\n",
      "Pashto_pash1269.csv\n",
      "Polish_poli1260.csv\n",
      "Portuguese_port1283.csv\n",
      "Romanian_roma1327.csv\n",
      "Russian_russ1263.csv\n",
      "Russian_russ1263a.csv\n",
      "Sanskrit_sans1269.csv\n",
      "Sardinian_sard1257.csv\n",
      "Saterfriesisch_sate1242.csv\n",
      "Serbocroation_sout1528.csv\n",
      "Serbs_serb1264.csv\n",
      "Sindhi_sind1272.csv\n",
      "Sinhala_sinh1246.csv\n",
      "Slovakian_slov1269.csv\n",
      "Slovenian_slov1268.csv\n",
      "Standard_Catalan_stan1289.csv\n",
      "Standard_English_stan1293.csv\n",
      "Standard_French_stan1290.csv\n",
      "Standard_German_stan1295.csv\n",
      "Standard_Spanish_stan1288.csv\n",
      "Swedish_swed1254.csv\n",
      "Tajik_taji1245.csv\n",
      "Tokharian_A_tokh1242.csv\n",
      "Tokharian_B_tokh1243.csv\n",
      "Tok_Pisin_tokp1240.csv\n",
      "Torres_Strait_Creole_(Broken)_torr1261.csv\n",
      "Ukrainian_ukra1253.csv\n",
      "Urdu_urdu1245.csv\n",
      "Vlax_Romani_vlax1238.csv\n",
      "Wallon_wall1255.csv\n",
      "Western_Armenian_homs1234.csv\n",
      "Western_Farsi_west2369.csv\n",
      "Western_Panjabi_west2386.csv\n",
      "Aghul_aghu1253.csv\n",
      "Akhvakh_Northern_Akhvakh__akhv1239.csv\n",
      "Andi_andi1255.csv\n",
      "Archi_arch1244.csv\n",
      "Avar_Ancux__ancu1238.csv\n",
      "Avar_Andalal__anda1281.csv\n",
      "Avar_avar1256.csv\n",
      "Avar_Batlux__batl1238.csv\n",
      "Avar_Hid_dialect__hidd1238.csv\n",
      "Avaz_Khunzakh__kunz1243.csv\n",
      "Bahvalal_bagv1239.csv\n",
      "Bats_Tsova_Tush__bats1242.csv\n",
      "Bezhta_bezh1248.csv\n",
      "Budukh_budu1248.csv\n",
      "Chamalal_cham1309.csv\n",
      "Chamalal_Gigatli__giga1238.csv\n",
      "Dargwa_Chirag__chir1284.csv\n",
      "Dargwa_Itsari__itsa1239.csv\n",
      "Godoberi_ghod1238.csv\n",
      "Hinuq_hinu1240.csv\n",
      "Hunzib_hunz1247.csv\n",
      "Ingush_ingu1240.csv\n",
      "Inxokvari_inxo1238.csv\n",
      "Rutul_shin1265.csv\n",
      "East_Kewa_east2516.csv\n",
      "Erave_(South_Kewa)_erav1244.csv\n",
      "Kalam_kala1397.csv\n",
      "Komba_komb1273.csv\n",
      "Ku_Waru_boun1245.csv\n",
      "Kyaka_kyak1244.csv\n",
      "Proto_Sogeram_soge1235.csv\n",
      "West_Kewa_west2599.csv\n",
      "Abui_abui1241.csv\n",
      "Achuar_achu1249.csv\n",
      "Adang_adan1251.csv\n",
      "Agob-Ende-Kawam_agob1244.csv\n",
      "Aguaruna_agua1253.csv\n",
      "Alamblak_alam1246.csv\n",
      "Amanab_aman1265.csv\n",
      "Angaite_anga1316.csv\n",
      "ASF_Auslan_aust1271.csv\n",
      "Atsugewi_atsu1245.csv\n",
      "Au_auuu1241.csv\n",
      "Awa_imbo1238.csv\n",
      "Awiakay_awia1234.csv\n",
      "Ayoreo_ayor1240.csv\n",
      "Bardi_bard1254.csv\n",
      "Bari_bari1297.csv\n",
      "Baruya_baru1267.csv\n",
      "Basque_basq1248.csv\n",
      "Basque_west1508.csv\n",
      "Berik_beri1254.csv\n",
      "Bilua_bilu1245.csv\n",
      "Bininj_Kun-wok_gunw1252.csv\n",
      "Blagar_blag1240.csv\n",
      "Buin_buin1247.csv\n",
      "Cayubaba_cayu1262.csv\n",
      "Central_Aymara_cent2142.csv\n",
      "Cha_palaa_chac1249.csv\n",
      "Chimariko_chim1301.csv\n",
      "Chipaya_chip1262.csv\n",
      "Chiricahua_mesc1238.csv\n",
      "Coastal_Yuki_yuki1243b.csv\n",
      "Cocopa_coco1261.csv\n",
      "Cofan_cofa1242.csv\n",
      "Copper_Inuit_copp1244.csv\n",
      "Cruzeño_cruz1243.csv\n",
      "Cubeo_cube1242.csv\n",
      "Cusco_Quechua_cusc1236.csv\n",
      "Dalabon_ngal1292.csv\n",
      "Daribi_dadi1250.csv\n",
      "Degexit_an_dege1248.csv\n",
      "DeneTha_South_Slavey__sout2959.csv\n",
      "Dene_Suliné_chip1261.csv\n",
      "Dogrib_dogr1252.csv\n",
      "Doutai_dout1240.csv\n",
      "Duna_duna1248.csv\n",
      "Délįne_nort2942.csv\n",
      "Edopi_edop1238.csv\n",
      "Eipo_eipo1242.csv\n",
      "Ekari_ekar1243.csv\n",
      "Elamite_elam1244.csv\n",
      "Ende_(Papua_New_Guinea)_ende1235.csv\n",
      "Epena_epen1239.csv\n",
      "Eyak_eyak1241.csv\n",
      "Foi_foii1241.csv\n",
      "Fore_fore1270.csv\n",
      "Galeia_A_gale1259.csv\n",
      "Galeia_B_gale1259.csv\n",
      "Ganggalida_gang1267.csv\n",
      "Gimi_gimi1243.csv\n",
      "Grand_Valley_Dani_lowe1415.csv\n",
      "Gui_(Gwi)_gwii1239.csv\n",
      "Gününa_Küne_puel1244.csv\n",
      "Hewa_hewa1241.csv\n",
      "Hoti_Yuwana__yuwa1244.csv\n",
      "Huli_huli1244.csv\n",
      "Hunza_hunz1248.csv\n",
      "Hupa_hupa1239.csv\n",
      "I'saka_(Krisa)_kris1246.csv\n",
      "Iau_iauu1242.csv\n",
      "Idi_nucl1597.csv\n",
      "Inanwatan_(Suabo)_inan1242.csv\n",
      "Isirawa_isir1237.csv\n",
      "Itonama_iton1250.csv\n",
      "Iwam_iwam1256.csv\n",
      "Iyojwa_ja_Chorote_iyoj1235.csv\n",
      "Japanese_nucl1643.csv\n",
      "Jicarilla_jica1244.csv\n",
      "Jingulu_djin1251.csv\n",
      "Kalamang_kara1499.csv\n",
      "Kamang_kama1365.csv\n",
      "Kamano_kama1370.csv\n",
      "Kanum_kanu1280.csv\n",
      "Karok_karo1304.csv\n",
      "Kashaya_kash1280.csv\n",
      "Kaure_kaur1271.csv\n",
      "Kayardild_kaya1318.csv\n",
      "Kemiju_(Jate)_keya1238.csv\n",
      "Kemtuik_kemt1242.csv\n",
      "Ketengban_kete1254.csv\n",
      "Ket_kett1243.csv\n",
      "Kewa_east2516.csv\n",
      "Keyagana_(Jate)_keya1238.csv\n",
      "Khalkha-Mongolian_mong1331.csv\n",
      "Kilmeri_kilm1241.csv\n",
      "Kimaama_kima1246.csv\n",
      "Kiowa_Apache_kiow1264.csv\n",
      "Kiraman_kira1248.csv\n",
      "Kiwaian_sout2949.csv\n",
      "Klon_kelo1247.csv\n",
      "Kogi_cogu1240.csv\n",
      "Koiari_gras1249.csv\n",
      "Kombai_komb1274.csv\n",
      "Komnzo_komn1238.csv\n",
      "Konda_(Western_Dani)_west2594.csv\n",
      "Korafe_kora1295.csv\n",
      "Korowai_koro1312.csv\n",
      "Kuman_kuma1280.csv\n",
      "Kung_juho1239.csv\n",
      "Kunimaipa_kuni1267.csv\n",
      "Kunza_kunz1244.csv\n",
      "Kuot_kuot1243.csv\n",
      "Kwoma_kwom1262.csv\n",
      "Lake_Miwok_lake1258.csv\n",
      "Lardil_lard1243.csv\n",
      "Lengua_leng1262.csv\n",
      "Limilngan_limi1242.csv\n",
      "Lipan_Apache_lipa1241.csv\n",
      "Loloda-Laba_(Loda)_lolo1264.csv\n",
      "Maca_maca1260.csv\n",
      "Madole_modo1249.csv\n",
      "Mairasi_nucl1594.csv\n",
      "Maklew_makl1246.csv\n",
      "Mala_mala1294.csv\n",
      "Mali_mali1284.csv\n",
      "Mapudungun_mapu1245.csv\n",
      "Marind_nucl1622.csv\n",
      "Marra_mara1385.csv\n",
      "Mattole_matt1238.csv\n",
      "Maybrat_maib1239.csv\n",
      "Mblafe_mbla1238.csv\n",
      "Meriam_meri1244.csv\n",
      "Meyah_meya1236.csv\n",
      "Miani_mian1254.csv\n",
      "Midob_mido1240.csv\n",
      "Mocoví_moco1246.csv\n",
      "Momu-Fas_fass1245.csv\n",
      "Moni_moni1261.csv\n",
      "Monumbo_nucl1458.csv\n",
      "Morgan1871_Arikara_(Arickaree)_arik1262.csv\n",
      "Morgan1871_Assiniboine_(Asiniboine)_assi1247.csv\n",
      "Morgan1871_Baffin_Inuktitut_(Eskimo,_Northumberland_Inlet)_baff1241.csv\n",
      "Morgan1871_Cayuga_cayu1261.csv\n",
      "Morgan1871_Cherokee_cher1273.csv\n",
      "Morgan1871_Chibcha_(New_Granada)_chib1270.csv\n",
      "Morgan1871_Chickasa_chic1270.csv\n",
      "Morgan1871_Choctaw_(1)_choc1276.csv\n",
      "Morgan1871_Choctaw_(2)_choc1276.csv\n",
      "Morgan1871_Creek_cree1270.csv\n",
      "Morgan1871_Crow_crow1244.csv\n",
      "Morgan1871_Dakota_Blackfoot_lako1247.csv\n",
      "Morgan1871_Dakota_Brule_brul1239.csv\n",
      "Morgan1871_Dakota_Isauntie_dako1258.csv\n",
      "Morgan1871_Dakota_Ogalalla_lako1247.csv\n",
      "Morgan1871_Dakota_Sisseton_dako1258.csv\n",
      "Morgan1871_Dakota_Uncpapa_lako1247.csv\n",
      "Morgan1871_Dakota_Yanktonais_dako1258.csv\n",
      "Morgan1871_Dakota_Yankton_dako1258.csv\n",
      "Morgan1871_Grand_Pawnee_pawn1254.csv\n",
      "Morgan1871_Hare_Indians_or_Tä-nä'-tin-ne_hare1243.csv\n",
      "Morgan1871_Iowä_iowa1245.csv\n",
      "Morgan1871_Japanese_japa1256.csv\n",
      "Morgan1871_Kalaallisut_(Eskimo,_Greenland)_kala1399.csv\n",
      "Morgan1871_Kaw_kans1243.csv\n",
      "Morgan1871_Kootenay_kute1249.csv\n",
      "Morgan1871_Kǔtchin,_or_Louchieux_gwic1235.csv\n",
      "Morgan1871_Laguna_west2632.csv\n",
      "Morgan1871_Mandan_mand1446.csv\n",
      "Morgan1871_Minnitaree_hida1246.csv\n",
      "Morgan1871_Mohawk_moha1258.csv\n",
      "Morgan1871_Mountain_Cherokee_cher1273.csv\n",
      "Morgan1871_Omahä_omah1247.csv\n",
      "Morgan1871_Oneida_onei1249.csv\n",
      "Morgan1871_Onondaga_onon1246.csv\n",
      "Morgan1871_Osage_osag1243.csv\n",
      "Morgan1871_Otoe_otoo1241.csv\n",
      "Morgan1871_Punkä_ponc1241.csv\n",
      "Morgan1871_Red-knife,_or_Täl-sote'e-nä_dogr1252.csv\n",
      "Morgan1871_Republican_Pawnee_pawn1254.csv\n",
      "Morgan1871_Seneca_sene1264.csv\n",
      "Morgan1871_Slave_Lake_Indians_or_A-cha'o-tin-ne_slav1253.csv\n",
      "Morgan1871_Tabasco_Chontal_(Chontal_Tabasco)_taba1266.csv\n",
      "Morgan1871_Tesuque_tesu1245.csv\n",
      "Morgan1871_Tukuthe_gwic1235.csv\n",
      "Morgan1871_Tuscarora_tusc1257.csv\n",
      "Morgan1871_Two_Mountain_Iroquios_laur1250.csv\n",
      "Morgan1871_Western_Canadian_Inuktitut_(Eskimo,_West_of_Hudson's_Bay)_west2618.csv\n",
      "Morgan1871_Winnebagoe_winn1245.csv\n",
      "Morgan1871_Wyandote_wyan1247.csv\n",
      "Morgan1871_Yakama_yaki1237.csv\n",
      "Mosetén_Chimané_mose1249.csv\n",
      "Movima_movi1243.csv\n",
      "Muisca_Chibcha__chib1270.csv\n",
      "Murrinhpatha_murr1258.csv\n",
      "Nagovisi_sibe1248.csv\n",
      "Nama_nama1266.csv\n",
      "Nambo_namb1293.csv\n",
      "Nasioi_naas1242.csv\n",
      "Navajo_nava1243.csv\n",
      "Negwa_(Yagwoia)_yagw1240.csv\n",
      "Neme_neme1244.csv\n",
      "Nen_nenn1238.csv\n",
      "Nen_nenn1238a.csv\n",
      "Netsilik_nets1241.csv\n",
      "Nimboran_nucl1633.csv\n",
      "Ninam_nina1238.csv\n",
      "Nivacle_niva1238.csv\n",
      "Northeastern_Maidu_nort2952.csv\n",
      "Northern_Embera_nort2972.csv\n",
      "Northern_Haida_nort2938.csv\n",
      "Northern_Pomo_nort2966.csv\n",
      "NorthMuyu_nort2916.csv\n",
      "Northwestern_Maidu_nort2951.csv\n",
      "Nunamiut_nort2944.csv\n",
      "Nungon_yaum1237.csv\n",
      "Nuu_Chah_Nulth_nuuc1236.csv\n",
      "Nyulnyul_nyul1247.csv\n",
      "Onobasulu_onob1238.csv\n",
      "Pagu_pagu1249.csv\n",
      "Pilagá_pila1245.csv\n",
      "Puinave_puin1248.csv\n",
      "Pumé_pume1238.csv\n",
      "Páez_paez1247.csv\n",
      "Qawasquar_qawa1238.csv\n",
      "Quechan_quec1382.csv\n",
      "Riantana_rian1263.csv\n",
      "Rotokas_roto1249.csv\n",
      "Sanapana_sana1298.csv\n",
      "Savosavo_savo1255.csv\n",
      "Sawi_sawi1257.csv\n",
      "Selk_nam_onaa1245.csv\n",
      "Seri_seri1257.csv\n",
      "Setaman_Baktamin_seta1246.csv\n",
      "Shasta_shas1239.csv\n",
      "Sion_sion1247.csv\n",
      "Siwai_Motuna_siwa1245.csv\n"
     ]
    },
    {
     "name": "stdout",
     "output_type": "stream",
     "text": [
      "Sougb_mani1235.csv\n",
      "Southern_Coastal_Tsimshian_nucl1649.csv\n",
      "Suki_suki1245.csv\n",
      "Tabla_tabl1243.csv\n",
      "Taiap_taia1239.csv\n",
      "Tehuelche_tehu1242.csv\n",
      "Teiwa_teiw1235.csv\n",
      "Telefol_tele1256.csv\n",
      "Tidore_(version_1)_tido1248.csv\n",
      "Tidore_(version_2)_tido1248a.csv\n",
      "Tidore_tido1249.csv\n",
      "Tlingit_tlin1245.csv\n",
      "Toba_toba1269.csv\n",
      "Tolowa_tolo1259.csv\n",
      "Touo_touo1238.csv\n",
      "Trumai_trum1247.csv\n",
      "Tsafiki_colo1249.csv\n",
      "Tucanoan_Bará_waim1255.csv\n",
      "Tucano_tuca1252.csv\n",
      "Tuyuca_tuyu1244.csv\n",
      "Tzeltal_tzel1254.csv\n",
      "Umbu-Ungu_umbu1258.csv\n",
      "Usurufa_usar1243.csv\n",
      "Waffa_waff1241.csv\n",
      "Wailaki_wail1244.csv\n",
      "Wambaya_wamb1258.csv\n",
      "Waorani_waor1240.csv\n",
      "Wappo_wapp1239.csv\n",
      "Wari__wari1268.csv\n",
      "Warta_Thuntai_gunt1241.csv\n",
      "Watam_wata1253.csv\n",
      "Wersing_wers1238.csv\n",
      "Western_Apache_west2615.csv\n",
      "Western_Pantar_lamm1241.csv\n",
      "Wichí_wich1264.csv\n",
      "Wipi_wipi1242.csv\n",
      "Xibe_xibe1242.csv\n",
      "Yale_kosa1249.csv\n",
      "Yalic_yali1257.csv\n",
      "Yamana_yama1264.csv\n",
      "Yanomámi_yano1262.csv\n",
      "Yawa_nucl1454.csv\n",
      "Yele_(Yélî_Dnye)_yele1255.csv\n",
      "Yelmek_yelm1242.csv\n",
      "Yucatec_Maya_yuca1254.csv\n",
      "Yuki_yuki1243.csv\n",
      "Yukulta_(Ganggalida)_gang1267a.csv\n",
      "Yuracare_yura1255.csv\n",
      "Zuni_zuni1245.csv\n",
      "Adnyamathanha_adny1235.csv\n",
      "Alyawarr_alya1239.csv\n",
      "Arabana_arab1267.csv\n",
      "Arabana_arab1267a.csv\n",
      "Badimaya_badi1246.csv\n",
      "Bandjalang_band1339.csv\n",
      "Bindal_bind1236.csv\n",
      "Biri_biri1256.csv\n",
      "Bunganditj_bung1264.csv\n",
      "Dharumbal_dhar1248.csv\n",
      "Dharumbal_dhar1248a.csv\n",
      "Dhuwal-Dhuwala_(Yolngu)_dhuw1248.csv\n",
      "Dhuwal_dhuw1249.csv\n",
      "Diyari_dier1241.csv\n",
      "Diyari_dier1241a.csv\n",
      "Djambarrpuyngu_djam1256.csv\n",
      "Djapu_dhuw1249.csv\n",
      "Djinang_djin1253.csv\n",
      "Djinang_djin1253a.csv\n",
      "Duungidjawu_duun1241.csv\n",
      "Dyirbal_dyir1250.csv\n",
      "FlindersIsland_flin1247.csv\n",
      "Gumatj_guma1253.csv\n",
      "Gumbaynggir_kumb1268.csv\n",
      "Gunya_guny1241.csv\n",
      "Gupapuyngu_gupa1247.csv\n",
      "Gurindji_guri1247.csv\n",
      "Guugu_Yimidhirr_gugu1255.csv\n",
      "Guugu_Yimidhirr_gugu1255a.csv\n",
      "Jaru_jaru1254.csv\n",
      "Kala_Lagaw_Ya_kala1377.csv\n",
      "Kalkatungu_kalk1246.csv\n",
      "Karajarri_kara1476.csv\n",
      "Kariyarra_kari1304.csv\n",
      "Kartujarra_kart1247.csv\n",
      "Karuwali_karr1236.csv\n",
      "Kaurna_kaur1267.csv\n",
      "Kukatja_kuka1246.csv\n",
      "Kuku-Yalanji_kuku1273.csv\n",
      "KukuYalanji_kuku1273.csv\n",
      "Kunjen_kunj1248.csv\n",
      "Kuuku_Ya'u_kuuk1238.csv\n",
      "Malgana_malg1242.csv\n",
      "Malgana_malg1242a.csv\n",
      "Margany_marg1253.csv\n",
      "MartuWangka_mart1256.csv\n",
      "Mudburra_mudb1240.csv\n",
      "Muruwari_muru1266.csv\n",
      "Ngaanyatjarra_ngaa1240.csv\n",
      "Ngaatjatjarra_ngaa1240.csv\n",
      "Ngadjumaya_ngad1258.csv\n",
      "Ngarinyman_ngar1235.csv\n",
      "Ngarla_ngar1286.csv\n",
      "Ngarluma_ngar1287.csv\n",
      "Ngarrindjeri_narr1259.csv\n",
      "Ngiyambaa_wang1291.csv\n",
      "Nhanta_nhan1238.csv\n",
      "Nyamal_nyam1271.csv\n",
      "Nyangumarta_nyan1301.csv\n",
      "Nyawaygi_nyaw1247.csv\n",
      "Paakantyi_darl1243.csv\n",
      "Payungu_bayu1240.csv\n",
      "PintupiLuritja_pint1250.csv\n",
      "Pirriya_pirr1240.csv\n",
      "Pitjantjatjara_pitj1243.csv\n",
      "Pitta_Pitta_pitt1247.csv\n",
      "Ritharrngu_rita1239.csv\n",
      "Thayore_(Kuuk_Thaayorre)_thay1249.csv\n",
      "Umpila_umpi1239.csv\n",
      "Uradhi_(Atampaya)_atam1239.csv\n",
      "Wajarri_waja1257.csv\n",
      "Wakaya_waga1260.csv\n",
      "Wangkajunga_wang1288.csv\n",
      "Wangkangurru_wang1290.csv\n",
      "Wangkangurru_wang1290a.csv\n",
      "Wangkumara_wong1246.csv\n",
      "Warlmanpa_warl1255.csv\n",
      "Warlpiri_warl1254.csv\n",
      "Warlpiri_warl1254a.csv\n",
      "Warnman_wanm1242.csv\n",
      "Warrnambool_warr1257.csv\n",
      "Warumungu_waru1265.csv\n",
      "Warungu_waru1264.csv\n",
      "Wathwurrung_wath1238.csv\n",
      "WikMungkan_wikm1247.csv\n",
      "Wiradjuri_wira1262.csv\n",
      "Wirangu_wira1265.csv\n",
      "Woiwurrung_woiw1237.csv\n",
      "Wulguru_wulg1239.csv\n",
      "Yadhaykenu_yadh1237.csv\n",
      "Yalarnnga_yala1262.csv\n",
      "Yalarnnga_yala1262a.csv\n",
      "Yandruwandha_yand1253.csv\n",
      "Yandruwandha_yand1253a.csv\n",
      "Yanyuwa_yany1243.csv\n",
      "Yarluyandi_ngam1265.csv\n",
      "Yidiny_yidi1250.csv\n",
      "Yidiny_yidi1250a.csv\n",
      "Yindjibarndi_yind1247.csv\n",
      "Yir-Yoront_yiry1245.csv\n",
      "Yorta_Yorta_yort1237.csv\n",
      "Yugambal_(Yugambeh)_yuga1244.csv\n",
      "Yugambeh_yugu1249.csv\n",
      "Yulparija_yulp1239.csv\n",
      "Yuwaalaraay_gami1243.csv\n",
      "Shipibo_ship1254.csv\n",
      "Morgan1871_Okinaken_okan1243.csv\n",
      "Morgan1871_Spokäne_spok1245.csv\n",
      "Burmese_nucl1310.csv\n",
      "Chepang_chep1245.csv\n",
      "Dzonghka_Lhop_dzon1239.csv\n",
      "Dzonghka_Sha_dzon1239.csv\n",
      "Dzonghka_Wang_wang1287.csv\n",
      "Jinghpaw_jing1260.csv\n",
      "Lisu_lisu1250a.csv\n",
      "Lisu_lisu1250b.csv\n",
      "Lisu_lisu1250c.csv\n",
      "Lisu_lisu1250d.csv\n",
      "Manange_mana1288.csv\n",
      "Morgan1871_Burmese_burm1266.csv\n",
      "Morgan1871_Chinese_sini1245.csv\n",
      "Morgan1871_Karen_(Pwo_dialect)_pwoo1239.csv\n",
      "Morgan1871_Karen_(Sgau_dialect)_sgaw1245.csv\n",
      "Morgan1871_Karen_kare1337.csv\n",
      "Prakaa_prak1243.csv\n",
      "Sangtam_Naga_sang1321.csv\n",
      "Sherpa_sher1255.csv\n",
      "Suzhou_shan1293.csv\n",
      "Suzhou_suzh1234.csv\n",
      "Dehong_deho1238.csv\n",
      "Turung_turu1249.csv\n",
      "Aché_ache1246.csv\n",
      "Anambé_anam1249.csv\n",
      "Araweté_araw1273.csv\n",
      "Avá_Canoeiro_avac1239.csv\n",
      "Awetí_awet1244.csv\n",
      "Chiriguano_east2555.csv\n",
      "Cinta_Larga_cint1239.csv\n",
      "Cocama_Cocamilla_coca1259.csv\n",
      "Emerillon_emer1243.csv\n",
      "Guajá_guaj1256.csv\n",
      "Guarayu_guar1292.csv\n",
      "Jurúna_juru1256.csv\n",
      "Kaiwá_kaiw1246.csv\n",
      "Kamayurá_kama1373.csv\n",
      "Karitiana_kari1311.csv\n",
      "Kayabí_kaya1329.csv\n",
      "Mbyá_Guaraní_mbya1239.csv\n",
      "Mundurukú_mund1330.csv\n",
      "Paraguayan_Guaraní_para1311.csv\n",
      "Parakanã_para1312.csv\n",
      "Pauserna_paus1244.csv\n",
      "Proto_Tupi_Guarani_tupi1276.csv\n",
      "Sateré_Mawé_sate1243.csv\n",
      "Sirionó_siri1273.csv\n",
      "Suruí_suru1262.csv\n",
      "Tapirapé_tapi1254.csv\n",
      "Tembé_temb1276.csv\n",
      "Tenharim_tenh1241.csv\n",
      "Tocantins_Asurini_toca1235.csv\n",
      "Tupinambá_tupi1273.csv\n",
      "Tupí_tupi1274.csv\n",
      "Wayampi_waya1270.csv\n",
      "Kazakh_kaza1248.csv\n",
      "Kumyk_kumy1244.csv\n",
      "Nogai_noga1249.csv\n",
      "North_Azerbaijani_nort2697.csv\n",
      "Turkish_nucl1301.csv\n",
      "ErzyaMordvin_erzy1239.csv\n",
      "Erzya_erzy1239.csv\n",
      "Estonian_esto1258.csv\n",
      "Finnish_finn1318.csv\n",
      "ForestEnets_fore1265.csv\n",
      "HillMari_west2392.csv\n",
      "Hungarian_hung1274.csv\n",
      "Ingrian_ingr1248.csv\n",
      "KazymKhanty_nort2672.csv\n",
      "Kazym_Berezover_Suryskarer_Khanty_khan1273.csv\n",
      "KomiZyrian_komi1268.csv\n",
      "Komi_Zyrian_komi1268.csv\n",
      "Livonian_livv1244.csv\n",
      "Magyar_hung1274.csv\n",
      "Mansi_mans1258.csv\n",
      "Mari_east2328.csv\n",
      "MeadowMari_gras1239.csv\n",
      "MokshaMordvin_moks1248.csv\n",
      "Nganasan_ngan1291.csv\n",
      "Northern_Sami_nort2671.csv\n",
      "NorthSaami_nort2671.csv\n",
      "Selkup_selk1253.csv\n",
      "SkoltSaami_skol1241.csv\n",
      "SosvaMansi_nort2677.csv\n",
      "SouthSaami_sout2674.csv\n",
      "TundraNenets_nene1249.csv\n",
      "Tundra_Nenets_nene1249.csv\n",
      "Udmurt_udmu1245.csv\n",
      "Veps_veps1250.csv\n",
      "Arizona_Yaqui_yaqu1251a.csv\n",
      "Aztec_clas1250.csv\n",
      "Bannock_bann1248.csv\n",
      "Cahuilla_cahu1264.csv\n",
      "Chemehuevi_chem1251.csv\n",
      "Colorado_Ute_utee1244a.csv\n",
      "Comanche_coma1245.csv\n",
      "Cora_elna1235.csv\n",
      "Cupeño_cupe1243.csv\n",
      "Eudeve_eude1234.csv\n",
      "Gabrielino_tong1329.csv\n",
      "Guarijio_huar1255.csv\n",
      "Highland_Puebla_Nahuatl_high1278.csv\n",
      "Hopi_hopi1249.csv\n",
      "Hopi_S__hopi1249b.csv\n",
      "Huastec_Nahuatl_huas1257.csv\n",
      "Huichol_huic1243.csv\n",
      "Kawaiisu_kawa1283.csv\n",
      "Kitanemuk_serr1255b.csv\n",
      "Lower_Pima_Pima_Bajo_pima1248.csv\n",
      "Luiseńo_luis1253.csv\n",
      "Mayo_mayo1264.csv\n",
      "Mono_mono1275.csv\n",
      "Morgan1871_Utahs_(Tabegwaches)_utes1238.csv\n",
      "Nevome_pima1248b.csv\n",
      "Northern_Paiute_nort2954.csv\n",
      "Northern_Tepehuan_nort2959.csv\n",
      "North_Northern_Paiute_nort1551.csv\n",
      "Opata_opat1246.csv\n",
      "Pima_de_Yepáchic_chih1238.csv\n",
      "Pipil_pipi1250.csv\n",
      "Serrano_serr1255.csv\n",
      "Shoshoni_shos1248.csv\n",
      "Southeastern_Tepehuano_sout2976.csv\n",
      "Southern_Paiute_sout2969.csv\n",
      "Southern_Tepehuan_sout2975.csv\n",
      "Southern_Tepehuan_W__sout2977.csv\n",
      "Southern_Ute_utee1244.csv\n",
      "Tarahumara_cent2131.csv\n",
      "Tohono_O_odham_toho1245.csv\n",
      "Tubar_tuba1279.csv\n",
      "Tübatülabal_tuba1278.csv\n",
      "Tümpisha_Shoshoni_pana1305.csv\n",
      "Western_Shoshoni_west2622.csv\n",
      "White_Mesa_Ute_utee1244b.csv\n",
      "Yaqui_yaqu1251.csv\n"
     ]
    },
    {
     "data": {
      "text/html": [
       "<div>\n",
       "<style scoped>\n",
       "    .dataframe tbody tr th:only-of-type {\n",
       "        vertical-align: middle;\n",
       "    }\n",
       "\n",
       "    .dataframe tbody tr th {\n",
       "        vertical-align: top;\n",
       "    }\n",
       "\n",
       "    .dataframe thead th {\n",
       "        text-align: right;\n",
       "    }\n",
       "</style>\n",
       "<table border=\"1\" class=\"dataframe\">\n",
       "  <thead>\n",
       "    <tr style=\"text-align: right;\">\n",
       "      <th></th>\n",
       "      <th>language</th>\n",
       "      <th>language_family</th>\n",
       "      <th>code</th>\n",
       "      <th>simulation_code</th>\n",
       "      <th>simulation</th>\n",
       "      <th>mutual_information</th>\n",
       "      <th>entropy_gn</th>\n",
       "      <th>entropy_gn1</th>\n",
       "      <th>conditional_entropy</th>\n",
       "      <th>variation_gn</th>\n",
       "      <th>variation_gn1</th>\n",
       "      <th>number_of_pairs</th>\n",
       "    </tr>\n",
       "  </thead>\n",
       "  <tbody>\n",
       "    <tr>\n",
       "      <th>0</th>\n",
       "      <td>Akkadian</td>\n",
       "      <td>Afro-Asiatic</td>\n",
       "      <td>akka1240</td>\n",
       "      <td>akka1240_REAL</td>\n",
       "      <td>N</td>\n",
       "      <td>0.00000</td>\n",
       "      <td>2.25000</td>\n",
       "      <td>1.00000</td>\n",
       "      <td>1.00000</td>\n",
       "      <td>5</td>\n",
       "      <td>2</td>\n",
       "      <td>10</td>\n",
       "    </tr>\n",
       "    <tr>\n",
       "      <th>1</th>\n",
       "      <td>Amharic</td>\n",
       "      <td>Afro-Asiatic</td>\n",
       "      <td>amha1245</td>\n",
       "      <td>amha1245_REAL</td>\n",
       "      <td>N</td>\n",
       "      <td>1.58497</td>\n",
       "      <td>2.25163</td>\n",
       "      <td>1.91830</td>\n",
       "      <td>0.33333</td>\n",
       "      <td>6</td>\n",
       "      <td>4</td>\n",
       "      <td>10</td>\n",
       "    </tr>\n",
       "    <tr>\n",
       "      <th>2</th>\n",
       "      <td>Hausa</td>\n",
       "      <td>Afro-Asiatic</td>\n",
       "      <td>haus1257</td>\n",
       "      <td>haus1257_REAL</td>\n",
       "      <td>N</td>\n",
       "      <td>0.58496</td>\n",
       "      <td>1.58496</td>\n",
       "      <td>2.25163</td>\n",
       "      <td>1.66667</td>\n",
       "      <td>5</td>\n",
       "      <td>5</td>\n",
       "      <td>12</td>\n",
       "    </tr>\n",
       "    <tr>\n",
       "      <th>3</th>\n",
       "      <td>Lebanese_Arabic</td>\n",
       "      <td>Afro-Asiatic</td>\n",
       "      <td>stan1323</td>\n",
       "      <td>stan1323_REAL</td>\n",
       "      <td>N</td>\n",
       "      <td>1.58219</td>\n",
       "      <td>2.57770</td>\n",
       "      <td>2.58219</td>\n",
       "      <td>1.00000</td>\n",
       "      <td>6</td>\n",
       "      <td>6</td>\n",
       "      <td>12</td>\n",
       "    </tr>\n",
       "    <tr>\n",
       "      <th>4</th>\n",
       "      <td>Old_Aramaic</td>\n",
       "      <td>Afro-Asiatic</td>\n",
       "      <td>olda1245</td>\n",
       "      <td>olda1245_REAL</td>\n",
       "      <td>N</td>\n",
       "      <td>1.00000</td>\n",
       "      <td>2.00000</td>\n",
       "      <td>2.00000</td>\n",
       "      <td>1.00000</td>\n",
       "      <td>5</td>\n",
       "      <td>4</td>\n",
       "      <td>10</td>\n",
       "    </tr>\n",
       "    <tr>\n",
       "      <th>...</th>\n",
       "      <td>...</td>\n",
       "      <td>...</td>\n",
       "      <td>...</td>\n",
       "      <td>...</td>\n",
       "      <td>...</td>\n",
       "      <td>...</td>\n",
       "      <td>...</td>\n",
       "      <td>...</td>\n",
       "      <td>...</td>\n",
       "      <td>...</td>\n",
       "      <td>...</td>\n",
       "      <td>...</td>\n",
       "    </tr>\n",
       "    <tr>\n",
       "      <th>1067</th>\n",
       "      <td>Tubar</td>\n",
       "      <td>Uto-Aztecan</td>\n",
       "      <td>tuba1279</td>\n",
       "      <td>tuba1279_REAL</td>\n",
       "      <td>N</td>\n",
       "      <td>0.00000</td>\n",
       "      <td>1.52193</td>\n",
       "      <td>-0.00000</td>\n",
       "      <td>-0.00000</td>\n",
       "      <td>3</td>\n",
       "      <td>1</td>\n",
       "      <td>3</td>\n",
       "    </tr>\n",
       "    <tr>\n",
       "      <th>1068</th>\n",
       "      <td>Tübatülabal</td>\n",
       "      <td>Uto-Aztecan</td>\n",
       "      <td>tuba1278</td>\n",
       "      <td>tuba1278_REAL</td>\n",
       "      <td>N</td>\n",
       "      <td>0.00000</td>\n",
       "      <td>0.91830</td>\n",
       "      <td>1.00000</td>\n",
       "      <td>1.00000</td>\n",
       "      <td>2</td>\n",
       "      <td>2</td>\n",
       "      <td>4</td>\n",
       "    </tr>\n",
       "    <tr>\n",
       "      <th>1069</th>\n",
       "      <td>Tümpisha_Shoshoni</td>\n",
       "      <td>Uto-Aztecan</td>\n",
       "      <td>pana1305</td>\n",
       "      <td>pana1305_REAL</td>\n",
       "      <td>N</td>\n",
       "      <td>0.88654</td>\n",
       "      <td>2.17574</td>\n",
       "      <td>2.58219</td>\n",
       "      <td>1.69565</td>\n",
       "      <td>6</td>\n",
       "      <td>6</td>\n",
       "      <td>16</td>\n",
       "    </tr>\n",
       "    <tr>\n",
       "      <th>1070</th>\n",
       "      <td>White_Mesa_Ute</td>\n",
       "      <td>Uto-Aztecan</td>\n",
       "      <td>utee1244b</td>\n",
       "      <td>utee1244b_REAL</td>\n",
       "      <td>N</td>\n",
       "      <td>0.00000</td>\n",
       "      <td>-0.00000</td>\n",
       "      <td>-0.00000</td>\n",
       "      <td>-0.00000</td>\n",
       "      <td>1</td>\n",
       "      <td>1</td>\n",
       "      <td>1</td>\n",
       "    </tr>\n",
       "    <tr>\n",
       "      <th>1071</th>\n",
       "      <td>Yaqui</td>\n",
       "      <td>Uto-Aztecan</td>\n",
       "      <td>yaqu1251</td>\n",
       "      <td>yaqu1251_REAL</td>\n",
       "      <td>N</td>\n",
       "      <td>0.00000</td>\n",
       "      <td>1.84237</td>\n",
       "      <td>1.00000</td>\n",
       "      <td>1.00000</td>\n",
       "      <td>4</td>\n",
       "      <td>2</td>\n",
       "      <td>8</td>\n",
       "    </tr>\n",
       "  </tbody>\n",
       "</table>\n",
       "<p>1072 rows × 12 columns</p>\n",
       "</div>"
      ],
      "text/plain": [
       "               language language_family       code simulation_code simulation  \\\n",
       "0              Akkadian    Afro-Asiatic   akka1240   akka1240_REAL          N   \n",
       "1               Amharic    Afro-Asiatic   amha1245   amha1245_REAL          N   \n",
       "2                 Hausa    Afro-Asiatic   haus1257   haus1257_REAL          N   \n",
       "3       Lebanese_Arabic    Afro-Asiatic   stan1323   stan1323_REAL          N   \n",
       "4           Old_Aramaic    Afro-Asiatic   olda1245   olda1245_REAL          N   \n",
       "...                 ...             ...        ...             ...        ...   \n",
       "1067              Tubar     Uto-Aztecan   tuba1279   tuba1279_REAL          N   \n",
       "1068        Tübatülabal     Uto-Aztecan   tuba1278   tuba1278_REAL          N   \n",
       "1069  Tümpisha_Shoshoni     Uto-Aztecan   pana1305   pana1305_REAL          N   \n",
       "1070     White_Mesa_Ute     Uto-Aztecan  utee1244b  utee1244b_REAL          N   \n",
       "1071              Yaqui     Uto-Aztecan   yaqu1251   yaqu1251_REAL          N   \n",
       "\n",
       "      mutual_information  entropy_gn  entropy_gn1  conditional_entropy  \\\n",
       "0                0.00000     2.25000      1.00000              1.00000   \n",
       "1                1.58497     2.25163      1.91830              0.33333   \n",
       "2                0.58496     1.58496      2.25163              1.66667   \n",
       "3                1.58219     2.57770      2.58219              1.00000   \n",
       "4                1.00000     2.00000      2.00000              1.00000   \n",
       "...                  ...         ...          ...                  ...   \n",
       "1067             0.00000     1.52193     -0.00000             -0.00000   \n",
       "1068             0.00000     0.91830      1.00000              1.00000   \n",
       "1069             0.88654     2.17574      2.58219              1.69565   \n",
       "1070             0.00000    -0.00000     -0.00000             -0.00000   \n",
       "1071             0.00000     1.84237      1.00000              1.00000   \n",
       "\n",
       "      variation_gn  variation_gn1  number_of_pairs  \n",
       "0                5              2               10  \n",
       "1                6              4               10  \n",
       "2                5              5               12  \n",
       "3                6              6               12  \n",
       "4                5              4               10  \n",
       "...            ...            ...              ...  \n",
       "1067             3              1                3  \n",
       "1068             2              2                4  \n",
       "1069             6              6               16  \n",
       "1070             1              1                1  \n",
       "1071             4              2                8  \n",
       "\n",
       "[1072 rows x 12 columns]"
      ]
     },
     "execution_count": 61,
     "metadata": {},
     "output_type": "execute_result"
    }
   ],
   "source": [
    "calculate_MI(families,'kinbank_mi_UPDATED_NEW_KINTYPES')"
   ]
  },
  {
   "cell_type": "markdown",
   "id": "5622ea1b",
   "metadata": {},
   "source": [
    "## Simulating kinship systems\n",
    "\n",
    "To investigate whether kinship systems have higher mutual information than chance, we can build a random baseline for each language to serve as a point of comparison.\n",
    "\n",
    "To do this, we will take each language in our dataset, and randomly scramble which terms go with which relatives (within generations). This will randomise the syncretisms within the paradigm, breaking any predictable structure built by the internal co-selection process, while maintaining the amount of variation across the system overall.\n",
    " \n",
    "We take the following steps:\n",
    "\n",
    "1. Extract the kinship system of a language from kinbank.\n",
    "2. Filter the two generations we are interested in.\n",
    "3. Randomly reassign the kinship terms to new types.\n",
    "4. Repeat the process 1000 times for each language.\n",
    "\n",
    "We already have the infrastructure for the first two! `get_kin_terms()`,  `get_pairs()` and `split_pairs()` will do this for us. So let's skip to 3, and write a function that randomises which terms form pairs, assuming that we have already extracted the kinship system and filtered the relevant pairs.\n",
    "\n",
    "### 3. Randomly rearrange kin terms\n",
    "\n",
    "`kintypes.py` also contains a list of which kin types are in which generation, which we can use to split a kinship system by generation."
   ]
  },
  {
   "cell_type": "code",
   "execution_count": 62,
   "id": "ffdacb9e",
   "metadata": {},
   "outputs": [],
   "source": [
    "def split_ks(ks):\n",
    "    gn = {}\n",
    "    gn1 = {}\n",
    "    for entry in ks:\n",
    "        if entry in kt.generation_n:\n",
    "            gn[entry] = ks[entry]\n",
    "        elif entry in kt.generation_n1:\n",
    "            gn1[entry] = ks[entry]\n",
    "        else:\n",
    "            pass\n",
    "\n",
    "    return gn,gn1        "
   ]
  },
  {
   "cell_type": "markdown",
   "id": "1d7ef4b2",
   "metadata": {},
   "source": [
    "Once the kinship system is split, we can then shuffle one of the generations and recombine the system."
   ]
  },
  {
   "cell_type": "code",
   "execution_count": 63,
   "id": "d0aad70d",
   "metadata": {},
   "outputs": [],
   "source": [
    "def shuffle_ks(ks):\n",
    "    gn_terms = []\n",
    "    gn,gn1 = split_ks(ks)\n",
    "    for term in gn:\n",
    "        gn_terms.append(gn[term])\n",
    "\n",
    "    random.shuffle(gn_terms)\n",
    "    \n",
    "    for i in range(len(gn)):\n",
    "        # print(i)\n",
    "        key = list(gn.keys())[i]\n",
    "        ks[key] = gn_terms[i]\n",
    "\n",
    "    return ks"
   ]
  },
  {
   "cell_type": "markdown",
   "id": "8490a175",
   "metadata": {},
   "source": [
    "If we split the kinship system, shuffle the G0 terms, and stick the system back together, then we can use `get_pairs()` just as we did for the real kinship systems to filter out the two generations we're interested in. From there, we can calculate MI for each simulation and save the data in a similar way as before."
   ]
  },
  {
   "cell_type": "code",
   "execution_count": 64,
   "id": "2677fd3b",
   "metadata": {},
   "outputs": [],
   "source": [
    "def simulate_ks(ks: dict) -> list:\n",
    "    simulation = shuffle_ks(ks)\n",
    "    shuffled_pairs = get_pairs(simulation)\n",
    "    return shuffled_pairs"
   ]
  },
  {
   "cell_type": "code",
   "execution_count": 65,
   "id": "8d9b1f53",
   "metadata": {},
   "outputs": [],
   "source": [
    "def simulate_MI(families: list, filename: str, times: int):\n",
    "    df = []\n",
    "    codes = []\n",
    "    filepath = '../../kinbank-family/'\n",
    "    \n",
    "    for family in tqdm(families):\n",
    "        all_files = get_kb_files(filepath + family)\n",
    "    \n",
    "        for file in all_files:\n",
    "            match = re.search('[a-z]{4}[0-9]{4}[a-z]?', file)\n",
    "            code = match.group()\n",
    "            language = file.split('_' + code)[0]\n",
    "\n",
    "            if code not in codes:\n",
    "                codes.append(code)\n",
    "\n",
    "                ks = get_kin_terms(filepath + family + '/' + file)\n",
    "\n",
    "                for i in range(times):\n",
    "                    pairs = simulate_ks(ks)\n",
    "                    if pairs:\n",
    "                        results = {}\n",
    "                        results['language'] = language\n",
    "                        results['language_family'] = family\n",
    "                        results['code'] = code\n",
    "                        results['simulation_code'] = code + '_' + str(i)\n",
    "                        results['simulation'] = 'Y'\n",
    "                        write_data(pairs,results)\n",
    "\n",
    "                        df.append(results)\n",
    "    \n",
    "    pd.DataFrame(df).to_csv('../data/raw/' + filename + '.csv',index=False)\n",
    "    \n",
    "    return pd.DataFrame(df)"
   ]
  },
  {
   "cell_type": "code",
   "execution_count": 20,
   "id": "191841d4",
   "metadata": {},
   "outputs": [
    {
     "name": "stderr",
     "output_type": "stream",
     "text": [
      "100%|████████████████████████████████████████████████████████████████████████████████████| 1/1 [00:01<00:00,  1.17s/it]\n"
     ]
    },
    {
     "data": {
      "text/html": [
       "<div>\n",
       "<style scoped>\n",
       "    .dataframe tbody tr th:only-of-type {\n",
       "        vertical-align: middle;\n",
       "    }\n",
       "\n",
       "    .dataframe tbody tr th {\n",
       "        vertical-align: top;\n",
       "    }\n",
       "\n",
       "    .dataframe thead th {\n",
       "        text-align: right;\n",
       "    }\n",
       "</style>\n",
       "<table border=\"1\" class=\"dataframe\">\n",
       "  <thead>\n",
       "    <tr style=\"text-align: right;\">\n",
       "      <th></th>\n",
       "      <th>language</th>\n",
       "      <th>language_family</th>\n",
       "      <th>code</th>\n",
       "      <th>simulation_code</th>\n",
       "      <th>simulation</th>\n",
       "      <th>mutual_information</th>\n",
       "      <th>entropy_gn</th>\n",
       "      <th>entropy_gn1</th>\n",
       "      <th>conditional_entropy</th>\n",
       "      <th>variation_gn</th>\n",
       "      <th>variation_gn1</th>\n",
       "      <th>number_of_pairs</th>\n",
       "    </tr>\n",
       "  </thead>\n",
       "  <tbody>\n",
       "    <tr>\n",
       "      <th>0</th>\n",
       "      <td>Albanian</td>\n",
       "      <td>Indo-European</td>\n",
       "      <td>alba1267</td>\n",
       "      <td>alba1267_0</td>\n",
       "      <td>Y</td>\n",
       "      <td>0.34944</td>\n",
       "      <td>2.00092</td>\n",
       "      <td>2.58496</td>\n",
       "      <td>2.23552</td>\n",
       "      <td>6</td>\n",
       "      <td>6</td>\n",
       "      <td>23</td>\n",
       "    </tr>\n",
       "    <tr>\n",
       "      <th>1</th>\n",
       "      <td>Albanian</td>\n",
       "      <td>Indo-European</td>\n",
       "      <td>alba1267</td>\n",
       "      <td>alba1267_1</td>\n",
       "      <td>Y</td>\n",
       "      <td>0.38965</td>\n",
       "      <td>1.87863</td>\n",
       "      <td>2.58496</td>\n",
       "      <td>2.19531</td>\n",
       "      <td>6</td>\n",
       "      <td>6</td>\n",
       "      <td>19</td>\n",
       "    </tr>\n",
       "    <tr>\n",
       "      <th>2</th>\n",
       "      <td>Albanian</td>\n",
       "      <td>Indo-European</td>\n",
       "      <td>alba1267</td>\n",
       "      <td>alba1267_2</td>\n",
       "      <td>Y</td>\n",
       "      <td>0.33172</td>\n",
       "      <td>1.87863</td>\n",
       "      <td>2.58496</td>\n",
       "      <td>2.25324</td>\n",
       "      <td>6</td>\n",
       "      <td>6</td>\n",
       "      <td>21</td>\n",
       "    </tr>\n",
       "    <tr>\n",
       "      <th>3</th>\n",
       "      <td>Albanian</td>\n",
       "      <td>Indo-European</td>\n",
       "      <td>alba1267</td>\n",
       "      <td>alba1267_3</td>\n",
       "      <td>Y</td>\n",
       "      <td>0.42473</td>\n",
       "      <td>1.81519</td>\n",
       "      <td>2.58496</td>\n",
       "      <td>2.16023</td>\n",
       "      <td>6</td>\n",
       "      <td>6</td>\n",
       "      <td>18</td>\n",
       "    </tr>\n",
       "    <tr>\n",
       "      <th>4</th>\n",
       "      <td>Albanian</td>\n",
       "      <td>Indo-European</td>\n",
       "      <td>alba1267</td>\n",
       "      <td>alba1267_4</td>\n",
       "      <td>Y</td>\n",
       "      <td>0.29059</td>\n",
       "      <td>1.87863</td>\n",
       "      <td>2.58496</td>\n",
       "      <td>2.29437</td>\n",
       "      <td>6</td>\n",
       "      <td>6</td>\n",
       "      <td>21</td>\n",
       "    </tr>\n",
       "    <tr>\n",
       "      <th>...</th>\n",
       "      <td>...</td>\n",
       "      <td>...</td>\n",
       "      <td>...</td>\n",
       "      <td>...</td>\n",
       "      <td>...</td>\n",
       "      <td>...</td>\n",
       "      <td>...</td>\n",
       "      <td>...</td>\n",
       "      <td>...</td>\n",
       "      <td>...</td>\n",
       "      <td>...</td>\n",
       "      <td>...</td>\n",
       "    </tr>\n",
       "    <tr>\n",
       "      <th>1005</th>\n",
       "      <td>Western_Panjabi</td>\n",
       "      <td>Indo-European</td>\n",
       "      <td>west2386</td>\n",
       "      <td>west2386_5</td>\n",
       "      <td>Y</td>\n",
       "      <td>0.26953</td>\n",
       "      <td>1.14890</td>\n",
       "      <td>2.58496</td>\n",
       "      <td>2.31543</td>\n",
       "      <td>5</td>\n",
       "      <td>6</td>\n",
       "      <td>16</td>\n",
       "    </tr>\n",
       "    <tr>\n",
       "      <th>1006</th>\n",
       "      <td>Western_Panjabi</td>\n",
       "      <td>Indo-European</td>\n",
       "      <td>west2386</td>\n",
       "      <td>west2386_6</td>\n",
       "      <td>Y</td>\n",
       "      <td>0.30576</td>\n",
       "      <td>1.06651</td>\n",
       "      <td>2.58496</td>\n",
       "      <td>2.27920</td>\n",
       "      <td>5</td>\n",
       "      <td>6</td>\n",
       "      <td>14</td>\n",
       "    </tr>\n",
       "    <tr>\n",
       "      <th>1007</th>\n",
       "      <td>Western_Panjabi</td>\n",
       "      <td>Indo-European</td>\n",
       "      <td>west2386</td>\n",
       "      <td>west2386_7</td>\n",
       "      <td>Y</td>\n",
       "      <td>0.26912</td>\n",
       "      <td>1.06651</td>\n",
       "      <td>2.58496</td>\n",
       "      <td>2.31584</td>\n",
       "      <td>5</td>\n",
       "      <td>6</td>\n",
       "      <td>15</td>\n",
       "    </tr>\n",
       "    <tr>\n",
       "      <th>1008</th>\n",
       "      <td>Western_Panjabi</td>\n",
       "      <td>Indo-European</td>\n",
       "      <td>west2386</td>\n",
       "      <td>west2386_8</td>\n",
       "      <td>Y</td>\n",
       "      <td>0.32253</td>\n",
       "      <td>0.98336</td>\n",
       "      <td>2.58496</td>\n",
       "      <td>2.26243</td>\n",
       "      <td>5</td>\n",
       "      <td>6</td>\n",
       "      <td>13</td>\n",
       "    </tr>\n",
       "    <tr>\n",
       "      <th>1009</th>\n",
       "      <td>Western_Panjabi</td>\n",
       "      <td>Indo-European</td>\n",
       "      <td>west2386</td>\n",
       "      <td>west2386_9</td>\n",
       "      <td>Y</td>\n",
       "      <td>0.34742</td>\n",
       "      <td>1.06651</td>\n",
       "      <td>2.58496</td>\n",
       "      <td>2.23754</td>\n",
       "      <td>5</td>\n",
       "      <td>6</td>\n",
       "      <td>13</td>\n",
       "    </tr>\n",
       "  </tbody>\n",
       "</table>\n",
       "<p>1010 rows × 12 columns</p>\n",
       "</div>"
      ],
      "text/plain": [
       "             language language_family      code simulation_code simulation  \\\n",
       "0            Albanian   Indo-European  alba1267      alba1267_0          Y   \n",
       "1            Albanian   Indo-European  alba1267      alba1267_1          Y   \n",
       "2            Albanian   Indo-European  alba1267      alba1267_2          Y   \n",
       "3            Albanian   Indo-European  alba1267      alba1267_3          Y   \n",
       "4            Albanian   Indo-European  alba1267      alba1267_4          Y   \n",
       "...               ...             ...       ...             ...        ...   \n",
       "1005  Western_Panjabi   Indo-European  west2386      west2386_5          Y   \n",
       "1006  Western_Panjabi   Indo-European  west2386      west2386_6          Y   \n",
       "1007  Western_Panjabi   Indo-European  west2386      west2386_7          Y   \n",
       "1008  Western_Panjabi   Indo-European  west2386      west2386_8          Y   \n",
       "1009  Western_Panjabi   Indo-European  west2386      west2386_9          Y   \n",
       "\n",
       "      mutual_information  entropy_gn  entropy_gn1  conditional_entropy  \\\n",
       "0                0.34944     2.00092      2.58496              2.23552   \n",
       "1                0.38965     1.87863      2.58496              2.19531   \n",
       "2                0.33172     1.87863      2.58496              2.25324   \n",
       "3                0.42473     1.81519      2.58496              2.16023   \n",
       "4                0.29059     1.87863      2.58496              2.29437   \n",
       "...                  ...         ...          ...                  ...   \n",
       "1005             0.26953     1.14890      2.58496              2.31543   \n",
       "1006             0.30576     1.06651      2.58496              2.27920   \n",
       "1007             0.26912     1.06651      2.58496              2.31584   \n",
       "1008             0.32253     0.98336      2.58496              2.26243   \n",
       "1009             0.34742     1.06651      2.58496              2.23754   \n",
       "\n",
       "      variation_gn  variation_gn1  number_of_pairs  \n",
       "0                6              6               23  \n",
       "1                6              6               19  \n",
       "2                6              6               21  \n",
       "3                6              6               18  \n",
       "4                6              6               21  \n",
       "...            ...            ...              ...  \n",
       "1005             5              6               16  \n",
       "1006             5              6               14  \n",
       "1007             5              6               15  \n",
       "1008             5              6               13  \n",
       "1009             5              6               13  \n",
       "\n",
       "[1010 rows x 12 columns]"
      ]
     },
     "execution_count": 20,
     "metadata": {},
     "output_type": "execute_result"
    }
   ],
   "source": [
    "simulate_MI(['Indo-European'],'test',10)"
   ]
  },
  {
   "cell_type": "code",
   "execution_count": 66,
   "id": "cab099bf",
   "metadata": {},
   "outputs": [
    {
     "name": "stderr",
     "output_type": "stream",
     "text": [
      "100%|██████████████████████████████████████████████████████████████████████████████████| 21/21 [03:58<00:00, 11.34s/it]\n"
     ]
    },
    {
     "data": {
      "text/html": [
       "<div>\n",
       "<style scoped>\n",
       "    .dataframe tbody tr th:only-of-type {\n",
       "        vertical-align: middle;\n",
       "    }\n",
       "\n",
       "    .dataframe tbody tr th {\n",
       "        vertical-align: top;\n",
       "    }\n",
       "\n",
       "    .dataframe thead th {\n",
       "        text-align: right;\n",
       "    }\n",
       "</style>\n",
       "<table border=\"1\" class=\"dataframe\">\n",
       "  <thead>\n",
       "    <tr style=\"text-align: right;\">\n",
       "      <th></th>\n",
       "      <th>language</th>\n",
       "      <th>language_family</th>\n",
       "      <th>code</th>\n",
       "      <th>simulation_code</th>\n",
       "      <th>simulation</th>\n",
       "      <th>mutual_information</th>\n",
       "      <th>entropy_gn</th>\n",
       "      <th>entropy_gn1</th>\n",
       "      <th>conditional_entropy</th>\n",
       "      <th>variation_gn</th>\n",
       "      <th>variation_gn1</th>\n",
       "      <th>number_of_pairs</th>\n",
       "    </tr>\n",
       "  </thead>\n",
       "  <tbody>\n",
       "    <tr>\n",
       "      <th>0</th>\n",
       "      <td>Akkadian</td>\n",
       "      <td>Afro-Asiatic</td>\n",
       "      <td>akka1240</td>\n",
       "      <td>akka1240_0</td>\n",
       "      <td>Y</td>\n",
       "      <td>0.0</td>\n",
       "      <td>2.25000</td>\n",
       "      <td>1.0</td>\n",
       "      <td>1.0</td>\n",
       "      <td>5</td>\n",
       "      <td>2</td>\n",
       "      <td>10</td>\n",
       "    </tr>\n",
       "    <tr>\n",
       "      <th>1</th>\n",
       "      <td>Akkadian</td>\n",
       "      <td>Afro-Asiatic</td>\n",
       "      <td>akka1240</td>\n",
       "      <td>akka1240_1</td>\n",
       "      <td>Y</td>\n",
       "      <td>0.0</td>\n",
       "      <td>2.25000</td>\n",
       "      <td>1.0</td>\n",
       "      <td>1.0</td>\n",
       "      <td>5</td>\n",
       "      <td>2</td>\n",
       "      <td>10</td>\n",
       "    </tr>\n",
       "    <tr>\n",
       "      <th>2</th>\n",
       "      <td>Akkadian</td>\n",
       "      <td>Afro-Asiatic</td>\n",
       "      <td>akka1240</td>\n",
       "      <td>akka1240_2</td>\n",
       "      <td>Y</td>\n",
       "      <td>0.0</td>\n",
       "      <td>2.25000</td>\n",
       "      <td>1.0</td>\n",
       "      <td>1.0</td>\n",
       "      <td>5</td>\n",
       "      <td>2</td>\n",
       "      <td>10</td>\n",
       "    </tr>\n",
       "    <tr>\n",
       "      <th>3</th>\n",
       "      <td>Akkadian</td>\n",
       "      <td>Afro-Asiatic</td>\n",
       "      <td>akka1240</td>\n",
       "      <td>akka1240_3</td>\n",
       "      <td>Y</td>\n",
       "      <td>0.0</td>\n",
       "      <td>2.25000</td>\n",
       "      <td>1.0</td>\n",
       "      <td>1.0</td>\n",
       "      <td>5</td>\n",
       "      <td>2</td>\n",
       "      <td>10</td>\n",
       "    </tr>\n",
       "    <tr>\n",
       "      <th>4</th>\n",
       "      <td>Akkadian</td>\n",
       "      <td>Afro-Asiatic</td>\n",
       "      <td>akka1240</td>\n",
       "      <td>akka1240_4</td>\n",
       "      <td>Y</td>\n",
       "      <td>0.0</td>\n",
       "      <td>2.25000</td>\n",
       "      <td>1.0</td>\n",
       "      <td>1.0</td>\n",
       "      <td>5</td>\n",
       "      <td>2</td>\n",
       "      <td>10</td>\n",
       "    </tr>\n",
       "    <tr>\n",
       "      <th>...</th>\n",
       "      <td>...</td>\n",
       "      <td>...</td>\n",
       "      <td>...</td>\n",
       "      <td>...</td>\n",
       "      <td>...</td>\n",
       "      <td>...</td>\n",
       "      <td>...</td>\n",
       "      <td>...</td>\n",
       "      <td>...</td>\n",
       "      <td>...</td>\n",
       "      <td>...</td>\n",
       "      <td>...</td>\n",
       "    </tr>\n",
       "    <tr>\n",
       "      <th>1071995</th>\n",
       "      <td>Yaqui</td>\n",
       "      <td>Uto-Aztecan</td>\n",
       "      <td>yaqu1251</td>\n",
       "      <td>yaqu1251_995</td>\n",
       "      <td>Y</td>\n",
       "      <td>0.0</td>\n",
       "      <td>1.37878</td>\n",
       "      <td>1.0</td>\n",
       "      <td>1.0</td>\n",
       "      <td>3</td>\n",
       "      <td>2</td>\n",
       "      <td>6</td>\n",
       "    </tr>\n",
       "    <tr>\n",
       "      <th>1071996</th>\n",
       "      <td>Yaqui</td>\n",
       "      <td>Uto-Aztecan</td>\n",
       "      <td>yaqu1251</td>\n",
       "      <td>yaqu1251_996</td>\n",
       "      <td>Y</td>\n",
       "      <td>0.0</td>\n",
       "      <td>1.84237</td>\n",
       "      <td>1.0</td>\n",
       "      <td>1.0</td>\n",
       "      <td>4</td>\n",
       "      <td>2</td>\n",
       "      <td>8</td>\n",
       "    </tr>\n",
       "    <tr>\n",
       "      <th>1071997</th>\n",
       "      <td>Yaqui</td>\n",
       "      <td>Uto-Aztecan</td>\n",
       "      <td>yaqu1251</td>\n",
       "      <td>yaqu1251_997</td>\n",
       "      <td>Y</td>\n",
       "      <td>0.0</td>\n",
       "      <td>1.95021</td>\n",
       "      <td>1.0</td>\n",
       "      <td>1.0</td>\n",
       "      <td>4</td>\n",
       "      <td>2</td>\n",
       "      <td>8</td>\n",
       "    </tr>\n",
       "    <tr>\n",
       "      <th>1071998</th>\n",
       "      <td>Yaqui</td>\n",
       "      <td>Uto-Aztecan</td>\n",
       "      <td>yaqu1251</td>\n",
       "      <td>yaqu1251_998</td>\n",
       "      <td>Y</td>\n",
       "      <td>0.0</td>\n",
       "      <td>1.84237</td>\n",
       "      <td>1.0</td>\n",
       "      <td>1.0</td>\n",
       "      <td>4</td>\n",
       "      <td>2</td>\n",
       "      <td>8</td>\n",
       "    </tr>\n",
       "    <tr>\n",
       "      <th>1071999</th>\n",
       "      <td>Yaqui</td>\n",
       "      <td>Uto-Aztecan</td>\n",
       "      <td>yaqu1251</td>\n",
       "      <td>yaqu1251_999</td>\n",
       "      <td>Y</td>\n",
       "      <td>0.0</td>\n",
       "      <td>2.12809</td>\n",
       "      <td>1.0</td>\n",
       "      <td>1.0</td>\n",
       "      <td>5</td>\n",
       "      <td>2</td>\n",
       "      <td>10</td>\n",
       "    </tr>\n",
       "  </tbody>\n",
       "</table>\n",
       "<p>1072000 rows × 12 columns</p>\n",
       "</div>"
      ],
      "text/plain": [
       "         language language_family      code simulation_code simulation  \\\n",
       "0        Akkadian    Afro-Asiatic  akka1240      akka1240_0          Y   \n",
       "1        Akkadian    Afro-Asiatic  akka1240      akka1240_1          Y   \n",
       "2        Akkadian    Afro-Asiatic  akka1240      akka1240_2          Y   \n",
       "3        Akkadian    Afro-Asiatic  akka1240      akka1240_3          Y   \n",
       "4        Akkadian    Afro-Asiatic  akka1240      akka1240_4          Y   \n",
       "...           ...             ...       ...             ...        ...   \n",
       "1071995     Yaqui     Uto-Aztecan  yaqu1251    yaqu1251_995          Y   \n",
       "1071996     Yaqui     Uto-Aztecan  yaqu1251    yaqu1251_996          Y   \n",
       "1071997     Yaqui     Uto-Aztecan  yaqu1251    yaqu1251_997          Y   \n",
       "1071998     Yaqui     Uto-Aztecan  yaqu1251    yaqu1251_998          Y   \n",
       "1071999     Yaqui     Uto-Aztecan  yaqu1251    yaqu1251_999          Y   \n",
       "\n",
       "         mutual_information  entropy_gn  entropy_gn1  conditional_entropy  \\\n",
       "0                       0.0     2.25000          1.0                  1.0   \n",
       "1                       0.0     2.25000          1.0                  1.0   \n",
       "2                       0.0     2.25000          1.0                  1.0   \n",
       "3                       0.0     2.25000          1.0                  1.0   \n",
       "4                       0.0     2.25000          1.0                  1.0   \n",
       "...                     ...         ...          ...                  ...   \n",
       "1071995                 0.0     1.37878          1.0                  1.0   \n",
       "1071996                 0.0     1.84237          1.0                  1.0   \n",
       "1071997                 0.0     1.95021          1.0                  1.0   \n",
       "1071998                 0.0     1.84237          1.0                  1.0   \n",
       "1071999                 0.0     2.12809          1.0                  1.0   \n",
       "\n",
       "         variation_gn  variation_gn1  number_of_pairs  \n",
       "0                   5              2               10  \n",
       "1                   5              2               10  \n",
       "2                   5              2               10  \n",
       "3                   5              2               10  \n",
       "4                   5              2               10  \n",
       "...               ...            ...              ...  \n",
       "1071995             3              2                6  \n",
       "1071996             4              2                8  \n",
       "1071997             4              2                8  \n",
       "1071998             4              2                8  \n",
       "1071999             5              2               10  \n",
       "\n",
       "[1072000 rows x 12 columns]"
      ]
     },
     "execution_count": 66,
     "metadata": {},
     "output_type": "execute_result"
    }
   ],
   "source": [
    "simulate_MI(families,'simulated_mi_UPDATED_NEW_KINTYPES',1000)"
   ]
  },
  {
   "cell_type": "markdown",
   "id": "4b19f0d1",
   "metadata": {},
   "source": [
    "## Edit Distance\n",
    "\n",
    "In this section we calculate the normalised Levenshtein edit distance between pairs of kin terms in each language and generate a monte carlo sample of edit distance for each language so that we can calculate the z score (as well as the correlation between edit distances).\n",
    "\n",
    "To do this we need:\n",
    "* A function to calculate the levenshtein distance between two forms.\n",
    "* A function to calculate the distance between two meanings, which should have e.g. MB and MBD be closer than MZ and MBD.\n",
    "* A function to calculate the correlation between a table of form distances and a table of meaning distances.\n",
    "* A function to generate a monte carlo sample of correlations (ie the correlation of scrambled, simulated data).\n",
    "\n",
    "\n",
    "First, to calculate edit distance:"
   ]
  },
  {
   "cell_type": "code",
   "execution_count": 21,
   "id": "1e4d1dd0",
   "metadata": {},
   "outputs": [],
   "source": [
    "from Levenshtein import distance as lvs_dist"
   ]
  },
  {
   "cell_type": "code",
   "execution_count": 22,
   "id": "471979aa",
   "metadata": {},
   "outputs": [
    {
     "name": "stdout",
     "output_type": "stream",
     "text": [
      "True\n"
     ]
    }
   ],
   "source": [
    "x = 'aabb'\n",
    "y = 'bbbb'\n",
    "\n",
    "lvs_dist(x,y)/len(max(x,y))\n",
    "\n",
    "\n",
    "print(len(max(x,y)) == max(len(x),len(y)))\n"
   ]
  },
  {
   "cell_type": "markdown",
   "id": "1a42b710",
   "metadata": {},
   "source": [
    "How about for actual language data?"
   ]
  },
  {
   "cell_type": "code",
   "execution_count": 23,
   "id": "01fbe47e",
   "metadata": {},
   "outputs": [],
   "source": [
    "test_file = random.choice(all_kb_files)\n",
    "\n",
    "test = get_kin_terms('../../kinbank/' + test_file)\n",
    "\n",
    "english = get_kin_terms('../../kinbank/English_stan1293.csv')"
   ]
  },
  {
   "cell_type": "code",
   "execution_count": 24,
   "id": "7eb952cb",
   "metadata": {},
   "outputs": [],
   "source": [
    "test_gn,test_gn1 = split_ks(test)\n",
    "\n",
    "test_ks = {**test_gn, **test_gn1}\n",
    "\n",
    "eng_gn,eng_gn1 = split_ks(english)\n",
    "eng_ks = {**eng_gn, **eng_gn1}"
   ]
  },
  {
   "cell_type": "code",
   "execution_count": 25,
   "id": "2254040c",
   "metadata": {},
   "outputs": [],
   "source": [
    "def edit_distance(ks):\n",
    "#     df = []\n",
    "    edit_dists = []\n",
    "\n",
    "    for relative1 in ks:\n",
    "        term1 = ks[relative1]\n",
    "        for relative2 in ks:\n",
    "            data = {}\n",
    "            term2 = ks[relative2]\n",
    "            \n",
    "            if relative1 == relative2:\n",
    "                pass\n",
    "            \n",
    "            else:\n",
    "            \n",
    "                if len(term1) > 0 and len(term2) > 0:\n",
    "                    dist = lvs_dist(term1,term2)/len(max(term1,term2))\n",
    "                    edit_dists.append(dist)\n",
    "                else:\n",
    "                    pass\n",
    "                    \n",
    "                \n",
    "#                 data['relative1'] = relative1\n",
    "#                 data['relative2'] = relative2\n",
    "#                 data['label1'] = term1\n",
    "#                 data['label2'] = term2\n",
    "#                 data['edit_distance'] = dist\n",
    "\n",
    "#                 df.append(data)\n",
    "\n",
    "#     distance_df = pd.DataFrame(df)\n",
    "\n",
    "#     return distance_df\n",
    "    return edit_dists"
   ]
  },
  {
   "cell_type": "markdown",
   "id": "07dca5ab",
   "metadata": {},
   "source": [
    "To calculate semantic distance:"
   ]
  },
  {
   "cell_type": "code",
   "execution_count": 26,
   "id": "192c0213",
   "metadata": {},
   "outputs": [],
   "source": [
    "pairs = kt.ics_pairs\n",
    "relatives = []\n",
    "\n",
    "for pair in pairs:\n",
    "    relatives.append(pair[0])\n",
    "    relatives.append(pair[1])\n",
    "    \n",
    "relatives = list(set(relatives))"
   ]
  },
  {
   "cell_type": "code",
   "execution_count": 27,
   "id": "0f8cfc77",
   "metadata": {},
   "outputs": [],
   "source": [
    "def semantic_distance(ks,pairs): # (df,ks,pairs):\n",
    "    sem_distances = []\n",
    "\n",
    "    for relative1 in ks:\n",
    "        for relative2 in ks:\n",
    "            if relative1 == relative2:\n",
    "                pass\n",
    "            \n",
    "            else:\n",
    "            \n",
    "                if len(ks[relative1]) > 0 and len(ks[relative2]) > 0:\n",
    "\n",
    "                    if (relative1,relative2) in pairs or (relative2,relative1) in pairs:\n",
    "                        distance = 1\n",
    "                        sem_distances.append(distance)\n",
    "\n",
    "                    else:\n",
    "                        distance = 2\n",
    "                        sem_distances.append(distance)\n",
    "\n",
    "#     df['semantic_distance'] = sem_distances\n",
    "#     \n",
    "#     return df\n",
    "    return sem_distances\n"
   ]
  },
  {
   "cell_type": "code",
   "execution_count": 28,
   "id": "53eb4183",
   "metadata": {},
   "outputs": [
    {
     "name": "stdout",
     "output_type": "stream",
     "text": [
      "702 702\n"
     ]
    },
    {
     "data": {
      "text/plain": [
       "(-0.2191545123436959, 4.419112045385183e-09)"
      ]
     },
     "execution_count": 28,
     "metadata": {},
     "output_type": "execute_result"
    }
   ],
   "source": [
    "# scipy.stats.pearsonr(np.array(distance_df['edit_distance']),np.array(distance_df['semantic_distance']))\n",
    "\n",
    "ed = edit_distance(test_ks)\n",
    "semd = semantic_distance(test_ks,pairs)\n",
    "\n",
    "print(len(ed),len(semd))\n",
    "\n",
    "scipy.stats.pearsonr(np.array(edit_distance(test_ks)),np.array(semantic_distance(test_ks,pairs)))"
   ]
  },
  {
   "cell_type": "markdown",
   "id": "1fc0d94d",
   "metadata": {},
   "source": [
    "The above will get us a meaning distance measure where if you are the child of a person, your meaning distance will be 1, and if you are not, your distance will be 2.\n",
    "\n",
    "This captures the kind of compositionality in meaning we're interested in (e.g. that children of a person will have a similar form to that person) but not all kinds of kinship compositionality e.g. the Swedish situation.\n",
    "\n",
    "Might have to do something more complex with features, e.g.\n",
    "male vs female\n",
    "mother side vs father side\n",
    "young vs old\n",
    "child-of vs not child-of\n",
    "\n",
    "Can probably do this with regex, e.g. if relative contains M, they have `[+mother's side]`, if they contain 'e' they have `[+elder]`. if they contain 'S' or 'B' they are `[+male]`. if they are equal to 'F' they have `[+male]`\n",
    "\n",
    "\n",
    "Anyway, for now we can calculate the correlation between our edit distance and our semantic distance:"
   ]
  },
  {
   "cell_type": "code",
   "execution_count": 29,
   "id": "efc03cc2",
   "metadata": {},
   "outputs": [],
   "source": [
    "def distance_dataframe(ks,pairs):\n",
    "    df = edit_distance(ks)\n",
    "    df = semantic_distance(df,ks,pairs)\n",
    "    df = df.drop(df[df['edit_distance'] == 'na'].index)\n",
    "    return df"
   ]
  },
  {
   "cell_type": "code",
   "execution_count": 30,
   "id": "c32dc2dc",
   "metadata": {},
   "outputs": [
    {
     "ename": "NameError",
     "evalue": "name 'sem_distances' is not defined",
     "output_type": "error",
     "traceback": [
      "\u001b[1;31m---------------------------------------------------------------------------\u001b[0m",
      "\u001b[1;31mNameError\u001b[0m                                 Traceback (most recent call last)",
      "Input \u001b[1;32mIn [30]\u001b[0m, in \u001b[0;36m<cell line: 1>\u001b[1;34m()\u001b[0m\n\u001b[1;32m----> 1\u001b[0m \u001b[38;5;28mprint\u001b[39m(np\u001b[38;5;241m.\u001b[39marray(\u001b[43msem_distances\u001b[49m))\n\u001b[0;32m      3\u001b[0m \u001b[38;5;28mprint\u001b[39m(np\u001b[38;5;241m.\u001b[39marray(edit_dists))\n",
      "\u001b[1;31mNameError\u001b[0m: name 'sem_distances' is not defined"
     ]
    }
   ],
   "source": [
    "print(np.array(sem_distances))\n",
    "\n",
    "print(np.array(edit_dists))"
   ]
  },
  {
   "cell_type": "code",
   "execution_count": 31,
   "id": "07e7026d",
   "metadata": {},
   "outputs": [
    {
     "ename": "NameError",
     "evalue": "name 'sem_distances' is not defined",
     "output_type": "error",
     "traceback": [
      "\u001b[1;31m---------------------------------------------------------------------------\u001b[0m",
      "\u001b[1;31mNameError\u001b[0m                                 Traceback (most recent call last)",
      "Input \u001b[1;32mIn [31]\u001b[0m, in \u001b[0;36m<cell line: 1>\u001b[1;34m()\u001b[0m\n\u001b[1;32m----> 1\u001b[0m scipy\u001b[38;5;241m.\u001b[39mstats\u001b[38;5;241m.\u001b[39mpearsonr(np\u001b[38;5;241m.\u001b[39marray(\u001b[43msem_distances\u001b[49m), np\u001b[38;5;241m.\u001b[39marray(edit_dists))[\u001b[38;5;241m0\u001b[39m]\n",
      "\u001b[1;31mNameError\u001b[0m: name 'sem_distances' is not defined"
     ]
    }
   ],
   "source": [
    "scipy.stats.pearsonr(np.array(sem_distances), np.array(edit_dists))[0]"
   ]
  },
  {
   "cell_type": "markdown",
   "id": "bfa32731",
   "metadata": {},
   "source": [
    "But now we need a way to calculate a z-score. so time for some montecarlo methods baby!"
   ]
  },
  {
   "cell_type": "code",
   "execution_count": 32,
   "id": "f3169b64",
   "metadata": {},
   "outputs": [],
   "source": [
    "# def shuffle_distance(df):\n",
    "#     shuffled_edit_dists = pd.DataFrame.copy(df['edit_distance'])\n",
    "#     random.shuffle(shuffled_edit_dists)\n",
    "#     sample_df = pd.DataFrame.copy(df)\n",
    "#     sample_df['edit_distance'] = shuffled_edit_dists\n",
    "    \n",
    "#     return sample_df\n",
    "\n",
    "def shuffle_distance(distances):\n",
    "    shuffled_edit_dists = distances.copy()\n",
    "    random.shuffle(shuffled_edit_dists)\n",
    "    return shuffled_edit_dists"
   ]
  },
  {
   "cell_type": "code",
   "execution_count": 33,
   "id": "1022bf6b",
   "metadata": {},
   "outputs": [
    {
     "data": {
      "text/plain": [
       "(0.010207738975665251, 0.7871741131027021)"
      ]
     },
     "execution_count": 33,
     "metadata": {},
     "output_type": "execute_result"
    }
   ],
   "source": [
    "# test_shuffle = shuffle_distance(distance_dataframe(test,pairs))\n",
    "\n",
    "# scipy.stats.pearsonr(np.array(test_shuffle['edit_distance']), np.array(test_shuffle['semantic_distance']))[0]\n",
    "\n",
    "test_shuffle = shuffle_distance(ed)\n",
    "\n",
    "scipy.stats.pearsonr(np.array(test_shuffle),np.array(semd))"
   ]
  },
  {
   "cell_type": "code",
   "execution_count": 34,
   "id": "5593d058",
   "metadata": {},
   "outputs": [
    {
     "ename": "TypeError",
     "evalue": "semantic_distance() takes 2 positional arguments but 3 were given",
     "output_type": "error",
     "traceback": [
      "\u001b[1;31m---------------------------------------------------------------------------\u001b[0m",
      "\u001b[1;31mTypeError\u001b[0m                                 Traceback (most recent call last)",
      "Input \u001b[1;32mIn [34]\u001b[0m, in \u001b[0;36m<cell line: 2>\u001b[1;34m()\u001b[0m\n\u001b[0;32m      1\u001b[0m test_df \u001b[38;5;241m=\u001b[39m edit_distance(test_ks)\n\u001b[1;32m----> 2\u001b[0m \u001b[43msemantic_distance\u001b[49m\u001b[43m(\u001b[49m\u001b[43mtest_df\u001b[49m\u001b[43m,\u001b[49m\u001b[43mtest_ks\u001b[49m\u001b[43m,\u001b[49m\u001b[43mpairs\u001b[49m\u001b[43m)\u001b[49m\n\u001b[0;32m      4\u001b[0m distance_df \u001b[38;5;241m=\u001b[39m semantic_distance(edit_distance(test_ks),test_ks,pairs)\n",
      "\u001b[1;31mTypeError\u001b[0m: semantic_distance() takes 2 positional arguments but 3 were given"
     ]
    }
   ],
   "source": [
    "test_df = edit_distance(test_ks)\n",
    "semantic_distance(test_df,test_ks,pairs)\n",
    "\n",
    "distance_df = semantic_distance(edit_distance(test_ks),test_ks,pairs)"
   ]
  },
  {
   "cell_type": "code",
   "execution_count": 35,
   "id": "1915a74d",
   "metadata": {},
   "outputs": [
    {
     "ename": "NameError",
     "evalue": "name 'distance_df' is not defined",
     "output_type": "error",
     "traceback": [
      "\u001b[1;31m---------------------------------------------------------------------------\u001b[0m",
      "\u001b[1;31mNameError\u001b[0m                                 Traceback (most recent call last)",
      "Input \u001b[1;32mIn [35]\u001b[0m, in \u001b[0;36m<cell line: 1>\u001b[1;34m()\u001b[0m\n\u001b[1;32m----> 1\u001b[0m \u001b[38;5;28mprint\u001b[39m(\u001b[38;5;28mlist\u001b[39m(\u001b[43mdistance_df\u001b[49m[\u001b[38;5;124m'\u001b[39m\u001b[38;5;124medit_distance\u001b[39m\u001b[38;5;124m'\u001b[39m]))\n",
      "\u001b[1;31mNameError\u001b[0m: name 'distance_df' is not defined"
     ]
    }
   ],
   "source": [
    "print(list(distance_df['edit_distance']))"
   ]
  },
  {
   "cell_type": "code",
   "execution_count": 197,
   "id": "017d665c",
   "metadata": {},
   "outputs": [
    {
     "data": {
      "text/html": [
       "<div>\n",
       "<style scoped>\n",
       "    .dataframe tbody tr th:only-of-type {\n",
       "        vertical-align: middle;\n",
       "    }\n",
       "\n",
       "    .dataframe tbody tr th {\n",
       "        vertical-align: top;\n",
       "    }\n",
       "\n",
       "    .dataframe thead th {\n",
       "        text-align: right;\n",
       "    }\n",
       "</style>\n",
       "<table border=\"1\" class=\"dataframe\">\n",
       "  <thead>\n",
       "    <tr style=\"text-align: right;\">\n",
       "      <th></th>\n",
       "      <th>relative1</th>\n",
       "      <th>relative2</th>\n",
       "      <th>label1</th>\n",
       "      <th>label2</th>\n",
       "      <th>edit_distance</th>\n",
       "      <th>semantic_distance</th>\n",
       "    </tr>\n",
       "  </thead>\n",
       "  <tbody>\n",
       "    <tr>\n",
       "      <th>0</th>\n",
       "      <td>myB</td>\n",
       "      <td>myB</td>\n",
       "      <td>tuari tuama</td>\n",
       "      <td>tuari tuama</td>\n",
       "      <td>0.000000</td>\n",
       "      <td>0</td>\n",
       "    </tr>\n",
       "    <tr>\n",
       "      <th>1</th>\n",
       "      <td>myB</td>\n",
       "      <td>feB</td>\n",
       "      <td>tuari tuama</td>\n",
       "      <td>kaka' tuama</td>\n",
       "      <td>0.000000</td>\n",
       "      <td>2</td>\n",
       "    </tr>\n",
       "    <tr>\n",
       "      <th>2</th>\n",
       "      <td>myB</td>\n",
       "      <td>fyB</td>\n",
       "      <td>tuari tuama</td>\n",
       "      <td>tuari tuama</td>\n",
       "      <td>0.666667</td>\n",
       "      <td>2</td>\n",
       "    </tr>\n",
       "    <tr>\n",
       "      <th>3</th>\n",
       "      <td>myB</td>\n",
       "      <td>meZ</td>\n",
       "      <td>tuari tuama</td>\n",
       "      <td>kakak wewene</td>\n",
       "      <td>0.666667</td>\n",
       "      <td>2</td>\n",
       "    </tr>\n",
       "    <tr>\n",
       "      <th>4</th>\n",
       "      <td>myB</td>\n",
       "      <td>myZ</td>\n",
       "      <td>tuari tuama</td>\n",
       "      <td>tuari wewene</td>\n",
       "      <td>0.555556</td>\n",
       "      <td>2</td>\n",
       "    </tr>\n",
       "    <tr>\n",
       "      <th>...</th>\n",
       "      <td>...</td>\n",
       "      <td>...</td>\n",
       "      <td>...</td>\n",
       "      <td>...</td>\n",
       "      <td>...</td>\n",
       "      <td>...</td>\n",
       "    </tr>\n",
       "    <tr>\n",
       "      <th>3476</th>\n",
       "      <td>fMyZ</td>\n",
       "      <td>fFyZ</td>\n",
       "      <td>mui</td>\n",
       "      <td>mui</td>\n",
       "      <td>0.000000</td>\n",
       "      <td>2</td>\n",
       "    </tr>\n",
       "    <tr>\n",
       "      <th>3477</th>\n",
       "      <td>fMyZ</td>\n",
       "      <td>fMeB</td>\n",
       "      <td>mui</td>\n",
       "      <td>ito</td>\n",
       "      <td>0.466667</td>\n",
       "      <td>2</td>\n",
       "    </tr>\n",
       "    <tr>\n",
       "      <th>3478</th>\n",
       "      <td>fMyZ</td>\n",
       "      <td>fMyB</td>\n",
       "      <td>mui</td>\n",
       "      <td>ito</td>\n",
       "      <td>0.555556</td>\n",
       "      <td>2</td>\n",
       "    </tr>\n",
       "    <tr>\n",
       "      <th>3479</th>\n",
       "      <td>fMyZ</td>\n",
       "      <td>fMeZ</td>\n",
       "      <td>mui</td>\n",
       "      <td>mui</td>\n",
       "      <td>0.000000</td>\n",
       "      <td>2</td>\n",
       "    </tr>\n",
       "    <tr>\n",
       "      <th>3480</th>\n",
       "      <td>fMyZ</td>\n",
       "      <td>fMyZ</td>\n",
       "      <td>mui</td>\n",
       "      <td>mui</td>\n",
       "      <td>0.533333</td>\n",
       "      <td>0</td>\n",
       "    </tr>\n",
       "  </tbody>\n",
       "</table>\n",
       "<p>3481 rows × 6 columns</p>\n",
       "</div>"
      ],
      "text/plain": [
       "     relative1 relative2       label1        label2  edit_distance  \\\n",
       "0          myB       myB  tuari tuama   tuari tuama       0.000000   \n",
       "1          myB       feB  tuari tuama   kaka' tuama       0.000000   \n",
       "2          myB       fyB  tuari tuama   tuari tuama       0.666667   \n",
       "3          myB       meZ  tuari tuama  kakak wewene       0.666667   \n",
       "4          myB       myZ  tuari tuama  tuari wewene       0.555556   \n",
       "...        ...       ...          ...           ...            ...   \n",
       "3476      fMyZ      fFyZ          mui           mui       0.000000   \n",
       "3477      fMyZ      fMeB          mui           ito       0.466667   \n",
       "3478      fMyZ      fMyB          mui           ito       0.555556   \n",
       "3479      fMyZ      fMeZ          mui           mui       0.000000   \n",
       "3480      fMyZ      fMyZ          mui           mui       0.533333   \n",
       "\n",
       "      semantic_distance  \n",
       "0                     0  \n",
       "1                     2  \n",
       "2                     2  \n",
       "3                     2  \n",
       "4                     2  \n",
       "...                 ...  \n",
       "3476                  2  \n",
       "3477                  2  \n",
       "3478                  2  \n",
       "3479                  2  \n",
       "3480                  0  \n",
       "\n",
       "[3481 rows x 6 columns]"
      ]
     },
     "execution_count": 197,
     "metadata": {},
     "output_type": "execute_result"
    }
   ],
   "source": [
    "shuffle_distance(distance_df)"
   ]
  },
  {
   "cell_type": "code",
   "execution_count": null,
   "id": "b2d07535",
   "metadata": {},
   "outputs": [],
   "source": [
    "sem_distances = np.array(sem_distances)\n",
    "\n",
    "shuffled_edit_dists = np.array(shuffled_edit_dists)\n",
    "\n",
    "scipy.stats.pearsonr(sem_distances,shuffled_edit_dists)[0]"
   ]
  },
  {
   "cell_type": "code",
   "execution_count": 44,
   "id": "0601234b",
   "metadata": {},
   "outputs": [],
   "source": [
    "def sample_distance(families,times,filename):\n",
    "    output_df = []\n",
    "    \n",
    "    codes = []\n",
    "    \n",
    "    for family in families:\n",
    "        files = get_kb_files('../../kinbank-family/' + family)\n",
    "        for file in tqdm(files):\n",
    "            \n",
    "            match = re.search('[a-z]{4}[0-9]{4}[a-z]?', file)\n",
    "            code = match.group()\n",
    "            language = file.split('_' + code)[0]\n",
    "            data = {}\n",
    "\n",
    "            if code not in codes:\n",
    "                codes.append(code)\n",
    "\n",
    "                full_ks = get_kin_terms('../../kinbank/' + file)\n",
    "                gn,gn1 = split_ks(full_ks)\n",
    "                ks = {**gn,**gn1}\n",
    "                \n",
    "#                 df = distance_dataframe(ks,pairs)\n",
    "#                 true_corr = scipy.stats.pearsonr(np.array(df['edit_distance']),np.array(df['semantic_distance']))[0]\n",
    "                edit = edit_distance(ks)\n",
    "                sem = semantic_distance(ks,kt.ics_pairs)\n",
    "        \n",
    "                if len(edit) > 2:\n",
    "                    true_corr = scipy.stats.pearsonr(np.array(edit),np.array(sem))[0]\n",
    "\n",
    "                    sample_correlations = []\n",
    "                    for i in range(times):\n",
    "                        sample = shuffle_distance(edit)\n",
    "                        sample_corr = scipy.stats.pearsonr(np.array(sample),np.array(sem))[0]\n",
    "                        sample_correlations.append(sample_corr)\n",
    "\n",
    "#                     print(sample_correlations)\n",
    "                    mean = np.mean(sample_correlations)\n",
    "                    print(mean)\n",
    "                    sd = np.std(sample_correlations)\n",
    "                    print(sd)\n",
    "                    z = (true_corr - mean) / sd\n",
    "                    print(z)\n",
    "\n",
    "                    data['language'] = language\n",
    "                    data['family'] = family\n",
    "                    data['code'] = code\n",
    "                    data['correlation'] = true_corr\n",
    "                    data['mean'] = mean\n",
    "                    data['sd'] = sd\n",
    "                    data['z'] = z\n",
    "\n",
    "                    output_df.append(data)\n",
    "                \n",
    "    pd.DataFrame(output_df).to_csv('../data/raw/' + filename + '.csv',index=False)\n",
    "\n",
    "    return pd.DataFrame(output_df)\n",
    "                    \n",
    "    # for each language:\n",
    "    # get kinship system\n",
    "    # get distance df and corr\n",
    "    # shuffle 1000 times and get corrs\n",
    "    # get mean of shuffled corrs\n",
    "    # get sd of shuffled corrs\n",
    "    # z = corr - mean / sd\n",
    "    # make data frame\n",
    "    \n",
    "# ok i think to make this faster you shouldn't do it as dfs, even though conceptually it is quite nice\n",
    "# just make many lists"
   ]
  },
  {
   "cell_type": "code",
   "execution_count": 67,
   "id": "5d0ce50d",
   "metadata": {},
   "outputs": [
    {
     "name": "stderr",
     "output_type": "stream",
     "text": [
      " 17%|██████████████                                                                      | 1/6 [00:00<00:01,  2.88it/s]"
     ]
    },
    {
     "name": "stdout",
     "output_type": "stream",
     "text": [
      "-0.0017596627768534682\n",
      "0.03518886718516533\n",
      "-4.924114668407227\n"
     ]
    },
    {
     "name": "stderr",
     "output_type": "stream",
     "text": [
      "\r",
      " 33%|████████████████████████████                                                        | 2/6 [00:01<00:03,  1.04it/s]"
     ]
    },
    {
     "name": "stdout",
     "output_type": "stream",
     "text": [
      "-0.00045066070199274147\n",
      "0.016713511011509922\n",
      "-3.0273509164370065\n"
     ]
    },
    {
     "name": "stderr",
     "output_type": "stream",
     "text": [
      "\r",
      " 50%|██████████████████████████████████████████                                          | 3/6 [00:03<00:03,  1.18s/it]"
     ]
    },
    {
     "name": "stdout",
     "output_type": "stream",
     "text": [
      "-0.0010386830304257666\n",
      "0.01750630393733558\n",
      "-5.9266996409322035\n"
     ]
    },
    {
     "name": "stderr",
     "output_type": "stream",
     "text": [
      "\r",
      " 67%|████████████████████████████████████████████████████████                            | 4/6 [00:04<00:02,  1.26s/it]"
     ]
    },
    {
     "name": "stdout",
     "output_type": "stream",
     "text": [
      "8.327577314587012e-05\n",
      "0.01630680311123444\n",
      "-3.4306354829358496\n"
     ]
    },
    {
     "name": "stderr",
     "output_type": "stream",
     "text": [
      "\r",
      " 83%|██████████████████████████████████████████████████████████████████████              | 5/6 [00:05<00:01,  1.20s/it]"
     ]
    },
    {
     "name": "stdout",
     "output_type": "stream",
     "text": [
      "8.088195698007228e-05\n",
      "0.020157399785331053\n",
      "-3.6003320256045193\n"
     ]
    },
    {
     "name": "stderr",
     "output_type": "stream",
     "text": [
      "100%|████████████████████████████████████████████████████████████████████████████████████| 6/6 [00:07<00:00,  1.19s/it]\n"
     ]
    },
    {
     "name": "stdout",
     "output_type": "stream",
     "text": [
      "0.0006719487390223695\n",
      "0.016993793485455155\n",
      "-6.4924533875021675\n"
     ]
    },
    {
     "name": "stderr",
     "output_type": "stream",
     "text": [
      "  3%|██▋                                                                                | 1/31 [00:00<00:09,  3.00it/s]"
     ]
    },
    {
     "name": "stdout",
     "output_type": "stream",
     "text": [
      "0.002234812338292821\n",
      "0.03762780995398888\n",
      "-3.7412038895384803\n"
     ]
    },
    {
     "name": "stderr",
     "output_type": "stream",
     "text": [
      "\r",
      " 90%|██████████████████████████████████████████████████████████████████████████        | 28/31 [00:01<00:00, 30.50it/s]"
     ]
    },
    {
     "name": "stdout",
     "output_type": "stream",
     "text": [
      "-7.163366886611866e-05\n",
      "0.025738542783653326\n",
      "-0.8950136193965857\n",
      "-0.001230501812404383\n",
      "0.03509080831152836\n",
      "-3.116985958881569\n",
      "0.0009192786565450985\n",
      "0.01931296278473146\n",
      "-7.491772306303769\n"
     ]
    },
    {
     "name": "stderr",
     "output_type": "stream",
     "text": [
      "100%|██████████████████████████████████████████████████████████████████████████████████| 31/31 [00:03<00:00,  7.97it/s]\n"
     ]
    },
    {
     "name": "stdout",
     "output_type": "stream",
     "text": [
      "0.000545113677368149\n",
      "0.016906564723119397\n",
      "-5.74062088271248\n"
     ]
    },
    {
     "name": "stderr",
     "output_type": "stream",
     "text": [
      " 12%|██████████▌                                                                         | 1/8 [00:00<00:05,  1.21it/s]"
     ]
    },
    {
     "name": "stdout",
     "output_type": "stream",
     "text": [
      "-0.0011621939258200649\n",
      "0.022412624141579057\n",
      "-3.7116043225229998\n"
     ]
    },
    {
     "name": "stderr",
     "output_type": "stream",
     "text": [
      "\r",
      " 25%|█████████████████████                                                               | 2/8 [00:01<00:04,  1.25it/s]"
     ]
    },
    {
     "name": "stdout",
     "output_type": "stream",
     "text": [
      "0.001045000139797526\n",
      "0.02264914089208758\n",
      "-4.72912471757197\n"
     ]
    },
    {
     "name": "stderr",
     "output_type": "stream",
     "text": [
      "\r",
      " 38%|███████████████████████████████▌                                                    | 3/8 [00:02<00:03,  1.39it/s]"
     ]
    },
    {
     "name": "stdout",
     "output_type": "stream",
     "text": [
      "0.00030212344116624444\n",
      "0.02652487975339864\n",
      "-5.669357690809866\n",
      "-0.0009469036413617247\n",
      "0.08822856934680189\n",
      "-4.255833502754403\n"
     ]
    },
    {
     "name": "stderr",
     "output_type": "stream",
     "text": [
      "\r",
      " 62%|████████████████████████████████████████████████████▌                               | 5/8 [00:03<00:02,  1.36it/s]"
     ]
    },
    {
     "name": "stdout",
     "output_type": "stream",
     "text": [
      "-0.0007300377750144938\n",
      "0.01727539790907308\n",
      "-5.840199750891446\n"
     ]
    },
    {
     "name": "stderr",
     "output_type": "stream",
     "text": [
      "\r",
      " 75%|███████████████████████████████████████████████████████████████                     | 6/8 [00:05<00:01,  1.07it/s]"
     ]
    },
    {
     "name": "stdout",
     "output_type": "stream",
     "text": [
      "-0.00016652667174209978\n",
      "0.01677870544982632\n",
      "-9.474266163639777\n"
     ]
    },
    {
     "name": "stderr",
     "output_type": "stream",
     "text": [
      "\r",
      " 88%|█████████████████████████████████████████████████████████████████████████▌          | 7/8 [00:06<00:01,  1.08s/it]"
     ]
    },
    {
     "name": "stdout",
     "output_type": "stream",
     "text": [
      "6.636505886402805e-05\n",
      "0.01643837547883122\n",
      "-6.786264402536771\n"
     ]
    },
    {
     "name": "stderr",
     "output_type": "stream",
     "text": [
      "100%|████████████████████████████████████████████████████████████████████████████████████| 8/8 [00:07<00:00,  1.08it/s]\n"
     ]
    },
    {
     "name": "stdout",
     "output_type": "stream",
     "text": [
      "0.00016095613913908756\n",
      "0.023266875502750323\n",
      "-4.535980734190646\n"
     ]
    },
    {
     "name": "stderr",
     "output_type": "stream",
     "text": [
      "  1%|▋                                                                                 | 1/117 [00:01<02:44,  1.42s/it]"
     ]
    },
    {
     "name": "stdout",
     "output_type": "stream",
     "text": [
      "0.0006513233649534758\n",
      "0.016640987243066376\n",
      "-7.278743637175551\n"
     ]
    },
    {
     "name": "stderr",
     "output_type": "stream",
     "text": [
      "  3%|██▊                                                                               | 4/117 [00:01<00:38,  2.97it/s]"
     ]
    },
    {
     "name": "stdout",
     "output_type": "stream",
     "text": [
      "0.0005522698633894363\n",
      "0.03750705891490501\n",
      "-0.05515607243187247\n",
      "0.004775197461795271\n",
      "0.0871168383122264\n",
      "-3.0333366982163743\n",
      "-0.003965029198097928\n",
      "0.18837408743618111\n",
      "0.11408161505333378\n"
     ]
    },
    {
     "name": "stderr",
     "output_type": "stream",
     "text": [
      "\r",
      "  4%|███▌                                                                              | 5/117 [00:02<00:30,  3.69it/s]"
     ]
    },
    {
     "name": "stdout",
     "output_type": "stream",
     "text": [
      "-0.0020541954364007037\n",
      "0.06598172049456583\n",
      "-0.9742565758625976\n",
      "-0.001113058627744159\n",
      "0.1058773683781474\n",
      "-4.933748687136752\n"
     ]
    },
    {
     "name": "stderr",
     "output_type": "stream",
     "text": [
      "\r",
      "  6%|████▉                                                                             | 7/117 [00:03<00:54,  2.03it/s]"
     ]
    },
    {
     "name": "stdout",
     "output_type": "stream",
     "text": [
      "-5.7082547466556165e-05\n",
      "0.017047835994241794\n",
      "3.384103836689928\n"
     ]
    },
    {
     "name": "stderr",
     "output_type": "stream",
     "text": [
      "\r",
      "  7%|█████▌                                                                            | 8/117 [00:04<01:00,  1.79it/s]"
     ]
    },
    {
     "name": "stdout",
     "output_type": "stream",
     "text": [
      "0.000710689338049265\n",
      "0.024719131265610143\n",
      "-3.8072125787752396\n"
     ]
    },
    {
     "name": "stderr",
     "output_type": "stream",
     "text": [
      "\r",
      "  8%|██████▎                                                                           | 9/117 [00:05<01:18,  1.37it/s]"
     ]
    },
    {
     "name": "stdout",
     "output_type": "stream",
     "text": [
      "-0.0001294177041712254\n",
      "0.02029671039432245\n",
      "-3.99163323596839\n"
     ]
    },
    {
     "name": "stderr",
     "output_type": "stream",
     "text": [
      "\r",
      "  9%|██████▉                                                                          | 10/117 [00:06<01:19,  1.34it/s]"
     ]
    },
    {
     "name": "stdout",
     "output_type": "stream",
     "text": [
      "0.0005335038910368592\n",
      "0.024701130506701245\n",
      "-5.575802618264663\n"
     ]
    },
    {
     "name": "stderr",
     "output_type": "stream",
     "text": [
      "\r",
      "  9%|███████▌                                                                         | 11/117 [00:07<01:41,  1.04it/s]"
     ]
    },
    {
     "name": "stdout",
     "output_type": "stream",
     "text": [
      "-0.0003955604960415834\n",
      "0.0172491328092567\n",
      "-5.146946628347465\n"
     ]
    },
    {
     "name": "stderr",
     "output_type": "stream",
     "text": [
      "\r",
      " 10%|████████▎                                                                        | 12/117 [00:09<01:55,  1.10s/it]"
     ]
    },
    {
     "name": "stdout",
     "output_type": "stream",
     "text": [
      "-0.0002015578295643068\n",
      "0.017637664561391\n",
      "-6.582367380535164\n",
      "0.0008684962373468938\n",
      "0.08602526898976778\n",
      "-6.740647191360893\n"
     ]
    },
    {
     "name": "stderr",
     "output_type": "stream",
     "text": [
      "\r",
      " 12%|█████████▋                                                                       | 14/117 [00:10<01:37,  1.06it/s]"
     ]
    },
    {
     "name": "stdout",
     "output_type": "stream",
     "text": [
      "-1.0292508469699702e-05\n",
      "0.01670904840308177\n",
      "-5.197247461194095\n"
     ]
    },
    {
     "name": "stderr",
     "output_type": "stream",
     "text": [
      "\r",
      " 13%|██████████▍                                                                      | 15/117 [00:12<01:52,  1.11s/it]"
     ]
    },
    {
     "name": "stdout",
     "output_type": "stream",
     "text": [
      "-0.0004893546791516506\n",
      "0.01678454659596989\n",
      "-0.9585822559315235\n"
     ]
    },
    {
     "name": "stderr",
     "output_type": "stream",
     "text": [
      "\r",
      " 14%|███████████                                                                      | 16/117 [00:13<01:59,  1.18s/it]"
     ]
    },
    {
     "name": "stdout",
     "output_type": "stream",
     "text": [
      "-0.0009881520294516266\n",
      "0.01691347774343601\n",
      "-4.010327284048054\n"
     ]
    },
    {
     "name": "stderr",
     "output_type": "stream",
     "text": [
      "\r",
      " 15%|███████████▊                                                                     | 17/117 [00:15<02:05,  1.26s/it]"
     ]
    },
    {
     "name": "stdout",
     "output_type": "stream",
     "text": [
      "0.001240152113612714\n",
      "0.017351243056669307\n",
      "-4.420857145296552\n"
     ]
    },
    {
     "name": "stderr",
     "output_type": "stream",
     "text": [
      "\r",
      " 15%|████████████▍                                                                    | 18/117 [00:16<02:09,  1.31s/it]"
     ]
    },
    {
     "name": "stdout",
     "output_type": "stream",
     "text": [
      "0.0006923552320672324\n",
      "0.016555362185240636\n",
      "-7.399116351302873\n"
     ]
    },
    {
     "name": "stderr",
     "output_type": "stream",
     "text": [
      "\r",
      " 16%|█████████████▏                                                                   | 19/117 [00:17<02:02,  1.25s/it]"
     ]
    },
    {
     "name": "stdout",
     "output_type": "stream",
     "text": [
      "-0.0013964021604433968\n",
      "0.01942895414310758\n",
      "-7.698835702922466\n",
      "nan\n",
      "nan\n",
      "nan\n"
     ]
    },
    {
     "name": "stderr",
     "output_type": "stream",
     "text": [
      "C:\\Anaconda\\lib\\site-packages\\scipy\\stats\\stats.py:4023: PearsonRConstantInputWarning: An input array is constant; the correlation coefficient is not defined.\n",
      "  warnings.warn(PearsonRConstantInputWarning())\n",
      " 18%|██████████████▌                                                                  | 21/117 [00:19<01:33,  1.03it/s]"
     ]
    },
    {
     "name": "stdout",
     "output_type": "stream",
     "text": [
      "1.3010148440847358e-05\n",
      "0.01885640276924792\n",
      "-6.293841292775656\n"
     ]
    },
    {
     "name": "stderr",
     "output_type": "stream",
     "text": [
      "\r",
      " 19%|███████████████▏                                                                 | 22/117 [00:20<01:43,  1.08s/it]"
     ]
    },
    {
     "name": "stdout",
     "output_type": "stream",
     "text": [
      "0.00026939318842500513\n",
      "0.01676531037023732\n",
      "-3.576931631490039\n"
     ]
    },
    {
     "name": "stderr",
     "output_type": "stream",
     "text": [
      "\r",
      " 20%|███████████████▉                                                                 | 23/117 [00:21<01:32,  1.02it/s]"
     ]
    },
    {
     "name": "stdout",
     "output_type": "stream",
     "text": [
      "0.00044936574285414356\n",
      "0.025515504115833715\n",
      "-11.074410678902938\n"
     ]
    },
    {
     "name": "stderr",
     "output_type": "stream",
     "text": [
      "\r",
      " 21%|████████████████▌                                                                | 24/117 [00:22<01:34,  1.02s/it]"
     ]
    },
    {
     "name": "stdout",
     "output_type": "stream",
     "text": [
      "0.0006327244598220693\n",
      "0.019986745049532028\n",
      "-4.065277417327198\n"
     ]
    },
    {
     "name": "stderr",
     "output_type": "stream",
     "text": [
      "\r",
      " 21%|█████████████████▎                                                               | 25/117 [00:22<01:23,  1.10it/s]"
     ]
    },
    {
     "name": "stdout",
     "output_type": "stream",
     "text": [
      "-0.0005151003914188653\n",
      "0.02737299237431554\n",
      "1.1692568632094318\n"
     ]
    },
    {
     "name": "stderr",
     "output_type": "stream",
     "text": [
      "\r",
      " 22%|██████████████████                                                               | 26/117 [00:24<01:33,  1.02s/it]"
     ]
    },
    {
     "name": "stdout",
     "output_type": "stream",
     "text": [
      "-0.0010741244386826571\n",
      "0.01856539799876363\n",
      "-1.1940299475017229\n"
     ]
    },
    {
     "name": "stderr",
     "output_type": "stream",
     "text": [
      "\r",
      " 23%|██████████████████▋                                                              | 27/117 [00:25<01:35,  1.07s/it]"
     ]
    },
    {
     "name": "stdout",
     "output_type": "stream",
     "text": [
      "0.00029148352416062293\n",
      "0.018518841276361633\n",
      "-3.0013609196244873\n"
     ]
    },
    {
     "name": "stderr",
     "output_type": "stream",
     "text": [
      "\r",
      " 24%|███████████████████▍                                                             | 28/117 [00:25<01:21,  1.09it/s]"
     ]
    },
    {
     "name": "stdout",
     "output_type": "stream",
     "text": [
      "-0.000190957642582935\n",
      "0.02805002355788172\n",
      "-7.416264013615053\n"
     ]
    },
    {
     "name": "stderr",
     "output_type": "stream",
     "text": [
      "\r",
      " 25%|████████████████████                                                             | 29/117 [00:27<01:35,  1.09s/it]"
     ]
    },
    {
     "name": "stdout",
     "output_type": "stream",
     "text": [
      "0.00019124394446884294\n",
      "0.01670119361276157\n",
      "-8.735749164374294\n"
     ]
    },
    {
     "name": "stderr",
     "output_type": "stream",
     "text": [
      "\r",
      " 26%|████████████████████▊                                                            | 30/117 [00:28<01:39,  1.14s/it]"
     ]
    },
    {
     "name": "stdout",
     "output_type": "stream",
     "text": [
      "-0.0006518796344500118\n",
      "0.018032441028655602\n",
      "-2.3922248615971076\n"
     ]
    },
    {
     "name": "stderr",
     "output_type": "stream",
     "text": [
      "\r",
      " 26%|█████████████████████▍                                                           | 31/117 [00:29<01:32,  1.07s/it]"
     ]
    },
    {
     "name": "stdout",
     "output_type": "stream",
     "text": [
      "0.00018334296758990554\n",
      "0.020730792021003915\n",
      "-4.700006714930827\n"
     ]
    },
    {
     "name": "stderr",
     "output_type": "stream",
     "text": [
      "\r",
      " 27%|██████████████████████▏                                                          | 32/117 [00:30<01:38,  1.16s/it]"
     ]
    },
    {
     "name": "stdout",
     "output_type": "stream",
     "text": [
      "0.000475367865128931\n",
      "0.017708242644133895\n",
      "-8.447941728996517\n"
     ]
    },
    {
     "name": "stderr",
     "output_type": "stream",
     "text": [
      "\r",
      " 28%|██████████████████████▊                                                          | 33/117 [00:31<01:20,  1.04it/s]"
     ]
    },
    {
     "name": "stdout",
     "output_type": "stream",
     "text": [
      "0.0009526206537193465\n",
      "0.029772048789170412\n",
      "0.4452538119079679\n"
     ]
    },
    {
     "name": "stderr",
     "output_type": "stream",
     "text": [
      "\r",
      " 29%|███████████████████████▌                                                         | 34/117 [00:32<01:19,  1.04it/s]"
     ]
    },
    {
     "name": "stdout",
     "output_type": "stream",
     "text": [
      "-0.0005214324528277451\n",
      "0.021130772522989012\n",
      "-6.0736735168509135\n"
     ]
    },
    {
     "name": "stderr",
     "output_type": "stream",
     "text": [
      "\r",
      " 30%|████████████████████████▏                                                        | 35/117 [00:33<01:30,  1.11s/it]"
     ]
    },
    {
     "name": "stdout",
     "output_type": "stream",
     "text": [
      "-0.0008705741402755587\n",
      "0.01673989284860711\n",
      "-7.153165944631029\n"
     ]
    },
    {
     "name": "stderr",
     "output_type": "stream",
     "text": [
      " 32%|█████████████████████████▌                                                       | 37/117 [00:34<00:52,  1.54it/s]"
     ]
    },
    {
     "name": "stdout",
     "output_type": "stream",
     "text": [
      "-0.0022141661529512468\n",
      "0.03737169949110739\n",
      "-1.7970007905229048\n",
      "-0.0006298337920357013\n",
      "0.06407486353242887\n",
      "-1.2887669470403675\n"
     ]
    },
    {
     "name": "stderr",
     "output_type": "stream",
     "text": [
      "\r",
      " 32%|██████████████████████████▎                                                      | 38/117 [00:35<01:11,  1.11it/s]"
     ]
    },
    {
     "name": "stdout",
     "output_type": "stream",
     "text": [
      "0.0005717842026582898\n",
      "0.016486795311568516\n",
      "-6.692820262336271\n"
     ]
    },
    {
     "name": "stderr",
     "output_type": "stream",
     "text": [
      "\r",
      " 33%|███████████████████████████                                                      | 39/117 [00:37<01:23,  1.07s/it]"
     ]
    },
    {
     "name": "stdout",
     "output_type": "stream",
     "text": [
      "-0.0004095772945249831\n",
      "0.016900056670697463\n",
      "-6.709068365110214\n"
     ]
    },
    {
     "name": "stderr",
     "output_type": "stream",
     "text": [
      "\r",
      " 34%|███████████████████████████▋                                                     | 40/117 [00:38<01:23,  1.08s/it]"
     ]
    },
    {
     "name": "stdout",
     "output_type": "stream",
     "text": [
      "-0.0003486641572218855\n",
      "0.0196951532400227\n",
      "-10.620824412754446\n"
     ]
    },
    {
     "name": "stderr",
     "output_type": "stream",
     "text": [
      "\r",
      " 35%|████████████████████████████▍                                                    | 41/117 [00:38<01:05,  1.16it/s]"
     ]
    },
    {
     "name": "stdout",
     "output_type": "stream",
     "text": [
      "0.0005885309991051224\n",
      "0.036216254380649085\n",
      "-4.385854747833722\n"
     ]
    },
    {
     "name": "stderr",
     "output_type": "stream",
     "text": [
      "\r",
      " 36%|█████████████████████████████                                                    | 42/117 [00:40<01:16,  1.02s/it]"
     ]
    },
    {
     "name": "stdout",
     "output_type": "stream",
     "text": [
      "-0.0014716237559820008\n",
      "0.01751304122480491\n",
      "-4.269223668516229\n"
     ]
    },
    {
     "name": "stderr",
     "output_type": "stream",
     "text": [
      "\r",
      " 37%|█████████████████████████████▊                                                   | 43/117 [00:40<01:08,  1.08it/s]"
     ]
    },
    {
     "name": "stdout",
     "output_type": "stream",
     "text": [
      "0.0007428763442323005\n",
      "0.024194227305533944\n",
      "-3.5415851239666916\n",
      "nan\n",
      "nan\n",
      "nan\n"
     ]
    },
    {
     "name": "stderr",
     "output_type": "stream",
     "text": [
      "\r",
      " 38%|███████████████████████████████▏                                                 | 45/117 [00:41<00:42,  1.71it/s]"
     ]
    },
    {
     "name": "stdout",
     "output_type": "stream",
     "text": [
      "-0.00020295560242301568\n",
      "0.03533293701900592\n",
      "0.35622020161263623\n"
     ]
    },
    {
     "name": "stderr",
     "output_type": "stream",
     "text": [
      "\r",
      " 39%|███████████████████████████████▊                                                 | 46/117 [00:42<00:53,  1.33it/s]"
     ]
    },
    {
     "name": "stdout",
     "output_type": "stream",
     "text": [
      "0.00011505480076827718\n",
      "0.018127960378796805\n",
      "-6.277027170013641\n"
     ]
    },
    {
     "name": "stderr",
     "output_type": "stream",
     "text": [
      "\r",
      " 40%|████████████████████████████████▌                                                | 47/117 [00:43<01:03,  1.10it/s]"
     ]
    },
    {
     "name": "stdout",
     "output_type": "stream",
     "text": [
      "-0.0004876207342162305\n",
      "0.017558649908612396\n",
      "-3.2311724461330287\n"
     ]
    },
    {
     "name": "stderr",
     "output_type": "stream",
     "text": [
      "\r",
      " 41%|█████████████████████████████████▏                                               | 48/117 [00:45<01:12,  1.06s/it]"
     ]
    },
    {
     "name": "stdout",
     "output_type": "stream",
     "text": [
      "-0.0013527501376241872\n",
      "0.016932390319803408\n",
      "-4.425646158029469\n"
     ]
    },
    {
     "name": "stderr",
     "output_type": "stream",
     "text": [
      "\r",
      " 42%|█████████████████████████████████▉                                               | 49/117 [00:46<01:06,  1.02it/s]"
     ]
    },
    {
     "name": "stdout",
     "output_type": "stream",
     "text": [
      "-0.00034596687017207205\n",
      "0.023584291318251172\n",
      "-4.565292535505042\n"
     ]
    },
    {
     "name": "stderr",
     "output_type": "stream",
     "text": [
      "\r",
      " 43%|██████████████████████████████████▌                                              | 50/117 [00:46<00:53,  1.25it/s]"
     ]
    },
    {
     "name": "stdout",
     "output_type": "stream",
     "text": [
      "0.0002617140188854249\n",
      "0.03792110132602467\n",
      "1.7652302411621232\n"
     ]
    },
    {
     "name": "stderr",
     "output_type": "stream",
     "text": [
      "\r",
      " 44%|███████████████████████████████████▎                                             | 51/117 [00:47<01:05,  1.01it/s]"
     ]
    },
    {
     "name": "stdout",
     "output_type": "stream",
     "text": [
      "-6.207489353373901e-05\n",
      "0.01645494074765116\n",
      "-6.981374648890119\n"
     ]
    },
    {
     "name": "stderr",
     "output_type": "stream",
     "text": [
      "\r",
      " 44%|████████████████████████████████████                                             | 52/117 [00:49<01:12,  1.11s/it]"
     ]
    },
    {
     "name": "stdout",
     "output_type": "stream",
     "text": [
      "2.7007948438272534e-05\n",
      "0.017939057434327912\n",
      "-5.121753281270882\n"
     ]
    },
    {
     "name": "stderr",
     "output_type": "stream",
     "text": [
      "\r",
      " 45%|████████████████████████████████████▋                                            | 53/117 [00:50<01:09,  1.09s/it]"
     ]
    },
    {
     "name": "stdout",
     "output_type": "stream",
     "text": [
      "0.0005419166396330184\n",
      "0.021355229798866258\n",
      "-0.9562368262262266\n"
     ]
    },
    {
     "name": "stderr",
     "output_type": "stream",
     "text": [
      "\r",
      " 46%|█████████████████████████████████████▍                                           | 54/117 [00:51<01:08,  1.09s/it]"
     ]
    },
    {
     "name": "stdout",
     "output_type": "stream",
     "text": [
      "0.00023453627254869401\n",
      "0.02145705944021628\n",
      "-1.3097143274791418\n"
     ]
    },
    {
     "name": "stderr",
     "output_type": "stream",
     "text": [
      "\r",
      " 47%|██████████████████████████████████████                                           | 55/117 [00:52<01:14,  1.20s/it]"
     ]
    },
    {
     "name": "stdout",
     "output_type": "stream",
     "text": [
      "0.0003220564348070295\n",
      "0.01667435669441302\n",
      "-8.08934621425677\n"
     ]
    },
    {
     "name": "stderr",
     "output_type": "stream",
     "text": [
      "\r",
      " 48%|██████████████████████████████████████▊                                          | 56/117 [00:54<01:12,  1.20s/it]"
     ]
    },
    {
     "name": "stdout",
     "output_type": "stream",
     "text": [
      "-6.202293681224469e-05\n",
      "0.0192571457328472\n",
      "-0.7231106049874518\n"
     ]
    },
    {
     "name": "stderr",
     "output_type": "stream",
     "text": [
      "\r",
      " 49%|███████████████████████████████████████▍                                         | 57/117 [00:55<01:20,  1.35s/it]"
     ]
    },
    {
     "name": "stdout",
     "output_type": "stream",
     "text": [
      "-0.00010625389909838701\n",
      "0.01672406698650197\n",
      "-6.6622269468469835\n"
     ]
    },
    {
     "name": "stderr",
     "output_type": "stream",
     "text": [
      "\r",
      " 50%|████████████████████████████████████████▏                                        | 58/117 [00:56<01:01,  1.03s/it]"
     ]
    },
    {
     "name": "stdout",
     "output_type": "stream",
     "text": [
      "-6.637337533921172e-05\n",
      "0.043014642352523724\n",
      "-0.07566083492383893\n"
     ]
    },
    {
     "name": "stderr",
     "output_type": "stream",
     "text": [
      "\r",
      " 50%|████████████████████████████████████████▊                                        | 59/117 [00:57<01:08,  1.18s/it]"
     ]
    },
    {
     "name": "stdout",
     "output_type": "stream",
     "text": [
      "0.0003066409104000571\n",
      "0.01730085552908561\n",
      "-6.8540446642754365\n"
     ]
    },
    {
     "name": "stderr",
     "output_type": "stream",
     "text": [
      "\r",
      " 51%|█████████████████████████████████████████▌                                       | 60/117 [00:59<01:12,  1.28s/it]"
     ]
    },
    {
     "name": "stdout",
     "output_type": "stream",
     "text": [
      "-0.00047572842970316516\n",
      "0.016415557031245764\n",
      "0.18333351870121428\n",
      "0.0010898257963452042\n",
      "0.09435551678669017\n",
      "-1.2453465647579045\n"
     ]
    },
    {
     "name": "stderr",
     "output_type": "stream",
     "text": [
      "\r",
      " 53%|██████████████████████████████████████████▉                                      | 62/117 [01:00<00:59,  1.07s/it]"
     ]
    },
    {
     "name": "stdout",
     "output_type": "stream",
     "text": [
      "-0.0011406822777609603\n",
      "0.01714349479822186\n",
      "-2.1190377467899912\n"
     ]
    },
    {
     "name": "stderr",
     "output_type": "stream",
     "text": [
      "\r",
      " 54%|███████████████████████████████████████████▌                                     | 63/117 [01:02<01:03,  1.18s/it]"
     ]
    },
    {
     "name": "stdout",
     "output_type": "stream",
     "text": [
      "-0.00017948702163133804\n",
      "0.01704453651173892\n",
      "-6.606371525350451\n"
     ]
    },
    {
     "name": "stderr",
     "output_type": "stream",
     "text": [
      "\r",
      " 56%|█████████████████████████████████████████████                                    | 65/117 [01:02<00:40,  1.30it/s]"
     ]
    },
    {
     "name": "stdout",
     "output_type": "stream",
     "text": [
      "-0.00015006984402495815\n",
      "0.03594415122535516\n",
      "-6.469685620411761\n"
     ]
    },
    {
     "name": "stderr",
     "output_type": "stream",
     "text": [
      "\r",
      " 56%|█████████████████████████████████████████████▋                                   | 66/117 [01:04<00:47,  1.07it/s]"
     ]
    },
    {
     "name": "stdout",
     "output_type": "stream",
     "text": [
      "-0.0003937772240894314\n",
      "0.017525867010453954\n",
      "0.4696848641250291\n",
      "nan\n",
      "nan\n",
      "nan\n",
      "nan\n",
      "nan\n",
      "nan\n"
     ]
    },
    {
     "name": "stderr",
     "output_type": "stream",
     "text": [
      "\r",
      " 59%|███████████████████████████████████████████████▊                                 | 69/117 [01:04<00:25,  1.88it/s]"
     ]
    },
    {
     "name": "stdout",
     "output_type": "stream",
     "text": [
      "0.0011891002350628357\n",
      "0.04421432660242996\n",
      "-4.55482683823729\n"
     ]
    },
    {
     "name": "stderr",
     "output_type": "stream",
     "text": [
      " 61%|█████████████████████████████████████████████████▏                               | 71/117 [01:06<00:27,  1.67it/s]"
     ]
    },
    {
     "name": "stdout",
     "output_type": "stream",
     "text": [
      "-0.00010750638401597243\n",
      "0.018607696198775767\n",
      "-4.97458355440224\n",
      "-0.002993719681221872\n",
      "0.05154150525661172\n",
      "-3.61833243065957\n"
     ]
    },
    {
     "name": "stderr",
     "output_type": "stream",
     "text": [
      "\r",
      " 62%|█████████████████████████████████████████████████▊                               | 72/117 [01:07<00:36,  1.24it/s]"
     ]
    },
    {
     "name": "stdout",
     "output_type": "stream",
     "text": [
      "0.0001455583413229986\n",
      "0.016905563800241215\n",
      "-1.9950025994706084\n"
     ]
    },
    {
     "name": "stderr",
     "output_type": "stream",
     "text": [
      "\r",
      " 62%|██████████████████████████████████████████████████▌                              | 73/117 [01:08<00:33,  1.33it/s]"
     ]
    },
    {
     "name": "stdout",
     "output_type": "stream",
     "text": [
      "-0.0007624752576582865\n",
      "0.027533200164652667\n",
      "1.5601940693878598\n"
     ]
    },
    {
     "name": "stderr",
     "output_type": "stream",
     "text": [
      "\r",
      " 63%|███████████████████████████████████████████████████▏                             | 74/117 [01:09<00:39,  1.08it/s]"
     ]
    },
    {
     "name": "stdout",
     "output_type": "stream",
     "text": [
      "-0.000601314515605065\n",
      "0.01699410899000999\n",
      "-1.8159331244287134\n",
      "nan\n",
      "nan\n",
      "nan\n"
     ]
    },
    {
     "name": "stderr",
     "output_type": "stream",
     "text": [
      "\r",
      " 65%|████████████████████████████████████████████████████▌                            | 76/117 [01:11<00:34,  1.20it/s]"
     ]
    },
    {
     "name": "stdout",
     "output_type": "stream",
     "text": [
      "-0.00018648403303894002\n",
      "0.01706607538527806\n",
      "-9.519714814856012\n"
     ]
    },
    {
     "name": "stderr",
     "output_type": "stream",
     "text": [
      "\r",
      " 66%|█████████████████████████████████████████████████████▎                           | 77/117 [01:11<00:27,  1.45it/s]"
     ]
    },
    {
     "name": "stdout",
     "output_type": "stream",
     "text": [
      "-0.001105749768475485\n",
      "0.04676871705882855\n",
      "-0.5713817920005901\n",
      "-0.0011839276425082664\n",
      "0.088234238189502\n",
      "-1.1625037700874863\n"
     ]
    },
    {
     "name": "stderr",
     "output_type": "stream",
     "text": [
      "\r",
      " 68%|██████████████████████████████████████████████████████▋                          | 79/117 [01:11<00:17,  2.17it/s]"
     ]
    },
    {
     "name": "stdout",
     "output_type": "stream",
     "text": [
      "-0.002298072927374267\n",
      "0.06284457778104538\n",
      "0.9751229254765349\n"
     ]
    },
    {
     "name": "stderr",
     "output_type": "stream",
     "text": [
      "\r",
      " 68%|███████████████████████████████████████████████████████▍                         | 80/117 [01:12<00:24,  1.54it/s]"
     ]
    },
    {
     "name": "stdout",
     "output_type": "stream",
     "text": [
      "-0.0005101288004311787\n",
      "0.01894579127492347\n",
      "-2.6443185813775485\n"
     ]
    },
    {
     "name": "stderr",
     "output_type": "stream",
     "text": [
      " 70%|████████████████████████████████████████████████████████▊                        | 82/117 [01:13<00:19,  1.80it/s]"
     ]
    },
    {
     "name": "stdout",
     "output_type": "stream",
     "text": [
      "0.0006991871242512147\n",
      "0.022087213079166782\n",
      "-9.83518147331664\n",
      "-0.00020486640729933846\n",
      "0.06168523037228338\n",
      "0.915852991694402\n"
     ]
    },
    {
     "name": "stderr",
     "output_type": "stream",
     "text": [
      "\r",
      " 71%|█████████████████████████████████████████████████████████▍                       | 83/117 [01:14<00:16,  2.03it/s]"
     ]
    },
    {
     "name": "stdout",
     "output_type": "stream",
     "text": [
      "0.0021583122002477645\n",
      "0.038874358446184344\n",
      "-2.0477023826184255\n",
      "nan\n",
      "nan\n",
      "nan\n"
     ]
    },
    {
     "name": "stderr",
     "output_type": "stream",
     "text": [
      "\r",
      " 73%|██████████████████████████████████████████████████████████▊                      | 85/117 [01:15<00:15,  2.07it/s]"
     ]
    },
    {
     "name": "stdout",
     "output_type": "stream",
     "text": [
      "0.0008965592202887079\n",
      "0.020867780407757244\n",
      "-5.782693287574295\n"
     ]
    },
    {
     "name": "stderr",
     "output_type": "stream",
     "text": [
      " 74%|████████████████████████████████████████████████████████████▏                    | 87/117 [01:16<00:15,  1.88it/s]"
     ]
    },
    {
     "name": "stdout",
     "output_type": "stream",
     "text": [
      "9.697194021993438e-05\n",
      "0.01801967773660336\n",
      "-4.76545360832737\n",
      "-0.0023750995302767694\n",
      "0.06032424759873806\n",
      "-0.5868967604558124\n"
     ]
    },
    {
     "name": "stderr",
     "output_type": "stream",
     "text": [
      "\r",
      " 75%|████████████████████████████████████████████████████████████▉                    | 88/117 [01:17<00:18,  1.56it/s]"
     ]
    },
    {
     "name": "stdout",
     "output_type": "stream",
     "text": [
      "-0.0005246285680348785\n",
      "0.020973898414801365\n",
      "-3.230952031105006\n",
      "nan\n",
      "nan\n",
      "nan\n"
     ]
    },
    {
     "name": "stderr",
     "output_type": "stream",
     "text": [
      "\r",
      " 78%|███████████████████████████████████████████████████████████████                  | 91/117 [01:18<00:14,  1.75it/s]"
     ]
    },
    {
     "name": "stdout",
     "output_type": "stream",
     "text": [
      "0.00027269337454651876\n",
      "0.01645271203258542\n",
      "-5.808946163518376\n"
     ]
    },
    {
     "name": "stderr",
     "output_type": "stream",
     "text": [
      "\r",
      " 79%|███████████████████████████████████████████████████████████████▋                 | 92/117 [01:19<00:12,  1.92it/s]"
     ]
    },
    {
     "name": "stdout",
     "output_type": "stream",
     "text": [
      "0.0008933730095509064\n",
      "0.03753707443707194\n",
      "-1.9368964849301775\n"
     ]
    },
    {
     "name": "stderr",
     "output_type": "stream",
     "text": [
      "\r",
      " 79%|████████████████████████████████████████████████████████████████▍                | 93/117 [01:19<00:11,  2.07it/s]"
     ]
    },
    {
     "name": "stdout",
     "output_type": "stream",
     "text": [
      "-0.00047298923790861885\n",
      "0.037039151717181126\n",
      "-1.3481125882310916\n"
     ]
    },
    {
     "name": "stderr",
     "output_type": "stream",
     "text": [
      " 81%|█████████████████████████████████████████████████████████████████▊               | 95/117 [01:21<00:12,  1.76it/s]"
     ]
    },
    {
     "name": "stdout",
     "output_type": "stream",
     "text": [
      "-0.00018799240127389006\n",
      "0.01629607223683497\n",
      "-3.333850184011331\n",
      "0.003213256714315474\n",
      "0.06531384939546231\n",
      "-2.235952812107711\n"
     ]
    },
    {
     "name": "stderr",
     "output_type": "stream",
     "text": [
      "\r",
      " 82%|██████████████████████████████████████████████████████████████████▍              | 96/117 [01:21<00:11,  1.88it/s]"
     ]
    },
    {
     "name": "stdout",
     "output_type": "stream",
     "text": [
      "0.0006984713359110738\n",
      "0.030972046172333807\n",
      "-3.8758777338524992\n"
     ]
    },
    {
     "name": "stderr",
     "output_type": "stream",
     "text": [
      "\r",
      " 83%|███████████████████████████████████████████████████████████████████▏             | 97/117 [01:22<00:09,  2.02it/s]"
     ]
    },
    {
     "name": "stdout",
     "output_type": "stream",
     "text": [
      "-0.0004424355260372608\n",
      "0.0335189101021684\n",
      "-4.0694203033345\n",
      "-0.008127733765612417\n",
      "0.11932004785741131\n",
      "-3.749438893212221\n"
     ]
    },
    {
     "name": "stderr",
     "output_type": "stream",
     "text": [
      "\r",
      " 85%|████████████████████████████████████████████████████████████████████▌            | 99/117 [01:23<00:10,  1.77it/s]"
     ]
    },
    {
     "name": "stdout",
     "output_type": "stream",
     "text": [
      "-0.0006120846793599921\n",
      "0.018230484897856395\n",
      "-2.0539611228781993\n"
     ]
    },
    {
     "name": "stderr",
     "output_type": "stream",
     "text": [
      "\r",
      " 85%|████████████████████████████████████████████████████████████████████▍           | 100/117 [01:24<00:11,  1.47it/s]"
     ]
    },
    {
     "name": "stdout",
     "output_type": "stream",
     "text": [
      "-0.0011684964380670913\n",
      "0.019975977238390293\n",
      "-2.9565670725599804\n"
     ]
    },
    {
     "name": "stderr",
     "output_type": "stream",
     "text": [
      "\r",
      " 86%|█████████████████████████████████████████████████████████████████████           | 101/117 [01:25<00:10,  1.47it/s]"
     ]
    },
    {
     "name": "stdout",
     "output_type": "stream",
     "text": [
      "7.339994536576655e-05\n",
      "0.025652193624012377\n",
      "-6.301610880306813\n"
     ]
    },
    {
     "name": "stderr",
     "output_type": "stream",
     "text": [
      "\r",
      " 87%|█████████████████████████████████████████████████████████████████████▋          | 102/117 [01:26<00:13,  1.14it/s]"
     ]
    },
    {
     "name": "stdout",
     "output_type": "stream",
     "text": [
      "-0.00035332739926548923\n",
      "0.017125254834716202\n",
      "0.6498579054187729\n",
      "nan\n",
      "nan\n",
      "nan\n"
     ]
    },
    {
     "name": "stderr",
     "output_type": "stream",
     "text": [
      "\r",
      " 89%|███████████████████████████████████████████████████████████████████████         | 104/117 [01:26<00:07,  1.75it/s]"
     ]
    },
    {
     "name": "stdout",
     "output_type": "stream",
     "text": [
      "-0.001378211592170531\n",
      "0.03743242457225401\n",
      "-3.0449585079277206\n"
     ]
    },
    {
     "name": "stderr",
     "output_type": "stream",
     "text": [
      "\r",
      " 90%|███████████████████████████████████████████████████████████████████████▊        | 105/117 [01:28<00:09,  1.29it/s]"
     ]
    },
    {
     "name": "stdout",
     "output_type": "stream",
     "text": [
      "-0.0006176760033251274\n",
      "0.016979269550992583\n",
      "-1.1855523877808993\n"
     ]
    },
    {
     "name": "stderr",
     "output_type": "stream",
     "text": [
      "\r",
      " 91%|████████████████████████████████████████████████████████████████████████▍       | 106/117 [01:29<00:09,  1.12it/s]"
     ]
    },
    {
     "name": "stdout",
     "output_type": "stream",
     "text": [
      "0.0003659330587494576\n",
      "0.01708809711825202\n",
      "3.2921415034211075\n"
     ]
    },
    {
     "name": "stderr",
     "output_type": "stream",
     "text": [
      "\r",
      " 91%|█████████████████████████████████████████████████████████████████████████▏      | 107/117 [01:30<00:08,  1.15it/s]"
     ]
    },
    {
     "name": "stdout",
     "output_type": "stream",
     "text": [
      "0.000881631371137612\n",
      "0.02269149960622115\n",
      "-4.689789401037045\n"
     ]
    },
    {
     "name": "stderr",
     "output_type": "stream",
     "text": [
      "\r",
      " 92%|█████████████████████████████████████████████████████████████████████████▊      | 108/117 [01:30<00:07,  1.22it/s]"
     ]
    },
    {
     "name": "stdout",
     "output_type": "stream",
     "text": [
      "-0.00027008436626656495\n",
      "0.025085367255479954\n",
      "-0.13364016824897385\n",
      "nan\n",
      "nan\n",
      "nan\n"
     ]
    },
    {
     "name": "stderr",
     "output_type": "stream",
     "text": [
      "\r",
      " 94%|███████████████████████████████████████████████████████████████████████████▏    | 110/117 [01:32<00:05,  1.28it/s]"
     ]
    },
    {
     "name": "stdout",
     "output_type": "stream",
     "text": [
      "-0.001087624641432075\n",
      "0.017200640556413883\n",
      "-8.164364604581715\n"
     ]
    },
    {
     "name": "stderr",
     "output_type": "stream",
     "text": [
      " 96%|████████████████████████████████████████████████████████████████████████████▌   | 112/117 [01:33<00:03,  1.37it/s]"
     ]
    },
    {
     "name": "stdout",
     "output_type": "stream",
     "text": [
      "0.0004232861509561255\n",
      "0.018858167256543833\n",
      "-4.028672914313695\n",
      "-0.0005422941916477384\n",
      "0.056574062993728066\n",
      "-2.1621227677685484\n",
      "nan\n",
      "nan\n",
      "nan\n"
     ]
    },
    {
     "name": "stderr",
     "output_type": "stream",
     "text": [
      "\r",
      " 97%|█████████████████████████████████████████████████████████████████████████████▉  | 114/117 [01:35<00:02,  1.40it/s]"
     ]
    },
    {
     "name": "stdout",
     "output_type": "stream",
     "text": [
      "0.0006923666138974583\n",
      "0.019734135948928772\n",
      "-0.9547981236790919\n"
     ]
    },
    {
     "name": "stderr",
     "output_type": "stream",
     "text": [
      "\r",
      " 98%|██████████████████████████████████████████████████████████████████████████████▋ | 115/117 [01:35<00:01,  1.48it/s]"
     ]
    },
    {
     "name": "stdout",
     "output_type": "stream",
     "text": [
      "0.001341838457125614\n",
      "0.03203780019069486\n",
      "1.2324092483445594\n"
     ]
    },
    {
     "name": "stderr",
     "output_type": "stream",
     "text": [
      "\r",
      " 99%|███████████████████████████████████████████████████████████████████████████████▎| 116/117 [01:36<00:00,  1.57it/s]"
     ]
    },
    {
     "name": "stdout",
     "output_type": "stream",
     "text": [
      "-0.0014696463829653522\n",
      "0.03647862835367881\n",
      "-6.275365283916144\n"
     ]
    },
    {
     "name": "stderr",
     "output_type": "stream",
     "text": [
      "100%|████████████████████████████████████████████████████████████████████████████████| 117/117 [01:38<00:00,  1.19it/s]\n"
     ]
    },
    {
     "name": "stdout",
     "output_type": "stream",
     "text": [
      "0.0007801862520629738\n",
      "0.016767555203882383\n",
      "-4.951077640451706\n"
     ]
    },
    {
     "name": "stderr",
     "output_type": "stream",
     "text": [
      " 14%|████████████                                                                        | 1/7 [00:00<00:02,  2.82it/s]"
     ]
    },
    {
     "name": "stdout",
     "output_type": "stream",
     "text": [
      "-0.0011466869178114946\n",
      "0.03655319576372747\n",
      "-2.54526349111361\n"
     ]
    },
    {
     "name": "stderr",
     "output_type": "stream",
     "text": [
      "\r",
      " 29%|████████████████████████                                                            | 2/7 [00:01<00:04,  1.05it/s]"
     ]
    },
    {
     "name": "stdout",
     "output_type": "stream",
     "text": [
      "0.00025321418050808746\n",
      "0.01719583449566622\n",
      "-7.769982011790517\n",
      "nan\n",
      "nan\n",
      "nan\n",
      "nan\n",
      "nan"
     ]
    },
    {
     "name": "stderr",
     "output_type": "stream",
     "text": [
      "\r",
      " 57%|████████████████████████████████████████████████                                    | 4/7 [00:01<00:01,  2.42it/s]"
     ]
    },
    {
     "name": "stdout",
     "output_type": "stream",
     "text": [
      "\n",
      "nan\n"
     ]
    },
    {
     "name": "stderr",
     "output_type": "stream",
     "text": [
      "\r",
      " 71%|████████████████████████████████████████████████████████████                        | 5/7 [00:03<00:01,  1.48it/s]"
     ]
    },
    {
     "name": "stdout",
     "output_type": "stream",
     "text": [
      "8.107607376358977e-05\n",
      "0.017597739831262525\n",
      "-4.957598005471446\n",
      "0.00018611982544241258\n"
     ]
    },
    {
     "name": "stderr",
     "output_type": "stream",
     "text": [
      "\r",
      " 86%|████████████████████████████████████████████████████████████████████████            | 6/7 [00:03<00:00,  1.91it/s]"
     ]
    },
    {
     "name": "stdout",
     "output_type": "stream",
     "text": [
      "0.05258525651605594\n",
      "0.20597518582880456\n"
     ]
    },
    {
     "name": "stderr",
     "output_type": "stream",
     "text": [
      "100%|████████████████████████████████████████████████████████████████████████████████████| 7/7 [00:04<00:00,  1.47it/s]\n"
     ]
    },
    {
     "name": "stdout",
     "output_type": "stream",
     "text": [
      "0.0005660873906295043\n",
      "0.01750593930853646\n",
      "-9.005151819482258\n"
     ]
    },
    {
     "name": "stderr",
     "output_type": "stream",
     "text": [
      "  0%|▏                                                                                 | 1/377 [00:01<07:47,  1.24s/it]"
     ]
    },
    {
     "name": "stdout",
     "output_type": "stream",
     "text": [
      "0.0013875199198410517\n",
      "0.020864447261527495\n",
      "-3.162906871128582\n"
     ]
    },
    {
     "name": "stderr",
     "output_type": "stream",
     "text": [
      "\r",
      "  1%|▍                                                                                 | 2/377 [00:01<04:35,  1.36it/s]"
     ]
    },
    {
     "name": "stdout",
     "output_type": "stream",
     "text": [
      "-0.0014035710782097507\n",
      "0.03754226852363569\n",
      "1.5417929311060972\n"
     ]
    },
    {
     "name": "stderr",
     "output_type": "stream",
     "text": [
      "\r",
      "  1%|▋                                                                                 | 3/377 [00:03<06:29,  1.04s/it]"
     ]
    },
    {
     "name": "stdout",
     "output_type": "stream",
     "text": [
      "0.0006606863519161671\n",
      "0.016798797346227794\n",
      "-6.734412226904967\n"
     ]
    },
    {
     "name": "stderr",
     "output_type": "stream",
     "text": [
      "\r",
      "  1%|▊                                                                                 | 4/377 [00:04<07:20,  1.18s/it]"
     ]
    },
    {
     "name": "stdout",
     "output_type": "stream",
     "text": [
      "0.00021158190184888986\n",
      "0.01701826770808926\n",
      "-3.3410099672838243\n",
      "0.0016547717766808912\n",
      "0.08349706678715456\n",
      "-4.167174739962956\n"
     ]
    },
    {
     "name": "stderr",
     "output_type": "stream",
     "text": [
      "\r",
      "  2%|█▎                                                                                | 6/377 [00:05<05:50,  1.06it/s]"
     ]
    },
    {
     "name": "stdout",
     "output_type": "stream",
     "text": [
      "-0.0007174624433012275\n",
      "0.017502851029921263\n",
      "2.681038120766925\n"
     ]
    },
    {
     "name": "stderr",
     "output_type": "stream",
     "text": [
      "\r",
      "  2%|█▌                                                                                | 7/377 [00:07<07:02,  1.14s/it]"
     ]
    },
    {
     "name": "stdout",
     "output_type": "stream",
     "text": [
      "0.00039841958751459384\n",
      "0.01729289759452114\n",
      "-1.258987169124803\n"
     ]
    },
    {
     "name": "stderr",
     "output_type": "stream",
     "text": [
      "\r",
      "  2%|█▋                                                                                | 8/377 [00:08<06:27,  1.05s/it]"
     ]
    },
    {
     "name": "stdout",
     "output_type": "stream",
     "text": [
      "-0.0013046485458506297\n",
      "0.024481151466292466\n",
      "1.4730006511981777\n"
     ]
    },
    {
     "name": "stderr",
     "output_type": "stream",
     "text": [
      "\r",
      "  2%|█▉                                                                                | 9/377 [00:09<07:23,  1.21s/it]"
     ]
    },
    {
     "name": "stdout",
     "output_type": "stream",
     "text": [
      "0.00017548904228279928\n",
      "0.017057811008182867\n",
      "-3.996908036997672\n"
     ]
    },
    {
     "name": "stderr",
     "output_type": "stream",
     "text": [
      "\r",
      "  3%|██▏                                                                              | 10/377 [00:11<07:26,  1.22s/it]"
     ]
    },
    {
     "name": "stdout",
     "output_type": "stream",
     "text": [
      "4.227206655180824e-05\n",
      "0.02028375482647095\n",
      "0.7845134129786356\n"
     ]
    },
    {
     "name": "stderr",
     "output_type": "stream",
     "text": [
      "\r",
      "  3%|██▎                                                                              | 11/377 [00:11<05:56,  1.03it/s]"
     ]
    },
    {
     "name": "stdout",
     "output_type": "stream",
     "text": [
      "0.00196079993252079\n",
      "0.042956873604971316\n",
      "2.454676478028766\n"
     ]
    },
    {
     "name": "stderr",
     "output_type": "stream",
     "text": [
      "\r",
      "  3%|██▌                                                                              | 12/377 [00:11<04:45,  1.28it/s]"
     ]
    },
    {
     "name": "stdout",
     "output_type": "stream",
     "text": [
      "-0.0007997500120312219\n",
      "0.04441634644639439\n",
      "-0.6840255367835772\n"
     ]
    },
    {
     "name": "stderr",
     "output_type": "stream",
     "text": [
      "  4%|███                                                                              | 14/377 [00:12<03:09,  1.91it/s]"
     ]
    },
    {
     "name": "stdout",
     "output_type": "stream",
     "text": [
      "0.0011446377627049875\n",
      "0.035703060775928726\n",
      "-6.483859252606829\n",
      "-0.001465208926278943\n",
      "0.08878741858594746\n",
      "-5.207216445401288\n"
     ]
    },
    {
     "name": "stderr",
     "output_type": "stream",
     "text": [
      "\r",
      "  4%|███▏                                                                             | 15/377 [00:13<04:08,  1.46it/s]"
     ]
    },
    {
     "name": "stdout",
     "output_type": "stream",
     "text": [
      "-0.0002606865991393804\n",
      "0.02219166317929094\n",
      "0.20230545212785062\n"
     ]
    },
    {
     "name": "stderr",
     "output_type": "stream",
     "text": [
      "\r",
      "  4%|███▍                                                                             | 16/377 [00:14<04:36,  1.31it/s]"
     ]
    },
    {
     "name": "stdout",
     "output_type": "stream",
     "text": [
      "-0.00020747188277203622\n",
      "0.020108868531216538\n",
      "2.10780010536505\n"
     ]
    },
    {
     "name": "stderr",
     "output_type": "stream",
     "text": [
      "\r",
      "  5%|███▋                                                                             | 17/377 [00:14<03:48,  1.57it/s]"
     ]
    },
    {
     "name": "stdout",
     "output_type": "stream",
     "text": [
      "0.0006691618930347649\n",
      "0.03943406411968781\n",
      "-1.412610148900087\n"
     ]
    },
    {
     "name": "stderr",
     "output_type": "stream",
     "text": [
      "\r",
      "  5%|███▊                                                                             | 18/377 [00:15<03:35,  1.67it/s]"
     ]
    },
    {
     "name": "stdout",
     "output_type": "stream",
     "text": [
      "-0.0012357472684417954\n",
      "0.02951615364102167\n",
      "1.3398093929739108\n"
     ]
    },
    {
     "name": "stderr",
     "output_type": "stream",
     "text": [
      "\r",
      "  5%|████                                                                             | 19/377 [00:15<03:20,  1.79it/s]"
     ]
    },
    {
     "name": "stdout",
     "output_type": "stream",
     "text": [
      "0.000692471592612301\n",
      "0.031078437880145117\n",
      "1.2875340055040683\n"
     ]
    },
    {
     "name": "stderr",
     "output_type": "stream",
     "text": [
      "\r",
      "  5%|████▎                                                                            | 20/377 [00:16<02:42,  2.19it/s]"
     ]
    },
    {
     "name": "stdout",
     "output_type": "stream",
     "text": [
      "0.0010139487396258937\n",
      "0.04886332961073564\n",
      "1.857127368964313\n"
     ]
    },
    {
     "name": "stderr",
     "output_type": "stream",
     "text": [
      "\r",
      "  6%|████▌                                                                            | 21/377 [00:17<04:20,  1.37it/s]"
     ]
    },
    {
     "name": "stdout",
     "output_type": "stream",
     "text": [
      "6.230323226216228e-05\n",
      "0.017253099825434826\n",
      "-5.194387249629277\n"
     ]
    },
    {
     "name": "stderr",
     "output_type": "stream",
     "text": [
      "\r",
      "  6%|████▋                                                                            | 22/377 [00:18<05:13,  1.13it/s]"
     ]
    },
    {
     "name": "stdout",
     "output_type": "stream",
     "text": [
      "0.00014002366837791836\n",
      "0.017914430689162732\n",
      "-13.558529934265588\n"
     ]
    },
    {
     "name": "stderr",
     "output_type": "stream",
     "text": [
      "\r",
      "  6%|████▉                                                                            | 23/377 [00:19<04:15,  1.39it/s]"
     ]
    },
    {
     "name": "stdout",
     "output_type": "stream",
     "text": [
      "-0.0013272491105681494\n",
      "0.03847787697120695\n",
      "-1.295955134815568\n"
     ]
    },
    {
     "name": "stderr",
     "output_type": "stream",
     "text": [
      "\r",
      "  6%|█████▏                                                                           | 24/377 [00:19<03:37,  1.62it/s]"
     ]
    },
    {
     "name": "stdout",
     "output_type": "stream",
     "text": [
      "3.8382141494835986e-06\n",
      "0.035473779691710484\n",
      "-1.0174851612470603\n"
     ]
    },
    {
     "name": "stderr",
     "output_type": "stream",
     "text": [
      "\r",
      "  7%|█████▎                                                                           | 25/377 [00:19<03:07,  1.88it/s]"
     ]
    },
    {
     "name": "stdout",
     "output_type": "stream",
     "text": [
      "-0.0009523735720961282\n",
      "0.037458860708226904\n",
      "-4.353358160826615\n"
     ]
    },
    {
     "name": "stderr",
     "output_type": "stream",
     "text": [
      "\r",
      "  7%|█████▌                                                                           | 26/377 [00:21<04:45,  1.23it/s]"
     ]
    },
    {
     "name": "stdout",
     "output_type": "stream",
     "text": [
      "0.0001809286757086992\n",
      "0.01715992438939664\n",
      "-5.326869203703917\n"
     ]
    },
    {
     "name": "stderr",
     "output_type": "stream",
     "text": [
      "\r",
      "  7%|█████▊                                                                           | 27/377 [00:22<05:52,  1.01s/it]"
     ]
    },
    {
     "name": "stdout",
     "output_type": "stream",
     "text": [
      "1.9840216500526253e-05\n",
      "0.017238899185126427\n",
      "0.034388082588117576\n"
     ]
    },
    {
     "name": "stderr",
     "output_type": "stream",
     "text": [
      "\r",
      "  7%|██████                                                                           | 28/377 [00:24<06:34,  1.13s/it]"
     ]
    },
    {
     "name": "stdout",
     "output_type": "stream",
     "text": [
      "-0.00021170023063879755\n",
      "0.01702137787019565\n",
      "-6.0426352490073985\n"
     ]
    },
    {
     "name": "stderr",
     "output_type": "stream",
     "text": [
      "\r",
      "  8%|██████▏                                                                          | 29/377 [00:25<07:00,  1.21s/it]"
     ]
    },
    {
     "name": "stdout",
     "output_type": "stream",
     "text": [
      "-0.0002940719735065687\n",
      "0.016704410031099865\n",
      "-4.720117002858655\n"
     ]
    },
    {
     "name": "stderr",
     "output_type": "stream",
     "text": [
      "\r",
      "  8%|██████▍                                                                          | 30/377 [00:26<07:19,  1.27s/it]"
     ]
    },
    {
     "name": "stdout",
     "output_type": "stream",
     "text": [
      "-0.0008789178462689544\n",
      "0.01704415123292991\n",
      "-5.995415019086435\n"
     ]
    },
    {
     "name": "stderr",
     "output_type": "stream",
     "text": [
      "\r",
      "  8%|██████▋                                                                          | 31/377 [00:27<05:35,  1.03it/s]"
     ]
    },
    {
     "name": "stdout",
     "output_type": "stream",
     "text": [
      "-0.0013210888687155533\n",
      "0.04146899034499968\n",
      "-0.5837663499931298\n"
     ]
    },
    {
     "name": "stderr",
     "output_type": "stream",
     "text": [
      "  9%|███████                                                                          | 33/377 [00:28<04:36,  1.25it/s]"
     ]
    },
    {
     "name": "stdout",
     "output_type": "stream",
     "text": [
      "0.00031308538339350314\n",
      "0.016921424434314842\n",
      "-1.1836389531196898\n",
      "nan\n",
      "nan\n",
      "nan\n"
     ]
    },
    {
     "name": "stderr",
     "output_type": "stream",
     "text": [
      "  9%|███████▌                                                                         | 35/377 [00:29<02:55,  1.95it/s]"
     ]
    },
    {
     "name": "stdout",
     "output_type": "stream",
     "text": [
      "0.00021727032878362138\n",
      "0.03748381407290873\n",
      "1.8953262676320737\n",
      "-0.0024600631500174474\n",
      "0.05626126902837432\n",
      "-2.9621034142419553\n"
     ]
    },
    {
     "name": "stderr",
     "output_type": "stream",
     "text": [
      "\r",
      " 10%|███████▋                                                                         | 36/377 [00:29<03:10,  1.79it/s]"
     ]
    },
    {
     "name": "stdout",
     "output_type": "stream",
     "text": [
      "0.0013326628178745316\n",
      "0.025319968738389573\n",
      "-1.2765711503761707\n"
     ]
    },
    {
     "name": "stderr",
     "output_type": "stream",
     "text": [
      "\r",
      " 10%|███████▉                                                                         | 37/377 [00:30<02:45,  2.05it/s]"
     ]
    },
    {
     "name": "stdout",
     "output_type": "stream",
     "text": [
      "0.0007328174381180331\n",
      "0.040207185617205245\n",
      "-5.086459675653238\n"
     ]
    },
    {
     "name": "stderr",
     "output_type": "stream",
     "text": [
      "\r",
      " 10%|████████▏                                                                        | 38/377 [00:31<04:17,  1.32it/s]"
     ]
    },
    {
     "name": "stdout",
     "output_type": "stream",
     "text": [
      "0.0010483598963592642\n",
      "0.016824347373486412\n",
      "-4.741140949642065\n"
     ]
    },
    {
     "name": "stderr",
     "output_type": "stream",
     "text": [
      "\r",
      " 10%|████████▍                                                                        | 39/377 [00:32<05:22,  1.05it/s]"
     ]
    },
    {
     "name": "stdout",
     "output_type": "stream",
     "text": [
      "-0.0010528001107502686\n",
      "0.016516610196035047\n",
      "-4.994341438177052\n"
     ]
    },
    {
     "name": "stderr",
     "output_type": "stream",
     "text": [
      "\r",
      " 11%|████████▌                                                                        | 40/377 [00:34<05:31,  1.02it/s]"
     ]
    },
    {
     "name": "stdout",
     "output_type": "stream",
     "text": [
      "-0.0005861405486512254\n",
      "0.01972783358998127\n",
      "-6.525154329235306\n"
     ]
    },
    {
     "name": "stderr",
     "output_type": "stream",
     "text": [
      "\r",
      " 11%|████████▊                                                                        | 41/377 [00:35<06:11,  1.11s/it]"
     ]
    },
    {
     "name": "stdout",
     "output_type": "stream",
     "text": [
      "0.00027536808450955247\n",
      "0.017079946298938546\n",
      "-6.049439356247666\n"
     ]
    },
    {
     "name": "stderr",
     "output_type": "stream",
     "text": [
      "\r",
      " 11%|█████████                                                                        | 42/377 [00:36<05:25,  1.03it/s]"
     ]
    },
    {
     "name": "stdout",
     "output_type": "stream",
     "text": [
      "-0.00023453815698654435\n",
      "0.025549948422253704\n",
      "-3.535717195515755\n"
     ]
    },
    {
     "name": "stderr",
     "output_type": "stream",
     "text": [
      "\r",
      " 11%|█████████▏                                                                       | 43/377 [00:37<06:05,  1.09s/it]"
     ]
    },
    {
     "name": "stdout",
     "output_type": "stream",
     "text": [
      "-1.5551220034556724e-05\n",
      "0.01644622914870696\n",
      "-4.932203092173723\n"
     ]
    },
    {
     "name": "stderr",
     "output_type": "stream",
     "text": [
      "\r",
      " 12%|█████████▍                                                                       | 44/377 [00:38<06:35,  1.19s/it]"
     ]
    },
    {
     "name": "stdout",
     "output_type": "stream",
     "text": [
      "0.0005208443488873224\n",
      "0.016880428655106517\n",
      "-5.911318742971203\n"
     ]
    },
    {
     "name": "stderr",
     "output_type": "stream",
     "text": [
      "\r",
      " 12%|█████████▋                                                                       | 45/377 [00:40<06:55,  1.25s/it]"
     ]
    },
    {
     "name": "stdout",
     "output_type": "stream",
     "text": [
      "-0.0009170808140128054\n",
      "0.016977288584091706\n",
      "-5.778971861303727\n"
     ]
    },
    {
     "name": "stderr",
     "output_type": "stream",
     "text": [
      "\r",
      " 12%|█████████▉                                                                       | 46/377 [00:41<07:17,  1.32s/it]"
     ]
    },
    {
     "name": "stdout",
     "output_type": "stream",
     "text": [
      "0.0003064110581930012\n",
      "0.016602144421743258\n",
      "-7.364898192497841\n"
     ]
    },
    {
     "name": "stderr",
     "output_type": "stream",
     "text": [
      "\r",
      " 12%|██████████                                                                       | 47/377 [00:43<07:25,  1.35s/it]"
     ]
    },
    {
     "name": "stdout",
     "output_type": "stream",
     "text": [
      "2.152105131797932e-05\n",
      "0.017200913435315778\n",
      "-5.602422313016234\n"
     ]
    },
    {
     "name": "stderr",
     "output_type": "stream",
     "text": [
      "\r",
      " 13%|██████████▎                                                                      | 48/377 [00:43<06:06,  1.11s/it]"
     ]
    },
    {
     "name": "stdout",
     "output_type": "stream",
     "text": [
      "-0.0007468870714019286\n",
      "0.028042772301114068\n",
      "-7.461995335763081\n"
     ]
    },
    {
     "name": "stderr",
     "output_type": "stream",
     "text": [
      "\r",
      " 13%|██████████▌                                                                      | 49/377 [00:44<04:47,  1.14it/s]"
     ]
    },
    {
     "name": "stdout",
     "output_type": "stream",
     "text": [
      "-0.0013772504844177971\n",
      "0.038226278312400976\n",
      "1.4342963281081953\n"
     ]
    },
    {
     "name": "stderr",
     "output_type": "stream",
     "text": [
      "\r",
      " 13%|██████████▋                                                                      | 50/377 [00:44<04:02,  1.35it/s]"
     ]
    },
    {
     "name": "stdout",
     "output_type": "stream",
     "text": [
      "-0.0002525752276537133\n",
      "0.03244229829394979\n",
      "-2.549832848642357\n",
      "0.0020883403413855827\n",
      "0.13825984355028675\n",
      "-3.1494961079755295\n"
     ]
    },
    {
     "name": "stderr",
     "output_type": "stream",
     "text": [
      "\r",
      " 14%|███████████▍                                                                     | 53/377 [00:45<03:13,  1.68it/s]"
     ]
    },
    {
     "name": "stdout",
     "output_type": "stream",
     "text": [
      "0.0006503163237425462\n",
      "0.01699683581058661\n",
      "-5.789370963680214\n"
     ]
    },
    {
     "name": "stderr",
     "output_type": "stream",
     "text": [
      "\r",
      " 14%|███████████▌                                                                     | 54/377 [00:47<04:07,  1.30it/s]"
     ]
    },
    {
     "name": "stdout",
     "output_type": "stream",
     "text": [
      "-0.00033896989219605965\n",
      "0.01722376535406717\n",
      "-4.1826644908618125\n"
     ]
    },
    {
     "name": "stderr",
     "output_type": "stream",
     "text": [
      "\r",
      " 15%|███████████▊                                                                     | 55/377 [00:48<04:54,  1.09it/s]"
     ]
    },
    {
     "name": "stdout",
     "output_type": "stream",
     "text": [
      "0.0007048153581722263\n",
      "0.016846259762816073\n",
      "-5.124190818713593\n"
     ]
    },
    {
     "name": "stderr",
     "output_type": "stream",
     "text": [
      "\r",
      " 15%|████████████                                                                     | 56/377 [00:50<05:32,  1.04s/it]"
     ]
    },
    {
     "name": "stdout",
     "output_type": "stream",
     "text": [
      "-4.192371275737088e-05\n",
      "0.017889961195974826\n",
      "0.21400408649967945\n"
     ]
    },
    {
     "name": "stderr",
     "output_type": "stream",
     "text": [
      " 15%|████████████▍                                                                    | 58/377 [00:51<04:40,  1.14it/s]"
     ]
    },
    {
     "name": "stdout",
     "output_type": "stream",
     "text": [
      "-0.0006758256007436856\n",
      "0.01652699549519364\n",
      "-7.94527639008643\n",
      "-0.0031120703300767188\n",
      "0.05265099294949955\n",
      "-1.2087139166852678\n"
     ]
    },
    {
     "name": "stderr",
     "output_type": "stream",
     "text": [
      "\r",
      " 16%|████████████▋                                                                    | 59/377 [00:52<05:11,  1.02it/s]"
     ]
    },
    {
     "name": "stdout",
     "output_type": "stream",
     "text": [
      "-0.0006041962092551412\n",
      "0.017927000370535826\n",
      "-5.760425797105116\n"
     ]
    },
    {
     "name": "stderr",
     "output_type": "stream",
     "text": [
      " 16%|█████████████                                                                    | 61/377 [00:54<04:26,  1.18it/s]"
     ]
    },
    {
     "name": "stdout",
     "output_type": "stream",
     "text": [
      "-0.00015041784787369478\n",
      "0.01653014565181949\n",
      "-6.050161445186787\n",
      "-0.005065366734046835\n",
      "0.051017835338419096\n",
      "0.8264740659197433\n"
     ]
    },
    {
     "name": "stderr",
     "output_type": "stream",
     "text": [
      "\r",
      " 16%|█████████████▎                                                                   | 62/377 [00:54<03:39,  1.44it/s]"
     ]
    },
    {
     "name": "stdout",
     "output_type": "stream",
     "text": [
      "-8.946306548217153e-05\n",
      "0.03880166363048286\n",
      "2.239040052941104\n"
     ]
    },
    {
     "name": "stderr",
     "output_type": "stream",
     "text": [
      "\r",
      " 17%|█████████████▌                                                                   | 63/377 [00:56<04:50,  1.08it/s]"
     ]
    },
    {
     "name": "stdout",
     "output_type": "stream",
     "text": [
      "0.0008209164322512208\n",
      "0.01713168552534065\n",
      "-7.874150372585876\n"
     ]
    },
    {
     "name": "stderr",
     "output_type": "stream",
     "text": [
      "\r",
      " 17%|█████████████▊                                                                   | 64/377 [00:56<03:55,  1.33it/s]"
     ]
    },
    {
     "name": "stdout",
     "output_type": "stream",
     "text": [
      "-0.0010230734834235035\n",
      "0.03974906523202249\n",
      "-0.04951953251381281\n"
     ]
    },
    {
     "name": "stderr",
     "output_type": "stream",
     "text": [
      "\r",
      " 17%|█████████████▉                                                                   | 65/377 [00:57<03:10,  1.63it/s]"
     ]
    },
    {
     "name": "stdout",
     "output_type": "stream",
     "text": [
      "-0.0016626128080889982\n",
      "0.040586915514864826\n",
      "-3.647187424038782\n"
     ]
    },
    {
     "name": "stderr",
     "output_type": "stream",
     "text": [
      "\r",
      " 18%|██████████████▏                                                                  | 66/377 [00:58<03:47,  1.37it/s]"
     ]
    },
    {
     "name": "stdout",
     "output_type": "stream",
     "text": [
      "-0.0006290673637010391\n",
      "0.02009292186073476\n",
      "-0.5633531765497416\n"
     ]
    },
    {
     "name": "stderr",
     "output_type": "stream",
     "text": [
      " 18%|██████████████▌                                                                  | 68/377 [00:59<03:34,  1.44it/s]"
     ]
    },
    {
     "name": "stdout",
     "output_type": "stream",
     "text": [
      "0.0004664232361314047\n",
      "0.016829349352258084\n",
      "1.8386617158328005\n",
      "0.006253139002009473\n",
      "0.0670479313730608\n",
      "0.2777247871312057\n"
     ]
    },
    {
     "name": "stderr",
     "output_type": "stream",
     "text": [
      "\r",
      " 18%|██████████████▊                                                                  | 69/377 [01:00<03:41,  1.39it/s]"
     ]
    },
    {
     "name": "stdout",
     "output_type": "stream",
     "text": [
      "0.0008591187137448985\n",
      "0.023652201196141785\n",
      "-1.3573173354026151\n"
     ]
    },
    {
     "name": "stderr",
     "output_type": "stream",
     "text": [
      "\r",
      " 19%|███████████████                                                                  | 70/377 [01:01<04:45,  1.08it/s]"
     ]
    },
    {
     "name": "stdout",
     "output_type": "stream",
     "text": [
      "-0.0004474645089353323\n",
      "0.017541731337263354\n",
      "-2.2603926925758686\n",
      "0.003249102105369535\n",
      "0.09299401311696626\n",
      "-0.7527615857509615\n"
     ]
    },
    {
     "name": "stderr",
     "output_type": "stream",
     "text": [
      "\r",
      " 19%|███████████████▍                                                                 | 72/377 [01:02<03:01,  1.68it/s]"
     ]
    },
    {
     "name": "stdout",
     "output_type": "stream",
     "text": [
      "0.0024701051293565396\n",
      "0.036939505243008035\n",
      "-6.146507433024127\n"
     ]
    },
    {
     "name": "stderr",
     "output_type": "stream",
     "text": [
      "\r",
      " 19%|███████████████▋                                                                 | 73/377 [01:02<02:40,  1.89it/s]"
     ]
    },
    {
     "name": "stdout",
     "output_type": "stream",
     "text": [
      "0.0003858180007605114\n",
      "0.03702773624345887\n",
      "-2.8085123440247473\n"
     ]
    },
    {
     "name": "stderr",
     "output_type": "stream",
     "text": [
      "\r",
      " 20%|███████████████▉                                                                 | 74/377 [01:03<03:48,  1.33it/s]"
     ]
    },
    {
     "name": "stdout",
     "output_type": "stream",
     "text": [
      "-0.00013975277372660927\n",
      "0.01708039254066931\n",
      "-2.445938716663277\n"
     ]
    },
    {
     "name": "stderr",
     "output_type": "stream",
     "text": [
      "\r",
      " 20%|████████████████                                                                 | 75/377 [01:05<04:43,  1.06it/s]"
     ]
    },
    {
     "name": "stdout",
     "output_type": "stream",
     "text": [
      "0.0005876705592949327\n",
      "0.016715782253863987\n",
      "-7.082947645644212\n",
      "0.003894047210670383\n",
      "0.15850043079924153\n",
      "-3.0171404994371205\n"
     ]
    },
    {
     "name": "stderr",
     "output_type": "stream",
     "text": [
      "\r",
      " 20%|████████████████▌                                                                | 77/377 [01:06<03:59,  1.25it/s]"
     ]
    },
    {
     "name": "stdout",
     "output_type": "stream",
     "text": [
      "3.134340107844663e-05\n",
      "0.020466756537423667\n",
      "2.638221346206002\n"
     ]
    },
    {
     "name": "stderr",
     "output_type": "stream",
     "text": [
      "\r",
      " 21%|████████████████▊                                                                | 78/377 [01:08<04:45,  1.05it/s]"
     ]
    },
    {
     "name": "stdout",
     "output_type": "stream",
     "text": [
      "-0.0001880816705260901\n",
      "0.016856305235956767\n",
      "-2.5725913633847353\n",
      "0.000136037784883698\n",
      "0.1184036822507688\n",
      "-1.806613575512997\n"
     ]
    },
    {
     "name": "stderr",
     "output_type": "stream",
     "text": [
      "\r",
      " 21%|█████████████████▏                                                               | 80/377 [01:08<03:24,  1.46it/s]"
     ]
    },
    {
     "name": "stdout",
     "output_type": "stream",
     "text": [
      "-0.0004021396314191479\n",
      "0.028585170311046893\n",
      "-9.16117243684177\n"
     ]
    },
    {
     "name": "stderr",
     "output_type": "stream",
     "text": [
      "\r",
      " 21%|█████████████████▍                                                               | 81/377 [01:09<03:21,  1.47it/s]"
     ]
    },
    {
     "name": "stdout",
     "output_type": "stream",
     "text": [
      "0.00046333090131973236\n",
      "0.02452048638575951\n",
      "-2.843545616893881\n"
     ]
    },
    {
     "name": "stderr",
     "output_type": "stream",
     "text": [
      "\r",
      " 22%|█████████████████▊                                                               | 83/377 [01:10<03:22,  1.45it/s]"
     ]
    },
    {
     "name": "stdout",
     "output_type": "stream",
     "text": [
      "0.0008695334130385022\n",
      "0.017145601192539623\n",
      "-4.373330081915269\n"
     ]
    },
    {
     "name": "stderr",
     "output_type": "stream",
     "text": [
      "\r",
      " 22%|██████████████████                                                               | 84/377 [01:12<04:09,  1.18it/s]"
     ]
    },
    {
     "name": "stdout",
     "output_type": "stream",
     "text": [
      "-0.000611018119182802\n",
      "0.016920777200397287\n",
      "-1.3234045072767173\n"
     ]
    },
    {
     "name": "stderr",
     "output_type": "stream",
     "text": [
      "\r",
      " 23%|██████████████████▎                                                              | 85/377 [01:12<03:32,  1.38it/s]"
     ]
    },
    {
     "name": "stdout",
     "output_type": "stream",
     "text": [
      "-0.0011184279254337188\n",
      "0.039718007001410635\n",
      "-2.0669736830472973\n"
     ]
    },
    {
     "name": "stderr",
     "output_type": "stream",
     "text": [
      "\r",
      " 23%|██████████████████▍                                                              | 86/377 [01:13<03:58,  1.22it/s]"
     ]
    },
    {
     "name": "stdout",
     "output_type": "stream",
     "text": [
      "0.00017743221812180267\n",
      "0.020401481357940825\n",
      "-7.301625030002171\n"
     ]
    },
    {
     "name": "stderr",
     "output_type": "stream",
     "text": [
      "\r",
      " 23%|██████████████████▋                                                              | 87/377 [01:14<04:42,  1.03it/s]"
     ]
    },
    {
     "name": "stdout",
     "output_type": "stream",
     "text": [
      "0.0003884876682993202\n",
      "0.017140078124743566\n",
      "-8.061807257177325\n"
     ]
    },
    {
     "name": "stderr",
     "output_type": "stream",
     "text": [
      "\r",
      " 23%|██████████████████▉                                                              | 88/377 [01:16<05:21,  1.11s/it]"
     ]
    },
    {
     "name": "stdout",
     "output_type": "stream",
     "text": [
      "-0.0009141153622692349\n",
      "0.016957430934287254\n",
      "-5.4686591714066495\n"
     ]
    },
    {
     "name": "stderr",
     "output_type": "stream",
     "text": [
      " 24%|███████████████████▌                                                             | 91/377 [01:17<03:34,  1.33it/s]"
     ]
    },
    {
     "name": "stdout",
     "output_type": "stream",
     "text": [
      "-0.00031800518356925295\n",
      "0.01704544513280478\n",
      "-5.692306906769291\n",
      "0.0005884895389830927\n",
      "0.052759429632163984\n",
      "-1.8271814084590468\n"
     ]
    },
    {
     "name": "stderr",
     "output_type": "stream",
     "text": [
      "\r",
      " 24%|███████████████████▊                                                             | 92/377 [01:19<04:19,  1.10it/s]"
     ]
    },
    {
     "name": "stdout",
     "output_type": "stream",
     "text": [
      "5.801364362811817e-05\n",
      "0.017702339627582477\n",
      "-7.91483790257893\n"
     ]
    },
    {
     "name": "stderr",
     "output_type": "stream",
     "text": [
      "\r",
      " 25%|███████████████████▉                                                             | 93/377 [01:20<04:55,  1.04s/it]"
     ]
    },
    {
     "name": "stdout",
     "output_type": "stream",
     "text": [
      "-0.0007945267732795713\n",
      "0.016766645640392583\n",
      "-2.583521212776995\n"
     ]
    },
    {
     "name": "stderr",
     "output_type": "stream",
     "text": [
      "\r",
      " 25%|████████████████████▏                                                            | 94/377 [01:22<05:23,  1.14s/it]"
     ]
    },
    {
     "name": "stdout",
     "output_type": "stream",
     "text": [
      "-0.0005527886215182325\n",
      "0.017018751144239425\n",
      "-6.054320731994246\n"
     ]
    },
    {
     "name": "stderr",
     "output_type": "stream",
     "text": [
      "\r",
      " 25%|████████████████████▍                                                            | 95/377 [01:23<05:40,  1.21s/it]"
     ]
    },
    {
     "name": "stdout",
     "output_type": "stream",
     "text": [
      "-0.0012452227590663304\n",
      "0.017229654589509674\n",
      "-2.9851225588883494\n"
     ]
    },
    {
     "name": "stderr",
     "output_type": "stream",
     "text": [
      "\r",
      " 25%|████████████████████▋                                                            | 96/377 [01:24<05:07,  1.09s/it]"
     ]
    },
    {
     "name": "stdout",
     "output_type": "stream",
     "text": [
      "-7.129419527265465e-06\n",
      "0.023600858398902014\n",
      "-4.050721356394786\n"
     ]
    },
    {
     "name": "stderr",
     "output_type": "stream",
     "text": [
      "\r",
      " 26%|████████████████████▊                                                            | 97/377 [01:24<04:04,  1.15it/s]"
     ]
    },
    {
     "name": "stdout",
     "output_type": "stream",
     "text": [
      "0.0013761649276406564\n",
      "0.036515194049685895\n",
      "-0.08941069107399698\n"
     ]
    },
    {
     "name": "stderr",
     "output_type": "stream",
     "text": [
      "\r",
      " 26%|█████████████████████                                                            | 98/377 [01:26<04:45,  1.02s/it]"
     ]
    },
    {
     "name": "stdout",
     "output_type": "stream",
     "text": [
      "-0.00019867172940775277\n",
      "0.016849525390655207\n",
      "0.26176721469917336\n"
     ]
    },
    {
     "name": "stderr",
     "output_type": "stream",
     "text": [
      "\r",
      " 26%|█████████████████████▎                                                           | 99/377 [01:27<05:16,  1.14s/it]"
     ]
    },
    {
     "name": "stdout",
     "output_type": "stream",
     "text": [
      "6.447869831540079e-05\n",
      "0.016680429339076673\n",
      "-4.706505286805723\n"
     ]
    },
    {
     "name": "stderr",
     "output_type": "stream",
     "text": [
      "\r",
      " 27%|█████████████████████▏                                                          | 100/377 [01:28<05:38,  1.22s/it]"
     ]
    },
    {
     "name": "stdout",
     "output_type": "stream",
     "text": [
      "0.0011445710823250988\n",
      "0.01734704195184568\n",
      "-4.376577032200567\n"
     ]
    },
    {
     "name": "stderr",
     "output_type": "stream",
     "text": [
      "\r",
      " 27%|█████████████████████▍                                                          | 101/377 [01:30<05:55,  1.29s/it]"
     ]
    },
    {
     "name": "stdout",
     "output_type": "stream",
     "text": [
      "0.0005572874421509433\n",
      "0.017355077899583102\n",
      "-6.553644433479395\n"
     ]
    },
    {
     "name": "stderr",
     "output_type": "stream",
     "text": [
      "\r",
      " 27%|█████████████████████▋                                                          | 102/377 [01:31<06:01,  1.32s/it]"
     ]
    },
    {
     "name": "stdout",
     "output_type": "stream",
     "text": [
      "-0.0002869939813903603\n",
      "0.017326358826109337\n",
      "-5.461167447771316\n"
     ]
    },
    {
     "name": "stderr",
     "output_type": "stream",
     "text": [
      "\r",
      " 27%|█████████████████████▊                                                          | 103/377 [01:33<06:08,  1.34s/it]"
     ]
    },
    {
     "name": "stdout",
     "output_type": "stream",
     "text": [
      "9.717305381892283e-05\n",
      "0.018060442985686376\n",
      "-2.731438098650888\n"
     ]
    },
    {
     "name": "stderr",
     "output_type": "stream",
     "text": [
      "\r",
      " 28%|██████████████████████                                                          | 104/377 [01:34<06:12,  1.36s/it]"
     ]
    },
    {
     "name": "stdout",
     "output_type": "stream",
     "text": [
      "0.00011750891093120163\n",
      "0.017380288029153892\n",
      "-3.849530857163058\n"
     ]
    },
    {
     "name": "stderr",
     "output_type": "stream",
     "text": [
      "\r",
      " 28%|██████████████████████▎                                                         | 105/377 [01:34<04:47,  1.06s/it]"
     ]
    },
    {
     "name": "stdout",
     "output_type": "stream",
     "text": [
      "0.0009257977255443322\n",
      "0.03733086303864753\n",
      "0.0224563897913651\n"
     ]
    },
    {
     "name": "stderr",
     "output_type": "stream",
     "text": [
      "\r",
      " 28%|██████████████████████▍                                                         | 106/377 [01:36<05:18,  1.18s/it]"
     ]
    },
    {
     "name": "stdout",
     "output_type": "stream",
     "text": [
      "-0.0003204044146102498\n",
      "0.017143054904749013\n",
      "-4.209819000974145\n"
     ]
    },
    {
     "name": "stderr",
     "output_type": "stream",
     "text": [
      "\r",
      " 28%|██████████████████████▋                                                         | 107/377 [01:36<04:08,  1.09it/s]"
     ]
    },
    {
     "name": "stdout",
     "output_type": "stream",
     "text": [
      "-0.0011464328595931685\n",
      "0.03741317775003056\n",
      "-3.55975106615742\n"
     ]
    },
    {
     "name": "stderr",
     "output_type": "stream",
     "text": [
      "\r",
      " 29%|██████████████████████▉                                                         | 108/377 [01:38<04:50,  1.08s/it]"
     ]
    },
    {
     "name": "stdout",
     "output_type": "stream",
     "text": [
      "0.000798010900431198\n",
      "0.017691804721792905\n",
      "-3.841452753898591\n"
     ]
    },
    {
     "name": "stderr",
     "output_type": "stream",
     "text": [
      "\r",
      " 29%|███████████████████████▏                                                        | 109/377 [01:39<05:17,  1.19s/it]"
     ]
    },
    {
     "name": "stdout",
     "output_type": "stream",
     "text": [
      "-0.0002644810763912587\n",
      "0.01729214870800087\n",
      "-3.427572545674727\n"
     ]
    },
    {
     "name": "stderr",
     "output_type": "stream",
     "text": [
      "\r",
      " 29%|███████████████████████▎                                                        | 110/377 [01:40<05:35,  1.26s/it]"
     ]
    },
    {
     "name": "stdout",
     "output_type": "stream",
     "text": [
      "-4.763406742232823e-05\n",
      "0.017350137788769777\n",
      "-3.6017275060651475\n",
      "0.0031930121173743362\n",
      "0.0876696662785284\n",
      "-1.0646157234869524\n"
     ]
    },
    {
     "name": "stderr",
     "output_type": "stream",
     "text": [
      "\r",
      " 30%|███████████████████████▊                                                        | 112/377 [01:42<04:32,  1.03s/it]"
     ]
    },
    {
     "name": "stdout",
     "output_type": "stream",
     "text": [
      "0.00027629932033753745\n",
      "0.016237929228441052\n",
      "-10.584832093828997\n"
     ]
    },
    {
     "name": "stderr",
     "output_type": "stream",
     "text": [
      " 30%|████████████████████████▏                                                       | 114/377 [01:44<03:49,  1.15it/s]"
     ]
    },
    {
     "name": "stdout",
     "output_type": "stream",
     "text": [
      "-0.0007509119930342831\n",
      "0.01662950831754147\n",
      "-6.988469358080646\n",
      "-0.0005036938677893308\n",
      "0.08731446246215575\n",
      "-1.8402259980062343\n"
     ]
    },
    {
     "name": "stderr",
     "output_type": "stream",
     "text": [
      "\r",
      " 31%|████████████████████████▍                                                       | 115/377 [01:44<03:10,  1.37it/s]"
     ]
    },
    {
     "name": "stdout",
     "output_type": "stream",
     "text": [
      "-0.0029151830410522874\n",
      "0.03727570529632661\n",
      "-2.8134092377101583\n"
     ]
    },
    {
     "name": "stderr",
     "output_type": "stream",
     "text": [
      "\r",
      " 31%|████████████████████████▌                                                       | 116/377 [01:45<04:05,  1.06it/s]"
     ]
    },
    {
     "name": "stdout",
     "output_type": "stream",
     "text": [
      "0.00037348945857218886\n",
      "0.017682154920627115\n",
      "0.4756613200939363\n"
     ]
    },
    {
     "name": "stderr",
     "output_type": "stream",
     "text": [
      " 31%|█████████████████████████                                                       | 118/377 [01:46<02:33,  1.69it/s]"
     ]
    },
    {
     "name": "stdout",
     "output_type": "stream",
     "text": [
      "0.000547753480537329\n",
      "0.037961872198314386\n",
      "-6.699714221811357\n",
      "-0.0016041157581774333\n",
      "0.05709673992029232\n",
      "-1.8011142366748265\n"
     ]
    },
    {
     "name": "stderr",
     "output_type": "stream",
     "text": [
      "\r",
      " 32%|█████████████████████████▎                                                      | 119/377 [01:46<02:12,  1.94it/s]"
     ]
    },
    {
     "name": "stdout",
     "output_type": "stream",
     "text": [
      "0.0005116576115487648\n",
      "0.0371458126688\n",
      "-6.214984253154883\n"
     ]
    },
    {
     "name": "stderr",
     "output_type": "stream",
     "text": [
      "\r",
      " 32%|█████████████████████████▍                                                      | 120/377 [01:47<01:57,  2.19it/s]"
     ]
    },
    {
     "name": "stdout",
     "output_type": "stream",
     "text": [
      "-0.0006264950687543259\n",
      "0.03747632544956662\n",
      "-2.8871360854778696\n"
     ]
    },
    {
     "name": "stderr",
     "output_type": "stream",
     "text": [
      "\r",
      " 32%|█████████████████████████▋                                                      | 121/377 [01:48<03:07,  1.37it/s]"
     ]
    },
    {
     "name": "stdout",
     "output_type": "stream",
     "text": [
      "4.242810778146294e-05\n",
      "0.017062850983810312\n",
      "1.3275656113479126\n"
     ]
    },
    {
     "name": "stderr",
     "output_type": "stream",
     "text": [
      "\r",
      " 32%|█████████████████████████▉                                                      | 122/377 [01:49<03:59,  1.07it/s]"
     ]
    },
    {
     "name": "stdout",
     "output_type": "stream",
     "text": [
      "1.4186674170661328e-05\n",
      "0.01691245214202029\n",
      "-8.034833129304753\n"
     ]
    },
    {
     "name": "stderr",
     "output_type": "stream",
     "text": [
      "\r",
      " 33%|██████████████████████████                                                      | 123/377 [01:50<03:13,  1.32it/s]"
     ]
    },
    {
     "name": "stdout",
     "output_type": "stream",
     "text": [
      "0.00020138493384660593\n",
      "0.0377257083891597\n",
      "-2.0315463844661146\n"
     ]
    },
    {
     "name": "stderr",
     "output_type": "stream",
     "text": [
      "\r",
      " 33%|██████████████████████████▎                                                     | 124/377 [01:51<04:02,  1.04it/s]"
     ]
    },
    {
     "name": "stdout",
     "output_type": "stream",
     "text": [
      "0.0008273577833290542\n",
      "0.016637645955381544\n",
      "-4.795687764646453\n"
     ]
    },
    {
     "name": "stderr",
     "output_type": "stream",
     "text": [
      "\r",
      " 33%|██████████████████████████▌                                                     | 125/377 [01:51<03:13,  1.30it/s]"
     ]
    },
    {
     "name": "stdout",
     "output_type": "stream",
     "text": [
      "0.0013189504518518107\n",
      "0.03753765427212265\n",
      "-5.644430821695438\n"
     ]
    },
    {
     "name": "stderr",
     "output_type": "stream",
     "text": [
      " 34%|██████████████████████████▉                                                     | 127/377 [01:52<02:01,  2.06it/s]"
     ]
    },
    {
     "name": "stdout",
     "output_type": "stream",
     "text": [
      "0.00066518531758801\n",
      "0.036410602529653564\n",
      "-6.34469501912608\n",
      "nan\n",
      "nan\n",
      "nan\n",
      "nan\n",
      "nan\n",
      "nan\n",
      "-0.0015805265451404543\n",
      "0.09910375305182374\n",
      "-2.089128452838727\n"
     ]
    },
    {
     "name": "stderr",
     "output_type": "stream",
     "text": [
      "\r",
      " 34%|███████████████████████████▌                                                    | 130/377 [01:52<01:12,  3.42it/s]"
     ]
    },
    {
     "name": "stdout",
     "output_type": "stream",
     "text": [
      "0.0010163558161773193\n",
      "0.038807985098905956\n",
      "-0.14826097695265145\n"
     ]
    },
    {
     "name": "stderr",
     "output_type": "stream",
     "text": [
      "\r",
      " 35%|███████████████████████████▊                                                    | 131/377 [01:53<01:36,  2.55it/s]"
     ]
    },
    {
     "name": "stdout",
     "output_type": "stream",
     "text": [
      "0.0009951441936157455\n",
      "0.02299618107512557\n",
      "-1.286942047660581\n"
     ]
    },
    {
     "name": "stderr",
     "output_type": "stream",
     "text": [
      "\r",
      " 35%|████████████████████████████                                                    | 132/377 [01:55<02:32,  1.60it/s]"
     ]
    },
    {
     "name": "stdout",
     "output_type": "stream",
     "text": [
      "-0.00044212786519201813\n",
      "0.017482473341185405\n",
      "1.8835747352825127\n"
     ]
    },
    {
     "name": "stderr",
     "output_type": "stream",
     "text": [
      "\r",
      " 35%|████████████████████████████▏                                                   | 133/377 [01:56<03:22,  1.21it/s]"
     ]
    },
    {
     "name": "stdout",
     "output_type": "stream",
     "text": [
      "-8.239971171681937e-05\n",
      "0.017165780800043755\n",
      "-2.857508305262861\n"
     ]
    },
    {
     "name": "stderr",
     "output_type": "stream",
     "text": [
      "\r",
      " 36%|████████████████████████████▍                                                   | 134/377 [01:56<02:43,  1.49it/s]"
     ]
    },
    {
     "name": "stdout",
     "output_type": "stream",
     "text": [
      "0.0012596254132326771\n",
      "0.04365837515627899\n",
      "-2.956173528180253\n"
     ]
    },
    {
     "name": "stderr",
     "output_type": "stream",
     "text": [
      "\r",
      " 36%|████████████████████████████▋                                                   | 135/377 [01:56<02:14,  1.80it/s]"
     ]
    },
    {
     "name": "stdout",
     "output_type": "stream",
     "text": [
      "-0.0023799962410546672\n",
      "0.04458634813646425\n",
      "-0.17897776246065458\n"
     ]
    },
    {
     "name": "stderr",
     "output_type": "stream",
     "text": [
      "\r",
      " 36%|████████████████████████████▊                                                   | 136/377 [01:58<03:11,  1.26it/s]"
     ]
    },
    {
     "name": "stdout",
     "output_type": "stream",
     "text": [
      "-0.000896953590401163\n",
      "0.016878861843275732\n",
      "-2.7696003836125707\n"
     ]
    },
    {
     "name": "stderr",
     "output_type": "stream",
     "text": [
      "\r",
      " 36%|█████████████████████████████                                                   | 137/377 [01:58<02:39,  1.50it/s]"
     ]
    },
    {
     "name": "stdout",
     "output_type": "stream",
     "text": [
      "0.001969693606195575\n",
      "0.036931334908875735\n",
      "-2.5328370835592\n"
     ]
    },
    {
     "name": "stderr",
     "output_type": "stream",
     "text": [
      " 37%|█████████████████████████████▍                                                  | 139/377 [01:59<01:43,  2.31it/s]"
     ]
    },
    {
     "name": "stdout",
     "output_type": "stream",
     "text": [
      "-0.0009878680768167789\n",
      "0.03703756881780242\n",
      "-4.459155587340361\n",
      "-0.001437757198994963\n",
      "0.06758704974767293\n",
      "-2.2845874175225815\n"
     ]
    },
    {
     "name": "stderr",
     "output_type": "stream",
     "text": [
      "\r",
      " 37%|█████████████████████████████▋                                                  | 140/377 [02:00<02:51,  1.39it/s]"
     ]
    },
    {
     "name": "stdout",
     "output_type": "stream",
     "text": [
      "-7.741481803066973e-05\n",
      "0.016796748356074122\n",
      "-6.653542640200129\n"
     ]
    },
    {
     "name": "stderr",
     "output_type": "stream",
     "text": [
      "\r",
      " 37%|█████████████████████████████▉                                                  | 141/377 [02:00<02:28,  1.59it/s]"
     ]
    },
    {
     "name": "stdout",
     "output_type": "stream",
     "text": [
      "-0.0011274977928314794\n",
      "0.0332951731082123\n",
      "-10.17268693207447\n"
     ]
    },
    {
     "name": "stderr",
     "output_type": "stream",
     "text": [
      "\r",
      " 38%|██████████████████████████████▏                                                 | 142/377 [02:01<02:06,  1.86it/s]"
     ]
    },
    {
     "name": "stdout",
     "output_type": "stream",
     "text": [
      "0.0024299353886145674\n",
      "0.03672172943764769\n",
      "1.0270109782945027\n"
     ]
    },
    {
     "name": "stderr",
     "output_type": "stream",
     "text": [
      "\r",
      " 38%|██████████████████████████████▎                                                 | 143/377 [02:02<03:05,  1.26it/s]"
     ]
    },
    {
     "name": "stdout",
     "output_type": "stream",
     "text": [
      "0.000442047389955584\n",
      "0.016655475362688806\n",
      "-7.049199506072924\n"
     ]
    },
    {
     "name": "stderr",
     "output_type": "stream",
     "text": [
      "\r",
      " 38%|██████████████████████████████▌                                                 | 144/377 [02:02<02:27,  1.58it/s]"
     ]
    },
    {
     "name": "stdout",
     "output_type": "stream",
     "text": [
      "0.0015000113207045158\n",
      "0.042918170734458735\n",
      "-5.715383931728159\n"
     ]
    },
    {
     "name": "stderr",
     "output_type": "stream",
     "text": [
      "\r",
      " 38%|██████████████████████████████▊                                                 | 145/377 [02:03<02:11,  1.77it/s]"
     ]
    },
    {
     "name": "stdout",
     "output_type": "stream",
     "text": [
      "-0.0005384403071313814\n",
      "0.03292442341772479\n",
      "0.5049191786228242\n"
     ]
    },
    {
     "name": "stderr",
     "output_type": "stream",
     "text": [
      "\r",
      " 39%|██████████████████████████████▉                                                 | 146/377 [02:04<03:05,  1.24it/s]"
     ]
    },
    {
     "name": "stdout",
     "output_type": "stream",
     "text": [
      "-0.00024723745851428863\n",
      "0.017088872748617024\n",
      "-4.408184536124602\n"
     ]
    },
    {
     "name": "stderr",
     "output_type": "stream",
     "text": [
      "\r",
      " 39%|███████████████████████████████▏                                                | 147/377 [02:06<03:45,  1.02it/s]"
     ]
    },
    {
     "name": "stdout",
     "output_type": "stream",
     "text": [
      "0.00035825855325790647\n",
      "0.017149613672889964\n",
      "-3.849668967431968\n"
     ]
    },
    {
     "name": "stderr",
     "output_type": "stream",
     "text": [
      "\r",
      " 39%|███████████████████████████████▍                                                | 148/377 [02:06<03:08,  1.22it/s]"
     ]
    },
    {
     "name": "stdout",
     "output_type": "stream",
     "text": [
      "-0.000222365299983257\n",
      "0.03017462713631255\n",
      "2.784023878990697\n"
     ]
    },
    {
     "name": "stderr",
     "output_type": "stream",
     "text": [
      "\r",
      " 40%|███████████████████████████████▌                                                | 149/377 [02:07<03:46,  1.01it/s]"
     ]
    },
    {
     "name": "stdout",
     "output_type": "stream",
     "text": [
      "0.00024792278523173985\n",
      "0.017363061457868912\n",
      "-6.768235781600648\n"
     ]
    },
    {
     "name": "stderr",
     "output_type": "stream",
     "text": [
      "\r",
      " 40%|███████████████████████████████▊                                                | 150/377 [02:09<03:55,  1.04s/it]"
     ]
    },
    {
     "name": "stdout",
     "output_type": "stream",
     "text": [
      "-0.0003097482600562976\n",
      "0.019446385100881924\n",
      "-1.2086980438784607\n"
     ]
    },
    {
     "name": "stderr",
     "output_type": "stream",
     "text": [
      "\r",
      " 40%|████████████████████████████████                                                | 151/377 [02:09<03:06,  1.21it/s]"
     ]
    },
    {
     "name": "stdout",
     "output_type": "stream",
     "text": [
      "-0.0007441488015076361\n",
      "0.039197323819747644\n",
      "-1.2897261732868743\n"
     ]
    },
    {
     "name": "stderr",
     "output_type": "stream",
     "text": [
      "\r",
      " 40%|████████████████████████████████▎                                               | 152/377 [02:10<03:36,  1.04it/s]"
     ]
    },
    {
     "name": "stdout",
     "output_type": "stream",
     "text": [
      "0.00011082651228517332\n",
      "0.017732908709216903\n",
      "-7.342615590712911\n"
     ]
    },
    {
     "name": "stderr",
     "output_type": "stream",
     "text": [
      "\r",
      " 41%|████████████████████████████████▍                                               | 153/377 [02:11<03:23,  1.10it/s]"
     ]
    },
    {
     "name": "stdout",
     "output_type": "stream",
     "text": [
      "1.2129095057297867e-05\n",
      "0.024131817877462724\n",
      "-0.13663787207970166\n"
     ]
    },
    {
     "name": "stderr",
     "output_type": "stream",
     "text": [
      "\r",
      " 41%|████████████████████████████████▋                                               | 154/377 [02:11<02:43,  1.36it/s]"
     ]
    },
    {
     "name": "stdout",
     "output_type": "stream",
     "text": [
      "0.0004215128125735731\n",
      "0.037194694244878417\n",
      "-2.6677296533813366\n"
     ]
    },
    {
     "name": "stderr",
     "output_type": "stream",
     "text": [
      "\r",
      " 41%|████████████████████████████████▉                                               | 155/377 [02:12<02:16,  1.63it/s]"
     ]
    },
    {
     "name": "stdout",
     "output_type": "stream",
     "text": [
      "-0.002479713046283836\n",
      "0.038336935308344054\n",
      "-5.026146357930444\n"
     ]
    },
    {
     "name": "stderr",
     "output_type": "stream",
     "text": [
      "\r",
      " 41%|█████████████████████████████████                                               | 156/377 [02:12<02:28,  1.49it/s]"
     ]
    },
    {
     "name": "stdout",
     "output_type": "stream",
     "text": [
      "-0.0002456217041916658\n",
      "0.023268247199226325\n",
      "-5.050809627491435\n"
     ]
    },
    {
     "name": "stderr",
     "output_type": "stream",
     "text": [
      "\r",
      " 42%|█████████████████████████████████▌                                              | 158/377 [02:13<01:57,  1.87it/s]"
     ]
    },
    {
     "name": "stdout",
     "output_type": "stream",
     "text": [
      "0.0005741528966108821\n",
      "0.023044533021380677\n",
      "-2.780781839550213\n"
     ]
    },
    {
     "name": "stderr",
     "output_type": "stream",
     "text": [
      "\r",
      " 42%|█████████████████████████████████▋                                              | 159/377 [02:14<01:45,  2.07it/s]"
     ]
    },
    {
     "name": "stdout",
     "output_type": "stream",
     "text": [
      "0.0005977794647271854\n",
      "0.03742671083091721\n",
      "-1.7618858376470254\n"
     ]
    },
    {
     "name": "stderr",
     "output_type": "stream",
     "text": [
      " 43%|██████████████████████████████████▏                                             | 161/377 [02:15<02:02,  1.76it/s]"
     ]
    },
    {
     "name": "stdout",
     "output_type": "stream",
     "text": [
      "-6.165574470631263e-06\n",
      "0.016925431614891868\n",
      "-6.108695643029605\n",
      "-0.0016934690176675447\n",
      "0.05434352867979675\n",
      "-1.3950809622988898\n"
     ]
    },
    {
     "name": "stderr",
     "output_type": "stream",
     "text": [
      "\r",
      " 43%|██████████████████████████████████▍                                             | 162/377 [02:16<02:51,  1.25it/s]"
     ]
    },
    {
     "name": "stdout",
     "output_type": "stream",
     "text": [
      "0.0001446841572904321\n",
      "0.016949665554947313\n",
      "-6.40441983492247\n"
     ]
    },
    {
     "name": "stderr",
     "output_type": "stream",
     "text": [
      "\r",
      " 43%|██████████████████████████████████▌                                             | 163/377 [02:17<02:21,  1.51it/s]"
     ]
    },
    {
     "name": "stdout",
     "output_type": "stream",
     "text": [
      "0.0008825806278249437\n",
      "0.03900466079666184\n",
      "-1.4461629838206673\n"
     ]
    },
    {
     "name": "stderr",
     "output_type": "stream",
     "text": [
      "\r",
      " 44%|██████████████████████████████████▊                                             | 164/377 [02:17<01:59,  1.78it/s]"
     ]
    },
    {
     "name": "stdout",
     "output_type": "stream",
     "text": [
      "0.0007166846498428786\n",
      "0.03704222852663583\n",
      "-0.17807178351607506\n"
     ]
    },
    {
     "name": "stderr",
     "output_type": "stream",
     "text": [
      "\r",
      " 44%|███████████████████████████████████                                             | 165/377 [02:17<01:39,  2.13it/s]"
     ]
    },
    {
     "name": "stdout",
     "output_type": "stream",
     "text": [
      "0.00030665909609283245\n",
      "0.04583887432294988\n",
      "-3.233674306073825\n"
     ]
    },
    {
     "name": "stderr",
     "output_type": "stream",
     "text": [
      " 45%|████████████████████████████████████▎                                           | 171/377 [02:19<00:52,  3.89it/s]"
     ]
    },
    {
     "name": "stdout",
     "output_type": "stream",
     "text": [
      "0.0009865987270973823\n",
      "0.01635811029404478\n",
      "-1.4109046372157734\n",
      "nan\n",
      "nan\n",
      "nan\n",
      "nan\n",
      "nan\n",
      "nan\n",
      "nan\n",
      "nan\n",
      "nan\n",
      "nan\n",
      "nan\n",
      "nan\n",
      "-0.0034842512340240964\n",
      "0.09632754220797636\n",
      "-2.700751630711685\n",
      "-0.0004493915203896472\n",
      "0.037510721379238963\n",
      "-6.128903503373762\n"
     ]
    },
    {
     "name": "stderr",
     "output_type": "stream",
     "text": [
      "\r",
      " 46%|████████████████████████████████████▋                                           | 173/377 [02:21<01:27,  2.34it/s]"
     ]
    },
    {
     "name": "stdout",
     "output_type": "stream",
     "text": [
      "-0.0002729344269678439\n",
      "0.016716850714029022\n",
      "-10.317669928262262\n"
     ]
    },
    {
     "name": "stderr",
     "output_type": "stream",
     "text": [
      "\r",
      " 46%|████████████████████████████████████▉                                           | 174/377 [02:21<01:23,  2.43it/s]"
     ]
    },
    {
     "name": "stdout",
     "output_type": "stream",
     "text": [
      "-0.0005490640440216694\n",
      "0.03820005482991585\n",
      "0.8351454360826102\n"
     ]
    },
    {
     "name": "stderr",
     "output_type": "stream",
     "text": [
      " 47%|█████████████████████████████████████▌                                          | 177/377 [02:21<01:01,  3.27it/s]"
     ]
    },
    {
     "name": "stdout",
     "output_type": "stream",
     "text": [
      "0.0006869924118021828\n",
      "0.029191004438899115\n",
      "-4.9245794740909945\n",
      "-0.0027732674611855843\n",
      "0.07970113989147969\n",
      "-3.3756076193134548\n"
     ]
    },
    {
     "name": "stderr",
     "output_type": "stream",
     "text": [
      " 47%|█████████████████████████████████████▉                                          | 179/377 [02:23<01:27,  2.28it/s]"
     ]
    },
    {
     "name": "stdout",
     "output_type": "stream",
     "text": [
      "0.0004508473518541535\n",
      "0.01756232848561565\n",
      "-3.396575877576752\n",
      "-0.0031501546215733987\n",
      "0.07100653230932981\n",
      "-1.2029916554952853\n"
     ]
    },
    {
     "name": "stderr",
     "output_type": "stream",
     "text": [
      "\r",
      " 49%|███████████████████████████████████████                                         | 184/377 [02:23<00:39,  4.89it/s]"
     ]
    },
    {
     "name": "stdout",
     "output_type": "stream",
     "text": [
      "0.0025960827443698956\n",
      "0.03881731142303421\n",
      "-4.329975610704342\n"
     ]
    },
    {
     "name": "stderr",
     "output_type": "stream",
     "text": [
      "\r",
      " 49%|███████████████████████████████████████▎                                        | 185/377 [02:25<01:13,  2.60it/s]"
     ]
    },
    {
     "name": "stdout",
     "output_type": "stream",
     "text": [
      "-0.00021850958136334357\n",
      "0.017750869148256545\n",
      "-3.7039999799310994\n"
     ]
    },
    {
     "name": "stderr",
     "output_type": "stream",
     "text": [
      "\r",
      " 49%|███████████████████████████████████████▍                                        | 186/377 [02:26<01:48,  1.76it/s]"
     ]
    },
    {
     "name": "stdout",
     "output_type": "stream",
     "text": [
      "-2.4027912129213125e-05\n",
      "0.017550334801409453\n",
      "1.1053280851797789\n"
     ]
    },
    {
     "name": "stderr",
     "output_type": "stream",
     "text": [
      "\r",
      " 50%|███████████████████████████████████████▋                                        | 187/377 [02:28<02:19,  1.36it/s]"
     ]
    },
    {
     "name": "stdout",
     "output_type": "stream",
     "text": [
      "-8.075907094503715e-05\n",
      "0.016842742893510315\n",
      "-7.196200569118921\n"
     ]
    },
    {
     "name": "stderr",
     "output_type": "stream",
     "text": [
      "\r",
      " 50%|███████████████████████████████████████▉                                        | 188/377 [02:28<02:19,  1.35it/s]"
     ]
    },
    {
     "name": "stdout",
     "output_type": "stream",
     "text": [
      "-0.0003772676040148366\n",
      "0.022981218474907503\n",
      "-2.6102818170767397\n"
     ]
    },
    {
     "name": "stderr",
     "output_type": "stream",
     "text": [
      "\r",
      " 50%|████████████████████████████████████████                                        | 189/377 [02:29<02:00,  1.56it/s]"
     ]
    },
    {
     "name": "stdout",
     "output_type": "stream",
     "text": [
      "0.00021265492202576113\n",
      "0.037179615309735\n",
      "0.07968670260490171\n"
     ]
    },
    {
     "name": "stderr",
     "output_type": "stream",
     "text": [
      "\r",
      " 50%|████████████████████████████████████████▎                                       | 190/377 [02:30<02:31,  1.23it/s]"
     ]
    },
    {
     "name": "stdout",
     "output_type": "stream",
     "text": [
      "0.00010557668224804093\n",
      "0.018120516468913637\n",
      "-3.0691118100412584\n"
     ]
    },
    {
     "name": "stderr",
     "output_type": "stream",
     "text": [
      "\r",
      " 51%|████████████████████████████████████████▌                                       | 191/377 [02:31<02:29,  1.24it/s]"
     ]
    },
    {
     "name": "stdout",
     "output_type": "stream",
     "text": [
      "0.0014692848680303763\n",
      "0.023670737758788755\n",
      "-2.4115869546391835\n"
     ]
    },
    {
     "name": "stderr",
     "output_type": "stream",
     "text": [
      "\r",
      " 51%|████████████████████████████████████████▋                                       | 192/377 [02:32<03:01,  1.02it/s]"
     ]
    },
    {
     "name": "stdout",
     "output_type": "stream",
     "text": [
      "-1.1943707815899013e-05\n",
      "0.017751632951725525\n",
      "-5.772111077914716\n"
     ]
    },
    {
     "name": "stderr",
     "output_type": "stream",
     "text": [
      "\r",
      " 51%|████████████████████████████████████████▉                                       | 193/377 [02:33<03:05,  1.01s/it]"
     ]
    },
    {
     "name": "stdout",
     "output_type": "stream",
     "text": [
      "0.0004613259169151915\n",
      "0.01971576167546904\n",
      "0.6382737230193275\n",
      "-0.0006959861917709333\n",
      "0.08026178720191844\n",
      "-0.41593065448650496\n"
     ]
    },
    {
     "name": "stderr",
     "output_type": "stream",
     "text": [
      "\r",
      " 52%|█████████████████████████████████████████▍                                      | 195/377 [02:34<01:58,  1.54it/s]"
     ]
    },
    {
     "name": "stdout",
     "output_type": "stream",
     "text": [
      "-0.00036415298757287186\n",
      "0.03664687909757161\n",
      "0.04450486354576742\n"
     ]
    },
    {
     "name": "stderr",
     "output_type": "stream",
     "text": [
      "\r",
      " 52%|█████████████████████████████████████████▌                                      | 196/377 [02:35<02:31,  1.19it/s]"
     ]
    },
    {
     "name": "stdout",
     "output_type": "stream",
     "text": [
      "-0.0010275779133412377\n",
      "0.01726692036634663\n",
      "-7.129440816777786\n"
     ]
    },
    {
     "name": "stderr",
     "output_type": "stream",
     "text": [
      "\r",
      " 53%|██████████████████████████████████████████                                      | 198/377 [02:35<01:40,  1.79it/s]"
     ]
    },
    {
     "name": "stdout",
     "output_type": "stream",
     "text": [
      "-0.00012085965604306493\n",
      "0.03870366963623044\n",
      "-1.9331482251832037\n"
     ]
    },
    {
     "name": "stderr",
     "output_type": "stream",
     "text": [
      "\r",
      " 53%|██████████████████████████████████████████▏                                     | 199/377 [02:36<01:29,  1.98it/s]"
     ]
    },
    {
     "name": "stdout",
     "output_type": "stream",
     "text": [
      "0.0003049620441674027\n",
      "0.035424938320085364\n",
      "-4.9672740775645154\n"
     ]
    },
    {
     "name": "stderr",
     "output_type": "stream",
     "text": [
      "\r",
      " 53%|██████████████████████████████████████████▍                                     | 200/377 [02:36<01:21,  2.17it/s]"
     ]
    },
    {
     "name": "stdout",
     "output_type": "stream",
     "text": [
      "-0.00037597390455433024\n",
      "0.03788604221403315\n",
      "-0.9149677589422857\n"
     ]
    },
    {
     "name": "stderr",
     "output_type": "stream",
     "text": [
      "\r",
      " 53%|██████████████████████████████████████████▋                                     | 201/377 [02:37<02:04,  1.41it/s]"
     ]
    },
    {
     "name": "stdout",
     "output_type": "stream",
     "text": [
      "8.48130413667375e-06\n",
      "0.017454653624855623\n",
      "-5.548842749068049\n"
     ]
    },
    {
     "name": "stderr",
     "output_type": "stream",
     "text": [
      "\r",
      " 54%|██████████████████████████████████████████▊                                     | 202/377 [02:38<02:07,  1.37it/s]"
     ]
    },
    {
     "name": "stdout",
     "output_type": "stream",
     "text": [
      "-0.00017323969899512304\n",
      "0.02420884677311768\n",
      "-1.7868382536415248\n"
     ]
    },
    {
     "name": "stderr",
     "output_type": "stream",
     "text": [
      "\r",
      " 54%|███████████████████████████████████████████                                     | 203/377 [02:39<02:12,  1.31it/s]"
     ]
    },
    {
     "name": "stdout",
     "output_type": "stream",
     "text": [
      "4.051546420314922e-05\n",
      "0.022628131466422775\n",
      "-1.1711155077230104\n"
     ]
    },
    {
     "name": "stderr",
     "output_type": "stream",
     "text": [
      " 54%|███████████████████████████████████████████▌                                    | 205/377 [02:41<02:04,  1.39it/s]"
     ]
    },
    {
     "name": "stdout",
     "output_type": "stream",
     "text": [
      "0.0003739095066160379\n",
      "0.01687735468123011\n",
      "-6.548365243352901\n",
      "-0.0022327574414221013\n",
      "0.05506053060613685\n",
      "-0.9179049864703018\n"
     ]
    },
    {
     "name": "stderr",
     "output_type": "stream",
     "text": [
      "\r",
      " 55%|███████████████████████████████████████████▋                                    | 206/377 [02:41<02:06,  1.35it/s]"
     ]
    },
    {
     "name": "stdout",
     "output_type": "stream",
     "text": [
      "1.714580348743608e-05\n",
      "0.023282648673682266\n",
      "-1.2291021684064012\n"
     ]
    },
    {
     "name": "stderr",
     "output_type": "stream",
     "text": [
      "\r",
      " 55%|███████████████████████████████████████████▉                                    | 207/377 [02:42<01:45,  1.61it/s]"
     ]
    },
    {
     "name": "stdout",
     "output_type": "stream",
     "text": [
      "0.0002774066552058559\n",
      "0.03915010349673515\n",
      "1.2236183208667275\n"
     ]
    },
    {
     "name": "stderr",
     "output_type": "stream",
     "text": [
      "\r",
      " 55%|████████████████████████████████████████████▏                                   | 208/377 [02:43<02:08,  1.31it/s]"
     ]
    },
    {
     "name": "stdout",
     "output_type": "stream",
     "text": [
      "-0.0001729076027214773\n",
      "0.019735570008745918\n",
      "-1.7504749219681686\n"
     ]
    },
    {
     "name": "stderr",
     "output_type": "stream",
     "text": [
      "\r",
      " 55%|████████████████████████████████████████████▎                                   | 209/377 [02:44<02:05,  1.34it/s]"
     ]
    },
    {
     "name": "stdout",
     "output_type": "stream",
     "text": [
      "-0.0013412488612819116\n",
      "0.024373486973002165\n",
      "-4.503233255875735\n"
     ]
    },
    {
     "name": "stderr",
     "output_type": "stream",
     "text": [
      "\r",
      " 56%|████████████████████████████████████████████▌                                   | 210/377 [02:44<01:39,  1.68it/s]"
     ]
    },
    {
     "name": "stdout",
     "output_type": "stream",
     "text": [
      "-0.0006523852792554533\n",
      "0.04514136087909515\n",
      "-4.946740196747904\n"
     ]
    },
    {
     "name": "stderr",
     "output_type": "stream",
     "text": [
      "\r",
      " 56%|████████████████████████████████████████████▊                                   | 211/377 [02:45<02:03,  1.34it/s]"
     ]
    },
    {
     "name": "stdout",
     "output_type": "stream",
     "text": [
      "-0.0003366680614305088\n",
      "0.020128613871658693\n",
      "-2.346860134398278\n",
      "nan\n",
      "nan\n",
      "nan\n"
     ]
    },
    {
     "name": "stderr",
     "output_type": "stream",
     "text": [
      "\r",
      " 56%|█████████████████████████████████████████████▏                                  | 213/377 [02:46<02:01,  1.35it/s]"
     ]
    },
    {
     "name": "stdout",
     "output_type": "stream",
     "text": [
      "-0.0010183837945575147\n",
      "0.017528791979328176\n",
      "-4.640816685307928\n"
     ]
    },
    {
     "name": "stderr",
     "output_type": "stream",
     "text": [
      "\r",
      " 57%|█████████████████████████████████████████████▍                                  | 214/377 [02:47<02:13,  1.22it/s]"
     ]
    },
    {
     "name": "stdout",
     "output_type": "stream",
     "text": [
      "-0.0001696416913578017\n",
      "0.019806390420765686\n",
      "2.415652047410774\n"
     ]
    },
    {
     "name": "stderr",
     "output_type": "stream",
     "text": [
      "\r",
      " 57%|█████████████████████████████████████████████▌                                  | 215/377 [02:48<01:51,  1.45it/s]"
     ]
    },
    {
     "name": "stdout",
     "output_type": "stream",
     "text": [
      "-0.00034328096352743227\n",
      "0.03872249269684048\n",
      "2.097079460029107\n"
     ]
    },
    {
     "name": "stderr",
     "output_type": "stream",
     "text": [
      "\r",
      " 57%|█████████████████████████████████████████████▊                                  | 216/377 [02:49<02:25,  1.10it/s]"
     ]
    },
    {
     "name": "stdout",
     "output_type": "stream",
     "text": [
      "-0.0002626588074816981\n",
      "0.016791360885811533\n",
      "-7.067012247280004\n"
     ]
    },
    {
     "name": "stderr",
     "output_type": "stream",
     "text": [
      "\r",
      " 58%|██████████████████████████████████████████████▎                                 | 218/377 [02:50<01:39,  1.60it/s]"
     ]
    },
    {
     "name": "stdout",
     "output_type": "stream",
     "text": [
      "0.00012807310006651774\n",
      "0.02750152597095554\n",
      "-1.1417518389013435\n"
     ]
    },
    {
     "name": "stderr",
     "output_type": "stream",
     "text": [
      "\r",
      " 58%|██████████████████████████████████████████████▍                                 | 219/377 [02:50<01:23,  1.88it/s]"
     ]
    },
    {
     "name": "stdout",
     "output_type": "stream",
     "text": [
      "0.0027802326357567663\n",
      "0.044354399892457506\n",
      "-1.5520482049963955\n"
     ]
    },
    {
     "name": "stderr",
     "output_type": "stream",
     "text": [
      "\r",
      " 58%|██████████████████████████████████████████████▋                                 | 220/377 [02:51<01:39,  1.58it/s]"
     ]
    },
    {
     "name": "stdout",
     "output_type": "stream",
     "text": [
      "0.0010197984490564053\n",
      "0.022395204959093824\n",
      "-2.366231732635344\n"
     ]
    },
    {
     "name": "stderr",
     "output_type": "stream",
     "text": [
      "\r",
      " 59%|██████████████████████████████████████████████▉                                 | 221/377 [02:52<01:49,  1.42it/s]"
     ]
    },
    {
     "name": "stdout",
     "output_type": "stream",
     "text": [
      "-0.0002420868622431765\n",
      "0.020751847644149123\n",
      "-3.5724885774964616\n"
     ]
    },
    {
     "name": "stderr",
     "output_type": "stream",
     "text": [
      "\r",
      " 59%|███████████████████████████████████████████████                                 | 222/377 [02:53<02:19,  1.11it/s]"
     ]
    },
    {
     "name": "stdout",
     "output_type": "stream",
     "text": [
      "4.9505029812963385e-05\n",
      "0.017203357407752442\n",
      "0.5284512333312326\n"
     ]
    },
    {
     "name": "stderr",
     "output_type": "stream",
     "text": [
      "\r",
      " 59%|███████████████████████████████████████████████▎                                | 223/377 [02:54<02:02,  1.26it/s]"
     ]
    },
    {
     "name": "stdout",
     "output_type": "stream",
     "text": [
      "-0.000567692293352963\n",
      "0.028596285286040024\n",
      "-4.217378429011493\n"
     ]
    },
    {
     "name": "stderr",
     "output_type": "stream",
     "text": [
      "\r",
      " 59%|███████████████████████████████████████████████▌                                | 224/377 [02:54<01:43,  1.48it/s]"
     ]
    },
    {
     "name": "stdout",
     "output_type": "stream",
     "text": [
      "nan\n",
      "nan\n",
      "nan\n"
     ]
    },
    {
     "name": "stderr",
     "output_type": "stream",
     "text": [
      "\r",
      " 60%|███████████████████████████████████████████████▋                                | 225/377 [02:54<01:27,  1.73it/s]"
     ]
    },
    {
     "name": "stdout",
     "output_type": "stream",
     "text": [
      "0.0007587245543197122\n",
      "0.0384913272066334\n",
      "-6.0323922654737405\n"
     ]
    },
    {
     "name": "stderr",
     "output_type": "stream",
     "text": [
      "\r",
      " 60%|████████████████████████████████████████████████▏                               | 227/377 [02:55<00:58,  2.56it/s]"
     ]
    },
    {
     "name": "stdout",
     "output_type": "stream",
     "text": [
      "0.0007578354571775184\n",
      "0.036928670279443715\n",
      "-2.3688830216202303\n"
     ]
    },
    {
     "name": "stderr",
     "output_type": "stream",
     "text": [
      "\r",
      " 60%|████████████████████████████████████████████████▍                               | 228/377 [02:55<00:56,  2.65it/s]"
     ]
    },
    {
     "name": "stdout",
     "output_type": "stream",
     "text": [
      "-0.002055272994148078\n",
      "0.037602967746076674\n",
      "-4.385152169688992\n"
     ]
    },
    {
     "name": "stderr",
     "output_type": "stream",
     "text": [
      "\r",
      " 61%|████████████████████████████████████████████████▌                               | 229/377 [02:57<01:35,  1.55it/s]"
     ]
    },
    {
     "name": "stdout",
     "output_type": "stream",
     "text": [
      "0.0001483984712892179\n",
      "0.01694169057868865\n",
      "-5.219408450907751\n"
     ]
    },
    {
     "name": "stderr",
     "output_type": "stream",
     "text": [
      "\r",
      " 61%|████████████████████████████████████████████████▊                               | 230/377 [02:58<02:06,  1.16it/s]"
     ]
    },
    {
     "name": "stdout",
     "output_type": "stream",
     "text": [
      "0.0006365727794267948\n",
      "0.017151262363111344\n",
      "-7.9563110541055435\n"
     ]
    },
    {
     "name": "stderr",
     "output_type": "stream",
     "text": [
      "\r",
      " 61%|█████████████████████████████████████████████████                               | 231/377 [02:59<02:14,  1.09it/s]"
     ]
    },
    {
     "name": "stdout",
     "output_type": "stream",
     "text": [
      "0.00013657554637209912\n",
      "0.019984562090656684\n",
      "-3.985852023202904\n"
     ]
    },
    {
     "name": "stderr",
     "output_type": "stream",
     "text": [
      " 62%|█████████████████████████████████████████████████▍                              | 233/377 [03:01<01:53,  1.26it/s]"
     ]
    },
    {
     "name": "stdout",
     "output_type": "stream",
     "text": [
      "4.564750962496397e-05\n",
      "0.017516095422442195\n",
      "-2.705535797590592\n",
      "-0.0006553942514732206\n",
      "0.06795295857965546\n",
      "-5.167815244662602\n"
     ]
    },
    {
     "name": "stderr",
     "output_type": "stream",
     "text": [
      "\r",
      " 62%|█████████████████████████████████████████████████▋                              | 234/377 [03:02<02:17,  1.04it/s]"
     ]
    },
    {
     "name": "stdout",
     "output_type": "stream",
     "text": [
      "-0.00015887745876009613\n",
      "0.016784890782289986\n",
      "-3.1874554104024946\n"
     ]
    },
    {
     "name": "stderr",
     "output_type": "stream",
     "text": [
      "\r",
      " 62%|█████████████████████████████████████████████████▊                              | 235/377 [03:03<02:27,  1.04s/it]"
     ]
    },
    {
     "name": "stdout",
     "output_type": "stream",
     "text": [
      "-0.00035596616016333375\n",
      "0.018513914798338707\n",
      "-8.475976374864802\n"
     ]
    },
    {
     "name": "stderr",
     "output_type": "stream",
     "text": [
      "\r",
      " 63%|██████████████████████████████████████████████████                              | 236/377 [03:05<02:41,  1.15s/it]"
     ]
    },
    {
     "name": "stdout",
     "output_type": "stream",
     "text": [
      "6.545704449576639e-06\n",
      "0.01772739331128037\n",
      "-6.077808255619876\n"
     ]
    },
    {
     "name": "stderr",
     "output_type": "stream",
     "text": [
      "\r",
      " 63%|██████████████████████████████████████████████████▎                             | 237/377 [03:06<02:50,  1.22s/it]"
     ]
    },
    {
     "name": "stdout",
     "output_type": "stream",
     "text": [
      "-0.0001770641720721655\n",
      "0.016551171725665663\n",
      "-4.741499639681639\n"
     ]
    },
    {
     "name": "stderr",
     "output_type": "stream",
     "text": [
      "\r",
      " 63%|██████████████████████████████████████████████████▌                             | 238/377 [03:06<02:12,  1.05it/s]"
     ]
    },
    {
     "name": "stdout",
     "output_type": "stream",
     "text": [
      "-0.0012269417745279711\n",
      "0.038672216301234026\n",
      "1.3136880109409852\n"
     ]
    },
    {
     "name": "stderr",
     "output_type": "stream",
     "text": [
      "\r",
      " 63%|██████████████████████████████████████████████████▋                             | 239/377 [03:07<01:45,  1.31it/s]"
     ]
    },
    {
     "name": "stdout",
     "output_type": "stream",
     "text": [
      "-0.001025526667991287\n",
      "0.03722741688465766\n",
      "2.3476570516504953\n"
     ]
    },
    {
     "name": "stderr",
     "output_type": "stream",
     "text": [
      "\r",
      " 64%|██████████████████████████████████████████████████▉                             | 240/377 [03:07<01:26,  1.58it/s]"
     ]
    },
    {
     "name": "stdout",
     "output_type": "stream",
     "text": [
      "-0.0011473800370876534\n",
      "0.03766490089897029\n",
      "-7.222539742608499\n"
     ]
    },
    {
     "name": "stderr",
     "output_type": "stream",
     "text": [
      "\r",
      " 64%|███████████████████████████████████████████████████▏                            | 241/377 [03:08<01:32,  1.47it/s]"
     ]
    },
    {
     "name": "stdout",
     "output_type": "stream",
     "text": [
      "0.00023343312693081475\n",
      "0.023118582257114332\n",
      "-6.730196899283547\n"
     ]
    },
    {
     "name": "stderr",
     "output_type": "stream",
     "text": [
      "\r",
      " 64%|███████████████████████████████████████████████████▎                            | 242/377 [03:08<01:30,  1.50it/s]"
     ]
    },
    {
     "name": "stdout",
     "output_type": "stream",
     "text": [
      "0.001728237426360865\n",
      "0.026432408459056457\n",
      "-2.5777952279412557\n"
     ]
    },
    {
     "name": "stderr",
     "output_type": "stream",
     "text": [
      "\r",
      " 64%|███████████████████████████████████████████████████▌                            | 243/377 [03:09<01:12,  1.85it/s]"
     ]
    },
    {
     "name": "stdout",
     "output_type": "stream",
     "text": [
      "0.00029470564584160234\n",
      "0.04499682408162125\n",
      "-2.4712300307272885\n"
     ]
    },
    {
     "name": "stderr",
     "output_type": "stream",
     "text": [
      "\r",
      " 65%|███████████████████████████████████████████████████▊                            | 244/377 [03:10<01:45,  1.27it/s]"
     ]
    },
    {
     "name": "stdout",
     "output_type": "stream",
     "text": [
      "-0.0010461629738116305\n",
      "0.016589301429828788\n",
      "-1.4305425511297896\n"
     ]
    },
    {
     "name": "stderr",
     "output_type": "stream",
     "text": [
      "\r",
      " 65%|███████████████████████████████████████████████████▉                            | 245/377 [03:11<02:07,  1.03it/s]"
     ]
    },
    {
     "name": "stdout",
     "output_type": "stream",
     "text": [
      "-0.0006083245064234717\n",
      "0.017324088243345283\n",
      "-0.4789338708658241\n",
      "-0.0031138736380694806\n",
      "0.08721516487869845\n",
      "-3.437257229926301\n"
     ]
    },
    {
     "name": "stderr",
     "output_type": "stream",
     "text": [
      "\r",
      " 66%|████████████████████████████████████████████████████▍                           | 247/377 [03:12<01:18,  1.66it/s]"
     ]
    },
    {
     "name": "stdout",
     "output_type": "stream",
     "text": [
      "3.0740981432479855e-05\n",
      "0.0433813785667659\n",
      "1.0810105838096984\n"
     ]
    },
    {
     "name": "stderr",
     "output_type": "stream",
     "text": [
      "\r",
      " 66%|████████████████████████████████████████████████████▋                           | 248/377 [03:13<01:24,  1.53it/s]"
     ]
    },
    {
     "name": "stdout",
     "output_type": "stream",
     "text": [
      "0.0013056046328033006\n",
      "0.022595472909279483\n",
      "1.2978039891805644\n"
     ]
    },
    {
     "name": "stderr",
     "output_type": "stream",
     "text": [
      "\r",
      " 66%|████████████████████████████████████████████████████▊                           | 249/377 [03:13<01:27,  1.47it/s]"
     ]
    },
    {
     "name": "stdout",
     "output_type": "stream",
     "text": [
      "0.00032413482925486124\n",
      "0.023113149620908664\n",
      "-1.6300085751058153\n"
     ]
    },
    {
     "name": "stderr",
     "output_type": "stream",
     "text": [
      "\r",
      " 66%|█████████████████████████████████████████████████████                           | 250/377 [03:14<01:13,  1.72it/s]"
     ]
    },
    {
     "name": "stdout",
     "output_type": "stream",
     "text": [
      "-0.0005990595913608693\n",
      "0.03634932762577728\n",
      "-6.320609997787014\n"
     ]
    },
    {
     "name": "stderr",
     "output_type": "stream",
     "text": [
      "\r",
      " 67%|█████████████████████████████████████████████████████▎                          | 251/377 [03:14<01:04,  1.95it/s]"
     ]
    },
    {
     "name": "stdout",
     "output_type": "stream",
     "text": [
      "-0.0010853704606179685\n",
      "0.03762535235622976\n",
      "-4.614866355624232\n"
     ]
    },
    {
     "name": "stderr",
     "output_type": "stream",
     "text": [
      "\r",
      " 67%|█████████████████████████████████████████████████████▍                          | 252/377 [03:14<00:57,  2.18it/s]"
     ]
    },
    {
     "name": "stdout",
     "output_type": "stream",
     "text": [
      "0.0016841313004956882\n",
      "0.03663030723641367\n",
      "-4.776167536003222\n"
     ]
    },
    {
     "name": "stderr",
     "output_type": "stream",
     "text": [
      "\r",
      " 68%|██████████████████████████████████████████████████████                          | 255/377 [03:15<00:49,  2.49it/s]"
     ]
    },
    {
     "name": "stdout",
     "output_type": "stream",
     "text": [
      "0.00019006312501171764\n",
      "0.02057459126557885\n",
      "-6.129027757096083\n"
     ]
    },
    {
     "name": "stderr",
     "output_type": "stream",
     "text": [
      "\r",
      " 68%|██████████████████████████████████████████████████████▎                         | 256/377 [03:17<01:13,  1.65it/s]"
     ]
    },
    {
     "name": "stdout",
     "output_type": "stream",
     "text": [
      "0.000790046124207831\n",
      "0.017662618758458624\n",
      "-0.35543544363018326\n"
     ]
    },
    {
     "name": "stderr",
     "output_type": "stream",
     "text": [
      "\r",
      " 68%|██████████████████████████████████████████████████████▌                         | 257/377 [03:18<01:25,  1.41it/s]"
     ]
    },
    {
     "name": "stdout",
     "output_type": "stream",
     "text": [
      "-0.0006443448646171113\n",
      "0.02025349756033961\n",
      "-0.4410900788061935\n"
     ]
    },
    {
     "name": "stderr",
     "output_type": "stream",
     "text": [
      "\r",
      " 68%|██████████████████████████████████████████████████████▋                         | 258/377 [03:19<01:32,  1.29it/s]"
     ]
    },
    {
     "name": "stdout",
     "output_type": "stream",
     "text": [
      "0.0006980353319742422\n",
      "0.020724194678448722\n",
      "-3.421008013587533\n"
     ]
    },
    {
     "name": "stderr",
     "output_type": "stream",
     "text": [
      "\r",
      " 69%|██████████████████████████████████████████████████████▉                         | 259/377 [03:19<01:17,  1.52it/s]"
     ]
    },
    {
     "name": "stdout",
     "output_type": "stream",
     "text": [
      "0.0003937919563819284\n",
      "0.03792251007625629\n",
      "2.9830738241772554\n"
     ]
    },
    {
     "name": "stderr",
     "output_type": "stream",
     "text": [
      "\r",
      " 69%|███████████████████████████████████████████████████████▏                        | 260/377 [03:20<01:23,  1.40it/s]"
     ]
    },
    {
     "name": "stdout",
     "output_type": "stream",
     "text": [
      "-0.000606153902509618\n",
      "0.021989758001769992\n",
      "-3.2748047083673777\n"
     ]
    },
    {
     "name": "stderr",
     "output_type": "stream",
     "text": [
      "\r",
      " 69%|███████████████████████████████████████████████████████▍                        | 261/377 [03:21<01:48,  1.07it/s]"
     ]
    },
    {
     "name": "stdout",
     "output_type": "stream",
     "text": [
      "0.00013341397362297673\n",
      "0.016467354259573345\n",
      "-3.517038644879298\n"
     ]
    },
    {
     "name": "stderr",
     "output_type": "stream",
     "text": [
      "\r",
      " 70%|███████████████████████████████████████████████████████▊                        | 263/377 [03:22<01:07,  1.69it/s]"
     ]
    },
    {
     "name": "stdout",
     "output_type": "stream",
     "text": [
      "0.000543544653691979\n",
      "0.03791738051565115\n",
      "-1.4681648441395898\n"
     ]
    },
    {
     "name": "stderr",
     "output_type": "stream",
     "text": [
      "\r",
      " 70%|████████████████████████████████████████████████████████                        | 264/377 [03:23<01:28,  1.27it/s]"
     ]
    },
    {
     "name": "stdout",
     "output_type": "stream",
     "text": [
      "-0.00014998858041727494\n",
      "0.01656414906812803\n",
      "1.142217412022191\n"
     ]
    },
    {
     "name": "stderr",
     "output_type": "stream",
     "text": [
      "\r",
      " 70%|████████████████████████████████████████████████████████▏                       | 265/377 [03:25<01:46,  1.05it/s]"
     ]
    },
    {
     "name": "stdout",
     "output_type": "stream",
     "text": [
      "-0.00011836222080754277\n",
      "0.017059698633525116\n",
      "-4.909649333276936\n"
     ]
    },
    {
     "name": "stderr",
     "output_type": "stream",
     "text": [
      "\r",
      " 71%|████████████████████████████████████████████████████████▍                       | 266/377 [03:26<01:55,  1.04s/it]"
     ]
    },
    {
     "name": "stdout",
     "output_type": "stream",
     "text": [
      "0.0010240046982191492\n",
      "0.01763502776700241\n",
      "-2.2240389970887913\n"
     ]
    },
    {
     "name": "stderr",
     "output_type": "stream",
     "text": [
      "\r",
      " 71%|████████████████████████████████████████████████████████▋                       | 267/377 [03:27<01:51,  1.01s/it]"
     ]
    },
    {
     "name": "stdout",
     "output_type": "stream",
     "text": [
      "0.0014213927672273835\n",
      "0.02175946077725748\n",
      "-6.569278358769961\n"
     ]
    },
    {
     "name": "stderr",
     "output_type": "stream",
     "text": [
      " 71%|█████████████████████████████████████████████████████████                       | 269/377 [03:27<01:08,  1.57it/s]"
     ]
    },
    {
     "name": "stdout",
     "output_type": "stream",
     "text": [
      "0.0009729092979654023\n",
      "0.038960484562508266\n",
      "-10.093176171978477\n",
      "-0.002692078674791148\n",
      "0.05277780599192183\n",
      "-4.0477034255450475\n"
     ]
    },
    {
     "name": "stderr",
     "output_type": "stream",
     "text": [
      "\r",
      " 72%|█████████████████████████████████████████████████████████▎                      | 270/377 [03:29<01:32,  1.16it/s]"
     ]
    },
    {
     "name": "stdout",
     "output_type": "stream",
     "text": [
      "-0.00011285002559880009\n",
      "0.01591388232864978\n",
      "-4.517969349344744\n"
     ]
    },
    {
     "name": "stderr",
     "output_type": "stream",
     "text": [
      "\r",
      " 72%|█████████████████████████████████████████████████████████▌                      | 271/377 [03:29<01:22,  1.28it/s]"
     ]
    },
    {
     "name": "stdout",
     "output_type": "stream",
     "text": [
      "-0.0015095178405684067\n",
      "0.027834295999007278\n",
      "-3.7997212029102485\n"
     ]
    },
    {
     "name": "stderr",
     "output_type": "stream",
     "text": [
      "\r",
      " 72%|█████████████████████████████████████████████████████████▋                      | 272/377 [03:30<01:07,  1.55it/s]"
     ]
    },
    {
     "name": "stdout",
     "output_type": "stream",
     "text": [
      "-0.0006005564612947627\n",
      "0.03681123845229698\n",
      "-0.35822042266551585\n"
     ]
    },
    {
     "name": "stderr",
     "output_type": "stream",
     "text": [
      "\r",
      " 72%|█████████████████████████████████████████████████████████▉                      | 273/377 [03:31<01:32,  1.12it/s]"
     ]
    },
    {
     "name": "stdout",
     "output_type": "stream",
     "text": [
      "0.00040950887261520237\n",
      "0.01761091903596789\n",
      "-3.6339801003565118\n"
     ]
    },
    {
     "name": "stderr",
     "output_type": "stream",
     "text": [
      "\r",
      " 73%|██████████████████████████████████████████████████████████▏                     | 274/377 [03:32<01:24,  1.22it/s]"
     ]
    },
    {
     "name": "stdout",
     "output_type": "stream",
     "text": [
      "-0.0007764506687145895\n",
      "0.026344585950240963\n",
      "-1.4017632755456568\n"
     ]
    },
    {
     "name": "stderr",
     "output_type": "stream",
     "text": [
      "\r",
      " 73%|██████████████████████████████████████████████████████████▎                     | 275/377 [03:32<01:18,  1.29it/s]"
     ]
    },
    {
     "name": "stdout",
     "output_type": "stream",
     "text": [
      "-0.0008140695428262206\n",
      "0.026304959040472878\n",
      "-2.0698851993875382\n"
     ]
    },
    {
     "name": "stderr",
     "output_type": "stream",
     "text": [
      "\r",
      " 73%|██████████████████████████████████████████████████████████▌                     | 276/377 [03:34<01:36,  1.04it/s]"
     ]
    },
    {
     "name": "stdout",
     "output_type": "stream",
     "text": [
      "0.0003889745243401977\n",
      "0.017411296468715115\n",
      "-3.128885191222697\n",
      "-0.0017764939178402277\n",
      "0.09046064855477044\n",
      "-3.1434816463503426\n"
     ]
    },
    {
     "name": "stderr",
     "output_type": "stream",
     "text": [
      "\r",
      " 74%|██████████████████████████████████████████████████████████▉                     | 278/377 [03:35<01:16,  1.29it/s]"
     ]
    },
    {
     "name": "stdout",
     "output_type": "stream",
     "text": [
      "-0.00020073354674308115\n",
      "0.019464655572257687\n",
      "-5.166218076054025\n"
     ]
    },
    {
     "name": "stderr",
     "output_type": "stream",
     "text": [
      "\r",
      " 74%|███████████████████████████████████████████████████████████▏                    | 279/377 [03:36<01:31,  1.07it/s]"
     ]
    },
    {
     "name": "stdout",
     "output_type": "stream",
     "text": [
      "0.0004104737242157556\n",
      "0.016392399671120224\n",
      "1.1702421767474067\n",
      "0.001975218515443028\n",
      "0.09533428610029825\n",
      "-4.904444314992301\n"
     ]
    },
    {
     "name": "stderr",
     "output_type": "stream",
     "text": [
      " 75%|███████████████████████████████████████████████████████████▊                    | 282/377 [03:38<01:00,  1.58it/s]"
     ]
    },
    {
     "name": "stdout",
     "output_type": "stream",
     "text": [
      "0.0003291569584731366\n",
      "0.019408965901111876\n",
      "-5.184239303002734\n",
      "nan\n",
      "nan\n",
      "nan\n",
      "0.002330487989955807\n",
      "0.0890772938342865\n",
      "-3.800797240598221\n"
     ]
    },
    {
     "name": "stderr",
     "output_type": "stream",
     "text": [
      " 76%|████████████████████████████████████████████████████████████▍                   | 285/377 [03:39<00:52,  1.77it/s]"
     ]
    },
    {
     "name": "stdout",
     "output_type": "stream",
     "text": [
      "0.00043483149641289684\n",
      "0.016868568293799645\n",
      "-4.258993250384643\n",
      "-0.00028409611447960826\n",
      "0.05275537587081741\n",
      "-0.31699603494579076\n"
     ]
    },
    {
     "name": "stderr",
     "output_type": "stream",
     "text": [
      "\r",
      " 76%|████████████████████████████████████████████████████████████▋                   | 286/377 [03:40<00:54,  1.68it/s]"
     ]
    },
    {
     "name": "stdout",
     "output_type": "stream",
     "text": [
      "0.0005257554873502586\n",
      "0.02516537060285022\n",
      "0.8273488377537701\n"
     ]
    },
    {
     "name": "stderr",
     "output_type": "stream",
     "text": [
      "\r",
      " 76%|████████████████████████████████████████████████████████████▉                   | 287/377 [03:41<01:11,  1.25it/s]"
     ]
    },
    {
     "name": "stdout",
     "output_type": "stream",
     "text": [
      "-0.0002311397878805006\n",
      "0.01698758707270603\n",
      "-5.722743700504928\n"
     ]
    },
    {
     "name": "stderr",
     "output_type": "stream",
     "text": [
      "\r",
      " 76%|█████████████████████████████████████████████████████████████                   | 288/377 [03:42<01:10,  1.26it/s]"
     ]
    },
    {
     "name": "stdout",
     "output_type": "stream",
     "text": [
      "-0.0018344272987291903\n",
      "0.024083718730606853\n",
      "-4.730781654684139\n"
     ]
    },
    {
     "name": "stderr",
     "output_type": "stream",
     "text": [
      "\r",
      " 77%|█████████████████████████████████████████████████████████████▎                  | 289/377 [03:44<01:24,  1.04it/s]"
     ]
    },
    {
     "name": "stdout",
     "output_type": "stream",
     "text": [
      "-0.00038897096166522714\n",
      "0.01725347777511624\n",
      "0.006364217352518361\n"
     ]
    },
    {
     "name": "stderr",
     "output_type": "stream",
     "text": [
      "\r",
      " 77%|█████████████████████████████████████████████████████████████▌                  | 290/377 [03:45<01:34,  1.08s/it]"
     ]
    },
    {
     "name": "stdout",
     "output_type": "stream",
     "text": [
      "-0.0008455573057077443\n",
      "0.016872906969007017\n",
      "0.4324361071686228\n"
     ]
    },
    {
     "name": "stderr",
     "output_type": "stream",
     "text": [
      "\r",
      " 77%|█████████████████████████████████████████████████████████████▊                  | 291/377 [03:46<01:40,  1.17s/it]"
     ]
    },
    {
     "name": "stdout",
     "output_type": "stream",
     "text": [
      "-0.0005696913243545399\n",
      "0.017360187786498924\n",
      "-0.12579018904188116\n"
     ]
    },
    {
     "name": "stderr",
     "output_type": "stream",
     "text": [
      "\r",
      " 77%|█████████████████████████████████████████████████████████████▉                  | 292/377 [03:48<01:44,  1.23s/it]"
     ]
    },
    {
     "name": "stdout",
     "output_type": "stream",
     "text": [
      "-0.00017881282991618719\n",
      "0.017198899310535427\n",
      "-2.1415004776264093\n"
     ]
    },
    {
     "name": "stderr",
     "output_type": "stream",
     "text": [
      "\r",
      " 78%|██████████████████████████████████████████████████████████████▏                 | 293/377 [03:49<01:31,  1.09s/it]"
     ]
    },
    {
     "name": "stdout",
     "output_type": "stream",
     "text": [
      "0.000496856386337734\n",
      "0.02356726052383057\n",
      "-2.380762813243578\n"
     ]
    },
    {
     "name": "stderr",
     "output_type": "stream",
     "text": [
      "\r",
      " 78%|██████████████████████████████████████████████████████████████▍                 | 294/377 [03:50<01:38,  1.19s/it]"
     ]
    },
    {
     "name": "stdout",
     "output_type": "stream",
     "text": [
      "-0.00016223307155076487\n",
      "0.016897070994010725\n",
      "-3.2177070201844806\n"
     ]
    },
    {
     "name": "stderr",
     "output_type": "stream",
     "text": [
      "\r",
      " 78%|██████████████████████████████████████████████████████████████▌                 | 295/377 [03:51<01:42,  1.25s/it]"
     ]
    },
    {
     "name": "stdout",
     "output_type": "stream",
     "text": [
      "-0.0001763430445316807\n",
      "0.017650519564948258\n",
      "-5.348606665107457\n"
     ]
    },
    {
     "name": "stderr",
     "output_type": "stream",
     "text": [
      "\r",
      " 79%|██████████████████████████████████████████████████████████████▊                 | 296/377 [03:52<01:18,  1.03it/s]"
     ]
    },
    {
     "name": "stdout",
     "output_type": "stream",
     "text": [
      "0.0015179969894179323\n",
      "0.03788893562665182\n",
      "-1.9023534248873952\n"
     ]
    },
    {
     "name": "stderr",
     "output_type": "stream",
     "text": [
      "\r",
      " 79%|███████████████████████████████████████████████████████████████                 | 297/377 [03:53<01:27,  1.09s/it]"
     ]
    },
    {
     "name": "stdout",
     "output_type": "stream",
     "text": [
      "0.00018024837246246667\n",
      "0.016933425556163187\n",
      "-6.945608164921739\n"
     ]
    },
    {
     "name": "stderr",
     "output_type": "stream",
     "text": [
      "\r",
      " 79%|███████████████████████████████████████████████████████████████▏                | 298/377 [03:54<01:31,  1.16s/it]"
     ]
    },
    {
     "name": "stdout",
     "output_type": "stream",
     "text": [
      "0.0008991619907057109\n",
      "0.01744933927980579\n",
      "-1.4341131501139777\n"
     ]
    },
    {
     "name": "stderr",
     "output_type": "stream",
     "text": [
      "\r",
      " 79%|███████████████████████████████████████████████████████████████▍                | 299/377 [03:55<01:21,  1.04s/it]"
     ]
    },
    {
     "name": "stdout",
     "output_type": "stream",
     "text": [
      "0.0003490910467127567\n",
      "0.022504600354479487\n",
      "-7.348928429823633\n"
     ]
    },
    {
     "name": "stderr",
     "output_type": "stream",
     "text": [
      "\r",
      " 80%|███████████████████████████████████████████████████████████████▊                | 301/377 [03:56<01:07,  1.13it/s]"
     ]
    },
    {
     "name": "stdout",
     "output_type": "stream",
     "text": [
      "-0.0003477430520706908\n",
      "0.017101002489232978\n",
      "2.6274149496810817\n"
     ]
    },
    {
     "name": "stderr",
     "output_type": "stream",
     "text": [
      "\r",
      " 80%|████████████████████████████████████████████████████████████████                | 302/377 [03:58<01:15,  1.00s/it]"
     ]
    },
    {
     "name": "stdout",
     "output_type": "stream",
     "text": [
      "-3.302214758068422e-05\n",
      "0.017553191300714182\n",
      "-3.472460712510964\n"
     ]
    },
    {
     "name": "stderr",
     "output_type": "stream",
     "text": [
      "\r",
      " 80%|████████████████████████████████████████████████████████████████▎               | 303/377 [03:59<01:18,  1.06s/it]"
     ]
    },
    {
     "name": "stdout",
     "output_type": "stream",
     "text": [
      "3.205144673506416e-05\n",
      "0.018387019160874044\n",
      "-5.547650459504146\n"
     ]
    },
    {
     "name": "stderr",
     "output_type": "stream",
     "text": [
      "\r",
      " 81%|████████████████████████████████████████████████████████████████▌               | 304/377 [03:59<01:02,  1.17it/s]"
     ]
    },
    {
     "name": "stdout",
     "output_type": "stream",
     "text": [
      "0.003346270544758908\n",
      "0.03613276673237164\n",
      "-5.962866614800372\n"
     ]
    },
    {
     "name": "stderr",
     "output_type": "stream",
     "text": [
      "\r",
      " 81%|████████████████████████████████████████████████████████████████▋               | 305/377 [04:01<01:12,  1.01s/it]"
     ]
    },
    {
     "name": "stdout",
     "output_type": "stream",
     "text": [
      "0.0005736595702180908\n",
      "0.01753582209950668\n",
      "-5.035925210898152\n"
     ]
    },
    {
     "name": "stderr",
     "output_type": "stream",
     "text": [
      "\r",
      " 81%|████████████████████████████████████████████████████████████████▉               | 306/377 [04:01<00:57,  1.23it/s]"
     ]
    },
    {
     "name": "stdout",
     "output_type": "stream",
     "text": [
      "0.0005075466540381987\n",
      "0.037398677315911906\n",
      "-4.644733027583112\n"
     ]
    },
    {
     "name": "stderr",
     "output_type": "stream",
     "text": [
      "\r",
      " 81%|█████████████████████████████████████████████████████████████████▏              | 307/377 [04:02<01:07,  1.04it/s]"
     ]
    },
    {
     "name": "stdout",
     "output_type": "stream",
     "text": [
      "-0.00019252711755165543\n",
      "0.017633434389364894\n",
      "-5.013822041128213\n"
     ]
    },
    {
     "name": "stderr",
     "output_type": "stream",
     "text": [
      "\r",
      " 82%|█████████████████████████████████████████████████████████████████▎              | 308/377 [04:04<01:15,  1.09s/it]"
     ]
    },
    {
     "name": "stdout",
     "output_type": "stream",
     "text": [
      "0.0005649547864931265\n",
      "0.017130523739306912\n",
      "-4.624458360858214\n",
      "-0.000839281640000407\n",
      "0.09251387425316894\n",
      "-4.006669682608831\n"
     ]
    },
    {
     "name": "stderr",
     "output_type": "stream",
     "text": [
      "\r",
      " 82%|█████████████████████████████████████████████████████████████████▊              | 310/377 [04:05<00:56,  1.18it/s]"
     ]
    },
    {
     "name": "stdout",
     "output_type": "stream",
     "text": [
      "-0.00014566640560512357\n",
      "0.019699526850768853\n",
      "1.0091138151281378\n"
     ]
    },
    {
     "name": "stderr",
     "output_type": "stream",
     "text": [
      "\r",
      " 82%|█████████████████████████████████████████████████████████████████▉              | 311/377 [04:06<01:04,  1.02it/s]"
     ]
    },
    {
     "name": "stdout",
     "output_type": "stream",
     "text": [
      "-0.0002937740545665021\n",
      "0.017124691878469232\n",
      "-3.2107837608197283\n"
     ]
    },
    {
     "name": "stderr",
     "output_type": "stream",
     "text": [
      "\r",
      " 83%|██████████████████████████████████████████████████████████████████▏             | 312/377 [04:07<01:05,  1.00s/it]"
     ]
    },
    {
     "name": "stdout",
     "output_type": "stream",
     "text": [
      "0.00010413608063893667\n",
      "0.019915715870866355\n",
      "-2.230469993591029\n"
     ]
    },
    {
     "name": "stderr",
     "output_type": "stream",
     "text": [
      "\r",
      " 83%|██████████████████████████████████████████████████████████████████▍             | 313/377 [04:09<01:11,  1.11s/it]"
     ]
    },
    {
     "name": "stdout",
     "output_type": "stream",
     "text": [
      "0.0009389823362346177\n",
      "0.01658823127498113\n",
      "-6.6495518353187455\n"
     ]
    },
    {
     "name": "stderr",
     "output_type": "stream",
     "text": [
      "\r",
      " 83%|██████████████████████████████████████████████████████████████████▋             | 314/377 [04:09<00:57,  1.09it/s]"
     ]
    },
    {
     "name": "stdout",
     "output_type": "stream",
     "text": [
      "0.0013504845798006353\n",
      "0.03375980739982385\n",
      "-0.11308038235368169\n"
     ]
    },
    {
     "name": "stderr",
     "output_type": "stream",
     "text": [
      "\r",
      " 84%|██████████████████████████████████████████████████████████████████▊             | 315/377 [04:10<00:46,  1.34it/s]"
     ]
    },
    {
     "name": "stdout",
     "output_type": "stream",
     "text": [
      "0.0010515493776725418\n",
      "0.03710370053574595\n",
      "2.3933437705679386\n"
     ]
    },
    {
     "name": "stderr",
     "output_type": "stream",
     "text": [
      "\r",
      " 84%|███████████████████████████████████████████████████████████████████             | 316/377 [04:10<00:48,  1.27it/s]"
     ]
    },
    {
     "name": "stdout",
     "output_type": "stream",
     "text": [
      "-0.0006085465477472262\n",
      "0.02121565641600019\n",
      "-9.894400979405539\n",
      "nan\n",
      "nan\n",
      "nan\n"
     ]
    },
    {
     "name": "stderr",
     "output_type": "stream",
     "text": [
      "\r",
      " 84%|███████████████████████████████████████████████████████████████████▍            | 318/377 [04:12<00:44,  1.32it/s]"
     ]
    },
    {
     "name": "stdout",
     "output_type": "stream",
     "text": [
      "-0.00024491434790414066\n",
      "0.017011733815668326\n",
      "-1.4274834464831612\n",
      "0.001663488321403818\n",
      "0.09717234969617303\n",
      "-1.869833547378896\n"
     ]
    },
    {
     "name": "stderr",
     "output_type": "stream",
     "text": [
      "\r",
      " 85%|███████████████████████████████████████████████████████████████████▉            | 320/377 [04:13<00:42,  1.35it/s]"
     ]
    },
    {
     "name": "stdout",
     "output_type": "stream",
     "text": [
      "-0.0003633829431964681\n",
      "0.017105047802048336\n",
      "-3.4185484534166557\n"
     ]
    },
    {
     "name": "stderr",
     "output_type": "stream",
     "text": [
      "\r",
      " 85%|████████████████████████████████████████████████████████████████████            | 321/377 [04:15<00:49,  1.14it/s]"
     ]
    },
    {
     "name": "stdout",
     "output_type": "stream",
     "text": [
      "-0.0002862922806341404\n",
      "0.017173874103343287\n",
      "-4.275174427210267\n"
     ]
    },
    {
     "name": "stderr",
     "output_type": "stream",
     "text": [
      "\r",
      " 85%|████████████████████████████████████████████████████████████████████▎           | 322/377 [04:15<00:40,  1.35it/s]"
     ]
    },
    {
     "name": "stdout",
     "output_type": "stream",
     "text": [
      "-0.0010351125467009405\n",
      "0.0375300998909719\n",
      "-3.3511625696902723\n"
     ]
    },
    {
     "name": "stderr",
     "output_type": "stream",
     "text": [
      "\r",
      " 86%|████████████████████████████████████████████████████████████████████▌           | 323/377 [04:15<00:35,  1.52it/s]"
     ]
    },
    {
     "name": "stdout",
     "output_type": "stream",
     "text": [
      "-0.0008464666043379025\n",
      "0.03349904763718251\n",
      "-5.124284395139283\n"
     ]
    },
    {
     "name": "stderr",
     "output_type": "stream",
     "text": [
      "\r",
      " 86%|████████████████████████████████████████████████████████████████████▊           | 324/377 [04:17<00:44,  1.19it/s]"
     ]
    },
    {
     "name": "stdout",
     "output_type": "stream",
     "text": [
      "4.001506338829874e-05\n",
      "0.017546626161109916\n",
      "-0.9040233936257019\n"
     ]
    },
    {
     "name": "stderr",
     "output_type": "stream",
     "text": [
      "\r",
      " 86%|████████████████████████████████████████████████████████████████████▉           | 325/377 [04:18<00:47,  1.09it/s]"
     ]
    },
    {
     "name": "stdout",
     "output_type": "stream",
     "text": [
      "0.00023109364324637368\n",
      "0.018939988001645282\n",
      "-1.0216465997060609\n"
     ]
    },
    {
     "name": "stderr",
     "output_type": "stream",
     "text": [
      "\r",
      " 86%|█████████████████████████████████████████████████████████████████████▏          | 326/377 [04:18<00:38,  1.33it/s]"
     ]
    },
    {
     "name": "stdout",
     "output_type": "stream",
     "text": [
      "0.0005383845165579731\n",
      "0.03794473495151445\n",
      "-0.2782136815942728\n"
     ]
    },
    {
     "name": "stderr",
     "output_type": "stream",
     "text": [
      "\r",
      " 87%|█████████████████████████████████████████████████████████████████████▍          | 327/377 [04:20<00:46,  1.06it/s]"
     ]
    },
    {
     "name": "stdout",
     "output_type": "stream",
     "text": [
      "-4.302361127457099e-05\n",
      "0.016477655095470407\n",
      "-6.041034323258338\n"
     ]
    },
    {
     "name": "stderr",
     "output_type": "stream",
     "text": [
      "\r",
      " 87%|█████████████████████████████████████████████████████████████████████▌          | 328/377 [04:20<00:37,  1.32it/s]"
     ]
    },
    {
     "name": "stdout",
     "output_type": "stream",
     "text": [
      "0.0029817043912558658\n",
      "0.03764637278403573\n",
      "-3.0775389906470276\n"
     ]
    },
    {
     "name": "stderr",
     "output_type": "stream",
     "text": [
      "\r",
      " 87%|█████████████████████████████████████████████████████████████████████▊          | 329/377 [04:21<00:45,  1.07it/s]"
     ]
    },
    {
     "name": "stdout",
     "output_type": "stream",
     "text": [
      "0.0003438239051383739\n",
      "0.016659748763158802\n",
      "-3.1856011589724256\n"
     ]
    },
    {
     "name": "stderr",
     "output_type": "stream",
     "text": [
      "\r",
      " 88%|██████████████████████████████████████████████████████████████████████          | 330/377 [04:23<00:50,  1.08s/it]"
     ]
    },
    {
     "name": "stdout",
     "output_type": "stream",
     "text": [
      "0.0002656686566779879\n",
      "0.017265788050305972\n",
      "-4.677374077477839\n"
     ]
    },
    {
     "name": "stderr",
     "output_type": "stream",
     "text": [
      "\r",
      " 88%|██████████████████████████████████████████████████████████████████████▋         | 333/377 [04:24<00:32,  1.36it/s]"
     ]
    },
    {
     "name": "stdout",
     "output_type": "stream",
     "text": [
      "-0.0004220528796412435\n",
      "0.01667625517137649\n",
      "-3.418532561453872\n"
     ]
    },
    {
     "name": "stderr",
     "output_type": "stream",
     "text": [
      "\r",
      " 89%|██████████████████████████████████████████████████████████████████████▉         | 334/377 [04:26<00:38,  1.13it/s]"
     ]
    },
    {
     "name": "stdout",
     "output_type": "stream",
     "text": [
      "-0.000729201080962694\n",
      "0.01719153727764447\n",
      "-9.690056666625026\n"
     ]
    },
    {
     "name": "stderr",
     "output_type": "stream",
     "text": [
      "\r",
      " 89%|███████████████████████████████████████████████████████████████████████         | 335/377 [04:26<00:31,  1.33it/s]"
     ]
    },
    {
     "name": "stdout",
     "output_type": "stream",
     "text": [
      "-8.075206517313272e-05\n",
      "0.03852035834308093\n",
      "0.37918092746411725\n"
     ]
    },
    {
     "name": "stderr",
     "output_type": "stream",
     "text": [
      "\r",
      " 89%|███████████████████████████████████████████████████████████████████████▎        | 336/377 [04:27<00:37,  1.10it/s]"
     ]
    },
    {
     "name": "stdout",
     "output_type": "stream",
     "text": [
      "-0.0001311023916232456\n",
      "0.017099409285313987\n",
      "1.0439207900460181\n"
     ]
    },
    {
     "name": "stderr",
     "output_type": "stream",
     "text": [
      "\r",
      " 89%|███████████████████████████████████████████████████████████████████████▌        | 337/377 [04:28<00:30,  1.32it/s]"
     ]
    },
    {
     "name": "stdout",
     "output_type": "stream",
     "text": [
      "-6.766977563527333e-05\n",
      "0.03788614234016845\n",
      "-5.509764146141274\n",
      "0.00528894725046734\n",
      "0.09496209152888113\n",
      "-4.119769373731843\n"
     ]
    },
    {
     "name": "stderr",
     "output_type": "stream",
     "text": [
      " 90%|████████████████████████████████████████████████████████████████████████▏       | 340/377 [04:28<00:15,  2.36it/s]"
     ]
    },
    {
     "name": "stdout",
     "output_type": "stream",
     "text": [
      "-3.707402885189892e-05\n",
      "0.03721666205271945\n",
      "-2.022112103492959\n",
      "-0.0020998080493181835\n",
      "0.0677172674586306\n",
      "-0.3843084465273268\n"
     ]
    },
    {
     "name": "stderr",
     "output_type": "stream",
     "text": [
      "\r",
      " 91%|████████████████████████████████████████████████████████████████████████▌       | 342/377 [04:29<00:12,  2.75it/s]"
     ]
    },
    {
     "name": "stdout",
     "output_type": "stream",
     "text": [
      "-0.00018659824344564627\n",
      "0.027748241580062654\n",
      "-4.3801956820273125\n"
     ]
    },
    {
     "name": "stderr",
     "output_type": "stream",
     "text": [
      "\r",
      " 91%|████████████████████████████████████████████████████████████████████████▊       | 343/377 [04:30<00:20,  1.68it/s]"
     ]
    },
    {
     "name": "stdout",
     "output_type": "stream",
     "text": [
      "0.0008016200199950129\n",
      "0.016953568269241444\n",
      "-11.422982464932444\n"
     ]
    },
    {
     "name": "stderr",
     "output_type": "stream",
     "text": [
      "\r",
      " 91%|████████████████████████████████████████████████████████████████████████▉       | 344/377 [04:30<00:17,  1.89it/s]"
     ]
    },
    {
     "name": "stdout",
     "output_type": "stream",
     "text": [
      "0.0017040135616911774\n",
      "0.03766421617614365\n",
      "0.12157634457246312\n"
     ]
    },
    {
     "name": "stderr",
     "output_type": "stream",
     "text": [
      " 92%|█████████████████████████████████████████████████████████████████████████▋      | 347/377 [04:31<00:09,  3.10it/s]"
     ]
    },
    {
     "name": "stdout",
     "output_type": "stream",
     "text": [
      "0.0005330858816285402\n",
      "0.038007570262093594\n",
      "1.5272608493226438\n",
      "0.00034575166591265205\n",
      "0.07002086662683331\n",
      "-2.234837454178958\n"
     ]
    },
    {
     "name": "stderr",
     "output_type": "stream",
     "text": [
      "\r",
      " 92%|█████████████████████████████████████████████████████████████████████████▊      | 348/377 [04:32<00:11,  2.42it/s]"
     ]
    },
    {
     "name": "stdout",
     "output_type": "stream",
     "text": [
      "-0.0006744847792530529\n",
      "0.02561401829934729\n",
      "0.06845009056245414\n"
     ]
    },
    {
     "name": "stderr",
     "output_type": "stream",
     "text": [
      "\r",
      " 93%|██████████████████████████████████████████████████████████████████████████      | 349/377 [04:33<00:18,  1.49it/s]"
     ]
    },
    {
     "name": "stdout",
     "output_type": "stream",
     "text": [
      "-2.330524461771977e-05\n",
      "0.017261237774739896\n",
      "-6.762979633445861\n"
     ]
    },
    {
     "name": "stderr",
     "output_type": "stream",
     "text": [
      "\r",
      " 93%|██████████████████████████████████████████████████████████████████████████▎     | 350/377 [04:33<00:15,  1.74it/s]"
     ]
    },
    {
     "name": "stdout",
     "output_type": "stream",
     "text": [
      "-0.0022554173604853486\n",
      "0.03819310051024588\n",
      "-1.4118157567260003\n"
     ]
    },
    {
     "name": "stderr",
     "output_type": "stream",
     "text": [
      "\r",
      " 93%|██████████████████████████████████████████████████████████████████████████▍     | 351/377 [04:34<00:13,  1.96it/s]"
     ]
    },
    {
     "name": "stdout",
     "output_type": "stream",
     "text": [
      "-0.0015485221319901136\n",
      "0.03861684713529155\n",
      "-2.4011904487961915\n"
     ]
    },
    {
     "name": "stderr",
     "output_type": "stream",
     "text": [
      "\r",
      " 93%|██████████████████████████████████████████████████████████████████████████▋     | 352/377 [04:34<00:11,  2.19it/s]"
     ]
    },
    {
     "name": "stdout",
     "output_type": "stream",
     "text": [
      "0.001365946413823597\n",
      "0.03818146453183086\n",
      "-2.332627532941175\n"
     ]
    },
    {
     "name": "stderr",
     "output_type": "stream",
     "text": [
      "\r",
      " 94%|██████████████████████████████████████████████████████████████████████████▉     | 353/377 [04:34<00:10,  2.38it/s]"
     ]
    },
    {
     "name": "stdout",
     "output_type": "stream",
     "text": [
      "-0.0020888528755221136\n",
      "0.03729764032770335\n",
      "-0.9187113584989918\n"
     ]
    },
    {
     "name": "stderr",
     "output_type": "stream",
     "text": [
      "\r",
      " 94%|███████████████████████████████████████████████████████████████████████████     | 354/377 [04:35<00:09,  2.53it/s]"
     ]
    },
    {
     "name": "stdout",
     "output_type": "stream",
     "text": [
      "0.0001718128159100461\n",
      "0.036913229960812595\n",
      "-2.848912211315924\n"
     ]
    },
    {
     "name": "stderr",
     "output_type": "stream",
     "text": [
      "\r",
      " 94%|███████████████████████████████████████████████████████████████████████████▎    | 355/377 [04:35<00:08,  2.70it/s]"
     ]
    },
    {
     "name": "stdout",
     "output_type": "stream",
     "text": [
      "-0.0017663108689416126\n",
      "0.037896779848401216\n",
      "-0.9105178998938449\n"
     ]
    },
    {
     "name": "stderr",
     "output_type": "stream",
     "text": [
      "\r",
      " 94%|███████████████████████████████████████████████████████████████████████████▌    | 356/377 [04:35<00:08,  2.44it/s]"
     ]
    },
    {
     "name": "stdout",
     "output_type": "stream",
     "text": [
      "0.0021442575661232955\n",
      "0.029545059153372834\n",
      "-5.129126532752703\n"
     ]
    },
    {
     "name": "stderr",
     "output_type": "stream",
     "text": [
      "\r",
      " 95%|███████████████████████████████████████████████████████████████████████████▊    | 357/377 [04:36<00:07,  2.61it/s]"
     ]
    },
    {
     "name": "stdout",
     "output_type": "stream",
     "text": [
      "0.0016369556580487165\n",
      "0.037311443622653415\n",
      "-6.21755462479303\n"
     ]
    },
    {
     "name": "stderr",
     "output_type": "stream",
     "text": [
      "\r",
      " 95%|███████████████████████████████████████████████████████████████████████████▉    | 358/377 [04:37<00:12,  1.47it/s]"
     ]
    },
    {
     "name": "stdout",
     "output_type": "stream",
     "text": [
      "-0.0003354330909965\n",
      "0.017363582655316307\n",
      "-2.429967390099398\n"
     ]
    },
    {
     "name": "stderr",
     "output_type": "stream",
     "text": [
      "\r",
      " 95%|████████████████████████████████████████████████████████████████████████████▏   | 359/377 [04:38<00:16,  1.12it/s]"
     ]
    },
    {
     "name": "stdout",
     "output_type": "stream",
     "text": [
      "0.00018260213470372061\n",
      "0.016906694005418783\n",
      "-5.286478306315932\n"
     ]
    },
    {
     "name": "stderr",
     "output_type": "stream",
     "text": [
      "\r",
      " 95%|████████████████████████████████████████████████████████████████████████████▍   | 360/377 [04:40<00:17,  1.04s/it]"
     ]
    },
    {
     "name": "stdout",
     "output_type": "stream",
     "text": [
      "5.465918639180364e-05\n",
      "0.01745297304753672\n",
      "-8.102175442260052\n"
     ]
    },
    {
     "name": "stderr",
     "output_type": "stream",
     "text": [
      "\r",
      " 96%|████████████████████████████████████████████████████████████████████████████▌   | 361/377 [04:41<00:18,  1.14s/it]"
     ]
    },
    {
     "name": "stdout",
     "output_type": "stream",
     "text": [
      "-0.00048643100546225836\n",
      "0.017216369395300215\n",
      "-2.1230684585233197\n"
     ]
    },
    {
     "name": "stderr",
     "output_type": "stream",
     "text": [
      "\r",
      " 96%|████████████████████████████████████████████████████████████████████████████▊   | 362/377 [04:43<00:18,  1.22s/it]"
     ]
    },
    {
     "name": "stdout",
     "output_type": "stream",
     "text": [
      "0.0005227971088492339\n",
      "0.01728228588756449\n",
      "-7.313763883174847\n"
     ]
    },
    {
     "name": "stderr",
     "output_type": "stream",
     "text": [
      "\r",
      " 96%|█████████████████████████████████████████████████████████████████████████████   | 363/377 [04:44<00:17,  1.27s/it]"
     ]
    },
    {
     "name": "stdout",
     "output_type": "stream",
     "text": [
      "1.9990691430614603e-05\n",
      "0.016638080106602716\n",
      "-8.463363005319932\n"
     ]
    },
    {
     "name": "stderr",
     "output_type": "stream",
     "text": [
      "\r",
      " 97%|█████████████████████████████████████████████████████████████████████████████▏  | 364/377 [04:45<00:17,  1.31s/it]"
     ]
    },
    {
     "name": "stdout",
     "output_type": "stream",
     "text": [
      "-0.0006729424178722832\n",
      "0.01686421668561996\n",
      "-3.6387218325728727\n"
     ]
    },
    {
     "name": "stderr",
     "output_type": "stream",
     "text": [
      "\r",
      " 97%|█████████████████████████████████████████████████████████████████████████████▍  | 365/377 [04:46<00:14,  1.19s/it]"
     ]
    },
    {
     "name": "stdout",
     "output_type": "stream",
     "text": [
      "-0.0011033099648798102\n",
      "0.022375688729328592\n",
      "-4.699105530801234\n"
     ]
    },
    {
     "name": "stderr",
     "output_type": "stream",
     "text": [
      "\r",
      " 97%|█████████████████████████████████████████████████████████████████████████████▋  | 366/377 [04:47<00:10,  1.08it/s]"
     ]
    },
    {
     "name": "stdout",
     "output_type": "stream",
     "text": [
      "0.000882611426420128\n",
      "0.03749565307930047\n",
      "-6.166890709519506\n"
     ]
    },
    {
     "name": "stderr",
     "output_type": "stream",
     "text": [
      " 98%|██████████████████████████████████████████████████████████████████████████████  | 368/377 [04:47<00:05,  1.77it/s]"
     ]
    },
    {
     "name": "stdout",
     "output_type": "stream",
     "text": [
      "0.0003623730967086356\n",
      "0.037419399446216625\n",
      "1.536529068088533\n",
      "0.0023504121590543206\n",
      "0.06829450607285163\n",
      "-3.960697738735228\n"
     ]
    },
    {
     "name": "stderr",
     "output_type": "stream",
     "text": [
      "\r",
      " 98%|██████████████████████████████████████████████████████████████████████████████▎ | 369/377 [04:47<00:03,  2.03it/s]"
     ]
    },
    {
     "name": "stdout",
     "output_type": "stream",
     "text": [
      "0.002926913892967335\n",
      "0.03886595715806423\n",
      "-3.1276435152114215\n"
     ]
    },
    {
     "name": "stderr",
     "output_type": "stream",
     "text": [
      "\r",
      " 98%|██████████████████████████████████████████████████████████████████████████████▌ | 370/377 [04:49<00:05,  1.28it/s]"
     ]
    },
    {
     "name": "stdout",
     "output_type": "stream",
     "text": [
      "0.0005917974671971675\n",
      "0.017117570972689254\n",
      "-5.218750406055801\n"
     ]
    },
    {
     "name": "stderr",
     "output_type": "stream",
     "text": [
      "\r",
      " 98%|██████████████████████████████████████████████████████████████████████████████▋ | 371/377 [04:50<00:05,  1.03it/s]"
     ]
    },
    {
     "name": "stdout",
     "output_type": "stream",
     "text": [
      "-8.96692811213686e-05\n",
      "0.01678118098241435\n",
      "1.361443222502351\n"
     ]
    },
    {
     "name": "stderr",
     "output_type": "stream",
     "text": [
      "\r",
      " 99%|██████████████████████████████████████████████████████████████████████████████▉ | 372/377 [04:51<00:03,  1.30it/s]"
     ]
    },
    {
     "name": "stdout",
     "output_type": "stream",
     "text": [
      "-0.0004645766502513718\n",
      "0.041324488980063516\n",
      "0.41543114103670514\n"
     ]
    },
    {
     "name": "stderr",
     "output_type": "stream",
     "text": [
      "\r",
      " 99%|███████████████████████████████████████████████████████████████████████████████▏| 373/377 [04:52<00:03,  1.01it/s]"
     ]
    },
    {
     "name": "stdout",
     "output_type": "stream",
     "text": [
      "-0.0004493050589494392\n",
      "0.01682152524095563\n",
      "-1.6091687102126613\n"
     ]
    },
    {
     "name": "stderr",
     "output_type": "stream",
     "text": [
      "\r",
      " 99%|███████████████████████████████████████████████████████████████████████████████▎| 374/377 [04:54<00:03,  1.14s/it]"
     ]
    },
    {
     "name": "stdout",
     "output_type": "stream",
     "text": [
      "0.00013026421719175218\n",
      "0.0168584278680727\n",
      "-5.970080796072027\n"
     ]
    },
    {
     "name": "stderr",
     "output_type": "stream",
     "text": [
      "100%|████████████████████████████████████████████████████████████████████████████████| 377/377 [04:55<00:00,  1.27it/s]\n"
     ]
    },
    {
     "name": "stdout",
     "output_type": "stream",
     "text": [
      "0.00015977291208693544\n",
      "0.01805718677116041\n",
      "-2.5091655512041253\n",
      "0.0006824055910761197\n",
      "0.05342779670174723\n",
      "-0.7486722873973677\n"
     ]
    },
    {
     "name": "stderr",
     "output_type": "stream",
     "text": [
      " 14%|████████████                                                                        | 1/7 [00:01<00:08,  1.35s/it]"
     ]
    },
    {
     "name": "stdout",
     "output_type": "stream",
     "text": [
      "0.0012766714519794771\n",
      "0.017469193612532078\n",
      "-6.42270069825633\n"
     ]
    },
    {
     "name": "stderr",
     "output_type": "stream",
     "text": [
      "\r",
      " 29%|████████████████████████                                                            | 2/7 [00:02<00:04,  1.05it/s]"
     ]
    },
    {
     "name": "stdout",
     "output_type": "stream",
     "text": [
      "-0.0001380329428882161\n",
      "0.025193268065037248\n",
      "-2.041791034120072\n"
     ]
    },
    {
     "name": "stderr",
     "output_type": "stream",
     "text": [
      "\r",
      " 43%|████████████████████████████████████                                                | 3/7 [00:03<00:04,  1.14s/it]"
     ]
    },
    {
     "name": "stdout",
     "output_type": "stream",
     "text": [
      "-0.0011147113225717354\n",
      "0.01723054142599663\n",
      "-4.766574751078142\n"
     ]
    },
    {
     "name": "stderr",
     "output_type": "stream",
     "text": [
      "\r",
      " 57%|████████████████████████████████████████████████                                    | 4/7 [00:04<00:03,  1.28s/it]"
     ]
    },
    {
     "name": "stdout",
     "output_type": "stream",
     "text": [
      "0.00011553753745973106\n",
      "0.016861438732871274\n",
      "-3.0048698870812154\n"
     ]
    },
    {
     "name": "stderr",
     "output_type": "stream",
     "text": [
      "\r",
      " 71%|████████████████████████████████████████████████████████████                        | 5/7 [00:05<00:01,  1.06it/s]"
     ]
    },
    {
     "name": "stdout",
     "output_type": "stream",
     "text": [
      "-0.0004623903161345876\n",
      "0.03679238124633385\n",
      "-1.1953075368252324\n"
     ]
    },
    {
     "name": "stderr",
     "output_type": "stream",
     "text": [
      "\r",
      " 86%|████████████████████████████████████████████████████████████████████████            | 6/7 [00:05<00:00,  1.35it/s]"
     ]
    },
    {
     "name": "stdout",
     "output_type": "stream",
     "text": [
      "-0.00029114862434131684\n",
      "0.037014263438141806\n",
      "-0.42133863899549134\n"
     ]
    },
    {
     "name": "stderr",
     "output_type": "stream",
     "text": [
      "100%|████████████████████████████████████████████████████████████████████████████████████| 7/7 [00:07<00:00,  1.00s/it]\n"
     ]
    },
    {
     "name": "stdout",
     "output_type": "stream",
     "text": [
      "0.00024184308674646772\n",
      "0.017081750445498492\n",
      "-7.217532087617921\n"
     ]
    },
    {
     "name": "stderr",
     "output_type": "stream",
     "text": [
      "  5%|████▏                                                                              | 1/20 [00:00<00:11,  1.61it/s]"
     ]
    },
    {
     "name": "stdout",
     "output_type": "stream",
     "text": [
      "-0.0001172336265778462\n",
      "0.025770816811349174\n",
      "-0.17581519446752183\n"
     ]
    },
    {
     "name": "stderr",
     "output_type": "stream",
     "text": [
      "\r",
      " 10%|████████▎                                                                          | 2/20 [00:01<00:12,  1.43it/s]"
     ]
    },
    {
     "name": "stdout",
     "output_type": "stream",
     "text": [
      "0.0001515768149535517\n",
      "0.02330485069263067\n",
      "-5.239524928985853\n",
      "-0.0021987064645726563\n",
      "0.09074271520126419\n",
      "-3.056690996984992\n"
     ]
    },
    {
     "name": "stderr",
     "output_type": "stream",
     "text": [
      "\r",
      " 20%|████████████████▌                                                                  | 4/20 [00:01<00:06,  2.52it/s]"
     ]
    },
    {
     "name": "stdout",
     "output_type": "stream",
     "text": [
      "-0.000293376054794678\n",
      "0.036894435962086185\n",
      "-0.19293530845834286\n"
     ]
    },
    {
     "name": "stderr",
     "output_type": "stream",
     "text": [
      "\r",
      " 25%|████████████████████▊                                                              | 5/20 [00:02<00:07,  1.92it/s]"
     ]
    },
    {
     "name": "stdout",
     "output_type": "stream",
     "text": [
      "0.0008286521551436447\n",
      "0.022986564414299575\n",
      "1.5023191848063\n"
     ]
    },
    {
     "name": "stderr",
     "output_type": "stream",
     "text": [
      "\r",
      " 30%|████████████████████████▉                                                          | 6/20 [00:03<00:10,  1.29it/s]"
     ]
    },
    {
     "name": "stdout",
     "output_type": "stream",
     "text": [
      "-0.00013937421833174613\n",
      "0.017455014726223274\n",
      "-2.282762490369054\n"
     ]
    },
    {
     "name": "stderr",
     "output_type": "stream",
     "text": [
      "\r",
      " 35%|█████████████████████████████                                                      | 7/20 [00:05<00:11,  1.13it/s]"
     ]
    },
    {
     "name": "stdout",
     "output_type": "stream",
     "text": [
      "0.001003431400558481\n",
      "0.01924094891537758\n",
      "1.83329335336209\n"
     ]
    },
    {
     "name": "stderr",
     "output_type": "stream",
     "text": [
      "\r",
      " 40%|█████████████████████████████████▏                                                 | 8/20 [00:05<00:08,  1.38it/s]"
     ]
    },
    {
     "name": "stdout",
     "output_type": "stream",
     "text": [
      "0.00011067603146689087\n",
      "0.03533986488192737\n",
      "-1.9015161821037523\n"
     ]
    },
    {
     "name": "stderr",
     "output_type": "stream",
     "text": [
      "\r",
      " 45%|█████████████████████████████████████▎                                             | 9/20 [00:05<00:07,  1.50it/s]"
     ]
    },
    {
     "name": "stdout",
     "output_type": "stream",
     "text": [
      "0.0004237663724967481\n",
      "0.029077817628904747\n",
      "1.3061285568924108\n"
     ]
    },
    {
     "name": "stderr",
     "output_type": "stream",
     "text": [
      "\r",
      " 50%|█████████████████████████████████████████                                         | 10/20 [00:06<00:06,  1.57it/s]"
     ]
    },
    {
     "name": "stdout",
     "output_type": "stream",
     "text": [
      "-0.00034679712634807825\n",
      "0.026095240289047354\n",
      "1.5360803550850717\n"
     ]
    },
    {
     "name": "stderr",
     "output_type": "stream",
     "text": [
      "\r",
      " 55%|█████████████████████████████████████████████                                     | 11/20 [00:06<00:04,  1.81it/s]"
     ]
    },
    {
     "name": "stdout",
     "output_type": "stream",
     "text": [
      "0.00019761942213721294\n",
      "0.03681537169048585\n",
      "1.5280795741678632\n"
     ]
    },
    {
     "name": "stderr",
     "output_type": "stream",
     "text": [
      "\r",
      " 75%|█████████████████████████████████████████████████████████████▌                    | 15/20 [00:07<00:01,  3.85it/s]"
     ]
    },
    {
     "name": "stdout",
     "output_type": "stream",
     "text": [
      "-0.0033136987459684917\n",
      "0.03600842277576155\n",
      "-0.637937722151356\n"
     ]
    },
    {
     "name": "stderr",
     "output_type": "stream",
     "text": [
      "\r",
      " 80%|█████████████████████████████████████████████████████████████████▌                | 16/20 [00:08<00:01,  2.79it/s]"
     ]
    },
    {
     "name": "stdout",
     "output_type": "stream",
     "text": [
      "0.0009300150009429702\n",
      "0.022455036055494922\n",
      "-0.8862661794944338\n"
     ]
    },
    {
     "name": "stderr",
     "output_type": "stream",
     "text": [
      "\r",
      " 85%|█████████████████████████████████████████████████████████████████████▋            | 17/20 [00:09<00:01,  1.69it/s]"
     ]
    },
    {
     "name": "stdout",
     "output_type": "stream",
     "text": [
      "0.0004562977158813907\n",
      "0.01692057672500185\n",
      "-2.258462442835139\n"
     ]
    },
    {
     "name": "stderr",
     "output_type": "stream",
     "text": [
      "\r",
      " 90%|█████████████████████████████████████████████████████████████████████████▊        | 18/20 [00:11<00:01,  1.10it/s]"
     ]
    },
    {
     "name": "stdout",
     "output_type": "stream",
     "text": [
      "-5.228025390786523e-05\n",
      "0.01709700764880919\n",
      "-3.7395468707025943\n"
     ]
    },
    {
     "name": "stderr",
     "output_type": "stream",
     "text": [
      "\r",
      " 95%|█████████████████████████████████████████████████████████████████████████████▉    | 19/20 [00:13<00:01,  1.20s/it]"
     ]
    },
    {
     "name": "stdout",
     "output_type": "stream",
     "text": [
      "-0.00030837258653489445\n",
      "0.017337618176560383\n",
      "-2.4728433556273552\n"
     ]
    },
    {
     "name": "stderr",
     "output_type": "stream",
     "text": [
      "100%|██████████████████████████████████████████████████████████████████████████████████| 20/20 [00:13<00:00,  1.45it/s]\n"
     ]
    },
    {
     "name": "stdout",
     "output_type": "stream",
     "text": [
      "-0.0021653238426205266\n",
      "0.04663215528876335\n",
      "0.35639167111582964\n"
     ]
    },
    {
     "name": "stderr",
     "output_type": "stream",
     "text": [
      "  1%|▊                                                                                 | 1/106 [00:01<02:41,  1.54s/it]"
     ]
    },
    {
     "name": "stdout",
     "output_type": "stream",
     "text": [
      "-0.0005105063972154225\n",
      "0.01640993718075535\n",
      "-5.467042403766804\n"
     ]
    },
    {
     "name": "stderr",
     "output_type": "stream",
     "text": [
      "\r",
      "  2%|█▌                                                                                | 2/106 [00:03<02:43,  1.58s/it]"
     ]
    },
    {
     "name": "stdout",
     "output_type": "stream",
     "text": [
      "0.0004507456275526252\n",
      "0.01721554048949288\n",
      "-5.594518059610849\n"
     ]
    },
    {
     "name": "stderr",
     "output_type": "stream",
     "text": [
      "\r",
      "  3%|██▎                                                                               | 3/106 [00:04<02:40,  1.56s/it]"
     ]
    },
    {
     "name": "stdout",
     "output_type": "stream",
     "text": [
      "-0.0003273597097604228\n",
      "0.016649114151644336\n",
      "-9.392534613156858\n"
     ]
    },
    {
     "name": "stderr",
     "output_type": "stream",
     "text": [
      "\r",
      "  4%|███                                                                               | 4/106 [00:06<02:34,  1.51s/it]"
     ]
    },
    {
     "name": "stdout",
     "output_type": "stream",
     "text": [
      "-0.00047286318725571974\n",
      "0.016630574554376894\n",
      "3.18986897761415\n"
     ]
    },
    {
     "name": "stderr",
     "output_type": "stream",
     "text": [
      "\r",
      "  5%|███▊                                                                              | 5/106 [00:06<02:07,  1.26s/it]"
     ]
    },
    {
     "name": "stdout",
     "output_type": "stream",
     "text": [
      "-9.906238022324234e-05\n",
      "0.02273717304456997\n",
      "-5.106589772263911\n"
     ]
    },
    {
     "name": "stderr",
     "output_type": "stream",
     "text": [
      "\r",
      "  6%|████▋                                                                             | 6/106 [00:07<01:50,  1.11s/it]"
     ]
    },
    {
     "name": "stdout",
     "output_type": "stream",
     "text": [
      "0.00022165756024761595\n",
      "0.02307855475485207\n",
      "-1.3495434764927032\n"
     ]
    },
    {
     "name": "stderr",
     "output_type": "stream",
     "text": [
      "\r",
      "  7%|█████▍                                                                            | 7/106 [00:08<01:53,  1.15s/it]"
     ]
    },
    {
     "name": "stdout",
     "output_type": "stream",
     "text": [
      "-0.0005643707042283351\n",
      "0.01909741065022407\n",
      "-4.150680499323381\n"
     ]
    },
    {
     "name": "stderr",
     "output_type": "stream",
     "text": [
      "\r",
      "  8%|██████▏                                                                           | 8/106 [00:10<02:03,  1.27s/it]"
     ]
    },
    {
     "name": "stdout",
     "output_type": "stream",
     "text": [
      "0.0010060495601294126\n",
      "0.016182862621709544\n",
      "-2.956883353294997\n"
     ]
    },
    {
     "name": "stderr",
     "output_type": "stream",
     "text": [
      "  9%|███████▋                                                                         | 10/106 [00:12<01:32,  1.04it/s]"
     ]
    },
    {
     "name": "stdout",
     "output_type": "stream",
     "text": [
      "0.00101423202856263\n",
      "0.016966570929629946\n",
      "-2.1092494732065257\n",
      "0.0018331808255827695\n",
      "0.07259843739857523\n",
      "-3.6694228014281958\n"
     ]
    },
    {
     "name": "stderr",
     "output_type": "stream",
     "text": [
      "\r",
      " 10%|████████▍                                                                        | 11/106 [00:13<01:45,  1.11s/it]"
     ]
    },
    {
     "name": "stdout",
     "output_type": "stream",
     "text": [
      "0.0008181449271552569\n",
      "0.016973751097594348\n",
      "-4.098237553537976\n"
     ]
    },
    {
     "name": "stderr",
     "output_type": "stream",
     "text": [
      "\r",
      " 11%|█████████▏                                                                       | 12/106 [00:15<01:55,  1.23s/it]"
     ]
    },
    {
     "name": "stdout",
     "output_type": "stream",
     "text": [
      "0.00011564282777981406\n",
      "0.017244737138194494\n",
      "-5.505429913770172\n"
     ]
    },
    {
     "name": "stderr",
     "output_type": "stream",
     "text": [
      "\r",
      " 12%|█████████▉                                                                       | 13/106 [00:16<02:01,  1.31s/it]"
     ]
    },
    {
     "name": "stdout",
     "output_type": "stream",
     "text": [
      "6.79305858886077e-05\n",
      "0.0171089382856772\n",
      "-6.108452784327813\n"
     ]
    },
    {
     "name": "stderr",
     "output_type": "stream",
     "text": [
      "\r",
      " 13%|██████████▋                                                                      | 14/106 [00:17<02:04,  1.35s/it]"
     ]
    },
    {
     "name": "stdout",
     "output_type": "stream",
     "text": [
      "0.00041671640562857405\n",
      "0.016256028238319748\n",
      "3.4114185704999787\n"
     ]
    },
    {
     "name": "stderr",
     "output_type": "stream",
     "text": [
      "\r",
      " 14%|███████████▍                                                                     | 15/106 [00:19<02:03,  1.36s/it]"
     ]
    },
    {
     "name": "stdout",
     "output_type": "stream",
     "text": [
      "0.00031281976572378217\n",
      "0.01663839801489893\n",
      "-4.908670362005399\n"
     ]
    },
    {
     "name": "stderr",
     "output_type": "stream",
     "text": [
      "\r",
      " 15%|████████████▏                                                                    | 16/106 [00:19<01:37,  1.08s/it]"
     ]
    },
    {
     "name": "stdout",
     "output_type": "stream",
     "text": [
      "-0.0015372576198684602\n",
      "0.03163025338252341\n",
      "-4.556927849723336\n"
     ]
    },
    {
     "name": "stderr",
     "output_type": "stream",
     "text": [
      "\r",
      " 16%|████████████▉                                                                    | 17/106 [00:21<01:46,  1.19s/it]"
     ]
    },
    {
     "name": "stdout",
     "output_type": "stream",
     "text": [
      "-0.00016067924359314001\n",
      "0.017259179312505663\n",
      "-7.614643953782202\n"
     ]
    },
    {
     "name": "stderr",
     "output_type": "stream",
     "text": [
      "\r",
      " 17%|█████████████▊                                                                   | 18/106 [00:22<01:52,  1.27s/it]"
     ]
    },
    {
     "name": "stdout",
     "output_type": "stream",
     "text": [
      "0.00022618348733283194\n",
      "0.016571706031453373\n",
      "-9.15617203250066\n"
     ]
    },
    {
     "name": "stderr",
     "output_type": "stream",
     "text": [
      "\r",
      " 18%|██████████████▌                                                                  | 19/106 [00:24<01:59,  1.37s/it]"
     ]
    },
    {
     "name": "stdout",
     "output_type": "stream",
     "text": [
      "-4.953014405533715e-05\n",
      "0.017218984926266553\n",
      "-0.5483458200043017\n"
     ]
    },
    {
     "name": "stderr",
     "output_type": "stream",
     "text": [
      "\r",
      " 19%|███████████████▎                                                                 | 20/106 [00:25<01:59,  1.39s/it]"
     ]
    },
    {
     "name": "stdout",
     "output_type": "stream",
     "text": [
      "0.00020503674572968806\n",
      "0.016947308366759898\n",
      "-5.5431425765304425\n"
     ]
    },
    {
     "name": "stderr",
     "output_type": "stream",
     "text": [
      "\r",
      " 20%|████████████████                                                                 | 21/106 [00:27<01:59,  1.41s/it]"
     ]
    },
    {
     "name": "stdout",
     "output_type": "stream",
     "text": [
      "-0.0005663041631245418\n",
      "0.017607669316552638\n",
      "-4.5183108155187135\n",
      "0.0020183941827993917\n"
     ]
    },
    {
     "name": "stderr",
     "output_type": "stream",
     "text": [
      "\r",
      " 21%|████████████████▊                                                                | 22/106 [00:27<01:27,  1.04s/it]"
     ]
    },
    {
     "name": "stdout",
     "output_type": "stream",
     "text": [
      "0.05108690778905368\n",
      "-4.550661060725647\n"
     ]
    },
    {
     "name": "stderr",
     "output_type": "stream",
     "text": [
      "\r",
      " 22%|█████████████████▌                                                               | 23/106 [00:28<01:36,  1.16s/it]"
     ]
    },
    {
     "name": "stdout",
     "output_type": "stream",
     "text": [
      "-0.00011266283777870581\n",
      "0.017191519840778463\n",
      "1.642384026423396\n"
     ]
    },
    {
     "name": "stderr",
     "output_type": "stream",
     "text": [
      "\r",
      " 23%|██████████████████▎                                                              | 24/106 [00:30<01:42,  1.24s/it]"
     ]
    },
    {
     "name": "stdout",
     "output_type": "stream",
     "text": [
      "-0.0010449773129188307\n",
      "0.01739525635439821\n",
      "-4.587127373604995\n"
     ]
    },
    {
     "name": "stderr",
     "output_type": "stream",
     "text": [
      "\r",
      " 24%|███████████████████                                                              | 25/106 [00:31<01:44,  1.29s/it]"
     ]
    },
    {
     "name": "stdout",
     "output_type": "stream",
     "text": [
      "-0.00020239891190625473\n",
      "0.017230921548986033\n",
      "-7.080540251236155\n"
     ]
    },
    {
     "name": "stderr",
     "output_type": "stream",
     "text": [
      "\r",
      " 25%|███████████████████▊                                                             | 26/106 [00:33<01:46,  1.33s/it]"
     ]
    },
    {
     "name": "stdout",
     "output_type": "stream",
     "text": [
      "-0.0006134532478420181\n",
      "0.01691558358005259\n",
      "-7.105170924753326\n"
     ]
    },
    {
     "name": "stderr",
     "output_type": "stream",
     "text": [
      "\r",
      " 25%|████████████████████▋                                                            | 27/106 [00:33<01:32,  1.17s/it]"
     ]
    },
    {
     "name": "stdout",
     "output_type": "stream",
     "text": [
      "0.0002157998249118892\n",
      "0.02269014077538735\n",
      "-4.3224562319488795\n"
     ]
    },
    {
     "name": "stderr",
     "output_type": "stream",
     "text": [
      "\r",
      " 26%|█████████████████████▍                                                           | 28/106 [00:35<01:38,  1.27s/it]"
     ]
    },
    {
     "name": "stdout",
     "output_type": "stream",
     "text": [
      "7.580475989820057e-05\n",
      "0.01708897083974468\n",
      "-7.927460905417532\n"
     ]
    },
    {
     "name": "stderr",
     "output_type": "stream",
     "text": [
      "\r",
      " 27%|██████████████████████▏                                                          | 29/106 [00:36<01:42,  1.33s/it]"
     ]
    },
    {
     "name": "stdout",
     "output_type": "stream",
     "text": [
      "0.00036108515617736713\n",
      "0.016893764390236893\n",
      "-7.377948303687144\n"
     ]
    },
    {
     "name": "stderr",
     "output_type": "stream",
     "text": [
      "\r",
      " 28%|██████████████████████▉                                                          | 30/106 [00:37<01:33,  1.23s/it]"
     ]
    },
    {
     "name": "stdout",
     "output_type": "stream",
     "text": [
      "-0.001074994029368072\n",
      "0.020344631628406905\n",
      "-3.3131582773892636\n"
     ]
    },
    {
     "name": "stderr",
     "output_type": "stream",
     "text": [
      "\r",
      " 29%|███████████████████████▋                                                         | 31/106 [00:39<01:37,  1.31s/it]"
     ]
    },
    {
     "name": "stdout",
     "output_type": "stream",
     "text": [
      "-0.0003329137678826437\n",
      "0.016343270987083835\n",
      "-10.069456383275694\n"
     ]
    },
    {
     "name": "stderr",
     "output_type": "stream",
     "text": [
      "\r",
      " 30%|████████████████████████▍                                                        | 32/106 [00:40<01:40,  1.35s/it]"
     ]
    },
    {
     "name": "stdout",
     "output_type": "stream",
     "text": [
      "-0.0003408828647863385\n",
      "0.01678741183165306\n",
      "-5.860859037086262\n"
     ]
    },
    {
     "name": "stderr",
     "output_type": "stream",
     "text": [
      "\r",
      " 31%|█████████████████████████▏                                                       | 33/106 [00:42<01:43,  1.41s/it]"
     ]
    },
    {
     "name": "stdout",
     "output_type": "stream",
     "text": [
      "0.000430063688814968\n",
      "0.016407132228499974\n",
      "-6.794795577197336\n"
     ]
    },
    {
     "name": "stderr",
     "output_type": "stream",
     "text": [
      "\r",
      " 32%|█████████████████████████▉                                                       | 34/106 [00:43<01:46,  1.48s/it]"
     ]
    },
    {
     "name": "stdout",
     "output_type": "stream",
     "text": [
      "-4.817233031783863e-05\n",
      "0.016727881673633933\n",
      "-8.689128389436275\n"
     ]
    },
    {
     "name": "stderr",
     "output_type": "stream",
     "text": [
      "\r",
      " 33%|██████████████████████████▋                                                      | 35/106 [00:45<01:50,  1.56s/it]"
     ]
    },
    {
     "name": "stdout",
     "output_type": "stream",
     "text": [
      "8.474143271217343e-05\n",
      "0.016861849959731407\n",
      "-6.633932898660958\n"
     ]
    },
    {
     "name": "stderr",
     "output_type": "stream",
     "text": [
      "\r",
      " 34%|███████████████████████████▌                                                     | 36/106 [00:47<01:47,  1.54s/it]"
     ]
    },
    {
     "name": "stdout",
     "output_type": "stream",
     "text": [
      "-0.0009246050024587049\n",
      "0.01704762063460865\n",
      "1.016050372939512\n"
     ]
    },
    {
     "name": "stderr",
     "output_type": "stream",
     "text": [
      "\r",
      " 35%|████████████████████████████▎                                                    | 37/106 [00:47<01:21,  1.18s/it]"
     ]
    },
    {
     "name": "stdout",
     "output_type": "stream",
     "text": [
      "2.5193829060524308e-05\n",
      "0.03742012220393262\n",
      "0.1187557241229365\n"
     ]
    },
    {
     "name": "stderr",
     "output_type": "stream",
     "text": [
      " 37%|█████████████████████████████▊                                                   | 39/106 [00:49<01:02,  1.08it/s]"
     ]
    },
    {
     "name": "stdout",
     "output_type": "stream",
     "text": [
      "-0.0005775245338766189\n",
      "0.01683385060507557\n",
      "-3.752273143168816\n",
      "0.0017213777807737168\n",
      "0.05136381427683153\n",
      "-6.145965373981257\n"
     ]
    },
    {
     "name": "stderr",
     "output_type": "stream",
     "text": [
      "\r",
      " 38%|██████████████████████████████▌                                                  | 40/106 [00:50<01:08,  1.04s/it]"
     ]
    },
    {
     "name": "stdout",
     "output_type": "stream",
     "text": [
      "8.459598994413541e-05\n",
      "0.018049399142798732\n",
      "-5.008760392677886\n"
     ]
    },
    {
     "name": "stderr",
     "output_type": "stream",
     "text": [
      "\r",
      " 39%|███████████████████████████████▎                                                 | 41/106 [00:51<01:14,  1.15s/it]"
     ]
    },
    {
     "name": "stdout",
     "output_type": "stream",
     "text": [
      "-5.754299188157595e-05\n",
      "0.017017463927202527\n",
      "-4.090572751317705\n"
     ]
    },
    {
     "name": "stderr",
     "output_type": "stream",
     "text": [
      "\r",
      " 40%|████████████████████████████████                                                 | 42/106 [00:53<01:19,  1.24s/it]"
     ]
    },
    {
     "name": "stdout",
     "output_type": "stream",
     "text": [
      "0.0010052607447149434\n",
      "0.0169435285822166\n",
      "5.441484394402988\n"
     ]
    },
    {
     "name": "stderr",
     "output_type": "stream",
     "text": [
      "\r",
      " 41%|████████████████████████████████▊                                                | 43/106 [00:54<01:22,  1.31s/it]"
     ]
    },
    {
     "name": "stdout",
     "output_type": "stream",
     "text": [
      "-2.3198710158403024e-06\n",
      "0.016397090052779905\n",
      "-7.751827775563539\n"
     ]
    },
    {
     "name": "stderr",
     "output_type": "stream",
     "text": [
      "\r",
      " 42%|█████████████████████████████████▌                                               | 44/106 [00:56<01:23,  1.34s/it]"
     ]
    },
    {
     "name": "stdout",
     "output_type": "stream",
     "text": [
      "0.0005706541828741576\n",
      "0.01684801965616246\n",
      "-5.38294815936641\n"
     ]
    },
    {
     "name": "stderr",
     "output_type": "stream",
     "text": [
      "\r",
      " 42%|██████████████████████████████████▍                                              | 45/106 [00:57<01:24,  1.38s/it]"
     ]
    },
    {
     "name": "stdout",
     "output_type": "stream",
     "text": [
      "0.00012055929624838907\n",
      "0.017124670567644027\n",
      "-6.613463288839423\n"
     ]
    },
    {
     "name": "stderr",
     "output_type": "stream",
     "text": [
      "\r",
      " 43%|███████████████████████████████████▏                                             | 46/106 [00:59<01:24,  1.40s/it]"
     ]
    },
    {
     "name": "stdout",
     "output_type": "stream",
     "text": [
      "0.0003817338958240537\n",
      "0.017012955483560004\n",
      "-6.18231111445577\n"
     ]
    },
    {
     "name": "stderr",
     "output_type": "stream",
     "text": [
      "\r",
      " 44%|███████████████████████████████████▉                                             | 47/106 [00:59<01:04,  1.09s/it]"
     ]
    },
    {
     "name": "stdout",
     "output_type": "stream",
     "text": [
      "0.0014497813137939208\n",
      "0.03693086125604013\n",
      "-3.266162751226321\n"
     ]
    },
    {
     "name": "stderr",
     "output_type": "stream",
     "text": [
      "\r",
      " 45%|████████████████████████████████████▋                                            | 48/106 [01:00<01:09,  1.19s/it]"
     ]
    },
    {
     "name": "stdout",
     "output_type": "stream",
     "text": [
      "0.00017784352618254815\n",
      "0.016961351361034088\n",
      "-8.358658982013287\n"
     ]
    },
    {
     "name": "stderr",
     "output_type": "stream",
     "text": [
      "\r",
      " 46%|█████████████████████████████████████▍                                           | 49/106 [01:02<01:12,  1.28s/it]"
     ]
    },
    {
     "name": "stdout",
     "output_type": "stream",
     "text": [
      "0.0004207576535934094\n",
      "0.01660889649889088\n",
      "-2.9884424052242595\n"
     ]
    },
    {
     "name": "stderr",
     "output_type": "stream",
     "text": [
      "\r",
      " 47%|██████████████████████████████████████▏                                          | 50/106 [01:03<01:06,  1.18s/it]"
     ]
    },
    {
     "name": "stdout",
     "output_type": "stream",
     "text": [
      "0.0001608811044915164\n",
      "0.020644529747668675\n",
      "-1.3581246614435696\n"
     ]
    },
    {
     "name": "stderr",
     "output_type": "stream",
     "text": [
      "\r",
      " 48%|██████████████████████████████████████▉                                          | 51/106 [01:03<00:54,  1.00it/s]"
     ]
    },
    {
     "name": "stdout",
     "output_type": "stream",
     "text": [
      "-0.0006459335192849898\n",
      "0.029220056228881103\n",
      "3.4510493128116164\n"
     ]
    },
    {
     "name": "stderr",
     "output_type": "stream",
     "text": [
      "\r",
      " 49%|███████████████████████████████████████▋                                         | 52/106 [01:04<00:53,  1.01it/s]"
     ]
    },
    {
     "name": "stdout",
     "output_type": "stream",
     "text": [
      "0.0005797561942993603\n",
      "0.020270257938155962\n",
      "6.192800603375876\n"
     ]
    },
    {
     "name": "stderr",
     "output_type": "stream",
     "text": [
      "\r",
      " 50%|████████████████████████████████████████▌                                        | 53/106 [01:06<00:59,  1.13s/it]"
     ]
    },
    {
     "name": "stdout",
     "output_type": "stream",
     "text": [
      "-0.0005847954129148127\n",
      "0.016535780816220418\n",
      "-8.398809975261845\n"
     ]
    },
    {
     "name": "stderr",
     "output_type": "stream",
     "text": [
      "\r",
      " 51%|█████████████████████████████████████████▎                                       | 54/106 [01:07<01:03,  1.23s/it]"
     ]
    },
    {
     "name": "stdout",
     "output_type": "stream",
     "text": [
      "-9.706735020530333e-05\n",
      "0.016376452127016418\n",
      "-5.274097122443331\n"
     ]
    },
    {
     "name": "stderr",
     "output_type": "stream",
     "text": [
      "\r",
      " 56%|█████████████████████████████████████████████                                    | 59/106 [01:08<00:23,  2.00it/s]"
     ]
    },
    {
     "name": "stdout",
     "output_type": "stream",
     "text": [
      "-0.00022065916188067047\n",
      "0.023259088629881512\n",
      "-8.065289381160856\n"
     ]
    },
    {
     "name": "stderr",
     "output_type": "stream",
     "text": [
      "\r",
      " 57%|█████████████████████████████████████████████▊                                   | 60/106 [01:09<00:22,  2.00it/s]"
     ]
    },
    {
     "name": "stdout",
     "output_type": "stream",
     "text": [
      "0.0006617057686860208\n",
      "0.029299617048269194\n",
      "-1.6848273758393155\n"
     ]
    },
    {
     "name": "stderr",
     "output_type": "stream",
     "text": [
      "\r",
      " 58%|██████████████████████████████████████████████▌                                  | 61/106 [01:10<00:30,  1.47it/s]"
     ]
    },
    {
     "name": "stdout",
     "output_type": "stream",
     "text": [
      "-0.00018460903188787127\n",
      "0.01669567090626044\n",
      "2.694968868181839\n"
     ]
    },
    {
     "name": "stderr",
     "output_type": "stream",
     "text": [
      "\r",
      " 58%|███████████████████████████████████████████████▍                                 | 62/106 [01:11<00:36,  1.19it/s]"
     ]
    },
    {
     "name": "stdout",
     "output_type": "stream",
     "text": [
      "0.0002326648746839331\n",
      "0.01617774718288932\n",
      "-3.5447422904317776\n"
     ]
    },
    {
     "name": "stderr",
     "output_type": "stream",
     "text": [
      "\r",
      " 59%|████████████████████████████████████████████████▏                                | 63/106 [01:12<00:35,  1.21it/s]"
     ]
    },
    {
     "name": "stdout",
     "output_type": "stream",
     "text": [
      "-0.0005732060706059393\n",
      "0.022479873008197628\n",
      "-9.288515310444232\n"
     ]
    },
    {
     "name": "stderr",
     "output_type": "stream",
     "text": [
      "\r",
      " 60%|████████████████████████████████████████████████▉                                | 64/106 [01:13<00:33,  1.24it/s]"
     ]
    },
    {
     "name": "stdout",
     "output_type": "stream",
     "text": [
      "-0.002782520339748358\n",
      "0.024264875794175182\n",
      "1.7235397156601509\n"
     ]
    },
    {
     "name": "stderr",
     "output_type": "stream",
     "text": [
      "\r",
      " 61%|█████████████████████████████████████████████████▋                               | 65/106 [01:14<00:30,  1.36it/s]"
     ]
    },
    {
     "name": "stdout",
     "output_type": "stream",
     "text": [
      "-0.0013785309707127612\n",
      "0.028977683931374697\n",
      "1.4383548462383795\n"
     ]
    },
    {
     "name": "stderr",
     "output_type": "stream",
     "text": [
      " 63%|███████████████████████████████████████████████████▏                             | 67/106 [01:15<00:23,  1.66it/s]"
     ]
    },
    {
     "name": "stdout",
     "output_type": "stream",
     "text": [
      "0.0005688852845429446\n",
      "0.02406823634853319\n",
      "-0.568336409671251\n",
      "-0.0005695774021767299\n",
      "0.0517107187061606\n",
      "-1.6411064472723966\n"
     ]
    },
    {
     "name": "stderr",
     "output_type": "stream",
     "text": [
      " 65%|████████████████████████████████████████████████████▋                            | 69/106 [01:16<00:20,  1.81it/s]"
     ]
    },
    {
     "name": "stdout",
     "output_type": "stream",
     "text": [
      "0.0010121964400223462\n",
      "0.020303355248697447\n",
      "3.870597254150106\n",
      "0.00030428678360527384\n",
      "0.050438344777484045\n",
      "-3.4250393034765954\n"
     ]
    },
    {
     "name": "stderr",
     "output_type": "stream",
     "text": [
      "\r",
      " 66%|█████████████████████████████████████████████████████▍                           | 70/106 [01:17<00:28,  1.28it/s]"
     ]
    },
    {
     "name": "stdout",
     "output_type": "stream",
     "text": [
      "-9.972986214506608e-05\n",
      "0.0176666475862458\n",
      "1.3929635682290569\n"
     ]
    },
    {
     "name": "stderr",
     "output_type": "stream",
     "text": [
      "\r",
      " 67%|██████████████████████████████████████████████████████▎                          | 71/106 [01:19<00:34,  1.01it/s]"
     ]
    },
    {
     "name": "stdout",
     "output_type": "stream",
     "text": [
      "-0.0005729324545148135\n",
      "0.017296357162470924\n",
      "2.339792927018227\n",
      "0.0008433368669070744\n",
      "0.08766394202930852\n",
      "-3.5814506681117737\n"
     ]
    },
    {
     "name": "stderr",
     "output_type": "stream",
     "text": [
      "\r",
      " 69%|███████████████████████████████████████████████████████▊                         | 73/106 [01:20<00:29,  1.12it/s]"
     ]
    },
    {
     "name": "stdout",
     "output_type": "stream",
     "text": [
      "2.3177365087130376e-05\n",
      "0.016461810395709757\n",
      "-2.737002704270946\n"
     ]
    },
    {
     "name": "stderr",
     "output_type": "stream",
     "text": [
      "\r",
      " 70%|████████████████████████████████████████████████████████▌                        | 74/106 [01:22<00:33,  1.04s/it]"
     ]
    },
    {
     "name": "stdout",
     "output_type": "stream",
     "text": [
      "0.0006001370236511836\n",
      "0.015931764660245495\n",
      "-2.8032333220771797\n"
     ]
    },
    {
     "name": "stderr",
     "output_type": "stream",
     "text": [
      "\r",
      " 71%|█████████████████████████████████████████████████████████▎                       | 75/106 [01:23<00:35,  1.15s/it]"
     ]
    },
    {
     "name": "stdout",
     "output_type": "stream",
     "text": [
      "-0.0006470657492595377\n",
      "0.01726069485196908\n",
      "-1.7957374605587635\n"
     ]
    },
    {
     "name": "stderr",
     "output_type": "stream",
     "text": [
      "\r",
      " 72%|██████████████████████████████████████████████████████████                       | 76/106 [01:24<00:34,  1.14s/it]"
     ]
    },
    {
     "name": "stdout",
     "output_type": "stream",
     "text": [
      "-7.677220516608374e-05\n",
      "0.01938314840256663\n",
      "-8.400125788656052\n"
     ]
    },
    {
     "name": "stderr",
     "output_type": "stream",
     "text": [
      "\r",
      " 73%|██████████████████████████████████████████████████████████▊                      | 77/106 [01:26<00:35,  1.23s/it]"
     ]
    },
    {
     "name": "stdout",
     "output_type": "stream",
     "text": [
      "-0.0002732173916856744\n",
      "0.016374700903580147\n",
      "-6.408030830211857\n"
     ]
    },
    {
     "name": "stderr",
     "output_type": "stream",
     "text": [
      "\r",
      " 74%|███████████████████████████████████████████████████████████▌                     | 78/106 [01:27<00:36,  1.30s/it]"
     ]
    },
    {
     "name": "stdout",
     "output_type": "stream",
     "text": [
      "-0.0006076879930975576\n",
      "0.01636358981411692\n",
      "-1.5861651253845641\n"
     ]
    },
    {
     "name": "stderr",
     "output_type": "stream",
     "text": [
      "\r",
      " 75%|████████████████████████████████████████████████████████████▎                    | 79/106 [01:28<00:35,  1.32s/it]"
     ]
    },
    {
     "name": "stdout",
     "output_type": "stream",
     "text": [
      "0.0006738901832430402\n",
      "0.017657639189682398\n",
      "-6.335379481083225\n"
     ]
    },
    {
     "name": "stderr",
     "output_type": "stream",
     "text": [
      "\r",
      " 75%|█████████████████████████████████████████████████████████████▏                   | 80/106 [01:30<00:35,  1.35s/it]"
     ]
    },
    {
     "name": "stdout",
     "output_type": "stream",
     "text": [
      "-0.00019167386800177506\n",
      "0.017874859558716462\n",
      "0.9051064943144648\n"
     ]
    },
    {
     "name": "stderr",
     "output_type": "stream",
     "text": [
      "\r",
      " 76%|█████████████████████████████████████████████████████████████▉                   | 81/106 [01:31<00:34,  1.40s/it]"
     ]
    },
    {
     "name": "stdout",
     "output_type": "stream",
     "text": [
      "-0.00099090186774789\n",
      "0.017192311727828608\n",
      "-6.2164735454910005\n"
     ]
    },
    {
     "name": "stderr",
     "output_type": "stream",
     "text": [
      "\r",
      " 77%|██████████████████████████████████████████████████████████████▋                  | 82/106 [01:33<00:33,  1.41s/it]"
     ]
    },
    {
     "name": "stdout",
     "output_type": "stream",
     "text": [
      "0.0004336071709083234\n",
      "0.01713029978585748\n",
      "-5.584693603748632\n"
     ]
    },
    {
     "name": "stderr",
     "output_type": "stream",
     "text": [
      "\r",
      " 78%|███████████████████████████████████████████████████████████████▍                 | 83/106 [01:34<00:32,  1.42s/it]"
     ]
    },
    {
     "name": "stdout",
     "output_type": "stream",
     "text": [
      "-6.836971815188974e-05\n",
      "0.016695351642094385\n",
      "-3.510877278478444\n"
     ]
    },
    {
     "name": "stderr",
     "output_type": "stream",
     "text": [
      "\r",
      " 79%|████████████████████████████████████████████████████████████████▏                | 84/106 [01:36<00:31,  1.43s/it]"
     ]
    },
    {
     "name": "stdout",
     "output_type": "stream",
     "text": [
      "0.0004208337299465082\n",
      "0.016935554652858786\n",
      "-6.677896984502276\n"
     ]
    },
    {
     "name": "stderr",
     "output_type": "stream",
     "text": [
      "\r",
      " 80%|████████████████████████████████████████████████████████████████▉                | 85/106 [01:37<00:30,  1.44s/it]"
     ]
    },
    {
     "name": "stdout",
     "output_type": "stream",
     "text": [
      "0.0005830824742652995\n",
      "0.016947426736944177\n",
      "-3.7884940676136174\n"
     ]
    },
    {
     "name": "stderr",
     "output_type": "stream",
     "text": [
      "\r",
      " 81%|█████████████████████████████████████████████████████████████████▋               | 86/106 [01:38<00:24,  1.25s/it]"
     ]
    },
    {
     "name": "stdout",
     "output_type": "stream",
     "text": [
      "0.0004894816439415321\n",
      "0.022914140022184407\n",
      "-1.3179671834435231\n"
     ]
    },
    {
     "name": "stderr",
     "output_type": "stream",
     "text": [
      "\r",
      " 82%|██████████████████████████████████████████████████████████████████▍              | 87/106 [01:39<00:25,  1.32s/it]"
     ]
    },
    {
     "name": "stdout",
     "output_type": "stream",
     "text": [
      "0.0003518483076686766\n",
      "0.01727673301188554\n",
      "-6.745777085856543\n"
     ]
    },
    {
     "name": "stderr",
     "output_type": "stream",
     "text": [
      "\r",
      " 83%|███████████████████████████████████████████████████████████████████▏             | 88/106 [01:41<00:24,  1.36s/it]"
     ]
    },
    {
     "name": "stdout",
     "output_type": "stream",
     "text": [
      "-0.000606348293725894\n",
      "0.016683046450301883\n",
      "-6.165206876309988\n"
     ]
    },
    {
     "name": "stderr",
     "output_type": "stream",
     "text": [
      "\r",
      " 84%|████████████████████████████████████████████████████████████████████             | 89/106 [01:42<00:23,  1.39s/it]"
     ]
    },
    {
     "name": "stdout",
     "output_type": "stream",
     "text": [
      "-0.0004480495600801037\n",
      "0.016767229332095363\n",
      "-5.028563097353824\n"
     ]
    },
    {
     "name": "stderr",
     "output_type": "stream",
     "text": [
      "\r",
      " 86%|█████████████████████████████████████████████████████████████████████▌           | 91/106 [01:44<00:16,  1.07s/it]"
     ]
    },
    {
     "name": "stdout",
     "output_type": "stream",
     "text": [
      "0.0001334270716283369\n",
      "0.017747441285865518\n",
      "-6.6273025310466345\n"
     ]
    },
    {
     "name": "stderr",
     "output_type": "stream",
     "text": [
      "\r",
      " 88%|███████████████████████████████████████████████████████████████████████          | 93/106 [01:45<00:12,  1.07it/s]"
     ]
    },
    {
     "name": "stdout",
     "output_type": "stream",
     "text": [
      "-0.0001193928324986717\n",
      "0.016815688537488147\n",
      "-6.319718002642607\n"
     ]
    },
    {
     "name": "stderr",
     "output_type": "stream",
     "text": [
      "\r",
      " 89%|███████████████████████████████████████████████████████████████████████▊         | 94/106 [01:47<00:12,  1.06s/it]"
     ]
    },
    {
     "name": "stdout",
     "output_type": "stream",
     "text": [
      "0.00014828977149149592\n",
      "0.01710586267233635\n",
      "-5.869888487322429\n"
     ]
    },
    {
     "name": "stderr",
     "output_type": "stream",
     "text": [
      " 92%|██████████████████████████████████████████████████████████████████████████       | 97/106 [01:47<00:04,  1.82it/s]"
     ]
    },
    {
     "name": "stdout",
     "output_type": "stream",
     "text": [
      "-0.0003514283385575716\n",
      "0.04376229956784838\n",
      "-1.4097016856382747\n",
      "-0.004475881656562627\n",
      "0.08787113707993954\n",
      "-1.6777122754242815\n",
      "-0.0016597883359417214\n",
      "0.090928749098472\n",
      "-1.652267078835795\n"
     ]
    },
    {
     "name": "stderr",
     "output_type": "stream",
     "text": [
      "\r",
      " 92%|██████████████████████████████████████████████████████████████████████████▉      | 98/106 [01:49<00:05,  1.34it/s]"
     ]
    },
    {
     "name": "stdout",
     "output_type": "stream",
     "text": [
      "0.0005526880268056964\n",
      "0.017366546984241817\n",
      "-2.641240773988203\n"
     ]
    },
    {
     "name": "stderr",
     "output_type": "stream",
     "text": [
      "\r",
      " 93%|███████████████████████████████████████████████████████████████████████████▋     | 99/106 [01:50<00:06,  1.11it/s]"
     ]
    },
    {
     "name": "stdout",
     "output_type": "stream",
     "text": [
      "0.0009363776868047694\n",
      "0.017195776362073048\n",
      "-5.096668256077442\n"
     ]
    },
    {
     "name": "stderr",
     "output_type": "stream",
     "text": [
      "\r",
      " 94%|███████████████████████████████████████████████████████████████████████████▍    | 100/106 [01:51<00:05,  1.04it/s]"
     ]
    },
    {
     "name": "stdout",
     "output_type": "stream",
     "text": [
      "0.0007519778325054325\n",
      "0.0195288131333485\n",
      "-5.09597140523188\n"
     ]
    },
    {
     "name": "stderr",
     "output_type": "stream",
     "text": [
      "\r",
      " 95%|████████████████████████████████████████████████████████████████████████████▏   | 101/106 [01:53<00:05,  1.09s/it]"
     ]
    },
    {
     "name": "stdout",
     "output_type": "stream",
     "text": [
      "-0.0005680816906064563\n",
      "0.015825652561266924\n",
      "-4.775064597709021\n"
     ]
    },
    {
     "name": "stderr",
     "output_type": "stream",
     "text": [
      "\r",
      " 96%|████████████████████████████████████████████████████████████████████████████▉   | 102/106 [01:54<00:04,  1.18s/it]"
     ]
    },
    {
     "name": "stdout",
     "output_type": "stream",
     "text": [
      "-0.0002346867541197336\n",
      "0.01595977722607341\n",
      "-4.816279504947719\n"
     ]
    },
    {
     "name": "stderr",
     "output_type": "stream",
     "text": [
      "\r",
      " 97%|█████████████████████████████████████████████████████████████████████████████▋  | 103/106 [01:55<00:03,  1.25s/it]"
     ]
    },
    {
     "name": "stdout",
     "output_type": "stream",
     "text": [
      "0.0005782210721332354\n",
      "0.016984081477581035\n",
      "-1.5561752850502362\n"
     ]
    },
    {
     "name": "stderr",
     "output_type": "stream",
     "text": [
      "\r",
      " 98%|██████████████████████████████████████████████████████████████████████████████▍ | 104/106 [01:57<00:02,  1.30s/it]"
     ]
    },
    {
     "name": "stdout",
     "output_type": "stream",
     "text": [
      "-0.0007232873000212179\n",
      "0.01686655454280075\n",
      "-6.900633389603369\n"
     ]
    },
    {
     "name": "stderr",
     "output_type": "stream",
     "text": [
      "\r",
      " 99%|███████████████████████████████████████████████████████████████████████████████▏| 105/106 [01:58<00:01,  1.32s/it]"
     ]
    },
    {
     "name": "stdout",
     "output_type": "stream",
     "text": [
      "-0.00018656946909831234\n",
      "0.017782723022221576\n",
      "-2.8263254117976917\n"
     ]
    },
    {
     "name": "stderr",
     "output_type": "stream",
     "text": [
      "100%|████████████████████████████████████████████████████████████████████████████████| 106/106 [02:00<00:00,  1.13s/it]\n"
     ]
    },
    {
     "name": "stdout",
     "output_type": "stream",
     "text": [
      "-0.00018838585141730253\n",
      "0.016977654451235155\n",
      "-6.041991049753066\n"
     ]
    },
    {
     "name": "stderr",
     "output_type": "stream",
     "text": [
      "  4%|███▍                                                                               | 1/24 [00:01<00:33,  1.44s/it]"
     ]
    },
    {
     "name": "stdout",
     "output_type": "stream",
     "text": [
      "-6.4617594704793125e-06\n",
      "0.016562131905948695\n",
      "-5.486800221958227\n"
     ]
    },
    {
     "name": "stderr",
     "output_type": "stream",
     "text": [
      "\r",
      "  8%|██████▉                                                                            | 2/24 [00:02<00:31,  1.45s/it]"
     ]
    },
    {
     "name": "stdout",
     "output_type": "stream",
     "text": [
      "-0.0006025098227620558\n",
      "0.017074136288175203\n",
      "-6.467257011706724\n"
     ]
    },
    {
     "name": "stderr",
     "output_type": "stream",
     "text": [
      "\r",
      " 12%|██████████▍                                                                        | 3/24 [00:04<00:30,  1.46s/it]"
     ]
    },
    {
     "name": "stdout",
     "output_type": "stream",
     "text": [
      "-6.880328476485914e-05\n",
      "0.016969236743947864\n",
      "-5.561289598049665\n"
     ]
    },
    {
     "name": "stderr",
     "output_type": "stream",
     "text": [
      "\r",
      " 17%|█████████████▊                                                                     | 4/24 [00:05<00:28,  1.45s/it]"
     ]
    },
    {
     "name": "stdout",
     "output_type": "stream",
     "text": [
      "0.0003720826070025248\n",
      "0.016507180691082483\n",
      "-6.312285425258549\n"
     ]
    },
    {
     "name": "stderr",
     "output_type": "stream",
     "text": [
      "\r",
      " 21%|█████████████████▎                                                                 | 5/24 [00:07<00:27,  1.46s/it]"
     ]
    },
    {
     "name": "stdout",
     "output_type": "stream",
     "text": [
      "-0.0006809257691233385\n",
      "0.016698396611700653\n",
      "-4.230397451687119\n"
     ]
    },
    {
     "name": "stderr",
     "output_type": "stream",
     "text": [
      "\r",
      " 25%|████████████████████▊                                                              | 6/24 [00:08<00:26,  1.46s/it]"
     ]
    },
    {
     "name": "stdout",
     "output_type": "stream",
     "text": [
      "0.00041212532214949545\n",
      "0.01691411666338831\n",
      "-5.607846409336085\n"
     ]
    },
    {
     "name": "stderr",
     "output_type": "stream",
     "text": [
      "\r",
      " 29%|████████████████████████▏                                                          | 7/24 [00:10<00:24,  1.46s/it]"
     ]
    },
    {
     "name": "stdout",
     "output_type": "stream",
     "text": [
      "-0.00011483985704448446\n",
      "0.01659168752099012\n",
      "-6.178873433566608\n"
     ]
    },
    {
     "name": "stderr",
     "output_type": "stream",
     "text": [
      "\r",
      " 33%|███████████████████████████▋                                                       | 8/24 [00:11<00:23,  1.45s/it]"
     ]
    },
    {
     "name": "stdout",
     "output_type": "stream",
     "text": [
      "0.0001465201292286813\n",
      "0.01664334219939816\n",
      "-4.331057907967995\n"
     ]
    },
    {
     "name": "stderr",
     "output_type": "stream",
     "text": [
      "\r",
      " 38%|███████████████████████████████▏                                                   | 9/24 [00:13<00:22,  1.47s/it]"
     ]
    },
    {
     "name": "stdout",
     "output_type": "stream",
     "text": [
      "-0.000631343892098512\n",
      "0.016772036764135023\n",
      "-5.70263662092662\n"
     ]
    },
    {
     "name": "stderr",
     "output_type": "stream",
     "text": [
      "\r",
      " 42%|██████████████████████████████████▏                                               | 10/24 [00:14<00:20,  1.48s/it]"
     ]
    },
    {
     "name": "stdout",
     "output_type": "stream",
     "text": [
      "-8.202073295690698e-05\n",
      "0.01760446896492925\n",
      "-3.1597398926372002\n"
     ]
    },
    {
     "name": "stderr",
     "output_type": "stream",
     "text": [
      "\r",
      " 46%|█████████████████████████████████████▌                                            | 11/24 [00:16<00:19,  1.47s/it]"
     ]
    },
    {
     "name": "stdout",
     "output_type": "stream",
     "text": [
      "-0.000572847591887408\n",
      "0.01683921746964917\n",
      "-6.215480490477778\n"
     ]
    },
    {
     "name": "stderr",
     "output_type": "stream",
     "text": [
      "\r",
      " 50%|█████████████████████████████████████████                                         | 12/24 [00:17<00:17,  1.48s/it]"
     ]
    },
    {
     "name": "stdout",
     "output_type": "stream",
     "text": [
      "0.0010519764562154513\n",
      "0.01745712945496827\n",
      "-4.659634371644891\n"
     ]
    },
    {
     "name": "stderr",
     "output_type": "stream",
     "text": [
      "\r",
      " 54%|████████████████████████████████████████████▍                                     | 13/24 [00:19<00:16,  1.46s/it]"
     ]
    },
    {
     "name": "stdout",
     "output_type": "stream",
     "text": [
      "-0.00032267057902055616\n",
      "0.01693403906987524\n",
      "-7.40279942825801\n"
     ]
    },
    {
     "name": "stderr",
     "output_type": "stream",
     "text": [
      "\r",
      " 58%|███████████████████████████████████████████████▊                                  | 14/24 [00:20<00:14,  1.45s/it]"
     ]
    },
    {
     "name": "stdout",
     "output_type": "stream",
     "text": [
      "9.589039351736495e-06\n",
      "0.01645054877223758\n",
      "-4.357316524927275\n"
     ]
    },
    {
     "name": "stderr",
     "output_type": "stream",
     "text": [
      "\r",
      " 62%|███████████████████████████████████████████████████▎                              | 15/24 [00:21<00:13,  1.44s/it]"
     ]
    },
    {
     "name": "stdout",
     "output_type": "stream",
     "text": [
      "0.0002333394656893294\n",
      "0.01655819084163732\n",
      "-5.014945450616185\n"
     ]
    },
    {
     "name": "stderr",
     "output_type": "stream",
     "text": [
      "\r",
      " 67%|██████████████████████████████████████████████████████▋                           | 16/24 [00:23<00:11,  1.46s/it]"
     ]
    },
    {
     "name": "stdout",
     "output_type": "stream",
     "text": [
      "6.514465632706282e-05\n",
      "0.016350643891057448\n",
      "-5.722142071356754\n"
     ]
    },
    {
     "name": "stderr",
     "output_type": "stream",
     "text": [
      "\r",
      " 71%|██████████████████████████████████████████████████████████                        | 17/24 [00:24<00:10,  1.46s/it]"
     ]
    },
    {
     "name": "stdout",
     "output_type": "stream",
     "text": [
      "-0.0003992160851154215\n",
      "0.016059154182027642\n",
      "-3.0184591769702953\n"
     ]
    },
    {
     "name": "stderr",
     "output_type": "stream",
     "text": [
      "\r",
      " 75%|█████████████████████████████████████████████████████████████▌                    | 18/24 [00:26<00:08,  1.45s/it]"
     ]
    },
    {
     "name": "stdout",
     "output_type": "stream",
     "text": [
      "0.0003714139386579747\n",
      "0.017629621294830186\n",
      "-2.3621364086090266\n"
     ]
    },
    {
     "name": "stderr",
     "output_type": "stream",
     "text": [
      "\r",
      " 79%|████████████████████████████████████████████████████████████████▉                 | 19/24 [00:27<00:07,  1.46s/it]"
     ]
    },
    {
     "name": "stdout",
     "output_type": "stream",
     "text": [
      "-0.00017776394436240539\n",
      "0.016569160188416723\n",
      "-6.856329010632098\n"
     ]
    },
    {
     "name": "stderr",
     "output_type": "stream",
     "text": [
      "\r",
      " 83%|████████████████████████████████████████████████████████████████████▎             | 20/24 [00:29<00:06,  1.52s/it]"
     ]
    },
    {
     "name": "stdout",
     "output_type": "stream",
     "text": [
      "0.0006280157005331048\n",
      "0.0171363453345099\n",
      "-12.706609752693335\n"
     ]
    },
    {
     "name": "stderr",
     "output_type": "stream",
     "text": [
      "\r",
      " 88%|███████████████████████████████████████████████████████████████████████▊          | 21/24 [00:31<00:04,  1.61s/it]"
     ]
    },
    {
     "name": "stdout",
     "output_type": "stream",
     "text": [
      "-0.00010990742477033977\n",
      "0.016970131380719834\n",
      "-4.898337753391281\n"
     ]
    },
    {
     "name": "stderr",
     "output_type": "stream",
     "text": [
      "\r",
      " 92%|███████████████████████████████████████████████████████████████████████████▏      | 22/24 [00:32<00:03,  1.60s/it]"
     ]
    },
    {
     "name": "stdout",
     "output_type": "stream",
     "text": [
      "0.0006905823444699504\n",
      "0.016545666886081105\n",
      "-3.4604473407884426\n"
     ]
    },
    {
     "name": "stderr",
     "output_type": "stream",
     "text": [
      "\r",
      " 96%|██████████████████████████████████████████████████████████████████████████████▌   | 23/24 [00:34<00:01,  1.58s/it]"
     ]
    },
    {
     "name": "stdout",
     "output_type": "stream",
     "text": [
      "-0.00109311794752104\n",
      "0.01703721019101379\n",
      "-9.392862837401418\n"
     ]
    },
    {
     "name": "stderr",
     "output_type": "stream",
     "text": [
      "100%|██████████████████████████████████████████████████████████████████████████████████| 24/24 [00:35<00:00,  1.49s/it]\n"
     ]
    },
    {
     "name": "stdout",
     "output_type": "stream",
     "text": [
      "-0.00023211852724802135\n",
      "0.01735148758327089\n",
      "-0.23264895211566727\n"
     ]
    },
    {
     "name": "stderr",
     "output_type": "stream",
     "text": [
      " 12%|██████████▌                                                                         | 1/8 [00:00<00:05,  1.30it/s]"
     ]
    },
    {
     "name": "stdout",
     "output_type": "stream",
     "text": [
      "-0.0005042917270439741\n",
      "0.023426222581497954\n",
      "-5.225334920675181\n"
     ]
    },
    {
     "name": "stderr",
     "output_type": "stream",
     "text": [
      "\r",
      " 25%|█████████████████████                                                               | 2/8 [00:01<00:04,  1.29it/s]"
     ]
    },
    {
     "name": "stdout",
     "output_type": "stream",
     "text": [
      "0.0007242592857759113\n",
      "0.022696746831396525\n",
      "0.16677322838723474\n"
     ]
    },
    {
     "name": "stderr",
     "output_type": "stream",
     "text": [
      "\r",
      " 38%|███████████████████████████████▌                                                    | 3/8 [00:02<00:05,  1.06s/it]"
     ]
    },
    {
     "name": "stdout",
     "output_type": "stream",
     "text": [
      "-5.1149623172400185e-05\n",
      "0.016566323250395133\n",
      "-5.72714137541856\n"
     ]
    },
    {
     "name": "stderr",
     "output_type": "stream",
     "text": [
      "\r",
      " 50%|██████████████████████████████████████████                                          | 4/8 [00:04<00:04,  1.19s/it]"
     ]
    },
    {
     "name": "stdout",
     "output_type": "stream",
     "text": [
      "-0.0009340486804148677\n",
      "0.016526085479161637\n",
      "-2.279438413100029\n"
     ]
    },
    {
     "name": "stderr",
     "output_type": "stream",
     "text": [
      "\r",
      " 62%|████████████████████████████████████████████████████▌                               | 5/8 [00:04<00:02,  1.14it/s]"
     ]
    },
    {
     "name": "stdout",
     "output_type": "stream",
     "text": [
      "0.0004958104939239615\n",
      "0.03802037047572912\n",
      "-3.1484039526038536\n"
     ]
    },
    {
     "name": "stderr",
     "output_type": "stream",
     "text": [
      "\r",
      " 75%|███████████████████████████████████████████████████████████████                     | 6/8 [00:06<00:02,  1.10s/it]"
     ]
    },
    {
     "name": "stdout",
     "output_type": "stream",
     "text": [
      "0.0001273422475850114\n",
      "0.01704830653516664\n",
      "-1.5935554301830404\n"
     ]
    },
    {
     "name": "stderr",
     "output_type": "stream",
     "text": [
      "\r",
      " 88%|█████████████████████████████████████████████████████████████████████████▌          | 7/8 [00:07<00:01,  1.17s/it]"
     ]
    },
    {
     "name": "stdout",
     "output_type": "stream",
     "text": [
      "-0.00038115552010891616\n",
      "0.018920755810266254\n",
      "-4.373943581112999\n"
     ]
    },
    {
     "name": "stderr",
     "output_type": "stream",
     "text": [
      "100%|████████████████████████████████████████████████████████████████████████████████████| 8/8 [00:08<00:00,  1.04s/it]\n"
     ]
    },
    {
     "name": "stdout",
     "output_type": "stream",
     "text": [
      "0.0005459154645689468\n",
      "0.023549882801344825\n",
      "-3.625657141668752\n"
     ]
    },
    {
     "name": "stderr",
     "output_type": "stream",
     "text": [
      "  0%|▎                                                                                 | 1/284 [00:00<01:31,  3.09it/s]"
     ]
    },
    {
     "name": "stdout",
     "output_type": "stream",
     "text": [
      "-0.001646106782624514\n",
      "0.03832197049581885\n",
      "-2.881698686335928\n",
      "nan\n",
      "nan\n",
      "nan\n"
     ]
    },
    {
     "name": "stderr",
     "output_type": "stream",
     "text": [
      "  1%|█▏                                                                                | 4/284 [00:01<02:05,  2.23it/s]"
     ]
    },
    {
     "name": "stdout",
     "output_type": "stream",
     "text": [
      "-0.000172140908370623\n",
      "0.017440888903956706\n",
      "-4.443625532399917\n",
      "-0.00018524778490135125\n",
      "0.07282818676041325\n",
      "-0.14509398916407548\n"
     ]
    },
    {
     "name": "stderr",
     "output_type": "stream",
     "text": [
      "\r",
      "  2%|█▍                                                                                | 5/284 [00:03<03:37,  1.28it/s]"
     ]
    },
    {
     "name": "stdout",
     "output_type": "stream",
     "text": [
      "0.0005903076749033979\n",
      "0.01645322258249388\n",
      "-1.389380834335652\n"
     ]
    },
    {
     "name": "stderr",
     "output_type": "stream",
     "text": [
      "\r",
      "  2%|█▋                                                                                | 6/284 [00:03<02:57,  1.57it/s]"
     ]
    },
    {
     "name": "stdout",
     "output_type": "stream",
     "text": [
      "-2.329702252130425e-05\n",
      "0.03795905554292176\n",
      "1.2017791217114544\n"
     ]
    },
    {
     "name": "stderr",
     "output_type": "stream",
     "text": [
      "\r",
      "  2%|██                                                                                | 7/284 [00:05<04:03,  1.14it/s]"
     ]
    },
    {
     "name": "stdout",
     "output_type": "stream",
     "text": [
      "0.0002912136839796256\n",
      "0.016844712269803348\n",
      "1.0508052567162733\n"
     ]
    },
    {
     "name": "stderr",
     "output_type": "stream",
     "text": [
      "\r",
      "  3%|██▎                                                                               | 8/284 [00:05<03:10,  1.45it/s]"
     ]
    },
    {
     "name": "stdout",
     "output_type": "stream",
     "text": [
      "-0.0005254666315206395\n",
      "0.04215724129725714\n",
      "1.669549592465694\n"
     ]
    },
    {
     "name": "stderr",
     "output_type": "stream",
     "text": [
      "\r",
      "  3%|██▌                                                                               | 9/284 [00:06<04:10,  1.10it/s]"
     ]
    },
    {
     "name": "stdout",
     "output_type": "stream",
     "text": [
      "0.0006082810606581746\n",
      "0.01707867997668255\n",
      "-4.594013046076163\n"
     ]
    },
    {
     "name": "stderr",
     "output_type": "stream",
     "text": [
      "\r",
      "  4%|██▊                                                                              | 10/284 [00:07<03:22,  1.36it/s]"
     ]
    },
    {
     "name": "stdout",
     "output_type": "stream",
     "text": [
      "0.0004870568607312098\n",
      "0.03611908349771967\n",
      "-5.512376760069843\n"
     ]
    },
    {
     "name": "stderr",
     "output_type": "stream",
     "text": [
      "\r",
      "  4%|███▏                                                                             | 11/284 [00:07<02:48,  1.62it/s]"
     ]
    },
    {
     "name": "stdout",
     "output_type": "stream",
     "text": [
      "-0.001993508251702117\n",
      "0.03725025496784639\n",
      "0.7279317330541482\n"
     ]
    },
    {
     "name": "stderr",
     "output_type": "stream",
     "text": [
      "\r",
      "  4%|███▍                                                                             | 12/284 [00:07<02:23,  1.90it/s]"
     ]
    },
    {
     "name": "stdout",
     "output_type": "stream",
     "text": [
      "-0.00035983184046820926\n",
      "0.03676925092036951\n",
      "-5.5772292448301295\n"
     ]
    },
    {
     "name": "stderr",
     "output_type": "stream",
     "text": [
      "\r",
      "  5%|███▋                                                                             | 13/284 [00:09<03:34,  1.26it/s]"
     ]
    },
    {
     "name": "stdout",
     "output_type": "stream",
     "text": [
      "-0.0004552772163606063\n",
      "0.016688738009090626\n",
      "-2.037002934142006\n"
     ]
    },
    {
     "name": "stderr",
     "output_type": "stream",
     "text": [
      "\r",
      "  5%|███▉                                                                             | 14/284 [00:10<04:28,  1.00it/s]"
     ]
    },
    {
     "name": "stdout",
     "output_type": "stream",
     "text": [
      "-0.0003397334975399738\n",
      "0.01699238799828801\n",
      "-6.589009546233238\n"
     ]
    },
    {
     "name": "stderr",
     "output_type": "stream",
     "text": [
      "\r",
      "  5%|████▎                                                                            | 15/284 [00:10<03:33,  1.26it/s]"
     ]
    },
    {
     "name": "stdout",
     "output_type": "stream",
     "text": [
      "0.00041765363068322606\n",
      "0.03715971058539364\n",
      "-1.1235432452186724\n"
     ]
    },
    {
     "name": "stderr",
     "output_type": "stream",
     "text": [
      "\r",
      "  6%|████▌                                                                            | 16/284 [00:12<04:27,  1.00it/s]"
     ]
    },
    {
     "name": "stdout",
     "output_type": "stream",
     "text": [
      "0.00032752593379913394\n",
      "0.01684078295299492\n",
      "-5.618051403543652\n"
     ]
    },
    {
     "name": "stderr",
     "output_type": "stream",
     "text": [
      "\r",
      "  6%|████▊                                                                            | 17/284 [00:12<03:32,  1.25it/s]"
     ]
    },
    {
     "name": "stdout",
     "output_type": "stream",
     "text": [
      "-0.0010274780340950459\n",
      "0.03933207177545022\n",
      "-3.559821605916098\n"
     ]
    },
    {
     "name": "stderr",
     "output_type": "stream",
     "text": [
      "\r",
      "  6%|█████▏                                                                           | 18/284 [00:14<04:26,  1.00s/it]"
     ]
    },
    {
     "name": "stdout",
     "output_type": "stream",
     "text": [
      "0.000909310258696423\n",
      "0.016497933740445298\n",
      "-5.344043438895325\n"
     ]
    },
    {
     "name": "stderr",
     "output_type": "stream",
     "text": [
      "\r",
      "  7%|█████▍                                                                           | 19/284 [00:15<05:01,  1.14s/it]"
     ]
    },
    {
     "name": "stdout",
     "output_type": "stream",
     "text": [
      "-0.00026562176762329355\n",
      "0.01650597628920748\n",
      "-6.3707060282116235\n"
     ]
    },
    {
     "name": "stderr",
     "output_type": "stream",
     "text": [
      "\r",
      "  7%|█████▋                                                                           | 20/284 [00:16<03:55,  1.12it/s]"
     ]
    },
    {
     "name": "stdout",
     "output_type": "stream",
     "text": [
      "-1.075069182995017e-05\n",
      "0.03833494271915749\n",
      "-1.5466661186987232\n"
     ]
    },
    {
     "name": "stderr",
     "output_type": "stream",
     "text": [
      "\r",
      "  7%|█████▉                                                                           | 21/284 [00:16<03:09,  1.39it/s]"
     ]
    },
    {
     "name": "stdout",
     "output_type": "stream",
     "text": [
      "-0.0015071583934600002\n",
      "0.03789535646101265\n",
      "-2.807342327728598\n"
     ]
    },
    {
     "name": "stderr",
     "output_type": "stream",
     "text": [
      "\r",
      "  8%|██████▎                                                                          | 22/284 [00:16<02:39,  1.64it/s]"
     ]
    },
    {
     "name": "stdout",
     "output_type": "stream",
     "text": [
      "-0.0014399824599928813\n",
      "0.03679630225197641\n",
      "-0.49791999532763365\n"
     ]
    },
    {
     "name": "stderr",
     "output_type": "stream",
     "text": [
      "\r",
      "  8%|██████▌                                                                          | 23/284 [00:17<03:28,  1.25it/s]"
     ]
    },
    {
     "name": "stdout",
     "output_type": "stream",
     "text": [
      "-0.0005353935872486923\n",
      "0.018752693054700117\n",
      "3.4526052239016023\n"
     ]
    },
    {
     "name": "stderr",
     "output_type": "stream",
     "text": [
      "\r",
      "  8%|██████▊                                                                          | 24/284 [00:18<03:26,  1.26it/s]"
     ]
    },
    {
     "name": "stdout",
     "output_type": "stream",
     "text": [
      "-0.00016040073730732722\n",
      "0.02312305429882287\n",
      "0.36911075620490685\n"
     ]
    },
    {
     "name": "stderr",
     "output_type": "stream",
     "text": [
      "\r",
      "  9%|███████▏                                                                         | 25/284 [00:19<03:26,  1.26it/s]"
     ]
    },
    {
     "name": "stdout",
     "output_type": "stream",
     "text": [
      "-0.0012735051507566165\n",
      "0.02346786226569385\n",
      "-10.24205755853279\n"
     ]
    },
    {
     "name": "stderr",
     "output_type": "stream",
     "text": [
      "\r",
      "  9%|███████▍                                                                         | 26/284 [00:20<03:26,  1.25it/s]"
     ]
    },
    {
     "name": "stdout",
     "output_type": "stream",
     "text": [
      "-0.0003722719355094304\n",
      "0.022467572754454997\n",
      "-8.34184757360292\n"
     ]
    },
    {
     "name": "stderr",
     "output_type": "stream",
     "text": [
      "\r",
      " 10%|███████▋                                                                         | 27/284 [00:20<02:50,  1.51it/s]"
     ]
    },
    {
     "name": "stdout",
     "output_type": "stream",
     "text": [
      "0.0005495076787315753\n",
      "0.03656180309926223\n",
      "-1.150107491651097\n"
     ]
    },
    {
     "name": "stderr",
     "output_type": "stream",
     "text": [
      "\r",
      " 10%|███████▉                                                                         | 28/284 [00:22<03:47,  1.13it/s]"
     ]
    },
    {
     "name": "stdout",
     "output_type": "stream",
     "text": [
      "3.3845430723834006e-05\n",
      "0.017403464134308756\n",
      "-5.39567384755944\n",
      "-0.002565131789175661\n",
      "0.08830977455547814\n",
      "-1.4552918216202193\n"
     ]
    },
    {
     "name": "stderr",
     "output_type": "stream",
     "text": [
      " 11%|████████▊                                                                        | 31/284 [00:23<02:50,  1.49it/s]"
     ]
    },
    {
     "name": "stdout",
     "output_type": "stream",
     "text": [
      "-0.0007461872371935612\n",
      "0.017121837700804318\n",
      "-4.243792774934716\n",
      "nan\n",
      "nan\n",
      "nan\n"
     ]
    },
    {
     "name": "stderr",
     "output_type": "stream",
     "text": [
      "\r",
      " 11%|█████████▏                                                                       | 32/284 [00:25<03:26,  1.22it/s]"
     ]
    },
    {
     "name": "stdout",
     "output_type": "stream",
     "text": [
      "-0.0007490388283709393\n",
      "0.018175762449880385\n",
      "-3.5524504204633223\n"
     ]
    },
    {
     "name": "stderr",
     "output_type": "stream",
     "text": [
      "\r",
      " 12%|█████████▍                                                                       | 33/284 [00:25<03:17,  1.27it/s]"
     ]
    },
    {
     "name": "stdout",
     "output_type": "stream",
     "text": [
      "0.00018343751448326477\n",
      "0.024596664793223123\n",
      "-13.717369278911837\n"
     ]
    },
    {
     "name": "stderr",
     "output_type": "stream",
     "text": [
      "\r",
      " 12%|█████████▋                                                                       | 34/284 [00:26<03:17,  1.26it/s]"
     ]
    },
    {
     "name": "stdout",
     "output_type": "stream",
     "text": [
      "-0.000810828358127361\n",
      "0.021904475550525618\n",
      "-6.253033903995667\n",
      "0.0031288294958193336\n",
      "0.09435720625459548\n",
      "-5.666375612076458\n"
     ]
    },
    {
     "name": "stderr",
     "output_type": "stream",
     "text": [
      "\r",
      " 13%|██████████▎                                                                      | 36/284 [00:27<02:44,  1.51it/s]"
     ]
    },
    {
     "name": "stdout",
     "output_type": "stream",
     "text": [
      "0.00016207435935491584\n",
      "0.02066503576700146\n",
      "-3.7270100964182844\n"
     ]
    },
    {
     "name": "stderr",
     "output_type": "stream",
     "text": [
      "\r",
      " 13%|██████████▌                                                                      | 37/284 [00:28<03:06,  1.32it/s]"
     ]
    },
    {
     "name": "stdout",
     "output_type": "stream",
     "text": [
      "-0.00031636256414109174\n",
      "0.019554323295001064\n",
      "0.22729482309330426\n"
     ]
    },
    {
     "name": "stderr",
     "output_type": "stream",
     "text": [
      "\r",
      " 13%|██████████▊                                                                      | 38/284 [00:28<02:38,  1.55it/s]"
     ]
    },
    {
     "name": "stdout",
     "output_type": "stream",
     "text": [
      "-0.001674881285340735\n",
      "0.03814679577921979\n",
      "2.09757822566273\n"
     ]
    },
    {
     "name": "stderr",
     "output_type": "stream",
     "text": [
      "\r",
      " 14%|███████████                                                                      | 39/284 [00:30<03:29,  1.17it/s]"
     ]
    },
    {
     "name": "stdout",
     "output_type": "stream",
     "text": [
      "-0.0004232716229100959\n",
      "0.016904595067562523\n",
      "-0.9476645693369113\n",
      "0.002149309417536005\n",
      "0.08517229334776791\n",
      "-3.3451924752033566\n"
     ]
    },
    {
     "name": "stderr",
     "output_type": "stream",
     "text": [
      "\r",
      " 14%|███████████▋                                                                     | 41/284 [00:31<03:16,  1.23it/s]"
     ]
    },
    {
     "name": "stdout",
     "output_type": "stream",
     "text": [
      "-0.0006397523900987162\n",
      "0.016645066748323833\n",
      "-6.073704348305678\n"
     ]
    },
    {
     "name": "stderr",
     "output_type": "stream",
     "text": [
      " 15%|████████████▎                                                                    | 43/284 [00:33<02:59,  1.35it/s]"
     ]
    },
    {
     "name": "stdout",
     "output_type": "stream",
     "text": [
      "-0.0006781952900649597\n",
      "0.01736612589025871\n",
      "-5.381972089717172\n",
      "-0.002163940837109215\n",
      "0.06036859908614252\n",
      "-1.1742034011714926\n"
     ]
    },
    {
     "name": "stderr",
     "output_type": "stream",
     "text": [
      "\r",
      " 15%|████████████▌                                                                    | 44/284 [00:34<03:38,  1.10it/s]"
     ]
    },
    {
     "name": "stdout",
     "output_type": "stream",
     "text": [
      "0.0010997012277690703\n",
      "0.017238220819019857\n",
      "-3.4223806587623433\n"
     ]
    },
    {
     "name": "stderr",
     "output_type": "stream",
     "text": [
      "\r",
      " 16%|████████████▊                                                                    | 45/284 [00:36<04:10,  1.05s/it]"
     ]
    },
    {
     "name": "stdout",
     "output_type": "stream",
     "text": [
      "0.0003677852002317315\n",
      "0.017331878146645885\n",
      "-3.7611724204795816\n"
     ]
    },
    {
     "name": "stderr",
     "output_type": "stream",
     "text": [
      "\r",
      " 16%|█████████████                                                                    | 46/284 [00:37<04:25,  1.12s/it]"
     ]
    },
    {
     "name": "stdout",
     "output_type": "stream",
     "text": [
      "0.0004766170675966762\n",
      "0.01784704572417727\n",
      "-5.683005000887717\n"
     ]
    },
    {
     "name": "stderr",
     "output_type": "stream",
     "text": [
      "\r",
      " 17%|█████████████▍                                                                   | 47/284 [00:38<04:43,  1.20s/it]"
     ]
    },
    {
     "name": "stdout",
     "output_type": "stream",
     "text": [
      "0.0003646785347743642\n",
      "0.017230668188678834\n",
      "-6.043371393284032\n"
     ]
    },
    {
     "name": "stderr",
     "output_type": "stream",
     "text": [
      "\r",
      " 17%|█████████████▋                                                                   | 48/284 [00:39<04:33,  1.16s/it]"
     ]
    },
    {
     "name": "stdout",
     "output_type": "stream",
     "text": [
      "0.00014453075924344546\n",
      "0.019543803178598274\n",
      "-3.155857371019276\n"
     ]
    },
    {
     "name": "stderr",
     "output_type": "stream",
     "text": [
      "\r",
      " 17%|█████████████▉                                                                   | 49/284 [00:40<03:34,  1.10it/s]"
     ]
    },
    {
     "name": "stdout",
     "output_type": "stream",
     "text": [
      "-0.0008270705423247835\n",
      "0.03702321905876025\n",
      "-4.365345227723457\n"
     ]
    },
    {
     "name": "stderr",
     "output_type": "stream",
     "text": [
      "\r",
      " 18%|██████████████▎                                                                  | 50/284 [00:41<03:26,  1.13it/s]"
     ]
    },
    {
     "name": "stdout",
     "output_type": "stream",
     "text": [
      "-6.960489087682445e-05\n",
      "0.022464101889291068\n",
      "-6.119630364703277\n"
     ]
    },
    {
     "name": "stderr",
     "output_type": "stream",
     "text": [
      " 18%|██████████████▊                                                                  | 52/284 [00:42<02:55,  1.32it/s]"
     ]
    },
    {
     "name": "stdout",
     "output_type": "stream",
     "text": [
      "-0.0005842308122170941\n",
      "0.01702668615788074\n",
      "-4.935603132956598\n",
      "-2.3021205394108567e-05\n",
      "0.0869931264067562\n",
      "-1.8765800749726338\n"
     ]
    },
    {
     "name": "stderr",
     "output_type": "stream",
     "text": [
      "\r",
      " 19%|███████████████                                                                  | 53/284 [00:42<02:23,  1.61it/s]"
     ]
    },
    {
     "name": "stdout",
     "output_type": "stream",
     "text": [
      "-0.00069003139368029\n",
      "0.037865532172574684\n",
      "-2.482380991771299\n"
     ]
    },
    {
     "name": "stderr",
     "output_type": "stream",
     "text": [
      "\r",
      " 19%|███████████████▍                                                                 | 54/284 [00:43<02:01,  1.89it/s]"
     ]
    },
    {
     "name": "stdout",
     "output_type": "stream",
     "text": [
      "-0.001605859186622119\n",
      "0.03790975965436045\n",
      "1.0275423932679233\n"
     ]
    },
    {
     "name": "stderr",
     "output_type": "stream",
     "text": [
      "\r",
      " 19%|███████████████▋                                                                 | 55/284 [00:43<01:49,  2.10it/s]"
     ]
    },
    {
     "name": "stdout",
     "output_type": "stream",
     "text": [
      "-0.0016243945329232697\n",
      "0.03780490156457009\n",
      "-1.6119529271986108\n"
     ]
    },
    {
     "name": "stderr",
     "output_type": "stream",
     "text": [
      "\r",
      " 20%|███████████████▉                                                                 | 56/284 [00:44<02:18,  1.64it/s]"
     ]
    },
    {
     "name": "stdout",
     "output_type": "stream",
     "text": [
      "-0.00034062188514080336\n",
      "0.02173640867952319\n",
      "-2.5161898262736573\n"
     ]
    },
    {
     "name": "stderr",
     "output_type": "stream",
     "text": [
      "\r",
      " 20%|████████████████▌                                                                | 58/284 [00:44<01:31,  2.48it/s]"
     ]
    },
    {
     "name": "stdout",
     "output_type": "stream",
     "text": [
      "-0.001105067618663346\n",
      "0.036927798266985126\n",
      "-1.7687884458193142\n"
     ]
    },
    {
     "name": "stderr",
     "output_type": "stream",
     "text": [
      " 21%|█████████████████                                                                | 60/284 [00:45<01:18,  2.85it/s]"
     ]
    },
    {
     "name": "stdout",
     "output_type": "stream",
     "text": [
      "0.001066721586156686\n",
      "0.048196714029265494\n",
      "-0.610743775759462\n",
      "-5.256456110504293e-05\n",
      "0.03714764646019598\n",
      "-1.7030425251918033\n"
     ]
    },
    {
     "name": "stderr",
     "output_type": "stream",
     "text": [
      "\r",
      " 21%|█████████████████▍                                                               | 61/284 [00:46<02:23,  1.56it/s]"
     ]
    },
    {
     "name": "stdout",
     "output_type": "stream",
     "text": [
      "0.0003076235306344548\n",
      "0.01730248843211658\n",
      "-4.447716274432211\n"
     ]
    },
    {
     "name": "stderr",
     "output_type": "stream",
     "text": [
      "\r",
      " 22%|█████████████████▋                                                               | 62/284 [00:48<03:13,  1.15it/s]"
     ]
    },
    {
     "name": "stdout",
     "output_type": "stream",
     "text": [
      "-0.00023985196711210255\n",
      "0.016842091920996186\n",
      "-6.3097900852895865\n"
     ]
    },
    {
     "name": "stderr",
     "output_type": "stream",
     "text": [
      " 23%|██████████████████▎                                                              | 64/284 [00:49<02:48,  1.31it/s]"
     ]
    },
    {
     "name": "stdout",
     "output_type": "stream",
     "text": [
      "-0.00015484761655070153\n",
      "0.01713960428859548\n",
      "-2.0569279012361927\n",
      "0.0020736514351043824\n",
      "0.06426607223363477\n",
      "-1.9271698386932008\n"
     ]
    },
    {
     "name": "stderr",
     "output_type": "stream",
     "text": [
      "\r",
      " 23%|██████████████████▌                                                              | 65/284 [00:51<03:30,  1.04it/s]"
     ]
    },
    {
     "name": "stdout",
     "output_type": "stream",
     "text": [
      "-0.0007154394815434048\n",
      "0.01732944576293462\n",
      "-4.706330908032128\n",
      "nan\n",
      "nan\n",
      "nan\n"
     ]
    },
    {
     "name": "stderr",
     "output_type": "stream",
     "text": [
      "\r",
      " 24%|███████████████████                                                              | 67/284 [00:51<02:09,  1.67it/s]"
     ]
    },
    {
     "name": "stdout",
     "output_type": "stream",
     "text": [
      "0.0007645628749448285\n",
      "0.036559967889696954\n",
      "-1.9215609088814594\n"
     ]
    },
    {
     "name": "stderr",
     "output_type": "stream",
     "text": [
      "\r",
      " 24%|███████████████████▍                                                             | 68/284 [00:51<01:54,  1.89it/s]"
     ]
    },
    {
     "name": "stdout",
     "output_type": "stream",
     "text": [
      "0.0007604046031566968\n",
      "0.0379669190623014\n",
      "-2.7500073548519928\n"
     ]
    },
    {
     "name": "stderr",
     "output_type": "stream",
     "text": [
      "\r",
      " 24%|███████████████████▋                                                             | 69/284 [00:53<02:40,  1.34it/s]"
     ]
    },
    {
     "name": "stdout",
     "output_type": "stream",
     "text": [
      "0.00012344552022530502\n",
      "0.017855001606526123\n",
      "-3.557173013577874\n"
     ]
    },
    {
     "name": "stderr",
     "output_type": "stream",
     "text": [
      "\r",
      " 25%|███████████████████▉                                                             | 70/284 [00:53<02:15,  1.58it/s]"
     ]
    },
    {
     "name": "stdout",
     "output_type": "stream",
     "text": [
      "0.0002251948452154332\n",
      "0.03732409604364449\n",
      "-4.05162318894049\n"
     ]
    },
    {
     "name": "stderr",
     "output_type": "stream",
     "text": [
      "\r",
      " 25%|████████████████████▎                                                            | 71/284 [00:54<02:18,  1.54it/s]"
     ]
    },
    {
     "name": "stdout",
     "output_type": "stream",
     "text": [
      "0.0007374656097610736\n",
      "0.023085986790259246\n",
      "-6.879641873216703\n"
     ]
    },
    {
     "name": "stderr",
     "output_type": "stream",
     "text": [
      "\r",
      " 25%|████████████████████▌                                                            | 72/284 [00:55<03:04,  1.15it/s]"
     ]
    },
    {
     "name": "stdout",
     "output_type": "stream",
     "text": [
      "-0.0005518743220139625\n",
      "0.01717029373005082\n",
      "0.08917925226480988\n"
     ]
    },
    {
     "name": "stderr",
     "output_type": "stream",
     "text": [
      "\r",
      " 26%|████████████████████▊                                                            | 73/284 [00:56<03:00,  1.17it/s]"
     ]
    },
    {
     "name": "stdout",
     "output_type": "stream",
     "text": [
      "0.00036818110445416616\n",
      "0.02292794459834898\n",
      "-7.1612958226300885\n"
     ]
    },
    {
     "name": "stderr",
     "output_type": "stream",
     "text": [
      "\r",
      " 26%|█████████████████████                                                            | 74/284 [00:56<02:27,  1.43it/s]"
     ]
    },
    {
     "name": "stdout",
     "output_type": "stream",
     "text": [
      "-0.0009797892334956649\n",
      "0.03734181398384397\n",
      "-1.0951546577482525\n"
     ]
    },
    {
     "name": "stderr",
     "output_type": "stream",
     "text": [
      "\r",
      " 26%|█████████████████████▍                                                           | 75/284 [00:57<02:26,  1.43it/s]"
     ]
    },
    {
     "name": "stdout",
     "output_type": "stream",
     "text": [
      "-0.0005235863869858056\n",
      "0.025831102126597023\n",
      "-6.037962129658644\n"
     ]
    },
    {
     "name": "stderr",
     "output_type": "stream",
     "text": [
      "\r",
      " 27%|█████████████████████▋                                                           | 76/284 [00:58<03:13,  1.07it/s]"
     ]
    },
    {
     "name": "stdout",
     "output_type": "stream",
     "text": [
      "0.00076003580900092\n",
      "0.0172484974441178\n",
      "-7.908971297891204\n"
     ]
    },
    {
     "name": "stderr",
     "output_type": "stream",
     "text": [
      "\r",
      " 27%|█████████████████████▉                                                           | 77/284 [01:00<03:42,  1.07s/it]"
     ]
    },
    {
     "name": "stdout",
     "output_type": "stream",
     "text": [
      "7.851144533677113e-05\n",
      "0.017293866775690666\n",
      "2.0716461203780643\n"
     ]
    },
    {
     "name": "stderr",
     "output_type": "stream",
     "text": [
      "\r",
      " 27%|██████████████████████▏                                                          | 78/284 [01:00<02:55,  1.17it/s]"
     ]
    },
    {
     "name": "stdout",
     "output_type": "stream",
     "text": [
      "0.0013553908811820396\n",
      "0.03822262345435628\n",
      "0.9434009825294536\n"
     ]
    },
    {
     "name": "stderr",
     "output_type": "stream",
     "text": [
      "\r",
      " 28%|██████████████████████▌                                                          | 79/284 [01:02<03:28,  1.02s/it]"
     ]
    },
    {
     "name": "stdout",
     "output_type": "stream",
     "text": [
      "0.0007646551739252114\n",
      "0.01736256153815069\n",
      "-9.790711963473619\n"
     ]
    },
    {
     "name": "stderr",
     "output_type": "stream",
     "text": [
      " 29%|███████████████████████                                                          | 81/284 [01:03<02:53,  1.17it/s]"
     ]
    },
    {
     "name": "stdout",
     "output_type": "stream",
     "text": [
      "0.00038665619956559195\n",
      "0.01743413410068901\n",
      "-7.21679300863773\n",
      "-0.0038354539963236806\n",
      "0.05359365047629944\n",
      "-3.0491018438288324\n",
      "nan\n",
      "nan\n",
      "nan\n"
     ]
    },
    {
     "name": "stderr",
     "output_type": "stream",
     "text": [
      "\r",
      " 29%|███████████████████████▋                                                         | 83/284 [01:04<01:48,  1.85it/s]"
     ]
    },
    {
     "name": "stdout",
     "output_type": "stream",
     "text": [
      "0.0009764769611910847\n",
      "0.037782699733608226\n",
      "-2.8666011815534285\n"
     ]
    },
    {
     "name": "stderr",
     "output_type": "stream",
     "text": [
      "\r",
      " 30%|███████████████████████▉                                                         | 84/284 [01:05<02:31,  1.32it/s]"
     ]
    },
    {
     "name": "stdout",
     "output_type": "stream",
     "text": [
      "0.000707956894070512\n",
      "0.01750688712290788\n",
      "-4.525657424941571\n"
     ]
    },
    {
     "name": "stderr",
     "output_type": "stream",
     "text": [
      "\r",
      " 30%|████████████████████████▏                                                        | 85/284 [01:05<02:08,  1.55it/s]"
     ]
    },
    {
     "name": "stdout",
     "output_type": "stream",
     "text": [
      "0.00031458505074550923\n",
      "0.03817979227743574\n",
      "2.1053501978645413\n"
     ]
    },
    {
     "name": "stderr",
     "output_type": "stream",
     "text": [
      " 31%|████████████████████████▊                                                        | 87/284 [01:06<01:29,  2.21it/s]"
     ]
    },
    {
     "name": "stdout",
     "output_type": "stream",
     "text": [
      "0.0013785553964139683\n",
      "0.0372636122933646\n",
      "-4.4393081428295185\n",
      "-0.0007481501779629325\n",
      "0.05452177681385077\n",
      "-1.726643916681591\n"
     ]
    },
    {
     "name": "stderr",
     "output_type": "stream",
     "text": [
      "\r",
      " 31%|█████████████████████████                                                        | 88/284 [01:07<02:20,  1.40it/s]"
     ]
    },
    {
     "name": "stdout",
     "output_type": "stream",
     "text": [
      "-0.00012004413105099112\n",
      "0.0166183626254959\n",
      "-0.029195725994224868\n"
     ]
    },
    {
     "name": "stderr",
     "output_type": "stream",
     "text": [
      "\r",
      " 31%|█████████████████████████▍                                                       | 89/284 [01:08<01:58,  1.65it/s]"
     ]
    },
    {
     "name": "stdout",
     "output_type": "stream",
     "text": [
      "0.00047100981207405296\n",
      "0.03771133260695722\n",
      "-3.5858435003808937\n"
     ]
    },
    {
     "name": "stderr",
     "output_type": "stream",
     "text": [
      "\r",
      " 32%|█████████████████████████▋                                                       | 90/284 [01:09<02:40,  1.21it/s]"
     ]
    },
    {
     "name": "stdout",
     "output_type": "stream",
     "text": [
      "0.00033944166055817934\n",
      "0.017397200670486262\n",
      "-8.852334717556923\n"
     ]
    },
    {
     "name": "stderr",
     "output_type": "stream",
     "text": [
      "\r",
      " 33%|██████████████████████████▌                                                      | 93/284 [01:09<01:21,  2.35it/s]"
     ]
    },
    {
     "name": "stdout",
     "output_type": "stream",
     "text": [
      "-0.0004519212088436788\n",
      "0.03867011373661846\n",
      "0.3260154505796029\n"
     ]
    },
    {
     "name": "stderr",
     "output_type": "stream",
     "text": [
      "\r",
      " 33%|██████████████████████████▊                                                      | 94/284 [01:10<01:17,  2.47it/s]"
     ]
    },
    {
     "name": "stdout",
     "output_type": "stream",
     "text": [
      "0.001100573330996618\n",
      "0.036857799067846295\n",
      "0.8446693593255161\n"
     ]
    },
    {
     "name": "stderr",
     "output_type": "stream",
     "text": [
      "\r",
      " 33%|███████████████████████████                                                      | 95/284 [01:11<01:59,  1.58it/s]"
     ]
    },
    {
     "name": "stdout",
     "output_type": "stream",
     "text": [
      "0.0003182452701796523\n",
      "0.016874210324143615\n",
      "-3.067474327649757\n"
     ]
    },
    {
     "name": "stderr",
     "output_type": "stream",
     "text": [
      "\r",
      " 34%|███████████████████████████▍                                                     | 96/284 [01:11<01:46,  1.77it/s]"
     ]
    },
    {
     "name": "stdout",
     "output_type": "stream",
     "text": [
      "0.001248635422471943\n",
      "0.035311971425315024\n",
      "-0.8284246815397769\n"
     ]
    },
    {
     "name": "stderr",
     "output_type": "stream",
     "text": [
      "\r",
      " 34%|███████████████████████████▋                                                     | 97/284 [01:12<01:34,  1.98it/s]"
     ]
    },
    {
     "name": "stdout",
     "output_type": "stream",
     "text": [
      "-0.002361516877970244\n",
      "0.03751713850141519\n",
      "-2.9736369185409086\n"
     ]
    },
    {
     "name": "stderr",
     "output_type": "stream",
     "text": [
      "\r",
      " 35%|███████████████████████████▉                                                     | 98/284 [01:12<01:24,  2.19it/s]"
     ]
    },
    {
     "name": "stdout",
     "output_type": "stream",
     "text": [
      "-0.0015897955875937874\n",
      "0.03825386265664375\n",
      "0.4255277982992525\n",
      "nan\n",
      "nan\n",
      "nan\n"
     ]
    },
    {
     "name": "stderr",
     "output_type": "stream",
     "text": [
      "\r",
      " 35%|████████████████████████████▏                                                   | 100/284 [01:12<01:01,  3.01it/s]"
     ]
    },
    {
     "name": "stdout",
     "output_type": "stream",
     "text": [
      "-0.0006437716386600557\n",
      "0.03903392246323439\n",
      "-5.948777211255367\n"
     ]
    },
    {
     "name": "stderr",
     "output_type": "stream",
     "text": [
      "\r",
      " 36%|████████████████████████████▍                                                   | 101/284 [01:14<01:44,  1.75it/s]"
     ]
    },
    {
     "name": "stdout",
     "output_type": "stream",
     "text": [
      "0.0004140784923375836\n",
      "0.018370464122205162\n",
      "-7.2919601691143825\n"
     ]
    },
    {
     "name": "stderr",
     "output_type": "stream",
     "text": [
      "\r",
      " 36%|████████████████████████████▋                                                   | 102/284 [01:14<01:32,  1.96it/s]"
     ]
    },
    {
     "name": "stdout",
     "output_type": "stream",
     "text": [
      "0.0007307530318331657\n",
      "0.03791820798505815\n",
      "-1.7073417791507357\n"
     ]
    },
    {
     "name": "stderr",
     "output_type": "stream",
     "text": [
      "\r",
      " 36%|█████████████████████████████                                                   | 103/284 [01:15<02:15,  1.34it/s]"
     ]
    },
    {
     "name": "stdout",
     "output_type": "stream",
     "text": [
      "0.0009895517855224485\n",
      "0.017089041873283726\n",
      "-1.1439399427977897\n"
     ]
    },
    {
     "name": "stderr",
     "output_type": "stream",
     "text": [
      "\r",
      " 37%|█████████████████████████████▎                                                  | 104/284 [01:16<01:53,  1.59it/s]"
     ]
    },
    {
     "name": "stdout",
     "output_type": "stream",
     "text": [
      "0.001660421894167626\n",
      "0.03846870734629493\n",
      "0.4082100649738338\n"
     ]
    },
    {
     "name": "stderr",
     "output_type": "stream",
     "text": [
      "\r",
      " 37%|█████████████████████████████▌                                                  | 105/284 [01:17<02:31,  1.18it/s]"
     ]
    },
    {
     "name": "stdout",
     "output_type": "stream",
     "text": [
      "0.0003054475848999908\n",
      "0.017160317188419667\n",
      "-0.9724057143237683\n"
     ]
    },
    {
     "name": "stderr",
     "output_type": "stream",
     "text": [
      "\r",
      " 37%|█████████████████████████████▊                                                  | 106/284 [01:17<02:04,  1.43it/s]"
     ]
    },
    {
     "name": "stdout",
     "output_type": "stream",
     "text": [
      "0.00012584075246025462\n",
      "0.03720957130877138\n",
      "-3.193776776358704\n"
     ]
    },
    {
     "name": "stderr",
     "output_type": "stream",
     "text": [
      "\r",
      " 38%|██████████████████████████████▏                                                 | 107/284 [01:18<01:44,  1.69it/s]"
     ]
    },
    {
     "name": "stdout",
     "output_type": "stream",
     "text": [
      "0.00046532360757633686\n",
      "0.03789859546119553\n",
      "-8.931539948044913\n",
      "-0.0006924660725070654\n",
      "0.08958683784377251\n",
      "-3.636758453684858\n"
     ]
    },
    {
     "name": "stderr",
     "output_type": "stream",
     "text": [
      "\r",
      " 38%|██████████████████████████████▋                                                 | 109/284 [01:18<01:12,  2.40it/s]"
     ]
    },
    {
     "name": "stdout",
     "output_type": "stream",
     "text": [
      "0.001246538440689685\n",
      "0.03898584684990841\n",
      "-5.6533606062966255\n",
      "-0.00133496070209622\n",
      "0.09005100178817164\n",
      "-2.806226248722784\n"
     ]
    },
    {
     "name": "stderr",
     "output_type": "stream",
     "text": [
      "\r",
      " 39%|███████████████████████████████▎                                                | 111/284 [01:19<01:06,  2.62it/s]"
     ]
    },
    {
     "name": "stdout",
     "output_type": "stream",
     "text": [
      "0.0013599838067687156\n",
      "0.028810496895182065\n",
      "-0.7476333903277822\n"
     ]
    },
    {
     "name": "stderr",
     "output_type": "stream",
     "text": [
      "\r",
      " 39%|███████████████████████████████▌                                                | 112/284 [01:20<01:47,  1.60it/s]"
     ]
    },
    {
     "name": "stdout",
     "output_type": "stream",
     "text": [
      "0.00026234542622092854\n",
      "0.017847289558575292\n",
      "0.5465320567305719\n",
      "nan\n",
      "nan\n",
      "nan\n"
     ]
    },
    {
     "name": "stderr",
     "output_type": "stream",
     "text": [
      "\r",
      " 40%|████████████████████████████████                                                | 114/284 [01:22<01:53,  1.50it/s]"
     ]
    },
    {
     "name": "stdout",
     "output_type": "stream",
     "text": [
      "0.00013217003211378863\n",
      "0.017500084494317086\n",
      "-3.2132934710599934\n"
     ]
    },
    {
     "name": "stderr",
     "output_type": "stream",
     "text": [
      "\r",
      " 40%|████████████████████████████████▍                                               | 115/284 [01:23<02:14,  1.26it/s]"
     ]
    },
    {
     "name": "stdout",
     "output_type": "stream",
     "text": [
      "-0.0008904234500659397\n",
      "0.018000675290350085\n",
      "-6.187309610597609\n"
     ]
    },
    {
     "name": "stderr",
     "output_type": "stream",
     "text": [
      "\r",
      " 41%|████████████████████████████████▋                                               | 116/284 [01:23<01:53,  1.49it/s]"
     ]
    },
    {
     "name": "stdout",
     "output_type": "stream",
     "text": [
      "0.001518430309720818\n",
      "0.04158833637847826\n",
      "-0.3177107047552316\n"
     ]
    },
    {
     "name": "stderr",
     "output_type": "stream",
     "text": [
      "\r",
      " 41%|████████████████████████████████▉                                               | 117/284 [01:25<02:24,  1.15it/s]"
     ]
    },
    {
     "name": "stdout",
     "output_type": "stream",
     "text": [
      "-0.0001705781403548591\n",
      "0.01764129531387679\n",
      "-3.7081608695553783\n"
     ]
    },
    {
     "name": "stderr",
     "output_type": "stream",
     "text": [
      "\r",
      " 42%|█████████████████████████████████▏                                              | 118/284 [01:25<02:00,  1.38it/s]"
     ]
    },
    {
     "name": "stdout",
     "output_type": "stream",
     "text": [
      "0.0003073336594069563\n",
      "0.036868386893909526\n",
      "1.5984149224391808\n"
     ]
    },
    {
     "name": "stderr",
     "output_type": "stream",
     "text": [
      "\r",
      " 42%|█████████████████████████████████▌                                              | 119/284 [01:26<01:50,  1.50it/s]"
     ]
    },
    {
     "name": "stdout",
     "output_type": "stream",
     "text": [
      "-0.00035607226896204163\n",
      "0.029399837824426955\n",
      "-4.095177241869207\n"
     ]
    },
    {
     "name": "stderr",
     "output_type": "stream",
     "text": [
      "\r",
      " 42%|█████████████████████████████████▊                                              | 120/284 [01:27<02:15,  1.21it/s]"
     ]
    },
    {
     "name": "stdout",
     "output_type": "stream",
     "text": [
      "-0.0004681539241933143\n",
      "0.017897612704278736\n",
      "-4.359333836212132\n"
     ]
    },
    {
     "name": "stderr",
     "output_type": "stream",
     "text": [
      "\r",
      " 43%|██████████████████████████████████                                              | 121/284 [01:28<02:42,  1.00it/s]"
     ]
    },
    {
     "name": "stdout",
     "output_type": "stream",
     "text": [
      "0.00046483602722265354\n",
      "0.017131962628129785\n",
      "-4.364662649077143\n",
      "-9.330016471676083e-06\n",
      "0.09685248739515764\n",
      "-2.34784131588976\n"
     ]
    },
    {
     "name": "stderr",
     "output_type": "stream",
     "text": [
      " 44%|██████████████████████████████████▉                                             | 124/284 [01:29<01:21,  1.97it/s]"
     ]
    },
    {
     "name": "stdout",
     "output_type": "stream",
     "text": [
      "-0.0005073862271659053\n",
      "0.03776366733215763\n",
      "-4.298847265954768\n",
      "0.0037101467420018823\n",
      "0.07772280157342738\n",
      "-1.174362271435539\n"
     ]
    },
    {
     "name": "stderr",
     "output_type": "stream",
     "text": [
      "\r",
      " 44%|███████████████████████████████████▏                                            | 125/284 [01:30<02:00,  1.32it/s]"
     ]
    },
    {
     "name": "stdout",
     "output_type": "stream",
     "text": [
      "-0.0005747007192429812\n",
      "0.017095710753609418\n",
      "-4.648188972650985\n"
     ]
    },
    {
     "name": "stderr",
     "output_type": "stream",
     "text": [
      "\r",
      " 44%|███████████████████████████████████▍                                            | 126/284 [01:32<02:26,  1.07it/s]"
     ]
    },
    {
     "name": "stdout",
     "output_type": "stream",
     "text": [
      "-1.2591994155222358e-05\n",
      "0.01756188376380868\n",
      "-6.814495165156759\n"
     ]
    },
    {
     "name": "stderr",
     "output_type": "stream",
     "text": [
      "\r",
      " 45%|███████████████████████████████████▊                                            | 127/284 [01:32<01:59,  1.32it/s]"
     ]
    },
    {
     "name": "stdout",
     "output_type": "stream",
     "text": [
      "0.0009187570999646792\n",
      "0.03786744119435089\n",
      "-1.341335970196805\n",
      "0.007964238833477967\n",
      "0.18925473614842778\n",
      "0.07508385948644417\n"
     ]
    },
    {
     "name": "stderr",
     "output_type": "stream",
     "text": [
      "\r",
      " 45%|████████████████████████████████████▎                                           | 129/284 [01:33<01:54,  1.35it/s]"
     ]
    },
    {
     "name": "stdout",
     "output_type": "stream",
     "text": [
      "-0.000128689246280685\n",
      "0.01617306735007256\n",
      "-3.790433904486559\n",
      "0.000701326295301037\n",
      "0.09655785423202363\n",
      "-2.0580704705846644\n"
     ]
    },
    {
     "name": "stderr",
     "output_type": "stream",
     "text": [
      "\r",
      " 46%|████████████████████████████████████▉                                           | 131/284 [01:35<01:53,  1.34it/s]"
     ]
    },
    {
     "name": "stdout",
     "output_type": "stream",
     "text": [
      "-9.851925365675512e-05\n",
      "0.01659079665624871\n",
      "-6.743457661485336\n"
     ]
    },
    {
     "name": "stderr",
     "output_type": "stream",
     "text": [
      "\r",
      " 46%|█████████████████████████████████████▏                                          | 132/284 [01:35<01:39,  1.53it/s]"
     ]
    },
    {
     "name": "stdout",
     "output_type": "stream",
     "text": [
      "-0.00099034438923664\n",
      "0.03814972433855093\n",
      "-6.4640732931600136\n"
     ]
    },
    {
     "name": "stderr",
     "output_type": "stream",
     "text": [
      "\r",
      " 47%|█████████████████████████████████████▍                                          | 133/284 [01:36<01:27,  1.73it/s]"
     ]
    },
    {
     "name": "stdout",
     "output_type": "stream",
     "text": [
      "-0.00041704264716110607\n",
      "0.03704723431165125\n",
      "-4.066239756390385\n"
     ]
    },
    {
     "name": "stderr",
     "output_type": "stream",
     "text": [
      "\r",
      " 47%|█████████████████████████████████████▋                                          | 134/284 [01:37<01:53,  1.32it/s]"
     ]
    },
    {
     "name": "stdout",
     "output_type": "stream",
     "text": [
      "-0.0011319546698810225\n",
      "0.01803935754614718\n",
      "5.575337726802124\n"
     ]
    },
    {
     "name": "stderr",
     "output_type": "stream",
     "text": [
      "\r",
      " 48%|██████████████████████████████████████                                          | 135/284 [01:38<02:19,  1.07it/s]"
     ]
    },
    {
     "name": "stdout",
     "output_type": "stream",
     "text": [
      "-0.00037265210584429476\n",
      "0.017180514703784126\n",
      "-7.545322554480657\n"
     ]
    },
    {
     "name": "stderr",
     "output_type": "stream",
     "text": [
      "\r",
      " 48%|██████████████████████████████████████▎                                         | 136/284 [01:40<02:38,  1.07s/it]"
     ]
    },
    {
     "name": "stdout",
     "output_type": "stream",
     "text": [
      "0.0005089204686436232\n",
      "0.01750776925459837\n",
      "1.3204163323740923\n"
     ]
    },
    {
     "name": "stderr",
     "output_type": "stream",
     "text": [
      "\r",
      " 48%|██████████████████████████████████████▌                                         | 137/284 [01:40<02:03,  1.19it/s]"
     ]
    },
    {
     "name": "stdout",
     "output_type": "stream",
     "text": [
      "0.00014668346892024247\n",
      "0.04433043801019711\n",
      "3.0427235411677196\n"
     ]
    },
    {
     "name": "stderr",
     "output_type": "stream",
     "text": [
      "\r",
      " 49%|██████████████████████████████████████▊                                         | 138/284 [01:40<01:41,  1.44it/s]"
     ]
    },
    {
     "name": "stdout",
     "output_type": "stream",
     "text": [
      "-0.0014884866350775242\n",
      "0.039276996451712155\n",
      "-8.465372686122453\n"
     ]
    },
    {
     "name": "stderr",
     "output_type": "stream",
     "text": [
      "\r",
      " 67%|█████████████████████████████████████████████████████▌                          | 190/284 [01:41<00:03, 26.94it/s]"
     ]
    },
    {
     "name": "stdout",
     "output_type": "stream",
     "text": [
      "-0.0012014321749260549\n",
      "0.03693540638093338\n",
      "1.8013910966122813\n",
      "-0.0015332665215300684\n",
      "0.03646728802811568\n",
      "-7.47947792418119\n",
      "-0.0004893332256951093\n",
      "0.03751533773846445\n",
      "-4.088617439552922\n",
      "0.00041965270534861894\n",
      "0.016661274520196008\n",
      "-5.6750098010505745\n",
      "-0.0011840892767936984\n",
      "0.03650818558416191\n",
      "-4.881446345352241\n"
     ]
    },
    {
     "name": "stderr",
     "output_type": "stream",
     "text": [
      "\r",
      " 69%|██████████████████████████████████████████████████████▉                         | 195/284 [01:44<00:10,  8.28it/s]"
     ]
    },
    {
     "name": "stdout",
     "output_type": "stream",
     "text": [
      "-0.00010073004704982671\n",
      "0.0167234295997491\n",
      "-1.3463926270828444\n",
      "-0.003024893504663457\n",
      "0.03701276961031001\n",
      "0.19107822606517064\n",
      "0.00013759777749398571\n",
      "0.038147582581120644\n",
      "-0.8111081798308273\n",
      "-0.00024619000790239496\n",
      "0.021186846160059187\n",
      "-2.076374248145271\n"
     ]
    },
    {
     "name": "stderr",
     "output_type": "stream",
     "text": [
      "\r",
      " 70%|████████████████████████████████████████████████████████                        | 199/284 [01:46<00:13,  6.11it/s]"
     ]
    },
    {
     "name": "stdout",
     "output_type": "stream",
     "text": [
      "0.001366518896689898\n",
      "0.03750888212121477\n",
      "-2.539235144914161\n",
      "0.0025685496082863517\n",
      "0.06668016073893855\n",
      "-0.3897335195186985\n",
      "0.0004883588663044185\n",
      "0.03694281026350928\n",
      "1.0988911731525712\n"
     ]
    },
    {
     "name": "stderr",
     "output_type": "stream",
     "text": [
      "\r",
      " 71%|████████████████████████████████████████████████████████▉                       | 202/284 [01:47<00:14,  5.74it/s]"
     ]
    },
    {
     "name": "stdout",
     "output_type": "stream",
     "text": [
      "5.017472172621717e-05\n",
      "0.039597315597976045\n",
      "2.012168003928713\n",
      "-0.00029118195998946726\n",
      "0.016455516394977172\n",
      "-4.040244202475091\n"
     ]
    },
    {
     "name": "stderr",
     "output_type": "stream",
     "text": [
      "\r",
      " 72%|█████████████████████████████████████████████████████████▍                      | 204/284 [01:50<00:23,  3.45it/s]"
     ]
    },
    {
     "name": "stdout",
     "output_type": "stream",
     "text": [
      "-0.0003832183812213629\n",
      "0.01677165279592919\n",
      "-1.337777899537239\n",
      "0.0005523445480853634\n",
      "0.018168021403448472\n",
      "-7.184248566137735\n"
     ]
    },
    {
     "name": "stderr",
     "output_type": "stream",
     "text": [
      "\r",
      " 73%|██████████████████████████████████████████████████████████                      | 206/284 [01:52<00:31,  2.48it/s]"
     ]
    },
    {
     "name": "stdout",
     "output_type": "stream",
     "text": [
      "0.00037091991752824234\n",
      "0.01923971155760014\n",
      "-7.067238301178219\n"
     ]
    },
    {
     "name": "stderr",
     "output_type": "stream",
     "text": [
      "\r",
      " 73%|██████████████████████████████████████████████████████████▎                     | 207/284 [01:54<00:37,  2.05it/s]"
     ]
    },
    {
     "name": "stdout",
     "output_type": "stream",
     "text": [
      "-0.000308028118764925\n",
      "0.01658100213182227\n",
      "-4.589659457836955\n"
     ]
    },
    {
     "name": "stderr",
     "output_type": "stream",
     "text": [
      "\r",
      " 73%|██████████████████████████████████████████████████████████▌                     | 208/284 [01:55<00:44,  1.71it/s]"
     ]
    },
    {
     "name": "stdout",
     "output_type": "stream",
     "text": [
      "0.0013633889322298572\n",
      "0.016527604669187918\n",
      "-3.2061858372608043\n",
      "-0.00017233146723598524\n",
      "0.0839382135185551\n",
      "-2.3306747498834626\n"
     ]
    },
    {
     "name": "stderr",
     "output_type": "stream",
     "text": [
      "\r",
      " 74%|███████████████████████████████████████████████████████████▏                    | 210/284 [01:56<00:39,  1.89it/s]"
     ]
    },
    {
     "name": "stdout",
     "output_type": "stream",
     "text": [
      "-0.00039873081432167457\n",
      "0.027510598428898133\n",
      "-0.12048812919624421\n"
     ]
    },
    {
     "name": "stderr",
     "output_type": "stream",
     "text": [
      "\r",
      " 74%|███████████████████████████████████████████████████████████▍                    | 211/284 [01:56<00:36,  2.01it/s]"
     ]
    },
    {
     "name": "stdout",
     "output_type": "stream",
     "text": [
      "0.0009462589565168264\n",
      "0.03765256816806505\n",
      "-1.083340692319573\n"
     ]
    },
    {
     "name": "stderr",
     "output_type": "stream",
     "text": [
      "\r",
      " 75%|███████████████████████████████████████████████████████████▋                    | 212/284 [01:57<00:43,  1.66it/s]"
     ]
    },
    {
     "name": "stdout",
     "output_type": "stream",
     "text": [
      "-0.0005414197523628327\n",
      "0.01891390847170464\n",
      "-0.11500464614738466\n"
     ]
    },
    {
     "name": "stderr",
     "output_type": "stream",
     "text": [
      "\r",
      " 75%|████████████████████████████████████████████████████████████                    | 213/284 [01:59<00:54,  1.30it/s]"
     ]
    },
    {
     "name": "stdout",
     "output_type": "stream",
     "text": [
      "0.00020293189650520208\n",
      "0.016858533010111084\n",
      "-3.1534423621817433\n"
     ]
    },
    {
     "name": "stderr",
     "output_type": "stream",
     "text": [
      "\r",
      " 75%|████████████████████████████████████████████████████████████▎                   | 214/284 [01:59<00:47,  1.49it/s]"
     ]
    },
    {
     "name": "stdout",
     "output_type": "stream",
     "text": [
      "-0.00013770306973794782\n",
      "0.03832206422450331\n",
      "-1.8982813782525207\n",
      "0.0027913684701137893\n",
      "0.10621192864461532\n",
      "-2.9420090791638787\n"
     ]
    },
    {
     "name": "stderr",
     "output_type": "stream",
     "text": [
      "\r",
      " 76%|████████████████████████████████████████████████████████████▊                   | 216/284 [02:01<00:45,  1.48it/s]"
     ]
    },
    {
     "name": "stdout",
     "output_type": "stream",
     "text": [
      "-0.0009681056962925719\n",
      "0.017279226475423893\n",
      "-6.450936627327443\n"
     ]
    },
    {
     "name": "stderr",
     "output_type": "stream",
     "text": [
      "\r",
      " 76%|█████████████████████████████████████████████████████████████▏                  | 217/284 [02:02<00:55,  1.21it/s]"
     ]
    },
    {
     "name": "stdout",
     "output_type": "stream",
     "text": [
      "-0.000276015876831769\n",
      "0.017097328603843043\n",
      "-2.3863265665923805\n"
     ]
    },
    {
     "name": "stderr",
     "output_type": "stream",
     "text": [
      "\r",
      " 77%|█████████████████████████████████████████████████████████████▍                  | 218/284 [02:03<00:53,  1.23it/s]"
     ]
    },
    {
     "name": "stdout",
     "output_type": "stream",
     "text": [
      "-0.0002867390861307649\n",
      "0.023984918672906683\n",
      "-3.530372316782399\n"
     ]
    },
    {
     "name": "stderr",
     "output_type": "stream",
     "text": [
      "\r",
      " 77%|█████████████████████████████████████████████████████████████▋                  | 219/284 [02:04<01:02,  1.03it/s]"
     ]
    },
    {
     "name": "stdout",
     "output_type": "stream",
     "text": [
      "-0.0005495025293206318\n",
      "0.01704620013152933\n",
      "-9.743877226638638\n"
     ]
    },
    {
     "name": "stderr",
     "output_type": "stream",
     "text": [
      "\r",
      " 77%|█████████████████████████████████████████████████████████████▉                  | 220/284 [02:04<00:51,  1.25it/s]"
     ]
    },
    {
     "name": "stdout",
     "output_type": "stream",
     "text": [
      "-0.00017583590154002704\n",
      "0.03617772843105427\n",
      "-8.701612789766791\n"
     ]
    },
    {
     "name": "stderr",
     "output_type": "stream",
     "text": [
      "\r",
      " 78%|██████████████████████████████████████████████████████████████▎                 | 221/284 [02:06<01:01,  1.02it/s]"
     ]
    },
    {
     "name": "stdout",
     "output_type": "stream",
     "text": [
      "-0.001146768241532645\n",
      "0.016994380930178847\n",
      "-5.557238399311298\n"
     ]
    },
    {
     "name": "stderr",
     "output_type": "stream",
     "text": [
      "\r",
      " 78%|██████████████████████████████████████████████████████████████▌                 | 222/284 [02:07<01:08,  1.10s/it]"
     ]
    },
    {
     "name": "stdout",
     "output_type": "stream",
     "text": [
      "-0.0007491986933113305\n",
      "0.016723773687387644\n",
      "-8.791615086341428\n"
     ]
    },
    {
     "name": "stderr",
     "output_type": "stream",
     "text": [
      "\r",
      " 79%|██████████████████████████████████████████████████████████████▊                 | 223/284 [02:08<01:07,  1.10s/it]"
     ]
    },
    {
     "name": "stdout",
     "output_type": "stream",
     "text": [
      "0.0008897239449215436\n",
      "0.01893349309986156\n",
      "-6.08995115519059\n"
     ]
    },
    {
     "name": "stderr",
     "output_type": "stream",
     "text": [
      "\r",
      " 79%|███████████████████████████████████████████████████████████████                 | 224/284 [02:09<00:57,  1.05it/s]"
     ]
    },
    {
     "name": "stdout",
     "output_type": "stream",
     "text": [
      "-0.000285678647614701\n",
      "0.025846998486311886\n",
      "-2.6646832202921362\n",
      "nan\n",
      "nan\n",
      "nan\n"
     ]
    },
    {
     "name": "stderr",
     "output_type": "stream",
     "text": [
      "\r",
      " 80%|███████████████████████████████████████████████████████████████▋                | 226/284 [02:10<00:48,  1.19it/s]"
     ]
    },
    {
     "name": "stdout",
     "output_type": "stream",
     "text": [
      "-0.0008473766339816332\n",
      "0.01700049866395931\n",
      "-1.3280205892704557\n"
     ]
    },
    {
     "name": "stderr",
     "output_type": "stream",
     "text": [
      "\r",
      " 80%|███████████████████████████████████████████████████████████████▉                | 227/284 [02:12<00:54,  1.05it/s]"
     ]
    },
    {
     "name": "stdout",
     "output_type": "stream",
     "text": [
      "-3.75645210790089e-05\n",
      "0.01747138751558266\n",
      "-2.1131440962976207\n"
     ]
    },
    {
     "name": "stderr",
     "output_type": "stream",
     "text": [
      "\r",
      " 80%|████████████████████████████████████████████████████████████████▏               | 228/284 [02:13<00:59,  1.06s/it]"
     ]
    },
    {
     "name": "stdout",
     "output_type": "stream",
     "text": [
      "4.926698162577445e-06\n",
      "0.017573294851466727\n",
      "-6.536938325406949\n"
     ]
    },
    {
     "name": "stderr",
     "output_type": "stream",
     "text": [
      "\r",
      " 81%|████████████████████████████████████████████████████████████████▌               | 229/284 [02:13<00:47,  1.16it/s]"
     ]
    },
    {
     "name": "stdout",
     "output_type": "stream",
     "text": [
      "-3.827396783274398e-05\n",
      "0.03717933337242595\n",
      "-5.616755260983672\n"
     ]
    },
    {
     "name": "stderr",
     "output_type": "stream",
     "text": [
      "\r",
      " 81%|████████████████████████████████████████████████████████████████▊               | 230/284 [02:15<00:54,  1.01s/it]"
     ]
    },
    {
     "name": "stdout",
     "output_type": "stream",
     "text": [
      "0.0012325478401650693\n",
      "0.01697018494621955\n",
      "-6.147031922977748\n"
     ]
    },
    {
     "name": "stderr",
     "output_type": "stream",
     "text": [
      "\r",
      " 81%|█████████████████████████████████████████████████████████████████               | 231/284 [02:16<00:57,  1.09s/it]"
     ]
    },
    {
     "name": "stdout",
     "output_type": "stream",
     "text": [
      "8.42712719157862e-05\n",
      "0.017818906119957224\n",
      "-6.9363348203303214\n"
     ]
    },
    {
     "name": "stderr",
     "output_type": "stream",
     "text": [
      "\r",
      " 82%|█████████████████████████████████████████████████████████████████▎              | 232/284 [02:16<00:45,  1.15it/s]"
     ]
    },
    {
     "name": "stdout",
     "output_type": "stream",
     "text": [
      "0.0026209099080136264\n",
      "0.036294761791582114\n",
      "1.2728487864470845\n"
     ]
    },
    {
     "name": "stderr",
     "output_type": "stream",
     "text": [
      "\r",
      " 82%|█████████████████████████████████████████████████████████████████▋              | 233/284 [02:18<00:50,  1.02it/s]"
     ]
    },
    {
     "name": "stdout",
     "output_type": "stream",
     "text": [
      "0.0005971168270910489\n",
      "0.01779958107173618\n",
      "-0.8949253034708095\n"
     ]
    },
    {
     "name": "stderr",
     "output_type": "stream",
     "text": [
      "\r",
      " 82%|█████████████████████████████████████████████████████████████████▉              | 234/284 [02:19<00:48,  1.04it/s]"
     ]
    },
    {
     "name": "stdout",
     "output_type": "stream",
     "text": [
      "0.0005700485366769238\n",
      "0.020718279445380648\n",
      "-7.5407394201716365\n"
     ]
    },
    {
     "name": "stderr",
     "output_type": "stream",
     "text": [
      "\r",
      " 83%|██████████████████████████████████████████████████████████████████▏             | 235/284 [02:19<00:38,  1.29it/s]"
     ]
    },
    {
     "name": "stdout",
     "output_type": "stream",
     "text": [
      "0.0006738480002283611\n",
      "0.037453295028480264\n",
      "-5.155972143972712\n"
     ]
    },
    {
     "name": "stderr",
     "output_type": "stream",
     "text": [
      "\r",
      " 83%|██████████████████████████████████████████████████████████████████▍             | 236/284 [02:19<00:31,  1.55it/s]"
     ]
    },
    {
     "name": "stdout",
     "output_type": "stream",
     "text": [
      "-0.0007074979906757943\n",
      "0.0362109002203029\n",
      "-5.337484634192674\n"
     ]
    },
    {
     "name": "stderr",
     "output_type": "stream",
     "text": [
      "\r",
      " 83%|██████████████████████████████████████████████████████████████████▊             | 237/284 [02:20<00:32,  1.45it/s]"
     ]
    },
    {
     "name": "stdout",
     "output_type": "stream",
     "text": [
      "-4.478109318105028e-05\n",
      "0.023104713522474264\n",
      "-6.469629177775724\n"
     ]
    },
    {
     "name": "stderr",
     "output_type": "stream",
     "text": [
      "\r",
      " 84%|███████████████████████████████████████████████████████████████████             | 238/284 [02:20<00:26,  1.72it/s]"
     ]
    },
    {
     "name": "stdout",
     "output_type": "stream",
     "text": [
      "-0.0016991018501967495\n",
      "0.03779907279943422\n",
      "-0.6928398908417709\n"
     ]
    },
    {
     "name": "stderr",
     "output_type": "stream",
     "text": [
      " 85%|███████████████████████████████████████████████████████████████████▌            | 240/284 [02:22<00:27,  1.58it/s]"
     ]
    },
    {
     "name": "stdout",
     "output_type": "stream",
     "text": [
      "-0.0008469504529330007\n",
      "0.016666579208664344\n",
      "-3.0745815405145334\n",
      "-0.0033962463257472654\n",
      "0.051967740633483694\n",
      "1.5757597362578997\n"
     ]
    },
    {
     "name": "stderr",
     "output_type": "stream",
     "text": [
      "\r",
      " 85%|███████████████████████████████████████████████████████████████████▉            | 241/284 [02:23<00:37,  1.14it/s]"
     ]
    },
    {
     "name": "stdout",
     "output_type": "stream",
     "text": [
      "-0.00015077704206108999\n",
      "0.016342066221393538\n",
      "-5.887834640389822\n"
     ]
    },
    {
     "name": "stderr",
     "output_type": "stream",
     "text": [
      "\r",
      " 85%|████████████████████████████████████████████████████████████████████▏           | 242/284 [02:25<00:43,  1.03s/it]"
     ]
    },
    {
     "name": "stdout",
     "output_type": "stream",
     "text": [
      "0.0003124595096530203\n",
      "0.01759427479596266\n",
      "-5.979577160050412\n"
     ]
    },
    {
     "name": "stderr",
     "output_type": "stream",
     "text": [
      "\r",
      " 86%|████████████████████████████████████████████████████████████████████▍           | 243/284 [02:26<00:46,  1.14s/it]"
     ]
    },
    {
     "name": "stdout",
     "output_type": "stream",
     "text": [
      "0.00032525198225274315\n",
      "0.01656996158100838\n",
      "1.5201351980532616\n"
     ]
    },
    {
     "name": "stderr",
     "output_type": "stream",
     "text": [
      "\r",
      " 86%|████████████████████████████████████████████████████████████████████▋           | 244/284 [02:27<00:35,  1.12it/s]"
     ]
    },
    {
     "name": "stdout",
     "output_type": "stream",
     "text": [
      "0.00019308344729691604\n",
      "0.03739961036314321\n",
      "-2.8807340856748493\n"
     ]
    },
    {
     "name": "stderr",
     "output_type": "stream",
     "text": [
      "\r",
      " 86%|█████████████████████████████████████████████████████████████████████           | 245/284 [02:27<00:28,  1.39it/s]"
     ]
    },
    {
     "name": "stdout",
     "output_type": "stream",
     "text": [
      "-0.0013166224845777214\n",
      "0.037542651011150605\n",
      "-2.838181339207803\n"
     ]
    },
    {
     "name": "stderr",
     "output_type": "stream",
     "text": [
      "\r",
      " 87%|█████████████████████████████████████████████████████████████████████▎          | 246/284 [02:27<00:22,  1.66it/s]"
     ]
    },
    {
     "name": "stdout",
     "output_type": "stream",
     "text": [
      "-0.0018317765859181877\n",
      "0.036705128420055744\n",
      "-7.180541453920312\n"
     ]
    },
    {
     "name": "stderr",
     "output_type": "stream",
     "text": [
      "\r",
      " 87%|█████████████████████████████████████████████████████████████████████▌          | 247/284 [02:27<00:19,  1.91it/s]"
     ]
    },
    {
     "name": "stdout",
     "output_type": "stream",
     "text": [
      "0.0001861384522257574\n",
      "0.03660188453148533\n",
      "-3.0408939688835064\n"
     ]
    },
    {
     "name": "stderr",
     "output_type": "stream",
     "text": [
      "\r",
      " 87%|█████████████████████████████████████████████████████████████████████▊          | 248/284 [02:29<00:28,  1.25it/s]"
     ]
    },
    {
     "name": "stdout",
     "output_type": "stream",
     "text": [
      "-0.0005728378732639656\n",
      "0.01700662626575809\n",
      "-6.605385618139481\n"
     ]
    },
    {
     "name": "stderr",
     "output_type": "stream",
     "text": [
      "\r",
      " 88%|██████████████████████████████████████████████████████████████████████▏         | 249/284 [02:29<00:23,  1.52it/s]"
     ]
    },
    {
     "name": "stdout",
     "output_type": "stream",
     "text": [
      "0.0013137047997926613\n",
      "0.03692998968784224\n",
      "-3.7277012913030596\n"
     ]
    },
    {
     "name": "stderr",
     "output_type": "stream",
     "text": [
      "\r",
      " 88%|██████████████████████████████████████████████████████████████████████▍         | 250/284 [02:31<00:30,  1.12it/s]"
     ]
    },
    {
     "name": "stdout",
     "output_type": "stream",
     "text": [
      "0.0005878554279311435\n",
      "0.01748508642420113\n",
      "1.853814391702785\n"
     ]
    },
    {
     "name": "stderr",
     "output_type": "stream",
     "text": [
      "\r",
      " 88%|██████████████████████████████████████████████████████████████████████▋         | 251/284 [02:31<00:23,  1.42it/s]"
     ]
    },
    {
     "name": "stdout",
     "output_type": "stream",
     "text": [
      "0.00016133753529076633\n",
      "0.04115086361866365\n",
      "-3.8656090922578086\n"
     ]
    },
    {
     "name": "stderr",
     "output_type": "stream",
     "text": [
      "\r",
      " 89%|██████████████████████████████████████████████████████████████████████▉         | 252/284 [02:31<00:19,  1.67it/s]"
     ]
    },
    {
     "name": "stdout",
     "output_type": "stream",
     "text": [
      "0.0012415419246725658\n",
      "0.03748122621831836\n",
      "-0.025076928265116087\n"
     ]
    },
    {
     "name": "stderr",
     "output_type": "stream",
     "text": [
      "\r",
      " 89%|███████████████████████████████████████████████████████████████████████▎        | 253/284 [02:33<00:26,  1.18it/s]"
     ]
    },
    {
     "name": "stdout",
     "output_type": "stream",
     "text": [
      "-0.0007607797208572627\n",
      "0.016593333363411997\n",
      "-1.2435889049053916\n"
     ]
    },
    {
     "name": "stderr",
     "output_type": "stream",
     "text": [
      "\r",
      " 89%|███████████████████████████████████████████████████████████████████████▌        | 254/284 [02:34<00:30,  1.03s/it]"
     ]
    },
    {
     "name": "stdout",
     "output_type": "stream",
     "text": [
      "2.9157050045767795e-05\n",
      "0.016136575150707225\n",
      "0.7304866353082482\n"
     ]
    },
    {
     "name": "stderr",
     "output_type": "stream",
     "text": [
      "\r",
      " 90%|███████████████████████████████████████████████████████████████████████▊        | 255/284 [02:35<00:31,  1.09s/it]"
     ]
    },
    {
     "name": "stdout",
     "output_type": "stream",
     "text": [
      "-8.093753198298082e-06\n",
      "0.018573024317697518\n",
      "-3.942010004349132\n"
     ]
    },
    {
     "name": "stderr",
     "output_type": "stream",
     "text": [
      "\r",
      " 90%|████████████████████████████████████████████████████████████████████████        | 256/284 [02:36<00:28,  1.01s/it]"
     ]
    },
    {
     "name": "stdout",
     "output_type": "stream",
     "text": [
      "0.0002584099626468716\n",
      "0.022896823817516572\n",
      "-0.056745382193613275\n"
     ]
    },
    {
     "name": "stderr",
     "output_type": "stream",
     "text": [
      " 91%|████████████████████████████████████████████████████████████████████████▋       | 258/284 [02:37<00:16,  1.57it/s]"
     ]
    },
    {
     "name": "stdout",
     "output_type": "stream",
     "text": [
      "0.0009893333894526704\n",
      "0.03303891281380002\n",
      "-4.336551294580641\n",
      "0.00015082224154764235\n",
      "0.05347101219885319\n",
      "-1.6565924372217495\n"
     ]
    },
    {
     "name": "stderr",
     "output_type": "stream",
     "text": [
      "\r",
      " 91%|████████████████████████████████████████████████████████████████████████▉       | 259/284 [02:37<00:13,  1.83it/s]"
     ]
    },
    {
     "name": "stdout",
     "output_type": "stream",
     "text": [
      "-0.0001007326270459255\n",
      "0.03754030694830149\n",
      "-2.5608503701961\n"
     ]
    },
    {
     "name": "stderr",
     "output_type": "stream",
     "text": [
      "\r",
      " 92%|█████████████████████████████████████████████████████████████████████████▏      | 260/284 [02:38<00:16,  1.45it/s]"
     ]
    },
    {
     "name": "stdout",
     "output_type": "stream",
     "text": [
      "-0.0009808158556346743\n",
      "0.019214599305342164\n",
      "-0.8646901537780124\n"
     ]
    },
    {
     "name": "stderr",
     "output_type": "stream",
     "text": [
      "\r",
      " 92%|█████████████████████████████████████████████████████████████████████████▌      | 261/284 [02:39<00:18,  1.24it/s]"
     ]
    },
    {
     "name": "stdout",
     "output_type": "stream",
     "text": [
      "-0.00010997122268187109\n",
      "0.020142075859185354\n",
      "-2.109982129149545\n"
     ]
    },
    {
     "name": "stderr",
     "output_type": "stream",
     "text": [
      "\r",
      " 92%|█████████████████████████████████████████████████████████████████████████▊      | 262/284 [02:41<00:21,  1.04it/s]"
     ]
    },
    {
     "name": "stdout",
     "output_type": "stream",
     "text": [
      "-0.0002631250271868928\n",
      "0.017704461990173878\n",
      "-3.1059209110763106\n"
     ]
    },
    {
     "name": "stderr",
     "output_type": "stream",
     "text": [
      "\r",
      " 93%|██████████████████████████████████████████████████████████████████████████      | 263/284 [02:41<00:17,  1.20it/s]"
     ]
    },
    {
     "name": "stdout",
     "output_type": "stream",
     "text": [
      "-4.3046694965118453e-05\n",
      "0.030073712452154008\n",
      "-0.49458295553608483\n",
      "nan\n",
      "nan\n",
      "nan\n",
      "0.0018331178276088107\n",
      "0.0972955910272592\n",
      "-5.34370492100986\n"
     ]
    },
    {
     "name": "stderr",
     "output_type": "stream",
     "text": [
      "\r",
      " 94%|██████████████████████████████████████████████████████████████████████████▉     | 266/284 [02:42<00:07,  2.26it/s]"
     ]
    },
    {
     "name": "stdout",
     "output_type": "stream",
     "text": [
      "0.0022958971687278983\n",
      "0.038071405110879045\n",
      "-2.74335620040736\n"
     ]
    },
    {
     "name": "stderr",
     "output_type": "stream",
     "text": [
      "\r",
      " 94%|███████████████████████████████████████████████████████████████████████████▏    | 267/284 [02:42<00:07,  2.41it/s]"
     ]
    },
    {
     "name": "stdout",
     "output_type": "stream",
     "text": [
      "-0.0008876226602611166\n",
      "0.03699379154999864\n",
      "-8.959726558076639\n"
     ]
    },
    {
     "name": "stderr",
     "output_type": "stream",
     "text": [
      "\r",
      " 94%|███████████████████████████████████████████████████████████████████████████▍    | 268/284 [02:43<00:10,  1.53it/s]"
     ]
    },
    {
     "name": "stdout",
     "output_type": "stream",
     "text": [
      "0.0001798263778689756\n",
      "0.016383191253575635\n",
      "-3.4823904470828384\n"
     ]
    },
    {
     "name": "stderr",
     "output_type": "stream",
     "text": [
      " 95%|████████████████████████████████████████████████████████████████████████████▎   | 271/284 [02:45<00:06,  1.94it/s]"
     ]
    },
    {
     "name": "stdout",
     "output_type": "stream",
     "text": [
      "-0.0006020513003557252\n",
      "0.01702152926684648\n",
      "2.5571457365771963\n",
      "-0.0028660797100192275\n",
      "0.13792577114320217\n",
      "-2.030392408988844\n",
      "0.002042032255350145\n",
      "0.09896193897580519\n",
      "-2.9938917148114603\n"
     ]
    },
    {
     "name": "stderr",
     "output_type": "stream",
     "text": [
      "\r",
      " 96%|████████████████████████████████████████████████████████████████████████████▌   | 272/284 [02:46<00:08,  1.40it/s]"
     ]
    },
    {
     "name": "stdout",
     "output_type": "stream",
     "text": [
      "-0.00020626931231218848\n",
      "0.01640801054755727\n",
      "-1.3183815722381933\n"
     ]
    },
    {
     "name": "stderr",
     "output_type": "stream",
     "text": [
      "\r",
      " 96%|████████████████████████████████████████████████████████████████████████████▉   | 273/284 [02:47<00:06,  1.62it/s]"
     ]
    },
    {
     "name": "stdout",
     "output_type": "stream",
     "text": [
      "-0.0006036870263005308\n",
      "0.03791361175844034\n",
      "-1.586993747606068\n"
     ]
    },
    {
     "name": "stderr",
     "output_type": "stream",
     "text": [
      "\r",
      " 96%|█████████████████████████████████████████████████████████████████████████████▏  | 274/284 [02:47<00:05,  1.84it/s]"
     ]
    },
    {
     "name": "stdout",
     "output_type": "stream",
     "text": [
      "0.00034719568767498245\n",
      "0.038786029144394794\n",
      "-10.515410483131262\n"
     ]
    },
    {
     "name": "stderr",
     "output_type": "stream",
     "text": [
      "\r",
      " 97%|█████████████████████████████████████████████████████████████████████████████▍  | 275/284 [02:48<00:07,  1.28it/s]"
     ]
    },
    {
     "name": "stdout",
     "output_type": "stream",
     "text": [
      "-0.00040733838071878645\n",
      "0.01703469351037764\n",
      "-4.515549731152025\n"
     ]
    },
    {
     "name": "stderr",
     "output_type": "stream",
     "text": [
      "\r",
      " 97%|█████████████████████████████████████████████████████████████████████████████▋  | 276/284 [02:49<00:05,  1.59it/s]"
     ]
    },
    {
     "name": "stdout",
     "output_type": "stream",
     "text": [
      "0.0011704023715475129\n",
      "0.046160829492435614\n",
      "-3.591454176977366\n"
     ]
    },
    {
     "name": "stderr",
     "output_type": "stream",
     "text": [
      "\r",
      " 98%|██████████████████████████████████████████████████████████████████████████████  | 277/284 [02:50<00:05,  1.18it/s]"
     ]
    },
    {
     "name": "stdout",
     "output_type": "stream",
     "text": [
      "0.000597756895521751\n",
      "0.016488536688110116\n",
      "-1.1003170152975998\n"
     ]
    },
    {
     "name": "stderr",
     "output_type": "stream",
     "text": [
      "\r",
      " 98%|██████████████████████████████████████████████████████████████████████████████▎ | 278/284 [02:51<00:06,  1.01s/it]"
     ]
    },
    {
     "name": "stdout",
     "output_type": "stream",
     "text": [
      "-0.00020997038038867767\n",
      "0.01673315563524398\n",
      "-2.245856598169602\n"
     ]
    },
    {
     "name": "stderr",
     "output_type": "stream",
     "text": [
      "\r",
      " 98%|██████████████████████████████████████████████████████████████████████████████▌ | 279/284 [02:52<00:04,  1.24it/s]"
     ]
    },
    {
     "name": "stdout",
     "output_type": "stream",
     "text": [
      "0.00037158913505175154\n",
      "0.03842191926611699\n",
      "0.40361217571484254\n"
     ]
    },
    {
     "name": "stderr",
     "output_type": "stream",
     "text": [
      "\r",
      " 99%|██████████████████████████████████████████████████████████████████████████████▊ | 280/284 [02:52<00:02,  1.49it/s]"
     ]
    },
    {
     "name": "stdout",
     "output_type": "stream",
     "text": [
      "3.447877877989336e-05\n",
      "0.03732966851808878\n",
      "-4.341121719198035\n"
     ]
    },
    {
     "name": "stderr",
     "output_type": "stream",
     "text": [
      " 99%|███████████████████████████████████████████████████████████████████████████████▍| 282/284 [02:53<00:01,  1.73it/s]"
     ]
    },
    {
     "name": "stdout",
     "output_type": "stream",
     "text": [
      "nan\n",
      "nan\n",
      "nan\n",
      "0.001211783332459516\n",
      "0.024712393489192325\n",
      "-1.3928918280976863\n"
     ]
    },
    {
     "name": "stderr",
     "output_type": "stream",
     "text": [
      "\r",
      "100%|███████████████████████████████████████████████████████████████████████████████▋| 283/284 [02:53<00:00,  1.99it/s]"
     ]
    },
    {
     "name": "stdout",
     "output_type": "stream",
     "text": [
      "-0.0005504066824732809\n",
      "0.038829492433857714\n",
      "-0.25466053968516766\n"
     ]
    },
    {
     "name": "stderr",
     "output_type": "stream",
     "text": [
      "100%|████████████████████████████████████████████████████████████████████████████████| 284/284 [02:53<00:00,  1.63it/s]\n"
     ]
    },
    {
     "name": "stdout",
     "output_type": "stream",
     "text": [
      "0.0010811685101552472\n",
      "0.04264949030768124\n",
      "1.0191635695363763\n"
     ]
    },
    {
     "name": "stderr",
     "output_type": "stream",
     "text": [
      "  1%|▊                                                                                 | 1/105 [00:00<01:21,  1.28it/s]"
     ]
    },
    {
     "name": "stdout",
     "output_type": "stream",
     "text": [
      "-0.0005963745509399073\n",
      "0.02259656258302724\n",
      "-2.4115525158814832\n"
     ]
    },
    {
     "name": "stderr",
     "output_type": "stream",
     "text": [
      "\r",
      "  2%|█▌                                                                                | 2/105 [00:01<01:22,  1.25it/s]"
     ]
    },
    {
     "name": "stdout",
     "output_type": "stream",
     "text": [
      "-0.0011807625551514863\n",
      "0.023660133044240344\n",
      "-0.3765144109246675\n"
     ]
    },
    {
     "name": "stderr",
     "output_type": "stream",
     "text": [
      "  4%|███                                                                               | 4/105 [00:02<00:52,  1.93it/s]"
     ]
    },
    {
     "name": "stdout",
     "output_type": "stream",
     "text": [
      "-0.0003543462496665091\n",
      "0.02570121748532456\n",
      "-6.672210150841554\n",
      "0.0008679572880487911\n",
      "0.053503288285472836\n",
      "-3.32332555839331\n"
     ]
    },
    {
     "name": "stderr",
     "output_type": "stream",
     "text": [
      "\r",
      "  5%|███▉                                                                              | 5/105 [00:02<00:45,  2.22it/s]"
     ]
    },
    {
     "name": "stdout",
     "output_type": "stream",
     "text": [
      "-0.0012936303710196872\n",
      "0.03799838285952689\n",
      "-2.2272701850241767\n"
     ]
    },
    {
     "name": "stderr",
     "output_type": "stream",
     "text": [
      "\r",
      "  6%|████▋                                                                             | 6/105 [00:04<01:17,  1.28it/s]"
     ]
    },
    {
     "name": "stdout",
     "output_type": "stream",
     "text": [
      "-0.0004573316618011191\n",
      "0.01668792693852925\n",
      "-5.930501780387286\n",
      "0.0035268005852927115\n",
      "0.12967864189786105\n",
      "-1.6095362192852074\n"
     ]
    },
    {
     "name": "stderr",
     "output_type": "stream",
     "text": [
      "\r",
      "  8%|██████▏                                                                           | 8/105 [00:05<01:05,  1.47it/s]"
     ]
    },
    {
     "name": "stdout",
     "output_type": "stream",
     "text": [
      "-0.0003213312087449954\n",
      "0.01901629925852012\n",
      "-1.6632400818230624\n"
     ]
    },
    {
     "name": "stderr",
     "output_type": "stream",
     "text": [
      "\r",
      "  9%|███████                                                                           | 9/105 [00:06<01:22,  1.16it/s]"
     ]
    },
    {
     "name": "stdout",
     "output_type": "stream",
     "text": [
      "0.00015231381944233628\n",
      "0.016918739385193504\n",
      "-2.615853071137726\n"
     ]
    },
    {
     "name": "stderr",
     "output_type": "stream",
     "text": [
      " 10%|████████▍                                                                        | 11/105 [00:07<00:53,  1.75it/s]"
     ]
    },
    {
     "name": "stdout",
     "output_type": "stream",
     "text": [
      "0.001712199522503183\n",
      "0.03623718650158877\n",
      "-2.224044444719914\n",
      "-0.0030626061472928397\n",
      "0.05343464636506709\n",
      "0.036574321721147725\n"
     ]
    },
    {
     "name": "stderr",
     "output_type": "stream",
     "text": [
      "\r",
      " 11%|█████████▎                                                                       | 12/105 [00:08<01:05,  1.41it/s]"
     ]
    },
    {
     "name": "stdout",
     "output_type": "stream",
     "text": [
      "0.0002895744071765266\n",
      "0.02046893047547221\n",
      "2.5283256528275664\n"
     ]
    },
    {
     "name": "stderr",
     "output_type": "stream",
     "text": [
      "\r",
      " 12%|██████████                                                                       | 13/105 [00:09<01:13,  1.25it/s]"
     ]
    },
    {
     "name": "stdout",
     "output_type": "stream",
     "text": [
      "-4.4673630543107355e-05\n",
      "0.020226425996625524\n",
      "-4.542578360031445\n"
     ]
    },
    {
     "name": "stderr",
     "output_type": "stream",
     "text": [
      "\r",
      " 13%|██████████▊                                                                      | 14/105 [00:10<01:17,  1.18it/s]"
     ]
    },
    {
     "name": "stdout",
     "output_type": "stream",
     "text": [
      "-0.000566473328378079\n",
      "0.021800879194238246\n",
      "-1.1822977915394992\n"
     ]
    },
    {
     "name": "stderr",
     "output_type": "stream",
     "text": [
      "\r",
      " 14%|███████████▌                                                                     | 15/105 [00:11<01:26,  1.04it/s]"
     ]
    },
    {
     "name": "stdout",
     "output_type": "stream",
     "text": [
      "0.00017125349027549938\n",
      "0.01833329532460785\n",
      "-0.16265179337562433\n"
     ]
    },
    {
     "name": "stderr",
     "output_type": "stream",
     "text": [
      "\r",
      " 15%|████████████▎                                                                    | 16/105 [00:12<01:21,  1.10it/s]"
     ]
    },
    {
     "name": "stdout",
     "output_type": "stream",
     "text": [
      "-0.00013328106193817552\n",
      "0.023239840155184637\n",
      "-2.140020455632133\n"
     ]
    },
    {
     "name": "stderr",
     "output_type": "stream",
     "text": [
      "\r",
      " 17%|█████████████▉                                                                   | 18/105 [00:12<00:54,  1.60it/s]"
     ]
    },
    {
     "name": "stdout",
     "output_type": "stream",
     "text": [
      "-0.0010656097992469582\n",
      "0.028659947064916418\n",
      "-2.807089367897742\n"
     ]
    },
    {
     "name": "stderr",
     "output_type": "stream",
     "text": [
      "\r",
      " 18%|██████████████▋                                                                  | 19/105 [00:13<00:51,  1.67it/s]"
     ]
    },
    {
     "name": "stdout",
     "output_type": "stream",
     "text": [
      "0.0005941498296838388\n",
      "0.029329127218224567\n",
      "1.7739318111673854\n"
     ]
    },
    {
     "name": "stderr",
     "output_type": "stream",
     "text": [
      "\r",
      " 19%|███████████████▍                                                                 | 20/105 [00:13<00:46,  1.81it/s]"
     ]
    },
    {
     "name": "stdout",
     "output_type": "stream",
     "text": [
      "-0.0006284491601331819\n",
      "0.033354200833831026\n",
      "2.6777798423544126\n"
     ]
    },
    {
     "name": "stderr",
     "output_type": "stream",
     "text": [
      "\r",
      " 20%|████████████████▏                                                                | 21/105 [00:15<01:07,  1.25it/s]"
     ]
    },
    {
     "name": "stdout",
     "output_type": "stream",
     "text": [
      "0.0007532429062932074\n",
      "0.01689569236808317\n",
      "-5.206377711553733\n",
      "nan\n",
      "nan\n",
      "nan\n"
     ]
    },
    {
     "name": "stderr",
     "output_type": "stream",
     "text": [
      "\r",
      " 22%|█████████████████▋                                                               | 23/105 [00:16<00:54,  1.51it/s]"
     ]
    },
    {
     "name": "stdout",
     "output_type": "stream",
     "text": [
      "-0.0001868947008473195\n",
      "0.021553449513928995\n",
      "-2.591037433184284\n"
     ]
    },
    {
     "name": "stderr",
     "output_type": "stream",
     "text": [
      "\r",
      " 23%|██████████████████▌                                                              | 24/105 [00:17<00:58,  1.38it/s]"
     ]
    },
    {
     "name": "stdout",
     "output_type": "stream",
     "text": [
      "-0.0002590456828747968\n",
      "0.02138638935889088\n",
      "-4.343311308803319\n"
     ]
    },
    {
     "name": "stderr",
     "output_type": "stream",
     "text": [
      "\r",
      " 24%|███████████████████▎                                                             | 25/105 [00:17<00:50,  1.58it/s]"
     ]
    },
    {
     "name": "stdout",
     "output_type": "stream",
     "text": [
      "-0.00047803413169754226\n",
      "0.03656226298669781\n",
      "-4.039798817928369\n"
     ]
    },
    {
     "name": "stderr",
     "output_type": "stream",
     "text": [
      "\r",
      " 25%|████████████████████                                                             | 26/105 [00:18<01:03,  1.25it/s]"
     ]
    },
    {
     "name": "stdout",
     "output_type": "stream",
     "text": [
      "0.0002243670106103129\n",
      "0.018769385146616337\n",
      "-5.017051954226871\n"
     ]
    },
    {
     "name": "stderr",
     "output_type": "stream",
     "text": [
      "\r",
      " 26%|████████████████████▊                                                            | 27/105 [00:19<00:59,  1.31it/s]"
     ]
    },
    {
     "name": "stdout",
     "output_type": "stream",
     "text": [
      "-0.0007187051707398601\n",
      "0.025201047379022755\n",
      "-3.3428850360256677\n"
     ]
    },
    {
     "name": "stderr",
     "output_type": "stream",
     "text": [
      "\r",
      " 27%|█████████████████████▌                                                           | 28/105 [00:20<00:59,  1.29it/s]"
     ]
    },
    {
     "name": "stdout",
     "output_type": "stream",
     "text": [
      "0.0004883756754591973\n",
      "0.022869581558125504\n",
      "-1.203383215807855\n"
     ]
    },
    {
     "name": "stderr",
     "output_type": "stream",
     "text": [
      "\r",
      " 28%|██████████████████████▎                                                          | 29/105 [00:21<01:12,  1.04it/s]"
     ]
    },
    {
     "name": "stdout",
     "output_type": "stream",
     "text": [
      "0.0011191763056800405\n",
      "0.016738115012475328\n",
      "-1.0272081858787363\n"
     ]
    },
    {
     "name": "stderr",
     "output_type": "stream",
     "text": [
      "\r",
      " 29%|███████████████████████▏                                                         | 30/105 [00:22<01:15,  1.00s/it]"
     ]
    },
    {
     "name": "stdout",
     "output_type": "stream",
     "text": [
      "-0.00033145830507837426\n",
      "0.01890606551850075\n",
      "-0.37195236275897864\n"
     ]
    },
    {
     "name": "stderr",
     "output_type": "stream",
     "text": [
      "\r",
      " 30%|███████████████████████▉                                                         | 31/105 [00:24<01:22,  1.11s/it]"
     ]
    },
    {
     "name": "stdout",
     "output_type": "stream",
     "text": [
      "-0.000559321238438669\n",
      "0.016524392591878597\n",
      "-3.646410586785958\n"
     ]
    },
    {
     "name": "stderr",
     "output_type": "stream",
     "text": [
      "\r",
      " 30%|████████████████████████▋                                                        | 32/105 [00:25<01:27,  1.20s/it]"
     ]
    },
    {
     "name": "stdout",
     "output_type": "stream",
     "text": [
      "0.00022593179221661324\n",
      "0.015939321779061436\n",
      "-0.984888260513196\n"
     ]
    },
    {
     "name": "stderr",
     "output_type": "stream",
     "text": [
      "\r",
      " 31%|█████████████████████████▍                                                       | 33/105 [00:26<01:20,  1.11s/it]"
     ]
    },
    {
     "name": "stdout",
     "output_type": "stream",
     "text": [
      "-0.0005415566258485209\n",
      "0.021253464877371654\n",
      "-3.910332487299068\n"
     ]
    },
    {
     "name": "stderr",
     "output_type": "stream",
     "text": [
      "\r",
      " 32%|██████████████████████████▏                                                      | 34/105 [00:27<01:25,  1.20s/it]"
     ]
    },
    {
     "name": "stdout",
     "output_type": "stream",
     "text": [
      "-0.00020732684801766206\n",
      "0.017194803620336128\n",
      "-0.6196790509223824\n"
     ]
    },
    {
     "name": "stderr",
     "output_type": "stream",
     "text": [
      "\r",
      " 33%|███████████████████████████                                                      | 35/105 [00:29<01:22,  1.18s/it]"
     ]
    },
    {
     "name": "stdout",
     "output_type": "stream",
     "text": [
      "0.0005737679013252515\n",
      "0.019706665492827045\n",
      "-4.587280218149321\n",
      "-0.003250623229997482\n",
      "0.1587418313543696\n",
      "-1.5134117547915416\n"
     ]
    },
    {
     "name": "stderr",
     "output_type": "stream",
     "text": [
      "\r",
      " 35%|████████████████████████████▌                                                    | 37/105 [00:30<01:04,  1.06it/s]"
     ]
    },
    {
     "name": "stdout",
     "output_type": "stream",
     "text": [
      "5.3506899447909815e-05\n",
      "0.017732811181258364\n",
      "-3.311507674240179\n"
     ]
    },
    {
     "name": "stderr",
     "output_type": "stream",
     "text": [
      "\r",
      " 36%|█████████████████████████████▎                                                   | 38/105 [00:31<01:11,  1.06s/it]"
     ]
    },
    {
     "name": "stdout",
     "output_type": "stream",
     "text": [
      "-0.000799062393058844\n",
      "0.01703128853907352\n",
      "-7.032324156080003\n"
     ]
    },
    {
     "name": "stderr",
     "output_type": "stream",
     "text": [
      "\r",
      " 37%|██████████████████████████████                                                   | 39/105 [00:33<01:16,  1.15s/it]"
     ]
    },
    {
     "name": "stdout",
     "output_type": "stream",
     "text": [
      "-0.0002617102377973098\n",
      "0.016807407541449017\n",
      "0.12587646835639849\n"
     ]
    },
    {
     "name": "stderr",
     "output_type": "stream",
     "text": [
      "\r",
      " 39%|███████████████████████████████▋                                                 | 41/105 [00:33<00:45,  1.41it/s]"
     ]
    },
    {
     "name": "stdout",
     "output_type": "stream",
     "text": [
      "-0.0015984532972647724\n",
      "0.045397457170287085\n",
      "-1.1764570349591623\n"
     ]
    },
    {
     "name": "stderr",
     "output_type": "stream",
     "text": [
      " 41%|█████████████████████████████████▏                                               | 43/105 [00:34<00:34,  1.80it/s]"
     ]
    },
    {
     "name": "stdout",
     "output_type": "stream",
     "text": [
      "0.0006192091859674405\n",
      "0.026201612833714187\n",
      "-1.5996481989558349\n",
      "0.001607342473601591\n",
      "0.06633830639844158\n",
      "-1.101988788965946\n",
      "-0.0004883185210224334\n",
      "0.12043468985915876\n",
      "-1.7879346475540554\n"
     ]
    },
    {
     "name": "stderr",
     "output_type": "stream",
     "text": [
      "\r",
      " 43%|██████████████████████████████████▋                                              | 45/105 [00:34<00:24,  2.44it/s]"
     ]
    },
    {
     "name": "stdout",
     "output_type": "stream",
     "text": [
      "-0.0010293496876292107\n",
      "0.03581164068354833\n",
      "1.1780344418419855\n"
     ]
    },
    {
     "name": "stderr",
     "output_type": "stream",
     "text": [
      "\r",
      " 44%|███████████████████████████████████▍                                             | 46/105 [00:36<00:37,  1.55it/s]"
     ]
    },
    {
     "name": "stdout",
     "output_type": "stream",
     "text": [
      "-0.0004984952963890927\n",
      "0.01673457034813837\n",
      "-4.2769528017077\n"
     ]
    },
    {
     "name": "stderr",
     "output_type": "stream",
     "text": [
      "\r",
      " 45%|████████████████████████████████████▎                                            | 47/105 [00:36<00:36,  1.60it/s]"
     ]
    },
    {
     "name": "stdout",
     "output_type": "stream",
     "text": [
      "0.00029726803770834296\n",
      "0.02803985628596368\n",
      "-3.551094828496579\n"
     ]
    },
    {
     "name": "stderr",
     "output_type": "stream",
     "text": [
      "\r",
      " 46%|█████████████████████████████████████                                            | 48/105 [00:37<00:36,  1.55it/s]"
     ]
    },
    {
     "name": "stdout",
     "output_type": "stream",
     "text": [
      "0.0003777077908772701\n",
      "0.025074416210313484\n",
      "0.01597678107425378\n"
     ]
    },
    {
     "name": "stderr",
     "output_type": "stream",
     "text": [
      "\r",
      " 47%|█████████████████████████████████████▊                                           | 49/105 [00:38<00:38,  1.44it/s]"
     ]
    },
    {
     "name": "stdout",
     "output_type": "stream",
     "text": [
      "0.0003750100434769448\n",
      "0.022692965737990272\n",
      "-2.977061447427837\n"
     ]
    },
    {
     "name": "stderr",
     "output_type": "stream",
     "text": [
      "\r",
      " 49%|███████████████████████████████████████▎                                         | 51/105 [00:38<00:24,  2.23it/s]"
     ]
    },
    {
     "name": "stdout",
     "output_type": "stream",
     "text": [
      "0.0008370003370875372\n",
      "0.041805425400364866\n",
      "-4.008022542268692\n"
     ]
    },
    {
     "name": "stderr",
     "output_type": "stream",
     "text": [
      "\r",
      " 50%|████████████████████████████████████████                                         | 52/105 [00:39<00:28,  1.89it/s]"
     ]
    },
    {
     "name": "stdout",
     "output_type": "stream",
     "text": [
      "-0.0002806693061934194\n",
      "0.02276074515848137\n",
      "-4.749363611305052\n",
      "0.00387729612730473\n",
      "0.08695043566435375\n",
      "-1.6965458570690997\n"
     ]
    },
    {
     "name": "stderr",
     "output_type": "stream",
     "text": [
      "\r",
      " 51%|█████████████████████████████████████████▋                                       | 54/105 [00:39<00:18,  2.71it/s]"
     ]
    },
    {
     "name": "stdout",
     "output_type": "stream",
     "text": [
      "0.0010228785436940191\n",
      "0.05009582041337832\n",
      "-1.587056244252355\n"
     ]
    },
    {
     "name": "stderr",
     "output_type": "stream",
     "text": [
      "\r",
      " 52%|██████████████████████████████████████████▍                                      | 55/105 [00:39<00:17,  2.82it/s]"
     ]
    },
    {
     "name": "stdout",
     "output_type": "stream",
     "text": [
      "-0.00011482381270155407\n",
      "0.040251692100212955\n",
      "-3.1894443253827984\n"
     ]
    },
    {
     "name": "stderr",
     "output_type": "stream",
     "text": [
      "\r",
      " 53%|███████████████████████████████████████████▏                                     | 56/105 [00:41<00:30,  1.60it/s]"
     ]
    },
    {
     "name": "stdout",
     "output_type": "stream",
     "text": [
      "0.00014248760127363568\n",
      "0.017160189087814155\n",
      "-2.5816460515583866\n"
     ]
    },
    {
     "name": "stderr",
     "output_type": "stream",
     "text": [
      "\r",
      " 54%|███████████████████████████████████████████▉                                     | 57/105 [00:42<00:37,  1.27it/s]"
     ]
    },
    {
     "name": "stdout",
     "output_type": "stream",
     "text": [
      "-0.0009819899743740766\n",
      "0.018023781634346304\n",
      "-2.838988162268651\n"
     ]
    },
    {
     "name": "stderr",
     "output_type": "stream",
     "text": [
      "\r",
      " 55%|████████████████████████████████████████████▋                                    | 58/105 [00:43<00:36,  1.28it/s]"
     ]
    },
    {
     "name": "stdout",
     "output_type": "stream",
     "text": [
      "-0.00024149663785262793\n",
      "0.02317540071715038\n",
      "-1.9383102934739425\n"
     ]
    },
    {
     "name": "stderr",
     "output_type": "stream",
     "text": [
      " 57%|██████████████████████████████████████████████▎                                  | 60/105 [00:44<00:27,  1.62it/s]"
     ]
    },
    {
     "name": "stdout",
     "output_type": "stream",
     "text": [
      "-0.0013607881438921848\n",
      "0.024165407682981102\n",
      "-3.7271411274169672\n",
      "0.0023007111198530645\n",
      "0.054975943514478695\n",
      "-1.8354582845248693\n"
     ]
    },
    {
     "name": "stderr",
     "output_type": "stream",
     "text": [
      "\r",
      " 58%|███████████████████████████████████████████████                                  | 61/105 [00:44<00:26,  1.66it/s]"
     ]
    },
    {
     "name": "stdout",
     "output_type": "stream",
     "text": [
      "0.0012074789838644752\n",
      "0.028621503821964035\n",
      "-3.021466195546646\n"
     ]
    },
    {
     "name": "stderr",
     "output_type": "stream",
     "text": [
      "\r",
      " 59%|███████████████████████████████████████████████▊                                 | 62/105 [00:45<00:28,  1.52it/s]"
     ]
    },
    {
     "name": "stdout",
     "output_type": "stream",
     "text": [
      "0.0009065296369535496\n",
      "0.022465205599390366\n",
      "-1.7663115931218862\n"
     ]
    },
    {
     "name": "stderr",
     "output_type": "stream",
     "text": [
      "\r",
      " 60%|████████████████████████████████████████████████▌                                | 63/105 [00:46<00:29,  1.43it/s]"
     ]
    },
    {
     "name": "stdout",
     "output_type": "stream",
     "text": [
      "-0.0005113248480829147\n",
      "0.02312889940053432\n",
      "-3.332853304076833\n",
      "-0.0010526794491837244\n",
      "0.08302024358555789\n",
      "-0.3181815291109019\n"
     ]
    },
    {
     "name": "stderr",
     "output_type": "stream",
     "text": [
      "\r",
      " 62%|██████████████████████████████████████████████████▏                              | 65/105 [00:47<00:20,  1.92it/s]"
     ]
    },
    {
     "name": "stdout",
     "output_type": "stream",
     "text": [
      "0.0004514031564217462\n",
      "0.02795369162790143\n",
      "-4.579133041263223\n"
     ]
    },
    {
     "name": "stderr",
     "output_type": "stream",
     "text": [
      "\r",
      " 63%|██████████████████████████████████████████████████▉                              | 66/105 [00:48<00:28,  1.35it/s]"
     ]
    },
    {
     "name": "stdout",
     "output_type": "stream",
     "text": [
      "-0.0002031276157212355\n",
      "0.01644783210491491\n",
      "-2.9352134347306924\n"
     ]
    },
    {
     "name": "stderr",
     "output_type": "stream",
     "text": [
      "\r",
      " 64%|███████████████████████████████████████████████████▋                             | 67/105 [00:49<00:31,  1.21it/s]"
     ]
    },
    {
     "name": "stdout",
     "output_type": "stream",
     "text": [
      "0.0010843242944398681\n",
      "0.019536647456220118\n",
      "-0.6722812723219399\n"
     ]
    },
    {
     "name": "stderr",
     "output_type": "stream",
     "text": [
      "\r",
      " 65%|████████████████████████████████████████████████████▍                            | 68/105 [00:50<00:30,  1.23it/s]"
     ]
    },
    {
     "name": "stdout",
     "output_type": "stream",
     "text": [
      "0.00039112324689531425\n",
      "0.023937764866102298\n",
      "1.9413786450598116\n"
     ]
    },
    {
     "name": "stderr",
     "output_type": "stream",
     "text": [
      " 67%|██████████████████████████████████████████████████████                           | 70/105 [00:51<00:20,  1.74it/s]"
     ]
    },
    {
     "name": "stdout",
     "output_type": "stream",
     "text": [
      "-0.0006326972323348777\n",
      "0.02873976701376596\n",
      "0.5344661321269645\n",
      "-0.0003307276280943736\n",
      "0.052145115979801114\n",
      "-2.9626511982544037\n"
     ]
    },
    {
     "name": "stderr",
     "output_type": "stream",
     "text": [
      "\r",
      " 68%|██████████████████████████████████████████████████████▊                          | 71/105 [00:51<00:18,  1.88it/s]"
     ]
    },
    {
     "name": "stdout",
     "output_type": "stream",
     "text": [
      "0.0016492675691252806\n",
      "0.030993626747161808\n",
      "-6.1234758070400295\n"
     ]
    },
    {
     "name": "stderr",
     "output_type": "stream",
     "text": [
      "\r",
      " 69%|███████████████████████████████████████████████████████▌                         | 72/105 [00:52<00:19,  1.67it/s]"
     ]
    },
    {
     "name": "stdout",
     "output_type": "stream",
     "text": [
      "0.0006996195305945546\n",
      "0.023511633669364505\n",
      "-3.7293171913404115\n"
     ]
    },
    {
     "name": "stderr",
     "output_type": "stream",
     "text": [
      "\r",
      " 70%|████████████████████████████████████████████████████████▎                        | 73/105 [00:53<00:26,  1.20it/s]"
     ]
    },
    {
     "name": "stdout",
     "output_type": "stream",
     "text": [
      "-0.0005266187057359852\n",
      "0.016539488618645952\n",
      "-7.893566728566874\n"
     ]
    },
    {
     "name": "stderr",
     "output_type": "stream",
     "text": [
      "\r",
      " 70%|█████████████████████████████████████████████████████████                        | 74/105 [00:54<00:23,  1.33it/s]"
     ]
    },
    {
     "name": "stdout",
     "output_type": "stream",
     "text": [
      "0.0002129598447585298\n",
      "0.027572226009838052\n",
      "-5.159503066363556\n",
      "-0.003144569632490179\n",
      "0.05454309680821024\n"
     ]
    },
    {
     "name": "stderr",
     "output_type": "stream",
     "text": [
      " 72%|██████████████████████████████████████████████████████████▋                      | 76/105 [00:54<00:13,  2.15it/s]"
     ]
    },
    {
     "name": "stdout",
     "output_type": "stream",
     "text": [
      "-3.947326684267852\n",
      "-0.0020716662999503243\n",
      "0.05003204383650533\n",
      "0.727589584036236\n"
     ]
    },
    {
     "name": "stderr",
     "output_type": "stream",
     "text": [
      "\r",
      " 73%|███████████████████████████████████████████████████████████▍                     | 77/105 [00:55<00:13,  2.02it/s]"
     ]
    },
    {
     "name": "stdout",
     "output_type": "stream",
     "text": [
      "-0.0003579474023533698\n",
      "0.028003563984803848\n",
      "-4.137246822844642\n"
     ]
    },
    {
     "name": "stderr",
     "output_type": "stream",
     "text": [
      "\r",
      " 74%|████████████████████████████████████████████████████████████▏                    | 78/105 [00:56<00:21,  1.27it/s]"
     ]
    },
    {
     "name": "stdout",
     "output_type": "stream",
     "text": [
      "9.517545991449223e-05\n",
      "0.015994130245155943\n",
      "-3.410229746550196\n"
     ]
    },
    {
     "name": "stderr",
     "output_type": "stream",
     "text": [
      "\r",
      " 75%|████████████████████████████████████████████████████████████▉                    | 79/105 [00:57<00:25,  1.04it/s]"
     ]
    },
    {
     "name": "stdout",
     "output_type": "stream",
     "text": [
      "0.0004990718964669052\n",
      "0.017337192414746683\n",
      "-4.30287652078429\n"
     ]
    },
    {
     "name": "stderr",
     "output_type": "stream",
     "text": [
      "\r",
      " 76%|█████████████████████████████████████████████████████████████▋                   | 80/105 [00:58<00:22,  1.09it/s]"
     ]
    },
    {
     "name": "stdout",
     "output_type": "stream",
     "text": [
      "0.0009083460432023514\n",
      "0.02368295376495015\n",
      "-4.467446452380399\n"
     ]
    },
    {
     "name": "stderr",
     "output_type": "stream",
     "text": [
      "\r",
      " 77%|██████████████████████████████████████████████████████████████▍                  | 81/105 [00:59<00:17,  1.36it/s]"
     ]
    },
    {
     "name": "stdout",
     "output_type": "stream",
     "text": [
      "-0.0007715627506411919\n",
      "0.03667547589859823\n",
      "-0.9291129202328188\n"
     ]
    },
    {
     "name": "stderr",
     "output_type": "stream",
     "text": [
      "\r",
      " 78%|███████████████████████████████████████████████████████████████▎                 | 82/105 [00:59<00:17,  1.33it/s]"
     ]
    },
    {
     "name": "stdout",
     "output_type": "stream",
     "text": [
      "0.0008479303096574811\n",
      "0.022821296371270876\n",
      "-2.895206566611325\n"
     ]
    },
    {
     "name": "stderr",
     "output_type": "stream",
     "text": [
      "\r",
      " 79%|████████████████████████████████████████████████████████████████                 | 83/105 [01:00<00:13,  1.58it/s]"
     ]
    },
    {
     "name": "stdout",
     "output_type": "stream",
     "text": [
      "0.001853987938276335\n",
      "0.03673599365520627\n",
      "-2.0751751216817285\n"
     ]
    },
    {
     "name": "stderr",
     "output_type": "stream",
     "text": [
      "\r",
      " 80%|████████████████████████████████████████████████████████████████▊                | 84/105 [01:00<00:11,  1.85it/s]"
     ]
    },
    {
     "name": "stdout",
     "output_type": "stream",
     "text": [
      "-0.0004725889832251088\n",
      "0.037226717228882066\n",
      "-0.9947301705506578\n"
     ]
    },
    {
     "name": "stderr",
     "output_type": "stream",
     "text": [
      "\r",
      " 81%|█████████████████████████████████████████████████████████████████▌               | 85/105 [01:01<00:10,  1.84it/s]"
     ]
    },
    {
     "name": "stdout",
     "output_type": "stream",
     "text": [
      "0.00036187212330392085\n",
      "0.027502287288827282\n",
      "-0.36790463229186077\n"
     ]
    },
    {
     "name": "stderr",
     "output_type": "stream",
     "text": [
      "\r",
      " 82%|██████████████████████████████████████████████████████████████████▎              | 86/105 [01:02<00:15,  1.23it/s]"
     ]
    },
    {
     "name": "stdout",
     "output_type": "stream",
     "text": [
      "2.3348610442622707e-05\n",
      "0.016375206431203233\n",
      "-5.752263886510715\n"
     ]
    },
    {
     "name": "stderr",
     "output_type": "stream",
     "text": [
      " 84%|███████████████████████████████████████████████████████████████████▉             | 88/105 [01:03<00:11,  1.46it/s]"
     ]
    },
    {
     "name": "stdout",
     "output_type": "stream",
     "text": [
      "0.0006170870556505462\n",
      "0.019397568793605997\n",
      "-3.054836712445072\n",
      "0.0014091163430158377\n",
      "0.050078156161944914\n",
      "-2.4427639266249694\n"
     ]
    },
    {
     "name": "stderr",
     "output_type": "stream",
     "text": [
      "\r",
      " 85%|████████████████████████████████████████████████████████████████████▋            | 89/105 [01:05<00:14,  1.10it/s]"
     ]
    },
    {
     "name": "stdout",
     "output_type": "stream",
     "text": [
      "0.0005736225064284085\n",
      "0.016391914766281483\n",
      "-5.6822223929490905\n"
     ]
    },
    {
     "name": "stderr",
     "output_type": "stream",
     "text": [
      "\r",
      " 86%|█████████████████████████████████████████████████████████████████████▍           | 90/105 [01:05<00:11,  1.36it/s]"
     ]
    },
    {
     "name": "stdout",
     "output_type": "stream",
     "text": [
      "0.0009556553707942648\n",
      "0.03788843886707626\n",
      "-0.07823691533272165\n"
     ]
    },
    {
     "name": "stderr",
     "output_type": "stream",
     "text": [
      "\r",
      " 87%|██████████████████████████████████████████████████████████████████████▏          | 91/105 [01:07<00:13,  1.04it/s]"
     ]
    },
    {
     "name": "stdout",
     "output_type": "stream",
     "text": [
      "0.0006650907532522384\n",
      "0.016489848348685443\n",
      "-8.57307745357263\n"
     ]
    },
    {
     "name": "stderr",
     "output_type": "stream",
     "text": [
      "\r",
      " 88%|██████████████████████████████████████████████████████████████████████▉          | 92/105 [01:08<00:13,  1.02s/it]"
     ]
    },
    {
     "name": "stdout",
     "output_type": "stream",
     "text": [
      "-0.0007272752455731751\n",
      "0.018657579566186647\n",
      "-7.584342658179764\n"
     ]
    },
    {
     "name": "stderr",
     "output_type": "stream",
     "text": [
      "\r",
      " 89%|███████████████████████████████████████████████████████████████████████▋         | 93/105 [01:09<00:11,  1.05it/s]"
     ]
    },
    {
     "name": "stdout",
     "output_type": "stream",
     "text": [
      "-0.0010205087336739409\n",
      "0.022527175454468116\n",
      "1.070917275739901\n"
     ]
    },
    {
     "name": "stderr",
     "output_type": "stream",
     "text": [
      "\r",
      " 90%|████████████████████████████████████████████████████████████████████████▌        | 94/105 [01:09<00:08,  1.31it/s]"
     ]
    },
    {
     "name": "stdout",
     "output_type": "stream",
     "text": [
      "-4.197357705311622e-05\n",
      "0.03859310250269996\n",
      "1.1176806534687709\n"
     ]
    },
    {
     "name": "stderr",
     "output_type": "stream",
     "text": [
      "\r",
      " 90%|█████████████████████████████████████████████████████████████████████████▎       | 95/105 [01:10<00:07,  1.30it/s]"
     ]
    },
    {
     "name": "stdout",
     "output_type": "stream",
     "text": [
      "0.0006975037202934123\n",
      "0.022344630368219622\n",
      "-1.641433249703914\n"
     ]
    },
    {
     "name": "stderr",
     "output_type": "stream",
     "text": [
      "\r",
      " 91%|██████████████████████████████████████████████████████████████████████████       | 96/105 [01:10<00:07,  1.28it/s]"
     ]
    },
    {
     "name": "stdout",
     "output_type": "stream",
     "text": [
      "0.001126971639254528\n",
      "0.02333393503485184\n",
      "1.554272781786165\n"
     ]
    },
    {
     "name": "stderr",
     "output_type": "stream",
     "text": [
      "\r",
      " 92%|██████████████████████████████████████████████████████████████████████████▊      | 97/105 [01:11<00:06,  1.28it/s]"
     ]
    },
    {
     "name": "stdout",
     "output_type": "stream",
     "text": [
      "0.0007535555010737684\n",
      "0.023217262275877688\n",
      "-2.809813799281114\n"
     ]
    },
    {
     "name": "stderr",
     "output_type": "stream",
     "text": [
      "\r",
      " 93%|███████████████████████████████████████████████████████████████████████████▌     | 98/105 [01:12<00:04,  1.55it/s]"
     ]
    },
    {
     "name": "stdout",
     "output_type": "stream",
     "text": [
      "0.00011020144279563887\n",
      "0.03883474949356999\n",
      "-3.7219058067548483\n"
     ]
    },
    {
     "name": "stderr",
     "output_type": "stream",
     "text": [
      "\r",
      " 94%|████████████████████████████████████████████████████████████████████████████▎    | 99/105 [01:12<00:04,  1.44it/s]"
     ]
    },
    {
     "name": "stdout",
     "output_type": "stream",
     "text": [
      "-0.0007880258043314503\n",
      "0.023316616759176883\n",
      "-0.6180636965564432\n"
     ]
    },
    {
     "name": "stderr",
     "output_type": "stream",
     "text": [
      " 96%|████████████████████████████████████████████████████████████████████████████▉   | 101/105 [01:13<00:01,  2.15it/s]"
     ]
    },
    {
     "name": "stdout",
     "output_type": "stream",
     "text": [
      "0.0010402713713789113\n",
      "0.03694767596038592\n",
      "0.40338213303796727\n",
      "-0.0006774406359334995\n",
      "0.050780829319302515\n",
      "-0.3064088419366552\n"
     ]
    },
    {
     "name": "stderr",
     "output_type": "stream",
     "text": [
      "\r",
      " 97%|█████████████████████████████████████████████████████████████████████████████▋  | 102/105 [01:14<00:02,  1.39it/s]"
     ]
    },
    {
     "name": "stdout",
     "output_type": "stream",
     "text": [
      "-0.0003370896481140003\n",
      "0.017407821537486122\n",
      "-5.384291400794057\n"
     ]
    },
    {
     "name": "stderr",
     "output_type": "stream",
     "text": [
      "\r",
      " 98%|██████████████████████████████████████████████████████████████████████████████▍ | 103/105 [01:16<00:01,  1.06it/s]"
     ]
    },
    {
     "name": "stdout",
     "output_type": "stream",
     "text": [
      "-0.0012064488573908826\n",
      "0.017112297332628798\n",
      "-4.891861146731841\n"
     ]
    },
    {
     "name": "stderr",
     "output_type": "stream",
     "text": [
      "\r",
      " 99%|███████████████████████████████████████████████████████████████████████████████▏| 104/105 [01:16<00:00,  1.12it/s]"
     ]
    },
    {
     "name": "stdout",
     "output_type": "stream",
     "text": [
      "7.021842029261272e-05\n",
      "0.022838021881952816\n",
      "-3.9853925649994264\n"
     ]
    },
    {
     "name": "stderr",
     "output_type": "stream",
     "text": [
      "100%|████████████████████████████████████████████████████████████████████████████████| 105/105 [01:17<00:00,  1.35it/s]\n"
     ]
    },
    {
     "name": "stdout",
     "output_type": "stream",
     "text": [
      "0.0002525504790932349\n",
      "0.02315158340900272\n",
      "-3.6612495933575624\n"
     ]
    },
    {
     "name": "stderr",
     "output_type": "stream",
     "text": [
      "100%|████████████████████████████████████████████████████████████████████████████████████| 1/1 [00:01<00:00,  1.45s/it]\n"
     ]
    },
    {
     "name": "stdout",
     "output_type": "stream",
     "text": [
      "-0.0001681355330997767\n",
      "0.016690258394572093\n",
      "-5.64961337111231\n"
     ]
    },
    {
     "name": "stderr",
     "output_type": "stream",
     "text": [
      "100%|████████████████████████████████████████████████████████████████████████████████████████████| 2/2 [00:00<?, ?it/s]\n",
      "  5%|███▉                                                                               | 1/21 [00:00<00:06,  3.05it/s]"
     ]
    },
    {
     "name": "stdout",
     "output_type": "stream",
     "text": [
      "-9.870623670737433e-07\n",
      "0.03715088087960145\n",
      "-1.673181953658898\n"
     ]
    },
    {
     "name": "stderr",
     "output_type": "stream",
     "text": [
      "\r",
      " 10%|███████▉                                                                           | 2/21 [00:00<00:06,  3.06it/s]"
     ]
    },
    {
     "name": "stdout",
     "output_type": "stream",
     "text": [
      "0.002823426809874365\n",
      "0.036659820976775774\n",
      "-0.13933622029498738\n"
     ]
    },
    {
     "name": "stderr",
     "output_type": "stream",
     "text": [
      "\r",
      " 14%|███████████▊                                                                       | 3/21 [00:00<00:05,  3.03it/s]"
     ]
    },
    {
     "name": "stdout",
     "output_type": "stream",
     "text": [
      "-0.0022945783569304217\n",
      "0.03860584143259488\n",
      "-2.017242065477069\n"
     ]
    },
    {
     "name": "stderr",
     "output_type": "stream",
     "text": [
      "\r",
      " 24%|███████████████████▊                                                               | 5/21 [00:01<00:03,  4.21it/s]"
     ]
    },
    {
     "name": "stdout",
     "output_type": "stream",
     "text": [
      "0.0007442753902822767\n",
      "0.03829192628500438\n",
      "-4.054017470082072\n",
      "-0.00580074702500815\n",
      "0.09371696115226386\n",
      "-2.101632487872898\n"
     ]
    },
    {
     "name": "stderr",
     "output_type": "stream",
     "text": [
      "\r",
      " 33%|███████████████████████████▋                                                       | 7/21 [00:01<00:03,  4.58it/s]"
     ]
    },
    {
     "name": "stdout",
     "output_type": "stream",
     "text": [
      "0.0003290298552848875\n",
      "0.037437426696914786\n",
      "0.7167653245123732\n"
     ]
    },
    {
     "name": "stderr",
     "output_type": "stream",
     "text": [
      "\r",
      " 38%|███████████████████████████████▌                                                   | 8/21 [00:02<00:03,  4.11it/s]"
     ]
    },
    {
     "name": "stdout",
     "output_type": "stream",
     "text": [
      "0.001003354060965851\n",
      "0.03838313097437447\n",
      "1.4331467098905764\n"
     ]
    },
    {
     "name": "stderr",
     "output_type": "stream",
     "text": [
      "\r",
      " 43%|███████████████████████████████████▌                                               | 9/21 [00:02<00:03,  3.73it/s]"
     ]
    },
    {
     "name": "stdout",
     "output_type": "stream",
     "text": [
      "-0.00028126419513106076\n",
      "0.03809540471873116\n",
      "1.654934354581061\n"
     ]
    },
    {
     "name": "stderr",
     "output_type": "stream",
     "text": [
      "\r",
      " 48%|███████████████████████████████████████                                           | 10/21 [00:02<00:03,  3.55it/s]"
     ]
    },
    {
     "name": "stdout",
     "output_type": "stream",
     "text": [
      "-0.00018890329936091887\n",
      "0.03837417573734421\n",
      "1.1127442154120688\n"
     ]
    },
    {
     "name": "stderr",
     "output_type": "stream",
     "text": [
      " 81%|██████████████████████████████████████████████████████████████████▍               | 17/21 [00:03<00:00,  5.97it/s]"
     ]
    },
    {
     "name": "stdout",
     "output_type": "stream",
     "text": [
      "0.0006401037224545622\n",
      "0.018831553248524802\n",
      "-4.3933864420911695\n",
      "0.002583212519769221\n",
      "0.06974093568695966\n",
      "2.968739908511163\n"
     ]
    },
    {
     "name": "stderr",
     "output_type": "stream",
     "text": [
      "\r",
      " 90%|██████████████████████████████████████████████████████████████████████████▏       | 19/21 [00:04<00:00,  5.31it/s]"
     ]
    },
    {
     "name": "stdout",
     "output_type": "stream",
     "text": [
      "0.001021137923837336\n",
      "0.03862014371612041\n",
      "0.0635697190560387\n",
      "-0.0017130582919082425\n",
      "0.053963708966788086\n",
      "-0.6014229025154156\n",
      "0.0019228573893668235\n",
      "0.04328566572539319\n",
      "0.9266412150513843\n"
     ]
    },
    {
     "name": "stderr",
     "output_type": "stream",
     "text": [
      "100%|██████████████████████████████████████████████████████████████████████████████████| 21/21 [00:04<00:00,  4.22it/s]\n"
     ]
    },
    {
     "name": "stdout",
     "output_type": "stream",
     "text": [
      "-7.254119410391225e-05\n",
      "0.04078826687148668\n",
      "-3.1930690407987314\n"
     ]
    },
    {
     "name": "stderr",
     "output_type": "stream",
     "text": [
      " 50%|██████████████████████████████████████████                                          | 1/2 [00:00<00:00,  3.99it/s]"
     ]
    },
    {
     "name": "stdout",
     "output_type": "stream",
     "text": [
      "-0.0026901931000265734\n",
      "0.042859563055857\n",
      "-2.445108276629349\n"
     ]
    },
    {
     "name": "stderr",
     "output_type": "stream",
     "text": [
      "100%|████████████████████████████████████████████████████████████████████████████████████| 2/2 [00:00<00:00,  3.43it/s]\n"
     ]
    },
    {
     "name": "stdout",
     "output_type": "stream",
     "text": [
      "0.0020055621044698423\n",
      "0.036991042053432135\n",
      "-3.054422954612705\n"
     ]
    },
    {
     "name": "stderr",
     "output_type": "stream",
     "text": [
      "  6%|█████▏                                                                             | 2/32 [00:01<00:20,  1.46it/s]"
     ]
    },
    {
     "name": "stdout",
     "output_type": "stream",
     "text": [
      "-3.2842518644330575e-05\n",
      "0.016977348623912616\n",
      "-7.3035619499509155\n",
      "0.002728048630744252\n",
      "0.06497184572742296\n",
      "-3.834767897262087\n"
     ]
    },
    {
     "name": "stderr",
     "output_type": "stream",
     "text": [
      "\r",
      "  9%|███████▊                                                                           | 3/32 [00:02<00:26,  1.09it/s]"
     ]
    },
    {
     "name": "stdout",
     "output_type": "stream",
     "text": [
      "-0.001491424453352603\n",
      "0.018622286505110996\n",
      "-4.0021738980408195\n",
      "-0.0021429570466428853\n",
      "0.1363602510198047\n",
      "-1.030618732408239\n"
     ]
    },
    {
     "name": "stderr",
     "output_type": "stream",
     "text": [
      "\r",
      " 16%|████████████▉                                                                      | 5/32 [00:04<00:22,  1.22it/s]"
     ]
    },
    {
     "name": "stdout",
     "output_type": "stream",
     "text": [
      "0.00026497253141885113\n",
      "0.017479456311911536\n",
      "-2.681165690316622\n"
     ]
    },
    {
     "name": "stderr",
     "output_type": "stream",
     "text": [
      "\r",
      " 19%|███████████████▌                                                                   | 6/32 [00:05<00:26,  1.00s/it]"
     ]
    },
    {
     "name": "stdout",
     "output_type": "stream",
     "text": [
      "0.00014965510915928914\n",
      "0.01692070795790148\n",
      "-5.70352818446721\n"
     ]
    },
    {
     "name": "stderr",
     "output_type": "stream",
     "text": [
      "\r",
      " 22%|██████████████████▏                                                                | 7/32 [00:06<00:25,  1.03s/it]"
     ]
    },
    {
     "name": "stdout",
     "output_type": "stream",
     "text": [
      "0.0006928782380757786\n",
      "0.01969986355450998\n",
      "-1.3067591229222746\n"
     ]
    },
    {
     "name": "stderr",
     "output_type": "stream",
     "text": [
      "\r",
      " 25%|████████████████████▊                                                              | 8/32 [00:08<00:27,  1.16s/it]"
     ]
    },
    {
     "name": "stdout",
     "output_type": "stream",
     "text": [
      "-0.0003051572257995463\n",
      "0.01647157601294855\n",
      "-4.025303547224285\n"
     ]
    },
    {
     "name": "stderr",
     "output_type": "stream",
     "text": [
      "\r",
      " 28%|███████████████████████▎                                                           | 9/32 [00:08<00:21,  1.08it/s]"
     ]
    },
    {
     "name": "stdout",
     "output_type": "stream",
     "text": [
      "6.885178889488164e-05\n",
      "0.035081863578647225\n",
      "-2.1176039407342415\n"
     ]
    },
    {
     "name": "stderr",
     "output_type": "stream",
     "text": [
      "\r",
      " 31%|█████████████████████████▋                                                        | 10/32 [00:10<00:23,  1.06s/it]"
     ]
    },
    {
     "name": "stdout",
     "output_type": "stream",
     "text": [
      "-3.926104101620953e-05\n",
      "0.016534941738160776\n",
      "-8.8514948476578\n"
     ]
    },
    {
     "name": "stderr",
     "output_type": "stream",
     "text": [
      "\r",
      " 34%|████████████████████████████▏                                                     | 11/32 [00:10<00:17,  1.18it/s]"
     ]
    },
    {
     "name": "stdout",
     "output_type": "stream",
     "text": [
      "-0.0014220213838520897\n",
      "0.03859314359982392\n",
      "-0.9987140552717624\n"
     ]
    },
    {
     "name": "stderr",
     "output_type": "stream",
     "text": [
      "\r",
      " 38%|██████████████████████████████▊                                                   | 12/32 [00:11<00:16,  1.21it/s]"
     ]
    },
    {
     "name": "stdout",
     "output_type": "stream",
     "text": [
      "0.00010680849268642452\n",
      "0.02253037396991265\n",
      "-1.5104400286168103\n"
     ]
    },
    {
     "name": "stderr",
     "output_type": "stream",
     "text": [
      "\r",
      " 41%|█████████████████████████████████▎                                                | 13/32 [00:11<00:12,  1.47it/s]"
     ]
    },
    {
     "name": "stdout",
     "output_type": "stream",
     "text": [
      "0.00013050854314024284\n",
      "0.0389111464406193\n",
      "-2.8078759628592067\n"
     ]
    },
    {
     "name": "stderr",
     "output_type": "stream",
     "text": [
      "\r",
      " 44%|███████████████████████████████████▉                                              | 14/32 [00:12<00:16,  1.10it/s]"
     ]
    },
    {
     "name": "stdout",
     "output_type": "stream",
     "text": [
      "0.000330586782343277\n",
      "0.01716290147778578\n",
      "-6.352400332356385\n"
     ]
    },
    {
     "name": "stderr",
     "output_type": "stream",
     "text": [
      "\r",
      " 47%|██████████████████████████████████████▍                                           | 15/32 [00:13<00:12,  1.35it/s]"
     ]
    },
    {
     "name": "stdout",
     "output_type": "stream",
     "text": [
      "-0.000713029002740514\n",
      "0.034312799610498664\n",
      "-2.5778192175410304\n"
     ]
    },
    {
     "name": "stderr",
     "output_type": "stream",
     "text": [
      "\r",
      " 50%|█████████████████████████████████████████                                         | 16/32 [00:14<00:15,  1.05it/s]"
     ]
    },
    {
     "name": "stdout",
     "output_type": "stream",
     "text": [
      "9.510433973725759e-05\n",
      "0.0166580179471573\n",
      "-4.238693862743645\n"
     ]
    },
    {
     "name": "stderr",
     "output_type": "stream",
     "text": [
      "\r",
      " 53%|███████████████████████████████████████████▌                                      | 17/32 [00:16<00:16,  1.09s/it]"
     ]
    },
    {
     "name": "stdout",
     "output_type": "stream",
     "text": [
      "0.00038246533615258707\n",
      "0.017283518692579856\n",
      "-6.138485067778592\n"
     ]
    },
    {
     "name": "stderr",
     "output_type": "stream",
     "text": [
      "\r",
      " 56%|██████████████████████████████████████████████▏                                   | 18/32 [00:16<00:12,  1.08it/s]"
     ]
    },
    {
     "name": "stdout",
     "output_type": "stream",
     "text": [
      "0.0008907547189759493\n",
      "0.028729466926785727\n",
      "-2.6092078521593365\n"
     ]
    },
    {
     "name": "stderr",
     "output_type": "stream",
     "text": [
      "\r",
      " 59%|████████████████████████████████████████████████▋                                 | 19/32 [00:18<00:13,  1.05s/it]"
     ]
    },
    {
     "name": "stdout",
     "output_type": "stream",
     "text": [
      "-0.0005093962451699703\n",
      "0.017409903052215098\n",
      "-3.4290455660359145\n"
     ]
    },
    {
     "name": "stderr",
     "output_type": "stream",
     "text": [
      "\r",
      " 62%|███████████████████████████████████████████████████▎                              | 20/32 [00:18<00:09,  1.22it/s]"
     ]
    },
    {
     "name": "stdout",
     "output_type": "stream",
     "text": [
      "0.004940910551587845\n",
      "0.04263260972642902\n",
      "-0.6981937609679858\n"
     ]
    },
    {
     "name": "stderr",
     "output_type": "stream",
     "text": [
      "\r",
      " 66%|█████████████████████████████████████████████████████▊                            | 21/32 [00:19<00:08,  1.24it/s]"
     ]
    },
    {
     "name": "stdout",
     "output_type": "stream",
     "text": [
      "-0.0007055517878057011\n",
      "0.023635743372442633\n",
      "-3.8299580286546355\n"
     ]
    },
    {
     "name": "stderr",
     "output_type": "stream",
     "text": [
      "\r",
      " 69%|████████████████████████████████████████████████████████▍                         | 22/32 [00:19<00:06,  1.49it/s]"
     ]
    },
    {
     "name": "stdout",
     "output_type": "stream",
     "text": [
      "0.0011539280292296224\n",
      "0.03570075537603351\n",
      "-7.39140352075834\n"
     ]
    },
    {
     "name": "stderr",
     "output_type": "stream",
     "text": [
      "\r",
      " 72%|██████████████████████████████████████████████████████████▉                       | 23/32 [00:19<00:04,  1.86it/s]"
     ]
    },
    {
     "name": "stdout",
     "output_type": "stream",
     "text": [
      "-0.0015834574712714456\n",
      "0.04719053943254395\n",
      "1.574313543261038\n"
     ]
    },
    {
     "name": "stderr",
     "output_type": "stream",
     "text": [
      "\r",
      " 75%|█████████████████████████████████████████████████████████████▌                    | 24/32 [00:20<00:06,  1.32it/s]"
     ]
    },
    {
     "name": "stdout",
     "output_type": "stream",
     "text": [
      "-0.0003054412344421852\n",
      "0.01876667935248761\n",
      "-4.678196068886416\n"
     ]
    },
    {
     "name": "stderr",
     "output_type": "stream",
     "text": [
      "\r",
      " 78%|████████████████████████████████████████████████████████████████                  | 25/32 [00:22<00:06,  1.04it/s]"
     ]
    },
    {
     "name": "stdout",
     "output_type": "stream",
     "text": [
      "-0.0006812394352526083\n",
      "0.016858626473808033\n",
      "-6.605705684322498\n"
     ]
    },
    {
     "name": "stderr",
     "output_type": "stream",
     "text": [
      "\r",
      " 81%|██████████████████████████████████████████████████████████████████▋               | 26/32 [00:22<00:04,  1.29it/s]"
     ]
    },
    {
     "name": "stdout",
     "output_type": "stream",
     "text": [
      "0.0006667385764418419\n",
      "0.03668290258825476\n",
      "-3.540967386856789\n"
     ]
    },
    {
     "name": "stderr",
     "output_type": "stream",
     "text": [
      "\r",
      " 84%|█████████████████████████████████████████████████████████████████████▏            | 27/32 [00:23<00:03,  1.56it/s]"
     ]
    },
    {
     "name": "stdout",
     "output_type": "stream",
     "text": [
      "0.0005478411564742834\n",
      "0.03739687082607283\n",
      "-7.430913519290303\n"
     ]
    },
    {
     "name": "stderr",
     "output_type": "stream",
     "text": [
      "\r",
      " 88%|███████████████████████████████████████████████████████████████████████▊          | 28/32 [00:24<00:03,  1.14it/s]"
     ]
    },
    {
     "name": "stdout",
     "output_type": "stream",
     "text": [
      "0.0005836421136829226\n",
      "0.01695570022094605\n",
      "-6.254351380229773\n"
     ]
    },
    {
     "name": "stderr",
     "output_type": "stream",
     "text": [
      "\r",
      " 91%|██████████████████████████████████████████████████████████████████████████▎       | 29/32 [00:25<00:02,  1.06it/s]"
     ]
    },
    {
     "name": "stdout",
     "output_type": "stream",
     "text": [
      "0.0006169963007453624\n",
      "0.019974680977692318\n",
      "-3.072810212963083\n"
     ]
    },
    {
     "name": "stderr",
     "output_type": "stream",
     "text": [
      "\r",
      " 94%|████████████████████████████████████████████████████████████████████████████▉     | 30/32 [00:26<00:01,  1.21it/s]"
     ]
    },
    {
     "name": "stdout",
     "output_type": "stream",
     "text": [
      "0.000977166741498234\n",
      "0.027499039241906123\n",
      "-6.640978707845665\n"
     ]
    },
    {
     "name": "stderr",
     "output_type": "stream",
     "text": [
      "\r",
      " 97%|███████████████████████████████████████████████████████████████████████████████▍  | 31/32 [00:27<00:01,  1.00s/it]"
     ]
    },
    {
     "name": "stdout",
     "output_type": "stream",
     "text": [
      "0.0001796127168763802\n",
      "0.01619783899027506\n",
      "-5.600004809846145\n"
     ]
    },
    {
     "name": "stderr",
     "output_type": "stream",
     "text": [
      "100%|██████████████████████████████████████████████████████████████████████████████████| 32/32 [00:28<00:00,  1.14it/s]\n"
     ]
    },
    {
     "name": "stdout",
     "output_type": "stream",
     "text": [
      "0.0007207838999355676\n",
      "0.025756764623152757\n",
      "-1.0118212077209516\n"
     ]
    },
    {
     "name": "stderr",
     "output_type": "stream",
     "text": [
      " 20%|████████████████▊                                                                   | 1/5 [00:00<00:01,  3.18it/s]"
     ]
    },
    {
     "name": "stdout",
     "output_type": "stream",
     "text": [
      "-0.0007041467110324764\n",
      "0.03865580222803383\n",
      "1.9390892976239869\n"
     ]
    },
    {
     "name": "stderr",
     "output_type": "stream",
     "text": [
      "\r",
      " 40%|█████████████████████████████████▌                                                  | 2/5 [00:01<00:02,  1.01it/s]"
     ]
    },
    {
     "name": "stdout",
     "output_type": "stream",
     "text": [
      "0.0006360196374706901\n",
      "0.016647946978975207\n",
      "-5.16414434630552\n"
     ]
    },
    {
     "name": "stderr",
     "output_type": "stream",
     "text": [
      "\r",
      " 60%|██████████████████████████████████████████████████▍                                 | 3/5 [00:03<00:02,  1.20s/it]"
     ]
    },
    {
     "name": "stdout",
     "output_type": "stream",
     "text": [
      "-0.0005936959150588712\n",
      "0.01656061119853636\n",
      "-5.865130227733256\n"
     ]
    },
    {
     "name": "stderr",
     "output_type": "stream",
     "text": [
      "\r",
      " 80%|███████████████████████████████████████████████████████████████████▏                | 4/5 [00:04<00:01,  1.28s/it]"
     ]
    },
    {
     "name": "stdout",
     "output_type": "stream",
     "text": [
      "0.00023861250411677477\n",
      "0.016951365046809077\n",
      "-7.0801017234638675\n"
     ]
    },
    {
     "name": "stderr",
     "output_type": "stream",
     "text": [
      "100%|████████████████████████████████████████████████████████████████████████████████████| 5/5 [00:06<00:00,  1.22s/it]\n"
     ]
    },
    {
     "name": "stdout",
     "output_type": "stream",
     "text": [
      "-0.0007774165849503827\n",
      "0.01681321636423863\n",
      "-5.569911096560742\n"
     ]
    },
    {
     "name": "stderr",
     "output_type": "stream",
     "text": [
      "  3%|██▊                                                                                | 1/29 [00:00<00:04,  5.80it/s]"
     ]
    },
    {
     "name": "stdout",
     "output_type": "stream",
     "text": [
      "-0.0008629205243109157\n",
      "0.058738360031447404\n",
      "0.2781605883148328\n",
      "nan\n",
      "nan\n",
      "nan\n",
      "nan\n",
      "nan\n",
      "nan\n"
     ]
    },
    {
     "name": "stderr",
     "output_type": "stream",
     "text": [
      "\r",
      " 17%|██████████████▎                                                                    | 5/29 [00:00<00:01, 14.55it/s]"
     ]
    },
    {
     "name": "stdout",
     "output_type": "stream",
     "text": [
      "-0.0004102901406696561\n",
      "0.05461946263267777\n",
      "-4.804723116585207\n"
     ]
    },
    {
     "name": "stderr",
     "output_type": "stream",
     "text": [
      "\r",
      " 24%|████████████████████                                                               | 7/29 [00:00<00:02,  9.96it/s]"
     ]
    },
    {
     "name": "stdout",
     "output_type": "stream",
     "text": [
      "-0.00017342132666750792\n",
      "0.0458339850380393\n",
      "2.1574745311527517\n",
      "0.0015268742894472464\n",
      "0.08994134266508391\n",
      "-0.5433742931668093\n",
      "0.0008592487203082869\n",
      "0.01653828064421556\n",
      "-7.371042021621781\n"
     ]
    },
    {
     "name": "stderr",
     "output_type": "stream",
     "text": [
      "\r",
      " 31%|█████████████████████████▊                                                         | 9/29 [00:02<00:07,  2.53it/s]"
     ]
    },
    {
     "name": "stdout",
     "output_type": "stream",
     "text": [
      "0.0006764525513401594\n",
      "0.030984092040283084\n",
      "-2.9932092966677604\n"
     ]
    },
    {
     "name": "stderr",
     "output_type": "stream",
     "text": [
      "\r",
      " 34%|████████████████████████████▎                                                     | 10/29 [00:04<00:11,  1.64it/s]"
     ]
    },
    {
     "name": "stdout",
     "output_type": "stream",
     "text": [
      "9.856435115763101e-05\n",
      "0.016889758705446963\n",
      "-7.2801256690166305\n",
      "nan\n",
      "nan\n",
      "nan\n",
      "nan\n",
      "nan\n",
      "nan\n"
     ]
    },
    {
     "name": "stderr",
     "output_type": "stream",
     "text": [
      "\r",
      " 52%|██████████████████████████████████████████▍                                       | 15/29 [00:05<00:06,  2.32it/s]"
     ]
    },
    {
     "name": "stdout",
     "output_type": "stream",
     "text": [
      "1.1457277787814517e-05\n",
      "0.016245797861120438\n",
      "-4.119935471864474\n"
     ]
    },
    {
     "name": "stderr",
     "output_type": "stream",
     "text": [
      "\r",
      " 55%|█████████████████████████████████████████████▏                                    | 16/29 [00:05<00:05,  2.41it/s]"
     ]
    },
    {
     "name": "stdout",
     "output_type": "stream",
     "text": [
      "0.0014543725193937715\n",
      "0.03827751551810321\n",
      "0.0018462317248525732\n"
     ]
    },
    {
     "name": "stderr",
     "output_type": "stream",
     "text": [
      "\r",
      " 59%|████████████████████████████████████████████████                                  | 17/29 [00:06<00:04,  2.47it/s]"
     ]
    },
    {
     "name": "stdout",
     "output_type": "stream",
     "text": [
      "0.00037851241672117754\n",
      "0.03813049277374636\n",
      "2.200568453290775\n"
     ]
    },
    {
     "name": "stderr",
     "output_type": "stream",
     "text": [
      "\r",
      " 62%|██████████████████████████████████████████████████▉                               | 18/29 [00:06<00:04,  2.71it/s]"
     ]
    },
    {
     "name": "stdout",
     "output_type": "stream",
     "text": [
      "9.703286219045743e-05\n",
      "0.046577838875457175\n",
      "-3.36422934702255\n"
     ]
    },
    {
     "name": "stderr",
     "output_type": "stream",
     "text": [
      "\r",
      " 66%|█████████████████████████████████████████████████████▋                            | 19/29 [00:06<00:03,  2.76it/s]"
     ]
    },
    {
     "name": "stdout",
     "output_type": "stream",
     "text": [
      "0.0008890252952632239\n",
      "0.03588464020486246\n",
      "1.2296750912725276\n"
     ]
    },
    {
     "name": "stderr",
     "output_type": "stream",
     "text": [
      "\r",
      " 69%|████████████████████████████████████████████████████████▌                         | 20/29 [00:08<00:05,  1.62it/s]"
     ]
    },
    {
     "name": "stdout",
     "output_type": "stream",
     "text": [
      "0.0008619854713008795\n",
      "0.016670995555540555\n",
      "0.763916072747414\n"
     ]
    },
    {
     "name": "stderr",
     "output_type": "stream",
     "text": [
      "\r",
      " 76%|██████████████████████████████████████████████████████████████▏                   | 22/29 [00:08<00:03,  2.27it/s]"
     ]
    },
    {
     "name": "stdout",
     "output_type": "stream",
     "text": [
      "-0.0012663404944469393\n",
      "0.03584489475599779\n",
      "-12.769984586974143\n",
      "nan\n",
      "nan\n",
      "nan\n"
     ]
    },
    {
     "name": "stderr",
     "output_type": "stream",
     "text": [
      " 86%|██████████████████████████████████████████████████████████████████████▋           | 25/29 [00:08<00:01,  3.60it/s]"
     ]
    },
    {
     "name": "stdout",
     "output_type": "stream",
     "text": [
      "0.0008120445768270233\n",
      "0.05921854534903846\n",
      "-3.903355341245224\n",
      "0.0007914077338931154\n",
      "0.06533963101731406\n",
      "-0.8201342408417583\n"
     ]
    },
    {
     "name": "stderr",
     "output_type": "stream",
     "text": [
      "100%|██████████████████████████████████████████████████████████████████████████████████| 29/29 [00:09<00:00,  3.09it/s]\n"
     ]
    },
    {
     "name": "stdout",
     "output_type": "stream",
     "text": [
      "-0.0017346146044073965\n",
      "0.040833266870294246\n",
      "-0.3105162847217501\n",
      "-0.0002873982191167672\n",
      "0.0889738438814903\n",
      "-0.8640465016211617\n",
      "-0.0002205448849923648\n",
      "0.13106747879944355\n",
      "-2.6249428507815042\n"
     ]
    },
    {
     "name": "stderr",
     "output_type": "stream",
     "text": [
      "\r",
      "  0%|                                                                                           | 0/46 [00:00<?, ?it/s]"
     ]
    },
    {
     "name": "stdout",
     "output_type": "stream",
     "text": [
      "-0.0041499882647307055\n",
      "0.291392734379824\n",
      "-0.5388418653420515\n"
     ]
    },
    {
     "name": "stderr",
     "output_type": "stream",
     "text": [
      "\r",
      "  4%|███▌                                                                               | 2/46 [00:00<00:08,  5.41it/s]"
     ]
    },
    {
     "name": "stdout",
     "output_type": "stream",
     "text": [
      "-0.0022632592833104546\n",
      "0.03735151878928912\n",
      "-4.37872064687641\n"
     ]
    },
    {
     "name": "stderr",
     "output_type": "stream",
     "text": [
      "\r",
      "  7%|█████▍                                                                             | 3/46 [00:00<00:10,  4.01it/s]"
     ]
    },
    {
     "name": "stdout",
     "output_type": "stream",
     "text": [
      "-3.0367466951494727e-06\n",
      "0.03733265344797752\n",
      "-4.632213989707913\n"
     ]
    },
    {
     "name": "stderr",
     "output_type": "stream",
     "text": [
      "\r",
      "  9%|███████▏                                                                           | 4/46 [00:01<00:21,  2.00it/s]"
     ]
    },
    {
     "name": "stdout",
     "output_type": "stream",
     "text": [
      "-0.0007820236129867888\n",
      "0.02133424477793404\n",
      "-4.6303946637856095\n"
     ]
    },
    {
     "name": "stderr",
     "output_type": "stream",
     "text": [
      " 13%|██████████▊                                                                        | 6/46 [00:02<00:17,  2.30it/s]"
     ]
    },
    {
     "name": "stdout",
     "output_type": "stream",
     "text": [
      "0.00026003027164309275\n",
      "0.024866104020612484\n",
      "-4.012687334328548\n",
      "0.0010403015517242676\n",
      "0.053779443667878325\n",
      "-5.9120201189384955\n"
     ]
    },
    {
     "name": "stderr",
     "output_type": "stream",
     "text": [
      "\r",
      " 15%|████████████▋                                                                      | 7/46 [00:03<00:25,  1.53it/s]"
     ]
    },
    {
     "name": "stdout",
     "output_type": "stream",
     "text": [
      "-4.405330530915397e-05\n",
      "0.020833710189745995\n",
      "-3.1402620437568003\n",
      "0.0012679513572155642\n",
      "0.09838297452433513\n",
      "-2.109009948463267\n"
     ]
    },
    {
     "name": "stderr",
     "output_type": "stream",
     "text": [
      "\r",
      " 20%|████████████████▏                                                                  | 9/46 [00:04<00:23,  1.59it/s]"
     ]
    },
    {
     "name": "stdout",
     "output_type": "stream",
     "text": [
      "-0.000616898749533269\n",
      "0.020535941761645717\n",
      "-5.384080405627202\n",
      "0.00023062997213952395\n",
      "0.08450157520221997\n",
      "-4.498043493808231\n"
     ]
    },
    {
     "name": "stderr",
     "output_type": "stream",
     "text": [
      " 26%|█████████████████████▍                                                            | 12/46 [00:05<00:14,  2.31it/s]"
     ]
    },
    {
     "name": "stdout",
     "output_type": "stream",
     "text": [
      "0.0006078688732812158\n",
      "0.028332147031168764\n",
      "-1.7893136911444822\n",
      "-0.00024658479180485166\n",
      "0.04935323480132746\n",
      "-1.569317343730672\n"
     ]
    },
    {
     "name": "stderr",
     "output_type": "stream",
     "text": [
      "\r",
      " 28%|███████████████████████▏                                                          | 13/46 [00:06<00:17,  1.93it/s]"
     ]
    },
    {
     "name": "stdout",
     "output_type": "stream",
     "text": [
      "-0.0012918076893325171\n",
      "0.022441561531994905\n",
      "-5.259795254447754\n"
     ]
    },
    {
     "name": "stderr",
     "output_type": "stream",
     "text": [
      " 33%|██████████████████████████▋                                                       | 15/46 [00:06<00:11,  2.73it/s]"
     ]
    },
    {
     "name": "stdout",
     "output_type": "stream",
     "text": [
      "0.00031389107228942006\n",
      "0.04260952154284225\n",
      "-2.019998131824446\n",
      "nan\n",
      "nan\n",
      "nan\n"
     ]
    },
    {
     "name": "stderr",
     "output_type": "stream",
     "text": [
      " 39%|████████████████████████████████                                                  | 18/46 [00:07<00:05,  4.69it/s]"
     ]
    },
    {
     "name": "stdout",
     "output_type": "stream",
     "text": [
      "-0.0025949123369011116\n",
      "0.09829186465419482\n",
      "-1.5864660832334805\n",
      "0.0063611855601766335\n",
      "0.16127746775992913\n",
      "-1.7464330218863084\n",
      "-0.003052485844676582\n",
      "0.06204709988510629\n",
      "-2.592057298953065\n"
     ]
    },
    {
     "name": "stderr",
     "output_type": "stream",
     "text": [
      "\r",
      " 43%|███████████████████████████████████▋                                              | 20/46 [00:07<00:04,  5.61it/s]"
     ]
    },
    {
     "name": "stdout",
     "output_type": "stream",
     "text": [
      "nan\n",
      "nan\n",
      "nan\n",
      "0.003011360562863528\n",
      "0.0567172551117247\n",
      "-2.1284123905532235\n"
     ]
    },
    {
     "name": "stderr",
     "output_type": "stream",
     "text": [
      "\r",
      " 46%|█████████████████████████████████████▍                                            | 21/46 [00:08<00:09,  2.59it/s]"
     ]
    },
    {
     "name": "stdout",
     "output_type": "stream",
     "text": [
      "4.923455040161334e-05\n",
      "0.019026543614728136\n",
      "-7.086909173162299\n"
     ]
    },
    {
     "name": "stderr",
     "output_type": "stream",
     "text": [
      "\r",
      " 48%|███████████████████████████████████████▏                                          | 22/46 [00:08<00:08,  2.82it/s]"
     ]
    },
    {
     "name": "stdout",
     "output_type": "stream",
     "text": [
      "-0.0007665935665427995\n",
      "0.042531898447712026\n",
      "0.21695109363497816\n"
     ]
    },
    {
     "name": "stderr",
     "output_type": "stream",
     "text": [
      " 57%|██████████████████████████████████████████████▎                                   | 26/46 [00:09<00:03,  5.20it/s]"
     ]
    },
    {
     "name": "stdout",
     "output_type": "stream",
     "text": [
      "3.8293286629130343e-05\n",
      "0.038735532077013246\n",
      "0.9773302886964589\n",
      "-0.0016029263084149765\n",
      "0.06064167603468531\n",
      "0.13557756092798523\n"
     ]
    },
    {
     "name": "stderr",
     "output_type": "stream",
     "text": [
      "\r",
      " 59%|████████████████████████████████████████████████▏                                 | 27/46 [00:09<00:03,  5.42it/s]"
     ]
    },
    {
     "name": "stdout",
     "output_type": "stream",
     "text": [
      "-0.0028051563558274388\n",
      "0.05760844673259525\n",
      "0.23713693086181076\n"
     ]
    },
    {
     "name": "stderr",
     "output_type": "stream",
     "text": [
      "\r",
      " 61%|█████████████████████████████████████████████████▉                                | 28/46 [00:09<00:03,  4.66it/s]"
     ]
    },
    {
     "name": "stdout",
     "output_type": "stream",
     "text": [
      "-0.000472583207403641\n",
      "0.03999410720003423\n",
      "-4.489698755625528\n"
     ]
    },
    {
     "name": "stderr",
     "output_type": "stream",
     "text": [
      "\r",
      " 63%|███████████████████████████████████████████████████▋                              | 29/46 [00:11<00:08,  1.99it/s]"
     ]
    },
    {
     "name": "stdout",
     "output_type": "stream",
     "text": [
      "0.00011804270618682319\n",
      "0.01711233550517439\n",
      "-5.735851397167258\n",
      "nan\n",
      "nan\n",
      "nan\n",
      "nan\n",
      "nan\n",
      "nan\n"
     ]
    },
    {
     "name": "stderr",
     "output_type": "stream",
     "text": [
      "\r",
      " 70%|█████████████████████████████████████████████████████████                         | 32/46 [00:12<00:06,  2.23it/s]"
     ]
    },
    {
     "name": "stdout",
     "output_type": "stream",
     "text": [
      "0.0007205436133195388\n",
      "0.01928143000827034\n",
      "-4.2110834768070715\n"
     ]
    },
    {
     "name": "stderr",
     "output_type": "stream",
     "text": [
      "\r",
      " 72%|██████████████████████████████████████████████████████████▊                       | 33/46 [00:12<00:05,  2.44it/s]"
     ]
    },
    {
     "name": "stdout",
     "output_type": "stream",
     "text": [
      "0.00020018218877335635\n",
      "0.04401156705995389\n",
      "-1.80321784255882\n"
     ]
    },
    {
     "name": "stderr",
     "output_type": "stream",
     "text": [
      "\r",
      " 74%|████████████████████████████████████████████████████████████▌                     | 34/46 [00:13<00:07,  1.67it/s]"
     ]
    },
    {
     "name": "stdout",
     "output_type": "stream",
     "text": [
      "-3.5546295792490885e-05\n",
      "0.018533172929358143\n",
      "-4.444356336818454\n"
     ]
    },
    {
     "name": "stderr",
     "output_type": "stream",
     "text": [
      "\r",
      " 76%|██████████████████████████████████████████████████████████████▍                   | 35/46 [00:14<00:06,  1.72it/s]"
     ]
    },
    {
     "name": "stdout",
     "output_type": "stream",
     "text": [
      "-0.0002694729252766993\n",
      "0.02942749197721834\n",
      "-4.932406830432268\n"
     ]
    },
    {
     "name": "stderr",
     "output_type": "stream",
     "text": [
      "\r",
      " 78%|████████████████████████████████████████████████████████████████▏                 | 36/46 [00:14<00:04,  2.05it/s]"
     ]
    },
    {
     "name": "stdout",
     "output_type": "stream",
     "text": [
      "0.0009012923348227334\n",
      "0.0476588920573761\n",
      "-0.24092631867696834\n",
      "nan\n",
      "nan\n",
      "nan\n"
     ]
    },
    {
     "name": "stderr",
     "output_type": "stream",
     "text": [
      "\r",
      " 83%|███████████████████████████████████████████████████████████████████▋              | 38/46 [00:14<00:02,  2.96it/s]"
     ]
    },
    {
     "name": "stdout",
     "output_type": "stream",
     "text": [
      "0.0017422193178145864\n",
      "0.043506184417278666\n",
      "-0.39700604024952224\n"
     ]
    },
    {
     "name": "stderr",
     "output_type": "stream",
     "text": [
      " 89%|█████████████████████████████████████████████████████████████████████████         | 41/46 [00:15<00:01,  3.58it/s]"
     ]
    },
    {
     "name": "stdout",
     "output_type": "stream",
     "text": [
      "0.0003222425503136344\n",
      "0.0248237907045018\n",
      "-3.05792235105419\n",
      "0.007159469191304126\n",
      "0.09096912719208027\n",
      "-0.02508212442183847\n",
      "-0.002521611526855552\n",
      "0.1381443769207253\n",
      "-3.0917165112908864\n"
     ]
    },
    {
     "name": "stderr",
     "output_type": "stream",
     "text": [
      "\r",
      " 91%|██████████████████████████████████████████████████████████████████████████▊       | 42/46 [00:15<00:00,  4.17it/s]"
     ]
    },
    {
     "name": "stdout",
     "output_type": "stream",
     "text": [
      "-0.0026067364113872777\n",
      "0.08217196541965434\n",
      "-1.994492851817276\n"
     ]
    },
    {
     "name": "stderr",
     "output_type": "stream",
     "text": [
      "\r",
      " 93%|████████████████████████████████████████████████████████████████████████████▋     | 43/46 [00:17<00:01,  1.93it/s]"
     ]
    },
    {
     "name": "stdout",
     "output_type": "stream",
     "text": [
      "-0.00111540921070816\n",
      "0.016906125240567303\n",
      "-6.628017946620554\n",
      "nan\n",
      "nan\n",
      "nan\n",
      "-0.0026822211277506857\n",
      "0.13542998701833645\n",
      "-0.3048705677458752\n"
     ]
    },
    {
     "name": "stderr",
     "output_type": "stream",
     "text": [
      "100%|██████████████████████████████████████████████████████████████████████████████████| 46/46 [00:17<00:00,  2.65it/s]"
     ]
    },
    {
     "name": "stdout",
     "output_type": "stream",
     "text": [
      "0.0017258952066318853\n",
      "0.054788552525600526\n",
      "1.3794114499401646\n"
     ]
    },
    {
     "name": "stderr",
     "output_type": "stream",
     "text": [
      "\n"
     ]
    },
    {
     "data": {
      "text/html": [
       "<div>\n",
       "<style scoped>\n",
       "    .dataframe tbody tr th:only-of-type {\n",
       "        vertical-align: middle;\n",
       "    }\n",
       "\n",
       "    .dataframe tbody tr th {\n",
       "        vertical-align: top;\n",
       "    }\n",
       "\n",
       "    .dataframe thead th {\n",
       "        text-align: right;\n",
       "    }\n",
       "</style>\n",
       "<table border=\"1\" class=\"dataframe\">\n",
       "  <thead>\n",
       "    <tr style=\"text-align: right;\">\n",
       "      <th></th>\n",
       "      <th>language</th>\n",
       "      <th>family</th>\n",
       "      <th>code</th>\n",
       "      <th>correlation</th>\n",
       "      <th>mean</th>\n",
       "      <th>sd</th>\n",
       "      <th>z</th>\n",
       "    </tr>\n",
       "  </thead>\n",
       "  <tbody>\n",
       "    <tr>\n",
       "      <th>0</th>\n",
       "      <td>Akkadian</td>\n",
       "      <td>Afro-Asiatic</td>\n",
       "      <td>akka1240</td>\n",
       "      <td>-0.175034</td>\n",
       "      <td>-0.001760</td>\n",
       "      <td>0.035189</td>\n",
       "      <td>-4.924115</td>\n",
       "    </tr>\n",
       "    <tr>\n",
       "      <th>1</th>\n",
       "      <td>Amharic</td>\n",
       "      <td>Afro-Asiatic</td>\n",
       "      <td>amha1245</td>\n",
       "      <td>-0.051048</td>\n",
       "      <td>-0.000451</td>\n",
       "      <td>0.016714</td>\n",
       "      <td>-3.027351</td>\n",
       "    </tr>\n",
       "    <tr>\n",
       "      <th>2</th>\n",
       "      <td>Hausa</td>\n",
       "      <td>Afro-Asiatic</td>\n",
       "      <td>haus1257</td>\n",
       "      <td>-0.104793</td>\n",
       "      <td>-0.001039</td>\n",
       "      <td>0.017506</td>\n",
       "      <td>-5.926700</td>\n",
       "    </tr>\n",
       "    <tr>\n",
       "      <th>3</th>\n",
       "      <td>Lebanese_Arabic</td>\n",
       "      <td>Afro-Asiatic</td>\n",
       "      <td>stan1323</td>\n",
       "      <td>-0.055859</td>\n",
       "      <td>0.000083</td>\n",
       "      <td>0.016307</td>\n",
       "      <td>-3.430635</td>\n",
       "    </tr>\n",
       "    <tr>\n",
       "      <th>4</th>\n",
       "      <td>Old_Aramaic</td>\n",
       "      <td>Afro-Asiatic</td>\n",
       "      <td>olda1245</td>\n",
       "      <td>-0.072492</td>\n",
       "      <td>0.000081</td>\n",
       "      <td>0.020157</td>\n",
       "      <td>-3.600332</td>\n",
       "    </tr>\n",
       "    <tr>\n",
       "      <th>...</th>\n",
       "      <td>...</td>\n",
       "      <td>...</td>\n",
       "      <td>...</td>\n",
       "      <td>...</td>\n",
       "      <td>...</td>\n",
       "      <td>...</td>\n",
       "      <td>...</td>\n",
       "    </tr>\n",
       "    <tr>\n",
       "      <th>1103</th>\n",
       "      <td>Tübatülabal</td>\n",
       "      <td>Uto-Aztecan</td>\n",
       "      <td>tuba1278</td>\n",
       "      <td>-0.166498</td>\n",
       "      <td>-0.002607</td>\n",
       "      <td>0.082172</td>\n",
       "      <td>-1.994493</td>\n",
       "    </tr>\n",
       "    <tr>\n",
       "      <th>1104</th>\n",
       "      <td>Tümpisha_Shoshoni</td>\n",
       "      <td>Uto-Aztecan</td>\n",
       "      <td>pana1305</td>\n",
       "      <td>-0.113170</td>\n",
       "      <td>-0.001115</td>\n",
       "      <td>0.016906</td>\n",
       "      <td>-6.628018</td>\n",
       "    </tr>\n",
       "    <tr>\n",
       "      <th>1105</th>\n",
       "      <td>Western_Shoshoni</td>\n",
       "      <td>Uto-Aztecan</td>\n",
       "      <td>west2622</td>\n",
       "      <td>NaN</td>\n",
       "      <td>NaN</td>\n",
       "      <td>NaN</td>\n",
       "      <td>NaN</td>\n",
       "    </tr>\n",
       "    <tr>\n",
       "      <th>1106</th>\n",
       "      <td>White_Mesa_Ute</td>\n",
       "      <td>Uto-Aztecan</td>\n",
       "      <td>utee1244b</td>\n",
       "      <td>-0.043971</td>\n",
       "      <td>-0.002682</td>\n",
       "      <td>0.135430</td>\n",
       "      <td>-0.304871</td>\n",
       "    </tr>\n",
       "    <tr>\n",
       "      <th>1107</th>\n",
       "      <td>Yaqui</td>\n",
       "      <td>Uto-Aztecan</td>\n",
       "      <td>yaqu1251</td>\n",
       "      <td>0.077302</td>\n",
       "      <td>0.001726</td>\n",
       "      <td>0.054789</td>\n",
       "      <td>1.379411</td>\n",
       "    </tr>\n",
       "  </tbody>\n",
       "</table>\n",
       "<p>1108 rows × 7 columns</p>\n",
       "</div>"
      ],
      "text/plain": [
       "               language        family       code  correlation      mean  \\\n",
       "0              Akkadian  Afro-Asiatic   akka1240    -0.175034 -0.001760   \n",
       "1               Amharic  Afro-Asiatic   amha1245    -0.051048 -0.000451   \n",
       "2                 Hausa  Afro-Asiatic   haus1257    -0.104793 -0.001039   \n",
       "3       Lebanese_Arabic  Afro-Asiatic   stan1323    -0.055859  0.000083   \n",
       "4           Old_Aramaic  Afro-Asiatic   olda1245    -0.072492  0.000081   \n",
       "...                 ...           ...        ...          ...       ...   \n",
       "1103        Tübatülabal   Uto-Aztecan   tuba1278    -0.166498 -0.002607   \n",
       "1104  Tümpisha_Shoshoni   Uto-Aztecan   pana1305    -0.113170 -0.001115   \n",
       "1105   Western_Shoshoni   Uto-Aztecan   west2622          NaN       NaN   \n",
       "1106     White_Mesa_Ute   Uto-Aztecan  utee1244b    -0.043971 -0.002682   \n",
       "1107              Yaqui   Uto-Aztecan   yaqu1251     0.077302  0.001726   \n",
       "\n",
       "            sd         z  \n",
       "0     0.035189 -4.924115  \n",
       "1     0.016714 -3.027351  \n",
       "2     0.017506 -5.926700  \n",
       "3     0.016307 -3.430635  \n",
       "4     0.020157 -3.600332  \n",
       "...        ...       ...  \n",
       "1103  0.082172 -1.994493  \n",
       "1104  0.016906 -6.628018  \n",
       "1105       NaN       NaN  \n",
       "1106  0.135430 -0.304871  \n",
       "1107  0.054789  1.379411  \n",
       "\n",
       "[1108 rows x 7 columns]"
      ]
     },
     "execution_count": 67,
     "metadata": {},
     "output_type": "execute_result"
    }
   ],
   "source": [
    "# sample_distance(families,1000,'edit_distance')\n",
    "\n",
    "sample_distance(families, 1000, 'edit_distance_UPDATED_NEW_KINTYPES')"
   ]
  },
  {
   "cell_type": "code",
   "execution_count": 256,
   "id": "12c95c1c",
   "metadata": {},
   "outputs": [
    {
     "name": "stdout",
     "output_type": "stream",
     "text": [
      "4.4 2.0591260281974\n"
     ]
    }
   ],
   "source": [
    "m = np.mean([1,4,6,7,4])\n",
    "sd = np.std([1,4,6,7,4])\n",
    "\n",
    "print(m, sd)"
   ]
  },
  {
   "cell_type": "code",
   "execution_count": 267,
   "id": "d3d0fd5f",
   "metadata": {},
   "outputs": [
    {
     "data": {
      "text/plain": [
       "0.005416610961363954"
      ]
     },
     "execution_count": 267,
     "metadata": {},
     "output_type": "execute_result"
    }
   ],
   "source": [
    "values = [0.002868353350546266, 0.007858688326554841, 0.0011412025464908233, 0.0006621570951606216, 0.0006909498966778853, -0.003595004659604736, -0.0026168839819758136, 0.006885157805689537, -0.01182181744094167, -0.0038161667582153423]\n",
    "\n",
    "np.mean(values)\n",
    "\n",
    "sum(values)/len(values)\n",
    "\n",
    "np.std(values)"
   ]
  },
  {
   "cell_type": "code",
   "execution_count": null,
   "id": "2b689d3b",
   "metadata": {},
   "outputs": [],
   "source": []
  }
 ],
 "metadata": {
  "kernelspec": {
   "display_name": "Python 3 (ipykernel)",
   "language": "python",
   "name": "python3"
  },
  "language_info": {
   "codemirror_mode": {
    "name": "ipython",
    "version": 3
   },
   "file_extension": ".py",
   "mimetype": "text/x-python",
   "name": "python",
   "nbconvert_exporter": "python",
   "pygments_lexer": "ipython3",
   "version": "3.9.12"
  }
 },
 "nbformat": 4,
 "nbformat_minor": 5
}
