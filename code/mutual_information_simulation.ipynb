{
 "cells": [
  {
   "cell_type": "code",
   "execution_count": 1,
   "id": "b45d44bf",
   "metadata": {},
   "outputs": [],
   "source": [
    "import csv # for writing dataframes to csv\n",
    "import random # for making a random choice\n",
    "import os # for scanning directories\n",
    "import itertools\n",
    "import string # for generating strings\n",
    "from collections import Counter\n",
    "\n",
    "import kintypes as kt # bringing large lists of kin types into the namespace\n",
    "import math # for calculating logs\n",
    "import pandas as pd\n",
    "import numpy as np\n",
    "import scipy.stats\n",
    "import re\n",
    "from tqdm import tqdm\n",
    "\n",
    "testing = True # set to True to run code blocks with tests and examples\n",
    "filtering = False # set to True to run the filtering process"
   ]
  },
  {
   "cell_type": "markdown",
   "id": "a9d39313",
   "metadata": {},
   "source": [
    "# Internal co-selection\n",
    "\n",
    "Internal co-selection refers to a process of kin term evolution whereby terminological changes in one part of the paradigm co-occur with changes in related parts of the paradigm, increasing the predictive structure of the paradigm.\n",
    "\n",
    "In this notebook, we will build simulations to investigate the robustness of this tendency cross-linguistically, using data from Kinbank, a global database of kin terminology. \n",
    "\n",
    "We will measure internal co-selection in terms of the **mutual information** between Generation N and Generation N+1 in a particular kinship system. That tells us how much information can be gained from one generation by observing the other - how certain we can be about which children 'go with' which parents. This can be calculated as the **entropy** of one generation (how much unpredictable variation there is) minus the **conditional entropy** between the two generations (how much unpredictability remains in one generation after observing another).\n",
    "\n",
    "## Calculating mutual information of a kinship system\n",
    "\n",
    "To calculate the mutual information (MI) of a particular kinship system, we must perform the following steps:\n",
    "\n",
    "1. Extract kin terminology data from Kinbank for this language.\n",
    "2. Condense the full kinship system down to the terms we are interested in: Ego's generation and Ego's parents' generation.\n",
    "3. Calculate the probabilities of each kin term within the generation in which it belongs; and the probabilities of each parent-child pair.\n",
    "4. Calculate entropy, conditional entropy, subtract them from each other to get the mutual information of the system.\n",
    "\n",
    "After we get that going, we can do these same calculations on simulated kinship systems.\n",
    "\n",
    "### 1. Extract kin terminology from Kinbank\n",
    "\n",
    "First, let's actually load our data in. The following function `get_kb_files()` pulls the full list of Kinbank filenames - one file per language. Later, we can iterate through these to generate MI values for every language in our dataset."
   ]
  },
  {
   "cell_type": "code",
   "execution_count": 2,
   "id": "246b31ff",
   "metadata": {},
   "outputs": [],
   "source": [
    "def get_kb_files(path) -> list:\n",
    "    files = []\n",
    "    directory = os.scandir(path)\n",
    "    for file in directory:\n",
    "        files.append(file.name)\n",
    "    return files\n",
    "\n",
    "all_kb_files = get_kb_files('../../kinbank')"
   ]
  },
  {
   "cell_type": "code",
   "execution_count": 3,
   "id": "ca211494",
   "metadata": {},
   "outputs": [
    {
     "data": {
      "text/plain": [
       "[\"'Are'are_area1240.csv\",\n",
       " 'Abui_abui1241.csv',\n",
       " 'Achinese_achi1257.csv',\n",
       " 'Achuar_achu1249.csv',\n",
       " 'Aché_ache1246.csv',\n",
       " 'Adang_adan1251.csv',\n",
       " 'Adnyamathanha_adny1235.csv',\n",
       " 'Aghul_aghu1253.csv',\n",
       " 'Agob-Ende-Kawam_agob1244.csv',\n",
       " 'Aguaruna_agua1253.csv',\n",
       " 'Akhvakh_Northern_Akhvakh__akhv1239.csv',\n",
       " 'Akkadian_akka1240.csv',\n",
       " 'Aklanon_akla1241.csv',\n",
       " 'Alamblak_alam1246.csv',\n",
       " 'Alangan_alan1249.csv',\n",
       " 'Albanian_alba1267.csv',\n",
       " 'Albanian_Tosk__tosk1239.csv',\n",
       " 'Alyawarr_alya1239.csv',\n",
       " 'Amanab_aman1265.csv',\n",
       " 'Amharic_amha1245.csv',\n",
       " 'Amis_amis1246.csv',\n",
       " 'Ampibabo_Lauje_ampi1237.csv',\n",
       " 'Anambé_anam1249.csv',\n",
       " 'Ancient_Greek_anci1242.csv',\n",
       " 'Andi_andi1255.csv',\n",
       " 'Anejom_anei1239.csv',\n",
       " 'Angaite_anga1316.csv',\n",
       " 'Aniwa_aniw1237.csv',\n",
       " 'Anuta_anut1237.csv',\n",
       " 'Arabana_arab1267.csv',\n",
       " 'Arabana_arab1267a.csv',\n",
       " 'Araki_arak1252.csv',\n",
       " 'Araweté_araw1273.csv',\n",
       " 'Archi_arch1244.csv',\n",
       " 'Aria_(Mouk-Aria)_mouk1240a.csv',\n",
       " 'Arizona_Yaqui_yaqu1251a.csv',\n",
       " 'Armenian_nucl1235.csv',\n",
       " 'Arosi_aros1241.csv',\n",
       " 'Asera_aser1237.csv',\n",
       " 'ASF_Auslan_aust1271.csv',\n",
       " 'Assamese_assa1263.csv',\n",
       " 'Asu_Tanzania__asut1235.csv',\n",
       " 'Atayal_atay1247.csv',\n",
       " 'Atchin_atch1238.csv',\n",
       " 'Atoni_(Uab_Meto)_uabm1237.csv',\n",
       " 'Atsugewi_atsu1245.csv',\n",
       " 'Atta_atta1244.csv',\n",
       " 'Au_auuu1241.csv',\n",
       " 'Avar_Ancux__ancu1238.csv',\n",
       " 'Avar_Andalal__anda1281.csv',\n",
       " 'Avar_avar1256.csv',\n",
       " 'Avar_Batlux__batl1238.csv',\n",
       " 'Avar_Hid_dialect__hidd1238.csv',\n",
       " 'Avatime_avat1244.csv',\n",
       " 'Avava_(Bangasa_Dialect)_katb1237.csv',\n",
       " 'Avava_(Niviar_Dialect)_katb1237b.csv',\n",
       " 'Avava_katb1237a.csv',\n",
       " 'Avaz_Khunzakh__kunz1243.csv',\n",
       " 'Avestan_aves1237.csv',\n",
       " 'Avá_Canoeiro_avac1239.csv',\n",
       " 'Awa_imbo1238.csv',\n",
       " 'Awetí_awet1244.csv',\n",
       " 'Awiakay_awia1234.csv',\n",
       " 'Ayiwo_ayiw1239.csv',\n",
       " 'Ayoreo_ayor1240.csv',\n",
       " 'Aztec_clas1250.csv',\n",
       " 'Bacanese_Malay_(Bacan)_baca1243.csv',\n",
       " 'Badimaya_badi1246.csv',\n",
       " 'Bafia_bafi1243.csv',\n",
       " 'Bahonsuai_baho1237.csv',\n",
       " 'Bahvalal_bagv1239.csv',\n",
       " 'Balaesang_bala1314.csv',\n",
       " 'Balangao_bala1310.csv',\n",
       " 'Balinese_bali1278.csv',\n",
       " 'Bali_Congo__bali1274.csv',\n",
       " 'Bali_DRC__bali1275.csv',\n",
       " 'Balochi_balo1260.csv',\n",
       " 'Bamun_bamu1253.csv',\n",
       " 'Bandjalang_band1339.csv',\n",
       " 'Banjar_banj1239.csv',\n",
       " 'Bannock_bann1248.csv',\n",
       " 'Bannoni_bann1247.csv',\n",
       " 'Barabet_(Hano)_hano1246a.csv',\n",
       " 'Bardi_bard1254.csv',\n",
       " 'Bario_Kelabit_bari1288.csv',\n",
       " 'Bari_bari1297.csv',\n",
       " 'Barok_(Karu)_baro1253.csv',\n",
       " 'Baruya_baru1267.csv',\n",
       " 'Basque_basq1248.csv',\n",
       " 'Basque_west1508.csv',\n",
       " 'Batak_Toba_bata1289.csv',\n",
       " 'Batanga_bata1285.csv',\n",
       " 'Bats_Tsova_Tush__bats1242.csv',\n",
       " 'Bau-Jagoi_Bidayuh_baub1235.csv',\n",
       " 'Baure_baur1253.csv',\n",
       " 'Belarusian_bela1254.csv',\n",
       " 'Bemba_bemb1257.csv',\n",
       " 'Bena_Tanzania__bena1262.csv',\n",
       " 'Bende_bend1258.csv',\n",
       " 'Bengali_beng1280.csv',\n",
       " 'Bera_bera1259.csv',\n",
       " 'Berik_beri1254.csv',\n",
       " 'Bezhta_bezh1248.csv',\n",
       " 'Biak_biak1248.csv',\n",
       " 'Bierebo_bier1244.csv',\n",
       " 'Big_Nambas_bign1238.csv',\n",
       " 'Big_Nambas_bign1238a.csv',\n",
       " 'Bihari_biha1245.csv',\n",
       " 'Bila_bila1255.csv',\n",
       " 'Bilibil_bilb1241.csv',\n",
       " 'Bilua_bilu1245.csv',\n",
       " 'Bindal_bind1236.csv',\n",
       " 'Bininj_Kun-wok_gunw1252.csv',\n",
       " 'Binukid_(Talaandig-Binukid)_binu1244.csv',\n",
       " 'Birhor_birh1242.csv',\n",
       " 'Biri_biri1256.csv',\n",
       " 'Bit_bitt1240.csv',\n",
       " 'Blagar_blag1240.csv',\n",
       " 'Boano_(Sulawesi)_boan1243.csv',\n",
       " 'Boers_afri1274.csv',\n",
       " 'Bontok_bont1247.csv',\n",
       " 'Breton_bret1244.csv',\n",
       " \"Brooke's_Point_Palawano_broo1239.csv\",\n",
       " 'Brunei-Sabah_Malay_(Malay)_saba1263.csv',\n",
       " 'Budukh_budu1248.csv',\n",
       " 'Budza_budz1238.csv',\n",
       " 'Buhid_buhi1245.csv',\n",
       " 'Buin_buin1247.csv',\n",
       " 'Bukat_buka1261.csv',\n",
       " 'Bukusu_buku1249.csv',\n",
       " 'Bulgarian_bulg1262.csv',\n",
       " 'Buli_buli1256.csv',\n",
       " 'Bunganditj_bung1264.csv',\n",
       " 'Bungku_bung1269.csv',\n",
       " 'Bunun_bunu1267.csv',\n",
       " 'Burmese_nucl1310.csv',\n",
       " 'Buru_(Indonesia)_buru1303.csv',\n",
       " 'Bushoong_bush1247.csv',\n",
       " 'Butmas-Tur_butm1237.csv',\n",
       " 'Bwaidoga_bwai1243.csv',\n",
       " 'Cahuilla_cahu1264.csv',\n",
       " 'Carolinians_caro1242.csv',\n",
       " 'Car_Nicobarese_carn1240.csv',\n",
       " 'Casiguran_Dumagat_Agta_casi1235.csv',\n",
       " 'Cayubaba_cayu1262.csv',\n",
       " 'Cebuano_cebu1242.csv',\n",
       " 'Central_Aymara_cent2142.csv',\n",
       " 'Central_Cagayan_Agta_cent2084.csv',\n",
       " 'Central_Kurdish_cent1972.csv',\n",
       " 'Central_Melanau_cent2101.csv',\n",
       " 'Central_Sama_cent2092.csv',\n",
       " 'Central_Subanen_(Subanung)_cent2089.csv',\n",
       " 'Central_Tagbanwa_cent2090.csv',\n",
       " 'Chamalal_cham1309.csv',\n",
       " 'Chamalal_Gigatli__giga1238.csv',\n",
       " 'Chamarro_cham1312.csv',\n",
       " 'Chavacano_chav1241.csv',\n",
       " 'Cha_palaa_chac1249.csv',\n",
       " 'Cheke_Holo_chek1238.csv',\n",
       " 'Chemehuevi_chem1251.csv',\n",
       " 'Chenchu_chen1255.csv',\n",
       " 'Chepang_chep1245.csv',\n",
       " 'Chimariko_chim1301.csv',\n",
       " 'Chipaya_chip1262.csv',\n",
       " 'Chiricahua_mesc1238.csv',\n",
       " 'Chiriguano_east2555.csv',\n",
       " 'Chokwe_chok1245.csv',\n",
       " 'Chuukese_(Trukese)_chuu1238.csv',\n",
       " 'Cinta_Larga_cint1239.csv',\n",
       " 'Coastal_Yuki_yuki1243b.csv',\n",
       " 'Cocama_Cocamilla_coca1259.csv',\n",
       " 'Cocopa_coco1261.csv',\n",
       " 'Cofan_cofa1242.csv',\n",
       " 'Colloquial_Malay_mala1479.csv',\n",
       " 'Colorado_Ute_utee1244a.csv',\n",
       " 'Comanche_coma1245.csv',\n",
       " 'Copper_Inuit_copp1244.csv',\n",
       " 'Cora_elna1235.csv',\n",
       " 'Cornish_corn1251.csv',\n",
       " 'Cotabato_Manobo_cota1241.csv',\n",
       " 'Cruzeño_cruz1243.csv',\n",
       " 'Cubeo_cube1242.csv',\n",
       " 'Cupeño_cupe1243.csv',\n",
       " 'Cusco_Quechua_cusc1236.csv',\n",
       " 'Czech_czec1258.csv',\n",
       " 'Daakie_port1286.csv',\n",
       " 'Dakaka_daka1243.csv',\n",
       " 'Dalabon_ngal1292.csv',\n",
       " 'Dampelas_damp1237.csv',\n",
       " 'Dandami_Maria_dand1238.csv',\n",
       " 'Danish_dani1285.csv',\n",
       " 'Dargwa_Chirag__chir1284.csv',\n",
       " 'Dargwa_Itsari__itsa1239.csv',\n",
       " 'Daribi_dadi1250.csv',\n",
       " 'Dari_dari1249.csv',\n",
       " 'Degexit_an_dege1248.csv',\n",
       " 'Dehong_deho1238.csv',\n",
       " 'Dehu_dehu1237.csv',\n",
       " 'DeneTha_South_Slavey__sout2959.csv',\n",
       " 'Dene_Suliné_chip1261.csv',\n",
       " 'De_kwana_Maquiritari__maqu1238.csv',\n",
       " 'Dharumbal_dhar1248.csv',\n",
       " 'Dharumbal_dhar1248a.csv',\n",
       " 'Dhuwal-Dhuwala_(Yolngu)_dhuw1248.csv',\n",
       " 'Dhuwal_dhuw1249.csv',\n",
       " 'Digo_digo1243.csv',\n",
       " 'Ding_ding1239.csv',\n",
       " 'Diyari_dier1241.csv',\n",
       " 'Diyari_dier1241a.csv',\n",
       " 'Djambarrpuyngu_djam1256.csv',\n",
       " 'Djapu_dhuw1249.csv',\n",
       " 'Djinang_djin1253.csv',\n",
       " 'Djinang_djin1253a.csv',\n",
       " 'Dobu_dobu1241.csv',\n",
       " 'Dogrib_dogr1252.csv',\n",
       " 'Dondo_dond1249.csv',\n",
       " 'Doutai_dout1240.csv',\n",
       " 'Duala_dual1243.csv',\n",
       " 'Duma_duma1253.csv',\n",
       " 'Duna_duna1248.csv',\n",
       " 'Dupaningan_Agat_dupa1235.csv',\n",
       " 'Dutch_dutc1256.csv',\n",
       " 'Duungidjawu_duun1241.csv',\n",
       " 'Dyirbal_dyir1250.csv',\n",
       " 'Dzonghka_Lhop_dzon1239.csv',\n",
       " 'Dzonghka_Sha_dzon1239.csv',\n",
       " 'Dzonghka_Wang_wang1287.csv',\n",
       " 'Délįne_nort2942.csv',\n",
       " 'Eastern_Armenian_east2283.csv',\n",
       " 'Eastern_Pahari_Nepali__east1436.csv',\n",
       " 'Eastern_Yiddish_east2295.csv',\n",
       " 'Easter_Islanders_rapa1244.csv',\n",
       " 'East_Ambae_(Lolovoli)_east2443.csv',\n",
       " 'East_Futuna_east2447.csv',\n",
       " 'East_Kave_east2516.csv',\n",
       " 'East_Kewa_east2516.csv',\n",
       " 'Edopi_edop1238.csv',\n",
       " 'Eipo_eipo1242.csv',\n",
       " 'Ekari_ekar1243.csv',\n",
       " 'Ekonda_Mongo_ekon1238.csv',\n",
       " 'Elamite_elam1244.csv',\n",
       " 'Ellice_tuva1244.csv',\n",
       " 'Emae_(Mae)_emae1237.csv',\n",
       " 'Emau_(Emao_Island)_emau1237.csv',\n",
       " 'Emerillon_emer1243.csv',\n",
       " 'Ende_(Papua_New_Guinea)_ende1235.csv',\n",
       " 'English_stan1293.csv',\n",
       " 'Epena_epen1239.csv',\n",
       " 'Erave_(South_Kewa)_erav1244.csv',\n",
       " 'ErzyaMordvin_erzy1239.csv',\n",
       " 'Erzya_erzy1239.csv',\n",
       " 'Estonian_esto1258.csv',\n",
       " 'Eudeve_eude1234.csv',\n",
       " 'Eyak_eyak1241.csv',\n",
       " 'Fang_EG_fang1246.csv',\n",
       " 'Fefe_fefe1239.csv',\n",
       " 'Fijian_fiji1243.csv',\n",
       " 'Finnic_finn1318.csv',\n",
       " 'Finnish_finn1318.csv',\n",
       " 'Fipa_fipa1238.csv',\n",
       " 'FlindersIsland_flin1247.csv',\n",
       " 'Foi_foii1241.csv',\n",
       " 'Fordata_ford1242.csv',\n",
       " 'ForestEnets_fore1265.csv',\n",
       " 'Fore_fore1270.csv',\n",
       " 'Fortsenal_(Kiai)_fort1240.csv',\n",
       " 'Frisian_fris1239.csv',\n",
       " 'Futuna-Aniwa_futu1245.csv',\n",
       " 'Futunans_east2447.csv',\n",
       " \"Ga'dang_gada1258.csv\",\n",
       " 'Gabrielino_tong1329.csv',\n",
       " 'Galeia_A_gale1259.csv',\n",
       " 'Galeia_B_gale1259.csv',\n",
       " 'Galibi_Carib_gali1262.csv',\n",
       " 'Ganda_gand1255.csv',\n",
       " 'Gane_(Gimán)_gane1237.csv',\n",
       " 'Ganggalida_gang1267.csv',\n",
       " 'Gayo_gayo1244.csv',\n",
       " 'Gela_gela1263.csv',\n",
       " 'German_stan1295.csv',\n",
       " 'Gimi_gimi1243.csv',\n",
       " 'Giryama_giry1241.csv',\n",
       " 'Godoberi_ghod1238.csv',\n",
       " 'Gogo_gogo1263.csv',\n",
       " 'Gondi_gond1265.csv',\n",
       " 'Gothic_goth1244.csv',\n",
       " 'Grand_Valley_Dani_lowe1415.csv',\n",
       " 'Guajá_guaj1256.csv',\n",
       " 'Guarayu_guar1292.csv',\n",
       " 'Guarijio_huar1255.csv',\n",
       " 'Gui_(Gwi)_gwii1239.csv',\n",
       " 'Gujarati_guja1252.csv',\n",
       " 'Gumatj_guma1253.csv',\n",
       " 'Gumbaynggir_kumb1268.csv',\n",
       " 'Gunya_guny1241.csv',\n",
       " 'Gupapuyngu_gupa1247.csv',\n",
       " 'Gurindji_guri1247.csv',\n",
       " 'Gusii_gusi1247.csv',\n",
       " 'Guugu_Yimidhirr_gugu1255.csv',\n",
       " 'Guugu_Yimidhirr_gugu1255a.csv',\n",
       " 'Gününa_Küne_puel1244.csv',\n",
       " 'Hanunoo_hanu1241.csv',\n",
       " 'Hausa_haus1257.csv',\n",
       " 'Hawaiians_hawa1245.csv',\n",
       " 'Hawaii_hawa1245.csv',\n",
       " 'Haya_haya1250.csv',\n",
       " 'Ha_haaa1252.csv',\n",
       " 'Hehe_hehe1240.csv',\n",
       " 'Herero_here1253.csv',\n",
       " 'Hewa_hewa1241.csv',\n",
       " 'Highland_Puebla_Nahuatl_high1278.csv',\n",
       " 'Hiligaynon_hili1240.csv',\n",
       " 'HillMari_west2392.csv',\n",
       " 'Hindi_hind1269.csv',\n",
       " 'Hinuq_hinu1240.csv',\n",
       " 'Hittite_hitt1242.csv',\n",
       " 'Hiw_hiww1237.csv',\n",
       " 'Hopi_hopi1249.csv',\n",
       " 'Hopi_S__hopi1249b.csv',\n",
       " 'Hoti_Yuwana__yuwa1244.csv',\n",
       " 'Huastec_Nahuatl_huas1257.csv',\n",
       " 'Huichol_huic1243.csv',\n",
       " 'Huli_huli1244.csv',\n",
       " 'Hungarian_hung1274.csv',\n",
       " 'Hunza_hunz1248.csv',\n",
       " 'Hunzib_hunz1247.csv',\n",
       " 'Hupa_hupa1239.csv',\n",
       " \"I'saka_(Krisa)_kris1246.csv\",\n",
       " 'Iau_iauu1242.csv',\n",
       " 'Ibaloi_(Nabaloi)_ibal1244.csv',\n",
       " 'Ibanag_iban1267.csv',\n",
       " 'Iban_iban1264.csv',\n",
       " 'Icelandic_icel1247.csv',\n",
       " \"Ida'an_idaa1241.csv\",\n",
       " 'Idi_idii1243.csv',\n",
       " 'Idi_nucl1597.csv',\n",
       " 'Ifaluk_Nuclear_Woleaian__nucl1479.csv',\n",
       " 'Ifugaw_(Ifugao)_ifug1247.csv',\n",
       " 'Igbo_nucl1417.csv',\n",
       " 'Ignaciano_igna1246.csv',\n",
       " \"Ili'uun_iliu1237.csv\",\n",
       " 'Ilokano_ilok1237.csv',\n",
       " 'Inanwatan_(Suabo)_inan1242.csv',\n",
       " 'Indonesian_Bajau_indo1317.csv',\n",
       " 'Indonesian_indo1316.csv',\n",
       " 'Ingrian_ingr1248.csv',\n",
       " 'Ingush_ingu1240.csv',\n",
       " 'Inxokvari_inxo1238.csv',\n",
       " 'Iraya_iray1237.csv',\n",
       " 'Irish_iris1253.csv',\n",
       " 'Isirawa_isir1237.csv',\n",
       " 'Isnag_isna1241.csv',\n",
       " 'Italian_ital1282.csv',\n",
       " 'Itbayat_ivat1242.csv',\n",
       " 'Itneg_(Binongan)_bino1237.csv',\n",
       " 'Itonama_iton1250.csv',\n",
       " 'Iwam_iwam1256.csv',\n",
       " 'Iyojwa_ja_Chorote_iyoj1235.csv',\n",
       " 'Jahai_(Jehai)_jeha1242.csv',\n",
       " 'Jamaican_Creole_jama1262.csv',\n",
       " 'Japanese_nucl1643.csv',\n",
       " 'Jaru_jaru1254.csv',\n",
       " 'Javanese_java1254.csv',\n",
       " 'Jicarilla_jica1244.csv',\n",
       " 'Jinghpaw_jing1260.csv',\n",
       " 'Jingulu_djin1251.csv',\n",
       " 'Judeo_Tat_jude1256.csv',\n",
       " 'Jurúna_juru1256.csv',\n",
       " 'Kadai_kada1286.csv',\n",
       " 'Kadar_kada1242.csv',\n",
       " 'Kagulu_kagu1239.csv',\n",
       " 'Kaiwá_kaiw1246.csv',\n",
       " 'Kalamang_kara1499.csv',\n",
       " 'Kalam_kala1397.csv',\n",
       " 'Kala_Lagaw_Ya_kala1377.csv',\n",
       " 'Kalinga_(Ahin-Kayapa_Kalanguya)_ahin1234.csv',\n",
       " 'Kalkatungu_kalk1246.csv',\n",
       " 'Kamang_kama1365.csv',\n",
       " 'Kamano_kama1370.csv',\n",
       " 'Kamayurá_kama1373.csv',\n",
       " 'Kamba_kamb1297.csv',\n",
       " 'Kambera_kamb1299.csv',\n",
       " 'Kankanaey_(Kankanai)_kank1243.csv',\n",
       " 'Kankanay_nort2877.csv',\n",
       " 'Kanum_kanu1280.csv',\n",
       " 'Kaonde_kaon1241.csv',\n",
       " 'Kapingamarangi_kapi1249.csv',\n",
       " 'Kapingamarangi_kapi1249a.csv',\n",
       " 'Karajarri_kara1476.csv',\n",
       " 'Karitiana_kari1311.csv',\n",
       " 'Kariyarra_kari1304.csv',\n",
       " 'Karok_karo1304.csv',\n",
       " 'Kartujarra_kart1247.csv',\n",
       " 'Karuwali_karr1236.csv',\n",
       " 'Kashaya_kash1280.csv',\n",
       " 'Kashmiri_kash1277.csv',\n",
       " 'Kaure_kaur1271.csv',\n",
       " 'Kaurna_kaur1267.csv',\n",
       " 'Kawaiisu_kawa1283.csv',\n",
       " 'Kayabí_kaya1329.csv',\n",
       " 'Kayardild_kaya1318.csv',\n",
       " 'Kazakh_kaza1248.csv',\n",
       " 'KazymKhanty_nort2672.csv',\n",
       " 'Kazym_Berezover_Suryskarer_Khanty_khan1273.csv',\n",
       " 'Kei_keii1239.csv',\n",
       " 'Kemiju_(Jate)_keya1238.csv',\n",
       " 'Kemtuik_kemt1242.csv',\n",
       " 'Kerewe_kere1283.csv',\n",
       " 'Ketengban_kete1254.csv',\n",
       " 'Ket_kett1243.csv',\n",
       " 'Kewa_east2516.csv',\n",
       " 'Keyagana_(Jate)_keya1238.csv',\n",
       " 'Khalkha-Mongolian_mong1331.csv',\n",
       " 'Kikuyu_kiku1240.csv',\n",
       " 'Kilivila_kili1267.csv',\n",
       " 'Kilmeri_kilm1241.csv',\n",
       " 'Kimaama_kima1246.csv',\n",
       " 'Kiowa_Apache_kiow1264.csv',\n",
       " 'Kiput_kipu1237.csv',\n",
       " 'Kiraman_kira1248.csv',\n",
       " 'Kitanemuk_serr1255b.csv',\n",
       " 'Kiwaian_kiwa1251.csv',\n",
       " 'Kiwaian_sout2949.csv',\n",
       " 'Klon_kelo1247.csv',\n",
       " 'Klon_klon1234.csv',\n",
       " 'Kodava_koda1255.csv',\n",
       " 'Kodeoha_kode1237.csv',\n",
       " 'Kodi_kodi1247.csv',\n",
       " 'Kogi_cogu1240.csv',\n",
       " 'Koiari_gras1249.csv',\n",
       " 'Kombai_komb1274.csv',\n",
       " 'Komba_komb1273.csv',\n",
       " 'KomiZyrian_komi1268.csv',\n",
       " 'Komi_Zyrian_komi1268.csv',\n",
       " 'Komnzo_komn1238.csv',\n",
       " 'Komo_DRC__komo1260.csv',\n",
       " 'Kom_komc1235.csv',\n",
       " 'Konawe_kona1243.csv',\n",
       " 'Konda_(Western_Dani)_west2594.csv',\n",
       " 'Korafe_kora1295.csv',\n",
       " 'Koroni_koro1311.csv',\n",
       " 'Korowai_koro1312.csv',\n",
       " 'Kota_kota1274.csv',\n",
       " 'Koya_koya1251.csv',\n",
       " 'Kriol_Roper_River_krio1252.csv',\n",
       " 'Kristang_(Malacca_Creole_Portugese)_mala1533.csv',\n",
       " 'Kuanua_kuan1248.csv',\n",
       " 'Kui_kuii1252.csv',\n",
       " 'Kukatja_kuka1246.csv',\n",
       " 'Kuku-Yalanji_kuku1273.csv',\n",
       " 'KukuYalanji_kuku1273.csv',\n",
       " 'Kulisusu_kuli1254.csv',\n",
       " 'Kuman_kuma1280.csv',\n",
       " 'Kumaoni_kuma1273.csv',\n",
       " 'Kumyk_kumy1244.csv',\n",
       " 'Kung_juho1239.csv',\n",
       " 'Kunimaipa_kuni1267.csv',\n",
       " 'Kunjen_kunj1248.csv',\n",
       " 'Kunza_kunz1244.csv',\n",
       " 'Kuot_kuot1243.csv',\n",
       " 'Kurukh_kuru1302.csv',\n",
       " \"Kuuku_Ya'u_kuuk1238.csv\",\n",
       " 'Kuvi_kuvi1243.csv',\n",
       " 'Ku_Waru_boun1245.csv',\n",
       " 'Kwaio_kwai1243.csv',\n",
       " 'Kwamera_kwam1252.csv',\n",
       " 'Kwasio_kwas1243.csv',\n",
       " 'Kwere_kwer1261.csv',\n",
       " 'Kwoma_kwom1262.csv',\n",
       " 'Kyaka_kyak1244.csv',\n",
       " 'Kélé_kele1257.csv',\n",
       " 'Lahnda_lahn1241.csv',\n",
       " 'Laiwui_laiw1239.csv',\n",
       " 'Lake_Miwok_lake1258.csv',\n",
       " 'Lala_Bisa_lala1264.csv',\n",
       " 'Lalomerui_lalo1239.csv',\n",
       " 'Lamahalot_lama1277.csv',\n",
       " 'Lamba_lamb1271.csv',\n",
       " 'Lametin_mere1242.csv',\n",
       " 'Lamogai_lamo1244.csv',\n",
       " 'Landewe_land1259.csv',\n",
       " 'Langi_lang1320.csv',\n",
       " 'Lardil_lard1243.csv',\n",
       " 'Larevat_lare1249.csv',\n",
       " 'Latin_lati1261.csv',\n",
       " 'Latin_lati1261a.csv',\n",
       " 'Latvian_latv1249.csv',\n",
       " 'Lauje_lauj1238.csv',\n",
       " 'Lau_Fijian_laua1243.csv',\n",
       " 'Lau_lauu1247.csv',\n",
       " 'Lavatbura-lamusong_(Konobin)_lava1239.csv',\n",
       " 'Lebanese_Arabic_stan1323.csv',\n",
       " 'Lelepa_lele1267.csv',\n",
       " 'Lenakel_lena1238.csv',\n",
       " 'Lengua_leng1262.csv',\n",
       " 'Letemboi-Repanbitip_lete1241.csv',\n",
       " 'Lewo_lewo1242.csv',\n",
       " 'Limilngan_limi1242.csv',\n",
       " 'Lingala_ling1263.csv',\n",
       " 'Lipan_Apache_lipa1241.csv',\n",
       " 'Lisu_lisu1250a.csv',\n",
       " 'Lisu_lisu1250b.csv',\n",
       " 'Lisu_lisu1250c.csv',\n",
       " 'Lisu_lisu1250d.csv',\n",
       " 'Lithuanian_lith1251.csv',\n",
       " 'Livonian_livv1244.csv',\n",
       " 'Lo-Toga_(Loh)_loto1240.csv',\n",
       " 'Loloda-Laba_(Loda)_lolo1264.csv',\n",
       " 'Loniu_loni1238.csv',\n",
       " 'Lonwolwol_lonw1238.csv',\n",
       " 'Lower_Pima_Pima_Bajo_pima1248.csv',\n",
       " 'Lozi_lozi1239.csv',\n",
       " 'Luangiua_(Ontong_Java)_onto1237.csv',\n",
       " 'Luba_Katanga_luba1250.csv',\n",
       " 'Luba_Lulua_luba1249.csv',\n",
       " 'Lubuagan_Kalinga_lubu1243.csv',\n",
       " 'Luburua_(Kara)_lubu1242.csv',\n",
       " 'Luguru_lugu1238.csv',\n",
       " 'Luiseńo_luis1253.csv',\n",
       " 'Lunda_lund1266.csv',\n",
       " 'Luvale_luva1239.csv',\n",
       " 'Luxembourgish_luxe1241.csv',\n",
       " \"Ma'anyan_maan1238.csv\",\n",
       " 'Maba_(Indonesia)_maba1278.csv',\n",
       " 'Maca_maca1260.csv',\n",
       " 'Macedonian_mace1250.csv',\n",
       " 'Macushi_macu1259.csv',\n",
       " 'Madak_(Konnos)_mada1284.csv',\n",
       " 'Madole_modo1249.csv',\n",
       " 'Madurese_nucl1460.csv',\n",
       " 'Mafea_(Mavea)_mafe1237.csv',\n",
       " 'Magam_maga1262.csv',\n",
       " 'Maguindanao_(Magindonao_Moro)_magu1243.csv',\n",
       " 'Magyar_hung1274.csv',\n",
       " 'Mahasu_Pahari_maha1287.csv',\n",
       " 'Mairasi_nucl1594.csv',\n",
       " 'Maithili_mait1250.csv',\n",
       " 'Maklew_makl1246.csv',\n",
       " 'Makonde_mako1251.csv',\n",
       " 'Malapandaram_mala1468.csv',\n",
       " 'Malayalam_mala1464.csv',\n",
       " 'Mala_mala1294.csv',\n",
       " 'Malgana_malg1242.csv',\n",
       " 'Malgana_malg1242a.csv',\n",
       " 'Mali_mali1284.csv',\n",
       " 'Malua_Bay_malu1245.csv',\n",
       " 'Manam_mana1295.csv',\n",
       " 'Manange_mana1288.csv',\n",
       " 'Mangaia_mang1402.csv',\n",
       " 'Mangarevans_mang1401.csv',\n",
       " 'Mangareva_mang1401.csv',\n",
       " 'Mangei_(Sobjo)_mang1407.csv',\n",
       " 'Manggarai_mang1405.csv',\n",
       " 'Mansi_mans1258.csv',\n",
       " 'Maori_maor1246.csv',\n",
       " 'Mapudungun_mapu1245.csv',\n",
       " 'Maragus_(Tape)_mara1399.csv',\n",
       " 'Maranao_(Lanao_Moro)_mara1404.csv',\n",
       " 'Marathi_mara1378.csv',\n",
       " 'Margany_marg1253.csv',\n",
       " 'Marind_nucl1622.csv',\n",
       " 'Mari_east2328.csv',\n",
       " 'Marquesas_marq1246.csv',\n",
       " 'Marra_mara1385.csv',\n",
       " 'Marshallese_mars1254.csv',\n",
       " 'MartuWangka_mart1256.csv',\n",
       " 'Marwari_India__marw1260.csv',\n",
       " 'Masaaba_masa1299.csv',\n",
       " 'Mashco_Piro_mash1270.csv',\n",
       " 'Maskelynes_mask1242.csv',\n",
       " 'Mattole_matt1238.csv',\n",
       " 'Matukar_matu1261.csv',\n",
       " 'Maybrat_maib1239.csv',\n",
       " 'Mayo_mayo1264.csv',\n",
       " 'Mbala_mbal1257.csv',\n",
       " 'Mbere_mber1257.csv',\n",
       " 'Mblafe_mbla1238.csv',\n",
       " 'Mbuun_mpuo1241.csv',\n",
       " 'Mbyá_Guaraní_mbya1239.csv',\n",
       " 'MeadowMari_gras1239.csv',\n",
       " 'Mekeo_(East)_meke1243d.csv',\n",
       " 'Mekeo_(North)_meke1243c.csv',\n",
       " 'Mekeo_(North-West)_meke1243a.csv',\n",
       " 'Mekeo_(West)_meke1243b.csv',\n",
       " 'Mekeo_meke1243.csv',\n",
       " 'Mekongga_meko1237.csv',\n",
       " 'Mele-Fila_(Ifira-Mele)_mele1250.csv',\n",
       " 'Menui_menu1237.csv',\n",
       " 'Merei_mere1242.csv',\n",
       " 'Meriam_meri1244.csv',\n",
       " 'Merlav_merl1237.csv',\n",
       " 'Meru_meru1245.csv',\n",
       " 'Meta_meta1238.csv',\n",
       " 'Meyah_meya1236.csv',\n",
       " 'Miani_mian1254.csv',\n",
       " 'Middle_English_midd1317.csv',\n",
       " 'Middle_High_German_midd1343.csv',\n",
       " 'Midob_mido1240.csv',\n",
       " 'Minangkabau_mina1268.csv',\n",
       " 'Miningir_(Lunga)_mini1251.csv',\n",
       " 'Mocoví_moco1246.csv',\n",
       " 'Modern_Greek_mode1248.csv',\n",
       " 'Modern_Welsh_wels1247.csv',\n",
       " 'Mokpwe_mokp1239.csv',\n",
       " 'MokshaMordvin_moks1248.csv',\n",
       " 'Momu-Fas_fass1245.csv',\n",
       " 'Mongo_mong1338.csv',\n",
       " 'Moni_moni1261.csv',\n",
       " 'Mono-Alu_mono1273.csv',\n",
       " 'Mono_mono1275.csv',\n",
       " 'Monumbo_nucl1458.csv',\n",
       " 'Morgan1871_Amazulu_(Amazulu_Kafir)_zulu1248.csv',\n",
       " \"Morgan1871_An-ah'-ne-lin_(Gros_Ventres_of_Prairie)_gros1243.csv\",\n",
       " 'Morgan1871_Arikara_(Arickaree)_arik1262.csv',\n",
       " 'Morgan1871_Assiniboine_(Asiniboine)_assi1247.csv',\n",
       " 'Morgan1871_Baffin_Inuktitut_(Eskimo,_Northumberland_Inlet)_baff1241.csv',\n",
       " 'Morgan1871_Bengâli_beng1280.csv',\n",
       " 'Morgan1871_Blood_Siksika_(Blood_Blackfoot)_bloo1239.csv',\n",
       " 'Morgan1871_Burmese_burm1266.csv',\n",
       " 'Morgan1871_Canarese_nucl1305.csv',\n",
       " 'Morgan1871_Cayuga_cayu1261.csv',\n",
       " 'Morgan1871_Cherokee_cher1273.csv',\n",
       " 'Morgan1871_Chibcha_(New_Granada)_chib1270.csv',\n",
       " 'Morgan1871_Chickasa_chic1270.csv',\n",
       " 'Morgan1871_Chinese_sini1245.csv',\n",
       " 'Morgan1871_Choctaw_(1)_choc1276.csv',\n",
       " 'Morgan1871_Choctaw_(2)_choc1276.csv',\n",
       " 'Morgan1871_Creek_cree1270.csv',\n",
       " 'Morgan1871_Cree_of_the_Lowlands_cree1272.csv',\n",
       " 'Morgan1871_Crow_crow1244.csv',\n",
       " 'Morgan1871_Dakota_Blackfoot_lako1247.csv',\n",
       " 'Morgan1871_Dakota_Brule_brul1239.csv',\n",
       " 'Morgan1871_Dakota_Isauntie_dako1258.csv',\n",
       " 'Morgan1871_Dakota_Ogalalla_lako1247.csv',\n",
       " 'Morgan1871_Dakota_Sisseton_dako1258.csv',\n",
       " 'Morgan1871_Dakota_Uncpapa_lako1247.csv',\n",
       " 'Morgan1871_Dakota_Yanktonais_dako1258.csv',\n",
       " 'Morgan1871_Dakota_Yankton_dako1258.csv',\n",
       " 'Morgan1871_Delaware_comm1246.csv',\n",
       " 'Morgan1871_Etchemiu,_or_Malisete_male1293.csv',\n",
       " 'Morgan1871_Grand_Pawnee_pawn1254.csv',\n",
       " 'Morgan1871_Gujarati_guja1252.csv',\n",
       " \"Morgan1871_Hare_Indians_or_Tä-nä'-tin-ne_hare1243.csv\",\n",
       " 'Morgan1871_Hawaiian_hawa1245.csv',\n",
       " 'Morgan1871_Hindi_hind1269.csv',\n",
       " 'Morgan1871_Iowä_iowa1245.csv',\n",
       " 'Morgan1871_Japanese_japa1256.csv',\n",
       " 'Morgan1871_Kalaallisut_(Eskimo,_Greenland)_kala1399.csv',\n",
       " 'Morgan1871_Karen_(Pwo_dialect)_pwoo1239.csv',\n",
       " 'Morgan1871_Karen_(Sgau_dialect)_sgaw1245.csv',\n",
       " 'Morgan1871_Karen_kare1337.csv',\n",
       " 'Morgan1871_Kaskaskia_algo1255.csv',\n",
       " 'Morgan1871_Kaw_kans1243.csv',\n",
       " 'Morgan1871_Kickapoo_(Kikapoo)_kick1244.csv',\n",
       " 'Morgan1871_Kings_Mill_Islands_gilb1244.csv',\n",
       " 'Morgan1871_Kootenay_kute1249.csv',\n",
       " 'Morgan1871_Kusaien_kosr1238.csv',\n",
       " 'Morgan1871_Kǔtchin,_or_Louchieux_gwic1235.csv',\n",
       " 'Morgan1871_Laguna_west2632.csv',\n",
       " 'Morgan1871_Mandan_mand1446.csv',\n",
       " 'Morgan1871_Maori_maor1246.csv',\n",
       " 'Morgan1871_Marâthî_mara1378.csv',\n",
       " 'Morgan1871_Menomine_meno1252.csv',\n",
       " 'Morgan1871_Miami_miam1252.csv',\n",
       " 'Morgan1871_Miemac_mikm1235.csv',\n",
       " 'Morgan1871_Minnitaree_hida1246.csv',\n",
       " 'Morgan1871_Mohawk_moha1258.csv',\n",
       " 'Morgan1871_Mohegan_mohe1244.csv',\n",
       " 'Morgan1871_Mountain_Cherokee_cher1273.csv',\n",
       " 'Morgan1871_Munsee_muns1251.csv',\n",
       " 'Morgan1871_Ojibwa_Kansas_ojib1241.csv',\n",
       " 'Morgan1871_Ojibwa_Lake_Huron_ojib1241.csv',\n",
       " 'Morgan1871_Ojibwa_Lake_Michigan_uppe1274.csv',\n",
       " 'Morgan1871_Ojibwa_Lake_Superior_ojib1241.csv',\n",
       " 'Morgan1871_Okinaken_okan1243.csv',\n",
       " 'Morgan1871_Omahä_omah1247.csv',\n",
       " 'Morgan1871_Oneida_onei1249.csv',\n",
       " 'Morgan1871_Onondaga_onon1246.csv',\n",
       " 'Morgan1871_Osage_osag1243.csv',\n",
       " 'Morgan1871_Otoe_otoo1241.csv',\n",
       " 'Morgan1871_Ottawa_(Otǎwa)_otta1242.csv',\n",
       " 'Morgan1871_Peoria_peor1238.csv',\n",
       " 'Morgan1871_Pianeshaw_miam1252.csv',\n",
       " 'Morgan1871_Piegan_Siksika_(Piegan_Blackfoot)_pieg1239.csv',\n",
       " 'Morgan1871_Plains_Cree_(Cree_of_the_Prairie)_plai1258.csv',\n",
       " 'Morgan1871_Potawatomi_(Potǎwattamie)_pota1247.csv',\n",
       " 'Morgan1871_Punkä_ponc1241.csv',\n",
       " \"Morgan1871_Red-knife,_or_Täl-sote'e-nä_dogr1252.csv\",\n",
       " 'Morgan1871_Republican_Pawnee_pawn1254.csv',\n",
       " 'Morgan1871_Sawk_and_Fox_mesk1242.csv',\n",
       " 'Morgan1871_Seneca_sene1264.csv',\n",
       " 'Morgan1871_Shawnee_shaw1249.csv',\n",
       " 'Morgan1871_Shiyan_chey1247.csv',\n",
       " \"Morgan1871_Slave_Lake_Indians_or_A-cha'o-tin-ne_slav1253.csv\",\n",
       " 'Morgan1871_Spokäne_spok1245.csv',\n",
       " 'Morgan1871_Tabasco_Chontal_(Chontal_Tabasco)_taba1266.csv',\n",
       " 'Morgan1871_Tamil_tami1289.csv',\n",
       " 'Morgan1871_Telugu_telu1262.csv',\n",
       " 'Morgan1871_Tesuque_tesu1245.csv',\n",
       " 'Morgan1871_Tukuthe_gwic1235.csv',\n",
       " 'Morgan1871_Tuscarora_tusc1257.csv',\n",
       " 'Morgan1871_Two_Mountain_Iroquios_laur1250.csv',\n",
       " 'Morgan1871_Utahs_(Tabegwaches)_utes1238.csv',\n",
       " 'Morgan1871_Weaw_nucl1653.csv',\n",
       " \"Morgan1871_Western_Canadian_Inuktitut_(Eskimo,_West_of_Hudson's_Bay)_west2618.csv\",\n",
       " 'Morgan1871_Winnebagoe_winn1245.csv',\n",
       " 'Morgan1871_Woods_Cree_(Cree_of_the_Woods)_wood1236.csv',\n",
       " 'Morgan1871_Wyandote_wyan1247.csv',\n",
       " 'Morgan1871_Yakama_yaki1237.csv',\n",
       " 'Mori_Atas_mori1269.csv',\n",
       " 'Mori_Bawah_mori1268.csv',\n",
       " 'Moronene_moro1287.csv',\n",
       " 'Mortlockese_mort1237.csv',\n",
       " 'Mosetén_Chimané_mose1249.csv',\n",
       " 'Mota_mota1237.csv',\n",
       " 'Motu_motu1246.csv',\n",
       " 'Mouk_mouk1240.csv',\n",
       " 'Movima_movi1243.csv',\n",
       " 'Mudburra_mudb1240.csv',\n",
       " 'Muduapa_(Vitu)_mudu1242.csv',\n",
       " 'Muisca_Chibcha__chib1270.csv',\n",
       " 'Muna_muna1247.csv',\n",
       " 'Mundurukú_mund1330.csv',\n",
       " 'Mungaka_mung1266.csv',\n",
       " 'Munggava_(Rennell)_mung1271.csv',\n",
       " 'Mungiki_(Bellona)_mung1270.csv',\n",
       " 'Murrinhpatha_murr1258.csv',\n",
       " 'Muruwari_muru1266.csv',\n",
       " 'Mussau-Emira_muss1246.csv',\n",
       " 'Mwotlap_motl1237.csv',\n",
       " 'Myene_myen1241.csv',\n",
       " 'Māori_maor1246.csv',\n",
       " 'Nafsan_sout2856.csv',\n",
       " 'Nage_nage1237.csv',\n",
       " 'Nagovisi_sibe1248.csv',\n",
       " 'Nahavaq_sout2857.csv',\n",
       " 'Nakanai_naka1262.csv',\n",
       " 'Nalik_(Lukuramau)_nali1244.csv',\n",
       " 'Nalik_(Madina)_nali1244b.csv',\n",
       " 'Namakura_nama1268.csv',\n",
       " 'Namakura_nama1268b.csv',\n",
       " 'Naman_litz1237.csv',\n",
       " 'Nama_nama1266.csv',\n",
       " 'Nambo_namb1293.csv',\n",
       " 'Nanggu_nang1262.csv',\n",
       " 'Nasioi_naas1242.csv',\n",
       " 'Navajo_nava1243.csv',\n",
       " 'Ndumu_ndum1239.csv',\n",
       " 'Negerhollands_nege1244.csv',\n",
       " 'Negwa_(Yagwoia)_yagw1240.csv',\n",
       " 'Nehan_neha1247.csv',\n",
       " 'Neme_neme1244.csv',\n",
       " 'Nengone_neng1238.csv',\n",
       " 'Nen_nenn1238.csv',\n",
       " 'Nen_nenn1238a.csv',\n",
       " 'Nepali_nepa1254.csv',\n",
       " 'Nese_nese1235.csv',\n",
       " 'Netsilik_nets1241.csv',\n",
       " \"Neve'ei_vinm1237.csv\",\n",
       " \"Neve'ei_vinm1237a.csv\",\n",
       " 'Neverver_ling1265.csv',\n",
       " 'Nevome_pima1248b.csv',\n",
       " 'Ngaanyatjarra_ngaa1240.csv',\n",
       " 'Ngaatjatjarra_ngaa1240.csv',\n",
       " 'Ngadjumaya_ngad1258.csv',\n",
       " 'Nganasan_ngan1291.csv',\n",
       " 'Ngarinyman_ngar1235.csv',\n",
       " 'Ngarla_ngar1286.csv',\n",
       " 'Ngarluma_ngar1287.csv',\n",
       " 'Ngarrindjeri_narr1259.csv',\n",
       " 'Ngiyambaa_wang1291.csv',\n",
       " 'Ngombe_Binja_binj1250.csv',\n",
       " 'Ngoni_ngon1269.csv',\n",
       " 'Ngulu_ngul1246.csv',\n",
       " 'Nguna_ngun1274.csv',\n",
       " 'Nhanta_nhan1238.csv',\n",
       " 'Nimboran_nucl1633.csv',\n",
       " 'Ninam_nina1238.csv',\n",
       " \"Niuafo'ou_niua1240.csv\",\n",
       " 'Niueans_niue1239.csv',\n",
       " 'Niue_niue1239.csv',\n",
       " 'Nivacle_niva1238.csv',\n",
       " 'Njebi_njeb1242.csv',\n",
       " 'Nogai_noga1249.csv',\n",
       " 'Northeastern_Maidu_nort2952.csv',\n",
       " 'Northern_Embera_nort2972.csv',\n",
       " 'Northern_Gondi_nort2702.csv',\n",
       " 'Northern_Haida_nort2938.csv',\n",
       " 'Northern_Kurdish_nort2641.csv',\n",
       " 'Northern_Ojibwa_nort2961.csv',\n",
       " 'Northern_Paiute_nort2954.csv',\n",
       " 'Northern_Pomo_nort2966.csv',\n",
       " 'Northern_Sami_nort2671.csv',\n",
       " 'Northern_Tepehuan_nort2959.csv',\n",
       " 'NorthMuyu_nort2916.csv',\n",
       " 'NorthSaami_nort2671.csv',\n",
       " 'Northwestern_Maidu_nort2951.csv',\n",
       " 'North_Ambrym_nort2839.csv',\n",
       " 'North_Azerbaijani_nort2697.csv',\n",
       " 'North_Efate_(Nguna,_Nakanamanga)_nort2836.csv',\n",
       " 'North_Marquesan_nort2845.csv',\n",
       " 'North_Northern_Paiute_nort1551.csv',\n",
       " 'North_Tanna_nort2847.csv',\n",
       " 'Norwegian_Bokmål_norw1259.csv',\n",
       " 'Nsong_song1299.csv',\n",
       " 'Numbami_numb1247.csv',\n",
       " 'Nunamiut_nort2944.csv',\n",
       " 'Nungon_yaum1237.csv',\n",
       " 'Nuu_Chah_Nulth_nuuc1236.csv',\n",
       " 'Nyakyusa_nyak1260.csv',\n",
       " 'Nyamal_nyam1271.csv',\n",
       " 'Nyangumarta_nyan1301.csv',\n",
       " 'Nyawaygi_nyaw1247.csv',\n",
       " 'Nyoro_nyor1246.csv',\n",
       " 'Nyulnyul_nyul1247.csv',\n",
       " 'Olal_olal1237.csv',\n",
       " 'Old_Aramaic_olda1245.csv',\n",
       " 'Old_Church_Slavonic_chur1257.csv',\n",
       " 'Old_English_ca_450_1100__olde1238.csv',\n",
       " 'Old_Irish_oldi1245.csv',\n",
       " 'Old_Javanese_(Kawi)_kawi1241.csv',\n",
       " 'Old_Norse_oldn1244.csv',\n",
       " 'Old_Prussian_prus1238.csv',\n",
       " 'Old_Rapa_(Rapa)_rapa1245.csv',\n",
       " 'Old_Russian_oldr1238.csv',\n",
       " 'Old_Welsh_oldw1239.csv',\n",
       " 'Onobasulu_onob1238.csv',\n",
       " 'Ontong_Java_onto1237.csv',\n",
       " 'Opata_opat1246.csv',\n",
       " 'Oriya_oriy1255.csv',\n",
       " 'Oroko_orok1266.csv',\n",
       " 'Ossetian_osse1243.csv',\n",
       " 'Ossetic_osse1245.csv',\n",
       " 'Ottowa_Ojibwa_otta1242.csv',\n",
       " 'Owa_(Santa_Ana)_owaa1237.csv',\n",
       " 'O_du_oduu1239.csv',\n",
       " 'Paakantyi_darl1243.csv',\n",
       " 'Pacoh_paco1243.csv',\n",
       " 'Padoe_pado1242.csv',\n",
       " 'Pagu_pagu1249.csv',\n",
       " 'Paici_paic1239.csv',\n",
       " 'Paiwan_paiw1248.csv',\n",
       " 'Palauan_pala1344.csv',\n",
       " 'Paliyan_pali1274.csv',\n",
       " 'Paluai_balu1257.csv',\n",
       " 'Pama_(Paamanese)_paam1238.csv',\n",
       " 'Pampanga_(Kampampangan)_pamp1243.csv',\n",
       " 'Panare_enap1235.csv',\n",
       " 'Pangasinan_pang1290.csv',\n",
       " 'Panjabi_panj1256.csv',\n",
       " 'Paraguayan_Guaraní_para1311.csv',\n",
       " 'Parakanã_para1312.csv',\n",
       " 'Pashto_pash1269.csv',\n",
       " 'Patani_pata1260.csv',\n",
       " 'Pauserna_paus1244.csv',\n",
       " 'Payungu_bayu1240.csv',\n",
       " 'Pemon_pemo1248.csv',\n",
       " 'Pendau_pend1242.csv',\n",
       " 'Penrhyn_(Tongareva)_penr1237.csv',\n",
       " 'Petapa_Taje_taje1237a.csv',\n",
       " 'Phende_phen1239.csv',\n",
       " 'Pilagá_pila1245.csv',\n",
       " 'Pima_de_Yepáchic_chih1238.csv',\n",
       " 'Pinji_pinj1243.csv',\n",
       " 'PintupiLuritja_pint1250.csv',\n",
       " 'Pipil_pipi1250.csv',\n",
       " 'Pirriya_pirr1240.csv',\n",
       " 'Pitjantjatjara_pitj1243.csv',\n",
       " 'Pitta_Pitta_pitt1247.csv',\n",
       " 'Pohnpeian_pohn1238.csv',\n",
       " 'Pohnpeian_pohn1238a.csv',\n",
       " 'Pokomo_poko1261.csv',\n",
       " 'Polci_polc1243.csv',\n",
       " 'Polish_poli1260.csv',\n",
       " 'Portuguese_port1283.csv',\n",
       " 'Port_Sandwich_port1285.csv',\n",
       " 'Prai_phai1238.csv',\n",
       " 'Prakaa_prak1243.csv',\n",
       " 'Proto-Oceanic_ocea1241.csv',\n",
       " 'Proto_Sogeram_soge1235.csv',\n",
       " 'Proto_Tupi_Guarani_tupi1276.csv',\n",
       " 'Puinave_puin1248.csv',\n",
       " 'Pukapuka_puka1242.csv',\n",
       " 'Puluwatese_(Puluwat)_pulu1242.csv',\n",
       " 'Pumé_pume1238.csv',\n",
       " 'Punu_punu1239.csv',\n",
       " 'Puyuma_puyu1239.csv',\n",
       " 'Páez_paez1247.csv',\n",
       " 'Qawasquar_qawa1238.csv',\n",
       " 'Quechan_quec1382.csv',\n",
       " 'Rade_(Rhade)_rade1240.csv',\n",
       " 'Raga_(Hano)_hano1246.csv',\n",
       " 'Raga_(Hano_Thomas_Ennever)_hano1246b.csv',\n",
       " 'Rahambuu_raha1237.csv',\n",
       " 'Rakahanga-Manihiki_raka1237.csv',\n",
       " 'Rangiora_(NW_Tuamotus)_tuam1242.csv',\n",
       " 'Rapanui_(Easter_Island)_rapa1244.csv',\n",
       " 'Raroians_tuam1242.csv',\n",
       " 'Rarotongan_(Cook_Islands_Maori)_raro1241.csv',\n",
       " 'Ratagnon_rata1245.csv',\n",
       " 'Rejang_(Rejangese)_reja1240.csv',\n",
       " 'Rennell_Islanders_renn1242.csv',\n",
       " 'Riantana_rian1263.csv',\n",
       " 'Ritharrngu_rita1239.csv',\n",
       " \"Riuk_Bekati'_(Dayak)_beka1241.csv\",\n",
       " 'Romanian_roma1327.csv',\n",
       " 'Rotinese_Termanu__term1237.csv',\n",
       " 'Rotokas_roto1249.csv',\n",
       " 'Rotumans_rotu1241.csv',\n",
       " 'Rotuman_rotu1241.csv',\n",
       " 'Routa_rout1237.csv',\n",
       " 'Roviana_rovi1238.csv',\n",
       " 'Rundi_rund1242.csv',\n",
       " 'Russian_russ1263.csv',\n",
       " 'Russian_russ1263a.csv',\n",
       " 'Rutul_shin1265.csv',\n",
       " 'Saaroa_saar1237.csv',\n",
       " 'Sakata_saka1287.csv',\n",
       " 'Sake_sake1247.csv',\n",
       " 'Samoan_samo1305.csv',\n",
       " 'Samoan_samo1305a.csv',\n",
       " 'Sanapana_sana1298.csv',\n",
       " 'Sango_sang1331.csv',\n",
       " 'Sangtam_Naga_sang1321.csv',\n",
       " 'Sangu_sang1333.csv',\n",
       " 'Sangu_Tanzania__sang1330.csv',\n",
       " 'Sanskrit_sans1269.csv',\n",
       " 'San_Salvador_Kongo_sans1272.csv',\n",
       " 'Sarangani_Blaan_sara1326.csv',\n",
       " 'Sardinian_sard1257.csv',\n",
       " 'Satawalese_sata1237.csv',\n",
       " 'Saterfriesisch_sate1242.csv',\n",
       " 'Sateré_Mawé_sate1243.csv',\n",
       " 'Savosavo_savo1255.csv',\n",
       " 'Sawai_sawa1247.csv',\n",
       " 'Sawi_sawi1257.csv',\n",
       " 'Sa_a_saaa1240.csv',\n",
       " 'Sa_saaa1241.csv',\n",
       " 'Seke_(Ske)_seke1241.csv',\n",
       " 'Seki_seki1238.csv',\n",
       " 'Selkup_selk1253.csv',\n",
       " 'Selk_nam_onaa1245.csv',\n",
       " 'Senbarei_unua1237.csv',\n",
       " 'Serbocroation_sout1528.csv',\n",
       " 'Serbs_serb1264.csv',\n",
       " 'Seri_seri1257.csv',\n",
       " 'Serrano_serr1255.csv',\n",
       " 'Setaman_Baktamin_seta1246.csv',\n",
       " 'Shasta_shas1239.csv',\n",
       " 'Sherpa_sher1255.csv',\n",
       " 'Shipibo_ship1254.csv',\n",
       " 'Shi_shii1238.csv',\n",
       " 'Shona_shon1251.csv',\n",
       " 'Shoshoni_shos1248.csv',\n",
       " 'Sie_(Sye)_siee1239.csv',\n",
       " 'Sikaiana_sika1261.csv',\n",
       " 'Sika_sika1262.csv',\n",
       " 'Sindhi_sind1272.csv',\n",
       " 'Sinhala_sinh1246.csv',\n",
       " 'Sion_sion1247.csv',\n",
       " 'Sira_sira1266.csv',\n",
       " 'Sirionó_siri1273.csv',\n",
       " 'Siwai_Motuna_siwa1245.csv',\n",
       " 'SkoltSaami_skol1241.csv',\n",
       " 'Slovakian_slov1269.csv',\n",
       " 'Slovenian_slov1268.csv',\n",
       " 'Soga_soga1242.csv',\n",
       " 'Songoora_song1300.csv',\n",
       " 'Sonsorol_sons1242.csv',\n",
       " 'SosvaMansi_nort2677.csv',\n",
       " 'Sougb_mani1235.csv',\n",
       " 'Southeastern_Tepehuano_sout2976.csv',\n",
       " 'Southeast_Ambrym_sout2859.csv',\n",
       " 'Southeast_Babar_sout2883.csv',\n",
       " 'Southern_Coastal_Tsimshian_nucl1649.csv',\n",
       " 'Southern_Paiute_sout2969.csv',\n",
       " 'Southern_Tepehuan_sout2975.csv',\n",
       " 'Southern_Tepehuan_W__sout2977.csv',\n",
       " 'Southern_Ute_utee1244.csv',\n",
       " 'SouthSaami_sout2674.csv',\n",
       " 'Southwest_Tanna_sout2869.csv',\n",
       " 'South_Efate_sout2856a.csv',\n",
       " 'South_Marquesan_sout2866.csv',\n",
       " 'South_Tuvaluan_(Vaitupu)_sout2865.csv',\n",
       " 'Standard_Catalan_stan1289.csv',\n",
       " 'Standard_English_stan1293.csv',\n",
       " 'Standard_French_stan1290.csv',\n",
       " 'Standard_German_stan1295.csv',\n",
       " 'Standard_Spanish_stan1288.csv',\n",
       " 'Suki_suki1245.csv',\n",
       " 'Sukuma_suku1261.csv',\n",
       " 'Suku_suku1259.csv',\n",
       " 'Sula_Fagudu_sula1245.csv',\n",
       " 'Sula_Mangoli_mang1408.csv',\n",
       " 'Sumbwa_sumb1240.csv',\n",
       " 'Sundanese_sund1252.csv',\n",
       " 'Sungagage_mari1426i.csv',\n",
       " 'Sungwadaga_mari1426b.csv',\n",
       " 'Sungwadia_mari1426a.csv',\n",
       " 'Sungwaloge_(Nalemba_Edward)_mari1426g.csv',\n",
       " ...]"
      ]
     },
     "execution_count": 3,
     "metadata": {},
     "output_type": "execute_result"
    }
   ],
   "source": [
    "all_kb_files"
   ]
  },
  {
   "cell_type": "markdown",
   "id": "1508a7a7",
   "metadata": {},
   "source": [
    "Using one of these filenames, we can extract the kin terminology from that file and populate a dictionary with it. We're only interested in two columns from the Kinbank data: `parameter`, which contains a short code indicating a **kin type**, and `word`, which contains the **kin term** associated with that kin type. An example of a row in the English data would be `mMeB, uncle`, where `mMeB` means 'male speaker's mother's older brother', and `uncle` is the term associated with that person."
   ]
  },
  {
   "cell_type": "code",
   "execution_count": 4,
   "id": "4d98021d",
   "metadata": {},
   "outputs": [],
   "source": [
    "def get_kin_terms(filepath: str) -> dict:\n",
    "    ks = {}\n",
    "    with open(filepath, encoding='utf8') as f:\n",
    "        csv_reader = csv.DictReader(f)\n",
    "        next(csv_reader) # to skip the header row\n",
    "        for line in csv_reader:\n",
    "            kin_type = line['parameter']\n",
    "            kin_term = line['word']\n",
    "            ks[kin_type] = kin_term\n",
    "    return ks"
   ]
  },
  {
   "cell_type": "markdown",
   "id": "fc4a2019",
   "metadata": {},
   "source": [
    "### 2. Condense the system down\n",
    "\n",
    "We're interested in the mutual information between the kin terms in Generation 0 (Ego's generaiton) and Generation +1 (Ego's parents' generation).\n",
    "\n",
    "We want create a data structure that pairs up parent types with the corresponding child types. This is because we're interested in whether kinship systems maintain patterns of terminological distinctions and mergers across these two generations, so we will need to know which parent terms 'go with' which child terms.\n",
    "\n",
    "In `kintypes`, you will find a list of pairs of kin types, where the first element in the pair is a parent type, and the second is their child; e.g. mMeB and mMeBD (mother's elder brother and mother's elder brother's daughter). \n",
    "\n",
    "`get_pairs()` takes a kinship system as input, and outputs a list of tuples. The first element in the tuple is the parent term, the second is the corresponding child term. "
   ]
  },
  {
   "cell_type": "code",
   "execution_count": 5,
   "id": "a64747f6",
   "metadata": {},
   "outputs": [],
   "source": [
    "def get_pairs(ks: dict) -> list:\n",
    "    pairs_of_terms = []\n",
    "    parent_types = []\n",
    "\n",
    "    for pair in kt.ics_pairs:\n",
    "        if pair[0] in ks and pair[1] in ks:\n",
    "            pairs_of_terms.append((ks[pair[0]],ks[pair[1]]))\n",
    "            parent_types.append(pair[0])\n",
    "                \n",
    "    return pairs_of_terms"
   ]
  },
  {
   "cell_type": "markdown",
   "id": "640b7174",
   "metadata": {},
   "source": [
    "But for our calculations, we'll still need to know which terms belong to which generation. Luckily, we know that the 0th element in each tuple is from Ego's parents' generation and the 1st element is from Ego's generation. So we can happily split these tuples down the middle and populate two lists with the terms. `split_pairs()` takes a list of pairs and sorts it into terms that belong to Ego's generation and terms that belong to Ego's parents' generation."
   ]
  },
  {
   "cell_type": "code",
   "execution_count": 6,
   "id": "d001bb4d",
   "metadata": {},
   "outputs": [],
   "source": [
    "def split_pairs(pairs: list) -> list:\n",
    "    gn = []\n",
    "    gn1 = []\n",
    "    for pair in pairs:\n",
    "        gn.append(pair[1])\n",
    "        gn1.append(pair[0])\n",
    "    \n",
    "    return gn,gn1"
   ]
  },
  {
   "cell_type": "markdown",
   "id": "57fc975d",
   "metadata": {},
   "source": [
    "### 3. Calculate probabilities\n",
    "\n",
    "To calculate entropy, we need a probability distribution over the terms in one single generation of a kinship system. So let's start with a function that can calculate the probability of a particular term.\n",
    "\n",
    "Given a term and the full list of terms in the same generation, `probability()` counts how many times that term exists in `generation` and divides that by the total length of `generation`."
   ]
  },
  {
   "cell_type": "code",
   "execution_count": 7,
   "id": "7a04be21",
   "metadata": {},
   "outputs": [],
   "source": [
    "def probability(term: str, generation: list) -> float:\n",
    "    return generation.count(term)/len(generation)"
   ]
  },
  {
   "cell_type": "markdown",
   "id": "87de612e",
   "metadata": {},
   "source": [
    "When calculating mutual information, we also need the **conditional entropy** between the two generations of our system. To calculate this, we will need not only the probabilities of terms in a generation, but also the **joint probabilities** of every pair of terms across those two generations. In other words, we need to calculate the probabilities of our `get_pairs` output.\n",
    "\n",
    "Given two terms, `joint_probability()` counts how many pairs made of those two terms exist in `pairs`, then divides that by the total length of `pairs`."
   ]
  },
  {
   "cell_type": "code",
   "execution_count": 8,
   "id": "a6ec2ed7",
   "metadata": {},
   "outputs": [],
   "source": [
    "def joint_probability(term1: str, term2: str, pairs: list) -> float:\n",
    "    pair = (term1,term2)\n",
    "    return pairs.count(pair)/len(pairs)"
   ]
  },
  {
   "cell_type": "markdown",
   "id": "fed267dd",
   "metadata": {},
   "source": [
    "### 4. Calculating entropy and mutual information\n",
    "\n",
    "Entropy (in bits) is defined as \n",
    "\n",
    "$$\n",
    "H(X) = -\\sum_{x \\in X}p(x) log_2p(x)\n",
    "$$\n",
    "\n",
    "or, in English, it is the inverse sum over a distribution X of the probability of y * the log probability of y.\n",
    "\n",
    "Entropy is a measure of the average level of uncertainty about the possible outcomes of a variable.\n",
    "\n",
    "First, let's define a function `entropy()` that will iterate over a generation of the kinship system and output the entropy of that generation. \n",
    "\n",
    "Note: we only need one generation's entropy score to calculate mutual information - we make the arbitrary choice to calculate the entropy of Ego's parents' generation later in this notebook."
   ]
  },
  {
   "cell_type": "code",
   "execution_count": 9,
   "id": "f9cbfa2b",
   "metadata": {},
   "outputs": [],
   "source": [
    "def entropy(generation: list) -> list:\n",
    "    entropy = 0\n",
    "    for term in set(generation): # using a set as we want to count each unique term only once\n",
    "        p = probability(term,generation)\n",
    "        #print('entropy of',term,p*math.log(p))\n",
    "        entropy += p*math.log2(p)\n",
    "    return round(-entropy,5)"
   ]
  },
  {
   "cell_type": "markdown",
   "id": "6cf0561a",
   "metadata": {},
   "source": [
    "Conditional entropy of Y given X is defined as\n",
    "\n",
    "$$\n",
    "H(Y|X) = -\\sum_{x \\in X,y \\in Y}p(x,y) log_2 {p(x,y) \\over p(x)}\n",
    "$$\n",
    "\n",
    "or in English, the inverse sum over two distributions Y and X of the probability of each y * the log probability of each y given x.\n",
    "\n",
    "Conditional entropy is the amount of information needed to describe the outcome of a random variable Y given that we already know the value of another random variable X.\n",
    "\n",
    "To calculate it, we need the joint probability of each pair (given by `joint_probability()`) and the probability of one member of that pair (given by `probability()`). We can then calculate the conditional probability of parent term given child term as the joint probability of those terms over the probability of the parent term.\n",
    "\n",
    "`conditional_entropy()` iterates over all pairs to output the conditional entropy of Ego's generation given Ego's parents' generation."
   ]
  },
  {
   "cell_type": "code",
   "execution_count": 10,
   "id": "661d794e",
   "metadata": {},
   "outputs": [],
   "source": [
    "def conditional_entropy(gn: list, pairs:list) -> float:\n",
    "    entropy = 0\n",
    "    for x,y in set(pairs): # x = parent, y = child\n",
    "        p_xy = joint_probability(x,y,pairs)\n",
    "        p_y = probability(y,gn)\n",
    "        if p_xy > 0 and p_y > 0:\n",
    "            #print('p(', x, '|', y,') = ', p_xy/p_y, 'p(y) = ', p_y)\n",
    "            entropy += p_xy * math.log2(p_xy/p_y)\n",
    "    return round(-entropy,5)"
   ]
  },
  {
   "cell_type": "markdown",
   "id": "725714bb",
   "metadata": {},
   "source": [
    "Finally, mutual information is defined as\n",
    "\n",
    "$$\n",
    "I(X;Y) \\equiv H(X) - H(X|Y)\n",
    "$$\n",
    "\n",
    "or in English, entropy of X minus the conditional entropy of X given Y.\n",
    "\n",
    "In this study, it is equal to the entropy of Ego's parents' generation minus the conditional entropy of Ego's parents' generation given Ego's generation. It tells us how much mutual dependence there is between these two generations; i.e. how much we can predict about one by observing the other."
   ]
  },
  {
   "cell_type": "code",
   "execution_count": 11,
   "id": "6e3a4b22",
   "metadata": {},
   "outputs": [],
   "source": [
    "def mutual_information(pairs: list):\n",
    "    gn,gn1 = split_pairs(pairs)\n",
    "    e = entropy(gn1)\n",
    "    ce = conditional_entropy(gn,pairs)\n",
    "    mi = e - ce\n",
    "    return round(mi,5)"
   ]
  },
  {
   "cell_type": "markdown",
   "id": "8aa97164",
   "metadata": {},
   "source": [
    "### 5. Calculate MI for each language and save data\n",
    "\n",
    "With all of the above infrastructure, we can calculate the mutual information between G0 and G+1 for all the languages in Kinbank and save this data to a separate .csv file.\n",
    "\n",
    "First, a function that calculates the relevant data and stores it."
   ]
  },
  {
   "cell_type": "code",
   "execution_count": 12,
   "id": "0b67aa85",
   "metadata": {},
   "outputs": [],
   "source": [
    "def write_data(pairs,results):\n",
    "    gn,gn1 = split_pairs(pairs)\n",
    "    egn = entropy(gn)\n",
    "    egn1 = entropy(gn1)\n",
    "    ce = conditional_entropy(gn,pairs)\n",
    "    mi = mutual_information(pairs)\n",
    "    \n",
    "    results['mutual_information'] = mi\n",
    "    results['entropy_gn'] = egn\n",
    "    results['entropy_gn1'] = egn1\n",
    "    results['conditional_entropy'] = ce\n",
    "    results['variation_gn'] = len(set(gn))\n",
    "    results['variation_gn1'] = len(set(gn1))\n",
    "    results['number_of_pairs'] = len(set(pairs))\n",
    "    \n",
    "    return results"
   ]
  },
  {
   "cell_type": "code",
   "execution_count": 13,
   "id": "fb334db8",
   "metadata": {},
   "outputs": [],
   "source": [
    "families = ['Afro-Asiatic','Algic','Arawakan','Atlantic-Congo','Austroasiatic','Austronesian','Cariban','Dravidian','Indo-European',\n",
    "            'Nakh-Daghestanian','Nuclear Trans New Guinea', 'Other','Pama-Nyungan','Pano-Tacanan','Salishan','Sino-Tibetan',\n",
    "            'Tai-Kadai','Tupian','Turkic','Uralic','Uto-Aztecan']\n",
    "\n"
   ]
  },
  {
   "cell_type": "code",
   "execution_count": 14,
   "id": "3f441311",
   "metadata": {},
   "outputs": [],
   "source": [
    "def calculate_MI(families: list,filename: str):\n",
    "    df = []\n",
    "    codes = []\n",
    "    filepath = '../../kinbank-family/'\n",
    "    \n",
    "    for family in families:\n",
    "        all_files = get_kb_files(filepath + family)\n",
    "        \n",
    "        for file in all_files:\n",
    "            print(file)\n",
    "            match = re.search(\"[a-z]{4}[0-9]{4}[a-z]?\", file)\n",
    "            code = match.group()\n",
    "            language = file.split('_' + code)[0]\n",
    "\n",
    "            if code not in codes:\n",
    "                codes.append(code)\n",
    "\n",
    "                ks = get_kin_terms(filepath + family + '/' + file)\n",
    "\n",
    "                pairs = get_pairs(ks)\n",
    "\n",
    "                if pairs: # if pairs is not empty\n",
    "\n",
    "                    results = {}\n",
    "                    results['language'] = language\n",
    "                    results['language_family'] = family\n",
    "                    results['code'] = code\n",
    "                    results['simulation_code'] = code + '_REAL'\n",
    "                    results['simulation'] = 'N'\n",
    "                    write_data(pairs,results)\n",
    "\n",
    "                    df.append(results)\n",
    "        \n",
    "    pd.DataFrame(df).to_csv('../data/raw/' + filename + '.csv',index=False)\n",
    "    \n",
    "    return pd.DataFrame(df)"
   ]
  },
  {
   "cell_type": "code",
   "execution_count": 15,
   "id": "78d12a88",
   "metadata": {},
   "outputs": [],
   "source": [
    "# calculate_MI(['Indo-European'],'test')"
   ]
  },
  {
   "cell_type": "code",
   "execution_count": 16,
   "id": "7f6d71bf",
   "metadata": {},
   "outputs": [
    {
     "name": "stdout",
     "output_type": "stream",
     "text": [
      "Akkadian_akka1240.csv\n",
      "Amharic_amha1245.csv\n",
      "Hausa_haus1257.csv\n",
      "Lebanese_Arabic_stan1323.csv\n",
      "Old_Aramaic_olda1245.csv\n",
      "Polci_polc1243.csv\n",
      "Morgan1871_An-ah'-ne-lin_(Gros_Ventres_of_Prairie)_gros1243.csv\n",
      "Morgan1871_Blood_Siksika_(Blood_Blackfoot)_bloo1239.csv\n",
      "Morgan1871_Cree_of_the_Lowlands_cree1272.csv\n",
      "Morgan1871_Delaware_comm1246.csv\n",
      "Morgan1871_Etchemiu,_or_Malisete_male1293.csv\n",
      "Morgan1871_Kaskaskia_algo1255.csv\n",
      "Morgan1871_Kickapoo_(Kikapoo)_kick1244.csv\n",
      "Morgan1871_Menomine_meno1252.csv\n",
      "Morgan1871_Miami_miam1252.csv\n",
      "Morgan1871_Miemac_mikm1235.csv\n",
      "Morgan1871_Mohegan_mohe1244.csv\n",
      "Morgan1871_Munsee_muns1251.csv\n",
      "Morgan1871_Ojibwa_Kansas_ojib1241.csv\n",
      "Morgan1871_Ojibwa_Lake_Huron_ojib1241.csv\n",
      "Morgan1871_Ojibwa_Lake_Michigan_uppe1274.csv\n",
      "Morgan1871_Ojibwa_Lake_Superior_ojib1241.csv\n",
      "Morgan1871_Ottawa_(Otǎwa)_otta1242.csv\n",
      "Morgan1871_Peoria_peor1238.csv\n",
      "Morgan1871_Pianeshaw_miam1252.csv\n",
      "Morgan1871_Piegan_Siksika_(Piegan_Blackfoot)_pieg1239.csv\n",
      "Morgan1871_Plains_Cree_(Cree_of_the_Prairie)_plai1258.csv\n",
      "Morgan1871_Potawatomi_(Potǎwattamie)_pota1247.csv\n",
      "Morgan1871_Sawk_and_Fox_mesk1242.csv\n",
      "Morgan1871_Shawnee_shaw1249.csv\n",
      "Morgan1871_Shiyan_chey1247.csv\n",
      "Morgan1871_Weaw_nucl1653.csv\n",
      "Morgan1871_Woods_Cree_(Cree_of_the_Woods)_wood1236.csv\n",
      "Northern_Ojibwa_nort2961.csv\n",
      "Ottowa_Ojibwa_otta1242.csv\n",
      "Wiyot_wiyo1248.csv\n",
      "Yurok_yuro1248.csv\n",
      "Baure_baur1253.csv\n",
      "Ignaciano_igna1246.csv\n",
      "Mashco_Piro_mash1270.csv\n",
      "Trinitario_trin1274.csv\n",
      "Wapishana_wapi1253.csv\n",
      "Waurá_waur1244.csv\n",
      "Wayuu_wayu1243.csv\n",
      "Yavitero_yavi1244.csv\n",
      "Asu_Tanzania__asut1235.csv\n",
      "Avatime_avat1244.csv\n",
      "Bafia_bafi1243.csv\n",
      "Bali_Congo__bali1274.csv\n",
      "Bali_DRC__bali1275.csv\n",
      "Bamun_bamu1253.csv\n",
      "Batanga_bata1285.csv\n",
      "Bemba_bemb1257.csv\n",
      "Bena_Tanzania__bena1262.csv\n",
      "Bende_bend1258.csv\n",
      "Bera_bera1259.csv\n",
      "Bila_bila1255.csv\n",
      "Budza_budz1238.csv\n",
      "Bukusu_buku1249.csv\n",
      "Bushoong_bush1247.csv\n",
      "Chokwe_chok1245.csv\n",
      "Digo_digo1243.csv\n",
      "Ding_ding1239.csv\n",
      "Duala_dual1243.csv\n",
      "Duma_duma1253.csv\n",
      "Ekonda_Mongo_ekon1238.csv\n",
      "Fang_EG_fang1246.csv\n",
      "Fefe_fefe1239.csv\n",
      "Fipa_fipa1238.csv\n",
      "Ganda_gand1255.csv\n",
      "Giryama_giry1241.csv\n",
      "Gogo_gogo1263.csv\n",
      "Gusii_gusi1247.csv\n",
      "Haya_haya1250.csv\n",
      "Ha_haaa1252.csv\n",
      "Hehe_hehe1240.csv\n",
      "Herero_here1253.csv\n",
      "Igbo_nucl1417.csv\n",
      "Kagulu_kagu1239.csv\n",
      "Kamba_kamb1297.csv\n",
      "Kaonde_kaon1241.csv\n",
      "Kerewe_kere1283.csv\n",
      "Kikuyu_kiku1240.csv\n",
      "Komo_DRC__komo1260.csv\n",
      "Kom_komc1235.csv\n",
      "Kota_kota1274.csv\n",
      "Kwasio_kwas1243.csv\n",
      "Kwere_kwer1261.csv\n",
      "Kélé_kele1257.csv\n",
      "Lala_Bisa_lala1264.csv\n",
      "Lamba_lamb1271.csv\n",
      "Langi_lang1320.csv\n",
      "Lingala_ling1263.csv\n",
      "Lozi_lozi1239.csv\n",
      "Luba_Katanga_luba1250.csv\n",
      "Luba_Lulua_luba1249.csv\n",
      "Luguru_lugu1238.csv\n",
      "Lunda_lund1266.csv\n",
      "Luvale_luva1239.csv\n",
      "Makonde_mako1251.csv\n",
      "Masaaba_masa1299.csv\n",
      "Mbala_mbal1257.csv\n",
      "Mbere_mber1257.csv\n",
      "Mbuun_mpuo1241.csv\n",
      "Meru_meru1245.csv\n",
      "Meta_meta1238.csv\n",
      "Mokpwe_mokp1239.csv\n",
      "Mongo_mong1338.csv\n",
      "Morgan1871_Amazulu_(Amazulu_Kafir)_zulu1248.csv\n",
      "Mungaka_mung1266.csv\n",
      "Myene_myen1241.csv\n",
      "Ndumu_ndum1239.csv\n",
      "Ngombe_Binja_binj1250.csv\n",
      "Ngoni_ngon1269.csv\n",
      "Ngulu_ngul1246.csv\n",
      "Njebi_njeb1242.csv\n",
      "Nsong_song1299.csv\n",
      "Nyakyusa_nyak1260.csv\n",
      "Nyoro_nyor1246.csv\n",
      "Oroko_orok1266.csv\n",
      "Phende_phen1239.csv\n",
      "Pinji_pinj1243.csv\n",
      "Pokomo_poko1261.csv\n",
      "Punu_punu1239.csv\n",
      "Rundi_rund1242.csv\n",
      "Sakata_saka1287.csv\n",
      "Sake_sake1247.csv\n",
      "Sango_sang1331.csv\n",
      "Sangu_sang1333.csv\n",
      "Sangu_Tanzania__sang1330.csv\n",
      "San_Salvador_Kongo_sans1272.csv\n",
      "Seki_seki1238.csv\n",
      "Shi_shii1238.csv\n",
      "Shona_shon1251.csv\n",
      "Sira_sira1266.csv\n",
      "Soga_soga1242.csv\n",
      "Songoora_song1300.csv\n",
      "Sukuma_suku1261.csv\n",
      "Suku_suku1259.csv\n",
      "Sumbwa_sumb1240.csv\n",
      "Suundi_suun1239.csv\n",
      "Taabwa_shil1264.csv\n",
      "Temi_temi1247.csv\n",
      "Tetela_tete1250.csv\n",
      "Tiv_tivv1240.csv\n",
      "Tonga_Nyasa__tong1321.csv\n",
      "Tooro_toor1238.csv\n",
      "Tsaangi_tsaa1242.csv\n",
      "Tsogo_tsog1243.csv\n",
      "Tsonga_tson1249.csv\n",
      "Tswana_tswa1253.csv\n",
      "Umbundu_umbu1257.csv\n",
      "Venda_vend1245.csv\n",
      "Vili_vili1238.csv\n",
      "Yaka_CAR__yaka1272.csv\n",
      "Yaka_Pelende_Lonzo_yaka1269.csv\n",
      "Yansi_yans1239.csv\n",
      "Yao_yaoo1241.csv\n",
      "Yombe_yomb1244.csv\n",
      "Zigula_zigu1242.csv\n",
      "Zinza_zinz1238.csv\n",
      "Zulu_zulu1248.csv\n",
      "Birhor_birh1242.csv\n",
      "Bit_bitt1240.csv\n",
      "Car_Nicobarese_carn1240.csv\n",
      "Jahai_(Jehai)_jeha1242.csv\n",
      "O_du_oduu1239.csv\n",
      "Pacoh_paco1243.csv\n",
      "Prai_phai1238.csv\n",
      "'Are'are_area1240.csv\n",
      "Achinese_achi1257.csv\n",
      "Aklanon_akla1241.csv\n",
      "Alangan_alan1249.csv\n",
      "Amis_amis1246.csv\n",
      "Ampibabo_Lauje_ampi1237.csv\n",
      "Anejom_anei1239.csv\n",
      "Aniwa_aniw1237.csv\n",
      "Anuta_anut1237.csv\n",
      "Araki_arak1252.csv\n",
      "Aria_(Mouk-Aria)_mouk1240a.csv\n",
      "Arosi_aros1241.csv\n",
      "Asera_aser1237.csv\n",
      "Atayal_atay1247.csv\n",
      "Atchin_atch1238.csv\n",
      "Atoni_(Uab_Meto)_uabm1237.csv\n",
      "Atta_atta1244.csv\n",
      "Avava_(Bangasa_Dialect)_katb1237.csv\n",
      "Avava_(Niviar_Dialect)_katb1237b.csv\n",
      "Avava_katb1237a.csv\n",
      "Ayiwo_ayiw1239.csv\n",
      "Bacanese_Malay_(Bacan)_baca1243.csv\n",
      "Bahonsuai_baho1237.csv\n",
      "Balaesang_bala1314.csv\n",
      "Balangao_bala1310.csv\n",
      "Balinese_bali1278.csv\n",
      "Banjar_banj1239.csv\n",
      "Bannoni_bann1247.csv\n",
      "Barabet_(Hano)_hano1246a.csv\n",
      "Bario_Kelabit_bari1288.csv\n",
      "Barok_(Karu)_baro1253.csv\n",
      "Batak_Toba_bata1289.csv\n",
      "Bau-Jagoi_Bidayuh_baub1235.csv\n",
      "Biak_biak1248.csv\n",
      "Bierebo_bier1244.csv\n",
      "Big_Nambas_bign1238.csv\n",
      "Big_Nambas_bign1238a.csv\n",
      "Bilibil_bilb1241.csv\n",
      "Binukid_(Talaandig-Binukid)_binu1244.csv\n",
      "Boano_(Sulawesi)_boan1243.csv\n",
      "Bontok_bont1247.csv\n",
      "Brooke's_Point_Palawano_broo1239.csv\n",
      "Brunei-Sabah_Malay_(Malay)_saba1263.csv\n",
      "Buhid_buhi1245.csv\n",
      "Bukat_buka1261.csv\n",
      "Buli_buli1256.csv\n",
      "Bungku_bung1269.csv\n",
      "Bunun_bunu1267.csv\n",
      "Buru_(Indonesia)_buru1303.csv\n",
      "Butmas-Tur_butm1237.csv\n",
      "Bwaidoga_bwai1243.csv\n",
      "Carolinians_caro1242.csv\n",
      "Casiguran_Dumagat_Agta_casi1235.csv\n",
      "Cebuano_cebu1242.csv\n",
      "Central_Cagayan_Agta_cent2084.csv\n",
      "Central_Melanau_cent2101.csv\n",
      "Central_Sama_cent2092.csv\n",
      "Central_Subanen_(Subanung)_cent2089.csv\n",
      "Central_Tagbanwa_cent2090.csv\n",
      "Chamarro_cham1312.csv\n",
      "Cheke_Holo_chek1238.csv\n",
      "Chuukese_(Trukese)_chuu1238.csv\n",
      "Colloquial_Malay_mala1479.csv\n",
      "Cotabato_Manobo_cota1241.csv\n",
      "Daakie_port1286.csv\n",
      "Dakaka_daka1243.csv\n",
      "Dampelas_damp1237.csv\n",
      "Dehu_dehu1237.csv\n",
      "Dobu_dobu1241.csv\n",
      "Dondo_dond1249.csv\n",
      "Dupaningan_Agat_dupa1235.csv\n",
      "Easter_Islanders_rapa1244.csv\n",
      "East_Ambae_(Lolovoli)_east2443.csv\n",
      "East_Futuna_east2447.csv\n",
      "Ellice_tuva1244.csv\n",
      "Emae_(Mae)_emae1237.csv\n",
      "Emau_(Emao_Island)_emau1237.csv\n",
      "Fijian_fiji1243.csv\n",
      "Fordata_ford1242.csv\n",
      "Fortsenal_(Kiai)_fort1240.csv\n",
      "Futuna-Aniwa_futu1245.csv\n",
      "Futunans_east2447.csv\n",
      "Ga'dang_gada1258.csv\n",
      "Gane_(Gimán)_gane1237.csv\n",
      "Gayo_gayo1244.csv\n",
      "Gela_gela1263.csv\n",
      "Hanunoo_hanu1241.csv\n",
      "Hawaiians_hawa1245.csv\n",
      "Hawaii_hawa1245.csv\n",
      "Hiligaynon_hili1240.csv\n",
      "Hiw_hiww1237.csv\n",
      "Ibaloi_(Nabaloi)_ibal1244.csv\n",
      "Ibanag_iban1267.csv\n",
      "Iban_iban1264.csv\n",
      "Ida'an_idaa1241.csv\n",
      "Ifaluk_Nuclear_Woleaian__nucl1479.csv\n",
      "Ifugaw_(Ifugao)_ifug1247.csv\n",
      "Ili'uun_iliu1237.csv\n",
      "Ilokano_ilok1237.csv\n",
      "Indonesian_Bajau_indo1317.csv\n",
      "Indonesian_indo1316.csv\n",
      "Iraya_iray1237.csv\n",
      "Isnag_isna1241.csv\n",
      "Itbayat_ivat1242.csv\n",
      "Itneg_(Binongan)_bino1237.csv\n",
      "Javanese_java1254.csv\n",
      "Kadai_kada1286.csv\n",
      "Kalinga_(Ahin-Kayapa_Kalanguya)_ahin1234.csv\n",
      "Kambera_kamb1299.csv\n",
      "Kankanaey_(Kankanai)_kank1243.csv\n",
      "Kankanay_nort2877.csv\n",
      "Kapingamarangi_kapi1249.csv\n",
      "Kapingamarangi_kapi1249a.csv\n",
      "Kei_keii1239.csv\n",
      "Kilivila_kili1267.csv\n",
      "Kiput_kipu1237.csv\n",
      "Kodeoha_kode1237.csv\n",
      "Kodi_kodi1247.csv\n",
      "Konawe_kona1243.csv\n",
      "Koroni_koro1311.csv\n",
      "Kuanua_kuan1248.csv\n",
      "Kulisusu_kuli1254.csv\n",
      "Kwaio_kwai1243.csv\n",
      "Kwamera_kwam1252.csv\n",
      "Laiwui_laiw1239.csv\n",
      "Lalomerui_lalo1239.csv\n",
      "Lamahalot_lama1277.csv\n",
      "Lametin_mere1242.csv\n",
      "Lamogai_lamo1244.csv\n",
      "Landewe_land1259.csv\n",
      "Larevat_lare1249.csv\n",
      "Lauje_lauj1238.csv\n",
      "Lau_Fijian_laua1243.csv\n",
      "Lau_lauu1247.csv\n",
      "Lavatbura-lamusong_(Konobin)_lava1239.csv\n",
      "Lelepa_lele1267.csv\n",
      "Lenakel_lena1238.csv\n",
      "Letemboi-Repanbitip_lete1241.csv\n",
      "Lewo_lewo1242.csv\n",
      "Lo-Toga_(Loh)_loto1240.csv\n",
      "Loniu_loni1238.csv\n",
      "Lonwolwol_lonw1238.csv\n",
      "Luangiua_(Ontong_Java)_onto1237.csv\n",
      "Lubuagan_Kalinga_lubu1243.csv\n",
      "Luburua_(Kara)_lubu1242.csv\n",
      "Ma'anyan_maan1238.csv\n",
      "Maba_(Indonesia)_maba1278.csv\n",
      "Madak_(Konnos)_mada1284.csv\n",
      "Madurese_nucl1460.csv\n",
      "Mafea_(Mavea)_mafe1237.csv\n",
      "Magam_maga1262.csv\n",
      "Maguindanao_(Magindonao_Moro)_magu1243.csv\n",
      "Malua_Bay_malu1245.csv\n",
      "Manam_mana1295.csv\n",
      "Mangaia_mang1402.csv\n",
      "Mangarevans_mang1401.csv\n",
      "Mangareva_mang1401.csv\n",
      "Mangei_(Sobjo)_mang1407.csv\n",
      "Manggarai_mang1405.csv\n",
      "Maori_maor1246.csv\n",
      "Maragus_(Tape)_mara1399.csv\n",
      "Maranao_(Lanao_Moro)_mara1404.csv\n",
      "Marquesas_marq1246.csv\n",
      "Marshallese_mars1254.csv\n",
      "Maskelynes_mask1242.csv\n",
      "Matukar_matu1261.csv\n",
      "Mekeo_(East)_meke1243d.csv\n",
      "Mekeo_(North)_meke1243c.csv\n",
      "Mekeo_(North-West)_meke1243a.csv\n",
      "Mekeo_(West)_meke1243b.csv\n",
      "Mekeo_meke1243.csv\n",
      "Mekongga_meko1237.csv\n",
      "Mele-Fila_(Ifira-Mele)_mele1250.csv\n",
      "Menui_menu1237.csv\n",
      "Merei_mere1242.csv\n",
      "Merlav_merl1237.csv\n",
      "Minangkabau_mina1268.csv\n",
      "Miningir_(Lunga)_mini1251.csv\n",
      "Mono-Alu_mono1273.csv\n",
      "Morgan1871_Hawaiian_hawa1245.csv\n",
      "Morgan1871_Kings_Mill_Islands_gilb1244.csv\n",
      "Morgan1871_Kusaien_kosr1238.csv\n",
      "Morgan1871_Maori_maor1246.csv\n",
      "Mori_Atas_mori1269.csv\n",
      "Mori_Bawah_mori1268.csv\n",
      "Moronene_moro1287.csv\n",
      "Mortlockese_mort1237.csv\n",
      "Mota_mota1237.csv\n",
      "Motu_motu1246.csv\n",
      "Mouk_mouk1240.csv\n",
      "Muduapa_(Vitu)_mudu1242.csv\n",
      "Muna_muna1247.csv\n",
      "Munggava_(Rennell)_mung1271.csv\n",
      "Mungiki_(Bellona)_mung1270.csv\n",
      "Mussau-Emira_muss1246.csv\n",
      "Mwotlap_motl1237.csv\n",
      "Māori_maor1246.csv\n",
      "Nafsan_sout2856.csv\n",
      "Nage_nage1237.csv\n",
      "Nahavaq_sout2857.csv\n",
      "Nakanai_naka1262.csv\n",
      "Nalik_(Lukuramau)_nali1244.csv\n",
      "Nalik_(Madina)_nali1244b.csv\n",
      "Namakura_nama1268.csv\n",
      "Namakura_nama1268b.csv\n",
      "Naman_litz1237.csv\n",
      "Nanggu_nang1262.csv\n",
      "Nehan_neha1247.csv\n",
      "Nengone_neng1238.csv\n",
      "Nese_nese1235.csv\n",
      "Neve'ei_vinm1237.csv\n",
      "Neve'ei_vinm1237a.csv\n",
      "Neverver_ling1265.csv\n",
      "Nguna_ngun1274.csv\n",
      "Niuafo'ou_niua1240.csv\n",
      "Niueans_niue1239.csv\n",
      "Niue_niue1239.csv\n",
      "North_Ambrym_nort2839.csv\n",
      "North_Efate_(Nguna,_Nakanamanga)_nort2836.csv\n",
      "North_Marquesan_nort2845.csv\n",
      "North_Tanna_nort2847.csv\n",
      "Numbami_numb1247.csv\n",
      "Olal_olal1237.csv\n",
      "Old_Javanese_(Kawi)_kawi1241.csv\n",
      "Old_Rapa_(Rapa)_rapa1245.csv\n",
      "Ontong_Java_onto1237.csv\n",
      "Owa_(Santa_Ana)_owaa1237.csv\n",
      "Padoe_pado1242.csv\n",
      "Paici_paic1239.csv\n",
      "Paiwan_paiw1248.csv\n",
      "Palauan_pala1344.csv\n",
      "Paluai_balu1257.csv\n",
      "Pama_(Paamanese)_paam1238.csv\n",
      "Pampanga_(Kampampangan)_pamp1243.csv\n",
      "Pangasinan_pang1290.csv\n",
      "Patani_pata1260.csv\n",
      "Pendau_pend1242.csv\n",
      "Penrhyn_(Tongareva)_penr1237.csv\n",
      "Petapa_Taje_taje1237a.csv\n",
      "Pohnpeian_pohn1238.csv\n",
      "Pohnpeian_pohn1238a.csv\n",
      "Port_Sandwich_port1285.csv\n",
      "Proto-Oceanic_ocea1241.csv\n",
      "Pukapuka_puka1242.csv\n",
      "Puluwatese_(Puluwat)_pulu1242.csv\n",
      "Puyuma_puyu1239.csv\n",
      "Rade_(Rhade)_rade1240.csv\n",
      "Raga_(Hano)_hano1246.csv\n",
      "Raga_(Hano_Thomas_Ennever)_hano1246b.csv\n",
      "Rahambuu_raha1237.csv\n",
      "Rakahanga-Manihiki_raka1237.csv\n",
      "Rangiora_(NW_Tuamotus)_tuam1242.csv\n",
      "Rapanui_(Easter_Island)_rapa1244.csv\n",
      "Raroians_tuam1242.csv\n",
      "Rarotongan_(Cook_Islands_Maori)_raro1241.csv\n",
      "Ratagnon_rata1245.csv\n",
      "Rejang_(Rejangese)_reja1240.csv\n",
      "Rennell_Islanders_renn1242.csv\n",
      "Riuk_Bekati'_(Dayak)_beka1241.csv\n",
      "Rotinese_Termanu__term1237.csv\n",
      "Rotumans_rotu1241.csv\n",
      "Rotuman_rotu1241.csv\n",
      "Routa_rout1237.csv\n",
      "Roviana_rovi1238.csv\n",
      "Saaroa_saar1237.csv\n",
      "Samoan_samo1305.csv\n",
      "Samoan_samo1305a.csv\n",
      "Sarangani_Blaan_sara1326.csv\n",
      "Satawalese_sata1237.csv\n",
      "Sawai_sawa1247.csv\n",
      "Sa_a_saaa1240.csv\n",
      "Sa_saaa1241.csv\n",
      "Seke_(Ske)_seke1241.csv\n",
      "Senbarei_unua1237.csv\n",
      "Sie_(Sye)_siee1239.csv\n",
      "Sikaiana_sika1261.csv\n",
      "Sika_sika1262.csv\n",
      "Sonsorol_sons1242.csv\n",
      "Southeast_Ambrym_sout2859.csv\n",
      "Southeast_Babar_sout2883.csv\n",
      "Southwest_Tanna_sout2869.csv\n",
      "South_Efate_sout2856a.csv\n",
      "South_Marquesan_sout2866.csv\n",
      "South_Tuvaluan_(Vaitupu)_sout2865.csv\n",
      "Sula_Fagudu_sula1245.csv\n",
      "Sula_Mangoli_mang1408.csv\n",
      "Sundanese_sund1252.csv\n",
      "Sungagage_mari1426i.csv\n",
      "Sungwadaga_mari1426b.csv\n",
      "Sungwadia_mari1426a.csv\n",
      "Sungwaloge_(Nalemba_Edward)_mari1426g.csv\n",
      "Sungwaloge_(Nalemba_Simeone_Tari)_mari1426f.csv\n",
      "Sungwaloge_(Navenvene)_mari1426d.csv\n",
      "Sungwaloge_(Tauta)_mari1426e.csv\n",
      "Sungwaloge_(Tawet)_mari1426c.csv\n",
      "Sunwadia_mari1426.csv\n",
      "Tadyawan_tady1237.csv\n",
      "Tagalog_taga1270.csv\n",
      "Tahitians_tahi1242.csv\n",
      "Tahitian_tahi1242.csv\n",
      "Tajio_taji1246.csv\n",
      "Takia_taki1248.csv\n",
      "Takuu_taku1257.csv\n",
      "Talibabu_tali1262.csv\n",
      "Talise_(Tolo)_tali1259.csv\n",
      "Tamambo_malo1243.csv\n",
      "Tanala_tana1285.csv\n",
      "Tanampedagi_Taje_taje1237b.csv\n",
      "Tangoa_(Movono)_tang1347.csv\n",
      "Tasiko_tasi1237.csv\n",
      "Taumako_taum1237.csv\n"
     ]
    },
    {
     "name": "stdout",
     "output_type": "stream",
     "text": [
      "Tausug_(Sulu_Moro)_taus1251.csv\n",
      "Tausug_taus1251a.csv\n",
      "Tetum_(Tetun)_tetu1245.csv\n",
      "Tetun_Dili_(Tetum)_tetu1246.csv\n",
      "Thao_thao1240.csv\n",
      "Tiale_tial1239.csv\n",
      "Tialo_(Tomini)_tomi1243.csv\n",
      "Tigak_tiga1245.csv\n",
      "Tikopia_tiko1237.csv\n",
      "Tikopia_tiko1237a.csv\n",
      "Tirax_(Mae)_maee1241.csv\n",
      "Tiri-Mea_(Grand_Couli)_tiri1258.csv\n",
      "Tokelau_toke1240.csv\n",
      "Tokelau_toke1240a.csv\n",
      "Tokotu'a_(Kabaena)_kaba1285.csv\n",
      "Tolaki_tola1247.csv\n",
      "Tomadino_toma1248.csv\n",
      "Tombulu_tomb1243.csv\n",
      "Tongan_tong1325.csv\n",
      "Tongarevans_penr1237.csv\n",
      "Tonga_(Tonga_Islands)_tong1325.csv\n",
      "Tonsea_tons1240.csv\n",
      "Toqabaqita_toab1237.csv\n",
      "Torete_tore1237.csv\n",
      "Totoli_toto1304.csv\n",
      "Tubuai_tubu1240.csv\n",
      "Tukang_Besi_South_tuka1249.csv\n",
      "Tulambatu_tula1253.csv\n",
      "Tungag_tung1290.csv\n",
      "Tuvalu_(Nanumea)_tuva1244.csv\n",
      "Ulawa_ulaw1237.csv\n",
      "Uma_Juman_(Kayan)_umaj1240.csv\n",
      "Umiray_Dumaget_Agta_umir1236.csv\n",
      "Unua_unua1237.csv\n",
      "Urak_Lawoi_urak1238.csv\n",
      "Ura_urav1235.csv\n",
      "Uripiv-Wala-Rano-Atchin_urip1239.csv\n",
      "Vaekau-Taumako_pile1238.csv\n",
      "Vao_vaoo1237.csv\n",
      "Varisi_vari1239.csv\n",
      "Vera'a_vera1241.csv\n",
      "Vures_vure1239.csv\n",
      "Waia_waia1242.csv\n",
      "Wallisian_(East_Uvea)_wall1257.csv\n",
      "Waropen_waro1242.csv\n",
      "Waru_waru1266.csv\n",
      "Watut_watu1246.csv\n",
      "Wawonii_wawo1239.csv\n",
      "Weda_weda1240.csv\n",
      "Western_Bukidnon_Manobo_west2555.csv\n",
      "Western_Tawbuid_(Batangan)_west2559.csv\n",
      "West_Coast_Bajau_west2560.csv\n",
      "West_Futuna_west2515.csv\n",
      "Whitesands_whit1269.csv\n",
      "Wiwirano_wiwi1237.csv\n",
      "Wogeo_woge1237.csv\n",
      "Woleaian_wole1240.csv\n",
      "Wolio_woli1241.csv\n",
      "Wuvulu_Aua_wuvu1239.csv\n",
      "Xalangi_(Maevo_Vanuatu)_mari1426h.csv\n",
      "Xaracuu_(Canala)_xara1244.csv\n",
      "Yabem_yabe1254.csv\n",
      "Yakan_yaka1277.csv\n",
      "Yamdena_yamd1240.csv\n",
      "Yami_Tao__yami1254.csv\n",
      "Zabana_(Kia)_zaba1237.csv\n",
      "De_kwana_Maquiritari__maqu1238.csv\n",
      "Galibi_Carib_gali1262.csv\n",
      "Macushi_macu1259.csv\n",
      "Panare_enap1235.csv\n",
      "Pemon_pemo1248.csv\n",
      "Waimiri_Atroari_waim1253.csv\n",
      "Wai_Wai_waiw1244.csv\n",
      "Chenchu_chen1255.csv\n",
      "Dandami_Maria_dand1238.csv\n",
      "Gondi_gond1265.csv\n",
      "Kadar_kada1242.csv\n",
      "Kodava_koda1255.csv\n",
      "Koya_koya1251.csv\n",
      "Kui_kuii1252.csv\n",
      "Kurukh_kuru1302.csv\n",
      "Kuvi_kuvi1243.csv\n",
      "Malapandaram_mala1468.csv\n",
      "Malayalam_mala1464.csv\n",
      "Morgan1871_Canarese_nucl1305.csv\n",
      "Morgan1871_Tamil_tami1289.csv\n",
      "Morgan1871_Telugu_telu1262.csv\n",
      "Northern_Gondi_nort2702.csv\n",
      "Paliyan_pali1274.csv\n",
      "Tamil_tami1289.csv\n",
      "Telugu_telu1262.csv\n",
      "Toda_toda1252.csv\n",
      "Yerukula_yeru1240.csv\n",
      "Albanian_alba1267.csv\n",
      "Albanian_Tosk__tosk1239.csv\n",
      "Ancient_Greek_anci1242.csv\n",
      "Armenian_nucl1235.csv\n",
      "Assamese_assa1263.csv\n",
      "Avestan_aves1237.csv\n",
      "Balochi_balo1260.csv\n",
      "Belarusian_bela1254.csv\n",
      "Bengali_beng1280.csv\n",
      "Bihari_biha1245.csv\n",
      "Boers_afri1274.csv\n",
      "Breton_bret1244.csv\n",
      "Bulgarian_bulg1262.csv\n",
      "Central_Kurdish_cent1972.csv\n",
      "Chavacano_chav1241.csv\n",
      "Cornish_corn1251.csv\n",
      "Czech_czec1258.csv\n",
      "Danish_dani1285.csv\n",
      "Dari_dari1249.csv\n",
      "Dutch_dutc1256.csv\n",
      "Eastern_Armenian_east2283.csv\n",
      "Eastern_Pahari_Nepali__east1436.csv\n",
      "Eastern_Yiddish_east2295.csv\n",
      "English_stan1293.csv\n",
      "Frisian_fris1239.csv\n",
      "German_stan1295.csv\n",
      "Gothic_goth1244.csv\n",
      "Gujarati_guja1252.csv\n",
      "Hindi_hind1269.csv\n",
      "Hittite_hitt1242.csv\n",
      "Icelandic_icel1247.csv\n",
      "Irish_iris1253.csv\n",
      "Italian_ital1282.csv\n",
      "Jamaican_Creole_jama1262.csv\n",
      "Judeo_Tat_jude1256.csv\n",
      "Kashmiri_kash1277.csv\n",
      "Kriol_Roper_River_krio1252.csv\n",
      "Kristang_(Malacca_Creole_Portugese)_mala1533.csv\n",
      "Kumaoni_kuma1273.csv\n",
      "Lahnda_lahn1241.csv\n",
      "Latin_lati1261.csv\n",
      "Latin_lati1261a.csv\n",
      "Latvian_latv1249.csv\n",
      "Lithuanian_lith1251.csv\n",
      "Luxembourgish_luxe1241.csv\n",
      "Macedonian_mace1250.csv\n",
      "Mahasu_Pahari_maha1287.csv\n",
      "Maithili_mait1250.csv\n",
      "Marathi_mara1378.csv\n",
      "Marwari_India__marw1260.csv\n",
      "Middle_English_midd1317.csv\n",
      "Middle_High_German_midd1343.csv\n",
      "Modern_Greek_mode1248.csv\n",
      "Modern_Welsh_wels1247.csv\n",
      "Morgan1871_Bengâli_beng1280.csv\n",
      "Morgan1871_Gujarati_guja1252.csv\n",
      "Morgan1871_Hindi_hind1269.csv\n",
      "Morgan1871_Marâthî_mara1378.csv\n",
      "Negerhollands_nege1244.csv\n",
      "Nepali_nepa1254.csv\n",
      "Northern_Kurdish_nort2641.csv\n",
      "Norwegian_Bokmål_norw1259.csv\n",
      "Old_Church_Slavonic_chur1257.csv\n",
      "Old_English_ca_450_1100__olde1238.csv\n",
      "Old_Irish_oldi1245.csv\n",
      "Old_Norse_oldn1244.csv\n",
      "Old_Prussian_prus1238.csv\n",
      "Old_Russian_oldr1238.csv\n",
      "Old_Welsh_oldw1239.csv\n",
      "Oriya_oriy1255.csv\n",
      "Ossetian_osse1243.csv\n",
      "Ossetic_osse1245.csv\n",
      "Panjabi_panj1256.csv\n",
      "Pashto_pash1269.csv\n",
      "Polish_poli1260.csv\n",
      "Portuguese_port1283.csv\n",
      "Romanian_roma1327.csv\n",
      "Russian_russ1263.csv\n",
      "Russian_russ1263a.csv\n",
      "Sanskrit_sans1269.csv\n",
      "Sardinian_sard1257.csv\n",
      "Saterfriesisch_sate1242.csv\n",
      "Serbocroation_sout1528.csv\n",
      "Serbs_serb1264.csv\n",
      "Sindhi_sind1272.csv\n",
      "Sinhala_sinh1246.csv\n",
      "Slovakian_slov1269.csv\n",
      "Slovenian_slov1268.csv\n",
      "Standard_Catalan_stan1289.csv\n",
      "Standard_English_stan1293.csv\n",
      "Standard_French_stan1290.csv\n",
      "Standard_German_stan1295.csv\n",
      "Standard_Spanish_stan1288.csv\n",
      "Swedish_swed1254.csv\n",
      "Tajik_taji1245.csv\n",
      "Tokharian_A_tokh1242.csv\n",
      "Tokharian_B_tokh1243.csv\n",
      "Tok_Pisin_tokp1240.csv\n",
      "Torres_Strait_Creole_(Broken)_torr1261.csv\n",
      "Ukrainian_ukra1253.csv\n",
      "Urdu_urdu1245.csv\n",
      "Vlax_Romani_vlax1238.csv\n",
      "Wallon_wall1255.csv\n",
      "Western_Armenian_homs1234.csv\n",
      "Western_Farsi_west2369.csv\n",
      "Western_Panjabi_west2386.csv\n",
      "Aghul_aghu1253.csv\n",
      "Akhvakh_Northern_Akhvakh__akhv1239.csv\n",
      "Andi_andi1255.csv\n",
      "Archi_arch1244.csv\n",
      "Avar_Ancux__ancu1238.csv\n",
      "Avar_Andalal__anda1281.csv\n",
      "Avar_avar1256.csv\n",
      "Avar_Batlux__batl1238.csv\n",
      "Avar_Hid_dialect__hidd1238.csv\n",
      "Avaz_Khunzakh__kunz1243.csv\n",
      "Bahvalal_bagv1239.csv\n",
      "Bats_Tsova_Tush__bats1242.csv\n",
      "Bezhta_bezh1248.csv\n",
      "Budukh_budu1248.csv\n",
      "Chamalal_cham1309.csv\n",
      "Chamalal_Gigatli__giga1238.csv\n",
      "Dargwa_Chirag__chir1284.csv\n",
      "Dargwa_Itsari__itsa1239.csv\n",
      "Godoberi_ghod1238.csv\n",
      "Hinuq_hinu1240.csv\n",
      "Hunzib_hunz1247.csv\n",
      "Ingush_ingu1240.csv\n",
      "Inxokvari_inxo1238.csv\n",
      "Rutul_shin1265.csv\n",
      "East_Kewa_east2516.csv\n",
      "Erave_(South_Kewa)_erav1244.csv\n",
      "Kalam_kala1397.csv\n",
      "Komba_komb1273.csv\n",
      "Ku_Waru_boun1245.csv\n",
      "Kyaka_kyak1244.csv\n",
      "Proto_Sogeram_soge1235.csv\n",
      "West_Kewa_west2599.csv\n",
      "Abui_abui1241.csv\n",
      "Achuar_achu1249.csv\n",
      "Adang_adan1251.csv\n",
      "Agob-Ende-Kawam_agob1244.csv\n",
      "Aguaruna_agua1253.csv\n",
      "Alamblak_alam1246.csv\n",
      "Amanab_aman1265.csv\n",
      "Angaite_anga1316.csv\n",
      "ASF_Auslan_aust1271.csv\n",
      "Atsugewi_atsu1245.csv\n",
      "Au_auuu1241.csv\n",
      "Awa_imbo1238.csv\n",
      "Awiakay_awia1234.csv\n",
      "Ayoreo_ayor1240.csv\n",
      "Bardi_bard1254.csv\n",
      "Bari_bari1297.csv\n",
      "Baruya_baru1267.csv\n",
      "Basque_basq1248.csv\n",
      "Basque_west1508.csv\n",
      "Berik_beri1254.csv\n",
      "Bilua_bilu1245.csv\n",
      "Bininj_Kun-wok_gunw1252.csv\n",
      "Blagar_blag1240.csv\n",
      "Buin_buin1247.csv\n",
      "Cayubaba_cayu1262.csv\n",
      "Central_Aymara_cent2142.csv\n",
      "Cha_palaa_chac1249.csv\n",
      "Chimariko_chim1301.csv\n",
      "Chipaya_chip1262.csv\n",
      "Chiricahua_mesc1238.csv\n",
      "Coastal_Yuki_yuki1243b.csv\n",
      "Cocopa_coco1261.csv\n",
      "Cofan_cofa1242.csv\n",
      "Copper_Inuit_copp1244.csv\n",
      "Cruzeño_cruz1243.csv\n",
      "Cubeo_cube1242.csv\n",
      "Cusco_Quechua_cusc1236.csv\n",
      "Dalabon_ngal1292.csv\n",
      "Daribi_dadi1250.csv\n",
      "Degexit_an_dege1248.csv\n",
      "DeneTha_South_Slavey__sout2959.csv\n",
      "Dene_Suliné_chip1261.csv\n",
      "Dogrib_dogr1252.csv\n",
      "Doutai_dout1240.csv\n",
      "Duna_duna1248.csv\n",
      "Délįne_nort2942.csv\n",
      "Edopi_edop1238.csv\n",
      "Eipo_eipo1242.csv\n",
      "Ekari_ekar1243.csv\n",
      "Elamite_elam1244.csv\n",
      "Ende_(Papua_New_Guinea)_ende1235.csv\n",
      "Epena_epen1239.csv\n",
      "Eyak_eyak1241.csv\n",
      "Foi_foii1241.csv\n",
      "Fore_fore1270.csv\n",
      "Galeia_A_gale1259.csv\n",
      "Galeia_B_gale1259.csv\n",
      "Ganggalida_gang1267.csv\n",
      "Gimi_gimi1243.csv\n",
      "Grand_Valley_Dani_lowe1415.csv\n",
      "Gui_(Gwi)_gwii1239.csv\n",
      "Gününa_Küne_puel1244.csv\n",
      "Hewa_hewa1241.csv\n",
      "Hoti_Yuwana__yuwa1244.csv\n",
      "Huli_huli1244.csv\n",
      "Hunza_hunz1248.csv\n",
      "Hupa_hupa1239.csv\n",
      "I'saka_(Krisa)_kris1246.csv\n",
      "Iau_iauu1242.csv\n",
      "Idi_nucl1597.csv\n",
      "Inanwatan_(Suabo)_inan1242.csv\n",
      "Isirawa_isir1237.csv\n",
      "Itonama_iton1250.csv\n",
      "Iwam_iwam1256.csv\n",
      "Iyojwa_ja_Chorote_iyoj1235.csv\n",
      "Japanese_nucl1643.csv\n",
      "Jicarilla_jica1244.csv\n",
      "Jingulu_djin1251.csv\n",
      "Kalamang_kara1499.csv\n",
      "Kamang_kama1365.csv\n",
      "Kamano_kama1370.csv\n",
      "Kanum_kanu1280.csv\n",
      "Karok_karo1304.csv\n",
      "Kashaya_kash1280.csv\n",
      "Kaure_kaur1271.csv\n",
      "Kayardild_kaya1318.csv\n",
      "Kemiju_(Jate)_keya1238.csv\n",
      "Kemtuik_kemt1242.csv\n",
      "Ketengban_kete1254.csv\n",
      "Ket_kett1243.csv\n",
      "Kewa_east2516.csv\n",
      "Keyagana_(Jate)_keya1238.csv\n",
      "Khalkha-Mongolian_mong1331.csv\n",
      "Kilmeri_kilm1241.csv\n",
      "Kimaama_kima1246.csv\n",
      "Kiowa_Apache_kiow1264.csv\n",
      "Kiraman_kira1248.csv\n",
      "Kiwaian_sout2949.csv\n",
      "Klon_kelo1247.csv\n",
      "Kogi_cogu1240.csv\n",
      "Koiari_gras1249.csv\n",
      "Kombai_komb1274.csv\n",
      "Komnzo_komn1238.csv\n",
      "Konda_(Western_Dani)_west2594.csv\n",
      "Korafe_kora1295.csv\n",
      "Korowai_koro1312.csv\n",
      "Kuman_kuma1280.csv\n",
      "Kung_juho1239.csv\n",
      "Kunimaipa_kuni1267.csv\n",
      "Kunza_kunz1244.csv\n",
      "Kuot_kuot1243.csv\n",
      "Kwoma_kwom1262.csv\n",
      "Lake_Miwok_lake1258.csv\n",
      "Lardil_lard1243.csv\n",
      "Lengua_leng1262.csv\n",
      "Limilngan_limi1242.csv\n",
      "Lipan_Apache_lipa1241.csv\n",
      "Loloda-Laba_(Loda)_lolo1264.csv\n",
      "Maca_maca1260.csv\n",
      "Madole_modo1249.csv\n",
      "Mairasi_nucl1594.csv\n",
      "Maklew_makl1246.csv\n",
      "Mala_mala1294.csv\n",
      "Mali_mali1284.csv\n",
      "Mapudungun_mapu1245.csv\n",
      "Marind_nucl1622.csv\n",
      "Marra_mara1385.csv\n",
      "Mattole_matt1238.csv\n",
      "Maybrat_maib1239.csv\n",
      "Mblafe_mbla1238.csv\n",
      "Meriam_meri1244.csv\n",
      "Meyah_meya1236.csv\n",
      "Miani_mian1254.csv\n",
      "Midob_mido1240.csv\n",
      "Mocoví_moco1246.csv\n",
      "Momu-Fas_fass1245.csv\n",
      "Moni_moni1261.csv\n",
      "Monumbo_nucl1458.csv\n",
      "Morgan1871_Arikara_(Arickaree)_arik1262.csv\n",
      "Morgan1871_Assiniboine_(Asiniboine)_assi1247.csv\n",
      "Morgan1871_Baffin_Inuktitut_(Eskimo,_Northumberland_Inlet)_baff1241.csv\n",
      "Morgan1871_Cayuga_cayu1261.csv\n",
      "Morgan1871_Cherokee_cher1273.csv\n",
      "Morgan1871_Chibcha_(New_Granada)_chib1270.csv\n",
      "Morgan1871_Chickasa_chic1270.csv\n",
      "Morgan1871_Choctaw_(1)_choc1276.csv\n",
      "Morgan1871_Choctaw_(2)_choc1276.csv\n",
      "Morgan1871_Creek_cree1270.csv\n",
      "Morgan1871_Crow_crow1244.csv\n",
      "Morgan1871_Dakota_Blackfoot_lako1247.csv\n",
      "Morgan1871_Dakota_Brule_brul1239.csv\n",
      "Morgan1871_Dakota_Isauntie_dako1258.csv\n",
      "Morgan1871_Dakota_Ogalalla_lako1247.csv\n",
      "Morgan1871_Dakota_Sisseton_dako1258.csv\n",
      "Morgan1871_Dakota_Uncpapa_lako1247.csv\n",
      "Morgan1871_Dakota_Yanktonais_dako1258.csv\n",
      "Morgan1871_Dakota_Yankton_dako1258.csv\n",
      "Morgan1871_Grand_Pawnee_pawn1254.csv\n",
      "Morgan1871_Hare_Indians_or_Tä-nä'-tin-ne_hare1243.csv\n",
      "Morgan1871_Iowä_iowa1245.csv\n",
      "Morgan1871_Japanese_japa1256.csv\n",
      "Morgan1871_Kalaallisut_(Eskimo,_Greenland)_kala1399.csv\n",
      "Morgan1871_Kaw_kans1243.csv\n",
      "Morgan1871_Kootenay_kute1249.csv\n",
      "Morgan1871_Kǔtchin,_or_Louchieux_gwic1235.csv\n",
      "Morgan1871_Laguna_west2632.csv\n",
      "Morgan1871_Mandan_mand1446.csv\n",
      "Morgan1871_Minnitaree_hida1246.csv\n",
      "Morgan1871_Mohawk_moha1258.csv\n",
      "Morgan1871_Mountain_Cherokee_cher1273.csv\n",
      "Morgan1871_Omahä_omah1247.csv\n",
      "Morgan1871_Oneida_onei1249.csv\n",
      "Morgan1871_Onondaga_onon1246.csv\n",
      "Morgan1871_Osage_osag1243.csv\n",
      "Morgan1871_Otoe_otoo1241.csv\n",
      "Morgan1871_Punkä_ponc1241.csv\n",
      "Morgan1871_Red-knife,_or_Täl-sote'e-nä_dogr1252.csv\n",
      "Morgan1871_Republican_Pawnee_pawn1254.csv\n",
      "Morgan1871_Seneca_sene1264.csv\n",
      "Morgan1871_Slave_Lake_Indians_or_A-cha'o-tin-ne_slav1253.csv\n",
      "Morgan1871_Tabasco_Chontal_(Chontal_Tabasco)_taba1266.csv\n",
      "Morgan1871_Tesuque_tesu1245.csv\n",
      "Morgan1871_Tukuthe_gwic1235.csv\n",
      "Morgan1871_Tuscarora_tusc1257.csv\n",
      "Morgan1871_Two_Mountain_Iroquios_laur1250.csv\n",
      "Morgan1871_Western_Canadian_Inuktitut_(Eskimo,_West_of_Hudson's_Bay)_west2618.csv\n",
      "Morgan1871_Winnebagoe_winn1245.csv\n",
      "Morgan1871_Wyandote_wyan1247.csv\n",
      "Morgan1871_Yakama_yaki1237.csv\n",
      "Mosetén_Chimané_mose1249.csv\n",
      "Movima_movi1243.csv\n",
      "Muisca_Chibcha__chib1270.csv\n",
      "Murrinhpatha_murr1258.csv\n",
      "Nagovisi_sibe1248.csv\n",
      "Nama_nama1266.csv\n",
      "Nambo_namb1293.csv\n",
      "Nasioi_naas1242.csv\n",
      "Navajo_nava1243.csv\n",
      "Negwa_(Yagwoia)_yagw1240.csv\n",
      "Neme_neme1244.csv\n",
      "Nen_nenn1238.csv\n",
      "Nen_nenn1238a.csv\n",
      "Netsilik_nets1241.csv\n",
      "Nimboran_nucl1633.csv\n",
      "Ninam_nina1238.csv\n",
      "Nivacle_niva1238.csv\n",
      "Northeastern_Maidu_nort2952.csv\n",
      "Northern_Embera_nort2972.csv\n",
      "Northern_Haida_nort2938.csv\n",
      "Northern_Pomo_nort2966.csv\n",
      "NorthMuyu_nort2916.csv\n",
      "Northwestern_Maidu_nort2951.csv\n",
      "Nunamiut_nort2944.csv\n",
      "Nungon_yaum1237.csv\n",
      "Nuu_Chah_Nulth_nuuc1236.csv\n",
      "Nyulnyul_nyul1247.csv\n",
      "Onobasulu_onob1238.csv\n",
      "Pagu_pagu1249.csv\n"
     ]
    },
    {
     "name": "stdout",
     "output_type": "stream",
     "text": [
      "Pilagá_pila1245.csv\n",
      "Puinave_puin1248.csv\n",
      "Pumé_pume1238.csv\n",
      "Páez_paez1247.csv\n",
      "Qawasquar_qawa1238.csv\n",
      "Quechan_quec1382.csv\n",
      "Riantana_rian1263.csv\n",
      "Rotokas_roto1249.csv\n",
      "Sanapana_sana1298.csv\n",
      "Savosavo_savo1255.csv\n",
      "Sawi_sawi1257.csv\n",
      "Selk_nam_onaa1245.csv\n",
      "Seri_seri1257.csv\n",
      "Setaman_Baktamin_seta1246.csv\n",
      "Shasta_shas1239.csv\n",
      "Sion_sion1247.csv\n",
      "Siwai_Motuna_siwa1245.csv\n",
      "Sougb_mani1235.csv\n",
      "Southern_Coastal_Tsimshian_nucl1649.csv\n",
      "Suki_suki1245.csv\n",
      "Tabla_tabl1243.csv\n",
      "Taiap_taia1239.csv\n",
      "Tehuelche_tehu1242.csv\n",
      "Teiwa_teiw1235.csv\n",
      "Telefol_tele1256.csv\n",
      "Tidore_(version_1)_tido1248.csv\n",
      "Tidore_(version_2)_tido1248a.csv\n",
      "Tidore_tido1249.csv\n",
      "Tlingit_tlin1245.csv\n",
      "Toba_toba1269.csv\n",
      "Tolowa_tolo1259.csv\n",
      "Touo_touo1238.csv\n",
      "Trumai_trum1247.csv\n",
      "Tsafiki_colo1249.csv\n",
      "Tucanoan_Bará_waim1255.csv\n",
      "Tucano_tuca1252.csv\n",
      "Tuyuca_tuyu1244.csv\n",
      "Tzeltal_tzel1254.csv\n",
      "Umbu-Ungu_umbu1258.csv\n",
      "Usurufa_usar1243.csv\n",
      "Waffa_waff1241.csv\n",
      "Wailaki_wail1244.csv\n",
      "Wambaya_wamb1258.csv\n",
      "Waorani_waor1240.csv\n",
      "Wappo_wapp1239.csv\n",
      "Wari__wari1268.csv\n",
      "Warta_Thuntai_gunt1241.csv\n",
      "Watam_wata1253.csv\n",
      "Wersing_wers1238.csv\n",
      "Western_Apache_west2615.csv\n",
      "Western_Pantar_lamm1241.csv\n",
      "Wichí_wich1264.csv\n",
      "Wipi_wipi1242.csv\n",
      "Xibe_xibe1242.csv\n",
      "Yale_kosa1249.csv\n",
      "Yalic_yali1257.csv\n",
      "Yamana_yama1264.csv\n",
      "Yanomámi_yano1262.csv\n",
      "Yawa_nucl1454.csv\n",
      "Yele_(Yélî_Dnye)_yele1255.csv\n",
      "Yelmek_yelm1242.csv\n",
      "Yucatec_Maya_yuca1254.csv\n",
      "Yuki_yuki1243.csv\n",
      "Yukulta_(Ganggalida)_gang1267a.csv\n",
      "Yuracare_yura1255.csv\n",
      "Zuni_zuni1245.csv\n",
      "Adnyamathanha_adny1235.csv\n",
      "Alyawarr_alya1239.csv\n",
      "Arabana_arab1267.csv\n",
      "Arabana_arab1267a.csv\n",
      "Badimaya_badi1246.csv\n",
      "Bandjalang_band1339.csv\n",
      "Bindal_bind1236.csv\n",
      "Biri_biri1256.csv\n",
      "Bunganditj_bung1264.csv\n",
      "Dharumbal_dhar1248.csv\n",
      "Dharumbal_dhar1248a.csv\n",
      "Dhuwal-Dhuwala_(Yolngu)_dhuw1248.csv\n",
      "Dhuwal_dhuw1249.csv\n",
      "Diyari_dier1241.csv\n",
      "Diyari_dier1241a.csv\n",
      "Djambarrpuyngu_djam1256.csv\n",
      "Djapu_dhuw1249.csv\n",
      "Djinang_djin1253.csv\n",
      "Djinang_djin1253a.csv\n",
      "Duungidjawu_duun1241.csv\n",
      "Dyirbal_dyir1250.csv\n",
      "FlindersIsland_flin1247.csv\n",
      "Gumatj_guma1253.csv\n",
      "Gumbaynggir_kumb1268.csv\n",
      "Gunya_guny1241.csv\n",
      "Gupapuyngu_gupa1247.csv\n",
      "Gurindji_guri1247.csv\n",
      "Guugu_Yimidhirr_gugu1255.csv\n",
      "Guugu_Yimidhirr_gugu1255a.csv\n",
      "Jaru_jaru1254.csv\n",
      "Kala_Lagaw_Ya_kala1377.csv\n",
      "Kalkatungu_kalk1246.csv\n",
      "Karajarri_kara1476.csv\n",
      "Kariyarra_kari1304.csv\n",
      "Kartujarra_kart1247.csv\n",
      "Karuwali_karr1236.csv\n",
      "Kaurna_kaur1267.csv\n",
      "Kukatja_kuka1246.csv\n",
      "Kuku-Yalanji_kuku1273.csv\n",
      "KukuYalanji_kuku1273.csv\n",
      "Kunjen_kunj1248.csv\n",
      "Kuuku_Ya'u_kuuk1238.csv\n",
      "Malgana_malg1242.csv\n",
      "Malgana_malg1242a.csv\n",
      "Margany_marg1253.csv\n",
      "MartuWangka_mart1256.csv\n",
      "Mudburra_mudb1240.csv\n",
      "Muruwari_muru1266.csv\n",
      "Ngaanyatjarra_ngaa1240.csv\n",
      "Ngaatjatjarra_ngaa1240.csv\n",
      "Ngadjumaya_ngad1258.csv\n",
      "Ngarinyman_ngar1235.csv\n",
      "Ngarla_ngar1286.csv\n",
      "Ngarluma_ngar1287.csv\n",
      "Ngarrindjeri_narr1259.csv\n",
      "Ngiyambaa_wang1291.csv\n",
      "Nhanta_nhan1238.csv\n",
      "Nyamal_nyam1271.csv\n",
      "Nyangumarta_nyan1301.csv\n",
      "Nyawaygi_nyaw1247.csv\n",
      "Paakantyi_darl1243.csv\n",
      "Payungu_bayu1240.csv\n",
      "PintupiLuritja_pint1250.csv\n",
      "Pirriya_pirr1240.csv\n",
      "Pitjantjatjara_pitj1243.csv\n",
      "Pitta_Pitta_pitt1247.csv\n",
      "Ritharrngu_rita1239.csv\n",
      "Thayore_(Kuuk_Thaayorre)_thay1249.csv\n",
      "Umpila_umpi1239.csv\n",
      "Uradhi_(Atampaya)_atam1239.csv\n",
      "Wajarri_waja1257.csv\n",
      "Wakaya_waga1260.csv\n",
      "Wangkajunga_wang1288.csv\n",
      "Wangkangurru_wang1290.csv\n",
      "Wangkangurru_wang1290a.csv\n",
      "Wangkumara_wong1246.csv\n",
      "Warlmanpa_warl1255.csv\n",
      "Warlpiri_warl1254.csv\n",
      "Warlpiri_warl1254a.csv\n",
      "Warnman_wanm1242.csv\n",
      "Warrnambool_warr1257.csv\n",
      "Warumungu_waru1265.csv\n",
      "Warungu_waru1264.csv\n",
      "Wathwurrung_wath1238.csv\n",
      "WikMungkan_wikm1247.csv\n",
      "Wiradjuri_wira1262.csv\n",
      "Wirangu_wira1265.csv\n",
      "Woiwurrung_woiw1237.csv\n",
      "Wulguru_wulg1239.csv\n",
      "Yadhaykenu_yadh1237.csv\n",
      "Yalarnnga_yala1262.csv\n",
      "Yalarnnga_yala1262a.csv\n",
      "Yandruwandha_yand1253.csv\n",
      "Yandruwandha_yand1253a.csv\n",
      "Yanyuwa_yany1243.csv\n",
      "Yarluyandi_ngam1265.csv\n",
      "Yidiny_yidi1250.csv\n",
      "Yidiny_yidi1250a.csv\n",
      "Yindjibarndi_yind1247.csv\n",
      "Yir-Yoront_yiry1245.csv\n",
      "Yorta_Yorta_yort1237.csv\n",
      "Yugambal_(Yugambeh)_yuga1244.csv\n",
      "Yugambeh_yugu1249.csv\n",
      "Yulparija_yulp1239.csv\n",
      "Yuwaalaraay_gami1243.csv\n",
      "Shipibo_ship1254.csv\n",
      "Morgan1871_Okinaken_okan1243.csv\n",
      "Morgan1871_Spokäne_spok1245.csv\n",
      "Burmese_nucl1310.csv\n",
      "Chepang_chep1245.csv\n",
      "Dzonghka_Lhop_dzon1239.csv\n",
      "Dzonghka_Sha_dzon1239.csv\n",
      "Dzonghka_Wang_wang1287.csv\n",
      "Jinghpaw_jing1260.csv\n",
      "Lisu_lisu1250a.csv\n",
      "Lisu_lisu1250b.csv\n",
      "Lisu_lisu1250c.csv\n",
      "Lisu_lisu1250d.csv\n",
      "Manange_mana1288.csv\n",
      "Morgan1871_Burmese_burm1266.csv\n",
      "Morgan1871_Chinese_sini1245.csv\n",
      "Morgan1871_Karen_(Pwo_dialect)_pwoo1239.csv\n",
      "Morgan1871_Karen_(Sgau_dialect)_sgaw1245.csv\n",
      "Morgan1871_Karen_kare1337.csv\n",
      "Prakaa_prak1243.csv\n",
      "Sangtam_Naga_sang1321.csv\n",
      "Sherpa_sher1255.csv\n",
      "Suzhou_shan1293.csv\n",
      "Suzhou_suzh1234.csv\n",
      "Dehong_deho1238.csv\n",
      "Turung_turu1249.csv\n",
      "Aché_ache1246.csv\n",
      "Anambé_anam1249.csv\n",
      "Araweté_araw1273.csv\n",
      "Avá_Canoeiro_avac1239.csv\n",
      "Awetí_awet1244.csv\n",
      "Chiriguano_east2555.csv\n",
      "Cinta_Larga_cint1239.csv\n",
      "Cocama_Cocamilla_coca1259.csv\n",
      "Emerillon_emer1243.csv\n",
      "Guajá_guaj1256.csv\n",
      "Guarayu_guar1292.csv\n",
      "Jurúna_juru1256.csv\n",
      "Kaiwá_kaiw1246.csv\n",
      "Kamayurá_kama1373.csv\n",
      "Karitiana_kari1311.csv\n",
      "Kayabí_kaya1329.csv\n",
      "Mbyá_Guaraní_mbya1239.csv\n",
      "Mundurukú_mund1330.csv\n",
      "Paraguayan_Guaraní_para1311.csv\n",
      "Parakanã_para1312.csv\n",
      "Pauserna_paus1244.csv\n",
      "Proto_Tupi_Guarani_tupi1276.csv\n",
      "Sateré_Mawé_sate1243.csv\n",
      "Sirionó_siri1273.csv\n",
      "Suruí_suru1262.csv\n",
      "Tapirapé_tapi1254.csv\n",
      "Tembé_temb1276.csv\n",
      "Tenharim_tenh1241.csv\n",
      "Tocantins_Asurini_toca1235.csv\n",
      "Tupinambá_tupi1273.csv\n",
      "Tupí_tupi1274.csv\n",
      "Wayampi_waya1270.csv\n",
      "Kazakh_kaza1248.csv\n",
      "Kumyk_kumy1244.csv\n",
      "Nogai_noga1249.csv\n",
      "North_Azerbaijani_nort2697.csv\n",
      "Turkish_nucl1301.csv\n",
      "ErzyaMordvin_erzy1239.csv\n",
      "Erzya_erzy1239.csv\n",
      "Estonian_esto1258.csv\n",
      "Finnish_finn1318.csv\n",
      "ForestEnets_fore1265.csv\n",
      "HillMari_west2392.csv\n",
      "Hungarian_hung1274.csv\n",
      "Ingrian_ingr1248.csv\n",
      "KazymKhanty_nort2672.csv\n",
      "Kazym_Berezover_Suryskarer_Khanty_khan1273.csv\n",
      "KomiZyrian_komi1268.csv\n",
      "Komi_Zyrian_komi1268.csv\n",
      "Livonian_livv1244.csv\n",
      "Magyar_hung1274.csv\n",
      "Mansi_mans1258.csv\n",
      "Mari_east2328.csv\n",
      "MeadowMari_gras1239.csv\n",
      "MokshaMordvin_moks1248.csv\n",
      "Nganasan_ngan1291.csv\n",
      "Northern_Sami_nort2671.csv\n",
      "NorthSaami_nort2671.csv\n",
      "Selkup_selk1253.csv\n",
      "SkoltSaami_skol1241.csv\n",
      "SosvaMansi_nort2677.csv\n",
      "SouthSaami_sout2674.csv\n",
      "TundraNenets_nene1249.csv\n",
      "Tundra_Nenets_nene1249.csv\n",
      "Udmurt_udmu1245.csv\n",
      "Veps_veps1250.csv\n",
      "Arizona_Yaqui_yaqu1251a.csv\n",
      "Aztec_clas1250.csv\n",
      "Bannock_bann1248.csv\n",
      "Cahuilla_cahu1264.csv\n",
      "Chemehuevi_chem1251.csv\n",
      "Colorado_Ute_utee1244a.csv\n",
      "Comanche_coma1245.csv\n",
      "Cora_elna1235.csv\n",
      "Cupeño_cupe1243.csv\n",
      "Eudeve_eude1234.csv\n",
      "Gabrielino_tong1329.csv\n",
      "Guarijio_huar1255.csv\n",
      "Highland_Puebla_Nahuatl_high1278.csv\n",
      "Hopi_hopi1249.csv\n",
      "Hopi_S__hopi1249b.csv\n",
      "Huastec_Nahuatl_huas1257.csv\n",
      "Huichol_huic1243.csv\n",
      "Kawaiisu_kawa1283.csv\n",
      "Kitanemuk_serr1255b.csv\n",
      "Lower_Pima_Pima_Bajo_pima1248.csv\n",
      "Luiseńo_luis1253.csv\n",
      "Mayo_mayo1264.csv\n",
      "Mono_mono1275.csv\n",
      "Morgan1871_Utahs_(Tabegwaches)_utes1238.csv\n",
      "Nevome_pima1248b.csv\n",
      "Northern_Paiute_nort2954.csv\n",
      "Northern_Tepehuan_nort2959.csv\n",
      "North_Northern_Paiute_nort1551.csv\n",
      "Opata_opat1246.csv\n",
      "Pima_de_Yepáchic_chih1238.csv\n",
      "Pipil_pipi1250.csv\n",
      "Serrano_serr1255.csv\n",
      "Shoshoni_shos1248.csv\n",
      "Southeastern_Tepehuano_sout2976.csv\n",
      "Southern_Paiute_sout2969.csv\n",
      "Southern_Tepehuan_sout2975.csv\n",
      "Southern_Tepehuan_W__sout2977.csv\n",
      "Southern_Ute_utee1244.csv\n",
      "Tarahumara_cent2131.csv\n",
      "Tohono_O_odham_toho1245.csv\n",
      "Tubar_tuba1279.csv\n",
      "Tübatülabal_tuba1278.csv\n",
      "Tümpisha_Shoshoni_pana1305.csv\n",
      "Western_Shoshoni_west2622.csv\n",
      "White_Mesa_Ute_utee1244b.csv\n",
      "Yaqui_yaqu1251.csv\n"
     ]
    },
    {
     "data": {
      "text/html": [
       "<div>\n",
       "<style scoped>\n",
       "    .dataframe tbody tr th:only-of-type {\n",
       "        vertical-align: middle;\n",
       "    }\n",
       "\n",
       "    .dataframe tbody tr th {\n",
       "        vertical-align: top;\n",
       "    }\n",
       "\n",
       "    .dataframe thead th {\n",
       "        text-align: right;\n",
       "    }\n",
       "</style>\n",
       "<table border=\"1\" class=\"dataframe\">\n",
       "  <thead>\n",
       "    <tr style=\"text-align: right;\">\n",
       "      <th></th>\n",
       "      <th>language</th>\n",
       "      <th>language_family</th>\n",
       "      <th>code</th>\n",
       "      <th>simulation_code</th>\n",
       "      <th>simulation</th>\n",
       "      <th>mutual_information</th>\n",
       "      <th>entropy_gn</th>\n",
       "      <th>entropy_gn1</th>\n",
       "      <th>conditional_entropy</th>\n",
       "      <th>variation_gn</th>\n",
       "      <th>variation_gn1</th>\n",
       "      <th>number_of_pairs</th>\n",
       "    </tr>\n",
       "  </thead>\n",
       "  <tbody>\n",
       "    <tr>\n",
       "      <th>0</th>\n",
       "      <td>Akkadian</td>\n",
       "      <td>Afro-Asiatic</td>\n",
       "      <td>akka1240</td>\n",
       "      <td>akka1240_REAL</td>\n",
       "      <td>N</td>\n",
       "      <td>0.00000</td>\n",
       "      <td>2.25000</td>\n",
       "      <td>1.00000</td>\n",
       "      <td>1.00000</td>\n",
       "      <td>5</td>\n",
       "      <td>2</td>\n",
       "      <td>10</td>\n",
       "    </tr>\n",
       "    <tr>\n",
       "      <th>1</th>\n",
       "      <td>Amharic</td>\n",
       "      <td>Afro-Asiatic</td>\n",
       "      <td>amha1245</td>\n",
       "      <td>amha1245_REAL</td>\n",
       "      <td>N</td>\n",
       "      <td>1.58497</td>\n",
       "      <td>2.25163</td>\n",
       "      <td>1.91830</td>\n",
       "      <td>0.33333</td>\n",
       "      <td>6</td>\n",
       "      <td>4</td>\n",
       "      <td>10</td>\n",
       "    </tr>\n",
       "    <tr>\n",
       "      <th>2</th>\n",
       "      <td>Hausa</td>\n",
       "      <td>Afro-Asiatic</td>\n",
       "      <td>haus1257</td>\n",
       "      <td>haus1257_REAL</td>\n",
       "      <td>N</td>\n",
       "      <td>0.58496</td>\n",
       "      <td>1.58496</td>\n",
       "      <td>2.25163</td>\n",
       "      <td>1.66667</td>\n",
       "      <td>5</td>\n",
       "      <td>5</td>\n",
       "      <td>12</td>\n",
       "    </tr>\n",
       "    <tr>\n",
       "      <th>3</th>\n",
       "      <td>Lebanese_Arabic</td>\n",
       "      <td>Afro-Asiatic</td>\n",
       "      <td>stan1323</td>\n",
       "      <td>stan1323_REAL</td>\n",
       "      <td>N</td>\n",
       "      <td>1.58219</td>\n",
       "      <td>2.57770</td>\n",
       "      <td>2.58219</td>\n",
       "      <td>1.00000</td>\n",
       "      <td>6</td>\n",
       "      <td>6</td>\n",
       "      <td>12</td>\n",
       "    </tr>\n",
       "    <tr>\n",
       "      <th>4</th>\n",
       "      <td>Old_Aramaic</td>\n",
       "      <td>Afro-Asiatic</td>\n",
       "      <td>olda1245</td>\n",
       "      <td>olda1245_REAL</td>\n",
       "      <td>N</td>\n",
       "      <td>1.00000</td>\n",
       "      <td>2.00000</td>\n",
       "      <td>2.00000</td>\n",
       "      <td>1.00000</td>\n",
       "      <td>5</td>\n",
       "      <td>4</td>\n",
       "      <td>10</td>\n",
       "    </tr>\n",
       "    <tr>\n",
       "      <th>...</th>\n",
       "      <td>...</td>\n",
       "      <td>...</td>\n",
       "      <td>...</td>\n",
       "      <td>...</td>\n",
       "      <td>...</td>\n",
       "      <td>...</td>\n",
       "      <td>...</td>\n",
       "      <td>...</td>\n",
       "      <td>...</td>\n",
       "      <td>...</td>\n",
       "      <td>...</td>\n",
       "      <td>...</td>\n",
       "    </tr>\n",
       "    <tr>\n",
       "      <th>1067</th>\n",
       "      <td>Tubar</td>\n",
       "      <td>Uto-Aztecan</td>\n",
       "      <td>tuba1279</td>\n",
       "      <td>tuba1279_REAL</td>\n",
       "      <td>N</td>\n",
       "      <td>0.00000</td>\n",
       "      <td>1.52193</td>\n",
       "      <td>-0.00000</td>\n",
       "      <td>-0.00000</td>\n",
       "      <td>3</td>\n",
       "      <td>1</td>\n",
       "      <td>3</td>\n",
       "    </tr>\n",
       "    <tr>\n",
       "      <th>1068</th>\n",
       "      <td>Tübatülabal</td>\n",
       "      <td>Uto-Aztecan</td>\n",
       "      <td>tuba1278</td>\n",
       "      <td>tuba1278_REAL</td>\n",
       "      <td>N</td>\n",
       "      <td>0.00000</td>\n",
       "      <td>0.91830</td>\n",
       "      <td>1.00000</td>\n",
       "      <td>1.00000</td>\n",
       "      <td>2</td>\n",
       "      <td>2</td>\n",
       "      <td>4</td>\n",
       "    </tr>\n",
       "    <tr>\n",
       "      <th>1069</th>\n",
       "      <td>Tümpisha_Shoshoni</td>\n",
       "      <td>Uto-Aztecan</td>\n",
       "      <td>pana1305</td>\n",
       "      <td>pana1305_REAL</td>\n",
       "      <td>N</td>\n",
       "      <td>0.88654</td>\n",
       "      <td>2.17574</td>\n",
       "      <td>2.58219</td>\n",
       "      <td>1.69565</td>\n",
       "      <td>6</td>\n",
       "      <td>6</td>\n",
       "      <td>16</td>\n",
       "    </tr>\n",
       "    <tr>\n",
       "      <th>1070</th>\n",
       "      <td>White_Mesa_Ute</td>\n",
       "      <td>Uto-Aztecan</td>\n",
       "      <td>utee1244b</td>\n",
       "      <td>utee1244b_REAL</td>\n",
       "      <td>N</td>\n",
       "      <td>0.00000</td>\n",
       "      <td>-0.00000</td>\n",
       "      <td>-0.00000</td>\n",
       "      <td>-0.00000</td>\n",
       "      <td>1</td>\n",
       "      <td>1</td>\n",
       "      <td>1</td>\n",
       "    </tr>\n",
       "    <tr>\n",
       "      <th>1071</th>\n",
       "      <td>Yaqui</td>\n",
       "      <td>Uto-Aztecan</td>\n",
       "      <td>yaqu1251</td>\n",
       "      <td>yaqu1251_REAL</td>\n",
       "      <td>N</td>\n",
       "      <td>0.00000</td>\n",
       "      <td>1.84237</td>\n",
       "      <td>1.00000</td>\n",
       "      <td>1.00000</td>\n",
       "      <td>4</td>\n",
       "      <td>2</td>\n",
       "      <td>8</td>\n",
       "    </tr>\n",
       "  </tbody>\n",
       "</table>\n",
       "<p>1072 rows × 12 columns</p>\n",
       "</div>"
      ],
      "text/plain": [
       "               language language_family       code simulation_code simulation  \\\n",
       "0              Akkadian    Afro-Asiatic   akka1240   akka1240_REAL          N   \n",
       "1               Amharic    Afro-Asiatic   amha1245   amha1245_REAL          N   \n",
       "2                 Hausa    Afro-Asiatic   haus1257   haus1257_REAL          N   \n",
       "3       Lebanese_Arabic    Afro-Asiatic   stan1323   stan1323_REAL          N   \n",
       "4           Old_Aramaic    Afro-Asiatic   olda1245   olda1245_REAL          N   \n",
       "...                 ...             ...        ...             ...        ...   \n",
       "1067              Tubar     Uto-Aztecan   tuba1279   tuba1279_REAL          N   \n",
       "1068        Tübatülabal     Uto-Aztecan   tuba1278   tuba1278_REAL          N   \n",
       "1069  Tümpisha_Shoshoni     Uto-Aztecan   pana1305   pana1305_REAL          N   \n",
       "1070     White_Mesa_Ute     Uto-Aztecan  utee1244b  utee1244b_REAL          N   \n",
       "1071              Yaqui     Uto-Aztecan   yaqu1251   yaqu1251_REAL          N   \n",
       "\n",
       "      mutual_information  entropy_gn  entropy_gn1  conditional_entropy  \\\n",
       "0                0.00000     2.25000      1.00000              1.00000   \n",
       "1                1.58497     2.25163      1.91830              0.33333   \n",
       "2                0.58496     1.58496      2.25163              1.66667   \n",
       "3                1.58219     2.57770      2.58219              1.00000   \n",
       "4                1.00000     2.00000      2.00000              1.00000   \n",
       "...                  ...         ...          ...                  ...   \n",
       "1067             0.00000     1.52193     -0.00000             -0.00000   \n",
       "1068             0.00000     0.91830      1.00000              1.00000   \n",
       "1069             0.88654     2.17574      2.58219              1.69565   \n",
       "1070             0.00000    -0.00000     -0.00000             -0.00000   \n",
       "1071             0.00000     1.84237      1.00000              1.00000   \n",
       "\n",
       "      variation_gn  variation_gn1  number_of_pairs  \n",
       "0                5              2               10  \n",
       "1                6              4               10  \n",
       "2                5              5               12  \n",
       "3                6              6               12  \n",
       "4                5              4               10  \n",
       "...            ...            ...              ...  \n",
       "1067             3              1                3  \n",
       "1068             2              2                4  \n",
       "1069             6              6               16  \n",
       "1070             1              1                1  \n",
       "1071             4              2                8  \n",
       "\n",
       "[1072 rows x 12 columns]"
      ]
     },
     "execution_count": 16,
     "metadata": {},
     "output_type": "execute_result"
    }
   ],
   "source": [
    "# calculate_MI(families,'kinbank_mi_UPDATED_NEW_KINTYPES')"
   ]
  },
  {
   "cell_type": "markdown",
   "id": "5622ea1b",
   "metadata": {},
   "source": [
    "## Simulating kinship systems\n",
    "\n",
    "To investigate whether kinship systems have higher mutual information than chance, we can build a random baseline for each language to serve as a point of comparison.\n",
    "\n",
    "To do this, we will take each language in our dataset, and randomly scramble which terms go with which relatives (within generations). This will randomise the syncretisms within the paradigm, breaking any predictable structure built by the internal co-selection process, while maintaining the amount of variation across the system overall.\n",
    " \n",
    "We take the following steps:\n",
    "\n",
    "1. Extract the kinship system of a language from kinbank.\n",
    "2. Filter the two generations we are interested in.\n",
    "3. Randomly reassign the kinship terms to new types.\n",
    "4. Repeat the process 1000 times for each language.\n",
    "\n",
    "We already have the infrastructure for the first two! `get_kin_terms()`,  `get_pairs()` and `split_pairs()` will do this for us. So let's skip to 3, and write a function that randomises which terms form pairs, assuming that we have already extracted the kinship system and filtered the relevant pairs.\n",
    "\n",
    "### 3. Randomly rearrange kin terms\n",
    "\n",
    "`kintypes.py` also contains a list of which kin types are in which generation, which we can use to split a kinship system by generation."
   ]
  },
  {
   "cell_type": "code",
   "execution_count": 17,
   "id": "ffdacb9e",
   "metadata": {},
   "outputs": [],
   "source": [
    "def split_ks(ks):\n",
    "    gn = {}\n",
    "    gn1 = {}\n",
    "    for entry in ks:\n",
    "        if entry in kt.generation_n:\n",
    "            gn[entry] = ks[entry]\n",
    "        elif entry in kt.generation_n1:\n",
    "            gn1[entry] = ks[entry]\n",
    "        else:\n",
    "            pass\n",
    "\n",
    "    return gn,gn1        "
   ]
  },
  {
   "cell_type": "markdown",
   "id": "1d7ef4b2",
   "metadata": {},
   "source": [
    "Once the kinship system is split, we can then shuffle one of the generations and recombine the system."
   ]
  },
  {
   "cell_type": "code",
   "execution_count": 18,
   "id": "d0aad70d",
   "metadata": {},
   "outputs": [],
   "source": [
    "def shuffle_ks(ks):\n",
    "    gn_terms = []\n",
    "    gn,gn1 = split_ks(ks)\n",
    "    for term in gn:\n",
    "        gn_terms.append(gn[term])\n",
    "\n",
    "    random.shuffle(gn_terms)\n",
    "    \n",
    "    for i in range(len(gn)):\n",
    "        # print(i)\n",
    "        key = list(gn.keys())[i]\n",
    "        ks[key] = gn_terms[i]\n",
    "\n",
    "    return ks"
   ]
  },
  {
   "cell_type": "markdown",
   "id": "8490a175",
   "metadata": {},
   "source": [
    "If we split the kinship system, shuffle the G0 terms, and stick the system back together, then we can use `get_pairs()` just as we did for the real kinship systems to filter out the two generations we're interested in. From there, we can calculate MI for each simulation and save the data in a similar way as before."
   ]
  },
  {
   "cell_type": "code",
   "execution_count": 19,
   "id": "2677fd3b",
   "metadata": {},
   "outputs": [],
   "source": [
    "def simulate_ks(ks: dict) -> list:\n",
    "    simulation = shuffle_ks(ks)\n",
    "    shuffled_pairs = get_pairs(simulation)\n",
    "    return shuffled_pairs"
   ]
  },
  {
   "cell_type": "code",
   "execution_count": 20,
   "id": "8d9b1f53",
   "metadata": {},
   "outputs": [],
   "source": [
    "def simulate_MI(families: list, filename: str, times: int):\n",
    "    df = []\n",
    "    codes = []\n",
    "    filepath = '../../kinbank-family/'\n",
    "    \n",
    "    for family in tqdm(families):\n",
    "        all_files = get_kb_files(filepath + family)\n",
    "    \n",
    "        for file in all_files:\n",
    "            match = re.search('[a-z]{4}[0-9]{4}[a-z]?', file)\n",
    "            code = match.group()\n",
    "            language = file.split('_' + code)[0]\n",
    "\n",
    "            if code not in codes:\n",
    "                codes.append(code)\n",
    "\n",
    "                ks = get_kin_terms(filepath + family + '/' + file)\n",
    "\n",
    "                for i in range(times):\n",
    "                    pairs = simulate_ks(ks)\n",
    "                    if pairs:\n",
    "                        results = {}\n",
    "                        results['language'] = language\n",
    "                        results['language_family'] = family\n",
    "                        results['code'] = code\n",
    "                        results['simulation_code'] = code + '_' + str(i)\n",
    "                        results['simulation'] = 'Y'\n",
    "                        write_data(pairs,results)\n",
    "\n",
    "                        df.append(results)\n",
    "    \n",
    "    pd.DataFrame(df).to_csv('../data/raw/' + filename + '.csv',index=False)\n",
    "    \n",
    "    return pd.DataFrame(df)"
   ]
  },
  {
   "cell_type": "code",
   "execution_count": 21,
   "id": "191841d4",
   "metadata": {},
   "outputs": [],
   "source": [
    "# simulate_MI(['Indo-European'],'test',10)"
   ]
  },
  {
   "cell_type": "code",
   "execution_count": 21,
   "id": "cab099bf",
   "metadata": {},
   "outputs": [],
   "source": [
    "# simulate_MI(families,'simulated_mi_UPDATED_NEW_KINTYPES',1000)"
   ]
  },
  {
   "cell_type": "markdown",
   "id": "4b19f0d1",
   "metadata": {},
   "source": [
    "## Edit Distance\n",
    "\n",
    "In this section we calculate the normalised Levenshtein edit distance between pairs of kin terms in each language and generate a monte carlo sample of edit distance for each language so that we can calculate the z score (as well as the correlation between edit distances).\n",
    "\n",
    "To do this we need:\n",
    "* A function to calculate the levenshtein distance between two forms.\n",
    "* A function to calculate the distance between two meanings, which should have e.g. MB and MBD be closer than MZ and MBD.\n",
    "* A function to calculate the correlation between a table of form distances and a table of meaning distances.\n",
    "* A function to generate a monte carlo sample of correlations (ie the correlation of scrambled, simulated data).\n",
    "\n",
    "\n",
    "UPDATE: we are not just comparing all labels for all relatives, but rather all labels for all categories! This prevents languages being penalised for being compositional but not having all unique labels across aunts and uncles.\n",
    "\n",
    "So the first thing we need to do is work out which categories each language has, and who are the children of which category members."
   ]
  },
  {
   "cell_type": "code",
   "execution_count": 27,
   "id": "24b18a45",
   "metadata": {},
   "outputs": [],
   "source": [
    "test_lang = random.choice(all_kb_files)\n",
    "\n",
    "test_ks = get_kin_terms('../../kinbank/' + test_lang)\n",
    "\n",
    "g0,g1 = split_ks(test_ks)"
   ]
  },
  {
   "cell_type": "code",
   "execution_count": 48,
   "id": "f473f829",
   "metadata": {},
   "outputs": [],
   "source": [
    "def category_based_pairs(ks):\n",
    "    g0,g1 = split_ks(ks)\n",
    "    \n",
    "    # work out which g1 relatives share a term\n",
    "    \n",
    "    relatives = list(g1.keys())\n",
    "    terms = list(g1.values())\n",
    "\n",
    "    categories = []\n",
    "\n",
    "    for term in terms:\n",
    "        cat = []\n",
    "        indices = [index for index, element in enumerate(terms) if element == term]\n",
    "        for index in indices:\n",
    "            cat.append(relatives[index])\n",
    "        categories.append(cat)\n",
    "\n",
    "    categories = [list(i) for i in set(map(tuple, categories))]\n",
    "    \n",
    "    # work out which children should share a term on this basis\n",
    "    \n",
    "    child_cats = []\n",
    "\n",
    "    for cat in categories:\n",
    "        new_category = []\n",
    "        for individual in cat:\n",
    "            for pair in kt.ics_pairs:\n",
    "                if pair[0] == individual:\n",
    "                    new_category.append(pair[1])\n",
    "        child_cats.append(new_category)\n",
    "        \n",
    "    # and make a new list of parent-child pairs that should have equal semantic distance\n",
    "    \n",
    "    new_pairs = []\n",
    "    \n",
    "    for i in range(len(categories)):\n",
    "        new_pairs += list(itertools.product(categories[i], child_cats[i]))\n",
    "        \n",
    "    return new_pairs\n"
   ]
  },
  {
   "cell_type": "code",
   "execution_count": 49,
   "id": "1e4d1dd0",
   "metadata": {},
   "outputs": [],
   "source": [
    "from Levenshtein import distance as lvs_dist"
   ]
  },
  {
   "cell_type": "code",
   "execution_count": 50,
   "id": "2254040c",
   "metadata": {},
   "outputs": [],
   "source": [
    "def edit_distance(g0,g1):\n",
    "    edit_dists = []\n",
    "\n",
    "    for relative1 in g0:\n",
    "        term1 = g0[relative1]\n",
    "        for relative2 in g1:\n",
    "            data = {}\n",
    "            term2 = g1[relative2]\n",
    "            \n",
    "            if relative1 == relative2:\n",
    "                pass\n",
    "            \n",
    "            else:\n",
    "            \n",
    "                if len(term1) > 0 and len(term2) > 0:\n",
    "                    dist = lvs_dist(term1,term2)/len(max(term1,term2))\n",
    "                    edit_dists.append(dist)\n",
    "                else:\n",
    "                    pass\n",
    "\n",
    "    return edit_dists"
   ]
  },
  {
   "cell_type": "markdown",
   "id": "07dca5ab",
   "metadata": {},
   "source": [
    "To calculate semantic distance:"
   ]
  },
  {
   "cell_type": "code",
   "execution_count": 51,
   "id": "0f8cfc77",
   "metadata": {},
   "outputs": [],
   "source": [
    "def semantic_distance(g0,g1): # (df,ks,pairs):\n",
    "    sem_distances = []\n",
    "\n",
    "    for relative1 in g0:\n",
    "        for relative2 in g1:\n",
    "            \n",
    "            if relative1 == relative2:\n",
    "                pass\n",
    "            \n",
    "            else:\n",
    "            \n",
    "                if len(g0[relative1]) > 0 and len(g1[relative2]) > 0:\n",
    "\n",
    "                    if (relative1,relative2) in kt.ics_pairs or (relative2,relative1) in kt.ics_pairs:\n",
    "                        distance = 1\n",
    "                        sem_distances.append(distance)\n",
    "\n",
    "                    else:\n",
    "                        distance = 2\n",
    "                        sem_distances.append(distance)\n",
    "\n",
    "#     df['semantic_distance'] = sem_distances\n",
    "#     \n",
    "#     return df\n",
    "    return sem_distances\n"
   ]
  },
  {
   "cell_type": "markdown",
   "id": "1fc0d94d",
   "metadata": {},
   "source": [
    "The above will get us a meaning distance measure where if you are the child of a person, your meaning distance will be 1, and if you are not, your distance will be 2.\n",
    "\n",
    "This captures the kind of compositionality in meaning we're interested in (e.g. that children of a person will have a similar form to that person) but not all kinds of kinship compositionality e.g. the Swedish situation.\n",
    "\n",
    "Might have to do something more complex with features, e.g.\n",
    "male vs female\n",
    "mother side vs father side\n",
    "young vs old\n",
    "child-of vs not child-of\n",
    "\n",
    "Anyway, for now we can calculate the correlation between our edit distance and our semantic distance with scipy."
   ]
  },
  {
   "cell_type": "markdown",
   "id": "bfa32731",
   "metadata": {},
   "source": [
    "But to get a z-score, we can just reuse our shuffling infrastructure from the original simulation (repeated here)."
   ]
  },
  {
   "cell_type": "code",
   "execution_count": 26,
   "id": "cf728cb6",
   "metadata": {},
   "outputs": [],
   "source": [
    "def shuffle_ks(ks):\n",
    "    gn_terms = []\n",
    "    gn,gn1 = split_ks(ks)\n",
    "    for term in gn:\n",
    "        gn_terms.append(gn[term])\n",
    "\n",
    "    random.shuffle(gn_terms)\n",
    "    \n",
    "    for i in range(len(gn)):\n",
    "        # print(i)\n",
    "        key = list(gn.keys())[i]\n",
    "        ks[key] = gn_terms[i]\n",
    "\n",
    "    return ks"
   ]
  },
  {
   "cell_type": "code",
   "execution_count": 27,
   "id": "f3169b64",
   "metadata": {},
   "outputs": [],
   "source": [
    "# def shuffle_distance(distances):\n",
    "#     shuffled_edit_dists = distances.copy()\n",
    "#     random.shuffle(shuffled_edit_dists)\n",
    "#     return shuffled_edit_dists"
   ]
  },
  {
   "cell_type": "markdown",
   "id": "34df88d4",
   "metadata": {},
   "source": [
    "And finally combine all of that into a single function that calculates the true correlation between edit distance and semantic distance for each language; simulates that language 1000 times and calculates the same correlation; and saves a z-score for each language."
   ]
  },
  {
   "cell_type": "code",
   "execution_count": 28,
   "id": "0601234b",
   "metadata": {},
   "outputs": [],
   "source": [
    "def sample_distance(families,times,filename):\n",
    "    output_df = []\n",
    "    \n",
    "    codes = []\n",
    "    \n",
    "    for family in families:\n",
    "        files = get_kb_files('../../kinbank-family/' + family)\n",
    "        for file in tqdm(files):\n",
    "            \n",
    "            match = re.search('[a-z]{4}[0-9]{4}[a-z]?', file)\n",
    "            code = match.group()\n",
    "            language = file.split('_' + code)[0]\n",
    "            data = {}\n",
    "\n",
    "            if code not in codes:\n",
    "                codes.append(code)\n",
    "\n",
    "                full_ks = get_kin_terms('../../kinbank/' + file)\n",
    "                gn,gn1 = split_ks(full_ks)\n",
    "#                 ks = {**gn,**gn1}\n",
    "                \n",
    "\n",
    "                edit = edit_distance(gn,gn1)\n",
    "                sem = semantic_distance(gn,gn1)\n",
    "        \n",
    "                if len(edit) > 2:\n",
    "                    true_corr = scipy.stats.pearsonr(np.array(edit),np.array(sem))[0]\n",
    "\n",
    "                    sample_correlations = []\n",
    "                    for i in range(times):\n",
    "                        sample = shuffle_ks(full_ks)\n",
    "                        sample_gn,sample_gn1 = split_ks(sample)\n",
    "                        sample_edit = edit_distance(sample_gn,sample_gn1)\n",
    "                        sample_sem = semantic_distance(sample_gn,sample_gn1)\n",
    "                        sample_corr = scipy.stats.pearsonr(np.array(sample_edit),np.array(sample_sem))[0]\n",
    "                        sample_correlations.append(sample_corr)\n",
    "\n",
    "#                     print(sample_correlations)\n",
    "                    mean = np.mean(sample_correlations)\n",
    "                    print(mean)\n",
    "                    sd = np.std(sample_correlations)\n",
    "                    print(sd)\n",
    "                    z = (true_corr - mean) / sd\n",
    "                    print(z)\n",
    "\n",
    "                    data['language'] = language\n",
    "                    data['family'] = family\n",
    "                    data['code'] = code\n",
    "                    data['correlation'] = true_corr\n",
    "                    data['mean'] = mean\n",
    "                    data['sd'] = sd\n",
    "                    data['z'] = z\n",
    "\n",
    "                    output_df.append(data)\n",
    "                \n",
    "    pd.DataFrame(output_df).to_csv('../data/raw/' + filename + '.csv',index=False)\n",
    "\n",
    "    return pd.DataFrame(output_df)\n",
    "                    "
   ]
  },
  {
   "cell_type": "code",
   "execution_count": 32,
   "id": "5d0ce50d",
   "metadata": {},
   "outputs": [],
   "source": [
    "# sample_distance(['Indo-European'],10,'TEST')"
   ]
  },
  {
   "cell_type": "code",
   "execution_count": 34,
   "id": "e6952b8a",
   "metadata": {},
   "outputs": [
    {
     "name": "stderr",
     "output_type": "stream",
     "text": [
      " 17%|██████████████                                                                      | 1/6 [00:00<00:02,  1.92it/s]"
     ]
    },
    {
     "name": "stdout",
     "output_type": "stream",
     "text": [
      "-0.28630209319690514\n",
      "5.903526765724995e-17\n",
      "0.9403048962790747\n"
     ]
    },
    {
     "name": "stderr",
     "output_type": "stream",
     "text": [
      "\r",
      " 33%|████████████████████████████                                                        | 2/6 [00:02<00:06,  1.53s/it]"
     ]
    },
    {
     "name": "stdout",
     "output_type": "stream",
     "text": [
      "-0.02157702239239466\n",
      "0.027620452963079734\n",
      "7.1179382270513685\n"
     ]
    },
    {
     "name": "stderr",
     "output_type": "stream",
     "text": [
      "\r",
      " 50%|██████████████████████████████████████████                                          | 3/6 [00:05<00:05,  1.87s/it]"
     ]
    },
    {
     "name": "stdout",
     "output_type": "stream",
     "text": [
      "-0.013742086938307158\n",
      "0.01202095177003268\n",
      "-0.8083255596667893\n"
     ]
    },
    {
     "name": "stderr",
     "output_type": "stream",
     "text": [
      "\r",
      " 67%|████████████████████████████████████████████████████████                            | 4/6 [00:07<00:04,  2.02s/it]"
     ]
    },
    {
     "name": "stdout",
     "output_type": "stream",
     "text": [
      "-0.001733146543892043\n",
      "0.03403751103155582\n",
      "1.8670884722892198\n"
     ]
    },
    {
     "name": "stderr",
     "output_type": "stream",
     "text": [
      "\r",
      " 83%|██████████████████████████████████████████████████████████████████████              | 5/6 [00:08<00:01,  1.80s/it]"
     ]
    },
    {
     "name": "stdout",
     "output_type": "stream",
     "text": [
      "-0.052228660205264094\n",
      "0.03368250589455753\n",
      "5.058931474378732\n"
     ]
    },
    {
     "name": "stderr",
     "output_type": "stream",
     "text": [
      "100%|████████████████████████████████████████████████████████████████████████████████████| 6/6 [00:10<00:00,  1.82s/it]\n"
     ]
    },
    {
     "name": "stdout",
     "output_type": "stream",
     "text": [
      "0.008890780347875953\n",
      "0.010954397153708504\n",
      "2.2760748040259537\n"
     ]
    },
    {
     "name": "stderr",
     "output_type": "stream",
     "text": [
      "  3%|██▋                                                                                | 1/31 [00:00<00:15,  1.95it/s]"
     ]
    },
    {
     "name": "stdout",
     "output_type": "stream",
     "text": [
      "-0.19140953669764935\n",
      "2.6184557666721352e-17\n",
      "-2.11999576001272\n"
     ]
    },
    {
     "name": "stderr",
     "output_type": "stream",
     "text": [
      "\r",
      " 90%|██████████████████████████████████████████████████████████████████████████        | 28/31 [00:01<00:00, 16.11it/s]"
     ]
    },
    {
     "name": "stdout",
     "output_type": "stream",
     "text": [
      "-0.027706519477242536\n",
      "0.04346958198186135\n",
      "0.8416843799197763\n",
      "-0.028172813229210794\n",
      "0.05875138926800521\n",
      "-3.2426847539168455\n"
     ]
    },
    {
     "name": "stderr",
     "output_type": "stream",
     "text": [
      "\r",
      " 97%|███████████████████████████████████████████████████████████████████████████████▎  | 30/31 [00:04<00:00,  5.21it/s]"
     ]
    },
    {
     "name": "stdout",
     "output_type": "stream",
     "text": [
      "-0.04421007248853955\n",
      "1.3877787807814457e-17\n",
      "1.0\n"
     ]
    },
    {
     "name": "stderr",
     "output_type": "stream",
     "text": [
      "100%|██████████████████████████████████████████████████████████████████████████████████| 31/31 [00:06<00:00,  4.45it/s]\n"
     ]
    },
    {
     "name": "stdout",
     "output_type": "stream",
     "text": [
      "-0.06800870366056133\n",
      "0.014708768393281552\n",
      "0.554797533748241\n"
     ]
    },
    {
     "name": "stderr",
     "output_type": "stream",
     "text": [
      " 12%|██████████▌                                                                         | 1/8 [00:00<00:03,  1.78it/s]"
     ]
    },
    {
     "name": "stdout",
     "output_type": "stream",
     "text": [
      "-0.000276453667790423\n",
      "0.07233519229798614\n",
      "5.892289341042944\n"
     ]
    },
    {
     "name": "stderr",
     "output_type": "stream",
     "text": [
      "\r",
      " 25%|█████████████████████                                                               | 2/8 [00:01<00:03,  1.66it/s]"
     ]
    },
    {
     "name": "stdout",
     "output_type": "stream",
     "text": [
      "-0.0013190158821899645\n",
      "0.07310937989537773\n",
      "5.053753243828687\n"
     ]
    },
    {
     "name": "stderr",
     "output_type": "stream",
     "text": [
      " 38%|███████████████████████████████▌                                                    | 3/8 [00:01<00:02,  1.74it/s]C:\\Users\\s1604058\\AppData\\Local\\Temp\\ipykernel_17024\\1107203911.py:43: RuntimeWarning: invalid value encountered in double_scalars\n",
      "  z = (true_corr - mean) / sd\n",
      " 50%|██████████████████████████████████████████                                          | 4/8 [00:01<00:01,  2.37it/s]"
     ]
    },
    {
     "name": "stdout",
     "output_type": "stream",
     "text": [
      "8.08704539642762e-05\n",
      "0.015875606562299603\n",
      "-5.826816509347862\n",
      "0.0\n",
      "0.0\n",
      "nan\n"
     ]
    },
    {
     "name": "stderr",
     "output_type": "stream",
     "text": [
      "\r",
      " 62%|████████████████████████████████████████████████████▌                               | 5/8 [00:04<00:03,  1.11s/it]"
     ]
    },
    {
     "name": "stdout",
     "output_type": "stream",
     "text": [
      "0.016225703300468425\n",
      "0.022832936007921797\n",
      "4.828591533187786\n"
     ]
    },
    {
     "name": "stderr",
     "output_type": "stream",
     "text": [
      "\r",
      " 75%|███████████████████████████████████████████████████████████████                     | 6/8 [00:06<00:03,  1.54s/it]"
     ]
    },
    {
     "name": "stdout",
     "output_type": "stream",
     "text": [
      "0.001727156366450486\n",
      "0.022199156695276227\n",
      "-0.39455716044051536\n"
     ]
    },
    {
     "name": "stderr",
     "output_type": "stream",
     "text": [
      "\r",
      " 88%|█████████████████████████████████████████████████████████████████████████▌          | 7/8 [00:09<00:01,  1.82s/it]"
     ]
    },
    {
     "name": "stdout",
     "output_type": "stream",
     "text": [
      "-0.00700508309928151\n",
      "0.007221068592609095\n",
      "-0.8959620659536883\n"
     ]
    },
    {
     "name": "stderr",
     "output_type": "stream",
     "text": [
      "100%|████████████████████████████████████████████████████████████████████████████████████| 8/8 [00:09<00:00,  1.21s/it]\n"
     ]
    },
    {
     "name": "stdout",
     "output_type": "stream",
     "text": [
      "0.0031276468438505216\n",
      "0.05959789360134682\n",
      "-2.665691572380019\n"
     ]
    },
    {
     "name": "stderr",
     "output_type": "stream",
     "text": [
      "  1%|▋                                                                                 | 1/117 [00:02<04:39,  2.41s/it]"
     ]
    },
    {
     "name": "stdout",
     "output_type": "stream",
     "text": [
      "-0.015215518162516433\n",
      "0.022676665912002812\n",
      "-1.7097219915350959\n"
     ]
    },
    {
     "name": "stderr",
     "output_type": "stream",
     "text": [
      "  3%|██                                                                                | 3/117 [00:03<01:27,  1.30it/s]"
     ]
    },
    {
     "name": "stdout",
     "output_type": "stream",
     "text": [
      "0.18098645627405546\n",
      "9.079085946270897e-18\n",
      "-3.057089202578715\n",
      "-0.125\n",
      "3.0233199493374536e-17\n",
      "0.91804956407976\n"
     ]
    },
    {
     "name": "stderr",
     "output_type": "stream",
     "text": [
      "\r",
      "  4%|███▌                                                                              | 5/117 [00:03<00:45,  2.47it/s]"
     ]
    },
    {
     "name": "stdout",
     "output_type": "stream",
     "text": [
      "0.5773502691896261\n",
      "3.3306690738754696e-16\n",
      "-1.0\n",
      "0.40000000000000013\n",
      "5.551115123125783e-17\n",
      "-1.0\n"
     ]
    },
    {
     "name": "stderr",
     "output_type": "stream",
     "text": [
      "\r",
      "  5%|████▏                                                                             | 6/117 [00:03<00:35,  3.12it/s]"
     ]
    },
    {
     "name": "stdout",
     "output_type": "stream",
     "text": [
      "0.0\n",
      "0.0\n",
      "nan\n"
     ]
    },
    {
     "name": "stderr",
     "output_type": "stream",
     "text": [
      "\r",
      "  6%|████▉                                                                             | 7/117 [00:05<01:45,  1.04it/s]"
     ]
    },
    {
     "name": "stdout",
     "output_type": "stream",
     "text": [
      "-0.06329618351837005\n",
      "0.032339843059378266\n",
      "5.73017236166776\n"
     ]
    },
    {
     "name": "stderr",
     "output_type": "stream",
     "text": [
      "\r",
      "  7%|█████▌                                                                            | 8/117 [00:07<02:01,  1.11s/it]"
     ]
    },
    {
     "name": "stdout",
     "output_type": "stream",
     "text": [
      "-0.13973999260023523\n",
      "0.03382262156529142\n",
      "0.8949359493075425\n"
     ]
    },
    {
     "name": "stderr",
     "output_type": "stream",
     "text": [
      "\r",
      "  8%|██████▎                                                                           | 9/117 [00:09<02:26,  1.36s/it]"
     ]
    },
    {
     "name": "stdout",
     "output_type": "stream",
     "text": [
      "0.0042464440416399105\n",
      "0.022504956971189354\n",
      "0.31556726753928466\n"
     ]
    },
    {
     "name": "stderr",
     "output_type": "stream",
     "text": [
      "\r",
      "  9%|██████▉                                                                          | 10/117 [00:10<02:28,  1.38s/it]"
     ]
    },
    {
     "name": "stdout",
     "output_type": "stream",
     "text": [
      "-0.10084405910553616\n",
      "0.029180331688058437\n",
      "-1.4924360407966928\n"
     ]
    },
    {
     "name": "stderr",
     "output_type": "stream",
     "text": [
      "\r",
      "  9%|███████▌                                                                         | 11/117 [00:13<02:58,  1.68s/it]"
     ]
    },
    {
     "name": "stdout",
     "output_type": "stream",
     "text": [
      "-0.015135546177386524\n",
      "0.018160892035126355\n",
      "-2.767330411901372\n"
     ]
    },
    {
     "name": "stderr",
     "output_type": "stream",
     "text": [
      " 11%|█████████                                                                        | 13/117 [00:15<02:22,  1.37s/it]"
     ]
    },
    {
     "name": "stdout",
     "output_type": "stream",
     "text": [
      "-0.021255691892645024\n",
      "0.035798961956341\n",
      "-3.487644863686685\n",
      "nan\n",
      "nan\n",
      "nan\n"
     ]
    },
    {
     "name": "stderr",
     "output_type": "stream",
     "text": [
      "\r",
      " 12%|█████████▋                                                                       | 14/117 [00:18<02:53,  1.69s/it]"
     ]
    },
    {
     "name": "stdout",
     "output_type": "stream",
     "text": [
      "0.03771773270907898\n",
      "0.02664991839211874\n",
      "-3.740509273505317\n"
     ]
    },
    {
     "name": "stderr",
     "output_type": "stream",
     "text": [
      "\r",
      " 13%|██████████▍                                                                      | 15/117 [00:20<03:12,  1.89s/it]"
     ]
    },
    {
     "name": "stdout",
     "output_type": "stream",
     "text": [
      "-0.012104204768810698\n",
      "0.02304138394742021\n",
      "3.3865289574594515\n"
     ]
    },
    {
     "name": "stderr",
     "output_type": "stream",
     "text": [
      "\r",
      " 14%|███████████                                                                      | 16/117 [00:22<03:22,  2.00s/it]"
     ]
    },
    {
     "name": "stdout",
     "output_type": "stream",
     "text": [
      "0.0044203912777442695\n",
      "0.017002347757613213\n",
      "-1.9541705701453957\n"
     ]
    },
    {
     "name": "stderr",
     "output_type": "stream",
     "text": [
      "\r",
      " 15%|███████████▊                                                                     | 17/117 [00:25<03:32,  2.13s/it]"
     ]
    },
    {
     "name": "stdout",
     "output_type": "stream",
     "text": [
      "0.0303351902590475\n",
      "0.015713867827902427\n",
      "1.681341063886532\n"
     ]
    },
    {
     "name": "stderr",
     "output_type": "stream",
     "text": [
      "\r",
      " 15%|████████████▍                                                                    | 18/117 [00:27<03:39,  2.22s/it]"
     ]
    },
    {
     "name": "stdout",
     "output_type": "stream",
     "text": [
      "-0.05224165468311554\n",
      "0.02345387088202004\n",
      "-0.8463792452406427\n"
     ]
    },
    {
     "name": "stderr",
     "output_type": "stream",
     "text": [
      "\r",
      " 16%|█████████████▏                                                                   | 19/117 [00:29<03:32,  2.16s/it]"
     ]
    },
    {
     "name": "stdout",
     "output_type": "stream",
     "text": [
      "-0.09195203395825471\n",
      "0.048482023695043015\n",
      "-3.849236991044945\n"
     ]
    },
    {
     "name": "stderr",
     "output_type": "stream",
     "text": [
      "\r",
      " 18%|██████████████▌                                                                  | 21/117 [00:31<02:43,  1.70s/it]"
     ]
    },
    {
     "name": "stdout",
     "output_type": "stream",
     "text": [
      "-0.008554025840367626\n",
      "0.021218810263212658\n",
      "-2.7719495666291314\n"
     ]
    },
    {
     "name": "stderr",
     "output_type": "stream",
     "text": [
      "\r",
      " 19%|███████████████▏                                                                 | 22/117 [00:34<02:57,  1.87s/it]"
     ]
    },
    {
     "name": "stdout",
     "output_type": "stream",
     "text": [
      "-0.02216460785164575\n",
      "0.02555722686874909\n",
      "3.7056223246488353\n"
     ]
    },
    {
     "name": "stderr",
     "output_type": "stream",
     "text": [
      "\r",
      " 20%|███████████████▉                                                                 | 23/117 [00:35<02:39,  1.69s/it]"
     ]
    },
    {
     "name": "stdout",
     "output_type": "stream",
     "text": [
      "-0.11615466416937854\n",
      "0.03635266285692277\n",
      "-4.603240305486967\n"
     ]
    },
    {
     "name": "stderr",
     "output_type": "stream",
     "text": [
      "\r",
      " 21%|████████████████▌                                                                | 24/117 [00:37<02:43,  1.76s/it]"
     ]
    },
    {
     "name": "stdout",
     "output_type": "stream",
     "text": [
      "-0.0016578851366683678\n",
      "0.03586857331488211\n",
      "0.3817245262719205\n"
     ]
    },
    {
     "name": "stderr",
     "output_type": "stream",
     "text": [
      "\r",
      " 21%|█████████████████▎                                                               | 25/117 [00:38<02:25,  1.59s/it]"
     ]
    },
    {
     "name": "stdout",
     "output_type": "stream",
     "text": [
      "0.07687736475590073\n",
      "0.035774929780283765\n",
      "0.7066862608066107\n"
     ]
    },
    {
     "name": "stderr",
     "output_type": "stream",
     "text": [
      "\r",
      " 22%|██████████████████                                                               | 26/117 [00:40<02:39,  1.76s/it]"
     ]
    },
    {
     "name": "stdout",
     "output_type": "stream",
     "text": [
      "0.006788647417690669\n",
      "0.017729658940673954\n",
      "2.2875867434250905\n"
     ]
    },
    {
     "name": "stderr",
     "output_type": "stream",
     "text": [
      "\r",
      " 23%|██████████████████▋                                                              | 27/117 [00:42<02:43,  1.82s/it]"
     ]
    },
    {
     "name": "stdout",
     "output_type": "stream",
     "text": [
      "0.0001438060208380796\n",
      "0.031548967356700465\n",
      "1.3374413288330878\n"
     ]
    },
    {
     "name": "stderr",
     "output_type": "stream",
     "text": [
      "\r",
      " 24%|███████████████████▍                                                             | 28/117 [00:43<02:19,  1.57s/it]"
     ]
    },
    {
     "name": "stdout",
     "output_type": "stream",
     "text": [
      "0.001653989981794903\n",
      "0.06384405006118289\n",
      "-4.541255750898622\n"
     ]
    },
    {
     "name": "stderr",
     "output_type": "stream",
     "text": [
      "\r",
      " 25%|████████████████████                                                             | 29/117 [00:46<02:39,  1.82s/it]"
     ]
    },
    {
     "name": "stdout",
     "output_type": "stream",
     "text": [
      "-0.031083491716472133\n",
      "0.034156793067863546\n",
      "-4.046603649425458\n"
     ]
    },
    {
     "name": "stderr",
     "output_type": "stream",
     "text": [
      "\r",
      " 26%|████████████████████▊                                                            | 30/117 [00:48<02:47,  1.93s/it]"
     ]
    },
    {
     "name": "stdout",
     "output_type": "stream",
     "text": [
      "0.00047353216966687845\n",
      "0.025192775504995164\n",
      "0.862733124660257\n"
     ]
    },
    {
     "name": "stderr",
     "output_type": "stream",
     "text": [
      "\r",
      " 26%|█████████████████████▍                                                           | 31/117 [00:50<02:39,  1.85s/it]"
     ]
    },
    {
     "name": "stdout",
     "output_type": "stream",
     "text": [
      "0.028715151452150756\n",
      "0.022792265369055528\n",
      "-0.717591751630504\n"
     ]
    },
    {
     "name": "stderr",
     "output_type": "stream",
     "text": [
      "\r",
      " 27%|██████████████████████▏                                                          | 32/117 [00:52<02:45,  1.95s/it]"
     ]
    },
    {
     "name": "stdout",
     "output_type": "stream",
     "text": [
      "-0.03991484005065865\n",
      "0.012885281709098261\n",
      "-3.2488374196312546\n"
     ]
    },
    {
     "name": "stderr",
     "output_type": "stream",
     "text": [
      "\r",
      " 28%|██████████████████████▊                                                          | 33/117 [00:53<02:17,  1.64s/it]"
     ]
    },
    {
     "name": "stdout",
     "output_type": "stream",
     "text": [
      "-0.006163065161961551\n",
      "0.03338577569177986\n",
      "0.19060267062802796\n"
     ]
    },
    {
     "name": "stderr",
     "output_type": "stream",
     "text": [
      "\r",
      " 29%|███████████████████████▌                                                         | 34/117 [00:54<02:18,  1.67s/it]"
     ]
    },
    {
     "name": "stdout",
     "output_type": "stream",
     "text": [
      "-0.004812247253097258\n",
      "0.013226964348168564\n",
      "-0.6464161965920106\n"
     ]
    },
    {
     "name": "stderr",
     "output_type": "stream",
     "text": [
      "\r",
      " 30%|████████████████████████▏                                                        | 35/117 [00:57<02:33,  1.88s/it]"
     ]
    },
    {
     "name": "stdout",
     "output_type": "stream",
     "text": [
      "-0.04135381499662726\n",
      "0.008699132848633185\n",
      "1.2247386604783463\n"
     ]
    },
    {
     "name": "stderr",
     "output_type": "stream",
     "text": [
      "\r",
      " 31%|████████████████████████▉                                                        | 36/117 [00:57<02:00,  1.49s/it]"
     ]
    },
    {
     "name": "stdout",
     "output_type": "stream",
     "text": [
      "0.0560879123046508\n",
      "2.112890345259217e-17\n",
      "-0.6568153353983867\n"
     ]
    },
    {
     "name": "stderr",
     "output_type": "stream",
     "text": [
      "\r",
      " 32%|█████████████████████████▌                                                       | 37/117 [00:58<01:29,  1.12s/it]"
     ]
    },
    {
     "name": "stdout",
     "output_type": "stream",
     "text": [
      "-0.2390457218668787\n",
      "2.7755575615628914e-17\n",
      "-1.0\n"
     ]
    },
    {
     "name": "stderr",
     "output_type": "stream",
     "text": [
      "\r",
      " 32%|██████████████████████████▎                                                      | 38/117 [01:00<01:58,  1.50s/it]"
     ]
    },
    {
     "name": "stdout",
     "output_type": "stream",
     "text": [
      "0.03319440306254512\n",
      "0.01588789590805246\n",
      "-3.4490352079707614\n"
     ]
    },
    {
     "name": "stderr",
     "output_type": "stream",
     "text": [
      "\r",
      " 33%|███████████████████████████                                                      | 39/117 [01:02<02:19,  1.79s/it]"
     ]
    },
    {
     "name": "stdout",
     "output_type": "stream",
     "text": [
      "0.00479200372143763\n",
      "0.02561481815337856\n",
      "-4.552933326548823\n"
     ]
    },
    {
     "name": "stderr",
     "output_type": "stream",
     "text": [
      "\r",
      " 34%|███████████████████████████▋                                                     | 40/117 [01:04<02:10,  1.69s/it]"
     ]
    },
    {
     "name": "stdout",
     "output_type": "stream",
     "text": [
      "-0.029240717313612323\n",
      "0.048529312732807854\n",
      "-3.8897573766486273\n"
     ]
    },
    {
     "name": "stderr",
     "output_type": "stream",
     "text": [
      "\r",
      " 35%|████████████████████████████▍                                                    | 41/117 [01:04<01:43,  1.36s/it]"
     ]
    },
    {
     "name": "stdout",
     "output_type": "stream",
     "text": [
      "-0.025250993521711288\n",
      "0.0903959274775559\n",
      "-2.040997709946833\n"
     ]
    },
    {
     "name": "stderr",
     "output_type": "stream",
     "text": [
      "\r",
      " 36%|█████████████████████████████                                                    | 42/117 [01:07<02:05,  1.68s/it]"
     ]
    },
    {
     "name": "stdout",
     "output_type": "stream",
     "text": [
      "0.003218546101777595\n",
      "0.009553457433464923\n",
      "-4.7232761530146306\n"
     ]
    },
    {
     "name": "stderr",
     "output_type": "stream",
     "text": [
      "\r",
      " 37%|█████████████████████████████▊                                                   | 43/117 [01:08<01:56,  1.57s/it]"
     ]
    },
    {
     "name": "stdout",
     "output_type": "stream",
     "text": [
      "0.028029521320240485\n",
      "0.01884401498520796\n",
      "-1.3508868114299641\n"
     ]
    },
    {
     "name": "stderr",
     "output_type": "stream",
     "text": [
      "\r",
      " 38%|███████████████████████████████▏                                                 | 45/117 [01:09<01:09,  1.04it/s]"
     ]
    },
    {
     "name": "stdout",
     "output_type": "stream",
     "text": [
      "0.0738614004394343\n",
      "1.3877787807814457e-17\n",
      "1.0\n"
     ]
    },
    {
     "name": "stderr",
     "output_type": "stream",
     "text": [
      "\r",
      " 39%|███████████████████████████████▊                                                 | 46/117 [01:11<01:29,  1.27s/it]"
     ]
    },
    {
     "name": "stdout",
     "output_type": "stream",
     "text": [
      "0.00040797542657212586\n",
      "0.03389165842502813\n",
      "-2.915203436606013\n"
     ]
    },
    {
     "name": "stderr",
     "output_type": "stream",
     "text": [
      "\r",
      " 40%|████████████████████████████████▌                                                | 47/117 [01:13<01:47,  1.54s/it]"
     ]
    },
    {
     "name": "stdout",
     "output_type": "stream",
     "text": [
      "-0.02349813323610617\n",
      "0.017798082410425728\n",
      "4.459327740783613\n"
     ]
    },
    {
     "name": "stderr",
     "output_type": "stream",
     "text": [
      "\r",
      " 41%|█████████████████████████████████▏                                               | 48/117 [01:16<02:02,  1.77s/it]"
     ]
    },
    {
     "name": "stdout",
     "output_type": "stream",
     "text": [
      "0.00425209302638843\n",
      "0.030362537154421703\n",
      "-2.0516012775405272\n"
     ]
    },
    {
     "name": "stderr",
     "output_type": "stream",
     "text": [
      "\r",
      " 42%|█████████████████████████████████▉                                               | 49/117 [01:17<01:56,  1.71s/it]"
     ]
    },
    {
     "name": "stdout",
     "output_type": "stream",
     "text": [
      "-0.05607378351871294\n",
      "0.01718288258945526\n",
      "2.0684916402711906\n"
     ]
    },
    {
     "name": "stderr",
     "output_type": "stream",
     "text": [
      "\r",
      " 43%|██████████████████████████████████▌                                              | 50/117 [01:18<01:31,  1.37s/it]"
     ]
    },
    {
     "name": "stdout",
     "output_type": "stream",
     "text": [
      "0.2506190683835502\n",
      "4.165186303040984e-17\n",
      "-1.3327411355100582\n"
     ]
    },
    {
     "name": "stderr",
     "output_type": "stream",
     "text": [
      "\r",
      " 44%|███████████████████████████████████▎                                             | 51/117 [01:20<01:52,  1.71s/it]"
     ]
    },
    {
     "name": "stdout",
     "output_type": "stream",
     "text": [
      "-0.04673401582677335\n",
      "0.009492468739530675\n",
      "-0.6275153469891034\n"
     ]
    },
    {
     "name": "stderr",
     "output_type": "stream",
     "text": [
      "\r",
      " 44%|████████████████████████████████████                                             | 52/117 [01:22<01:59,  1.84s/it]"
     ]
    },
    {
     "name": "stdout",
     "output_type": "stream",
     "text": [
      "0.0005069837611986378\n",
      "0.020737312031425176\n",
      "0.16884764747146294\n"
     ]
    },
    {
     "name": "stderr",
     "output_type": "stream",
     "text": [
      "\r",
      " 45%|████████████████████████████████████▋                                            | 53/117 [01:24<01:56,  1.82s/it]"
     ]
    },
    {
     "name": "stdout",
     "output_type": "stream",
     "text": [
      "0.02797614898459144\n",
      "0.024104611173851147\n",
      "1.8642270092931927\n"
     ]
    },
    {
     "name": "stderr",
     "output_type": "stream",
     "text": [
      "\r",
      " 46%|█████████████████████████████████████▍                                           | 54/117 [01:26<01:52,  1.79s/it]"
     ]
    },
    {
     "name": "stdout",
     "output_type": "stream",
     "text": [
      "0.019810770773054986\n",
      "0.025107006806138837\n",
      "3.6601393644752895\n"
     ]
    },
    {
     "name": "stderr",
     "output_type": "stream",
     "text": [
      "\r",
      " 47%|██████████████████████████████████████                                           | 55/117 [01:28<02:04,  2.00s/it]"
     ]
    },
    {
     "name": "stdout",
     "output_type": "stream",
     "text": [
      "0.06453081969176008\n",
      "1.3877787807814457e-17\n",
      "-1.0\n"
     ]
    },
    {
     "name": "stderr",
     "output_type": "stream",
     "text": [
      "\r",
      " 48%|██████████████████████████████████████▊                                          | 56/117 [01:30<01:53,  1.86s/it]"
     ]
    },
    {
     "name": "stdout",
     "output_type": "stream",
     "text": [
      "0.02382147098004189\n",
      "0.04567985334478991\n",
      "-0.10090477738509201\n"
     ]
    },
    {
     "name": "stderr",
     "output_type": "stream",
     "text": [
      "\r",
      " 49%|███████████████████████████████████████▍                                         | 57/117 [01:32<01:59,  1.99s/it]"
     ]
    },
    {
     "name": "stdout",
     "output_type": "stream",
     "text": [
      "-0.02968769577968343\n",
      "0.02424841260461654\n",
      "2.581376169162252\n"
     ]
    },
    {
     "name": "stderr",
     "output_type": "stream",
     "text": [
      "\r",
      " 50%|████████████████████████████████████████▏                                        | 58/117 [01:33<01:30,  1.54s/it]"
     ]
    },
    {
     "name": "stdout",
     "output_type": "stream",
     "text": [
      "0.04362560771185966\n",
      "0.03339619032877087\n",
      "2.1579091082743695\n"
     ]
    },
    {
     "name": "stderr",
     "output_type": "stream",
     "text": [
      "\r",
      " 50%|████████████████████████████████████████▊                                        | 59/117 [01:35<01:44,  1.80s/it]"
     ]
    },
    {
     "name": "stdout",
     "output_type": "stream",
     "text": [
      "0.024102373370305557\n",
      "0.005543745605799021\n",
      "-4.140089268950842\n"
     ]
    },
    {
     "name": "stderr",
     "output_type": "stream",
     "text": [
      " 52%|██████████████████████████████████████████▏                                      | 61/117 [01:38<01:21,  1.45s/it]"
     ]
    },
    {
     "name": "stdout",
     "output_type": "stream",
     "text": [
      "-0.0029755596911194607\n",
      "0.030185074047588464\n",
      "-0.08193543865849312\n",
      "-0.06685376733130238\n",
      "1.4817422638912102e-17\n",
      "1.873171623163388\n"
     ]
    },
    {
     "name": "stderr",
     "output_type": "stream",
     "text": [
      "\r",
      " 53%|██████████████████████████████████████████▉                                      | 62/117 [01:40<01:38,  1.80s/it]"
     ]
    },
    {
     "name": "stdout",
     "output_type": "stream",
     "text": [
      "-0.0008250784023793621\n",
      "0.026981427861504034\n",
      "0.2771726936891004\n"
     ]
    },
    {
     "name": "stderr",
     "output_type": "stream",
     "text": [
      "\r",
      " 54%|███████████████████████████████████████████▌                                     | 63/117 [01:43<01:49,  2.02s/it]"
     ]
    },
    {
     "name": "stdout",
     "output_type": "stream",
     "text": [
      "0.004239284820040112\n",
      "0.03541037098649195\n",
      "-2.340054335141982\n"
     ]
    },
    {
     "name": "stderr",
     "output_type": "stream",
     "text": [
      "\r",
      " 56%|█████████████████████████████████████████████                                    | 65/117 [01:43<01:03,  1.23s/it]"
     ]
    },
    {
     "name": "stdout",
     "output_type": "stream",
     "text": [
      "-0.4154969117378473\n",
      "8.962945377512929e-17\n",
      "-1.2386810115016291\n"
     ]
    },
    {
     "name": "stderr",
     "output_type": "stream",
     "text": [
      "\r",
      " 56%|█████████████████████████████████████████████▋                                   | 66/117 [01:46<01:18,  1.54s/it]"
     ]
    },
    {
     "name": "stdout",
     "output_type": "stream",
     "text": [
      "-0.030837648806884506\n",
      "0.027496115215825234\n",
      "4.04516483359504\n"
     ]
    },
    {
     "name": "stderr",
     "output_type": "stream",
     "text": [
      "\r",
      " 59%|███████████████████████████████████████████████▊                                 | 69/117 [01:46<00:40,  1.20it/s]"
     ]
    },
    {
     "name": "stdout",
     "output_type": "stream",
     "text": [
      "-0.25819888974716104\n",
      "5.551115123125783e-17\n",
      "-1.0\n"
     ]
    },
    {
     "name": "stderr",
     "output_type": "stream",
     "text": [
      "\r",
      " 60%|████████████████████████████████████████████████▍                                | 70/117 [01:48<00:49,  1.06s/it]"
     ]
    },
    {
     "name": "stdout",
     "output_type": "stream",
     "text": [
      "-0.000954642784883499\n",
      "0.02638008739482729\n",
      "1.01462313110269\n"
     ]
    },
    {
     "name": "stderr",
     "output_type": "stream",
     "text": [
      "\r",
      " 61%|█████████████████████████████████████████████████▏                               | 71/117 [01:49<00:41,  1.10it/s]"
     ]
    },
    {
     "name": "stdout",
     "output_type": "stream",
     "text": [
      "-0.07567913157524432\n",
      "0.11483433065109637\n",
      "-0.998999996970259\n"
     ]
    },
    {
     "name": "stderr",
     "output_type": "stream",
     "text": [
      "\r",
      " 62%|█████████████████████████████████████████████████▊                               | 72/117 [01:51<00:57,  1.28s/it]"
     ]
    },
    {
     "name": "stdout",
     "output_type": "stream",
     "text": [
      "-0.03724384857880631\n",
      "0.030364050411879482\n",
      "4.294587334738689\n"
     ]
    },
    {
     "name": "stderr",
     "output_type": "stream",
     "text": [
      "\r",
      " 62%|██████████████████████████████████████████████████▌                              | 73/117 [01:52<00:54,  1.24s/it]"
     ]
    },
    {
     "name": "stdout",
     "output_type": "stream",
     "text": [
      "0.009378873889158243\n",
      "0.06631156102549386\n",
      "1.7745677629477001\n"
     ]
    },
    {
     "name": "stderr",
     "output_type": "stream",
     "text": [
      "\r",
      " 63%|███████████████████████████████████████████████████▏                             | 74/117 [01:55<01:06,  1.55s/it]"
     ]
    },
    {
     "name": "stdout",
     "output_type": "stream",
     "text": [
      "0.004714546415878198\n",
      "0.02487974194348569\n",
      "0.19177145817160335\n"
     ]
    },
    {
     "name": "stderr",
     "output_type": "stream",
     "text": [
      "\r",
      " 65%|████████████████████████████████████████████████████▌                            | 76/117 [01:57<00:57,  1.39s/it]"
     ]
    },
    {
     "name": "stdout",
     "output_type": "stream",
     "text": [
      "-0.05180924588708468\n",
      "0.014386829463961252\n",
      "-3.3883633469283554\n"
     ]
    },
    {
     "name": "stderr",
     "output_type": "stream",
     "text": [
      " 67%|██████████████████████████████████████████████████████                           | 78/117 [01:58<00:35,  1.11it/s]"
     ]
    },
    {
     "name": "stdout",
     "output_type": "stream",
     "text": [
      "0.018144676949335796\n",
      "0.050341071802548806\n",
      "0.16151755789921937\n",
      "0.008248983375444649\n",
      "3.469446951953614e-18\n",
      "-1.0\n"
     ]
    },
    {
     "name": "stderr",
     "output_type": "stream",
     "text": [
      "\r",
      " 68%|██████████████████████████████████████████████████████▋                          | 79/117 [01:58<00:27,  1.36it/s]"
     ]
    },
    {
     "name": "stdout",
     "output_type": "stream",
     "text": [
      "0.016016063365080862\n",
      "0.05249854589823009\n",
      "2.5407849021246\n"
     ]
    },
    {
     "name": "stderr",
     "output_type": "stream",
     "text": [
      "\r",
      " 68%|███████████████████████████████████████████████████████▍                         | 80/117 [02:00<00:41,  1.13s/it]"
     ]
    },
    {
     "name": "stdout",
     "output_type": "stream",
     "text": [
      "-0.00021186423055148839\n",
      "0.01706119052015825\n",
      "3.8242960962383665\n"
     ]
    },
    {
     "name": "stderr",
     "output_type": "stream",
     "text": [
      "\r",
      " 69%|████████████████████████████████████████████████████████                         | 81/117 [02:01<00:37,  1.04s/it]"
     ]
    },
    {
     "name": "stdout",
     "output_type": "stream",
     "text": [
      "-0.030408508528094055\n",
      "0.07072842408398661\n",
      "-4.049081591661219\n"
     ]
    },
    {
     "name": "stderr",
     "output_type": "stream",
     "text": [
      "\r",
      " 70%|████████████████████████████████████████████████████████▊                        | 82/117 [02:01<00:28,  1.23it/s]"
     ]
    },
    {
     "name": "stdout",
     "output_type": "stream",
     "text": [
      "0.04553956863855272\n",
      "0.12556670513232218\n",
      "1.964678465640727\n"
     ]
    },
    {
     "name": "stderr",
     "output_type": "stream",
     "text": [
      "\r",
      " 71%|█████████████████████████████████████████████████████████▍                       | 83/117 [02:02<00:25,  1.31it/s]"
     ]
    },
    {
     "name": "stdout",
     "output_type": "stream",
     "text": [
      "-0.01649843139753591\n",
      "0.055726382941948024\n",
      "0.5901477794573535\n"
     ]
    },
    {
     "name": "stderr",
     "output_type": "stream",
     "text": [
      "\r",
      " 73%|██████████████████████████████████████████████████████████▊                      | 85/117 [02:04<00:25,  1.25it/s]"
     ]
    },
    {
     "name": "stdout",
     "output_type": "stream",
     "text": [
      "-0.00037618393722778685\n",
      "0.02344488389217934\n",
      "-0.023809664131732324\n"
     ]
    },
    {
     "name": "stderr",
     "output_type": "stream",
     "text": [
      "\r",
      " 74%|███████████████████████████████████████████████████████████▌                     | 86/117 [02:06<00:33,  1.08s/it]"
     ]
    },
    {
     "name": "stdout",
     "output_type": "stream",
     "text": [
      "-0.04144870577461022\n",
      "0.02430618775341215\n",
      "5.295976908447997\n"
     ]
    },
    {
     "name": "stderr",
     "output_type": "stream",
     "text": [
      "\r",
      " 74%|████████████████████████████████████████████████████████████▏                    | 87/117 [02:06<00:25,  1.15it/s]"
     ]
    },
    {
     "name": "stdout",
     "output_type": "stream",
     "text": [
      "-0.0030718471271605472\n",
      "0.0851352068659557\n",
      "0.5483339768296601\n"
     ]
    },
    {
     "name": "stderr",
     "output_type": "stream",
     "text": [
      "\r",
      " 75%|████████████████████████████████████████████████████████████▉                    | 88/117 [02:08<00:31,  1.10s/it]"
     ]
    },
    {
     "name": "stdout",
     "output_type": "stream",
     "text": [
      "0.01100980524003413\n",
      "0.0184958274524775\n",
      "0.6908871872476909\n"
     ]
    },
    {
     "name": "stderr",
     "output_type": "stream",
     "text": [
      "\r",
      " 78%|███████████████████████████████████████████████████████████████                  | 91/117 [02:10<00:24,  1.06it/s]"
     ]
    },
    {
     "name": "stdout",
     "output_type": "stream",
     "text": [
      "0.02525589131872191\n",
      "0.023002511448354034\n",
      "-0.5547883587842274\n"
     ]
    },
    {
     "name": "stderr",
     "output_type": "stream",
     "text": [
      "\r",
      " 79%|███████████████████████████████████████████████████████████████▋                 | 92/117 [02:10<00:21,  1.17it/s]"
     ]
    },
    {
     "name": "stdout",
     "output_type": "stream",
     "text": [
      "0.018557485839152996\n",
      "1.4686870114880517e-17\n",
      "0.0\n"
     ]
    },
    {
     "name": "stderr",
     "output_type": "stream",
     "text": [
      "\r",
      " 79%|████████████████████████████████████████████████████████████████▍                | 93/117 [02:11<00:19,  1.25it/s]"
     ]
    },
    {
     "name": "stdout",
     "output_type": "stream",
     "text": [
      "0.06349448863765415\n",
      "1.9865121333758437e-17\n",
      "-0.6986007069703012\n"
     ]
    },
    {
     "name": "stderr",
     "output_type": "stream",
     "text": [
      "\r",
      " 80%|█████████████████████████████████████████████████████████████████                | 94/117 [02:13<00:27,  1.18s/it]"
     ]
    },
    {
     "name": "stdout",
     "output_type": "stream",
     "text": [
      "-0.011117121663162763\n",
      "0.028958607389017454\n",
      "3.621907992531745\n"
     ]
    },
    {
     "name": "stderr",
     "output_type": "stream",
     "text": [
      "\r",
      " 81%|█████████████████████████████████████████████████████████████████▊               | 95/117 [02:14<00:20,  1.05it/s]"
     ]
    },
    {
     "name": "stdout",
     "output_type": "stream",
     "text": [
      "0.02128141326896872\n",
      "1.1104398438879648e-17\n",
      "0.0\n"
     ]
    },
    {
     "name": "stderr",
     "output_type": "stream",
     "text": [
      "\r",
      " 82%|██████████████████████████████████████████████████████████████████▍              | 96/117 [02:14<00:18,  1.15it/s]"
     ]
    },
    {
     "name": "stdout",
     "output_type": "stream",
     "text": [
      "0.0700029838762077\n",
      "0.07819642861755985\n",
      "0.6811700805333943\n"
     ]
    },
    {
     "name": "stderr",
     "output_type": "stream",
     "text": [
      " 84%|███████████████████████████████████████████████████████████████████▊             | 98/117 [02:15<00:11,  1.62it/s]"
     ]
    },
    {
     "name": "stdout",
     "output_type": "stream",
     "text": [
      "-0.029086458612211822\n",
      "0.035110296289306314\n",
      "3.5639187976547966\n",
      "-0.3725372310595408\n",
      "3.085741020411547e-17\n",
      "-1.7989569074028862\n"
     ]
    },
    {
     "name": "stderr",
     "output_type": "stream",
     "text": [
      "\r",
      " 85%|████████████████████████████████████████████████████████████████████▌            | 99/117 [02:17<00:19,  1.06s/it]"
     ]
    },
    {
     "name": "stdout",
     "output_type": "stream",
     "text": [
      "-0.05087537219965716\n",
      "0.019297680514223634\n",
      "5.004904560685188\n"
     ]
    },
    {
     "name": "stderr",
     "output_type": "stream",
     "text": [
      "\r",
      " 85%|████████████████████████████████████████████████████████████████████▍           | 100/117 [02:19<00:20,  1.22s/it]"
     ]
    },
    {
     "name": "stdout",
     "output_type": "stream",
     "text": [
      "0.0203278946346848\n",
      "0.0203967871691236\n",
      "-2.160225201775743\n"
     ]
    },
    {
     "name": "stderr",
     "output_type": "stream",
     "text": [
      "\r",
      " 86%|█████████████████████████████████████████████████████████████████████           | 101/117 [02:20<00:20,  1.27s/it]"
     ]
    },
    {
     "name": "stdout",
     "output_type": "stream",
     "text": [
      "-0.10514421602106057\n",
      "0.003228478456157701\n",
      "-0.9249705997373768\n"
     ]
    },
    {
     "name": "stderr",
     "output_type": "stream",
     "text": [
      "\r",
      " 87%|█████████████████████████████████████████████████████████████████████▋          | 102/117 [02:23<00:25,  1.68s/it]"
     ]
    },
    {
     "name": "stdout",
     "output_type": "stream",
     "text": [
      "-0.005270997491836714\n",
      "0.0265187205069633\n",
      "2.9203471755424553\n"
     ]
    },
    {
     "name": "stderr",
     "output_type": "stream",
     "text": [
      "\r",
      " 89%|███████████████████████████████████████████████████████████████████████         | 104/117 [02:24<00:13,  1.04s/it]"
     ]
    },
    {
     "name": "stdout",
     "output_type": "stream",
     "text": [
      "-0.022738585673638116\n",
      "6.316871142842241e-18\n",
      "1.0984700727621795\n"
     ]
    },
    {
     "name": "stderr",
     "output_type": "stream",
     "text": [
      "\r",
      " 90%|███████████████████████████████████████████████████████████████████████▊        | 105/117 [02:26<00:17,  1.49s/it]"
     ]
    },
    {
     "name": "stdout",
     "output_type": "stream",
     "text": [
      "-0.00412354457211951\n",
      "0.030912186772095045\n",
      "0.7474065713777233\n"
     ]
    },
    {
     "name": "stderr",
     "output_type": "stream",
     "text": [
      "\r",
      " 91%|████████████████████████████████████████████████████████████████████████▍       | 106/117 [02:29<00:20,  1.87s/it]"
     ]
    },
    {
     "name": "stdout",
     "output_type": "stream",
     "text": [
      "-0.0007233543659535701\n",
      "0.022996797013528556\n",
      "4.116762689564345\n"
     ]
    },
    {
     "name": "stderr",
     "output_type": "stream",
     "text": [
      "\r",
      " 91%|█████████████████████████████████████████████████████████████████████████▏      | 107/117 [02:31<00:18,  1.86s/it]"
     ]
    },
    {
     "name": "stdout",
     "output_type": "stream",
     "text": [
      "-0.0973976810562169\n",
      "0.03632444215686044\n",
      "3.7588347719925275\n"
     ]
    },
    {
     "name": "stderr",
     "output_type": "stream",
     "text": [
      "\r",
      " 92%|█████████████████████████████████████████████████████████████████████████▊      | 108/117 [02:32<00:15,  1.71s/it]"
     ]
    },
    {
     "name": "stdout",
     "output_type": "stream",
     "text": [
      "0.11170222441697818\n",
      "0.003897580984691944\n",
      "4.299187522991882\n"
     ]
    },
    {
     "name": "stderr",
     "output_type": "stream",
     "text": [
      "\r",
      " 94%|███████████████████████████████████████████████████████████████████████████▏    | 110/117 [02:35<00:10,  1.46s/it]"
     ]
    },
    {
     "name": "stdout",
     "output_type": "stream",
     "text": [
      "-0.017417329773413537\n",
      "0.03390365952344112\n",
      "-5.006707564773225\n"
     ]
    },
    {
     "name": "stderr",
     "output_type": "stream",
     "text": [
      "\r",
      " 95%|███████████████████████████████████████████████████████████████████████████▉    | 111/117 [02:37<00:09,  1.57s/it]"
     ]
    },
    {
     "name": "stdout",
     "output_type": "stream",
     "text": [
      "-0.03128992285835048\n",
      "0.03993234361102261\n",
      "1.0254166449897921\n"
     ]
    },
    {
     "name": "stderr",
     "output_type": "stream",
     "text": [
      "\r",
      " 96%|████████████████████████████████████████████████████████████████████████████▌   | 112/117 [02:37<00:06,  1.26s/it]"
     ]
    },
    {
     "name": "stdout",
     "output_type": "stream",
     "text": [
      "-0.038037912346659666\n",
      "0.045860666347391575\n",
      "-0.35871881603645656\n"
     ]
    },
    {
     "name": "stderr",
     "output_type": "stream",
     "text": [
      "\r",
      " 97%|█████████████████████████████████████████████████████████████████████████████▉  | 114/117 [02:39<00:03,  1.18s/it]"
     ]
    },
    {
     "name": "stdout",
     "output_type": "stream",
     "text": [
      "-0.09476315999118988\n",
      "0.028685769063552705\n",
      "3.940319222077362\n"
     ]
    },
    {
     "name": "stderr",
     "output_type": "stream",
     "text": [
      "\r",
      " 98%|██████████████████████████████████████████████████████████████████████████████▋ | 115/117 [02:40<00:02,  1.14s/it]"
     ]
    },
    {
     "name": "stdout",
     "output_type": "stream",
     "text": [
      "0.18572502804216282\n",
      "0.007625137926438415\n",
      "3.268236640176143\n"
     ]
    },
    {
     "name": "stderr",
     "output_type": "stream",
     "text": [
      "\r",
      " 99%|███████████████████████████████████████████████████████████████████████████████▎| 116/117 [02:41<00:01,  1.01s/it]"
     ]
    },
    {
     "name": "stdout",
     "output_type": "stream",
     "text": [
      "-0.3528039562697185\n",
      "7.525805458855539e-17\n",
      "-1.4752215303662526\n"
     ]
    },
    {
     "name": "stderr",
     "output_type": "stream",
     "text": [
      "100%|████████████████████████████████████████████████████████████████████████████████| 117/117 [02:44<00:00,  1.40s/it]\n"
     ]
    },
    {
     "name": "stdout",
     "output_type": "stream",
     "text": [
      "0.021270950572965346\n",
      "0.012584563177339768\n",
      "-3.1654766503069234\n"
     ]
    },
    {
     "name": "stderr",
     "output_type": "stream",
     "text": [
      " 14%|████████████                                                                        | 1/7 [00:00<00:04,  1.40it/s]"
     ]
    },
    {
     "name": "stdout",
     "output_type": "stream",
     "text": [
      "-0.19677407973487873\n",
      "0.018125158892402186\n",
      "2.2720539420486734\n"
     ]
    },
    {
     "name": "stderr",
     "output_type": "stream",
     "text": [
      " 43%|████████████████████████████████████                                                | 3/7 [00:03<00:03,  1.05it/s]"
     ]
    },
    {
     "name": "stdout",
     "output_type": "stream",
     "text": [
      "-0.0012100398229573895\n",
      "0.015014260167227794\n",
      "-0.6742270018795039\n",
      "nan\n",
      "nan\n",
      "nan\n"
     ]
    },
    {
     "name": "stderr",
     "output_type": "stream",
     "text": [
      "\r",
      " 71%|████████████████████████████████████████████████████████████                        | 5/7 [00:05<00:02,  1.01s/it]"
     ]
    },
    {
     "name": "stdout",
     "output_type": "stream",
     "text": [
      "0.0013649354147368695\n",
      "0.02173062407340843\n",
      "0.1390592053519505\n"
     ]
    },
    {
     "name": "stderr",
     "output_type": "stream",
     "text": [
      "\r",
      " 86%|████████████████████████████████████████████████████████████████████████            | 6/7 [00:05<00:00,  1.23it/s]"
     ]
    },
    {
     "name": "stdout",
     "output_type": "stream",
     "text": [
      "0.190458563584567\n",
      "4.459069493274782e-17\n",
      "-0.622452187782455\n"
     ]
    },
    {
     "name": "stderr",
     "output_type": "stream",
     "text": [
      "100%|████████████████████████████████████████████████████████████████████████████████████| 7/7 [00:07<00:00,  1.12s/it]\n"
     ]
    },
    {
     "name": "stdout",
     "output_type": "stream",
     "text": [
      "0.0024153219748942792\n",
      "0.00446746627841303\n",
      "4.937726110150973\n"
     ]
    },
    {
     "name": "stderr",
     "output_type": "stream",
     "text": [
      "  0%|▏                                                                                 | 1/377 [00:01<10:18,  1.65s/it]"
     ]
    },
    {
     "name": "stdout",
     "output_type": "stream",
     "text": [
      "-0.053639663256379574\n",
      "0.022689359592633452\n",
      "3.1427713687974395\n"
     ]
    },
    {
     "name": "stderr",
     "output_type": "stream",
     "text": [
      "\r",
      "  1%|▍                                                                                 | 2/377 [00:02<06:11,  1.01it/s]"
     ]
    },
    {
     "name": "stdout",
     "output_type": "stream",
     "text": [
      "0.17606915634158354\n",
      "1.4125379366180493e-17\n",
      "0.0\n"
     ]
    },
    {
     "name": "stderr",
     "output_type": "stream",
     "text": [
      "\r",
      "  1%|▋                                                                                 | 3/377 [00:04<10:43,  1.72s/it]"
     ]
    },
    {
     "name": "stdout",
     "output_type": "stream",
     "text": [
      "-0.0054718707756754355\n",
      "0.05656952267792885\n",
      "-4.873979304838291\n"
     ]
    },
    {
     "name": "stderr",
     "output_type": "stream",
     "text": [
      "  1%|█                                                                                 | 5/377 [00:07<08:21,  1.35s/it]"
     ]
    },
    {
     "name": "stdout",
     "output_type": "stream",
     "text": [
      "0.0268055126512727\n",
      "0.029152443172706276\n",
      "0.3659624604084066\n",
      "0.0\n",
      "0.0\n",
      "nan\n"
     ]
    },
    {
     "name": "stderr",
     "output_type": "stream",
     "text": [
      "\r",
      "  2%|█▎                                                                                | 6/377 [00:09<10:55,  1.77s/it]"
     ]
    },
    {
     "name": "stdout",
     "output_type": "stream",
     "text": [
      "-0.04374482878593102\n",
      "0.03185213636941626\n",
      "5.8642462329739065\n"
     ]
    },
    {
     "name": "stderr",
     "output_type": "stream",
     "text": [
      "\r",
      "  2%|█▌                                                                                | 7/377 [00:12<12:14,  1.98s/it]"
     ]
    },
    {
     "name": "stdout",
     "output_type": "stream",
     "text": [
      "0.00224878223421433\n",
      "0.01939562932043903\n",
      "-1.0092608954434368\n"
     ]
    },
    {
     "name": "stderr",
     "output_type": "stream",
     "text": [
      "\r",
      "  2%|█▋                                                                                | 8/377 [00:14<11:43,  1.91s/it]"
     ]
    },
    {
     "name": "stdout",
     "output_type": "stream",
     "text": [
      "-0.015375145197916223\n",
      "0.044905862526531545\n",
      "1.5949116480654961\n"
     ]
    },
    {
     "name": "stderr",
     "output_type": "stream",
     "text": [
      "\r",
      "  2%|█▉                                                                                | 9/377 [00:16<12:51,  2.10s/it]"
     ]
    },
    {
     "name": "stdout",
     "output_type": "stream",
     "text": [
      "0.0035046057485053506\n",
      "0.031798971274707516\n",
      "-1.3298395671140293\n"
     ]
    },
    {
     "name": "stderr",
     "output_type": "stream",
     "text": [
      "\r",
      "  3%|██▏                                                                              | 10/377 [00:18<12:35,  2.06s/it]"
     ]
    },
    {
     "name": "stdout",
     "output_type": "stream",
     "text": [
      "0.03927077743468329\n",
      "0.01950115914784729\n",
      "0.0388249538153131\n"
     ]
    },
    {
     "name": "stderr",
     "output_type": "stream",
     "text": [
      "\r",
      "  3%|██▎                                                                              | 11/377 [00:19<09:35,  1.57s/it]"
     ]
    },
    {
     "name": "stdout",
     "output_type": "stream",
     "text": [
      "0.23302259483062743\n",
      "1.3710242980056708e-17\n",
      "0.0\n"
     ]
    },
    {
     "name": "stderr",
     "output_type": "stream",
     "text": [
      "\r",
      "  3%|██▌                                                                              | 12/377 [00:19<07:35,  1.25s/it]"
     ]
    },
    {
     "name": "stdout",
     "output_type": "stream",
     "text": [
      "-0.01436012973214121\n",
      "0.01676560098030528\n",
      "2.869666745558714\n"
     ]
    },
    {
     "name": "stderr",
     "output_type": "stream",
     "text": [
      "  4%|███                                                                              | 14/377 [00:20<04:36,  1.31it/s]"
     ]
    },
    {
     "name": "stdout",
     "output_type": "stream",
     "text": [
      "-0.3428881376070667\n",
      "8.592581122574815e-17\n",
      "-1.2920716240994556\n",
      "0.0\n",
      "0.0\n",
      "nan\n"
     ]
    },
    {
     "name": "stderr",
     "output_type": "stream",
     "text": [
      "\r",
      "  4%|███▏                                                                             | 15/377 [00:21<06:02,  1.00s/it]"
     ]
    },
    {
     "name": "stdout",
     "output_type": "stream",
     "text": [
      "-0.024504554005005653\n",
      "0.027465727586120852\n",
      "2.6568639869872586\n"
     ]
    },
    {
     "name": "stderr",
     "output_type": "stream",
     "text": [
      "\r",
      "  4%|███▍                                                                             | 16/377 [00:23<07:18,  1.22s/it]"
     ]
    },
    {
     "name": "stdout",
     "output_type": "stream",
     "text": [
      "0.02820883472568536\n",
      "0.01819223243659446\n",
      "2.3036720928123473\n"
     ]
    },
    {
     "name": "stderr",
     "output_type": "stream",
     "text": [
      "\r",
      "  5%|███▋                                                                             | 17/377 [00:24<06:07,  1.02s/it]"
     ]
    },
    {
     "name": "stdout",
     "output_type": "stream",
     "text": [
      "0.1286239743010198\n",
      "2.6125649700836845e-17\n",
      "-1.062387957178338\n"
     ]
    },
    {
     "name": "stderr",
     "output_type": "stream",
     "text": [
      "\r",
      "  5%|███▊                                                                             | 18/377 [00:25<05:59,  1.00s/it]"
     ]
    },
    {
     "name": "stdout",
     "output_type": "stream",
     "text": [
      "-0.038439566438568946\n",
      "0.054564289361625454\n",
      "3.2470146799797717\n"
     ]
    },
    {
     "name": "stderr",
     "output_type": "stream",
     "text": [
      "\r",
      "  5%|████                                                                             | 19/377 [00:25<05:44,  1.04it/s]"
     ]
    },
    {
     "name": "stdout",
     "output_type": "stream",
     "text": [
      "0.00291281630060836\n",
      "0.03937803037361626\n",
      "2.6350208980741137\n"
     ]
    },
    {
     "name": "stderr",
     "output_type": "stream",
     "text": [
      "\r",
      "  5%|████▎                                                                            | 20/377 [00:26<04:34,  1.30it/s]"
     ]
    },
    {
     "name": "stdout",
     "output_type": "stream",
     "text": [
      "0.21008819959656533\n",
      "8.085404506410322e-17\n",
      "-1.0298399638616804\n"
     ]
    },
    {
     "name": "stderr",
     "output_type": "stream",
     "text": [
      "\r",
      "  6%|████▌                                                                            | 21/377 [00:28<07:33,  1.27s/it]"
     ]
    },
    {
     "name": "stdout",
     "output_type": "stream",
     "text": [
      "-0.023129534715314422\n",
      "0.030330202429113048\n",
      "-0.8149400318435281\n"
     ]
    },
    {
     "name": "stderr",
     "output_type": "stream",
     "text": [
      "\r",
      "  6%|████▋                                                                            | 22/377 [00:30<08:33,  1.45s/it]"
     ]
    },
    {
     "name": "stdout",
     "output_type": "stream",
     "text": [
      "-0.014890659746458462\n",
      "0.04660404273413924\n",
      "-5.444010983662104\n"
     ]
    },
    {
     "name": "stderr",
     "output_type": "stream",
     "text": [
      "\r",
      "  6%|████▉                                                                            | 23/377 [00:31<06:49,  1.16s/it]"
     ]
    },
    {
     "name": "stdout",
     "output_type": "stream",
     "text": [
      "2.285671651947041e-17\n",
      "1.4451508911958015e-17\n",
      "0.3389859928124809\n"
     ]
    },
    {
     "name": "stderr",
     "output_type": "stream",
     "text": [
      "\r",
      "  6%|█████▏                                                                           | 24/377 [00:31<05:40,  1.04it/s]"
     ]
    },
    {
     "name": "stdout",
     "output_type": "stream",
     "text": [
      "0.21393734878869342\n",
      "3.611425976451734e-17\n",
      "-1.5370978553407357\n"
     ]
    },
    {
     "name": "stderr",
     "output_type": "stream",
     "text": [
      "\r",
      "  7%|█████▎                                                                           | 25/377 [00:32<05:00,  1.17it/s]"
     ]
    },
    {
     "name": "stdout",
     "output_type": "stream",
     "text": [
      "0.10755893587948219\n",
      "3.915405771733295e-17\n",
      "1.0633218075125037\n"
     ]
    },
    {
     "name": "stderr",
     "output_type": "stream",
     "text": [
      "\r",
      "  7%|█████▌                                                                           | 26/377 [00:34<07:44,  1.32s/it]"
     ]
    },
    {
     "name": "stdout",
     "output_type": "stream",
     "text": [
      "-0.006081210160463112\n",
      "0.022077699463453247\n",
      "2.6654351200387323\n"
     ]
    },
    {
     "name": "stderr",
     "output_type": "stream",
     "text": [
      "\r",
      "  7%|█████▊                                                                           | 27/377 [00:37<10:02,  1.72s/it]"
     ]
    },
    {
     "name": "stdout",
     "output_type": "stream",
     "text": [
      "-0.03842475085126693\n",
      "0.020138467215027125\n",
      "5.9451584976377365\n"
     ]
    },
    {
     "name": "stderr",
     "output_type": "stream",
     "text": [
      "\r",
      "  7%|██████                                                                           | 28/377 [00:39<11:19,  1.95s/it]"
     ]
    },
    {
     "name": "stdout",
     "output_type": "stream",
     "text": [
      "-0.04521337430884715\n",
      "0.015246852477069533\n",
      "6.354640996704748\n"
     ]
    },
    {
     "name": "stderr",
     "output_type": "stream",
     "text": [
      "\r",
      "  8%|██████▏                                                                          | 29/377 [00:42<11:57,  2.06s/it]"
     ]
    },
    {
     "name": "stdout",
     "output_type": "stream",
     "text": [
      "0.012408752122019577\n",
      "0.004971816326033369\n",
      "-0.053012026450188966\n"
     ]
    },
    {
     "name": "stderr",
     "output_type": "stream",
     "text": [
      "\r",
      "  8%|██████▍                                                                          | 30/377 [00:44<12:18,  2.13s/it]"
     ]
    },
    {
     "name": "stdout",
     "output_type": "stream",
     "text": [
      "-0.04474206234446183\n",
      "0.016039734816418908\n",
      "6.011131914625786\n"
     ]
    },
    {
     "name": "stderr",
     "output_type": "stream",
     "text": [
      "\r",
      "  8%|██████▋                                                                          | 31/377 [00:44<09:19,  1.62s/it]"
     ]
    },
    {
     "name": "stdout",
     "output_type": "stream",
     "text": [
      "0.02730389502457618\n",
      "0.06800234153017777\n",
      "2.734298821429382\n"
     ]
    },
    {
     "name": "stderr",
     "output_type": "stream",
     "text": [
      "\r",
      "  8%|██████▉                                                                          | 32/377 [00:46<10:24,  1.81s/it]"
     ]
    },
    {
     "name": "stdout",
     "output_type": "stream",
     "text": [
      "-0.013452282924144576\n",
      "0.03796934718157884\n",
      "0.8431090434142371\n"
     ]
    },
    {
     "name": "stderr",
     "output_type": "stream",
     "text": [
      "\r",
      "  9%|███████▎                                                                         | 34/377 [00:47<06:14,  1.09s/it]"
     ]
    },
    {
     "name": "stdout",
     "output_type": "stream",
     "text": [
      "0.17724539961599725\n",
      "2.4387028659243798e-17\n",
      "-1.1381286340149637\n"
     ]
    },
    {
     "name": "stderr",
     "output_type": "stream",
     "text": [
      "\r",
      "  9%|███████▌                                                                         | 35/377 [00:47<05:08,  1.11it/s]"
     ]
    },
    {
     "name": "stdout",
     "output_type": "stream",
     "text": [
      "-3.2352592826967452e-18\n",
      "1.099338147209907e-17\n",
      "1.3988710983571526\n"
     ]
    },
    {
     "name": "stderr",
     "output_type": "stream",
     "text": [
      "\r",
      " 10%|███████▋                                                                         | 36/377 [00:49<05:32,  1.03it/s]"
     ]
    },
    {
     "name": "stdout",
     "output_type": "stream",
     "text": [
      "-0.004349286560904327\n",
      "0.03265399918479644\n",
      "2.6071641527214293\n"
     ]
    },
    {
     "name": "stderr",
     "output_type": "stream",
     "text": [
      "\r",
      " 10%|███████▉                                                                         | 37/377 [00:49<04:41,  1.21it/s]"
     ]
    },
    {
     "name": "stdout",
     "output_type": "stream",
     "text": [
      "-0.10631799830855247\n",
      "1.5004706278327074e-17\n",
      "0.9248956660924215\n"
     ]
    },
    {
     "name": "stderr",
     "output_type": "stream",
     "text": [
      "\r",
      " 10%|████████▏                                                                        | 38/377 [00:51<07:00,  1.24s/it]"
     ]
    },
    {
     "name": "stdout",
     "output_type": "stream",
     "text": [
      "0.044955313990162823\n",
      "0.01664947576964932\n",
      "0.9818323227369571\n"
     ]
    },
    {
     "name": "stderr",
     "output_type": "stream",
     "text": [
      "\r",
      " 10%|████████▍                                                                        | 39/377 [00:54<08:48,  1.56s/it]"
     ]
    },
    {
     "name": "stdout",
     "output_type": "stream",
     "text": [
      "-0.0024329216557784075\n",
      "0.02339258361174525\n",
      "0.045480223028764956\n"
     ]
    },
    {
     "name": "stderr",
     "output_type": "stream",
     "text": [
      "\r",
      " 11%|████████▌                                                                        | 40/377 [00:55<08:35,  1.53s/it]"
     ]
    },
    {
     "name": "stdout",
     "output_type": "stream",
     "text": [
      "-0.020640343135981128\n",
      "0.0364296875803036\n",
      "3.5454899478699415\n"
     ]
    },
    {
     "name": "stderr",
     "output_type": "stream",
     "text": [
      "\r",
      " 11%|████████▊                                                                        | 41/377 [00:57<09:49,  1.75s/it]"
     ]
    },
    {
     "name": "stdout",
     "output_type": "stream",
     "text": [
      "0.025215518317916793\n",
      "0.016253271624436787\n",
      "-2.2752318436828105\n"
     ]
    },
    {
     "name": "stderr",
     "output_type": "stream",
     "text": [
      "\r",
      " 11%|█████████                                                                        | 42/377 [00:58<07:51,  1.41s/it]"
     ]
    },
    {
     "name": "stdout",
     "output_type": "stream",
     "text": [
      "0.0002687568581360455\n",
      "0.02517117609746593\n",
      "5.763897241643148\n"
     ]
    },
    {
     "name": "stderr",
     "output_type": "stream",
     "text": [
      "\r",
      " 11%|█████████▏                                                                       | 43/377 [01:00<09:16,  1.67s/it]"
     ]
    },
    {
     "name": "stdout",
     "output_type": "stream",
     "text": [
      "0.040476670209411966\n",
      "0.007769856770498892\n",
      "-6.141762304173539\n"
     ]
    },
    {
     "name": "stderr",
     "output_type": "stream",
     "text": [
      "\r",
      " 12%|█████████▍                                                                       | 44/377 [01:03<10:15,  1.85s/it]"
     ]
    },
    {
     "name": "stdout",
     "output_type": "stream",
     "text": [
      "0.014131594057358601\n",
      "0.01762240152949819\n",
      "-2.957557503827676\n"
     ]
    },
    {
     "name": "stderr",
     "output_type": "stream",
     "text": [
      "\r",
      " 12%|█████████▋                                                                       | 45/377 [01:05<10:58,  1.98s/it]"
     ]
    },
    {
     "name": "stdout",
     "output_type": "stream",
     "text": [
      "-0.0022038898050602018\n",
      "0.01294697056177573\n",
      "5.576118263752395\n"
     ]
    },
    {
     "name": "stderr",
     "output_type": "stream",
     "text": [
      "\r",
      " 12%|█████████▉                                                                       | 46/377 [01:07<11:15,  2.04s/it]"
     ]
    },
    {
     "name": "stdout",
     "output_type": "stream",
     "text": [
      "-0.018325256974171363\n",
      "0.03840521801541815\n",
      "-1.4316923178128218\n"
     ]
    },
    {
     "name": "stderr",
     "output_type": "stream",
     "text": [
      "\r",
      " 12%|██████████                                                                       | 47/377 [01:09<11:35,  2.11s/it]"
     ]
    },
    {
     "name": "stdout",
     "output_type": "stream",
     "text": [
      "0.03071375679920221\n",
      "0.02097672530019141\n",
      "4.435077686754534\n"
     ]
    },
    {
     "name": "stderr",
     "output_type": "stream",
     "text": [
      "\r",
      " 13%|██████████▎                                                                      | 48/377 [01:10<08:55,  1.63s/it]"
     ]
    },
    {
     "name": "stdout",
     "output_type": "stream",
     "text": [
      "-0.002214776146810536\n",
      "0.11599069204555586\n",
      "3.575900013222244\n"
     ]
    },
    {
     "name": "stderr",
     "output_type": "stream",
     "text": [
      "\r",
      " 13%|██████████▌                                                                      | 49/377 [01:10<07:01,  1.28s/it]"
     ]
    },
    {
     "name": "stdout",
     "output_type": "stream",
     "text": [
      "0.13863681558777444\n",
      "1.8158171892541793e-17\n",
      "1.5285446012893575\n"
     ]
    },
    {
     "name": "stderr",
     "output_type": "stream",
     "text": [
      "\r",
      " 13%|██████████▋                                                                      | 50/377 [01:11<06:07,  1.12s/it]"
     ]
    },
    {
     "name": "stdout",
     "output_type": "stream",
     "text": [
      "-0.07682500343907703\n",
      "0.050803339150767686\n",
      "-0.48818605614226285\n",
      "0.0\n",
      "0.0\n",
      "nan\n"
     ]
    },
    {
     "name": "stderr",
     "output_type": "stream",
     "text": [
      "\r",
      " 14%|███████████▍                                                                     | 53/377 [01:13<05:01,  1.08it/s]"
     ]
    },
    {
     "name": "stdout",
     "output_type": "stream",
     "text": [
      "0.025587250859508907\n",
      "0.007092211368262419\n",
      "-3.2287357296717394\n"
     ]
    },
    {
     "name": "stderr",
     "output_type": "stream",
     "text": [
      "\r",
      " 14%|███████████▌                                                                     | 54/377 [01:16<06:51,  1.27s/it]"
     ]
    },
    {
     "name": "stdout",
     "output_type": "stream",
     "text": [
      "0.02202144948615201\n",
      "0.01423220017876502\n",
      "2.30818319330975\n"
     ]
    },
    {
     "name": "stderr",
     "output_type": "stream",
     "text": [
      "\r",
      " 15%|███████████▊                                                                     | 55/377 [01:18<08:05,  1.51s/it]"
     ]
    },
    {
     "name": "stdout",
     "output_type": "stream",
     "text": [
      "0.024226780391491745\n",
      "0.007782197269144807\n",
      "-0.8086862728397904\n"
     ]
    },
    {
     "name": "stderr",
     "output_type": "stream",
     "text": [
      "\r",
      " 15%|████████████                                                                     | 56/377 [01:21<09:25,  1.76s/it]"
     ]
    },
    {
     "name": "stdout",
     "output_type": "stream",
     "text": [
      "0.014584130180366599\n",
      "0.015343040012237148\n",
      "3.9118174789397457\n"
     ]
    },
    {
     "name": "stderr",
     "output_type": "stream",
     "text": [
      "\r",
      " 15%|████████████▏                                                                    | 57/377 [01:23<10:10,  1.91s/it]"
     ]
    },
    {
     "name": "stdout",
     "output_type": "stream",
     "text": [
      "0.010898064708630455\n",
      "0.036124506608287844\n",
      "5.7044112133169005\n"
     ]
    },
    {
     "name": "stderr",
     "output_type": "stream",
     "text": [
      "\r",
      " 15%|████████████▍                                                                    | 58/377 [01:23<07:49,  1.47s/it]"
     ]
    },
    {
     "name": "stdout",
     "output_type": "stream",
     "text": [
      "0.28429692623741337\n",
      "5.551115123125783e-17\n",
      "-1.0\n"
     ]
    },
    {
     "name": "stderr",
     "output_type": "stream",
     "text": [
      "\r",
      " 16%|████████████▋                                                                    | 59/377 [01:25<08:43,  1.65s/it]"
     ]
    },
    {
     "name": "stdout",
     "output_type": "stream",
     "text": [
      "0.0022521769466043624\n",
      "0.009884015437859313\n",
      "2.901482970723365\n"
     ]
    },
    {
     "name": "stderr",
     "output_type": "stream",
     "text": [
      "\r",
      " 16%|████████████▉                                                                    | 60/377 [01:28<09:36,  1.82s/it]"
     ]
    },
    {
     "name": "stdout",
     "output_type": "stream",
     "text": [
      "-0.015579432456932732\n",
      "0.020271191612489234\n",
      "2.112643745319838\n"
     ]
    },
    {
     "name": "stderr",
     "output_type": "stream",
     "text": [
      "\r",
      " 16%|█████████████                                                                    | 61/377 [01:28<07:18,  1.39s/it]"
     ]
    },
    {
     "name": "stdout",
     "output_type": "stream",
     "text": [
      "0.22829573050920077\n",
      "1.567637269599735e-17\n",
      "0.0\n"
     ]
    },
    {
     "name": "stderr",
     "output_type": "stream",
     "text": [
      "\r",
      " 16%|█████████████▎                                                                   | 62/377 [01:29<06:00,  1.14s/it]"
     ]
    },
    {
     "name": "stdout",
     "output_type": "stream",
     "text": [
      "0.24294695743776912\n",
      "5.989033251224098e-17\n",
      "0.9268799972000809\n"
     ]
    },
    {
     "name": "stderr",
     "output_type": "stream",
     "text": [
      "\r",
      " 17%|█████████████▌                                                                   | 63/377 [01:31<07:49,  1.49s/it]"
     ]
    },
    {
     "name": "stdout",
     "output_type": "stream",
     "text": [
      "0.07174059655292984\n",
      "0.010203502109352182\n",
      "-4.176861465427311\n"
     ]
    },
    {
     "name": "stderr",
     "output_type": "stream",
     "text": [
      "\r",
      " 17%|█████████████▊                                                                   | 64/377 [01:31<06:20,  1.22s/it]"
     ]
    },
    {
     "name": "stdout",
     "output_type": "stream",
     "text": [
      "0.2231622687584416\n",
      "6.061273762100744e-17\n",
      "-0.9158330972996428\n"
     ]
    },
    {
     "name": "stderr",
     "output_type": "stream",
     "text": [
      "\r",
      " 17%|█████████████▉                                                                   | 65/377 [01:32<05:12,  1.00s/it]"
     ]
    },
    {
     "name": "stdout",
     "output_type": "stream",
     "text": [
      "-0.01854431116553272\n",
      "0.04098357498124017\n",
      "-1.8030300319359167\n"
     ]
    },
    {
     "name": "stderr",
     "output_type": "stream",
     "text": [
      "\r",
      " 18%|██████████████▏                                                                  | 66/377 [01:34<06:17,  1.21s/it]"
     ]
    },
    {
     "name": "stdout",
     "output_type": "stream",
     "text": [
      "0.006023197877119634\n",
      "0.0172510165975667\n",
      "3.5288612284727154\n"
     ]
    },
    {
     "name": "stderr",
     "output_type": "stream",
     "text": [
      "\r",
      " 18%|██████████████▍                                                                  | 67/377 [01:36<07:58,  1.54s/it]"
     ]
    },
    {
     "name": "stdout",
     "output_type": "stream",
     "text": [
      "-0.01681539997779042\n",
      "0.021189322103596853\n",
      "5.791238902164937\n"
     ]
    },
    {
     "name": "stderr",
     "output_type": "stream",
     "text": [
      "\r",
      " 18%|██████████████▌                                                                  | 68/377 [01:36<05:56,  1.15s/it]"
     ]
    },
    {
     "name": "stdout",
     "output_type": "stream",
     "text": [
      "0.2636383150592031\n",
      "1.3018518929051675e-17\n",
      "0.0\n"
     ]
    },
    {
     "name": "stderr",
     "output_type": "stream",
     "text": [
      "\r",
      " 18%|██████████████▊                                                                  | 69/377 [01:38<06:26,  1.25s/it]"
     ]
    },
    {
     "name": "stdout",
     "output_type": "stream",
     "text": [
      "0.07857288070415495\n",
      "0.04031379816026397\n",
      "-2.3719758288104384\n"
     ]
    },
    {
     "name": "stderr",
     "output_type": "stream",
     "text": [
      "\r",
      " 19%|███████████████                                                                  | 70/377 [01:40<08:05,  1.58s/it]"
     ]
    },
    {
     "name": "stdout",
     "output_type": "stream",
     "text": [
      "0.028163894261682174\n",
      "0.01054717550920914\n",
      "1.4529562088801675\n"
     ]
    },
    {
     "name": "stderr",
     "output_type": "stream",
     "text": [
      "\r",
      " 19%|███████████████▎                                                                 | 71/377 [01:40<05:58,  1.17s/it]"
     ]
    },
    {
     "name": "stdout",
     "output_type": "stream",
     "text": [
      "0.0\n",
      "0.0\n",
      "nan\n"
     ]
    },
    {
     "name": "stderr",
     "output_type": "stream",
     "text": [
      "\r",
      " 19%|███████████████▍                                                                 | 72/377 [01:41<05:01,  1.01it/s]"
     ]
    },
    {
     "name": "stdout",
     "output_type": "stream",
     "text": [
      "1.4641066137244251e-18\n",
      "9.147712553988816e-18\n",
      "1.7362950630885188\n"
     ]
    },
    {
     "name": "stderr",
     "output_type": "stream",
     "text": [
      "\r",
      " 19%|███████████████▋                                                                 | 73/377 [01:41<04:12,  1.20it/s]"
     ]
    },
    {
     "name": "stdout",
     "output_type": "stream",
     "text": [
      "-0.08616724213837454\n",
      "2.4945299457643635e-17\n",
      "1.6689863152028126\n"
     ]
    },
    {
     "name": "stderr",
     "output_type": "stream",
     "text": [
      "\r",
      " 20%|███████████████▉                                                                 | 74/377 [01:44<06:24,  1.27s/it]"
     ]
    },
    {
     "name": "stdout",
     "output_type": "stream",
     "text": [
      "0.014420074055436357\n",
      "0.016925884375950554\n",
      "-0.11269205595481628\n"
     ]
    },
    {
     "name": "stderr",
     "output_type": "stream",
     "text": [
      "\r",
      " 20%|████████████████                                                                 | 75/377 [01:46<08:04,  1.60s/it]"
     ]
    },
    {
     "name": "stdout",
     "output_type": "stream",
     "text": [
      "-0.020212701116208726\n",
      "0.0259170823670368\n",
      "3.825838587401819\n",
      "0.0\n",
      "0.0\n",
      "nan\n"
     ]
    },
    {
     "name": "stderr",
     "output_type": "stream",
     "text": [
      "\r",
      " 20%|████████████████▌                                                                | 77/377 [01:48<06:32,  1.31s/it]"
     ]
    },
    {
     "name": "stdout",
     "output_type": "stream",
     "text": [
      "-0.03946970203796444\n",
      "0.030666089099768336\n",
      "4.517138776817612\n"
     ]
    },
    {
     "name": "stderr",
     "output_type": "stream",
     "text": [
      "\r",
      " 21%|████████████████▊                                                                | 78/377 [01:50<07:42,  1.55s/it]"
     ]
    },
    {
     "name": "stdout",
     "output_type": "stream",
     "text": [
      "0.005313348048297145\n",
      "0.018992181047657975\n",
      "1.8409520275770004\n"
     ]
    },
    {
     "name": "stderr",
     "output_type": "stream",
     "text": [
      "\r",
      " 21%|████████████████▉                                                                | 79/377 [01:51<06:19,  1.27s/it]"
     ]
    },
    {
     "name": "stdout",
     "output_type": "stream",
     "text": [
      "nan\n",
      "nan\n",
      "nan\n"
     ]
    },
    {
     "name": "stderr",
     "output_type": "stream",
     "text": [
      "\r",
      " 21%|█████████████████▏                                                               | 80/377 [01:52<05:48,  1.17s/it]"
     ]
    },
    {
     "name": "stdout",
     "output_type": "stream",
     "text": [
      "-0.1808178720671857\n",
      "0.030904470349785093\n",
      "-3.1689090490936507\n"
     ]
    },
    {
     "name": "stderr",
     "output_type": "stream",
     "text": [
      "\r",
      " 21%|█████████████████▍                                                               | 81/377 [01:53<05:45,  1.17s/it]"
     ]
    },
    {
     "name": "stdout",
     "output_type": "stream",
     "text": [
      "-0.002072938581688028\n",
      "0.04247818624540732\n",
      "2.1586874748436915\n"
     ]
    },
    {
     "name": "stderr",
     "output_type": "stream",
     "text": [
      "\r",
      " 22%|█████████████████▊                                                               | 83/377 [01:55<05:38,  1.15s/it]"
     ]
    },
    {
     "name": "stdout",
     "output_type": "stream",
     "text": [
      "0.045864992610337864\n",
      "0.01825369134323961\n",
      "0.39483295518981865\n"
     ]
    },
    {
     "name": "stderr",
     "output_type": "stream",
     "text": [
      "\r",
      " 22%|██████████████████                                                               | 84/377 [01:57<06:51,  1.41s/it]"
     ]
    },
    {
     "name": "stdout",
     "output_type": "stream",
     "text": [
      "-0.033351972762689815\n",
      "0.02869783557585068\n",
      "3.0381105496262943\n"
     ]
    },
    {
     "name": "stderr",
     "output_type": "stream",
     "text": [
      "\r",
      " 23%|██████████████████▎                                                              | 85/377 [01:58<05:43,  1.18s/it]"
     ]
    },
    {
     "name": "stdout",
     "output_type": "stream",
     "text": [
      "0.05328963115163461\n",
      "1.6588165685341052e-17\n",
      "-1.6732154803684227\n"
     ]
    },
    {
     "name": "stderr",
     "output_type": "stream",
     "text": [
      "\r",
      " 23%|██████████████████▍                                                              | 86/377 [01:59<06:00,  1.24s/it]"
     ]
    },
    {
     "name": "stdout",
     "output_type": "stream",
     "text": [
      "0.006052969344806347\n",
      "0.04327161902356206\n",
      "3.1476169020307756\n"
     ]
    },
    {
     "name": "stderr",
     "output_type": "stream",
     "text": [
      "\r",
      " 23%|██████████████████▋                                                              | 87/377 [02:01<07:22,  1.52s/it]"
     ]
    },
    {
     "name": "stdout",
     "output_type": "stream",
     "text": [
      "0.034514280243209954\n",
      "0.020483753196375038\n",
      "-6.006771682262171\n"
     ]
    },
    {
     "name": "stderr",
     "output_type": "stream",
     "text": [
      "\r",
      " 23%|██████████████████▉                                                              | 88/377 [02:04<08:34,  1.78s/it]"
     ]
    },
    {
     "name": "stdout",
     "output_type": "stream",
     "text": [
      "-0.07516310993803216\n",
      "0.01963920410394137\n",
      "2.4828590950065497\n"
     ]
    },
    {
     "name": "stderr",
     "output_type": "stream",
     "text": [
      "\r",
      " 24%|███████████████████▎                                                             | 90/377 [02:06<07:09,  1.50s/it]"
     ]
    },
    {
     "name": "stdout",
     "output_type": "stream",
     "text": [
      "0.04719444337317974\n",
      "0.010150985090205606\n",
      "-5.451836216323724\n"
     ]
    },
    {
     "name": "stderr",
     "output_type": "stream",
     "text": [
      "\r",
      " 24%|███████████████████▌                                                             | 91/377 [02:06<05:45,  1.21s/it]"
     ]
    },
    {
     "name": "stdout",
     "output_type": "stream",
     "text": [
      "8.187894806610529e-19\n",
      "2.4683427581553507e-17\n",
      "1.0912903423144662\n"
     ]
    },
    {
     "name": "stderr",
     "output_type": "stream",
     "text": [
      "\r",
      " 24%|███████████████████▊                                                             | 92/377 [02:09<07:03,  1.49s/it]"
     ]
    },
    {
     "name": "stdout",
     "output_type": "stream",
     "text": [
      "-0.010910407362699496\n",
      "0.006374592585110104\n",
      "-0.7088585974826825\n"
     ]
    },
    {
     "name": "stderr",
     "output_type": "stream",
     "text": [
      "\r",
      " 25%|███████████████████▉                                                             | 93/377 [02:11<08:05,  1.71s/it]"
     ]
    },
    {
     "name": "stdout",
     "output_type": "stream",
     "text": [
      "0.016161775075484695\n",
      "0.012705467473348076\n",
      "5.884731538242251\n"
     ]
    },
    {
     "name": "stderr",
     "output_type": "stream",
     "text": [
      "\r",
      " 25%|████████████████████▏                                                            | 94/377 [02:13<08:44,  1.85s/it]"
     ]
    },
    {
     "name": "stdout",
     "output_type": "stream",
     "text": [
      "0.03241168016198148\n",
      "0.018006724196850107\n",
      "5.075244692589719\n"
     ]
    },
    {
     "name": "stderr",
     "output_type": "stream",
     "text": [
      "\r",
      " 25%|████████████████████▍                                                            | 95/377 [02:16<09:35,  2.04s/it]"
     ]
    },
    {
     "name": "stdout",
     "output_type": "stream",
     "text": [
      "-0.002149154933504013\n",
      "0.013493899198825408\n",
      "3.331719478268884\n"
     ]
    },
    {
     "name": "stderr",
     "output_type": "stream",
     "text": [
      "\r",
      " 25%|████████████████████▋                                                            | 96/377 [02:17<08:57,  1.91s/it]"
     ]
    },
    {
     "name": "stdout",
     "output_type": "stream",
     "text": [
      "-0.04610091802194596\n",
      "0.01745104498325984\n",
      "-0.007800013026031282\n"
     ]
    },
    {
     "name": "stderr",
     "output_type": "stream",
     "text": [
      "\r",
      " 26%|████████████████████▊                                                            | 97/377 [02:18<07:05,  1.52s/it]"
     ]
    },
    {
     "name": "stdout",
     "output_type": "stream",
     "text": [
      "0.6666666666666666\n",
      "1.1102230246251565e-16\n",
      "1.0\n"
     ]
    },
    {
     "name": "stderr",
     "output_type": "stream",
     "text": [
      "\r",
      " 26%|█████████████████████                                                            | 98/377 [02:20<08:32,  1.84s/it]"
     ]
    },
    {
     "name": "stdout",
     "output_type": "stream",
     "text": [
      "0.02019053793166438\n",
      "0.01701859515600634\n",
      "4.640222689028781\n"
     ]
    },
    {
     "name": "stderr",
     "output_type": "stream",
     "text": [
      "\r",
      " 26%|█████████████████████▎                                                           | 99/377 [02:23<09:28,  2.04s/it]"
     ]
    },
    {
     "name": "stdout",
     "output_type": "stream",
     "text": [
      "-0.018573209673720607\n",
      "0.011262326339448668\n",
      "5.041366564925712\n"
     ]
    },
    {
     "name": "stderr",
     "output_type": "stream",
     "text": [
      "\r",
      " 27%|█████████████████████▏                                                          | 100/377 [02:25<09:49,  2.13s/it]"
     ]
    },
    {
     "name": "stdout",
     "output_type": "stream",
     "text": [
      "0.0241983964555432\n",
      "0.01527343390481909\n",
      "0.6781122820861668\n"
     ]
    },
    {
     "name": "stderr",
     "output_type": "stream",
     "text": [
      "\r",
      " 27%|█████████████████████▍                                                          | 101/377 [02:28<09:56,  2.16s/it]"
     ]
    },
    {
     "name": "stdout",
     "output_type": "stream",
     "text": [
      "0.015493662778393091\n",
      "0.019133581604172546\n",
      "-0.18144084301352048\n"
     ]
    },
    {
     "name": "stderr",
     "output_type": "stream",
     "text": [
      "\r",
      " 27%|█████████████████████▋                                                          | 102/377 [02:30<10:19,  2.25s/it]"
     ]
    },
    {
     "name": "stdout",
     "output_type": "stream",
     "text": [
      "-0.03867700057158863\n",
      "0.015762027027648208\n",
      "4.535723652330195\n"
     ]
    },
    {
     "name": "stderr",
     "output_type": "stream",
     "text": [
      "\r",
      " 27%|█████████████████████▊                                                          | 103/377 [02:33<10:54,  2.39s/it]"
     ]
    },
    {
     "name": "stdout",
     "output_type": "stream",
     "text": [
      "0.019009300326611158\n",
      "0.020159947025928535\n",
      "1.8836199046295077\n"
     ]
    },
    {
     "name": "stderr",
     "output_type": "stream",
     "text": [
      "\r",
      " 28%|██████████████████████                                                          | 104/377 [02:36<11:38,  2.56s/it]"
     ]
    },
    {
     "name": "stdout",
     "output_type": "stream",
     "text": [
      "0.02132613599489315\n",
      "0.012174596688545855\n",
      "3.4405107095442355\n"
     ]
    },
    {
     "name": "stderr",
     "output_type": "stream",
     "text": [
      "\r",
      " 28%|██████████████████████▎                                                         | 105/377 [02:36<08:56,  1.97s/it]"
     ]
    },
    {
     "name": "stdout",
     "output_type": "stream",
     "text": [
      "0.29055909971089056\n",
      "4.353291932867632e-17\n",
      "-1.2751534261266766\n"
     ]
    },
    {
     "name": "stderr",
     "output_type": "stream",
     "text": [
      "\r",
      " 28%|██████████████████████▍                                                         | 106/377 [02:39<09:48,  2.17s/it]"
     ]
    },
    {
     "name": "stdout",
     "output_type": "stream",
     "text": [
      "0.0035305637489874697\n",
      "0.020771684553287588\n",
      "0.9274433601145474\n"
     ]
    },
    {
     "name": "stderr",
     "output_type": "stream",
     "text": [
      "\r",
      " 28%|██████████████████████▋                                                         | 107/377 [02:39<07:31,  1.67s/it]"
     ]
    },
    {
     "name": "stdout",
     "output_type": "stream",
     "text": [
      "-0.19570009210436767\n",
      "0.08122972962386067\n",
      "0.05313846255973168\n"
     ]
    },
    {
     "name": "stderr",
     "output_type": "stream",
     "text": [
      "\r",
      " 29%|██████████████████████▉                                                         | 108/377 [02:42<08:24,  1.87s/it]"
     ]
    },
    {
     "name": "stdout",
     "output_type": "stream",
     "text": [
      "0.0001950516191524538\n",
      "0.014607735024068603\n",
      "5.109464089241156\n"
     ]
    },
    {
     "name": "stderr",
     "output_type": "stream",
     "text": [
      "\r",
      " 29%|███████████████████████▏                                                        | 109/377 [02:44<09:24,  2.11s/it]"
     ]
    },
    {
     "name": "stdout",
     "output_type": "stream",
     "text": [
      "0.004514711117279015\n",
      "0.01671399660977629\n",
      "0.169218684732708\n"
     ]
    },
    {
     "name": "stderr",
     "output_type": "stream",
     "text": [
      " 29%|███████████████████████▌                                                        | 111/377 [02:47<06:57,  1.57s/it]"
     ]
    },
    {
     "name": "stdout",
     "output_type": "stream",
     "text": [
      "8.896367276082368e-06\n",
      "0.016070715935456573\n",
      "-0.21727280400466162\n",
      "0.0\n",
      "0.0\n",
      "nan\n"
     ]
    },
    {
     "name": "stderr",
     "output_type": "stream",
     "text": [
      "\r",
      " 30%|███████████████████████▊                                                        | 112/377 [02:49<07:58,  1.81s/it]"
     ]
    },
    {
     "name": "stdout",
     "output_type": "stream",
     "text": [
      "-6.591949208711867e-17\n",
      "0.0\n",
      "nan\n"
     ]
    },
    {
     "name": "stderr",
     "output_type": "stream",
     "text": [
      "\r",
      " 30%|███████████████████████▉                                                        | 113/377 [02:52<08:35,  1.95s/it]"
     ]
    },
    {
     "name": "stdout",
     "output_type": "stream",
     "text": [
      "0.005212107175278655\n",
      "0.011940542949350279\n",
      "0.17502935980734663\n"
     ]
    },
    {
     "name": "stderr",
     "output_type": "stream",
     "text": [
      "\r",
      " 30%|████████████████████████▏                                                       | 114/377 [02:52<06:40,  1.52s/it]"
     ]
    },
    {
     "name": "stdout",
     "output_type": "stream",
     "text": [
      "nan\n",
      "nan\n",
      "nan\n"
     ]
    },
    {
     "name": "stderr",
     "output_type": "stream",
     "text": [
      "\r",
      " 31%|████████████████████████▍                                                       | 115/377 [02:53<05:19,  1.22s/it]"
     ]
    },
    {
     "name": "stdout",
     "output_type": "stream",
     "text": [
      "0.040456437066605344\n",
      "8.812668438527305e-18\n",
      "0.0\n"
     ]
    },
    {
     "name": "stderr",
     "output_type": "stream",
     "text": [
      "\r",
      " 31%|████████████████████████▌                                                       | 116/377 [02:55<06:39,  1.53s/it]"
     ]
    },
    {
     "name": "stdout",
     "output_type": "stream",
     "text": [
      "-0.040485669251514894\n",
      "0.040390262848165395\n",
      "5.948282171011922\n"
     ]
    },
    {
     "name": "stderr",
     "output_type": "stream",
     "text": [
      "\r",
      " 31%|████████████████████████▊                                                       | 117/377 [02:55<05:15,  1.21s/it]"
     ]
    },
    {
     "name": "stdout",
     "output_type": "stream",
     "text": [
      "-0.37248746319214354\n",
      "8.610493547940852e-17\n",
      "1.2893837251531997\n"
     ]
    },
    {
     "name": "stderr",
     "output_type": "stream",
     "text": [
      "\r",
      " 31%|█████████████████████████                                                       | 118/377 [02:56<04:00,  1.08it/s]"
     ]
    },
    {
     "name": "stdout",
     "output_type": "stream",
     "text": [
      "0.21688262133944938\n",
      "1.91694400906517e-17\n",
      "0.0\n"
     ]
    },
    {
     "name": "stderr",
     "output_type": "stream",
     "text": [
      "\r",
      " 32%|█████████████████████████▎                                                      | 119/377 [02:56<03:24,  1.26it/s]"
     ]
    },
    {
     "name": "stdout",
     "output_type": "stream",
     "text": [
      "-0.3428881376070667\n",
      "8.580020174466823e-17\n",
      "-1.293963186624031\n"
     ]
    },
    {
     "name": "stderr",
     "output_type": "stream",
     "text": [
      "\r",
      " 32%|█████████████████████████▍                                                      | 120/377 [02:57<02:57,  1.45it/s]"
     ]
    },
    {
     "name": "stdout",
     "output_type": "stream",
     "text": [
      "-0.40887497152814456\n",
      "2.7921612444268923e-17\n",
      "0.0\n"
     ]
    },
    {
     "name": "stderr",
     "output_type": "stream",
     "text": [
      "\r",
      " 32%|█████████████████████████▋                                                      | 121/377 [02:59<04:57,  1.16s/it]"
     ]
    },
    {
     "name": "stdout",
     "output_type": "stream",
     "text": [
      "0.013860905361756017\n",
      "0.022227443980767075\n",
      "2.742051279427304\n"
     ]
    },
    {
     "name": "stderr",
     "output_type": "stream",
     "text": [
      "\r",
      " 32%|█████████████████████████▉                                                      | 122/377 [03:01<06:16,  1.48s/it]"
     ]
    },
    {
     "name": "stdout",
     "output_type": "stream",
     "text": [
      "0.04766063017757867\n",
      "0.027670074543536382\n",
      "-4.428448619567945\n"
     ]
    },
    {
     "name": "stderr",
     "output_type": "stream",
     "text": [
      "\r",
      " 33%|██████████████████████████                                                      | 123/377 [03:02<05:03,  1.19s/it]"
     ]
    },
    {
     "name": "stdout",
     "output_type": "stream",
     "text": [
      "0.07553592054289669\n",
      "3.5860053316571594e-17\n",
      "-1.1609955806787333\n"
     ]
    },
    {
     "name": "stderr",
     "output_type": "stream",
     "text": [
      "\r",
      " 33%|██████████████████████████▎                                                     | 124/377 [03:04<06:20,  1.50s/it]"
     ]
    },
    {
     "name": "stdout",
     "output_type": "stream",
     "text": [
      "-0.006813906287558567\n",
      "0.02872303848769485\n",
      "-0.9599064274274823\n"
     ]
    },
    {
     "name": "stderr",
     "output_type": "stream",
     "text": [
      "\r",
      " 33%|██████████████████████████▌                                                     | 125/377 [03:04<05:00,  1.19s/it]"
     ]
    },
    {
     "name": "stdout",
     "output_type": "stream",
     "text": [
      "-0.17350354669273377\n",
      "1.8030445768548415e-17\n",
      "0.0\n"
     ]
    },
    {
     "name": "stderr",
     "output_type": "stream",
     "text": [
      " 34%|███████████████████████████▎                                                    | 129/377 [03:05<01:51,  2.23it/s]"
     ]
    },
    {
     "name": "stdout",
     "output_type": "stream",
     "text": [
      "-0.3428881376070667\n",
      "8.554842949272357e-17\n",
      "-1.2977713690461004\n",
      "0.0\n",
      "0.0\n",
      "nan\n"
     ]
    },
    {
     "name": "stderr",
     "output_type": "stream",
     "text": [
      "\r",
      " 34%|███████████████████████████▌                                                    | 130/377 [03:05<01:52,  2.19it/s]"
     ]
    },
    {
     "name": "stdout",
     "output_type": "stream",
     "text": [
      "0.3833275553280273\n",
      "5.3648016821614997e-17\n",
      "-1.0347288589592778\n"
     ]
    },
    {
     "name": "stderr",
     "output_type": "stream",
     "text": [
      "\r",
      " 35%|███████████████████████████▊                                                    | 131/377 [03:06<02:32,  1.61it/s]"
     ]
    },
    {
     "name": "stdout",
     "output_type": "stream",
     "text": [
      "0.009604928160334578\n",
      "0.04533991158246391\n",
      "1.5736436540825804\n"
     ]
    },
    {
     "name": "stderr",
     "output_type": "stream",
     "text": [
      "\r",
      " 35%|████████████████████████████                                                    | 132/377 [03:09<04:22,  1.07s/it]"
     ]
    },
    {
     "name": "stdout",
     "output_type": "stream",
     "text": [
      "0.01126928717219212\n",
      "0.012849910617238636\n",
      "4.687303027590556\n"
     ]
    },
    {
     "name": "stderr",
     "output_type": "stream",
     "text": [
      "\r",
      " 35%|████████████████████████████▏                                                   | 133/377 [03:11<05:45,  1.42s/it]"
     ]
    },
    {
     "name": "stdout",
     "output_type": "stream",
     "text": [
      "0.029956719985240795\n",
      "0.019586857086993592\n",
      "-1.1952779057962692\n"
     ]
    },
    {
     "name": "stderr",
     "output_type": "stream",
     "text": [
      "\r",
      " 36%|████████████████████████████▍                                                   | 134/377 [03:12<04:39,  1.15s/it]"
     ]
    },
    {
     "name": "stdout",
     "output_type": "stream",
     "text": [
      "-0.10425630446523101\n",
      "1.963106165931649e-17\n",
      "0.0\n"
     ]
    },
    {
     "name": "stderr",
     "output_type": "stream",
     "text": [
      "\r",
      " 36%|████████████████████████████▋                                                   | 135/377 [03:12<03:49,  1.05it/s]"
     ]
    },
    {
     "name": "stdout",
     "output_type": "stream",
     "text": [
      "0.05073855299671993\n",
      "0.12446600443634065\n",
      "0.10508259264622206\n"
     ]
    },
    {
     "name": "stderr",
     "output_type": "stream",
     "text": [
      "\r",
      " 36%|████████████████████████████▊                                                   | 136/377 [03:15<05:25,  1.35s/it]"
     ]
    },
    {
     "name": "stdout",
     "output_type": "stream",
     "text": [
      "0.020459035961228757\n",
      "0.013596961016628141\n",
      "-0.12832965346911188\n"
     ]
    },
    {
     "name": "stderr",
     "output_type": "stream",
     "text": [
      "\r",
      " 36%|█████████████████████████████                                                   | 137/377 [03:15<04:25,  1.11s/it]"
     ]
    },
    {
     "name": "stdout",
     "output_type": "stream",
     "text": [
      "0.01734144886120208\n",
      "1.0865519112814517e-17\n",
      "2.2351558550969606\n"
     ]
    },
    {
     "name": "stderr",
     "output_type": "stream",
     "text": [
      "\r",
      " 37%|█████████████████████████████▎                                                  | 138/377 [03:16<03:44,  1.06it/s]"
     ]
    },
    {
     "name": "stdout",
     "output_type": "stream",
     "text": [
      "-0.014021548507992195\n",
      "1.1006406929691322e-17\n",
      "-0.31522066866293086\n"
     ]
    },
    {
     "name": "stderr",
     "output_type": "stream",
     "text": [
      "\r",
      " 37%|█████████████████████████████▍                                                  | 139/377 [03:16<02:52,  1.38it/s]"
     ]
    },
    {
     "name": "stdout",
     "output_type": "stream",
     "text": [
      "-0.14842209428863296\n",
      "4.826598036641129e-17\n",
      "-0.5750546327852952\n"
     ]
    },
    {
     "name": "stderr",
     "output_type": "stream",
     "text": [
      "\r",
      " 37%|█████████████████████████████▋                                                  | 140/377 [03:18<04:38,  1.18s/it]"
     ]
    },
    {
     "name": "stdout",
     "output_type": "stream",
     "text": [
      "-0.008553058816490995\n",
      "0.019477632731222595\n",
      "-0.23342696834521798\n"
     ]
    },
    {
     "name": "stderr",
     "output_type": "stream",
     "text": [
      "\r",
      " 37%|█████████████████████████████▉                                                  | 141/377 [03:19<03:59,  1.01s/it]"
     ]
    },
    {
     "name": "stdout",
     "output_type": "stream",
     "text": [
      "-0.13201336072497333\n",
      "0.05048975124530259\n",
      "-3.659819176435811\n"
     ]
    },
    {
     "name": "stderr",
     "output_type": "stream",
     "text": [
      "\r",
      " 38%|██████████████████████████████▏                                                 | 142/377 [03:19<03:21,  1.17it/s]"
     ]
    },
    {
     "name": "stdout",
     "output_type": "stream",
     "text": [
      "0.15994890617040275\n",
      "2.6952936296865047e-17\n",
      "0.0\n"
     ]
    },
    {
     "name": "stderr",
     "output_type": "stream",
     "text": [
      "\r",
      " 38%|██████████████████████████████▎                                                 | 143/377 [03:21<05:02,  1.29s/it]"
     ]
    },
    {
     "name": "stdout",
     "output_type": "stream",
     "text": [
      "0.005617706235176523\n",
      "0.011401807041146496\n",
      "0.1477262790188098\n"
     ]
    },
    {
     "name": "stderr",
     "output_type": "stream",
     "text": [
      "\r",
      " 38%|██████████████████████████████▌                                                 | 144/377 [03:22<03:59,  1.03s/it]"
     ]
    },
    {
     "name": "stdout",
     "output_type": "stream",
     "text": [
      "-0.6107452996870801\n",
      "1.0151106134037545e-16\n",
      "1.0936965981495177\n"
     ]
    },
    {
     "name": "stderr",
     "output_type": "stream",
     "text": [
      "\r",
      " 38%|██████████████████████████████▊                                                 | 145/377 [03:22<03:29,  1.11it/s]"
     ]
    },
    {
     "name": "stdout",
     "output_type": "stream",
     "text": [
      "-0.044421130711713504\n",
      "0.05723564901170508\n",
      "3.1845368430820504\n"
     ]
    },
    {
     "name": "stderr",
     "output_type": "stream",
     "text": [
      "\r",
      " 39%|██████████████████████████████▉                                                 | 146/377 [03:25<05:01,  1.31s/it]"
     ]
    },
    {
     "name": "stdout",
     "output_type": "stream",
     "text": [
      "-0.030695313292406195\n",
      "0.010295579386533183\n",
      "2.2811720174117274\n"
     ]
    },
    {
     "name": "stderr",
     "output_type": "stream",
     "text": [
      "\r",
      " 39%|███████████████████████████████▏                                                | 147/377 [03:27<06:04,  1.59s/it]"
     ]
    },
    {
     "name": "stdout",
     "output_type": "stream",
     "text": [
      "-0.06060096352783601\n",
      "0.019877713261512324\n",
      "2.3723390095295653\n"
     ]
    },
    {
     "name": "stderr",
     "output_type": "stream",
     "text": [
      "\r",
      " 39%|███████████████████████████████▍                                                | 148/377 [03:28<05:13,  1.37s/it]"
     ]
    },
    {
     "name": "stdout",
     "output_type": "stream",
     "text": [
      "0.013799559116662393\n",
      "0.048292458908583795\n",
      "3.310151758188591\n"
     ]
    },
    {
     "name": "stderr",
     "output_type": "stream",
     "text": [
      "\r",
      " 40%|███████████████████████████████▌                                                | 149/377 [03:30<06:26,  1.69s/it]"
     ]
    },
    {
     "name": "stdout",
     "output_type": "stream",
     "text": [
      "0.0331981220252134\n",
      "0.018465338237034418\n",
      "-4.384434121496336\n"
     ]
    },
    {
     "name": "stderr",
     "output_type": "stream",
     "text": [
      "\r",
      " 40%|███████████████████████████████▊                                                | 150/377 [03:32<06:46,  1.79s/it]"
     ]
    },
    {
     "name": "stdout",
     "output_type": "stream",
     "text": [
      "0.0005727265168249777\n",
      "0.0174495548363646\n",
      "1.718789057727836\n"
     ]
    },
    {
     "name": "stderr",
     "output_type": "stream",
     "text": [
      "\r",
      " 40%|████████████████████████████████                                                | 151/377 [03:33<05:18,  1.41s/it]"
     ]
    },
    {
     "name": "stdout",
     "output_type": "stream",
     "text": [
      "-0.05453549251407911\n",
      "1.569632403257964e-17\n",
      "-0.8841425405725194\n"
     ]
    },
    {
     "name": "stderr",
     "output_type": "stream",
     "text": [
      "\r",
      " 40%|████████████████████████████████▎                                               | 152/377 [03:35<06:22,  1.70s/it]"
     ]
    },
    {
     "name": "stdout",
     "output_type": "stream",
     "text": [
      "-0.0011225742885437838\n",
      "0.026474053444742178\n",
      "-4.964258349416272\n"
     ]
    },
    {
     "name": "stderr",
     "output_type": "stream",
     "text": [
      "\r",
      " 41%|████████████████████████████████▍                                               | 153/377 [03:37<06:04,  1.63s/it]"
     ]
    },
    {
     "name": "stdout",
     "output_type": "stream",
     "text": [
      "0.012567001344797858\n",
      "0.025554896502968678\n",
      "0.13022615161831252\n"
     ]
    },
    {
     "name": "stderr",
     "output_type": "stream",
     "text": [
      "\r",
      " 41%|████████████████████████████████▋                                               | 154/377 [03:37<04:53,  1.32s/it]"
     ]
    },
    {
     "name": "stdout",
     "output_type": "stream",
     "text": [
      "-0.03388265444546807\n",
      "1.262039644388497e-17\n",
      "-2.1992633701358466\n"
     ]
    },
    {
     "name": "stderr",
     "output_type": "stream",
     "text": [
      "\r",
      " 41%|████████████████████████████████▉                                               | 155/377 [03:38<04:08,  1.12s/it]"
     ]
    },
    {
     "name": "stdout",
     "output_type": "stream",
     "text": [
      "2.3731017151362723e-18\n",
      "1.1880586018215999e-17\n",
      "0.3843069846698151\n"
     ]
    },
    {
     "name": "stderr",
     "output_type": "stream",
     "text": [
      "\r",
      " 41%|█████████████████████████████████                                               | 156/377 [03:40<04:38,  1.26s/it]"
     ]
    },
    {
     "name": "stdout",
     "output_type": "stream",
     "text": [
      "0.048716008853210827\n",
      "0.026572172660064942\n",
      "0.38372838338776166\n"
     ]
    },
    {
     "name": "stderr",
     "output_type": "stream",
     "text": [
      "\r",
      " 42%|█████████████████████████████████▌                                              | 158/377 [03:41<03:36,  1.01it/s]"
     ]
    },
    {
     "name": "stdout",
     "output_type": "stream",
     "text": [
      "-0.024043520929293058\n",
      "0.062097064860060405\n",
      "-0.4504484876910184\n"
     ]
    },
    {
     "name": "stderr",
     "output_type": "stream",
     "text": [
      "\r",
      " 42%|█████████████████████████████████▋                                              | 159/377 [03:41<03:11,  1.14it/s]"
     ]
    },
    {
     "name": "stdout",
     "output_type": "stream",
     "text": [
      "0.013937818078067682\n",
      "1.2266347333466993e-17\n",
      "0.0\n"
     ]
    },
    {
     "name": "stderr",
     "output_type": "stream",
     "text": [
      "\r",
      " 42%|█████████████████████████████████▉                                              | 160/377 [03:44<04:31,  1.25s/it]"
     ]
    },
    {
     "name": "stdout",
     "output_type": "stream",
     "text": [
      "0.016161074065412315\n",
      "0.00830502907675845\n",
      "-0.008883441123646604\n"
     ]
    },
    {
     "name": "stderr",
     "output_type": "stream",
     "text": [
      "\r",
      " 43%|██████████████████████████████████▏                                             | 161/377 [03:44<03:29,  1.03it/s]"
     ]
    },
    {
     "name": "stdout",
     "output_type": "stream",
     "text": [
      "-0.2701856370608228\n",
      "3.28877219759574e-17\n",
      "0.0\n"
     ]
    },
    {
     "name": "stderr",
     "output_type": "stream",
     "text": [
      "\r",
      " 43%|██████████████████████████████████▍                                             | 162/377 [03:46<04:44,  1.32s/it]"
     ]
    },
    {
     "name": "stdout",
     "output_type": "stream",
     "text": [
      "-0.0015181210650853493\n",
      "0.014534957389715615\n",
      "3.368831830705937\n"
     ]
    },
    {
     "name": "stderr",
     "output_type": "stream",
     "text": [
      "\r",
      " 43%|██████████████████████████████████▌                                             | 163/377 [03:47<03:55,  1.10s/it]"
     ]
    },
    {
     "name": "stdout",
     "output_type": "stream",
     "text": [
      "0.19490399809348877\n",
      "2.76860997228956e-17\n",
      "-1.002509414234171\n"
     ]
    },
    {
     "name": "stderr",
     "output_type": "stream",
     "text": [
      "\r",
      " 44%|██████████████████████████████████▊                                             | 164/377 [03:47<03:17,  1.08it/s]"
     ]
    },
    {
     "name": "stdout",
     "output_type": "stream",
     "text": [
      "0.12466470686522448\n",
      "2.7261994892873015e-17\n",
      "0.5090525422790122\n"
     ]
    },
    {
     "name": "stderr",
     "output_type": "stream",
     "text": [
      "\r",
      " 44%|███████████████████████████████████                                             | 165/377 [03:48<02:46,  1.27it/s]"
     ]
    },
    {
     "name": "stdout",
     "output_type": "stream",
     "text": [
      "-0.09652855895976221\n",
      "0.08341226889495987\n",
      "-1.1386161126689462\n"
     ]
    },
    {
     "name": "stderr",
     "output_type": "stream",
     "text": [
      " 45%|████████████████████████████████████▎                                           | 171/377 [03:50<01:24,  2.44it/s]"
     ]
    },
    {
     "name": "stdout",
     "output_type": "stream",
     "text": [
      "0.0068878826080296385\n",
      "0.029873521990521353\n",
      "1.6821149393634496\n",
      "0.0\n",
      "0.0\n",
      "nan\n",
      "-0.3428881376070667\n",
      "8.587200108923658e-17\n",
      "-1.2928812774159455\n"
     ]
    },
    {
     "name": "stderr",
     "output_type": "stream",
     "text": [
      "\r",
      " 46%|████████████████████████████████████▋                                           | 173/377 [03:53<02:17,  1.48it/s]"
     ]
    },
    {
     "name": "stdout",
     "output_type": "stream",
     "text": [
      "-0.06023245528637456\n",
      "0.01737067423355845\n",
      "-5.380407752764358\n"
     ]
    },
    {
     "name": "stderr",
     "output_type": "stream",
     "text": [
      "\r",
      " 46%|████████████████████████████████████▉                                           | 174/377 [03:53<02:09,  1.57it/s]"
     ]
    },
    {
     "name": "stdout",
     "output_type": "stream",
     "text": [
      "0.32965163285426013\n",
      "6.394634045762884e-17\n",
      "0.8680895706305475\n"
     ]
    },
    {
     "name": "stderr",
     "output_type": "stream",
     "text": [
      " 47%|█████████████████████████████████████▌                                          | 177/377 [03:54<01:38,  2.03it/s]"
     ]
    },
    {
     "name": "stdout",
     "output_type": "stream",
     "text": [
      "-0.0364279475478902\n",
      "0.0075588215201216665\n",
      "3.389272371640916\n",
      "-0.07872958216222165\n",
      "2.6188235014912605e-17\n",
      "-1.0598490352566259\n"
     ]
    },
    {
     "name": "stderr",
     "output_type": "stream",
     "text": [
      " 47%|█████████████████████████████████████▉                                          | 179/377 [03:57<02:21,  1.40it/s]"
     ]
    },
    {
     "name": "stdout",
     "output_type": "stream",
     "text": [
      "-0.030271163482208527\n",
      "0.021797978318538656\n",
      "4.701219601729968\n",
      "-0.4338609156373121\n",
      "1.6653345369377348e-16\n",
      "-1.0\n"
     ]
    },
    {
     "name": "stderr",
     "output_type": "stream",
     "text": [
      "\r",
      " 49%|███████████████████████████████████████                                         | 184/377 [03:57<01:02,  3.07it/s]"
     ]
    },
    {
     "name": "stdout",
     "output_type": "stream",
     "text": [
      "-0.49694645453989233\n",
      "8.738379165215087e-17\n",
      "0.6352568386163805\n"
     ]
    },
    {
     "name": "stderr",
     "output_type": "stream",
     "text": [
      "\r",
      " 49%|███████████████████████████████████████▎                                        | 185/377 [03:59<01:58,  1.62it/s]"
     ]
    },
    {
     "name": "stdout",
     "output_type": "stream",
     "text": [
      "0.01660336621859051\n",
      "0.01754938358038779\n",
      "0.026455479513581997\n"
     ]
    },
    {
     "name": "stderr",
     "output_type": "stream",
     "text": [
      "\r",
      " 49%|███████████████████████████████████████▍                                        | 186/377 [04:02<02:52,  1.11it/s]"
     ]
    },
    {
     "name": "stdout",
     "output_type": "stream",
     "text": [
      "-0.03334152601102454\n",
      "0.009589739153618855\n",
      "6.191615604627896\n"
     ]
    },
    {
     "name": "stderr",
     "output_type": "stream",
     "text": [
      "\r",
      " 50%|███████████████████████████████████████▋                                        | 187/377 [04:04<03:43,  1.18s/it]"
     ]
    },
    {
     "name": "stdout",
     "output_type": "stream",
     "text": [
      "-0.03982093628413061\n",
      "0.013113117250532018\n",
      "-5.032192855275319\n"
     ]
    },
    {
     "name": "stderr",
     "output_type": "stream",
     "text": [
      "\r",
      " 50%|███████████████████████████████████████▉                                        | 188/377 [04:05<03:52,  1.23s/it]"
     ]
    },
    {
     "name": "stdout",
     "output_type": "stream",
     "text": [
      "-0.03172831654904409\n",
      "0.027907701183494418\n",
      "-1.3370433030255782\n"
     ]
    },
    {
     "name": "stderr",
     "output_type": "stream",
     "text": [
      "\r",
      " 50%|████████████████████████████████████████                                        | 189/377 [04:06<03:19,  1.06s/it]"
     ]
    },
    {
     "name": "stdout",
     "output_type": "stream",
     "text": [
      "0.13057899140061982\n",
      "1.4448903279196536e-17\n",
      "1.9209468759882462\n"
     ]
    },
    {
     "name": "stderr",
     "output_type": "stream",
     "text": [
      "\r",
      " 50%|████████████████████████████████████████▎                                       | 190/377 [04:08<03:56,  1.26s/it]"
     ]
    },
    {
     "name": "stdout",
     "output_type": "stream",
     "text": [
      "-0.0016338426666994347\n",
      "0.03209142366636058\n",
      "0.8277035979892138\n"
     ]
    },
    {
     "name": "stderr",
     "output_type": "stream",
     "text": [
      "\r",
      " 51%|████████████████████████████████████████▌                                       | 191/377 [04:09<04:00,  1.30s/it]"
     ]
    },
    {
     "name": "stdout",
     "output_type": "stream",
     "text": [
      "0.06838109846936427\n",
      "0.01772964115070707\n",
      "0.8999737064353953\n"
     ]
    },
    {
     "name": "stderr",
     "output_type": "stream",
     "text": [
      "\r",
      " 51%|████████████████████████████████████████▋                                       | 192/377 [04:11<04:50,  1.57s/it]"
     ]
    },
    {
     "name": "stdout",
     "output_type": "stream",
     "text": [
      "0.03238468708821795\n",
      "0.044216535619329624\n",
      "-3.700937113484315\n"
     ]
    },
    {
     "name": "stderr",
     "output_type": "stream",
     "text": [
      " 51%|█████████████████████████████████████████▏                                      | 194/377 [04:13<03:28,  1.14s/it]"
     ]
    },
    {
     "name": "stdout",
     "output_type": "stream",
     "text": [
      "-0.00013904095221527058\n",
      "0.04776224661884909\n",
      "1.8545698778278048\n",
      "-0.006063048892897617\n",
      "0.20848478740413498\n",
      "3.1337496876243045\n"
     ]
    },
    {
     "name": "stderr",
     "output_type": "stream",
     "text": [
      "\r",
      " 52%|█████████████████████████████████████████▍                                      | 195/377 [04:13<02:55,  1.04it/s]"
     ]
    },
    {
     "name": "stdout",
     "output_type": "stream",
     "text": [
      "0.12264413807043098\n",
      "1.7928683937150257e-17\n",
      "-0.7740550202381623\n"
     ]
    },
    {
     "name": "stderr",
     "output_type": "stream",
     "text": [
      "\r",
      " 52%|█████████████████████████████████████████▌                                      | 196/377 [04:16<04:05,  1.35s/it]"
     ]
    },
    {
     "name": "stdout",
     "output_type": "stream",
     "text": [
      "-0.025760733299779133\n",
      "0.029625612756344132\n",
      "-0.36966833511609587\n"
     ]
    },
    {
     "name": "stderr",
     "output_type": "stream",
     "text": [
      "\r",
      " 53%|██████████████████████████████████████████                                      | 198/377 [04:16<02:32,  1.17it/s]"
     ]
    },
    {
     "name": "stdout",
     "output_type": "stream",
     "text": [
      "-0.22009312143325935\n",
      "5.552502728477572e-17\n",
      "-0.49987504685547723\n"
     ]
    },
    {
     "name": "stderr",
     "output_type": "stream",
     "text": [
      "\r",
      " 53%|██████████████████████████████████████████▏                                     | 199/377 [04:17<02:17,  1.29it/s]"
     ]
    },
    {
     "name": "stdout",
     "output_type": "stream",
     "text": [
      "-0.1468419689960178\n",
      "2.3038799722926586e-17\n",
      "1.2047318414773374\n"
     ]
    },
    {
     "name": "stderr",
     "output_type": "stream",
     "text": [
      "\r",
      " 53%|██████████████████████████████████████████▍                                     | 200/377 [04:17<02:03,  1.43it/s]"
     ]
    },
    {
     "name": "stdout",
     "output_type": "stream",
     "text": [
      "0.09734732766741969\n",
      "2.783525851554077e-17\n",
      "-0.9971373393256842\n"
     ]
    },
    {
     "name": "stderr",
     "output_type": "stream",
     "text": [
      "\r",
      " 53%|██████████████████████████████████████████▋                                     | 201/377 [04:20<03:23,  1.15s/it]"
     ]
    },
    {
     "name": "stdout",
     "output_type": "stream",
     "text": [
      "-0.03534295943435249\n",
      "0.008166043184152452\n",
      "0.23003551650555135\n"
     ]
    },
    {
     "name": "stderr",
     "output_type": "stream",
     "text": [
      "\r",
      " 54%|██████████████████████████████████████████▊                                     | 202/377 [04:21<03:33,  1.22s/it]"
     ]
    },
    {
     "name": "stdout",
     "output_type": "stream",
     "text": [
      "-0.009983422394652957\n",
      "0.03404082868689788\n",
      "1.7619288456380895\n"
     ]
    },
    {
     "name": "stderr",
     "output_type": "stream",
     "text": [
      "\r",
      " 54%|███████████████████████████████████████████                                     | 203/377 [04:22<03:35,  1.24s/it]"
     ]
    },
    {
     "name": "stdout",
     "output_type": "stream",
     "text": [
      "-0.02347786604957697\n",
      "0.04777685831306602\n",
      "0.2981435390344791\n"
     ]
    },
    {
     "name": "stderr",
     "output_type": "stream",
     "text": [
      "\r",
      " 54%|███████████████████████████████████████████▎                                    | 204/377 [04:25<04:29,  1.56s/it]"
     ]
    },
    {
     "name": "stdout",
     "output_type": "stream",
     "text": [
      "-0.006360764959650839\n",
      "0.027995208842881356\n",
      "-0.9558756603929293\n"
     ]
    },
    {
     "name": "stderr",
     "output_type": "stream",
     "text": [
      "\r",
      " 54%|███████████████████████████████████████████▌                                    | 205/377 [04:25<03:25,  1.19s/it]"
     ]
    },
    {
     "name": "stdout",
     "output_type": "stream",
     "text": [
      "-0.034716385273287464\n",
      "1.758978810463075e-17\n",
      "-1.5779368944371697\n"
     ]
    },
    {
     "name": "stderr",
     "output_type": "stream",
     "text": [
      "\r",
      " 55%|███████████████████████████████████████████▋                                    | 206/377 [04:26<03:22,  1.18s/it]"
     ]
    },
    {
     "name": "stdout",
     "output_type": "stream",
     "text": [
      "0.012026936955324577\n",
      "0.046066325160914676\n",
      "1.4962525250853118\n"
     ]
    },
    {
     "name": "stderr",
     "output_type": "stream",
     "text": [
      "\r",
      " 55%|███████████████████████████████████████████▉                                    | 207/377 [04:27<02:47,  1.01it/s]"
     ]
    },
    {
     "name": "stdout",
     "output_type": "stream",
     "text": [
      "0.2038267624188355\n",
      "0.0066268273119170894\n",
      "-0.5996057388663117\n"
     ]
    },
    {
     "name": "stderr",
     "output_type": "stream",
     "text": [
      "\r",
      " 55%|████████████████████████████████████████████▏                                   | 208/377 [04:28<03:18,  1.17s/it]"
     ]
    },
    {
     "name": "stdout",
     "output_type": "stream",
     "text": [
      "0.015310957101329561\n",
      "0.054653821859511516\n",
      "-1.026393384017941\n"
     ]
    },
    {
     "name": "stderr",
     "output_type": "stream",
     "text": [
      "\r",
      " 55%|████████████████████████████████████████████▎                                   | 209/377 [04:30<03:30,  1.25s/it]"
     ]
    },
    {
     "name": "stdout",
     "output_type": "stream",
     "text": [
      "-0.07804270745323674\n",
      "0.04390943234982078\n",
      "-0.8545752916909496\n"
     ]
    },
    {
     "name": "stderr",
     "output_type": "stream",
     "text": [
      "\r",
      " 56%|████████████████████████████████████████████▌                                   | 210/377 [04:30<02:52,  1.03s/it]"
     ]
    },
    {
     "name": "stdout",
     "output_type": "stream",
     "text": [
      "-0.18018929574191545\n",
      "0.07952745834400263\n",
      "-1.572601699278471\n"
     ]
    },
    {
     "name": "stderr",
     "output_type": "stream",
     "text": [
      "\r",
      " 56%|████████████████████████████████████████████▊                                   | 211/377 [04:32<03:47,  1.37s/it]"
     ]
    },
    {
     "name": "stdout",
     "output_type": "stream",
     "text": [
      "-0.025756561864682014\n",
      "0.02389970692881761\n",
      "0.6679805019669939\n"
     ]
    },
    {
     "name": "stderr",
     "output_type": "stream",
     "text": [
      "\r",
      " 56%|████████████████████████████████████████████▉                                   | 212/377 [04:33<02:50,  1.03s/it]"
     ]
    },
    {
     "name": "stdout",
     "output_type": "stream",
     "text": [
      "nan\n",
      "nan\n",
      "nan\n"
     ]
    },
    {
     "name": "stderr",
     "output_type": "stream",
     "text": [
      "\r",
      " 56%|█████████████████████████████████████████████▏                                  | 213/377 [04:35<04:05,  1.50s/it]"
     ]
    },
    {
     "name": "stdout",
     "output_type": "stream",
     "text": [
      "0.040143296152518944\n",
      "0.017220396336507255\n",
      "0.9211828758581698\n"
     ]
    },
    {
     "name": "stderr",
     "output_type": "stream",
     "text": [
      "\r",
      " 57%|█████████████████████████████████████████████▍                                  | 214/377 [04:37<04:25,  1.63s/it]"
     ]
    },
    {
     "name": "stdout",
     "output_type": "stream",
     "text": [
      "-0.03212283166816145\n",
      "0.030273771516172426\n",
      "3.4010548265577185\n"
     ]
    },
    {
     "name": "stderr",
     "output_type": "stream",
     "text": [
      "\r",
      " 57%|█████████████████████████████████████████████▌                                  | 215/377 [04:38<03:31,  1.31s/it]"
     ]
    },
    {
     "name": "stdout",
     "output_type": "stream",
     "text": [
      "0.19822851226315355\n",
      "5.98324208153656e-17\n",
      "0.9277771227501793\n"
     ]
    },
    {
     "name": "stderr",
     "output_type": "stream",
     "text": [
      "\r",
      " 57%|█████████████████████████████████████████████▊                                  | 216/377 [04:40<04:28,  1.67s/it]"
     ]
    },
    {
     "name": "stdout",
     "output_type": "stream",
     "text": [
      "0.0002832002901352713\n",
      "0.014210053315265309\n",
      "-4.008431801962498\n"
     ]
    },
    {
     "name": "stderr",
     "output_type": "stream",
     "text": [
      "\r",
      " 58%|██████████████████████████████████████████████▎                                 | 218/377 [04:41<02:56,  1.11s/it]"
     ]
    },
    {
     "name": "stdout",
     "output_type": "stream",
     "text": [
      "-0.009293330272368859\n",
      "0.02635179958672332\n",
      "0.8283860493598376\n"
     ]
    },
    {
     "name": "stderr",
     "output_type": "stream",
     "text": [
      "\r",
      " 58%|██████████████████████████████████████████████▍                                 | 219/377 [04:42<02:30,  1.05it/s]"
     ]
    },
    {
     "name": "stdout",
     "output_type": "stream",
     "text": [
      "0.03923846827603146\n",
      "1.1496388234292285e-17\n",
      "-0.6035716402834569\n"
     ]
    },
    {
     "name": "stderr",
     "output_type": "stream",
     "text": [
      "\r",
      " 58%|██████████████████████████████████████████████▋                                 | 220/377 [04:43<02:58,  1.14s/it]"
     ]
    },
    {
     "name": "stdout",
     "output_type": "stream",
     "text": [
      "-0.02097710805601867\n",
      "0.023695608597176055\n",
      "0.39537696829351066\n"
     ]
    },
    {
     "name": "stderr",
     "output_type": "stream",
     "text": [
      "\r",
      " 59%|██████████████████████████████████████████████▉                                 | 221/377 [04:44<02:53,  1.11s/it]"
     ]
    },
    {
     "name": "stdout",
     "output_type": "stream",
     "text": [
      "-0.03490771363770173\n",
      "0.029179053176028626\n",
      "2.1380190253596556\n"
     ]
    },
    {
     "name": "stderr",
     "output_type": "stream",
     "text": [
      "\r",
      " 59%|███████████████████████████████████████████████                                 | 222/377 [04:47<03:59,  1.54s/it]"
     ]
    },
    {
     "name": "stdout",
     "output_type": "stream",
     "text": [
      "0.011221111521851058\n",
      "0.028889610394952345\n",
      "-0.32120455246859525\n"
     ]
    },
    {
     "name": "stderr",
     "output_type": "stream",
     "text": [
      "\r",
      " 59%|███████████████████████████████████████████████▎                                | 223/377 [04:48<03:38,  1.42s/it]"
     ]
    },
    {
     "name": "stdout",
     "output_type": "stream",
     "text": [
      "-0.0553057641288435\n",
      "0.03089558236233235\n",
      "-1.6125250671145344\n"
     ]
    },
    {
     "name": "stderr",
     "output_type": "stream",
     "text": [
      "\r",
      " 60%|███████████████████████████████████████████████▋                                | 225/377 [04:49<02:19,  1.09it/s]"
     ]
    },
    {
     "name": "stdout",
     "output_type": "stream",
     "text": [
      "2.726985304235541e-18\n",
      "1.587274975994741e-17\n",
      "1.3582488028533746\n"
     ]
    },
    {
     "name": "stderr",
     "output_type": "stream",
     "text": [
      "\r",
      " 60%|████████████████████████████████████████████████▏                               | 227/377 [04:49<01:43,  1.45it/s]"
     ]
    },
    {
     "name": "stdout",
     "output_type": "stream",
     "text": [
      "0.005605549006812158\n",
      "1.2780568587052082e-17\n",
      "-0.6786566122473788\n"
     ]
    },
    {
     "name": "stderr",
     "output_type": "stream",
     "text": [
      "\r",
      " 60%|████████████████████████████████████████████████▍                               | 228/377 [04:50<01:37,  1.53it/s]"
     ]
    },
    {
     "name": "stdout",
     "output_type": "stream",
     "text": [
      "-0.5345224838248487\n",
      "0.0\n",
      "nan\n"
     ]
    },
    {
     "name": "stderr",
     "output_type": "stream",
     "text": [
      "\r",
      " 61%|████████████████████████████████████████████████▌                               | 229/377 [04:52<02:36,  1.05s/it]"
     ]
    },
    {
     "name": "stdout",
     "output_type": "stream",
     "text": [
      "0.0011175633682317075\n",
      "0.03296952940061328\n",
      "-3.1997973426384307\n"
     ]
    },
    {
     "name": "stderr",
     "output_type": "stream",
     "text": [
      "\r",
      " 61%|████████████████████████████████████████████████▊                               | 230/377 [04:55<03:26,  1.40s/it]"
     ]
    },
    {
     "name": "stdout",
     "output_type": "stream",
     "text": [
      "0.0\n",
      "0.0\n",
      "nan\n"
     ]
    },
    {
     "name": "stderr",
     "output_type": "stream",
     "text": [
      "\r",
      " 61%|█████████████████████████████████████████████████                               | 231/377 [04:56<03:29,  1.44s/it]"
     ]
    },
    {
     "name": "stdout",
     "output_type": "stream",
     "text": [
      "0.02208515021860485\n",
      "0.030057130078176876\n",
      "-0.25393336413422574\n"
     ]
    },
    {
     "name": "stderr",
     "output_type": "stream",
     "text": [
      "\r",
      " 62%|█████████████████████████████████████████████████▏                              | 232/377 [04:59<04:03,  1.68s/it]"
     ]
    },
    {
     "name": "stdout",
     "output_type": "stream",
     "text": [
      "0.0014402378723928062\n",
      "0.020130483113656623\n",
      "-1.6061875395193554\n"
     ]
    },
    {
     "name": "stderr",
     "output_type": "stream",
     "text": [
      "\r",
      " 62%|█████████████████████████████████████████████████▍                              | 233/377 [04:59<03:05,  1.29s/it]"
     ]
    },
    {
     "name": "stdout",
     "output_type": "stream",
     "text": [
      "-0.3676213182775422\n",
      "5.614590041109882e-17\n",
      "0.0\n"
     ]
    },
    {
     "name": "stderr",
     "output_type": "stream",
     "text": [
      "\r",
      " 62%|█████████████████████████████████████████████████▋                              | 234/377 [05:01<03:51,  1.62s/it]"
     ]
    },
    {
     "name": "stdout",
     "output_type": "stream",
     "text": [
      "-0.003914704263332725\n",
      "0.021412780263780844\n",
      "-2.2675521855118963\n"
     ]
    },
    {
     "name": "stderr",
     "output_type": "stream",
     "text": [
      "\r",
      " 62%|█████████████████████████████████████████████████▊                              | 235/377 [05:04<04:15,  1.80s/it]"
     ]
    },
    {
     "name": "stdout",
     "output_type": "stream",
     "text": [
      "0.01760172371911214\n",
      "0.018205411078559622\n",
      "-5.676418501306201\n"
     ]
    },
    {
     "name": "stderr",
     "output_type": "stream",
     "text": [
      "\r",
      " 63%|██████████████████████████████████████████████████                              | 236/377 [05:06<04:28,  1.91s/it]"
     ]
    },
    {
     "name": "stdout",
     "output_type": "stream",
     "text": [
      "-0.012147788717115707\n",
      "0.024347096468872\n",
      "-0.2352672029714608\n"
     ]
    },
    {
     "name": "stderr",
     "output_type": "stream",
     "text": [
      "\r",
      " 63%|██████████████████████████████████████████████████▎                             | 237/377 [05:08<04:44,  2.03s/it]"
     ]
    },
    {
     "name": "stdout",
     "output_type": "stream",
     "text": [
      "0.030724733917310884\n",
      "0.00630677321569578\n",
      "5.764149184619949\n"
     ]
    },
    {
     "name": "stderr",
     "output_type": "stream",
     "text": [
      "\r",
      " 63%|██████████████████████████████████████████████████▌                             | 238/377 [05:09<03:40,  1.59s/it]"
     ]
    },
    {
     "name": "stdout",
     "output_type": "stream",
     "text": [
      "0.09882188035173073\n",
      "1.957210938909297e-17\n",
      "0.709059383019195\n"
     ]
    },
    {
     "name": "stderr",
     "output_type": "stream",
     "text": [
      "\r",
      " 63%|██████████████████████████████████████████████████▋                             | 239/377 [05:09<02:53,  1.26s/it]"
     ]
    },
    {
     "name": "stdout",
     "output_type": "stream",
     "text": [
      "0.43886794667109535\n",
      "1.6653345369377348e-16\n",
      "-1.0\n"
     ]
    },
    {
     "name": "stderr",
     "output_type": "stream",
     "text": [
      "\r",
      " 64%|██████████████████████████████████████████████████▉                             | 240/377 [05:10<02:24,  1.06s/it]"
     ]
    },
    {
     "name": "stdout",
     "output_type": "stream",
     "text": [
      "-0.14594895614279374\n",
      "0.1051704764182041\n",
      "-3.7814308820868106\n"
     ]
    },
    {
     "name": "stderr",
     "output_type": "stream",
     "text": [
      "\r",
      " 64%|███████████████████████████████████████████████████▏                            | 241/377 [05:11<02:36,  1.15s/it]"
     ]
    },
    {
     "name": "stdout",
     "output_type": "stream",
     "text": [
      "-0.02911181311350118\n",
      "0.022056243827660957\n",
      "-3.7114697092714226\n"
     ]
    },
    {
     "name": "stderr",
     "output_type": "stream",
     "text": [
      "\r",
      " 64%|███████████████████████████████████████████████████▎                            | 242/377 [05:12<02:22,  1.06s/it]"
     ]
    },
    {
     "name": "stdout",
     "output_type": "stream",
     "text": [
      "-0.023967497076198763\n",
      "0.05956838569441143\n",
      "0.3366241684934357\n"
     ]
    },
    {
     "name": "stderr",
     "output_type": "stream",
     "text": [
      "\r",
      " 64%|███████████████████████████████████████████████████▌                            | 243/377 [05:12<01:54,  1.17it/s]"
     ]
    },
    {
     "name": "stdout",
     "output_type": "stream",
     "text": [
      "-0.0009014244658957955\n",
      "1.189013435500943e-17\n",
      "-0.2917920730216057\n"
     ]
    },
    {
     "name": "stderr",
     "output_type": "stream",
     "text": [
      "\r",
      " 65%|███████████████████████████████████████████████████▊                            | 244/377 [05:15<02:52,  1.29s/it]"
     ]
    },
    {
     "name": "stdout",
     "output_type": "stream",
     "text": [
      "0.0005197538215744345\n",
      "0.015498151600220795\n",
      "0.13599496821539095\n"
     ]
    },
    {
     "name": "stderr",
     "output_type": "stream",
     "text": [
      " 65%|████████████████████████████████████████████████████▏                           | 246/377 [05:17<02:31,  1.15s/it]"
     ]
    },
    {
     "name": "stdout",
     "output_type": "stream",
     "text": [
      "0.0016199630437103605\n",
      "0.027322084584914526\n",
      "-0.26010018949893576\n",
      "0.0\n",
      "0.0\n",
      "nan\n"
     ]
    },
    {
     "name": "stderr",
     "output_type": "stream",
     "text": [
      "\r",
      " 66%|████████████████████████████████████████████████████▍                           | 247/377 [05:17<02:03,  1.05it/s]"
     ]
    },
    {
     "name": "stdout",
     "output_type": "stream",
     "text": [
      "0.05465271426359684\n",
      "2.1941612015715694e-17\n",
      "-0.3162435785910917\n"
     ]
    },
    {
     "name": "stderr",
     "output_type": "stream",
     "text": [
      "\r",
      " 66%|████████████████████████████████████████████████████▋                           | 248/377 [05:19<02:23,  1.11s/it]"
     ]
    },
    {
     "name": "stdout",
     "output_type": "stream",
     "text": [
      "-0.004240809014993135\n",
      "0.02900375848994553\n",
      "2.8376604047949012\n"
     ]
    },
    {
     "name": "stderr",
     "output_type": "stream",
     "text": [
      "\r",
      " 66%|████████████████████████████████████████████████████▊                           | 249/377 [05:20<02:31,  1.19s/it]"
     ]
    },
    {
     "name": "stdout",
     "output_type": "stream",
     "text": [
      "-0.0009122889557306428\n",
      "0.03148605556320451\n",
      "0.5872271090576194\n"
     ]
    },
    {
     "name": "stderr",
     "output_type": "stream",
     "text": [
      "\r",
      " 66%|█████████████████████████████████████████████████████                           | 250/377 [05:21<02:02,  1.03it/s]"
     ]
    },
    {
     "name": "stdout",
     "output_type": "stream",
     "text": [
      "-0.3428881376070667\n",
      "8.544029998311909e-17\n",
      "-1.2994137717734013\n"
     ]
    },
    {
     "name": "stderr",
     "output_type": "stream",
     "text": [
      "\r",
      " 67%|█████████████████████████████████████████████████████▎                          | 251/377 [05:21<01:45,  1.20it/s]"
     ]
    },
    {
     "name": "stdout",
     "output_type": "stream",
     "text": [
      "9.82894321488459e-18\n",
      "1.0077600383715777e-17\n",
      "-2.3524182464117502\n"
     ]
    },
    {
     "name": "stderr",
     "output_type": "stream",
     "text": [
      "\r",
      " 67%|█████████████████████████████████████████████████████▍                          | 252/377 [05:22<01:33,  1.33it/s]"
     ]
    },
    {
     "name": "stdout",
     "output_type": "stream",
     "text": [
      "7.632783294297952e-18\n",
      "1.3706730685140599e-17\n",
      "-1.56934367474163\n"
     ]
    },
    {
     "name": "stderr",
     "output_type": "stream",
     "text": [
      "\r",
      " 68%|██████████████████████████████████████████████████████                          | 255/377 [05:23<01:13,  1.66it/s]"
     ]
    },
    {
     "name": "stdout",
     "output_type": "stream",
     "text": [
      "0.045342088697886994\n",
      "0.025465024184502937\n",
      "1.4244375288673794\n"
     ]
    },
    {
     "name": "stderr",
     "output_type": "stream",
     "text": [
      "\r",
      " 68%|██████████████████████████████████████████████████████▎                         | 256/377 [05:26<01:55,  1.04it/s]"
     ]
    },
    {
     "name": "stdout",
     "output_type": "stream",
     "text": [
      "0.002599912350475248\n",
      "0.021773791017770255\n",
      "3.629848747588119\n"
     ]
    },
    {
     "name": "stderr",
     "output_type": "stream",
     "text": [
      "\r",
      " 68%|██████████████████████████████████████████████████████▌                         | 257/377 [05:27<02:09,  1.08s/it]"
     ]
    },
    {
     "name": "stdout",
     "output_type": "stream",
     "text": [
      "-0.062323712264838634\n",
      "0.0294975256159928\n",
      "5.722198495565404\n"
     ]
    },
    {
     "name": "stderr",
     "output_type": "stream",
     "text": [
      "\r",
      " 68%|██████████████████████████████████████████████████████▋                         | 258/377 [05:29<02:27,  1.24s/it]"
     ]
    },
    {
     "name": "stdout",
     "output_type": "stream",
     "text": [
      "-0.0028350592544893302\n",
      "0.030556553052420752\n",
      "-2.0144979993587726\n"
     ]
    },
    {
     "name": "stderr",
     "output_type": "stream",
     "text": [
      "\r",
      " 69%|██████████████████████████████████████████████████████▉                         | 259/377 [05:29<02:01,  1.03s/it]"
     ]
    },
    {
     "name": "stdout",
     "output_type": "stream",
     "text": [
      "0.6471055555071807\n",
      "2.220446049250313e-16\n",
      "-1.0\n"
     ]
    },
    {
     "name": "stderr",
     "output_type": "stream",
     "text": [
      "\r",
      " 69%|███████████████████████████████████████████████████████▏                        | 260/377 [05:31<02:19,  1.19s/it]"
     ]
    },
    {
     "name": "stdout",
     "output_type": "stream",
     "text": [
      "-0.022279765288034624\n",
      "0.03417169922053161\n",
      "-0.9177988400688942\n"
     ]
    },
    {
     "name": "stderr",
     "output_type": "stream",
     "text": [
      "\r",
      " 69%|███████████████████████████████████████████████████████▍                        | 261/377 [05:33<02:56,  1.52s/it]"
     ]
    },
    {
     "name": "stdout",
     "output_type": "stream",
     "text": [
      "-0.01352100599744765\n",
      "0.02280529247852742\n",
      "0.7246705820491044\n"
     ]
    },
    {
     "name": "stderr",
     "output_type": "stream",
     "text": [
      "\r",
      " 70%|███████████████████████████████████████████████████████▊                        | 263/377 [05:34<01:48,  1.05it/s]"
     ]
    },
    {
     "name": "stdout",
     "output_type": "stream",
     "text": [
      "0.21286554314284434\n",
      "4.644396126208125e-18\n",
      "0.0\n"
     ]
    },
    {
     "name": "stderr",
     "output_type": "stream",
     "text": [
      "\r",
      " 70%|████████████████████████████████████████████████████████                        | 264/377 [05:36<02:24,  1.28s/it]"
     ]
    },
    {
     "name": "stdout",
     "output_type": "stream",
     "text": [
      "-0.026143567565408605\n",
      "0.02749111740367574\n",
      "5.772821924719396\n"
     ]
    },
    {
     "name": "stderr",
     "output_type": "stream",
     "text": [
      "\r",
      " 70%|████████████████████████████████████████████████████████▏                       | 265/377 [05:38<02:53,  1.55s/it]"
     ]
    },
    {
     "name": "stdout",
     "output_type": "stream",
     "text": [
      "0.013644647642895946\n",
      "0.035553158391577244\n",
      "-3.6358171505048165\n"
     ]
    },
    {
     "name": "stderr",
     "output_type": "stream",
     "text": [
      "\r",
      " 71%|████████████████████████████████████████████████████████▍                       | 266/377 [05:40<03:02,  1.65s/it]"
     ]
    },
    {
     "name": "stdout",
     "output_type": "stream",
     "text": [
      "0.03846318994587737\n",
      "0.017600847699869738\n",
      "0.04219750613432774\n"
     ]
    },
    {
     "name": "stderr",
     "output_type": "stream",
     "text": [
      "\r",
      " 71%|████████████████████████████████████████████████████████▋                       | 267/377 [05:41<02:42,  1.48s/it]"
     ]
    },
    {
     "name": "stdout",
     "output_type": "stream",
     "text": [
      "0.059778821910751345\n",
      "0.041049498217061504\n",
      "-0.29844880367217463\n"
     ]
    },
    {
     "name": "stderr",
     "output_type": "stream",
     "text": [
      "\r",
      " 71%|████████████████████████████████████████████████████████▊                       | 268/377 [05:42<02:12,  1.21s/it]"
     ]
    },
    {
     "name": "stdout",
     "output_type": "stream",
     "text": [
      "-0.6658021869370323\n",
      "1.495301851880016e-16\n",
      "0.0\n"
     ]
    },
    {
     "name": "stderr",
     "output_type": "stream",
     "text": [
      "\r",
      " 71%|█████████████████████████████████████████████████████████                       | 269/377 [05:42<01:43,  1.05it/s]"
     ]
    },
    {
     "name": "stdout",
     "output_type": "stream",
     "text": [
      "-0.3630667555585054\n",
      "1.1102230246251565e-16\n",
      "1.0\n"
     ]
    },
    {
     "name": "stderr",
     "output_type": "stream",
     "text": [
      "\r",
      " 72%|█████████████████████████████████████████████████████████▎                      | 270/377 [05:44<02:21,  1.32s/it]"
     ]
    },
    {
     "name": "stdout",
     "output_type": "stream",
     "text": [
      "-0.003814570820433266\n",
      "0.026967490037611428\n",
      "2.2774300419305984\n"
     ]
    },
    {
     "name": "stderr",
     "output_type": "stream",
     "text": [
      "\r",
      " 72%|█████████████████████████████████████████████████████████▌                      | 271/377 [05:45<02:08,  1.21s/it]"
     ]
    },
    {
     "name": "stdout",
     "output_type": "stream",
     "text": [
      "0.0370097469793631\n",
      "0.021418131877796745\n",
      "-4.576422932722636\n"
     ]
    },
    {
     "name": "stderr",
     "output_type": "stream",
     "text": [
      "\r",
      " 72%|█████████████████████████████████████████████████████████▋                      | 272/377 [05:46<01:46,  1.01s/it]"
     ]
    },
    {
     "name": "stdout",
     "output_type": "stream",
     "text": [
      "0.03610959835123651\n",
      "1.6838795564481766e-17\n",
      "1.648311217351793\n"
     ]
    },
    {
     "name": "stderr",
     "output_type": "stream",
     "text": [
      "\r",
      " 72%|█████████████████████████████████████████████████████████▉                      | 273/377 [05:48<02:25,  1.40s/it]"
     ]
    },
    {
     "name": "stdout",
     "output_type": "stream",
     "text": [
      "0.002113268531937849\n",
      "0.018831664534066903\n",
      "-1.2183724077736435\n"
     ]
    },
    {
     "name": "stderr",
     "output_type": "stream",
     "text": [
      "\r",
      " 73%|██████████████████████████████████████████████████████████▏                     | 274/377 [05:49<02:16,  1.32s/it]"
     ]
    },
    {
     "name": "stdout",
     "output_type": "stream",
     "text": [
      "0.009996521818224807\n",
      "0.028218258176025628\n",
      "-0.7648865747579824\n"
     ]
    },
    {
     "name": "stderr",
     "output_type": "stream",
     "text": [
      "\r",
      " 73%|██████████████████████████████████████████████████████████▎                     | 275/377 [05:50<02:10,  1.28s/it]"
     ]
    },
    {
     "name": "stdout",
     "output_type": "stream",
     "text": [
      "0.004026971710159286\n",
      "0.04203210886081591\n",
      "-0.8750725610972375\n"
     ]
    },
    {
     "name": "stderr",
     "output_type": "stream",
     "text": [
      " 73%|██████████████████████████████████████████████████████████▊                     | 277/377 [05:53<01:53,  1.14s/it]"
     ]
    },
    {
     "name": "stdout",
     "output_type": "stream",
     "text": [
      "0.003943529082635259\n",
      "0.0159180222858722\n",
      "-0.3049870736294094\n",
      "0.0\n",
      "0.0\n",
      "nan\n"
     ]
    },
    {
     "name": "stderr",
     "output_type": "stream",
     "text": [
      "\r",
      " 74%|██████████████████████████████████████████████████████████▉                     | 278/377 [05:54<02:00,  1.22s/it]"
     ]
    },
    {
     "name": "stdout",
     "output_type": "stream",
     "text": [
      "0.004529182282828411\n",
      "0.03784964135830715\n",
      "0.7904543762066711\n"
     ]
    },
    {
     "name": "stderr",
     "output_type": "stream",
     "text": [
      " 74%|███████████████████████████████████████████████████████████▍                    | 280/377 [05:57<01:47,  1.11s/it]"
     ]
    },
    {
     "name": "stdout",
     "output_type": "stream",
     "text": [
      "0.00408827989656345\n",
      "0.02211191284476077\n",
      "0.3684256973086335\n",
      "0.0\n",
      "0.0\n",
      "nan\n"
     ]
    },
    {
     "name": "stderr",
     "output_type": "stream",
     "text": [
      " 75%|████████████████████████████████████████████████████████████                    | 283/377 [05:58<01:04,  1.45it/s]"
     ]
    },
    {
     "name": "stdout",
     "output_type": "stream",
     "text": [
      "-0.026686900428138507\n",
      "0.031167284520679465\n",
      "2.5417419822970686\n",
      "0.0\n",
      "0.0\n",
      "nan\n"
     ]
    },
    {
     "name": "stderr",
     "output_type": "stream",
     "text": [
      "\r",
      " 75%|████████████████████████████████████████████████████████████▎                   | 284/377 [06:00<01:41,  1.09s/it]"
     ]
    },
    {
     "name": "stdout",
     "output_type": "stream",
     "text": [
      "0.001480231731725232\n",
      "0.023336652898974977\n",
      "-2.2364106661754373\n"
     ]
    },
    {
     "name": "stderr",
     "output_type": "stream",
     "text": [
      "\r",
      " 76%|████████████████████████████████████████████████████████████▍                   | 285/377 [06:01<01:21,  1.13it/s]"
     ]
    },
    {
     "name": "stdout",
     "output_type": "stream",
     "text": [
      "0.13484598109938697\n",
      "0.0025119216337149354\n",
      "-1.5114343525753908\n"
     ]
    },
    {
     "name": "stderr",
     "output_type": "stream",
     "text": [
      "\r",
      " 76%|████████████████████████████████████████████████████████████▋                   | 286/377 [06:02<01:29,  1.02it/s]"
     ]
    },
    {
     "name": "stdout",
     "output_type": "stream",
     "text": [
      "-0.10627605264361625\n",
      "0.04893497249352727\n",
      "3.204750869275167\n"
     ]
    },
    {
     "name": "stderr",
     "output_type": "stream",
     "text": [
      "\r",
      " 76%|████████████████████████████████████████████████████████████▉                   | 287/377 [06:04<01:59,  1.33s/it]"
     ]
    },
    {
     "name": "stdout",
     "output_type": "stream",
     "text": [
      "0.022215278336143188\n",
      "0.011270860256380666\n",
      "-2.391665520232655\n"
     ]
    },
    {
     "name": "stderr",
     "output_type": "stream",
     "text": [
      "\r",
      " 76%|█████████████████████████████████████████████████████████████                   | 288/377 [06:06<01:59,  1.34s/it]"
     ]
    },
    {
     "name": "stdout",
     "output_type": "stream",
     "text": [
      "-0.0032785584127285857\n",
      "0.03486127254260568\n",
      "-4.086269649818623\n"
     ]
    },
    {
     "name": "stderr",
     "output_type": "stream",
     "text": [
      "\r",
      " 77%|█████████████████████████████████████████████████████████████▎                  | 289/377 [06:08<02:21,  1.61s/it]"
     ]
    },
    {
     "name": "stdout",
     "output_type": "stream",
     "text": [
      "-0.008127142608742654\n",
      "0.02686319924156673\n",
      "-0.730999599991021\n"
     ]
    },
    {
     "name": "stderr",
     "output_type": "stream",
     "text": [
      "\r",
      " 77%|█████████████████████████████████████████████████████████████▌                  | 290/377 [06:10<02:37,  1.81s/it]"
     ]
    },
    {
     "name": "stdout",
     "output_type": "stream",
     "text": [
      "0.012839034701179149\n",
      "0.02535614655867104\n",
      "2.5399922679689526\n"
     ]
    },
    {
     "name": "stderr",
     "output_type": "stream",
     "text": [
      "\r",
      " 77%|█████████████████████████████████████████████████████████████▊                  | 291/377 [06:13<02:48,  1.96s/it]"
     ]
    },
    {
     "name": "stdout",
     "output_type": "stream",
     "text": [
      "-0.002060041463367544\n",
      "0.029791105547517932\n",
      "3.2748397070817767\n"
     ]
    },
    {
     "name": "stderr",
     "output_type": "stream",
     "text": [
      "\r",
      " 77%|█████████████████████████████████████████████████████████████▉                  | 292/377 [06:15<02:54,  2.06s/it]"
     ]
    },
    {
     "name": "stdout",
     "output_type": "stream",
     "text": [
      "0.01504839572777026\n",
      "0.0277875082719426\n",
      "-0.44284746955305326\n"
     ]
    },
    {
     "name": "stderr",
     "output_type": "stream",
     "text": [
      "\r",
      " 78%|██████████████████████████████████████████████████████████████▏                 | 293/377 [06:16<02:36,  1.86s/it]"
     ]
    },
    {
     "name": "stdout",
     "output_type": "stream",
     "text": [
      "-0.009452932560961393\n",
      "0.04813475582842421\n",
      "0.5767121468675436\n"
     ]
    },
    {
     "name": "stderr",
     "output_type": "stream",
     "text": [
      "\r",
      " 78%|██████████████████████████████████████████████████████████████▍                 | 294/377 [06:18<02:44,  1.99s/it]"
     ]
    },
    {
     "name": "stdout",
     "output_type": "stream",
     "text": [
      "0.011532301870768705\n",
      "0.025569052249574634\n",
      "1.3853679954997928\n"
     ]
    },
    {
     "name": "stderr",
     "output_type": "stream",
     "text": [
      "\r",
      " 78%|██████████████████████████████████████████████████████████████▌                 | 295/377 [06:21<02:51,  2.09s/it]"
     ]
    },
    {
     "name": "stdout",
     "output_type": "stream",
     "text": [
      "-0.013026667317033981\n",
      "0.025213728575493498\n",
      "0.032381336522426196\n"
     ]
    },
    {
     "name": "stderr",
     "output_type": "stream",
     "text": [
      "\r",
      " 79%|██████████████████████████████████████████████████████████████▊                 | 296/377 [06:21<02:12,  1.63s/it]"
     ]
    },
    {
     "name": "stdout",
     "output_type": "stream",
     "text": [
      "0.04290379549261023\n",
      "0.04623216082601949\n",
      "4.107571968025664\n"
     ]
    },
    {
     "name": "stderr",
     "output_type": "stream",
     "text": [
      "\r",
      " 79%|███████████████████████████████████████████████████████████████                 | 297/377 [06:24<02:25,  1.82s/it]"
     ]
    },
    {
     "name": "stdout",
     "output_type": "stream",
     "text": [
      "0.0030369202173470703\n",
      "0.025987375607879875\n",
      "-1.9958223005603113\n"
     ]
    },
    {
     "name": "stderr",
     "output_type": "stream",
     "text": [
      "\r",
      " 79%|███████████████████████████████████████████████████████████████▏                | 298/377 [06:26<02:29,  1.89s/it]"
     ]
    },
    {
     "name": "stdout",
     "output_type": "stream",
     "text": [
      "0.008435177581552229\n",
      "0.008612272887967502\n",
      "-5.18043280244941\n"
     ]
    },
    {
     "name": "stderr",
     "output_type": "stream",
     "text": [
      "\r",
      " 79%|███████████████████████████████████████████████████████████████▍                | 299/377 [06:27<02:21,  1.82s/it]"
     ]
    },
    {
     "name": "stdout",
     "output_type": "stream",
     "text": [
      "0.0005597480411832219\n",
      "0.02062842525199122\n",
      "-2.1184992965868457\n"
     ]
    },
    {
     "name": "stderr",
     "output_type": "stream",
     "text": [
      "\r",
      " 80%|███████████████████████████████████████████████████████████████▊                | 301/377 [06:30<01:54,  1.51s/it]"
     ]
    },
    {
     "name": "stdout",
     "output_type": "stream",
     "text": [
      "-0.020958059844212718\n",
      "0.029715842624010964\n",
      "6.281789123945849\n"
     ]
    },
    {
     "name": "stderr",
     "output_type": "stream",
     "text": [
      "\r",
      " 80%|████████████████████████████████████████████████████████████████                | 302/377 [06:32<02:06,  1.69s/it]"
     ]
    },
    {
     "name": "stdout",
     "output_type": "stream",
     "text": [
      "0.014686434774661989\n",
      "0.022858838703715245\n",
      "2.1170089795205707\n"
     ]
    },
    {
     "name": "stderr",
     "output_type": "stream",
     "text": [
      "\r",
      " 80%|████████████████████████████████████████████████████████████████▎               | 303/377 [06:34<02:12,  1.79s/it]"
     ]
    },
    {
     "name": "stdout",
     "output_type": "stream",
     "text": [
      "-0.004165475951483023\n",
      "0.00808075579984908\n",
      "1.6773816824621073\n"
     ]
    },
    {
     "name": "stderr",
     "output_type": "stream",
     "text": [
      "\r",
      " 81%|████████████████████████████████████████████████████████████████▌               | 304/377 [06:35<01:45,  1.45s/it]"
     ]
    },
    {
     "name": "stdout",
     "output_type": "stream",
     "text": [
      "-0.30977598496182085\n",
      "0.018464840077174173\n",
      "0.02192311666720185\n"
     ]
    },
    {
     "name": "stderr",
     "output_type": "stream",
     "text": [
      "\r",
      " 81%|████████████████████████████████████████████████████████████████▋               | 305/377 [06:37<02:01,  1.68s/it]"
     ]
    },
    {
     "name": "stdout",
     "output_type": "stream",
     "text": [
      "-0.006645673710172729\n",
      "0.03840731724604109\n",
      "-0.21566615069577455\n"
     ]
    },
    {
     "name": "stderr",
     "output_type": "stream",
     "text": [
      "\r",
      " 81%|████████████████████████████████████████████████████████████████▉               | 306/377 [06:37<01:35,  1.34s/it]"
     ]
    },
    {
     "name": "stdout",
     "output_type": "stream",
     "text": [
      "-0.10828462104097404\n",
      "2.118806904927074e-17\n",
      "-0.6549812432432162\n"
     ]
    },
    {
     "name": "stderr",
     "output_type": "stream",
     "text": [
      "\r",
      " 81%|█████████████████████████████████████████████████████████████████▏              | 307/377 [06:40<01:52,  1.61s/it]"
     ]
    },
    {
     "name": "stdout",
     "output_type": "stream",
     "text": [
      "-0.027730533181104088\n",
      "0.03689134860248245\n",
      "1.5268781800935025\n"
     ]
    },
    {
     "name": "stderr",
     "output_type": "stream",
     "text": [
      " 82%|█████████████████████████████████████████████████████████████████▌              | 309/377 [06:42<01:29,  1.32s/it]"
     ]
    },
    {
     "name": "stdout",
     "output_type": "stream",
     "text": [
      "0.030603205317146782\n",
      "0.006381522834414545\n",
      "5.715674962768685\n",
      "0.0\n",
      "0.0\n",
      "nan\n"
     ]
    },
    {
     "name": "stderr",
     "output_type": "stream",
     "text": [
      "\r",
      " 82%|█████████████████████████████████████████████████████████████████▊              | 310/377 [06:43<01:30,  1.34s/it]"
     ]
    },
    {
     "name": "stdout",
     "output_type": "stream",
     "text": [
      "-0.0006952936445447798\n",
      "0.03698911458497838\n",
      "2.1474488157388225\n"
     ]
    },
    {
     "name": "stderr",
     "output_type": "stream",
     "text": [
      "\r",
      " 82%|█████████████████████████████████████████████████████████████████▉              | 311/377 [06:46<01:45,  1.60s/it]"
     ]
    },
    {
     "name": "stdout",
     "output_type": "stream",
     "text": [
      "0.0038455473108775155\n",
      "0.020206082563184825\n",
      "-0.5135840397979936\n"
     ]
    },
    {
     "name": "stderr",
     "output_type": "stream",
     "text": [
      "\r",
      " 83%|██████████████████████████████████████████████████████████████████▏             | 312/377 [06:47<01:41,  1.56s/it]"
     ]
    },
    {
     "name": "stdout",
     "output_type": "stream",
     "text": [
      "0.00497282237947735\n",
      "0.037292062698077756\n",
      "2.7728420009811896\n"
     ]
    },
    {
     "name": "stderr",
     "output_type": "stream",
     "text": [
      "\r",
      " 83%|██████████████████████████████████████████████████████████████████▍             | 313/377 [06:49<01:52,  1.76s/it]"
     ]
    },
    {
     "name": "stdout",
     "output_type": "stream",
     "text": [
      "0.04194936549324426\n",
      "0.012365076403572492\n",
      "5.697707410004795\n"
     ]
    },
    {
     "name": "stderr",
     "output_type": "stream",
     "text": [
      "\r",
      " 83%|██████████████████████████████████████████████████████████████████▋             | 314/377 [06:50<01:32,  1.47s/it]"
     ]
    },
    {
     "name": "stdout",
     "output_type": "stream",
     "text": [
      "0.05515343384155384\n",
      "0.04213930499899714\n",
      "-1.4133583326852013\n"
     ]
    },
    {
     "name": "stderr",
     "output_type": "stream",
     "text": [
      "\r",
      " 84%|██████████████████████████████████████████████████████████████████▊             | 315/377 [06:51<01:14,  1.19s/it]"
     ]
    },
    {
     "name": "stdout",
     "output_type": "stream",
     "text": [
      "0.1326003969427652\n",
      "3.680100456364071e-17\n",
      "1.5084140199287575\n"
     ]
    },
    {
     "name": "stderr",
     "output_type": "stream",
     "text": [
      "\r",
      " 84%|███████████████████████████████████████████████████████████████████             | 316/377 [06:52<01:10,  1.15s/it]"
     ]
    },
    {
     "name": "stdout",
     "output_type": "stream",
     "text": [
      "0.04336908741196554\n",
      "0.0\n",
      "nan\n"
     ]
    },
    {
     "name": "stderr",
     "output_type": "stream",
     "text": [
      " 85%|███████████████████████████████████████████████████████████████████▋            | 319/377 [06:55<00:58,  1.01s/it]"
     ]
    },
    {
     "name": "stdout",
     "output_type": "stream",
     "text": [
      "0.016402916933534364\n",
      "0.02392645027279461\n",
      "4.190173843153912\n",
      "0.0\n",
      "0.0\n",
      "nan\n"
     ]
    },
    {
     "name": "stderr",
     "output_type": "stream",
     "text": [
      "\r",
      " 85%|███████████████████████████████████████████████████████████████████▉            | 320/377 [06:57<01:21,  1.43s/it]"
     ]
    },
    {
     "name": "stdout",
     "output_type": "stream",
     "text": [
      "0.013554217834838697\n",
      "0.028567093937453825\n",
      "0.0347953779272168\n"
     ]
    },
    {
     "name": "stderr",
     "output_type": "stream",
     "text": [
      "\r",
      " 85%|████████████████████████████████████████████████████████████████████            | 321/377 [07:00<01:40,  1.79s/it]"
     ]
    },
    {
     "name": "stdout",
     "output_type": "stream",
     "text": [
      "-0.009877255290371041\n",
      "0.021942023014656656\n",
      "4.711362906681345\n"
     ]
    },
    {
     "name": "stderr",
     "output_type": "stream",
     "text": [
      "\r",
      " 85%|████████████████████████████████████████████████████████████████████▎           | 322/377 [07:01<01:18,  1.42s/it]"
     ]
    },
    {
     "name": "stdout",
     "output_type": "stream",
     "text": [
      "-0.2070473363265965\n",
      "3.859921508240764e-17\n",
      "0.7190709851579098\n"
     ]
    },
    {
     "name": "stderr",
     "output_type": "stream",
     "text": [
      "\r",
      " 86%|████████████████████████████████████████████████████████████████████▌           | 323/377 [07:01<01:04,  1.19s/it]"
     ]
    },
    {
     "name": "stdout",
     "output_type": "stream",
     "text": [
      "-0.00964274526504925\n",
      "0.06727887944935106\n",
      "-3.2905126684768553\n"
     ]
    },
    {
     "name": "stderr",
     "output_type": "stream",
     "text": [
      "\r",
      " 86%|████████████████████████████████████████████████████████████████████▊           | 324/377 [07:04<01:20,  1.53s/it]"
     ]
    },
    {
     "name": "stdout",
     "output_type": "stream",
     "text": [
      "-0.012546462762348692\n",
      "0.017058987871894252\n",
      "1.4854281754747742\n"
     ]
    },
    {
     "name": "stderr",
     "output_type": "stream",
     "text": [
      "\r",
      " 86%|████████████████████████████████████████████████████████████████████▉           | 325/377 [07:06<01:28,  1.69s/it]"
     ]
    },
    {
     "name": "stdout",
     "output_type": "stream",
     "text": [
      "0.0014266146147494056\n",
      "0.03915938543822982\n",
      "0.3375725544079311\n"
     ]
    },
    {
     "name": "stderr",
     "output_type": "stream",
     "text": [
      "\r",
      " 86%|█████████████████████████████████████████████████████████████████████▏          | 326/377 [07:06<01:09,  1.36s/it]"
     ]
    },
    {
     "name": "stdout",
     "output_type": "stream",
     "text": [
      "0.3888813873912677\n",
      "4.1836409184574147e-17\n",
      "0.0\n"
     ]
    },
    {
     "name": "stderr",
     "output_type": "stream",
     "text": [
      "\r",
      " 87%|█████████████████████████████████████████████████████████████████████▍          | 327/377 [07:09<01:27,  1.74s/it]"
     ]
    },
    {
     "name": "stdout",
     "output_type": "stream",
     "text": [
      "-0.03697302091939876\n",
      "0.03499615108490096\n",
      "2.7006362248082594\n"
     ]
    },
    {
     "name": "stderr",
     "output_type": "stream",
     "text": [
      "\r",
      " 87%|█████████████████████████████████████████████████████████████████████▌          | 328/377 [07:09<01:06,  1.36s/it]"
     ]
    },
    {
     "name": "stdout",
     "output_type": "stream",
     "text": [
      "-0.3682239482615235\n",
      "2.537776533509386e-17\n",
      "0.0\n"
     ]
    },
    {
     "name": "stderr",
     "output_type": "stream",
     "text": [
      "\r",
      " 87%|█████████████████████████████████████████████████████████████████████▊          | 329/377 [07:12<01:18,  1.63s/it]"
     ]
    },
    {
     "name": "stdout",
     "output_type": "stream",
     "text": [
      "0.0004554260364654994\n",
      "0.029358787619870343\n",
      "1.1203220354472383\n"
     ]
    },
    {
     "name": "stderr",
     "output_type": "stream",
     "text": [
      "\r",
      " 88%|██████████████████████████████████████████████████████████████████████          | 330/377 [07:14<01:27,  1.86s/it]"
     ]
    },
    {
     "name": "stdout",
     "output_type": "stream",
     "text": [
      "0.015505909083805818\n",
      "0.012672392084285077\n",
      "-0.7533319791293167\n"
     ]
    },
    {
     "name": "stderr",
     "output_type": "stream",
     "text": [
      "\r",
      " 88%|██████████████████████████████████████████████████████████████████████▋         | 333/377 [07:16<00:54,  1.24s/it]"
     ]
    },
    {
     "name": "stdout",
     "output_type": "stream",
     "text": [
      "0.009623969028769618\n",
      "0.021202798948884296\n",
      "2.8066831864800195\n"
     ]
    },
    {
     "name": "stderr",
     "output_type": "stream",
     "text": [
      "\r",
      " 89%|██████████████████████████████████████████████████████████████████████▉         | 334/377 [07:19<01:07,  1.57s/it]"
     ]
    },
    {
     "name": "stdout",
     "output_type": "stream",
     "text": [
      "-0.009081157710720565\n",
      "1.9915275259375862e-17\n",
      "3.135786190339717\n"
     ]
    },
    {
     "name": "stderr",
     "output_type": "stream",
     "text": [
      "\r",
      " 89%|███████████████████████████████████████████████████████████████████████         | 335/377 [07:20<00:55,  1.31s/it]"
     ]
    },
    {
     "name": "stdout",
     "output_type": "stream",
     "text": [
      "0.3455876696519163\n",
      "5.551115123125783e-17\n",
      "-1.0\n"
     ]
    },
    {
     "name": "stderr",
     "output_type": "stream",
     "text": [
      "\r",
      " 89%|███████████████████████████████████████████████████████████████████████▎        | 336/377 [07:22<01:04,  1.58s/it]"
     ]
    },
    {
     "name": "stdout",
     "output_type": "stream",
     "text": [
      "0.010249380880215828\n",
      "0.013298377232565233\n",
      "3.575414890501246\n"
     ]
    },
    {
     "name": "stderr",
     "output_type": "stream",
     "text": [
      " 90%|███████████████████████████████████████████████████████████████████████▋        | 338/377 [07:23<00:38,  1.00it/s]"
     ]
    },
    {
     "name": "stdout",
     "output_type": "stream",
     "text": [
      "-5.166006511458932e-18\n",
      "1.0495796126756153e-17\n",
      "-1.1605816367999413\n",
      "0.0\n",
      "0.0\n",
      "nan\n"
     ]
    },
    {
     "name": "stderr",
     "output_type": "stream",
     "text": [
      "\r",
      " 90%|███████████████████████████████████████████████████████████████████████▉        | 339/377 [07:23<00:32,  1.18it/s]"
     ]
    },
    {
     "name": "stdout",
     "output_type": "stream",
     "text": [
      "0.33945847069151286\n",
      "1.6083871117678528e-16\n",
      "-1.0354065415926446\n"
     ]
    },
    {
     "name": "stderr",
     "output_type": "stream",
     "text": [
      "\r",
      " 90%|████████████████████████████████████████████████████████████████████████▏       | 340/377 [07:23<00:24,  1.48it/s]"
     ]
    },
    {
     "name": "stdout",
     "output_type": "stream",
     "text": [
      "0.4158599463733168\n",
      "5.413404661929143e-17\n",
      "1.0254387894119787\n"
     ]
    },
    {
     "name": "stderr",
     "output_type": "stream",
     "text": [
      "\r",
      " 91%|████████████████████████████████████████████████████████████████████████▌       | 342/377 [07:24<00:20,  1.71it/s]"
     ]
    },
    {
     "name": "stdout",
     "output_type": "stream",
     "text": [
      "-0.04721400849001112\n",
      "0.04337535939526164\n",
      "1.3511838498623954\n"
     ]
    },
    {
     "name": "stderr",
     "output_type": "stream",
     "text": [
      "\r",
      " 91%|████████████████████████████████████████████████████████████████████████▊       | 343/377 [07:27<00:34,  1.01s/it]"
     ]
    },
    {
     "name": "stdout",
     "output_type": "stream",
     "text": [
      "-0.00021139461552773946\n",
      "0.013320946334308083\n",
      "-5.9739971871658\n"
     ]
    },
    {
     "name": "stderr",
     "output_type": "stream",
     "text": [
      "\r",
      " 91%|████████████████████████████████████████████████████████████████████████▉       | 344/377 [07:27<00:29,  1.12it/s]"
     ]
    },
    {
     "name": "stdout",
     "output_type": "stream",
     "text": [
      "0.11151316127283993\n",
      "1.3497887713973342e-17\n",
      "-1.028145151440831\n"
     ]
    },
    {
     "name": "stderr",
     "output_type": "stream",
     "text": [
      "\r",
      " 92%|█████████████████████████████████████████████████████████████████████████▍      | 346/377 [07:28<00:19,  1.62it/s]"
     ]
    },
    {
     "name": "stdout",
     "output_type": "stream",
     "text": [
      "0.28127973348820773\n",
      "6.60092713653293e-17\n",
      "0.8409599149190805\n"
     ]
    },
    {
     "name": "stderr",
     "output_type": "stream",
     "text": [
      "\r",
      " 92%|█████████████████████████████████████████████████████████████████████████▋      | 347/377 [07:28<00:15,  1.89it/s]"
     ]
    },
    {
     "name": "stdout",
     "output_type": "stream",
     "text": [
      "0.044915821279943376\n",
      "1.3604479690734716e-17\n",
      "1.0200895677962514\n"
     ]
    },
    {
     "name": "stderr",
     "output_type": "stream",
     "text": [
      "\r",
      " 92%|█████████████████████████████████████████████████████████████████████████▊      | 348/377 [07:29<00:20,  1.40it/s]"
     ]
    },
    {
     "name": "stdout",
     "output_type": "stream",
     "text": [
      "-0.01780243749412867\n",
      "0.04086683532782928\n",
      "1.170686759858841\n"
     ]
    },
    {
     "name": "stderr",
     "output_type": "stream",
     "text": [
      "\r",
      " 93%|██████████████████████████████████████████████████████████████████████████      | 349/377 [07:31<00:31,  1.13s/it]"
     ]
    },
    {
     "name": "stdout",
     "output_type": "stream",
     "text": [
      "-0.001585570391129233\n",
      "0.017122843185869152\n",
      "-0.09154936042641637\n"
     ]
    },
    {
     "name": "stderr",
     "output_type": "stream",
     "text": [
      "\r",
      " 93%|██████████████████████████████████████████████████████████████████████████▎     | 350/377 [07:32<00:26,  1.04it/s]"
     ]
    },
    {
     "name": "stdout",
     "output_type": "stream",
     "text": [
      "-0.10626032727153356\n",
      "1.4515396512529846e-17\n",
      "0.0\n"
     ]
    },
    {
     "name": "stderr",
     "output_type": "stream",
     "text": [
      "\r",
      " 93%|██████████████████████████████████████████████████████████████████████████▍     | 351/377 [07:32<00:21,  1.18it/s]"
     ]
    },
    {
     "name": "stdout",
     "output_type": "stream",
     "text": [
      "0.11609764263996564\n",
      "2.6378750707854008e-17\n",
      "-0.5260972349112228\n"
     ]
    },
    {
     "name": "stderr",
     "output_type": "stream",
     "text": [
      "\r",
      " 93%|██████████████████████████████████████████████████████████████████████████▋     | 352/377 [07:33<00:18,  1.32it/s]"
     ]
    },
    {
     "name": "stdout",
     "output_type": "stream",
     "text": [
      "0.1508343639708295\n",
      "2.8535647539295884e-17\n",
      "-0.9726632478694325\n"
     ]
    },
    {
     "name": "stderr",
     "output_type": "stream",
     "text": [
      "\r",
      " 94%|██████████████████████████████████████████████████████████████████████████▉     | 353/377 [07:34<00:16,  1.42it/s]"
     ]
    },
    {
     "name": "stdout",
     "output_type": "stream",
     "text": [
      "0.15435298667353992\n",
      "2.6184557666721352e-17\n",
      "-1.05999788000636\n"
     ]
    },
    {
     "name": "stderr",
     "output_type": "stream",
     "text": [
      "\r",
      " 94%|███████████████████████████████████████████████████████████████████████████     | 354/377 [07:34<00:14,  1.55it/s]"
     ]
    },
    {
     "name": "stdout",
     "output_type": "stream",
     "text": [
      "-0.1958221518592258\n",
      "2.5286532809710436e-17\n",
      "0.0\n"
     ]
    },
    {
     "name": "stderr",
     "output_type": "stream",
     "text": [
      "\r",
      " 94%|███████████████████████████████████████████████████████████████████████████▎    | 355/377 [07:35<00:13,  1.65it/s]"
     ]
    },
    {
     "name": "stdout",
     "output_type": "stream",
     "text": [
      "-0.006587720802395733\n",
      "1.3065963246489807e-17\n",
      "-0.9293661785785219\n"
     ]
    },
    {
     "name": "stderr",
     "output_type": "stream",
     "text": [
      "\r",
      " 94%|███████████████████████████████████████████████████████████████████████████▌    | 356/377 [07:35<00:14,  1.46it/s]"
     ]
    },
    {
     "name": "stdout",
     "output_type": "stream",
     "text": [
      "-0.2583247833829787\n",
      "0.03187847866532652\n",
      "1.814748176245123\n"
     ]
    },
    {
     "name": "stderr",
     "output_type": "stream",
     "text": [
      "\r",
      " 95%|███████████████████████████████████████████████████████████████████████████▊    | 357/377 [07:36<00:12,  1.63it/s]"
     ]
    },
    {
     "name": "stdout",
     "output_type": "stream",
     "text": [
      "-0.3428881376070667\n",
      "8.583610892420397e-17\n",
      "-1.2934218926507013\n"
     ]
    },
    {
     "name": "stderr",
     "output_type": "stream",
     "text": [
      "\r",
      " 95%|███████████████████████████████████████████████████████████████████████████▉    | 358/377 [07:38<00:21,  1.13s/it]"
     ]
    },
    {
     "name": "stdout",
     "output_type": "stream",
     "text": [
      "0.008380335084484412\n",
      "0.02034244059238296\n",
      "-1.6640903094185868\n"
     ]
    },
    {
     "name": "stderr",
     "output_type": "stream",
     "text": [
      "\r",
      " 95%|████████████████████████████████████████████████████████████████████████████▏   | 359/377 [07:41<00:26,  1.48s/it]"
     ]
    },
    {
     "name": "stdout",
     "output_type": "stream",
     "text": [
      "0.03831254398916068\n",
      "0.01348962795503708\n",
      "2.2432737520467336\n"
     ]
    },
    {
     "name": "stderr",
     "output_type": "stream",
     "text": [
      "\r",
      " 95%|████████████████████████████████████████████████████████████████████████████▍   | 360/377 [07:43<00:28,  1.67s/it]"
     ]
    },
    {
     "name": "stdout",
     "output_type": "stream",
     "text": [
      "-0.01354287250953755\n",
      "0.040614408117402086\n",
      "-1.3871610161949814\n"
     ]
    },
    {
     "name": "stderr",
     "output_type": "stream",
     "text": [
      "\r",
      " 96%|████████████████████████████████████████████████████████████████████████████▌   | 361/377 [07:45<00:29,  1.85s/it]"
     ]
    },
    {
     "name": "stdout",
     "output_type": "stream",
     "text": [
      "0.031186118955909184\n",
      "0.018704192660880598\n",
      "-0.2244276139978662\n"
     ]
    },
    {
     "name": "stderr",
     "output_type": "stream",
     "text": [
      "\r",
      " 96%|████████████████████████████████████████████████████████████████████████████▊   | 362/377 [07:47<00:29,  1.97s/it]"
     ]
    },
    {
     "name": "stdout",
     "output_type": "stream",
     "text": [
      "-0.04022592438841481\n",
      "0.04308183309206747\n",
      "-5.134389215184767\n"
     ]
    },
    {
     "name": "stderr",
     "output_type": "stream",
     "text": [
      "\r",
      " 96%|█████████████████████████████████████████████████████████████████████████████   | 363/377 [07:50<00:29,  2.14s/it]"
     ]
    },
    {
     "name": "stdout",
     "output_type": "stream",
     "text": [
      "-0.026832693272117687\n",
      "0.014634995395996133\n",
      "-2.178023487229347\n"
     ]
    },
    {
     "name": "stderr",
     "output_type": "stream",
     "text": [
      "\r",
      " 97%|█████████████████████████████████████████████████████████████████████████████▏  | 364/377 [07:52<00:28,  2.19s/it]"
     ]
    },
    {
     "name": "stdout",
     "output_type": "stream",
     "text": [
      "0.0013067806085455917\n",
      "0.017099052809958205\n",
      "-0.39467997115529785\n"
     ]
    },
    {
     "name": "stderr",
     "output_type": "stream",
     "text": [
      "\r",
      " 97%|█████████████████████████████████████████████████████████████████████████████▍  | 365/377 [07:53<00:22,  1.84s/it]"
     ]
    },
    {
     "name": "stdout",
     "output_type": "stream",
     "text": [
      "0.03636767759739981\n",
      "0.03499699283777202\n",
      "0.1607106466193443\n"
     ]
    },
    {
     "name": "stderr",
     "output_type": "stream",
     "text": [
      "\r",
      " 97%|█████████████████████████████████████████████████████████████████████████████▋  | 366/377 [07:54<00:15,  1.43s/it]"
     ]
    },
    {
     "name": "stdout",
     "output_type": "stream",
     "text": [
      "-0.3428881376070667\n",
      "8.750712804614061e-17\n",
      "-1.2687229593911025\n"
     ]
    },
    {
     "name": "stderr",
     "output_type": "stream",
     "text": [
      " 98%|██████████████████████████████████████████████████████████████████████████████  | 368/377 [07:54<00:07,  1.16it/s]"
     ]
    },
    {
     "name": "stdout",
     "output_type": "stream",
     "text": [
      "0.15610785632880295\n",
      "6.449215694872265e-17\n",
      "-1.291114001863694\n",
      "-0.5599999999999997\n",
      "2.220446049250313e-16\n",
      "-1.0\n"
     ]
    },
    {
     "name": "stderr",
     "output_type": "stream",
     "text": [
      "\r",
      " 98%|██████████████████████████████████████████████████████████████████████████████▎ | 369/377 [07:55<00:05,  1.35it/s]"
     ]
    },
    {
     "name": "stdout",
     "output_type": "stream",
     "text": [
      "0.23798216589627907\n",
      "4.936280548792512e-17\n",
      "1.1245542201777141\n"
     ]
    },
    {
     "name": "stderr",
     "output_type": "stream",
     "text": [
      "\r",
      " 98%|██████████████████████████████████████████████████████████████████████████████▌ | 370/377 [07:57<00:08,  1.23s/it]"
     ]
    },
    {
     "name": "stdout",
     "output_type": "stream",
     "text": [
      "0.006136561763438325\n",
      "0.018922342701375303\n",
      "-0.001211590656276978\n"
     ]
    },
    {
     "name": "stderr",
     "output_type": "stream",
     "text": [
      "\r",
      " 98%|██████████████████████████████████████████████████████████████████████████████▋ | 371/377 [07:59<00:09,  1.56s/it]"
     ]
    },
    {
     "name": "stdout",
     "output_type": "stream",
     "text": [
      "0.013337397381381616\n",
      "0.024042729975651416\n",
      "1.709536772443136\n"
     ]
    },
    {
     "name": "stderr",
     "output_type": "stream",
     "text": [
      "\r",
      " 99%|██████████████████████████████████████████████████████████████████████████████▉ | 372/377 [08:00<00:06,  1.23s/it]"
     ]
    },
    {
     "name": "stdout",
     "output_type": "stream",
     "text": [
      "0.1197700857005606\n",
      "3.4902015555336154e-17\n",
      "1.192864158731316\n"
     ]
    },
    {
     "name": "stderr",
     "output_type": "stream",
     "text": [
      "\r",
      " 99%|███████████████████████████████████████████████████████████████████████████████▏| 373/377 [08:03<00:06,  1.68s/it]"
     ]
    },
    {
     "name": "stdout",
     "output_type": "stream",
     "text": [
      "-0.010796089522239849\n",
      "0.048679183502426386\n",
      "0.49432381524692925\n"
     ]
    },
    {
     "name": "stderr",
     "output_type": "stream",
     "text": [
      "\r",
      " 99%|███████████████████████████████████████████████████████████████████████████████▎| 374/377 [08:05<00:05,  1.93s/it]"
     ]
    },
    {
     "name": "stdout",
     "output_type": "stream",
     "text": [
      "0.02500963710137317\n",
      "0.009342349445270466\n",
      "1.6672852984427131\n"
     ]
    },
    {
     "name": "stderr",
     "output_type": "stream",
     "text": [
      "\r",
      "100%|███████████████████████████████████████████████████████████████████████████████▊| 376/377 [08:07<00:01,  1.58s/it]"
     ]
    },
    {
     "name": "stdout",
     "output_type": "stream",
     "text": [
      "0.012738709164528824\n",
      "0.021602746064787123\n",
      "0.17270040688363933\n"
     ]
    },
    {
     "name": "stderr",
     "output_type": "stream",
     "text": [
      "100%|████████████████████████████████████████████████████████████████████████████████| 377/377 [08:08<00:00,  1.30s/it]\n"
     ]
    },
    {
     "name": "stdout",
     "output_type": "stream",
     "text": [
      "-0.054526142239985004\n",
      "2.466969522362136e-17\n",
      "-1.125087900926024\n"
     ]
    },
    {
     "name": "stderr",
     "output_type": "stream",
     "text": [
      " 14%|████████████                                                                        | 1/7 [00:02<00:13,  2.27s/it]"
     ]
    },
    {
     "name": "stdout",
     "output_type": "stream",
     "text": [
      "-8.111359012056951e-05\n",
      "0.025009602193478992\n",
      "-1.3243046555571218\n"
     ]
    },
    {
     "name": "stderr",
     "output_type": "stream",
     "text": [
      "\r",
      " 29%|████████████████████████                                                            | 2/7 [00:03<00:09,  1.83s/it]"
     ]
    },
    {
     "name": "stdout",
     "output_type": "stream",
     "text": [
      "0.01046344360502032\n",
      "0.04143602140260067\n",
      "-1.852318425237642\n"
     ]
    },
    {
     "name": "stderr",
     "output_type": "stream",
     "text": [
      "\r",
      " 43%|████████████████████████████████████                                                | 3/7 [00:06<00:08,  2.01s/it]"
     ]
    },
    {
     "name": "stdout",
     "output_type": "stream",
     "text": [
      "-0.008851356723278206\n",
      "0.020697752598473295\n",
      "2.4543239361532208\n"
     ]
    },
    {
     "name": "stderr",
     "output_type": "stream",
     "text": [
      "\r",
      " 57%|████████████████████████████████████████████████                                    | 4/7 [00:08<00:06,  2.16s/it]"
     ]
    },
    {
     "name": "stdout",
     "output_type": "stream",
     "text": [
      "-0.006596112201182068\n",
      "0.020487047391252625\n",
      "-0.30389483078079615\n"
     ]
    },
    {
     "name": "stderr",
     "output_type": "stream",
     "text": [
      "\r",
      " 71%|████████████████████████████████████████████████████████████                        | 5/7 [00:09<00:03,  1.70s/it]"
     ]
    },
    {
     "name": "stdout",
     "output_type": "stream",
     "text": [
      "0.005309083170899722\n",
      "0.07490004270803428\n",
      "0.16309813781529545\n"
     ]
    },
    {
     "name": "stderr",
     "output_type": "stream",
     "text": [
      "\r",
      " 86%|████████████████████████████████████████████████████████████████████████            | 6/7 [00:10<00:01,  1.42s/it]"
     ]
    },
    {
     "name": "stdout",
     "output_type": "stream",
     "text": [
      "0.010977588047544553\n",
      "0.06766006939127099\n",
      "0.9284257052804059\n"
     ]
    },
    {
     "name": "stderr",
     "output_type": "stream",
     "text": [
      "100%|████████████████████████████████████████████████████████████████████████████████████| 7/7 [00:12<00:00,  1.81s/it]\n"
     ]
    },
    {
     "name": "stdout",
     "output_type": "stream",
     "text": [
      "-0.00798091840724729\n",
      "0.004640122547252134\n",
      "0.25509111996416706\n"
     ]
    },
    {
     "name": "stderr",
     "output_type": "stream",
     "text": [
      "  5%|████▏                                                                              | 1/20 [00:01<00:25,  1.35s/it]"
     ]
    },
    {
     "name": "stdout",
     "output_type": "stream",
     "text": [
      "0.06132695617228868\n",
      "0.019986884891441837\n",
      "2.3013791070708463\n"
     ]
    },
    {
     "name": "stderr",
     "output_type": "stream",
     "text": [
      "\r",
      " 10%|████████▎                                                                          | 2/20 [00:02<00:26,  1.47s/it]"
     ]
    },
    {
     "name": "stdout",
     "output_type": "stream",
     "text": [
      "-0.038963937216360704\n",
      "0.010881168570176616\n",
      "-2.1600790448699816\n"
     ]
    },
    {
     "name": "stderr",
     "output_type": "stream",
     "text": [
      " 20%|████████████████▌                                                                  | 4/20 [00:03<00:12,  1.32it/s]"
     ]
    },
    {
     "name": "stdout",
     "output_type": "stream",
     "text": [
      "0.0\n",
      "0.0\n",
      "nan\n",
      "0.10716540788282396\n",
      "2.3791402032150368e-17\n",
      "-0.5833110545171231\n"
     ]
    },
    {
     "name": "stderr",
     "output_type": "stream",
     "text": [
      "\r",
      " 25%|████████████████████▊                                                              | 5/20 [00:05<00:15,  1.06s/it]"
     ]
    },
    {
     "name": "stdout",
     "output_type": "stream",
     "text": [
      "0.10657103182526581\n",
      "0.01841515246789612\n",
      "2.903049319690383\n"
     ]
    },
    {
     "name": "stderr",
     "output_type": "stream",
     "text": [
      "\r",
      " 30%|████████████████████████▉                                                          | 6/20 [00:07<00:22,  1.57s/it]"
     ]
    },
    {
     "name": "stdout",
     "output_type": "stream",
     "text": [
      "-0.01730729427642158\n",
      "0.02861900589034353\n",
      "0.5083480237747003\n"
     ]
    },
    {
     "name": "stderr",
     "output_type": "stream",
     "text": [
      "\r",
      " 35%|█████████████████████████████                                                      | 7/20 [00:10<00:23,  1.79s/it]"
     ]
    },
    {
     "name": "stdout",
     "output_type": "stream",
     "text": [
      "-0.003260860356961125\n",
      "0.025224325895734857\n",
      "3.9548210365062766\n"
     ]
    },
    {
     "name": "stderr",
     "output_type": "stream",
     "text": [
      "\r",
      " 40%|█████████████████████████████████▏                                                 | 8/20 [00:10<00:17,  1.43s/it]"
     ]
    },
    {
     "name": "stdout",
     "output_type": "stream",
     "text": [
      "0.00574834340365846\n",
      "5.920466619097492e-18\n",
      "-0.5860090386731193\n"
     ]
    },
    {
     "name": "stderr",
     "output_type": "stream",
     "text": [
      "\r",
      " 45%|█████████████████████████████████████▎                                             | 9/20 [00:11<00:14,  1.30s/it]"
     ]
    },
    {
     "name": "stdout",
     "output_type": "stream",
     "text": [
      "0.19909882667141374\n",
      "0.02327218475088873\n",
      "-2.0145926933184124\n"
     ]
    },
    {
     "name": "stderr",
     "output_type": "stream",
     "text": [
      "\r",
      " 50%|█████████████████████████████████████████                                         | 10/20 [00:12<00:12,  1.25s/it]"
     ]
    },
    {
     "name": "stdout",
     "output_type": "stream",
     "text": [
      "0.10674758281214945\n",
      "0.029295353742937236\n",
      "1.509112763820729\n"
     ]
    },
    {
     "name": "stderr",
     "output_type": "stream",
     "text": [
      "\r",
      " 55%|█████████████████████████████████████████████                                     | 11/20 [00:13<00:09,  1.05s/it]"
     ]
    },
    {
     "name": "stdout",
     "output_type": "stream",
     "text": [
      "0.1325319037378601\n",
      "3.2652638748082425e-17\n",
      "0.8500255011475574\n"
     ]
    },
    {
     "name": "stderr",
     "output_type": "stream",
     "text": [
      "\r",
      " 75%|█████████████████████████████████████████████████████████████▌                    | 15/20 [00:14<00:02,  2.06it/s]"
     ]
    },
    {
     "name": "stdout",
     "output_type": "stream",
     "text": [
      "0.17128863726884108\n",
      "1.0045831428303542e-17\n",
      "0.0\n"
     ]
    },
    {
     "name": "stderr",
     "output_type": "stream",
     "text": [
      "\r",
      " 80%|█████████████████████████████████████████████████████████████████▌                | 16/20 [00:15<00:02,  1.46it/s]"
     ]
    },
    {
     "name": "stdout",
     "output_type": "stream",
     "text": [
      "0.08390381360893925\n",
      "0.030478617266723202\n",
      "0.40949987523673287\n"
     ]
    },
    {
     "name": "stderr",
     "output_type": "stream",
     "text": [
      "\r",
      " 85%|█████████████████████████████████████████████████████████████████████▋            | 17/20 [00:18<00:03,  1.09s/it]"
     ]
    },
    {
     "name": "stdout",
     "output_type": "stream",
     "text": [
      "-0.017360975254765085\n",
      "0.02599124615394294\n",
      "1.350732025178454\n"
     ]
    },
    {
     "name": "stderr",
     "output_type": "stream",
     "text": [
      "\r",
      " 90%|█████████████████████████████████████████████████████████████████████████▊        | 18/20 [00:20<00:02,  1.41s/it]"
     ]
    },
    {
     "name": "stdout",
     "output_type": "stream",
     "text": [
      "-0.00349772141903974\n",
      "0.026076940623377703\n",
      "0.8510954030109088\n"
     ]
    },
    {
     "name": "stderr",
     "output_type": "stream",
     "text": [
      "\r",
      " 95%|█████████████████████████████████████████████████████████████████████████████▉    | 19/20 [00:23<00:01,  1.68s/it]"
     ]
    },
    {
     "name": "stdout",
     "output_type": "stream",
     "text": [
      "0.017756058058462733\n",
      "0.020229379020493887\n",
      "0.8703017859490059\n"
     ]
    },
    {
     "name": "stderr",
     "output_type": "stream",
     "text": [
      "100%|██████████████████████████████████████████████████████████████████████████████████| 20/20 [00:23<00:00,  1.18s/it]\n"
     ]
    },
    {
     "name": "stdout",
     "output_type": "stream",
     "text": [
      "0.19929509212573407\n",
      "4.2900100872334116e-17\n",
      "0.6469815933120155\n"
     ]
    },
    {
     "name": "stderr",
     "output_type": "stream",
     "text": [
      "  1%|▊                                                                                 | 1/106 [00:02<04:23,  2.51s/it]"
     ]
    },
    {
     "name": "stdout",
     "output_type": "stream",
     "text": [
      "0.014701389699984744\n",
      "0.011153502277688307\n",
      "2.221387982233648\n"
     ]
    },
    {
     "name": "stderr",
     "output_type": "stream",
     "text": [
      "\r",
      "  2%|█▌                                                                                | 2/106 [00:04<04:14,  2.45s/it]"
     ]
    },
    {
     "name": "stdout",
     "output_type": "stream",
     "text": [
      "-0.0058612282751060426\n",
      "0.012591659957538243\n",
      "2.6351834258095237\n"
     ]
    },
    {
     "name": "stderr",
     "output_type": "stream",
     "text": [
      "\r",
      "  3%|██▎                                                                               | 3/106 [00:07<04:08,  2.41s/it]"
     ]
    },
    {
     "name": "stdout",
     "output_type": "stream",
     "text": [
      "-0.04919702076539396\n",
      "0.01791874208152717\n",
      "0.3458680750428084\n"
     ]
    },
    {
     "name": "stderr",
     "output_type": "stream",
     "text": [
      "\r",
      "  4%|███                                                                               | 4/106 [00:09<04:07,  2.42s/it]"
     ]
    },
    {
     "name": "stdout",
     "output_type": "stream",
     "text": [
      "-0.022808249703000584\n",
      "0.025695809857017082\n",
      "6.588995987303831\n"
     ]
    },
    {
     "name": "stderr",
     "output_type": "stream",
     "text": [
      "\r",
      "  5%|███▊                                                                              | 5/106 [00:11<03:32,  2.11s/it]"
     ]
    },
    {
     "name": "stdout",
     "output_type": "stream",
     "text": [
      "-0.07281107730930736\n",
      "0.021910751533733123\n",
      "0.39458980424555995\n"
     ]
    },
    {
     "name": "stderr",
     "output_type": "stream",
     "text": [
      "\r",
      "  6%|████▋                                                                             | 6/106 [00:11<02:42,  1.62s/it]"
     ]
    },
    {
     "name": "stdout",
     "output_type": "stream",
     "text": [
      "-0.001920000314141598\n",
      "0.08740274687730815\n",
      "6.053269179402012\n"
     ]
    },
    {
     "name": "stderr",
     "output_type": "stream",
     "text": [
      "\r",
      "  7%|█████▍                                                                            | 7/106 [00:14<02:55,  1.77s/it]"
     ]
    },
    {
     "name": "stdout",
     "output_type": "stream",
     "text": [
      "-0.0013824314253742256\n",
      "0.03002812738200642\n",
      "2.797442141038232\n"
     ]
    },
    {
     "name": "stderr",
     "output_type": "stream",
     "text": [
      "\r",
      "  8%|██████▏                                                                           | 8/106 [00:16<03:19,  2.03s/it]"
     ]
    },
    {
     "name": "stdout",
     "output_type": "stream",
     "text": [
      "-0.03409101680263133\n",
      "0.01986617939982318\n",
      "5.432254853872082\n"
     ]
    },
    {
     "name": "stderr",
     "output_type": "stream",
     "text": [
      "\r",
      "  8%|██████▉                                                                           | 9/106 [00:19<03:35,  2.23s/it]"
     ]
    },
    {
     "name": "stdout",
     "output_type": "stream",
     "text": [
      "-0.009328660970059723\n",
      "0.028426777062007767\n",
      "2.0179641091041653\n"
     ]
    },
    {
     "name": "stderr",
     "output_type": "stream",
     "text": [
      "\r",
      "  9%|███████▋                                                                         | 10/106 [00:19<02:37,  1.64s/it]"
     ]
    },
    {
     "name": "stdout",
     "output_type": "stream",
     "text": [
      "-0.2321191727213149\n",
      "7.12296977776386e-17\n",
      "0.7793259407691133\n"
     ]
    },
    {
     "name": "stderr",
     "output_type": "stream",
     "text": [
      "\r",
      " 10%|████████▍                                                                        | 11/106 [00:22<03:03,  1.93s/it]"
     ]
    },
    {
     "name": "stdout",
     "output_type": "stream",
     "text": [
      "0.024226127088467494\n",
      "0.012009763270417102\n",
      "2.6449673425288607\n"
     ]
    },
    {
     "name": "stderr",
     "output_type": "stream",
     "text": [
      "\r",
      " 11%|█████████▏                                                                       | 12/106 [00:24<03:19,  2.12s/it]"
     ]
    },
    {
     "name": "stdout",
     "output_type": "stream",
     "text": [
      "-0.06317792690303257\n",
      "0.014664368357135915\n",
      "3.87304061519178\n"
     ]
    },
    {
     "name": "stderr",
     "output_type": "stream",
     "text": [
      "\r",
      " 12%|█████████▉                                                                       | 13/106 [00:27<03:30,  2.26s/it]"
     ]
    },
    {
     "name": "stdout",
     "output_type": "stream",
     "text": [
      "0.037485800141816995\n",
      "0.009497482397158858\n",
      "0.2316911904517336\n"
     ]
    },
    {
     "name": "stderr",
     "output_type": "stream",
     "text": [
      "\r",
      " 13%|██████████▋                                                                      | 14/106 [00:29<03:35,  2.34s/it]"
     ]
    },
    {
     "name": "stdout",
     "output_type": "stream",
     "text": [
      "0.011343330144899699\n",
      "0.02386624480662704\n",
      "6.6965201660421405\n"
     ]
    },
    {
     "name": "stderr",
     "output_type": "stream",
     "text": [
      "\r",
      " 14%|███████████▍                                                                     | 15/106 [00:32<03:32,  2.34s/it]"
     ]
    },
    {
     "name": "stdout",
     "output_type": "stream",
     "text": [
      "0.010753574749599015\n",
      "0.007647867372008993\n",
      "0.5893908984946009\n"
     ]
    },
    {
     "name": "stderr",
     "output_type": "stream",
     "text": [
      "\r",
      " 15%|████████████▏                                                                    | 16/106 [00:32<02:48,  1.87s/it]"
     ]
    },
    {
     "name": "stdout",
     "output_type": "stream",
     "text": [
      "-0.21863925688277885\n",
      "0.06176314163443374\n",
      "0.39408251675670714\n"
     ]
    },
    {
     "name": "stderr",
     "output_type": "stream",
     "text": [
      "\r",
      " 16%|████████████▉                                                                    | 17/106 [00:35<03:01,  2.04s/it]"
     ]
    },
    {
     "name": "stdout",
     "output_type": "stream",
     "text": [
      "0.03344583137759284\n",
      "0.02245822332602661\n",
      "-1.1805003059126258\n"
     ]
    },
    {
     "name": "stderr",
     "output_type": "stream",
     "text": [
      "\r",
      " 17%|█████████████▊                                                                   | 18/106 [00:38<03:15,  2.22s/it]"
     ]
    },
    {
     "name": "stdout",
     "output_type": "stream",
     "text": [
      "-0.020771658219693075\n",
      "0.03452328800978357\n",
      "-3.835130795661153\n"
     ]
    },
    {
     "name": "stderr",
     "output_type": "stream",
     "text": [
      "\r",
      " 18%|██████████████▌                                                                  | 19/106 [00:40<03:25,  2.36s/it]"
     ]
    },
    {
     "name": "stdout",
     "output_type": "stream",
     "text": [
      "0.01102663809091221\n",
      "0.025109449357070983\n",
      "3.4505553741410555\n"
     ]
    },
    {
     "name": "stderr",
     "output_type": "stream",
     "text": [
      "\r",
      " 19%|███████████████▎                                                                 | 20/106 [00:43<03:30,  2.45s/it]"
     ]
    },
    {
     "name": "stdout",
     "output_type": "stream",
     "text": [
      "0.017848157706963484\n",
      "0.028156636960522865\n",
      "-1.562964184267671\n"
     ]
    },
    {
     "name": "stderr",
     "output_type": "stream",
     "text": [
      "\r",
      " 20%|████████████████                                                                 | 21/106 [00:45<03:31,  2.48s/it]"
     ]
    },
    {
     "name": "stdout",
     "output_type": "stream",
     "text": [
      "0.030309686284122925\n",
      "0.01927092837222636\n",
      "-1.1935976346900985\n"
     ]
    },
    {
     "name": "stderr",
     "output_type": "stream",
     "text": [
      "\r",
      " 21%|████████████████▊                                                                | 22/106 [00:46<02:35,  1.86s/it]"
     ]
    },
    {
     "name": "stdout",
     "output_type": "stream",
     "text": [
      "-0.18268118655464233\n",
      "2.2837290315185458e-17\n",
      "1.2153620343116225\n"
     ]
    },
    {
     "name": "stderr",
     "output_type": "stream",
     "text": [
      "\r",
      " 22%|█████████████████▌                                                               | 23/106 [00:49<02:54,  2.11s/it]"
     ]
    },
    {
     "name": "stdout",
     "output_type": "stream",
     "text": [
      "-0.06499998286120236\n",
      "0.033301520463193665\n",
      "6.0358111192495585\n"
     ]
    },
    {
     "name": "stderr",
     "output_type": "stream",
     "text": [
      "\r",
      " 23%|██████████████████▎                                                              | 24/106 [00:51<02:58,  2.18s/it]"
     ]
    },
    {
     "name": "stdout",
     "output_type": "stream",
     "text": [
      "0.02234064154803357\n",
      "0.020447662181147182\n",
      "5.414142377017839\n"
     ]
    },
    {
     "name": "stderr",
     "output_type": "stream",
     "text": [
      "\r",
      " 24%|███████████████████                                                              | 25/106 [00:53<03:00,  2.23s/it]"
     ]
    },
    {
     "name": "stdout",
     "output_type": "stream",
     "text": [
      "0.030041385068706062\n",
      "0.031079786938520267\n",
      "-3.679822502151562\n"
     ]
    },
    {
     "name": "stderr",
     "output_type": "stream",
     "text": [
      "\r",
      " 25%|███████████████████▊                                                             | 26/106 [00:56<03:01,  2.27s/it]"
     ]
    },
    {
     "name": "stdout",
     "output_type": "stream",
     "text": [
      "0.007314008761815884\n",
      "0.025783041331635042\n",
      "4.515200897738122\n"
     ]
    },
    {
     "name": "stderr",
     "output_type": "stream",
     "text": [
      "\r",
      " 25%|████████████████████▋                                                            | 27/106 [00:56<02:19,  1.77s/it]"
     ]
    },
    {
     "name": "stdout",
     "output_type": "stream",
     "text": [
      "-0.0011288972649668252\n",
      "0.04892785037034015\n",
      "-4.893546286919765\n"
     ]
    },
    {
     "name": "stderr",
     "output_type": "stream",
     "text": [
      "\r",
      " 26%|█████████████████████▍                                                           | 28/106 [00:59<02:32,  1.95s/it]"
     ]
    },
    {
     "name": "stdout",
     "output_type": "stream",
     "text": [
      "-0.016550281177115322\n",
      "0.019595420783979866\n",
      "-1.4041816767994721\n"
     ]
    },
    {
     "name": "stderr",
     "output_type": "stream",
     "text": [
      "\r",
      " 27%|██████████████████████▏                                                          | 29/106 [01:01<02:41,  2.10s/it]"
     ]
    },
    {
     "name": "stdout",
     "output_type": "stream",
     "text": [
      "0.009648505339475274\n",
      "0.016011259008210058\n",
      "-2.088786546612511\n"
     ]
    },
    {
     "name": "stderr",
     "output_type": "stream",
     "text": [
      "\r",
      " 28%|██████████████████████▉                                                          | 30/106 [01:02<02:15,  1.78s/it]"
     ]
    },
    {
     "name": "stdout",
     "output_type": "stream",
     "text": [
      "-0.05303688773459933\n",
      "0.022097468759222774\n",
      "5.310562829827279\n"
     ]
    },
    {
     "name": "stderr",
     "output_type": "stream",
     "text": [
      "\r",
      " 29%|███████████████████████▋                                                         | 31/106 [01:04<02:27,  1.96s/it]"
     ]
    },
    {
     "name": "stdout",
     "output_type": "stream",
     "text": [
      "-0.005131657986438835\n",
      "0.034787380359870036\n",
      "-5.221524779432897\n"
     ]
    },
    {
     "name": "stderr",
     "output_type": "stream",
     "text": [
      "\r",
      " 30%|████████████████████████▍                                                        | 32/106 [01:07<02:34,  2.09s/it]"
     ]
    },
    {
     "name": "stdout",
     "output_type": "stream",
     "text": [
      "0.010781626454931609\n",
      "0.011848166055985817\n",
      "-0.3755754112050733\n"
     ]
    },
    {
     "name": "stderr",
     "output_type": "stream",
     "text": [
      "\r",
      " 31%|█████████████████████████▏                                                       | 33/106 [01:09<02:38,  2.17s/it]"
     ]
    },
    {
     "name": "stdout",
     "output_type": "stream",
     "text": [
      "0.0333738265344553\n",
      "0.02148786589500759\n",
      "3.7739466939914665\n"
     ]
    },
    {
     "name": "stderr",
     "output_type": "stream",
     "text": [
      "\r",
      " 32%|█████████████████████████▉                                                       | 34/106 [01:12<02:40,  2.24s/it]"
     ]
    },
    {
     "name": "stdout",
     "output_type": "stream",
     "text": [
      "0.013422469201514239\n",
      "0.02745800326223897\n",
      "-4.282966501458533\n"
     ]
    },
    {
     "name": "stderr",
     "output_type": "stream",
     "text": [
      "\r",
      " 33%|██████████████████████████▋                                                      | 35/106 [01:14<02:41,  2.28s/it]"
     ]
    },
    {
     "name": "stdout",
     "output_type": "stream",
     "text": [
      "0.03740314131268969\n",
      "0.012208437145707657\n",
      "-2.140549059006204\n"
     ]
    },
    {
     "name": "stderr",
     "output_type": "stream",
     "text": [
      "\r",
      " 34%|███████████████████████████▌                                                     | 36/106 [01:16<02:40,  2.30s/it]"
     ]
    },
    {
     "name": "stdout",
     "output_type": "stream",
     "text": [
      "-0.0002831420736928122\n",
      "0.02210820001795447\n",
      "7.144179087995094\n"
     ]
    },
    {
     "name": "stderr",
     "output_type": "stream",
     "text": [
      "\r",
      " 35%|████████████████████████████▎                                                    | 37/106 [01:17<02:08,  1.86s/it]"
     ]
    },
    {
     "name": "stdout",
     "output_type": "stream",
     "text": [
      "0.02235701725627302\n",
      "0.07173630469406032\n",
      "1.7448884513422849\n"
     ]
    },
    {
     "name": "stderr",
     "output_type": "stream",
     "text": [
      "\r",
      " 36%|█████████████████████████████                                                    | 38/106 [01:19<02:15,  1.99s/it]"
     ]
    },
    {
     "name": "stdout",
     "output_type": "stream",
     "text": [
      "0.010512481073433467\n",
      "0.027814771763286554\n",
      "-0.24341014136295216\n"
     ]
    },
    {
     "name": "stderr",
     "output_type": "stream",
     "text": [
      "\r",
      " 37%|█████████████████████████████▊                                                   | 39/106 [01:20<01:53,  1.69s/it]"
     ]
    },
    {
     "name": "stdout",
     "output_type": "stream",
     "text": [
      "nan\n",
      "nan\n",
      "nan\n"
     ]
    },
    {
     "name": "stderr",
     "output_type": "stream",
     "text": [
      "\r",
      " 38%|██████████████████████████████▌                                                  | 40/106 [01:22<01:56,  1.76s/it]"
     ]
    },
    {
     "name": "stdout",
     "output_type": "stream",
     "text": [
      "-0.05343954072378961\n",
      "0.03975303685258422\n",
      "1.5597179322628592\n"
     ]
    },
    {
     "name": "stderr",
     "output_type": "stream",
     "text": [
      "\r",
      " 39%|███████████████████████████████▎                                                 | 41/106 [01:25<02:05,  1.92s/it]"
     ]
    },
    {
     "name": "stdout",
     "output_type": "stream",
     "text": [
      "-0.03317607248488796\n",
      "0.029648614998081146\n",
      "4.868477606662562\n"
     ]
    },
    {
     "name": "stderr",
     "output_type": "stream",
     "text": [
      "\r",
      " 40%|████████████████████████████████                                                 | 42/106 [01:27<02:08,  2.01s/it]"
     ]
    },
    {
     "name": "stdout",
     "output_type": "stream",
     "text": [
      "-0.020985168908757998\n",
      "0.04168475878560351\n",
      "5.525940061181218\n"
     ]
    },
    {
     "name": "stderr",
     "output_type": "stream",
     "text": [
      "\r",
      " 41%|████████████████████████████████▊                                                | 43/106 [01:29<02:14,  2.13s/it]"
     ]
    },
    {
     "name": "stdout",
     "output_type": "stream",
     "text": [
      "-0.03269654945381866\n",
      "0.03638972507687009\n",
      "-2.30618600043139\n"
     ]
    },
    {
     "name": "stderr",
     "output_type": "stream",
     "text": [
      "\r",
      " 42%|█████████████████████████████████▌                                               | 44/106 [01:32<02:17,  2.21s/it]"
     ]
    },
    {
     "name": "stdout",
     "output_type": "stream",
     "text": [
      "0.01910997749925696\n",
      "0.017943685933066052\n",
      "1.535775081817088\n"
     ]
    },
    {
     "name": "stderr",
     "output_type": "stream",
     "text": [
      "\r",
      " 42%|██████████████████████████████████▍                                              | 45/106 [01:34<02:18,  2.27s/it]"
     ]
    },
    {
     "name": "stdout",
     "output_type": "stream",
     "text": [
      "-0.040144391710026\n",
      "0.030934657097534558\n",
      "-2.4042637067261077\n"
     ]
    },
    {
     "name": "stderr",
     "output_type": "stream",
     "text": [
      "\r",
      " 43%|███████████████████████████████████▏                                             | 46/106 [01:36<02:18,  2.31s/it]"
     ]
    },
    {
     "name": "stdout",
     "output_type": "stream",
     "text": [
      "0.010752730757907916\n",
      "0.012962538793202253\n",
      "4.303709348705175\n"
     ]
    },
    {
     "name": "stderr",
     "output_type": "stream",
     "text": [
      "\r",
      " 44%|███████████████████████████████████▉                                             | 47/106 [01:37<01:44,  1.78s/it]"
     ]
    },
    {
     "name": "stdout",
     "output_type": "stream",
     "text": [
      "-0.03652282740953527\n",
      "2.41808256913606e-17\n",
      "-0.2869585179792425\n"
     ]
    },
    {
     "name": "stderr",
     "output_type": "stream",
     "text": [
      "\r",
      " 45%|████████████████████████████████████▋                                            | 48/106 [01:40<01:57,  2.02s/it]"
     ]
    },
    {
     "name": "stdout",
     "output_type": "stream",
     "text": [
      "-0.016785492178446167\n",
      "0.02347745839089606\n",
      "-1.7466805831410257\n"
     ]
    },
    {
     "name": "stderr",
     "output_type": "stream",
     "text": [
      "\r",
      " 46%|█████████████████████████████████████▍                                           | 49/106 [01:42<02:01,  2.13s/it]"
     ]
    },
    {
     "name": "stdout",
     "output_type": "stream",
     "text": [
      "-0.03979297514959739\n",
      "0.019216821560131943\n",
      "3.652848849025402\n"
     ]
    },
    {
     "name": "stderr",
     "output_type": "stream",
     "text": [
      "\r",
      " 47%|██████████████████████████████████████▏                                          | 50/106 [01:44<01:52,  2.01s/it]"
     ]
    },
    {
     "name": "stdout",
     "output_type": "stream",
     "text": [
      "0.03211929201354285\n",
      "0.034367543999676065\n",
      "1.6547402101369606\n"
     ]
    },
    {
     "name": "stderr",
     "output_type": "stream",
     "text": [
      "\r",
      " 48%|██████████████████████████████████████▉                                          | 51/106 [01:45<01:33,  1.70s/it]"
     ]
    },
    {
     "name": "stdout",
     "output_type": "stream",
     "text": [
      "-0.005924256790018696\n",
      "0.06643230653061383\n",
      "3.67918870811702\n"
     ]
    },
    {
     "name": "stderr",
     "output_type": "stream",
     "text": [
      "\r",
      " 49%|███████████████████████████████████████▋                                         | 52/106 [01:46<01:31,  1.70s/it]"
     ]
    },
    {
     "name": "stdout",
     "output_type": "stream",
     "text": [
      "0.02966252153353768\n",
      "0.0375374939084866\n",
      "6.981280649025898\n"
     ]
    },
    {
     "name": "stderr",
     "output_type": "stream",
     "text": [
      "\r",
      " 50%|████████████████████████████████████████▌                                        | 53/106 [01:49<01:41,  1.91s/it]"
     ]
    },
    {
     "name": "stdout",
     "output_type": "stream",
     "text": [
      "0.008193168200586695\n",
      "0.015356469304259695\n",
      "1.447060740760398\n"
     ]
    },
    {
     "name": "stderr",
     "output_type": "stream",
     "text": [
      "\r",
      " 51%|█████████████████████████████████████████▎                                       | 54/106 [01:51<01:46,  2.04s/it]"
     ]
    },
    {
     "name": "stdout",
     "output_type": "stream",
     "text": [
      "-0.06971855021353468\n",
      "0.022717119371392706\n",
      "5.145121980045544\n"
     ]
    },
    {
     "name": "stderr",
     "output_type": "stream",
     "text": [
      "\r",
      " 56%|█████████████████████████████████████████████                                    | 59/106 [01:52<00:34,  1.36it/s]"
     ]
    },
    {
     "name": "stdout",
     "output_type": "stream",
     "text": [
      "0.0013194444444444495\n",
      "0.07004734812923522\n",
      "-6.363751102560916\n"
     ]
    },
    {
     "name": "stderr",
     "output_type": "stream",
     "text": [
      "\r",
      " 57%|█████████████████████████████████████████████▊                                   | 60/106 [01:53<00:35,  1.29it/s]"
     ]
    },
    {
     "name": "stdout",
     "output_type": "stream",
     "text": [
      "-0.07164958083949577\n",
      "0.03122728290311259\n",
      "3.81661779648864\n"
     ]
    },
    {
     "name": "stderr",
     "output_type": "stream",
     "text": [
      "\r",
      " 58%|██████████████████████████████████████████████▌                                  | 61/106 [01:55<00:49,  1.09s/it]"
     ]
    },
    {
     "name": "stdout",
     "output_type": "stream",
     "text": [
      "0.025434870305865533\n",
      "0.02144306418919453\n",
      "6.272305315065631\n"
     ]
    },
    {
     "name": "stderr",
     "output_type": "stream",
     "text": [
      "\r",
      " 58%|███████████████████████████████████████████████▍                                 | 62/106 [01:58<00:59,  1.36s/it]"
     ]
    },
    {
     "name": "stdout",
     "output_type": "stream",
     "text": [
      "-0.031123029498397726\n",
      "0.0212133894775907\n",
      "5.191862205957025\n"
     ]
    },
    {
     "name": "stderr",
     "output_type": "stream",
     "text": [
      "\r",
      " 59%|████████████████████████████████████████████████▏                                | 63/106 [01:58<00:51,  1.19s/it]"
     ]
    },
    {
     "name": "stdout",
     "output_type": "stream",
     "text": [
      "-0.0019522415875182113\n",
      "0.07209733815658548\n",
      "-5.827594448675656\n"
     ]
    },
    {
     "name": "stderr",
     "output_type": "stream",
     "text": [
      "\r",
      " 60%|████████████████████████████████████████████████▉                                | 64/106 [02:00<00:51,  1.23s/it]"
     ]
    },
    {
     "name": "stdout",
     "output_type": "stream",
     "text": [
      "0.1042763738271088\n",
      "0.010516845374469676\n",
      "3.1114702363806916\n"
     ]
    },
    {
     "name": "stderr",
     "output_type": "stream",
     "text": [
      "\r",
      " 61%|█████████████████████████████████████████████████▋                               | 65/106 [02:01<00:48,  1.18s/it]"
     ]
    },
    {
     "name": "stdout",
     "output_type": "stream",
     "text": [
      "-0.0484465285145078\n",
      "0.04393052921851034\n",
      "3.1694048677608184\n"
     ]
    },
    {
     "name": "stderr",
     "output_type": "stream",
     "text": [
      "\r",
      " 62%|██████████████████████████████████████████████████▍                              | 66/106 [02:02<00:50,  1.27s/it]"
     ]
    },
    {
     "name": "stdout",
     "output_type": "stream",
     "text": [
      "0.023724175239930468\n",
      "0.0434781878367059\n",
      "2.9071063025727955\n"
     ]
    },
    {
     "name": "stderr",
     "output_type": "stream",
     "text": [
      "\r",
      " 63%|███████████████████████████████████████████████████▏                             | 67/106 [02:02<00:39,  1.02s/it]"
     ]
    },
    {
     "name": "stdout",
     "output_type": "stream",
     "text": [
      "0.22502647114016122\n",
      "5.874748045952207e-17\n",
      "-0.9449111825230679\n"
     ]
    },
    {
     "name": "stderr",
     "output_type": "stream",
     "text": [
      "\r",
      " 64%|███████████████████████████████████████████████████▉                             | 68/106 [02:04<00:47,  1.24s/it]"
     ]
    },
    {
     "name": "stdout",
     "output_type": "stream",
     "text": [
      "0.0005221239838906171\n",
      "0.031977075165049086\n",
      "4.6518488334052925\n"
     ]
    },
    {
     "name": "stderr",
     "output_type": "stream",
     "text": [
      "\r",
      " 65%|████████████████████████████████████████████████████▋                            | 69/106 [02:05<00:37,  1.00s/it]"
     ]
    },
    {
     "name": "stdout",
     "output_type": "stream",
     "text": [
      "-0.20653894310431872\n",
      "0.08151979920645407\n",
      "3.113908062858167\n"
     ]
    },
    {
     "name": "stderr",
     "output_type": "stream",
     "text": [
      "\r",
      " 66%|█████████████████████████████████████████████████████▍                           | 70/106 [02:07<00:49,  1.38s/it]"
     ]
    },
    {
     "name": "stdout",
     "output_type": "stream",
     "text": [
      "0.02058628920404096\n",
      "0.023579862139201463\n",
      "5.482728650217267\n"
     ]
    },
    {
     "name": "stderr",
     "output_type": "stream",
     "text": [
      " 68%|███████████████████████████████████████████████████████                          | 72/106 [02:10<00:41,  1.23s/it]"
     ]
    },
    {
     "name": "stdout",
     "output_type": "stream",
     "text": [
      "-0.04941063548085084\n",
      "0.032434641071570264\n",
      "5.7501906154406495\n",
      "0.0\n",
      "0.0\n",
      "nan\n"
     ]
    },
    {
     "name": "stderr",
     "output_type": "stream",
     "text": [
      "\r",
      " 69%|███████████████████████████████████████████████████████▊                         | 73/106 [02:12<00:52,  1.60s/it]"
     ]
    },
    {
     "name": "stdout",
     "output_type": "stream",
     "text": [
      "0.0276651784346072\n",
      "0.02025122181942138\n",
      "0.4900677428807872\n"
     ]
    },
    {
     "name": "stderr",
     "output_type": "stream",
     "text": [
      "\r",
      " 70%|████████████████████████████████████████████████████████▌                        | 74/106 [02:15<01:00,  1.88s/it]"
     ]
    },
    {
     "name": "stdout",
     "output_type": "stream",
     "text": [
      "0.0007422916077564701\n",
      "0.022233540341639952\n",
      "0.6970555864936543\n"
     ]
    },
    {
     "name": "stderr",
     "output_type": "stream",
     "text": [
      "\r",
      " 71%|█████████████████████████████████████████████████████████▎                       | 75/106 [02:17<01:03,  2.05s/it]"
     ]
    },
    {
     "name": "stdout",
     "output_type": "stream",
     "text": [
      "0.00442719925816138\n",
      "0.020620268019558165\n",
      "3.935032029999661\n"
     ]
    },
    {
     "name": "stderr",
     "output_type": "stream",
     "text": [
      "\r",
      " 72%|██████████████████████████████████████████████████████████                       | 76/106 [02:19<01:00,  2.02s/it]"
     ]
    },
    {
     "name": "stdout",
     "output_type": "stream",
     "text": [
      "-0.07409331723090198\n",
      "0.030868734733142854\n",
      "0.004084408324983614\n"
     ]
    },
    {
     "name": "stderr",
     "output_type": "stream",
     "text": [
      "\r",
      " 73%|██████████████████████████████████████████████████████████▊                      | 77/106 [02:21<01:01,  2.12s/it]"
     ]
    },
    {
     "name": "stdout",
     "output_type": "stream",
     "text": [
      "0.04419271147791466\n",
      "0.025967120668682307\n",
      "-2.3403633795808005\n"
     ]
    },
    {
     "name": "stderr",
     "output_type": "stream",
     "text": [
      "\r",
      " 74%|███████████████████████████████████████████████████████████▌                     | 78/106 [02:24<01:01,  2.21s/it]"
     ]
    },
    {
     "name": "stdout",
     "output_type": "stream",
     "text": [
      "-0.04782139293728044\n",
      "0.02559639196651733\n",
      "5.630282484893517\n"
     ]
    },
    {
     "name": "stderr",
     "output_type": "stream",
     "text": [
      "\r",
      " 75%|████████████████████████████████████████████████████████████▎                    | 79/106 [02:26<01:00,  2.24s/it]"
     ]
    },
    {
     "name": "stdout",
     "output_type": "stream",
     "text": [
      "0.00048381876155139715\n",
      "0.015400641946405929\n",
      "5.943744535719983\n"
     ]
    },
    {
     "name": "stderr",
     "output_type": "stream",
     "text": [
      "\r",
      " 75%|█████████████████████████████████████████████████████████████▏                   | 80/106 [02:28<00:59,  2.27s/it]"
     ]
    },
    {
     "name": "stdout",
     "output_type": "stream",
     "text": [
      "-0.040857599707640094\n",
      "0.03900334209802788\n",
      "3.1368047102718215\n"
     ]
    },
    {
     "name": "stderr",
     "output_type": "stream",
     "text": [
      "\r",
      " 76%|█████████████████████████████████████████████████████████████▉                   | 81/106 [02:31<00:57,  2.31s/it]"
     ]
    },
    {
     "name": "stdout",
     "output_type": "stream",
     "text": [
      "0.07137236270261599\n",
      "0.005618402985529153\n",
      "-1.8446569845254304\n"
     ]
    },
    {
     "name": "stderr",
     "output_type": "stream",
     "text": [
      "\r",
      " 77%|██████████████████████████████████████████████████████████████▋                  | 82/106 [02:33<00:55,  2.32s/it]"
     ]
    },
    {
     "name": "stdout",
     "output_type": "stream",
     "text": [
      "0.03686691883226276\n",
      "0.029724499877130713\n",
      "-1.708575076976134\n"
     ]
    },
    {
     "name": "stderr",
     "output_type": "stream",
     "text": [
      "\r",
      " 78%|███████████████████████████████████████████████████████████████▍                 | 83/106 [02:36<00:55,  2.42s/it]"
     ]
    },
    {
     "name": "stdout",
     "output_type": "stream",
     "text": [
      "0.025664085669894\n",
      "0.022212157850052837\n",
      "0.9013765790580519\n"
     ]
    },
    {
     "name": "stderr",
     "output_type": "stream",
     "text": [
      "\r",
      " 79%|████████████████████████████████████████████████████████████████▏                | 84/106 [02:39<00:55,  2.51s/it]"
     ]
    },
    {
     "name": "stdout",
     "output_type": "stream",
     "text": [
      "0.038232070242030895\n",
      "0.018411671277518356\n",
      "-2.927689524126038\n"
     ]
    },
    {
     "name": "stderr",
     "output_type": "stream",
     "text": [
      "\r",
      " 80%|████████████████████████████████████████████████████████████████▉                | 85/106 [02:41<00:52,  2.49s/it]"
     ]
    },
    {
     "name": "stdout",
     "output_type": "stream",
     "text": [
      "-0.05040078867159034\n",
      "0.024286965121562063\n",
      "0.609734863907251\n"
     ]
    },
    {
     "name": "stderr",
     "output_type": "stream",
     "text": [
      "\r",
      " 81%|█████████████████████████████████████████████████████████████████▋               | 86/106 [02:42<00:43,  2.18s/it]"
     ]
    },
    {
     "name": "stdout",
     "output_type": "stream",
     "text": [
      "0.026854547584081172\n",
      "0.02503377776307512\n",
      "1.6748296191155783\n"
     ]
    },
    {
     "name": "stderr",
     "output_type": "stream",
     "text": [
      "\r",
      " 82%|██████████████████████████████████████████████████████████████████▍              | 87/106 [02:45<00:42,  2.24s/it]"
     ]
    },
    {
     "name": "stdout",
     "output_type": "stream",
     "text": [
      "0.015957464701169932\n",
      "0.03192500745584774\n",
      "0.31794149338751027\n"
     ]
    },
    {
     "name": "stderr",
     "output_type": "stream",
     "text": [
      "\r",
      " 83%|███████████████████████████████████████████████████████████████████▏             | 88/106 [02:47<00:40,  2.28s/it]"
     ]
    },
    {
     "name": "stdout",
     "output_type": "stream",
     "text": [
      "-0.03680382787330856\n",
      "0.01702029434676578\n",
      "3.3217605209233088\n"
     ]
    },
    {
     "name": "stderr",
     "output_type": "stream",
     "text": [
      "\r",
      " 84%|████████████████████████████████████████████████████████████████████             | 89/106 [02:49<00:39,  2.30s/it]"
     ]
    },
    {
     "name": "stdout",
     "output_type": "stream",
     "text": [
      "0.00038838286193168395\n",
      "0.02724983049774542\n",
      "2.2542143652559146\n"
     ]
    },
    {
     "name": "stderr",
     "output_type": "stream",
     "text": [
      "\r",
      " 86%|█████████████████████████████████████████████████████████████████████▌           | 91/106 [02:52<00:26,  1.77s/it]"
     ]
    },
    {
     "name": "stdout",
     "output_type": "stream",
     "text": [
      "-0.032754897197661205\n",
      "0.019669059645183676\n",
      "2.7361030723157778\n"
     ]
    },
    {
     "name": "stderr",
     "output_type": "stream",
     "text": [
      "\r",
      " 88%|███████████████████████████████████████████████████████████████████████          | 93/106 [02:54<00:20,  1.55s/it]"
     ]
    },
    {
     "name": "stdout",
     "output_type": "stream",
     "text": [
      "0.026861379747369452\n",
      "0.00886077653699927\n",
      "-5.223646721923054\n"
     ]
    },
    {
     "name": "stderr",
     "output_type": "stream",
     "text": [
      "\r",
      " 89%|███████████████████████████████████████████████████████████████████████▊         | 94/106 [02:57<00:21,  1.81s/it]"
     ]
    },
    {
     "name": "stdout",
     "output_type": "stream",
     "text": [
      "-0.020532739336199847\n",
      "0.015815276199392395\n",
      "3.380098775196451\n"
     ]
    },
    {
     "name": "stderr",
     "output_type": "stream",
     "text": [
      " 91%|█████████████████████████████████████████████████████████████████████████▎       | 96/106 [02:58<00:11,  1.15s/it]"
     ]
    },
    {
     "name": "stdout",
     "output_type": "stream",
     "text": [
      "0.05924231208975373\n",
      "1.5403719328412454e-17\n",
      "2.2523436567388977\n",
      "0.0\n",
      "0.0\n",
      "nan\n"
     ]
    },
    {
     "name": "stderr",
     "output_type": "stream",
     "text": [
      "\r",
      " 92%|██████████████████████████████████████████████████████████████████████████       | 97/106 [02:58<00:07,  1.14it/s]"
     ]
    },
    {
     "name": "stdout",
     "output_type": "stream",
     "text": [
      "0.0\n",
      "0.0\n",
      "nan\n"
     ]
    },
    {
     "name": "stderr",
     "output_type": "stream",
     "text": [
      "\r",
      " 92%|██████████████████████████████████████████████████████████████████████████▉      | 98/106 [03:00<00:10,  1.33s/it]"
     ]
    },
    {
     "name": "stdout",
     "output_type": "stream",
     "text": [
      "0.004598379335111969\n",
      "0.03772957066651536\n",
      "3.023985092807265\n"
     ]
    },
    {
     "name": "stderr",
     "output_type": "stream",
     "text": [
      "\r",
      " 93%|███████████████████████████████████████████████████████████████████████████▋     | 99/106 [03:03<00:11,  1.62s/it]"
     ]
    },
    {
     "name": "stdout",
     "output_type": "stream",
     "text": [
      "-0.0032015180080419937\n",
      "0.020565499175949895\n",
      "-2.6868337949315007\n"
     ]
    },
    {
     "name": "stderr",
     "output_type": "stream",
     "text": [
      "\r",
      " 94%|███████████████████████████████████████████████████████████████████████████▍    | 100/106 [03:05<00:10,  1.76s/it]"
     ]
    },
    {
     "name": "stdout",
     "output_type": "stream",
     "text": [
      "0.0027442329187211028\n",
      "0.0036259075172480216\n",
      "3.0770711043819445\n"
     ]
    },
    {
     "name": "stderr",
     "output_type": "stream",
     "text": [
      "\r",
      " 95%|████████████████████████████████████████████████████████████████████████████▏   | 101/106 [03:07<00:09,  1.95s/it]"
     ]
    },
    {
     "name": "stdout",
     "output_type": "stream",
     "text": [
      "-0.009753739260743459\n",
      "0.017546511586519608\n",
      "2.9701269642484207\n"
     ]
    },
    {
     "name": "stderr",
     "output_type": "stream",
     "text": [
      "\r",
      " 96%|████████████████████████████████████████████████████████████████████████████▉   | 102/106 [03:10<00:08,  2.08s/it]"
     ]
    },
    {
     "name": "stdout",
     "output_type": "stream",
     "text": [
      "-0.004676499735576299\n",
      "0.016881573450348332\n",
      "4.435324166825534\n"
     ]
    },
    {
     "name": "stderr",
     "output_type": "stream",
     "text": [
      "\r",
      " 97%|█████████████████████████████████████████████████████████████████████████████▋  | 103/106 [03:12<00:06,  2.16s/it]"
     ]
    },
    {
     "name": "stdout",
     "output_type": "stream",
     "text": [
      "-0.06052954902959472\n",
      "0.037413643345142154\n",
      "5.617976985781374\n"
     ]
    },
    {
     "name": "stderr",
     "output_type": "stream",
     "text": [
      "\r",
      " 98%|██████████████████████████████████████████████████████████████████████████████▍ | 104/106 [03:14<00:04,  2.26s/it]"
     ]
    },
    {
     "name": "stdout",
     "output_type": "stream",
     "text": [
      "0.012232369670616774\n",
      "0.0385906090956163\n",
      "-2.2357545679852895\n"
     ]
    },
    {
     "name": "stderr",
     "output_type": "stream",
     "text": [
      "\r",
      " 99%|███████████████████████████████████████████████████████████████████████████████▏| 105/106 [03:17<00:02,  2.28s/it]"
     ]
    },
    {
     "name": "stdout",
     "output_type": "stream",
     "text": [
      "0.0035985944192205616\n",
      "0.0263427238422227\n",
      "2.577443110895824\n"
     ]
    },
    {
     "name": "stderr",
     "output_type": "stream",
     "text": [
      "100%|████████████████████████████████████████████████████████████████████████████████| 106/106 [03:19<00:00,  1.88s/it]\n"
     ]
    },
    {
     "name": "stdout",
     "output_type": "stream",
     "text": [
      "-0.030905428083316817\n",
      "0.017347640073806098\n",
      "5.026813972221763\n"
     ]
    },
    {
     "name": "stderr",
     "output_type": "stream",
     "text": [
      "  4%|███▍                                                                               | 1/24 [00:02<00:55,  2.42s/it]"
     ]
    },
    {
     "name": "stdout",
     "output_type": "stream",
     "text": [
      "-0.002134195001305561\n",
      "0.017722926074764132\n",
      "-4.8661519982058135\n"
     ]
    },
    {
     "name": "stderr",
     "output_type": "stream",
     "text": [
      "\r",
      "  8%|██████▉                                                                            | 2/24 [00:04<00:54,  2.48s/it]"
     ]
    },
    {
     "name": "stdout",
     "output_type": "stream",
     "text": [
      "0.014590765590176413\n",
      "0.017236198121125684\n",
      "-4.580464435196363\n"
     ]
    },
    {
     "name": "stderr",
     "output_type": "stream",
     "text": [
      "\r",
      " 12%|██████████▍                                                                        | 3/24 [00:07<00:52,  2.49s/it]"
     ]
    },
    {
     "name": "stdout",
     "output_type": "stream",
     "text": [
      "0.047789652943650736\n",
      "0.01134209693033124\n",
      "-4.168989420287354\n"
     ]
    },
    {
     "name": "stderr",
     "output_type": "stream",
     "text": [
      "\r",
      " 17%|█████████████▊                                                                     | 4/24 [00:10<00:50,  2.54s/it]"
     ]
    },
    {
     "name": "stdout",
     "output_type": "stream",
     "text": [
      "0.02214708454204701\n",
      "0.0179237706673948\n",
      "-0.4728545801093836\n"
     ]
    },
    {
     "name": "stderr",
     "output_type": "stream",
     "text": [
      "\r",
      " 21%|█████████████████▎                                                                 | 5/24 [00:12<00:48,  2.53s/it]"
     ]
    },
    {
     "name": "stdout",
     "output_type": "stream",
     "text": [
      "0.024913044133554826\n",
      "0.02355672995745677\n",
      "-0.19848181002293167\n"
     ]
    },
    {
     "name": "stderr",
     "output_type": "stream",
     "text": [
      "\r",
      " 25%|████████████████████▊                                                              | 6/24 [00:15<00:45,  2.50s/it]"
     ]
    },
    {
     "name": "stdout",
     "output_type": "stream",
     "text": [
      "0.04801769202056168\n",
      "0.011383925839285183\n",
      "-4.173702627205361\n"
     ]
    },
    {
     "name": "stderr",
     "output_type": "stream",
     "text": [
      "\r",
      " 29%|████████████████████████▏                                                          | 7/24 [00:17<00:41,  2.46s/it]"
     ]
    },
    {
     "name": "stdout",
     "output_type": "stream",
     "text": [
      "0.020320249033851715\n",
      "0.017491652841156186\n",
      "-0.07647828530249276\n"
     ]
    },
    {
     "name": "stderr",
     "output_type": "stream",
     "text": [
      "\r",
      " 33%|███████████████████████████▋                                                       | 8/24 [00:19<00:38,  2.43s/it]"
     ]
    },
    {
     "name": "stdout",
     "output_type": "stream",
     "text": [
      "-0.012844994274551323\n",
      "0.018883151821294488\n",
      "0.3427206225121808\n"
     ]
    },
    {
     "name": "stderr",
     "output_type": "stream",
     "text": [
      "\r",
      " 38%|███████████████████████████████▏                                                   | 9/24 [00:22<00:36,  2.43s/it]"
     ]
    },
    {
     "name": "stdout",
     "output_type": "stream",
     "text": [
      "0.04291895970830303\n",
      "0.011494771816110647\n",
      "-0.3684910774321392\n"
     ]
    },
    {
     "name": "stderr",
     "output_type": "stream",
     "text": [
      "\r",
      " 42%|██████████████████████████████████▏                                               | 10/24 [00:24<00:34,  2.47s/it]"
     ]
    },
    {
     "name": "stdout",
     "output_type": "stream",
     "text": [
      "0.01848904842189009\n",
      "0.021102732604387307\n",
      "1.1920254323789428\n"
     ]
    },
    {
     "name": "stderr",
     "output_type": "stream",
     "text": [
      "\r",
      " 46%|█████████████████████████████████████▌                                            | 11/24 [00:27<00:31,  2.45s/it]"
     ]
    },
    {
     "name": "stdout",
     "output_type": "stream",
     "text": [
      "0.04020887517179035\n",
      "0.013280740045436154\n",
      "-1.6563518790823093\n"
     ]
    },
    {
     "name": "stderr",
     "output_type": "stream",
     "text": [
      "\r",
      " 50%|█████████████████████████████████████████                                         | 12/24 [00:29<00:29,  2.44s/it]"
     ]
    },
    {
     "name": "stdout",
     "output_type": "stream",
     "text": [
      "0.026554546052356638\n",
      "0.0305315949232265\n",
      "-2.319414880925155\n"
     ]
    },
    {
     "name": "stderr",
     "output_type": "stream",
     "text": [
      "\r",
      " 54%|████████████████████████████████████████████▍                                     | 13/24 [00:31<00:26,  2.41s/it]"
     ]
    },
    {
     "name": "stdout",
     "output_type": "stream",
     "text": [
      "0.009237919443998209\n",
      "0.0314296124395032\n",
      "-3.491814311191858\n"
     ]
    },
    {
     "name": "stderr",
     "output_type": "stream",
     "text": [
      "\r",
      " 58%|███████████████████████████████████████████████▊                                  | 14/24 [00:34<00:24,  2.40s/it]"
     ]
    },
    {
     "name": "stdout",
     "output_type": "stream",
     "text": [
      "0.029192058128934384\n",
      "0.01730118038734746\n",
      "1.0778599921605962\n"
     ]
    },
    {
     "name": "stderr",
     "output_type": "stream",
     "text": [
      "\r",
      " 62%|███████████████████████████████████████████████████▎                              | 15/24 [00:36<00:21,  2.42s/it]"
     ]
    },
    {
     "name": "stdout",
     "output_type": "stream",
     "text": [
      "0.04486405478474221\n",
      "0.0121520990223818\n",
      "-2.8149626271356114\n"
     ]
    },
    {
     "name": "stderr",
     "output_type": "stream",
     "text": [
      "\r",
      " 67%|██████████████████████████████████████████████████████▋                           | 16/24 [00:39<00:19,  2.41s/it]"
     ]
    },
    {
     "name": "stdout",
     "output_type": "stream",
     "text": [
      "0.03093308674329517\n",
      "0.012250174824301935\n",
      "-2.704696179946708\n"
     ]
    },
    {
     "name": "stderr",
     "output_type": "stream",
     "text": [
      "\r",
      " 71%|██████████████████████████████████████████████████████████                        | 17/24 [00:41<00:16,  2.40s/it]"
     ]
    },
    {
     "name": "stdout",
     "output_type": "stream",
     "text": [
      "-0.019275527095250475\n",
      "0.016122035621317372\n",
      "1.3189858861247974\n"
     ]
    },
    {
     "name": "stderr",
     "output_type": "stream",
     "text": [
      "\r",
      " 75%|█████████████████████████████████████████████████████████████▌                    | 18/24 [00:43<00:14,  2.40s/it]"
     ]
    },
    {
     "name": "stdout",
     "output_type": "stream",
     "text": [
      "-0.07147259813934848\n",
      "0.019086517655387825\n",
      "5.596648591333064\n"
     ]
    },
    {
     "name": "stderr",
     "output_type": "stream",
     "text": [
      "\r",
      " 79%|████████████████████████████████████████████████████████████████▉                 | 19/24 [00:46<00:11,  2.39s/it]"
     ]
    },
    {
     "name": "stdout",
     "output_type": "stream",
     "text": [
      "0.05059357762705109\n",
      "0.012775900505718793\n",
      "-6.036511086653984\n"
     ]
    },
    {
     "name": "stderr",
     "output_type": "stream",
     "text": [
      "\r",
      " 83%|████████████████████████████████████████████████████████████████████▎             | 20/24 [00:48<00:09,  2.39s/it]"
     ]
    },
    {
     "name": "stdout",
     "output_type": "stream",
     "text": [
      "0.006214787507337549\n",
      "0.04455431726907348\n",
      "-5.381952720493315\n"
     ]
    },
    {
     "name": "stderr",
     "output_type": "stream",
     "text": [
      "\r",
      " 88%|███████████████████████████████████████████████████████████████████████▊          | 21/24 [00:51<00:07,  2.38s/it]"
     ]
    },
    {
     "name": "stdout",
     "output_type": "stream",
     "text": [
      "-0.035249945527473944\n",
      "0.01390524595754961\n",
      "0.8589572949796085\n"
     ]
    },
    {
     "name": "stderr",
     "output_type": "stream",
     "text": [
      "\r",
      " 92%|███████████████████████████████████████████████████████████████████████████▏      | 22/24 [00:53<00:04,  2.42s/it]"
     ]
    },
    {
     "name": "stdout",
     "output_type": "stream",
     "text": [
      "-0.001220847678425639\n",
      "0.014163374851083847\n",
      "3.1903358617941064\n"
     ]
    },
    {
     "name": "stderr",
     "output_type": "stream",
     "text": [
      "\r",
      " 96%|██████████████████████████████████████████████████████████████████████████████▌   | 23/24 [00:56<00:02,  2.43s/it]"
     ]
    },
    {
     "name": "stdout",
     "output_type": "stream",
     "text": [
      "0.02586680386618994\n",
      "0.033891172481305284\n",
      "-5.3341429136020295\n"
     ]
    },
    {
     "name": "stderr",
     "output_type": "stream",
     "text": [
      "100%|██████████████████████████████████████████████████████████████████████████████████| 24/24 [00:58<00:00,  2.43s/it]\n"
     ]
    },
    {
     "name": "stdout",
     "output_type": "stream",
     "text": [
      "-0.007315704884216109\n",
      "0.018701287267087568\n",
      "-1.208121190285826\n"
     ]
    },
    {
     "name": "stderr",
     "output_type": "stream",
     "text": [
      " 12%|██████████▌                                                                         | 1/8 [00:01<00:09,  1.37s/it]"
     ]
    },
    {
     "name": "stdout",
     "output_type": "stream",
     "text": [
      "-0.05392557771837975\n",
      "0.017672387967470907\n",
      "-2.247091096857046\n"
     ]
    },
    {
     "name": "stderr",
     "output_type": "stream",
     "text": [
      "\r",
      " 25%|█████████████████████                                                               | 2/8 [00:02<00:08,  1.37s/it]"
     ]
    },
    {
     "name": "stdout",
     "output_type": "stream",
     "text": [
      "0.12448467078888159\n",
      "0.011230324504392654\n",
      "0.09134344386514454\n"
     ]
    },
    {
     "name": "stderr",
     "output_type": "stream",
     "text": [
      "\r",
      " 38%|███████████████████████████████▌                                                    | 3/8 [00:05<00:08,  1.78s/it]"
     ]
    },
    {
     "name": "stdout",
     "output_type": "stream",
     "text": [
      "0.013374364570163732\n",
      "0.026604540620039308\n",
      "-1.7644297136475837\n"
     ]
    },
    {
     "name": "stderr",
     "output_type": "stream",
     "text": [
      "\r",
      " 50%|██████████████████████████████████████████                                          | 4/8 [00:07<00:07,  1.98s/it]"
     ]
    },
    {
     "name": "stdout",
     "output_type": "stream",
     "text": [
      "-0.01614838608203291\n",
      "0.025776663456623557\n",
      "6.346972112385931\n"
     ]
    },
    {
     "name": "stderr",
     "output_type": "stream",
     "text": [
      "\r",
      " 62%|████████████████████████████████████████████████████▌                               | 5/8 [00:07<00:04,  1.43s/it]"
     ]
    },
    {
     "name": "stdout",
     "output_type": "stream",
     "text": [
      "-0.06602304741366749\n",
      "1.8855414812034334e-17\n",
      "0.0\n"
     ]
    },
    {
     "name": "stderr",
     "output_type": "stream",
     "text": [
      "\r",
      " 75%|███████████████████████████████████████████████████████████████                     | 6/8 [00:10<00:03,  1.76s/it]"
     ]
    },
    {
     "name": "stdout",
     "output_type": "stream",
     "text": [
      "-0.029147433846229403\n",
      "0.022563733557984217\n",
      "5.5878089924699905\n"
     ]
    },
    {
     "name": "stderr",
     "output_type": "stream",
     "text": [
      "\r",
      " 88%|█████████████████████████████████████████████████████████████████████████▌          | 7/8 [00:12<00:01,  1.79s/it]"
     ]
    },
    {
     "name": "stdout",
     "output_type": "stream",
     "text": [
      "0.03659721853672618\n",
      "0.020958586838703448\n",
      "-1.2382474657454912\n"
     ]
    },
    {
     "name": "stderr",
     "output_type": "stream",
     "text": [
      "100%|████████████████████████████████████████████████████████████████████████████████████| 8/8 [00:13<00:00,  1.67s/it]\n"
     ]
    },
    {
     "name": "stdout",
     "output_type": "stream",
     "text": [
      "0.021725179510377873\n",
      "0.022142646948877194\n",
      "-3.4558487740821593\n"
     ]
    },
    {
     "name": "stderr",
     "output_type": "stream",
     "text": [
      "  0%|▎                                                                                 | 1/284 [00:00<02:35,  1.82it/s]"
     ]
    },
    {
     "name": "stdout",
     "output_type": "stream",
     "text": [
      "-0.1792738538873832\n",
      "5.312130038427314e-17\n",
      "1.0449885607034615\n"
     ]
    },
    {
     "name": "stderr",
     "output_type": "stream",
     "text": [
      "\r",
      "  1%|▊                                                                                 | 3/284 [00:02<04:35,  1.02it/s]"
     ]
    },
    {
     "name": "stdout",
     "output_type": "stream",
     "text": [
      "-0.03196074015926183\n",
      "0.04381853254643195\n",
      "0.9969067897683583\n"
     ]
    },
    {
     "name": "stderr",
     "output_type": "stream",
     "text": [
      "\r",
      "  1%|█▏                                                                                | 4/284 [00:03<03:20,  1.40it/s]"
     ]
    },
    {
     "name": "stdout",
     "output_type": "stream",
     "text": [
      "0.23248454106231792\n",
      "4.759899144495757e-17\n",
      "-1.166225366254865\n"
     ]
    },
    {
     "name": "stderr",
     "output_type": "stream",
     "text": [
      "\r",
      "  2%|█▍                                                                                | 5/284 [00:05<05:51,  1.26s/it]"
     ]
    },
    {
     "name": "stdout",
     "output_type": "stream",
     "text": [
      "0.023406505751305418\n",
      "0.02706349321486994\n",
      "1.5906631203017378\n"
     ]
    },
    {
     "name": "stderr",
     "output_type": "stream",
     "text": [
      "\r",
      "  2%|█▋                                                                                | 6/284 [00:05<04:46,  1.03s/it]"
     ]
    },
    {
     "name": "stdout",
     "output_type": "stream",
     "text": [
      "0.09045718420336768\n",
      "2.030145334942473e-17\n",
      "-1.3671718540493263\n"
     ]
    },
    {
     "name": "stderr",
     "output_type": "stream",
     "text": [
      "\r",
      "  2%|██                                                                                | 7/284 [00:08<06:31,  1.41s/it]"
     ]
    },
    {
     "name": "stdout",
     "output_type": "stream",
     "text": [
      "0.01648674998475414\n",
      "0.0301981754183533\n",
      "0.8109102630913538\n"
     ]
    },
    {
     "name": "stderr",
     "output_type": "stream",
     "text": [
      "\r",
      "  3%|██▎                                                                               | 8/284 [00:08<05:00,  1.09s/it]"
     ]
    },
    {
     "name": "stdout",
     "output_type": "stream",
     "text": [
      "0.31100260754932274\n",
      "0.0\n",
      "nan\n"
     ]
    },
    {
     "name": "stderr",
     "output_type": "stream",
     "text": [
      "\r",
      "  3%|██▌                                                                               | 9/284 [00:10<06:43,  1.47s/it]"
     ]
    },
    {
     "name": "stdout",
     "output_type": "stream",
     "text": [
      "0.016094272135751833\n",
      "0.03468074410805048\n",
      "5.511081710394155\n"
     ]
    },
    {
     "name": "stderr",
     "output_type": "stream",
     "text": [
      "\r",
      "  4%|██▊                                                                              | 10/284 [00:11<05:28,  1.20s/it]"
     ]
    },
    {
     "name": "stdout",
     "output_type": "stream",
     "text": [
      "-0.002740253380023166\n",
      "0.0716227317904944\n",
      "-2.000123819106617\n"
     ]
    },
    {
     "name": "stderr",
     "output_type": "stream",
     "text": [
      "\r",
      "  4%|███▏                                                                             | 11/284 [00:12<04:49,  1.06s/it]"
     ]
    },
    {
     "name": "stdout",
     "output_type": "stream",
     "text": [
      "0.010115302674552051\n",
      "0.07672739942729845\n",
      "1.660676192493821\n"
     ]
    },
    {
     "name": "stderr",
     "output_type": "stream",
     "text": [
      "\r",
      "  4%|███▍                                                                             | 12/284 [00:12<04:07,  1.10it/s]"
     ]
    },
    {
     "name": "stdout",
     "output_type": "stream",
     "text": [
      "7.45931094670027e-19\n",
      "8.881225137661213e-18\n",
      "-0.8652888401611877\n"
     ]
    },
    {
     "name": "stderr",
     "output_type": "stream",
     "text": [
      "\r",
      "  5%|███▋                                                                             | 13/284 [00:15<05:57,  1.32s/it]"
     ]
    },
    {
     "name": "stdout",
     "output_type": "stream",
     "text": [
      "0.018700058789664516\n",
      "0.016962079265332396\n",
      "-2.500625117661799\n"
     ]
    },
    {
     "name": "stderr",
     "output_type": "stream",
     "text": [
      "\r",
      "  5%|███▉                                                                             | 14/284 [00:17<07:26,  1.66s/it]"
     ]
    },
    {
     "name": "stdout",
     "output_type": "stream",
     "text": [
      "-0.025491684277095104\n",
      "0.021071929135225376\n",
      "1.400411930995849\n"
     ]
    },
    {
     "name": "stderr",
     "output_type": "stream",
     "text": [
      "\r",
      "  5%|████▎                                                                            | 15/284 [00:18<05:55,  1.32s/it]"
     ]
    },
    {
     "name": "stdout",
     "output_type": "stream",
     "text": [
      "0.03496166273948514\n",
      "1.489520491948364e-17\n",
      "-1.3975424859373684\n"
     ]
    },
    {
     "name": "stderr",
     "output_type": "stream",
     "text": [
      "\r",
      "  6%|████▌                                                                            | 16/284 [00:20<07:17,  1.63s/it]"
     ]
    },
    {
     "name": "stdout",
     "output_type": "stream",
     "text": [
      "0.0163215505972317\n",
      "0.014009363899843636\n",
      "0.8230898616812486\n"
     ]
    },
    {
     "name": "stderr",
     "output_type": "stream",
     "text": [
      "\r",
      "  6%|████▊                                                                            | 17/284 [00:20<05:49,  1.31s/it]"
     ]
    },
    {
     "name": "stdout",
     "output_type": "stream",
     "text": [
      "-0.15810793250330712\n",
      "2.6272671962866384e-17\n",
      "1.0564428184106458\n"
     ]
    },
    {
     "name": "stderr",
     "output_type": "stream",
     "text": [
      "\r",
      "  6%|█████▏                                                                           | 18/284 [00:23<07:14,  1.63s/it]"
     ]
    },
    {
     "name": "stdout",
     "output_type": "stream",
     "text": [
      "0.06527817400570624\n",
      "0.021413942438907107\n",
      "-1.612541776844079\n"
     ]
    },
    {
     "name": "stderr",
     "output_type": "stream",
     "text": [
      "\r",
      "  7%|█████▍                                                                           | 19/284 [00:25<08:20,  1.89s/it]"
     ]
    },
    {
     "name": "stdout",
     "output_type": "stream",
     "text": [
      "0.033959092478529816\n",
      "0.0141576345591592\n",
      "0.8567511388136393\n"
     ]
    },
    {
     "name": "stderr",
     "output_type": "stream",
     "text": [
      "\r",
      "  7%|█████▋                                                                           | 20/284 [00:26<06:32,  1.49s/it]"
     ]
    },
    {
     "name": "stdout",
     "output_type": "stream",
     "text": [
      "0.0705297693567097\n",
      "1.9204571964773276e-17\n",
      "-0.7226293735299242\n"
     ]
    },
    {
     "name": "stderr",
     "output_type": "stream",
     "text": [
      "\r",
      "  7%|█████▉                                                                           | 21/284 [00:27<05:32,  1.26s/it]"
     ]
    },
    {
     "name": "stdout",
     "output_type": "stream",
     "text": [
      "-0.0009353012820268571\n",
      "0.03458084046896481\n",
      "0.027046805957947895\n"
     ]
    },
    {
     "name": "stderr",
     "output_type": "stream",
     "text": [
      "\r",
      "  8%|██████▎                                                                          | 22/284 [00:27<04:38,  1.06s/it]"
     ]
    },
    {
     "name": "stdout",
     "output_type": "stream",
     "text": [
      "0.08061343809544733\n",
      "2.6044433693462878e-17\n",
      "1.5985513032634415\n"
     ]
    },
    {
     "name": "stderr",
     "output_type": "stream",
     "text": [
      "\r",
      "  8%|██████▌                                                                          | 23/284 [00:29<05:39,  1.30s/it]"
     ]
    },
    {
     "name": "stdout",
     "output_type": "stream",
     "text": [
      "-0.0016353647667274379\n",
      "0.0341378520820923\n",
      "3.687663633812025\n"
     ]
    },
    {
     "name": "stderr",
     "output_type": "stream",
     "text": [
      "\r",
      "  8%|██████▊                                                                          | 24/284 [00:30<05:45,  1.33s/it]"
     ]
    },
    {
     "name": "stdout",
     "output_type": "stream",
     "text": [
      "0.010844767231136507\n",
      "0.028938292190608852\n",
      "3.207112834897609\n"
     ]
    },
    {
     "name": "stderr",
     "output_type": "stream",
     "text": [
      "\r",
      "  9%|███████▏                                                                         | 25/284 [00:31<04:49,  1.12s/it]"
     ]
    },
    {
     "name": "stdout",
     "output_type": "stream",
     "text": [
      "0.0007288042403539542\n",
      "0.06868457353378916\n",
      "-1.2188578603879197\n"
     ]
    },
    {
     "name": "stderr",
     "output_type": "stream",
     "text": [
      "\r",
      "  9%|███████▍                                                                         | 26/284 [00:32<04:13,  1.02it/s]"
     ]
    },
    {
     "name": "stdout",
     "output_type": "stream",
     "text": [
      "0.001926337710091543\n",
      "0.08148935856957903\n",
      "-5.252136435857528\n"
     ]
    },
    {
     "name": "stderr",
     "output_type": "stream",
     "text": [
      "\r",
      " 10%|███████▋                                                                         | 27/284 [00:32<03:38,  1.17it/s]"
     ]
    },
    {
     "name": "stdout",
     "output_type": "stream",
     "text": [
      "0.1314193383561417\n",
      "2.0129969207603734e-17\n",
      "-1.3788185828493342\n"
     ]
    },
    {
     "name": "stderr",
     "output_type": "stream",
     "text": [
      " 10%|████████▎                                                                        | 29/284 [00:35<03:59,  1.06it/s]"
     ]
    },
    {
     "name": "stdout",
     "output_type": "stream",
     "text": [
      "-0.019877425515211218\n",
      "0.018737396639428625\n",
      "2.660011250271315\n",
      "0.0\n",
      "0.0\n",
      "nan\n"
     ]
    },
    {
     "name": "stderr",
     "output_type": "stream",
     "text": [
      "\r",
      " 11%|████████▌                                                                        | 30/284 [00:37<05:44,  1.36s/it]"
     ]
    },
    {
     "name": "stdout",
     "output_type": "stream",
     "text": [
      "0.036367376069596134\n",
      "0.008031149640026842\n",
      "1.929237246220292\n"
     ]
    },
    {
     "name": "stderr",
     "output_type": "stream",
     "text": [
      "\r",
      " 11%|████████▊                                                                        | 31/284 [00:37<04:21,  1.03s/it]"
     ]
    },
    {
     "name": "stdout",
     "output_type": "stream",
     "text": [
      "nan\n",
      "nan\n",
      "nan\n"
     ]
    },
    {
     "name": "stderr",
     "output_type": "stream",
     "text": [
      "\r",
      " 11%|█████████▏                                                                       | 32/284 [00:39<05:39,  1.35s/it]"
     ]
    },
    {
     "name": "stdout",
     "output_type": "stream",
     "text": [
      "0.02517475739223319\n",
      "0.021382266241610156\n",
      "-0.9522727457713682\n"
     ]
    },
    {
     "name": "stderr",
     "output_type": "stream",
     "text": [
      "\r",
      " 12%|█████████▍                                                                       | 33/284 [00:40<04:43,  1.13s/it]"
     ]
    },
    {
     "name": "stdout",
     "output_type": "stream",
     "text": [
      "-0.0020588235294117596\n",
      "0.1138850722815827\n",
      "-4.114054655084726\n"
     ]
    },
    {
     "name": "stderr",
     "output_type": "stream",
     "text": [
      " 12%|█████████▉                                                                       | 35/284 [00:41<03:15,  1.27it/s]"
     ]
    },
    {
     "name": "stdout",
     "output_type": "stream",
     "text": [
      "-0.0021241501063440243\n",
      "0.10157749181959785\n",
      "-3.117609867909777\n",
      "0.0\n",
      "0.0\n",
      "nan\n"
     ]
    },
    {
     "name": "stderr",
     "output_type": "stream",
     "text": [
      "\r",
      " 13%|██████████▎                                                                      | 36/284 [00:43<04:22,  1.06s/it]"
     ]
    },
    {
     "name": "stdout",
     "output_type": "stream",
     "text": [
      "0.0006282956952001835\n",
      "0.018557615239576882\n",
      "-2.984313041866637\n"
     ]
    },
    {
     "name": "stderr",
     "output_type": "stream",
     "text": [
      "\r",
      " 13%|██████████▌                                                                      | 37/284 [00:44<04:40,  1.14s/it]"
     ]
    },
    {
     "name": "stdout",
     "output_type": "stream",
     "text": [
      "-0.0005991639839652726\n",
      "0.047419522352953915\n",
      "2.925603468654297\n"
     ]
    },
    {
     "name": "stderr",
     "output_type": "stream",
     "text": [
      "\r",
      " 13%|██████████▊                                                                      | 38/284 [00:45<03:56,  1.04it/s]"
     ]
    },
    {
     "name": "stdout",
     "output_type": "stream",
     "text": [
      "0.19985089702800865\n",
      "2.6140389137665707e-17\n",
      "0.0\n"
     ]
    },
    {
     "name": "stderr",
     "output_type": "stream",
     "text": [
      " 14%|███████████▍                                                                     | 40/284 [00:47<04:01,  1.01it/s]"
     ]
    },
    {
     "name": "stdout",
     "output_type": "stream",
     "text": [
      "0.004852362817650898\n",
      "0.018063061223256516\n",
      "1.1457124934554694\n",
      "0.0\n",
      "0.0\n",
      "nan\n"
     ]
    },
    {
     "name": "stderr",
     "output_type": "stream",
     "text": [
      "\r",
      " 14%|███████████▋                                                                     | 41/284 [00:49<05:41,  1.40s/it]"
     ]
    },
    {
     "name": "stdout",
     "output_type": "stream",
     "text": [
      "0.013403525610827593\n",
      "0.02008597160807932\n",
      "-3.106897029719828\n"
     ]
    },
    {
     "name": "stderr",
     "output_type": "stream",
     "text": [
      "\r",
      " 15%|███████████▉                                                                     | 42/284 [00:52<06:48,  1.69s/it]"
     ]
    },
    {
     "name": "stdout",
     "output_type": "stream",
     "text": [
      "-0.04220067194215939\n",
      "0.013569033310636552\n",
      "-0.7516749685221992\n"
     ]
    },
    {
     "name": "stderr",
     "output_type": "stream",
     "text": [
      "\r",
      " 15%|████████████▎                                                                    | 43/284 [00:52<05:10,  1.29s/it]"
     ]
    },
    {
     "name": "stdout",
     "output_type": "stream",
     "text": [
      "0.02921303827851135\n",
      "2.2201207647722756e-17\n",
      "-0.6250915728558551\n"
     ]
    },
    {
     "name": "stderr",
     "output_type": "stream",
     "text": [
      "\r",
      " 15%|████████████▌                                                                    | 44/284 [00:54<06:11,  1.55s/it]"
     ]
    },
    {
     "name": "stdout",
     "output_type": "stream",
     "text": [
      "-0.005280572195718141\n",
      "0.03292416470182157\n",
      "-0.01713649680223776\n"
     ]
    },
    {
     "name": "stderr",
     "output_type": "stream",
     "text": [
      "\r",
      " 16%|████████████▊                                                                    | 45/284 [00:57<07:01,  1.76s/it]"
     ]
    },
    {
     "name": "stdout",
     "output_type": "stream",
     "text": [
      "-0.005849863358598652\n",
      "0.022252006095825786\n",
      "-0.5793779929589835\n"
     ]
    },
    {
     "name": "stderr",
     "output_type": "stream",
     "text": [
      "\r",
      " 16%|█████████████                                                                    | 46/284 [00:59<07:33,  1.91s/it]"
     ]
    },
    {
     "name": "stdout",
     "output_type": "stream",
     "text": [
      "-0.015389795351355042\n",
      "0.012767118943588717\n",
      "4.025854372724178\n"
     ]
    },
    {
     "name": "stderr",
     "output_type": "stream",
     "text": [
      "\r",
      " 17%|█████████████▍                                                                   | 47/284 [01:01<07:56,  2.01s/it]"
     ]
    },
    {
     "name": "stdout",
     "output_type": "stream",
     "text": [
      "-0.005441189306865534\n",
      "0.026772453292558146\n",
      "-2.32378858945807\n"
     ]
    },
    {
     "name": "stderr",
     "output_type": "stream",
     "text": [
      "\r",
      " 17%|█████████████▋                                                                   | 48/284 [01:03<07:46,  1.98s/it]"
     ]
    },
    {
     "name": "stdout",
     "output_type": "stream",
     "text": [
      "0.004611089290216764\n",
      "0.0354444589261066\n",
      "-2.33917852389326\n"
     ]
    },
    {
     "name": "stderr",
     "output_type": "stream",
     "text": [
      "\r",
      " 17%|█████████████▉                                                                   | 49/284 [01:03<06:03,  1.55s/it]"
     ]
    },
    {
     "name": "stdout",
     "output_type": "stream",
     "text": [
      "-0.04832320256120627\n",
      "1.1265823686491763e-17\n",
      "0.6159242410501488\n"
     ]
    },
    {
     "name": "stderr",
     "output_type": "stream",
     "text": [
      "\r",
      " 18%|██████████████▎                                                                  | 50/284 [01:04<04:55,  1.26s/it]"
     ]
    },
    {
     "name": "stdout",
     "output_type": "stream",
     "text": [
      "-0.0008742331521318307\n",
      "0.013868235009725255\n",
      "-4.05376344506154\n"
     ]
    },
    {
     "name": "stderr",
     "output_type": "stream",
     "text": [
      " 18%|██████████████▊                                                                  | 52/284 [01:07<04:29,  1.16s/it]"
     ]
    },
    {
     "name": "stdout",
     "output_type": "stream",
     "text": [
      "0.013660598388983486\n",
      "0.023429149668038288\n",
      "-2.620597455554895\n",
      "0.0\n",
      "0.0\n",
      "nan\n"
     ]
    },
    {
     "name": "stderr",
     "output_type": "stream",
     "text": [
      "\r",
      " 19%|███████████████                                                                  | 53/284 [01:07<03:41,  1.05it/s]"
     ]
    },
    {
     "name": "stdout",
     "output_type": "stream",
     "text": [
      "0.09862918431814403\n",
      "1.266609507178344e-17\n",
      "1.0956642697819579\n"
     ]
    },
    {
     "name": "stderr",
     "output_type": "stream",
     "text": [
      "\r",
      " 19%|███████████████▍                                                                 | 54/284 [01:08<03:11,  1.20it/s]"
     ]
    },
    {
     "name": "stdout",
     "output_type": "stream",
     "text": [
      "0.15964835488121223\n",
      "0.025324851588669626\n",
      "0.37545687508081405\n"
     ]
    },
    {
     "name": "stderr",
     "output_type": "stream",
     "text": [
      "\r",
      " 19%|███████████████▋                                                                 | 55/284 [01:08<02:51,  1.34it/s]"
     ]
    },
    {
     "name": "stdout",
     "output_type": "stream",
     "text": [
      "-0.030395818760839535\n",
      "9.443016277923544e-18\n",
      "0.0\n"
     ]
    },
    {
     "name": "stderr",
     "output_type": "stream",
     "text": [
      "\r",
      " 20%|███████████████▉                                                                 | 56/284 [01:09<03:02,  1.25it/s]"
     ]
    },
    {
     "name": "stdout",
     "output_type": "stream",
     "text": [
      "0.052488292356014585\n",
      "0.044055365092763636\n",
      "1.1600478441339381\n"
     ]
    },
    {
     "name": "stderr",
     "output_type": "stream",
     "text": [
      "\r",
      " 20%|████████████████▌                                                                | 58/284 [01:10<02:05,  1.81it/s]"
     ]
    },
    {
     "name": "stdout",
     "output_type": "stream",
     "text": [
      "0.012151450643222624\n",
      "1.2547579993294262e-17\n",
      "-0.1382516371207744\n"
     ]
    },
    {
     "name": "stderr",
     "output_type": "stream",
     "text": [
      "\r",
      " 21%|████████████████▊                                                                | 59/284 [01:10<02:09,  1.74it/s]"
     ]
    },
    {
     "name": "stdout",
     "output_type": "stream",
     "text": [
      "0.03923887309870284\n",
      "0.09236657417988477\n",
      "1.2842217178618422\n"
     ]
    },
    {
     "name": "stderr",
     "output_type": "stream",
     "text": [
      "\r",
      " 21%|█████████████████                                                                | 60/284 [01:11<02:06,  1.77it/s]"
     ]
    },
    {
     "name": "stdout",
     "output_type": "stream",
     "text": [
      "0.04653645341124883\n",
      "1.0854435238550607e-17\n",
      "2.5570722940104913\n"
     ]
    },
    {
     "name": "stderr",
     "output_type": "stream",
     "text": [
      "\r",
      " 21%|█████████████████▍                                                               | 61/284 [01:13<03:56,  1.06s/it]"
     ]
    },
    {
     "name": "stdout",
     "output_type": "stream",
     "text": [
      "0.016058975798850312\n",
      "0.019181717225647325\n",
      "1.989771806993687\n"
     ]
    },
    {
     "name": "stderr",
     "output_type": "stream",
     "text": [
      "\r",
      " 22%|█████████████████▋                                                               | 62/284 [01:16<05:16,  1.43s/it]"
     ]
    },
    {
     "name": "stdout",
     "output_type": "stream",
     "text": [
      "0.031874660061610945\n",
      "0.01954213677131248\n",
      "-4.614104668034164\n"
     ]
    },
    {
     "name": "stderr",
     "output_type": "stream",
     "text": [
      "\r",
      " 22%|█████████████████▉                                                               | 63/284 [01:18<06:09,  1.67s/it]"
     ]
    },
    {
     "name": "stdout",
     "output_type": "stream",
     "text": [
      "0.0075217695048399305\n",
      "0.015897863444920366\n",
      "1.5880494160515337\n"
     ]
    },
    {
     "name": "stderr",
     "output_type": "stream",
     "text": [
      "\r",
      " 23%|██████████████████▎                                                              | 64/284 [01:18<04:38,  1.27s/it]"
     ]
    },
    {
     "name": "stdout",
     "output_type": "stream",
     "text": [
      "0.10217966824046389\n",
      "2.6085073305475116e-17\n",
      "1.0640405449734032\n"
     ]
    },
    {
     "name": "stderr",
     "output_type": "stream",
     "text": [
      "\r",
      " 23%|██████████████████▌                                                              | 65/284 [01:20<05:41,  1.56s/it]"
     ]
    },
    {
     "name": "stdout",
     "output_type": "stream",
     "text": [
      "0.014457387493645278\n",
      "0.006568022710151351\n",
      "-0.6661934715669247\n"
     ]
    },
    {
     "name": "stderr",
     "output_type": "stream",
     "text": [
      "\r",
      " 24%|███████████████████                                                              | 67/284 [01:21<03:29,  1.03it/s]"
     ]
    },
    {
     "name": "stdout",
     "output_type": "stream",
     "text": [
      "-0.1652608787249466\n",
      "2.5133742693021533e-17\n",
      "1.1043152607484654\n"
     ]
    },
    {
     "name": "stderr",
     "output_type": "stream",
     "text": [
      "\r",
      " 24%|███████████████████▍                                                             | 68/284 [01:21<03:03,  1.17it/s]"
     ]
    },
    {
     "name": "stdout",
     "output_type": "stream",
     "text": [
      "0.021181623661922104\n",
      "9.409815577002727e-18\n",
      "0.0\n"
     ]
    },
    {
     "name": "stderr",
     "output_type": "stream",
     "text": [
      "\r",
      " 24%|███████████████████▋                                                             | 69/284 [01:24<04:19,  1.21s/it]"
     ]
    },
    {
     "name": "stdout",
     "output_type": "stream",
     "text": [
      "0.00027733355900215684\n",
      "0.02337171723693433\n",
      "-0.01915637010843613\n"
     ]
    },
    {
     "name": "stderr",
     "output_type": "stream",
     "text": [
      "\r",
      " 25%|███████████████████▉                                                             | 70/284 [01:24<03:45,  1.05s/it]"
     ]
    },
    {
     "name": "stdout",
     "output_type": "stream",
     "text": [
      "-0.5032772931739267\n",
      "8.293299112775142e-17\n",
      "0.0\n"
     ]
    },
    {
     "name": "stderr",
     "output_type": "stream",
     "text": [
      "\r",
      " 25%|████████████████████▎                                                            | 71/284 [01:25<03:56,  1.11s/it]"
     ]
    },
    {
     "name": "stdout",
     "output_type": "stream",
     "text": [
      "-0.029985222998724196\n",
      "0.02333584209917529\n",
      "-2.3670954322899207\n"
     ]
    },
    {
     "name": "stderr",
     "output_type": "stream",
     "text": [
      "\r",
      " 25%|████████████████████▌                                                            | 72/284 [01:28<05:02,  1.43s/it]"
     ]
    },
    {
     "name": "stdout",
     "output_type": "stream",
     "text": [
      "-0.0025525021469681585\n",
      "0.02818629505042639\n",
      "3.246562211675385\n"
     ]
    },
    {
     "name": "stderr",
     "output_type": "stream",
     "text": [
      "\r",
      " 26%|████████████████████▊                                                            | 73/284 [01:28<04:14,  1.21s/it]"
     ]
    },
    {
     "name": "stdout",
     "output_type": "stream",
     "text": [
      "-0.0007671525562085093\n",
      "0.030386029133233523\n",
      "-6.055723052998795\n"
     ]
    },
    {
     "name": "stderr",
     "output_type": "stream",
     "text": [
      "\r",
      " 26%|█████████████████████                                                            | 74/284 [01:29<03:31,  1.01s/it]"
     ]
    },
    {
     "name": "stdout",
     "output_type": "stream",
     "text": [
      "0.053613429140280604\n",
      "7.234441667379946e-18\n",
      "0.9591471219119313\n"
     ]
    },
    {
     "name": "stderr",
     "output_type": "stream",
     "text": [
      "\r",
      " 26%|█████████████████████▍                                                           | 75/284 [01:29<03:04,  1.13it/s]"
     ]
    },
    {
     "name": "stdout",
     "output_type": "stream",
     "text": [
      "-0.00016987614458221514\n",
      "0.026903832951884154\n",
      "-1.5879685064725286\n"
     ]
    },
    {
     "name": "stderr",
     "output_type": "stream",
     "text": [
      "\r",
      " 27%|█████████████████████▋                                                           | 76/284 [01:32<04:34,  1.32s/it]"
     ]
    },
    {
     "name": "stdout",
     "output_type": "stream",
     "text": [
      "0.05487208185667581\n",
      "0.00872059042487601\n",
      "-1.931162837752643\n"
     ]
    },
    {
     "name": "stderr",
     "output_type": "stream",
     "text": [
      "\r",
      " 27%|█████████████████████▉                                                           | 77/284 [01:34<05:35,  1.62s/it]"
     ]
    },
    {
     "name": "stdout",
     "output_type": "stream",
     "text": [
      "0.003509435355612457\n",
      "0.0321792061933292\n",
      "2.04566047144393\n"
     ]
    },
    {
     "name": "stderr",
     "output_type": "stream",
     "text": [
      "\r",
      " 27%|██████████████████████▏                                                          | 78/284 [01:35<04:27,  1.30s/it]"
     ]
    },
    {
     "name": "stdout",
     "output_type": "stream",
     "text": [
      "0.13548249507700752\n",
      "2.7797177800779684e-17\n",
      "-0.9985033665845889\n"
     ]
    },
    {
     "name": "stderr",
     "output_type": "stream",
     "text": [
      "\r",
      " 28%|██████████████████████▌                                                          | 79/284 [01:37<05:26,  1.59s/it]"
     ]
    },
    {
     "name": "stdout",
     "output_type": "stream",
     "text": [
      "-0.02222132192314825\n",
      "0.049097897466878745\n",
      "-4.088089778593049\n"
     ]
    },
    {
     "name": "stderr",
     "output_type": "stream",
     "text": [
      "\r",
      " 28%|██████████████████████▊                                                          | 80/284 [01:39<06:04,  1.79s/it]"
     ]
    },
    {
     "name": "stdout",
     "output_type": "stream",
     "text": [
      "-0.04321064892107758\n",
      "0.005528057798698742\n",
      "1.382266494906659\n"
     ]
    },
    {
     "name": "stderr",
     "output_type": "stream",
     "text": [
      "\r",
      " 29%|███████████████████████                                                          | 81/284 [01:40<04:49,  1.43s/it]"
     ]
    },
    {
     "name": "stdout",
     "output_type": "stream",
     "text": [
      "0.021293017392591432\n",
      "0.11117267723619403\n",
      "-0.8343774303969659\n"
     ]
    },
    {
     "name": "stderr",
     "output_type": "stream",
     "text": [
      "\r",
      " 29%|███████████████████████▋                                                         | 83/284 [01:40<03:01,  1.11it/s]"
     ]
    },
    {
     "name": "stdout",
     "output_type": "stream",
     "text": [
      "-0.017695001493433962\n",
      "1.3161510606137863e-17\n",
      "1.3180276397511848\n"
     ]
    },
    {
     "name": "stderr",
     "output_type": "stream",
     "text": [
      "\r",
      " 30%|███████████████████████▉                                                         | 84/284 [01:43<04:07,  1.24s/it]"
     ]
    },
    {
     "name": "stdout",
     "output_type": "stream",
     "text": [
      "0.013805992911811149\n",
      "0.02679038082507971\n",
      "-1.8330960075789657\n"
     ]
    },
    {
     "name": "stderr",
     "output_type": "stream",
     "text": [
      "\r",
      " 30%|████████████████████████▏                                                        | 85/284 [01:43<03:30,  1.06s/it]"
     ]
    },
    {
     "name": "stdout",
     "output_type": "stream",
     "text": [
      "0.20403006877798543\n",
      "2.8250758732360986e-17\n",
      "-0.9824718648648242\n"
     ]
    },
    {
     "name": "stderr",
     "output_type": "stream",
     "text": [
      "\r",
      " 30%|████████████████████████▌                                                        | 86/284 [01:44<03:01,  1.09it/s]"
     ]
    },
    {
     "name": "stdout",
     "output_type": "stream",
     "text": [
      "-0.03679664796958249\n",
      "1.8140928290668284e-17\n",
      "-0.3824993844155486\n"
     ]
    },
    {
     "name": "stderr",
     "output_type": "stream",
     "text": [
      "\r",
      " 31%|████████████████████████▊                                                        | 87/284 [01:44<02:43,  1.21it/s]"
     ]
    },
    {
     "name": "stdout",
     "output_type": "stream",
     "text": [
      "nan\n",
      "nan\n",
      "nan\n"
     ]
    },
    {
     "name": "stderr",
     "output_type": "stream",
     "text": [
      "\r",
      " 31%|█████████████████████████                                                        | 88/284 [01:47<04:00,  1.23s/it]"
     ]
    },
    {
     "name": "stdout",
     "output_type": "stream",
     "text": [
      "0.014834992839054973\n",
      "0.02527794140529922\n",
      "1.7037397359601079\n"
     ]
    },
    {
     "name": "stderr",
     "output_type": "stream",
     "text": [
      "\r",
      " 31%|█████████████████████████▍                                                       | 89/284 [01:47<03:19,  1.03s/it]"
     ]
    },
    {
     "name": "stdout",
     "output_type": "stream",
     "text": [
      "-0.03501032649499136\n",
      "1.1664773918553167e-17\n",
      "0.5948588418735414\n"
     ]
    },
    {
     "name": "stderr",
     "output_type": "stream",
     "text": [
      "\r",
      " 32%|█████████████████████████▋                                                       | 90/284 [01:49<04:25,  1.37s/it]"
     ]
    },
    {
     "name": "stdout",
     "output_type": "stream",
     "text": [
      "-0.013916730627021671\n",
      "0.011837459537702094\n",
      "-4.607140072775324\n"
     ]
    },
    {
     "name": "stderr",
     "output_type": "stream",
     "text": [
      "\r",
      " 33%|██████████████████████████▌                                                      | 93/284 [01:50<02:14,  1.42it/s]"
     ]
    },
    {
     "name": "stdout",
     "output_type": "stream",
     "text": [
      "0.23795465530579654\n",
      "7.455872981401519e-17\n",
      "0.7445291969126747\n"
     ]
    },
    {
     "name": "stderr",
     "output_type": "stream",
     "text": [
      "\r",
      " 33%|██████████████████████████▊                                                      | 94/284 [01:51<02:12,  1.43it/s]"
     ]
    },
    {
     "name": "stdout",
     "output_type": "stream",
     "text": [
      "0.08611177839869318\n",
      "2.0053283331865005e-17\n",
      "0.6920456654478331\n"
     ]
    },
    {
     "name": "stderr",
     "output_type": "stream",
     "text": [
      "\r",
      " 33%|███████████████████████████                                                      | 95/284 [01:53<03:22,  1.07s/it]"
     ]
    },
    {
     "name": "stdout",
     "output_type": "stream",
     "text": [
      "0.00029923576722931065\n",
      "0.010085991198258848\n",
      "-0.07865212028730004\n"
     ]
    },
    {
     "name": "stderr",
     "output_type": "stream",
     "text": [
      "\r",
      " 34%|███████████████████████████▍                                                     | 96/284 [01:53<02:58,  1.05it/s]"
     ]
    },
    {
     "name": "stdout",
     "output_type": "stream",
     "text": [
      "0.2135489508147996\n",
      "5.163581523525787e-17\n",
      "-1.0750513181276125\n"
     ]
    },
    {
     "name": "stderr",
     "output_type": "stream",
     "text": [
      "\r",
      " 34%|███████████████████████████▋                                                     | 97/284 [01:54<02:35,  1.20it/s]"
     ]
    },
    {
     "name": "stdout",
     "output_type": "stream",
     "text": [
      "-0.30521855253295366\n",
      "6.642808659430162e-17\n",
      "0.0\n"
     ]
    },
    {
     "name": "stderr",
     "output_type": "stream",
     "text": [
      "\r",
      " 35%|███████████████████████████▉                                                     | 98/284 [01:54<02:21,  1.31it/s]"
     ]
    },
    {
     "name": "stdout",
     "output_type": "stream",
     "text": [
      "0.13511727073137392\n",
      "6.227401172253268e-17\n",
      "-0.8914015605513361\n"
     ]
    },
    {
     "name": "stderr",
     "output_type": "stream",
     "text": [
      "\r",
      " 35%|████████████████████████████▏                                                   | 100/284 [01:55<01:37,  1.88it/s]"
     ]
    },
    {
     "name": "stdout",
     "output_type": "stream",
     "text": [
      "-0.32041420438388296\n",
      "5.958081967793456e-17\n",
      "-0.9316949906249123\n"
     ]
    },
    {
     "name": "stderr",
     "output_type": "stream",
     "text": [
      "\r",
      " 36%|████████████████████████████▍                                                   | 101/284 [01:57<02:49,  1.08it/s]"
     ]
    },
    {
     "name": "stdout",
     "output_type": "stream",
     "text": [
      "-0.007417368754172443\n",
      "0.025942843448384423\n",
      "-4.062741869933307\n"
     ]
    },
    {
     "name": "stderr",
     "output_type": "stream",
     "text": [
      "\r",
      " 36%|████████████████████████████▋                                                   | 102/284 [01:58<02:30,  1.21it/s]"
     ]
    },
    {
     "name": "stdout",
     "output_type": "stream",
     "text": [
      "0.05859308912663573\n",
      "1.2713523138087993e-17\n",
      "-0.5457884355532608\n"
     ]
    },
    {
     "name": "stderr",
     "output_type": "stream",
     "text": [
      "\r",
      " 36%|█████████████████████████████                                                   | 103/284 [02:00<03:41,  1.23s/it]"
     ]
    },
    {
     "name": "stdout",
     "output_type": "stream",
     "text": [
      "0.005999213900392584\n",
      "0.030697575200801946\n",
      "3.002321193111989\n"
     ]
    },
    {
     "name": "stderr",
     "output_type": "stream",
     "text": [
      "\r",
      " 37%|█████████████████████████████▎                                                  | 104/284 [02:01<03:07,  1.04s/it]"
     ]
    },
    {
     "name": "stdout",
     "output_type": "stream",
     "text": [
      "0.04165767900058862\n",
      "0.05133053503696792\n",
      "0.4914694843661866\n"
     ]
    },
    {
     "name": "stderr",
     "output_type": "stream",
     "text": [
      "\r",
      " 37%|█████████████████████████████▌                                                  | 105/284 [02:03<04:05,  1.37s/it]"
     ]
    },
    {
     "name": "stdout",
     "output_type": "stream",
     "text": [
      "0.009132396363568468\n",
      "0.027915773032765507\n",
      "2.1445803594118744\n"
     ]
    },
    {
     "name": "stderr",
     "output_type": "stream",
     "text": [
      "\r",
      " 37%|█████████████████████████████▊                                                  | 106/284 [02:03<03:22,  1.14s/it]"
     ]
    },
    {
     "name": "stdout",
     "output_type": "stream",
     "text": [
      "-0.05294827641273909\n",
      "1.6184142622847344e-17\n",
      "-1.2862393885688161\n"
     ]
    },
    {
     "name": "stderr",
     "output_type": "stream",
     "text": [
      "\r",
      " 38%|██████████████████████████████▏                                                 | 107/284 [02:04<02:59,  1.02s/it]"
     ]
    },
    {
     "name": "stdout",
     "output_type": "stream",
     "text": [
      "-0.028246224194197235\n",
      "0.08840744121498195\n",
      "-3.3137830642181783\n"
     ]
    },
    {
     "name": "stderr",
     "output_type": "stream",
     "text": [
      "\r",
      " 38%|██████████████████████████████▍                                                 | 108/284 [02:05<02:35,  1.13it/s]"
     ]
    },
    {
     "name": "stdout",
     "output_type": "stream",
     "text": [
      "nan\n",
      "nan\n",
      "nan\n"
     ]
    },
    {
     "name": "stderr",
     "output_type": "stream",
     "text": [
      " 39%|██████████████████████████████▉                                                 | 110/284 [02:05<01:45,  1.64it/s]"
     ]
    },
    {
     "name": "stdout",
     "output_type": "stream",
     "text": [
      "-0.2890801304733168\n",
      "3.075738592083225e-17\n",
      "0.0\n",
      "0.0\n",
      "0.0\n",
      "nan\n"
     ]
    },
    {
     "name": "stderr",
     "output_type": "stream",
     "text": [
      "\r",
      " 39%|███████████████████████████████▎                                                | 111/284 [02:06<02:06,  1.36it/s]"
     ]
    },
    {
     "name": "stdout",
     "output_type": "stream",
     "text": [
      "0.05756691399281885\n",
      "0.04313393135659868\n",
      "1.4627480457434723\n"
     ]
    },
    {
     "name": "stderr",
     "output_type": "stream",
     "text": [
      "\r",
      " 39%|███████████████████████████████▌                                                | 112/284 [02:09<03:25,  1.20s/it]"
     ]
    },
    {
     "name": "stdout",
     "output_type": "stream",
     "text": [
      "0.021044470228473968\n",
      "0.021549851754562133\n",
      "2.8591546211220473\n"
     ]
    },
    {
     "name": "stderr",
     "output_type": "stream",
     "text": [
      "\r",
      " 40%|████████████████████████████████                                                | 114/284 [02:11<03:24,  1.20s/it]"
     ]
    },
    {
     "name": "stdout",
     "output_type": "stream",
     "text": [
      "0.002786036789673129\n",
      "0.029232078875974822\n",
      "0.2434883948137497\n"
     ]
    },
    {
     "name": "stderr",
     "output_type": "stream",
     "text": [
      "\r",
      " 40%|████████████████████████████████▍                                               | 115/284 [02:13<04:00,  1.42s/it]"
     ]
    },
    {
     "name": "stdout",
     "output_type": "stream",
     "text": [
      "0.004435674301542137\n",
      "1.734723475976807e-18\n",
      "-1.0\n"
     ]
    },
    {
     "name": "stderr",
     "output_type": "stream",
     "text": [
      "\r",
      " 41%|████████████████████████████████▋                                               | 116/284 [02:14<03:20,  1.20s/it]"
     ]
    },
    {
     "name": "stdout",
     "output_type": "stream",
     "text": [
      "-0.0629282224215098\n",
      "0.047702507355122\n",
      "1.301710605489607\n"
     ]
    },
    {
     "name": "stderr",
     "output_type": "stream",
     "text": [
      "\r",
      " 41%|████████████████████████████████▉                                               | 117/284 [02:16<04:11,  1.51s/it]"
     ]
    },
    {
     "name": "stdout",
     "output_type": "stream",
     "text": [
      "-0.005327182547008109\n",
      "0.03062138249941895\n",
      "-0.14773252791597843\n"
     ]
    },
    {
     "name": "stderr",
     "output_type": "stream",
     "text": [
      "\r",
      " 42%|█████████████████████████████████▏                                              | 118/284 [02:17<03:27,  1.25s/it]"
     ]
    },
    {
     "name": "stdout",
     "output_type": "stream",
     "text": [
      "0.10191298033250631\n",
      "0.027127839754468197\n",
      "0.5758792421831986\n"
     ]
    },
    {
     "name": "stderr",
     "output_type": "stream",
     "text": [
      "\r",
      " 42%|█████████████████████████████████▌                                              | 119/284 [02:17<02:47,  1.01s/it]"
     ]
    },
    {
     "name": "stdout",
     "output_type": "stream",
     "text": [
      "-0.008463609886312838\n",
      "0.14514085333803267\n",
      "-4.775931721614517\n"
     ]
    },
    {
     "name": "stderr",
     "output_type": "stream",
     "text": [
      "\r",
      " 42%|█████████████████████████████████▊                                              | 120/284 [02:19<03:33,  1.30s/it]"
     ]
    },
    {
     "name": "stdout",
     "output_type": "stream",
     "text": [
      "-0.00024784573851266255\n",
      "0.007948170968989641\n",
      "3.741144460515104\n"
     ]
    },
    {
     "name": "stderr",
     "output_type": "stream",
     "text": [
      " 43%|██████████████████████████████████▎                                             | 122/284 [02:21<03:05,  1.15s/it]"
     ]
    },
    {
     "name": "stdout",
     "output_type": "stream",
     "text": [
      "0.011473149186304538\n",
      "0.01879311970386011\n",
      "-0.09027126548927498\n",
      "0.0\n",
      "0.0\n",
      "nan\n"
     ]
    },
    {
     "name": "stderr",
     "output_type": "stream",
     "text": [
      " 44%|██████████████████████████████████▉                                             | 124/284 [02:22<01:57,  1.36it/s]"
     ]
    },
    {
     "name": "stdout",
     "output_type": "stream",
     "text": [
      "-0.12514999728344597\n",
      "2.389237609607669e-17\n",
      "1.1616917255955381\n",
      "0.11181562937834497\n",
      "1.687164620837082e-17\n",
      "-1.6451018041059953\n"
     ]
    },
    {
     "name": "stderr",
     "output_type": "stream",
     "text": [
      "\r",
      " 44%|███████████████████████████████████▏                                            | 125/284 [02:25<03:19,  1.25s/it]"
     ]
    },
    {
     "name": "stdout",
     "output_type": "stream",
     "text": [
      "-0.0017547182882559716\n",
      "0.013752742901462889\n",
      "-3.0040162522715588\n"
     ]
    },
    {
     "name": "stderr",
     "output_type": "stream",
     "text": [
      "\r",
      " 44%|███████████████████████████████████▍                                            | 126/284 [02:27<04:05,  1.56s/it]"
     ]
    },
    {
     "name": "stdout",
     "output_type": "stream",
     "text": [
      "-0.011086284945208866\n",
      "0.014680368268130066\n",
      "-3.01885592136823\n"
     ]
    },
    {
     "name": "stderr",
     "output_type": "stream",
     "text": [
      " 45%|████████████████████████████████████                                            | 128/284 [02:28<02:30,  1.04it/s]"
     ]
    },
    {
     "name": "stdout",
     "output_type": "stream",
     "text": [
      "0.0059042726073987115\n",
      "0.07642688660812479\n",
      "0.44397894175103775\n",
      "-0.007756717518813401\n",
      "0.23474773694329845\n",
      "-1.7060508363570959\n"
     ]
    },
    {
     "name": "stderr",
     "output_type": "stream",
     "text": [
      " 46%|████████████████████████████████████▌                                           | 130/284 [02:30<02:31,  1.02it/s]"
     ]
    },
    {
     "name": "stdout",
     "output_type": "stream",
     "text": [
      "-0.008396877369157249\n",
      "0.02039572806294506\n",
      "-0.729866048828915\n",
      "0.0\n",
      "0.0\n",
      "nan\n"
     ]
    },
    {
     "name": "stderr",
     "output_type": "stream",
     "text": [
      "\r",
      " 46%|████████████████████████████████████▉                                           | 131/284 [02:33<03:31,  1.38s/it]"
     ]
    },
    {
     "name": "stdout",
     "output_type": "stream",
     "text": [
      "-0.004881321077003955\n",
      "0.019731702660686058\n",
      "-1.7044862250917214\n"
     ]
    },
    {
     "name": "stderr",
     "output_type": "stream",
     "text": [
      "\r",
      " 46%|█████████████████████████████████████▏                                          | 132/284 [02:33<02:50,  1.12s/it]"
     ]
    },
    {
     "name": "stdout",
     "output_type": "stream",
     "text": [
      "-0.16213272486782856\n",
      "3.008632702511227e-17\n",
      "0.9225312080288851\n"
     ]
    },
    {
     "name": "stderr",
     "output_type": "stream",
     "text": [
      "\r",
      " 47%|█████████████████████████████████████▍                                          | 133/284 [02:34<02:23,  1.05it/s]"
     ]
    },
    {
     "name": "stdout",
     "output_type": "stream",
     "text": [
      "-0.08799554157089287\n",
      "1.5749913550146108e-17\n",
      "0.0\n"
     ]
    },
    {
     "name": "stderr",
     "output_type": "stream",
     "text": [
      "\r",
      " 47%|█████████████████████████████████████▋                                          | 134/284 [02:35<03:06,  1.24s/it]"
     ]
    },
    {
     "name": "stdout",
     "output_type": "stream",
     "text": [
      "-6.275219003420107e-05\n",
      "0.033188146523852484\n",
      "7.649357145613674\n"
     ]
    },
    {
     "name": "stderr",
     "output_type": "stream",
     "text": [
      "\r",
      " 48%|██████████████████████████████████████                                          | 135/284 [02:38<03:56,  1.59s/it]"
     ]
    },
    {
     "name": "stdout",
     "output_type": "stream",
     "text": [
      "0.050536894921186015\n",
      "0.01794522447976618\n",
      "-1.898705585176887\n"
     ]
    },
    {
     "name": "stderr",
     "output_type": "stream",
     "text": [
      "\r",
      " 48%|██████████████████████████████████████▎                                         | 136/284 [02:40<04:22,  1.77s/it]"
     ]
    },
    {
     "name": "stdout",
     "output_type": "stream",
     "text": [
      "-0.005721046197364228\n",
      "0.02862725777347696\n",
      "2.9382561446822084\n"
     ]
    },
    {
     "name": "stderr",
     "output_type": "stream",
     "text": [
      "\r",
      " 48%|██████████████████████████████████████▌                                         | 137/284 [02:41<03:23,  1.39s/it]"
     ]
    },
    {
     "name": "stdout",
     "output_type": "stream",
     "text": [
      "0.3178352923994385\n",
      "9.992007221626409e-17\n",
      "-0.5555555555555556\n"
     ]
    },
    {
     "name": "stderr",
     "output_type": "stream",
     "text": [
      "\r",
      " 49%|██████████████████████████████████████▊                                         | 138/284 [02:41<02:45,  1.13s/it]"
     ]
    },
    {
     "name": "stdout",
     "output_type": "stream",
     "text": [
      "-0.42622600548133244\n",
      "4.426992558620865e-17\n",
      "1.2539246564387978\n"
     ]
    },
    {
     "name": "stderr",
     "output_type": "stream",
     "text": [
      "\r",
      " 67%|█████████████████████████████████████████████████████▌                          | 190/284 [02:42<00:05, 16.89it/s]"
     ]
    },
    {
     "name": "stdout",
     "output_type": "stream",
     "text": [
      "0.18790993770067171\n",
      "5.535828508461014e-17\n",
      "1.0027613959936448\n",
      "-0.34458439380315836\n",
      "7.343435057440258e-17\n",
      "-0.7559289460184544\n",
      "-0.337428535353296\n",
      "9.283814780100774e-17\n",
      "-1.1958694253625612\n"
     ]
    },
    {
     "name": "stderr",
     "output_type": "stream",
     "text": [
      "\r",
      " 68%|██████████████████████████████████████████████████████▎                         | 193/284 [02:45<00:12,  7.21it/s]"
     ]
    },
    {
     "name": "stdout",
     "output_type": "stream",
     "text": [
      "-0.0058806033603659375\n",
      "0.01800437392579371\n",
      "1.5843202417294366\n",
      "-0.07128228882703215\n",
      "1.5119784535460978e-17\n",
      "0.917856188708667\n",
      "0.026066944665096573\n",
      "0.019432858357515747\n",
      "-0.7947885623046979\n"
     ]
    },
    {
     "name": "stderr",
     "output_type": "stream",
     "text": [
      "\r",
      " 69%|███████████████████████████████████████████████████████▏                        | 196/284 [02:49<00:20,  4.21it/s]"
     ]
    },
    {
     "name": "stdout",
     "output_type": "stream",
     "text": [
      "0.1498304821269599\n",
      "2.88177201044735e-17\n",
      "1.9262853213235487\n",
      "0.03249849359432479\n",
      "1.3236747209591516e-17\n",
      "1.0484288615679263\n"
     ]
    },
    {
     "name": "stderr",
     "output_type": "stream",
     "text": [
      "\r",
      " 70%|███████████████████████████████████████████████████████▊                        | 198/284 [02:51<00:26,  3.19it/s]"
     ]
    },
    {
     "name": "stdout",
     "output_type": "stream",
     "text": [
      "-0.04440383474008283\n",
      "0.028587614512158903\n",
      "1.016958314994427\n",
      "0.014608295210186226\n",
      "1.2010501772807161e-17\n",
      "0.2888677773487157\n"
     ]
    },
    {
     "name": "stderr",
     "output_type": "stream",
     "text": [
      "\r",
      " 70%|████████████████████████████████████████████████████████▎                       | 200/284 [02:52<00:27,  3.10it/s]"
     ]
    },
    {
     "name": "stdout",
     "output_type": "stream",
     "text": [
      "0.18478106604392536\n",
      "3.9271932718740724e-17\n",
      "-0.7067534927402196\n"
     ]
    },
    {
     "name": "stderr",
     "output_type": "stream",
     "text": [
      "\r",
      " 71%|████████████████████████████████████████████████████████▌                       | 201/284 [02:52<00:28,  2.96it/s]"
     ]
    },
    {
     "name": "stdout",
     "output_type": "stream",
     "text": [
      "0.13853571143715004\n",
      "2.1228933251263785e-17\n",
      "-1.307440900921227\n"
     ]
    },
    {
     "name": "stderr",
     "output_type": "stream",
     "text": [
      "\r",
      " 71%|████████████████████████████████████████████████████████▉                       | 202/284 [02:53<00:29,  2.78it/s]"
     ]
    },
    {
     "name": "stdout",
     "output_type": "stream",
     "text": [
      "0.20550534022626984\n",
      "3.2688009011655e-17\n",
      "-0.849105725764227\n"
     ]
    },
    {
     "name": "stderr",
     "output_type": "stream",
     "text": [
      "\r",
      " 71%|█████████████████████████████████████████████████████████▏                      | 203/284 [02:55<00:49,  1.65it/s]"
     ]
    },
    {
     "name": "stdout",
     "output_type": "stream",
     "text": [
      "-0.0030253700614395573\n",
      "0.024704675628650474\n",
      "0.3864109464075745\n"
     ]
    },
    {
     "name": "stderr",
     "output_type": "stream",
     "text": [
      "\r",
      " 72%|█████████████████████████████████████████████████████████▍                      | 204/284 [02:58<01:09,  1.15it/s]"
     ]
    },
    {
     "name": "stdout",
     "output_type": "stream",
     "text": [
      "-0.0010711816249464885\n",
      "0.024364715635178905\n",
      "0.7879270863289372\n"
     ]
    },
    {
     "name": "stderr",
     "output_type": "stream",
     "text": [
      "\r",
      " 72%|█████████████████████████████████████████████████████████▋                      | 205/284 [03:00<01:30,  1.15s/it]"
     ]
    },
    {
     "name": "stdout",
     "output_type": "stream",
     "text": [
      "0.0009568115417195644\n",
      "0.01694257740559514\n",
      "1.5606794045757595\n"
     ]
    },
    {
     "name": "stderr",
     "output_type": "stream",
     "text": [
      "\r",
      " 73%|██████████████████████████████████████████████████████████                      | 206/284 [03:03<01:45,  1.36s/it]"
     ]
    },
    {
     "name": "stdout",
     "output_type": "stream",
     "text": [
      "0.0008270174013286061\n",
      "0.01264391707190911\n",
      "3.681807395864528\n"
     ]
    },
    {
     "name": "stderr",
     "output_type": "stream",
     "text": [
      "\r",
      " 73%|██████████████████████████████████████████████████████████▎                     | 207/284 [03:05<02:02,  1.59s/it]"
     ]
    },
    {
     "name": "stdout",
     "output_type": "stream",
     "text": [
      "-0.006739951220002766\n",
      "0.020806175916324787\n",
      "-0.881194102802925\n"
     ]
    },
    {
     "name": "stderr",
     "output_type": "stream",
     "text": [
      "\r",
      " 73%|██████████████████████████████████████████████████████████▌                     | 208/284 [03:08<02:22,  1.87s/it]"
     ]
    },
    {
     "name": "stdout",
     "output_type": "stream",
     "text": [
      "0.0016828440778846488\n",
      "0.01603239672905855\n",
      "0.5222501572793112\n"
     ]
    },
    {
     "name": "stderr",
     "output_type": "stream",
     "text": [
      "\r",
      " 74%|██████████████████████████████████████████████████████████▊                     | 209/284 [03:08<01:49,  1.46s/it]"
     ]
    },
    {
     "name": "stdout",
     "output_type": "stream",
     "text": [
      "0.0\n",
      "0.0\n",
      "nan\n"
     ]
    },
    {
     "name": "stderr",
     "output_type": "stream",
     "text": [
      "\r",
      " 74%|███████████████████████████████████████████████████████████▏                    | 210/284 [03:09<01:44,  1.42s/it]"
     ]
    },
    {
     "name": "stdout",
     "output_type": "stream",
     "text": [
      "-0.04099664381205648\n",
      "0.04094839412929187\n",
      "3.6124294684422216\n"
     ]
    },
    {
     "name": "stderr",
     "output_type": "stream",
     "text": [
      "\r",
      " 74%|███████████████████████████████████████████████████████████▍                    | 211/284 [03:10<01:27,  1.20s/it]"
     ]
    },
    {
     "name": "stdout",
     "output_type": "stream",
     "text": [
      "-0.013355219491730623\n",
      "1.0847779477942023e-17\n",
      "-1.2793206052938007\n"
     ]
    },
    {
     "name": "stderr",
     "output_type": "stream",
     "text": [
      "\r",
      " 75%|███████████████████████████████████████████████████████████▋                    | 212/284 [03:12<01:48,  1.51s/it]"
     ]
    },
    {
     "name": "stdout",
     "output_type": "stream",
     "text": [
      "-0.006903919928038623\n",
      "0.02760494072526717\n",
      "1.688330014307098\n"
     ]
    },
    {
     "name": "stderr",
     "output_type": "stream",
     "text": [
      "\r",
      " 75%|████████████████████████████████████████████████████████████                    | 213/284 [03:15<02:06,  1.79s/it]"
     ]
    },
    {
     "name": "stdout",
     "output_type": "stream",
     "text": [
      "-0.026036961714065523\n",
      "0.015790097452214873\n",
      "3.80949337709714\n"
     ]
    },
    {
     "name": "stderr",
     "output_type": "stream",
     "text": [
      " 76%|████████████████████████████████████████████████████████████▌                   | 215/284 [03:16<01:12,  1.05s/it]"
     ]
    },
    {
     "name": "stdout",
     "output_type": "stream",
     "text": [
      "-0.03131185367104235\n",
      "1.3512148560754872e-17\n",
      "0.0\n",
      "0.0\n",
      "0.0\n",
      "nan\n"
     ]
    },
    {
     "name": "stderr",
     "output_type": "stream",
     "text": [
      "\r",
      " 76%|████████████████████████████████████████████████████████████▊                   | 216/284 [03:18<01:36,  1.41s/it]"
     ]
    },
    {
     "name": "stdout",
     "output_type": "stream",
     "text": [
      "0.0008225218794322432\n",
      "0.03593627492655646\n",
      "-4.0607230924996\n"
     ]
    },
    {
     "name": "stderr",
     "output_type": "stream",
     "text": [
      "\r",
      " 76%|█████████████████████████████████████████████████████████████▏                  | 217/284 [03:20<01:56,  1.74s/it]"
     ]
    },
    {
     "name": "stdout",
     "output_type": "stream",
     "text": [
      "0.001887345512978487\n",
      "0.024114164032770967\n",
      "2.364488434890028\n"
     ]
    },
    {
     "name": "stderr",
     "output_type": "stream",
     "text": [
      "\r",
      " 77%|█████████████████████████████████████████████████████████████▍                  | 218/284 [03:22<01:49,  1.65s/it]"
     ]
    },
    {
     "name": "stdout",
     "output_type": "stream",
     "text": [
      "0.07962095922608224\n",
      "0.01740208475525247\n",
      "-3.432835852138585\n"
     ]
    },
    {
     "name": "stderr",
     "output_type": "stream",
     "text": [
      "\r",
      " 77%|█████████████████████████████████████████████████████████████▋                  | 219/284 [03:24<02:03,  1.90s/it]"
     ]
    },
    {
     "name": "stdout",
     "output_type": "stream",
     "text": [
      "-0.0712740400547933\n",
      "0.017192707943569745\n",
      "-1.8170093537031646\n"
     ]
    },
    {
     "name": "stderr",
     "output_type": "stream",
     "text": [
      "\r",
      " 77%|█████████████████████████████████████████████████████████████▉                  | 220/284 [03:25<01:37,  1.52s/it]"
     ]
    },
    {
     "name": "stdout",
     "output_type": "stream",
     "text": [
      "-0.23424509962104428\n",
      "6.611422389910714e-17\n",
      "1.6792498786938794\n"
     ]
    },
    {
     "name": "stderr",
     "output_type": "stream",
     "text": [
      "\r",
      " 78%|██████████████████████████████████████████████████████████████▎                 | 221/284 [03:27<01:55,  1.83s/it]"
     ]
    },
    {
     "name": "stdout",
     "output_type": "stream",
     "text": [
      "-0.020583769537207936\n",
      "0.017244447113127635\n",
      "3.771460204213432\n"
     ]
    },
    {
     "name": "stderr",
     "output_type": "stream",
     "text": [
      "\r",
      " 78%|██████████████████████████████████████████████████████████████▌                 | 222/284 [03:30<02:06,  2.04s/it]"
     ]
    },
    {
     "name": "stdout",
     "output_type": "stream",
     "text": [
      "0.010346757596492628\n",
      "3.469446951953614e-18\n",
      "1.0\n"
     ]
    },
    {
     "name": "stderr",
     "output_type": "stream",
     "text": [
      "\r",
      " 79%|██████████████████████████████████████████████████████████████▊                 | 223/284 [03:32<01:56,  1.91s/it]"
     ]
    },
    {
     "name": "stdout",
     "output_type": "stream",
     "text": [
      "-0.04559706902488519\n",
      "0.03277463478166233\n",
      "-1.4656689446246636\n"
     ]
    },
    {
     "name": "stderr",
     "output_type": "stream",
     "text": [
      "\r",
      " 79%|███████████████████████████████████████████████████████████████                 | 224/284 [03:33<01:41,  1.70s/it]"
     ]
    },
    {
     "name": "stdout",
     "output_type": "stream",
     "text": [
      "0.02111545399982228\n",
      "0.023189238407687662\n",
      "-1.211702954530609\n"
     ]
    },
    {
     "name": "stderr",
     "output_type": "stream",
     "text": [
      "\r",
      " 80%|███████████████████████████████████████████████████████████████▋                | 226/284 [03:35<01:27,  1.50s/it]"
     ]
    },
    {
     "name": "stdout",
     "output_type": "stream",
     "text": [
      "0.0026539392707562205\n",
      "0.03316858355240014\n",
      "2.305585587950517\n"
     ]
    },
    {
     "name": "stderr",
     "output_type": "stream",
     "text": [
      "\r",
      " 80%|███████████████████████████████████████████████████████████████▉                | 227/284 [03:38<01:41,  1.78s/it]"
     ]
    },
    {
     "name": "stdout",
     "output_type": "stream",
     "text": [
      "-4.9587075049991075e-05\n",
      "0.013184587487613903\n",
      "2.8661572312706936\n"
     ]
    },
    {
     "name": "stderr",
     "output_type": "stream",
     "text": [
      "\r",
      " 80%|████████████████████████████████████████████████████████████████▏               | 228/284 [03:41<01:51,  2.00s/it]"
     ]
    },
    {
     "name": "stdout",
     "output_type": "stream",
     "text": [
      "0.011884534039524287\n",
      "0.009429237211891981\n",
      "-0.0047492517604580805\n"
     ]
    },
    {
     "name": "stderr",
     "output_type": "stream",
     "text": [
      "\r",
      " 81%|████████████████████████████████████████████████████████████████▌               | 229/284 [03:41<01:29,  1.62s/it]"
     ]
    },
    {
     "name": "stdout",
     "output_type": "stream",
     "text": [
      "-0.06181690346258019\n",
      "1.7766820702789453e-17\n",
      "-0.7811069881307237\n"
     ]
    },
    {
     "name": "stderr",
     "output_type": "stream",
     "text": [
      "\r",
      " 81%|████████████████████████████████████████████████████████████████▊               | 230/284 [03:44<01:41,  1.88s/it]"
     ]
    },
    {
     "name": "stdout",
     "output_type": "stream",
     "text": [
      "0.028469736266804473\n",
      "0.012571021486143748\n",
      "0.13961682019987273\n"
     ]
    },
    {
     "name": "stderr",
     "output_type": "stream",
     "text": [
      "\r",
      " 81%|█████████████████████████████████████████████████████████████████               | 231/284 [03:46<01:44,  1.96s/it]"
     ]
    },
    {
     "name": "stdout",
     "output_type": "stream",
     "text": [
      "-0.0004799284866527984\n",
      "0.027738907646933923\n",
      "-0.4171352469667142\n"
     ]
    },
    {
     "name": "stderr",
     "output_type": "stream",
     "text": [
      "\r",
      " 82%|█████████████████████████████████████████████████████████████████▎              | 232/284 [03:46<01:21,  1.57s/it]"
     ]
    },
    {
     "name": "stdout",
     "output_type": "stream",
     "text": [
      "0.008832968374914305\n",
      "4.207911409025878e-18\n",
      "-0.8245057024042203\n"
     ]
    },
    {
     "name": "stderr",
     "output_type": "stream",
     "text": [
      "\r",
      " 82%|█████████████████████████████████████████████████████████████████▋              | 233/284 [03:49<01:28,  1.74s/it]"
     ]
    },
    {
     "name": "stdout",
     "output_type": "stream",
     "text": [
      "0.03952522609664021\n",
      "0.026519487436337454\n",
      "2.2783943034239784\n"
     ]
    },
    {
     "name": "stderr",
     "output_type": "stream",
     "text": [
      "\r",
      " 82%|█████████████████████████████████████████████████████████████████▉              | 234/284 [03:50<01:20,  1.62s/it]"
     ]
    },
    {
     "name": "stdout",
     "output_type": "stream",
     "text": [
      "-0.02437039181700293\n",
      "0.004282424798445747\n",
      "-1.6623948577042498\n"
     ]
    },
    {
     "name": "stderr",
     "output_type": "stream",
     "text": [
      "\r",
      " 83%|██████████████████████████████████████████████████████████████████▏             | 235/284 [03:51<01:05,  1.34s/it]"
     ]
    },
    {
     "name": "stdout",
     "output_type": "stream",
     "text": [
      "-0.01331234521329536\n",
      "0.07634146872512652\n",
      "-1.9842935072830112\n"
     ]
    },
    {
     "name": "stderr",
     "output_type": "stream",
     "text": [
      "\r",
      " 83%|██████████████████████████████████████████████████████████████████▍             | 236/284 [03:51<00:52,  1.10s/it]"
     ]
    },
    {
     "name": "stdout",
     "output_type": "stream",
     "text": [
      "-0.004692020940158947\n",
      "1.0331731082817755e-17\n",
      "0.5037074993739671\n"
     ]
    },
    {
     "name": "stderr",
     "output_type": "stream",
     "text": [
      "\r",
      " 83%|██████████████████████████████████████████████████████████████████▊             | 237/284 [03:52<00:45,  1.04it/s]"
     ]
    },
    {
     "name": "stdout",
     "output_type": "stream",
     "text": [
      "-4.552231504557369e-05\n",
      "0.011673128420838348\n",
      "4.163636054658457\n"
     ]
    },
    {
     "name": "stderr",
     "output_type": "stream",
     "text": [
      "\r",
      " 84%|███████████████████████████████████████████████████████████████████             | 238/284 [03:52<00:38,  1.20it/s]"
     ]
    },
    {
     "name": "stdout",
     "output_type": "stream",
     "text": [
      "0.031300926108424706\n",
      "1.000500918837792e-17\n",
      "-2.0806259464411974\n"
     ]
    },
    {
     "name": "stderr",
     "output_type": "stream",
     "text": [
      "\r",
      " 84%|███████████████████████████████████████████████████████████████████▎            | 239/284 [03:55<00:56,  1.26s/it]"
     ]
    },
    {
     "name": "stdout",
     "output_type": "stream",
     "text": [
      "0.013356220151770732\n",
      "0.02581999498055743\n",
      "0.08336162668943974\n"
     ]
    },
    {
     "name": "stderr",
     "output_type": "stream",
     "text": [
      "\r",
      " 85%|███████████████████████████████████████████████████████████████████▌            | 240/284 [03:55<00:44,  1.00s/it]"
     ]
    },
    {
     "name": "stdout",
     "output_type": "stream",
     "text": [
      "0.1910375292747077\n",
      "4.780892864307641e-17\n",
      "-0.5805521354147395\n"
     ]
    },
    {
     "name": "stderr",
     "output_type": "stream",
     "text": [
      "\r",
      " 85%|███████████████████████████████████████████████████████████████████▉            | 241/284 [03:57<01:01,  1.42s/it]"
     ]
    },
    {
     "name": "stdout",
     "output_type": "stream",
     "text": [
      "-0.014528016723705552\n",
      "0.019680521840382107\n",
      "4.402367016893195\n"
     ]
    },
    {
     "name": "stderr",
     "output_type": "stream",
     "text": [
      "\r",
      " 85%|████████████████████████████████████████████████████████████████████▏           | 242/284 [04:00<01:10,  1.69s/it]"
     ]
    },
    {
     "name": "stdout",
     "output_type": "stream",
     "text": [
      "7.152371354893505e-05\n",
      "0.014930899601720286\n",
      "0.7905482576815623\n"
     ]
    },
    {
     "name": "stderr",
     "output_type": "stream",
     "text": [
      "\r",
      " 86%|████████████████████████████████████████████████████████████████████▍           | 243/284 [04:02<01:16,  1.86s/it]"
     ]
    },
    {
     "name": "stdout",
     "output_type": "stream",
     "text": [
      "0.018314411320903917\n",
      "0.027923000649690673\n",
      "1.8179891657459095\n"
     ]
    },
    {
     "name": "stderr",
     "output_type": "stream",
     "text": [
      "\r",
      " 86%|████████████████████████████████████████████████████████████████████▋           | 244/284 [04:03<00:58,  1.47s/it]"
     ]
    },
    {
     "name": "stdout",
     "output_type": "stream",
     "text": [
      "0.0515287948513847\n",
      "0.005648593711547124\n",
      "-1.067302427699274\n"
     ]
    },
    {
     "name": "stderr",
     "output_type": "stream",
     "text": [
      "\r",
      " 86%|█████████████████████████████████████████████████████████████████████           | 245/284 [04:03<00:46,  1.18s/it]"
     ]
    },
    {
     "name": "stdout",
     "output_type": "stream",
     "text": [
      "-0.05003786600163581\n",
      "0.06326986945178063\n",
      "-0.06119254644013504\n"
     ]
    },
    {
     "name": "stderr",
     "output_type": "stream",
     "text": [
      "\r",
      " 87%|█████████████████████████████████████████████████████████████████████▎          | 246/284 [04:04<00:37,  1.00it/s]"
     ]
    },
    {
     "name": "stdout",
     "output_type": "stream",
     "text": [
      "-0.3397524604794926\n",
      "5.534436722516086e-17\n",
      "-1.0030135678562992\n"
     ]
    },
    {
     "name": "stderr",
     "output_type": "stream",
     "text": [
      "\r",
      " 87%|█████████████████████████████████████████████████████████████████████▌          | 247/284 [04:04<00:31,  1.16it/s]"
     ]
    },
    {
     "name": "stdout",
     "output_type": "stream",
     "text": [
      "-0.06254657464376623\n",
      "2.3209536950251934e-17\n",
      "-1.1958694253625612\n"
     ]
    },
    {
     "name": "stderr",
     "output_type": "stream",
     "text": [
      "\r",
      " 87%|█████████████████████████████████████████████████████████████████████▊          | 248/284 [04:07<00:49,  1.37s/it]"
     ]
    },
    {
     "name": "stdout",
     "output_type": "stream",
     "text": [
      "0.028547244749331038\n",
      "0.01570584642013838\n",
      "-2.6656540849400434\n"
     ]
    },
    {
     "name": "stderr",
     "output_type": "stream",
     "text": [
      "\r",
      " 88%|██████████████████████████████████████████████████████████████████████▏         | 249/284 [04:07<00:38,  1.09s/it]"
     ]
    },
    {
     "name": "stdout",
     "output_type": "stream",
     "text": [
      "-0.0002710163827360019\n",
      "0.07688832343518498\n",
      "1.51886173488698\n"
     ]
    },
    {
     "name": "stderr",
     "output_type": "stream",
     "text": [
      "\r",
      " 88%|██████████████████████████████████████████████████████████████████████▍         | 250/284 [04:09<00:49,  1.46s/it]"
     ]
    },
    {
     "name": "stdout",
     "output_type": "stream",
     "text": [
      "-0.014616599394040317\n",
      "0.022564428817914546\n",
      "4.268439050197173\n"
     ]
    },
    {
     "name": "stderr",
     "output_type": "stream",
     "text": [
      "\r",
      " 88%|██████████████████████████████████████████████████████████████████████▋         | 251/284 [04:10<00:38,  1.16s/it]"
     ]
    },
    {
     "name": "stdout",
     "output_type": "stream",
     "text": [
      "0.00030124148360912274\n",
      "9.710060422308344e-18\n",
      "0.30147555611347604\n"
     ]
    },
    {
     "name": "stderr",
     "output_type": "stream",
     "text": [
      "\r",
      " 89%|██████████████████████████████████████████████████████████████████████▉         | 252/284 [04:10<00:31,  1.03it/s]"
     ]
    },
    {
     "name": "stdout",
     "output_type": "stream",
     "text": [
      "0.4343746790804434\n",
      "4.271113254555058e-17\n",
      "0.0\n"
     ]
    },
    {
     "name": "stderr",
     "output_type": "stream",
     "text": [
      "\r",
      " 89%|███████████████████████████████████████████████████████████████████████▎        | 253/284 [04:13<00:41,  1.34s/it]"
     ]
    },
    {
     "name": "stdout",
     "output_type": "stream",
     "text": [
      "0.007058548449151719\n",
      "0.029412448555017335\n",
      "1.2568454754914231\n"
     ]
    },
    {
     "name": "stderr",
     "output_type": "stream",
     "text": [
      "\r",
      " 89%|███████████████████████████████████████████████████████████████████████▌        | 254/284 [04:15<00:49,  1.63s/it]"
     ]
    },
    {
     "name": "stdout",
     "output_type": "stream",
     "text": [
      "0.020903288972153256\n",
      "0.02332599101851256\n",
      "0.7110311105274552\n"
     ]
    },
    {
     "name": "stderr",
     "output_type": "stream",
     "text": [
      "\r",
      " 90%|███████████████████████████████████████████████████████████████████████▊        | 255/284 [04:17<00:51,  1.78s/it]"
     ]
    },
    {
     "name": "stdout",
     "output_type": "stream",
     "text": [
      "-6.983061367984514e-05\n",
      "0.01255923556902827\n",
      "1.9737373170537076\n"
     ]
    },
    {
     "name": "stderr",
     "output_type": "stream",
     "text": [
      "\r",
      " 90%|████████████████████████████████████████████████████████████████████████        | 256/284 [04:18<00:44,  1.59s/it]"
     ]
    },
    {
     "name": "stdout",
     "output_type": "stream",
     "text": [
      "0.008500848685496283\n",
      "0.039008636834994836\n",
      "1.5686831840367184\n"
     ]
    },
    {
     "name": "stderr",
     "output_type": "stream",
     "text": [
      "\r",
      " 90%|████████████████████████████████████████████████████████████████████████▍       | 257/284 [04:19<00:37,  1.40s/it]"
     ]
    },
    {
     "name": "stdout",
     "output_type": "stream",
     "text": [
      "0.010366445721294592\n",
      "0.05332510077872581\n",
      "-1.6405235707379147\n"
     ]
    },
    {
     "name": "stderr",
     "output_type": "stream",
     "text": [
      "\r",
      " 91%|████████████████████████████████████████████████████████████████████████▋       | 258/284 [04:20<00:30,  1.17s/it]"
     ]
    },
    {
     "name": "stdout",
     "output_type": "stream",
     "text": [
      "nan\n",
      "nan\n",
      "nan\n"
     ]
    },
    {
     "name": "stderr",
     "output_type": "stream",
     "text": [
      "\r",
      " 91%|████████████████████████████████████████████████████████████████████████▉       | 259/284 [04:20<00:24,  1.02it/s]"
     ]
    },
    {
     "name": "stdout",
     "output_type": "stream",
     "text": [
      "-0.053120881301286824\n",
      "1.2193514329621899e-17\n",
      "0.0\n"
     ]
    },
    {
     "name": "stderr",
     "output_type": "stream",
     "text": [
      "\r",
      " 92%|█████████████████████████████████████████████████████████████████████████▏      | 260/284 [04:22<00:30,  1.25s/it]"
     ]
    },
    {
     "name": "stdout",
     "output_type": "stream",
     "text": [
      "0.0005592387409003738\n",
      "0.037409667379643366\n",
      "0.41246692586356787\n"
     ]
    },
    {
     "name": "stderr",
     "output_type": "stream",
     "text": [
      "\r",
      " 92%|█████████████████████████████████████████████████████████████████████████▌      | 261/284 [04:24<00:30,  1.34s/it]"
     ]
    },
    {
     "name": "stdout",
     "output_type": "stream",
     "text": [
      "-0.011276312426223107\n",
      "0.04084643085687787\n",
      "-1.2409060662479416\n"
     ]
    },
    {
     "name": "stderr",
     "output_type": "stream",
     "text": [
      "\r",
      " 92%|█████████████████████████████████████████████████████████████████████████▊      | 262/284 [04:26<00:35,  1.63s/it]"
     ]
    },
    {
     "name": "stdout",
     "output_type": "stream",
     "text": [
      "0.001961962181992213\n",
      "0.026918202377691748\n",
      "0.4592298019458286\n"
     ]
    },
    {
     "name": "stderr",
     "output_type": "stream",
     "text": [
      " 93%|██████████████████████████████████████████████████████████████████████████▋     | 265/284 [04:27<00:13,  1.43it/s]"
     ]
    },
    {
     "name": "stdout",
     "output_type": "stream",
     "text": [
      "-0.0018577051677769237\n",
      "0.12350239784823765\n",
      "0.20214984118006118\n",
      "0.0\n",
      "0.0\n",
      "nan\n"
     ]
    },
    {
     "name": "stderr",
     "output_type": "stream",
     "text": [
      "\r",
      " 94%|██████████████████████████████████████████████████████████████████████████▉     | 266/284 [04:27<00:11,  1.52it/s]"
     ]
    },
    {
     "name": "stdout",
     "output_type": "stream",
     "text": [
      "0.10658346758099622\n",
      "1.5859585452872752e-17\n",
      "0.0\n"
     ]
    },
    {
     "name": "stderr",
     "output_type": "stream",
     "text": [
      "\r",
      " 94%|███████████████████████████████████████████████████████████████████████████▏    | 267/284 [04:28<00:10,  1.59it/s]"
     ]
    },
    {
     "name": "stdout",
     "output_type": "stream",
     "text": [
      "-0.267164807014369\n",
      "4.263892432392673e-17\n",
      "0.0\n"
     ]
    },
    {
     "name": "stderr",
     "output_type": "stream",
     "text": [
      "\r",
      " 94%|███████████████████████████████████████████████████████████████████████████▍    | 268/284 [04:30<00:17,  1.09s/it]"
     ]
    },
    {
     "name": "stdout",
     "output_type": "stream",
     "text": [
      "0.00240208396977635\n",
      "0.03241853700333412\n",
      "-2.9400309998455922\n"
     ]
    },
    {
     "name": "stderr",
     "output_type": "stream",
     "text": [
      " 95%|████████████████████████████████████████████████████████████████████████████    | 270/284 [04:33<00:15,  1.08s/it]"
     ]
    },
    {
     "name": "stdout",
     "output_type": "stream",
     "text": [
      "-0.004531657454916878\n",
      "0.026569361016801397\n",
      "3.387472560333219\n",
      "0.0\n",
      "0.0\n",
      "nan\n"
     ]
    },
    {
     "name": "stderr",
     "output_type": "stream",
     "text": [
      "\r",
      " 95%|████████████████████████████████████████████████████████████████████████████▎   | 271/284 [04:33<00:10,  1.24it/s]"
     ]
    },
    {
     "name": "stdout",
     "output_type": "stream",
     "text": [
      "0.0\n",
      "0.0\n",
      "nan\n"
     ]
    },
    {
     "name": "stderr",
     "output_type": "stream",
     "text": [
      "\r",
      " 96%|████████████████████████████████████████████████████████████████████████████▌   | 272/284 [04:35<00:15,  1.30s/it]"
     ]
    },
    {
     "name": "stdout",
     "output_type": "stream",
     "text": [
      "0.01439812594511526\n",
      "0.024906724045348723\n",
      "-0.7847412771339753\n"
     ]
    },
    {
     "name": "stderr",
     "output_type": "stream",
     "text": [
      "\r",
      " 96%|████████████████████████████████████████████████████████████████████████████▉   | 273/284 [04:36<00:12,  1.10s/it]"
     ]
    },
    {
     "name": "stdout",
     "output_type": "stream",
     "text": [
      "0.08031976210895478\n",
      "9.664760850780578e-18\n",
      "0.0\n"
     ]
    },
    {
     "name": "stderr",
     "output_type": "stream",
     "text": [
      "\r",
      " 96%|█████████████████████████████████████████████████████████████████████████████▏  | 274/284 [04:36<00:09,  1.06it/s]"
     ]
    },
    {
     "name": "stdout",
     "output_type": "stream",
     "text": [
      "-0.4557360286796188\n",
      "2.220446049250313e-16\n",
      "-1.0\n"
     ]
    },
    {
     "name": "stderr",
     "output_type": "stream",
     "text": [
      "\r",
      " 97%|█████████████████████████████████████████████████████████████████████████████▍  | 275/284 [04:40<00:15,  1.72s/it]"
     ]
    },
    {
     "name": "stdout",
     "output_type": "stream",
     "text": [
      "-0.04025726679341996\n",
      "0.024006657056534295\n",
      "4.293057753914405\n"
     ]
    },
    {
     "name": "stderr",
     "output_type": "stream",
     "text": [
      "\r",
      " 97%|█████████████████████████████████████████████████████████████████████████████▋  | 276/284 [04:40<00:10,  1.29s/it]"
     ]
    },
    {
     "name": "stdout",
     "output_type": "stream",
     "text": [
      "-0.041666666666666664\n",
      "6.938893903907228e-18\n",
      "-1.0\n"
     ]
    },
    {
     "name": "stderr",
     "output_type": "stream",
     "text": [
      "\r",
      " 98%|██████████████████████████████████████████████████████████████████████████████  | 277/284 [04:43<00:11,  1.64s/it]"
     ]
    },
    {
     "name": "stdout",
     "output_type": "stream",
     "text": [
      "0.008640346268725793\n",
      "0.026792711605955165\n",
      "1.9856261323425937\n"
     ]
    },
    {
     "name": "stderr",
     "output_type": "stream",
     "text": [
      "\r",
      " 98%|██████████████████████████████████████████████████████████████████████████████▎ | 278/284 [04:45<00:11,  1.93s/it]"
     ]
    },
    {
     "name": "stdout",
     "output_type": "stream",
     "text": [
      "0.018881295178838898\n",
      "0.018198719104749076\n",
      "1.758847670579831\n"
     ]
    },
    {
     "name": "stderr",
     "output_type": "stream",
     "text": [
      "\r",
      " 98%|██████████████████████████████████████████████████████████████████████████████▌ | 279/284 [04:46<00:07,  1.53s/it]"
     ]
    },
    {
     "name": "stdout",
     "output_type": "stream",
     "text": [
      "0.0628461777969669\n",
      "1.80944215311192e-17\n",
      "0.7669649888473704\n"
     ]
    },
    {
     "name": "stderr",
     "output_type": "stream",
     "text": [
      "\r",
      " 99%|██████████████████████████████████████████████████████████████████████████████▊ | 280/284 [04:47<00:05,  1.28s/it]"
     ]
    },
    {
     "name": "stdout",
     "output_type": "stream",
     "text": [
      "-0.03938710674323473\n",
      "0.0835773009666649\n",
      "-3.052070758318851\n"
     ]
    },
    {
     "name": "stderr",
     "output_type": "stream",
     "text": [
      "\r",
      " 99%|███████████████████████████████████████████████████████████████████████████████▏| 281/284 [04:47<00:03,  1.06s/it]"
     ]
    },
    {
     "name": "stdout",
     "output_type": "stream",
     "text": [
      "nan\n",
      "nan\n",
      "nan\n"
     ]
    },
    {
     "name": "stderr",
     "output_type": "stream",
     "text": [
      "\r",
      " 99%|███████████████████████████████████████████████████████████████████████████████▍| 282/284 [04:48<00:02,  1.13s/it]"
     ]
    },
    {
     "name": "stdout",
     "output_type": "stream",
     "text": [
      "-0.0058240418254377774\n",
      "0.05149018219994438\n",
      "-0.01412551187477938\n"
     ]
    },
    {
     "name": "stderr",
     "output_type": "stream",
     "text": [
      "\r",
      "100%|███████████████████████████████████████████████████████████████████████████████▋| 283/284 [04:49<00:00,  1.03it/s]"
     ]
    },
    {
     "name": "stdout",
     "output_type": "stream",
     "text": [
      "0.2425138158637509\n",
      "4.686502436336936e-17\n",
      "-0.5922449842429448\n"
     ]
    },
    {
     "name": "stderr",
     "output_type": "stream",
     "text": [
      "100%|████████████████████████████████████████████████████████████████████████████████| 284/284 [04:49<00:00,  1.02s/it]\n"
     ]
    },
    {
     "name": "stdout",
     "output_type": "stream",
     "text": [
      "0.1591145740735924\n",
      "2.7755575615628914e-17\n",
      "-1.0\n"
     ]
    },
    {
     "name": "stderr",
     "output_type": "stream",
     "text": [
      "  1%|▊                                                                                 | 1/105 [00:01<02:59,  1.72s/it]"
     ]
    },
    {
     "name": "stdout",
     "output_type": "stream",
     "text": [
      "-0.01207634020620747\n",
      "0.021086813579002155\n",
      "-0.42809554793007154\n"
     ]
    },
    {
     "name": "stderr",
     "output_type": "stream",
     "text": [
      "\r",
      "  2%|█▌                                                                                | 2/105 [00:03<02:54,  1.70s/it]"
     ]
    },
    {
     "name": "stdout",
     "output_type": "stream",
     "text": [
      "-0.001781467976686093\n",
      "0.02665924039495512\n",
      "0.9654093473158403\n"
     ]
    },
    {
     "name": "stderr",
     "output_type": "stream",
     "text": [
      "\r",
      "  3%|██▎                                                                               | 3/105 [00:04<02:42,  1.59s/it]"
     ]
    },
    {
     "name": "stdout",
     "output_type": "stream",
     "text": [
      "-0.03675344352402824\n",
      "0.03708987757086341\n",
      "-3.268698610508169\n"
     ]
    },
    {
     "name": "stderr",
     "output_type": "stream",
     "text": [
      "\r",
      "  4%|███                                                                               | 4/105 [00:05<01:56,  1.15s/it]"
     ]
    },
    {
     "name": "stdout",
     "output_type": "stream",
     "text": [
      "-0.20782202562374022\n",
      "2.2411660569805868e-17\n",
      "1.2384435115451748\n"
     ]
    },
    {
     "name": "stderr",
     "output_type": "stream",
     "text": [
      "\r",
      "  5%|███▉                                                                              | 5/105 [00:05<01:36,  1.04it/s]"
     ]
    },
    {
     "name": "stdout",
     "output_type": "stream",
     "text": [
      "0.11476993493773159\n",
      "2.3575906810770954e-17\n",
      "1.1772856008638626\n"
     ]
    },
    {
     "name": "stderr",
     "output_type": "stream",
     "text": [
      "  7%|█████▍                                                                            | 7/105 [00:08<01:43,  1.06s/it]"
     ]
    },
    {
     "name": "stdout",
     "output_type": "stream",
     "text": [
      "-0.024214982881525158\n",
      "0.0274244122967425\n",
      "0.2647982389313248\n",
      "0.0\n",
      "0.0\n",
      "nan\n"
     ]
    },
    {
     "name": "stderr",
     "output_type": "stream",
     "text": [
      "\r",
      "  8%|██████▏                                                                           | 8/105 [00:10<02:15,  1.40s/it]"
     ]
    },
    {
     "name": "stdout",
     "output_type": "stream",
     "text": [
      "-0.09276915618854195\n",
      "0.034797366384894904\n",
      "3.395365792390257\n"
     ]
    },
    {
     "name": "stderr",
     "output_type": "stream",
     "text": [
      "\r",
      "  9%|███████                                                                           | 9/105 [00:13<02:47,  1.74s/it]"
     ]
    },
    {
     "name": "stdout",
     "output_type": "stream",
     "text": [
      "0.01821395434066958\n",
      "0.024906846924795847\n",
      "0.45411623870530365\n"
     ]
    },
    {
     "name": "stderr",
     "output_type": "stream",
     "text": [
      "\r",
      " 10%|███████▋                                                                         | 10/105 [00:13<02:13,  1.41s/it]"
     ]
    },
    {
     "name": "stdout",
     "output_type": "stream",
     "text": [
      "0.028008061646945855\n",
      "1.2692676622682557e-17\n",
      "1.0933696824052097\n"
     ]
    },
    {
     "name": "stderr",
     "output_type": "stream",
     "text": [
      "\r",
      " 10%|████████▍                                                                        | 11/105 [00:14<01:42,  1.09s/it]"
     ]
    },
    {
     "name": "stdout",
     "output_type": "stream",
     "text": [
      "0.055837604459599094\n",
      "1.6031698321714908e-17\n",
      "2.5969402983993937\n"
     ]
    },
    {
     "name": "stderr",
     "output_type": "stream",
     "text": [
      "\r",
      " 11%|█████████▎                                                                       | 12/105 [00:16<02:04,  1.34s/it]"
     ]
    },
    {
     "name": "stdout",
     "output_type": "stream",
     "text": [
      "-0.0006202593550591988\n",
      "0.03236476657412403\n",
      "3.5436548512658\n"
     ]
    },
    {
     "name": "stderr",
     "output_type": "stream",
     "text": [
      "\r",
      " 12%|██████████                                                                       | 13/105 [00:17<02:07,  1.39s/it]"
     ]
    },
    {
     "name": "stdout",
     "output_type": "stream",
     "text": [
      "0.010237634158723245\n",
      "0.03022404306626153\n",
      "-3.9258753967637507\n"
     ]
    },
    {
     "name": "stderr",
     "output_type": "stream",
     "text": [
      "\r",
      " 13%|██████████▊                                                                      | 14/105 [00:19<02:12,  1.46s/it]"
     ]
    },
    {
     "name": "stdout",
     "output_type": "stream",
     "text": [
      "0.01673336432418759\n",
      "0.026172813543707898\n",
      "1.0704245401251669\n"
     ]
    },
    {
     "name": "stderr",
     "output_type": "stream",
     "text": [
      "\r",
      " 14%|███████████▌                                                                     | 15/105 [00:21<02:27,  1.64s/it]"
     ]
    },
    {
     "name": "stdout",
     "output_type": "stream",
     "text": [
      "-0.0032985546785882\n",
      "0.034461858445165056\n",
      "1.2893407253043487\n"
     ]
    },
    {
     "name": "stderr",
     "output_type": "stream",
     "text": [
      "\r",
      " 15%|████████████▎                                                                    | 16/105 [00:22<02:22,  1.60s/it]"
     ]
    },
    {
     "name": "stdout",
     "output_type": "stream",
     "text": [
      "0.006938776951574226\n",
      "0.021559292029986972\n",
      "-2.365393454637348\n"
     ]
    },
    {
     "name": "stderr",
     "output_type": "stream",
     "text": [
      "\r",
      " 17%|█████████████▉                                                                   | 18/105 [00:23<01:34,  1.08s/it]"
     ]
    },
    {
     "name": "stdout",
     "output_type": "stream",
     "text": [
      "-0.004604116565303569\n",
      "0.029789081287020173\n",
      "-2.004464738262223\n"
     ]
    },
    {
     "name": "stderr",
     "output_type": "stream",
     "text": [
      "\r",
      " 18%|██████████████▋                                                                  | 19/105 [00:24<01:29,  1.04s/it]"
     ]
    },
    {
     "name": "stdout",
     "output_type": "stream",
     "text": [
      "-0.03542572150201801\n",
      "0.07773200451120163\n",
      "1.7547870426319983\n"
     ]
    },
    {
     "name": "stderr",
     "output_type": "stream",
     "text": [
      "\r",
      " 19%|███████████████▍                                                                 | 20/105 [00:25<01:21,  1.05it/s]"
     ]
    },
    {
     "name": "stdout",
     "output_type": "stream",
     "text": [
      "0.10359822964521018\n",
      "0.03589888564165755\n",
      "2.129035722426041\n"
     ]
    },
    {
     "name": "stderr",
     "output_type": "stream",
     "text": [
      "\r",
      " 20%|████████████████▏                                                                | 21/105 [00:27<01:53,  1.35s/it]"
     ]
    },
    {
     "name": "stdout",
     "output_type": "stream",
     "text": [
      "-0.043092590343148295\n",
      "0.018283636625120888\n",
      "-0.1445354564962997\n"
     ]
    },
    {
     "name": "stderr",
     "output_type": "stream",
     "text": [
      "\r",
      " 22%|█████████████████▋                                                               | 23/105 [00:29<01:31,  1.12s/it]"
     ]
    },
    {
     "name": "stdout",
     "output_type": "stream",
     "text": [
      "0.011029438981445117\n",
      "0.025686129590536642\n",
      "0.07913324507143221\n"
     ]
    },
    {
     "name": "stderr",
     "output_type": "stream",
     "text": [
      "\r",
      " 23%|██████████████████▌                                                              | 24/105 [00:31<01:39,  1.23s/it]"
     ]
    },
    {
     "name": "stdout",
     "output_type": "stream",
     "text": [
      "0.01616428938773168\n",
      "0.030910612542860306\n",
      "-2.1717721354802437\n"
     ]
    },
    {
     "name": "stderr",
     "output_type": "stream",
     "text": [
      "\r",
      " 24%|███████████████████▎                                                             | 25/105 [00:31<01:24,  1.05s/it]"
     ]
    },
    {
     "name": "stdout",
     "output_type": "stream",
     "text": [
      "-0.16579666746506988\n",
      "2.4228566755985166e-17\n",
      "0.0\n"
     ]
    },
    {
     "name": "stderr",
     "output_type": "stream",
     "text": [
      "\r",
      " 25%|████████████████████                                                             | 26/105 [00:33<01:47,  1.36s/it]"
     ]
    },
    {
     "name": "stdout",
     "output_type": "stream",
     "text": [
      "-0.010175792309155355\n",
      "0.02330945316309034\n",
      "-3.1045077645230204\n"
     ]
    },
    {
     "name": "stderr",
     "output_type": "stream",
     "text": [
      "\r",
      " 26%|████████████████████▊                                                            | 27/105 [00:35<01:42,  1.32s/it]"
     ]
    },
    {
     "name": "stdout",
     "output_type": "stream",
     "text": [
      "9.142555410067055e-05\n",
      "0.04292658322579294\n",
      "1.6865968999566745\n"
     ]
    },
    {
     "name": "stderr",
     "output_type": "stream",
     "text": [
      "\r",
      " 27%|█████████████████████▌                                                           | 28/105 [00:36<01:48,  1.41s/it]"
     ]
    },
    {
     "name": "stdout",
     "output_type": "stream",
     "text": [
      "0.03789870230641179\n",
      "0.03186859831224985\n",
      "-1.1395855522023288\n"
     ]
    },
    {
     "name": "stderr",
     "output_type": "stream",
     "text": [
      "\r",
      " 28%|██████████████████████▎                                                          | 29/105 [00:39<02:05,  1.66s/it]"
     ]
    },
    {
     "name": "stdout",
     "output_type": "stream",
     "text": [
      "-0.017195788337060508\n",
      "0.021892805117686258\n",
      "0.8997008251997266\n"
     ]
    },
    {
     "name": "stderr",
     "output_type": "stream",
     "text": [
      "\r",
      " 29%|███████████████████████▏                                                         | 30/105 [00:40<02:09,  1.73s/it]"
     ]
    },
    {
     "name": "stdout",
     "output_type": "stream",
     "text": [
      "0.047613924516827215\n",
      "0.028085687483474113\n",
      "0.3866087302810734\n"
     ]
    },
    {
     "name": "stderr",
     "output_type": "stream",
     "text": [
      "\r",
      " 30%|███████████████████████▉                                                         | 31/105 [00:43<02:21,  1.91s/it]"
     ]
    },
    {
     "name": "stdout",
     "output_type": "stream",
     "text": [
      "0.007059322581625883\n",
      "0.026615526289577526\n",
      "-0.13889316975834487\n"
     ]
    },
    {
     "name": "stderr",
     "output_type": "stream",
     "text": [
      "\r",
      " 30%|████████████████████████▋                                                        | 32/105 [00:45<02:29,  2.05s/it]"
     ]
    },
    {
     "name": "stdout",
     "output_type": "stream",
     "text": [
      "0.031050283968263776\n",
      "0.021872344294186528\n",
      "0.538003824398744\n"
     ]
    },
    {
     "name": "stderr",
     "output_type": "stream",
     "text": [
      "\r",
      " 31%|█████████████████████████▍                                                       | 33/105 [00:47<02:20,  1.95s/it]"
     ]
    },
    {
     "name": "stdout",
     "output_type": "stream",
     "text": [
      "0.01326731688015941\n",
      "0.030001600947096915\n",
      "-3.710625598684959\n"
     ]
    },
    {
     "name": "stderr",
     "output_type": "stream",
     "text": [
      "\r",
      " 32%|██████████████████████████▏                                                      | 34/105 [00:49<02:25,  2.05s/it]"
     ]
    },
    {
     "name": "stdout",
     "output_type": "stream",
     "text": [
      "0.0035198463777383216\n",
      "0.029359847857782933\n",
      "1.5386250874538117\n"
     ]
    },
    {
     "name": "stderr",
     "output_type": "stream",
     "text": [
      "\r",
      " 33%|███████████████████████████                                                      | 35/105 [00:51<02:20,  2.01s/it]"
     ]
    },
    {
     "name": "stdout",
     "output_type": "stream",
     "text": [
      "-0.05048717306817318\n",
      "0.01926279385865649\n",
      "0.9387036843573239\n",
      "0.0\n",
      "0.0\n",
      "nan\n"
     ]
    },
    {
     "name": "stderr",
     "output_type": "stream",
     "text": [
      "\r",
      " 35%|████████████████████████████▌                                                    | 37/105 [00:53<01:45,  1.55s/it]"
     ]
    },
    {
     "name": "stdout",
     "output_type": "stream",
     "text": [
      "-0.01586364502315544\n",
      "0.027615354562114364\n",
      "-2.3527530274767674\n"
     ]
    },
    {
     "name": "stderr",
     "output_type": "stream",
     "text": [
      "\r",
      " 36%|█████████████████████████████▎                                                   | 38/105 [00:55<01:57,  1.75s/it]"
     ]
    },
    {
     "name": "stdout",
     "output_type": "stream",
     "text": [
      "-0.004353949252996795\n",
      "0.0100967169045047\n",
      "-4.190971033387433\n"
     ]
    },
    {
     "name": "stderr",
     "output_type": "stream",
     "text": [
      "\r",
      " 37%|██████████████████████████████                                                   | 39/105 [00:58<02:05,  1.90s/it]"
     ]
    },
    {
     "name": "stdout",
     "output_type": "stream",
     "text": [
      "0.011494424925606695\n",
      "0.021919236431492156\n",
      "2.6815500728951673\n"
     ]
    },
    {
     "name": "stderr",
     "output_type": "stream",
     "text": [
      "\r",
      " 39%|███████████████████████████████▋                                                 | 41/105 [00:58<01:15,  1.18s/it]"
     ]
    },
    {
     "name": "stdout",
     "output_type": "stream",
     "text": [
      "-0.01568678947185133\n",
      "0.0852359749780005\n",
      "-0.06928214786242626\n"
     ]
    },
    {
     "name": "stderr",
     "output_type": "stream",
     "text": [
      "\r",
      " 40%|████████████████████████████████▍                                                | 42/105 [00:59<01:13,  1.17s/it]"
     ]
    },
    {
     "name": "stdout",
     "output_type": "stream",
     "text": [
      "0.03036853191791621\n",
      "0.0294987652447927\n",
      "1.0108723429612045\n"
     ]
    },
    {
     "name": "stderr",
     "output_type": "stream",
     "text": [
      " 42%|█████████████████████████████████▉                                               | 44/105 [01:00<00:44,  1.37it/s]"
     ]
    },
    {
     "name": "stdout",
     "output_type": "stream",
     "text": [
      "0.22789070619223753\n",
      "2.482534153247273e-17\n",
      "0.0\n",
      "-0.1973361414439725\n",
      "2.2548736224414668e-17\n",
      "1.2309149097933274\n"
     ]
    },
    {
     "name": "stderr",
     "output_type": "stream",
     "text": [
      "\r",
      " 43%|██████████████████████████████████▋                                              | 45/105 [01:00<00:40,  1.48it/s]"
     ]
    },
    {
     "name": "stdout",
     "output_type": "stream",
     "text": [
      "0.1881012303642886\n",
      "1.423403773177299e-17\n",
      "0.0\n"
     ]
    },
    {
     "name": "stderr",
     "output_type": "stream",
     "text": [
      "\r",
      " 44%|███████████████████████████████████▍                                             | 46/105 [01:03<01:08,  1.16s/it]"
     ]
    },
    {
     "name": "stdout",
     "output_type": "stream",
     "text": [
      "-0.025402775807912604\n",
      "0.018199541175829267\n",
      "0.5328951422794482\n"
     ]
    },
    {
     "name": "stderr",
     "output_type": "stream",
     "text": [
      "\r",
      " 45%|████████████████████████████████████▎                                            | 47/105 [01:04<01:03,  1.10s/it]"
     ]
    },
    {
     "name": "stdout",
     "output_type": "stream",
     "text": [
      "0.053240913577524564\n",
      "0.05170348876605129\n",
      "-4.272267095478769\n"
     ]
    },
    {
     "name": "stderr",
     "output_type": "stream",
     "text": [
      "\r",
      " 46%|█████████████████████████████████████                                            | 48/105 [01:05<01:04,  1.13s/it]"
     ]
    },
    {
     "name": "stdout",
     "output_type": "stream",
     "text": [
      "-0.05026717873077612\n",
      "0.042590883905520495\n",
      "2.312420405360516\n"
     ]
    },
    {
     "name": "stderr",
     "output_type": "stream",
     "text": [
      "\r",
      " 47%|█████████████████████████████████████▊                                           | 49/105 [01:06<01:09,  1.24s/it]"
     ]
    },
    {
     "name": "stdout",
     "output_type": "stream",
     "text": [
      "0.10481552629185202\n",
      "0.024887327158785815\n",
      "-4.0894530896608\n"
     ]
    },
    {
     "name": "stderr",
     "output_type": "stream",
     "text": [
      "\r",
      " 49%|███████████████████████████████████████▎                                         | 51/105 [01:07<00:42,  1.28it/s]"
     ]
    },
    {
     "name": "stdout",
     "output_type": "stream",
     "text": [
      "-0.11099583513905854\n",
      "2.5899833969160386e-17\n",
      "-1.0716507159342492\n"
     ]
    },
    {
     "name": "stderr",
     "output_type": "stream",
     "text": [
      " 50%|████████████████████████████████████████▉                                        | 53/105 [01:08<00:38,  1.35it/s]"
     ]
    },
    {
     "name": "stdout",
     "output_type": "stream",
     "text": [
      "-0.009531030647454388\n",
      "0.01310176010168376\n",
      "-1.6254260507067984\n",
      "0.0\n",
      "0.0\n",
      "nan\n"
     ]
    },
    {
     "name": "stderr",
     "output_type": "stream",
     "text": [
      "\r",
      " 51%|█████████████████████████████████████████▋                                       | 54/105 [01:09<00:33,  1.54it/s]"
     ]
    },
    {
     "name": "stdout",
     "output_type": "stream",
     "text": [
      "0.06938513179300776\n",
      "1.414581638583768e-17\n",
      "0.9810524489564587\n"
     ]
    },
    {
     "name": "stderr",
     "output_type": "stream",
     "text": [
      "\r",
      " 52%|██████████████████████████████████████████▍                                      | 55/105 [01:09<00:31,  1.61it/s]"
     ]
    },
    {
     "name": "stdout",
     "output_type": "stream",
     "text": [
      "0.006698750700402119\n",
      "0.03930142503314691\n",
      "2.139680680495803\n"
     ]
    },
    {
     "name": "stderr",
     "output_type": "stream",
     "text": [
      "\r",
      " 53%|███████████████████████████████████████████▏                                     | 56/105 [01:12<00:53,  1.09s/it]"
     ]
    },
    {
     "name": "stdout",
     "output_type": "stream",
     "text": [
      "-0.021295039241399583\n",
      "0.014456184273449663\n",
      "-0.48478820134014416\n"
     ]
    },
    {
     "name": "stderr",
     "output_type": "stream",
     "text": [
      "\r",
      " 54%|███████████████████████████████████████████▉                                     | 57/105 [01:14<01:04,  1.33s/it]"
     ]
    },
    {
     "name": "stdout",
     "output_type": "stream",
     "text": [
      "0.0290971851390732\n",
      "0.027941160750811777\n",
      "1.1436004467321714\n"
     ]
    },
    {
     "name": "stderr",
     "output_type": "stream",
     "text": [
      "\r",
      " 55%|████████████████████████████████████████████▋                                    | 58/105 [01:15<01:03,  1.36s/it]"
     ]
    },
    {
     "name": "stdout",
     "output_type": "stream",
     "text": [
      "0.026394416340518846\n",
      "0.03538075555201535\n",
      "0.44679695988582385\n"
     ]
    },
    {
     "name": "stderr",
     "output_type": "stream",
     "text": [
      "\r",
      " 56%|█████████████████████████████████████████████▌                                   | 59/105 [01:16<01:04,  1.40s/it]"
     ]
    },
    {
     "name": "stdout",
     "output_type": "stream",
     "text": [
      "0.0036497432325325895\n",
      "0.033418841005197146\n",
      "-2.8653647480125244\n"
     ]
    },
    {
     "name": "stderr",
     "output_type": "stream",
     "text": [
      "\r",
      " 57%|██████████████████████████████████████████████▎                                  | 60/105 [01:17<00:48,  1.08s/it]"
     ]
    },
    {
     "name": "stdout",
     "output_type": "stream",
     "text": [
      "0.25170531054303025\n",
      "9.423825210368889e-17\n",
      "0.0\n"
     ]
    },
    {
     "name": "stderr",
     "output_type": "stream",
     "text": [
      "\r",
      " 58%|███████████████████████████████████████████████                                  | 61/105 [01:18<00:45,  1.04s/it]"
     ]
    },
    {
     "name": "stdout",
     "output_type": "stream",
     "text": [
      "-0.018738042860473734\n",
      "0.01780754397403144\n",
      "3.4344594832825805\n"
     ]
    },
    {
     "name": "stderr",
     "output_type": "stream",
     "text": [
      "\r",
      " 59%|███████████████████████████████████████████████▊                                 | 62/105 [01:19<00:49,  1.16s/it]"
     ]
    },
    {
     "name": "stdout",
     "output_type": "stream",
     "text": [
      "0.03743185548820905\n",
      "0.03066335641116158\n",
      "3.4728637672823233\n"
     ]
    },
    {
     "name": "stderr",
     "output_type": "stream",
     "text": [
      " 61%|█████████████████████████████████████████████████▎                               | 64/105 [01:21<00:38,  1.08it/s]"
     ]
    },
    {
     "name": "stdout",
     "output_type": "stream",
     "text": [
      "0.006506194381117151\n",
      "0.03369283467874665\n",
      "-2.1149105858157844\n",
      "0.0\n",
      "0.0\n",
      "nan\n"
     ]
    },
    {
     "name": "stderr",
     "output_type": "stream",
     "text": [
      "\r",
      " 62%|██████████████████████████████████████████████████▏                              | 65/105 [01:22<00:38,  1.04it/s]"
     ]
    },
    {
     "name": "stdout",
     "output_type": "stream",
     "text": [
      "-0.028667631960538103\n",
      "0.04964857136675069\n",
      "-2.9871667464881866\n"
     ]
    },
    {
     "name": "stderr",
     "output_type": "stream",
     "text": [
      "\r",
      " 63%|██████████████████████████████████████████████████▉                              | 66/105 [01:24<00:54,  1.39s/it]"
     ]
    },
    {
     "name": "stdout",
     "output_type": "stream",
     "text": [
      "-0.0027421532166423583\n",
      "0.022736802122184263\n",
      "0.1680661103736925\n"
     ]
    },
    {
     "name": "stderr",
     "output_type": "stream",
     "text": [
      "\r",
      " 64%|███████████████████████████████████████████████████▋                             | 67/105 [01:26<00:58,  1.55s/it]"
     ]
    },
    {
     "name": "stdout",
     "output_type": "stream",
     "text": [
      "0.012006714508454962\n",
      "0.025403518029825097\n",
      "0.959455160924421\n"
     ]
    },
    {
     "name": "stderr",
     "output_type": "stream",
     "text": [
      "\r",
      " 65%|████████████████████████████████████████████████████▍                            | 68/105 [01:28<00:55,  1.51s/it]"
     ]
    },
    {
     "name": "stdout",
     "output_type": "stream",
     "text": [
      "0.03585488342654048\n",
      "0.020416479642152666\n",
      "1.402441066482148\n"
     ]
    },
    {
     "name": "stderr",
     "output_type": "stream",
     "text": [
      "\r",
      " 66%|█████████████████████████████████████████████████████▏                           | 69/105 [01:29<00:48,  1.34s/it]"
     ]
    },
    {
     "name": "stdout",
     "output_type": "stream",
     "text": [
      "0.022216058768441085\n",
      "0.04677861881027394\n",
      "3.2179769017705584\n"
     ]
    },
    {
     "name": "stderr",
     "output_type": "stream",
     "text": [
      "\r",
      " 67%|██████████████████████████████████████████████████████                           | 70/105 [01:29<00:36,  1.03s/it]"
     ]
    },
    {
     "name": "stdout",
     "output_type": "stream",
     "text": [
      "-0.26405580946668916\n",
      "5.0328749863851106e-17\n",
      "0.0\n"
     ]
    },
    {
     "name": "stderr",
     "output_type": "stream",
     "text": [
      "\r",
      " 68%|██████████████████████████████████████████████████████▊                          | 71/105 [01:30<00:33,  1.02it/s]"
     ]
    },
    {
     "name": "stdout",
     "output_type": "stream",
     "text": [
      "-0.04067491915782345\n",
      "0.04007723248971394\n",
      "-2.816890747985272\n"
     ]
    },
    {
     "name": "stderr",
     "output_type": "stream",
     "text": [
      "\r",
      " 69%|███████████████████████████████████████████████████████▌                         | 72/105 [01:31<00:37,  1.13s/it]"
     ]
    },
    {
     "name": "stdout",
     "output_type": "stream",
     "text": [
      "0.004734956139494423\n",
      "0.03648169771350276\n",
      "-2.8399915950396246\n"
     ]
    },
    {
     "name": "stderr",
     "output_type": "stream",
     "text": [
      "\r",
      " 70%|████████████████████████████████████████████████████████▎                        | 73/105 [01:34<00:47,  1.50s/it]"
     ]
    },
    {
     "name": "stdout",
     "output_type": "stream",
     "text": [
      "-0.025260870726338175\n",
      "0.028363520368344122\n",
      "-2.585506016431005\n"
     ]
    },
    {
     "name": "stderr",
     "output_type": "stream",
     "text": [
      "\r",
      " 70%|█████████████████████████████████████████████████████████                        | 74/105 [01:35<00:42,  1.36s/it]"
     ]
    },
    {
     "name": "stdout",
     "output_type": "stream",
     "text": [
      "-0.010706520862782959\n",
      "0.043255562762503155\n",
      "-2.8523043242632733\n"
     ]
    },
    {
     "name": "stderr",
     "output_type": "stream",
     "text": [
      "\r",
      " 71%|█████████████████████████████████████████████████████████▊                       | 75/105 [01:35<00:31,  1.06s/it]"
     ]
    },
    {
     "name": "stdout",
     "output_type": "stream",
     "text": [
      "-0.20370021093167756\n",
      "4.3061413707123347e-17\n",
      "0.0\n"
     ]
    },
    {
     "name": "stderr",
     "output_type": "stream",
     "text": [
      "\r",
      " 72%|██████████████████████████████████████████████████████████▋                      | 76/105 [01:35<00:25,  1.13it/s]"
     ]
    },
    {
     "name": "stdout",
     "output_type": "stream",
     "text": [
      "0.3365910262423545\n",
      "7.531944798116249e-17\n",
      "1.4740190672969682\n"
     ]
    },
    {
     "name": "stderr",
     "output_type": "stream",
     "text": [
      "\r",
      " 73%|███████████████████████████████████████████████████████████▍                     | 77/105 [01:36<00:25,  1.10it/s]"
     ]
    },
    {
     "name": "stdout",
     "output_type": "stream",
     "text": [
      "-0.004723970315544294\n",
      "0.034176765971234195\n",
      "-3.5445872836629753\n"
     ]
    },
    {
     "name": "stderr",
     "output_type": "stream",
     "text": [
      "\r",
      " 74%|████████████████████████████████████████████████████████████▏                    | 78/105 [01:39<00:36,  1.35s/it]"
     ]
    },
    {
     "name": "stdout",
     "output_type": "stream",
     "text": [
      "-0.002513129918783827\n",
      "0.04066462324492689\n",
      "0.06368916772283333\n"
     ]
    },
    {
     "name": "stderr",
     "output_type": "stream",
     "text": [
      "\r",
      " 75%|████████████████████████████████████████████████████████████▉                    | 79/105 [01:41<00:42,  1.62s/it]"
     ]
    },
    {
     "name": "stdout",
     "output_type": "stream",
     "text": [
      "0.015815738477547022\n",
      "0.02191978625694935\n",
      "-1.2950900965842946\n"
     ]
    },
    {
     "name": "stderr",
     "output_type": "stream",
     "text": [
      "\r",
      " 76%|█████████████████████████████████████████████████████████████▋                   | 80/105 [01:42<00:39,  1.57s/it]"
     ]
    },
    {
     "name": "stdout",
     "output_type": "stream",
     "text": [
      "0.013366125131160565\n",
      "0.0260210215810011\n",
      "1.1376148494653304\n"
     ]
    },
    {
     "name": "stderr",
     "output_type": "stream",
     "text": [
      "\r",
      " 77%|██████████████████████████████████████████████████████████████▍                  | 81/105 [01:43<00:30,  1.26s/it]"
     ]
    },
    {
     "name": "stdout",
     "output_type": "stream",
     "text": [
      "-0.01055772437150367\n",
      "7.921059680970117e-18\n",
      "1.53301007957441\n"
     ]
    },
    {
     "name": "stderr",
     "output_type": "stream",
     "text": [
      "\r",
      " 78%|███████████████████████████████████████████████████████████████▎                 | 82/105 [01:44<00:30,  1.33s/it]"
     ]
    },
    {
     "name": "stdout",
     "output_type": "stream",
     "text": [
      "-0.004634373170879215\n",
      "0.03811387849704312\n",
      "0.2596061667536636\n"
     ]
    },
    {
     "name": "stderr",
     "output_type": "stream",
     "text": [
      "\r",
      " 79%|████████████████████████████████████████████████████████████████                 | 83/105 [01:45<00:24,  1.10s/it]"
     ]
    },
    {
     "name": "stdout",
     "output_type": "stream",
     "text": [
      "0.008801396085456764\n",
      "1.3221278931232277e-17\n",
      "-1.7056901457865703\n"
     ]
    },
    {
     "name": "stderr",
     "output_type": "stream",
     "text": [
      "\r",
      " 80%|████████████████████████████████████████████████████████████████▊                | 84/105 [01:46<00:19,  1.10it/s]"
     ]
    },
    {
     "name": "stdout",
     "output_type": "stream",
     "text": [
      "-0.11548046839622497\n",
      "4.114945451771211e-17\n",
      "-2.0235195781525106\n"
     ]
    },
    {
     "name": "stderr",
     "output_type": "stream",
     "text": [
      "\r",
      " 81%|█████████████████████████████████████████████████████████████████▌               | 85/105 [01:47<00:18,  1.07it/s]"
     ]
    },
    {
     "name": "stdout",
     "output_type": "stream",
     "text": [
      "-0.02494907650301672\n",
      "0.048896203062821685\n",
      "1.0742130485567178\n"
     ]
    },
    {
     "name": "stderr",
     "output_type": "stream",
     "text": [
      "\r",
      " 82%|██████████████████████████████████████████████████████████████████▎              | 86/105 [01:49<00:26,  1.37s/it]"
     ]
    },
    {
     "name": "stdout",
     "output_type": "stream",
     "text": [
      "0.029185665234016965\n",
      "0.014117106200263987\n",
      "0.23010433787025\n"
     ]
    },
    {
     "name": "stderr",
     "output_type": "stream",
     "text": [
      "\r",
      " 83%|███████████████████████████████████████████████████████████████████              | 87/105 [01:51<00:27,  1.53s/it]"
     ]
    },
    {
     "name": "stdout",
     "output_type": "stream",
     "text": [
      "-0.04699972196348222\n",
      "0.04275615487680431\n",
      "1.364352579440206\n"
     ]
    },
    {
     "name": "stderr",
     "output_type": "stream",
     "text": [
      "\r",
      " 84%|███████████████████████████████████████████████████████████████████▉             | 88/105 [01:51<00:19,  1.18s/it]"
     ]
    },
    {
     "name": "stdout",
     "output_type": "stream",
     "text": [
      "-0.09632441963076811\n",
      "1.534107685933814e-17\n",
      "0.9046162753149251\n"
     ]
    },
    {
     "name": "stderr",
     "output_type": "stream",
     "text": [
      "\r",
      " 85%|████████████████████████████████████████████████████████████████████▋            | 89/105 [01:54<00:24,  1.53s/it]"
     ]
    },
    {
     "name": "stdout",
     "output_type": "stream",
     "text": [
      "-0.02214316987393303\n",
      "0.015306085986132319\n",
      "3.943606772673328\n"
     ]
    },
    {
     "name": "stderr",
     "output_type": "stream",
     "text": [
      "\r",
      " 86%|█████████████████████████████████████████████████████████████████████▍           | 90/105 [01:54<00:18,  1.22s/it]"
     ]
    },
    {
     "name": "stdout",
     "output_type": "stream",
     "text": [
      "0.0483470208352306\n",
      "9.749084200862668e-18\n",
      "0.7117482792171623\n"
     ]
    },
    {
     "name": "stderr",
     "output_type": "stream",
     "text": [
      "\r",
      " 87%|██████████████████████████████████████████████████████████████████████▏          | 91/105 [01:56<00:21,  1.56s/it]"
     ]
    },
    {
     "name": "stdout",
     "output_type": "stream",
     "text": [
      "0.04714912901523297\n",
      "0.02370653809964918\n",
      "-5.055723176995202\n"
     ]
    },
    {
     "name": "stderr",
     "output_type": "stream",
     "text": [
      "\r",
      " 88%|██████████████████████████████████████████████████████████████████████▉          | 92/105 [01:58<00:20,  1.58s/it]"
     ]
    },
    {
     "name": "stdout",
     "output_type": "stream",
     "text": [
      "0.04966740038539622\n",
      "0.025559555335705517\n",
      "-4.781138377581183\n"
     ]
    },
    {
     "name": "stderr",
     "output_type": "stream",
     "text": [
      "\r",
      " 89%|███████████████████████████████████████████████████████████████████████▋         | 93/105 [01:59<00:18,  1.55s/it]"
     ]
    },
    {
     "name": "stdout",
     "output_type": "stream",
     "text": [
      "0.03705551281119986\n",
      "0.03432543993368088\n",
      "1.703460748728948\n"
     ]
    },
    {
     "name": "stderr",
     "output_type": "stream",
     "text": [
      "\r",
      " 90%|████████████████████████████████████████████████████████████████████████▌        | 94/105 [02:00<00:13,  1.25s/it]"
     ]
    },
    {
     "name": "stdout",
     "output_type": "stream",
     "text": [
      "0.18548830800999683\n",
      "5.580182375232267e-17\n",
      "-0.9947909852847283\n"
     ]
    },
    {
     "name": "stderr",
     "output_type": "stream",
     "text": [
      "\r",
      " 90%|█████████████████████████████████████████████████████████████████████████▎       | 95/105 [02:01<00:13,  1.32s/it]"
     ]
    },
    {
     "name": "stdout",
     "output_type": "stream",
     "text": [
      "0.0037466337923846675\n",
      "0.022151474566108165\n",
      "3.5335105605999515\n"
     ]
    },
    {
     "name": "stderr",
     "output_type": "stream",
     "text": [
      "\r",
      " 91%|██████████████████████████████████████████████████████████████████████████       | 96/105 [02:03<00:12,  1.36s/it]"
     ]
    },
    {
     "name": "stdout",
     "output_type": "stream",
     "text": [
      "0.07600495557367178\n",
      "0.017543821196353445\n",
      "3.0486223444573066\n"
     ]
    },
    {
     "name": "stderr",
     "output_type": "stream",
     "text": [
      "\r",
      " 92%|██████████████████████████████████████████████████████████████████████████▊      | 97/105 [02:04<00:11,  1.40s/it]"
     ]
    },
    {
     "name": "stdout",
     "output_type": "stream",
     "text": [
      "0.014017022120931\n",
      "0.022871909565511127\n",
      "1.6533349571981741\n"
     ]
    },
    {
     "name": "stderr",
     "output_type": "stream",
     "text": [
      "\r",
      " 93%|███████████████████████████████████████████████████████████████████████████▌     | 98/105 [02:05<00:07,  1.14s/it]"
     ]
    },
    {
     "name": "stdout",
     "output_type": "stream",
     "text": [
      "-0.053362782588176394\n",
      "1.3856955490128682e-17\n",
      "1.0015033834597085\n"
     ]
    },
    {
     "name": "stderr",
     "output_type": "stream",
     "text": [
      "\r",
      " 94%|████████████████████████████████████████████████████████████████████████████▎    | 99/105 [02:06<00:07,  1.25s/it]"
     ]
    },
    {
     "name": "stdout",
     "output_type": "stream",
     "text": [
      "0.006027614079396542\n",
      "0.017699173474330733\n",
      "1.454489276577862\n"
     ]
    },
    {
     "name": "stderr",
     "output_type": "stream",
     "text": [
      "\r",
      " 95%|████████████████████████████████████████████████████████████████████████████▏   | 100/105 [02:07<00:05,  1.05s/it]"
     ]
    },
    {
     "name": "stdout",
     "output_type": "stream",
     "text": [
      "0.08977978777689404\n",
      "0.03537775737817495\n",
      "1.0992970236036437\n"
     ]
    },
    {
     "name": "stderr",
     "output_type": "stream",
     "text": [
      "\r",
      " 96%|████████████████████████████████████████████████████████████████████████████▉   | 101/105 [02:07<00:03,  1.18it/s]"
     ]
    },
    {
     "name": "stdout",
     "output_type": "stream",
     "text": [
      "0.2222407218737218\n",
      "1.0972407788791614e-16\n",
      "-1.0118317200708276\n"
     ]
    },
    {
     "name": "stderr",
     "output_type": "stream",
     "text": [
      "\r",
      " 97%|█████████████████████████████████████████████████████████████████████████████▋  | 102/105 [02:10<00:03,  1.24s/it]"
     ]
    },
    {
     "name": "stdout",
     "output_type": "stream",
     "text": [
      "-0.0015995849511319339\n",
      "0.025649521638022074\n",
      "-3.5122762972456614\n"
     ]
    },
    {
     "name": "stderr",
     "output_type": "stream",
     "text": [
      "\r",
      " 98%|██████████████████████████████████████████████████████████████████████████████▍ | 103/105 [02:12<00:03,  1.57s/it]"
     ]
    },
    {
     "name": "stdout",
     "output_type": "stream",
     "text": [
      "-0.025237721928198568\n",
      "0.024025900150668845\n",
      "4.1737920498667584\n"
     ]
    },
    {
     "name": "stderr",
     "output_type": "stream",
     "text": [
      "\r",
      " 99%|███████████████████████████████████████████████████████████████████████████████▏| 104/105 [02:13<00:01,  1.53s/it]"
     ]
    },
    {
     "name": "stdout",
     "output_type": "stream",
     "text": [
      "-0.04635836433911858\n",
      "0.033932992207596956\n",
      "0.43623714714880374\n"
     ]
    },
    {
     "name": "stderr",
     "output_type": "stream",
     "text": [
      "100%|████████████████████████████████████████████████████████████████████████████████| 105/105 [02:15<00:00,  1.29s/it]\n"
     ]
    },
    {
     "name": "stdout",
     "output_type": "stream",
     "text": [
      "0.04922015390094077\n",
      "0.023603445386858737\n",
      "-3.996656725508675\n"
     ]
    },
    {
     "name": "stderr",
     "output_type": "stream",
     "text": [
      "100%|████████████████████████████████████████████████████████████████████████████████████| 1/1 [00:02<00:00,  2.37s/it]\n"
     ]
    },
    {
     "name": "stdout",
     "output_type": "stream",
     "text": [
      "-0.0042140651424334725\n",
      "0.017155628061790225\n",
      "1.1655153188357854\n"
     ]
    },
    {
     "name": "stderr",
     "output_type": "stream",
     "text": [
      "100%|████████████████████████████████████████████████████████████████████████████████████████████| 2/2 [00:00<?, ?it/s]\n",
      "  5%|███▉                                                                               | 1/21 [00:00<00:10,  1.95it/s]"
     ]
    },
    {
     "name": "stdout",
     "output_type": "stream",
     "text": [
      "0.1543124193934961\n",
      "3.4921323582962855e-17\n",
      "0.79480308212516\n"
     ]
    },
    {
     "name": "stderr",
     "output_type": "stream",
     "text": [
      "\r",
      " 10%|███████▉                                                                           | 2/21 [00:01<00:09,  1.91it/s]"
     ]
    },
    {
     "name": "stdout",
     "output_type": "stream",
     "text": [
      "0.13313512943040756\n",
      "4.155001326291868e-17\n",
      "1.3360080267603371\n"
     ]
    },
    {
     "name": "stderr",
     "output_type": "stream",
     "text": [
      "\r",
      " 14%|███████████▊                                                                       | 3/21 [00:01<00:09,  1.91it/s]"
     ]
    },
    {
     "name": "stdout",
     "output_type": "stream",
     "text": [
      "0.014320012988575902\n",
      "9.532932916224397e-18\n",
      "0.18197164411221511\n"
     ]
    },
    {
     "name": "stderr",
     "output_type": "stream",
     "text": [
      " 29%|███████████████████████▋                                                           | 6/21 [00:02<00:04,  3.21it/s]"
     ]
    },
    {
     "name": "stdout",
     "output_type": "stream",
     "text": [
      "-0.08478650207160007\n",
      "2.4284146041633244e-17\n",
      "1.1429504487431503\n",
      "0.0\n",
      "0.0\n",
      "nan\n"
     ]
    },
    {
     "name": "stderr",
     "output_type": "stream",
     "text": [
      "\r",
      " 33%|███████████████████████████▋                                                       | 7/21 [00:02<00:05,  2.57it/s]"
     ]
    },
    {
     "name": "stdout",
     "output_type": "stream",
     "text": [
      "0.2335207756255948\n",
      "0.006369156081403998\n",
      "-0.015416881683706621\n"
     ]
    },
    {
     "name": "stderr",
     "output_type": "stream",
     "text": [
      "\r",
      " 38%|███████████████████████████████▌                                                   | 8/21 [00:03<00:05,  2.24it/s]"
     ]
    },
    {
     "name": "stdout",
     "output_type": "stream",
     "text": [
      "0.20168611703585806\n",
      "0.00570450441771993\n",
      "0.02746661367172024\n"
     ]
    },
    {
     "name": "stderr",
     "output_type": "stream",
     "text": [
      "\r",
      " 43%|███████████████████████████████████▌                                               | 9/21 [00:03<00:05,  2.05it/s]"
     ]
    },
    {
     "name": "stdout",
     "output_type": "stream",
     "text": [
      "0.26661599391392754\n",
      "0.004457596545765913\n",
      "0.05265837786346743\n"
     ]
    },
    {
     "name": "stderr",
     "output_type": "stream",
     "text": [
      "\r",
      " 48%|███████████████████████████████████████                                           | 10/21 [00:04<00:05,  1.93it/s]"
     ]
    },
    {
     "name": "stdout",
     "output_type": "stream",
     "text": [
      "0.22325553220549912\n",
      "0.014578060461446196\n",
      "0.036476598677443836\n"
     ]
    },
    {
     "name": "stderr",
     "output_type": "stream",
     "text": [
      " 81%|██████████████████████████████████████████████████████████████████▍               | 17/21 [00:06<00:01,  3.66it/s]"
     ]
    },
    {
     "name": "stdout",
     "output_type": "stream",
     "text": [
      "0.0024575698318146165\n",
      "0.017425478419614237\n",
      "2.0805323806627207\n",
      "0.39368497736038854\n",
      "5.008324230288945e-17\n",
      "-1.1083777463036817\n",
      "0.20341264860122782\n",
      "5.756856996922501e-17\n",
      "-0.9642614235672862\n"
     ]
    },
    {
     "name": "stderr",
     "output_type": "stream",
     "text": [
      "\r",
      " 90%|██████████████████████████████████████████████████████████████████████████▏       | 19/21 [00:07<00:00,  3.16it/s]"
     ]
    },
    {
     "name": "stdout",
     "output_type": "stream",
     "text": [
      "-0.029983787956179408\n",
      "1.8928051085746667e-17\n",
      "-0.3665931517446296\n"
     ]
    },
    {
     "name": "stderr",
     "output_type": "stream",
     "text": [
      "\r",
      " 95%|██████████████████████████████████████████████████████████████████████████████    | 20/21 [00:07<00:00,  3.02it/s]"
     ]
    },
    {
     "name": "stdout",
     "output_type": "stream",
     "text": [
      "0.11382352078931439\n",
      "3.149676990349749e-17\n",
      "0.8812197473159575\n"
     ]
    },
    {
     "name": "stderr",
     "output_type": "stream",
     "text": [
      "100%|██████████████████████████████████████████████████████████████████████████████████| 21/21 [00:08<00:00,  2.51it/s]\n"
     ]
    },
    {
     "name": "stdout",
     "output_type": "stream",
     "text": [
      "-0.035488672049383815\n",
      "8.469999434971914e-18\n",
      "0.0\n"
     ]
    },
    {
     "name": "stderr",
     "output_type": "stream",
     "text": [
      " 50%|██████████████████████████████████████████                                          | 1/2 [00:00<00:00,  2.25it/s]"
     ]
    },
    {
     "name": "stdout",
     "output_type": "stream",
     "text": [
      "-0.14288463694710396\n",
      "2.3811631099687443e-17\n",
      "1.1656310103003922\n"
     ]
    },
    {
     "name": "stderr",
     "output_type": "stream",
     "text": [
      "100%|████████████████████████████████████████████████████████████████████████████████████| 2/2 [00:00<00:00,  2.06it/s]\n"
     ]
    },
    {
     "name": "stdout",
     "output_type": "stream",
     "text": [
      "-0.12750261387192502\n",
      "2.0034065997952088e-17\n",
      "0.0\n"
     ]
    },
    {
     "name": "stderr",
     "output_type": "stream",
     "text": [
      "  3%|██▌                                                                                | 1/32 [00:02<01:14,  2.39s/it]"
     ]
    },
    {
     "name": "stdout",
     "output_type": "stream",
     "text": [
      "0.012562790420848863\n",
      "0.016372148928375636\n",
      "-2.280007055650953\n"
     ]
    },
    {
     "name": "stderr",
     "output_type": "stream",
     "text": [
      "\r",
      "  6%|█████▏                                                                             | 2/32 [00:02<00:33,  1.11s/it]"
     ]
    },
    {
     "name": "stdout",
     "output_type": "stream",
     "text": [
      "-0.4753277984502765\n",
      "1.0235750533041807e-17\n",
      "0.0\n"
     ]
    },
    {
     "name": "stderr",
     "output_type": "stream",
     "text": [
      " 12%|██████████▍                                                                        | 4/32 [00:05<00:29,  1.06s/it]"
     ]
    },
    {
     "name": "stdout",
     "output_type": "stream",
     "text": [
      "-0.013176001507883195\n",
      "0.041133911974537425\n",
      "-0.31774185363836466\n",
      "-0.40378351581202954\n",
      "5.551115123125783e-17\n",
      "-1.0\n"
     ]
    },
    {
     "name": "stderr",
     "output_type": "stream",
     "text": [
      "\r",
      " 16%|████████████▉                                                                      | 5/32 [00:08<00:50,  1.87s/it]"
     ]
    },
    {
     "name": "stdout",
     "output_type": "stream",
     "text": [
      "-0.02180474567898336\n",
      "0.015321306609622016\n",
      "3.038049886496129\n"
     ]
    },
    {
     "name": "stderr",
     "output_type": "stream",
     "text": [
      "\r",
      " 19%|███████████████▌                                                                   | 6/32 [00:11<00:55,  2.15s/it]"
     ]
    },
    {
     "name": "stdout",
     "output_type": "stream",
     "text": [
      "-0.004160491616842154\n",
      "0.03167772187831298\n",
      "-1.7219402589331947\n"
     ]
    },
    {
     "name": "stderr",
     "output_type": "stream",
     "text": [
      "\r",
      " 22%|██████████████████▏                                                                | 7/32 [00:13<00:52,  2.09s/it]"
     ]
    },
    {
     "name": "stdout",
     "output_type": "stream",
     "text": [
      "0.006102878852657678\n",
      "0.0285808924147454\n",
      "2.2532361216582397\n"
     ]
    },
    {
     "name": "stderr",
     "output_type": "stream",
     "text": [
      "\r",
      " 25%|████████████████████▊                                                              | 8/32 [00:15<00:52,  2.20s/it]"
     ]
    },
    {
     "name": "stdout",
     "output_type": "stream",
     "text": [
      "0.02009547130883351\n",
      "0.022668072105961383\n",
      "-0.34367103539649446\n"
     ]
    },
    {
     "name": "stderr",
     "output_type": "stream",
     "text": [
      "\r",
      " 28%|███████████████████████▎                                                           | 9/32 [00:16<00:42,  1.84s/it]"
     ]
    },
    {
     "name": "stdout",
     "output_type": "stream",
     "text": [
      "-0.039907272037698976\n",
      "0.043910597329515716\n",
      "-1.71707902846714\n"
     ]
    },
    {
     "name": "stderr",
     "output_type": "stream",
     "text": [
      "\r",
      " 31%|█████████████████████████▋                                                        | 10/32 [00:18<00:44,  2.03s/it]"
     ]
    },
    {
     "name": "stdout",
     "output_type": "stream",
     "text": [
      "-0.058130413098818515\n",
      "0.02657042378053035\n",
      "-1.9035715207092117\n"
     ]
    },
    {
     "name": "stderr",
     "output_type": "stream",
     "text": [
      "\r",
      " 34%|████████████████████████████▏                                                     | 11/32 [00:19<00:33,  1.58s/it]"
     ]
    },
    {
     "name": "stdout",
     "output_type": "stream",
     "text": [
      "0.01991641605864278\n",
      "0.03952330379704767\n",
      "-0.506155071204445\n"
     ]
    },
    {
     "name": "stderr",
     "output_type": "stream",
     "text": [
      "\r",
      " 38%|██████████████████████████████▊                                                   | 12/32 [00:21<00:31,  1.60s/it]"
     ]
    },
    {
     "name": "stdout",
     "output_type": "stream",
     "text": [
      "0.013158004345654372\n",
      "0.030874513404660166\n",
      "-1.1728161552518934\n"
     ]
    },
    {
     "name": "stderr",
     "output_type": "stream",
     "text": [
      "\r",
      " 41%|█████████████████████████████████▎                                                | 13/32 [00:21<00:24,  1.29s/it]"
     ]
    },
    {
     "name": "stdout",
     "output_type": "stream",
     "text": [
      "-0.19646032063789637\n",
      "3.239207671178503e-17\n",
      "0.0\n"
     ]
    },
    {
     "name": "stderr",
     "output_type": "stream",
     "text": [
      "\r",
      " 44%|███████████████████████████████████▉                                              | 14/32 [00:24<00:30,  1.70s/it]"
     ]
    },
    {
     "name": "stdout",
     "output_type": "stream",
     "text": [
      "-0.001309537930617016\n",
      "0.028832989284800752\n",
      "-1.0483862407949371\n"
     ]
    },
    {
     "name": "stderr",
     "output_type": "stream",
     "text": [
      "\r",
      " 47%|██████████████████████████████████████▍                                           | 15/32 [00:25<00:24,  1.42s/it]"
     ]
    },
    {
     "name": "stdout",
     "output_type": "stream",
     "text": [
      "-0.24075417829946064\n",
      "0.05630742248933116\n",
      "3.358235592716766\n"
     ]
    },
    {
     "name": "stderr",
     "output_type": "stream",
     "text": [
      "\r",
      " 50%|█████████████████████████████████████████                                         | 16/32 [00:27<00:27,  1.72s/it]"
     ]
    },
    {
     "name": "stdout",
     "output_type": "stream",
     "text": [
      "-0.05843511464716494\n",
      "0.013308079290317127\n",
      "6.201734425838141\n"
     ]
    },
    {
     "name": "stderr",
     "output_type": "stream",
     "text": [
      "\r",
      " 53%|███████████████████████████████████████████▌                                      | 17/32 [00:30<00:29,  1.99s/it]"
     ]
    },
    {
     "name": "stdout",
     "output_type": "stream",
     "text": [
      "-0.006742611617189462\n",
      "3.469446951953614e-18\n",
      "1.0\n"
     ]
    },
    {
     "name": "stderr",
     "output_type": "stream",
     "text": [
      "\r",
      " 56%|██████████████████████████████████████████████▏                                   | 18/32 [00:31<00:23,  1.71s/it]"
     ]
    },
    {
     "name": "stdout",
     "output_type": "stream",
     "text": [
      "0.017157696085690788\n",
      "0.028522537506033573\n",
      "-0.9188297248605705\n"
     ]
    },
    {
     "name": "stderr",
     "output_type": "stream",
     "text": [
      "\r",
      " 59%|████████████████████████████████████████████████▋                                 | 19/32 [00:33<00:24,  1.90s/it]"
     ]
    },
    {
     "name": "stdout",
     "output_type": "stream",
     "text": [
      "-0.04116900646501554\n",
      "0.025607294575347807\n",
      "0.17812764514922533\n"
     ]
    },
    {
     "name": "stderr",
     "output_type": "stream",
     "text": [
      "\r",
      " 62%|███████████████████████████████████████████████████▎                              | 20/32 [00:34<00:18,  1.55s/it]"
     ]
    },
    {
     "name": "stdout",
     "output_type": "stream",
     "text": [
      "-0.012217802263351145\n",
      "0.04857579930284429\n",
      "0.9226513880065661\n"
     ]
    },
    {
     "name": "stderr",
     "output_type": "stream",
     "text": [
      "\r",
      " 66%|█████████████████████████████████████████████████████▊                            | 21/32 [00:35<00:16,  1.52s/it]"
     ]
    },
    {
     "name": "stdout",
     "output_type": "stream",
     "text": [
      "-0.03112906208234692\n",
      "0.019340216802634078\n",
      "-1.796990299011364\n"
     ]
    },
    {
     "name": "stderr",
     "output_type": "stream",
     "text": [
      "\r",
      " 69%|████████████████████████████████████████████████████████▍                         | 22/32 [00:36<00:12,  1.24s/it]"
     ]
    },
    {
     "name": "stdout",
     "output_type": "stream",
     "text": [
      "-0.3964491082930531\n",
      "4.1762688582478505e-17\n",
      "0.0\n"
     ]
    },
    {
     "name": "stderr",
     "output_type": "stream",
     "text": [
      "\r",
      " 72%|██████████████████████████████████████████████████████████▉                       | 23/32 [00:36<00:08,  1.03it/s]"
     ]
    },
    {
     "name": "stdout",
     "output_type": "stream",
     "text": [
      "-0.022320928295219804\n",
      "0.08389549458332084\n",
      "1.6897301845820594\n"
     ]
    },
    {
     "name": "stderr",
     "output_type": "stream",
     "text": [
      "\r",
      " 75%|█████████████████████████████████████████████████████████████▌                    | 24/32 [00:38<00:10,  1.31s/it]"
     ]
    },
    {
     "name": "stdout",
     "output_type": "stream",
     "text": [
      "-0.0011645873152643805\n",
      "0.011627959633117245\n",
      "1.2281965157345651\n"
     ]
    },
    {
     "name": "stderr",
     "output_type": "stream",
     "text": [
      "\r",
      " 78%|████████████████████████████████████████████████████████████████                  | 25/32 [00:41<00:11,  1.60s/it]"
     ]
    },
    {
     "name": "stdout",
     "output_type": "stream",
     "text": [
      "-0.017710915346462745\n",
      "0.007196882765450368\n",
      "2.0127477402334226\n"
     ]
    },
    {
     "name": "stderr",
     "output_type": "stream",
     "text": [
      "\r",
      " 81%|██████████████████████████████████████████████████████████████████▋               | 26/32 [00:41<00:07,  1.31s/it]"
     ]
    },
    {
     "name": "stdout",
     "output_type": "stream",
     "text": [
      "-0.3312925842006888\n",
      "3.426436770317612e-17\n",
      "1.6200839225208363\n"
     ]
    },
    {
     "name": "stderr",
     "output_type": "stream",
     "text": [
      "\r",
      " 84%|█████████████████████████████████████████████████████████████████████▏            | 27/32 [00:42<00:05,  1.09s/it]"
     ]
    },
    {
     "name": "stdout",
     "output_type": "stream",
     "text": [
      "-0.4125507638374263\n",
      "1.0041229229957883e-16\n",
      "0.5528322276085581\n"
     ]
    },
    {
     "name": "stderr",
     "output_type": "stream",
     "text": [
      "\r",
      " 88%|███████████████████████████████████████████████████████████████████████▊          | 28/32 [00:44<00:05,  1.48s/it]"
     ]
    },
    {
     "name": "stdout",
     "output_type": "stream",
     "text": [
      "0.016002935234866605\n",
      "0.026262778586967676\n",
      "-0.9516741186540066\n"
     ]
    },
    {
     "name": "stderr",
     "output_type": "stream",
     "text": [
      "\r",
      " 91%|██████████████████████████████████████████████████████████████████████████▎       | 29/32 [00:46<00:04,  1.61s/it]"
     ]
    },
    {
     "name": "stdout",
     "output_type": "stream",
     "text": [
      "-0.004499651825348735\n",
      "0.024160722237053105\n",
      "3.5458222428525996\n"
     ]
    },
    {
     "name": "stderr",
     "output_type": "stream",
     "text": [
      "\r",
      " 94%|████████████████████████████████████████████████████████████████████████████▉     | 30/32 [00:47<00:02,  1.44s/it]"
     ]
    },
    {
     "name": "stdout",
     "output_type": "stream",
     "text": [
      "-0.08183508312324528\n",
      "0.04982356547611684\n",
      "-1.7012075944355416\n"
     ]
    },
    {
     "name": "stderr",
     "output_type": "stream",
     "text": [
      "\r",
      " 97%|███████████████████████████████████████████████████████████████████████████████▍  | 31/32 [00:49<00:01,  1.70s/it]"
     ]
    },
    {
     "name": "stdout",
     "output_type": "stream",
     "text": [
      "-0.01441844167578433\n",
      "0.016067117477309073\n",
      "-0.7398696325693438\n"
     ]
    },
    {
     "name": "stderr",
     "output_type": "stream",
     "text": [
      "100%|██████████████████████████████████████████████████████████████████████████████████| 32/32 [00:51<00:00,  1.60s/it]\n"
     ]
    },
    {
     "name": "stdout",
     "output_type": "stream",
     "text": [
      "0.005674595508557684\n",
      "0.02634459029060746\n",
      "-0.016734309003233593\n"
     ]
    },
    {
     "name": "stderr",
     "output_type": "stream",
     "text": [
      " 20%|████████████████▊                                                                   | 1/5 [00:00<00:02,  1.73it/s]"
     ]
    },
    {
     "name": "stdout",
     "output_type": "stream",
     "text": [
      "0.1673466277806761\n",
      "2.5271295367646024e-17\n",
      "1.0983044284767225\n"
     ]
    },
    {
     "name": "stderr",
     "output_type": "stream",
     "text": [
      "\r",
      " 40%|█████████████████████████████████▌                                                  | 2/5 [00:02<00:04,  1.66s/it]"
     ]
    },
    {
     "name": "stdout",
     "output_type": "stream",
     "text": [
      "0.026338484893410907\n",
      "0.009507853603200401\n",
      "3.103886903730792\n"
     ]
    },
    {
     "name": "stderr",
     "output_type": "stream",
     "text": [
      "\r",
      " 60%|██████████████████████████████████████████████████▍                                 | 3/5 [00:05<00:03,  1.97s/it]"
     ]
    },
    {
     "name": "stdout",
     "output_type": "stream",
     "text": [
      "0.0024072112916347305\n",
      "0.030260345608654884\n",
      "1.2936289779895591\n"
     ]
    },
    {
     "name": "stderr",
     "output_type": "stream",
     "text": [
      "\r",
      " 80%|███████████████████████████████████████████████████████████████████▏                | 4/5 [00:07<00:02,  2.13s/it]"
     ]
    },
    {
     "name": "stdout",
     "output_type": "stream",
     "text": [
      "-0.037197054533303256\n",
      "0.021256774909044387\n",
      "-0.22035897936816634\n"
     ]
    },
    {
     "name": "stderr",
     "output_type": "stream",
     "text": [
      "100%|████████████████████████████████████████████████████████████████████████████████████| 5/5 [00:10<00:00,  2.01s/it]\n"
     ]
    },
    {
     "name": "stdout",
     "output_type": "stream",
     "text": [
      "0.01820293673240122\n",
      "0.02410901597072051\n",
      "3.0174879001415778\n"
     ]
    },
    {
     "name": "stderr",
     "output_type": "stream",
     "text": [
      "  3%|██▊                                                                                | 1/29 [00:00<00:20,  1.39it/s]"
     ]
    },
    {
     "name": "stdout",
     "output_type": "stream",
     "text": [
      "nan\n",
      "nan\n",
      "nan\n"
     ]
    },
    {
     "name": "stderr",
     "output_type": "stream",
     "text": [
      "\r",
      " 17%|██████████████▎                                                                    | 5/29 [00:01<00:07,  3.39it/s]"
     ]
    },
    {
     "name": "stdout",
     "output_type": "stream",
     "text": [
      "-0.047217161130829986\n",
      "0.15349188524471885\n",
      "-1.5640706954275865\n"
     ]
    },
    {
     "name": "stderr",
     "output_type": "stream",
     "text": [
      "\r",
      " 21%|█████████████████▏                                                                 | 6/29 [00:02<00:11,  2.07it/s]"
     ]
    },
    {
     "name": "stdout",
     "output_type": "stream",
     "text": [
      "0.02237617577502133\n",
      "0.08837445762360542\n",
      "1.366863411171276\n"
     ]
    },
    {
     "name": "stderr",
     "output_type": "stream",
     "text": [
      "\r",
      " 24%|████████████████████                                                               | 7/29 [00:03<00:11,  1.93it/s]"
     ]
    },
    {
     "name": "stdout",
     "output_type": "stream",
     "text": [
      "nan\n",
      "nan\n",
      "nan\n"
     ]
    },
    {
     "name": "stderr",
     "output_type": "stream",
     "text": [
      "\r",
      " 28%|██████████████████████▉                                                            | 8/29 [00:05<00:22,  1.07s/it]"
     ]
    },
    {
     "name": "stdout",
     "output_type": "stream",
     "text": [
      "0.0266907353817816\n",
      "0.014319389266979557\n",
      "-3.9435218715659777\n"
     ]
    },
    {
     "name": "stderr",
     "output_type": "stream",
     "text": [
      "\r",
      " 31%|█████████████████████████▊                                                         | 9/29 [00:07<00:24,  1.22s/it]"
     ]
    },
    {
     "name": "stdout",
     "output_type": "stream",
     "text": [
      "-0.005147590674586464\n",
      "0.06368559745903439\n",
      "-1.7459566837414215\n"
     ]
    },
    {
     "name": "stderr",
     "output_type": "stream",
     "text": [
      "\r",
      " 34%|████████████████████████████▎                                                     | 10/29 [00:10<00:30,  1.63s/it]"
     ]
    },
    {
     "name": "stdout",
     "output_type": "stream",
     "text": [
      "0.05041435450875499\n",
      "0.017032671779430075\n",
      "-4.573097968771351\n"
     ]
    },
    {
     "name": "stderr",
     "output_type": "stream",
     "text": [
      "\r",
      " 52%|██████████████████████████████████████████▍                                       | 15/29 [00:12<00:12,  1.16it/s]"
     ]
    },
    {
     "name": "stdout",
     "output_type": "stream",
     "text": [
      "-0.01181574777575686\n",
      "0.025926875877024608\n",
      "2.5060686653168074\n"
     ]
    },
    {
     "name": "stderr",
     "output_type": "stream",
     "text": [
      "\r",
      " 55%|█████████████████████████████████████████████▏                                    | 16/29 [00:13<00:10,  1.22it/s]"
     ]
    },
    {
     "name": "stdout",
     "output_type": "stream",
     "text": [
      "0.13529838940625746\n",
      "1.8763261812221956e-17\n",
      "0.0\n"
     ]
    },
    {
     "name": "stderr",
     "output_type": "stream",
     "text": [
      "\r",
      " 59%|████████████████████████████████████████████████                                  | 17/29 [00:14<00:09,  1.20it/s]"
     ]
    },
    {
     "name": "stdout",
     "output_type": "stream",
     "text": [
      "0.01987798517048447\n",
      "0.0700607838731512\n",
      "2.0059873516780455\n"
     ]
    },
    {
     "name": "stderr",
     "output_type": "stream",
     "text": [
      "\r",
      " 62%|██████████████████████████████████████████████████▉                               | 18/29 [00:14<00:09,  1.22it/s]"
     ]
    },
    {
     "name": "stdout",
     "output_type": "stream",
     "text": [
      "-0.020996795404377436\n",
      "0.11249875952405096\n",
      "-1.5882887369959815\n"
     ]
    },
    {
     "name": "stderr",
     "output_type": "stream",
     "text": [
      "\r",
      " 66%|█████████████████████████████████████████████████████▋                            | 19/29 [00:15<00:08,  1.20it/s]"
     ]
    },
    {
     "name": "stdout",
     "output_type": "stream",
     "text": [
      "0.010439131741212257\n",
      "0.07037165116291084\n",
      "1.2854651879267325\n"
     ]
    },
    {
     "name": "stderr",
     "output_type": "stream",
     "text": [
      "\r",
      " 69%|████████████████████████████████████████████████████████▌                         | 20/29 [00:18<00:10,  1.21s/it]"
     ]
    },
    {
     "name": "stdout",
     "output_type": "stream",
     "text": [
      "0.0015671472658210762\n",
      "0.028758052104074727\n",
      "2.6347693978014965\n"
     ]
    },
    {
     "name": "stderr",
     "output_type": "stream",
     "text": [
      "\r",
      " 76%|██████████████████████████████████████████████████████████████▏                   | 22/29 [00:18<00:05,  1.20it/s]"
     ]
    },
    {
     "name": "stdout",
     "output_type": "stream",
     "text": [
      "-0.6047249539490965\n",
      "6.977643512971219e-17\n",
      "0.0\n"
     ]
    },
    {
     "name": "stderr",
     "output_type": "stream",
     "text": [
      "\r",
      " 83%|███████████████████████████████████████████████████████████████████▊              | 24/29 [00:19<00:03,  1.54it/s]"
     ]
    },
    {
     "name": "stdout",
     "output_type": "stream",
     "text": [
      "-0.03820310517932143\n",
      "0.1000933341204769\n",
      "-2.441134095673617\n"
     ]
    },
    {
     "name": "stderr",
     "output_type": "stream",
     "text": [
      "\r",
      " 86%|██████████████████████████████████████████████████████████████████████▋           | 25/29 [00:20<00:02,  1.56it/s]"
     ]
    },
    {
     "name": "stdout",
     "output_type": "stream",
     "text": [
      "nan\n",
      "nan\n",
      "nan\n"
     ]
    },
    {
     "name": "stderr",
     "output_type": "stream",
     "text": [
      "\r",
      " 90%|█████████████████████████████████████████████████████████████████████████▌        | 26/29 [00:20<00:02,  1.45it/s]"
     ]
    },
    {
     "name": "stdout",
     "output_type": "stream",
     "text": [
      "-0.0060068393532592594\n",
      "0.06719432075600508\n",
      "-0.5247673806498645\n"
     ]
    },
    {
     "name": "stderr",
     "output_type": "stream",
     "text": [
      "\r",
      " 97%|███████████████████████████████████████████████████████████████████████████████▏  | 28/29 [00:21<00:00,  1.90it/s]"
     ]
    },
    {
     "name": "stdout",
     "output_type": "stream",
     "text": [
      "nan\n",
      "nan\n",
      "nan\n"
     ]
    },
    {
     "name": "stderr",
     "output_type": "stream",
     "text": [
      "100%|██████████████████████████████████████████████████████████████████████████████████| 29/29 [00:21<00:00,  1.32it/s]\n"
     ]
    },
    {
     "name": "stdout",
     "output_type": "stream",
     "text": [
      "nan\n",
      "nan\n",
      "nan\n"
     ]
    },
    {
     "name": "stderr",
     "output_type": "stream",
     "text": [
      "\r",
      "  0%|                                                                                           | 0/46 [00:00<?, ?it/s]"
     ]
    },
    {
     "name": "stdout",
     "output_type": "stream",
     "text": [
      "0.49999999999999994\n",
      "0.0\n",
      "nan\n"
     ]
    },
    {
     "name": "stderr",
     "output_type": "stream",
     "text": [
      "\r",
      "  4%|███▌                                                                               | 2/46 [00:00<00:14,  3.12it/s]"
     ]
    },
    {
     "name": "stdout",
     "output_type": "stream",
     "text": [
      "-0.27274596168717496\n",
      "4.775249788392736e-17\n",
      "-1.162476387438193\n"
     ]
    },
    {
     "name": "stderr",
     "output_type": "stream",
     "text": [
      "\r",
      "  7%|█████▍                                                                             | 3/46 [00:01<00:18,  2.35it/s]"
     ]
    },
    {
     "name": "stdout",
     "output_type": "stream",
     "text": [
      "-0.09558839873669368\n",
      "2.2493149988174774e-17\n",
      "0.6169784052082685\n"
     ]
    },
    {
     "name": "stderr",
     "output_type": "stream",
     "text": [
      "\r",
      "  9%|███████▏                                                                           | 4/46 [00:02<00:36,  1.15it/s]"
     ]
    },
    {
     "name": "stdout",
     "output_type": "stream",
     "text": [
      "-0.014309099893646164\n",
      "0.028173163216713988\n",
      "-2.814070182161264\n"
     ]
    },
    {
     "name": "stderr",
     "output_type": "stream",
     "text": [
      "\r",
      " 11%|█████████                                                                          | 5/46 [00:03<00:33,  1.23it/s]"
     ]
    },
    {
     "name": "stdout",
     "output_type": "stream",
     "text": [
      "-0.012562640380994992\n",
      "0.06081726811464303\n",
      "2.5592516118582638\n"
     ]
    },
    {
     "name": "stderr",
     "output_type": "stream",
     "text": [
      "\r",
      " 13%|██████████▊                                                                        | 6/46 [00:03<00:25,  1.54it/s]"
     ]
    },
    {
     "name": "stdout",
     "output_type": "stream",
     "text": [
      "-0.5054219936546024\n",
      "7.28021923224409e-17\n",
      "-1.5249857033260468\n"
     ]
    },
    {
     "name": "stderr",
     "output_type": "stream",
     "text": [
      " 17%|██████████████▍                                                                    | 8/46 [00:05<00:29,  1.29it/s]"
     ]
    },
    {
     "name": "stdout",
     "output_type": "stream",
     "text": [
      "-0.026992857896034644\n",
      "0.02646177525618533\n",
      "0.08256309116674908\n",
      "-0.06261298593133569\n",
      "2.27570332434992e-17\n",
      "1.2196482431890634\n"
     ]
    },
    {
     "name": "stderr",
     "output_type": "stream",
     "text": [
      " 22%|█████████████████▊                                                                | 10/46 [00:07<00:29,  1.22it/s]"
     ]
    },
    {
     "name": "stdout",
     "output_type": "stream",
     "text": [
      "-0.05813390243190552\n",
      "0.012415337062623143\n",
      "-3.0907912861610884\n",
      "nan\n",
      "nan\n",
      "nan\n"
     ]
    },
    {
     "name": "stderr",
     "output_type": "stream",
     "text": [
      "\r",
      " 24%|███████████████████▌                                                              | 11/46 [00:08<00:29,  1.18it/s]"
     ]
    },
    {
     "name": "stdout",
     "output_type": "stream",
     "text": [
      "0.013563311136069973\n",
      "0.017624425302161226\n",
      "1.5974747825469378\n"
     ]
    },
    {
     "name": "stderr",
     "output_type": "stream",
     "text": [
      "\r",
      " 26%|█████████████████████▍                                                            | 12/46 [00:09<00:23,  1.43it/s]"
     ]
    },
    {
     "name": "stdout",
     "output_type": "stream",
     "text": [
      "0.03412730077798891\n",
      "1.2338750427162833e-17\n",
      "0.5623660146842564\n"
     ]
    },
    {
     "name": "stderr",
     "output_type": "stream",
     "text": [
      "\r",
      " 28%|███████████████████████▏                                                          | 13/46 [00:09<00:22,  1.47it/s]"
     ]
    },
    {
     "name": "stdout",
     "output_type": "stream",
     "text": [
      "-0.00042625921298938797\n",
      "0.022635389301744066\n",
      "5.631867869464317\n"
     ]
    },
    {
     "name": "stderr",
     "output_type": "stream",
     "text": [
      " 37%|██████████████████████████████▎                                                   | 17/46 [00:10<00:08,  3.38it/s]"
     ]
    },
    {
     "name": "stdout",
     "output_type": "stream",
     "text": [
      "0.0054827384988807085\n",
      "6.264249565342199e-18\n",
      "-1.1076975512434226\n",
      "0.6666666666666666\n",
      "1.1102230246251565e-16\n",
      "1.0\n",
      "-0.45209721508973266\n",
      "1.1102230246251565e-16\n",
      "1.0\n"
     ]
    },
    {
     "name": "stderr",
     "output_type": "stream",
     "text": [
      "\r",
      " 39%|████████████████████████████████                                                  | 18/46 [00:10<00:08,  3.43it/s]"
     ]
    },
    {
     "name": "stdout",
     "output_type": "stream",
     "text": [
      "-0.08559529790779075\n",
      "1.2295751324518482e-17\n",
      "-1.1286652959662007\n"
     ]
    },
    {
     "name": "stderr",
     "output_type": "stream",
     "text": [
      "\r",
      " 41%|█████████████████████████████████▊                                                | 19/46 [00:10<00:07,  3.55it/s]"
     ]
    },
    {
     "name": "stdout",
     "output_type": "stream",
     "text": [
      "nan\n",
      "nan\n",
      "nan\n"
     ]
    },
    {
     "name": "stderr",
     "output_type": "stream",
     "text": [
      "\r",
      " 43%|███████████████████████████████████▋                                              | 20/46 [00:11<00:07,  3.69it/s]"
     ]
    },
    {
     "name": "stdout",
     "output_type": "stream",
     "text": [
      "-0.16666666666666657\n",
      "5.551115123125783e-17\n",
      "-1.0\n"
     ]
    },
    {
     "name": "stderr",
     "output_type": "stream",
     "text": [
      "\r",
      " 46%|█████████████████████████████████████▍                                            | 21/46 [00:13<00:18,  1.35it/s]"
     ]
    },
    {
     "name": "stdout",
     "output_type": "stream",
     "text": [
      "-0.05251045624917525\n",
      "0.03769093378220944\n",
      "-3.736750945941039\n"
     ]
    },
    {
     "name": "stderr",
     "output_type": "stream",
     "text": [
      "\r",
      " 48%|███████████████████████████████████████▏                                          | 22/46 [00:13<00:14,  1.60it/s]"
     ]
    },
    {
     "name": "stdout",
     "output_type": "stream",
     "text": [
      "0.4981764785047155\n",
      "2.9738645403962476e-17\n",
      "0.0\n"
     ]
    },
    {
     "name": "stderr",
     "output_type": "stream",
     "text": [
      "\r",
      " 50%|█████████████████████████████████████████                                         | 23/46 [00:14<00:14,  1.62it/s]"
     ]
    },
    {
     "name": "stdout",
     "output_type": "stream",
     "text": [
      "0.1719715939589888\n",
      "5.824704447465601e-17\n",
      "0.9530294924304941\n"
     ]
    },
    {
     "name": "stderr",
     "output_type": "stream",
     "text": [
      " 59%|████████████████████████████████████████████████▏                                 | 27/46 [00:14<00:05,  3.26it/s]"
     ]
    },
    {
     "name": "stdout",
     "output_type": "stream",
     "text": [
      "0.06285681028230694\n",
      "3.043320078887237e-17\n",
      "-0.9120163142937464\n",
      "0.2166756950087198\n",
      "7.576306228137638e-17\n",
      "-1.0990411994916798\n"
     ]
    },
    {
     "name": "stderr",
     "output_type": "stream",
     "text": [
      "\r",
      " 61%|█████████████████████████████████████████████████▉                                | 28/46 [00:15<00:06,  2.58it/s]"
     ]
    },
    {
     "name": "stdout",
     "output_type": "stream",
     "text": [
      "-0.2864653272011111\n",
      "6.368075133744705e-17\n",
      "0.8717100546930082\n"
     ]
    },
    {
     "name": "stderr",
     "output_type": "stream",
     "text": [
      "\r",
      " 63%|███████████████████████████████████████████████████▋                              | 29/46 [00:17<00:15,  1.13it/s]"
     ]
    },
    {
     "name": "stdout",
     "output_type": "stream",
     "text": [
      "-0.004012538984012849\n",
      "0.01975775050913839\n",
      "-1.6814064289388908\n",
      "nan\n",
      "nan\n",
      "nan\n"
     ]
    },
    {
     "name": "stderr",
     "output_type": "stream",
     "text": [
      "\r",
      " 70%|█████████████████████████████████████████████████████████                         | 32/46 [00:19<00:11,  1.27it/s]"
     ]
    },
    {
     "name": "stdout",
     "output_type": "stream",
     "text": [
      "0.009238540317591025\n",
      "0.032071036927396164\n",
      "-2.3285790413309186\n"
     ]
    },
    {
     "name": "stderr",
     "output_type": "stream",
     "text": [
      "\r",
      " 72%|██████████████████████████████████████████████████████████▊                       | 33/46 [00:20<00:09,  1.38it/s]"
     ]
    },
    {
     "name": "stdout",
     "output_type": "stream",
     "text": [
      "-0.10228734558316853\n",
      "1.1427075313896142e-17\n",
      "1.2144654188931505\n"
     ]
    },
    {
     "name": "stderr",
     "output_type": "stream",
     "text": [
      "\r",
      " 74%|████████████████████████████████████████████████████████████▌                     | 34/46 [00:22<00:12,  1.03s/it]"
     ]
    },
    {
     "name": "stdout",
     "output_type": "stream",
     "text": [
      "-0.03499420477458173\n",
      "0.03034879873159867\n",
      "3.036981699280717\n"
     ]
    },
    {
     "name": "stderr",
     "output_type": "stream",
     "text": [
      "\r",
      " 76%|██████████████████████████████████████████████████████████████▍                   | 35/46 [00:23<00:11,  1.03s/it]"
     ]
    },
    {
     "name": "stdout",
     "output_type": "stream",
     "text": [
      "-0.07481971564300646\n",
      "0.021820243463309536\n",
      "-2.300940599960188\n"
     ]
    },
    {
     "name": "stderr",
     "output_type": "stream",
     "text": [
      "\r",
      " 78%|████████████████████████████████████████████████████████████████▏                 | 36/46 [00:23<00:08,  1.15it/s]"
     ]
    },
    {
     "name": "stdout",
     "output_type": "stream",
     "text": [
      "0.2271842163826004\n",
      "3.373187529835806e-17\n",
      "-0.8228293081879129\n"
     ]
    },
    {
     "name": "stderr",
     "output_type": "stream",
     "text": [
      "\r",
      " 83%|███████████████████████████████████████████████████████████████████▋              | 38/46 [00:24<00:04,  1.72it/s]"
     ]
    },
    {
     "name": "stdout",
     "output_type": "stream",
     "text": [
      "-0.04764532539873666\n",
      "1.1410208772874279e-17\n",
      "-1.2162606385262997\n"
     ]
    },
    {
     "name": "stderr",
     "output_type": "stream",
     "text": [
      " 87%|███████████████████████████████████████████████████████████████████████▎          | 40/46 [00:25<00:03,  1.62it/s]"
     ]
    },
    {
     "name": "stdout",
     "output_type": "stream",
     "text": [
      "-0.039108174085371664\n",
      "0.03845006879562655\n",
      "-0.46215255553542045\n",
      "0.3285262781247526\n",
      "1.6653345369377348e-16\n",
      "-1.0\n"
     ]
    },
    {
     "name": "stderr",
     "output_type": "stream",
     "text": [
      " 91%|██████████████████████████████████████████████████████████████████████████▊       | 42/46 [00:26<00:01,  2.45it/s]"
     ]
    },
    {
     "name": "stdout",
     "output_type": "stream",
     "text": [
      "-0.3598560863424404\n",
      "1.1102230246251565e-16\n",
      "1.0\n",
      "0.09829463743659815\n",
      "1.3877787807814457e-17\n",
      "-1.0\n"
     ]
    },
    {
     "name": "stderr",
     "output_type": "stream",
     "text": [
      " 98%|████████████████████████████████████████████████████████████████████████████████▏ | 45/46 [00:28<00:00,  1.67it/s]"
     ]
    },
    {
     "name": "stdout",
     "output_type": "stream",
     "text": [
      "0.0013978144331980933\n",
      "0.03112702990591622\n",
      "-3.350962503655467\n",
      "0.6324555320336758\n",
      "1.1102230246251565e-16\n",
      "1.0\n"
     ]
    },
    {
     "name": "stderr",
     "output_type": "stream",
     "text": [
      "100%|██████████████████████████████████████████████████████████████████████████████████| 46/46 [00:29<00:00,  1.57it/s]"
     ]
    },
    {
     "name": "stdout",
     "output_type": "stream",
     "text": [
      "0.14485667881883144\n",
      "0.013412405894290628\n",
      "1.4247236653831115\n"
     ]
    },
    {
     "name": "stderr",
     "output_type": "stream",
     "text": [
      "\n"
     ]
    },
    {
     "data": {
      "text/html": [
       "<div>\n",
       "<style scoped>\n",
       "    .dataframe tbody tr th:only-of-type {\n",
       "        vertical-align: middle;\n",
       "    }\n",
       "\n",
       "    .dataframe tbody tr th {\n",
       "        vertical-align: top;\n",
       "    }\n",
       "\n",
       "    .dataframe thead th {\n",
       "        text-align: right;\n",
       "    }\n",
       "</style>\n",
       "<table border=\"1\" class=\"dataframe\">\n",
       "  <thead>\n",
       "    <tr style=\"text-align: right;\">\n",
       "      <th></th>\n",
       "      <th>language</th>\n",
       "      <th>family</th>\n",
       "      <th>code</th>\n",
       "      <th>correlation</th>\n",
       "      <th>mean</th>\n",
       "      <th>sd</th>\n",
       "      <th>z</th>\n",
       "    </tr>\n",
       "  </thead>\n",
       "  <tbody>\n",
       "    <tr>\n",
       "      <th>0</th>\n",
       "      <td>Akkadian</td>\n",
       "      <td>Afro-Asiatic</td>\n",
       "      <td>akka1240</td>\n",
       "      <td>-0.286302</td>\n",
       "      <td>-0.286302</td>\n",
       "      <td>5.903527e-17</td>\n",
       "      <td>0.940305</td>\n",
       "    </tr>\n",
       "    <tr>\n",
       "      <th>1</th>\n",
       "      <td>Amharic</td>\n",
       "      <td>Afro-Asiatic</td>\n",
       "      <td>amha1245</td>\n",
       "      <td>0.175024</td>\n",
       "      <td>-0.021577</td>\n",
       "      <td>2.762045e-02</td>\n",
       "      <td>7.117938</td>\n",
       "    </tr>\n",
       "    <tr>\n",
       "      <th>2</th>\n",
       "      <td>Hausa</td>\n",
       "      <td>Afro-Asiatic</td>\n",
       "      <td>haus1257</td>\n",
       "      <td>-0.023459</td>\n",
       "      <td>-0.013742</td>\n",
       "      <td>1.202095e-02</td>\n",
       "      <td>-0.808326</td>\n",
       "    </tr>\n",
       "    <tr>\n",
       "      <th>3</th>\n",
       "      <td>Lebanese_Arabic</td>\n",
       "      <td>Afro-Asiatic</td>\n",
       "      <td>stan1323</td>\n",
       "      <td>0.061818</td>\n",
       "      <td>-0.001733</td>\n",
       "      <td>3.403751e-02</td>\n",
       "      <td>1.867088</td>\n",
       "    </tr>\n",
       "    <tr>\n",
       "      <th>4</th>\n",
       "      <td>Old_Aramaic</td>\n",
       "      <td>Afro-Asiatic</td>\n",
       "      <td>olda1245</td>\n",
       "      <td>0.118169</td>\n",
       "      <td>-0.052229</td>\n",
       "      <td>3.368251e-02</td>\n",
       "      <td>5.058931</td>\n",
       "    </tr>\n",
       "    <tr>\n",
       "      <th>...</th>\n",
       "      <td>...</td>\n",
       "      <td>...</td>\n",
       "      <td>...</td>\n",
       "      <td>...</td>\n",
       "      <td>...</td>\n",
       "      <td>...</td>\n",
       "      <td>...</td>\n",
       "    </tr>\n",
       "    <tr>\n",
       "      <th>1065</th>\n",
       "      <td>Tubar</td>\n",
       "      <td>Uto-Aztecan</td>\n",
       "      <td>tuba1279</td>\n",
       "      <td>-0.359856</td>\n",
       "      <td>-0.359856</td>\n",
       "      <td>1.110223e-16</td>\n",
       "      <td>1.000000</td>\n",
       "    </tr>\n",
       "    <tr>\n",
       "      <th>1066</th>\n",
       "      <td>Tübatülabal</td>\n",
       "      <td>Uto-Aztecan</td>\n",
       "      <td>tuba1278</td>\n",
       "      <td>0.098295</td>\n",
       "      <td>0.098295</td>\n",
       "      <td>1.387779e-17</td>\n",
       "      <td>-1.000000</td>\n",
       "    </tr>\n",
       "    <tr>\n",
       "      <th>1067</th>\n",
       "      <td>Tümpisha_Shoshoni</td>\n",
       "      <td>Uto-Aztecan</td>\n",
       "      <td>pana1305</td>\n",
       "      <td>-0.102908</td>\n",
       "      <td>0.001398</td>\n",
       "      <td>3.112703e-02</td>\n",
       "      <td>-3.350963</td>\n",
       "    </tr>\n",
       "    <tr>\n",
       "      <th>1068</th>\n",
       "      <td>White_Mesa_Ute</td>\n",
       "      <td>Uto-Aztecan</td>\n",
       "      <td>utee1244b</td>\n",
       "      <td>0.632456</td>\n",
       "      <td>0.632456</td>\n",
       "      <td>1.110223e-16</td>\n",
       "      <td>1.000000</td>\n",
       "    </tr>\n",
       "    <tr>\n",
       "      <th>1069</th>\n",
       "      <td>Yaqui</td>\n",
       "      <td>Uto-Aztecan</td>\n",
       "      <td>yaqu1251</td>\n",
       "      <td>0.163966</td>\n",
       "      <td>0.144857</td>\n",
       "      <td>1.341241e-02</td>\n",
       "      <td>1.424724</td>\n",
       "    </tr>\n",
       "  </tbody>\n",
       "</table>\n",
       "<p>1070 rows × 7 columns</p>\n",
       "</div>"
      ],
      "text/plain": [
       "               language        family       code  correlation      mean  \\\n",
       "0              Akkadian  Afro-Asiatic   akka1240    -0.286302 -0.286302   \n",
       "1               Amharic  Afro-Asiatic   amha1245     0.175024 -0.021577   \n",
       "2                 Hausa  Afro-Asiatic   haus1257    -0.023459 -0.013742   \n",
       "3       Lebanese_Arabic  Afro-Asiatic   stan1323     0.061818 -0.001733   \n",
       "4           Old_Aramaic  Afro-Asiatic   olda1245     0.118169 -0.052229   \n",
       "...                 ...           ...        ...          ...       ...   \n",
       "1065              Tubar   Uto-Aztecan   tuba1279    -0.359856 -0.359856   \n",
       "1066        Tübatülabal   Uto-Aztecan   tuba1278     0.098295  0.098295   \n",
       "1067  Tümpisha_Shoshoni   Uto-Aztecan   pana1305    -0.102908  0.001398   \n",
       "1068     White_Mesa_Ute   Uto-Aztecan  utee1244b     0.632456  0.632456   \n",
       "1069              Yaqui   Uto-Aztecan   yaqu1251     0.163966  0.144857   \n",
       "\n",
       "                sd         z  \n",
       "0     5.903527e-17  0.940305  \n",
       "1     2.762045e-02  7.117938  \n",
       "2     1.202095e-02 -0.808326  \n",
       "3     3.403751e-02  1.867088  \n",
       "4     3.368251e-02  5.058931  \n",
       "...            ...       ...  \n",
       "1065  1.110223e-16  1.000000  \n",
       "1066  1.387779e-17 -1.000000  \n",
       "1067  3.112703e-02 -3.350963  \n",
       "1068  1.110223e-16  1.000000  \n",
       "1069  1.341241e-02  1.424724  \n",
       "\n",
       "[1070 rows x 7 columns]"
      ]
     },
     "execution_count": 34,
     "metadata": {},
     "output_type": "execute_result"
    }
   ],
   "source": [
    "# sample_distance(families, 1000, 'edit_distance_UPDATED_SEMD')"
   ]
  },
  {
   "cell_type": "code",
   "execution_count": null,
   "id": "84509100",
   "metadata": {},
   "outputs": [],
   "source": []
  }
 ],
 "metadata": {
  "kernelspec": {
   "display_name": "Python 3 (ipykernel)",
   "language": "python",
   "name": "python3"
  },
  "language_info": {
   "codemirror_mode": {
    "name": "ipython",
    "version": 3
   },
   "file_extension": ".py",
   "mimetype": "text/x-python",
   "name": "python",
   "nbconvert_exporter": "python",
   "pygments_lexer": "ipython3",
   "version": "3.9.12"
  }
 },
 "nbformat": 4,
 "nbformat_minor": 5
}
