{
 "cells": [
  {
   "cell_type": "code",
   "execution_count": 1,
   "id": "b12a01aa",
   "metadata": {},
   "outputs": [],
   "source": [
    "import csv # for writing dataframes to csv\n",
    "import random # for making a random choice\n",
    "import os # for scanning directories\n",
    "import itertools\n",
    "import string # for generating strings\n",
    "\n",
    "import kintypes as kt # bringing large lists of kin types into the namespace\n",
    "import math # for calculating logs"
   ]
  },
  {
   "cell_type": "markdown",
   "id": "06a854cf",
   "metadata": {},
   "source": [
    "# Internal co-selection\n",
    "\n",
    "Internal co-selection refers to the tendency for kinship systems to have cross-generational consistency in where distinctions or mergers are made. That is, if your parents' elder brothers share a kin term, then so too will their children. If your parents' sisters are distinguished from your parents' brothers, so too will their children be distinguished. We can test the robustness of this tendency using our frankenlanguages, to see whether internal co-selection occurs at a higher rate than chance.\n",
    "\n",
    "We will measure internal co-selection in terms of the **mutual information** between Generation N and Generation N+1 in a particular kinship system. That is, we need to work out the conditional entropy between every possible pair of parent and child terms, and the entropy over an entire generation. This will tell us how much information is shared across the two generations; or how much we can predict about one generation given the other.\n",
    "\n",
    "To do this, we need to do the following:\n",
    "\n",
    "* Get a list of parent-child pairs for each language.\n",
    "* Work out the conditional probabilities for each pair.\n",
    "* Work out the probabilities of each individual term in a generation.\n",
    "* Calculate the entropy of 2 and 3.\n",
    "* Calculate the mutual information of the system.\n",
    "\n",
    "Luckily, we can re-use some of the infrastructure we already have. For ease, I will write out again the functions that extract kin terms from a kinbank file."
   ]
  },
  {
   "cell_type": "code",
   "execution_count": 2,
   "id": "06fdc060",
   "metadata": {},
   "outputs": [],
   "source": [
    "# to get a list of all the kinbank filenames\n",
    "\n",
    "def get_kb_files():\n",
    "    files = []\n",
    "    path = '../languages/kinbank'\n",
    "    directory = os.scandir(path)\n",
    "    for file in directory:\n",
    "        files.append(file.name)\n",
    "    return files"
   ]
  },
  {
   "cell_type": "code",
   "execution_count": 3,
   "id": "20247ab1",
   "metadata": {},
   "outputs": [],
   "source": [
    "# to pick a file at random\n",
    "\n",
    "def random_language(all_data):\n",
    "    language = random.choice(all_data)\n",
    "    # print(language)\n",
    "    return language"
   ]
  },
  {
   "cell_type": "code",
   "execution_count": 4,
   "id": "f00ea0d3",
   "metadata": {},
   "outputs": [],
   "source": [
    "# to extract kin terms from one of those files\n",
    "\n",
    "def get_kin_terms(filepath):\n",
    "    kin_system = {}\n",
    "    with open(filepath, encoding='utf8') as f:\n",
    "        csv_reader = csv.DictReader(f)\n",
    "        next(csv_reader) # to skip the header row\n",
    "        for line in csv_reader:\n",
    "            kin_type = line['parameter']\n",
    "            kin_term = line['word']\n",
    "            kin_system[kin_type] = kin_term\n",
    "    return kin_system"
   ]
  },
  {
   "cell_type": "markdown",
   "id": "a7ef698b",
   "metadata": {},
   "source": [
    "For testing purposes throughout this notebook, let's pick a random language and extract its kin terms."
   ]
  },
  {
   "cell_type": "code",
   "execution_count": 5,
   "id": "3e1eb2f7",
   "metadata": {},
   "outputs": [
    {
     "name": "stdout",
     "output_type": "stream",
     "text": [
      "Njebi_njeb1242.csv {'meB': 'mukulu', 'myB': 'meghèghè', 'meZ': 'kédi', 'myZ': 'kédi', 'mF': \"tat'\", 'mM': 'ngu', 'mS': 'mwana', 'mPP': 'kagha', 'mFF': 'kagha', 'mFM': 'kagha', 'mMF': 'kagha', 'mMM': 'kagha', 'mSD': 'mutégheda', 'mFB': \"tat'\", 'mFZ': \"to-m'kas\", 'mMB': 'kètshi', 'mMZ': 'ngu', 'mZS': 'nzaba', 'mMBS': 'mwana', 'mFeB': \"tat'\", 'mFyB': \"tat'\", 'mFeZ': \"to-m'kas\", 'mFyZ': \"to-m'kas\", 'mMeZ': 'ngu', 'mMyZ': 'ngu', 'mMeB': 'kètshi', 'mMyB': 'kètshi', 'meZS': 'nzaba', 'myZS': 'nzaba', 'mMeBS': 'mwana', 'mMyBS': 'mwana', 'mMBeS': 'mwana', 'mMByS': 'mwana', 'feB': 'ndumi', 'fyB': 'ndumi', 'feZ': 'mukulu', 'fyZ': 'meghèghè'}\n"
     ]
    }
   ],
   "source": [
    "all_kb_files = get_kb_files()\n",
    "\n",
    "random.seed(47)\n",
    "file = random_language(all_kb_files)\n",
    "filepath = '../languages/kinbank/'\n",
    "\n",
    "l = get_kin_terms(filepath + file)\n",
    "\n",
    "print(file,l)"
   ]
  },
  {
   "cell_type": "markdown",
   "id": "a93db58b",
   "metadata": {},
   "source": [
    "## Getting the pairs\n",
    "\n",
    "~~The first thing we need to do is write a function that takes a dictionary of kin terms like `l`, and outputs a list of the relevant terms for each generation. We also need a function that pairs up those terms into parent-child pairs. In `kintypes`, we have a list of pairs of codes for parent and child terms, so we just need to cross reference these.~~\n",
    "\n",
    "To avoid weird gaps, we're going to slightly simplify things! First, we're going to extract the relevant pairs of terms from a dictionary of kin terms - e.g. for English, it extracts the pair `('uncle','cousin')`. Notably, our function checks whether **both** of the relevant terms exist in the dictionary before trying to extract them! Then, we'll split these pairs in half to get the list of terms in each generation. This way, any gaps in the kinbank data - e.g. the term for 'uncle' is there, but the term for 'cousin' is not - cause us less strife, at the expense of a little bit of accuracy."
   ]
  },
  {
   "cell_type": "code",
   "execution_count": 6,
   "id": "dc87d475",
   "metadata": {},
   "outputs": [],
   "source": [
    "# def filter_generations(ks):\n",
    "#     N = []\n",
    "#     N1 = []\n",
    "#     for kin_type in ks:\n",
    "#         if kin_type in kt.generation_n:\n",
    "#             N.append(ks[kin_type])\n",
    "#         elif kin_type in kt.generation_n1:\n",
    "#             N1.append(ks[kin_type])\n",
    "#         else:\n",
    "#             pass\n",
    "    \n",
    "#     return list(set(N)), list(set(N1))"
   ]
  },
  {
   "cell_type": "markdown",
   "id": "3389a386",
   "metadata": {},
   "source": [
    "~~Let's test this function on `l`.~~"
   ]
  },
  {
   "cell_type": "code",
   "execution_count": 7,
   "id": "b12ea8b4",
   "metadata": {},
   "outputs": [],
   "source": [
    "# lN, lN1 = filter_generations(l)\n",
    "\n",
    "# print(lN,lN1)"
   ]
  },
  {
   "cell_type": "code",
   "execution_count": 33,
   "id": "ab4a8f9d",
   "metadata": {},
   "outputs": [],
   "source": [
    "def get_pairs(ks,pairs):\n",
    "    pairs_of_terms = []\n",
    "    placeholder = [] \n",
    "    for pair in pairs:\n",
    "        if pair[0] in ks and pair[1] in ks:\n",
    "            if pair in placeholder:\n",
    "                pass\n",
    "            else:\n",
    "#             print(pair[0],pair[1])\n",
    "                pairs_of_terms.append((ks[pair[0]],ks[pair[1]]))\n",
    "                placeholder.append(pair)\n",
    "            \n",
    "    return pairs_of_terms"
   ]
  },
  {
   "cell_type": "code",
   "execution_count": 34,
   "id": "b702d2e7",
   "metadata": {},
   "outputs": [
    {
     "name": "stdout",
     "output_type": "stream",
     "text": [
      "[('ngughu balagha', 'mwana'), ('ngughu balagha', 'mwana'), ('tara', 'okulu'), ('tara', 'nkéri'), ('tara', 'okulu'), ('tara', 'nkéri'), ('tata okasi', 'okulu'), ('tata okasi', 'nkéri'), ('tata okasi', 'okulu'), ('tata okasi', 'nkéri')]\n"
     ]
    }
   ],
   "source": [
    "l_pairs = get_pairs(l,kt.ics_pairs)\n",
    "\n",
    "print(l_pairs)"
   ]
  },
  {
   "cell_type": "markdown",
   "id": "1120705f",
   "metadata": {},
   "source": [
    "Now we have a way to get a list of pairs, let's split them up into `GN` for Ego's generation and `GN1` for ego's parents' generation."
   ]
  },
  {
   "cell_type": "code",
   "execution_count": 10,
   "id": "4cb59084",
   "metadata": {},
   "outputs": [],
   "source": [
    "def split_generations(pairs):\n",
    "    GN = []\n",
    "    GN1 = []\n",
    "    for pair in pairs:\n",
    "        GN.append(pair[1])\n",
    "        GN1.append(pair[0])\n",
    "    \n",
    "    return GN,GN1"
   ]
  },
  {
   "cell_type": "code",
   "execution_count": 11,
   "id": "a9d259ca",
   "metadata": {},
   "outputs": [
    {
     "name": "stdout",
     "output_type": "stream",
     "text": [
      "['mwana', 'mwana'] ['kètshi', 'kètshi']\n"
     ]
    }
   ],
   "source": [
    "l_GN, l_GN1 = split_generations(l_pairs)\n",
    "\n",
    "print(l_GN,l_GN1)"
   ]
  },
  {
   "cell_type": "markdown",
   "id": "52c1877a",
   "metadata": {},
   "source": [
    "## Calculating probabilities\n",
    "\n",
    "Now we have lists of terms for each generation, we can calculate the probability of each term within its generation, by counting up the number of times that term appears divided by the total number of terms in the generation."
   ]
  },
  {
   "cell_type": "code",
   "execution_count": 12,
   "id": "ca6080c7",
   "metadata": {},
   "outputs": [],
   "source": [
    "def calculate_probs(terms):\n",
    "    probs = []\n",
    "    for term in set(terms):\n",
    "        probs.append(terms.count(term)/len(terms))\n",
    "#         print('probability of ', term, ' is ', terms.count(term)/len(terms))\n",
    "    return probs"
   ]
  },
  {
   "cell_type": "code",
   "execution_count": 76,
   "id": "e4e433cf",
   "metadata": {},
   "outputs": [
    {
     "name": "stdout",
     "output_type": "stream",
     "text": [
      "[1.0]\n"
     ]
    }
   ],
   "source": [
    "l_probs = calculate_probs(l_GN1)\n",
    "\n",
    "print(l_probs)"
   ]
  },
  {
   "cell_type": "markdown",
   "id": "99490ea7",
   "metadata": {},
   "source": [
    "We can use this function to calculate the conditional probability of each term given the term it is paired with: the probability of the pair (given all the possible pairs) over the probability of the \"given\" term. Let's do this \"bottom-up\" for ease - so for English, calculating the probability of *uncle* given *cousin*. Since mutual information is not directional, we can make this arbitrary choice without repercussions later.\n",
    "\n",
    "~~Reader, there were repercussions. In my first pass, I got it the wrong way around! Ack.~~"
   ]
  },
  {
   "cell_type": "code",
   "execution_count": 75,
   "id": "f9ec4341",
   "metadata": {},
   "outputs": [],
   "source": [
    "def calculate_conditional_probs(pairs,terms):\n",
    "    cond_probs = []\n",
    "    probs = calculate_probs(terms)\n",
    "#     print(terms)\n",
    "#     print(probs)\n",
    "    \n",
    "    for pair in set(pairs): # for each unique pair\n",
    "        p_pair = pairs.count(pair)/len(pairs) # calculate the probability of the pair\n",
    "        # term_index = list(set(terms)).index(pair[0]) # get the index of the parent term in the terms list\n",
    "        term_index = list(set(terms)).index(pair[1]) # for testing!!!\n",
    "        p_term = probs[term_index] # then use that index to get the probability of that term from probs!\n",
    "        cond_probs.append(p_pair/p_term) # the probability of the pair (B and A) over the probability of the parent term (B) gives us the conditional probability of child given parent\n",
    "        # print('pair: ', pair, 'p(', pair[1], '|', pair[0], ') = ', p_pair/p_term)\n",
    "        print('pair: ', pair, 'p(', pair[0], '|', pair[1], ') = ', p_pair/p_term)\n",
    "        \n",
    "    return cond_probs\n",
    "    "
   ]
  },
  {
   "cell_type": "code",
   "execution_count": 15,
   "id": "5f2a382a",
   "metadata": {},
   "outputs": [
    {
     "name": "stdout",
     "output_type": "stream",
     "text": [
      "pair:  ('kètshi', 'mwana') p( mwana | kètshi ) =  1.0\n",
      "[1.0]\n"
     ]
    }
   ],
   "source": [
    "l_cond_probs = calculate_conditional_probs(l_pairs,l_GN1)\n",
    "\n",
    "print(l_cond_probs)"
   ]
  },
  {
   "cell_type": "markdown",
   "id": "d1d66227",
   "metadata": {},
   "source": [
    "## Calculating entropy and mutual information\n",
    "\n",
    "Now that we have a way to extract probability distributions from a kinship system, we can feed that in to a function that calculates entropy. The entropy scores can then be fed to a function that calculates mutual information (equations to follow)."
   ]
  },
  {
   "cell_type": "code",
   "execution_count": 16,
   "id": "84d0ee20",
   "metadata": {},
   "outputs": [],
   "source": [
    "def calculate_entropy(probs):\n",
    "    entropy = 0\n",
    "    for p in probs:\n",
    "        if p != 0:\n",
    "            entropy += p*math.log2(p)\n",
    "    return -entropy"
   ]
  },
  {
   "cell_type": "markdown",
   "id": "28ac4a02",
   "metadata": {},
   "source": [
    "If we feed in our probability distributions, `l_probs` ~~and `l_cond_probs`~~, the function above will spit out the entropy of `l`'s generation N ~~and the conditional entropy of `l`'s Generation N given `l`'s Generation N+1 respectively.~~"
   ]
  },
  {
   "cell_type": "code",
   "execution_count": 17,
   "id": "53a11f4c",
   "metadata": {},
   "outputs": [
    {
     "name": "stdout",
     "output_type": "stream",
     "text": [
      "-0.0\n"
     ]
    }
   ],
   "source": [
    "l_entropy = calculate_entropy(l_probs)\n",
    "\n",
    "# l_cond_entropy = calculate_entropy(l_cond_probs)\n",
    "\n",
    "print(l_entropy)"
   ]
  },
  {
   "cell_type": "markdown",
   "id": "43187a7b",
   "metadata": {},
   "source": [
    "We need a second function to calculate conditional entropy, which is slightly more complex. Here, we calculate the probability of B and A multiplied by the probability of B and A over B."
   ]
  },
  {
   "cell_type": "code",
   "execution_count": 151,
   "id": "2f7e275f",
   "metadata": {},
   "outputs": [],
   "source": [
    "def calculate_cond_entropy(pairs,terms):\n",
    "    p_pairs = []\n",
    "    for pair in set(pairs):\n",
    "        p_pairs.append(pairs.count(pair)/len(pairs))\n",
    "    \n",
    "    print(pairs, p_pairs)\n",
    "    \n",
    "#     print('pairs: ', pairs, 'probabilities of pairs: ', p_pairs)\n",
    "        \n",
    "    p_cond = calculate_conditional_probs(pairs,terms)\n",
    "#     print('terms: ', terms, 'probabilities of terms: blank', 'conditional_probabilities: ', p_cond)\n",
    "    \n",
    "    entropy = 0\n",
    "    \n",
    "    for p in p_cond:\n",
    "        index = p_cond.index(p)\n",
    "        entropy += p_pairs[index]*math.log2(p)\n",
    "        print('p(a,b) = ', p_pairs[index], 'p(a|b) = ', p)\n",
    "            \n",
    "    return -entropy\n",
    "    "
   ]
  },
  {
   "cell_type": "markdown",
   "id": "657fcbd6",
   "metadata": {},
   "source": [
    "These two values can then be used to calculate mutual information. Because of our 'top-down' approach, this will be equal to the entropy of `l`'s Generation N minus the conditional entropy of `l`."
   ]
  },
  {
   "cell_type": "code",
   "execution_count": 74,
   "id": "b14ab6f5",
   "metadata": {},
   "outputs": [],
   "source": [
    "def calculate_mi(pairs,terms1,terms2):\n",
    "    # probs = calculate_probs(terms1)\n",
    "    probs = calculate_probs(terms2) # for testing\n",
    "    print('terms: ', terms2, 'probability distribution of GN terms: ', probs)\n",
    "    entropy = calculate_entropy(probs)\n",
    "    # conditional_entropy = calculate_cond_entropy(pairs,terms2)\n",
    "    conditional_entropy = calculate_cond_entropy(pairs,terms1) # for testing\n",
    "    print('entropy of GN1 = ', entropy, 'conditional entropy of system = ', conditional_entropy)\n",
    "    return entropy - conditional_entropy"
   ]
  },
  {
   "cell_type": "code",
   "execution_count": 20,
   "id": "0872ff8b",
   "metadata": {},
   "outputs": [
    {
     "name": "stdout",
     "output_type": "stream",
     "text": [
      "terms:  ['mwana', 'mwana'] probability distribution of GN terms:  [1.0]\n",
      "pair:  ('kètshi', 'mwana') p( mwana | kètshi ) =  1.0\n",
      "entropy of GN =  -0.0 conditional entropy of system =  -0.0\n",
      "mi =  0.0\n"
     ]
    }
   ],
   "source": [
    "l_mi = calculate_mi(l_pairs,l_GN,l_GN1)\n",
    "\n",
    "print('mi = ', l_mi)"
   ]
  },
  {
   "cell_type": "markdown",
   "id": "9aca8523",
   "metadata": {},
   "source": [
    "## Getting neat and tidy\n",
    "\n",
    "Now let's write a function that wraps up aaaaall of the above neatly."
   ]
  },
  {
   "cell_type": "code",
   "execution_count": 21,
   "id": "27b7ce9e",
   "metadata": {},
   "outputs": [],
   "source": [
    "def calculate_ics(ks):\n",
    "    pairs = get_pairs(ks,kt.ics_pairs)\n",
    "    GN,GN1 = split_generations(pairs)\n",
    "    mi = calculate_mi(pairs,GN,GN1)\n",
    "    return mi"
   ]
  },
  {
   "cell_type": "code",
   "execution_count": 22,
   "id": "1d63fd11",
   "metadata": {},
   "outputs": [
    {
     "name": "stdout",
     "output_type": "stream",
     "text": [
      "terms:  ['mwana', 'mwana'] probability distribution of GN terms:  [1.0]\n",
      "pair:  ('kètshi', 'mwana') p( mwana | kètshi ) =  1.0\n",
      "entropy of GN =  -0.0 conditional entropy of system =  -0.0\n",
      "0.0\n"
     ]
    }
   ],
   "source": [
    "l_ics = calculate_ics(l)\n",
    "\n",
    "print(l_ics)"
   ]
  },
  {
   "cell_type": "markdown",
   "id": "600691f4",
   "metadata": {},
   "source": [
    "## Testing, testing\n",
    "\n",
    "And now to test until we brute force our way to working code!"
   ]
  },
  {
   "cell_type": "code",
   "execution_count": 73,
   "id": "f9b358bd",
   "metadata": {},
   "outputs": [
    {
     "name": "stdout",
     "output_type": "stream",
     "text": [
      "terms:  ['ngughu balagha', 'ngughu balagha', 'tara', 'tara', 'tara', 'tara', 'tata okasi', 'tata okasi', 'tata okasi', 'tata okasi'] probability distribution of GN terms:  [0.4, 0.2, 0.4]\n",
      "pair:  ('tara', 'okulu') p( okulu | tara ) =  0.5\n",
      "pair:  ('tara', 'nkéri') p( nkéri | tara ) =  0.5\n",
      "pair:  ('tata okasi', 'okulu') p( okulu | tata okasi ) =  0.5\n",
      "pair:  ('tata okasi', 'nkéri') p( nkéri | tata okasi ) =  0.5\n",
      "pair:  ('ngughu balagha', 'mwana') p( mwana | ngughu balagha ) =  1.0\n",
      "entropy of GN =  1.5219280948873621 conditional entropy of system =  0.8\n",
      "0.7219280948873621\n"
     ]
    }
   ],
   "source": [
    "random.seed(5)\n",
    "file = random_language(all_kb_files)\n",
    "filepath = '../languages/kinbank/'\n",
    "\n",
    "l = get_kin_terms(filepath + file)\n",
    "\n",
    "l_ics = calculate_ics(l)\n",
    "\n",
    "print(l_ics)\n"
   ]
  },
  {
   "cell_type": "code",
   "execution_count": 62,
   "id": "608ba606",
   "metadata": {},
   "outputs": [
    {
     "name": "stdout",
     "output_type": "stream",
     "text": [
      "terms:  ['ngughu balagha', 'ngughu balagha', 'tara', 'tara', 'tara', 'tara', 'tata okasi', 'tata okasi', 'tata okasi', 'tata okasi'] probability distribution of GN terms:  [0.2, 0.4, 0.4]\n",
      "pair:  ('tara', 'okulu') p( tara | okulu ) =  0.5\n",
      "pair:  ('tara', 'nkéri') p( tara | nkéri ) =  0.5\n",
      "pair:  ('tata okasi', 'okulu') p( tata okasi | okulu ) =  0.5\n",
      "pair:  ('tata okasi', 'nkéri') p( tata okasi | nkéri ) =  0.5\n",
      "pair:  ('ngughu balagha', 'mwana') p( ngughu balagha | mwana ) =  1.0\n",
      "entropy of GN1 =  1.5219280948873621 conditional entropy of system =  0.8\n"
     ]
    },
    {
     "data": {
      "text/plain": [
       "0.7219280948873621"
      ]
     },
     "execution_count": 62,
     "metadata": {},
     "output_type": "execute_result"
    }
   ],
   "source": [
    "calculate_ics(l)"
   ]
  },
  {
   "cell_type": "code",
   "execution_count": 35,
   "id": "d9334d0e",
   "metadata": {},
   "outputs": [
    {
     "name": "stdout",
     "output_type": "stream",
     "text": [
      "terms:  ['mamera bhai', 'mameri bahan', 'mamera bhai', 'mameri bahan', 'cacera bhai', 'caceri bahan', 'cacera bhai', 'caceri bahan', 'mɔsera bhai', 'mɔseri bahan', 'mɔsera bhai', 'mɔseri bahan', 'phuphera bhai', 'phupheri bahan', 'phuphera bhai', 'phupheri bahan', 'mamera bhai', 'mameri bahan', 'mamera bhai', 'mameri bahan', 'cacera bhai', 'caceri bahan', 'cacera bhai', 'caceri bahan', 'mɔsera bhai', 'mɔseri bahan', 'mɔsera bhai', 'mɔseri bahan', 'phuphera bhai', 'phupheri bahan', 'phuphera bhai', 'phupheri bahan'] probability distribution of GN terms:  [0.125, 0.125, 0.125, 0.125, 0.125, 0.125, 0.125, 0.125]\n",
      "pair:  ('māmā', 'mameri bahan') p( mameri bahan | māmā ) =  0.5\n",
      "pair:  ('cācā', 'cacera bhai') p( cacera bhai | cācā ) =  0.5\n",
      "pair:  ('tāū', 'cacera bhai') p( cacera bhai | tāū ) =  0.5\n",
      "pair:  ('mausī', 'mɔsera bhai') p( mɔsera bhai | mausī ) =  0.5\n",
      "pair:  ('buā', 'phuphera bhai') p( phuphera bhai | buā ) =  0.5\n",
      "pair:  ('māmā', 'mamera bhai') p( mamera bhai | māmā ) =  0.5\n",
      "pair:  ('cācā', 'caceri bahan') p( caceri bahan | cācā ) =  0.5\n",
      "pair:  ('buā', 'phupheri bahan') p( phupheri bahan | buā ) =  0.5\n",
      "pair:  ('mausī', 'mɔseri bahan') p( mɔseri bahan | mausī ) =  0.5\n",
      "pair:  ('tāū', 'caceri bahan') p( caceri bahan | tāū ) =  0.5\n",
      "entropy of GN =  3.0 conditional entropy of system =  1.25\n"
     ]
    },
    {
     "data": {
      "text/plain": [
       "1.75"
      ]
     },
     "execution_count": 35,
     "metadata": {},
     "output_type": "execute_result"
    }
   ],
   "source": [
    "\n",
    "fakelish = {\n",
    "    'mMeB': 'aunt',\n",
    "    'mMeZ': 'aunt',\n",
    "    'mFeB': 'uncle',\n",
    "    'mFeZ': 'aunt',\n",
    "    'mMeBS': 'cousin',\n",
    "    'mMeZS': 'cousin',\n",
    "    'mFeBS': 'cousin',\n",
    "    'mFeZS': 'cousin',\n",
    "    'mMeBD': 'cousines',\n",
    "    'mMeZD': 'cousin',\n",
    "    'mFeBD': 'cousin',\n",
    "    'mFeZD': 'cousin',\n",
    "    'mMyB': 'aunt',\n",
    "    'mMyZ': 'aunt',\n",
    "    'mFyB': 'uncle',\n",
    "    'mFyZ': 'aunt',\n",
    "    'mMyBS': 'cousin',\n",
    "    'mMyZS': 'cousin',\n",
    "    'mFyBS': 'cousin',\n",
    "    'mFyZS': 'cousin',\n",
    "    'mMyBD': 'cousines',\n",
    "    'mMyZD': 'cousin',\n",
    "    'mFyBD': 'cousin',\n",
    "    'mFyZD': 'cousin'\n",
    "}\n",
    "\n",
    "english = get_kin_terms(filepath + 'English_stan1293.csv')\n",
    "hindi = get_kin_terms(filepath + 'Hindi_hind1269.csv')\n",
    "aguaruna = get_kin_terms(filepath + 'Aguaruna_agua1253.csv')\n",
    "\n",
    "calculate_ics(hindi)"
   ]
  },
  {
   "cell_type": "code",
   "execution_count": 63,
   "id": "472ccaf8",
   "metadata": {},
   "outputs": [
    {
     "name": "stdout",
     "output_type": "stream",
     "text": [
      "terms:  ['māmā', 'māmā', 'māmā', 'māmā', 'tāū', 'tāū', 'cācā', 'cācā', 'mausī', 'mausī', 'mausī', 'mausī', 'buā', 'buā', 'buā', 'buā', 'māmā', 'māmā', 'māmā', 'māmā', 'tāū', 'tāū', 'cācā', 'cācā', 'mausī', 'mausī', 'mausī', 'mausī', 'buā', 'buā', 'buā', 'buā'] probability distribution of GN terms:  [0.25, 0.125, 0.125, 0.25, 0.25]\n",
      "pair:  ('māmā', 'mameri bahan') p( māmā | mameri bahan ) =  1.0\n",
      "pair:  ('cācā', 'cacera bhai') p( cācā | cacera bhai ) =  0.5\n",
      "pair:  ('tāū', 'cacera bhai') p( tāū | cacera bhai ) =  0.5\n",
      "pair:  ('mausī', 'mɔsera bhai') p( mausī | mɔsera bhai ) =  1.0\n",
      "pair:  ('buā', 'phuphera bhai') p( buā | phuphera bhai ) =  1.0\n",
      "pair:  ('māmā', 'mamera bhai') p( māmā | mamera bhai ) =  1.0\n",
      "pair:  ('cācā', 'caceri bahan') p( cācā | caceri bahan ) =  0.5\n",
      "pair:  ('buā', 'phupheri bahan') p( buā | phupheri bahan ) =  1.0\n",
      "pair:  ('mausī', 'mɔseri bahan') p( mausī | mɔseri bahan ) =  1.0\n",
      "pair:  ('tāū', 'caceri bahan') p( tāū | caceri bahan ) =  0.5\n",
      "entropy of GN1 =  2.25 conditional entropy of system =  0.25\n"
     ]
    },
    {
     "data": {
      "text/plain": [
       "2.0"
      ]
     },
     "execution_count": 63,
     "metadata": {},
     "output_type": "execute_result"
    }
   ],
   "source": [
    "calculate_ics(hindi)"
   ]
  },
  {
   "cell_type": "code",
   "execution_count": 25,
   "id": "3c6d8b63",
   "metadata": {},
   "outputs": [
    {
     "name": "stdout",
     "output_type": "stream",
     "text": [
      "terms:  ['cousin', 'cousin', 'cousin', 'cousin', 'cousin', 'cousin', 'cousin', 'cousin', 'cousin', 'cousin', 'cousin', 'cousin', 'cousin', 'cousin', 'cousin', 'cousin', 'cousin', 'cousin', 'cousin', 'cousin', 'cousin', 'cousin', 'cousin', 'cousin', 'cousin', 'cousin', 'cousin', 'cousin', 'cousin', 'cousin', 'cousin', 'cousin', 'cousin', 'cousin', 'cousin', 'cousin', 'cousin', 'cousin', 'cousin', 'cousin', 'cousin', 'cousin', 'cousin', 'cousin', 'cousin', 'cousin', 'cousin', 'cousin'] probability distribution of GN terms:  [1.0]\n",
      "pair:  ('aunt', 'cousin') p( cousin | aunt ) =  1.0\n",
      "pair:  ('uncle', 'cousin') p( cousin | uncle ) =  1.0\n",
      "entropy of GN =  -0.0 conditional entropy of system =  -0.0\n"
     ]
    },
    {
     "data": {
      "text/plain": [
       "0.0"
      ]
     },
     "execution_count": 25,
     "metadata": {},
     "output_type": "execute_result"
    }
   ],
   "source": [
    "calculate_ics(english)"
   ]
  },
  {
   "cell_type": "code",
   "execution_count": 64,
   "id": "f36e9e0a",
   "metadata": {},
   "outputs": [
    {
     "name": "stdout",
     "output_type": "stream",
     "text": [
      "terms:  ['uncle', 'uncle', 'uncle', 'uncle', 'uncle', 'uncle', 'uncle', 'uncle', 'aunt', 'aunt', 'aunt', 'aunt', 'aunt', 'aunt', 'aunt', 'aunt', 'uncle', 'uncle', 'uncle', 'uncle', 'uncle', 'uncle', 'uncle', 'uncle', 'aunt', 'aunt', 'aunt', 'aunt', 'aunt', 'aunt', 'aunt', 'aunt'] probability distribution of GN terms:  [0.5, 0.5]\n",
      "pair:  ('aunt', 'cousin') p( aunt | cousin ) =  0.5\n",
      "pair:  ('uncle', 'cousin') p( uncle | cousin ) =  0.5\n",
      "entropy of GN1 =  1.0 conditional entropy of system =  1.0\n"
     ]
    },
    {
     "data": {
      "text/plain": [
       "0.0"
      ]
     },
     "execution_count": 64,
     "metadata": {},
     "output_type": "execute_result"
    }
   ],
   "source": [
    "calculate_ics(english)"
   ]
  },
  {
   "cell_type": "code",
   "execution_count": 26,
   "id": "eff1fac2",
   "metadata": {
    "scrolled": true
   },
   "outputs": [
    {
     "name": "stdout",
     "output_type": "stream",
     "text": [
      "terms:  [\"i'ka 'yac̷u-t\", \"i'ka 'yac̷u-t\", \"i'ka 'yac̷u-t\", \"i'ka 'yac̷u-t\", \"i'ka 'yac̷u-t\", \"i'ka 'yac̷u-t\", \"i'ka 'yac̷u-t\", \"i'ka 'yac̷u-t\", \"i'ka 'yac̷u-t\", \"i'ka 'yac̷u-t\", \"i'ka 'yac̷u-t\", \"i'ka 'yac̷u-t\", \"i'ka 'yac̷u-t\", \"i'ka 'yac̷u-t\", \"i'ka 'yac̷u-t\", \"i'ka 'yac̷u-t\", \"i'ka 'yac̷u-t\", \"i'ka 'yac̷u-t\", \"i'ka 'yac̷u-t\", \"i'ka 'yac̷u-t\", \"i'ka 'yac̷u-t\", \"i'ka 'yac̷u-t\", \"i'ka 'yac̷u-t\", \"i'ka 'yac̷u-t\", \"i'ka 'yac̷u-t\", \"i'ka 'yac̷u-t\", \"i'ka 'yac̷u-t\", \"i'ka 'yac̷u-t\", \"i'ka 'yac̷u-t\", \"i'ka 'yac̷u-t\", \"i'ka 'yac̷u-t\", \"i'ka 'yac̷u-t\", \"i'ka 'yac̷u-t\", \"i'ka 'yac̷u-t\", \"i'ka 'yac̷u-t\", \"i'ka 'yac̷u-t\", \"i'ka 'yac̷u-t\", \"i'ka 'yac̷u-t\", \"i'ka 'yac̷u-t\", \"i'ka 'yac̷u-t\", \"i'ka 'yac̷u-t\", \"i'ka 'yac̷u-t\", \"i'ka 'yac̷u-t\", \"i'ka 'yac̷u-t\", \"i'ka 'yac̷u-t\", \"i'ka 'yac̷u-t\", \"i'ka 'yac̷u-t\", \"i'ka 'yac̷u-t\"] probability distribution of GN terms:  [1.0]\n",
      "pair:  ('yac̷u-t', \"i'ka 'yac̷u-t\") p( i'ka 'yac̷u-t | yac̷u-t ) =  1.0\n",
      "pair:  (\"apa-'hu yači\", \"i'ka 'yac̷u-t\") p( i'ka 'yac̷u-t | apa-'hu yači ) =  1.0\n",
      "pair:  ('uma-yui', \"i'ka 'yac̷u-t\") p( i'ka 'yac̷u-t | uma-yui ) =  1.0\n",
      "pair:  (\"apa-'hu uma-yi\", \"i'ka 'yac̷u-t\") p( i'ka 'yac̷u-t | apa-'hu uma-yi ) =  1.0\n",
      "entropy of GN =  -0.0 conditional entropy of system =  -0.0\n"
     ]
    },
    {
     "data": {
      "text/plain": [
       "0.0"
      ]
     },
     "execution_count": 26,
     "metadata": {},
     "output_type": "execute_result"
    }
   ],
   "source": [
    "calculate_ics(aguaruna)"
   ]
  },
  {
   "cell_type": "code",
   "execution_count": 65,
   "id": "3ad738a0",
   "metadata": {},
   "outputs": [
    {
     "name": "stdout",
     "output_type": "stream",
     "text": [
      "terms:  ['yac̷u-t', 'yac̷u-t', 'yac̷u-t', 'yac̷u-t', \"apa-'hu yači\", \"apa-'hu yači\", \"apa-'hu yači\", \"apa-'hu yači\", 'uma-yui', 'uma-yui', 'uma-yui', 'uma-yui', \"apa-'hu uma-yi\", \"apa-'hu uma-yi\", \"apa-'hu uma-yi\", \"apa-'hu uma-yi\", 'yac̷u-t', 'yac̷u-t', 'yac̷u-t', 'yac̷u-t', \"apa-'hu yači\", \"apa-'hu yači\", \"apa-'hu yači\", \"apa-'hu yači\", 'uma-yui', 'uma-yui', 'uma-yui', 'uma-yui', \"apa-'hu uma-yi\", \"apa-'hu uma-yi\", \"apa-'hu uma-yi\", \"apa-'hu uma-yi\"] probability distribution of GN terms:  [0.25, 0.25, 0.25, 0.25]\n",
      "pair:  ('yac̷u-t', \"i'ka 'yac̷u-t\") p( yac̷u-t | i'ka 'yac̷u-t ) =  0.25\n",
      "pair:  (\"apa-'hu yači\", \"i'ka 'yac̷u-t\") p( apa-'hu yači | i'ka 'yac̷u-t ) =  0.25\n",
      "pair:  ('uma-yui', \"i'ka 'yac̷u-t\") p( uma-yui | i'ka 'yac̷u-t ) =  0.25\n",
      "pair:  (\"apa-'hu uma-yi\", \"i'ka 'yac̷u-t\") p( apa-'hu uma-yi | i'ka 'yac̷u-t ) =  0.25\n",
      "entropy of GN1 =  2.0 conditional entropy of system =  2.0\n"
     ]
    },
    {
     "data": {
      "text/plain": [
       "0.0"
      ]
     },
     "execution_count": 65,
     "metadata": {},
     "output_type": "execute_result"
    }
   ],
   "source": [
    "calculate_ics(aguaruna)"
   ]
  },
  {
   "cell_type": "markdown",
   "id": "63744da0",
   "metadata": {},
   "source": [
    "~~Ok. We have something that works ish. But mutual information should always be positive, so something is wrong with the way we are calculating probabilities. Maybe I've misunderstood what the entropy of a generation is? Here I've just fed in the probability distribution of terms in generation (e.g. for English there is 1 term with 1.0 probability, hence `[1]` gets fed to the `calculate_entropy` function. Equally maybe you can't calculate conditional entropy with a list of conditional probabilities?~~\n",
    "\n",
    "Solved! I was calculating conditional probability wrong. For each pair it needed to be p(pair) * log2 p(pair[0] | pair[1])"
   ]
  },
  {
   "cell_type": "code",
   "execution_count": 27,
   "id": "c3139cbc",
   "metadata": {},
   "outputs": [
    {
     "name": "stdout",
     "output_type": "stream",
     "text": [
      "terms:  ['tuatua tavalaxum', 'tuatua tavalaxum', 'tuatua tavalaxum', 'tuatua tavalaxum', 'tuatua tavalaxum', 'tuatua tavalaxum', 'tua', 'finfiⁿdi', 'finfiⁿdi', 'tua', 'finfiⁿdi', 'finfiⁿdi', 'tua', 'finfiⁿdi', 'finfiⁿdi', 'tua', 'finfiⁿdi', 'finfiⁿdi', 'tuatua tavalaxum', 'tuatua tavalaxum', 'tuatua tavalaxum', 'tuatua tavalaxum', 'tuatua tavalaxum', 'tuatua tavalaxum', 'tuatua tavalaxum', 'tuatua tavalaxum', 'tuatua tavalaxum', 'tuatua tavalaxum', 'tuatua tavalaxum', 'tuatua tavalaxum', 'finfiⁿdi', 'tua', 'tua', 'finfiⁿdi', 'tua', 'tua', 'finfiⁿdi', 'tua', 'tua', 'finfiⁿdi', 'tua', 'tua', 'tuatua tavalaxum', 'tuatua tavalaxum', 'tuatua tavalaxum', 'tuatua tavalaxum', 'tuatua tavalaxum', 'tuatua tavalaxum'] probability distribution of GN terms:  [0.25, 0.5, 0.25]\n",
      "pair:  ('taraᵐbe', 'tuatua tavalaxum') p( tuatua tavalaxum | taraᵐbe ) =  1.0\n",
      "pair:  ('tata', 'finfiⁿdi') p( finfiⁿdi | tata ) =  0.5\n",
      "pair:  ('raβe', 'tuatua tavalaxum') p( tuatua tavalaxum | raβe ) =  1.0\n",
      "pair:  ('ᵐbotai', 'finfiⁿdi') p( finfiⁿdi | ᵐbotai ) =  0.5\n",
      "pair:  ('ᵐbotai', 'tua') p( tua | ᵐbotai ) =  0.5\n",
      "pair:  ('tata', 'tua') p( tua | tata ) =  0.5\n",
      "entropy of GN =  1.5 conditional entropy of system =  0.5\n"
     ]
    },
    {
     "data": {
      "text/plain": [
       "1.0"
      ]
     },
     "execution_count": 27,
     "metadata": {},
     "output_type": "execute_result"
    }
   ],
   "source": [
    "random.seed(11)\n",
    "\n",
    "file = random_language(all_kb_files)\n",
    "filepath = '../languages/kinbank/'\n",
    "\n",
    "a = get_kin_terms(filepath + file)\n",
    "\n",
    "calculate_ics(a)"
   ]
  },
  {
   "cell_type": "code",
   "execution_count": 66,
   "id": "71f7045d",
   "metadata": {},
   "outputs": [
    {
     "name": "stdout",
     "output_type": "stream",
     "text": [
      "terms:  ['taraᵐbe', 'taraᵐbe', 'taraᵐbe', 'taraᵐbe', 'tata', 'tata', 'tata', 'tata', 'ᵐbotai', 'ᵐbotai', 'ᵐbotai', 'ᵐbotai', 'raβe', 'raβe', 'raβe', 'raβe', 'taraᵐbe', 'taraᵐbe', 'taraᵐbe', 'taraᵐbe', 'tata', 'tata', 'tata', 'tata', 'ᵐbotai', 'ᵐbotai', 'ᵐbotai', 'ᵐbotai', 'raβe', 'raβe', 'raβe', 'raβe'] probability distribution of GN terms:  [0.25, 0.25, 0.25, 0.25]\n",
      "pair:  ('taraᵐbe', 'tuatua tavalaxum') p( taraᵐbe | tuatua tavalaxum ) =  0.5\n",
      "pair:  ('tata', 'finfiⁿdi') p( tata | finfiⁿdi ) =  0.5\n",
      "pair:  ('raβe', 'tuatua tavalaxum') p( raβe | tuatua tavalaxum ) =  0.5\n",
      "pair:  ('ᵐbotai', 'finfiⁿdi') p( ᵐbotai | finfiⁿdi ) =  0.5\n",
      "pair:  ('ᵐbotai', 'tua') p( ᵐbotai | tua ) =  0.5\n",
      "pair:  ('tata', 'tua') p( tata | tua ) =  0.5\n",
      "entropy of GN1 =  2.0 conditional entropy of system =  1.5\n"
     ]
    },
    {
     "data": {
      "text/plain": [
       "0.5"
      ]
     },
     "execution_count": 66,
     "metadata": {},
     "output_type": "execute_result"
    }
   ],
   "source": [
    "calculate_ics(a)"
   ]
  },
  {
   "cell_type": "markdown",
   "id": "762c4fb2",
   "metadata": {},
   "source": [
    "### What score do we get for a language that co-selects perfectly?"
   ]
  },
  {
   "cell_type": "code",
   "execution_count": 67,
   "id": "f91a7812",
   "metadata": {},
   "outputs": [
    {
     "name": "stdout",
     "output_type": "stream",
     "text": [
      "terms:  ['aaa', 'aaa', 'eee', 'eee', 'ccc', 'ccc', 'ggg', 'ggg', 'bbb', 'bbb', 'fff', 'fff', 'ddd', 'ddd', 'hhh', 'hhh'] probability distribution of GN terms:  [0.125, 0.125, 0.125, 0.125, 0.125, 0.125, 0.125, 0.125]\n",
      "pair:  ('eee', 'eees') p( eee | eees ) =  1.0\n",
      "pair:  ('bbb', 'bbbs') p( bbb | bbbs ) =  1.0\n",
      "pair:  ('fff', 'fffs') p( fff | fffs ) =  1.0\n",
      "pair:  ('aaa', 'aaad') p( aaa | aaad ) =  1.0\n",
      "pair:  ('ddd', 'dddd') p( ddd | dddd ) =  1.0\n",
      "pair:  ('hhh', 'hhhs') p( hhh | hhhs ) =  1.0\n",
      "pair:  ('hhh', 'hhhd') p( hhh | hhhd ) =  1.0\n",
      "pair:  ('ccc', 'cccs') p( ccc | cccs ) =  1.0\n",
      "pair:  ('aaa', 'aaas') p( aaa | aaas ) =  1.0\n",
      "pair:  ('bbb', 'bbbd') p( bbb | bbbd ) =  1.0\n",
      "pair:  ('ggg', 'gggs') p( ggg | gggs ) =  1.0\n",
      "pair:  ('ggg', 'gggd') p( ggg | gggd ) =  1.0\n",
      "pair:  ('ddd', 'ddds') p( ddd | ddds ) =  1.0\n",
      "pair:  ('eee', 'eeed') p( eee | eeed ) =  1.0\n",
      "pair:  ('ccc', 'cccd') p( ccc | cccd ) =  1.0\n",
      "pair:  ('fff', 'fffd') p( fff | fffd ) =  1.0\n",
      "entropy of GN1 =  3.0 conditional entropy of system =  -0.0\n"
     ]
    },
    {
     "data": {
      "text/plain": [
       "3.0"
      ]
     },
     "execution_count": 67,
     "metadata": {},
     "output_type": "execute_result"
    }
   ],
   "source": [
    "ics_lang = {\n",
    "    'mMeB': 'aaa',\n",
    "    'mMeZ': 'bbb',\n",
    "    'mFeB': 'ccc',\n",
    "    'mFeZ': 'ddd',\n",
    "    'mMeBS': 'aaas',\n",
    "    'mMeZS': 'bbbs',\n",
    "    'mFeBS': 'cccs',\n",
    "    'mFeZS': 'ddds',\n",
    "    'mMeBD': 'aaad',\n",
    "    'mMeZD': 'bbbd',\n",
    "    'mFeBD': 'cccd',\n",
    "    'mFeZD': 'dddd',\n",
    "    'mMyB': 'eee',\n",
    "    'mMyZ': 'fff',\n",
    "    'mFyB': 'ggg',\n",
    "    'mFyZ': 'hhh',\n",
    "    'mMyBS': 'eees',\n",
    "    'mMyZS': 'fffs',\n",
    "    'mFyBS': 'gggs',\n",
    "    'mFyZS': 'hhhs',\n",
    "    'mMyBD': 'eeed',\n",
    "    'mMyZD': 'fffd',\n",
    "    'mFyBD': 'gggd',\n",
    "    'mFyZD': 'hhhd'\n",
    "}\n",
    "\n",
    "# get_pairs(ics_lang,kt.ics_pairs)\n",
    "\n",
    "calculate_ics(ics_lang)"
   ]
  },
  {
   "cell_type": "markdown",
   "id": "158cc36e",
   "metadata": {},
   "source": [
    "Does that change if the son and daughter terms are the same?"
   ]
  },
  {
   "cell_type": "code",
   "execution_count": 68,
   "id": "d5a94461",
   "metadata": {},
   "outputs": [
    {
     "name": "stdout",
     "output_type": "stream",
     "text": [
      "terms:  ['aaa', 'aaa', 'eee', 'eee', 'ccc', 'ccc', 'ggg', 'ggg', 'bbb', 'bbb', 'fff', 'fff', 'ddd', 'ddd', 'hhh', 'hhh'] probability distribution of GN terms:  [0.125, 0.125, 0.125, 0.125, 0.125, 0.125, 0.125, 0.125]\n",
      "pair:  ('bbb', 'bbbc') p( bbb | bbbc ) =  1.0\n",
      "pair:  ('hhh', 'hhhc') p( hhh | hhhc ) =  1.0\n",
      "pair:  ('ccc', 'cccc') p( ccc | cccc ) =  1.0\n",
      "pair:  ('ddd', 'dddc') p( ddd | dddc ) =  1.0\n",
      "pair:  ('aaa', 'aaac') p( aaa | aaac ) =  1.0\n",
      "pair:  ('fff', 'fffc') p( fff | fffc ) =  1.0\n",
      "pair:  ('ggg', 'gggc') p( ggg | gggc ) =  1.0\n",
      "pair:  ('eee', 'eeec') p( eee | eeec ) =  1.0\n",
      "entropy of GN1 =  3.0 conditional entropy of system =  -0.0\n"
     ]
    },
    {
     "data": {
      "text/plain": [
       "3.0"
      ]
     },
     "execution_count": 68,
     "metadata": {},
     "output_type": "execute_result"
    }
   ],
   "source": [
    "ics_lang_2 = {\n",
    "    'mMeB': 'aaa',\n",
    "    'mMeZ': 'bbb',\n",
    "    'mFeB': 'ccc',\n",
    "    'mFeZ': 'ddd',\n",
    "    'mMeBS': 'aaac',\n",
    "    'mMeZS': 'bbbc',\n",
    "    'mFeBS': 'cccc',\n",
    "    'mFeZS': 'dddc',\n",
    "    'mMeBD': 'aaac',\n",
    "    'mMeZD': 'bbbc',\n",
    "    'mFeBD': 'cccc',\n",
    "    'mFeZD': 'dddc',\n",
    "    'mMyB': 'eee',\n",
    "    'mMyZ': 'fff',\n",
    "    'mFyB': 'ggg',\n",
    "    'mFyZ': 'hhh',\n",
    "    'mMyBS': 'eeec',\n",
    "    'mMyZS': 'fffc',\n",
    "    'mFyBS': 'gggc',\n",
    "    'mFyZS': 'hhhc',\n",
    "    'mMyBD': 'eeec',\n",
    "    'mMyZD': 'fffc',\n",
    "    'mFyBD': 'gggc',\n",
    "    'mFyZD': 'hhhc'\n",
    "}\n",
    "\n",
    "calculate_ics(ics_lang_2)"
   ]
  },
  {
   "cell_type": "markdown",
   "id": "072a8872",
   "metadata": {},
   "source": [
    "And what about a non co-selecting language?"
   ]
  },
  {
   "cell_type": "code",
   "execution_count": 152,
   "id": "9bf7e9bd",
   "metadata": {},
   "outputs": [
    {
     "name": "stdout",
     "output_type": "stream",
     "text": [
      "terms:  ['aaa', 'aaa', 'eee', 'eee', 'ddd', 'ddd', 'ddd', 'ddd', 'bbb', 'bbb', 'fff', 'fff', 'ddd', 'ddd', 'hhh', 'hhh'] probability distribution of GN terms:  [0.375, 0.125, 0.125, 0.125, 0.125, 0.125]\n",
      "[('aaa', 'eed'), ('aaa', 'aaad'), ('eee', 'aaas'), ('eee', 'eeed'), ('ddd', 'aaas'), ('ddd', 'dddd'), ('ddd', 'aaas'), ('ddd', 'aaad'), ('bbb', 'aaas'), ('bbb', 'aaad'), ('fff', 'eee'), ('fff', 'aaad'), ('ddd', 'ddds'), ('ddd', 'aaad'), ('hhh', 'gggs'), ('hhh', 'gggd')] [0.0625, 0.125, 0.0625, 0.125, 0.0625, 0.0625, 0.0625, 0.0625, 0.0625, 0.0625, 0.0625, 0.0625, 0.0625, 0.0625]\n",
      "pair:  ('aaa', 'eed') p( aaa | eed ) =  1.0\n",
      "pair:  ('ddd', 'aaas') p( ddd | aaas ) =  0.5\n",
      "pair:  ('fff', 'eee') p( fff | eee ) =  1.0\n",
      "pair:  ('ddd', 'aaad') p( ddd | aaad ) =  0.4\n",
      "pair:  ('bbb', 'aaas') p( bbb | aaas ) =  0.25\n",
      "pair:  ('bbb', 'aaad') p( bbb | aaad ) =  0.2\n",
      "pair:  ('aaa', 'aaad') p( aaa | aaad ) =  0.2\n",
      "pair:  ('ddd', 'ddds') p( ddd | ddds ) =  1.0\n",
      "pair:  ('hhh', 'gggd') p( hhh | gggd ) =  1.0\n",
      "pair:  ('ddd', 'dddd') p( ddd | dddd ) =  1.0\n",
      "pair:  ('fff', 'aaad') p( fff | aaad ) =  0.2\n",
      "pair:  ('eee', 'eeed') p( eee | eeed ) =  1.0\n",
      "pair:  ('hhh', 'gggs') p( hhh | gggs ) =  1.0\n",
      "pair:  ('eee', 'aaas') p( eee | aaas ) =  0.25\n",
      "p(a,b) =  0.0625 p(a|b) =  1.0\n",
      "p(a,b) =  0.125 p(a|b) =  0.5\n",
      "p(a,b) =  0.0625 p(a|b) =  1.0\n",
      "p(a,b) =  0.125 p(a|b) =  0.4\n",
      "p(a,b) =  0.0625 p(a|b) =  0.25\n",
      "p(a,b) =  0.0625 p(a|b) =  0.2\n",
      "p(a,b) =  0.0625 p(a|b) =  0.2\n",
      "p(a,b) =  0.0625 p(a|b) =  1.0\n",
      "p(a,b) =  0.0625 p(a|b) =  1.0\n",
      "p(a,b) =  0.0625 p(a|b) =  1.0\n",
      "p(a,b) =  0.0625 p(a|b) =  0.2\n",
      "p(a,b) =  0.0625 p(a|b) =  1.0\n",
      "p(a,b) =  0.0625 p(a|b) =  1.0\n",
      "p(a,b) =  0.0625 p(a|b) =  0.25\n",
      "entropy of GN1 =  2.4056390622295662 conditional entropy of system =  0.9756025296523007\n"
     ]
    },
    {
     "data": {
      "text/plain": [
       "1.4300365325772657"
      ]
     },
     "execution_count": 152,
     "metadata": {},
     "output_type": "execute_result"
    }
   ],
   "source": [
    "bad_ics_lang = {\n",
    "    'mMeB': 'aaa',\n",
    "    'mMeZ': 'bbb',\n",
    "    'mFeB': 'ddd',\n",
    "    'mFeZ': 'ddd',\n",
    "    'mMeBS': 'eed',\n",
    "    'mMeZS': 'aaas',\n",
    "    'mFeBS': 'aaas',\n",
    "    'mFeZS': 'ddds',\n",
    "    'mMeBD': 'aaad',\n",
    "    'mMeZD': 'aaad',\n",
    "    'mFeBD': 'dddd',\n",
    "    'mFeZD': 'aaad',\n",
    "    'mMyB': 'eee',\n",
    "    'mMyZ': 'fff',\n",
    "    'mFyB': 'ddd',\n",
    "    'mFyZ': 'hhh',\n",
    "    'mMyBS': 'aaas',\n",
    "    'mMyZS': 'eee',\n",
    "    'mFyBS': 'aaas',\n",
    "    'mFyZS': 'gggs',\n",
    "    'mMyBD': 'eeed',\n",
    "    'mMyZD': 'aaad',\n",
    "    'mFyBD': 'aaad',\n",
    "    'mFyZD': 'gggd'\n",
    "}\n",
    "\n",
    "calculate_ics(bad_ics_lang)"
   ]
  },
  {
   "cell_type": "markdown",
   "id": "bb676698",
   "metadata": {},
   "source": [
    "It's not super intuitive to me that the \"worst\" languages are those with entropy 0 in one of the generations. A system like English is at least consistent - if the motivation for ICS is that it increases simplicity, then this seems entirely opposite to what we want!"
   ]
  },
  {
   "cell_type": "markdown",
   "id": "df72544d",
   "metadata": {},
   "source": [
    "## What about randomly generated languages?\n",
    "\n",
    "Let's write a function to randomly generate a language so we can get a feel for what good / bad mutual information scores look like."
   ]
  },
  {
   "cell_type": "code",
   "execution_count": 89,
   "id": "53a092cb",
   "metadata": {},
   "outputs": [],
   "source": [
    "def generate_language(kin_types):\n",
    "    language = {}\n",
    "    words = []\n",
    "    letters = string.ascii_lowercase\n",
    "    \n",
    "    for i in range(len(kin_types)):\n",
    "        word = ''.join(random.choice(letters) for i in range(4))\n",
    "        words.append(word)\n",
    "        \n",
    "    print(words)\n",
    "        \n",
    "    for kt in kin_types:\n",
    "        term = random.choice(words)\n",
    "        language[kt] = term\n",
    "        \n",
    "    return language"
   ]
  },
  {
   "cell_type": "code",
   "execution_count": 104,
   "id": "83016845",
   "metadata": {},
   "outputs": [
    {
     "name": "stdout",
     "output_type": "stream",
     "text": [
      "['eszy', 'cidp', 'yopu', 'mzgd', 'pamn', 'tyya', 'woix', 'zhsd', 'kaaa', 'uram', 'vgnx', 'aqhy', 'oprh', 'lhvh', 'yoja', 'nrud', 'fuxj', 'dxkx', 'wqnq', 'vgjj', 'spqm', 'sbph', 'xzmn', 'vflr']\n",
      "terms:  ['xzmn', 'xzmn', 'aqhy', 'aqhy', 'vflr', 'vflr', 'vflr', 'vflr', 'sbph', 'sbph', 'nrud', 'nrud', 'aqhy', 'aqhy', 'eszy', 'eszy'] probability distribution of GN terms:  [0.125, 0.25, 0.25, 0.125, 0.125, 0.125]\n",
      "pair:  ('xzmn', 'mzgd') p( xzmn | mzgd ) =  1.0\n",
      "pair:  ('sbph', 'yoja') p( sbph | yoja ) =  1.0\n",
      "pair:  ('aqhy', 'fuxj') p( aqhy | fuxj ) =  0.5\n",
      "pair:  ('aqhy', 'oprh') p( aqhy | oprh ) =  0.5\n",
      "pair:  ('vflr', 'fuxj') p( vflr | fuxj ) =  0.5\n",
      "pair:  ('nrud', 'cidp') p( nrud | cidp ) =  1.0\n",
      "pair:  ('xzmn', 'yopu') p( xzmn | yopu ) =  1.0\n",
      "pair:  ('eszy', 'oprh') p( eszy | oprh ) =  0.5\n",
      "pair:  ('aqhy', 'vgjj') p( aqhy | vgjj ) =  1.0\n",
      "pair:  ('sbph', 'tyya') p( sbph | tyya ) =  1.0\n",
      "pair:  ('nrud', 'wqnq') p( nrud | wqnq ) =  0.5\n",
      "pair:  ('eszy', 'xzmn') p( eszy | xzmn ) =  1.0\n",
      "pair:  ('vflr', 'sbph') p( vflr | sbph ) =  1.0\n",
      "pair:  ('vflr', 'uram') p( vflr | uram ) =  1.0\n",
      "pair:  ('aqhy', 'nrud') p( aqhy | nrud ) =  1.0\n",
      "pair:  ('vflr', 'wqnq') p( vflr | wqnq ) =  0.5\n",
      "entropy of GN1 =  2.5 conditional entropy of system =  0.375\n"
     ]
    },
    {
     "data": {
      "text/plain": [
       "2.125"
      ]
     },
     "execution_count": 104,
     "metadata": {},
     "output_type": "execute_result"
    }
   ],
   "source": [
    "random.seed(1)\n",
    "x = generate_language(ics_lang.keys())\n",
    "\n",
    "get_pairs(x,kt.ics_pairs)\n",
    "      \n",
    "calculate_ics(x)"
   ]
  },
  {
   "cell_type": "code",
   "execution_count": 94,
   "id": "13e689d3",
   "metadata": {},
   "outputs": [
    {
     "name": "stdout",
     "output_type": "stream",
     "text": [
      "terms:  ['aaa', 'aaa', 'ccc', 'ccc', 'bbb', 'bbb', 'ddd', 'ddd'] probability distribution of GN terms:  [0.25, 0.25, 0.25, 0.25]\n",
      "pair:  ('aaa', 'aaac') p( aaa | aaac ) =  1.0\n",
      "pair:  ('ccc', 'cccc') p( ccc | cccc ) =  1.0\n",
      "pair:  ('ddd', 'dddc') p( ddd | dddc ) =  1.0\n",
      "pair:  ('bbb', 'bbbc') p( bbb | bbbc ) =  1.0\n",
      "entropy of GN1 =  2.0 conditional entropy of system =  -0.0\n"
     ]
    },
    {
     "data": {
      "text/plain": [
       "2.0"
      ]
     },
     "execution_count": 94,
     "metadata": {},
     "output_type": "execute_result"
    }
   ],
   "source": [
    "mini_ics = {\n",
    "    'mMeB': 'aaa',\n",
    "    'mMeZ': 'bbb',\n",
    "    'mFeB': 'ccc',\n",
    "    'mFeZ': 'ddd',\n",
    "    'mMeBS': 'aaac',\n",
    "    'mMeZS': 'bbbc',\n",
    "    'mFeBS': 'cccc',\n",
    "    'mFeZS': 'dddc',\n",
    "    'mMeBD': 'aaac',\n",
    "    'mMeZD': 'bbbc',\n",
    "    'mFeBD': 'cccc',\n",
    "    'mFeZD': 'dddc'\n",
    "}\n",
    "\n",
    "calculate_ics(mini_ics)"
   ]
  },
  {
   "cell_type": "code",
   "execution_count": 153,
   "id": "9e6ddccf",
   "metadata": {},
   "outputs": [
    {
     "name": "stdout",
     "output_type": "stream",
     "text": [
      "terms:  ['aaa', 'aaa', 'aaa', 'aaa', 'aaa', 'aaa', 'aaa', 'aaa'] probability distribution of GN terms:  [1.0]\n",
      "[('aaa', 'aaac'), ('aaa', 'aaac'), ('aaa', 'aaac'), ('aaa', 'aaac'), ('aaa', 'aaac'), ('aaa', 'aaac'), ('aaa', 'bbbc'), ('aaa', 'bbbc')] [0.75, 0.25]\n",
      "pair:  ('aaa', 'aaac') p( aaa | aaac ) =  1.0\n",
      "pair:  ('aaa', 'bbbc') p( aaa | bbbc ) =  1.0\n",
      "p(a,b) =  0.75 p(a|b) =  1.0\n",
      "p(a,b) =  0.75 p(a|b) =  1.0\n",
      "entropy of GN1 =  -0.0 conditional entropy of system =  -0.0\n"
     ]
    },
    {
     "data": {
      "text/plain": [
       "0.0"
      ]
     },
     "execution_count": 153,
     "metadata": {},
     "output_type": "execute_result"
    }
   ],
   "source": [
    "mini_bad_ics = {\n",
    "    'mMeB': 'aaa',\n",
    "    'mMeZ': 'aaa',\n",
    "    'mFeB': 'aaa',\n",
    "    'mFeZ': 'aaa',\n",
    "    'mMeBS': 'aaac',\n",
    "    'mMeZS': 'aaac',\n",
    "    'mFeBS': 'aaac',\n",
    "    'mFeZS': 'bbbc',\n",
    "    'mMeBD': 'aaac',\n",
    "    'mMeZD': 'aaac',\n",
    "    'mFeBD': 'aaac',\n",
    "    'mFeZD': 'bbbc'\n",
    "}\n",
    "\n",
    "calculate_ics(mini_bad_ics)"
   ]
  },
  {
   "cell_type": "code",
   "execution_count": 161,
   "id": "b3d0bd9f",
   "metadata": {},
   "outputs": [
    {
     "name": "stdout",
     "output_type": "stream",
     "text": [
      "terms:  ['aaa', 'aaa', 'ccc', 'ccc', 'bbb', 'bbb', 'ddd', 'ddd'] probability distribution of GN terms:  [0.25, 0.25, 0.25, 0.25]\n",
      "[('aaa', 'aaac'), ('aaa', 'aaac'), ('ccc', 'aaac'), ('ccc', 'aaac'), ('bbb', 'bbbc'), ('bbb', 'bbbc'), ('ddd', 'bbbc'), ('ddd', 'bbbc')] [0.25, 0.25, 0.25, 0.25]\n",
      "pair:  ('ddd', 'bbbc') p( ddd | bbbc ) =  0.5\n",
      "pair:  ('aaa', 'aaac') p( aaa | aaac ) =  0.5\n",
      "pair:  ('ccc', 'aaac') p( ccc | aaac ) =  0.5\n",
      "pair:  ('bbb', 'bbbc') p( bbb | bbbc ) =  0.5\n",
      "p(a,b) =  0.25 p(a|b) =  0.5\n",
      "p(a,b) =  0.25 p(a|b) =  0.5\n",
      "p(a,b) =  0.25 p(a|b) =  0.5\n",
      "p(a,b) =  0.25 p(a|b) =  0.5\n",
      "entropy of GN1 =  2.0 conditional entropy of system =  1.0\n"
     ]
    },
    {
     "data": {
      "text/plain": [
       "1.0"
      ]
     },
     "execution_count": 161,
     "metadata": {},
     "output_type": "execute_result"
    }
   ],
   "source": [
    "mini_bad_ics_2 = {\n",
    "    'mMeB': 'aaa',\n",
    "    'mMeZ': 'bbb',\n",
    "    'mFeB': 'ccc',\n",
    "    'mFeZ': 'ddd',\n",
    "    'mMeBS': 'aaac',\n",
    "    'mMeZS': 'bbbc',\n",
    "    'mFeBS': 'aaac',\n",
    "    'mFeZS': 'bbbc',\n",
    "    'mMeBD': 'aaac',\n",
    "    'mMeZD': 'bbbc',\n",
    "    'mFeBD': 'aaac',\n",
    "    'mFeZD': 'bbbc'\n",
    "}\n",
    "\n",
    "calculate_ics(mini_bad_ics_2)"
   ]
  },
  {
   "cell_type": "code",
   "execution_count": 140,
   "id": "23442505",
   "metadata": {},
   "outputs": [
    {
     "name": "stdout",
     "output_type": "stream",
     "text": [
      "['ings', 'xyzb', 'pvmw', 'ulmq', 'frxb', 'qczi', 'udix', 'ceyt']\n",
      "terms:  ['xyzb', 'ulmq', 'ceyt', 'udix'] probability distribution of GN terms:  [0.25, 0.25, 0.25, 0.25]\n",
      "pair:  ('xyzb', 'udix') p( xyzb | udix ) =  0.5\n",
      "pair:  ('udix', 'qczi') p( udix | qczi ) =  1.0\n",
      "pair:  ('ceyt', 'udix') p( ceyt | udix ) =  0.5\n",
      "pair:  ('ulmq', 'pvmw') p( ulmq | pvmw ) =  1.0\n",
      "entropy of GN1 =  2.0 conditional entropy of system =  0.5\n"
     ]
    },
    {
     "data": {
      "text/plain": [
       "1.5"
      ]
     },
     "execution_count": 140,
     "metadata": {},
     "output_type": "execute_result"
    }
   ],
   "source": [
    "length = ['mMeB','mMeZ','mFeB','mFeZ','mMeBS','mMeZS','mFeBS','mFeZS']\n",
    "\n",
    "r_l = generate_language(length)\n",
    "\n",
    "r_p = get_pairs(r_l,kt.ics_pairs)\n",
    "\n",
    "calculate_ics(r_l)"
   ]
  },
  {
   "cell_type": "code",
   "execution_count": 160,
   "id": "f76ea6cb",
   "metadata": {},
   "outputs": [
    {
     "data": {
      "text/plain": [
       "-1.1887326958077753"
      ]
     },
     "execution_count": 160,
     "metadata": {},
     "output_type": "execute_result"
    }
   ],
   "source": []
  }
 ],
 "metadata": {
  "kernelspec": {
   "display_name": "Python 3 (ipykernel)",
   "language": "python",
   "name": "python3"
  },
  "language_info": {
   "codemirror_mode": {
    "name": "ipython",
    "version": 3
   },
   "file_extension": ".py",
   "mimetype": "text/x-python",
   "name": "python",
   "nbconvert_exporter": "python",
   "pygments_lexer": "ipython3",
   "version": "3.9.12"
  }
 },
 "nbformat": 4,
 "nbformat_minor": 5
}
