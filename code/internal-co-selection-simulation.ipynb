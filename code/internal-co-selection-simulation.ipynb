{
 "cells": [
  {
   "cell_type": "code",
   "execution_count": 1,
   "id": "b12a01aa",
   "metadata": {},
   "outputs": [],
   "source": [
    "import csv # for writing dataframes to csv\n",
    "import random # for making a random choice\n",
    "import os # for scanning directories\n",
    "import itertools\n",
    "import string # for generating strings\n",
    "\n",
    "import kintypes as kt # bringing large lists of kin types into the namespace\n",
    "import math # for calculating logs\n",
    "import pandas as pd"
   ]
  },
  {
   "cell_type": "markdown",
   "id": "06a854cf",
   "metadata": {},
   "source": [
    "# Internal co-selection\n",
    "\n",
    "Internal co-selection refers to the tendency for kinship systems to have cross-generational consistency in the terminological distinctions or mergers that are made. That is, if your parents' elder brothers share a kin term, then so too will their children. If your parents' sisters are distinguished from your parents' brothers, so too will their children be distinguished. We can test the robustness of this tendency using our frankenlanguages, to see whether internal co-selection occurs at a higher rate than chance.\n",
    "\n",
    "We will measure internal co-selection in terms of the **mutual information** between Generation N and Generation N+1 in a particular kinship system. That tells us how much information can be gained from one generation by observing the other - we can think of this as the benefit of internal co-selection. That is, we need to work out the conditional entropy between every possible pair of parent and child terms, and the entropy over an entire generation. This will tell us how much information is shared across the two generations; or how much we can predict about one generation given the other.\n",
    "\n",
    "To do this, we need to do the following:\n",
    "\n",
    "* Get a list of parent-child pairs for each language.\n",
    "* Work out the conditional probabilities for each pair.\n",
    "* Work out the probabilities of each individual term in a generation.\n",
    "* Calculate the entropy of 2 and 3.\n",
    "* Calculate the mutual information of the system.\n",
    "\n",
    "Luckily, we can re-use some of the infrastructure we already have. For ease, I will write out again the functions that extract kin terms from a kinbank file."
   ]
  },
  {
   "cell_type": "code",
   "execution_count": 2,
   "id": "06fdc060",
   "metadata": {},
   "outputs": [],
   "source": [
    "# to get a list of all the kinbank filenames\n",
    "\n",
    "def get_kb_files():\n",
    "    files = []\n",
    "    path = '../languages/kinbank'\n",
    "    directory = os.scandir(path)\n",
    "    for file in directory:\n",
    "        files.append(file.name)\n",
    "    return files"
   ]
  },
  {
   "cell_type": "code",
   "execution_count": 3,
   "id": "20247ab1",
   "metadata": {},
   "outputs": [],
   "source": [
    "# to pick a file at random\n",
    "\n",
    "def random_language(all_data):\n",
    "    language = random.choice(all_data)\n",
    "    # print(language)\n",
    "    return language"
   ]
  },
  {
   "cell_type": "code",
   "execution_count": 4,
   "id": "f00ea0d3",
   "metadata": {},
   "outputs": [],
   "source": [
    "# to extract kin terms from one of those files\n",
    "\n",
    "def get_kin_terms(filepath):\n",
    "    kin_system = {}\n",
    "    with open(filepath, encoding='utf8') as f:\n",
    "        csv_reader = csv.DictReader(f)\n",
    "        next(csv_reader) # to skip the header row\n",
    "        for line in csv_reader:\n",
    "            kin_type = line['parameter']\n",
    "            kin_term = line['word']\n",
    "            kin_system[kin_type] = kin_term\n",
    "    return kin_system"
   ]
  },
  {
   "cell_type": "markdown",
   "id": "a7ef698b",
   "metadata": {},
   "source": [
    "For testing purposes throughout this notebook, let's pick a random language and extract its kin terms."
   ]
  },
  {
   "cell_type": "code",
   "execution_count": 5,
   "id": "3e1eb2f7",
   "metadata": {},
   "outputs": [],
   "source": [
    "all_kb_files = get_kb_files()"
   ]
  },
  {
   "cell_type": "code",
   "execution_count": 20,
   "id": "f5518b23",
   "metadata": {},
   "outputs": [
    {
     "name": "stdout",
     "output_type": "stream",
     "text": [
      "Nogai_noga1249.csv {'mG': 'karɨndas', 'mB': 'adanas', 'mZ': 'karɨndas', 'myB': 'ini', 'myZ': 'siŋli', 'mF': 'ata', 'mM': 'ana', 'mC': 'tuwgailar', 'mS': 'kede', 'mD': 'kɨz', 'mFF': 'atay', 'mFM': 'tetey', 'mMF': 'atay', 'mMM': 'tetey', 'mSS': 'yiyen', 'mSD': 'yiyеn kɨz', 'mDS': 'yiyen', 'mDD': 'yiyеn kɨz', 'mFB': 'akay', 'mFZ': 'abay', 'mMB': 'nagaš akay', 'mMZ': 'abay', 'mBS': 'yiyen', 'mBD': 'yiyеn kɨz', 'mZS': 'yiyen', 'mZD': 'yiyеn kɨz', 'mFZD': 'bölе', 'mFBD': 'bölе', 'mMBD': 'bölе', 'mMZD': 'bölе', 'mFBS': 'bölе', 'mFZS': 'bölе', 'mMBS': 'bölе', 'mMZS': 'bölе', 'mH': 'kiew', 'mW': 'pišе', 'mHF': 'kaynata', 'mHM': 'kaynana', 'mWF': 'kaynata', 'mWM': 'kaynana', 'mSW': 'kеšеk', 'mDH': 'kiеw', 'meB': 'adanas', 'meZ': 'karɨndas', 'mFeB': 'akay', 'mFyB': 'akay', 'mFeZ': 'abay', 'mFyZ': 'abay', 'mMeZ': 'abay', 'mMyZ': 'abay', 'mMeB': 'nagaš akay', 'mMyB': 'nagaš akay', 'meBS': 'yiyen', 'myBS': 'yiyen', 'meBD': 'yiyеn kɨz', 'myBD': 'yiyеn kɨz', 'meZS': 'yiyen', 'myZS': 'yiyen', 'meZD': 'yiyеn kɨz', 'myZD': 'yiyеn kɨz', 'mFeBS': 'bölе', 'mFyBS': 'bölе', 'mFeZS': 'bölе', 'mFyZS': 'bölе', 'mFeBD': 'bölе', 'mFyBD': 'bölе', 'mFeZD': 'bölе', 'mFyZD': 'bölе', 'mMeBS': 'bölе', 'mMyBS': 'bölе', 'mMeZS': 'bölе', 'mMyZS': 'bölе', 'mMeBD': 'bölе', 'mMyBD': 'bölе', 'mMeZD': 'bölе', 'mMyZD': 'bölе', 'mFBeS': 'bölе', 'mFByS': 'bölе', 'mFZeS': 'bölе', 'mFZyS': 'bölе', 'mFBeD': 'bölе', 'mFByD': 'bölе', 'mFZeD': 'bölе', 'mFZyD': 'bölе', 'mMBeS': 'bölе', 'mMByS': 'bölе', 'mMZeS': 'bölе', 'mMZyS': 'bölе', 'mMBeD': 'bölе', 'mMByD': 'bölе', 'mMZeD': 'bölе', 'mMZyD': 'bölе', 'fG': 'karɨndas', 'fB': 'adanas', 'fZ': 'karɨndas', 'fyB': 'ini', 'fyZ': 'siŋli', 'fF': 'ata', 'fM': 'ana', 'fC': 'tuwgailar', 'fS': 'kede', 'fD': 'kɨz', 'fFF': 'atay', 'fFM': 'tetey', 'fMF': 'atay', 'fMM': 'tetey', 'fSS': 'yiyen', 'fSD': 'yiyеn kɨz', 'fDS': 'yiyen', 'fDD': 'yiyеn kɨz', 'fFB': 'akay', 'fFZ': 'abay', 'fMB': 'nagaš akay', 'fMZ': 'abay', 'fBS': 'yiyen', 'fBD': 'yiyеn kɨz', 'fZS': 'yiyen', 'fZD': 'yiyеn kɨz', 'fFZD': 'bölе', 'fFBD': 'bölе', 'fMBD': 'bölе', 'fMZD': 'bölе', 'fFBS': 'bölе', 'fFZS': 'bölе', 'fMBS': 'bölе', 'fMZS': 'bölе', 'fH': 'kiew', 'fW': 'pišе', 'fHF': 'kaynata', 'fHM': 'kaynana', 'fWF': 'kaynata', 'fWM': 'kaynana', 'fSW': 'kеšеk', 'fDH': 'kiеw', 'feB': 'adanas', 'feZ': 'karɨndas', 'fFeB': 'akay', 'fFyB': 'akay', 'fFeZ': 'abay', 'fFyZ': 'abay', 'fMeZ': 'abay', 'fMyZ': 'abay', 'fMeB': 'nagaš akay', 'fMyB': 'nagaš akay', 'feBS': 'yiyen', 'fyBS': 'yiyen', 'feBD': 'yiyеn kɨz', 'fyBD': 'yiyеn kɨz', 'feZS': 'yiyen', 'fyZS': 'yiyen', 'feZD': 'yiyеn kɨz', 'fyZD': 'yiyеn kɨz', 'fFeBS': 'bölе', 'fFyBS': 'bölе', 'fFeZS': 'bölе', 'fFyZS': 'bölе', 'fFeBD': 'bölе', 'fFyBD': 'bölе', 'fFeZD': 'bölе', 'fFyZD': 'bölе', 'fMeBS': 'bölе', 'fMyBS': 'bölе', 'fMeZS': 'bölе', 'fMyZS': 'bölе', 'fMeBD': 'bölе', 'fMyBD': 'bölе', 'fMeZD': 'bölе', 'fMyZD': 'bölе', 'fFBeS': 'bölе', 'fFByS': 'bölе', 'fFZeS': 'bölе', 'fFZyS': 'bölе', 'fFBeD': 'bölе', 'fFByD': 'bölе', 'fFZeD': 'bölе', 'fFZyD': 'bölе', 'fMBeS': 'bölе', 'fMByS': 'bölе', 'fMZeS': 'bölе', 'fMZyS': 'bölе', 'fMBeD': 'bölе', 'fMByD': 'bölе', 'fMZeD': 'bölе', 'fMZyD': 'bölе'}\n"
     ]
    }
   ],
   "source": [
    "random.seed(47)\n",
    "file = random_language(all_kb_files)\n",
    "filepath = '../languages/kinbank/'\n",
    "\n",
    "l = get_kin_terms(filepath + file)\n",
    "\n",
    "print(file,l)"
   ]
  },
  {
   "cell_type": "markdown",
   "id": "a93db58b",
   "metadata": {},
   "source": [
    "## Getting the pairs\n",
    "\n",
    "~~The first thing we need to do is write a function that takes a dictionary of kin terms like `l`, and outputs a list of the relevant terms for each generation. We also need a function that pairs up those terms into parent-child pairs. In `kintypes`, we have a list of pairs of codes for parent and child terms, so we just need to cross reference these.~~\n",
    "\n",
    "To avoid weird gaps, we're going to slightly simplify things! First, we're going to extract the relevant pairs of terms from a dictionary of kin terms - e.g. for English, it extracts the pair `('uncle','cousin')`. Notably, our function checks whether **both** of the relevant terms exist in the dictionary before trying to extract them! Then, we'll split these pairs in half to get the list of terms in each generation. This way, any gaps in the kinbank data - e.g. the term for 'uncle' is there, but the term for 'cousin' is not - cause us less strife, at the expense of a little bit of accuracy."
   ]
  },
  {
   "cell_type": "code",
   "execution_count": 6,
   "id": "ab4a8f9d",
   "metadata": {},
   "outputs": [],
   "source": [
    "def get_pairs(ks):\n",
    "    pairs_of_terms = []\n",
    "    placeholder = []\n",
    "    \n",
    "    for pair in kt.ics_pairs:\n",
    "        if pair[0] in ks and pair[1] in ks:\n",
    "            pairs_of_terms.append((ks[pair[0]],ks[pair[1]]))\n",
    "            placeholder.append(pair)\n",
    "            \n",
    "    #if len(pairs_of_terms) > 40: # if at least 1/4 of the relevant pairs are present      \n",
    "    return pairs_of_terms"
   ]
  },
  {
   "cell_type": "code",
   "execution_count": null,
   "id": "b702d2e7",
   "metadata": {},
   "outputs": [],
   "source": [
    "l_pairs = get_pairs(l)\n",
    "\n",
    "print(l_pairs)"
   ]
  },
  {
   "cell_type": "markdown",
   "id": "1120705f",
   "metadata": {},
   "source": [
    "Now we have a way to get a list of pairs, let's split them up into `GN` for Ego's generation and `GN1` for ego's parents' generation."
   ]
  },
  {
   "cell_type": "code",
   "execution_count": 7,
   "id": "4cb59084",
   "metadata": {},
   "outputs": [],
   "source": [
    "def split_generations(pairs):\n",
    "    GN = []\n",
    "    GN1 = []\n",
    "    for pair in pairs:\n",
    "        GN.append(pair[1])\n",
    "        GN1.append(pair[0])\n",
    "    \n",
    "    return GN,GN1"
   ]
  },
  {
   "cell_type": "code",
   "execution_count": null,
   "id": "a9d259ca",
   "metadata": {},
   "outputs": [],
   "source": [
    "l_GN, l_GN1 = split_generations(l_pairs)\n",
    "\n",
    "print(l_GN,l_GN1)"
   ]
  },
  {
   "cell_type": "markdown",
   "id": "52c1877a",
   "metadata": {},
   "source": [
    "## Calculating probabilities\n",
    "\n",
    "To calculate entropy of one generation of a kinship system, we will need to calculate the probability distribution of the terms in that generation. To calculate conditional entropy, we will need a probability distribution for all the pairs of terms in the kinship system. Below is a function that takes a list of elements and calculates the probability of each of those elements w.r.t. the others - those elements can be terms or pairs."
   ]
  },
  {
   "cell_type": "code",
   "execution_count": 8,
   "id": "67ff6308",
   "metadata": {},
   "outputs": [],
   "source": [
    "def probability(term: str, generation: list) -> float:\n",
    "    print(generation.count(term),len(generation),generation.count(term)/len(generation))\n",
    "    return generation.count(term)/len(generation)"
   ]
  },
  {
   "cell_type": "code",
   "execution_count": null,
   "id": "e5fc6dec",
   "metadata": {},
   "outputs": [],
   "source": [
    "l_term = random.choice(l_GN)\n",
    "\n",
    "print(l_term, probability(l_term,l_GN))"
   ]
  },
  {
   "cell_type": "markdown",
   "id": "99490ea7",
   "metadata": {},
   "source": [
    "We can use this function to calculate the conditional probability of each term given the term it is paired with: the probability of the pair (given all the possible pairs) over the probability of the \"given\" term. Let's do this \"bottom-up\" for ease - so for English, calculating the probability of *uncle* given *cousin*. Since mutual information is not directional, we can make this arbitrary choice without repercussions later.\n",
    "\n",
    "~~Reader, there were repercussions. In my first pass, I got it the wrong way around! Ack.~~"
   ]
  },
  {
   "cell_type": "code",
   "execution_count": 9,
   "id": "06d9d067",
   "metadata": {},
   "outputs": [],
   "source": [
    "def joint_probability(term1: str, term2: str, pairs: list):\n",
    "    pair = (term1,term2)\n",
    "    return pairs.count(pair)/len(pairs)"
   ]
  },
  {
   "cell_type": "code",
   "execution_count": null,
   "id": "e747569e",
   "metadata": {},
   "outputs": [],
   "source": [
    "l_pair = random.choice(l_pairs)\n",
    "\n",
    "print(l_pairs,l_pair, joint_probability(l_pair[0],l_pair[1],l_pairs))"
   ]
  },
  {
   "cell_type": "markdown",
   "id": "d1d66227",
   "metadata": {},
   "source": [
    "## Calculating entropy and mutual information\n",
    "\n",
    "Now that we have a way to extract probability distributions from a kinship system, we can feed that in to a function that calculates entropy. The entropy scores can then be fed to a function that calculates mutual information (equations to follow)."
   ]
  },
  {
   "cell_type": "code",
   "execution_count": 10,
   "id": "bc8609de",
   "metadata": {},
   "outputs": [],
   "source": [
    "def entropy(generation):\n",
    "    entropy = 0\n",
    "    for term in set(generation):\n",
    "        p = probability(term,generation)\n",
    "        #print(term, p)\n",
    "        print(term,p*math.log(p))\n",
    "        entropy += p*math.log(p)\n",
    "    return -entropy"
   ]
  },
  {
   "cell_type": "code",
   "execution_count": null,
   "id": "84ef7f56",
   "metadata": {},
   "outputs": [],
   "source": [
    "entropy(l_GN)"
   ]
  },
  {
   "cell_type": "markdown",
   "id": "43187a7b",
   "metadata": {},
   "source": [
    "We need a second function to calculate conditional entropy, which is slightly more complex. Here, we calculate the probability of B and A multiplied by the probability of B and A over B. We can re-use our `calculate_probs()` function to calculate to the probability of each pair (p(B and A))."
   ]
  },
  {
   "cell_type": "code",
   "execution_count": 11,
   "id": "5ed09b54",
   "metadata": {},
   "outputs": [],
   "source": [
    "def conditional_entropy(g1,g2,pairs):\n",
    "    entropy = 0\n",
    "    for x,y in set(pairs): # parent,child\n",
    "        p_xy = joint_probability(x,y,pairs)\n",
    "        p_y = probability(y,g1)\n",
    "        print(x,y, 'p(', x, '|', y,') = ', p_xy/p_y, 'p(y) = ', p_y)\n",
    "        if p_xy > 0 and p_y > 0:\n",
    "            entropy += p_xy * math.log(p_xy/p_y)\n",
    "    return -entropy"
   ]
  },
  {
   "cell_type": "code",
   "execution_count": null,
   "id": "02fdf5e9",
   "metadata": {},
   "outputs": [],
   "source": [
    "conditional_entropy(l_GN,l_GN1,l_pairs)"
   ]
  },
  {
   "cell_type": "markdown",
   "id": "657fcbd6",
   "metadata": {},
   "source": [
    "These two values can then be used to calculate mutual information. Because of our 'top-down' approach, this will be equal to the entropy of `l`'s Generation N minus the conditional entropy of `l`."
   ]
  },
  {
   "cell_type": "code",
   "execution_count": 12,
   "id": "da3d17c9",
   "metadata": {},
   "outputs": [],
   "source": [
    "def mutual_information(e,ce):\n",
    "    return e - ce"
   ]
  },
  {
   "cell_type": "markdown",
   "id": "9aca8523",
   "metadata": {},
   "source": [
    "## Getting neat and tidy\n",
    "\n",
    "Now let's write a function that wraps up aaaaall of the above neatly. We want to return entropy, conditional entropy, and mutual information individually so we can keep track of these values for the analysis later. This will be particularly useful for the simulation work coming up next, where we may want to visualise mutual information by entropy at one generation.\n",
    "\n",
    "First though, we want to write a flag function that tells us if something's wrong with the calculations. MI cannot be less than 0, so if this happens, we want all of the relevant information to help us solve the problem to be printed."
   ]
  },
  {
   "cell_type": "code",
   "execution_count": null,
   "id": "8cfa7037",
   "metadata": {},
   "outputs": [],
   "source": [
    "# def mi_check(pairs,GN,GN1,probs):\n",
    "#     #print('STOP: SOMETHING IS VERY WRONG')\n",
    "#     p_pairs = calculate_probs(pairs)\n",
    "#     cp = calculate_conditional_probs(pairs,GN)\n",
    "#     for term,prob in zip(set(GN1),probs):\n",
    "#         print('term: ', term, 'prob:', prob)\n",
    "#     for pair in set(pairs):\n",
    "#         index = list(set(pairs)).index(pair)\n",
    "#         print('pair: ', pair, 'prob:', p_pairs[index], 'prob ' + pair[1] +'|' + pair[0], cp[index])\n",
    "#     print('probability distribution of GN1: ', set(GN1), probs)\n",
    "#     print('probability distribution of pairs: ', set(pairs), calculate_probs(pairs))\n",
    "#     print('conditional probability of pairs: ', set(pairs), calculate_conditional_probs(pairs,GN))"
   ]
  },
  {
   "cell_type": "code",
   "execution_count": 29,
   "id": "fa064f62",
   "metadata": {},
   "outputs": [],
   "source": [
    "def mi_of_system(ks):\n",
    "    pairs = get_pairs(ks)\n",
    "    if pairs:\n",
    "        g1,g2 = split_by_gen(ks)\n",
    "\n",
    "        h = entropy(g2)\n",
    "        h_xy = conditional_entropy(g1,g2,pairs)\n",
    "        mi = mutual_information(h,h_xy)\n",
    "        if mi < 0:\n",
    "            print('STOP, SOMETHING IS VERY WRONG')\n",
    "        return h,h_xy,mi\n",
    "    else:\n",
    "        return 'NA','NA','NA'"
   ]
  },
  {
   "cell_type": "code",
   "execution_count": null,
   "id": "c3d7fbe8",
   "metadata": {},
   "outputs": [],
   "source": [
    "mi_of_system(l)"
   ]
  },
  {
   "cell_type": "markdown",
   "id": "46c30380",
   "metadata": {},
   "source": [
    "To make sure that our function (with all its hand-calculated components) is working effectively, we can write a quick function that uses a pre-existing MI calculator `mutual_info_score()` from `sklearn` to double check our results. It's possible that they will yield slightly different scores (given that our function knows which terms pair together with what frequency, which `mutual_info_score()` doesn't know), but it is still a good baseline to work from. Ideally, we would like to use the hand-calculations so that we can record the entropy and conditional entropy associated with each kinship system alongside the MI."
   ]
  },
  {
   "cell_type": "code",
   "execution_count": null,
   "id": "38bc818a",
   "metadata": {},
   "outputs": [],
   "source": [
    "from sklearn.metrics import mutual_info_score\n",
    "\n",
    "def easy_mi(ks):\n",
    "    pairs = get_pairs(ks)\n",
    "    if pairs:\n",
    "        GN,GN1 = split_generations(pairs)\n",
    "        #print(pairs)\n",
    "        #GN,GN1 = split_by_gen(ks)\n",
    "        # pair_codes = code_pairs(pairs)\n",
    "        if pairs: # if there are any matching pairs in this language\n",
    "            mi = mutual_info_score(GN,GN1)\n",
    "            #mi2 = mutual_info_score(GN1,GN)\n",
    "            if mi < 0:\n",
    "                print(mi)\n",
    "                print('SOMETHING IS VERY WRONG')\n",
    "                #print(GN,GN1)\n",
    "            return mi"
   ]
  },
  {
   "cell_type": "code",
   "execution_count": null,
   "id": "78a0f1cd",
   "metadata": {},
   "outputs": [],
   "source": [
    "easy_mi(l)"
   ]
  },
  {
   "cell_type": "code",
   "execution_count": null,
   "id": "83cd92a2",
   "metadata": {},
   "outputs": [],
   "source": [
    "counter = 0\n",
    "\n",
    "for file in all_kb_files:\n",
    "    print(file)\n",
    "    ks = get_kin_terms(filepath + file)\n",
    "    print(mi_of_system(ks), easy_mi(ks))\n",
    "    if mi_of_system(ks) != None:\n",
    "        print('OK')\n",
    "        counter += 1\n",
    "        \n",
    "print(counter)"
   ]
  },
  {
   "cell_type": "markdown",
   "id": "55a18abb",
   "metadata": {},
   "source": [
    "## Simulating kinship systems\n",
    "\n",
    "We now have a function that can take a kinship system and output a mutual information score for the terms in Ego and Ego's parents' generations. However, while running this function on all the world's languages can tell us something about the distribution of internal co-selection across the world, it doesn't tell us whether the world's languages co-select at a greater rate than chance. If we want to argue that internal co-selection is a product of cultural evolution, we need to dispel the possibility that it occurs by chance.\n",
    "\n",
    "To get an idea of what chance is, we need to simulate some truly randomly generated systems. We can compare the MI of these simulations to the real languages to see whether the real languages have significantly greater mutual information between generations.\n",
    "\n",
    "Because MI is dependent on the amount of variation in a language, we need a simulation which maintains the number of terms while randomising which child terms pair with which parent terms. So we will take each language in our data, and randomly scramble which terms go with which types (within generation).\n",
    "\n",
    "To do this, we need:\n",
    "\n",
    "* A function to extract the kinship system of a language from kinbank (check!)\n",
    "* A function that filters the two generations we are interested in (sort of check!)\n",
    "* A function that takes all of the terms in that system and randomly reassigns them to types.\n",
    "* A function that repeats this process a bunch of times.\n",
    "\n",
    "Let's extract a new random language from kinbank to work with."
   ]
  },
  {
   "cell_type": "code",
   "execution_count": 21,
   "id": "0d32d8da",
   "metadata": {},
   "outputs": [
    {
     "name": "stdout",
     "output_type": "stream",
     "text": [
      "Koya_koya1251.csv {'mZ': 'tudal', 'mF': 'bābo', 'mM': 'yāyo', 'mS': 'maru', 'mD': 'mayāḍ', 'mFF': 'dado', 'mFM': 'bāpi', 'mMM': 'kakko', 'mFB': 'pépe', 'mFZ': 'poyé', 'mMB': 'māmā', 'mMeZ': 'pedi', 'mMyZ': 'kuci', 'mBS': 'maru', 'mBD': 'mayyāḷ', 'mZS': 'koḍiār', 'mZD': 'mayyal', 'mFZD': 'pekki', 'mFBD': 'piki', 'mMBD': 'pekki', 'mMZD': 'piki', 'mFBS': 'tammuḍu', 'mFZS': 'yeruḷ', 'mMBS': 'yeruḷ', 'mMZS': 'tammuḍu', 'mH': 'mudiāl', 'mW': 'mutte', 'mHF': 'māmāl', 'mHM': '0', 'mWF': 'māmāl', 'mWM': '0', 'mBW': 'eravu-pekkal', 'mZH': 'ende-thor', 'mWB': 'erupekka', 'mWZ': 'eru-pitti', 'mHB': 'erul', 'mSW': 'kodiaḷ', 'mDH': 'aṇḍe', 'mFZH': 'māmā', 'mFBW': 'kuci', 'mMZH': 'kākā', 'mMBW': 'poyé', 'fB': 'dādālo', 'fZ': 'tudal', 'fF': 'bābo', 'fM': 'yāyo', 'fS': 'maru', 'fD': 'mayāḍ', 'fFF': 'dado', 'fFM': 'bāpi', 'fMM': 'kakko', 'fFB': 'pépe', 'fFZ': 'poyé', 'fMB': 'māmā', 'fMeZ': 'pedi', 'fMyZ': 'kuci', 'fBS': 'koḍiār', 'fBD': 'mayyal', 'fZS': 'maru', 'fZD': 'peki', 'fFZD': 'pekki', 'fFBD': 'piki', 'fMBD': 'pekki', 'fMZD': 'piki', 'fFBS': 'tammuḍu', 'fFZS': 'yeruḷ', 'fMBS': 'yeruḷ', 'fMZS': 'tammuḍu', 'fH': 'mudiāl', 'fW': 'mutte', 'fHF': 'māmāl', 'fHM': '0', 'fWF': 'māmāl', 'fWM': '0', 'fBW': 'eravu-pekkal', 'fZH': 'ende-thor', 'fWB': 'erupekka', 'fWZ': 'eru-pitti', 'fHB': 'erul', 'fSW': 'kodiaḷ', 'fDH': 'aṇḍe', 'fFZH': 'māmā', 'fFBW': 'kuci', 'fMZH': 'kākā', 'fMBW': 'poyé', 'mMF': 'akko', 'fMF': 'akko', 'meB': 'dādāl', 'myB': 'tammūṇḍ', 'myZ': 'ēlāḍ', 'feB': 'dādāl', 'fyB': 'tammūṇḍ', 'fyZ': 'ēlāḍ', 'mFeB': 'pépe', 'mFyB': 'pépe', 'mFeZ': 'poyé', 'mFyZ': 'poyé', 'mMeB': 'māmā', 'mMyB': 'māmā', 'mFeBS': 'tammuḍu', 'mFyBS': 'tammuḍu', 'mFeZS': 'yeruḷ', 'mFyZS': 'yeruḷ', 'mFeBD': 'piki', 'mFyBD': 'piki', 'mFeZD': 'pekki', 'mFyZD': 'pekki', 'mMeBS': 'yeruḷ', 'mMyBS': 'yeruḷ', 'mMeZS': 'tammuḍu', 'mMyZS': 'tammuḍu', 'mMeBD': 'pekki', 'mMyBD': 'pekki', 'mMeZD': 'piki', 'mMyZD': 'piki', 'mFBeS': 'tammuḍu', 'mFByS': 'tammuḍu', 'mFZeS': 'yeruḷ', 'mFZyS': 'yeruḷ', 'mFBeD': 'piki', 'mFByD': 'piki', 'mFZeD': 'pekki', 'mFZyD': 'pekki', 'mMBeS': 'yeruḷ', 'mMByS': 'yeruḷ', 'mMZeS': 'tammuḍu', 'mMZyS': 'tammuḍu', 'mMBeD': 'pekki', 'mMByD': 'pekki', 'mMZeD': 'piki', 'mMZyD': 'piki', 'fFeB': 'pépe', 'fFyB': 'pépe', 'fFeZ': 'poyé', 'fFyZ': 'poyé', 'fMeB': 'māmā', 'fMyB': 'māmā', 'fFeBS': 'tammuḍu', 'fFyBS': 'tammuḍu', 'fFeZS': 'yeruḷ', 'fFyZS': 'yeruḷ', 'fFeBD': 'piki', 'fFyBD': 'piki', 'fFeZD': 'pekki', 'fFyZD': 'pekki', 'fMeBS': 'yeruḷ', 'fMyBS': 'yeruḷ', 'fMeZS': 'tammuḍu', 'fMyZS': 'tammuḍu', 'fMeBD': 'pekki', 'fMyBD': 'pekki', 'fMeZD': 'piki', 'fMyZD': 'piki', 'fFBeS': 'tammuḍu', 'fFByS': 'tammuḍu', 'fFZeS': 'yeruḷ', 'fFZyS': 'yeruḷ', 'fFBeD': 'piki', 'fFByD': 'piki', 'fFZeD': 'pekki', 'fFZyD': 'pekki', 'fMBeS': 'yeruḷ', 'fMByS': 'yeruḷ', 'fMZeS': 'tammuḍu', 'fMZyS': 'tammuḍu', 'fMBeD': 'pekki', 'fMByD': 'pekki', 'fMZeD': 'piki', 'fMZyD': 'piki'}\n"
     ]
    }
   ],
   "source": [
    "random.seed(101)\n",
    "\n",
    "file = 'Koya_koya1251.csv'\n",
    "l2 = get_kin_terms(filepath + file)\n",
    "\n",
    "print(file,l2)"
   ]
  },
  {
   "cell_type": "markdown",
   "id": "6197599c",
   "metadata": {},
   "source": [
    "Now we have a kinship system, we can write a function to filter out the relevant terms into two lists - one for Ego's generation and one for Ego's parents' generation. In `kintypes`, we have lists of kin types for each generation which can help us with this task."
   ]
  },
  {
   "cell_type": "code",
   "execution_count": 15,
   "id": "5d9f306b",
   "metadata": {},
   "outputs": [],
   "source": [
    "def split_by_gen(ks):\n",
    "    g1 = {}\n",
    "    g2 = {}\n",
    "    for entry in ks:\n",
    "        if entry in kt.generation_n:\n",
    "            g1[entry] = ks[entry]\n",
    "        elif entry in kt.generation_n1:\n",
    "            g2[entry] = ks[entry]\n",
    "        else:\n",
    "            pass\n",
    "    \n",
    "    return g1,g2"
   ]
  },
  {
   "cell_type": "code",
   "execution_count": null,
   "id": "49e12666",
   "metadata": {},
   "outputs": [],
   "source": [
    "g1,g2 = split_by_gen(l2)"
   ]
  },
  {
   "cell_type": "markdown",
   "id": "084e1ba9",
   "metadata": {},
   "source": [
    "Now we can randomly redistribute the keys in these dictionaries among the values in these dictionaries and combine them, giving us a simulated kinship system that maintains the amount of variation within generations while completely randomising the information shared between those two generations."
   ]
  },
  {
   "cell_type": "code",
   "execution_count": 16,
   "id": "210bbcc6",
   "metadata": {},
   "outputs": [],
   "source": [
    "def randomise_generation(g):\n",
    "    sim_g = {}\n",
    "    terms = list(g.values())\n",
    "    types = list(g.keys())\n",
    "    random.shuffle(terms)\n",
    "    \n",
    "    for i in range(len(g)):\n",
    "        random_term = terms[i]\n",
    "        kintype = types[i]\n",
    "        sim_g[kintype] = random_term\n",
    "        \n",
    "    return sim_g\n",
    "        "
   ]
  },
  {
   "cell_type": "code",
   "execution_count": null,
   "id": "74efef22",
   "metadata": {},
   "outputs": [],
   "source": [
    "randomise_generation(g1)"
   ]
  },
  {
   "cell_type": "markdown",
   "id": "3f9d79e7",
   "metadata": {},
   "source": [
    "And finally a function that splits by generation, randomises the two generations, and sticks them back together:"
   ]
  },
  {
   "cell_type": "code",
   "execution_count": 34,
   "id": "32da644b",
   "metadata": {},
   "outputs": [],
   "source": [
    "def shuffle_ks(ks):\n",
    "    gN, gN1 = split_by_gen(ks)\n",
    "    gN_sim = randomise_generation(gN)\n",
    "    gN1_sim = randomise_generation(gN1)\n",
    "    \n",
    "    print(len(gN),len(gN_sim),len(gN1),len(gN1_sim))\n",
    "    \n",
    "    print(len({**gN_sim, **gN1_sim}))\n",
    "    \n",
    "    return {**gN_sim, **gN1_sim}"
   ]
  },
  {
   "cell_type": "code",
   "execution_count": 52,
   "id": "37014452",
   "metadata": {},
   "outputs": [
    {
     "name": "stdout",
     "output_type": "stream",
     "text": [
      "87 87 26 26\n",
      "113\n"
     ]
    }
   ],
   "source": [
    "l2_sim = shuffle_ks(l2)"
   ]
  },
  {
   "cell_type": "code",
   "execution_count": 53,
   "id": "dc5f69ea",
   "metadata": {},
   "outputs": [
    {
     "name": "stdout",
     "output_type": "stream",
     "text": [
      "86 86\n",
      "85 85\n"
     ]
    }
   ],
   "source": [
    "a,b = split_generations(get_pairs(l2))\n",
    "print(len(a),len(b))\n",
    "\n",
    "c,d = split_generations(get_pairs(l2_sim))\n",
    "print(len(c),len(d))"
   ]
  },
  {
   "cell_type": "markdown",
   "id": "73ce0fa4",
   "metadata": {},
   "source": [
    "Now let's check the MI of our random language `l` and compare it against our simulation of `l`, `l_sim`. We can see that their entropy is identical (as to be expected as the amount of variation is the same) but their conditional entropy varies. In this instance we get a smaller MI for the simulation than for the real language."
   ]
  },
  {
   "cell_type": "code",
   "execution_count": null,
   "id": "d250c6ba",
   "metadata": {},
   "outputs": [],
   "source": [
    "print(mi_of_system(l2),easy_mi(l2))"
   ]
  },
  {
   "cell_type": "code",
   "execution_count": null,
   "id": "d07b8c27",
   "metadata": {},
   "outputs": [],
   "source": [
    "print(mi_of_system(l2_sim),easy_mi(l2_sim))"
   ]
  },
  {
   "cell_type": "markdown",
   "id": "14f31948",
   "metadata": {},
   "source": [
    "Now we can create a function that takes a language, randomises it and calculates its MI a specified number of times, and saves all of those values to a dataframe to be analysed later."
   ]
  },
  {
   "cell_type": "code",
   "execution_count": null,
   "id": "85d01538",
   "metadata": {},
   "outputs": [],
   "source": [
    "def write_results(sim: str,mi: float, e: float, ce: float,system: dict):\n",
    "    results = {}\n",
    "    results['simulation_number'] = sim\n",
    "    results['mutual_information'] = mi\n",
    "    results['entropy'] = e\n",
    "    results['conditional_entropy'] = ce\n",
    "    for i in system:\n",
    "        results[i] = system[i]\n",
    "    return results"
   ]
  },
  {
   "cell_type": "code",
   "execution_count": null,
   "id": "ed484ac3",
   "metadata": {},
   "outputs": [],
   "source": [
    "def simulation(file,times):\n",
    "    filepath = '../languages/kinbank/'\n",
    "    language = file[:-13]\n",
    "    ks = get_kin_terms(filepath + file)\n",
    "    print(ks)\n",
    "    df = []\n",
    "    print(file)\n",
    "    for i in range(times):\n",
    "        shuffled_system = shuffle_ks(ks)\n",
    "        #mi = easy_mi(shuffled_system)\n",
    "        e,ce,mi = mi_of_system(shuffled_system)\n",
    "        \n",
    "        if mi:\n",
    "            results = write_results(str(i),mi,e,ce,shuffled_system)\n",
    "            df.append(results)\n",
    "    \n",
    "    pd.DataFrame(df).to_csv('../data/raw/ics_' + language + '.csv',index=False)\n",
    "        \n",
    "    return pd.DataFrame(df)\n",
    "    "
   ]
  },
  {
   "cell_type": "markdown",
   "id": "0ed8a4e5",
   "metadata": {},
   "source": [
    "And we can test that with just a few rounds of the simulation for our random language before running the full simulation on all the kinbank files."
   ]
  },
  {
   "cell_type": "code",
   "execution_count": null,
   "id": "0e81a013",
   "metadata": {},
   "outputs": [],
   "source": [
    "simulation(file,10)"
   ]
  },
  {
   "cell_type": "code",
   "execution_count": null,
   "id": "0472eab6",
   "metadata": {},
   "outputs": [],
   "source": [
    "def full_ics_simulation(all_files):\n",
    "    for file in all_files:\n",
    "        simulation(file,1000)"
   ]
  },
  {
   "cell_type": "code",
   "execution_count": null,
   "id": "cddd49af",
   "metadata": {},
   "outputs": [],
   "source": [
    "full_ics_simulation(all_kb_files)"
   ]
  },
  {
   "cell_type": "code",
   "execution_count": null,
   "id": "dedd0516",
   "metadata": {
    "scrolled": true
   },
   "outputs": [],
   "source": [
    "simulation('Bau-Jagoi_Bidayuh_baub1235.csv',10)"
   ]
  },
  {
   "cell_type": "markdown",
   "id": "600691f4",
   "metadata": {},
   "source": [
    "## Testing, testing\n",
    "\n",
    "And now to test until we brute force our way to working code!"
   ]
  },
  {
   "cell_type": "code",
   "execution_count": null,
   "id": "472ccaf8",
   "metadata": {},
   "outputs": [],
   "source": [
    "hindi = get_kin_terms(filepath + 'Hindi_hind1269.csv')\n",
    "\n",
    "#hindi_sim = simulation('Hindi_hind1269.csv',1000)\n",
    "\n",
    "hindi_ics = mi_of_system(hindi)\n",
    "\n",
    "hindi_ics"
   ]
  },
  {
   "cell_type": "code",
   "execution_count": null,
   "id": "b7a5abc1",
   "metadata": {},
   "outputs": [],
   "source": []
  },
  {
   "cell_type": "code",
   "execution_count": null,
   "id": "3c6d8b63",
   "metadata": {},
   "outputs": [],
   "source": [
    "english = get_kin_terms(filepath + 'English_stan1293.csv')"
   ]
  },
  {
   "cell_type": "code",
   "execution_count": null,
   "id": "eff1fac2",
   "metadata": {},
   "outputs": [],
   "source": [
    "aguaruna = get_kin_terms(filepath + 'Aguaruna_agua1253.csv')"
   ]
  },
  {
   "cell_type": "markdown",
   "id": "762c4fb2",
   "metadata": {},
   "source": [
    "### Testing hand-made languages\n",
    "\n",
    "What if our language co-selects perfectly?"
   ]
  },
  {
   "cell_type": "code",
   "execution_count": null,
   "id": "f91a7812",
   "metadata": {},
   "outputs": [],
   "source": [
    "ics_lang = {\n",
    "    'mM': 'mmm',\n",
    "    'mF': 'fff',\n",
    "    'meB': 'mmma',\n",
    "    'myB': 'mmma',\n",
    "    'meZ': 'fffa',\n",
    "    'myZ': 'fffa',\n",
    "    'mMeB': 'aaa',\n",
    "    'mMeZ': 'bbb',\n",
    "    'mFeB': 'ccc',\n",
    "    'mFeZ': 'ddd',\n",
    "    'mMeBS': 'aaas',\n",
    "    'mMeZS': 'bbbs',\n",
    "    'mFeBS': 'cccs',\n",
    "    'mFeZS': 'ddds',\n",
    "    'mMeBD': 'aaad',\n",
    "    'mMeZD': 'bbbd',\n",
    "    'mFeBD': 'cccd',\n",
    "    'mFeZD': 'dddd',\n",
    "    'mMyB': 'eee',\n",
    "    'mMyZ': 'fff',\n",
    "    'mFyB': 'ggg',\n",
    "    'mFyZ': 'hhh',\n",
    "    'mMyBS': 'eees',\n",
    "    'mMyZS': 'fffs',\n",
    "    'mFyBS': 'gggs',\n",
    "    'mFyZS': 'hhhs',\n",
    "    'mMyBD': 'eeed',\n",
    "    'mMyZD': 'fffd',\n",
    "    'mFyBD': 'gggd',\n",
    "    'mFyZD': 'hhhd'\n",
    "}\n",
    "\n",
    "mi_of_system(ics_lang)\n",
    "#easy_mi(ics_lang)"
   ]
  },
  {
   "cell_type": "markdown",
   "id": "158cc36e",
   "metadata": {},
   "source": [
    "Does that change if the son and daughter terms are the same?"
   ]
  },
  {
   "cell_type": "code",
   "execution_count": null,
   "id": "d5a94461",
   "metadata": {},
   "outputs": [],
   "source": [
    "ics_lang_2 = {\n",
    "    'mM': 'mmm',\n",
    "    'mF': 'fff',\n",
    "    'meB': 'mmma',\n",
    "    'myB': 'mmma',\n",
    "    'meZ': 'mmma',\n",
    "    'myZ': 'mmma',\n",
    "    'mMeB': 'aaa',\n",
    "    'mMeZ': 'bbb',\n",
    "    'mFeB': 'ccc',\n",
    "    'mFeZ': 'ddd',\n",
    "    'mMeBS': 'aaac',\n",
    "    'mMeZS': 'bbbc',\n",
    "    'mFeBS': 'cccc',\n",
    "    'mFeZS': 'dddc',\n",
    "    'mMeBD': 'aaac',\n",
    "    'mMeZD': 'bbbc',\n",
    "    'mFeBD': 'cccc',\n",
    "    'mFeZD': 'dddc',\n",
    "    'mMyB': 'eee',\n",
    "    'mMyZ': 'fff',\n",
    "    'mFyB': 'ggg',\n",
    "    'mFyZ': 'hhh',\n",
    "    'mMyBS': 'eeec',\n",
    "    'mMyZS': 'fffc',\n",
    "    'mFyBS': 'gggc',\n",
    "    'mFyZS': 'hhhc',\n",
    "    'mMyBD': 'eeec',\n",
    "    'mMyZD': 'fffc',\n",
    "    'mFyBD': 'gggc',\n",
    "    'mFyZD': 'hhhc'\n",
    "}\n",
    "\n",
    "mi_of_system(ics_lang_2)\n",
    "#easy_mi(ics_lang_2)"
   ]
  },
  {
   "cell_type": "markdown",
   "id": "072a8872",
   "metadata": {},
   "source": [
    "And what about a non co-selecting language?"
   ]
  },
  {
   "cell_type": "code",
   "execution_count": null,
   "id": "9bf7e9bd",
   "metadata": {},
   "outputs": [],
   "source": [
    "bad_ics_lang = {\n",
    "    'mM': 'mmm',\n",
    "    'mF': 'fff',\n",
    "    'meB': 'aaad',\n",
    "    'myB': 'dddd',\n",
    "    'meZ': 'cccd',\n",
    "    'myZ': 'ddds',\n",
    "    'mMeB': 'aaa',\n",
    "    'mMeZ': 'bbb',\n",
    "    'mFeB': 'ddd',\n",
    "    'mFeZ': 'ddd',\n",
    "    'mMeBS': 'eed',\n",
    "    'mMeZS': 'aaas',\n",
    "    'mFeBS': 'aaas',\n",
    "    'mFeZS': 'ddds',\n",
    "    'mMeBD': 'aaad',\n",
    "    'mMeZD': 'aaad',\n",
    "    'mFeBD': 'dddd',\n",
    "    'mFeZD': 'aaad',\n",
    "    'mMyB': 'eee',\n",
    "    'mMyZ': 'fff',\n",
    "    'mFyB': 'ddd',\n",
    "    'mFyZ': 'hhh',\n",
    "    'mMyBS': 'aaas',\n",
    "    'mMyZS': 'eee',\n",
    "    'mFyBS': 'aaas',\n",
    "    'mFyZS': 'gggs',\n",
    "    'mMyBD': 'eeed',\n",
    "    'mMyZD': 'aaad',\n",
    "    'mFyBD': 'aaad',\n",
    "    'mFyZD': 'gggd'\n",
    "}\n",
    "\n",
    "mi_of_system(bad_ics_lang)\n",
    "#easy_mi(bad_ics_lang)"
   ]
  },
  {
   "cell_type": "markdown",
   "id": "bb676698",
   "metadata": {},
   "source": [
    "It's not super intuitive to me that the \"worst\" languages are those with entropy 0 in one of the generations. A system like English is at least consistent - if the motivation for ICS is that it increases simplicity, then this seems entirely opposite to what we want!"
   ]
  },
  {
   "cell_type": "markdown",
   "id": "df72544d",
   "metadata": {},
   "source": [
    "## What about randomly generated languages?\n",
    "\n",
    "Let's write a function to randomly generate a language so we can get a feel for what good / bad mutual information scores look like."
   ]
  },
  {
   "cell_type": "code",
   "execution_count": null,
   "id": "53a092cb",
   "metadata": {},
   "outputs": [],
   "source": [
    "def generate_language(kin_types):\n",
    "    language = {}\n",
    "    words = []\n",
    "    letters = string.ascii_lowercase\n",
    "    \n",
    "    for i in range(len(kin_types)):\n",
    "        word = ''.join(random.choice(letters) for i in range(4))\n",
    "        words.append(word)\n",
    "        \n",
    "    print(words)\n",
    "        \n",
    "    for kt in kin_types:\n",
    "        term = random.choice(words)\n",
    "        language[kt] = term\n",
    "        \n",
    "    return language"
   ]
  },
  {
   "cell_type": "code",
   "execution_count": null,
   "id": "83016845",
   "metadata": {},
   "outputs": [],
   "source": [
    "x = generate_language(ics_lang.keys())\n",
    "\n",
    "get_pairs(x,kt.ics_pairs)\n",
    "      \n",
    "#calculate_ics(x)"
   ]
  },
  {
   "cell_type": "code",
   "execution_count": null,
   "id": "23442505",
   "metadata": {},
   "outputs": [],
   "source": [
    "length = ['mMeB','mMeZ','mFeB','mFeZ','mMeBS','mMeZS','mFeBS','mFeZS']\n",
    "\n",
    "r_l = generate_language(length)\n",
    "\n",
    "r_p = get_pairs(r_l,kt.ics_pairs)\n",
    "\n",
    "#calculate_ics(r_l)"
   ]
  },
  {
   "cell_type": "code",
   "execution_count": null,
   "id": "33d12847",
   "metadata": {},
   "outputs": [],
   "source": [
    "#full_ics_simulation(all_kb_files)"
   ]
  },
  {
   "cell_type": "code",
   "execution_count": null,
   "id": "3608de78",
   "metadata": {},
   "outputs": [],
   "source": [
    "agob = get_kin_terms(filepath + 'Agob-Ende-Kawam_agob1244.csv')\n",
    "\n",
    "print(get_pairs(agob,kt.ics_pairs))\n",
    "\n",
    "mi_of_system(agob)"
   ]
  },
  {
   "cell_type": "code",
   "execution_count": null,
   "id": "27b7ce9e",
   "metadata": {},
   "outputs": [],
   "source": [
    "def calculate_ics(ks):\n",
    "    pairs = get_pairs(ks,kt.ics_pairs)\n",
    "    GN,GN1 = split_generations(pairs)\n",
    "    probs = calculate_probs(GN1)\n",
    "    e = entropy(probs)\n",
    "    ce = conditional_entropy(pairs,GN)\n",
    "    mi = mutual_information(e,ce)\n",
    "    for pair in set(pairs):\n",
    "        print(pair,pairs.count(pair))\n",
    "    for term in set(GN):\n",
    "        print(term,GN.count(term))\n",
    "    for term in set(GN1):\n",
    "        print(term, GN1.count(term))\n",
    "    \n",
    "    if mi < 0:\n",
    "        print('mi = ', mi, 'ce = ', ce, 'e = ', e)\n",
    "        mi_check(pairs,GN,GN1,probs)\n",
    "        \n",
    "    return mi,ce,e"
   ]
  },
  {
   "cell_type": "code",
   "execution_count": null,
   "id": "5cd62b43",
   "metadata": {},
   "outputs": [],
   "source": [
    "len(kt.ics_pairs)\n",
    "\n",
    "164/4"
   ]
  }
 ],
 "metadata": {
  "kernelspec": {
   "display_name": "Python 3 (ipykernel)",
   "language": "python",
   "name": "python3"
  },
  "language_info": {
   "codemirror_mode": {
    "name": "ipython",
    "version": 3
   },
   "file_extension": ".py",
   "mimetype": "text/x-python",
   "name": "python",
   "nbconvert_exporter": "python",
   "pygments_lexer": "ipython3",
   "version": "3.9.12"
  }
 },
 "nbformat": 4,
 "nbformat_minor": 5
}
