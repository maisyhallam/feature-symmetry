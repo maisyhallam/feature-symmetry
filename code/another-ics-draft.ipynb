{
 "cells": [
  {
   "cell_type": "code",
   "execution_count": 1,
   "id": "25c4ecd5",
   "metadata": {},
   "outputs": [],
   "source": [
    "import csv # for writing dataframes to csv\n",
    "import random # for making a random choice\n",
    "import os # for scanning directories\n",
    "import itertools\n",
    "import string # for generating strings\n",
    "from collections import Counter\n",
    "\n",
    "import kintypes as kt # bringing large lists of kin types into the namespace\n",
    "import math # for calculating logs\n",
    "import pandas as pd"
   ]
  },
  {
   "cell_type": "markdown",
   "id": "0604ef4d",
   "metadata": {},
   "source": [
    "# Internal co-selection\n",
    "\n",
    "Internal co-selection refers to the tendency for kinship systems to have cross-generational consistency in the terminological distinctions or mergers that are made. That is, if your parents' elder brothers share a kin term, then so too will their children. If your parents' sisters are distinguished from your parents' brothers, so too will their children be distinguished. We can test the robustness of this tendency using our frankenlanguages, to see whether internal co-selection occurs at a higher rate than chance.\n",
    "\n",
    "We will measure internal co-selection in terms of the **mutual information** between Generation N and Generation N+1 in a particular kinship system. That tells us how much information can be gained from one generation by observing the other - we can think of this as the benefit of internal co-selection. That is, we need to work out the conditional entropy between every possible pair of parent and child terms, and the entropy over an entire generation. This will tell us how much information is shared across the two generations; or how much we can predict about one generation given the other.\n",
    "\n",
    "To do this, we need to do the following:\n",
    "\n",
    "* Get a list of parent-child pairs for each language.\n",
    "* Work out the probability of each pair (the joint probability of term A and term B)\n",
    "* Work out the probabilities of each individual term in a generation.\n",
    "* Calculate the conditional entropy of the system using 2 and 3, and the entropy of one generation using C.\n",
    "* Calculate the mutual information of the system.\n",
    "\n",
    "Luckily, we can re-use some of the infrastructure we already have. For ease, I will write out again the functions that extract kin terms from a kinbank file."
   ]
  },
  {
   "cell_type": "code",
   "execution_count": 2,
   "id": "fb399128",
   "metadata": {},
   "outputs": [],
   "source": [
    "# to get a list of all the kinbank filenames\n",
    "\n",
    "def get_kb_files():\n",
    "    files = []\n",
    "    path = '../languages/kinbank'\n",
    "    directory = os.scandir(path)\n",
    "    for file in directory:\n",
    "        files.append(file.name)\n",
    "    return files"
   ]
  },
  {
   "cell_type": "code",
   "execution_count": 3,
   "id": "bc4f8ed3",
   "metadata": {},
   "outputs": [],
   "source": [
    "# to pick a file at random\n",
    "\n",
    "def random_language(all_data):\n",
    "    language = random.choice(all_data)\n",
    "    # print(language)\n",
    "    return language"
   ]
  },
  {
   "cell_type": "code",
   "execution_count": 4,
   "id": "251321df",
   "metadata": {},
   "outputs": [],
   "source": [
    "# to extract kin terms from one of those files\n",
    "\n",
    "def get_kin_terms(filepath):\n",
    "    kin_system = {}\n",
    "    with open(filepath, encoding='utf8') as f:\n",
    "        csv_reader = csv.DictReader(f)\n",
    "        next(csv_reader) # to skip the header row\n",
    "        for line in csv_reader:\n",
    "            kin_type = line['parameter']\n",
    "            kin_term = line['word']\n",
    "            kin_system[kin_type] = kin_term\n",
    "    return kin_system"
   ]
  },
  {
   "cell_type": "code",
   "execution_count": 5,
   "id": "e3f03c87",
   "metadata": {},
   "outputs": [],
   "source": [
    "all_kb_files = get_kb_files()"
   ]
  },
  {
   "cell_type": "code",
   "execution_count": 6,
   "id": "112a4e3f",
   "metadata": {},
   "outputs": [
    {
     "name": "stdout",
     "output_type": "stream",
     "text": [
      "Mongo_mong1338.csv {'meB': 'nsómí', 'myB': 'bokume', 'mF': 'tata', 'mPP': 'nkoko', 'mSS': 'nkoko', 'mSD': 'nkoko', 'mDS': 'bonkana', 'mDD': 'bonkana', 'mFB': 'tantinkune', 'mFZ': 'faomoto', 'mMZ': 'nyango', 'mMeZ': 'nyango', 'meBS': 'bona', 'myBS': 'bona', 'meBD': 'bona', 'myBD': 'bona', 'meZS': 'bona', 'myZS': 'bona', 'meZD': 'bona', 'myZD': 'bona', 'mFBD': 'nkanea jende', 'mMBD': 'nkana', 'mMBS': 'nkana', 'mFBeS': 'botomolo', 'mFByS': 'bokume', 'mFBeD': 'nkåna', 'mFByD': 'nkåna', 'mMBeS': 'bona', 'mMByS': 'bona', 'mMBeD': 'bona', 'mMByD': 'bona', 'mFZH': 'bokilo', 'mFBW': 'bokilo', 'mMZH': 'bokilo', 'mMBW': 'bokilo', 'myZ': 'nkaneomoto', 'mFeB': 'tantinkune', 'mFeZ': 'faomoto', 'mFyZ': 'faomoto', 'mFeBD': 'nkanea jende', 'mFyBD': 'nkanea jende', 'mMeBS': 'nkana', 'mMyBS': 'nkana', 'mMeBD': 'nkana', 'mMyBD': 'nkana', 'fZ': 'nkaneomoto', 'feB': 'nsómí', 'fyB': 'bokume', 'fF': 'tata', 'fPP': 'nkoko', 'fSS': 'nkoko', 'fSD': 'nkoko', 'fDS': 'bonkana', 'fDD': 'bonkana', 'fFB': 'tantinkune', 'fFZ': 'faomoto', 'fMZ': 'nyango', 'fMeZ': 'nyango', 'feBS': 'bona', 'fyBS': 'bona', 'feBD': 'bona', 'fyBD': 'bona', 'feZS': 'bona', 'fyZS': 'bona', 'feZD': 'bona', 'fyZD': 'bona', 'fFBD': 'nkanea jende', 'fMBD': 'nkana', 'fMBS': 'nkana', 'fFBeS': 'botomolo', 'fFByS': 'bokume', 'fFBeD': 'nkåna', 'fFByD': 'nkåna', 'fMBeS': 'bona', 'fMByS': 'bona', 'fMBeD': 'bona', 'fMByD': 'bona', 'fFZH': 'bokilo', 'fFBW': 'bokilo', 'fMZH': 'bokilo', 'fMBW': 'bokilo', 'fyZ': 'nkaneomoto', 'fFeB': 'tantinkune', 'fFeZ': 'faomoto', 'fFyZ': 'faomoto', 'fFeBD': 'nkanea jende', 'fFyBD': 'nkanea jende', 'fMeBS': 'nkana', 'fMyBS': 'nkana', 'fMeBD': 'nkana', 'fMyBD': 'nkana', 'mB': 'nkanea jende', 'mZ': 'nkaneomoto', 'meZ': 'nsómí', 'mM': 'nyango', 'mC': 'bona', 'mS': 'bona', 'mD': 'djipoku', 'mA': 'bankokoolo', 'mFF': 'nkoko', 'mFM': 'nkoko', 'mMF': 'nkoko', 'mMM': 'nkoko', 'mMB': 'nyangompame', 'mFyB': \"tat'inkune\", 'mMyZ': \"mam'inkune\", 'mBS': 'bononkana', 'mBD': 'bonankana', 'mZS': 'bonankana', 'mZD': 'bononkana', 'mFZD': 'nkana', 'mMZD': 'nkana', 'mFBS': 'nkana', 'mFZS': 'nkana', 'mMZS': 'nkana', 'mH': 'bome', 'mW': 'waji', 'mHF': 'bokilo', 'mHM': 'bokilo', 'mWF': 'bokilo', 'mWM': 'bokilo', 'mBW': 'bokilo', 'mZH': 'bokilo', 'mWB': 'bokilo', 'mWZ': 'bokilo', 'mHB': 'bokilo', 'mHZ': 'bokilo', 'mSW': 'bokilo', 'mSWM': 'bokilo', 'mSWF': 'bokilo', 'mDH': 'bokilo', 'mDHM': 'bokilo', 'mDHF': 'bokilo', 'mMeB': 'nyangompame', 'mMyB': 'nyangompame', 'mFeBS': 'nkana', 'mFyBS': 'nkana', 'mFeZS': 'nkana', 'mFyZS': 'nkana', 'mFeZD': 'nkana', 'mFyZD': 'nkana', 'mMeZS': 'nkana', 'mMyZS': 'nkana', 'mMeZD': 'nkana', 'mMyZD': 'nkana', 'mFZeS': 'nkana', 'mFZyS': 'nkana', 'mFZeD': 'nkana', 'mFZyD': 'nkana', 'mMZeS': 'nkana', 'mMZyS': 'nkana', 'mMZeD': 'nkana', 'mMZyD': 'nkana', 'fB': 'nkanea jende', 'feZ': 'nsómí', 'fM': 'nyango', 'fC': 'bona', 'fS': 'bona', 'fD': 'djipoku', 'fA': 'bankokoolo', 'fFF': 'nkoko', 'fFM': 'nkoko', 'fMF': 'nkoko', 'fMM': 'nkoko', 'fMB': 'nyangompame', 'fFyB': \"tat'inkune\", 'fMyZ': \"mam'inkune\", 'fBS': 'bononkana', 'fBD': 'bonankana', 'fZS': 'bonankana', 'fZD': 'bononkana', 'fFZD': 'nkana', 'fMZD': 'nkana', 'fFBS': 'nkana', 'fFZS': 'nkana', 'fMZS': 'nkana', 'fH': 'bome', 'fW': 'waji', 'fHF': 'bokilo', 'fHM': 'bokilo', 'fWF': 'bokilo', 'fWM': 'bokilo', 'fBW': 'bokilo', 'fZH': 'bokilo', 'fWB': 'bokilo', 'fWZ': 'bokilo', 'fHB': 'bokilo', 'fHZ': 'bokilo', 'fSW': 'bokilo', 'fSWM': 'bokilo', 'fSWF': 'bokilo', 'fDH': 'bokilo', 'fDHM': 'bokilo', 'fDHF': 'bokilo', 'fMeB': 'nyangompame', 'fMyB': 'nyangompame', 'fFeBS': 'nkana', 'fFyBS': 'nkana', 'fFeZS': 'nkana', 'fFyZS': 'nkana', 'fFeZD': 'nkana', 'fFyZD': 'nkana', 'fMeZS': 'nkana', 'fMyZS': 'nkana', 'fMeZD': 'nkana', 'fMyZD': 'nkana', 'fFZeS': 'nkana', 'fFZyS': 'nkana', 'fFZeD': 'nkana', 'fFZyD': 'nkana', 'fMZeS': 'nkana', 'fMZyS': 'nkana', 'fMZeD': 'nkana', 'fMZyD': 'nkana'}\n"
     ]
    }
   ],
   "source": [
    "random.seed(52)\n",
    "file = random_language(all_kb_files)\n",
    "filepath = '../languages/kinbank/'\n",
    "\n",
    "l = get_kin_terms(filepath + file)\n",
    "\n",
    "print(file,l)"
   ]
  },
  {
   "cell_type": "markdown",
   "id": "3d99a06a",
   "metadata": {},
   "source": [
    "## Getting the relevant terms\n",
    "\n",
    "The first thing we can do is filter our full kinship system so we just have the kin types that we're interested in - that is, the kin from generation N and generation N+1. We will do this by comparing the kin types in the kinbank file against a list of pairs of kin types - parent-child pairs like 'mother's older brother' and 'mother's older brother's son'."
   ]
  },
  {
   "cell_type": "code",
   "execution_count": 7,
   "id": "88bf4ce5",
   "metadata": {},
   "outputs": [],
   "source": [
    "def get_pairs(ks,d = False):\n",
    "    pairs_of_terms = {}\n",
    "    placeholder = []\n",
    "    \n",
    "    for pair in kt.ics_pairs:\n",
    "        if pair[0] in ks and pair[1] in ks:\n",
    "            pairs_of_terms[pair] = (ks[pair[0]],ks[pair[1]])\n",
    "            placeholder.append(pair)\n",
    "            \n",
    "    if d: # if we want terms mapped to types, return a dictionary\n",
    "        return pairs_of_terms\n",
    "    else: # if not, just return a list of pairs\n",
    "        return list(pairs_of_terms.values())"
   ]
  },
  {
   "cell_type": "code",
   "execution_count": 8,
   "id": "b16488c6",
   "metadata": {},
   "outputs": [],
   "source": [
    "def split_pairs_unique(pairs: dict):\n",
    "    gn = {}\n",
    "    gn1 = {}\n",
    "    for pair in pairs:\n",
    "        gn1[pair[0]] = pairs[pair][0]\n",
    "        gn[pair[1]] = pairs[pair][1]\n",
    "    \n",
    "    return gn,gn1\n",
    "        "
   ]
  },
  {
   "cell_type": "code",
   "execution_count": 9,
   "id": "78ea56fe",
   "metadata": {},
   "outputs": [],
   "source": [
    "def split_pairs(pairs:list):\n",
    "    gn = []\n",
    "    gn1 = []\n",
    "    for pair in pairs:\n",
    "        gn.append(pair[1])\n",
    "        gn1.append(pair[0])\n",
    "        \n",
    "    return gn,gn1"
   ]
  },
  {
   "cell_type": "code",
   "execution_count": 67,
   "id": "c1c3383a",
   "metadata": {},
   "outputs": [],
   "source": [
    "l_pairs = get_pairs(l)\n",
    "\n",
    "gn,gn1 = split_pairs(l_pairs)"
   ]
  },
  {
   "cell_type": "markdown",
   "id": "c20afbe8",
   "metadata": {},
   "source": [
    "Now we have a new kinship system with only the relevant terms - much easier to work with. We still need to filter out the **pairs of terms** that interest us, though. In order to calculate mutual information, we need two lists of terms that are equal in length. So even though "
   ]
  },
  {
   "cell_type": "code",
   "execution_count": 12,
   "id": "62e2ede8",
   "metadata": {},
   "outputs": [],
   "source": [
    "def make_list(dictionary):\n",
    "    return list(dictionary.values())"
   ]
  },
  {
   "cell_type": "markdown",
   "id": "e80575b9",
   "metadata": {},
   "source": [
    "## Calculating entropy\n",
    "\n",
    "Next, we need some functions to calculate probabilities for us."
   ]
  },
  {
   "cell_type": "code",
   "execution_count": 13,
   "id": "671ed8dd",
   "metadata": {},
   "outputs": [],
   "source": [
    "def probability(term: str, generation: list) -> float:\n",
    "    return generation.count(term)/len(generation)"
   ]
  },
  {
   "cell_type": "markdown",
   "id": "ac592b98",
   "metadata": {},
   "source": [
    "And a function to calculate entropy over a list of data."
   ]
  },
  {
   "cell_type": "code",
   "execution_count": 14,
   "id": "6d9e20f7",
   "metadata": {},
   "outputs": [],
   "source": [
    "def entropy(generation):\n",
    "    entropy = 0\n",
    "    for term in set(generation):\n",
    "        p = probability(term,generation)\n",
    "        entropy += p*math.log(p)\n",
    "    return -entropy"
   ]
  },
  {
   "cell_type": "code",
   "execution_count": 16,
   "id": "fae71705",
   "metadata": {},
   "outputs": [
    {
     "data": {
      "text/plain": [
       "1.6364955728889847"
      ]
     },
     "execution_count": 16,
     "metadata": {},
     "output_type": "execute_result"
    }
   ],
   "source": [
    "entropy(gn1)"
   ]
  },
  {
   "cell_type": "markdown",
   "id": "dd2cbe75",
   "metadata": {},
   "source": [
    "## Calculating mutual information\n",
    "\n",
    "Lucky for us, the `sklearn` package has a built in function for calculating mutual information, `mutual_info_score`. We can give it our two generations and it will give us back the mutual information between them measured in nats."
   ]
  },
  {
   "cell_type": "code",
   "execution_count": 17,
   "id": "08e6a5d8",
   "metadata": {},
   "outputs": [
    {
     "data": {
      "text/plain": [
       "0.47708075355136104"
      ]
     },
     "execution_count": 17,
     "metadata": {},
     "output_type": "execute_result"
    }
   ],
   "source": [
    "from sklearn.metrics import mutual_info_score\n",
    "\n",
    "mutual_info_score(gn,gn1)"
   ]
  },
  {
   "cell_type": "markdown",
   "id": "4cfef168",
   "metadata": {},
   "source": [
    "EDIT: last time I ran this, the entropy and MI were identical. Why different now?"
   ]
  },
  {
   "cell_type": "markdown",
   "id": "695c5a13",
   "metadata": {},
   "source": [
    "## Simulating kinship systems"
   ]
  },
  {
   "cell_type": "markdown",
   "id": "5cb062f6",
   "metadata": {},
   "source": [
    "We don't just want to run this on real kinship systems. We also want to calculate the mutual information of kinship systems that we've simulated, so we can test whether real languages have higher mutual information than we would expect to occur by chance for a particular amount of variation. In other words, do kinship systems exhibit higher than expected mutual information between GN and GN+1 given the number of terms available in the system?\n",
    "\n",
    "We already have a way to extract the terms we're interested in - now we need to randomise them and recombine them. This will give us a kinship system with the same amount of variation, but with the relationships between terms randomised."
   ]
  },
  {
   "cell_type": "markdown",
   "id": "5b9bff2a",
   "metadata": {},
   "source": [
    "*split pairs into two lists (order of kintypes is preserved)\n",
    "*shuffle lists in place\n",
    "*recombine into pairs by index\n",
    "*run new list of pairs through calculate_mi"
   ]
  },
  {
   "cell_type": "code",
   "execution_count": 77,
   "id": "189b9879",
   "metadata": {},
   "outputs": [],
   "source": [
    "def randomise_pairs(gn,gn1):\n",
    "    random.shuffle(gn)\n",
    "    random.shuffle(gn1)\n",
    "    random_pairs = []\n",
    "    for x,y in zip(gn,gn1):\n",
    "        random_pairs.append((y,x))\n",
    "    return random_pairs"
   ]
  },
  {
   "cell_type": "code",
   "execution_count": 78,
   "id": "d1492475",
   "metadata": {},
   "outputs": [
    {
     "name": "stdout",
     "output_type": "stream",
     "text": [
      "Counter({'faomoto': 20, 'nyangompame': 20, 'tantinkune': 16, 'nyango': 16, \"tat'inkune\": 4, \"mam'inkune\": 4})\n",
      "Counter({'faomoto': 20, 'nyangompame': 20, 'tantinkune': 16, 'nyango': 16, \"tat'inkune\": 4, \"mam'inkune\": 4})\n"
     ]
    }
   ],
   "source": [
    "new_gn,new_gn1 = split_pairs(randomise_pairs(gn,gn1))\n",
    "\n",
    "print(Counter(new_gn1))\n",
    "\n",
    "print(Counter(gn1))"
   ]
  },
  {
   "cell_type": "code",
   "execution_count": 44,
   "id": "dfc5d09e",
   "metadata": {},
   "outputs": [],
   "source": [
    "def randomise_generation(g):\n",
    "    sim_g = {}\n",
    "    terms = list(g.values())\n",
    "    #print(Counter(terms))\n",
    "    types = list(g.keys())\n",
    "    random.shuffle(terms)\n",
    "   # print(Counter(terms))\n",
    "    \n",
    "    for i in range(len(g)):\n",
    "        random_term = terms[i]\n",
    "        kintype = types[i]\n",
    "        sim_g[kintype] = random_term\n",
    "        \n",
    "    return sim_g"
   ]
  },
  {
   "cell_type": "code",
   "execution_count": 22,
   "id": "f74681f7",
   "metadata": {},
   "outputs": [
    {
     "name": "stdout",
     "output_type": "stream",
     "text": [
      "Counter({'nyangompame': 6, 'faomoto': 6, 'tantinkune': 4, 'nyango': 4, \"tat'inkune\": 2, \"mam'inkune\": 2})\n",
      "Counter({'nyangompame': 6, 'faomoto': 6, 'nyango': 4, 'tantinkune': 4, \"tat'inkune\": 2, \"mam'inkune\": 2})\n",
      "{'mMB': 'nyangompame', 'mMeB': 'nyangompame', 'mMyB': 'nyangompame', 'mFB': 'tantinkune', 'mFeB': 'tantinkune', 'mFyB': \"tat'inkune\", 'mMZ': 'nyango', 'mMeZ': 'nyango', 'mMyZ': \"mam'inkune\", 'mFZ': 'faomoto', 'mFeZ': 'faomoto', 'mFyZ': 'faomoto', 'fMB': 'nyangompame', 'fMeB': 'nyangompame', 'fMyB': 'nyangompame', 'fFB': 'tantinkune', 'fFeB': 'tantinkune', 'fFyB': \"tat'inkune\", 'fMZ': 'nyango', 'fMeZ': 'nyango', 'fMyZ': \"mam'inkune\", 'fFZ': 'faomoto', 'fFeZ': 'faomoto', 'fFyZ': 'faomoto'}\n"
     ]
    }
   ],
   "source": [
    "l_dict = get_pairs(l,True)\n",
    "gn,gn1 = split_pairs_unique(l_dict)\n",
    "\n",
    "randomise_generation(gn1)\n",
    "\n",
    "print(gn1)"
   ]
  },
  {
   "cell_type": "code",
   "execution_count": 23,
   "id": "6f5c6f23",
   "metadata": {},
   "outputs": [],
   "source": [
    "def shuffle_system(g1,g2):\n",
    "    g1 = randomise_generation(g1)\n",
    "    g2 = randomise_generation(g2)\n",
    "    return {**g1,**g2}"
   ]
  },
  {
   "cell_type": "code",
   "execution_count": 50,
   "id": "9cf4a465",
   "metadata": {
    "collapsed": true
   },
   "outputs": [
    {
     "data": {
      "text/plain": [
       "{'mMBS': 'nkana',\n",
       " 'mMBeS': 'nkana',\n",
       " 'mMByS': 'bona',\n",
       " 'mMBD': 'nkana',\n",
       " 'mMBeD': 'nkana',\n",
       " 'mMByD': 'nkåna',\n",
       " 'mMeBS': 'nkana',\n",
       " 'mMeBD': 'nkana',\n",
       " 'mMyBS': 'nkana',\n",
       " 'mMyBD': 'nkana',\n",
       " 'mFBS': 'nkana',\n",
       " 'mFBeS': 'botomolo',\n",
       " 'mFByS': 'nkana',\n",
       " 'mFBD': 'nkana',\n",
       " 'mFBeD': 'nkana',\n",
       " 'mFByD': 'nkana',\n",
       " 'mFeBS': 'nkana',\n",
       " 'mFeBD': 'bona',\n",
       " 'mFyBS': 'nkana',\n",
       " 'mFyBD': 'nkana',\n",
       " 'mMZS': 'bona',\n",
       " 'mMZeS': 'nkana',\n",
       " 'mMZyS': 'nkanea jende',\n",
       " 'mMZD': 'nkana',\n",
       " 'mMZeD': 'nkana',\n",
       " 'mMZyD': 'nkana',\n",
       " 'mMeZS': 'nkåna',\n",
       " 'mMeZD': 'nkana',\n",
       " 'mMyZS': 'nkana',\n",
       " 'mMyZD': 'nkana',\n",
       " 'mFZS': 'nkana',\n",
       " 'mFZeS': 'nkanea jende',\n",
       " 'mFZyS': 'nkana',\n",
       " 'mFZD': 'bona',\n",
       " 'mFZeD': 'nkana',\n",
       " 'mFZyD': 'nkana',\n",
       " 'mFeZS': 'nkana',\n",
       " 'mFeZD': 'nkana',\n",
       " 'mFyZS': 'nkana',\n",
       " 'mFyZD': 'nkana',\n",
       " 'fMBS': 'nkana',\n",
       " 'fMBeS': 'bona',\n",
       " 'fMByS': 'nkana',\n",
       " 'fMBD': 'nkana',\n",
       " 'fMBeD': 'bona',\n",
       " 'fMByD': 'nkanea jende',\n",
       " 'fMeBS': 'nkana',\n",
       " 'fMeBD': 'nkåna',\n",
       " 'fMyBS': 'nkana',\n",
       " 'fMyBD': 'nkana',\n",
       " 'fFBS': 'nkana',\n",
       " 'fFBeS': 'nkana',\n",
       " 'fFByS': 'nkana',\n",
       " 'fFBD': 'nkana',\n",
       " 'fFBeD': 'nkanea jende',\n",
       " 'fFByD': 'nkana',\n",
       " 'fFeBS': 'nkana',\n",
       " 'fFeBD': 'nkana',\n",
       " 'fFyBS': 'nkanea jende',\n",
       " 'fFyBD': 'nkåna',\n",
       " 'fMZS': 'nkana',\n",
       " 'fMZeS': 'botomolo',\n",
       " 'fMZyS': 'bokume',\n",
       " 'fMZD': 'nkana',\n",
       " 'fMZeD': 'nkana',\n",
       " 'fMZyD': 'nkana',\n",
       " 'fMeZS': 'nkana',\n",
       " 'fMeZD': 'nkana',\n",
       " 'fMyZS': 'nkanea jende',\n",
       " 'fMyZD': 'bokume',\n",
       " 'fFZS': 'bona',\n",
       " 'fFZeS': 'nkana',\n",
       " 'fFZyS': 'nkana',\n",
       " 'fFZD': 'nkana',\n",
       " 'fFZeD': 'nkana',\n",
       " 'fFZyD': 'nkana',\n",
       " 'fFeZS': 'bona',\n",
       " 'fFeZD': 'nkana',\n",
       " 'fFyZS': 'nkana',\n",
       " 'fFyZD': 'nkana',\n",
       " 'mMB': 'nyango',\n",
       " 'mMeB': 'tantinkune',\n",
       " 'mMyB': 'nyango',\n",
       " 'mFB': 'nyango',\n",
       " 'mFeB': 'nyangompame',\n",
       " 'mFyB': 'tantinkune',\n",
       " 'mMZ': 'faomoto',\n",
       " 'mMeZ': 'faomoto',\n",
       " 'mMyZ': \"tat'inkune\",\n",
       " 'mFZ': 'nyango',\n",
       " 'mFeZ': 'tantinkune',\n",
       " 'mFyZ': 'nyangompame',\n",
       " 'fMB': \"tat'inkune\",\n",
       " 'fMeB': \"mam'inkune\",\n",
       " 'fMyB': 'faomoto',\n",
       " 'fFB': 'faomoto',\n",
       " 'fFeB': 'nyangompame',\n",
       " 'fFyB': 'nyangompame',\n",
       " 'fMZ': 'nyangompame',\n",
       " 'fMeZ': 'tantinkune',\n",
       " 'fMyZ': \"mam'inkune\",\n",
       " 'fFZ': 'faomoto',\n",
       " 'fFeZ': 'faomoto',\n",
       " 'fFyZ': 'nyangompame'}"
      ]
     },
     "execution_count": 50,
     "metadata": {},
     "output_type": "execute_result"
    }
   ],
   "source": [
    "shuffle_system(gn,gn1)"
   ]
  },
  {
   "cell_type": "markdown",
   "id": "9bffdc27",
   "metadata": {},
   "source": [
    "## Calculating mutual information en masse\n",
    "\n",
    "Now we have all the pieces, we can calculate the mutual information and entropy of both real kinship systems and simulated ones. Let's wrap everything up in a function."
   ]
  },
  {
   "cell_type": "code",
   "execution_count": 24,
   "id": "de451a20",
   "metadata": {},
   "outputs": [],
   "source": [
    "def calculate_ics(file,simulation = False,times = False):\n",
    "    ks = get_kin_terms(filepath + file)\n",
    "    pairs = get_pairs(ks,True)\n",
    "    g1,g2 = split_pairs_unique(pairs)\n",
    "    language = file[:-13]\n",
    "\n",
    "    df = []\n",
    "    \n",
    "    if simulation:\n",
    "        for i in range(times):\n",
    "            shuffled_system = shuffle_ks(g1,g2)\n",
    "            pairs = get_pairs(shuffled_system)\n",
    "            g1,g2 = split(pairs)\n",
    "            e = entropy(g2)\n",
    "            mi = mutual_info_score(g1,g2)\n",
    "            results = {}\n",
    "            results['simulation_number'] = sim\n",
    "            results['mutual_information'] = mi\n",
    "            results['entropy'] = e\n",
    "            for i in g1:\n",
    "                results[i] = g1[i]\n",
    "            for i in g2:\n",
    "                results[i] = g2[i]\n",
    "            df.append(results)\n",
    "        pd.DataFrame(df).to_csv('../data/raw/ics_' + language + '.csv',index=False)\n",
    "\n",
    "    else:\n",
    "        e = entropy(make_list(g2))\n",
    "        mi = mutual_info_score(make_list(g1),make_list(g2))\n",
    "        results = {}\n",
    "        results['language'] = language\n",
    "        results['mutual_information'] = mi\n",
    "        results['entropy'] = e\n",
    "        for i in g1:\n",
    "            results[i] = g1[i]\n",
    "        for i in g2:\n",
    "            results[i] = g2[i]\n",
    "        df.append(results)\n",
    "        pd.DataFrame(df).to_csv('../data/raw/ics_real_languages.csv',index=False)\n",
    "\n",
    "  \n",
    "        \n",
    "    return pd.DataFrame(df)\n",
    "    "
   ]
  },
  {
   "cell_type": "code",
   "execution_count": 53,
   "id": "9e7fc668",
   "metadata": {},
   "outputs": [],
   "source": [
    "def calculate_mi(ks):\n",
    "    pairs = get_pairs(ks)\n",
    "    #print(pairs)\n",
    "    gn,gn1 = split_pairs(pairs)\n",
    "    #print(gn,gn1)\n",
    "    print(Counter(gn1))\n",
    "    e = entropy(gn1)\n",
    "    mi = mutual_info_score(gn,gn1)\n",
    "    return e,mi"
   ]
  },
  {
   "cell_type": "code",
   "execution_count": 79,
   "id": "f69c452c",
   "metadata": {},
   "outputs": [
    {
     "name": "stdout",
     "output_type": "stream",
     "text": [
      "Counter({'nyangompame': 20, 'faomoto': 20, 'tantinkune': 16, 'nyango': 16, \"tat'inkune\": 4, \"mam'inkune\": 4})\n"
     ]
    },
    {
     "data": {
      "text/plain": [
       "(1.6364955728889847, 0.47708075355136104)"
      ]
     },
     "execution_count": 79,
     "metadata": {},
     "output_type": "execute_result"
    }
   ],
   "source": [
    "calculate_mi(l)"
   ]
  },
  {
   "cell_type": "code",
   "execution_count": 45,
   "id": "569817fd",
   "metadata": {},
   "outputs": [],
   "source": [
    "def simulation(ks):\n",
    "    pairs = get_pairs(ks,True)\n",
    "    gn,gn1 = split_pairs_unique(pairs)\n",
    "    sim_ks = shuffle_system(gn,gn1)\n",
    "    sim_pairs = get_pairs(sim_ks)\n",
    "    simgn,simgn1 = split_pairs(sim_pairs)\n",
    "    print(Counter(simgn1))\n",
    "    e = entropy(simgn1)\n",
    "    mi = mutual_info_score(simgn,simgn1)\n",
    "    return e,mi"
   ]
  },
  {
   "cell_type": "code",
   "execution_count": 64,
   "id": "b821b65a",
   "metadata": {},
   "outputs": [],
   "source": [
    "def simulation(ks):\n",
    "    pairs = get_pairs(ks)\n",
    "    gn,gn1 = split_pairs(pairs)\n",
    "    print(Counter(gn1))\n",
    "    random_pairs = randomise_pairs(gn,gn1)\n",
    "    simgn,simgn1 = split_pairs(random_pairs)\n",
    "    print(Counter(simgn1))\n",
    "    e = entropy(simgn1)\n",
    "    mi = mutual_info_score(simgn,simgn1)\n",
    "    return e,mi"
   ]
  },
  {
   "cell_type": "code",
   "execution_count": 80,
   "id": "bce6b862",
   "metadata": {},
   "outputs": [
    {
     "name": "stdout",
     "output_type": "stream",
     "text": [
      "Counter({'nyangompame': 20, 'faomoto': 20, 'tantinkune': 16, 'nyango': 16, \"tat'inkune\": 4, \"mam'inkune\": 4})\n",
      "Counter({'faomoto': 20, 'nyangompame': 20, 'tantinkune': 16, 'nyango': 16, \"mam'inkune\": 4, \"tat'inkune\": 4})\n"
     ]
    },
    {
     "data": {
      "text/plain": [
       "(1.6364955728889847, 0.13193950865523082)"
      ]
     },
     "execution_count": 80,
     "metadata": {},
     "output_type": "execute_result"
    }
   ],
   "source": [
    "simulation(l)"
   ]
  },
  {
   "cell_type": "code",
   "execution_count": 81,
   "id": "82ac2578",
   "metadata": {},
   "outputs": [],
   "source": [
    "file = 'Koya_koya1251.csv'\n",
    "l2 = get_kin_terms(filepath + file)"
   ]
  },
  {
   "cell_type": "code",
   "execution_count": 82,
   "id": "095f85ec",
   "metadata": {},
   "outputs": [
    {
     "name": "stdout",
     "output_type": "stream",
     "text": [
      "Counter({'māmā': 20, 'pépe': 20, 'poyé': 20, 'pedi': 4, 'kuci': 4})\n"
     ]
    },
    {
     "data": {
      "text/plain": [
       "(1.4131210683790687, 0.6774944044487079)"
      ]
     },
     "execution_count": 82,
     "metadata": {},
     "output_type": "execute_result"
    }
   ],
   "source": [
    "calculate_mi(l2)"
   ]
  },
  {
   "cell_type": "code",
   "execution_count": 83,
   "id": "655035b5",
   "metadata": {},
   "outputs": [
    {
     "name": "stdout",
     "output_type": "stream",
     "text": [
      "Counter({'māmā': 20, 'pépe': 20, 'poyé': 20, 'pedi': 4, 'kuci': 4})\n",
      "Counter({'poyé': 20, 'pépe': 20, 'māmā': 20, 'pedi': 4, 'kuci': 4})\n"
     ]
    },
    {
     "data": {
      "text/plain": [
       "(1.4131210683790687, 0.13721690101481093)"
      ]
     },
     "execution_count": 83,
     "metadata": {},
     "output_type": "execute_result"
    }
   ],
   "source": [
    "simulation(l2)"
   ]
  },
  {
   "cell_type": "code",
   "execution_count": null,
   "id": "7aa744e2",
   "metadata": {},
   "outputs": [],
   "source": []
  }
 ],
 "metadata": {
  "kernelspec": {
   "display_name": "Python 3 (ipykernel)",
   "language": "python",
   "name": "python3"
  },
  "language_info": {
   "codemirror_mode": {
    "name": "ipython",
    "version": 3
   },
   "file_extension": ".py",
   "mimetype": "text/x-python",
   "name": "python",
   "nbconvert_exporter": "python",
   "pygments_lexer": "ipython3",
   "version": "3.9.12"
  }
 },
 "nbformat": 4,
 "nbformat_minor": 5
}
