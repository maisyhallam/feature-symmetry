{
 "cells": [
  {
   "cell_type": "code",
   "execution_count": 4,
   "id": "b45d44bf",
   "metadata": {},
   "outputs": [],
   "source": [
    "import csv # for writing dataframes to csv\n",
    "import random # for making a random choice\n",
    "import os # for scanning directories\n",
    "import itertools\n",
    "import string # for generating strings\n",
    "from collections import Counter\n",
    "\n",
    "import kintypes as kt # bringing large lists of kin types into the namespace\n",
    "import math # for calculating logs\n",
    "import pandas as pd\n",
    "import numpy as np\n",
    "import scipy.stats\n",
    "import statistics\n",
    "import re\n",
    "from tqdm import tqdm\n",
    "\n",
    "# testing = True # set to True to run code blocks with tests and examples\n",
    "# filtering = False # set to True to run the filtering process"
   ]
  },
  {
   "cell_type": "markdown",
   "id": "a9d39313",
   "metadata": {},
   "source": [
    "# Internal co-selection\n",
    "\n",
    "Internal co-selection refers to a process of kin term evolution whereby terminological changes in one part of the paradigm co-occur with changes in related parts of the paradigm, increasing the predictive structure of the paradigm.\n",
    "\n",
    "In this notebook, we will build simulations to investigate the robustness of this tendency cross-linguistically, using data from Kinbank, a global database of kin terminology. \n",
    "\n",
    "We will measure internal co-selection in terms of the **mutual information** between Generation N and Generation N+1 in a particular kinship system. That tells us how much information can be gained from one generation by observing the other - how certain we can be about which children 'go with' which parents. This can be calculated as the **entropy** of one generation (how much unpredictable variation there is) minus the **conditional entropy** between the two generations (how much unpredictability remains in one generation after observing another).\n",
    "\n",
    "## Calculating mutual information of a kinship system\n",
    "\n",
    "To calculate the mutual information (MI) of a particular kinship system, we must perform the following steps:\n",
    "\n",
    "1. Extract kin terminology data from Kinbank for this language.\n",
    "2. Condense the full kinship system down to the terms we are interested in: Ego's generation and Ego's parents' generation.\n",
    "3. Calculate the probabilities of each kin term within the generation in which it belongs; and the probabilities of each parent-child pair.\n",
    "4. Calculate entropy, conditional entropy, subtract them from each other to get the mutual information of the system.\n",
    "\n",
    "After we get that going, we can do these same calculations on simulated kinship systems.\n",
    "\n",
    "### 1. Extract kin terminology from Kinbank\n",
    "\n",
    "First, let's actually load our data in. The following function `get_kb_files()` pulls the full list of Kinbank filenames - one file per language. Later, we can iterate through these to generate MI values for every language in our dataset."
   ]
  },
  {
   "cell_type": "code",
   "execution_count": 95,
   "id": "246b31ff",
   "metadata": {},
   "outputs": [],
   "source": [
    "def get_kb_files(path) -> list:\n",
    "    files = []\n",
    "    directory = os.scandir(path)\n",
    "    morgan = []\n",
    "    for file in directory:\n",
    "        if 'Morgan' in file.name:\n",
    "            morgan.append(file.name)\n",
    "        else:\n",
    "            files.append(file.name)\n",
    "    files += morgan # all morgan files at the end, so if there is a duplicate, the non morgan data is used\n",
    "    return files\n",
    "\n",
    "all_kb_files = get_kb_files('../../kinbank')"
   ]
  },
  {
   "cell_type": "code",
   "execution_count": 96,
   "id": "ca211494",
   "metadata": {},
   "outputs": [
    {
     "data": {
      "text/plain": [
       "['Ngombe_Binja_binj1250.csv',\n",
       " 'Ottowa_Ojibwa_otta1242.csv',\n",
       " 'Tlingit_tlin1245.csv',\n",
       " 'Bannock_bann1248.csv',\n",
       " 'Sa_saaa1241.csv',\n",
       " 'Kimaama_kima1246.csv',\n",
       " 'Dhuwal-Dhuwala_(Yolngu)_dhuw1248.csv',\n",
       " 'Tenharim_tenh1241.csv',\n",
       " 'Mosetén_Chimané_mose1249.csv',\n",
       " 'Tsaangi_tsaa1242.csv',\n",
       " 'Ngoni_ngon1269.csv',\n",
       " 'Nyakyusa_nyak1260.csv',\n",
       " 'Balaesang_bala1314.csv',\n",
       " 'KazymKhanty_nort2672.csv',\n",
       " 'Aklanon_akla1241.csv',\n",
       " 'Paakantyi_darl1243.csv',\n",
       " 'Fipa_fipa1238.csv',\n",
       " 'Namakura_nama1268b.csv',\n",
       " 'Woleaian_wole1240.csv',\n",
       " 'Dondo_dond1249.csv',\n",
       " 'Nengone_neng1238.csv',\n",
       " 'Punu_punu1239.csv',\n",
       " 'Kuot_kuot1243.csv',\n",
       " 'Buin_buin1247.csv',\n",
       " 'Ontong_Java_onto1237.csv',\n",
       " 'Nunamiut_nort2944.csv',\n",
       " 'Angaite_anga1316.csv',\n",
       " 'Kemtuik_kemt1242.csv',\n",
       " 'Futunans_east2447.csv',\n",
       " 'Iraya_iray1237.csv',\n",
       " 'Mblafe_mbla1238.csv',\n",
       " 'Godoberi_ghod1238.csv',\n",
       " 'Chamarro_cham1312.csv',\n",
       " 'Pipil_pipi1250.csv',\n",
       " 'Malgana_malg1242a.csv',\n",
       " 'Central_Tagbanwa_cent2090.csv',\n",
       " 'Kashmiri_kash1277.csv',\n",
       " 'Macushi_macu1259.csv',\n",
       " 'Haya_haya1250.csv',\n",
       " 'Zigula_zigu1242.csv',\n",
       " 'Bemba_bemb1257.csv',\n",
       " 'Komi_Zyrian_komi1268.csv',\n",
       " 'Mairasi_nucl1594.csv',\n",
       " 'Ekonda_Mongo_ekon1238.csv',\n",
       " 'Pama_(Paamanese)_paam1238.csv',\n",
       " 'Ilokano_ilok1237.csv',\n",
       " 'Tok_Pisin_tokp1240.csv',\n",
       " 'Tsonga_tson1249.csv',\n",
       " 'Modern_Welsh_wels1247.csv',\n",
       " 'Sa_a_saaa1240.csv',\n",
       " 'Dakaka_daka1243.csv',\n",
       " 'Zinza_zinz1238.csv',\n",
       " 'Nimboran_nucl1633.csv',\n",
       " 'Buru_(Indonesia)_buru1303.csv',\n",
       " 'Lipan_Apache_lipa1241.csv',\n",
       " 'Cocopa_coco1261.csv',\n",
       " 'Kawaiisu_kawa1283.csv',\n",
       " 'Kamano_kama1370.csv',\n",
       " 'Navajo_nava1243.csv',\n",
       " 'Tigak_tiga1245.csv',\n",
       " 'Achuar_achu1249.csv',\n",
       " 'Berik_beri1254.csv',\n",
       " 'Southwest_Tanna_sout2869.csv',\n",
       " 'Slovakian_slov1269.csv',\n",
       " 'Bwaidoga_bwai1243.csv',\n",
       " 'Maybrat_maib1239.csv',\n",
       " 'Korafe_kora1295.csv',\n",
       " 'Kankanaey_(Kankanai)_kank1243.csv',\n",
       " 'Lonwolwol_lonw1238.csv',\n",
       " 'Marra_mara1385.csv',\n",
       " 'Maranao_(Lanao_Moro)_mara1404.csv',\n",
       " 'Polish_poli1260.csv',\n",
       " 'Yir-Yoront_yiry1245.csv',\n",
       " 'Lamahalot_lama1277.csv',\n",
       " 'Bilibil_bilb1241.csv',\n",
       " 'Wangkangurru_wang1290.csv',\n",
       " 'Bungku_bung1269.csv',\n",
       " 'Colloquial_Malay_mala1479.csv',\n",
       " 'Tapirapé_tapi1254.csv',\n",
       " 'Dehu_dehu1237.csv',\n",
       " 'Wiwirano_wiwi1237.csv',\n",
       " 'Sirionó_siri1273.csv',\n",
       " 'Futuna-Aniwa_futu1245.csv',\n",
       " 'Wangkangurru_wang1290a.csv',\n",
       " 'Ampibabo_Lauje_ampi1237.csv',\n",
       " 'Belarusian_bela1254.csv',\n",
       " 'Kodava_koda1255.csv',\n",
       " 'Kemiju_(Jate)_keya1238.csv',\n",
       " 'Burmese_nucl1310.csv',\n",
       " 'Negerhollands_nege1244.csv',\n",
       " 'Maguindanao_(Magindonao_Moro)_magu1243.csv',\n",
       " 'Penrhyn_(Tongareva)_penr1237.csv',\n",
       " 'Dharumbal_dhar1248a.csv',\n",
       " 'Yalic_yali1257.csv',\n",
       " 'Sungwaloge_(Nalemba_Edward)_mari1426g.csv',\n",
       " 'Central_Melanau_cent2101.csv',\n",
       " 'Japanese_nucl1643.csv',\n",
       " 'Ayoreo_ayor1240.csv',\n",
       " 'Yadhaykenu_yadh1237.csv',\n",
       " 'Birhor_birh1242.csv',\n",
       " 'Balangao_bala1310.csv',\n",
       " 'Lebanese_Arabic_stan1323.csv',\n",
       " 'Old_Russian_oldr1238.csv',\n",
       " 'Mansi_mans1258.csv',\n",
       " 'Old_Church_Slavonic_chur1257.csv',\n",
       " 'Tolaki_tola1247.csv',\n",
       " 'Yabem_yabe1254.csv',\n",
       " 'Balinese_bali1278.csv',\n",
       " 'Lenakel_lena1238.csv',\n",
       " 'Yami_Tao__yami1254.csv',\n",
       " 'Iwam_iwam1256.csv',\n",
       " 'Pinji_pinj1243.csv',\n",
       " 'Merlav_merl1237.csv',\n",
       " 'Dalabon_ngal1292.csv',\n",
       " 'Kagulu_kagu1239.csv',\n",
       " 'Serbocroation_sout1528.csv',\n",
       " 'Warlpiri_warl1254.csv',\n",
       " 'Kayabí_kaya1329.csv',\n",
       " 'Duna_duna1248.csv',\n",
       " 'Highland_Puebla_Nahuatl_high1278.csv',\n",
       " 'Māori_maor1246.csv',\n",
       " 'Isnag_isna1241.csv',\n",
       " 'Nyulnyul_nyul1247.csv',\n",
       " 'West_Coast_Bajau_west2560.csv',\n",
       " 'Southern_Paiute_sout2969.csv',\n",
       " 'Sungwaloge_(Nalemba_Simeone_Tari)_mari1426f.csv',\n",
       " 'Hinuq_hinu1240.csv',\n",
       " 'Gupapuyngu_gupa1247.csv',\n",
       " 'Archi_arch1244.csv',\n",
       " 'Ngarinyman_ngar1235.csv',\n",
       " 'Middle_High_German_midd1343.csv',\n",
       " 'Ifugaw_(Ifugao)_ifug1247.csv',\n",
       " 'Southern_Ute_utee1244.csv',\n",
       " 'Standard_Spanish_stan1288.csv',\n",
       " 'Tausug_(Sulu_Moro)_taus1251.csv',\n",
       " 'Abui_abui1241.csv',\n",
       " 'Dogrib_dogr1252.csv',\n",
       " 'Karuwali_karr1236.csv',\n",
       " 'Dupaningan_Agat_dupa1235.csv',\n",
       " 'Tasiko_tasi1237.csv',\n",
       " 'Warnman_wanm1242.csv',\n",
       " 'Warumungu_waru1265.csv',\n",
       " 'Ket_kett1243.csv',\n",
       " 'Thayore_(Kuuk_Thaayorre)_thay1249.csv',\n",
       " 'Mbyá_Guaraní_mbya1239.csv',\n",
       " 'Mussau-Emira_muss1246.csv',\n",
       " 'Bahonsuai_baho1237.csv',\n",
       " 'Puinave_puin1248.csv',\n",
       " 'Carolinians_caro1242.csv',\n",
       " 'Hehe_hehe1240.csv',\n",
       " 'Southeastern_Tepehuano_sout2976.csv',\n",
       " 'Netsilik_nets1241.csv',\n",
       " 'Wulguru_wulg1239.csv',\n",
       " 'Pampanga_(Kampampangan)_pamp1243.csv',\n",
       " 'Southern_Coastal_Tsimshian_nucl1649.csv',\n",
       " 'Sungagage_mari1426i.csv',\n",
       " 'Macedonian_mace1250.csv',\n",
       " 'Suku_suku1259.csv',\n",
       " 'Foi_foii1241.csv',\n",
       " \"Ga'dang_gada1258.csv\",\n",
       " 'Rade_(Rhade)_rade1240.csv',\n",
       " 'Pauserna_paus1244.csv',\n",
       " 'Livonian_livv1244.csv',\n",
       " 'Maori_maor1246.csv',\n",
       " 'Mekeo_meke1243.csv',\n",
       " 'Tialo_(Tomini)_tomi1243.csv',\n",
       " 'Aghul_aghu1253.csv',\n",
       " 'Amis_amis1246.csv',\n",
       " 'Malayalam_mala1464.csv',\n",
       " 'Turung_turu1249.csv',\n",
       " 'Shasta_shas1239.csv',\n",
       " 'Dargwa_Chirag__chir1284.csv',\n",
       " 'Usurufa_usar1243.csv',\n",
       " 'Akkadian_akka1240.csv',\n",
       " 'WikMungkan_wikm1247.csv',\n",
       " 'Satawalese_sata1237.csv',\n",
       " 'Kwaio_kwai1243.csv',\n",
       " 'Suki_suki1245.csv',\n",
       " 'Lala_Bisa_lala1264.csv',\n",
       " 'Senbarei_unua1237.csv',\n",
       " 'Mekeo_(West)_meke1243b.csv',\n",
       " 'Tonga_Nyasa__tong1321.csv',\n",
       " 'Inanwatan_(Suabo)_inan1242.csv',\n",
       " 'Takuu_taku1257.csv',\n",
       " 'Kamba_kamb1297.csv',\n",
       " 'Lardil_lard1243.csv',\n",
       " 'Cayubaba_cayu1262.csv',\n",
       " 'Huastec_Nahuatl_huas1257.csv',\n",
       " 'Dene_Suliné_chip1261.csv',\n",
       " 'Tombulu_tomb1243.csv',\n",
       " 'Yansi_yans1239.csv',\n",
       " 'ASF_Auslan_aust1271.csv',\n",
       " 'Umbu-Ungu_umbu1258.csv',\n",
       " 'Rotumans_rotu1241.csv',\n",
       " 'Old_Aramaic_olda1245.csv',\n",
       " 'Kambera_kamb1299.csv',\n",
       " 'Warta_Thuntai_gunt1241.csv',\n",
       " 'Meyah_meya1236.csv',\n",
       " 'Bunun_bunu1267.csv',\n",
       " 'Yarluyandi_ngam1265.csv',\n",
       " 'Maklew_makl1246.csv',\n",
       " 'Gane_(Gimán)_gane1237.csv',\n",
       " 'Itneg_(Binongan)_bino1237.csv',\n",
       " 'Arabana_arab1267a.csv',\n",
       " 'Central_Cagayan_Agta_cent2084.csv',\n",
       " 'Sardinian_sard1257.csv',\n",
       " 'Meriam_meri1244.csv',\n",
       " 'Minangkabau_mina1268.csv',\n",
       " 'Mbuun_mpuo1241.csv',\n",
       " 'Gondi_gond1265.csv',\n",
       " 'Kodi_kodi1247.csv',\n",
       " 'Mekongga_meko1237.csv',\n",
       " 'Sungwaloge_(Tawet)_mari1426c.csv',\n",
       " 'Délįne_nort2942.csv',\n",
       " 'Larevat_lare1249.csv',\n",
       " 'Rejang_(Rejangese)_reja1240.csv',\n",
       " 'Sanapana_sana1298.csv',\n",
       " 'Xalangi_(Maevo_Vanuatu)_mari1426h.csv',\n",
       " 'Ratagnon_rata1245.csv',\n",
       " 'Frisian_fris1239.csv',\n",
       " 'San_Salvador_Kongo_sans1272.csv',\n",
       " 'Warrnambool_warr1257.csv',\n",
       " 'Galeia_A_gale1259.csv',\n",
       " 'Hausa_haus1257.csv',\n",
       " 'English_stan1293.csv',\n",
       " 'Soga_soga1242.csv',\n",
       " 'Tuyuca_tuyu1244.csv',\n",
       " 'Tikopia_tiko1237.csv',\n",
       " 'Galibi_Carib_gali1262.csv',\n",
       " 'Serbs_serb1264.csv',\n",
       " 'Moni_moni1261.csv',\n",
       " 'Hawaiians_hawa1245.csv',\n",
       " 'Avá_Canoeiro_avac1239.csv',\n",
       " 'Doutai_dout1240.csv',\n",
       " 'Maba_(Indonesia)_maba1278.csv',\n",
       " 'Cubeo_cube1242.csv',\n",
       " 'Dzonghka_Wang_wang1287.csv',\n",
       " 'Kiput_kipu1237.csv',\n",
       " 'Kiowa_Apache_kiow1264.csv',\n",
       " 'Pima_de_Yepáchic_chih1238.csv',\n",
       " 'Western_Pantar_lamm1241.csv',\n",
       " 'Chenchu_chen1255.csv',\n",
       " 'Nasioi_naas1242.csv',\n",
       " 'Bera_bera1259.csv',\n",
       " 'Adnyamathanha_adny1235.csv',\n",
       " 'Kaurna_kaur1267.csv',\n",
       " 'Pohnpeian_pohn1238a.csv',\n",
       " 'Atoni_(Uab_Meto)_uabm1237.csv',\n",
       " 'Pohnpeian_pohn1238.csv',\n",
       " 'Cocama_Cocamilla_coca1259.csv',\n",
       " 'Madurese_nucl1460.csv',\n",
       " 'Baure_baur1253.csv',\n",
       " 'Lamogai_lamo1244.csv',\n",
       " 'Chepang_chep1245.csv',\n",
       " 'Bacanese_Malay_(Bacan)_baca1243.csv',\n",
       " 'Palauan_pala1344.csv',\n",
       " 'Eastern_Pahari_Nepali__east1436.csv',\n",
       " 'Bats_Tsova_Tush__bats1242.csv',\n",
       " 'Sakata_saka1287.csv',\n",
       " 'Malua_Bay_malu1245.csv',\n",
       " 'Dobu_dobu1241.csv',\n",
       " 'Luangiua_(Ontong_Java)_onto1237.csv',\n",
       " 'Nehan_neha1247.csv',\n",
       " 'Lelepa_lele1267.csv',\n",
       " 'Nalik_(Madina)_nali1244b.csv',\n",
       " 'Banjar_banj1239.csv',\n",
       " 'East_Kewa_east2516.csv',\n",
       " 'Makonde_mako1251.csv',\n",
       " 'Tidore_(version_1)_tido1248.csv',\n",
       " 'Awa_imbo1238.csv',\n",
       " 'Paluai_balu1257.csv',\n",
       " 'Yugambal_(Yugambeh)_yuga1244.csv',\n",
       " 'Kuvi_kuvi1243.csv',\n",
       " 'Malgana_malg1242.csv',\n",
       " 'Mayo_mayo1264.csv',\n",
       " 'Setaman_Baktamin_seta1246.csv',\n",
       " 'Kiwaian_sout2949.csv',\n",
       " 'Atta_atta1244.csv',\n",
       " 'Mele-Fila_(Ifira-Mele)_mele1250.csv',\n",
       " 'Sion_sion1247.csv',\n",
       " 'Ignaciano_igna1246.csv',\n",
       " 'Oroko_orok1266.csv',\n",
       " 'Tokelau_toke1240a.csv',\n",
       " 'Sake_sake1247.csv',\n",
       " 'Sika_sika1262.csv',\n",
       " 'Albanian_Tosk__tosk1239.csv',\n",
       " 'Ibanag_iban1267.csv',\n",
       " 'Waffa_waff1241.csv',\n",
       " 'Yavitero_yavi1244.csv',\n",
       " 'Samoan_samo1305a.csv',\n",
       " 'Taumako_taum1237.csv',\n",
       " 'Pagu_pagu1249.csv',\n",
       " 'Huli_huli1244.csv',\n",
       " 'Raroians_tuam1242.csv',\n",
       " 'Hiw_hiww1237.csv',\n",
       " 'Kanum_kanu1280.csv',\n",
       " 'Phende_phen1239.csv',\n",
       " 'Yulparija_yulp1239.csv',\n",
       " 'Muruwari_muru1266.csv',\n",
       " 'Atchin_atch1238.csv',\n",
       " 'Sanskrit_sans1269.csv',\n",
       " 'Duungidjawu_duun1241.csv',\n",
       " 'Bamun_bamu1253.csv',\n",
       " 'Wogeo_woge1237.csv',\n",
       " 'Badimaya_badi1246.csv',\n",
       " 'Standard_Catalan_stan1289.csv',\n",
       " 'Muna_muna1247.csv',\n",
       " 'Rarotongan_(Cook_Islands_Maori)_raro1241.csv',\n",
       " 'Nsong_song1299.csv',\n",
       " 'Avar_avar1256.csv',\n",
       " 'Dzonghka_Sha_dzon1239.csv',\n",
       " 'Niue_niue1239.csv',\n",
       " 'Ngaanyatjarra_ngaa1240.csv',\n",
       " 'Fore_fore1270.csv',\n",
       " 'Payungu_bayu1240.csv',\n",
       " 'Trumai_trum1247.csv',\n",
       " 'Kunza_kunz1244.csv',\n",
       " 'Nakanai_naka1262.csv',\n",
       " 'Owa_(Santa_Ana)_owaa1237.csv',\n",
       " 'Ndumu_ndum1239.csv',\n",
       " 'Tajik_taji1245.csv',\n",
       " 'Ngaatjatjarra_ngaa1240.csv',\n",
       " 'Nhanta_nhan1238.csv',\n",
       " 'Riantana_rian1263.csv',\n",
       " 'South_Marquesan_sout2866.csv',\n",
       " 'Ketengban_kete1254.csv',\n",
       " 'Nepali_nepa1254.csv',\n",
       " 'Kalamang_kara1499.csv',\n",
       " 'Aniwa_aniw1237.csv',\n",
       " 'Bannoni_bann1247.csv',\n",
       " 'Nage_nage1237.csv',\n",
       " 'Jaru_jaru1254.csv',\n",
       " 'Tübatülabal_tuba1278.csv',\n",
       " 'Avaz_Khunzakh__kunz1243.csv',\n",
       " 'Awetí_awet1244.csv',\n",
       " 'Moronene_moro1287.csv',\n",
       " 'Bengali_beng1280.csv',\n",
       " 'Yaqui_yaqu1251.csv',\n",
       " 'Cha_palaa_chac1249.csv',\n",
       " 'Bit_bitt1240.csv',\n",
       " 'Swedish_swed1254.csv',\n",
       " 'Proto_Sogeram_soge1235.csv',\n",
       " 'Uripiv-Wala-Rano-Atchin_urip1239.csv',\n",
       " 'Udmurt_udmu1245.csv',\n",
       " 'Kapingamarangi_kapi1249a.csv',\n",
       " 'Dargwa_Itsari__itsa1239.csv',\n",
       " 'Central_Sama_cent2092.csv',\n",
       " 'Bardi_bard1254.csv',\n",
       " 'Yerukula_yeru1240.csv',\n",
       " 'Urdu_urdu1245.csv',\n",
       " 'Waimiri_Atroari_waim1253.csv',\n",
       " 'East_Kave_east2516.csv',\n",
       " 'Midob_mido1240.csv',\n",
       " 'Chamalal_Gigatli__giga1238.csv',\n",
       " 'Daakie_port1286.csv',\n",
       " 'Batak_Toba_bata1289.csv',\n",
       " 'Sula_Mangoli_mang1408.csv',\n",
       " 'Waorani_waor1240.csv',\n",
       " 'Bali_Congo__bali1274.csv',\n",
       " 'Sungwadia_mari1426a.csv',\n",
       " 'Avar_Batlux__batl1238.csv',\n",
       " 'Toba_toba1269.csv',\n",
       " 'Toqabaqita_toab1237.csv',\n",
       " 'Lamba_lamb1271.csv',\n",
       " 'Bahvalal_bagv1239.csv',\n",
       " 'Savosavo_savo1255.csv',\n",
       " 'Standard_German_stan1295.csv',\n",
       " 'Tümpisha_Shoshoni_pana1305.csv',\n",
       " 'Irish_iris1253.csv',\n",
       " 'Umpila_umpi1239.csv',\n",
       " 'Shona_shon1251.csv',\n",
       " 'South_Tuvaluan_(Vaitupu)_sout2865.csv',\n",
       " 'Mbere_mber1257.csv',\n",
       " 'Wappo_wapp1239.csv',\n",
       " 'Mundurukú_mund1330.csv',\n",
       " 'Matukar_matu1261.csv',\n",
       " 'Ossetian_osse1243.csv',\n",
       " 'Latin_lati1261a.csv',\n",
       " 'Kuku-Yalanji_kuku1273.csv',\n",
       " 'Jahai_(Jehai)_jeha1242.csv',\n",
       " 'KomiZyrian_komi1268.csv',\n",
       " 'Ibaloi_(Nabaloi)_ibal1244.csv',\n",
       " 'Wakaya_waga1260.csv',\n",
       " 'Akhvakh_Northern_Akhvakh__akhv1239.csv',\n",
       " 'Ende_(Papua_New_Guinea)_ende1235.csv',\n",
       " 'Sumbwa_sumb1240.csv',\n",
       " 'Yandruwandha_yand1253.csv',\n",
       " 'Kom_komc1235.csv',\n",
       " 'Panjabi_panj1256.csv',\n",
       " 'Blagar_blag1240.csv',\n",
       " 'Niueans_niue1239.csv',\n",
       " 'O_du_oduu1239.csv',\n",
       " 'Kikuyu_kiku1240.csv',\n",
       " 'Pitjantjatjara_pitj1243.csv',\n",
       " 'Ancient_Greek_anci1242.csv',\n",
       " 'Western_Armenian_homs1234.csv',\n",
       " 'Nyangumarta_nyan1301.csv',\n",
       " 'Digo_digo1243.csv',\n",
       " 'Diyari_dier1241.csv',\n",
       " 'Wari__wari1268.csv',\n",
       " 'Avar_Andalal__anda1281.csv',\n",
       " 'Southeast_Ambrym_sout2859.csv',\n",
       " 'Pokomo_poko1261.csv',\n",
       " 'Yakan_yaka1277.csv',\n",
       " 'Namakura_nama1268.csv',\n",
       " 'Kariyarra_kari1304.csv',\n",
       " 'Latvian_latv1249.csv',\n",
       " 'Bilua_bilu1245.csv',\n",
       " 'Baruya_baru1267.csv',\n",
       " 'Muduapa_(Vitu)_mudu1242.csv',\n",
       " 'Rotokas_roto1249.csv',\n",
       " 'Mali_mali1284.csv',\n",
       " 'Paici_paic1239.csv',\n",
       " 'Anuta_anut1237.csv',\n",
       " 'Cheke_Holo_chek1238.csv',\n",
       " 'Maca_maca1260.csv',\n",
       " 'Czech_czec1258.csv',\n",
       " 'Malapandaram_mala1468.csv',\n",
       " 'Dyirbal_dyir1250.csv',\n",
       " 'Balochi_balo1260.csv',\n",
       " 'Dzonghka_Lhop_dzon1239.csv',\n",
       " 'Inxokvari_inxo1238.csv',\n",
       " 'Kalinga_(Ahin-Kayapa_Kalanguya)_ahin1234.csv',\n",
       " 'Mongo_mong1338.csv',\n",
       " 'Xibe_xibe1242.csv',\n",
       " 'Giryama_giry1241.csv',\n",
       " 'Nen_nenn1238.csv',\n",
       " 'Hopi_hopi1249.csv',\n",
       " 'Lozi_lozi1239.csv',\n",
       " 'Bushoong_bush1247.csv',\n",
       " 'Gunya_guny1241.csv',\n",
       " 'Waropen_waro1242.csv',\n",
       " 'Sula_Fagudu_sula1245.csv',\n",
       " 'Tzeltal_tzel1254.csv',\n",
       " 'Ayiwo_ayiw1239.csv',\n",
       " 'Yele_(Yélî_Dnye)_yele1255.csv',\n",
       " 'Kung_juho1239.csv',\n",
       " 'Pitta_Pitta_pitt1247.csv',\n",
       " 'Murrinhpatha_murr1258.csv',\n",
       " 'KukuYalanji_kuku1273.csv',\n",
       " 'Dehong_deho1238.csv',\n",
       " 'Puluwatese_(Puluwat)_pulu1242.csv',\n",
       " 'Mekeo_(North-West)_meke1243a.csv',\n",
       " 'Luvale_luva1239.csv',\n",
       " 'Marathi_mara1378.csv',\n",
       " 'Sunwadia_mari1426.csv',\n",
       " 'Kwasio_kwas1243.csv',\n",
       " 'Marwari_India__marw1260.csv',\n",
       " 'Yawa_nucl1454.csv',\n",
       " 'Wangkajunga_wang1288.csv',\n",
       " 'Gui_(Gwi)_gwii1239.csv',\n",
       " 'Central_Aymara_cent2142.csv',\n",
       " 'Eastern_Armenian_east2283.csv',\n",
       " 'Lewo_lewo1242.csv',\n",
       " 'Sawi_sawi1257.csv',\n",
       " 'Big_Nambas_bign1238a.csv',\n",
       " 'Torete_tore1237.csv',\n",
       " 'Gününa_Küne_puel1244.csv',\n",
       " 'NorthSaami_nort2671.csv',\n",
       " 'Djambarrpuyngu_djam1256.csv',\n",
       " 'Teiwa_teiw1235.csv',\n",
       " 'Waru_waru1266.csv',\n",
       " 'Nafsan_sout2856.csv',\n",
       " 'Nguna_ngun1274.csv',\n",
       " 'Easter_Islanders_rapa1244.csv',\n",
       " 'Chamalal_cham1309.csv',\n",
       " 'Waia_waia1242.csv',\n",
       " 'Paiwan_paiw1248.csv',\n",
       " 'Miningir_(Lunga)_mini1251.csv',\n",
       " 'Chavacano_chav1241.csv',\n",
       " 'Komba_komb1273.csv',\n",
       " 'Javanese_java1254.csv',\n",
       " 'Yaka_CAR__yaka1272.csv',\n",
       " 'Kui_kuii1252.csv',\n",
       " 'Yanomámi_yano1262.csv',\n",
       " 'Sangu_Tanzania__sang1330.csv',\n",
       " 'Old_Norse_oldn1244.csv',\n",
       " 'Lake_Miwok_lake1258.csv',\n",
       " 'Roviana_rovi1238.csv',\n",
       " 'Yandruwandha_yand1253a.csv',\n",
       " 'Wolio_woli1241.csv',\n",
       " 'Landewe_land1259.csv',\n",
       " 'Veps_veps1250.csv',\n",
       " 'Lingala_ling1263.csv',\n",
       " 'Sundanese_sund1252.csv',\n",
       " 'Gela_gela1263.csv',\n",
       " 'Tuvalu_(Nanumea)_tuva1244.csv',\n",
       " 'Sango_sang1331.csv',\n",
       " 'Vili_vili1238.csv',\n",
       " 'Araweté_araw1273.csv',\n",
       " 'Yombe_yomb1244.csv',\n",
       " 'Motu_motu1246.csv',\n",
       " 'Wawonii_wawo1239.csv',\n",
       " \"Ida'an_idaa1241.csv\",\n",
       " 'Proto-Oceanic_ocea1241.csv',\n",
       " \"Niuafo'ou_niua1240.csv\",\n",
       " 'Whitesands_whit1269.csv',\n",
       " 'Shoshoni_shos1248.csv',\n",
       " 'Icelandic_icel1247.csv',\n",
       " 'Puyuma_puyu1239.csv',\n",
       " 'Tupí_tupi1274.csv',\n",
       " 'Komo_DRC__komo1260.csv',\n",
       " 'Nivacle_niva1238.csv',\n",
       " 'Western_Farsi_west2369.csv',\n",
       " 'Biri_biri1256.csv',\n",
       " 'Sougb_mani1235.csv',\n",
       " 'Northern_Paiute_nort2954.csv',\n",
       " 'Emerillon_emer1243.csv',\n",
       " 'Kayardild_kaya1318.csv',\n",
       " 'Tohono_O_odham_toho1245.csv',\n",
       " 'Kwoma_kwom1262.csv',\n",
       " 'Rakahanga-Manihiki_raka1237.csv',\n",
       " 'Hewa_hewa1241.csv',\n",
       " 'Limilngan_limi1242.csv',\n",
       " 'Wallisian_(East_Uvea)_wall1257.csv',\n",
       " 'Tokharian_B_tokh1243.csv',\n",
       " 'Bila_bila1255.csv',\n",
       " 'Gayo_gayo1244.csv',\n",
       " 'Marind_nucl1622.csv',\n",
       " 'Yao_yaoo1241.csv',\n",
       " 'Standard_English_stan1293.csv',\n",
       " 'Tikopia_tiko1237a.csv',\n",
       " 'Wangkumara_wong1246.csv',\n",
       " 'Miani_mian1254.csv',\n",
       " 'Tamambo_malo1243.csv',\n",
       " 'Tubar_tuba1279.csv',\n",
       " 'Assamese_assa1263.csv',\n",
       " 'Achinese_achi1257.csv',\n",
       " 'Ngulu_ngul1246.csv',\n",
       " 'Kombai_komb1274.csv',\n",
       " 'Prai_phai1238.csv',\n",
       " 'Portuguese_port1283.csv',\n",
       " 'Wiradjuri_wira1262.csv',\n",
       " 'Bindal_bind1236.csv',\n",
       " 'Kota_kota1274.csv',\n",
       " 'South_Efate_sout2856a.csv',\n",
       " 'Kriol_Roper_River_krio1252.csv',\n",
       " \"Neve'ei_vinm1237a.csv\",\n",
       " 'Maithili_mait1250.csv',\n",
       " 'Guugu_Yimidhirr_gugu1255.csv',\n",
       " 'Kala_Lagaw_Ya_kala1377.csv',\n",
       " 'North_Efate_(Nguna,_Nakanamanga)_nort2836.csv',\n",
       " 'Parakanã_para1312.csv',\n",
       " 'Watam_wata1253.csv',\n",
       " 'Mota_mota1237.csv',\n",
       " 'Old_Javanese_(Kawi)_kawi1241.csv',\n",
       " 'Rahambuu_raha1237.csv',\n",
       " 'Tadyawan_tady1237.csv',\n",
       " 'Sangtam_Naga_sang1321.csv',\n",
       " 'Umiray_Dumaget_Agta_umir1236.csv',\n",
       " 'Yindjibarndi_yind1247.csv',\n",
       " 'Rutul_shin1265.csv',\n",
       " 'Tanala_tana1285.csv',\n",
       " 'Guarayu_guar1292.csv',\n",
       " 'Adang_adan1251.csv',\n",
       " 'Margany_marg1253.csv',\n",
       " 'Yugambeh_yugu1249.csv',\n",
       " 'Nevome_pima1248b.csv',\n",
       " 'Hittite_hitt1242.csv',\n",
       " 'Taiap_taia1239.csv',\n",
       " 'Yalarnnga_yala1262a.csv',\n",
       " 'Bininj_Kun-wok_gunw1252.csv',\n",
       " 'Duma_duma1253.csv',\n",
       " 'Kaonde_kaon1241.csv',\n",
       " 'Nanggu_nang1262.csv',\n",
       " 'Kalam_kala1397.csv',\n",
       " 'Vao_vaoo1237.csv',\n",
       " 'Konda_(Western_Dani)_west2594.csv',\n",
       " 'Luxembourgish_luxe1241.csv',\n",
       " 'Kadai_kada1286.csv',\n",
       " 'Nese_nese1235.csv',\n",
       " 'German_stan1295.csv',\n",
       " 'Telugu_telu1262.csv',\n",
       " 'Eyak_eyak1241.csv',\n",
       " 'Rotinese_Termanu__term1237.csv',\n",
       " 'Hunzib_hunz1247.csv',\n",
       " 'Suzhou_suzh1234.csv',\n",
       " 'Ha_haaa1252.csv',\n",
       " 'Songoora_song1300.csv',\n",
       " 'Djinang_djin1253.csv',\n",
       " 'Karitiana_kari1311.csv',\n",
       " 'Aria_(Mouk-Aria)_mouk1240a.csv',\n",
       " 'Northwestern_Maidu_nort2951.csv',\n",
       " 'Yuki_yuki1243.csv',\n",
       " 'Routa_rout1237.csv',\n",
       " 'Kamayurá_kama1373.csv',\n",
       " 'Kulisusu_kuli1254.csv',\n",
       " 'Vures_vure1239.csv',\n",
       " 'Amanab_aman1265.csv',\n",
       " 'Bali_DRC__bali1275.csv',\n",
       " 'Klon_kelo1247.csv',\n",
       " 'Lubuagan_Kalinga_lubu1243.csv',\n",
       " 'Touo_touo1238.csv',\n",
       " 'Prakaa_prak1243.csv',\n",
       " 'Nama_nama1266.csv',\n",
       " 'Itbayat_ivat1242.csv',\n",
       " 'Western_Tawbuid_(Batangan)_west2559.csv',\n",
       " 'Bihari_biha1245.csv',\n",
       " 'Sangu_sang1333.csv',\n",
       " 'Kartujarra_kart1247.csv',\n",
       " 'Eastern_Yiddish_east2295.csv',\n",
       " 'Kilivila_kili1267.csv',\n",
       " 'Judeo_Tat_jude1256.csv',\n",
       " 'North_Northern_Paiute_nort1551.csv',\n",
       " 'Kaiwá_kaiw1246.csv',\n",
       " 'Tokelau_toke1240.csv',\n",
       " 'Ekari_ekar1243.csv',\n",
       " 'Thao_thao1240.csv',\n",
       " 'TundraNenets_nene1249.csv',\n",
       " 'Luba_Katanga_luba1250.csv',\n",
       " 'Pukapuka_puka1242.csv',\n",
       " 'Bafia_bafi1243.csv',\n",
       " 'Dhuwal_dhuw1249.csv',\n",
       " 'Magyar_hung1274.csv',\n",
       " 'Watut_watu1246.csv',\n",
       " 'Patani_pata1260.csv',\n",
       " 'Albanian_alba1267.csv',\n",
       " 'Munggava_(Rennell)_mung1271.csv',\n",
       " 'Jurúna_juru1256.csv',\n",
       " 'Tundra_Nenets_nene1249.csv',\n",
       " 'Bari_bari1297.csv',\n",
       " 'Batanga_bata1285.csv',\n",
       " 'Diyari_dier1241a.csv',\n",
       " 'Western_Shoshoni_west2622.csv',\n",
       " 'Emau_(Emao_Island)_emau1237.csv',\n",
       " 'Idi_nucl1597.csv',\n",
       " 'Lengua_leng1262.csv',\n",
       " 'Buhid_buhi1245.csv',\n",
       " 'Barok_(Karu)_baro1253.csv',\n",
       " 'Tongan_tong1325.csv',\n",
       " 'Tehuelche_tehu1242.csv',\n",
       " 'Kadar_kada1242.csv',\n",
       " 'East_Futuna_east2447.csv',\n",
       " 'Jicarilla_jica1244.csv',\n",
       " 'Mori_Bawah_mori1268.csv',\n",
       " 'Tiri-Mea_(Grand_Couli)_tiri1258.csv',\n",
       " 'Manam_mana1295.csv',\n",
       " 'Temi_temi1247.csv',\n",
       " 'Wuvulu_Aua_wuvu1239.csv',\n",
       " 'Wayuu_wayu1243.csv',\n",
       " 'Kodeoha_kode1237.csv',\n",
       " 'Fortsenal_(Kiai)_fort1240.csv',\n",
       " 'Muisca_Chibcha__chib1270.csv',\n",
       " 'Tswana_tswa1253.csv',\n",
       " 'Old_English_ca_450_1100__olde1238.csv',\n",
       " \"Ili'uun_iliu1237.csv\",\n",
       " 'Au_auuu1241.csv',\n",
       " 'Middle_English_midd1317.csv',\n",
       " 'Khalkha-Mongolian_mong1331.csv',\n",
       " 'Hunza_hunz1248.csv',\n",
       " 'Herero_here1253.csv',\n",
       " 'Copper_Inuit_copp1244.csv',\n",
       " 'Mahasu_Pahari_maha1287.csv',\n",
       " 'Zulu_zulu1248.csv',\n",
       " 'Bukat_buka1261.csv',\n",
       " 'Gurindji_guri1247.csv',\n",
       " 'Elamite_elam1244.csv',\n",
       " 'Kristang_(Malacca_Creole_Portugese)_mala1533.csv',\n",
       " 'Awiakay_awia1234.csv',\n",
       " 'Saaroa_saar1237.csv',\n",
       " \"I'saka_(Krisa)_kris1246.csv\",\n",
       " 'Mortlockese_mort1237.csv',\n",
       " 'Yalarnnga_yala1262.csv',\n",
       " 'Nahavaq_sout2857.csv',\n",
       " 'Hanunoo_hanu1241.csv',\n",
       " 'Alyawarr_alya1239.csv',\n",
       " \"Kuuku_Ya'u_kuuk1238.csv\",\n",
       " 'Nogai_noga1249.csv',\n",
       " 'Tsafiki_colo1249.csv',\n",
       " 'Hopi_S__hopi1249b.csv',\n",
       " 'Sungwadaga_mari1426b.csv',\n",
       " 'Ossetic_osse1245.csv',\n",
       " 'Wersing_wers1238.csv',\n",
       " 'Wiyot_wiyo1248.csv',\n",
       " 'Warungu_waru1264.csv',\n",
       " 'PintupiLuritja_pint1250.csv',\n",
       " 'Maskelynes_mask1242.csv',\n",
       " 'Mangaia_mang1402.csv',\n",
       " 'Ingush_ingu1240.csv',\n",
       " 'Tupinambá_tupi1273.csv',\n",
       " 'Mudburra_mudb1240.csv',\n",
       " 'Wapishana_wapi1253.csv',\n",
       " 'Suundi_suun1239.csv',\n",
       " 'Urak_Lawoi_urak1238.csv',\n",
       " 'Selkup_selk1253.csv',\n",
       " 'Yamdena_yamd1240.csv',\n",
       " 'Djinang_djin1253a.csv',\n",
       " 'Jamaican_Creole_jama1262.csv',\n",
       " 'Kuanua_kuan1248.csv',\n",
       " 'Tetela_tete1250.csv',\n",
       " 'Saterfriesisch_sate1242.csv',\n",
       " 'Sonsorol_sons1242.csv',\n",
       " 'Itonama_iton1250.csv',\n",
       " 'Talibabu_tali1262.csv',\n",
       " 'Mwotlap_motl1237.csv',\n",
       " 'Kélé_kele1257.csv',\n",
       " 'Movima_movi1243.csv',\n",
       " 'Yale_kosa1249.csv',\n",
       " 'Cornish_corn1251.csv',\n",
       " 'Pashto_pash1269.csv',\n",
       " 'Fijian_fiji1243.csv',\n",
       " 'Yuracare_yura1255.csv',\n",
       " 'MeadowMari_gras1239.csv',\n",
       " 'Kilmeri_kilm1241.csv',\n",
       " 'Budukh_budu1248.csv',\n",
       " 'Tulambatu_tula1253.csv',\n",
       " 'Western_Bukidnon_Manobo_west2555.csv',\n",
       " 'Italian_ital1282.csv',\n",
       " 'Cupeño_cupe1243.csv',\n",
       " 'Avava_(Niviar_Dialect)_katb1237b.csv',\n",
       " 'Buli_buli1256.csv',\n",
       " 'De_kwana_Maquiritari__maqu1238.csv',\n",
       " 'Oriya_oriy1255.csv',\n",
       " 'Yidiny_yidi1250.csv',\n",
       " 'Uradhi_(Atampaya)_atam1239.csv',\n",
       " 'Bario_Kelabit_bari1288.csv',\n",
       " 'Tajio_taji1246.csv',\n",
       " 'Ritharrngu_rita1239.csv',\n",
       " 'Meta_meta1238.csv',\n",
       " 'Kamang_kama1365.csv',\n",
       " 'Iau_iauu1242.csv',\n",
       " 'Koiari_gras1249.csv',\n",
       " 'Páez_paez1247.csv',\n",
       " 'Basque_west1508.csv',\n",
       " 'Wayampi_waya1270.csv',\n",
       " 'Ngiyambaa_wang1291.csv',\n",
       " 'Mocoví_moco1246.csv',\n",
       " 'Lalomerui_lalo1239.csv',\n",
       " 'Anambé_anam1249.csv',\n",
       " 'Erzya_erzy1239.csv',\n",
       " 'Sindhi_sind1272.csv',\n",
       " 'Chuukese_(Trukese)_chuu1238.csv',\n",
       " 'Gumbaynggir_kumb1268.csv',\n",
       " 'Kiwaian_kiwa1251.csv',\n",
       " 'Bende_bend1258.csv',\n",
       " 'Kumyk_kumy1244.csv',\n",
       " 'Iban_iban1264.csv',\n",
       " 'HillMari_west2392.csv',\n",
       " 'Tausug_taus1251a.csv',\n",
       " 'Breton_bret1244.csv',\n",
       " 'Chimariko_chim1301.csv',\n",
       " 'Anejom_anei1239.csv',\n",
       " 'Finnic_finn1318.csv',\n",
       " 'Old_Irish_oldi1245.csv',\n",
       " 'Lau_Fijian_laua1243.csv',\n",
       " 'Monumbo_nucl1458.csv',\n",
       " 'Kiraman_kira1248.csv',\n",
       " 'Ganggalida_gang1267.csv',\n",
       " 'Pumé_pume1238.csv',\n",
       " 'Cusco_Quechua_cusc1236.csv',\n",
       " 'Daribi_dadi1250.csv',\n",
       " 'Mafea_(Mavea)_mafe1237.csv',\n",
       " 'Tolowa_tolo1259.csv',\n",
       " 'Lauje_lauj1238.csv',\n",
       " 'Avava_katb1237a.csv',\n",
       " 'Wailaki_wail1244.csv',\n",
       " 'Araki_arak1252.csv',\n",
       " 'Kyaka_kyak1244.csv',\n",
       " 'Rangiora_(NW_Tuamotus)_tuam1242.csv',\n",
       " 'Mapudungun_mapu1245.csv',\n",
       " 'Mono_mono1275.csv',\n",
       " 'Mari_east2328.csv',\n",
       " 'Suzhou_shan1293.csv',\n",
       " 'Tucanoan_Bará_waim1255.csv',\n",
       " 'Tomadino_toma1248.csv',\n",
       " 'Umbundu_umbu1257.csv',\n",
       " 'Seri_seri1257.csv',\n",
       " 'Cruzeño_cruz1243.csv',\n",
       " 'Gusii_gusi1247.csv',\n",
       " 'Asera_aser1237.csv',\n",
       " 'Old_Rapa_(Rapa)_rapa1245.csv',\n",
       " 'Yucatec_Maya_yuca1254.csv',\n",
       " 'Erave_(South_Kewa)_erav1244.csv',\n",
       " 'Neme_neme1244.csv',\n",
       " 'SouthSaami_sout2674.csv',\n",
       " 'Tongarevans_penr1237.csv',\n",
       " 'Igbo_nucl1417.csv',\n",
       " 'Raga_(Hano_Thomas_Ennever)_hano1246b.csv',\n",
       " 'Hiligaynon_hili1240.csv',\n",
       " 'DeneTha_South_Slavey__sout2959.csv',\n",
       " 'Emae_(Mae)_emae1237.csv',\n",
       " 'Tangoa_(Movono)_tang1347.csv',\n",
       " 'Qawasquar_qawa1238.csv',\n",
       " 'Tabla_tabl1243.csv',\n",
       " 'Raga_(Hano)_hano1246.csv',\n",
       " 'Mangei_(Sobjo)_mang1407.csv',\n",
       " 'North_Tanna_nort2847.csv',\n",
       " 'Kazym_Berezover_Suryskarer_Khanty_khan1273.csv',\n",
       " 'Wajarri_waja1257.csv',\n",
       " 'Kogi_cogu1240.csv',\n",
       " 'Yidiny_yidi1250a.csv',\n",
       " 'Kerewe_kere1283.csv',\n",
       " 'Central_Kurdish_cent1972.csv',\n",
       " 'Tokharian_A_tokh1242.csv',\n",
       " 'Koroni_koro1311.csv',\n",
       " 'Big_Nambas_bign1238.csv',\n",
       " 'Lavatbura-lamusong_(Konobin)_lava1239.csv',\n",
       " 'East_Ambae_(Lolovoli)_east2443.csv',\n",
       " 'Warlmanpa_warl1255.csv',\n",
       " 'Iyojwa_ja_Chorote_iyoj1235.csv',\n",
       " 'Naman_litz1237.csv',\n",
       " 'Panare_enap1235.csv',\n",
       " 'Old_Welsh_oldw1239.csv',\n",
       " 'Estonian_esto1258.csv',\n",
       " 'Nungon_yaum1237.csv',\n",
       " 'Ura_urav1235.csv',\n",
       " 'West_Kewa_west2599.csv',\n",
       " 'Tsogo_tsog1243.csv',\n",
       " 'Gabrielino_tong1329.csv',\n",
       " 'Maragus_(Tape)_mara1399.csv',\n",
       " 'Weda_weda1240.csv',\n",
       " 'MartuWangka_mart1256.csv',\n",
       " 'Zabana_(Kia)_zaba1237.csv',\n",
       " 'Myene_myen1241.csv',\n",
       " 'Nalik_(Lukuramau)_nali1244.csv',\n",
       " 'Russian_russ1263.csv',\n",
       " 'Car_Nicobarese_carn1240.csv',\n",
       " 'Chipaya_chip1262.csv',\n",
       " 'Bandjalang_band1339.csv',\n",
       " 'Old_Prussian_prus1238.csv',\n",
       " 'Barabet_(Hano)_hano1246a.csv',\n",
       " 'Ding_ding1239.csv',\n",
       " 'Wallon_wall1255.csv',\n",
       " 'North_Azerbaijani_nort2697.csv',\n",
       " 'Bontok_bont1247.csv',\n",
       " 'Nganasan_ngan1291.csv',\n",
       " 'Paraguayan_Guaraní_para1311.csv',\n",
       " 'Masaaba_masa1299.csv',\n",
       " 'Yuwaalaraay_gami1243.csv',\n",
       " 'Yorta_Yorta_yort1237.csv',\n",
       " 'Manange_mana1288.csv',\n",
       " 'Boano_(Sulawesi)_boan1243.csv',\n",
       " 'Suruí_suru1262.csv',\n",
       " 'Yamana_yama1264.csv',\n",
       " 'Kumaoni_kuma1273.csv',\n",
       " 'Koya_koya1251.csv',\n",
       " 'Madak_(Konnos)_mada1284.csv',\n",
       " 'Ngarluma_ngar1287.csv',\n",
       " 'Nyamal_nyam1271.csv',\n",
       " 'Arizona_Yaqui_yaqu1251a.csv',\n",
       " 'Arabana_arab1267.csv',\n",
       " 'Ngadjumaya_ngad1258.csv',\n",
       " 'Yurok_yuro1248.csv',\n",
       " 'Karok_karo1304.csv',\n",
       " \"Riuk_Bekati'_(Dayak)_beka1241.csv\",\n",
       " \"'Are'are_area1240.csv\",\n",
       " 'Luba_Lulua_luba1249.csv',\n",
       " 'Tidore_tido1249.csv',\n",
       " 'Northern_Tepehuan_nort2959.csv',\n",
       " 'Fefe_fefe1239.csv',\n",
       " 'Sateré_Mawé_sate1243.csv',\n",
       " \"Tokotu'a_(Kabaena)_kaba1285.csv\",\n",
       " 'Budza_budz1238.csv',\n",
       " 'Eudeve_eude1234.csv',\n",
       " 'Sarangani_Blaan_sara1326.csv',\n",
       " 'Duala_dual1243.csv',\n",
       " 'Turkish_nucl1301.csv',\n",
       " 'Kunjen_kunj1248.csv',\n",
       " 'Pilagá_pila1245.csv',\n",
       " 'Biak_biak1248.csv',\n",
       " 'Mokpwe_mokp1239.csv',\n",
       " 'Tarahumara_cent2131.csv',\n",
       " 'Alamblak_alam1246.csv',\n",
       " 'Northeastern_Maidu_nort2952.csv',\n",
       " 'Cotabato_Manobo_cota1241.csv',\n",
       " 'Russian_russ1263a.csv',\n",
       " 'Guajá_guaj1256.csv',\n",
       " 'Negwa_(Yagwoia)_yagw1240.csv',\n",
       " 'Seke_(Ske)_seke1241.csv',\n",
       " 'Kukatja_kuka1246.csv',\n",
       " 'Vaekau-Taumako_pile1238.csv',\n",
       " 'Tonga_(Tonga_Islands)_tong1325.csv',\n",
       " 'Rundi_rund1242.csv',\n",
       " 'Wai_Wai_waiw1244.csv',\n",
       " 'Colorado_Ute_utee1244a.csv',\n",
       " 'Tagalog_taga1270.csv',\n",
       " 'Merei_mere1242.csv',\n",
       " 'ForestEnets_fore1265.csv',\n",
       " 'Wichí_wich1264.csv',\n",
       " 'Opata_opat1246.csv',\n",
       " 'Tukang_Besi_South_tuka1249.csv',\n",
       " 'Bezhta_bezh1248.csv',\n",
       " 'Sungwaloge_(Tauta)_mari1426e.csv',\n",
       " 'Lisu_lisu1250d.csv',\n",
       " 'Djapu_dhuw1249.csv',\n",
       " 'Lametin_mere1242.csv',\n",
       " 'Sie_(Sye)_siee1239.csv',\n",
       " 'Dutch_dutc1256.csv',\n",
       " 'Lahnda_lahn1241.csv',\n",
       " 'Huichol_huic1243.csv',\n",
       " 'Ingrian_ingr1248.csv',\n",
       " 'Eipo_eipo1242.csv',\n",
       " 'Paliyan_pali1274.csv',\n",
       " 'Sherpa_sher1255.csv',\n",
       " 'Isirawa_isir1237.csv',\n",
       " 'Langi_lang1320.csv',\n",
       " 'Hupa_hupa1239.csv',\n",
       " 'White_Mesa_Ute_utee1244b.csv',\n",
       " 'Yaka_Pelende_Lonzo_yaka1269.csv',\n",
       " 'Latin_lati1261.csv',\n",
       " 'Dampelas_damp1237.csv',\n",
       " 'NorthMuyu_nort2916.csv',\n",
       " 'Pemon_pemo1248.csv',\n",
       " 'Mono-Alu_mono1273.csv',\n",
       " 'Hoti_Yuwana__yuwa1244.csv',\n",
       " 'Waurá_waur1244.csv',\n",
       " 'Kitanemuk_serr1255b.csv',\n",
       " 'Wambaya_wamb1258.csv',\n",
       " 'Dari_dari1249.csv',\n",
       " 'Meru_meru1245.csv',\n",
       " 'Tubuai_tubu1240.csv',\n",
       " 'Cora_elna1235.csv',\n",
       " 'Northern_Haida_nort2938.csv',\n",
       " 'Ifaluk_Nuclear_Woleaian__nucl1479.csv',\n",
       " 'MokshaMordvin_moks1248.csv',\n",
       " 'Mashco_Piro_mash1270.csv',\n",
       " 'Kurukh_kuru1302.csv',\n",
       " 'Klon_klon1234.csv',\n",
       " 'Kapingamarangi_kapi1249.csv',\n",
       " 'Sikaiana_sika1261.csv',\n",
       " 'Lithuanian_lith1251.csv',\n",
       " 'Northern_Kurdish_nort2641.csv',\n",
       " 'Venda_vend1245.csv',\n",
       " 'Boers_afri1274.csv',\n",
       " 'Serrano_serr1255.csv',\n",
       " 'Epena_epen1239.csv',\n",
       " 'Ulawa_ulaw1237.csv',\n",
       " 'Wipi_wipi1242.csv',\n",
       " 'Telefol_tele1256.csv',\n",
       " 'Rennell_Islanders_renn1242.csv',\n",
       " 'Guugu_Yimidhirr_gugu1255a.csv',\n",
       " 'Slovenian_slov1268.csv',\n",
       " 'Toda_toda1252.csv',\n",
       " 'Magam_maga1262.csv',\n",
       " 'Tirax_(Mae)_maee1241.csv',\n",
       " 'Cofan_cofa1242.csv',\n",
       " 'ErzyaMordvin_erzy1239.csv',\n",
       " 'Luburua_(Kara)_lubu1242.csv',\n",
       " 'Idi_idii1243.csv',\n",
       " 'Nagovisi_sibe1248.csv',\n",
       " 'Atayal_atay1247.csv',\n",
       " \"Brooke's_Point_Palawano_broo1239.csv\",\n",
       " 'Selk_nam_onaa1245.csv',\n",
       " 'Loloda-Laba_(Loda)_lolo1264.csv',\n",
       " 'Guarijio_huar1255.csv',\n",
       " 'Ngarla_ngar1286.csv',\n",
       " 'Jingulu_djin1251.csv',\n",
       " 'Southern_Tepehuan_sout2975.csv',\n",
       " 'Shi_shii1238.csv',\n",
       " 'Tungag_tung1290.csv',\n",
       " 'Comanche_coma1245.csv',\n",
       " 'Cebuano_cebu1242.csv',\n",
       " 'Mala_mala1294.csv',\n",
       " 'Alangan_alan1249.csv',\n",
       " 'Tamil_tami1289.csv',\n",
       " 'Kwamera_kwam1252.csv',\n",
       " 'Konawe_kona1243.csv',\n",
       " 'Port_Sandwich_port1285.csv',\n",
       " 'Gothic_goth1244.csv',\n",
       " \"Neve'ei_vinm1237.csv\",\n",
       " 'Northern_Gondi_nort2702.csv',\n",
       " 'Kalkatungu_kalk1246.csv',\n",
       " 'Aché_ache1246.csv',\n",
       " 'Mungaka_mung1266.csv',\n",
       " \"Ma'anyan_maan1238.csv\",\n",
       " 'Luiseńo_luis1253.csv',\n",
       " 'Northern_Ojibwa_nort2961.csv',\n",
       " 'Nyawaygi_nyaw1247.csv',\n",
       " 'Modern_Greek_mode1248.csv',\n",
       " 'Kashaya_kash1280.csv',\n",
       " \"Vera'a_vera1241.csv\",\n",
       " 'Karajarri_kara1476.csv',\n",
       " 'Bierebo_bier1244.csv',\n",
       " 'Mekeo_(East)_meke1243d.csv',\n",
       " 'Zuni_zuni1245.csv',\n",
       " 'Central_Subanen_(Subanung)_cent2089.csv',\n",
       " 'Mori_Atas_mori1269.csv',\n",
       " 'Shipibo_ship1254.csv',\n",
       " 'Kazakh_kaza1248.csv',\n",
       " 'Kankanay_nort2877.csv',\n",
       " 'Ngarrindjeri_narr1259.csv',\n",
       " 'Vlax_Romani_vlax1238.csv',\n",
       " 'Bulgarian_bulg1262.csv',\n",
       " 'Mangarevans_mang1401.csv',\n",
       " 'Sinhala_sinh1246.csv',\n",
       " 'Manggarai_mang1405.csv',\n",
       " 'Pirriya_pirr1240.csv',\n",
       " 'Keyagana_(Jate)_keya1238.csv',\n",
       " 'Danish_dani1285.csv',\n",
       " 'Chokwe_chok1245.csv',\n",
       " 'Hungarian_hung1274.csv',\n",
       " 'Proto_Tupi_Guarani_tupi1276.csv',\n",
       " 'Tanampedagi_Taje_taje1237b.csv',\n",
       " 'Wathwurrung_wath1238.csv',\n",
       " 'Mungiki_(Bellona)_mung1270.csv',\n",
       " 'Marshallese_mars1254.csv',\n",
       " 'Totoli_toto1304.csv',\n",
       " 'Amharic_amha1245.csv',\n",
       " 'Chiriguano_east2555.csv',\n",
       " 'Hindi_hind1269.csv',\n",
       " ...]"
      ]
     },
     "execution_count": 96,
     "metadata": {},
     "output_type": "execute_result"
    }
   ],
   "source": [
    "all_kb_files"
   ]
  },
  {
   "cell_type": "markdown",
   "id": "1508a7a7",
   "metadata": {},
   "source": [
    "Using one of these filenames, we can extract the kin terminology from that file and populate a dictionary with it. We're only interested in two columns from the Kinbank data: `parameter`, which contains a short code indicating a **kin type**, and `word`, which contains the **kin term** associated with that kin type. An example of a row in the English data would be `mMeB, uncle`, where `mMeB` means 'male speaker's mother's older brother', and `uncle` is the term associated with that person."
   ]
  },
  {
   "cell_type": "code",
   "execution_count": 69,
   "id": "4d98021d",
   "metadata": {},
   "outputs": [],
   "source": [
    "def get_kin_terms(filepath: str) -> dict:\n",
    "    ks = {}\n",
    "    with open(filepath, encoding='utf8') as f:\n",
    "        csv_reader = csv.DictReader(f)\n",
    "        next(csv_reader) # to skip the header row\n",
    "        for line in csv_reader:\n",
    "            kin_type = line['parameter']\n",
    "            kin_term = line['word']\n",
    "            kin_term = kin_term.split(',')[0]\n",
    "            if '(' in kin_term:\n",
    "                kin_term = kin_term.split('(')[0][:-1]\n",
    "            ks[kin_type] = kin_term\n",
    "    return ks"
   ]
  },
  {
   "cell_type": "markdown",
   "id": "fc4a2019",
   "metadata": {},
   "source": [
    "### 2. Condense the system down\n",
    "\n",
    "We're interested in the mutual information between the kin terms in Generation 0 (Ego's generaiton) and Generation +1 (Ego's parents' generation).\n",
    "\n",
    "We want create a data structure that pairs up parent types with the corresponding child types. This is because we're interested in whether kinship systems maintain patterns of terminological distinctions and mergers across these two generations, so we will need to know which parent terms 'go with' which child terms.\n",
    "\n",
    "In `kintypes`, you will find a list of pairs of kin types, where the first element in the pair is a parent type, and the second is their child; e.g. mMeB and mMeBD (mother's elder brother and mother's elder brother's daughter). \n",
    "\n",
    "`get_pairs()` takes a kinship system as input, and outputs a list of tuples. The first element in the tuple is the parent term, the second is the corresponding child term. "
   ]
  },
  {
   "cell_type": "code",
   "execution_count": 130,
   "id": "a64747f6",
   "metadata": {},
   "outputs": [],
   "source": [
    "def get_pairs(ks: dict) -> list:\n",
    "    pairs_of_terms = []\n",
    "    parent_types = []\n",
    "\n",
    "    for pair in kt.ics_pairs:\n",
    "        if pair[0] in ks and pair[1] in ks:\n",
    "            pairs_of_terms.append((ks[pair[0]],ks[pair[1]]))\n",
    "            parent_types.append(pair[0])\n",
    "                \n",
    "    return pairs_of_terms"
   ]
  },
  {
   "cell_type": "markdown",
   "id": "640b7174",
   "metadata": {},
   "source": [
    "But for our calculations, we'll still need to know which terms belong to which generation. Luckily, we know that the 0th element in each tuple is from Ego's parents' generation and the 1st element is from Ego's generation. So we can happily split these tuples down the middle and populate two lists with the terms. `split_pairs()` takes a list of pairs and sorts it into terms that belong to Ego's generation and terms that belong to Ego's parents' generation."
   ]
  },
  {
   "cell_type": "code",
   "execution_count": 9,
   "id": "d001bb4d",
   "metadata": {},
   "outputs": [],
   "source": [
    "def split_pairs(pairs: list) -> list:\n",
    "    gn = []\n",
    "    gn1 = []\n",
    "    for pair in pairs:\n",
    "        gn.append(pair[1])\n",
    "        gn1.append(pair[0])\n",
    "    \n",
    "    return gn,gn1"
   ]
  },
  {
   "cell_type": "markdown",
   "id": "57fc975d",
   "metadata": {},
   "source": [
    "### 3. Calculate probabilities\n",
    "\n",
    "To calculate entropy, we need a probability distribution over the terms in one single generation of a kinship system. So let's start with a function that can calculate the probability of a particular term.\n",
    "\n",
    "Given a term and the full list of terms in the same generation, `probability()` counts how many times that term exists in `generation` and divides that by the total length of `generation`."
   ]
  },
  {
   "cell_type": "code",
   "execution_count": 10,
   "id": "7a04be21",
   "metadata": {},
   "outputs": [],
   "source": [
    "def probability(term: str, generation: list) -> float:\n",
    "    return generation.count(term)/len(generation)"
   ]
  },
  {
   "cell_type": "markdown",
   "id": "87de612e",
   "metadata": {},
   "source": [
    "When calculating mutual information, we also need the **conditional entropy** between the two generations of our system. To calculate this, we will need not only the probabilities of terms in a generation, but also the **joint probabilities** of every pair of terms across those two generations. In other words, we need to calculate the probabilities of our `get_pairs` output.\n",
    "\n",
    "Given two terms, `joint_probability()` counts how many pairs made of those two terms exist in `pairs`, then divides that by the total length of `pairs`."
   ]
  },
  {
   "cell_type": "code",
   "execution_count": 11,
   "id": "a6ec2ed7",
   "metadata": {},
   "outputs": [],
   "source": [
    "def joint_probability(term1: str, term2: str, pairs: list) -> float:\n",
    "    pair = (term1,term2)\n",
    "    return pairs.count(pair)/len(pairs)"
   ]
  },
  {
   "cell_type": "markdown",
   "id": "fed267dd",
   "metadata": {},
   "source": [
    "### 4. Calculating entropy and mutual information\n",
    "\n",
    "Entropy (in bits) is defined as \n",
    "\n",
    "$$\n",
    "H(X) = -\\sum_{x \\in X}p(x) log_2p(x)\n",
    "$$\n",
    "\n",
    "or, in English, it is the inverse sum over a distribution X of the probability of y * the log probability of y.\n",
    "\n",
    "Entropy is a measure of the average level of uncertainty about the possible outcomes of a variable.\n",
    "\n",
    "First, let's define a function `entropy()` that will iterate over a generation of the kinship system and output the entropy of that generation. \n",
    "\n",
    "Note: we only need one generation's entropy score to calculate mutual information - we make the arbitrary choice to calculate the entropy of Ego's parents' generation later in this notebook."
   ]
  },
  {
   "cell_type": "code",
   "execution_count": 12,
   "id": "f9cbfa2b",
   "metadata": {},
   "outputs": [],
   "source": [
    "def entropy(generation: list) -> list:\n",
    "    entropy = 0\n",
    "    for term in set(generation): # using a set as we want to count each unique term only once\n",
    "        p = probability(term,generation)\n",
    "        #print('entropy of',term,p*math.log(p))\n",
    "        entropy += p*math.log2(p)\n",
    "    return round(-entropy,5)"
   ]
  },
  {
   "cell_type": "markdown",
   "id": "6cf0561a",
   "metadata": {},
   "source": [
    "Conditional entropy of Y given X is defined as\n",
    "\n",
    "$$\n",
    "H(Y|X) = -\\sum_{x \\in X,y \\in Y}p(x,y) log_2 {p(x,y) \\over p(x)}\n",
    "$$\n",
    "\n",
    "or in English, the inverse sum over two distributions Y and X of the probability of each y * the log probability of each y given x.\n",
    "\n",
    "Conditional entropy is the amount of information needed to describe the outcome of a random variable Y given that we already know the value of another random variable X.\n",
    "\n",
    "To calculate it, we need the joint probability of each pair (given by `joint_probability()`) and the probability of one member of that pair (given by `probability()`). We can then calculate the conditional probability of parent term given child term as the joint probability of those terms over the probability of the parent term.\n",
    "\n",
    "`conditional_entropy()` iterates over all pairs to output the conditional entropy of Ego's generation given Ego's parents' generation."
   ]
  },
  {
   "cell_type": "code",
   "execution_count": 13,
   "id": "661d794e",
   "metadata": {},
   "outputs": [],
   "source": [
    "def conditional_entropy(gn: list, pairs:list) -> float:\n",
    "    entropy = 0\n",
    "    for x,y in set(pairs): # x = parent, y = child\n",
    "        p_xy = joint_probability(x,y,pairs)\n",
    "        p_y = probability(y,gn)\n",
    "        if p_xy > 0 and p_y > 0:\n",
    "            #print('p(', x, '|', y,') = ', p_xy/p_y, 'p(y) = ', p_y)\n",
    "            entropy += p_xy * math.log2(p_xy/p_y)\n",
    "    return round(-entropy,5)"
   ]
  },
  {
   "cell_type": "markdown",
   "id": "725714bb",
   "metadata": {},
   "source": [
    "Finally, mutual information is defined as\n",
    "\n",
    "$$\n",
    "I(X;Y) \\equiv H(X) - H(X|Y)\n",
    "$$\n",
    "\n",
    "or in English, entropy of X minus the conditional entropy of X given Y.\n",
    "\n",
    "In this study, it is equal to the entropy of Ego's parents' generation minus the conditional entropy of Ego's parents' generation given Ego's generation. It tells us how much mutual dependence there is between these two generations; i.e. how much we can predict about one by observing the other."
   ]
  },
  {
   "cell_type": "code",
   "execution_count": 14,
   "id": "6e3a4b22",
   "metadata": {},
   "outputs": [],
   "source": [
    "def mutual_information(pairs: list):\n",
    "    gn,gn1 = split_pairs(pairs)\n",
    "    e = entropy(gn1)\n",
    "    ce = conditional_entropy(gn,pairs)\n",
    "    mi = e - ce\n",
    "    return round(mi,5)"
   ]
  },
  {
   "cell_type": "code",
   "execution_count": 15,
   "id": "6a0932b1-af8d-4365-942e-c0e37f312633",
   "metadata": {},
   "outputs": [],
   "source": [
    "# def mutual_information(e,ce):\n",
    "#     return round(e - ce, 5)"
   ]
  },
  {
   "cell_type": "markdown",
   "id": "8aa97164",
   "metadata": {},
   "source": [
    "### 5. Calculate MI for each language and save data\n",
    "\n",
    "With all of the above infrastructure, we can calculate the mutual information between G0 and G+1 for all the languages in Kinbank and save this data to a separate .csv file.\n",
    "\n",
    "First, a function that calculates the relevant data and stores it."
   ]
  },
  {
   "cell_type": "code",
   "execution_count": 16,
   "id": "0b67aa85",
   "metadata": {},
   "outputs": [],
   "source": [
    "def write_data(pairs,results):\n",
    "    gn,gn1 = split_pairs(pairs)\n",
    "    egn = entropy(gn)\n",
    "    egn1 = entropy(gn1)\n",
    "    ce = conditional_entropy(gn,pairs)\n",
    "    mi = mutual_information(pairs)\n",
    "    \n",
    "    results['mutual_information'] = mi\n",
    "    results['entropy_gn'] = egn\n",
    "    results['entropy_gn1'] = egn1\n",
    "    results['conditional_entropy'] = ce\n",
    "    results['variation_gn'] = len(set(gn))\n",
    "    results['variation_gn1'] = len(set(gn1))\n",
    "    results['number_of_pairs'] = len(set(pairs))\n",
    "    \n",
    "    return results"
   ]
  },
  {
   "cell_type": "code",
   "execution_count": 17,
   "id": "fb334db8",
   "metadata": {},
   "outputs": [],
   "source": [
    "families = ['Afro-Asiatic','Algic','Arawakan','Atlantic-Congo','Austroasiatic','Austronesian','Cariban','Dravidian','Indo-European',\n",
    "            'Nakh-Daghestanian','Nuclear Trans New Guinea', 'Other','Pama-Nyungan','Pano-Tacanan','Salishan','Sino-Tibetan',\n",
    "            'Tai-Kadai','Tupian','Turkic','Uralic','Uto-Aztecan']"
   ]
  },
  {
   "cell_type": "code",
   "execution_count": 18,
   "id": "3f441311",
   "metadata": {},
   "outputs": [],
   "source": [
    "def calculate_MI(families: list,filename: str):\n",
    "    df = []\n",
    "    codes = []\n",
    "    filepath = '../../kinbank-family/'\n",
    "    \n",
    "    for family in families:\n",
    "        all_files = get_kb_files(filepath + family)\n",
    "        \n",
    "        for file in all_files:\n",
    "            print(file)\n",
    "            match = re.search(\"[a-z]{4}[0-9]{4}[a-z]?\\\\.\", file)\n",
    "            code = match.group()\n",
    "            code = code[:len(code)-1]\n",
    "            language = file.split('_' + code)[0]\n",
    "            \n",
    "            if 'Morgan' in language:\n",
    "                match = re.search(\"Morgan[0-9]{4}\",language)\n",
    "                morgan = match.group()\n",
    "                language = language.split(morgan + '_')[1]\n",
    "\n",
    "            if code not in codes:\n",
    "                codes.append(code)\n",
    "\n",
    "                ks = get_kin_terms(filepath + family + '/' + file)\n",
    "\n",
    "                pairs = get_pairs(ks)\n",
    "                \n",
    "                # g0,g1 = split_ks(ks)\n",
    "                g0,g1 = split_pairs(pairs)\n",
    "\n",
    "                g0_relatives,g1_relatives = split_ks(ks)\n",
    "\n",
    "                if pairs: # if pairs is not empty\n",
    "\n",
    "                    results = {}\n",
    "                    results['language'] = language\n",
    "                    results['language_family'] = family\n",
    "                    results['code'] = code\n",
    "                    results['simulation_code'] = code + '_REAL'\n",
    "                    results['simulation'] = 'N'\n",
    "                    # results['mutual_information'] = entropy(list(g1.values())) - conditional_entropy(list(g0.values()),pairs)\n",
    "                    results['mutual_information'] = mutual_information(pairs)\n",
    "                    # results['entropy_gn'] = entropy(list(g0.values()))\n",
    "                    results['entropy_gn'] = entropy(g0)\n",
    "                    # results['entropy_gn1'] = entropy(list(g1.values()))\n",
    "                    results['entropy_gn1'] = entropy(g1)\n",
    "                    # results['conditional_entropy'] = conditional_entropy(list(g0.values()),pairs)\n",
    "                    results['conditional_entropy'] = conditional_entropy(g0,pairs)\n",
    "                    # results['variation_gn'] = len(set(g0.values()))\n",
    "                    results['variation_gn'] = len(g0_relatives)\n",
    "                    # results['variation_gn1'] = len(set(gn1.values()))\n",
    "                    results['variation_gn1'] = len(g1_relatives)\n",
    "                    results['number_of_pairs'] = len(set(pairs))\n",
    "\n",
    "                    df.append(results)\n",
    "        \n",
    "    pd.DataFrame(df).to_csv('../data/raw/' + filename + '.csv',index=False)\n",
    "    \n",
    "    return pd.DataFrame(df)"
   ]
  },
  {
   "cell_type": "code",
   "execution_count": 19,
   "id": "78d12a88",
   "metadata": {
    "scrolled": true
   },
   "outputs": [],
   "source": [
    "# calculate_MI(['Indo-European'],'test')"
   ]
  },
  {
   "cell_type": "code",
   "execution_count": 20,
   "id": "7f6d71bf",
   "metadata": {
    "scrolled": true
   },
   "outputs": [],
   "source": [
    "# calculate_MI(families,'kinbank_mi_FINAL')"
   ]
  },
  {
   "cell_type": "markdown",
   "id": "5622ea1b",
   "metadata": {},
   "source": [
    "## Simulating kinship systems\n",
    "\n",
    "To investigate whether kinship systems have higher mutual information than chance, we can build a random baseline for each language to serve as a point of comparison.\n",
    "\n",
    "To do this, we will take each language in our dataset, and randomly scramble which terms go with which relatives (within generations). This will randomise the syncretisms within the paradigm, breaking any predictable structure built by the internal co-selection process, while maintaining the amount of variation across the system overall.\n",
    " \n",
    "We take the following steps:\n",
    "\n",
    "1. Extract the kinship system of a language from kinbank.\n",
    "2. Filter the two generations we are interested in.\n",
    "3. Randomly reassign the kinship terms to new types.\n",
    "4. Repeat the process 1000 times for each language.\n",
    "\n",
    "We already have the infrastructure for the first two! `get_kin_terms()`,  `get_pairs()` and `split_pairs()` will do this for us. So let's skip to 3, and write a function that randomises which terms form pairs, assuming that we have already extracted the kinship system and filtered the relevant pairs.\n",
    "\n",
    "### 3. Randomly rearrange kin terms\n",
    "\n",
    "`kintypes.py` also contains a list of which kin types are in which generation, which we can use to split a kinship system by generation."
   ]
  },
  {
   "cell_type": "code",
   "execution_count": 21,
   "id": "ffdacb9e",
   "metadata": {},
   "outputs": [],
   "source": [
    "def split_ks(ks):\n",
    "    gn = {}\n",
    "    gn1 = {}\n",
    "    for entry in ks:\n",
    "        if entry in kt.generation_n:\n",
    "            gn[entry] = ks[entry]\n",
    "        elif entry in kt.generation_n1:\n",
    "            gn1[entry] = ks[entry]\n",
    "        else:\n",
    "            pass\n",
    "\n",
    "    return gn,gn1        "
   ]
  },
  {
   "cell_type": "markdown",
   "id": "1d7ef4b2",
   "metadata": {},
   "source": [
    "Once the kinship system is split, we can then shuffle one of the generations and recombine the system."
   ]
  },
  {
   "cell_type": "code",
   "execution_count": 22,
   "id": "d0aad70d",
   "metadata": {},
   "outputs": [],
   "source": [
    "def shuffle_ks(ks):\n",
    "    gn_terms = []\n",
    "    gn,gn1 = split_ks(ks)\n",
    "    \n",
    "    new_ks = {}\n",
    "    \n",
    "    for term in gn:\n",
    "        gn_terms.append(gn[term])\n",
    "\n",
    "    random.shuffle(gn_terms)\n",
    "    \n",
    "    for i in range(len(gn)):\n",
    "        # print(i)\n",
    "        key = list(gn.keys())[i]\n",
    "        new_ks[key] = gn_terms[i]\n",
    "        \n",
    "    print(entropy(list(new_ks.values())))\n",
    "\n",
    "    return {**new_ks,**gn1}"
   ]
  },
  {
   "cell_type": "code",
   "execution_count": 23,
   "id": "ea9da30d",
   "metadata": {},
   "outputs": [],
   "source": [
    "# shuffle_ks(test_ks)"
   ]
  },
  {
   "cell_type": "markdown",
   "id": "8490a175",
   "metadata": {},
   "source": [
    "If we split the kinship system, shuffle the G0 terms, and stick the system back together, then we can use `get_pairs()` just as we did for the real kinship systems to filter out the two generations we're interested in. From there, we can calculate MI for each simulation and save the data in a similar way as before."
   ]
  },
  {
   "cell_type": "code",
   "execution_count": 24,
   "id": "2677fd3b",
   "metadata": {},
   "outputs": [],
   "source": [
    "def simulate_ks(ks: dict) -> list:\n",
    "    simulation = shuffle_ks(ks)\n",
    "    shuffled_pairs = get_pairs(simulation)\n",
    "    return shuffled_pairs"
   ]
  },
  {
   "cell_type": "code",
   "execution_count": 25,
   "id": "8d9b1f53",
   "metadata": {},
   "outputs": [],
   "source": [
    "def simulate_MI(families: list, filename: str, times: int):\n",
    "    df = []\n",
    "    codes = []\n",
    "    filepath = '../../kinbank-family/'\n",
    "    \n",
    "    for family in tqdm(families):\n",
    "        all_files = get_kb_files(filepath + family)\n",
    "    \n",
    "        for file in all_files:\n",
    "            match = re.search(\"[a-z]{4}[0-9]{4}[a-z]?\\\\.\", file)\n",
    "            code = match.group()\n",
    "            code = code[:len(code)-1]\n",
    "            language = file.split('_' + code)[0]\n",
    "            \n",
    "            if 'Morgan' in language:\n",
    "                match = re.search(\"Morgan[0-9]{4}\",language)\n",
    "                morgan = match.group()\n",
    "                language = language.split(morgan + '_')[1]\n",
    "\n",
    "            if code not in codes:\n",
    "                codes.append(code)\n",
    "\n",
    "                ks = get_kin_terms(filepath + family + '/' + file)\n",
    "                true_pairs = get_pairs(ks)\n",
    "                \n",
    "                tg0,tg1 = split_ks(ks)\n",
    "                true_value = mutual_information(true_pairs)\n",
    "\n",
    "                for i in range(times):\n",
    "                    sim = shuffle_ks(ks)\n",
    "                    g0,g1 = split_ks(sim)\n",
    "                    pairs = get_pairs(sim)\n",
    "                    if pairs:\n",
    "                        \n",
    "                        results = {}\n",
    "                        results['language'] = language\n",
    "                        results['language_family'] = family\n",
    "                        results['code'] = code\n",
    "                        results['simulation_code'] = code + '_' + str(i)\n",
    "                        results['simulation'] = 'Y'\n",
    "                        \n",
    "                        # egn = entropy(list(g0.values()))\n",
    "                        # print(egn)\n",
    "                        # egn1 = entropy(list(g1.values()))\n",
    "                        # ce = conditional_entropy(list(g0.values()),pairs)\n",
    "                        # mi = egn1 - ce\n",
    "    \n",
    "                        results['mutual_information'] = mutual_information(pairs)\n",
    "                        results['true_value'] = true_value\n",
    "                        results['entropy_gn'] = entropy(split_pairs(pairs)[0])\n",
    "                        results['entropy_gn1'] = entropy(split_pairs(pairs)[1])\n",
    "                        results['conditional_entropy'] = conditional_entropy(split_pairs(pairs)[1],pairs)\n",
    "                        results['variation_gn'] = len(tg0)\n",
    "                        results['variation_gn1'] = len(tg1)\n",
    "                        results['number_of_pairs'] = len(set(pairs))\n",
    "#                         write_data(pairs,results)\n",
    "\n",
    "                        df.append(results)\n",
    "                \n",
    "    \n",
    "    pd.DataFrame(df).to_csv('../data/raw/' + filename + '.csv',index=False)\n",
    "    \n",
    "    return pd.DataFrame(df)"
   ]
  },
  {
   "cell_type": "code",
   "execution_count": 26,
   "id": "191841d4",
   "metadata": {
    "scrolled": true
   },
   "outputs": [],
   "source": [
    "# simulate_MI(['Indo-European'],'test',10)"
   ]
  },
  {
   "cell_type": "code",
   "execution_count": 27,
   "id": "cab099bf",
   "metadata": {},
   "outputs": [],
   "source": [
    "# simulate_MI(families,'simulated_mi_FINAL',1000)"
   ]
  },
  {
   "cell_type": "markdown",
   "id": "4b19f0d1",
   "metadata": {},
   "source": [
    "## Edit Distance\n",
    "\n",
    "In this section we calculate the normalised Levenshtein edit distance between pairs of kin terms in each language and generate a monte carlo sample of edit distance for each language so that we can calculate the z score (as well as the correlation between edit distances).\n",
    "\n",
    "To do this we need:\n",
    "* A function to calculate the levenshtein distance between two forms.\n",
    "* A function to calculate the distance between two meanings, which should have e.g. MB and MBD be closer than MZ and MBD.\n",
    "* A function to calculate the correlation between a table of form distances and a table of meaning distances.\n",
    "* A function to generate a monte carlo sample of correlations (ie the correlation of scrambled, simulated data).\n",
    "\n",
    "\n",
    "UPDATE: we are not just comparing all labels for all relatives, but rather all labels for all categories! This prevents languages being penalised for being compositional but not having all unique labels across aunts and uncles.\n",
    "\n",
    "So the first thing we need to do is work out which categories each language has, and who are the children of which category members."
   ]
  },
  {
   "cell_type": "code",
   "execution_count": 28,
   "id": "334915f8",
   "metadata": {},
   "outputs": [],
   "source": [
    "test_lang = random.choice(all_kb_files)\n",
    "\n",
    "test_ks = get_kin_terms('../../kinbank/' + test_lang)\n",
    "\n",
    "gn,gn1 = split_ks(test_ks)"
   ]
  },
  {
   "cell_type": "code",
   "execution_count": 29,
   "id": "f473f829",
   "metadata": {},
   "outputs": [],
   "source": [
    "def category_based_pairs(g1):\n",
    "    \n",
    "    # work out which g1 relatives share a term\n",
    "    \n",
    "    relatives = list(g1.keys())\n",
    "    terms = list(g1.values())\n",
    "\n",
    "    categories = []\n",
    "\n",
    "    for term in terms:\n",
    "        cat = []\n",
    "        indices = [index for index, element in enumerate(terms) if element == term]\n",
    "        for index in indices:\n",
    "            cat.append(relatives[index])\n",
    "        categories.append(cat)\n",
    "\n",
    "    categories = [list(i) for i in set(map(tuple, categories))]\n",
    "    \n",
    "    # work out which children should share a term on this basis\n",
    "    \n",
    "    child_cats = []\n",
    "\n",
    "    for cat in categories:\n",
    "        new_category = []\n",
    "        for individual in cat:\n",
    "            for pair in kt.ics_pairs:\n",
    "                if pair[0] == individual:\n",
    "                    new_category.append(pair[1])\n",
    "        child_cats.append(new_category)\n",
    "        \n",
    "    # and make a new list of parent-child pairs that should have equal semantic distance\n",
    "    \n",
    "    new_pairs = []\n",
    "    \n",
    "    for i in range(len(categories)):\n",
    "        new_pairs += list(itertools.product(categories[i], child_cats[i]))\n",
    "        \n",
    "    return new_pairs\n"
   ]
  },
  {
   "cell_type": "code",
   "execution_count": 30,
   "id": "39a4b94a",
   "metadata": {},
   "outputs": [],
   "source": [
    "# category_based_pairs(gn1)"
   ]
  },
  {
   "cell_type": "code",
   "execution_count": 32,
   "id": "1e4d1dd0",
   "metadata": {},
   "outputs": [],
   "source": [
    "from Levenshtein import distance as lvs_dist"
   ]
  },
  {
   "cell_type": "code",
   "execution_count": 33,
   "id": "2254040c",
   "metadata": {},
   "outputs": [],
   "source": [
    "def edit_distance(g0,g1):\n",
    "    edit_dists = []\n",
    "\n",
    "    for relative1 in g0:\n",
    "        term1 = g0[relative1]\n",
    "        for relative2 in g1:\n",
    "            data = {}\n",
    "            term2 = g1[relative2]\n",
    "            \n",
    "            if relative1 == relative2:\n",
    "                pass\n",
    "            \n",
    "            else:\n",
    "            \n",
    "                if len(term1) > 0 and len(term2) > 0:\n",
    "                    dist = lvs_dist(term1,term2)/len(max(term1,term2))\n",
    "                    edit_dists.append(dist)\n",
    "                else:\n",
    "                    pass\n",
    "\n",
    "    return edit_dists"
   ]
  },
  {
   "cell_type": "markdown",
   "id": "07dca5ab",
   "metadata": {},
   "source": [
    "To calculate semantic distance:"
   ]
  },
  {
   "cell_type": "code",
   "execution_count": 34,
   "id": "0f8cfc77",
   "metadata": {},
   "outputs": [],
   "source": [
    "def semantic_distance(g0,g1): # (df,ks,pairs):\n",
    "    sem_distances = []\n",
    "    \n",
    "    pairs = category_based_pairs(g1)\n",
    "\n",
    "    for relative1 in g0:\n",
    "        for relative2 in g1:\n",
    "            \n",
    "            if relative1 == relative2:\n",
    "                pass\n",
    "            \n",
    "            else:\n",
    "            \n",
    "                if len(g0[relative1]) > 0 and len(g1[relative2]) > 0:\n",
    "\n",
    "                    if (relative1,relative2) in pairs or (relative2,relative1) in pairs:\n",
    "                        distance = 1\n",
    "                        sem_distances.append(distance)\n",
    "\n",
    "                    else:\n",
    "                        distance = 2\n",
    "                        sem_distances.append(distance)\n",
    "                        \n",
    "#     df['semantic_distance'] = sem_distances\n",
    "#     \n",
    "#     return df\n",
    "    return sem_distances\n"
   ]
  },
  {
   "cell_type": "code",
   "execution_count": 35,
   "id": "2d8c4e02",
   "metadata": {},
   "outputs": [],
   "source": [
    "# semantic_distance(gn,gn1)"
   ]
  },
  {
   "cell_type": "markdown",
   "id": "1fc0d94d",
   "metadata": {},
   "source": [
    "The above will get us a meaning distance measure where if you are the child of a person, your meaning distance will be 1, and if you are not, your distance will be 2.\n",
    "\n",
    "This captures the kind of compositionality in meaning we're interested in (e.g. that children of a person will have a similar form to that person) but not all kinds of kinship compositionality e.g. the Swedish situation.\n",
    "\n",
    "Might have to do something more complex with features, e.g.\n",
    "male vs female\n",
    "mother side vs father side\n",
    "young vs old\n",
    "child-of vs not child-of\n",
    "\n",
    "Anyway, for now we can calculate the correlation between our edit distance and our semantic distance with scipy."
   ]
  },
  {
   "cell_type": "markdown",
   "id": "bfa32731",
   "metadata": {},
   "source": [
    "But to get a z-score, we can just reuse our shuffling infrastructure from the original simulation (repeated here)."
   ]
  },
  {
   "cell_type": "code",
   "execution_count": 36,
   "id": "cf728cb6",
   "metadata": {},
   "outputs": [],
   "source": [
    "def shuffle_ks(ks):\n",
    "    gn_terms = []\n",
    "    gn,gn1 = split_ks(ks)\n",
    "    for term in gn:\n",
    "        gn_terms.append(gn[term])\n",
    "\n",
    "    random.shuffle(gn_terms)\n",
    "    \n",
    "    for i in range(len(gn)):\n",
    "        # print(i)\n",
    "        key = list(gn.keys())[i]\n",
    "        ks[key] = gn_terms[i]\n",
    "\n",
    "    return ks"
   ]
  },
  {
   "cell_type": "code",
   "execution_count": 37,
   "id": "f3169b64",
   "metadata": {},
   "outputs": [],
   "source": [
    "# def shuffle_distance(distances):\n",
    "#     shuffled_edit_dists = distances.copy()\n",
    "#     random.shuffle(shuffled_edit_dists)\n",
    "#     return shuffled_edit_dists"
   ]
  },
  {
   "cell_type": "markdown",
   "id": "34df88d4",
   "metadata": {},
   "source": [
    "And finally combine all of that into a single function that calculates the true correlation between edit distance and semantic distance for each language; simulates that language 1000 times and calculates the same correlation; and saves a z-score for each language.\n",
    "\n",
    "**EDIT: as of 25/06 we are no longer looking at semantic distance - instead, we are calculating the average edit distance across all parent-child pairs.**"
   ]
  },
  {
   "cell_type": "code",
   "execution_count": 38,
   "id": "0601234b",
   "metadata": {},
   "outputs": [],
   "source": [
    "def sample_distance(families,times,filename):\n",
    "    output_df = []\n",
    "    \n",
    "    codes = []\n",
    "    \n",
    "    for family in tqdm(families):\n",
    "        files = get_kb_files('../../kinbank-family/' + family)\n",
    "        for file in files:\n",
    "            \n",
    "            match = re.search('[a-z]{4}[0-9]{4}[a-z]?\\\\.', file)\n",
    "            code = match.group()\n",
    "            code = code.split('.')[0]\n",
    "            language = file.split('_' + code)[0]\n",
    "\n",
    "            if 'Morgan' in language:\n",
    "                match = re.search(\"Morgan[0-9]{4}\",language)\n",
    "                morgan = match.group()\n",
    "                language = language.split(morgan + '_')[1]\n",
    "                \n",
    "            data = {}\n",
    "\n",
    "            if code not in codes:\n",
    "                codes.append(code)\n",
    "\n",
    "                full_ks = get_kin_terms('../../kinbank/' + file)\n",
    "                gn,gn1 = split_ks(full_ks)\n",
    "#                 ks = {**gn,**gn1}\n",
    "                \n",
    "\n",
    "                edit = edit_distance(gn,gn1)\n",
    "                sem = semantic_distance(gn,gn1)\n",
    "        \n",
    "                if len(edit) > 2:\n",
    "                    true_corr = scipy.stats.pearsonr(np.array(edit),np.array(sem))[0]\n",
    "\n",
    "                    sample_correlations = []\n",
    "                    for i in range(times):\n",
    "                        sample = shuffle_ks(full_ks)\n",
    "                        sample_gn,sample_gn1 = split_ks(sample)\n",
    "                        sample_edit = edit_distance(sample_gn,sample_gn1)\n",
    "                        sample_sem = semantic_distance(sample_gn,sample_gn1)\n",
    "                        sample_corr = scipy.stats.pearsonr(np.array(sample_edit),np.array(sample_sem))[0]\n",
    "                        sample_correlations.append(sample_corr)\n",
    "\n",
    "#                     print(sample_correlations)\n",
    "                    mean = np.mean(sample_correlations)\n",
    "                    print(mean)\n",
    "                    sd = np.std(sample_correlations)\n",
    "                    print(sd)\n",
    "                    z = (true_corr - mean) / sd\n",
    "                    print(z)\n",
    "\n",
    "                    data['language'] = language\n",
    "                    data['family'] = family\n",
    "                    data['code'] = code\n",
    "                    data['correlation'] = true_corr\n",
    "                    data['mean'] = mean\n",
    "                    data['sd'] = sd\n",
    "                    data['z'] = z\n",
    "\n",
    "                    output_df.append(data)\n",
    "                \n",
    "    pd.DataFrame(output_df).to_csv('../data/raw/' + filename + '.csv',index=False)\n",
    "\n",
    "    return pd.DataFrame(output_df)\n",
    "                    "
   ]
  },
  {
   "cell_type": "code",
   "execution_count": 99,
   "id": "08200e7d",
   "metadata": {},
   "outputs": [],
   "source": [
    "def sample_distance(families,times,filename):\n",
    "    output_df = []\n",
    "    \n",
    "    codes = []\n",
    "        \n",
    "    for family in tqdm(families):\n",
    "        \n",
    "        files = get_kb_files('../../kinbank-family/' + family)\n",
    "        \n",
    "        for file in files:\n",
    "\n",
    "            print(file)\n",
    "                \n",
    "            match = re.search('[a-z]{4}[0-9]{4}[a-z]?\\\\.', file)\n",
    "            code = match.group()\n",
    "            code = code.split('.')[0]\n",
    "            language = file.split('_' + code)[0]\n",
    "\n",
    "            if 'Morgan' in language:\n",
    "                match = re.search(\"Morgan[0-9]{4}\",language)\n",
    "                morgan = match.group()\n",
    "                language = language.split(morgan + '_')[1]\n",
    "                                \n",
    "            data = {}\n",
    "\n",
    "            if code not in codes:\n",
    "                codes.append(code)\n",
    "\n",
    "                full_ks = get_kin_terms('../../kinbank/' + file)\n",
    "                pairs = get_pairs(full_ks)\n",
    "                \n",
    "                edit_distance = []\n",
    "                for pair in pairs:\n",
    "                    try:\n",
    "                        ed = lvs_dist(pair[0],pair[1]) / max(len(pair[0]),len(pair[1]))\n",
    "                        edit_distance.append(ed)\n",
    "                    except:\n",
    "                        continue\n",
    "                try:            \n",
    "                    true_mean = statistics.mean(edit_distance)\n",
    "                except:\n",
    "                    continue\n",
    "#                 print(true_mean)\n",
    "\n",
    "                sample_avgs = []\n",
    "                for i in tqdm(range(times)):\n",
    "                    sample = shuffle_ks(full_ks)\n",
    "                    sample_pairs = get_pairs(sample)\n",
    "                    distances = []\n",
    "                    for pair in sample_pairs:\n",
    "                        try:\n",
    "                            sample_ed = lvs_dist(pair[0],pair[1]) / max(len(pair[0]),len(pair[1]))\n",
    "                            distances.append(sample_ed)\n",
    "                        except:\n",
    "                            continue\n",
    "                    sample_avg = statistics.mean(distances)\n",
    "                    sample_avgs.append(sample_avg)\n",
    "\n",
    "#                 print(sample_avgs)\n",
    "\n",
    "# #                     print(sample_correlations)\n",
    "                sample_mean = statistics.mean(sample_avgs)\n",
    "#                 print(sample_mean)\n",
    "                sd = statistics.stdev(sample_avgs)\n",
    "#                 print(sd)\n",
    "                if true_mean == sample_mean:\n",
    "                    z = 0\n",
    "                else:\n",
    "                    z = (true_mean - sample_mean) / sd\n",
    "\n",
    "#                 print(z)\n",
    "\n",
    "                data['language'] = language\n",
    "                data['family'] = family\n",
    "                data['code'] = code\n",
    "                data['average_edit_distance'] = true_mean\n",
    "                data['sample_mean'] = sample_mean\n",
    "                data['sd'] = sd\n",
    "                data['z'] = -z\n",
    "\n",
    "                output_df.append(data)\n",
    "                \n",
    "    pd.DataFrame(output_df).to_csv('../data/raw/' + filename + '.csv',index=False)\n",
    "\n",
    "    return pd.DataFrame(output_df)"
   ]
  },
  {
   "cell_type": "code",
   "execution_count": 98,
   "id": "5d0ce50d",
   "metadata": {},
   "outputs": [
    {
     "name": "stderr",
     "output_type": "stream",
     "text": [
      "  0%|                                                     | 0/1 [00:00<?, ?it/s]"
     ]
    },
    {
     "name": "stdout",
     "output_type": "stream",
     "text": [
      "Kashmiri_kash1277.csv\n",
      "Tok_Pisin_tokp1240.csv\n",
      "Modern_Welsh_wels1247.csv\n",
      "Slovakian_slov1269.csv\n",
      "Polish_poli1260.csv\n",
      "Belarusian_bela1254.csv\n",
      "Negerhollands_nege1244.csv\n",
      "Old_Russian_oldr1238.csv\n",
      "Old_Church_Slavonic_chur1257.csv\n",
      "Serbocroation_sout1528.csv\n",
      "Middle_High_German_midd1343.csv\n",
      "Standard_Spanish_stan1288.csv\n",
      "Macedonian_mace1250.csv\n",
      "Sardinian_sard1257.csv\n",
      "Frisian_fris1239.csv\n",
      "English_stan1293.csv\n",
      "Serbs_serb1264.csv\n",
      "Eastern_Pahari_Nepali__east1436.csv\n",
      "Albanian_Tosk__tosk1239.csv\n",
      "Sanskrit_sans1269.csv\n",
      "Standard_Catalan_stan1289.csv\n",
      "Tajik_taji1245.csv\n",
      "Nepali_nepa1254.csv\n",
      "Bengali_beng1280.csv\n",
      "Swedish_swed1254.csv\n",
      "Urdu_urdu1245.csv\n",
      "Standard_German_stan1295.csv\n",
      "Irish_iris1253.csv\n",
      "Ossetian_osse1243.csv\n",
      "Latin_lati1261a.csv\n",
      "Panjabi_panj1256.csv\n",
      "Ancient_Greek_anci1242.csv\n",
      "Western_Armenian_homs1234.csv\n",
      "Latvian_latv1249.csv\n",
      "Czech_czec1258.csv\n",
      "Balochi_balo1260.csv\n",
      "Marathi_mara1378.csv\n",
      "Marwari_India__marw1260.csv\n",
      "Eastern_Armenian_east2283.csv\n",
      "Chavacano_chav1241.csv\n",
      "Old_Norse_oldn1244.csv\n",
      "Icelandic_icel1247.csv\n",
      "Western_Farsi_west2369.csv\n",
      "Tokharian_B_tokh1243.csv\n",
      "Standard_English_stan1293.csv\n",
      "Assamese_assa1263.csv\n",
      "Portuguese_port1283.csv\n",
      "Kriol_Roper_River_krio1252.csv\n",
      "Maithili_mait1250.csv\n",
      "Hittite_hitt1242.csv\n",
      "Luxembourgish_luxe1241.csv\n",
      "German_stan1295.csv\n",
      "Bihari_biha1245.csv\n",
      "Eastern_Yiddish_east2295.csv\n",
      "Judeo_Tat_jude1256.csv\n",
      "Albanian_alba1267.csv\n",
      "Old_English_ca_450_1100__olde1238.csv\n",
      "Middle_English_midd1317.csv\n",
      "Mahasu_Pahari_maha1287.csv\n",
      "Kristang_(Malacca_Creole_Portugese)_mala1533.csv\n",
      "Ossetic_osse1245.csv\n",
      "Jamaican_Creole_jama1262.csv\n",
      "Saterfriesisch_sate1242.csv\n",
      "Cornish_corn1251.csv\n",
      "Pashto_pash1269.csv\n",
      "Italian_ital1282.csv\n",
      "Oriya_oriy1255.csv\n",
      "Sindhi_sind1272.csv\n",
      "Breton_bret1244.csv\n",
      "Old_Irish_oldi1245.csv\n",
      "Central_Kurdish_cent1972.csv\n",
      "Tokharian_A_tokh1242.csv\n",
      "Old_Welsh_oldw1239.csv\n",
      "Russian_russ1263.csv\n",
      "Old_Prussian_prus1238.csv\n",
      "Wallon_wall1255.csv\n",
      "Kumaoni_kuma1273.csv\n",
      "Russian_russ1263a.csv\n",
      "Dutch_dutc1256.csv\n",
      "Lahnda_lahn1241.csv\n",
      "Latin_lati1261.csv\n",
      "Dari_dari1249.csv\n",
      "Lithuanian_lith1251.csv\n",
      "Northern_Kurdish_nort2641.csv\n",
      "Boers_afri1274.csv\n",
      "Slovenian_slov1268.csv\n",
      "Gothic_goth1244.csv\n",
      "Modern_Greek_mode1248.csv\n",
      "Vlax_Romani_vlax1238.csv\n",
      "Bulgarian_bulg1262.csv\n",
      "Sinhala_sinh1246.csv\n",
      "Danish_dani1285.csv\n",
      "Hindi_hind1269.csv\n",
      "Ukrainian_ukra1253.csv\n",
      "Gujarati_guja1252.csv\n",
      "Western_Panjabi_west2386.csv\n",
      "Romanian_roma1327.csv\n",
      "Armenian_nucl1235.csv\n"
     ]
    },
    {
     "name": "stderr",
     "output_type": "stream",
     "text": [
      "100%|█████████████████████████████████████████████| 1/1 [00:03<00:00,  3.68s/it]"
     ]
    },
    {
     "name": "stdout",
     "output_type": "stream",
     "text": [
      "Standard_French_stan1290.csv\n",
      "Torres_Strait_Creole_(Broken)_torr1261.csv\n",
      "Norwegian_Bokmål_norw1259.csv\n",
      "Avestan_aves1237.csv\n",
      "Morgan1871_Hindi_hind1269.csv\n",
      "Morgan1871_Bengâli_beng1280.csv\n",
      "Morgan1871_Gujarati_guja1252.csv\n",
      "Morgan1871_Marâthî_mara1378.csv\n"
     ]
    },
    {
     "name": "stderr",
     "output_type": "stream",
     "text": [
      "\n"
     ]
    },
    {
     "data": {
      "text/html": [
       "<div>\n",
       "<style scoped>\n",
       "    .dataframe tbody tr th:only-of-type {\n",
       "        vertical-align: middle;\n",
       "    }\n",
       "\n",
       "    .dataframe tbody tr th {\n",
       "        vertical-align: top;\n",
       "    }\n",
       "\n",
       "    .dataframe thead th {\n",
       "        text-align: right;\n",
       "    }\n",
       "</style>\n",
       "<table border=\"1\" class=\"dataframe\">\n",
       "  <thead>\n",
       "    <tr style=\"text-align: right;\">\n",
       "      <th></th>\n",
       "      <th>language</th>\n",
       "      <th>family</th>\n",
       "      <th>code</th>\n",
       "      <th>average_edit_distance</th>\n",
       "      <th>sample_mean</th>\n",
       "      <th>sd</th>\n",
       "      <th>z</th>\n",
       "    </tr>\n",
       "  </thead>\n",
       "  <tbody>\n",
       "    <tr>\n",
       "      <th>0</th>\n",
       "      <td>Kashmiri</td>\n",
       "      <td>Indo-European</td>\n",
       "      <td>kash1277</td>\n",
       "      <td>0.795707</td>\n",
       "      <td>0.877404</td>\n",
       "      <td>0.012522</td>\n",
       "      <td>6.524140</td>\n",
       "    </tr>\n",
       "    <tr>\n",
       "      <th>1</th>\n",
       "      <td>Tok_Pisin</td>\n",
       "      <td>Indo-European</td>\n",
       "      <td>tokp1240</td>\n",
       "      <td>0.754451</td>\n",
       "      <td>0.808435</td>\n",
       "      <td>0.012747</td>\n",
       "      <td>4.235116</td>\n",
       "    </tr>\n",
       "    <tr>\n",
       "      <th>2</th>\n",
       "      <td>Modern_Welsh</td>\n",
       "      <td>Indo-European</td>\n",
       "      <td>wels1247</td>\n",
       "      <td>0.819048</td>\n",
       "      <td>0.879377</td>\n",
       "      <td>0.012096</td>\n",
       "      <td>4.987383</td>\n",
       "    </tr>\n",
       "    <tr>\n",
       "      <th>3</th>\n",
       "      <td>Slovakian</td>\n",
       "      <td>Indo-European</td>\n",
       "      <td>slov1269</td>\n",
       "      <td>0.800694</td>\n",
       "      <td>0.783566</td>\n",
       "      <td>0.013318</td>\n",
       "      <td>-1.286094</td>\n",
       "    </tr>\n",
       "    <tr>\n",
       "      <th>4</th>\n",
       "      <td>Polish</td>\n",
       "      <td>Indo-European</td>\n",
       "      <td>poli1260</td>\n",
       "      <td>0.783811</td>\n",
       "      <td>0.817350</td>\n",
       "      <td>0.008568</td>\n",
       "      <td>3.914483</td>\n",
       "    </tr>\n",
       "    <tr>\n",
       "      <th>...</th>\n",
       "      <td>...</td>\n",
       "      <td>...</td>\n",
       "      <td>...</td>\n",
       "      <td>...</td>\n",
       "      <td>...</td>\n",
       "      <td>...</td>\n",
       "      <td>...</td>\n",
       "    </tr>\n",
       "    <tr>\n",
       "      <th>95</th>\n",
       "      <td>Armenian</td>\n",
       "      <td>Indo-European</td>\n",
       "      <td>nucl1235</td>\n",
       "      <td>0.548161</td>\n",
       "      <td>0.742957</td>\n",
       "      <td>0.021471</td>\n",
       "      <td>9.072490</td>\n",
       "    </tr>\n",
       "    <tr>\n",
       "      <th>96</th>\n",
       "      <td>Standard_French</td>\n",
       "      <td>Indo-European</td>\n",
       "      <td>stan1290</td>\n",
       "      <td>0.892133</td>\n",
       "      <td>0.873965</td>\n",
       "      <td>0.008021</td>\n",
       "      <td>-2.264893</td>\n",
       "    </tr>\n",
       "    <tr>\n",
       "      <th>97</th>\n",
       "      <td>Torres_Strait_Creole_(Broken)</td>\n",
       "      <td>Indo-European</td>\n",
       "      <td>torr1261</td>\n",
       "      <td>0.778261</td>\n",
       "      <td>0.801576</td>\n",
       "      <td>0.010078</td>\n",
       "      <td>2.313455</td>\n",
       "    </tr>\n",
       "    <tr>\n",
       "      <th>98</th>\n",
       "      <td>Norwegian_Bokmål</td>\n",
       "      <td>Indo-European</td>\n",
       "      <td>norw1259</td>\n",
       "      <td>0.798611</td>\n",
       "      <td>0.841997</td>\n",
       "      <td>0.014572</td>\n",
       "      <td>2.977228</td>\n",
       "    </tr>\n",
       "    <tr>\n",
       "      <th>99</th>\n",
       "      <td>Avestan</td>\n",
       "      <td>Indo-European</td>\n",
       "      <td>aves1237</td>\n",
       "      <td>0.468750</td>\n",
       "      <td>0.684089</td>\n",
       "      <td>0.031451</td>\n",
       "      <td>6.846745</td>\n",
       "    </tr>\n",
       "  </tbody>\n",
       "</table>\n",
       "<p>100 rows × 7 columns</p>\n",
       "</div>"
      ],
      "text/plain": [
       "                         language         family      code  \\\n",
       "0                        Kashmiri  Indo-European  kash1277   \n",
       "1                       Tok_Pisin  Indo-European  tokp1240   \n",
       "2                    Modern_Welsh  Indo-European  wels1247   \n",
       "3                       Slovakian  Indo-European  slov1269   \n",
       "4                          Polish  Indo-European  poli1260   \n",
       "..                            ...            ...       ...   \n",
       "95                       Armenian  Indo-European  nucl1235   \n",
       "96                Standard_French  Indo-European  stan1290   \n",
       "97  Torres_Strait_Creole_(Broken)  Indo-European  torr1261   \n",
       "98               Norwegian_Bokmål  Indo-European  norw1259   \n",
       "99                        Avestan  Indo-European  aves1237   \n",
       "\n",
       "    average_edit_distance  sample_mean        sd         z  \n",
       "0                0.795707     0.877404  0.012522  6.524140  \n",
       "1                0.754451     0.808435  0.012747  4.235116  \n",
       "2                0.819048     0.879377  0.012096  4.987383  \n",
       "3                0.800694     0.783566  0.013318 -1.286094  \n",
       "4                0.783811     0.817350  0.008568  3.914483  \n",
       "..                    ...          ...       ...       ...  \n",
       "95               0.548161     0.742957  0.021471  9.072490  \n",
       "96               0.892133     0.873965  0.008021 -2.264893  \n",
       "97               0.778261     0.801576  0.010078  2.313455  \n",
       "98               0.798611     0.841997  0.014572  2.977228  \n",
       "99               0.468750     0.684089  0.031451  6.846745  \n",
       "\n",
       "[100 rows x 7 columns]"
      ]
     },
     "execution_count": 98,
     "metadata": {},
     "output_type": "execute_result"
    }
   ],
   "source": [
    "# sample_distance(['Indo-European'],100,'TEST')"
   ]
  },
  {
   "cell_type": "code",
   "execution_count": 100,
   "id": "e6952b8a",
   "metadata": {
    "scrolled": true
   },
   "outputs": [
    {
     "name": "stderr",
     "output_type": "stream",
     "text": [
      "  0%|                                                    | 0/21 [00:00<?, ?it/s]"
     ]
    },
    {
     "name": "stdout",
     "output_type": "stream",
     "text": [
      "Lebanese_Arabic_stan1323.csv\n"
     ]
    },
    {
     "name": "stderr",
     "output_type": "stream",
     "text": [
      "\n",
      "  0%|                                                  | 0/1000 [00:00<?, ?it/s]\u001b[A\n",
      " 29%|███████████▏                          | 293/1000 [00:00<00:00, 2924.58it/s]\u001b[A\n",
      " 59%|██████████████████████▎               | 586/1000 [00:00<00:00, 2110.36it/s]\u001b[A\n",
      "100%|█████████████████████████████████████| 1000/1000 [00:00<00:00, 1630.57it/s]\u001b[A\n"
     ]
    },
    {
     "name": "stdout",
     "output_type": "stream",
     "text": [
      "Akkadian_akka1240.csv\n"
     ]
    },
    {
     "name": "stderr",
     "output_type": "stream",
     "text": [
      "\n",
      "  0%|                                                  | 0/1000 [00:00<?, ?it/s]\u001b[A\n",
      "100%|█████████████████████████████████████| 1000/1000 [00:00<00:00, 5264.18it/s]\u001b[A\n"
     ]
    },
    {
     "name": "stdout",
     "output_type": "stream",
     "text": [
      "Old_Aramaic_olda1245.csv\n"
     ]
    },
    {
     "name": "stderr",
     "output_type": "stream",
     "text": [
      "\n",
      "  0%|                                                  | 0/1000 [00:00<?, ?it/s]\u001b[A\n",
      " 23%|████████▌                             | 226/1000 [00:00<00:00, 2257.70it/s]\u001b[A\n",
      " 45%|█████████████████▏                    | 452/1000 [00:00<00:00, 2125.00it/s]\u001b[A\n",
      " 67%|█████████████████████████▎            | 666/1000 [00:00<00:00, 2065.35it/s]\u001b[A\n",
      "100%|█████████████████████████████████████| 1000/1000 [00:00<00:00, 2176.09it/s]\u001b[A\n"
     ]
    },
    {
     "name": "stdout",
     "output_type": "stream",
     "text": [
      "Hausa_haus1257.csv\n"
     ]
    },
    {
     "name": "stderr",
     "output_type": "stream",
     "text": [
      "\n",
      "  0%|                                                  | 0/1000 [00:00<?, ?it/s]\u001b[A\n",
      " 23%|████████▋                             | 228/1000 [00:00<00:00, 2274.54it/s]\u001b[A\n",
      " 46%|█████████████████▌                    | 461/1000 [00:00<00:00, 2305.86it/s]\u001b[A\n",
      " 69%|██████████████████████████▎           | 692/1000 [00:00<00:00, 2222.40it/s]\u001b[A\n",
      "100%|█████████████████████████████████████| 1000/1000 [00:00<00:00, 2305.54it/s]\u001b[A\n"
     ]
    },
    {
     "name": "stdout",
     "output_type": "stream",
     "text": [
      "Amharic_amha1245.csv\n"
     ]
    },
    {
     "name": "stderr",
     "output_type": "stream",
     "text": [
      "\n",
      "  0%|                                                  | 0/1000 [00:00<?, ?it/s]\u001b[A\n",
      " 26%|█████████▊                            | 258/1000 [00:00<00:00, 2577.50it/s]\u001b[A\n",
      " 53%|████████████████████▎                 | 533/1000 [00:00<00:00, 2676.43it/s]\u001b[A\n",
      "100%|█████████████████████████████████████| 1000/1000 [00:00<00:00, 2124.54it/s]\u001b[A\n"
     ]
    },
    {
     "name": "stdout",
     "output_type": "stream",
     "text": [
      "Polci_polc1243.csv\n"
     ]
    },
    {
     "name": "stderr",
     "output_type": "stream",
     "text": [
      "\n",
      "  0%|                                                  | 0/1000 [00:00<?, ?it/s]\u001b[A\n",
      " 33%|████████████▍                         | 326/1000 [00:00<00:00, 3246.78it/s]\u001b[A\n",
      " 66%|█████████████████████████▏            | 663/1000 [00:00<00:00, 3318.26it/s]\u001b[A\n",
      "100%|█████████████████████████████████████| 1000/1000 [00:00<00:00, 3186.42it/s]\u001b[A\n",
      "  5%|██                                          | 1/21 [00:02<00:52,  2.63s/it]"
     ]
    },
    {
     "name": "stdout",
     "output_type": "stream",
     "text": [
      "Ottowa_Ojibwa_otta1242.csv\n"
     ]
    },
    {
     "name": "stderr",
     "output_type": "stream",
     "text": [
      "\n",
      "  0%|                                                  | 0/1000 [00:00<?, ?it/s]\u001b[A\n",
      " 16%|██████                                | 161/1000 [00:00<00:00, 1608.34it/s]\u001b[A\n",
      " 35%|█████████████▎                        | 349/1000 [00:00<00:00, 1764.43it/s]\u001b[A\n",
      " 53%|███████████████████▉                  | 526/1000 [00:00<00:00, 1765.08it/s]\u001b[A\n",
      " 70%|██████████████████████████▋           | 703/1000 [00:00<00:00, 1737.21it/s]\u001b[A\n",
      "100%|█████████████████████████████████████| 1000/1000 [00:00<00:00, 1685.63it/s]\u001b[A\n"
     ]
    },
    {
     "name": "stdout",
     "output_type": "stream",
     "text": [
      "Wiyot_wiyo1248.csv\n"
     ]
    },
    {
     "name": "stderr",
     "output_type": "stream",
     "text": [
      "\n",
      "  0%|                                                  | 0/1000 [00:00<?, ?it/s]\u001b[A\n",
      " 27%|██████████▍                           | 274/1000 [00:00<00:00, 2734.70it/s]\u001b[A\n",
      " 57%|█████████████████████▌                | 569/1000 [00:00<00:00, 2860.71it/s]\u001b[A\n",
      "100%|█████████████████████████████████████| 1000/1000 [00:00<00:00, 3062.79it/s]\u001b[A\n"
     ]
    },
    {
     "name": "stdout",
     "output_type": "stream",
     "text": [
      "Yurok_yuro1248.csv\n"
     ]
    },
    {
     "name": "stderr",
     "output_type": "stream",
     "text": [
      "\n",
      "  0%|                                                  | 0/1000 [00:00<?, ?it/s]\u001b[A\n",
      " 28%|██████████▌                           | 279/1000 [00:00<00:00, 2785.57it/s]\u001b[A\n",
      " 58%|██████████████████████                | 581/1000 [00:00<00:00, 2923.23it/s]\u001b[A\n",
      "100%|█████████████████████████████████████| 1000/1000 [00:00<00:00, 2915.10it/s]\u001b[A\n"
     ]
    },
    {
     "name": "stdout",
     "output_type": "stream",
     "text": [
      "Northern_Ojibwa_nort2961.csv\n"
     ]
    },
    {
     "name": "stderr",
     "output_type": "stream",
     "text": [
      "\n",
      "  0%|                                                  | 0/1000 [00:00<?, ?it/s]\u001b[A\n",
      " 22%|████████▏                             | 217/1000 [00:00<00:00, 2164.93it/s]\u001b[A\n",
      " 45%|█████████████████▎                    | 454/1000 [00:00<00:00, 2284.05it/s]\u001b[A\n",
      " 69%|██████████████████████████▏           | 689/1000 [00:00<00:00, 2313.08it/s]\u001b[A\n",
      "100%|█████████████████████████████████████| 1000/1000 [00:00<00:00, 2355.08it/s]\u001b[A\n"
     ]
    },
    {
     "name": "stdout",
     "output_type": "stream",
     "text": [
      "Morgan1871_Munsee_muns1251.csv\n"
     ]
    },
    {
     "name": "stderr",
     "output_type": "stream",
     "text": [
      "\n",
      "  0%|                                                  | 0/1000 [00:00<?, ?it/s]\u001b[A\n",
      " 45%|█████████████████▏                    | 453/1000 [00:00<00:00, 4525.83it/s]\u001b[A\n",
      "100%|█████████████████████████████████████| 1000/1000 [00:00<00:00, 4538.79it/s]\u001b[A\n"
     ]
    },
    {
     "name": "stdout",
     "output_type": "stream",
     "text": [
      "Morgan1871_Piegan_Siksika_(Piegan_Blackfoot)_pieg1239.csv\n"
     ]
    },
    {
     "name": "stderr",
     "output_type": "stream",
     "text": [
      "\n",
      "  0%|                                                  | 0/1000 [00:00<?, ?it/s]\u001b[A\n",
      " 48%|██████████████████▎                   | 482/1000 [00:00<00:00, 4794.21it/s]\u001b[A\n",
      "100%|█████████████████████████████████████| 1000/1000 [00:00<00:00, 3507.16it/s]\u001b[A\n"
     ]
    },
    {
     "name": "stdout",
     "output_type": "stream",
     "text": [
      "Morgan1871_Weaw_nucl1653.csv\n"
     ]
    },
    {
     "name": "stderr",
     "output_type": "stream",
     "text": [
      "\n",
      "  0%|                                                  | 0/1000 [00:00<?, ?it/s]\u001b[A\n",
      "100%|█████████████████████████████████████| 1000/1000 [00:00<00:00, 5211.37it/s]\u001b[A\n"
     ]
    },
    {
     "name": "stdout",
     "output_type": "stream",
     "text": [
      "Morgan1871_Kickapoo_(Kikapoo)_kick1244.csv\n"
     ]
    },
    {
     "name": "stderr",
     "output_type": "stream",
     "text": [
      "\n",
      "  0%|                                                  | 0/1000 [00:00<?, ?it/s]\u001b[A\n",
      "100%|█████████████████████████████████████| 1000/1000 [00:00<00:00, 5033.73it/s]\u001b[A\n"
     ]
    },
    {
     "name": "stdout",
     "output_type": "stream",
     "text": [
      "Morgan1871_Ojibwa_Lake_Michigan_uppe1274.csv\n"
     ]
    },
    {
     "name": "stderr",
     "output_type": "stream",
     "text": [
      "\n",
      "  0%|                                                  | 0/1000 [00:00<?, ?it/s]\u001b[A\n",
      " 41%|███████████████▋                      | 412/1000 [00:00<00:00, 4119.92it/s]\u001b[A\n",
      "100%|█████████████████████████████████████| 1000/1000 [00:00<00:00, 4871.08it/s]\u001b[A\n"
     ]
    },
    {
     "name": "stdout",
     "output_type": "stream",
     "text": [
      "Morgan1871_Ojibwa_Kansas_ojib1241.csv\n"
     ]
    },
    {
     "name": "stderr",
     "output_type": "stream",
     "text": [
      "\n",
      "  0%|                                                  | 0/1000 [00:00<?, ?it/s]\u001b[A\n",
      " 43%|████████████████▍                     | 431/1000 [00:00<00:00, 4298.77it/s]\u001b[A\n",
      "100%|█████████████████████████████████████| 1000/1000 [00:00<00:00, 4043.93it/s]\u001b[A\n"
     ]
    },
    {
     "name": "stdout",
     "output_type": "stream",
     "text": [
      "Morgan1871_Blood_Siksika_(Blood_Blackfoot)_bloo1239.csv\n"
     ]
    },
    {
     "name": "stderr",
     "output_type": "stream",
     "text": [
      "\n",
      "  0%|                                                  | 0/1000 [00:00<?, ?it/s]\u001b[A\n",
      " 39%|██████████████▋                       | 387/1000 [00:00<00:00, 3868.68it/s]\u001b[A\n",
      "100%|█████████████████████████████████████| 1000/1000 [00:00<00:00, 4054.03it/s]\u001b[A\n"
     ]
    },
    {
     "name": "stdout",
     "output_type": "stream",
     "text": [
      "Morgan1871_Potawatomi_(Potǎwattamie)_pota1247.csv\n"
     ]
    },
    {
     "name": "stderr",
     "output_type": "stream",
     "text": [
      "\n",
      "  0%|                                                  | 0/1000 [00:00<?, ?it/s]\u001b[A\n",
      "100%|█████████████████████████████████████| 1000/1000 [00:00<00:00, 5451.16it/s]\u001b[A\n"
     ]
    },
    {
     "name": "stdout",
     "output_type": "stream",
     "text": [
      "Morgan1871_Woods_Cree_(Cree_of_the_Woods)_wood1236.csv\n"
     ]
    },
    {
     "name": "stderr",
     "output_type": "stream",
     "text": [
      "\n",
      "  0%|                                                  | 0/1000 [00:00<?, ?it/s]\u001b[A\n",
      "100%|█████████████████████████████████████| 1000/1000 [00:00<00:00, 5135.71it/s]\u001b[A\n"
     ]
    },
    {
     "name": "stdout",
     "output_type": "stream",
     "text": [
      "Morgan1871_Etchemiu,_or_Malisete_male1293.csv\n"
     ]
    },
    {
     "name": "stderr",
     "output_type": "stream",
     "text": [
      "\n",
      "  0%|                                                  | 0/1000 [00:00<?, ?it/s]\u001b[A\n",
      " 40%|███████████████▏                      | 400/1000 [00:00<00:00, 3994.45it/s]\u001b[A\n",
      "100%|█████████████████████████████████████| 1000/1000 [00:00<00:00, 4628.21it/s]\u001b[A\n"
     ]
    },
    {
     "name": "stdout",
     "output_type": "stream",
     "text": [
      "Morgan1871_Sawk_and_Fox_mesk1242.csv\n"
     ]
    },
    {
     "name": "stderr",
     "output_type": "stream",
     "text": [
      "\n",
      "  0%|                                                  | 0/1000 [00:00<?, ?it/s]\u001b[A\n",
      "100%|█████████████████████████████████████| 1000/1000 [00:00<00:00, 5222.40it/s]\u001b[A\n"
     ]
    },
    {
     "name": "stdout",
     "output_type": "stream",
     "text": [
      "Morgan1871_Mohegan_mohe1244.csv\n"
     ]
    },
    {
     "name": "stderr",
     "output_type": "stream",
     "text": [
      "\n",
      "  0%|                                                  | 0/1000 [00:00<?, ?it/s]\u001b[A\n",
      "100%|█████████████████████████████████████| 1000/1000 [00:00<00:00, 5066.68it/s]\u001b[A\n"
     ]
    },
    {
     "name": "stdout",
     "output_type": "stream",
     "text": [
      "Morgan1871_Delaware_comm1246.csv\n"
     ]
    },
    {
     "name": "stderr",
     "output_type": "stream",
     "text": [
      "\n",
      "  0%|                                                  | 0/1000 [00:00<?, ?it/s]\u001b[A\n",
      " 46%|█████████████████▌                    | 462/1000 [00:00<00:00, 4616.96it/s]\u001b[A\n",
      "100%|█████████████████████████████████████| 1000/1000 [00:00<00:00, 4808.32it/s]\u001b[A\n"
     ]
    },
    {
     "name": "stdout",
     "output_type": "stream",
     "text": [
      "Morgan1871_Ottawa_(Otǎwa)_otta1242.csv\n",
      "Morgan1871_Cree_of_the_Lowlands_cree1272.csv\n"
     ]
    },
    {
     "name": "stderr",
     "output_type": "stream",
     "text": [
      "\n",
      "  0%|                                                  | 0/1000 [00:00<?, ?it/s]\u001b[A\n",
      " 22%|████████▌                             | 224/1000 [00:00<00:00, 2234.71it/s]\u001b[A\n",
      " 45%|█████████████████▏                    | 451/1000 [00:00<00:00, 2254.49it/s]\u001b[A\n",
      "100%|█████████████████████████████████████| 1000/1000 [00:00<00:00, 3022.82it/s]\u001b[A\n"
     ]
    },
    {
     "name": "stdout",
     "output_type": "stream",
     "text": [
      "Morgan1871_Miemac_mikm1235.csv\n"
     ]
    },
    {
     "name": "stderr",
     "output_type": "stream",
     "text": [
      "\n",
      "  0%|                                                  | 0/1000 [00:00<?, ?it/s]\u001b[A\n",
      "100%|█████████████████████████████████████| 1000/1000 [00:00<00:00, 6001.42it/s]\u001b[A\n"
     ]
    },
    {
     "name": "stdout",
     "output_type": "stream",
     "text": [
      "Morgan1871_Ojibwa_Lake_Superior_ojib1241.csv\n",
      "Morgan1871_Ojibwa_Lake_Huron_ojib1241.csv\n",
      "Morgan1871_An-ah'-ne-lin_(Gros_Ventres_of_Prairie)_gros1243.csv\n"
     ]
    },
    {
     "name": "stderr",
     "output_type": "stream",
     "text": [
      "\n",
      "  0%|                                                  | 0/1000 [00:00<?, ?it/s]\u001b[A\n",
      "100%|█████████████████████████████████████| 1000/1000 [00:00<00:00, 5115.14it/s]\u001b[A\n"
     ]
    },
    {
     "name": "stdout",
     "output_type": "stream",
     "text": [
      "Morgan1871_Kaskaskia_algo1255.csv\n"
     ]
    },
    {
     "name": "stderr",
     "output_type": "stream",
     "text": [
      "\n",
      "  0%|                                                  | 0/1000 [00:00<?, ?it/s]\u001b[A\n",
      " 27%|██████████▎                           | 272/1000 [00:00<00:00, 2701.17it/s]\u001b[A\n",
      " 54%|████████████████████▋                 | 543/1000 [00:00<00:00, 2675.20it/s]\u001b[A\n",
      "100%|█████████████████████████████████████| 1000/1000 [00:00<00:00, 2837.86it/s]\u001b[A\n"
     ]
    },
    {
     "name": "stdout",
     "output_type": "stream",
     "text": [
      "Morgan1871_Peoria_peor1238.csv\n"
     ]
    },
    {
     "name": "stderr",
     "output_type": "stream",
     "text": [
      "\n",
      "  0%|                                                  | 0/1000 [00:00<?, ?it/s]\u001b[A\n",
      " 29%|██████████▉                           | 287/1000 [00:00<00:00, 2868.59it/s]\u001b[A\n",
      " 63%|███████████████████████▉              | 629/1000 [00:00<00:00, 3182.83it/s]\u001b[A\n",
      "100%|█████████████████████████████████████| 1000/1000 [00:00<00:00, 3168.54it/s]\u001b[A\n"
     ]
    },
    {
     "name": "stdout",
     "output_type": "stream",
     "text": [
      "Morgan1871_Shiyan_chey1247.csv\n"
     ]
    },
    {
     "name": "stderr",
     "output_type": "stream",
     "text": [
      "\n",
      "  0%|                                                  | 0/1000 [00:00<?, ?it/s]\u001b[A\n",
      " 39%|██████████████▉                       | 393/1000 [00:00<00:00, 3922.38it/s]\u001b[A\n",
      "100%|█████████████████████████████████████| 1000/1000 [00:00<00:00, 3990.43it/s]\u001b[A\n"
     ]
    },
    {
     "name": "stdout",
     "output_type": "stream",
     "text": [
      "Morgan1871_Plains_Cree_(Cree_of_the_Prairie)_plai1258.csv\n"
     ]
    },
    {
     "name": "stderr",
     "output_type": "stream",
     "text": [
      "\n",
      "  0%|                                                  | 0/1000 [00:00<?, ?it/s]\u001b[A\n",
      " 45%|█████████████████▏                    | 452/1000 [00:00<00:00, 4517.70it/s]\u001b[A\n",
      "100%|█████████████████████████████████████| 1000/1000 [00:00<00:00, 4718.59it/s]\u001b[A\n"
     ]
    },
    {
     "name": "stdout",
     "output_type": "stream",
     "text": [
      "Morgan1871_Miami_miam1252.csv\n"
     ]
    },
    {
     "name": "stderr",
     "output_type": "stream",
     "text": [
      "\n",
      "  0%|                                                  | 0/1000 [00:00<?, ?it/s]\u001b[A\n",
      "100%|█████████████████████████████████████| 1000/1000 [00:00<00:00, 5221.76it/s]\u001b[A\n"
     ]
    },
    {
     "name": "stdout",
     "output_type": "stream",
     "text": [
      "Morgan1871_Menomine_meno1252.csv\n"
     ]
    },
    {
     "name": "stderr",
     "output_type": "stream",
     "text": [
      "\n",
      "  0%|                                                  | 0/1000 [00:00<?, ?it/s]\u001b[A\n",
      "100%|█████████████████████████████████████| 1000/1000 [00:00<00:00, 5016.40it/s]\u001b[A\n"
     ]
    },
    {
     "name": "stdout",
     "output_type": "stream",
     "text": [
      "Morgan1871_Pianeshaw_miam1252.csv\n",
      "Morgan1871_Shawnee_shaw1249.csv\n"
     ]
    },
    {
     "name": "stderr",
     "output_type": "stream",
     "text": [
      "\n",
      "  0%|                                                  | 0/1000 [00:00<?, ?it/s]\u001b[A\n",
      "100%|█████████████████████████████████████| 1000/1000 [00:00<00:00, 5683.52it/s]\u001b[A\n",
      " 10%|████▏                                       | 2/21 [00:09<01:42,  5.41s/it]"
     ]
    },
    {
     "name": "stdout",
     "output_type": "stream",
     "text": [
      "Baure_baur1253.csv\n"
     ]
    },
    {
     "name": "stderr",
     "output_type": "stream",
     "text": [
      "\n",
      "  0%|                                                  | 0/1000 [00:00<?, ?it/s]\u001b[A\n",
      "100%|█████████████████████████████████████| 1000/1000 [00:00<00:00, 5471.09it/s]\u001b[A\n"
     ]
    },
    {
     "name": "stdout",
     "output_type": "stream",
     "text": [
      "Ignaciano_igna1246.csv\n"
     ]
    },
    {
     "name": "stderr",
     "output_type": "stream",
     "text": [
      "\n",
      "  0%|                                                  | 0/1000 [00:00<?, ?it/s]\u001b[A\n",
      " 43%|████████████████▎                     | 428/1000 [00:00<00:00, 4274.06it/s]\u001b[A\n",
      "100%|█████████████████████████████████████| 1000/1000 [00:00<00:00, 4344.16it/s]\u001b[A\n"
     ]
    },
    {
     "name": "stdout",
     "output_type": "stream",
     "text": [
      "Yavitero_yavi1244.csv\n"
     ]
    },
    {
     "name": "stderr",
     "output_type": "stream",
     "text": [
      "\n",
      "  0%|                                                  | 0/1000 [00:00<?, ?it/s]\u001b[A\n",
      " 46%|█████████████████▌                    | 461/1000 [00:00<00:00, 4609.08it/s]\u001b[A\n",
      "100%|█████████████████████████████████████| 1000/1000 [00:00<00:00, 4395.03it/s]\u001b[A\n"
     ]
    },
    {
     "name": "stdout",
     "output_type": "stream",
     "text": [
      "Wayuu_wayu1243.csv\n"
     ]
    },
    {
     "name": "stderr",
     "output_type": "stream",
     "text": [
      "\n",
      "  0%|                                                  | 0/1000 [00:00<?, ?it/s]\u001b[A\n",
      " 34%|████████████▉                         | 341/1000 [00:00<00:00, 3405.06it/s]\u001b[A\n",
      "100%|█████████████████████████████████████| 1000/1000 [00:00<00:00, 3122.79it/s]\u001b[A\n"
     ]
    },
    {
     "name": "stdout",
     "output_type": "stream",
     "text": [
      "Wapishana_wapi1253.csv\n"
     ]
    },
    {
     "name": "stderr",
     "output_type": "stream",
     "text": [
      "\n",
      "  0%|                                                  | 0/1000 [00:00<?, ?it/s]\u001b[A\n",
      " 23%|████████▉                             | 234/1000 [00:00<00:00, 2339.12it/s]\u001b[A\n",
      " 54%|████████████████████▍                 | 539/1000 [00:00<00:00, 2755.27it/s]\u001b[A\n",
      "100%|█████████████████████████████████████| 1000/1000 [00:00<00:00, 2949.63it/s]\u001b[A\n"
     ]
    },
    {
     "name": "stdout",
     "output_type": "stream",
     "text": [
      "Waurá_waur1244.csv\n"
     ]
    },
    {
     "name": "stderr",
     "output_type": "stream",
     "text": [
      "\n",
      "  0%|                                                  | 0/1000 [00:00<?, ?it/s]\u001b[A\n",
      " 34%|████████████▊                         | 337/1000 [00:00<00:00, 3368.45it/s]\u001b[A\n",
      " 67%|█████████████████████████▌            | 674/1000 [00:00<00:00, 3099.77it/s]\u001b[A\n",
      "100%|█████████████████████████████████████| 1000/1000 [00:00<00:00, 3092.80it/s]\u001b[A\n"
     ]
    },
    {
     "name": "stdout",
     "output_type": "stream",
     "text": [
      "Mashco_Piro_mash1270.csv\n"
     ]
    },
    {
     "name": "stderr",
     "output_type": "stream",
     "text": [
      "\n",
      "  0%|                                                  | 0/1000 [00:00<?, ?it/s]\u001b[A\n",
      "100%|█████████████████████████████████████| 1000/1000 [00:00<00:00, 5179.94it/s]\u001b[A\n"
     ]
    },
    {
     "name": "stdout",
     "output_type": "stream",
     "text": [
      "Trinitario_trin1274.csv\n"
     ]
    },
    {
     "name": "stderr",
     "output_type": "stream",
     "text": [
      "\n",
      "  0%|                                                  | 0/1000 [00:00<?, ?it/s]\u001b[A\n",
      "100%|█████████████████████████████████████| 1000/1000 [00:00<00:00, 8983.69it/s]\u001b[A\n",
      " 14%|██████▎                                     | 3/21 [00:12<01:09,  3.87s/it]"
     ]
    },
    {
     "name": "stdout",
     "output_type": "stream",
     "text": [
      "Ngombe_Binja_binj1250.csv\n",
      "Tsaangi_tsaa1242.csv\n",
      "Ngoni_ngon1269.csv\n"
     ]
    },
    {
     "name": "stderr",
     "output_type": "stream",
     "text": [
      "\n",
      "  0%|                                                  | 0/1000 [00:00<?, ?it/s]\u001b[A\n",
      "100%|█████████████████████████████████████| 1000/1000 [00:00<00:00, 7406.86it/s]\u001b[A\n"
     ]
    },
    {
     "name": "stdout",
     "output_type": "stream",
     "text": [
      "Nyakyusa_nyak1260.csv\n"
     ]
    },
    {
     "name": "stderr",
     "output_type": "stream",
     "text": [
      "\n",
      "  0%|                                                  | 0/1000 [00:00<?, ?it/s]\u001b[A\n",
      " 46%|█████████████████▎                    | 456/1000 [00:00<00:00, 4543.86it/s]\u001b[A\n",
      "100%|█████████████████████████████████████| 1000/1000 [00:00<00:00, 4496.00it/s]\u001b[A\n"
     ]
    },
    {
     "name": "stdout",
     "output_type": "stream",
     "text": [
      "Fipa_fipa1238.csv\n"
     ]
    },
    {
     "name": "stderr",
     "output_type": "stream",
     "text": [
      "\n",
      "  0%|                                                  | 0/1000 [00:00<?, ?it/s]\u001b[A\n",
      " 36%|█████████████▊                        | 364/1000 [00:00<00:00, 3631.75it/s]\u001b[A\n",
      "100%|█████████████████████████████████████| 1000/1000 [00:00<00:00, 3449.18it/s]\u001b[A\n"
     ]
    },
    {
     "name": "stdout",
     "output_type": "stream",
     "text": [
      "Punu_punu1239.csv\n"
     ]
    },
    {
     "name": "stderr",
     "output_type": "stream",
     "text": [
      "\n",
      "100%|████████████████████████████████████| 1000/1000 [00:00<00:00, 12857.80it/s]\u001b[A\n"
     ]
    },
    {
     "name": "stdout",
     "output_type": "stream",
     "text": [
      "Haya_haya1250.csv\n"
     ]
    },
    {
     "name": "stderr",
     "output_type": "stream",
     "text": [
      "\n",
      "  0%|                                                  | 0/1000 [00:00<?, ?it/s]\u001b[A\n",
      " 31%|███████████▋                          | 309/1000 [00:00<00:00, 3086.15it/s]\u001b[A\n",
      " 62%|███████████████████████▍              | 618/1000 [00:00<00:00, 3006.71it/s]\u001b[A\n",
      "100%|█████████████████████████████████████| 1000/1000 [00:00<00:00, 2930.73it/s]\u001b[A\n"
     ]
    },
    {
     "name": "stdout",
     "output_type": "stream",
     "text": [
      "Zigula_zigu1242.csv\n"
     ]
    },
    {
     "name": "stderr",
     "output_type": "stream",
     "text": [
      "\n",
      "  0%|                                                  | 0/1000 [00:00<?, ?it/s]\u001b[A\n",
      " 46%|█████████████████▍                    | 460/1000 [00:00<00:00, 4598.75it/s]\u001b[A\n",
      "100%|█████████████████████████████████████| 1000/1000 [00:00<00:00, 4701.59it/s]\u001b[A\n"
     ]
    },
    {
     "name": "stdout",
     "output_type": "stream",
     "text": [
      "Bemba_bemb1257.csv\n"
     ]
    },
    {
     "name": "stderr",
     "output_type": "stream",
     "text": [
      "\n",
      "  0%|                                                  | 0/1000 [00:00<?, ?it/s]\u001b[A\n",
      " 46%|█████████████████▎                    | 457/1000 [00:00<00:00, 4537.32it/s]\u001b[A\n",
      "100%|█████████████████████████████████████| 1000/1000 [00:00<00:00, 4375.68it/s]\u001b[A\n"
     ]
    },
    {
     "name": "stdout",
     "output_type": "stream",
     "text": [
      "Ekonda_Mongo_ekon1238.csv\n"
     ]
    },
    {
     "name": "stderr",
     "output_type": "stream",
     "text": [
      "\n",
      "  0%|                                                  | 0/1000 [00:00<?, ?it/s]\u001b[A\n",
      " 36%|█████████████▌                        | 358/1000 [00:00<00:00, 3575.54it/s]\u001b[A\n",
      "100%|█████████████████████████████████████| 1000/1000 [00:00<00:00, 3079.07it/s]\u001b[A\n"
     ]
    },
    {
     "name": "stdout",
     "output_type": "stream",
     "text": [
      "Tsonga_tson1249.csv\n"
     ]
    },
    {
     "name": "stderr",
     "output_type": "stream",
     "text": [
      "\n",
      "  0%|                                                  | 0/1000 [00:00<?, ?it/s]\u001b[A\n",
      " 33%|████████████▌                         | 330/1000 [00:00<00:00, 3290.65it/s]\u001b[A\n",
      " 66%|█████████████████████████             | 660/1000 [00:00<00:00, 3163.33it/s]\u001b[A\n",
      "100%|█████████████████████████████████████| 1000/1000 [00:00<00:00, 3143.63it/s]\u001b[A\n"
     ]
    },
    {
     "name": "stdout",
     "output_type": "stream",
     "text": [
      "Zinza_zinz1238.csv\n"
     ]
    },
    {
     "name": "stderr",
     "output_type": "stream",
     "text": [
      "\n",
      "  0%|                                                  | 0/1000 [00:00<?, ?it/s]\u001b[A\n",
      "100%|█████████████████████████████████████| 1000/1000 [00:00<00:00, 6997.85it/s]\u001b[A\n"
     ]
    },
    {
     "name": "stdout",
     "output_type": "stream",
     "text": [
      "Pinji_pinj1243.csv\n"
     ]
    },
    {
     "name": "stderr",
     "output_type": "stream",
     "text": [
      "\n",
      "  0%|                                                  | 0/1000 [00:00<?, ?it/s]\u001b[A\n",
      "100%|█████████████████████████████████████| 1000/1000 [00:00<00:00, 9162.89it/s]\u001b[A\n"
     ]
    },
    {
     "name": "stdout",
     "output_type": "stream",
     "text": [
      "Kagulu_kagu1239.csv\n"
     ]
    },
    {
     "name": "stderr",
     "output_type": "stream",
     "text": [
      "\n",
      "  0%|                                                  | 0/1000 [00:00<?, ?it/s]\u001b[A\n",
      " 36%|█████████████▊                        | 364/1000 [00:00<00:00, 3635.08it/s]\u001b[A\n",
      "100%|█████████████████████████████████████| 1000/1000 [00:00<00:00, 3660.76it/s]\u001b[A\n"
     ]
    },
    {
     "name": "stdout",
     "output_type": "stream",
     "text": [
      "Hehe_hehe1240.csv\n"
     ]
    },
    {
     "name": "stderr",
     "output_type": "stream",
     "text": [
      "\n",
      "  0%|                                                  | 0/1000 [00:00<?, ?it/s]\u001b[A\n",
      " 33%|████████████▋                         | 334/1000 [00:00<00:00, 3334.40it/s]\u001b[A\n",
      "100%|█████████████████████████████████████| 1000/1000 [00:00<00:00, 2942.78it/s]\u001b[A\n"
     ]
    },
    {
     "name": "stdout",
     "output_type": "stream",
     "text": [
      "Suku_suku1259.csv\n"
     ]
    },
    {
     "name": "stderr",
     "output_type": "stream",
     "text": [
      "\n",
      "  0%|                                                  | 0/1000 [00:00<?, ?it/s]\u001b[A\n",
      " 30%|███████████▍                          | 300/1000 [00:00<00:00, 2992.60it/s]\u001b[A\n",
      " 62%|███████████████████████▍              | 617/1000 [00:00<00:00, 3092.89it/s]\u001b[A\n",
      "100%|█████████████████████████████████████| 1000/1000 [00:00<00:00, 3076.32it/s]\u001b[A\n"
     ]
    },
    {
     "name": "stdout",
     "output_type": "stream",
     "text": [
      "Lala_Bisa_lala1264.csv\n"
     ]
    },
    {
     "name": "stderr",
     "output_type": "stream",
     "text": [
      "\n",
      "  0%|                                                  | 0/1000 [00:00<?, ?it/s]\u001b[A\n",
      "100%|█████████████████████████████████████| 1000/1000 [00:00<00:00, 7192.69it/s]\u001b[A\n"
     ]
    },
    {
     "name": "stdout",
     "output_type": "stream",
     "text": [
      "Tonga_Nyasa__tong1321.csv\n"
     ]
    },
    {
     "name": "stderr",
     "output_type": "stream",
     "text": [
      "\n",
      "  0%|                                                  | 0/1000 [00:00<?, ?it/s]\u001b[A\n",
      " 43%|████████████████▍                     | 434/1000 [00:00<00:00, 4335.72it/s]\u001b[A\n",
      "100%|█████████████████████████████████████| 1000/1000 [00:00<00:00, 4390.98it/s]\u001b[A\n"
     ]
    },
    {
     "name": "stdout",
     "output_type": "stream",
     "text": [
      "Kamba_kamb1297.csv\n"
     ]
    },
    {
     "name": "stderr",
     "output_type": "stream",
     "text": [
      "\n",
      "  0%|                                                  | 0/1000 [00:00<?, ?it/s]\u001b[A\n",
      " 29%|██████████▊                           | 286/1000 [00:00<00:00, 2859.86it/s]\u001b[A\n",
      " 57%|█████████████████████▋                | 572/1000 [00:00<00:00, 2595.80it/s]\u001b[A\n",
      "100%|█████████████████████████████████████| 1000/1000 [00:00<00:00, 2579.11it/s]\u001b[A\n"
     ]
    },
    {
     "name": "stdout",
     "output_type": "stream",
     "text": [
      "Yansi_yans1239.csv\n"
     ]
    },
    {
     "name": "stderr",
     "output_type": "stream",
     "text": [
      "\n",
      "  0%|                                                  | 0/1000 [00:00<?, ?it/s]\u001b[A\n",
      "100%|█████████████████████████████████████| 1000/1000 [00:00<00:00, 7830.18it/s]\u001b[A\n"
     ]
    },
    {
     "name": "stdout",
     "output_type": "stream",
     "text": [
      "Mbuun_mpuo1241.csv\n"
     ]
    },
    {
     "name": "stderr",
     "output_type": "stream",
     "text": [
      "\n",
      "  0%|                                                  | 0/1000 [00:00<?, ?it/s]\u001b[A\n",
      " 32%|████████████▎                         | 323/1000 [00:00<00:00, 3222.98it/s]\u001b[A\n",
      " 65%|████████████████████████▌             | 646/1000 [00:00<00:00, 3090.03it/s]\u001b[A\n",
      "100%|█████████████████████████████████████| 1000/1000 [00:00<00:00, 3124.25it/s]\u001b[A\n"
     ]
    },
    {
     "name": "stdout",
     "output_type": "stream",
     "text": [
      "San_Salvador_Kongo_sans1272.csv\n"
     ]
    },
    {
     "name": "stderr",
     "output_type": "stream",
     "text": [
      "\n",
      "  0%|                                                  | 0/1000 [00:00<?, ?it/s]\u001b[A\n",
      " 28%|██████████▋                           | 282/1000 [00:00<00:00, 2809.80it/s]\u001b[A\n",
      " 56%|█████████████████████▍                | 563/1000 [00:00<00:00, 1564.27it/s]\u001b[A\n",
      "100%|█████████████████████████████████████| 1000/1000 [00:00<00:00, 1463.40it/s]\u001b[A\n"
     ]
    },
    {
     "name": "stdout",
     "output_type": "stream",
     "text": [
      "Soga_soga1242.csv\n"
     ]
    },
    {
     "name": "stderr",
     "output_type": "stream",
     "text": [
      "\n",
      "  0%|                                                  | 0/1000 [00:00<?, ?it/s]\u001b[A\n",
      " 30%|███████████▍                          | 302/1000 [00:00<00:00, 3014.51it/s]\u001b[A\n",
      " 60%|██████████████████████▉               | 604/1000 [00:00<00:00, 2269.26it/s]\u001b[A\n",
      "100%|█████████████████████████████████████| 1000/1000 [00:00<00:00, 2271.21it/s]\u001b[A\n"
     ]
    },
    {
     "name": "stdout",
     "output_type": "stream",
     "text": [
      "Bera_bera1259.csv\n"
     ]
    },
    {
     "name": "stderr",
     "output_type": "stream",
     "text": [
      "\n",
      "  0%|                                                  | 0/1000 [00:00<?, ?it/s]\u001b[A\n",
      " 28%|██████████▊                           | 285/1000 [00:00<00:00, 2846.21it/s]\u001b[A\n",
      " 57%|█████████████████████▋                | 570/1000 [00:00<00:00, 2501.74it/s]\u001b[A\n",
      "100%|█████████████████████████████████████| 1000/1000 [00:00<00:00, 2476.07it/s]\u001b[A\n"
     ]
    },
    {
     "name": "stdout",
     "output_type": "stream",
     "text": [
      "Sakata_saka1287.csv\n"
     ]
    },
    {
     "name": "stderr",
     "output_type": "stream",
     "text": [
      "\n",
      "  0%|                                                  | 0/1000 [00:00<?, ?it/s]\u001b[A\n",
      " 41%|███████████████▋                      | 414/1000 [00:00<00:00, 4132.65it/s]\u001b[A\n",
      "100%|█████████████████████████████████████| 1000/1000 [00:00<00:00, 4014.78it/s]\u001b[A\n"
     ]
    },
    {
     "name": "stdout",
     "output_type": "stream",
     "text": [
      "Makonde_mako1251.csv\n"
     ]
    },
    {
     "name": "stderr",
     "output_type": "stream",
     "text": [
      "\n",
      "  0%|                                                  | 0/1000 [00:00<?, ?it/s]\u001b[A\n",
      " 23%|████████▋                             | 229/1000 [00:00<00:00, 2287.91it/s]\u001b[A\n",
      " 53%|████████████████████▏                 | 531/1000 [00:00<00:00, 2713.59it/s]\u001b[A\n",
      " 80%|███████████████████████████████▎       | 803/1000 [00:00<00:00, 962.51it/s]\u001b[A\n",
      "100%|█████████████████████████████████████| 1000/1000 [00:00<00:00, 1160.64it/s]\u001b[A\n"
     ]
    },
    {
     "name": "stdout",
     "output_type": "stream",
     "text": [
      "Oroko_orok1266.csv\n",
      "Sake_sake1247.csv\n"
     ]
    },
    {
     "name": "stderr",
     "output_type": "stream",
     "text": [
      "\n",
      "100%|████████████████████████████████████| 1000/1000 [00:00<00:00, 13098.40it/s]\u001b[A\n"
     ]
    },
    {
     "name": "stdout",
     "output_type": "stream",
     "text": [
      "Phende_phen1239.csv\n"
     ]
    },
    {
     "name": "stderr",
     "output_type": "stream",
     "text": [
      "\n",
      "  0%|                                                  | 0/1000 [00:00<?, ?it/s]\u001b[A\n",
      " 22%|████████▍                             | 222/1000 [00:00<00:00, 2216.74it/s]\u001b[A\n",
      " 44%|████████████████▊                     | 444/1000 [00:00<00:00, 2218.07it/s]\u001b[A\n",
      " 67%|█████████████████████████▌            | 674/1000 [00:00<00:00, 2253.40it/s]\u001b[A\n",
      "100%|█████████████████████████████████████| 1000/1000 [00:00<00:00, 2293.11it/s]\u001b[A\n"
     ]
    },
    {
     "name": "stdout",
     "output_type": "stream",
     "text": [
      "Bamun_bamu1253.csv\n"
     ]
    },
    {
     "name": "stderr",
     "output_type": "stream",
     "text": [
      "\n",
      "100%|████████████████████████████████████| 1000/1000 [00:00<00:00, 10898.83it/s]\u001b[A\n"
     ]
    },
    {
     "name": "stdout",
     "output_type": "stream",
     "text": [
      "Nsong_song1299.csv\n"
     ]
    },
    {
     "name": "stderr",
     "output_type": "stream",
     "text": [
      "\n",
      "  0%|                                                  | 0/1000 [00:00<?, ?it/s]\u001b[A\n",
      " 25%|█████████▍                            | 247/1000 [00:00<00:00, 2468.15it/s]\u001b[A\n",
      " 50%|██████████████████▉                   | 499/1000 [00:00<00:00, 2497.91it/s]\u001b[A\n",
      "100%|█████████████████████████████████████| 1000/1000 [00:00<00:00, 2544.95it/s]\u001b[A\n"
     ]
    },
    {
     "name": "stdout",
     "output_type": "stream",
     "text": [
      "Ndumu_ndum1239.csv\n",
      "Bali_Congo__bali1274.csv\n"
     ]
    },
    {
     "name": "stderr",
     "output_type": "stream",
     "text": [
      "\n",
      "100%|████████████████████████████████████| 1000/1000 [00:00<00:00, 15993.35it/s]\u001b[A\n"
     ]
    },
    {
     "name": "stdout",
     "output_type": "stream",
     "text": [
      "Lamba_lamb1271.csv\n"
     ]
    },
    {
     "name": "stderr",
     "output_type": "stream",
     "text": [
      "\n",
      "  0%|                                                  | 0/1000 [00:00<?, ?it/s]\u001b[A\n",
      " 24%|█████████▎                            | 244/1000 [00:00<00:00, 2433.82it/s]\u001b[A\n",
      " 51%|███████████████████▏                  | 506/1000 [00:00<00:00, 2538.96it/s]\u001b[A\n",
      "100%|█████████████████████████████████████| 1000/1000 [00:00<00:00, 2531.51it/s]\u001b[A\n"
     ]
    },
    {
     "name": "stdout",
     "output_type": "stream",
     "text": [
      "Shona_shon1251.csv\n",
      "Mbere_mber1257.csv\n"
     ]
    },
    {
     "name": "stderr",
     "output_type": "stream",
     "text": [
      "\n",
      "  0%|                                                  | 0/1000 [00:00<?, ?it/s]\u001b[A\n",
      "100%|█████████████████████████████████████| 1000/1000 [00:00<00:00, 5910.13it/s]\u001b[A\n"
     ]
    },
    {
     "name": "stdout",
     "output_type": "stream",
     "text": [
      "Sumbwa_sumb1240.csv\n"
     ]
    },
    {
     "name": "stderr",
     "output_type": "stream",
     "text": [
      "\n",
      "  0%|                                                  | 0/1000 [00:00<?, ?it/s]\u001b[A\n",
      "100%|█████████████████████████████████████| 1000/1000 [00:00<00:00, 6498.79it/s]\u001b[A\n"
     ]
    },
    {
     "name": "stdout",
     "output_type": "stream",
     "text": [
      "Kom_komc1235.csv\n"
     ]
    },
    {
     "name": "stderr",
     "output_type": "stream",
     "text": [
      "\n",
      "  0%|                                                  | 0/1000 [00:00<?, ?it/s]\u001b[A\n",
      " 29%|███████████                           | 292/1000 [00:00<00:00, 2917.98it/s]\u001b[A\n",
      " 58%|██████████████████████▏               | 584/1000 [00:00<00:00, 2895.08it/s]\u001b[A\n",
      "100%|█████████████████████████████████████| 1000/1000 [00:00<00:00, 2694.35it/s]\u001b[A\n"
     ]
    },
    {
     "name": "stdout",
     "output_type": "stream",
     "text": [
      "Kikuyu_kiku1240.csv\n"
     ]
    },
    {
     "name": "stderr",
     "output_type": "stream",
     "text": [
      "\n",
      "  0%|                                                  | 0/1000 [00:00<?, ?it/s]\u001b[A\n",
      " 29%|██████████▊                           | 286/1000 [00:00<00:00, 2855.40it/s]\u001b[A\n",
      " 58%|██████████████████████                | 579/1000 [00:00<00:00, 2894.42it/s]\u001b[A\n",
      "100%|█████████████████████████████████████| 1000/1000 [00:00<00:00, 2749.44it/s]\u001b[A\n"
     ]
    },
    {
     "name": "stdout",
     "output_type": "stream",
     "text": [
      "Digo_digo1243.csv\n"
     ]
    },
    {
     "name": "stderr",
     "output_type": "stream",
     "text": [
      "\n",
      "  0%|                                                  | 0/1000 [00:00<?, ?it/s]\u001b[A\n",
      " 19%|███████▏                              | 188/1000 [00:00<00:00, 1874.81it/s]\u001b[A\n",
      " 43%|████████████████▎                     | 430/1000 [00:00<00:00, 2180.06it/s]\u001b[A\n",
      " 69%|██████████████████████████▏           | 690/1000 [00:00<00:00, 2369.93it/s]\u001b[A\n",
      "100%|█████████████████████████████████████| 1000/1000 [00:00<00:00, 2380.36it/s]\u001b[A\n"
     ]
    },
    {
     "name": "stdout",
     "output_type": "stream",
     "text": [
      "Pokomo_poko1261.csv\n"
     ]
    },
    {
     "name": "stderr",
     "output_type": "stream",
     "text": [
      "\n",
      "100%|████████████████████████████████████| 1000/1000 [00:00<00:00, 17954.91it/s]\u001b[A\n"
     ]
    },
    {
     "name": "stdout",
     "output_type": "stream",
     "text": [
      "Mongo_mong1338.csv\n"
     ]
    },
    {
     "name": "stderr",
     "output_type": "stream",
     "text": [
      "\n",
      "  0%|                                                  | 0/1000 [00:00<?, ?it/s]\u001b[A\n",
      " 27%|██████████▎                           | 273/1000 [00:00<00:00, 2720.78it/s]\u001b[A\n",
      " 55%|████████████████████▋                 | 546/1000 [00:00<00:00, 2440.38it/s]\u001b[A\n",
      "100%|█████████████████████████████████████| 1000/1000 [00:00<00:00, 2437.33it/s]\u001b[A\n"
     ]
    },
    {
     "name": "stdout",
     "output_type": "stream",
     "text": [
      "Giryama_giry1241.csv\n"
     ]
    },
    {
     "name": "stderr",
     "output_type": "stream",
     "text": [
      "\n",
      "  0%|                                                  | 0/1000 [00:00<?, ?it/s]\u001b[A\n",
      " 24%|█████████                             | 238/1000 [00:00<00:00, 2375.35it/s]\u001b[A\n",
      " 48%|██████████████████▌                    | 476/1000 [00:00<00:00, 933.24it/s]\u001b[A\n",
      " 61%|███████████████████████▎              | 613/1000 [00:00<00:00, 1000.05it/s]\u001b[A\n",
      "100%|█████████████████████████████████████| 1000/1000 [00:00<00:00, 1372.22it/s]\u001b[A\n"
     ]
    },
    {
     "name": "stdout",
     "output_type": "stream",
     "text": [
      "Lozi_lozi1239.csv\n"
     ]
    },
    {
     "name": "stderr",
     "output_type": "stream",
     "text": [
      "\n",
      "  0%|                                                  | 0/1000 [00:00<?, ?it/s]\u001b[A\n",
      " 29%|███████████                           | 291/1000 [00:00<00:00, 2903.58it/s]\u001b[A\n",
      " 58%|██████████████████████                | 582/1000 [00:00<00:00, 2836.42it/s]\u001b[A\n",
      "100%|█████████████████████████████████████| 1000/1000 [00:00<00:00, 2345.76it/s]\u001b[A\n"
     ]
    },
    {
     "name": "stdout",
     "output_type": "stream",
     "text": [
      "Bushoong_bush1247.csv\n"
     ]
    },
    {
     "name": "stderr",
     "output_type": "stream",
     "text": [
      "\n",
      "  0%|                                                  | 0/1000 [00:00<?, ?it/s]\u001b[A\n",
      " 30%|███████████▍                          | 300/1000 [00:00<00:00, 2995.71it/s]\u001b[A\n",
      " 60%|██████████████████████▊               | 600/1000 [00:00<00:00, 2868.31it/s]\u001b[A\n",
      "100%|█████████████████████████████████████| 1000/1000 [00:00<00:00, 2577.10it/s]\u001b[A\n"
     ]
    },
    {
     "name": "stdout",
     "output_type": "stream",
     "text": [
      "Luvale_luva1239.csv\n"
     ]
    },
    {
     "name": "stderr",
     "output_type": "stream",
     "text": [
      "\n",
      "  0%|                                                  | 0/1000 [00:00<?, ?it/s]\u001b[A\n",
      " 35%|█████████████▏                        | 347/1000 [00:00<00:00, 3460.90it/s]\u001b[A\n",
      "100%|█████████████████████████████████████| 1000/1000 [00:00<00:00, 3207.54it/s]\u001b[A\n"
     ]
    },
    {
     "name": "stdout",
     "output_type": "stream",
     "text": [
      "Kwasio_kwas1243.csv\n"
     ]
    },
    {
     "name": "stderr",
     "output_type": "stream",
     "text": [
      "\n",
      "  0%|                                                  | 0/1000 [00:00<?, ?it/s]\u001b[A\n",
      " 11%|████                                  | 108/1000 [00:00<00:00, 1066.40it/s]\u001b[A\n",
      " 31%|███████████▉                          | 314/1000 [00:00<00:00, 1646.31it/s]\u001b[A\n",
      " 59%|██████████████████████▎               | 586/1000 [00:00<00:00, 2132.93it/s]\u001b[A\n",
      "100%|█████████████████████████████████████| 1000/1000 [00:00<00:00, 2213.69it/s]\u001b[A\n"
     ]
    },
    {
     "name": "stdout",
     "output_type": "stream",
     "text": [
      "Yaka_CAR__yaka1272.csv\n"
     ]
    },
    {
     "name": "stderr",
     "output_type": "stream",
     "text": [
      "\n",
      "  0%|                                                  | 0/1000 [00:00<?, ?it/s]\u001b[A\n",
      " 29%|███████████                           | 291/1000 [00:00<00:00, 2909.89it/s]\u001b[A\n",
      " 59%|██████████████████████▎               | 588/1000 [00:00<00:00, 2942.54it/s]\u001b[A\n",
      "100%|█████████████████████████████████████| 1000/1000 [00:00<00:00, 2467.22it/s]\u001b[A\n"
     ]
    },
    {
     "name": "stdout",
     "output_type": "stream",
     "text": [
      "Sangu_Tanzania__sang1330.csv\n"
     ]
    },
    {
     "name": "stderr",
     "output_type": "stream",
     "text": [
      "\n",
      "  0%|                                                  | 0/1000 [00:00<?, ?it/s]\u001b[A\n",
      " 22%|████████▍                             | 223/1000 [00:00<00:00, 2225.52it/s]\u001b[A\n",
      " 45%|█████████████████▏                    | 452/1000 [00:00<00:00, 2261.12it/s]\u001b[A\n",
      "100%|█████████████████████████████████████| 1000/1000 [00:00<00:00, 2744.71it/s]\u001b[A\n"
     ]
    },
    {
     "name": "stdout",
     "output_type": "stream",
     "text": [
      "Lingala_ling1263.csv\n"
     ]
    },
    {
     "name": "stderr",
     "output_type": "stream",
     "text": [
      "\n",
      "  0%|                                                  | 0/1000 [00:00<?, ?it/s]\u001b[A\n",
      " 28%|██████████▊                           | 285/1000 [00:00<00:00, 2847.81it/s]\u001b[A\n",
      " 58%|█████████████████████▉                | 578/1000 [00:00<00:00, 2891.99it/s]\u001b[A\n",
      "100%|█████████████████████████████████████| 1000/1000 [00:00<00:00, 2774.68it/s]\u001b[A\n"
     ]
    },
    {
     "name": "stdout",
     "output_type": "stream",
     "text": [
      "Sango_sang1331.csv\n"
     ]
    },
    {
     "name": "stderr",
     "output_type": "stream",
     "text": [
      "\n",
      "  0%|                                                  | 0/1000 [00:00<?, ?it/s]\u001b[A\n",
      " 49%|██████████████████▋                   | 493/1000 [00:00<00:00, 4921.49it/s]\u001b[A\n",
      "100%|█████████████████████████████████████| 1000/1000 [00:00<00:00, 4395.50it/s]\u001b[A\n"
     ]
    },
    {
     "name": "stdout",
     "output_type": "stream",
     "text": [
      "Vili_vili1238.csv\n",
      "Yombe_yomb1244.csv\n"
     ]
    },
    {
     "name": "stderr",
     "output_type": "stream",
     "text": [
      "\n",
      "  0%|                                                  | 0/1000 [00:00<?, ?it/s]\u001b[A\n",
      " 27%|██████████▎                           | 272/1000 [00:00<00:00, 2717.96it/s]\u001b[A\n",
      " 54%|████████████████████▋                 | 544/1000 [00:00<00:00, 2557.25it/s]\u001b[A\n",
      "100%|█████████████████████████████████████| 1000/1000 [00:00<00:00, 2582.24it/s]\u001b[A\n"
     ]
    },
    {
     "name": "stdout",
     "output_type": "stream",
     "text": [
      "Komo_DRC__komo1260.csv\n"
     ]
    },
    {
     "name": "stderr",
     "output_type": "stream",
     "text": [
      "\n",
      "  0%|                                                  | 0/1000 [00:00<?, ?it/s]\u001b[A\n",
      " 27%|██████████▏                           | 269/1000 [00:00<00:00, 2681.82it/s]\u001b[A\n",
      " 54%|████████████████████▉                  | 538/1000 [00:00<00:00, 996.58it/s]\u001b[A\n",
      " 69%|██████████████████████████▏           | 690/1000 [00:00<00:00, 1116.31it/s]\u001b[A\n",
      "100%|█████████████████████████████████████| 1000/1000 [00:00<00:00, 1283.37it/s]\u001b[A\n"
     ]
    },
    {
     "name": "stdout",
     "output_type": "stream",
     "text": [
      "Bila_bila1255.csv\n"
     ]
    },
    {
     "name": "stderr",
     "output_type": "stream",
     "text": [
      "\n",
      "  0%|                                                  | 0/1000 [00:00<?, ?it/s]\u001b[A\n",
      " 25%|█████████▌                            | 251/1000 [00:00<00:00, 2502.59it/s]\u001b[A\n",
      " 50%|███████████████████                   | 502/1000 [00:00<00:00, 2488.23it/s]\u001b[A\n",
      "100%|█████████████████████████████████████| 1000/1000 [00:00<00:00, 2533.26it/s]\u001b[A\n"
     ]
    },
    {
     "name": "stdout",
     "output_type": "stream",
     "text": [
      "Yao_yaoo1241.csv\n",
      "Ngulu_ngul1246.csv\n"
     ]
    },
    {
     "name": "stderr",
     "output_type": "stream",
     "text": [
      "\n",
      "  0%|                                                  | 0/1000 [00:00<?, ?it/s]\u001b[A\n",
      " 30%|███████████▏                          | 295/1000 [00:00<00:00, 2939.94it/s]\u001b[A\n",
      " 59%|██████████████████████▍               | 589/1000 [00:00<00:00, 2632.68it/s]\u001b[A\n",
      "100%|█████████████████████████████████████| 1000/1000 [00:00<00:00, 1663.64it/s]\u001b[A\n"
     ]
    },
    {
     "name": "stdout",
     "output_type": "stream",
     "text": [
      "Kota_kota1274.csv\n"
     ]
    },
    {
     "name": "stderr",
     "output_type": "stream",
     "text": [
      "\n",
      "  0%|                                                  | 0/1000 [00:00<?, ?it/s]\u001b[A\n",
      " 35%|█████████████▍                        | 354/1000 [00:00<00:00, 3539.18it/s]\u001b[A\n",
      "100%|█████████████████████████████████████| 1000/1000 [00:00<00:00, 4481.16it/s]\u001b[A\n"
     ]
    },
    {
     "name": "stdout",
     "output_type": "stream",
     "text": [
      "Duma_duma1253.csv\n",
      "Kaonde_kaon1241.csv\n"
     ]
    },
    {
     "name": "stderr",
     "output_type": "stream",
     "text": [
      "\n",
      "  0%|                                                  | 0/1000 [00:00<?, ?it/s]\u001b[A\n",
      " 35%|█████████████▎                        | 349/1000 [00:00<00:00, 3450.29it/s]\u001b[A\n",
      " 70%|██████████████████████████▍           | 695/1000 [00:00<00:00, 2713.86it/s]\u001b[A\n",
      "100%|█████████████████████████████████████| 1000/1000 [00:00<00:00, 2639.88it/s]\u001b[A\n"
     ]
    },
    {
     "name": "stdout",
     "output_type": "stream",
     "text": [
      "Ha_haaa1252.csv\n"
     ]
    },
    {
     "name": "stderr",
     "output_type": "stream",
     "text": [
      "\n",
      "  0%|                                                  | 0/1000 [00:00<?, ?it/s]\u001b[A\n",
      " 31%|███████████▊                          | 310/1000 [00:00<00:00, 3099.22it/s]\u001b[A\n",
      " 62%|███████████████████████▌              | 620/1000 [00:00<00:00, 2923.67it/s]\u001b[A\n",
      "100%|█████████████████████████████████████| 1000/1000 [00:00<00:00, 2884.49it/s]\u001b[A\n"
     ]
    },
    {
     "name": "stdout",
     "output_type": "stream",
     "text": [
      "Songoora_song1300.csv\n"
     ]
    },
    {
     "name": "stderr",
     "output_type": "stream",
     "text": [
      "\n",
      "  0%|                                                  | 0/1000 [00:00<?, ?it/s]\u001b[A\n",
      "100%|█████████████████████████████████████| 1000/1000 [00:00<00:00, 5110.88it/s]\u001b[A\n"
     ]
    },
    {
     "name": "stdout",
     "output_type": "stream",
     "text": [
      "Bali_DRC__bali1275.csv\n"
     ]
    },
    {
     "name": "stderr",
     "output_type": "stream",
     "text": [
      "\n",
      "  0%|                                                  | 0/1000 [00:00<?, ?it/s]\u001b[A\n",
      "100%|█████████████████████████████████████| 1000/1000 [00:00<00:00, 7601.56it/s]\u001b[A\n"
     ]
    },
    {
     "name": "stdout",
     "output_type": "stream",
     "text": [
      "Sangu_sang1333.csv\n",
      "Luba_Katanga_luba1250.csv\n"
     ]
    },
    {
     "name": "stderr",
     "output_type": "stream",
     "text": [
      "\n",
      "  0%|                                                  | 0/1000 [00:00<?, ?it/s]\u001b[A\n",
      " 41%|███████████████▍                      | 407/1000 [00:00<00:00, 4065.93it/s]\u001b[A\n",
      "100%|█████████████████████████████████████| 1000/1000 [00:00<00:00, 4704.71it/s]\u001b[A\n"
     ]
    },
    {
     "name": "stdout",
     "output_type": "stream",
     "text": [
      "Bafia_bafi1243.csv\n"
     ]
    },
    {
     "name": "stderr",
     "output_type": "stream",
     "text": [
      "\n",
      "100%|████████████████████████████████████| 1000/1000 [00:00<00:00, 11386.30it/s]\u001b[A\n"
     ]
    },
    {
     "name": "stdout",
     "output_type": "stream",
     "text": [
      "Batanga_bata1285.csv\n"
     ]
    },
    {
     "name": "stderr",
     "output_type": "stream",
     "text": [
      "\n",
      "  0%|                                                  | 0/1000 [00:00<?, ?it/s]\u001b[A\n",
      " 17%|██████▍                               | 168/1000 [00:00<00:00, 1677.16it/s]\u001b[A\n",
      " 34%|████████████▊                         | 336/1000 [00:00<00:00, 1051.46it/s]\u001b[A\n",
      " 46%|██████████████████                     | 464/1000 [00:00<00:00, 904.68it/s]\u001b[A\n",
      " 64%|████████████████████████▍             | 643/1000 [00:00<00:00, 1127.73it/s]\u001b[A\n",
      "100%|█████████████████████████████████████| 1000/1000 [00:00<00:00, 1179.74it/s]\u001b[A\n"
     ]
    },
    {
     "name": "stdout",
     "output_type": "stream",
     "text": [
      "Temi_temi1247.csv\n"
     ]
    },
    {
     "name": "stderr",
     "output_type": "stream",
     "text": [
      "\n",
      "  0%|                                                  | 0/1000 [00:00<?, ?it/s]\u001b[A\n",
      "100%|█████████████████████████████████████| 1000/1000 [00:00<00:00, 5926.53it/s]\u001b[A\n"
     ]
    },
    {
     "name": "stdout",
     "output_type": "stream",
     "text": [
      "Tswana_tswa1253.csv\n"
     ]
    },
    {
     "name": "stderr",
     "output_type": "stream",
     "text": [
      "\n",
      "  0%|                                                  | 0/1000 [00:00<?, ?it/s]\u001b[A\n",
      " 16%|██████▎                               | 165/1000 [00:00<00:00, 1649.24it/s]\u001b[A\n",
      " 36%|█████████████▊                        | 365/1000 [00:00<00:00, 1852.49it/s]\u001b[A\n",
      " 61%|███████████████████████▎              | 613/1000 [00:00<00:00, 2138.61it/s]\u001b[A\n",
      "100%|█████████████████████████████████████| 1000/1000 [00:00<00:00, 2254.12it/s]\u001b[A\n"
     ]
    },
    {
     "name": "stdout",
     "output_type": "stream",
     "text": [
      "Herero_here1253.csv\n"
     ]
    },
    {
     "name": "stderr",
     "output_type": "stream",
     "text": [
      "\n",
      "  0%|                                                  | 0/1000 [00:00<?, ?it/s]\u001b[A\n",
      " 15%|█████▌                                | 148/1000 [00:00<00:00, 1478.51it/s]\u001b[A\n",
      " 34%|████████████▉                         | 341/1000 [00:00<00:00, 1743.95it/s]\u001b[A\n",
      " 62%|███████████████████████▌              | 621/1000 [00:00<00:00, 2224.65it/s]\u001b[A\n",
      "100%|█████████████████████████████████████| 1000/1000 [00:00<00:00, 2169.93it/s]\u001b[A\n"
     ]
    },
    {
     "name": "stdout",
     "output_type": "stream",
     "text": [
      "Zulu_zulu1248.csv\n"
     ]
    },
    {
     "name": "stderr",
     "output_type": "stream",
     "text": [
      "\n",
      "  0%|                                                  | 0/1000 [00:00<?, ?it/s]\u001b[A\n",
      " 26%|█████████▋                            | 256/1000 [00:00<00:00, 2556.65it/s]\u001b[A\n",
      " 51%|███████████████████▍                  | 512/1000 [00:00<00:00, 2012.62it/s]\u001b[A\n",
      " 74%|████████████████████████████▎         | 745/1000 [00:00<00:00, 2137.09it/s]\u001b[A\n",
      "100%|█████████████████████████████████████| 1000/1000 [00:00<00:00, 2131.50it/s]\u001b[A\n"
     ]
    },
    {
     "name": "stdout",
     "output_type": "stream",
     "text": [
      "Suundi_suun1239.csv\n"
     ]
    },
    {
     "name": "stderr",
     "output_type": "stream",
     "text": [
      "\n",
      "  0%|                                                  | 0/1000 [00:00<?, ?it/s]\u001b[A\n",
      " 45%|█████████████████                     | 450/1000 [00:00<00:00, 4496.01it/s]\u001b[A\n",
      "100%|█████████████████████████████████████| 1000/1000 [00:00<00:00, 4317.12it/s]\u001b[A\n"
     ]
    },
    {
     "name": "stdout",
     "output_type": "stream",
     "text": [
      "Tetela_tete1250.csv\n"
     ]
    },
    {
     "name": "stderr",
     "output_type": "stream",
     "text": [
      "\n",
      "  0%|                                                  | 0/1000 [00:00<?, ?it/s]\u001b[A\n",
      " 32%|████████████                          | 316/1000 [00:00<00:00, 3154.07it/s]\u001b[A\n",
      " 63%|████████████████████████              | 632/1000 [00:00<00:00, 3106.97it/s]\u001b[A\n",
      "100%|█████████████████████████████████████| 1000/1000 [00:00<00:00, 3011.01it/s]\u001b[A\n"
     ]
    },
    {
     "name": "stdout",
     "output_type": "stream",
     "text": [
      "Kélé_kele1257.csv\n",
      "Meta_meta1238.csv\n"
     ]
    },
    {
     "name": "stderr",
     "output_type": "stream",
     "text": [
      "\n",
      "  0%|                                                  | 0/1000 [00:00<?, ?it/s]\u001b[A\n",
      "100%|█████████████████████████████████████| 1000/1000 [00:00<00:00, 7335.96it/s]\u001b[A\n"
     ]
    },
    {
     "name": "stdout",
     "output_type": "stream",
     "text": [
      "Bende_bend1258.csv\n"
     ]
    },
    {
     "name": "stderr",
     "output_type": "stream",
     "text": [
      "\n",
      "  0%|                                                  | 0/1000 [00:00<?, ?it/s]\u001b[A\n",
      " 30%|███████████▌                          | 305/1000 [00:00<00:00, 3048.59it/s]\u001b[A\n",
      "100%|█████████████████████████████████████| 1000/1000 [00:00<00:00, 3568.04it/s]\u001b[A\n"
     ]
    },
    {
     "name": "stdout",
     "output_type": "stream",
     "text": [
      "Umbundu_umbu1257.csv\n"
     ]
    },
    {
     "name": "stderr",
     "output_type": "stream",
     "text": [
      "\n",
      "  0%|                                                  | 0/1000 [00:00<?, ?it/s]\u001b[A\n",
      " 39%|██████████████▊                       | 390/1000 [00:00<00:00, 3894.04it/s]\u001b[A\n",
      "100%|█████████████████████████████████████| 1000/1000 [00:00<00:00, 3786.03it/s]\u001b[A\n"
     ]
    },
    {
     "name": "stdout",
     "output_type": "stream",
     "text": [
      "Gusii_gusi1247.csv\n"
     ]
    },
    {
     "name": "stderr",
     "output_type": "stream",
     "text": [
      "\n",
      "  0%|                                                  | 0/1000 [00:00<?, ?it/s]\u001b[A\n",
      " 41%|███████████████▋                      | 413/1000 [00:00<00:00, 4126.53it/s]\u001b[A\n",
      "100%|█████████████████████████████████████| 1000/1000 [00:00<00:00, 4058.06it/s]\u001b[A\n"
     ]
    },
    {
     "name": "stdout",
     "output_type": "stream",
     "text": [
      "Igbo_nucl1417.csv\n"
     ]
    },
    {
     "name": "stderr",
     "output_type": "stream",
     "text": [
      "\n",
      "  0%|                                                  | 0/1000 [00:00<?, ?it/s]\u001b[A\n",
      " 37%|█████████████▉                        | 367/1000 [00:00<00:00, 3662.49it/s]\u001b[A\n",
      "100%|█████████████████████████████████████| 1000/1000 [00:00<00:00, 3688.39it/s]\u001b[A\n"
     ]
    },
    {
     "name": "stdout",
     "output_type": "stream",
     "text": [
      "Kerewe_kere1283.csv\n"
     ]
    },
    {
     "name": "stderr",
     "output_type": "stream",
     "text": [
      "\n",
      "  0%|                                                  | 0/1000 [00:00<?, ?it/s]\u001b[A\n",
      "100%|█████████████████████████████████████| 1000/1000 [00:00<00:00, 7801.95it/s]\u001b[A\n"
     ]
    },
    {
     "name": "stdout",
     "output_type": "stream",
     "text": [
      "Tsogo_tsog1243.csv\n"
     ]
    },
    {
     "name": "stderr",
     "output_type": "stream",
     "text": [
      "\n",
      "100%|████████████████████████████████████| 1000/1000 [00:00<00:00, 10288.48it/s]\u001b[A\n"
     ]
    },
    {
     "name": "stdout",
     "output_type": "stream",
     "text": [
      "Myene_myen1241.csv\n"
     ]
    },
    {
     "name": "stderr",
     "output_type": "stream",
     "text": [
      "\n",
      "  0%|                                                  | 0/1000 [00:00<?, ?it/s]\u001b[A\n",
      " 27%|██████████▎                           | 271/1000 [00:00<00:00, 2703.99it/s]\u001b[A\n",
      " 55%|█████████████████████                 | 553/1000 [00:00<00:00, 2768.22it/s]\u001b[A\n",
      "100%|█████████████████████████████████████| 1000/1000 [00:00<00:00, 2756.53it/s]\u001b[A\n"
     ]
    },
    {
     "name": "stdout",
     "output_type": "stream",
     "text": [
      "Ding_ding1239.csv\n"
     ]
    },
    {
     "name": "stderr",
     "output_type": "stream",
     "text": [
      "\n",
      "  0%|                                                  | 0/1000 [00:00<?, ?it/s]\u001b[A\n",
      " 17%|██████▌                               | 172/1000 [00:00<00:00, 1672.18it/s]\u001b[A\n",
      " 34%|████████████▉                         | 340/1000 [00:00<00:00, 1594.74it/s]\u001b[A\n",
      " 50%|███████████████████                   | 500/1000 [00:00<00:00, 1347.72it/s]\u001b[A\n",
      " 71%|███████████████████████████▏          | 714/1000 [00:00<00:00, 1620.79it/s]\u001b[A\n",
      "100%|█████████████████████████████████████| 1000/1000 [00:00<00:00, 1689.65it/s]\u001b[A\n"
     ]
    },
    {
     "name": "stdout",
     "output_type": "stream",
     "text": [
      "Masaaba_masa1299.csv\n"
     ]
    },
    {
     "name": "stderr",
     "output_type": "stream",
     "text": [
      "\n",
      "  0%|                                                  | 0/1000 [00:00<?, ?it/s]\u001b[A\n",
      " 27%|██████████▎                           | 272/1000 [00:00<00:00, 2718.94it/s]\u001b[A\n",
      " 54%|████████████████████▋                 | 544/1000 [00:00<00:00, 2483.61it/s]\u001b[A\n",
      "100%|█████████████████████████████████████| 1000/1000 [00:00<00:00, 2566.59it/s]\u001b[A\n"
     ]
    },
    {
     "name": "stdout",
     "output_type": "stream",
     "text": [
      "Luba_Lulua_luba1249.csv\n"
     ]
    },
    {
     "name": "stderr",
     "output_type": "stream",
     "text": [
      "\n",
      "  0%|                                                  | 0/1000 [00:00<?, ?it/s]\u001b[A\n",
      " 29%|██████████▉                           | 289/1000 [00:00<00:00, 2888.06it/s]\u001b[A\n",
      " 58%|█████████████████████▉                | 578/1000 [00:00<00:00, 1306.13it/s]\u001b[A\n",
      " 77%|█████████████████████████████▏        | 769/1000 [00:00<00:00, 1471.50it/s]\u001b[A\n",
      "100%|█████████████████████████████████████| 1000/1000 [00:00<00:00, 1573.83it/s]\u001b[A\n"
     ]
    },
    {
     "name": "stdout",
     "output_type": "stream",
     "text": [
      "Fefe_fefe1239.csv\n"
     ]
    },
    {
     "name": "stderr",
     "output_type": "stream",
     "text": [
      "\n",
      "  0%|                                                  | 0/1000 [00:00<?, ?it/s]\u001b[A\n",
      " 13%|█████                                 | 132/1000 [00:00<00:00, 1247.10it/s]\u001b[A\n",
      " 31%|███████████▊                          | 312/1000 [00:00<00:00, 1563.27it/s]\u001b[A\n",
      " 61%|███████████████████████▏              | 610/1000 [00:00<00:00, 2200.10it/s]\u001b[A\n",
      "100%|█████████████████████████████████████| 1000/1000 [00:00<00:00, 1697.60it/s]\u001b[A\n"
     ]
    },
    {
     "name": "stdout",
     "output_type": "stream",
     "text": [
      "Budza_budz1238.csv\n"
     ]
    },
    {
     "name": "stderr",
     "output_type": "stream",
     "text": [
      "\n",
      "  0%|                                                  | 0/1000 [00:00<?, ?it/s]\u001b[A\n",
      "100%|█████████████████████████████████████| 1000/1000 [00:00<00:00, 7359.59it/s]\u001b[A\n"
     ]
    },
    {
     "name": "stdout",
     "output_type": "stream",
     "text": [
      "Duala_dual1243.csv\n"
     ]
    },
    {
     "name": "stderr",
     "output_type": "stream",
     "text": [
      "\n",
      "  0%|                                                  | 0/1000 [00:00<?, ?it/s]\u001b[A\n",
      " 33%|████████████▌                         | 329/1000 [00:00<00:00, 3286.23it/s]\u001b[A\n",
      " 66%|█████████████████████████             | 658/1000 [00:00<00:00, 2949.08it/s]\u001b[A\n",
      "100%|█████████████████████████████████████| 1000/1000 [00:00<00:00, 2417.45it/s]\u001b[A\n"
     ]
    },
    {
     "name": "stdout",
     "output_type": "stream",
     "text": [
      "Mokpwe_mokp1239.csv\n"
     ]
    },
    {
     "name": "stderr",
     "output_type": "stream",
     "text": [
      "\n",
      "  0%|                                                  | 0/1000 [00:00<?, ?it/s]\u001b[A\n",
      " 28%|██████████▋                           | 281/1000 [00:00<00:00, 2807.08it/s]\u001b[A\n",
      " 56%|█████████████████████▎                | 562/1000 [00:00<00:00, 2590.18it/s]\u001b[A\n",
      "100%|█████████████████████████████████████| 1000/1000 [00:00<00:00, 2355.63it/s]\u001b[A\n"
     ]
    },
    {
     "name": "stdout",
     "output_type": "stream",
     "text": [
      "Rundi_rund1242.csv\n"
     ]
    },
    {
     "name": "stderr",
     "output_type": "stream",
     "text": [
      "\n",
      "  0%|                                                  | 0/1000 [00:00<?, ?it/s]\u001b[A\n",
      " 23%|████████▋                             | 230/1000 [00:00<00:00, 2295.32it/s]\u001b[A\n",
      " 48%|██████████████████▏                   | 480/1000 [00:00<00:00, 2411.74it/s]\u001b[A\n",
      " 72%|███████████████████████████▍          | 722/1000 [00:00<00:00, 2035.93it/s]\u001b[A\n",
      "100%|█████████████████████████████████████| 1000/1000 [00:00<00:00, 1795.56it/s]\u001b[A\n"
     ]
    },
    {
     "name": "stdout",
     "output_type": "stream",
     "text": [
      "Langi_lang1320.csv\n"
     ]
    },
    {
     "name": "stderr",
     "output_type": "stream",
     "text": [
      "\n",
      "  0%|                                                  | 0/1000 [00:00<?, ?it/s]\u001b[A\n",
      " 22%|████████▏                             | 216/1000 [00:00<00:00, 2155.26it/s]\u001b[A\n",
      " 43%|████████████████▍                     | 432/1000 [00:00<00:00, 1998.24it/s]\u001b[A\n",
      " 63%|████████████████████████              | 633/1000 [00:00<00:00, 1944.79it/s]\u001b[A\n",
      "100%|█████████████████████████████████████| 1000/1000 [00:00<00:00, 1912.53it/s]\u001b[A\n"
     ]
    },
    {
     "name": "stdout",
     "output_type": "stream",
     "text": [
      "Yaka_Pelende_Lonzo_yaka1269.csv\n"
     ]
    },
    {
     "name": "stderr",
     "output_type": "stream",
     "text": [
      "\n",
      "  0%|                                                  | 0/1000 [00:00<?, ?it/s]\u001b[A\n",
      " 28%|██████████▊                           | 283/1000 [00:00<00:00, 2822.26it/s]\u001b[A\n",
      " 57%|█████████████████████▌                | 566/1000 [00:00<00:00, 2724.16it/s]\u001b[A\n",
      "100%|█████████████████████████████████████| 1000/1000 [00:00<00:00, 2257.51it/s]\u001b[A\n"
     ]
    },
    {
     "name": "stdout",
     "output_type": "stream",
     "text": [
      "Meru_meru1245.csv\n"
     ]
    },
    {
     "name": "stderr",
     "output_type": "stream",
     "text": [
      "\n",
      "  0%|                                                  | 0/1000 [00:00<?, ?it/s]\u001b[A\n",
      " 26%|█████████▋                            | 256/1000 [00:00<00:00, 2558.03it/s]\u001b[A\n",
      " 51%|███████████████████▍                  | 512/1000 [00:00<00:00, 2535.14it/s]\u001b[A\n",
      "100%|█████████████████████████████████████| 1000/1000 [00:00<00:00, 2243.06it/s]\u001b[A\n"
     ]
    },
    {
     "name": "stdout",
     "output_type": "stream",
     "text": [
      "Venda_vend1245.csv\n"
     ]
    },
    {
     "name": "stderr",
     "output_type": "stream",
     "text": [
      "\n",
      "  0%|                                                  | 0/1000 [00:00<?, ?it/s]\u001b[A\n",
      " 47%|█████████████████▊                    | 468/1000 [00:00<00:00, 4677.37it/s]\u001b[A\n",
      "100%|█████████████████████████████████████| 1000/1000 [00:00<00:00, 4472.59it/s]\u001b[A\n"
     ]
    },
    {
     "name": "stdout",
     "output_type": "stream",
     "text": [
      "Shi_shii1238.csv\n"
     ]
    },
    {
     "name": "stderr",
     "output_type": "stream",
     "text": [
      "\n",
      "  0%|                                                  | 0/1000 [00:00<?, ?it/s]\u001b[A\n",
      " 25%|█████████▋                            | 254/1000 [00:00<00:00, 2537.74it/s]\u001b[A\n",
      " 51%|███████████████████▎                  | 508/1000 [00:00<00:00, 2070.74it/s]\u001b[A\n",
      "100%|█████████████████████████████████████| 1000/1000 [00:00<00:00, 2458.91it/s]\u001b[A\n"
     ]
    },
    {
     "name": "stdout",
     "output_type": "stream",
     "text": [
      "Mungaka_mung1266.csv\n"
     ]
    },
    {
     "name": "stderr",
     "output_type": "stream",
     "text": [
      "\n",
      "  0%|                                                  | 0/1000 [00:00<?, ?it/s]\u001b[A\n",
      "100%|█████████████████████████████████████| 1000/1000 [00:00<00:00, 5964.84it/s]\u001b[A\n"
     ]
    },
    {
     "name": "stdout",
     "output_type": "stream",
     "text": [
      "Chokwe_chok1245.csv\n"
     ]
    },
    {
     "name": "stderr",
     "output_type": "stream",
     "text": [
      "\n",
      "  0%|                                                  | 0/1000 [00:00<?, ?it/s]\u001b[A\n",
      " 23%|████████▋                             | 229/1000 [00:00<00:00, 2283.08it/s]\u001b[A\n",
      " 46%|█████████████████▍                    | 458/1000 [00:00<00:00, 2037.96it/s]\u001b[A\n",
      " 68%|█████████████████████████▉            | 684/1000 [00:00<00:00, 2131.71it/s]\u001b[A\n",
      "100%|█████████████████████████████████████| 1000/1000 [00:00<00:00, 2009.94it/s]\u001b[A\n"
     ]
    },
    {
     "name": "stdout",
     "output_type": "stream",
     "text": [
      "Tiv_tivv1240.csv\n"
     ]
    },
    {
     "name": "stderr",
     "output_type": "stream",
     "text": [
      "\n",
      "  0%|                                                  | 0/1000 [00:00<?, ?it/s]\u001b[A\n",
      " 19%|███████▎                              | 194/1000 [00:00<00:00, 1937.83it/s]\u001b[A\n",
      " 39%|██████████████▋                       | 388/1000 [00:00<00:00, 1779.63it/s]\u001b[A\n",
      " 57%|█████████████████████▌                | 567/1000 [00:00<00:00, 1669.94it/s]\u001b[A\n",
      " 74%|███████████████████████████▉          | 735/1000 [00:00<00:00, 1510.81it/s]\u001b[A\n",
      "100%|█████████████████████████████████████| 1000/1000 [00:00<00:00, 1573.39it/s]\u001b[A\n"
     ]
    },
    {
     "name": "stdout",
     "output_type": "stream",
     "text": [
      "Gogo_gogo1263.csv\n"
     ]
    },
    {
     "name": "stderr",
     "output_type": "stream",
     "text": [
      "\n",
      "  0%|                                                  | 0/1000 [00:00<?, ?it/s]\u001b[A\n",
      " 22%|████████▏                             | 217/1000 [00:00<00:00, 2167.34it/s]\u001b[A\n",
      " 43%|████████████████▍                     | 434/1000 [00:00<00:00, 2139.73it/s]\u001b[A\n",
      " 66%|████████████████████████▉             | 657/1000 [00:00<00:00, 2176.72it/s]\u001b[A\n",
      "100%|█████████████████████████████████████| 1000/1000 [00:00<00:00, 2197.33it/s]\u001b[A\n"
     ]
    },
    {
     "name": "stdout",
     "output_type": "stream",
     "text": [
      "Bukusu_buku1249.csv\n"
     ]
    },
    {
     "name": "stderr",
     "output_type": "stream",
     "text": [
      "\n",
      "  0%|                                                  | 0/1000 [00:00<?, ?it/s]\u001b[A\n",
      " 22%|████████▍                             | 222/1000 [00:00<00:00, 2219.75it/s]\u001b[A\n",
      " 45%|█████████████████                     | 449/1000 [00:00<00:00, 2245.21it/s]\u001b[A\n",
      " 69%|██████████████████████████▎           | 693/1000 [00:00<00:00, 2330.84it/s]\u001b[A\n",
      "100%|█████████████████████████████████████| 1000/1000 [00:00<00:00, 2168.95it/s]\u001b[A\n"
     ]
    },
    {
     "name": "stdout",
     "output_type": "stream",
     "text": [
      "Ganda_gand1255.csv\n"
     ]
    },
    {
     "name": "stderr",
     "output_type": "stream",
     "text": [
      "\n",
      "  0%|                                                  | 0/1000 [00:00<?, ?it/s]\u001b[A\n",
      " 25%|█████████▍                            | 249/1000 [00:00<00:00, 2487.41it/s]\u001b[A\n",
      " 50%|██████████████████▉                   | 498/1000 [00:00<00:00, 2372.10it/s]\u001b[A\n",
      "100%|█████████████████████████████████████| 1000/1000 [00:00<00:00, 2533.66it/s]\u001b[A\n"
     ]
    },
    {
     "name": "stdout",
     "output_type": "stream",
     "text": [
      "Kwere_kwer1261.csv\n"
     ]
    },
    {
     "name": "stderr",
     "output_type": "stream",
     "text": [
      "\n",
      "  0%|                                                  | 0/1000 [00:00<?, ?it/s]\u001b[A\n",
      " 35%|█████████████▍                        | 354/1000 [00:00<00:00, 3530.75it/s]\u001b[A\n",
      "100%|█████████████████████████████████████| 1000/1000 [00:00<00:00, 3501.78it/s]\u001b[A\n"
     ]
    },
    {
     "name": "stdout",
     "output_type": "stream",
     "text": [
      "Taabwa_shil1264.csv\n"
     ]
    },
    {
     "name": "stderr",
     "output_type": "stream",
     "text": [
      "\n",
      "  0%|                                                  | 0/1000 [00:00<?, ?it/s]\u001b[A\n",
      "100%|█████████████████████████████████████| 1000/1000 [00:00<00:00, 4814.25it/s]\u001b[A\n"
     ]
    },
    {
     "name": "stdout",
     "output_type": "stream",
     "text": [
      "Bena_Tanzania__bena1262.csv\n"
     ]
    },
    {
     "name": "stderr",
     "output_type": "stream",
     "text": [
      "\n",
      "  0%|                                                  | 0/1000 [00:00<?, ?it/s]\u001b[A\n",
      " 27%|██████████▎                           | 272/1000 [00:00<00:00, 2713.24it/s]\u001b[A\n",
      " 56%|█████████████████████▎                | 561/1000 [00:00<00:00, 2816.34it/s]\u001b[A\n",
      "100%|█████████████████████████████████████| 1000/1000 [00:00<00:00, 2275.88it/s]\u001b[A\n"
     ]
    },
    {
     "name": "stdout",
     "output_type": "stream",
     "text": [
      "Sira_sira1266.csv\n",
      "Tooro_toor1238.csv\n"
     ]
    },
    {
     "name": "stderr",
     "output_type": "stream",
     "text": [
      "\n",
      "  0%|                                                  | 0/1000 [00:00<?, ?it/s]\u001b[A\n",
      " 10%|███▉                                    | 98/1000 [00:00<00:00, 975.12it/s]\u001b[A\n",
      " 20%|███████▋                               | 196/1000 [00:00<00:00, 960.30it/s]\u001b[A\n",
      " 40%|███████████████▏                      | 401/1000 [00:00<00:00, 1449.88it/s]\u001b[A\n",
      " 63%|███████████████████████▊              | 628/1000 [00:00<00:00, 1770.75it/s]\u001b[A\n",
      "100%|█████████████████████████████████████| 1000/1000 [00:00<00:00, 1723.59it/s]\u001b[A\n"
     ]
    },
    {
     "name": "stdout",
     "output_type": "stream",
     "text": [
      "Luguru_lugu1238.csv\n"
     ]
    },
    {
     "name": "stderr",
     "output_type": "stream",
     "text": [
      "\n",
      "  0%|                                                  | 0/1000 [00:00<?, ?it/s]\u001b[A\n",
      " 22%|████████▌                             | 224/1000 [00:00<00:00, 2232.79it/s]\u001b[A\n",
      " 48%|██████████████████▏                   | 477/1000 [00:00<00:00, 2406.48it/s]\u001b[A\n",
      " 72%|███████████████████████████▎          | 718/1000 [00:00<00:00, 2329.81it/s]\u001b[A\n",
      "100%|█████████████████████████████████████| 1000/1000 [00:00<00:00, 2239.04it/s]\u001b[A\n"
     ]
    },
    {
     "name": "stdout",
     "output_type": "stream",
     "text": [
      "Avatime_avat1244.csv\n"
     ]
    },
    {
     "name": "stderr",
     "output_type": "stream",
     "text": [
      "\n",
      "  0%|                                                  | 0/1000 [00:00<?, ?it/s]\u001b[A\n",
      "100%|█████████████████████████████████████| 1000/1000 [00:00<00:00, 8026.45it/s]\u001b[A\n"
     ]
    },
    {
     "name": "stdout",
     "output_type": "stream",
     "text": [
      "Nyoro_nyor1246.csv\n"
     ]
    },
    {
     "name": "stderr",
     "output_type": "stream",
     "text": [
      "\n",
      "  0%|                                                  | 0/1000 [00:00<?, ?it/s]\u001b[A\n",
      " 26%|█████████▊                            | 258/1000 [00:00<00:00, 2573.54it/s]\u001b[A\n",
      " 52%|███████████████████▌                  | 516/1000 [00:00<00:00, 2033.95it/s]\u001b[A\n",
      "100%|█████████████████████████████████████| 1000/1000 [00:00<00:00, 2250.01it/s]\u001b[A\n"
     ]
    },
    {
     "name": "stdout",
     "output_type": "stream",
     "text": [
      "Sukuma_suku1261.csv\n"
     ]
    },
    {
     "name": "stderr",
     "output_type": "stream",
     "text": [
      "\n",
      "  0%|                                                  | 0/1000 [00:00<?, ?it/s]\u001b[A\n",
      "100%|█████████████████████████████████████| 1000/1000 [00:00<00:00, 5986.52it/s]\u001b[A\n"
     ]
    },
    {
     "name": "stdout",
     "output_type": "stream",
     "text": [
      "Mbala_mbal1257.csv\n"
     ]
    },
    {
     "name": "stderr",
     "output_type": "stream",
     "text": [
      "\n",
      "  0%|                                                  | 0/1000 [00:00<?, ?it/s]\u001b[A\n",
      " 28%|██████████▌                           | 278/1000 [00:00<00:00, 2767.22it/s]\u001b[A\n",
      " 56%|█████████████████████                 | 555/1000 [00:00<00:00, 2727.38it/s]\u001b[A\n",
      "100%|█████████████████████████████████████| 1000/1000 [00:00<00:00, 2660.42it/s]\u001b[A\n"
     ]
    },
    {
     "name": "stdout",
     "output_type": "stream",
     "text": [
      "Seki_seki1238.csv\n"
     ]
    },
    {
     "name": "stderr",
     "output_type": "stream",
     "text": [
      "\n",
      "100%|████████████████████████████████████| 1000/1000 [00:00<00:00, 16768.70it/s]\u001b[A\n"
     ]
    },
    {
     "name": "stdout",
     "output_type": "stream",
     "text": [
      "Asu_Tanzania__asut1235.csv\n"
     ]
    },
    {
     "name": "stderr",
     "output_type": "stream",
     "text": [
      "\n",
      "  0%|                                                  | 0/1000 [00:00<?, ?it/s]\u001b[A\n",
      " 23%|████████▊                             | 231/1000 [00:00<00:00, 2303.13it/s]\u001b[A\n",
      " 46%|█████████████████▌                    | 462/1000 [00:00<00:00, 1231.13it/s]\u001b[A\n",
      " 65%|████████████████████████▌             | 646/1000 [00:00<00:00, 1417.98it/s]\u001b[A\n",
      "100%|█████████████████████████████████████| 1000/1000 [00:00<00:00, 1706.13it/s]\u001b[A\n"
     ]
    },
    {
     "name": "stdout",
     "output_type": "stream",
     "text": [
      "Fang_EG_fang1246.csv\n"
     ]
    },
    {
     "name": "stderr",
     "output_type": "stream",
     "text": [
      "\n",
      "  0%|                                                  | 0/1000 [00:00<?, ?it/s]\u001b[A\n",
      " 27%|██████████▍                           | 274/1000 [00:00<00:00, 2736.82it/s]\u001b[A\n",
      " 55%|████████████████████▊                 | 548/1000 [00:00<00:00, 2617.92it/s]\u001b[A\n",
      "100%|█████████████████████████████████████| 1000/1000 [00:00<00:00, 2711.58it/s]\u001b[A\n"
     ]
    },
    {
     "name": "stdout",
     "output_type": "stream",
     "text": [
      "Lunda_lund1266.csv\n"
     ]
    },
    {
     "name": "stderr",
     "output_type": "stream",
     "text": [
      "\n",
      "  0%|                                                  | 0/1000 [00:00<?, ?it/s]\u001b[A\n",
      " 31%|███████████▋                          | 309/1000 [00:00<00:00, 3087.15it/s]\u001b[A\n",
      " 62%|███████████████████████▍              | 618/1000 [00:00<00:00, 2682.59it/s]\u001b[A\n",
      "100%|█████████████████████████████████████| 1000/1000 [00:00<00:00, 2736.71it/s]\u001b[A\n"
     ]
    },
    {
     "name": "stdout",
     "output_type": "stream",
     "text": [
      "Njebi_njeb1242.csv\n"
     ]
    },
    {
     "name": "stderr",
     "output_type": "stream",
     "text": [
      "\n",
      "100%|████████████████████████████████████| 1000/1000 [00:00<00:00, 10564.92it/s]\u001b[A\n",
      " 19%|████████▍                                   | 4/21 [00:49<04:51, 17.17s/it]"
     ]
    },
    {
     "name": "stdout",
     "output_type": "stream",
     "text": [
      "Morgan1871_Amazulu_(Amazulu_Kafir)_zulu1248.csv\n",
      "Birhor_birh1242.csv\n"
     ]
    },
    {
     "name": "stderr",
     "output_type": "stream",
     "text": [
      "\n",
      "  0%|                                                  | 0/1000 [00:00<?, ?it/s]\u001b[A\n",
      "100%|█████████████████████████████████████| 1000/1000 [00:00<00:00, 5007.36it/s]\u001b[A\n"
     ]
    },
    {
     "name": "stdout",
     "output_type": "stream",
     "text": [
      "Bit_bitt1240.csv\n"
     ]
    },
    {
     "name": "stderr",
     "output_type": "stream",
     "text": [
      "\n",
      "  0%|                                                  | 0/1000 [00:00<?, ?it/s]\u001b[A\n",
      " 26%|█████████▉                            | 261/1000 [00:00<00:00, 2602.40it/s]\u001b[A\n",
      " 53%|████████████████████▏                 | 530/1000 [00:00<00:00, 2653.19it/s]\u001b[A\n",
      "100%|█████████████████████████████████████| 1000/1000 [00:00<00:00, 2743.97it/s]\u001b[A\n"
     ]
    },
    {
     "name": "stdout",
     "output_type": "stream",
     "text": [
      "Jahai_(Jehai)_jeha1242.csv\n",
      "O_du_oduu1239.csv\n"
     ]
    },
    {
     "name": "stderr",
     "output_type": "stream",
     "text": [
      "\n",
      "  0%|                                                  | 0/1000 [00:00<?, ?it/s]\u001b[A\n",
      " 27%|██████████▎                           | 273/1000 [00:00<00:00, 2721.35it/s]\u001b[A\n",
      " 56%|█████████████████████▍                | 564/1000 [00:00<00:00, 2828.01it/s]\u001b[A\n",
      "100%|█████████████████████████████████████| 1000/1000 [00:00<00:00, 2897.46it/s]\u001b[A\n"
     ]
    },
    {
     "name": "stdout",
     "output_type": "stream",
     "text": [
      "Prai_phai1238.csv\n"
     ]
    },
    {
     "name": "stderr",
     "output_type": "stream",
     "text": [
      "\n",
      "  0%|                                                  | 0/1000 [00:00<?, ?it/s]\u001b[A\n",
      " 30%|███████████▍                          | 300/1000 [00:00<00:00, 2991.65it/s]\u001b[A\n",
      " 60%|██████████████████████▊               | 600/1000 [00:00<00:00, 2932.86it/s]\u001b[A\n",
      "100%|█████████████████████████████████████| 1000/1000 [00:00<00:00, 2917.08it/s]\u001b[A\n"
     ]
    },
    {
     "name": "stdout",
     "output_type": "stream",
     "text": [
      "Car_Nicobarese_carn1240.csv\n",
      "Pacoh_paco1243.csv\n"
     ]
    },
    {
     "name": "stderr",
     "output_type": "stream",
     "text": [
      "\n",
      "  0%|                                                  | 0/1000 [00:00<?, ?it/s]\u001b[A\n",
      "100%|█████████████████████████████████████| 1000/1000 [00:00<00:00, 9509.86it/s]\u001b[A\n",
      " 24%|██████████▍                                 | 5/21 [00:51<03:03, 11.49s/it]"
     ]
    },
    {
     "name": "stdout",
     "output_type": "stream",
     "text": [
      "Sa_saaa1241.csv\n"
     ]
    },
    {
     "name": "stderr",
     "output_type": "stream",
     "text": [
      "\n",
      "  0%|                                                  | 0/1000 [00:00<?, ?it/s]\u001b[A\n",
      "100%|█████████████████████████████████████| 1000/1000 [00:00<00:00, 5283.54it/s]\u001b[A"
     ]
    },
    {
     "name": "stdout",
     "output_type": "stream",
     "text": [
      "Balaesang_bala1314.csv\n"
     ]
    },
    {
     "name": "stderr",
     "output_type": "stream",
     "text": [
      "\n",
      "\n",
      "  0%|                                                  | 0/1000 [00:00<?, ?it/s]\u001b[A\n",
      "100%|█████████████████████████████████████| 1000/1000 [00:00<00:00, 6360.95it/s]\u001b[A\n"
     ]
    },
    {
     "name": "stdout",
     "output_type": "stream",
     "text": [
      "Aklanon_akla1241.csv\n"
     ]
    },
    {
     "name": "stderr",
     "output_type": "stream",
     "text": [
      "\n",
      "  0%|                                                  | 0/1000 [00:00<?, ?it/s]\u001b[A\n",
      " 31%|███████████▊                          | 311/1000 [00:00<00:00, 3101.22it/s]\u001b[A\n",
      " 62%|███████████████████████▋              | 622/1000 [00:00<00:00, 3097.44it/s]\u001b[A\n",
      "100%|█████████████████████████████████████| 1000/1000 [00:00<00:00, 3067.69it/s]\u001b[A\n"
     ]
    },
    {
     "name": "stdout",
     "output_type": "stream",
     "text": [
      "Namakura_nama1268b.csv\n"
     ]
    },
    {
     "name": "stderr",
     "output_type": "stream",
     "text": [
      "\n",
      "100%|████████████████████████████████████| 1000/1000 [00:00<00:00, 10543.86it/s]\u001b[A\n"
     ]
    },
    {
     "name": "stdout",
     "output_type": "stream",
     "text": [
      "Woleaian_wole1240.csv\n"
     ]
    },
    {
     "name": "stderr",
     "output_type": "stream",
     "text": [
      "\n",
      "100%|████████████████████████████████████| 1000/1000 [00:00<00:00, 11491.50it/s]\u001b[A\n"
     ]
    },
    {
     "name": "stdout",
     "output_type": "stream",
     "text": [
      "Dondo_dond1249.csv\n"
     ]
    },
    {
     "name": "stderr",
     "output_type": "stream",
     "text": [
      "\n",
      "  0%|                                                  | 0/1000 [00:00<?, ?it/s]\u001b[A\n",
      " 29%|███████████▏                          | 294/1000 [00:00<00:00, 2933.14it/s]\u001b[A\n",
      " 61%|███████████████████████               | 608/1000 [00:00<00:00, 3054.26it/s]\u001b[A\n",
      "100%|█████████████████████████████████████| 1000/1000 [00:00<00:00, 3000.82it/s]\u001b[A\n"
     ]
    },
    {
     "name": "stdout",
     "output_type": "stream",
     "text": [
      "Nengone_neng1238.csv\n"
     ]
    },
    {
     "name": "stderr",
     "output_type": "stream",
     "text": [
      "\n",
      "  0%|                                                  | 0/1000 [00:00<?, ?it/s]\u001b[A\n",
      " 19%|███████                               | 186/1000 [00:00<00:00, 1857.46it/s]\u001b[A\n",
      " 44%|████████████████▋                     | 440/1000 [00:00<00:00, 2257.27it/s]\u001b[A\n",
      "100%|█████████████████████████████████████| 1000/1000 [00:00<00:00, 2735.37it/s]\u001b[A\n"
     ]
    },
    {
     "name": "stdout",
     "output_type": "stream",
     "text": [
      "Ontong_Java_onto1237.csv\n"
     ]
    },
    {
     "name": "stderr",
     "output_type": "stream",
     "text": [
      "\n",
      "  0%|                                                  | 0/1000 [00:00<?, ?it/s]\u001b[A\n",
      " 24%|█████████▏                            | 243/1000 [00:00<00:00, 2414.61it/s]\u001b[A\n",
      " 51%|███████████████████▎                  | 508/1000 [00:00<00:00, 2550.65it/s]\u001b[A\n",
      "100%|█████████████████████████████████████| 1000/1000 [00:00<00:00, 2365.12it/s]\u001b[A\n"
     ]
    },
    {
     "name": "stdout",
     "output_type": "stream",
     "text": [
      "Futunans_east2447.csv\n"
     ]
    },
    {
     "name": "stderr",
     "output_type": "stream",
     "text": [
      "\n",
      "  0%|                                                  | 0/1000 [00:00<?, ?it/s]\u001b[A\n",
      " 19%|███████▏                              | 188/1000 [00:00<00:00, 1873.35it/s]\u001b[A\n",
      " 38%|██████████████▎                       | 376/1000 [00:00<00:00, 1583.05it/s]\u001b[A\n",
      " 57%|█████████████████████▌                | 568/1000 [00:00<00:00, 1721.82it/s]\u001b[A\n",
      " 74%|████████████████████████████▎         | 744/1000 [00:00<00:00, 1710.27it/s]\u001b[A\n",
      "100%|█████████████████████████████████████| 1000/1000 [00:00<00:00, 1701.81it/s]\u001b[A\n"
     ]
    },
    {
     "name": "stdout",
     "output_type": "stream",
     "text": [
      "Iraya_iray1237.csv\n"
     ]
    },
    {
     "name": "stderr",
     "output_type": "stream",
     "text": [
      "\n",
      "  0%|                                                  | 0/1000 [00:00<?, ?it/s]\u001b[A\n",
      " 26%|█████████▉                            | 261/1000 [00:00<00:00, 2606.07it/s]\u001b[A\n",
      " 52%|███████████████████▊                  | 522/1000 [00:00<00:00, 1037.86it/s]\u001b[A\n",
      " 71%|██████████████████████████▊           | 706/1000 [00:00<00:00, 1237.98it/s]\u001b[A\n",
      "100%|█████████████████████████████████████| 1000/1000 [00:00<00:00, 1358.03it/s]\u001b[A\n"
     ]
    },
    {
     "name": "stdout",
     "output_type": "stream",
     "text": [
      "Chamarro_cham1312.csv\n"
     ]
    },
    {
     "name": "stderr",
     "output_type": "stream",
     "text": [
      "\n",
      "  0%|                                                  | 0/1000 [00:00<?, ?it/s]\u001b[A\n",
      " 19%|███████                               | 186/1000 [00:00<00:00, 1849.94it/s]\u001b[A\n",
      " 42%|████████████████                      | 424/1000 [00:00<00:00, 2158.46it/s]\u001b[A\n",
      " 66%|█████████████████████████▏            | 664/1000 [00:00<00:00, 2264.02it/s]\u001b[A\n",
      "100%|█████████████████████████████████████| 1000/1000 [00:00<00:00, 2317.29it/s]\u001b[A\n"
     ]
    },
    {
     "name": "stdout",
     "output_type": "stream",
     "text": [
      "Central_Tagbanwa_cent2090.csv\n"
     ]
    },
    {
     "name": "stderr",
     "output_type": "stream",
     "text": [
      "\n",
      "  0%|                                                  | 0/1000 [00:00<?, ?it/s]\u001b[A\n",
      " 29%|██████████▉                           | 289/1000 [00:00<00:00, 2887.83it/s]\u001b[A\n",
      " 60%|██████████████████████▌               | 595/1000 [00:00<00:00, 2987.83it/s]\u001b[A\n",
      "100%|█████████████████████████████████████| 1000/1000 [00:00<00:00, 2925.65it/s]\u001b[A\n"
     ]
    },
    {
     "name": "stdout",
     "output_type": "stream",
     "text": [
      "Pama_(Paamanese)_paam1238.csv\n"
     ]
    },
    {
     "name": "stderr",
     "output_type": "stream",
     "text": [
      "\n",
      "  0%|                                                  | 0/1000 [00:00<?, ?it/s]\u001b[A\n",
      "100%|█████████████████████████████████████| 1000/1000 [00:00<00:00, 6272.03it/s]\u001b[A\n"
     ]
    },
    {
     "name": "stdout",
     "output_type": "stream",
     "text": [
      "Ilokano_ilok1237.csv\n"
     ]
    },
    {
     "name": "stderr",
     "output_type": "stream",
     "text": [
      "\n",
      "  0%|                                                  | 0/1000 [00:00<?, ?it/s]\u001b[A\n",
      " 27%|██████████▎                           | 271/1000 [00:00<00:00, 2697.83it/s]\u001b[A\n",
      " 55%|████████████████████▋                 | 546/1000 [00:00<00:00, 2724.81it/s]\u001b[A\n",
      "100%|█████████████████████████████████████| 1000/1000 [00:00<00:00, 2667.83it/s]\u001b[A\n"
     ]
    },
    {
     "name": "stdout",
     "output_type": "stream",
     "text": [
      "Sa_a_saaa1240.csv\n"
     ]
    },
    {
     "name": "stderr",
     "output_type": "stream",
     "text": [
      "\n",
      "  0%|                                                  | 0/1000 [00:00<?, ?it/s]\u001b[A\n",
      " 32%|████████████                          | 319/1000 [00:00<00:00, 3150.99it/s]\u001b[A\n",
      "100%|█████████████████████████████████████| 1000/1000 [00:00<00:00, 3343.35it/s]\u001b[A\n"
     ]
    },
    {
     "name": "stdout",
     "output_type": "stream",
     "text": [
      "Dakaka_daka1243.csv\n"
     ]
    },
    {
     "name": "stderr",
     "output_type": "stream",
     "text": [
      "\n",
      "  0%|                                                  | 0/1000 [00:00<?, ?it/s]\u001b[A\n",
      " 37%|█████████████▉                        | 368/1000 [00:00<00:00, 3679.74it/s]\u001b[A\n",
      "100%|█████████████████████████████████████| 1000/1000 [00:00<00:00, 2770.21it/s]\u001b[A\n"
     ]
    },
    {
     "name": "stdout",
     "output_type": "stream",
     "text": [
      "Buru_(Indonesia)_buru1303.csv\n"
     ]
    },
    {
     "name": "stderr",
     "output_type": "stream",
     "text": [
      "\n",
      "  0%|                                                  | 0/1000 [00:00<?, ?it/s]\u001b[A\n",
      "100%|█████████████████████████████████████| 1000/1000 [00:00<00:00, 6041.93it/s]\u001b[A\n"
     ]
    },
    {
     "name": "stdout",
     "output_type": "stream",
     "text": [
      "Tigak_tiga1245.csv\n"
     ]
    },
    {
     "name": "stderr",
     "output_type": "stream",
     "text": [
      "\n",
      "100%|████████████████████████████████████| 1000/1000 [00:00<00:00, 12324.70it/s]\u001b[A\n"
     ]
    },
    {
     "name": "stdout",
     "output_type": "stream",
     "text": [
      "Southwest_Tanna_sout2869.csv\n"
     ]
    },
    {
     "name": "stderr",
     "output_type": "stream",
     "text": [
      "\n",
      "  0%|                                                  | 0/1000 [00:00<?, ?it/s]\u001b[A\n",
      " 30%|███████████▌                          | 303/1000 [00:00<00:00, 3027.37it/s]\u001b[A\n",
      " 61%|███████████████████████               | 606/1000 [00:00<00:00, 2742.76it/s]\u001b[A\n",
      "100%|█████████████████████████████████████| 1000/1000 [00:00<00:00, 2747.32it/s]\u001b[A\n"
     ]
    },
    {
     "name": "stdout",
     "output_type": "stream",
     "text": [
      "Bwaidoga_bwai1243.csv\n"
     ]
    },
    {
     "name": "stderr",
     "output_type": "stream",
     "text": [
      "\n",
      "100%|████████████████████████████████████| 1000/1000 [00:00<00:00, 15052.12it/s]\u001b[A\n"
     ]
    },
    {
     "name": "stdout",
     "output_type": "stream",
     "text": [
      "Kankanaey_(Kankanai)_kank1243.csv\n"
     ]
    },
    {
     "name": "stderr",
     "output_type": "stream",
     "text": [
      "\n",
      "  0%|                                                  | 0/1000 [00:00<?, ?it/s]\u001b[A\n",
      " 31%|███████████▋                          | 309/1000 [00:00<00:00, 3084.72it/s]\u001b[A\n",
      " 62%|███████████████████████▍              | 618/1000 [00:00<00:00, 3011.94it/s]\u001b[A\n",
      "100%|█████████████████████████████████████| 1000/1000 [00:00<00:00, 2845.94it/s]\u001b[A\n"
     ]
    },
    {
     "name": "stdout",
     "output_type": "stream",
     "text": [
      "Lonwolwol_lonw1238.csv\n"
     ]
    },
    {
     "name": "stderr",
     "output_type": "stream",
     "text": [
      "\n",
      "  0%|                                                  | 0/1000 [00:00<?, ?it/s]\u001b[A\n",
      "100%|█████████████████████████████████████| 1000/1000 [00:00<00:00, 6344.57it/s]\u001b[A\n"
     ]
    },
    {
     "name": "stdout",
     "output_type": "stream",
     "text": [
      "Maranao_(Lanao_Moro)_mara1404.csv\n"
     ]
    },
    {
     "name": "stderr",
     "output_type": "stream",
     "text": [
      "\n",
      "  0%|                                                  | 0/1000 [00:00<?, ?it/s]\u001b[A\n",
      " 33%|████████████▌                         | 332/1000 [00:00<00:00, 3315.51it/s]\u001b[A\n",
      " 66%|█████████████████████████▏            | 664/1000 [00:00<00:00, 3245.79it/s]\u001b[A\n",
      "100%|█████████████████████████████████████| 1000/1000 [00:00<00:00, 2752.13it/s]\u001b[A\n"
     ]
    },
    {
     "name": "stdout",
     "output_type": "stream",
     "text": [
      "Lamahalot_lama1277.csv\n",
      "Bilibil_bilb1241.csv\n"
     ]
    },
    {
     "name": "stderr",
     "output_type": "stream",
     "text": [
      "\n",
      "  0%|                                                  | 0/1000 [00:00<?, ?it/s]\u001b[A\n",
      " 20%|███████▋                              | 202/1000 [00:00<00:00, 2013.69it/s]\u001b[A\n",
      " 40%|███████████████▎                      | 404/1000 [00:00<00:00, 1776.73it/s]\u001b[A\n",
      " 62%|███████████████████████▍              | 616/1000 [00:00<00:00, 1920.36it/s]\u001b[A\n",
      "100%|█████████████████████████████████████| 1000/1000 [00:00<00:00, 2009.85it/s]\u001b[A\n"
     ]
    },
    {
     "name": "stdout",
     "output_type": "stream",
     "text": [
      "Bungku_bung1269.csv\n"
     ]
    },
    {
     "name": "stderr",
     "output_type": "stream",
     "text": [
      "\n",
      "  0%|                                                  | 0/1000 [00:00<?, ?it/s]\u001b[A\n",
      " 26%|██████████                            | 265/1000 [00:00<00:00, 2645.34it/s]\u001b[A\n",
      " 53%|████████████████████▏                 | 530/1000 [00:00<00:00, 2537.71it/s]\u001b[A\n",
      "100%|█████████████████████████████████████| 1000/1000 [00:00<00:00, 2644.10it/s]\u001b[A\n"
     ]
    },
    {
     "name": "stdout",
     "output_type": "stream",
     "text": [
      "Colloquial_Malay_mala1479.csv\n"
     ]
    },
    {
     "name": "stderr",
     "output_type": "stream",
     "text": [
      "\n",
      "  0%|                                                  | 0/1000 [00:00<?, ?it/s]\u001b[A\n",
      " 25%|█████████▌                            | 252/1000 [00:00<00:00, 2507.89it/s]\u001b[A\n",
      " 50%|███████████████████▏                  | 504/1000 [00:00<00:00, 2510.96it/s]\u001b[A\n",
      "100%|█████████████████████████████████████| 1000/1000 [00:00<00:00, 2442.59it/s]\u001b[A\n"
     ]
    },
    {
     "name": "stdout",
     "output_type": "stream",
     "text": [
      "Dehu_dehu1237.csv\n"
     ]
    },
    {
     "name": "stderr",
     "output_type": "stream",
     "text": [
      "\n",
      "100%|████████████████████████████████████| 1000/1000 [00:00<00:00, 12086.67it/s]\u001b[A\n"
     ]
    },
    {
     "name": "stdout",
     "output_type": "stream",
     "text": [
      "Wiwirano_wiwi1237.csv\n"
     ]
    },
    {
     "name": "stderr",
     "output_type": "stream",
     "text": [
      "\n",
      "  0%|                                                  | 0/1000 [00:00<?, ?it/s]\u001b[A\n",
      "100%|█████████████████████████████████████| 1000/1000 [00:00<00:00, 8357.85it/s]\u001b[A\n"
     ]
    },
    {
     "name": "stdout",
     "output_type": "stream",
     "text": [
      "Futuna-Aniwa_futu1245.csv\n"
     ]
    },
    {
     "name": "stderr",
     "output_type": "stream",
     "text": [
      "\n",
      "  0%|                                                  | 0/1000 [00:00<?, ?it/s]\u001b[A\n",
      " 38%|██████████████▌                       | 384/1000 [00:00<00:00, 3838.24it/s]\u001b[A\n",
      "100%|█████████████████████████████████████| 1000/1000 [00:00<00:00, 3633.00it/s]\u001b[A\n"
     ]
    },
    {
     "name": "stdout",
     "output_type": "stream",
     "text": [
      "Ampibabo_Lauje_ampi1237.csv\n"
     ]
    },
    {
     "name": "stderr",
     "output_type": "stream",
     "text": [
      "\n",
      "  0%|                                                  | 0/1000 [00:00<?, ?it/s]\u001b[A\n",
      " 28%|██████████▋                           | 280/1000 [00:00<00:00, 2797.51it/s]\u001b[A\n",
      " 57%|█████████████████████▌                | 566/1000 [00:00<00:00, 2830.70it/s]\u001b[A\n",
      "100%|█████████████████████████████████████| 1000/1000 [00:00<00:00, 2734.18it/s]\u001b[A\n"
     ]
    },
    {
     "name": "stdout",
     "output_type": "stream",
     "text": [
      "Maguindanao_(Magindonao_Moro)_magu1243.csv\n"
     ]
    },
    {
     "name": "stderr",
     "output_type": "stream",
     "text": [
      "\n",
      "  0%|                                                  | 0/1000 [00:00<?, ?it/s]\u001b[A\n",
      " 26%|█████████▊                            | 258/1000 [00:00<00:00, 2576.91it/s]\u001b[A\n",
      " 52%|███████████████████▌                  | 516/1000 [00:00<00:00, 2457.01it/s]\u001b[A\n",
      "100%|█████████████████████████████████████| 1000/1000 [00:00<00:00, 2644.80it/s]\u001b[A\n"
     ]
    },
    {
     "name": "stdout",
     "output_type": "stream",
     "text": [
      "Penrhyn_(Tongareva)_penr1237.csv\n"
     ]
    },
    {
     "name": "stderr",
     "output_type": "stream",
     "text": [
      "\n",
      "  0%|                                                  | 0/1000 [00:00<?, ?it/s]\u001b[A\n",
      " 46%|█████████████████▍                    | 458/1000 [00:00<00:00, 4572.18it/s]\u001b[A\n",
      "100%|█████████████████████████████████████| 1000/1000 [00:00<00:00, 4475.95it/s]\u001b[A\n"
     ]
    },
    {
     "name": "stdout",
     "output_type": "stream",
     "text": [
      "Sungwaloge_(Nalemba_Edward)_mari1426g.csv\n"
     ]
    },
    {
     "name": "stderr",
     "output_type": "stream",
     "text": [
      "\n",
      "  0%|                                                  | 0/1000 [00:00<?, ?it/s]\u001b[A\n",
      " 23%|████████▋                             | 229/1000 [00:00<00:00, 2286.28it/s]\u001b[A\n",
      " 51%|███████████████████▎                  | 508/1000 [00:00<00:00, 2580.38it/s]\u001b[A\n",
      "100%|█████████████████████████████████████| 1000/1000 [00:00<00:00, 2634.82it/s]\u001b[A\n"
     ]
    },
    {
     "name": "stdout",
     "output_type": "stream",
     "text": [
      "Central_Melanau_cent2101.csv\n"
     ]
    },
    {
     "name": "stderr",
     "output_type": "stream",
     "text": [
      "\n",
      "  0%|                                                  | 0/1000 [00:00<?, ?it/s]\u001b[A\n",
      " 28%|██████████▍                           | 276/1000 [00:00<00:00, 2752.08it/s]\u001b[A\n",
      " 58%|██████████████████████                | 582/1000 [00:00<00:00, 2924.56it/s]\u001b[A\n",
      "100%|█████████████████████████████████████| 1000/1000 [00:00<00:00, 2808.83it/s]\u001b[A\n"
     ]
    },
    {
     "name": "stdout",
     "output_type": "stream",
     "text": [
      "Balangao_bala1310.csv\n"
     ]
    },
    {
     "name": "stderr",
     "output_type": "stream",
     "text": [
      "\n",
      "  0%|                                                  | 0/1000 [00:00<?, ?it/s]\u001b[A\n",
      " 48%|██████████████████                    | 476/1000 [00:00<00:00, 4759.65it/s]\u001b[A\n",
      "100%|█████████████████████████████████████| 1000/1000 [00:00<00:00, 4648.46it/s]\u001b[A\n"
     ]
    },
    {
     "name": "stdout",
     "output_type": "stream",
     "text": [
      "Tolaki_tola1247.csv\n"
     ]
    },
    {
     "name": "stderr",
     "output_type": "stream",
     "text": [
      "\n",
      "  0%|                                                  | 0/1000 [00:00<?, ?it/s]\u001b[A\n",
      " 30%|███████████▍                          | 300/1000 [00:00<00:00, 2991.60it/s]\u001b[A\n",
      " 60%|██████████████████████▊               | 600/1000 [00:00<00:00, 2979.40it/s]\u001b[A\n",
      "100%|█████████████████████████████████████| 1000/1000 [00:00<00:00, 2965.74it/s]\u001b[A\n"
     ]
    },
    {
     "name": "stdout",
     "output_type": "stream",
     "text": [
      "Yabem_yabe1254.csv\n"
     ]
    },
    {
     "name": "stderr",
     "output_type": "stream",
     "text": [
      "\n",
      "  0%|                                                  | 0/1000 [00:00<?, ?it/s]\u001b[A\n",
      " 28%|██████████▌                           | 279/1000 [00:00<00:00, 2784.10it/s]\u001b[A\n",
      " 56%|█████████████████████▏                | 558/1000 [00:00<00:00, 2275.85it/s]\u001b[A\n",
      "100%|█████████████████████████████████████| 1000/1000 [00:00<00:00, 2144.90it/s]\u001b[A\n"
     ]
    },
    {
     "name": "stdout",
     "output_type": "stream",
     "text": [
      "Balinese_bali1278.csv\n"
     ]
    },
    {
     "name": "stderr",
     "output_type": "stream",
     "text": [
      "\n",
      "  0%|                                                  | 0/1000 [00:00<?, ?it/s]\u001b[A\n",
      " 27%|██████████▏                           | 269/1000 [00:00<00:00, 2688.57it/s]\u001b[A\n",
      " 55%|████████████████████▉                 | 551/1000 [00:00<00:00, 2758.92it/s]\u001b[A\n",
      "100%|█████████████████████████████████████| 1000/1000 [00:00<00:00, 2662.79it/s]\u001b[A\n"
     ]
    },
    {
     "name": "stdout",
     "output_type": "stream",
     "text": [
      "Lenakel_lena1238.csv\n"
     ]
    },
    {
     "name": "stderr",
     "output_type": "stream",
     "text": [
      "\n",
      "  0%|                                                  | 0/1000 [00:00<?, ?it/s]\u001b[A\n",
      "100%|█████████████████████████████████████| 1000/1000 [00:00<00:00, 4974.61it/s]\u001b[A\n"
     ]
    },
    {
     "name": "stdout",
     "output_type": "stream",
     "text": [
      "Yami_Tao__yami1254.csv\n"
     ]
    },
    {
     "name": "stderr",
     "output_type": "stream",
     "text": [
      "\n",
      "  0%|                                                  | 0/1000 [00:00<?, ?it/s]\u001b[A\n",
      " 28%|██████████▌                           | 277/1000 [00:00<00:00, 2763.59it/s]\u001b[A\n",
      " 55%|█████████████████████                 | 554/1000 [00:00<00:00, 2748.99it/s]\u001b[A\n",
      "100%|█████████████████████████████████████| 1000/1000 [00:00<00:00, 2790.01it/s]\u001b[A\n"
     ]
    },
    {
     "name": "stdout",
     "output_type": "stream",
     "text": [
      "Merlav_merl1237.csv\n"
     ]
    },
    {
     "name": "stderr",
     "output_type": "stream",
     "text": [
      "\n",
      "  0%|                                                  | 0/1000 [00:00<?, ?it/s]\u001b[A\n",
      " 47%|█████████████████▊                    | 470/1000 [00:00<00:00, 4683.47it/s]\u001b[A\n",
      "100%|█████████████████████████████████████| 1000/1000 [00:00<00:00, 4638.80it/s]\u001b[A\n"
     ]
    },
    {
     "name": "stdout",
     "output_type": "stream",
     "text": [
      "Māori_maor1246.csv\n"
     ]
    },
    {
     "name": "stderr",
     "output_type": "stream",
     "text": [
      "\n",
      "  0%|                                                  | 0/1000 [00:00<?, ?it/s]\u001b[A\n",
      " 26%|█████████▊                            | 257/1000 [00:00<00:00, 2568.43it/s]\u001b[A\n",
      " 51%|███████████████████▌                  | 514/1000 [00:00<00:00, 2463.70it/s]\u001b[A\n",
      "100%|█████████████████████████████████████| 1000/1000 [00:00<00:00, 2537.48it/s]\u001b[A\n"
     ]
    },
    {
     "name": "stdout",
     "output_type": "stream",
     "text": [
      "Isnag_isna1241.csv\n"
     ]
    },
    {
     "name": "stderr",
     "output_type": "stream",
     "text": [
      "\n",
      "  0%|                                                  | 0/1000 [00:00<?, ?it/s]\u001b[A\n",
      " 31%|███████████▋                          | 306/1000 [00:00<00:00, 3058.53it/s]\u001b[A\n",
      " 61%|███████████████████████▎              | 614/1000 [00:00<00:00, 3069.28it/s]\u001b[A\n",
      "100%|█████████████████████████████████████| 1000/1000 [00:00<00:00, 2929.70it/s]\u001b[A\n"
     ]
    },
    {
     "name": "stdout",
     "output_type": "stream",
     "text": [
      "West_Coast_Bajau_west2560.csv\n"
     ]
    },
    {
     "name": "stderr",
     "output_type": "stream",
     "text": [
      "\n",
      "  0%|                                                  | 0/1000 [00:00<?, ?it/s]\u001b[A\n",
      " 30%|███████████▎                          | 299/1000 [00:00<00:00, 2984.78it/s]\u001b[A\n",
      " 60%|██████████████████████▋               | 598/1000 [00:00<00:00, 2897.38it/s]\u001b[A\n",
      "100%|█████████████████████████████████████| 1000/1000 [00:00<00:00, 2757.27it/s]\u001b[A\n"
     ]
    },
    {
     "name": "stdout",
     "output_type": "stream",
     "text": [
      "Sungwaloge_(Nalemba_Simeone_Tari)_mari1426f.csv\n"
     ]
    },
    {
     "name": "stderr",
     "output_type": "stream",
     "text": [
      "\n",
      "  0%|                                                  | 0/1000 [00:00<?, ?it/s]\u001b[A\n",
      " 29%|███████████▏                          | 293/1000 [00:00<00:00, 2924.97it/s]\u001b[A\n",
      " 59%|██████████████████████▎               | 586/1000 [00:00<00:00, 2822.67it/s]\u001b[A\n",
      "100%|█████████████████████████████████████| 1000/1000 [00:00<00:00, 2808.28it/s]\u001b[A\n"
     ]
    },
    {
     "name": "stdout",
     "output_type": "stream",
     "text": [
      "Ifugaw_(Ifugao)_ifug1247.csv\n"
     ]
    },
    {
     "name": "stderr",
     "output_type": "stream",
     "text": [
      "\n",
      "  0%|                                                  | 0/1000 [00:00<?, ?it/s]\u001b[A\n",
      "100%|█████████████████████████████████████| 1000/1000 [00:00<00:00, 7145.31it/s]\u001b[A\n"
     ]
    },
    {
     "name": "stdout",
     "output_type": "stream",
     "text": [
      "Tausug_(Sulu_Moro)_taus1251.csv\n"
     ]
    },
    {
     "name": "stderr",
     "output_type": "stream",
     "text": [
      "\n",
      "  0%|                                                  | 0/1000 [00:00<?, ?it/s]\u001b[A\n",
      " 38%|██████████████▎                       | 375/1000 [00:00<00:00, 3743.93it/s]\u001b[A\n",
      "100%|█████████████████████████████████████| 1000/1000 [00:00<00:00, 3547.56it/s]\u001b[A\n"
     ]
    },
    {
     "name": "stdout",
     "output_type": "stream",
     "text": [
      "Dupaningan_Agat_dupa1235.csv\n"
     ]
    },
    {
     "name": "stderr",
     "output_type": "stream",
     "text": [
      "\n",
      "  0%|                                                  | 0/1000 [00:00<?, ?it/s]\u001b[A\n",
      "100%|█████████████████████████████████████| 1000/1000 [00:00<00:00, 5632.71it/s]\u001b[A\n"
     ]
    },
    {
     "name": "stdout",
     "output_type": "stream",
     "text": [
      "Tasiko_tasi1237.csv\n"
     ]
    },
    {
     "name": "stderr",
     "output_type": "stream",
     "text": [
      "\n",
      "  0%|                                                  | 0/1000 [00:00<?, ?it/s]\u001b[A\n",
      " 28%|██████████▍                           | 275/1000 [00:00<00:00, 2745.30it/s]\u001b[A\n",
      " 55%|████████████████████▉                 | 550/1000 [00:00<00:00, 2539.80it/s]\u001b[A\n",
      "100%|█████████████████████████████████████| 1000/1000 [00:00<00:00, 2918.62it/s]\u001b[A\n"
     ]
    },
    {
     "name": "stdout",
     "output_type": "stream",
     "text": [
      "Mussau-Emira_muss1246.csv\n"
     ]
    },
    {
     "name": "stderr",
     "output_type": "stream",
     "text": [
      "\n",
      "  0%|                                                  | 0/1000 [00:00<?, ?it/s]\u001b[A\n",
      "100%|█████████████████████████████████████| 1000/1000 [00:00<00:00, 5025.83it/s]\u001b[A\n"
     ]
    },
    {
     "name": "stdout",
     "output_type": "stream",
     "text": [
      "Bahonsuai_baho1237.csv\n"
     ]
    },
    {
     "name": "stderr",
     "output_type": "stream",
     "text": [
      "\n",
      "  0%|                                                  | 0/1000 [00:00<?, ?it/s]\u001b[A\n",
      "100%|█████████████████████████████████████| 1000/1000 [00:00<00:00, 8432.36it/s]\u001b[A\n"
     ]
    },
    {
     "name": "stdout",
     "output_type": "stream",
     "text": [
      "Carolinians_caro1242.csv\n",
      "Pampanga_(Kampampangan)_pamp1243.csv\n"
     ]
    },
    {
     "name": "stderr",
     "output_type": "stream",
     "text": [
      "\n",
      "  0%|                                                  | 0/1000 [00:00<?, ?it/s]\u001b[A\n",
      " 27%|██████████▎                           | 272/1000 [00:00<00:00, 2719.59it/s]\u001b[A\n",
      " 59%|██████████████████████▎               | 586/1000 [00:00<00:00, 2962.33it/s]\u001b[A\n",
      "100%|█████████████████████████████████████| 1000/1000 [00:00<00:00, 2986.49it/s]\u001b[A\n"
     ]
    },
    {
     "name": "stdout",
     "output_type": "stream",
     "text": [
      "Sungagage_mari1426i.csv\n"
     ]
    },
    {
     "name": "stderr",
     "output_type": "stream",
     "text": [
      "\n",
      "  0%|                                                  | 0/1000 [00:00<?, ?it/s]\u001b[A\n",
      " 43%|████████████████▍                     | 434/1000 [00:00<00:00, 4321.25it/s]\u001b[A\n",
      "100%|█████████████████████████████████████| 1000/1000 [00:00<00:00, 3990.97it/s]\u001b[A\n"
     ]
    },
    {
     "name": "stdout",
     "output_type": "stream",
     "text": [
      "Ga'dang_gada1258.csv\n"
     ]
    },
    {
     "name": "stderr",
     "output_type": "stream",
     "text": [
      "\n",
      "  0%|                                                  | 0/1000 [00:00<?, ?it/s]\u001b[A\n",
      " 32%|████████████                          | 317/1000 [00:00<00:00, 3169.09it/s]\u001b[A\n",
      " 63%|████████████████████████              | 634/1000 [00:00<00:00, 3156.13it/s]\u001b[A\n",
      "100%|█████████████████████████████████████| 1000/1000 [00:00<00:00, 3136.92it/s]\u001b[A\n"
     ]
    },
    {
     "name": "stdout",
     "output_type": "stream",
     "text": [
      "Rade_(Rhade)_rade1240.csv\n"
     ]
    },
    {
     "name": "stderr",
     "output_type": "stream",
     "text": [
      "\n",
      "  0%|                                                  | 0/1000 [00:00<?, ?it/s]\u001b[A\n",
      "100%|█████████████████████████████████████| 1000/1000 [00:00<00:00, 5961.43it/s]\u001b[A\n"
     ]
    },
    {
     "name": "stdout",
     "output_type": "stream",
     "text": [
      "Maori_maor1246.csv\n",
      "Mekeo_meke1243.csv\n"
     ]
    },
    {
     "name": "stderr",
     "output_type": "stream",
     "text": [
      "\n",
      "100%|████████████████████████████████████| 1000/1000 [00:00<00:00, 12413.41it/s]\u001b[A\n"
     ]
    },
    {
     "name": "stdout",
     "output_type": "stream",
     "text": [
      "Tialo_(Tomini)_tomi1243.csv\n"
     ]
    },
    {
     "name": "stderr",
     "output_type": "stream",
     "text": [
      "\n",
      "  0%|                                                  | 0/1000 [00:00<?, ?it/s]\u001b[A\n",
      " 25%|█████████▌                            | 251/1000 [00:00<00:00, 2504.00it/s]\u001b[A\n",
      " 50%|███████████████████                   | 502/1000 [00:00<00:00, 2109.90it/s]\u001b[A\n",
      "100%|█████████████████████████████████████| 1000/1000 [00:00<00:00, 2500.90it/s]\u001b[A\n"
     ]
    },
    {
     "name": "stdout",
     "output_type": "stream",
     "text": [
      "Amis_amis1246.csv\n"
     ]
    },
    {
     "name": "stderr",
     "output_type": "stream",
     "text": [
      "\n",
      "100%|████████████████████████████████████| 1000/1000 [00:00<00:00, 10113.46it/s]\u001b[A\n"
     ]
    },
    {
     "name": "stdout",
     "output_type": "stream",
     "text": [
      "Satawalese_sata1237.csv\n"
     ]
    },
    {
     "name": "stderr",
     "output_type": "stream",
     "text": [
      "\n",
      "  0%|                                                  | 0/1000 [00:00<?, ?it/s]\u001b[A\n",
      "100%|█████████████████████████████████████| 1000/1000 [00:00<00:00, 9082.06it/s]\u001b[A\n"
     ]
    },
    {
     "name": "stdout",
     "output_type": "stream",
     "text": [
      "Kwaio_kwai1243.csv\n"
     ]
    },
    {
     "name": "stderr",
     "output_type": "stream",
     "text": [
      "\n",
      "  0%|                                                  | 0/1000 [00:00<?, ?it/s]\u001b[A\n",
      "100%|█████████████████████████████████████| 1000/1000 [00:00<00:00, 5000.52it/s]\u001b[A\n"
     ]
    },
    {
     "name": "stdout",
     "output_type": "stream",
     "text": [
      "Senbarei_unua1237.csv\n"
     ]
    },
    {
     "name": "stderr",
     "output_type": "stream",
     "text": [
      "\n",
      "  0%|                                                  | 0/1000 [00:00<?, ?it/s]\u001b[A\n",
      " 50%|██████████████████▉                   | 499/1000 [00:00<00:00, 4982.94it/s]\u001b[A\n",
      "100%|█████████████████████████████████████| 1000/1000 [00:00<00:00, 4693.25it/s]\u001b[A\n"
     ]
    },
    {
     "name": "stdout",
     "output_type": "stream",
     "text": [
      "Mekeo_(West)_meke1243b.csv\n",
      "Takuu_taku1257.csv\n"
     ]
    },
    {
     "name": "stderr",
     "output_type": "stream",
     "text": [
      "\n",
      "  0%|                                                  | 0/1000 [00:00<?, ?it/s]\u001b[A\n",
      " 36%|█████████████▍                        | 355/1000 [00:00<00:00, 3545.89it/s]\u001b[A\n",
      "100%|█████████████████████████████████████| 1000/1000 [00:00<00:00, 3024.21it/s]\u001b[A\n"
     ]
    },
    {
     "name": "stdout",
     "output_type": "stream",
     "text": [
      "Tombulu_tomb1243.csv\n"
     ]
    },
    {
     "name": "stderr",
     "output_type": "stream",
     "text": [
      "\n",
      "  0%|                                                  | 0/1000 [00:00<?, ?it/s]\u001b[A\n",
      " 23%|████████▋                             | 229/1000 [00:00<00:00, 2289.63it/s]\u001b[A\n",
      " 46%|█████████████████▍                    | 458/1000 [00:00<00:00, 2288.19it/s]\u001b[A\n",
      " 69%|██████████████████████████            | 687/1000 [00:00<00:00, 1937.91it/s]\u001b[A\n",
      "100%|█████████████████████████████████████| 1000/1000 [00:00<00:00, 1956.57it/s]\u001b[A\n"
     ]
    },
    {
     "name": "stdout",
     "output_type": "stream",
     "text": [
      "Rotumans_rotu1241.csv\n"
     ]
    },
    {
     "name": "stderr",
     "output_type": "stream",
     "text": [
      "\n",
      "  0%|                                                  | 0/1000 [00:00<?, ?it/s]\u001b[A\n",
      " 18%|██████▊                               | 178/1000 [00:00<00:00, 1778.35it/s]\u001b[A\n",
      " 36%|█████████████▌                        | 356/1000 [00:00<00:00, 1707.59it/s]\u001b[A\n",
      " 53%|████████████████████                  | 527/1000 [00:00<00:00, 1541.96it/s]\u001b[A\n",
      " 68%|█████████████████████████▉            | 683/1000 [00:00<00:00, 1460.24it/s]\u001b[A\n",
      "100%|█████████████████████████████████████| 1000/1000 [00:00<00:00, 1536.65it/s]\u001b[A\n"
     ]
    },
    {
     "name": "stdout",
     "output_type": "stream",
     "text": [
      "Kambera_kamb1299.csv\n"
     ]
    },
    {
     "name": "stderr",
     "output_type": "stream",
     "text": [
      "\n",
      "  0%|                                                  | 0/1000 [00:00<?, ?it/s]\u001b[A\n",
      " 19%|███████▎                              | 193/1000 [00:00<00:00, 1929.23it/s]\u001b[A\n",
      " 39%|██████████████▋                       | 386/1000 [00:00<00:00, 1476.15it/s]\u001b[A\n",
      " 54%|████████████████████▌                 | 541/1000 [00:00<00:00, 1497.56it/s]\u001b[A\n",
      " 70%|██████████████████████████▍           | 697/1000 [00:00<00:00, 1517.11it/s]\u001b[A\n",
      "100%|█████████████████████████████████████| 1000/1000 [00:00<00:00, 1610.75it/s]\u001b[A\n"
     ]
    },
    {
     "name": "stdout",
     "output_type": "stream",
     "text": [
      "Bunun_bunu1267.csv\n"
     ]
    },
    {
     "name": "stderr",
     "output_type": "stream",
     "text": [
      "\n",
      "  0%|                                                  | 0/1000 [00:00<?, ?it/s]\u001b[A\n",
      " 31%|███████████▋                          | 307/1000 [00:00<00:00, 3055.98it/s]\u001b[A\n",
      " 61%|███████████████████████▎              | 613/1000 [00:00<00:00, 2721.65it/s]\u001b[A\n",
      "100%|█████████████████████████████████████| 1000/1000 [00:00<00:00, 2538.07it/s]\u001b[A\n"
     ]
    },
    {
     "name": "stdout",
     "output_type": "stream",
     "text": [
      "Gane_(Gimán)_gane1237.csv\n"
     ]
    },
    {
     "name": "stderr",
     "output_type": "stream",
     "text": [
      "\n",
      "  0%|                                                  | 0/1000 [00:00<?, ?it/s]\u001b[A\n",
      " 20%|███████▋                              | 203/1000 [00:00<00:00, 2027.65it/s]\u001b[A\n",
      " 41%|███████████████▍                      | 406/1000 [00:00<00:00, 1523.82it/s]\u001b[A\n",
      " 57%|█████████████████████▌                | 566/1000 [00:00<00:00, 1552.07it/s]\u001b[A\n",
      " 73%|███████████████████████████▊          | 731/1000 [00:00<00:00, 1584.67it/s]\u001b[A\n",
      "100%|█████████████████████████████████████| 1000/1000 [00:00<00:00, 1466.43it/s]\u001b[A\n"
     ]
    },
    {
     "name": "stdout",
     "output_type": "stream",
     "text": [
      "Itneg_(Binongan)_bino1237.csv\n"
     ]
    },
    {
     "name": "stderr",
     "output_type": "stream",
     "text": [
      "\n",
      "  0%|                                                  | 0/1000 [00:00<?, ?it/s]\u001b[A\n",
      " 26%|█████████▊                            | 258/1000 [00:00<00:00, 2573.98it/s]\u001b[A\n",
      " 52%|███████████████████▌                  | 516/1000 [00:00<00:00, 2065.17it/s]\u001b[A\n",
      " 74%|████████████████████████████          | 739/1000 [00:00<00:00, 2125.62it/s]\u001b[A\n",
      "100%|█████████████████████████████████████| 1000/1000 [00:00<00:00, 1923.02it/s]\u001b[A\n"
     ]
    },
    {
     "name": "stdout",
     "output_type": "stream",
     "text": [
      "Central_Cagayan_Agta_cent2084.csv\n"
     ]
    },
    {
     "name": "stderr",
     "output_type": "stream",
     "text": [
      "\n",
      "  0%|                                                  | 0/1000 [00:00<?, ?it/s]\u001b[A\n",
      " 18%|██████▊                               | 180/1000 [00:00<00:00, 1799.79it/s]\u001b[A\n",
      " 36%|█████████████▋                        | 360/1000 [00:00<00:00, 1396.08it/s]\u001b[A\n",
      " 61%|███████████████████████▏              | 609/1000 [00:00<00:00, 1826.82it/s]\u001b[A\n",
      "100%|█████████████████████████████████████| 1000/1000 [00:00<00:00, 1988.96it/s]\u001b[A\n"
     ]
    },
    {
     "name": "stdout",
     "output_type": "stream",
     "text": [
      "Minangkabau_mina1268.csv\n"
     ]
    },
    {
     "name": "stderr",
     "output_type": "stream",
     "text": [
      "\n",
      "  0%|                                                  | 0/1000 [00:00<?, ?it/s]\u001b[A\n",
      "100%|█████████████████████████████████████| 1000/1000 [00:00<00:00, 8150.56it/s]\u001b[A\n"
     ]
    },
    {
     "name": "stdout",
     "output_type": "stream",
     "text": [
      "Kodi_kodi1247.csv\n"
     ]
    },
    {
     "name": "stderr",
     "output_type": "stream",
     "text": [
      "\n",
      "  0%|                                                  | 0/1000 [00:00<?, ?it/s]\u001b[A\n",
      "100%|█████████████████████████████████████| 1000/1000 [00:00<00:00, 9484.53it/s]\u001b[A\n"
     ]
    },
    {
     "name": "stdout",
     "output_type": "stream",
     "text": [
      "Mekongga_meko1237.csv\n"
     ]
    },
    {
     "name": "stderr",
     "output_type": "stream",
     "text": [
      "\n",
      "  0%|                                                  | 0/1000 [00:00<?, ?it/s]\u001b[A\n",
      "100%|█████████████████████████████████████| 1000/1000 [00:00<00:00, 8996.19it/s]\u001b[A\n"
     ]
    },
    {
     "name": "stdout",
     "output_type": "stream",
     "text": [
      "Sungwaloge_(Tawet)_mari1426c.csv\n"
     ]
    },
    {
     "name": "stderr",
     "output_type": "stream",
     "text": [
      "\n",
      "  0%|                                                  | 0/1000 [00:00<?, ?it/s]\u001b[A\n",
      " 32%|████████████                          | 319/1000 [00:00<00:00, 3180.93it/s]\u001b[A\n",
      " 64%|████████████████████████▏             | 638/1000 [00:00<00:00, 3160.93it/s]\u001b[A\n",
      "100%|█████████████████████████████████████| 1000/1000 [00:00<00:00, 3065.98it/s]\u001b[A\n"
     ]
    },
    {
     "name": "stdout",
     "output_type": "stream",
     "text": [
      "Larevat_lare1249.csv\n"
     ]
    },
    {
     "name": "stderr",
     "output_type": "stream",
     "text": [
      "\n",
      "  0%|                                                  | 0/1000 [00:00<?, ?it/s]\u001b[A\n",
      " 39%|██████████████▊                       | 389/1000 [00:00<00:00, 3884.60it/s]\u001b[A\n",
      "100%|█████████████████████████████████████| 1000/1000 [00:00<00:00, 4002.18it/s]\u001b[A\n"
     ]
    },
    {
     "name": "stdout",
     "output_type": "stream",
     "text": [
      "Rejang_(Rejangese)_reja1240.csv\n"
     ]
    },
    {
     "name": "stderr",
     "output_type": "stream",
     "text": [
      "\n",
      "  0%|                                                  | 0/1000 [00:00<?, ?it/s]\u001b[A\n",
      " 33%|████████████▍                         | 327/1000 [00:00<00:00, 3259.86it/s]\u001b[A\n",
      " 65%|████████████████████████▊             | 653/1000 [00:00<00:00, 3106.08it/s]\u001b[A\n",
      "100%|█████████████████████████████████████| 1000/1000 [00:00<00:00, 3135.07it/s]\u001b[A\n"
     ]
    },
    {
     "name": "stdout",
     "output_type": "stream",
     "text": [
      "Xalangi_(Maevo_Vanuatu)_mari1426h.csv\n"
     ]
    },
    {
     "name": "stderr",
     "output_type": "stream",
     "text": [
      "\n",
      "  0%|                                                  | 0/1000 [00:00<?, ?it/s]\u001b[A\n",
      " 23%|████████▊                             | 231/1000 [00:00<00:00, 2302.31it/s]\u001b[A\n",
      " 46%|█████████████████▌                    | 462/1000 [00:00<00:00, 1983.39it/s]\u001b[A\n",
      " 66%|█████████████████████████▏            | 664/1000 [00:00<00:00, 1690.20it/s]\u001b[A\n",
      "100%|█████████████████████████████████████| 1000/1000 [00:00<00:00, 1665.46it/s]\u001b[A\n"
     ]
    },
    {
     "name": "stdout",
     "output_type": "stream",
     "text": [
      "Ratagnon_rata1245.csv\n"
     ]
    },
    {
     "name": "stderr",
     "output_type": "stream",
     "text": [
      "\n",
      "  0%|                                                  | 0/1000 [00:00<?, ?it/s]\u001b[A\n",
      " 17%|██████▍                               | 168/1000 [00:00<00:00, 1676.91it/s]\u001b[A\n",
      " 36%|█████████████▌                        | 358/1000 [00:00<00:00, 1807.12it/s]\u001b[A\n",
      " 62%|███████████████████████▊              | 625/1000 [00:00<00:00, 2197.77it/s]\u001b[A\n",
      "100%|█████████████████████████████████████| 1000/1000 [00:00<00:00, 2062.21it/s]\u001b[A\n"
     ]
    },
    {
     "name": "stdout",
     "output_type": "stream",
     "text": [
      "Tikopia_tiko1237.csv\n"
     ]
    },
    {
     "name": "stderr",
     "output_type": "stream",
     "text": [
      "\n",
      "  0%|                                                  | 0/1000 [00:00<?, ?it/s]\u001b[A\n",
      " 19%|███████▎                              | 193/1000 [00:00<00:00, 1926.90it/s]\u001b[A\n",
      " 39%|██████████████▋                       | 386/1000 [00:00<00:00, 1616.63it/s]\u001b[A\n",
      " 55%|████████████████████▉                 | 551/1000 [00:00<00:00, 1620.64it/s]\u001b[A\n",
      " 72%|███████████████████████████▎          | 718/1000 [00:00<00:00, 1638.22it/s]\u001b[A\n",
      "100%|█████████████████████████████████████| 1000/1000 [00:00<00:00, 1595.06it/s]\u001b[A\n"
     ]
    },
    {
     "name": "stdout",
     "output_type": "stream",
     "text": [
      "Hawaiians_hawa1245.csv\n"
     ]
    },
    {
     "name": "stderr",
     "output_type": "stream",
     "text": [
      "\n",
      "  0%|                                                  | 0/1000 [00:00<?, ?it/s]\u001b[A\n",
      " 15%|█████▋                                | 151/1000 [00:00<00:00, 1504.52it/s]\u001b[A\n",
      " 30%|███████████▍                          | 302/1000 [00:00<00:00, 1442.09it/s]\u001b[A\n",
      " 45%|████████████████▉                     | 447/1000 [00:00<00:00, 1283.91it/s]\u001b[A\n",
      " 58%|█████████████████████▉                | 578/1000 [00:00<00:00, 1276.04it/s]\u001b[A\n",
      " 71%|███████████████████████████▏          | 714/1000 [00:00<00:00, 1304.30it/s]\u001b[A\n",
      " 85%|████████████████████████████████▏     | 846/1000 [00:00<00:00, 1190.47it/s]\u001b[A\n",
      "100%|█████████████████████████████████████| 1000/1000 [00:00<00:00, 1171.68it/s]\u001b[A\n"
     ]
    },
    {
     "name": "stdout",
     "output_type": "stream",
     "text": [
      "Maba_(Indonesia)_maba1278.csv\n"
     ]
    },
    {
     "name": "stderr",
     "output_type": "stream",
     "text": [
      "\n",
      "  0%|                                                  | 0/1000 [00:00<?, ?it/s]\u001b[A\n",
      " 19%|███████▎                              | 191/1000 [00:00<00:00, 1859.32it/s]\u001b[A\n",
      " 38%|██████████████▎                       | 377/1000 [00:00<00:00, 1850.93it/s]\u001b[A\n",
      " 56%|█████████████████████▍                | 563/1000 [00:00<00:00, 1827.10it/s]\u001b[A\n",
      " 75%|████████████████████████████▎         | 746/1000 [00:00<00:00, 1689.39it/s]\u001b[A\n",
      "100%|█████████████████████████████████████| 1000/1000 [00:00<00:00, 1717.43it/s]\u001b[A\n"
     ]
    },
    {
     "name": "stdout",
     "output_type": "stream",
     "text": [
      "Kiput_kipu1237.csv\n"
     ]
    },
    {
     "name": "stderr",
     "output_type": "stream",
     "text": [
      "\n",
      "  0%|                                                  | 0/1000 [00:00<?, ?it/s]\u001b[A\n",
      " 27%|██████████▏                           | 268/1000 [00:00<00:00, 2675.72it/s]\u001b[A\n",
      " 56%|█████████████████████▎                | 560/1000 [00:00<00:00, 2818.19it/s]\u001b[A\n",
      "100%|█████████████████████████████████████| 1000/1000 [00:00<00:00, 2866.79it/s]\u001b[A\n"
     ]
    },
    {
     "name": "stdout",
     "output_type": "stream",
     "text": [
      "Pohnpeian_pohn1238a.csv\n"
     ]
    },
    {
     "name": "stderr",
     "output_type": "stream",
     "text": [
      "\n",
      "  0%|                                                  | 0/1000 [00:00<?, ?it/s]\u001b[A\n",
      " 44%|████████████████▌                     | 435/1000 [00:00<00:00, 4349.38it/s]\u001b[A\n",
      "100%|█████████████████████████████████████| 1000/1000 [00:00<00:00, 4253.09it/s]\u001b[A\n"
     ]
    },
    {
     "name": "stdout",
     "output_type": "stream",
     "text": [
      "Atoni_(Uab_Meto)_uabm1237.csv\n"
     ]
    },
    {
     "name": "stderr",
     "output_type": "stream",
     "text": [
      "\n",
      "  0%|                                                  | 0/1000 [00:00<?, ?it/s]\u001b[A\n",
      " 36%|█████████████▋                        | 361/1000 [00:00<00:00, 3604.99it/s]\u001b[A\n",
      "100%|█████████████████████████████████████| 1000/1000 [00:00<00:00, 3542.43it/s]\u001b[A\n"
     ]
    },
    {
     "name": "stdout",
     "output_type": "stream",
     "text": [
      "Pohnpeian_pohn1238.csv\n"
     ]
    },
    {
     "name": "stderr",
     "output_type": "stream",
     "text": [
      "\n",
      "  0%|                                                  | 0/1000 [00:00<?, ?it/s]\u001b[A\n",
      "100%|█████████████████████████████████████| 1000/1000 [00:00<00:00, 6028.30it/s]\u001b[A\n"
     ]
    },
    {
     "name": "stdout",
     "output_type": "stream",
     "text": [
      "Madurese_nucl1460.csv\n"
     ]
    },
    {
     "name": "stderr",
     "output_type": "stream",
     "text": [
      "\n",
      "  0%|                                                  | 0/1000 [00:00<?, ?it/s]\u001b[A\n",
      " 25%|█████████▍                            | 247/1000 [00:00<00:00, 2469.45it/s]\u001b[A\n",
      " 49%|██████████████████▊                   | 494/1000 [00:00<00:00, 2244.94it/s]\u001b[A\n",
      "100%|█████████████████████████████████████| 1000/1000 [00:00<00:00, 2464.37it/s]\u001b[A\n"
     ]
    },
    {
     "name": "stdout",
     "output_type": "stream",
     "text": [
      "Lamogai_lamo1244.csv\n"
     ]
    },
    {
     "name": "stderr",
     "output_type": "stream",
     "text": [
      "\n",
      "100%|████████████████████████████████████| 1000/1000 [00:00<00:00, 11243.28it/s]\u001b[A\n"
     ]
    },
    {
     "name": "stdout",
     "output_type": "stream",
     "text": [
      "Bacanese_Malay_(Bacan)_baca1243.csv\n"
     ]
    },
    {
     "name": "stderr",
     "output_type": "stream",
     "text": [
      "\n",
      "  0%|                                                  | 0/1000 [00:00<?, ?it/s]\u001b[A\n",
      " 37%|██████████████▏                       | 374/1000 [00:00<00:00, 3733.20it/s]\u001b[A\n",
      "100%|█████████████████████████████████████| 1000/1000 [00:00<00:00, 3739.83it/s]\u001b[A\n"
     ]
    },
    {
     "name": "stdout",
     "output_type": "stream",
     "text": [
      "Palauan_pala1344.csv\n"
     ]
    },
    {
     "name": "stderr",
     "output_type": "stream",
     "text": [
      "\n",
      "  0%|                                                  | 0/1000 [00:00<?, ?it/s]\u001b[A\n",
      " 39%|██████████████▋                       | 386/1000 [00:00<00:00, 3846.88it/s]\u001b[A\n",
      "100%|█████████████████████████████████████| 1000/1000 [00:00<00:00, 3764.26it/s]\u001b[A\n"
     ]
    },
    {
     "name": "stdout",
     "output_type": "stream",
     "text": [
      "Malua_Bay_malu1245.csv\n"
     ]
    },
    {
     "name": "stderr",
     "output_type": "stream",
     "text": [
      "\n",
      "  0%|                                                  | 0/1000 [00:00<?, ?it/s]\u001b[A\n",
      " 41%|███████████████▌                      | 411/1000 [00:00<00:00, 4103.41it/s]\u001b[A\n",
      "100%|█████████████████████████████████████| 1000/1000 [00:00<00:00, 4040.19it/s]\u001b[A\n"
     ]
    },
    {
     "name": "stdout",
     "output_type": "stream",
     "text": [
      "Dobu_dobu1241.csv\n"
     ]
    },
    {
     "name": "stderr",
     "output_type": "stream",
     "text": [
      "\n",
      "  0%|                                                  | 0/1000 [00:00<?, ?it/s]\u001b[A\n",
      " 40%|███████████████▎                      | 404/1000 [00:00<00:00, 4037.82it/s]\u001b[A\n",
      "100%|█████████████████████████████████████| 1000/1000 [00:00<00:00, 3924.92it/s]\u001b[A\n"
     ]
    },
    {
     "name": "stdout",
     "output_type": "stream",
     "text": [
      "Luangiua_(Ontong_Java)_onto1237.csv\n",
      "Nehan_neha1247.csv\n"
     ]
    },
    {
     "name": "stderr",
     "output_type": "stream",
     "text": [
      "\n",
      "  0%|                                                  | 0/1000 [00:00<?, ?it/s]\u001b[A\n",
      " 30%|███████████▎                          | 299/1000 [00:00<00:00, 2982.75it/s]\u001b[A\n",
      " 60%|██████████████████████▋               | 598/1000 [00:00<00:00, 2776.73it/s]\u001b[A\n",
      "100%|█████████████████████████████████████| 1000/1000 [00:00<00:00, 2810.47it/s]\u001b[A\n"
     ]
    },
    {
     "name": "stdout",
     "output_type": "stream",
     "text": [
      "Lelepa_lele1267.csv\n"
     ]
    },
    {
     "name": "stderr",
     "output_type": "stream",
     "text": [
      "\n",
      "  0%|                                                  | 0/1000 [00:00<?, ?it/s]\u001b[A\n",
      " 31%|███████████▋                          | 306/1000 [00:00<00:00, 3059.63it/s]\u001b[A\n",
      " 62%|███████████████████████▍              | 616/1000 [00:00<00:00, 3074.98it/s]\u001b[A\n",
      "100%|█████████████████████████████████████| 1000/1000 [00:00<00:00, 2820.31it/s]\u001b[A\n"
     ]
    },
    {
     "name": "stdout",
     "output_type": "stream",
     "text": [
      "Nalik_(Madina)_nali1244b.csv\n"
     ]
    },
    {
     "name": "stderr",
     "output_type": "stream",
     "text": [
      "\n",
      "  0%|                                                  | 0/1000 [00:00<?, ?it/s]\u001b[A\n",
      " 24%|█████████                             | 240/1000 [00:00<00:00, 2393.11it/s]\u001b[A\n",
      " 48%|██████████████████▏                   | 480/1000 [00:00<00:00, 2205.75it/s]\u001b[A\n",
      "100%|█████████████████████████████████████| 1000/1000 [00:00<00:00, 2853.30it/s]\u001b[A\n"
     ]
    },
    {
     "name": "stdout",
     "output_type": "stream",
     "text": [
      "Banjar_banj1239.csv\n"
     ]
    },
    {
     "name": "stderr",
     "output_type": "stream",
     "text": [
      "\n",
      "  0%|                                                  | 0/1000 [00:00<?, ?it/s]\u001b[A\n",
      " 24%|█████████▏                            | 242/1000 [00:00<00:00, 2410.39it/s]\u001b[A\n",
      " 48%|██████████████████▍                   | 484/1000 [00:00<00:00, 2143.22it/s]\u001b[A\n",
      "100%|█████████████████████████████████████| 1000/1000 [00:00<00:00, 2428.38it/s]\u001b[A\n"
     ]
    },
    {
     "name": "stdout",
     "output_type": "stream",
     "text": [
      "Paluai_balu1257.csv\n"
     ]
    },
    {
     "name": "stderr",
     "output_type": "stream",
     "text": [
      "\n",
      "  0%|                                                  | 0/1000 [00:00<?, ?it/s]\u001b[A\n",
      " 35%|█████████████▎                        | 349/1000 [00:00<00:00, 3480.01it/s]\u001b[A\n",
      "100%|█████████████████████████████████████| 1000/1000 [00:00<00:00, 3507.38it/s]\u001b[A\n"
     ]
    },
    {
     "name": "stdout",
     "output_type": "stream",
     "text": [
      "Atta_atta1244.csv\n"
     ]
    },
    {
     "name": "stderr",
     "output_type": "stream",
     "text": [
      "\n",
      "  0%|                                                  | 0/1000 [00:00<?, ?it/s]\u001b[A\n",
      "100%|█████████████████████████████████████| 1000/1000 [00:00<00:00, 5235.24it/s]\u001b[A\n"
     ]
    },
    {
     "name": "stdout",
     "output_type": "stream",
     "text": [
      "Mele-Fila_(Ifira-Mele)_mele1250.csv\n"
     ]
    },
    {
     "name": "stderr",
     "output_type": "stream",
     "text": [
      "\n",
      "  0%|                                                  | 0/1000 [00:00<?, ?it/s]\u001b[A\n",
      " 31%|███████████▉                          | 314/1000 [00:00<00:00, 3135.55it/s]\u001b[A\n",
      " 63%|███████████████████████▊              | 628/1000 [00:00<00:00, 3093.59it/s]\u001b[A\n",
      "100%|█████████████████████████████████████| 1000/1000 [00:00<00:00, 3047.06it/s]\u001b[A\n"
     ]
    },
    {
     "name": "stdout",
     "output_type": "stream",
     "text": [
      "Tokelau_toke1240a.csv\n"
     ]
    },
    {
     "name": "stderr",
     "output_type": "stream",
     "text": [
      "\n",
      "  0%|                                                  | 0/1000 [00:00<?, ?it/s]\u001b[A\n",
      " 32%|████████████                          | 316/1000 [00:00<00:00, 3156.11it/s]\u001b[A\n",
      " 63%|████████████████████████              | 632/1000 [00:00<00:00, 3034.68it/s]\u001b[A\n",
      "100%|█████████████████████████████████████| 1000/1000 [00:00<00:00, 2901.50it/s]\u001b[A\n"
     ]
    },
    {
     "name": "stdout",
     "output_type": "stream",
     "text": [
      "Sika_sika1262.csv\n"
     ]
    },
    {
     "name": "stderr",
     "output_type": "stream",
     "text": [
      "\n",
      "100%|████████████████████████████████████| 1000/1000 [00:00<00:00, 13901.77it/s]\u001b[A\n"
     ]
    },
    {
     "name": "stdout",
     "output_type": "stream",
     "text": [
      "Ibanag_iban1267.csv\n"
     ]
    },
    {
     "name": "stderr",
     "output_type": "stream",
     "text": [
      "\n",
      "  0%|                                                  | 0/1000 [00:00<?, ?it/s]\u001b[A\n",
      " 29%|███████████                           | 291/1000 [00:00<00:00, 2908.49it/s]\u001b[A\n",
      " 58%|██████████████████████                | 582/1000 [00:00<00:00, 2747.74it/s]\u001b[A\n",
      "100%|█████████████████████████████████████| 1000/1000 [00:00<00:00, 1705.08it/s]\u001b[A\n"
     ]
    },
    {
     "name": "stdout",
     "output_type": "stream",
     "text": [
      "Samoan_samo1305a.csv\n"
     ]
    },
    {
     "name": "stderr",
     "output_type": "stream",
     "text": [
      "\n",
      "  0%|                                                  | 0/1000 [00:00<?, ?it/s]\u001b[A\n",
      " 29%|██████████▉                           | 288/1000 [00:00<00:00, 2872.65it/s]\u001b[A\n",
      " 62%|███████████████████████▌              | 621/1000 [00:00<00:00, 3139.60it/s]\u001b[A\n",
      "100%|█████████████████████████████████████| 1000/1000 [00:00<00:00, 3169.75it/s]\u001b[A\n"
     ]
    },
    {
     "name": "stdout",
     "output_type": "stream",
     "text": [
      "Taumako_taum1237.csv\n"
     ]
    },
    {
     "name": "stderr",
     "output_type": "stream",
     "text": [
      "\n",
      "  0%|                                                  | 0/1000 [00:00<?, ?it/s]\u001b[A\n",
      " 24%|█████████                             | 237/1000 [00:00<00:00, 2363.58it/s]\u001b[A\n",
      " 47%|██████████████████                    | 474/1000 [00:00<00:00, 1665.33it/s]\u001b[A\n",
      " 72%|███████████████████████████▎          | 720/1000 [00:00<00:00, 1956.25it/s]\u001b[A\n",
      "100%|█████████████████████████████████████| 1000/1000 [00:00<00:00, 1692.80it/s]\u001b[A\n"
     ]
    },
    {
     "name": "stdout",
     "output_type": "stream",
     "text": [
      "Raroians_tuam1242.csv\n"
     ]
    },
    {
     "name": "stderr",
     "output_type": "stream",
     "text": [
      "\n",
      "  0%|                                                  | 0/1000 [00:00<?, ?it/s]\u001b[A\n",
      " 17%|██████▌                               | 172/1000 [00:00<00:00, 1715.58it/s]\u001b[A\n",
      " 34%|█████████████                         | 344/1000 [00:00<00:00, 1318.83it/s]\u001b[A\n",
      " 50%|██████████████████▉                   | 499/1000 [00:00<00:00, 1407.96it/s]\u001b[A\n",
      " 64%|████████████████████████▌             | 645/1000 [00:00<00:00, 1381.49it/s]\u001b[A\n",
      " 79%|██████████████████████████████▏       | 794/1000 [00:00<00:00, 1416.48it/s]\u001b[A\n",
      "100%|█████████████████████████████████████| 1000/1000 [00:00<00:00, 1231.60it/s]\u001b[A\n"
     ]
    },
    {
     "name": "stdout",
     "output_type": "stream",
     "text": [
      "Hiw_hiww1237.csv\n"
     ]
    },
    {
     "name": "stderr",
     "output_type": "stream",
     "text": [
      "\n",
      "  0%|                                                  | 0/1000 [00:00<?, ?it/s]\u001b[A\n",
      " 47%|█████████████████▊                    | 468/1000 [00:00<00:00, 4674.02it/s]\u001b[A\n",
      "100%|█████████████████████████████████████| 1000/1000 [00:00<00:00, 3309.01it/s]\u001b[A\n"
     ]
    },
    {
     "name": "stdout",
     "output_type": "stream",
     "text": [
      "Atchin_atch1238.csv\n"
     ]
    },
    {
     "name": "stderr",
     "output_type": "stream",
     "text": [
      "\n",
      "  0%|                                                  | 0/1000 [00:00<?, ?it/s]\u001b[A\n",
      " 21%|████████                              | 211/1000 [00:00<00:00, 2108.59it/s]\u001b[A\n",
      " 42%|████████████████                      | 422/1000 [00:00<00:00, 1970.36it/s]\u001b[A\n",
      " 65%|████████████████████████▌             | 646/1000 [00:00<00:00, 2087.45it/s]\u001b[A\n",
      "100%|█████████████████████████████████████| 1000/1000 [00:00<00:00, 2112.05it/s]\u001b[A\n"
     ]
    },
    {
     "name": "stdout",
     "output_type": "stream",
     "text": [
      "Wogeo_woge1237.csv\n"
     ]
    },
    {
     "name": "stderr",
     "output_type": "stream",
     "text": [
      "\n",
      "  0%|                                                  | 0/1000 [00:00<?, ?it/s]\u001b[A\n",
      " 32%|███████████▉                          | 315/1000 [00:00<00:00, 3068.95it/s]\u001b[A\n",
      " 63%|████████████████████████              | 633/1000 [00:00<00:00, 3132.00it/s]\u001b[A\n",
      "100%|█████████████████████████████████████| 1000/1000 [00:00<00:00, 3023.64it/s]\u001b[A\n"
     ]
    },
    {
     "name": "stdout",
     "output_type": "stream",
     "text": [
      "Muna_muna1247.csv\n"
     ]
    },
    {
     "name": "stderr",
     "output_type": "stream",
     "text": [
      "\n",
      "  0%|                                                  | 0/1000 [00:00<?, ?it/s]\u001b[A\n",
      " 15%|█████▌                                | 147/1000 [00:00<00:00, 1465.06it/s]\u001b[A\n",
      " 29%|███████████▏                          | 294/1000 [00:00<00:00, 1454.60it/s]\u001b[A\n",
      " 44%|████████████████▋                     | 440/1000 [00:00<00:00, 1366.12it/s]\u001b[A\n",
      " 58%|█████████████████████▉                | 578/1000 [00:00<00:00, 1139.40it/s]\u001b[A\n",
      " 72%|███████████████████████████▏          | 715/1000 [00:00<00:00, 1210.02it/s]\u001b[A\n",
      "100%|█████████████████████████████████████| 1000/1000 [00:00<00:00, 1317.60it/s]\u001b[A\n"
     ]
    },
    {
     "name": "stdout",
     "output_type": "stream",
     "text": [
      "Rarotongan_(Cook_Islands_Maori)_raro1241.csv\n"
     ]
    },
    {
     "name": "stderr",
     "output_type": "stream",
     "text": [
      "\n",
      "  0%|                                                  | 0/1000 [00:00<?, ?it/s]\u001b[A\n",
      " 26%|█████████▋                            | 256/1000 [00:00<00:00, 2553.69it/s]\u001b[A\n",
      " 51%|███████████████████▍                  | 512/1000 [00:00<00:00, 1990.53it/s]\u001b[A\n",
      " 72%|███████████████████████████▎          | 719/1000 [00:00<00:00, 1902.31it/s]\u001b[A\n",
      "100%|█████████████████████████████████████| 1000/1000 [00:00<00:00, 2126.66it/s]\u001b[A\n"
     ]
    },
    {
     "name": "stdout",
     "output_type": "stream",
     "text": [
      "Niue_niue1239.csv\n"
     ]
    },
    {
     "name": "stderr",
     "output_type": "stream",
     "text": [
      "\n",
      "  0%|                                                  | 0/1000 [00:00<?, ?it/s]\u001b[A\n",
      " 31%|███████████▊                          | 311/1000 [00:00<00:00, 3106.74it/s]\u001b[A\n",
      "100%|█████████████████████████████████████| 1000/1000 [00:00<00:00, 3436.90it/s]\u001b[A\n"
     ]
    },
    {
     "name": "stdout",
     "output_type": "stream",
     "text": [
      "Nakanai_naka1262.csv\n"
     ]
    },
    {
     "name": "stderr",
     "output_type": "stream",
     "text": [
      "\n",
      "  0%|                                                  | 0/1000 [00:00<?, ?it/s]\u001b[A\n",
      " 29%|██████████▊                           | 286/1000 [00:00<00:00, 2851.13it/s]\u001b[A\n",
      " 57%|█████████████████████▋                | 572/1000 [00:00<00:00, 2704.20it/s]\u001b[A\n",
      "100%|█████████████████████████████████████| 1000/1000 [00:00<00:00, 2607.07it/s]\u001b[A\n"
     ]
    },
    {
     "name": "stdout",
     "output_type": "stream",
     "text": [
      "Owa_(Santa_Ana)_owaa1237.csv\n"
     ]
    },
    {
     "name": "stderr",
     "output_type": "stream",
     "text": [
      "\n",
      "  0%|                                                  | 0/1000 [00:00<?, ?it/s]\u001b[A\n",
      " 42%|████████████████                      | 423/1000 [00:00<00:00, 4224.85it/s]\u001b[A\n",
      "100%|█████████████████████████████████████| 1000/1000 [00:00<00:00, 4453.11it/s]\u001b[A\n"
     ]
    },
    {
     "name": "stdout",
     "output_type": "stream",
     "text": [
      "South_Marquesan_sout2866.csv\n"
     ]
    },
    {
     "name": "stderr",
     "output_type": "stream",
     "text": [
      "\n",
      "  0%|                                                  | 0/1000 [00:00<?, ?it/s]\u001b[A\n",
      "100%|█████████████████████████████████████| 1000/1000 [00:00<00:00, 6802.81it/s]\u001b[A\n"
     ]
    },
    {
     "name": "stdout",
     "output_type": "stream",
     "text": [
      "Aniwa_aniw1237.csv\n"
     ]
    },
    {
     "name": "stderr",
     "output_type": "stream",
     "text": [
      "\n",
      "  0%|                                                  | 0/1000 [00:00<?, ?it/s]\u001b[A\n",
      " 38%|██████████████▌                       | 382/1000 [00:00<00:00, 3808.42it/s]\u001b[A\n",
      "100%|█████████████████████████████████████| 1000/1000 [00:00<00:00, 3470.63it/s]\u001b[A\n"
     ]
    },
    {
     "name": "stdout",
     "output_type": "stream",
     "text": [
      "Bannoni_bann1247.csv\n"
     ]
    },
    {
     "name": "stderr",
     "output_type": "stream",
     "text": [
      "\n",
      "  0%|                                                  | 0/1000 [00:00<?, ?it/s]\u001b[A\n",
      " 25%|█████████▍                            | 249/1000 [00:00<00:00, 2485.10it/s]\u001b[A\n",
      " 52%|███████████████████▊                  | 520/1000 [00:00<00:00, 2612.87it/s]\u001b[A\n",
      "100%|█████████████████████████████████████| 1000/1000 [00:00<00:00, 2679.61it/s]\u001b[A\n"
     ]
    },
    {
     "name": "stdout",
     "output_type": "stream",
     "text": [
      "Nage_nage1237.csv\n"
     ]
    },
    {
     "name": "stderr",
     "output_type": "stream",
     "text": [
      "\n",
      "  0%|                                                  | 0/1000 [00:00<?, ?it/s]\u001b[A\n",
      "100%|█████████████████████████████████████| 1000/1000 [00:00<00:00, 5062.04it/s]\u001b[A\n"
     ]
    },
    {
     "name": "stdout",
     "output_type": "stream",
     "text": [
      "Moronene_moro1287.csv\n"
     ]
    },
    {
     "name": "stderr",
     "output_type": "stream",
     "text": [
      "\n",
      "  0%|                                                  | 0/1000 [00:00<?, ?it/s]\u001b[A\n",
      " 24%|█████████                             | 237/1000 [00:00<00:00, 2366.55it/s]\u001b[A\n",
      " 47%|██████████████████                    | 474/1000 [00:00<00:00, 1850.27it/s]\u001b[A\n",
      "100%|█████████████████████████████████████| 1000/1000 [00:00<00:00, 2348.88it/s]\u001b[A\n"
     ]
    },
    {
     "name": "stdout",
     "output_type": "stream",
     "text": [
      "Uripiv-Wala-Rano-Atchin_urip1239.csv\n"
     ]
    },
    {
     "name": "stderr",
     "output_type": "stream",
     "text": [
      "\n",
      "  0%|                                                  | 0/1000 [00:00<?, ?it/s]\u001b[A\n",
      " 38%|██████████████▎                       | 377/1000 [00:00<00:00, 3768.08it/s]\u001b[A\n",
      "100%|█████████████████████████████████████| 1000/1000 [00:00<00:00, 3950.18it/s]\u001b[A\n"
     ]
    },
    {
     "name": "stdout",
     "output_type": "stream",
     "text": [
      "Kapingamarangi_kapi1249a.csv\n"
     ]
    },
    {
     "name": "stderr",
     "output_type": "stream",
     "text": [
      "\n",
      "  0%|                                                  | 0/1000 [00:00<?, ?it/s]\u001b[A\n",
      " 28%|██████████▌                           | 279/1000 [00:00<00:00, 2786.07it/s]\u001b[A\n",
      " 57%|█████████████████████▋                | 571/1000 [00:00<00:00, 2861.64it/s]\u001b[A\n",
      "100%|█████████████████████████████████████| 1000/1000 [00:00<00:00, 2840.63it/s]\u001b[A\n"
     ]
    },
    {
     "name": "stdout",
     "output_type": "stream",
     "text": [
      "Central_Sama_cent2092.csv\n"
     ]
    },
    {
     "name": "stderr",
     "output_type": "stream",
     "text": [
      "\n",
      "  0%|                                                  | 0/1000 [00:00<?, ?it/s]\u001b[A\n",
      " 31%|███████████▊                          | 312/1000 [00:00<00:00, 3115.35it/s]\u001b[A\n",
      " 62%|███████████████████████▋              | 624/1000 [00:00<00:00, 2944.76it/s]\u001b[A\n",
      "100%|█████████████████████████████████████| 1000/1000 [00:00<00:00, 2896.04it/s]\u001b[A\n"
     ]
    },
    {
     "name": "stdout",
     "output_type": "stream",
     "text": [
      "Daakie_port1286.csv\n"
     ]
    },
    {
     "name": "stderr",
     "output_type": "stream",
     "text": [
      "\n",
      "  0%|                                                  | 0/1000 [00:00<?, ?it/s]\u001b[A\n",
      "100%|█████████████████████████████████████| 1000/1000 [00:00<00:00, 6218.56it/s]\u001b[A\n"
     ]
    },
    {
     "name": "stdout",
     "output_type": "stream",
     "text": [
      "Batak_Toba_bata1289.csv\n"
     ]
    },
    {
     "name": "stderr",
     "output_type": "stream",
     "text": [
      "\n",
      "  0%|                                                  | 0/1000 [00:00<?, ?it/s]\u001b[A\n",
      " 31%|███████████▋                          | 307/1000 [00:00<00:00, 3066.14it/s]\u001b[A\n",
      " 61%|███████████████████████▎              | 614/1000 [00:00<00:00, 2990.02it/s]\u001b[A\n",
      "100%|█████████████████████████████████████| 1000/1000 [00:00<00:00, 3073.31it/s]\u001b[A\n"
     ]
    },
    {
     "name": "stdout",
     "output_type": "stream",
     "text": [
      "Sula_Mangoli_mang1408.csv\n"
     ]
    },
    {
     "name": "stderr",
     "output_type": "stream",
     "text": [
      "\n",
      "  0%|                                                  | 0/1000 [00:00<?, ?it/s]\u001b[A\n",
      "100%|█████████████████████████████████████| 1000/1000 [00:00<00:00, 5153.80it/s]\u001b[A\n"
     ]
    },
    {
     "name": "stdout",
     "output_type": "stream",
     "text": [
      "Sungwadia_mari1426a.csv\n"
     ]
    },
    {
     "name": "stderr",
     "output_type": "stream",
     "text": [
      "\n",
      "  0%|                                                  | 0/1000 [00:00<?, ?it/s]\u001b[A\n",
      " 30%|███████████▍                          | 302/1000 [00:00<00:00, 3019.39it/s]\u001b[A\n",
      " 60%|██████████████████████▉               | 604/1000 [00:00<00:00, 2864.71it/s]\u001b[A\n",
      "100%|█████████████████████████████████████| 1000/1000 [00:00<00:00, 2778.00it/s]\u001b[A\n"
     ]
    },
    {
     "name": "stdout",
     "output_type": "stream",
     "text": [
      "Toqabaqita_toab1237.csv\n"
     ]
    },
    {
     "name": "stderr",
     "output_type": "stream",
     "text": [
      "\n",
      "  0%|                                                  | 0/1000 [00:00<?, ?it/s]\u001b[A\n",
      " 22%|████████▌                             | 225/1000 [00:00<00:00, 2246.68it/s]\u001b[A\n",
      " 45%|█████████████████                     | 450/1000 [00:00<00:00, 2236.46it/s]\u001b[A\n",
      "100%|█████████████████████████████████████| 1000/1000 [00:00<00:00, 2529.72it/s]\u001b[A\n"
     ]
    },
    {
     "name": "stdout",
     "output_type": "stream",
     "text": [
      "South_Tuvaluan_(Vaitupu)_sout2865.csv\n"
     ]
    },
    {
     "name": "stderr",
     "output_type": "stream",
     "text": [
      "\n",
      "  0%|                                                  | 0/1000 [00:00<?, ?it/s]\u001b[A\n",
      " 29%|██████████▉                           | 287/1000 [00:00<00:00, 2867.53it/s]\u001b[A\n",
      " 57%|█████████████████████▊                | 574/1000 [00:00<00:00, 2328.25it/s]\u001b[A\n",
      "100%|█████████████████████████████████████| 1000/1000 [00:00<00:00, 2059.02it/s]\u001b[A\n"
     ]
    },
    {
     "name": "stdout",
     "output_type": "stream",
     "text": [
      "Matukar_matu1261.csv\n"
     ]
    },
    {
     "name": "stderr",
     "output_type": "stream",
     "text": [
      "\n",
      "  0%|                                                  | 0/1000 [00:00<?, ?it/s]\u001b[A\n",
      " 26%|█████████▋                            | 256/1000 [00:00<00:00, 2552.24it/s]\u001b[A\n",
      " 51%|███████████████████▍                  | 512/1000 [00:00<00:00, 2518.96it/s]\u001b[A\n",
      "100%|█████████████████████████████████████| 1000/1000 [00:00<00:00, 2549.38it/s]\u001b[A\n"
     ]
    },
    {
     "name": "stdout",
     "output_type": "stream",
     "text": [
      "Ibaloi_(Nabaloi)_ibal1244.csv\n"
     ]
    },
    {
     "name": "stderr",
     "output_type": "stream",
     "text": [
      "\n",
      "  0%|                                                  | 0/1000 [00:00<?, ?it/s]\u001b[A\n",
      " 26%|█████████▉                            | 262/1000 [00:00<00:00, 2616.13it/s]\u001b[A\n",
      " 52%|███████████████████▉                  | 524/1000 [00:00<00:00, 2324.92it/s]\u001b[A\n",
      " 76%|████████████████████████████▊         | 759/1000 [00:00<00:00, 2009.82it/s]\u001b[A\n",
      "100%|█████████████████████████████████████| 1000/1000 [00:00<00:00, 2071.96it/s]\u001b[A\n"
     ]
    },
    {
     "name": "stdout",
     "output_type": "stream",
     "text": [
      "Niueans_niue1239.csv\n",
      "Southeast_Ambrym_sout2859.csv\n"
     ]
    },
    {
     "name": "stderr",
     "output_type": "stream",
     "text": [
      "\n",
      "  0%|                                                  | 0/1000 [00:00<?, ?it/s]\u001b[A\n",
      " 28%|██████████▍                           | 275/1000 [00:00<00:00, 2744.66it/s]\u001b[A\n",
      " 56%|█████████████████████▎                | 560/1000 [00:00<00:00, 2799.55it/s]\u001b[A\n",
      "100%|█████████████████████████████████████| 1000/1000 [00:00<00:00, 2244.79it/s]\u001b[A\n"
     ]
    },
    {
     "name": "stdout",
     "output_type": "stream",
     "text": [
      "Yakan_yaka1277.csv\n"
     ]
    },
    {
     "name": "stderr",
     "output_type": "stream",
     "text": [
      "\n",
      "  0%|                                                  | 0/1000 [00:00<?, ?it/s]\u001b[A\n",
      " 27%|██████████▎                           | 271/1000 [00:00<00:00, 2706.70it/s]\u001b[A\n",
      " 54%|████████████████████▌                 | 542/1000 [00:00<00:00, 2541.57it/s]\u001b[A\n",
      "100%|█████████████████████████████████████| 1000/1000 [00:00<00:00, 2566.36it/s]\u001b[A\n"
     ]
    },
    {
     "name": "stdout",
     "output_type": "stream",
     "text": [
      "Namakura_nama1268.csv\n"
     ]
    },
    {
     "name": "stderr",
     "output_type": "stream",
     "text": [
      "\n",
      "  0%|                                                  | 0/1000 [00:00<?, ?it/s]\u001b[A\n",
      " 28%|██████████▌                           | 278/1000 [00:00<00:00, 2777.61it/s]\u001b[A\n",
      " 56%|█████████████████████▏                | 556/1000 [00:00<00:00, 2398.75it/s]\u001b[A\n",
      "100%|█████████████████████████████████████| 1000/1000 [00:00<00:00, 2472.59it/s]\u001b[A\n"
     ]
    },
    {
     "name": "stdout",
     "output_type": "stream",
     "text": [
      "Muduapa_(Vitu)_mudu1242.csv\n"
     ]
    },
    {
     "name": "stderr",
     "output_type": "stream",
     "text": [
      "\n",
      "  0%|                                                  | 0/1000 [00:00<?, ?it/s]\u001b[A\n",
      " 40%|███████████████▍                      | 405/1000 [00:00<00:00, 4047.74it/s]\u001b[A\n",
      "100%|█████████████████████████████████████| 1000/1000 [00:00<00:00, 2879.40it/s]\u001b[A\n"
     ]
    },
    {
     "name": "stdout",
     "output_type": "stream",
     "text": [
      "Paici_paic1239.csv\n"
     ]
    },
    {
     "name": "stderr",
     "output_type": "stream",
     "text": [
      "\n",
      "  0%|                                                  | 0/1000 [00:00<?, ?it/s]\u001b[A\n",
      " 24%|█████████                             | 239/1000 [00:00<00:00, 2383.09it/s]\u001b[A\n",
      " 48%|██████████████████▏                   | 480/1000 [00:00<00:00, 2391.73it/s]\u001b[A\n",
      "100%|█████████████████████████████████████| 1000/1000 [00:00<00:00, 2601.83it/s]\u001b[A\n"
     ]
    },
    {
     "name": "stdout",
     "output_type": "stream",
     "text": [
      "Anuta_anut1237.csv\n"
     ]
    },
    {
     "name": "stderr",
     "output_type": "stream",
     "text": [
      "\n",
      "  0%|                                                  | 0/1000 [00:00<?, ?it/s]\u001b[A\n",
      " 28%|██████████▌                           | 278/1000 [00:00<00:00, 2779.19it/s]\u001b[A\n",
      " 56%|█████████████████████▏                | 556/1000 [00:00<00:00, 2670.70it/s]\u001b[A\n",
      "100%|█████████████████████████████████████| 1000/1000 [00:00<00:00, 2604.19it/s]\u001b[A\n"
     ]
    },
    {
     "name": "stdout",
     "output_type": "stream",
     "text": [
      "Cheke_Holo_chek1238.csv\n"
     ]
    },
    {
     "name": "stderr",
     "output_type": "stream",
     "text": [
      "\n",
      "  0%|                                                  | 0/1000 [00:00<?, ?it/s]\u001b[A\n",
      "100%|█████████████████████████████████████| 1000/1000 [00:00<00:00, 5328.31it/s]\u001b[A\n"
     ]
    },
    {
     "name": "stdout",
     "output_type": "stream",
     "text": [
      "Kalinga_(Ahin-Kayapa_Kalanguya)_ahin1234.csv\n"
     ]
    },
    {
     "name": "stderr",
     "output_type": "stream",
     "text": [
      "\n",
      "  0%|                                                  | 0/1000 [00:00<?, ?it/s]\u001b[A\n",
      " 27%|██████████▎                           | 273/1000 [00:00<00:00, 2722.14it/s]\u001b[A\n",
      " 55%|████████████████████▋                 | 546/1000 [00:00<00:00, 2661.26it/s]\u001b[A\n",
      "100%|█████████████████████████████████████| 1000/1000 [00:00<00:00, 2618.69it/s]\u001b[A\n"
     ]
    },
    {
     "name": "stdout",
     "output_type": "stream",
     "text": [
      "Waropen_waro1242.csv\n"
     ]
    },
    {
     "name": "stderr",
     "output_type": "stream",
     "text": [
      "\n",
      "  0%|                                                  | 0/1000 [00:00<?, ?it/s]\u001b[A\n",
      " 47%|█████████████████▋                    | 467/1000 [00:00<00:00, 4665.99it/s]\u001b[A\n",
      "100%|█████████████████████████████████████| 1000/1000 [00:00<00:00, 4721.88it/s]\u001b[A\n"
     ]
    },
    {
     "name": "stdout",
     "output_type": "stream",
     "text": [
      "Sula_Fagudu_sula1245.csv\n"
     ]
    },
    {
     "name": "stderr",
     "output_type": "stream",
     "text": [
      "\n",
      "  0%|                                                  | 0/1000 [00:00<?, ?it/s]\u001b[A\n",
      "100%|█████████████████████████████████████| 1000/1000 [00:00<00:00, 8187.67it/s]\u001b[A\n"
     ]
    },
    {
     "name": "stdout",
     "output_type": "stream",
     "text": [
      "Ayiwo_ayiw1239.csv\n"
     ]
    },
    {
     "name": "stderr",
     "output_type": "stream",
     "text": [
      "\n",
      "  0%|                                                  | 0/1000 [00:00<?, ?it/s]\u001b[A\n",
      " 22%|████████▎                             | 220/1000 [00:00<00:00, 2189.17it/s]\u001b[A\n",
      " 44%|████████████████▋                     | 439/1000 [00:00<00:00, 1470.01it/s]\u001b[A\n",
      " 60%|██████████████████████▊               | 600/1000 [00:00<00:00, 1503.05it/s]\u001b[A\n",
      "100%|█████████████████████████████████████| 1000/1000 [00:00<00:00, 1921.93it/s]\u001b[A\n"
     ]
    },
    {
     "name": "stdout",
     "output_type": "stream",
     "text": [
      "Puluwatese_(Puluwat)_pulu1242.csv\n"
     ]
    },
    {
     "name": "stderr",
     "output_type": "stream",
     "text": [
      "\n",
      "  0%|                                                  | 0/1000 [00:00<?, ?it/s]\u001b[A\n",
      " 32%|███████████▉                          | 315/1000 [00:00<00:00, 3149.15it/s]\u001b[A\n",
      " 63%|███████████████████████▉              | 630/1000 [00:00<00:00, 2993.41it/s]\u001b[A\n",
      "100%|█████████████████████████████████████| 1000/1000 [00:00<00:00, 3003.73it/s]\u001b[A\n"
     ]
    },
    {
     "name": "stdout",
     "output_type": "stream",
     "text": [
      "Mekeo_(North-West)_meke1243a.csv\n",
      "Sunwadia_mari1426.csv\n"
     ]
    },
    {
     "name": "stderr",
     "output_type": "stream",
     "text": [
      "\n",
      "  0%|                                                  | 0/1000 [00:00<?, ?it/s]\u001b[A\n",
      "100%|█████████████████████████████████████| 1000/1000 [00:00<00:00, 6336.06it/s]\u001b[A\n"
     ]
    },
    {
     "name": "stdout",
     "output_type": "stream",
     "text": [
      "Lewo_lewo1242.csv\n"
     ]
    },
    {
     "name": "stderr",
     "output_type": "stream",
     "text": [
      "\n",
      "100%|████████████████████████████████████| 1000/1000 [00:00<00:00, 10191.60it/s]\u001b[A\n"
     ]
    },
    {
     "name": "stdout",
     "output_type": "stream",
     "text": [
      "Big_Nambas_bign1238a.csv\n"
     ]
    },
    {
     "name": "stderr",
     "output_type": "stream",
     "text": [
      "\n",
      "  0%|                                                  | 0/1000 [00:00<?, ?it/s]\u001b[A\n",
      "100%|█████████████████████████████████████| 1000/1000 [00:00<00:00, 5933.02it/s]\u001b[A\n"
     ]
    },
    {
     "name": "stdout",
     "output_type": "stream",
     "text": [
      "Torete_tore1237.csv\n"
     ]
    },
    {
     "name": "stderr",
     "output_type": "stream",
     "text": [
      "\n",
      "  0%|                                                  | 0/1000 [00:00<?, ?it/s]\u001b[A\n",
      "100%|█████████████████████████████████████| 1000/1000 [00:00<00:00, 8374.92it/s]\u001b[A\n"
     ]
    },
    {
     "name": "stdout",
     "output_type": "stream",
     "text": [
      "Waru_waru1266.csv\n"
     ]
    },
    {
     "name": "stderr",
     "output_type": "stream",
     "text": [
      "\n",
      "  0%|                                                  | 0/1000 [00:00<?, ?it/s]\u001b[A\n",
      "100%|█████████████████████████████████████| 1000/1000 [00:00<00:00, 9023.40it/s]\u001b[A\n"
     ]
    },
    {
     "name": "stdout",
     "output_type": "stream",
     "text": [
      "Nafsan_sout2856.csv\n"
     ]
    },
    {
     "name": "stderr",
     "output_type": "stream",
     "text": [
      "\n",
      "  0%|                                                  | 0/1000 [00:00<?, ?it/s]\u001b[A\n",
      "100%|█████████████████████████████████████| 1000/1000 [00:00<00:00, 5249.43it/s]\u001b[A\n"
     ]
    },
    {
     "name": "stdout",
     "output_type": "stream",
     "text": [
      "Nguna_ngun1274.csv\n"
     ]
    },
    {
     "name": "stderr",
     "output_type": "stream",
     "text": [
      "\n",
      "  0%|                                                  | 0/1000 [00:00<?, ?it/s]\u001b[A\n",
      " 35%|█████████████▏                        | 348/1000 [00:00<00:00, 3477.91it/s]\u001b[A\n",
      "100%|█████████████████████████████████████| 1000/1000 [00:00<00:00, 3400.19it/s]\u001b[A\n"
     ]
    },
    {
     "name": "stdout",
     "output_type": "stream",
     "text": [
      "Easter_Islanders_rapa1244.csv\n"
     ]
    },
    {
     "name": "stderr",
     "output_type": "stream",
     "text": [
      "\n",
      "  0%|                                                  | 0/1000 [00:00<?, ?it/s]\u001b[A\n",
      " 42%|████████████████                      | 423/1000 [00:00<00:00, 4226.67it/s]\u001b[A\n",
      "100%|█████████████████████████████████████| 1000/1000 [00:00<00:00, 4173.10it/s]\u001b[A\n"
     ]
    },
    {
     "name": "stdout",
     "output_type": "stream",
     "text": [
      "Waia_waia1242.csv\n"
     ]
    },
    {
     "name": "stderr",
     "output_type": "stream",
     "text": [
      "\n",
      "  0%|                                                  | 0/1000 [00:00<?, ?it/s]\u001b[A\n",
      "100%|█████████████████████████████████████| 1000/1000 [00:00<00:00, 8311.36it/s]\u001b[A\n"
     ]
    },
    {
     "name": "stdout",
     "output_type": "stream",
     "text": [
      "Paiwan_paiw1248.csv\n"
     ]
    },
    {
     "name": "stderr",
     "output_type": "stream",
     "text": [
      "\n",
      "  0%|                                                  | 0/1000 [00:00<?, ?it/s]\u001b[A\n",
      " 32%|████████████▏                         | 322/1000 [00:00<00:00, 3219.67it/s]\u001b[A\n",
      " 64%|████████████████████████▍             | 644/1000 [00:00<00:00, 3018.34it/s]\u001b[A\n",
      "100%|█████████████████████████████████████| 1000/1000 [00:00<00:00, 2927.14it/s]\u001b[A\n"
     ]
    },
    {
     "name": "stdout",
     "output_type": "stream",
     "text": [
      "Miningir_(Lunga)_mini1251.csv\n"
     ]
    },
    {
     "name": "stderr",
     "output_type": "stream",
     "text": [
      "\n",
      "  0%|                                                  | 0/1000 [00:00<?, ?it/s]\u001b[A\n",
      " 29%|██████████▉                           | 287/1000 [00:00<00:00, 2867.90it/s]\u001b[A\n",
      " 57%|█████████████████████▊                | 574/1000 [00:00<00:00, 2832.13it/s]\u001b[A\n",
      "100%|█████████████████████████████████████| 1000/1000 [00:00<00:00, 2783.14it/s]\u001b[A\n"
     ]
    },
    {
     "name": "stdout",
     "output_type": "stream",
     "text": [
      "Javanese_java1254.csv\n"
     ]
    },
    {
     "name": "stderr",
     "output_type": "stream",
     "text": [
      "\n",
      "  0%|                                                  | 0/1000 [00:00<?, ?it/s]\u001b[A\n",
      " 29%|███████████▏                          | 294/1000 [00:00<00:00, 2937.03it/s]\u001b[A\n",
      " 59%|██████████████████████▎               | 588/1000 [00:00<00:00, 2935.91it/s]\u001b[A\n",
      "100%|█████████████████████████████████████| 1000/1000 [00:00<00:00, 2895.95it/s]\u001b[A\n"
     ]
    },
    {
     "name": "stdout",
     "output_type": "stream",
     "text": [
      "Roviana_rovi1238.csv\n"
     ]
    },
    {
     "name": "stderr",
     "output_type": "stream",
     "text": [
      "\n",
      "  0%|                                                  | 0/1000 [00:00<?, ?it/s]\u001b[A\n",
      " 28%|██████████▊                           | 285/1000 [00:00<00:00, 2846.73it/s]\u001b[A\n",
      " 57%|█████████████████████▋                | 570/1000 [00:00<00:00, 2664.75it/s]\u001b[A\n",
      "100%|█████████████████████████████████████| 1000/1000 [00:00<00:00, 2691.28it/s]\u001b[A\n"
     ]
    },
    {
     "name": "stdout",
     "output_type": "stream",
     "text": [
      "Wolio_woli1241.csv\n"
     ]
    },
    {
     "name": "stderr",
     "output_type": "stream",
     "text": [
      "\n",
      "  0%|                                                  | 0/1000 [00:00<?, ?it/s]\u001b[A\n",
      "100%|█████████████████████████████████████| 1000/1000 [00:00<00:00, 5311.24it/s]\u001b[A\n"
     ]
    },
    {
     "name": "stdout",
     "output_type": "stream",
     "text": [
      "Landewe_land1259.csv\n"
     ]
    },
    {
     "name": "stderr",
     "output_type": "stream",
     "text": [
      "\n",
      "  0%|                                                  | 0/1000 [00:00<?, ?it/s]\u001b[A\n",
      "100%|█████████████████████████████████████| 1000/1000 [00:00<00:00, 8107.27it/s]\u001b[A\n"
     ]
    },
    {
     "name": "stdout",
     "output_type": "stream",
     "text": [
      "Sundanese_sund1252.csv\n"
     ]
    },
    {
     "name": "stderr",
     "output_type": "stream",
     "text": [
      "\n",
      "  0%|                                                  | 0/1000 [00:00<?, ?it/s]\u001b[A\n",
      " 35%|█████████████▍                        | 354/1000 [00:00<00:00, 3537.66it/s]\u001b[A\n",
      "100%|█████████████████████████████████████| 1000/1000 [00:00<00:00, 3436.44it/s]\u001b[A\n"
     ]
    },
    {
     "name": "stdout",
     "output_type": "stream",
     "text": [
      "Gela_gela1263.csv\n"
     ]
    },
    {
     "name": "stderr",
     "output_type": "stream",
     "text": [
      "\n",
      "  0%|                                                  | 0/1000 [00:00<?, ?it/s]\u001b[A\n",
      " 43%|████████████████▏                     | 427/1000 [00:00<00:00, 4269.32it/s]\u001b[A\n",
      "100%|█████████████████████████████████████| 1000/1000 [00:00<00:00, 4184.17it/s]\u001b[A\n"
     ]
    },
    {
     "name": "stdout",
     "output_type": "stream",
     "text": [
      "Tuvalu_(Nanumea)_tuva1244.csv\n"
     ]
    },
    {
     "name": "stderr",
     "output_type": "stream",
     "text": [
      "\n",
      "  0%|                                                  | 0/1000 [00:00<?, ?it/s]\u001b[A\n",
      " 29%|███████████                           | 292/1000 [00:00<00:00, 2918.07it/s]\u001b[A\n",
      " 58%|██████████████████████▏               | 584/1000 [00:00<00:00, 2570.34it/s]\u001b[A\n",
      "100%|█████████████████████████████████████| 1000/1000 [00:00<00:00, 2728.71it/s]\u001b[A\n"
     ]
    },
    {
     "name": "stdout",
     "output_type": "stream",
     "text": [
      "Motu_motu1246.csv\n"
     ]
    },
    {
     "name": "stderr",
     "output_type": "stream",
     "text": [
      "\n",
      "  0%|                                                  | 0/1000 [00:00<?, ?it/s]\u001b[A\n",
      "100%|█████████████████████████████████████| 1000/1000 [00:00<00:00, 5026.97it/s]\u001b[A\n"
     ]
    },
    {
     "name": "stdout",
     "output_type": "stream",
     "text": [
      "Wawonii_wawo1239.csv\n"
     ]
    },
    {
     "name": "stderr",
     "output_type": "stream",
     "text": [
      "\n",
      "  0%|                                                  | 0/1000 [00:00<?, ?it/s]\u001b[A\n",
      " 32%|████████████                          | 319/1000 [00:00<00:00, 3171.10it/s]\u001b[A\n",
      " 64%|████████████████████████▌             | 645/1000 [00:00<00:00, 3219.79it/s]\u001b[A\n",
      "100%|█████████████████████████████████████| 1000/1000 [00:00<00:00, 2961.99it/s]\u001b[A\n"
     ]
    },
    {
     "name": "stdout",
     "output_type": "stream",
     "text": [
      "Ida'an_idaa1241.csv\n"
     ]
    },
    {
     "name": "stderr",
     "output_type": "stream",
     "text": [
      "\n",
      "  0%|                                                  | 0/1000 [00:00<?, ?it/s]\u001b[A\n",
      " 21%|███████▉                              | 210/1000 [00:00<00:00, 2097.47it/s]\u001b[A\n",
      " 43%|████████████████▏                     | 426/1000 [00:00<00:00, 2130.83it/s]\u001b[A\n",
      " 64%|████████████████████████▎             | 641/1000 [00:00<00:00, 2135.95it/s]\u001b[A\n",
      "100%|█████████████████████████████████████| 1000/1000 [00:00<00:00, 2124.78it/s]\u001b[A\n"
     ]
    },
    {
     "name": "stdout",
     "output_type": "stream",
     "text": [
      "Proto-Oceanic_ocea1241.csv\n"
     ]
    },
    {
     "name": "stderr",
     "output_type": "stream",
     "text": [
      "\n",
      "  0%|                                                  | 0/1000 [00:00<?, ?it/s]\u001b[A\n",
      "100%|█████████████████████████████████████| 1000/1000 [00:00<00:00, 5722.13it/s]\u001b[A\n"
     ]
    },
    {
     "name": "stdout",
     "output_type": "stream",
     "text": [
      "Niuafo'ou_niua1240.csv\n"
     ]
    },
    {
     "name": "stderr",
     "output_type": "stream",
     "text": [
      "\n",
      "  0%|                                                  | 0/1000 [00:00<?, ?it/s]\u001b[A\n",
      "100%|█████████████████████████████████████| 1000/1000 [00:00<00:00, 5523.28it/s]\u001b[A"
     ]
    },
    {
     "name": "stdout",
     "output_type": "stream",
     "text": [
      "Whitesands_whit1269.csv\n"
     ]
    },
    {
     "name": "stderr",
     "output_type": "stream",
     "text": [
      "\n",
      "\n",
      "  0%|                                                  | 0/1000 [00:00<?, ?it/s]\u001b[A\n",
      " 42%|████████████████                      | 422/1000 [00:00<00:00, 4211.20it/s]\u001b[A\n",
      "100%|█████████████████████████████████████| 1000/1000 [00:00<00:00, 4016.98it/s]\u001b[A\n"
     ]
    },
    {
     "name": "stdout",
     "output_type": "stream",
     "text": [
      "Puyuma_puyu1239.csv\n"
     ]
    },
    {
     "name": "stderr",
     "output_type": "stream",
     "text": [
      "\n",
      "  0%|                                                  | 0/1000 [00:00<?, ?it/s]\u001b[A\n",
      "100%|█████████████████████████████████████| 1000/1000 [00:00<00:00, 9151.97it/s]\u001b[A\n"
     ]
    },
    {
     "name": "stdout",
     "output_type": "stream",
     "text": [
      "Rakahanga-Manihiki_raka1237.csv\n"
     ]
    },
    {
     "name": "stderr",
     "output_type": "stream",
     "text": [
      "\n",
      "  0%|                                                  | 0/1000 [00:00<?, ?it/s]\u001b[A\n",
      "100%|█████████████████████████████████████| 1000/1000 [00:00<00:00, 5060.29it/s]\u001b[A\n"
     ]
    },
    {
     "name": "stdout",
     "output_type": "stream",
     "text": [
      "Wallisian_(East_Uvea)_wall1257.csv\n"
     ]
    },
    {
     "name": "stderr",
     "output_type": "stream",
     "text": [
      "\n",
      "  0%|                                                  | 0/1000 [00:00<?, ?it/s]\u001b[A\n",
      "100%|█████████████████████████████████████| 1000/1000 [00:00<00:00, 5424.49it/s]\u001b[A\n"
     ]
    },
    {
     "name": "stdout",
     "output_type": "stream",
     "text": [
      "Gayo_gayo1244.csv\n"
     ]
    },
    {
     "name": "stderr",
     "output_type": "stream",
     "text": [
      "\n",
      "  0%|                                                  | 0/1000 [00:00<?, ?it/s]\u001b[A\n",
      "100%|█████████████████████████████████████| 1000/1000 [00:00<00:00, 6580.51it/s]\u001b[A\n"
     ]
    },
    {
     "name": "stdout",
     "output_type": "stream",
     "text": [
      "Tikopia_tiko1237a.csv\n"
     ]
    },
    {
     "name": "stderr",
     "output_type": "stream",
     "text": [
      "\n",
      "  0%|                                                  | 0/1000 [00:00<?, ?it/s]\u001b[A\n",
      " 24%|█████████▏                            | 242/1000 [00:00<00:00, 2406.33it/s]\u001b[A\n",
      " 49%|██████████████████▌                   | 490/1000 [00:00<00:00, 2447.08it/s]\u001b[A\n",
      "100%|█████████████████████████████████████| 1000/1000 [00:00<00:00, 2538.91it/s]\u001b[A\n"
     ]
    },
    {
     "name": "stdout",
     "output_type": "stream",
     "text": [
      "Tamambo_malo1243.csv\n"
     ]
    },
    {
     "name": "stderr",
     "output_type": "stream",
     "text": [
      "\n",
      "  0%|                                                  | 0/1000 [00:00<?, ?it/s]\u001b[A\n",
      "100%|█████████████████████████████████████| 1000/1000 [00:00<00:00, 5779.48it/s]\u001b[A\n"
     ]
    },
    {
     "name": "stdout",
     "output_type": "stream",
     "text": [
      "Achinese_achi1257.csv\n"
     ]
    },
    {
     "name": "stderr",
     "output_type": "stream",
     "text": [
      "\n",
      "  0%|                                                  | 0/1000 [00:00<?, ?it/s]\u001b[A\n",
      "100%|█████████████████████████████████████| 1000/1000 [00:00<00:00, 6633.50it/s]\u001b[A\n"
     ]
    },
    {
     "name": "stdout",
     "output_type": "stream",
     "text": [
      "South_Efate_sout2856a.csv\n",
      "Neve'ei_vinm1237a.csv\n",
      "North_Efate_(Nguna,_Nakanamanga)_nort2836.csv\n"
     ]
    },
    {
     "name": "stderr",
     "output_type": "stream",
     "text": [
      "\n",
      "  0%|                                                  | 0/1000 [00:00<?, ?it/s]\u001b[A\n",
      "100%|█████████████████████████████████████| 1000/1000 [00:00<00:00, 6841.49it/s]\u001b[A\n"
     ]
    },
    {
     "name": "stdout",
     "output_type": "stream",
     "text": [
      "Mota_mota1237.csv\n"
     ]
    },
    {
     "name": "stderr",
     "output_type": "stream",
     "text": [
      "\n",
      "  0%|                                                  | 0/1000 [00:00<?, ?it/s]\u001b[A\n",
      " 35%|█████████████▍                        | 353/1000 [00:00<00:00, 3523.66it/s]\u001b[A\n",
      "100%|█████████████████████████████████████| 1000/1000 [00:00<00:00, 3802.09it/s]\u001b[A\n"
     ]
    },
    {
     "name": "stdout",
     "output_type": "stream",
     "text": [
      "Old_Javanese_(Kawi)_kawi1241.csv\n",
      "Rahambuu_raha1237.csv\n"
     ]
    },
    {
     "name": "stderr",
     "output_type": "stream",
     "text": [
      "\n",
      "  0%|                                                  | 0/1000 [00:00<?, ?it/s]\u001b[A\n",
      "100%|█████████████████████████████████████| 1000/1000 [00:00<00:00, 8810.19it/s]\u001b[A\n"
     ]
    },
    {
     "name": "stdout",
     "output_type": "stream",
     "text": [
      "Tadyawan_tady1237.csv\n"
     ]
    },
    {
     "name": "stderr",
     "output_type": "stream",
     "text": [
      "\n",
      "  0%|                                                  | 0/1000 [00:00<?, ?it/s]\u001b[A\n",
      " 31%|███████████▉                          | 314/1000 [00:00<00:00, 3136.70it/s]\u001b[A\n",
      " 63%|███████████████████████▊              | 628/1000 [00:00<00:00, 3056.18it/s]\u001b[A\n",
      "100%|█████████████████████████████████████| 1000/1000 [00:00<00:00, 2604.11it/s]\u001b[A\n"
     ]
    },
    {
     "name": "stdout",
     "output_type": "stream",
     "text": [
      "Umiray_Dumaget_Agta_umir1236.csv\n"
     ]
    },
    {
     "name": "stderr",
     "output_type": "stream",
     "text": [
      "\n",
      "  0%|                                                  | 0/1000 [00:00<?, ?it/s]\u001b[A\n",
      " 34%|████████████▋                         | 335/1000 [00:00<00:00, 3338.58it/s]\u001b[A\n",
      "100%|█████████████████████████████████████| 1000/1000 [00:00<00:00, 4136.06it/s]\u001b[A\n"
     ]
    },
    {
     "name": "stdout",
     "output_type": "stream",
     "text": [
      "Tanala_tana1285.csv\n"
     ]
    },
    {
     "name": "stderr",
     "output_type": "stream",
     "text": [
      "\n",
      "  0%|                                                  | 0/1000 [00:00<?, ?it/s]\u001b[A\n",
      " 29%|██████████▉                           | 287/1000 [00:00<00:00, 2868.07it/s]\u001b[A\n",
      " 58%|██████████████████████                | 579/1000 [00:00<00:00, 2893.61it/s]\u001b[A\n",
      "100%|█████████████████████████████████████| 1000/1000 [00:00<00:00, 2824.86it/s]\u001b[A\n"
     ]
    },
    {
     "name": "stdout",
     "output_type": "stream",
     "text": [
      "Nanggu_nang1262.csv\n"
     ]
    },
    {
     "name": "stderr",
     "output_type": "stream",
     "text": [
      "\n",
      "  0%|                                                  | 0/1000 [00:00<?, ?it/s]\u001b[A\n",
      "100%|█████████████████████████████████████| 1000/1000 [00:00<00:00, 4231.49it/s]\u001b[A\n"
     ]
    },
    {
     "name": "stdout",
     "output_type": "stream",
     "text": [
      "Vao_vaoo1237.csv\n"
     ]
    },
    {
     "name": "stderr",
     "output_type": "stream",
     "text": [
      "\n",
      "  0%|                                                  | 0/1000 [00:00<?, ?it/s]\u001b[A\n",
      "100%|█████████████████████████████████████| 1000/1000 [00:00<00:00, 5182.66it/s]\u001b[A\n"
     ]
    },
    {
     "name": "stdout",
     "output_type": "stream",
     "text": [
      "Kadai_kada1286.csv\n"
     ]
    },
    {
     "name": "stderr",
     "output_type": "stream",
     "text": [
      "\n",
      "  0%|                                                  | 0/1000 [00:00<?, ?it/s]\u001b[A\n",
      "100%|█████████████████████████████████████| 1000/1000 [00:00<00:00, 6364.72it/s]\u001b[A\n"
     ]
    },
    {
     "name": "stdout",
     "output_type": "stream",
     "text": [
      "Nese_nese1235.csv\n"
     ]
    },
    {
     "name": "stderr",
     "output_type": "stream",
     "text": [
      "\n",
      "  0%|                                                  | 0/1000 [00:00<?, ?it/s]\u001b[A\n",
      "100%|█████████████████████████████████████| 1000/1000 [00:00<00:00, 5295.91it/s]\u001b[A\n"
     ]
    },
    {
     "name": "stdout",
     "output_type": "stream",
     "text": [
      "Rotinese_Termanu__term1237.csv\n"
     ]
    },
    {
     "name": "stderr",
     "output_type": "stream",
     "text": [
      "\n",
      "  0%|                                                  | 0/1000 [00:00<?, ?it/s]\u001b[A\n",
      " 29%|██████████▊                           | 286/1000 [00:00<00:00, 2853.38it/s]\u001b[A\n",
      " 57%|█████████████████████▋                | 572/1000 [00:00<00:00, 2391.40it/s]\u001b[A\n",
      "100%|█████████████████████████████████████| 1000/1000 [00:00<00:00, 2543.27it/s]\u001b[A\n"
     ]
    },
    {
     "name": "stdout",
     "output_type": "stream",
     "text": [
      "Aria_(Mouk-Aria)_mouk1240a.csv\n"
     ]
    },
    {
     "name": "stderr",
     "output_type": "stream",
     "text": [
      "\n",
      "  0%|                                                  | 0/1000 [00:00<?, ?it/s]\u001b[A\n",
      "100%|█████████████████████████████████████| 1000/1000 [00:00<00:00, 5523.39it/s]\u001b[A\n"
     ]
    },
    {
     "name": "stdout",
     "output_type": "stream",
     "text": [
      "Routa_rout1237.csv\n"
     ]
    },
    {
     "name": "stderr",
     "output_type": "stream",
     "text": [
      "\n",
      "  0%|                                                  | 0/1000 [00:00<?, ?it/s]\u001b[A\n",
      "100%|█████████████████████████████████████| 1000/1000 [00:00<00:00, 8532.07it/s]\u001b[A\n"
     ]
    },
    {
     "name": "stdout",
     "output_type": "stream",
     "text": [
      "Kulisusu_kuli1254.csv\n"
     ]
    },
    {
     "name": "stderr",
     "output_type": "stream",
     "text": [
      "\n",
      "  0%|                                                  | 0/1000 [00:00<?, ?it/s]\u001b[A\n",
      " 32%|████████████▎                         | 325/1000 [00:00<00:00, 3244.77it/s]\u001b[A\n",
      " 66%|████████████████████████▉             | 657/1000 [00:00<00:00, 3288.31it/s]\u001b[A\n",
      "100%|█████████████████████████████████████| 1000/1000 [00:00<00:00, 3149.20it/s]\u001b[A\n"
     ]
    },
    {
     "name": "stdout",
     "output_type": "stream",
     "text": [
      "Vures_vure1239.csv\n"
     ]
    },
    {
     "name": "stderr",
     "output_type": "stream",
     "text": [
      "\n",
      "  0%|                                                  | 0/1000 [00:00<?, ?it/s]\u001b[A\n",
      " 37%|██████████████                        | 369/1000 [00:00<00:00, 3685.94it/s]\u001b[A\n",
      "100%|█████████████████████████████████████| 1000/1000 [00:00<00:00, 2615.02it/s]\u001b[A\n"
     ]
    },
    {
     "name": "stdout",
     "output_type": "stream",
     "text": [
      "Lubuagan_Kalinga_lubu1243.csv\n"
     ]
    },
    {
     "name": "stderr",
     "output_type": "stream",
     "text": [
      "\n",
      "  0%|                                                  | 0/1000 [00:00<?, ?it/s]\u001b[A\n",
      " 38%|██████████████▎                       | 378/1000 [00:00<00:00, 3773.46it/s]\u001b[A\n",
      "100%|█████████████████████████████████████| 1000/1000 [00:00<00:00, 3997.25it/s]\u001b[A\n"
     ]
    },
    {
     "name": "stdout",
     "output_type": "stream",
     "text": [
      "Itbayat_ivat1242.csv\n"
     ]
    },
    {
     "name": "stderr",
     "output_type": "stream",
     "text": [
      "\n",
      "  0%|                                                  | 0/1000 [00:00<?, ?it/s]\u001b[A\n",
      " 10%|███▉                                  | 105/1000 [00:00<00:00, 1032.18it/s]\u001b[A\n",
      " 30%|███████████▍                          | 301/1000 [00:00<00:00, 1572.18it/s]\u001b[A\n",
      " 56%|█████████████████████▏                | 557/1000 [00:00<00:00, 2019.86it/s]\u001b[A\n",
      " 78%|█████████████████████████████▊        | 784/1000 [00:00<00:00, 2116.69it/s]\u001b[A\n",
      "100%|█████████████████████████████████████| 1000/1000 [00:00<00:00, 1937.08it/s]\u001b[A\n"
     ]
    },
    {
     "name": "stdout",
     "output_type": "stream",
     "text": [
      "Western_Tawbuid_(Batangan)_west2559.csv\n"
     ]
    },
    {
     "name": "stderr",
     "output_type": "stream",
     "text": [
      "\n",
      "  0%|                                                  | 0/1000 [00:00<?, ?it/s]\u001b[A\n",
      " 22%|████████▌                             | 224/1000 [00:00<00:00, 2237.61it/s]\u001b[A\n",
      " 46%|█████████████████▋                    | 465/1000 [00:00<00:00, 2338.81it/s]\u001b[A\n",
      " 70%|██████████████████████████▌           | 699/1000 [00:00<00:00, 2324.29it/s]\u001b[A\n",
      "100%|█████████████████████████████████████| 1000/1000 [00:00<00:00, 2326.98it/s]\u001b[A\n"
     ]
    },
    {
     "name": "stdout",
     "output_type": "stream",
     "text": [
      "Kilivila_kili1267.csv\n"
     ]
    },
    {
     "name": "stderr",
     "output_type": "stream",
     "text": [
      "\n",
      "  0%|                                                  | 0/1000 [00:00<?, ?it/s]\u001b[A\n",
      " 47%|██████████████████                    | 474/1000 [00:00<00:00, 4736.50it/s]\u001b[A\n",
      "100%|█████████████████████████████████████| 1000/1000 [00:00<00:00, 4158.57it/s]\u001b[A\n"
     ]
    },
    {
     "name": "stdout",
     "output_type": "stream",
     "text": [
      "Tokelau_toke1240.csv\n"
     ]
    },
    {
     "name": "stderr",
     "output_type": "stream",
     "text": [
      "\n",
      "  0%|                                                  | 0/1000 [00:00<?, ?it/s]\u001b[A\n",
      " 22%|████████▎                             | 218/1000 [00:00<00:00, 2175.82it/s]\u001b[A\n",
      " 44%|████████████████▌                     | 436/1000 [00:00<00:00, 1988.39it/s]\u001b[A\n",
      " 64%|████████████████████████▏             | 636/1000 [00:00<00:00, 1936.05it/s]\u001b[A\n",
      "100%|█████████████████████████████████████| 1000/1000 [00:00<00:00, 1997.74it/s]\u001b[A\n"
     ]
    },
    {
     "name": "stdout",
     "output_type": "stream",
     "text": [
      "Thao_thao1240.csv\n"
     ]
    },
    {
     "name": "stderr",
     "output_type": "stream",
     "text": [
      "\n",
      "  0%|                                                  | 0/1000 [00:00<?, ?it/s]\u001b[A\n",
      " 36%|█████████████▋                        | 361/1000 [00:00<00:00, 3596.83it/s]\u001b[A\n",
      "100%|█████████████████████████████████████| 1000/1000 [00:00<00:00, 3552.42it/s]\u001b[A\n"
     ]
    },
    {
     "name": "stdout",
     "output_type": "stream",
     "text": [
      "Pukapuka_puka1242.csv\n"
     ]
    },
    {
     "name": "stderr",
     "output_type": "stream",
     "text": [
      "\n",
      "  0%|                                                  | 0/1000 [00:00<?, ?it/s]\u001b[A\n",
      " 26%|██████████                            | 264/1000 [00:00<00:00, 2637.39it/s]\u001b[A\n",
      " 53%|████████████████████                  | 528/1000 [00:00<00:00, 2625.58it/s]\u001b[A\n",
      "100%|█████████████████████████████████████| 1000/1000 [00:00<00:00, 2747.41it/s]\u001b[A\n"
     ]
    },
    {
     "name": "stdout",
     "output_type": "stream",
     "text": [
      "Watut_watu1246.csv\n"
     ]
    },
    {
     "name": "stderr",
     "output_type": "stream",
     "text": [
      "\n",
      "  0%|                                                  | 0/1000 [00:00<?, ?it/s]\u001b[A\n",
      " 30%|███████████▌                          | 304/1000 [00:00<00:00, 3035.35it/s]\u001b[A\n",
      " 61%|███████████████████████               | 608/1000 [00:00<00:00, 2248.35it/s]\u001b[A\n",
      "100%|█████████████████████████████████████| 1000/1000 [00:00<00:00, 2195.77it/s]\u001b[A\n"
     ]
    },
    {
     "name": "stdout",
     "output_type": "stream",
     "text": [
      "Patani_pata1260.csv\n"
     ]
    },
    {
     "name": "stderr",
     "output_type": "stream",
     "text": [
      "\n",
      "  0%|                                                  | 0/1000 [00:00<?, ?it/s]\u001b[A\n",
      " 32%|████████████▎                         | 323/1000 [00:00<00:00, 3224.74it/s]\u001b[A\n",
      " 66%|█████████████████████████▏            | 664/1000 [00:00<00:00, 3332.64it/s]\u001b[A\n",
      "100%|█████████████████████████████████████| 1000/1000 [00:00<00:00, 3230.49it/s]\u001b[A\n"
     ]
    },
    {
     "name": "stdout",
     "output_type": "stream",
     "text": [
      "Munggava_(Rennell)_mung1271.csv\n"
     ]
    },
    {
     "name": "stderr",
     "output_type": "stream",
     "text": [
      "\n",
      "  0%|                                                  | 0/1000 [00:00<?, ?it/s]\u001b[A\n",
      " 33%|████████████▋                         | 334/1000 [00:00<00:00, 3335.97it/s]\u001b[A\n",
      "100%|█████████████████████████████████████| 1000/1000 [00:00<00:00, 3095.12it/s]\u001b[A\n"
     ]
    },
    {
     "name": "stdout",
     "output_type": "stream",
     "text": [
      "Emau_(Emao_Island)_emau1237.csv\n"
     ]
    },
    {
     "name": "stderr",
     "output_type": "stream",
     "text": [
      "\n",
      "  0%|                                                  | 0/1000 [00:00<?, ?it/s]\u001b[A\n",
      " 26%|█████████▉                            | 263/1000 [00:00<00:00, 2628.97it/s]\u001b[A\n",
      " 53%|████████████████████▏                 | 531/1000 [00:00<00:00, 2656.66it/s]\u001b[A\n",
      "100%|█████████████████████████████████████| 1000/1000 [00:00<00:00, 2843.30it/s]\u001b[A\n"
     ]
    },
    {
     "name": "stdout",
     "output_type": "stream",
     "text": [
      "Buhid_buhi1245.csv\n"
     ]
    },
    {
     "name": "stderr",
     "output_type": "stream",
     "text": [
      "\n",
      "  0%|                                                  | 0/1000 [00:00<?, ?it/s]\u001b[A\n",
      " 28%|██████████▊                           | 284/1000 [00:00<00:00, 2836.34it/s]\u001b[A\n",
      " 57%|█████████████████████▌                | 568/1000 [00:00<00:00, 2830.56it/s]\u001b[A\n",
      "100%|█████████████████████████████████████| 1000/1000 [00:00<00:00, 2650.45it/s]\u001b[A\n"
     ]
    },
    {
     "name": "stdout",
     "output_type": "stream",
     "text": [
      "Barok_(Karu)_baro1253.csv\n"
     ]
    },
    {
     "name": "stderr",
     "output_type": "stream",
     "text": [
      "\n",
      "  0%|                                                  | 0/1000 [00:00<?, ?it/s]\u001b[A\n",
      "100%|█████████████████████████████████████| 1000/1000 [00:00<00:00, 6012.32it/s]\u001b[A\n"
     ]
    },
    {
     "name": "stdout",
     "output_type": "stream",
     "text": [
      "Tongan_tong1325.csv\n"
     ]
    },
    {
     "name": "stderr",
     "output_type": "stream",
     "text": [
      "\n",
      "  0%|                                                  | 0/1000 [00:00<?, ?it/s]\u001b[A\n",
      " 25%|█████████▋                            | 254/1000 [00:00<00:00, 2539.32it/s]\u001b[A\n",
      " 51%|███████████████████▎                  | 508/1000 [00:00<00:00, 2256.87it/s]\u001b[A\n",
      " 74%|███████████████████████████▉          | 736/1000 [00:00<00:00, 2029.43it/s]\u001b[A\n",
      "100%|█████████████████████████████████████| 1000/1000 [00:00<00:00, 1760.94it/s]\u001b[A\n"
     ]
    },
    {
     "name": "stdout",
     "output_type": "stream",
     "text": [
      "East_Futuna_east2447.csv\n",
      "Mori_Bawah_mori1268.csv\n"
     ]
    },
    {
     "name": "stderr",
     "output_type": "stream",
     "text": [
      "\n",
      "  0%|                                                  | 0/1000 [00:00<?, ?it/s]\u001b[A\n",
      " 11%|████                                  | 106/1000 [00:00<00:00, 1059.55it/s]\u001b[A\n",
      " 31%|███████████▉                          | 314/1000 [00:00<00:00, 1657.95it/s]\u001b[A\n",
      " 55%|████████████████████▉                 | 552/1000 [00:00<00:00, 1985.47it/s]\u001b[A\n",
      " 76%|████████████████████████████▋         | 755/1000 [00:00<00:00, 2001.80it/s]\u001b[A\n",
      "100%|█████████████████████████████████████| 1000/1000 [00:00<00:00, 1921.73it/s]\u001b[A\n"
     ]
    },
    {
     "name": "stdout",
     "output_type": "stream",
     "text": [
      "Tiri-Mea_(Grand_Couli)_tiri1258.csv\n"
     ]
    },
    {
     "name": "stderr",
     "output_type": "stream",
     "text": [
      "\n",
      "  0%|                                                  | 0/1000 [00:00<?, ?it/s]\u001b[A\n",
      " 34%|█████████████                         | 345/1000 [00:00<00:00, 3448.06it/s]\u001b[A\n",
      "100%|█████████████████████████████████████| 1000/1000 [00:00<00:00, 4009.51it/s]\u001b[A\n"
     ]
    },
    {
     "name": "stdout",
     "output_type": "stream",
     "text": [
      "Manam_mana1295.csv\n"
     ]
    },
    {
     "name": "stderr",
     "output_type": "stream",
     "text": [
      "\n",
      "  0%|                                                  | 0/1000 [00:00<?, ?it/s]\u001b[A\n",
      "100%|█████████████████████████████████████| 1000/1000 [00:00<00:00, 5857.48it/s]\u001b[A\n"
     ]
    },
    {
     "name": "stdout",
     "output_type": "stream",
     "text": [
      "Wuvulu_Aua_wuvu1239.csv\n"
     ]
    },
    {
     "name": "stderr",
     "output_type": "stream",
     "text": [
      "\n",
      "  0%|                                                  | 0/1000 [00:00<?, ?it/s]\u001b[A\n",
      " 20%|███████▋                              | 203/1000 [00:00<00:00, 2022.61it/s]\u001b[A\n",
      " 42%|███████████████▉                      | 419/1000 [00:00<00:00, 2102.60it/s]\u001b[A\n",
      " 70%|██████████████████████████▋           | 701/1000 [00:00<00:00, 2428.46it/s]\u001b[A\n",
      "100%|█████████████████████████████████████| 1000/1000 [00:00<00:00, 2369.51it/s]\u001b[A\n"
     ]
    },
    {
     "name": "stdout",
     "output_type": "stream",
     "text": [
      "Kodeoha_kode1237.csv\n"
     ]
    },
    {
     "name": "stderr",
     "output_type": "stream",
     "text": [
      "\n",
      "  0%|                                                  | 0/1000 [00:00<?, ?it/s]\u001b[A\n",
      "100%|█████████████████████████████████████| 1000/1000 [00:00<00:00, 7705.90it/s]\u001b[A\n"
     ]
    },
    {
     "name": "stdout",
     "output_type": "stream",
     "text": [
      "Fortsenal_(Kiai)_fort1240.csv\n"
     ]
    },
    {
     "name": "stderr",
     "output_type": "stream",
     "text": [
      "\n",
      "  0%|                                                  | 0/1000 [00:00<?, ?it/s]\u001b[A\n",
      " 48%|██████████████████▎                   | 482/1000 [00:00<00:00, 4814.47it/s]\u001b[A\n",
      "100%|█████████████████████████████████████| 1000/1000 [00:00<00:00, 4731.94it/s]\u001b[A\n"
     ]
    },
    {
     "name": "stdout",
     "output_type": "stream",
     "text": [
      "Ili'uun_iliu1237.csv\n"
     ]
    },
    {
     "name": "stderr",
     "output_type": "stream",
     "text": [
      "\n",
      "  0%|                                                  | 0/1000 [00:00<?, ?it/s]\u001b[A\n",
      " 38%|██████████████▎                       | 377/1000 [00:00<00:00, 3769.10it/s]\u001b[A\n",
      "100%|█████████████████████████████████████| 1000/1000 [00:00<00:00, 3705.30it/s]\u001b[A\n"
     ]
    },
    {
     "name": "stdout",
     "output_type": "stream",
     "text": [
      "Bukat_buka1261.csv\n"
     ]
    },
    {
     "name": "stderr",
     "output_type": "stream",
     "text": [
      "\n",
      "  0%|                                                  | 0/1000 [00:00<?, ?it/s]\u001b[A\n",
      " 30%|███████████▎                          | 298/1000 [00:00<00:00, 2971.47it/s]\u001b[A\n",
      " 61%|███████████████████████▎              | 613/1000 [00:00<00:00, 3072.38it/s]\u001b[A\n",
      "100%|█████████████████████████████████████| 1000/1000 [00:00<00:00, 3055.46it/s]\u001b[A\n"
     ]
    },
    {
     "name": "stdout",
     "output_type": "stream",
     "text": [
      "Saaroa_saar1237.csv\n"
     ]
    },
    {
     "name": "stderr",
     "output_type": "stream",
     "text": [
      "\n",
      "  0%|                                                  | 0/1000 [00:00<?, ?it/s]\u001b[A\n",
      " 27%|██████████                            | 266/1000 [00:00<00:00, 2658.27it/s]\u001b[A\n",
      " 53%|████████████████████▏                 | 532/1000 [00:00<00:00, 2247.41it/s]\u001b[A\n",
      "100%|█████████████████████████████████████| 1000/1000 [00:00<00:00, 2535.36it/s]\u001b[A\n"
     ]
    },
    {
     "name": "stdout",
     "output_type": "stream",
     "text": [
      "Mortlockese_mort1237.csv\n"
     ]
    },
    {
     "name": "stderr",
     "output_type": "stream",
     "text": [
      "\n",
      "  0%|                                                  | 0/1000 [00:00<?, ?it/s]\u001b[A\n",
      " 33%|████████████▋                         | 334/1000 [00:00<00:00, 3336.20it/s]\u001b[A\n",
      "100%|█████████████████████████████████████| 1000/1000 [00:00<00:00, 2852.80it/s]\u001b[A\n"
     ]
    },
    {
     "name": "stdout",
     "output_type": "stream",
     "text": [
      "Nahavaq_sout2857.csv\n"
     ]
    },
    {
     "name": "stderr",
     "output_type": "stream",
     "text": [
      "\n",
      "  0%|                                                  | 0/1000 [00:00<?, ?it/s]\u001b[A\n",
      "100%|█████████████████████████████████████| 1000/1000 [00:00<00:00, 6526.91it/s]\u001b[A\n"
     ]
    },
    {
     "name": "stdout",
     "output_type": "stream",
     "text": [
      "Hanunoo_hanu1241.csv\n"
     ]
    },
    {
     "name": "stderr",
     "output_type": "stream",
     "text": [
      "\n",
      "  0%|                                                  | 0/1000 [00:00<?, ?it/s]\u001b[A\n",
      " 29%|███████████▏                          | 294/1000 [00:00<00:00, 2939.03it/s]\u001b[A\n",
      " 60%|██████████████████████▉               | 603/1000 [00:00<00:00, 3023.29it/s]\u001b[A\n",
      "100%|█████████████████████████████████████| 1000/1000 [00:00<00:00, 3010.77it/s]\u001b[A\n"
     ]
    },
    {
     "name": "stdout",
     "output_type": "stream",
     "text": [
      "Sungwadaga_mari1426b.csv\n"
     ]
    },
    {
     "name": "stderr",
     "output_type": "stream",
     "text": [
      "\n",
      "  0%|                                                  | 0/1000 [00:00<?, ?it/s]\u001b[A\n",
      " 24%|█████████▎                            | 244/1000 [00:00<00:00, 2435.04it/s]\u001b[A\n",
      " 53%|████████████████████▎                 | 534/1000 [00:00<00:00, 2708.14it/s]\u001b[A\n",
      "100%|█████████████████████████████████████| 1000/1000 [00:00<00:00, 2755.19it/s]\u001b[A\n"
     ]
    },
    {
     "name": "stdout",
     "output_type": "stream",
     "text": [
      "Maskelynes_mask1242.csv\n"
     ]
    },
    {
     "name": "stderr",
     "output_type": "stream",
     "text": [
      "\n",
      "  0%|                                                  | 0/1000 [00:00<?, ?it/s]\u001b[A\n",
      "100%|█████████████████████████████████████| 1000/1000 [00:00<00:00, 7237.15it/s]\u001b[A\n"
     ]
    },
    {
     "name": "stdout",
     "output_type": "stream",
     "text": [
      "Mangaia_mang1402.csv\n"
     ]
    },
    {
     "name": "stderr",
     "output_type": "stream",
     "text": [
      "\n",
      "  0%|                                                  | 0/1000 [00:00<?, ?it/s]\u001b[A\n",
      " 46%|█████████████████▍                    | 460/1000 [00:00<00:00, 4545.23it/s]\u001b[A\n",
      "100%|█████████████████████████████████████| 1000/1000 [00:00<00:00, 4643.33it/s]\u001b[A\n"
     ]
    },
    {
     "name": "stdout",
     "output_type": "stream",
     "text": [
      "Urak_Lawoi_urak1238.csv\n"
     ]
    },
    {
     "name": "stderr",
     "output_type": "stream",
     "text": [
      "\n",
      "  0%|                                                  | 0/1000 [00:00<?, ?it/s]\u001b[A\n",
      "100%|█████████████████████████████████████| 1000/1000 [00:00<00:00, 6693.48it/s]\u001b[A\n"
     ]
    },
    {
     "name": "stdout",
     "output_type": "stream",
     "text": [
      "Yamdena_yamd1240.csv\n"
     ]
    },
    {
     "name": "stderr",
     "output_type": "stream",
     "text": [
      "\n",
      "  0%|                                                  | 0/1000 [00:00<?, ?it/s]\u001b[A\n",
      " 27%|██████████▎                           | 270/1000 [00:00<00:00, 2692.88it/s]\u001b[A\n",
      " 54%|████████████████████▌                 | 540/1000 [00:00<00:00, 2611.89it/s]\u001b[A\n",
      "100%|█████████████████████████████████████| 1000/1000 [00:00<00:00, 2602.04it/s]\u001b[A\n"
     ]
    },
    {
     "name": "stdout",
     "output_type": "stream",
     "text": [
      "Kuanua_kuan1248.csv\n"
     ]
    },
    {
     "name": "stderr",
     "output_type": "stream",
     "text": [
      "\n",
      "  0%|                                                  | 0/1000 [00:00<?, ?it/s]\u001b[A\n",
      " 28%|██████████▌                           | 277/1000 [00:00<00:00, 2768.76it/s]\u001b[A\n",
      " 55%|█████████████████████                 | 554/1000 [00:00<00:00, 2679.64it/s]\u001b[A\n",
      "100%|█████████████████████████████████████| 1000/1000 [00:00<00:00, 2704.63it/s]\u001b[A\n"
     ]
    },
    {
     "name": "stdout",
     "output_type": "stream",
     "text": [
      "Sonsorol_sons1242.csv\n"
     ]
    },
    {
     "name": "stderr",
     "output_type": "stream",
     "text": [
      "\n",
      "  0%|                                                  | 0/1000 [00:00<?, ?it/s]\u001b[A\n",
      " 41%|███████████████▌                      | 410/1000 [00:00<00:00, 4085.38it/s]\u001b[A\n",
      "100%|█████████████████████████████████████| 1000/1000 [00:00<00:00, 3886.23it/s]\u001b[A\n"
     ]
    },
    {
     "name": "stdout",
     "output_type": "stream",
     "text": [
      "Talibabu_tali1262.csv\n"
     ]
    },
    {
     "name": "stderr",
     "output_type": "stream",
     "text": [
      "\n",
      "  0%|                                                  | 0/1000 [00:00<?, ?it/s]\u001b[A\n",
      "100%|█████████████████████████████████████| 1000/1000 [00:00<00:00, 6664.53it/s]\u001b[A\n"
     ]
    },
    {
     "name": "stdout",
     "output_type": "stream",
     "text": [
      "Mwotlap_motl1237.csv\n"
     ]
    },
    {
     "name": "stderr",
     "output_type": "stream",
     "text": [
      "\n",
      "  0%|                                                  | 0/1000 [00:00<?, ?it/s]\u001b[A\n",
      " 32%|███████████▉                          | 315/1000 [00:00<00:00, 3141.99it/s]\u001b[A\n",
      " 63%|███████████████████████▉              | 630/1000 [00:00<00:00, 3126.14it/s]\u001b[A\n",
      "100%|█████████████████████████████████████| 1000/1000 [00:00<00:00, 3070.97it/s]\u001b[A\n"
     ]
    },
    {
     "name": "stdout",
     "output_type": "stream",
     "text": [
      "Fijian_fiji1243.csv\n"
     ]
    },
    {
     "name": "stderr",
     "output_type": "stream",
     "text": [
      "\n",
      "  0%|                                                  | 0/1000 [00:00<?, ?it/s]\u001b[A\n",
      " 28%|██████████▋                           | 281/1000 [00:00<00:00, 2805.71it/s]\u001b[A\n",
      " 58%|█████████████████████▉                | 577/1000 [00:00<00:00, 2892.91it/s]\u001b[A\n",
      "100%|█████████████████████████████████████| 1000/1000 [00:00<00:00, 2871.60it/s]\u001b[A\n"
     ]
    },
    {
     "name": "stdout",
     "output_type": "stream",
     "text": [
      "Tulambatu_tula1253.csv\n"
     ]
    },
    {
     "name": "stderr",
     "output_type": "stream",
     "text": [
      "\n",
      "  0%|                                                  | 0/1000 [00:00<?, ?it/s]\u001b[A\n",
      "100%|█████████████████████████████████████| 1000/1000 [00:00<00:00, 7814.96it/s]\u001b[A\n"
     ]
    },
    {
     "name": "stdout",
     "output_type": "stream",
     "text": [
      "Western_Bukidnon_Manobo_west2555.csv\n"
     ]
    },
    {
     "name": "stderr",
     "output_type": "stream",
     "text": [
      "\n",
      "  0%|                                                  | 0/1000 [00:00<?, ?it/s]\u001b[A\n",
      " 29%|███████████▏                          | 294/1000 [00:00<00:00, 2931.74it/s]\u001b[A\n",
      " 59%|██████████████████████▌               | 593/1000 [00:00<00:00, 2963.86it/s]\u001b[A\n",
      "100%|█████████████████████████████████████| 1000/1000 [00:00<00:00, 2938.78it/s]\u001b[A\n"
     ]
    },
    {
     "name": "stdout",
     "output_type": "stream",
     "text": [
      "Avava_(Niviar_Dialect)_katb1237b.csv\n"
     ]
    },
    {
     "name": "stderr",
     "output_type": "stream",
     "text": [
      "\n",
      "  0%|                                                  | 0/1000 [00:00<?, ?it/s]\u001b[A\n",
      " 45%|████████████████▉                     | 447/1000 [00:00<00:00, 4465.48it/s]\u001b[A\n",
      "100%|█████████████████████████████████████| 1000/1000 [00:00<00:00, 4565.19it/s]\u001b[A\n"
     ]
    },
    {
     "name": "stdout",
     "output_type": "stream",
     "text": [
      "Buli_buli1256.csv\n"
     ]
    },
    {
     "name": "stderr",
     "output_type": "stream",
     "text": [
      "\n",
      "  0%|                                                  | 0/1000 [00:00<?, ?it/s]\u001b[A\n",
      " 27%|██████████▏                           | 269/1000 [00:00<00:00, 2685.97it/s]\u001b[A\n",
      " 57%|█████████████████████▌                | 569/1000 [00:00<00:00, 2866.30it/s]\u001b[A\n",
      "100%|█████████████████████████████████████| 1000/1000 [00:00<00:00, 3016.83it/s]\u001b[A\n"
     ]
    },
    {
     "name": "stdout",
     "output_type": "stream",
     "text": [
      "Bario_Kelabit_bari1288.csv\n"
     ]
    },
    {
     "name": "stderr",
     "output_type": "stream",
     "text": [
      "\n",
      "  0%|                                                  | 0/1000 [00:00<?, ?it/s]\u001b[A\n",
      " 30%|███████████▏                          | 296/1000 [00:00<00:00, 2955.44it/s]\u001b[A\n",
      " 59%|██████████████████████▍               | 592/1000 [00:00<00:00, 2878.17it/s]\u001b[A\n",
      "100%|█████████████████████████████████████| 1000/1000 [00:00<00:00, 2924.97it/s]\u001b[A\n"
     ]
    },
    {
     "name": "stdout",
     "output_type": "stream",
     "text": [
      "Tajio_taji1246.csv\n"
     ]
    },
    {
     "name": "stderr",
     "output_type": "stream",
     "text": [
      "\n",
      "  0%|                                                  | 0/1000 [00:00<?, ?it/s]\u001b[A\n",
      " 30%|███████████▌                          | 304/1000 [00:00<00:00, 3034.02it/s]\u001b[A\n",
      " 61%|███████████████████████▏              | 610/1000 [00:00<00:00, 3047.62it/s]\u001b[A\n",
      "100%|█████████████████████████████████████| 1000/1000 [00:00<00:00, 3040.20it/s]\u001b[A\n"
     ]
    },
    {
     "name": "stdout",
     "output_type": "stream",
     "text": [
      "Lalomerui_lalo1239.csv\n"
     ]
    },
    {
     "name": "stderr",
     "output_type": "stream",
     "text": [
      "\n",
      "  0%|                                                  | 0/1000 [00:00<?, ?it/s]\u001b[A\n",
      "100%|█████████████████████████████████████| 1000/1000 [00:00<00:00, 8807.16it/s]\u001b[A\n"
     ]
    },
    {
     "name": "stdout",
     "output_type": "stream",
     "text": [
      "Chuukese_(Trukese)_chuu1238.csv\n"
     ]
    },
    {
     "name": "stderr",
     "output_type": "stream",
     "text": [
      "\n",
      "  0%|                                                  | 0/1000 [00:00<?, ?it/s]\u001b[A\n",
      " 48%|██████████████████                    | 475/1000 [00:00<00:00, 4749.30it/s]\u001b[A\n",
      "100%|█████████████████████████████████████| 1000/1000 [00:00<00:00, 4795.29it/s]\u001b[A\n"
     ]
    },
    {
     "name": "stdout",
     "output_type": "stream",
     "text": [
      "Iban_iban1264.csv\n"
     ]
    },
    {
     "name": "stderr",
     "output_type": "stream",
     "text": [
      "\n",
      "  0%|                                                  | 0/1000 [00:00<?, ?it/s]\u001b[A\n",
      " 30%|███████████▌                          | 303/1000 [00:00<00:00, 3023.83it/s]\u001b[A\n",
      " 61%|███████████████████████               | 606/1000 [00:00<00:00, 2616.01it/s]\u001b[A\n",
      "100%|█████████████████████████████████████| 1000/1000 [00:00<00:00, 2642.10it/s]\u001b[A\n"
     ]
    },
    {
     "name": "stdout",
     "output_type": "stream",
     "text": [
      "Tausug_taus1251a.csv\n"
     ]
    },
    {
     "name": "stderr",
     "output_type": "stream",
     "text": [
      "\n",
      "  0%|                                                  | 0/1000 [00:00<?, ?it/s]\u001b[A\n",
      " 30%|███████████▏                          | 296/1000 [00:00<00:00, 2953.65it/s]\u001b[A\n",
      " 59%|██████████████████████▍               | 592/1000 [00:00<00:00, 2394.95it/s]\u001b[A\n",
      "100%|█████████████████████████████████████| 1000/1000 [00:00<00:00, 1765.42it/s]\u001b[A\n"
     ]
    },
    {
     "name": "stdout",
     "output_type": "stream",
     "text": [
      "Anejom_anei1239.csv\n"
     ]
    },
    {
     "name": "stderr",
     "output_type": "stream",
     "text": [
      "\n",
      "  0%|                                                  | 0/1000 [00:00<?, ?it/s]\u001b[A\n",
      " 23%|████████▋                             | 227/1000 [00:00<00:00, 2269.26it/s]\u001b[A\n",
      " 48%|██████████████████▏                   | 480/1000 [00:00<00:00, 2420.01it/s]\u001b[A\n",
      "100%|█████████████████████████████████████| 1000/1000 [00:00<00:00, 2542.25it/s]\u001b[A\n"
     ]
    },
    {
     "name": "stdout",
     "output_type": "stream",
     "text": [
      "Lau_Fijian_laua1243.csv\n"
     ]
    },
    {
     "name": "stderr",
     "output_type": "stream",
     "text": [
      "\n",
      "  0%|                                                  | 0/1000 [00:00<?, ?it/s]\u001b[A\n",
      " 26%|█████████▉                            | 263/1000 [00:00<00:00, 2622.52it/s]\u001b[A\n",
      " 54%|████████████████████▍                 | 539/1000 [00:00<00:00, 2702.98it/s]\u001b[A\n",
      "100%|█████████████████████████████████████| 1000/1000 [00:00<00:00, 2683.66it/s]\u001b[A\n"
     ]
    },
    {
     "name": "stdout",
     "output_type": "stream",
     "text": [
      "Mafea_(Mavea)_mafe1237.csv\n"
     ]
    },
    {
     "name": "stderr",
     "output_type": "stream",
     "text": [
      "\n",
      "  0%|                                                  | 0/1000 [00:00<?, ?it/s]\u001b[A\n",
      " 20%|███████▌                              | 198/1000 [00:00<00:00, 1979.23it/s]\u001b[A\n",
      " 50%|██████████████████▉                   | 499/1000 [00:00<00:00, 2585.08it/s]\u001b[A\n",
      "100%|█████████████████████████████████████| 1000/1000 [00:00<00:00, 2742.91it/s]\u001b[A\n"
     ]
    },
    {
     "name": "stdout",
     "output_type": "stream",
     "text": [
      "Lauje_lauj1238.csv\n"
     ]
    },
    {
     "name": "stderr",
     "output_type": "stream",
     "text": [
      "\n",
      "  0%|                                                  | 0/1000 [00:00<?, ?it/s]\u001b[A\n",
      " 30%|███████████▏                          | 295/1000 [00:00<00:00, 2947.37it/s]\u001b[A\n",
      " 59%|██████████████████████▍               | 590/1000 [00:00<00:00, 2936.88it/s]\u001b[A\n",
      "100%|█████████████████████████████████████| 1000/1000 [00:00<00:00, 2889.09it/s]\u001b[A\n"
     ]
    },
    {
     "name": "stdout",
     "output_type": "stream",
     "text": [
      "Avava_katb1237a.csv\n"
     ]
    },
    {
     "name": "stderr",
     "output_type": "stream",
     "text": [
      "\n",
      "  0%|                                                  | 0/1000 [00:00<?, ?it/s]\u001b[A\n",
      "100%|█████████████████████████████████████| 1000/1000 [00:00<00:00, 9362.85it/s]\u001b[A\n"
     ]
    },
    {
     "name": "stdout",
     "output_type": "stream",
     "text": [
      "Araki_arak1252.csv\n"
     ]
    },
    {
     "name": "stderr",
     "output_type": "stream",
     "text": [
      "\n",
      "  0%|                                                  | 0/1000 [00:00<?, ?it/s]\u001b[A\n",
      " 32%|████████████                          | 319/1000 [00:00<00:00, 3187.19it/s]\u001b[A\n",
      " 66%|█████████████████████████▎            | 665/1000 [00:00<00:00, 3345.25it/s]\u001b[A\n",
      "100%|█████████████████████████████████████| 1000/1000 [00:00<00:00, 3033.74it/s]\u001b[A\n"
     ]
    },
    {
     "name": "stdout",
     "output_type": "stream",
     "text": [
      "Rangiora_(NW_Tuamotus)_tuam1242.csv\n",
      "Tomadino_toma1248.csv\n"
     ]
    },
    {
     "name": "stderr",
     "output_type": "stream",
     "text": [
      "\n",
      "  0%|                                                  | 0/1000 [00:00<?, ?it/s]\u001b[A\n",
      "100%|█████████████████████████████████████| 1000/1000 [00:00<00:00, 8098.33it/s]\u001b[A\n"
     ]
    },
    {
     "name": "stdout",
     "output_type": "stream",
     "text": [
      "Asera_aser1237.csv\n"
     ]
    },
    {
     "name": "stderr",
     "output_type": "stream",
     "text": [
      "\n",
      "  0%|                                                  | 0/1000 [00:00<?, ?it/s]\u001b[A\n",
      "100%|█████████████████████████████████████| 1000/1000 [00:00<00:00, 8886.69it/s]\u001b[A\n"
     ]
    },
    {
     "name": "stdout",
     "output_type": "stream",
     "text": [
      "Old_Rapa_(Rapa)_rapa1245.csv\n"
     ]
    },
    {
     "name": "stderr",
     "output_type": "stream",
     "text": [
      "\n",
      "  0%|                                                  | 0/1000 [00:00<?, ?it/s]\u001b[A\n",
      "100%|█████████████████████████████████████| 1000/1000 [00:00<00:00, 5000.85it/s]\u001b[A\n"
     ]
    },
    {
     "name": "stdout",
     "output_type": "stream",
     "text": [
      "Tongarevans_penr1237.csv\n",
      "Raga_(Hano_Thomas_Ennever)_hano1246b.csv\n"
     ]
    },
    {
     "name": "stderr",
     "output_type": "stream",
     "text": [
      "\n",
      "  0%|                                                  | 0/1000 [00:00<?, ?it/s]\u001b[A\n",
      " 43%|████████████████▏                     | 427/1000 [00:00<00:00, 4268.71it/s]\u001b[A\n",
      "100%|█████████████████████████████████████| 1000/1000 [00:00<00:00, 2296.38it/s]\u001b[A\n"
     ]
    },
    {
     "name": "stdout",
     "output_type": "stream",
     "text": [
      "Hiligaynon_hili1240.csv\n"
     ]
    },
    {
     "name": "stderr",
     "output_type": "stream",
     "text": [
      "\n",
      "  0%|                                                  | 0/1000 [00:00<?, ?it/s]\u001b[A\n",
      " 15%|█████▌                                | 147/1000 [00:00<00:00, 1467.27it/s]\u001b[A\n",
      " 29%|███████████▏                          | 294/1000 [00:00<00:00, 1401.54it/s]\u001b[A\n",
      " 51%|███████████████████▎                  | 509/1000 [00:00<00:00, 1732.11it/s]\u001b[A\n",
      "100%|█████████████████████████████████████| 1000/1000 [00:00<00:00, 2017.22it/s]\u001b[A\n"
     ]
    },
    {
     "name": "stdout",
     "output_type": "stream",
     "text": [
      "Emae_(Mae)_emae1237.csv\n"
     ]
    },
    {
     "name": "stderr",
     "output_type": "stream",
     "text": [
      "\n",
      "100%|████████████████████████████████████| 1000/1000 [00:00<00:00, 15951.32it/s]\u001b[A\n"
     ]
    },
    {
     "name": "stdout",
     "output_type": "stream",
     "text": [
      "Tangoa_(Movono)_tang1347.csv\n"
     ]
    },
    {
     "name": "stderr",
     "output_type": "stream",
     "text": [
      "\n",
      "100%|████████████████████████████████████| 1000/1000 [00:00<00:00, 10882.85it/s]\u001b[A\n"
     ]
    },
    {
     "name": "stdout",
     "output_type": "stream",
     "text": [
      "Raga_(Hano)_hano1246.csv\n"
     ]
    },
    {
     "name": "stderr",
     "output_type": "stream",
     "text": [
      "\n",
      "  0%|                                                  | 0/1000 [00:00<?, ?it/s]\u001b[A\n",
      " 42%|████████████████                      | 422/1000 [00:00<00:00, 4218.99it/s]\u001b[A\n",
      "100%|█████████████████████████████████████| 1000/1000 [00:00<00:00, 4096.20it/s]\u001b[A\n"
     ]
    },
    {
     "name": "stdout",
     "output_type": "stream",
     "text": [
      "Mangei_(Sobjo)_mang1407.csv\n"
     ]
    },
    {
     "name": "stderr",
     "output_type": "stream",
     "text": [
      "\n",
      "  0%|                                                  | 0/1000 [00:00<?, ?it/s]\u001b[A\n",
      "100%|█████████████████████████████████████| 1000/1000 [00:00<00:00, 5109.14it/s]\u001b[A\n"
     ]
    },
    {
     "name": "stdout",
     "output_type": "stream",
     "text": [
      "North_Tanna_nort2847.csv\n"
     ]
    },
    {
     "name": "stderr",
     "output_type": "stream",
     "text": [
      "\n",
      "  0%|                                                  | 0/1000 [00:00<?, ?it/s]\u001b[A\n",
      " 40%|███████████████▎                      | 402/1000 [00:00<00:00, 4012.69it/s]\u001b[A\n",
      "100%|█████████████████████████████████████| 1000/1000 [00:00<00:00, 3929.68it/s]\u001b[A\n"
     ]
    },
    {
     "name": "stdout",
     "output_type": "stream",
     "text": [
      "Koroni_koro1311.csv\n"
     ]
    },
    {
     "name": "stderr",
     "output_type": "stream",
     "text": [
      "\n",
      "  0%|                                                  | 0/1000 [00:00<?, ?it/s]\u001b[A\n",
      "100%|█████████████████████████████████████| 1000/1000 [00:00<00:00, 8884.94it/s]\u001b[A\n"
     ]
    },
    {
     "name": "stdout",
     "output_type": "stream",
     "text": [
      "Big_Nambas_bign1238.csv\n"
     ]
    },
    {
     "name": "stderr",
     "output_type": "stream",
     "text": [
      "\n",
      "  0%|                                                  | 0/1000 [00:00<?, ?it/s]\u001b[A\n",
      " 48%|██████████████████▏                   | 479/1000 [00:00<00:00, 4786.41it/s]\u001b[A\n",
      "100%|█████████████████████████████████████| 1000/1000 [00:00<00:00, 4725.60it/s]\u001b[A\n"
     ]
    },
    {
     "name": "stdout",
     "output_type": "stream",
     "text": [
      "Lavatbura-lamusong_(Konobin)_lava1239.csv\n"
     ]
    },
    {
     "name": "stderr",
     "output_type": "stream",
     "text": [
      "\n",
      "  0%|                                                  | 0/1000 [00:00<?, ?it/s]\u001b[A\n",
      "100%|█████████████████████████████████████| 1000/1000 [00:00<00:00, 7479.48it/s]\u001b[A\n"
     ]
    },
    {
     "name": "stdout",
     "output_type": "stream",
     "text": [
      "East_Ambae_(Lolovoli)_east2443.csv\n"
     ]
    },
    {
     "name": "stderr",
     "output_type": "stream",
     "text": [
      "\n",
      "  0%|                                                  | 0/1000 [00:00<?, ?it/s]\u001b[A\n",
      "100%|█████████████████████████████████████| 1000/1000 [00:00<00:00, 8691.04it/s]\u001b[A\n"
     ]
    },
    {
     "name": "stdout",
     "output_type": "stream",
     "text": [
      "Naman_litz1237.csv\n"
     ]
    },
    {
     "name": "stderr",
     "output_type": "stream",
     "text": [
      "\n",
      "  0%|                                                  | 0/1000 [00:00<?, ?it/s]\u001b[A\n",
      " 45%|█████████████████                     | 448/1000 [00:00<00:00, 4474.46it/s]\u001b[A\n",
      "100%|█████████████████████████████████████| 1000/1000 [00:00<00:00, 4235.10it/s]\u001b[A\n"
     ]
    },
    {
     "name": "stdout",
     "output_type": "stream",
     "text": [
      "Ura_urav1235.csv\n"
     ]
    },
    {
     "name": "stderr",
     "output_type": "stream",
     "text": [
      "\n",
      "  0%|                                                  | 0/1000 [00:00<?, ?it/s]\u001b[A\n",
      "100%|█████████████████████████████████████| 1000/1000 [00:00<00:00, 8508.48it/s]\u001b[A\n"
     ]
    },
    {
     "name": "stdout",
     "output_type": "stream",
     "text": [
      "Maragus_(Tape)_mara1399.csv\n"
     ]
    },
    {
     "name": "stderr",
     "output_type": "stream",
     "text": [
      "\n",
      "  0%|                                                  | 0/1000 [00:00<?, ?it/s]\u001b[A\n",
      "100%|█████████████████████████████████████| 1000/1000 [00:00<00:00, 8806.16it/s]\u001b[A\n"
     ]
    },
    {
     "name": "stdout",
     "output_type": "stream",
     "text": [
      "Weda_weda1240.csv\n"
     ]
    },
    {
     "name": "stderr",
     "output_type": "stream",
     "text": [
      "\n",
      "  0%|                                                  | 0/1000 [00:00<?, ?it/s]\u001b[A\n",
      " 36%|█████████████▌                        | 358/1000 [00:00<00:00, 3571.14it/s]\u001b[A\n",
      "100%|█████████████████████████████████████| 1000/1000 [00:00<00:00, 3713.30it/s]\u001b[A\n"
     ]
    },
    {
     "name": "stdout",
     "output_type": "stream",
     "text": [
      "Zabana_(Kia)_zaba1237.csv\n"
     ]
    },
    {
     "name": "stderr",
     "output_type": "stream",
     "text": [
      "\n",
      "  0%|                                                  | 0/1000 [00:00<?, ?it/s]\u001b[A\n",
      "100%|█████████████████████████████████████| 1000/1000 [00:00<00:00, 8111.61it/s]\u001b[A\n"
     ]
    },
    {
     "name": "stdout",
     "output_type": "stream",
     "text": [
      "Nalik_(Lukuramau)_nali1244.csv\n"
     ]
    },
    {
     "name": "stderr",
     "output_type": "stream",
     "text": [
      "\n",
      "  0%|                                                  | 0/1000 [00:00<?, ?it/s]\u001b[A\n",
      " 38%|██████████████▎                       | 377/1000 [00:00<00:00, 3765.07it/s]\u001b[A\n",
      "100%|█████████████████████████████████████| 1000/1000 [00:00<00:00, 3956.48it/s]\u001b[A\n"
     ]
    },
    {
     "name": "stdout",
     "output_type": "stream",
     "text": [
      "Barabet_(Hano)_hano1246a.csv\n"
     ]
    },
    {
     "name": "stderr",
     "output_type": "stream",
     "text": [
      "\n",
      "  0%|                                                  | 0/1000 [00:00<?, ?it/s]\u001b[A\n",
      " 28%|██████████▋                           | 280/1000 [00:00<00:00, 2786.01it/s]\u001b[A\n",
      " 56%|█████████████████████▏                | 559/1000 [00:00<00:00, 2564.21it/s]\u001b[A\n",
      "100%|█████████████████████████████████████| 1000/1000 [00:00<00:00, 2556.51it/s]\u001b[A\n"
     ]
    },
    {
     "name": "stdout",
     "output_type": "stream",
     "text": [
      "Bontok_bont1247.csv\n"
     ]
    },
    {
     "name": "stderr",
     "output_type": "stream",
     "text": [
      "\n",
      "  0%|                                                  | 0/1000 [00:00<?, ?it/s]\u001b[A\n",
      " 31%|███████████▊                          | 310/1000 [00:00<00:00, 3091.38it/s]\u001b[A\n",
      " 62%|███████████████████████▌              | 620/1000 [00:00<00:00, 2995.25it/s]\u001b[A\n",
      "100%|█████████████████████████████████████| 1000/1000 [00:00<00:00, 3002.47it/s]\u001b[A\n"
     ]
    },
    {
     "name": "stdout",
     "output_type": "stream",
     "text": [
      "Boano_(Sulawesi)_boan1243.csv\n"
     ]
    },
    {
     "name": "stderr",
     "output_type": "stream",
     "text": [
      "\n",
      "  0%|                                                  | 0/1000 [00:00<?, ?it/s]\u001b[A\n",
      " 32%|████████████▏                         | 320/1000 [00:00<00:00, 3192.31it/s]\u001b[A\n",
      "100%|█████████████████████████████████████| 1000/1000 [00:00<00:00, 3340.04it/s]\u001b[A\n"
     ]
    },
    {
     "name": "stdout",
     "output_type": "stream",
     "text": [
      "Madak_(Konnos)_mada1284.csv\n"
     ]
    },
    {
     "name": "stderr",
     "output_type": "stream",
     "text": [
      "\n",
      "  0%|                                                  | 0/1000 [00:00<?, ?it/s]\u001b[A\n",
      "100%|█████████████████████████████████████| 1000/1000 [00:00<00:00, 4956.77it/s]\u001b[A\n"
     ]
    },
    {
     "name": "stdout",
     "output_type": "stream",
     "text": [
      "Riuk_Bekati'_(Dayak)_beka1241.csv\n"
     ]
    },
    {
     "name": "stderr",
     "output_type": "stream",
     "text": [
      "\n",
      "  0%|                                                  | 0/1000 [00:00<?, ?it/s]\u001b[A\n",
      "100%|█████████████████████████████████████| 1000/1000 [00:00<00:00, 9571.56it/s]\u001b[A\n"
     ]
    },
    {
     "name": "stdout",
     "output_type": "stream",
     "text": [
      "'Are'are_area1240.csv\n"
     ]
    },
    {
     "name": "stderr",
     "output_type": "stream",
     "text": [
      "\n",
      "  0%|                                                  | 0/1000 [00:00<?, ?it/s]\u001b[A\n",
      " 35%|█████████████▍                        | 353/1000 [00:00<00:00, 3521.33it/s]\u001b[A\n",
      "100%|█████████████████████████████████████| 1000/1000 [00:00<00:00, 3450.61it/s]\u001b[A\n"
     ]
    },
    {
     "name": "stdout",
     "output_type": "stream",
     "text": [
      "Tokotu'a_(Kabaena)_kaba1285.csv\n"
     ]
    },
    {
     "name": "stderr",
     "output_type": "stream",
     "text": [
      "\n",
      "  0%|                                                  | 0/1000 [00:00<?, ?it/s]\u001b[A\n",
      "100%|█████████████████████████████████████| 1000/1000 [00:00<00:00, 8521.96it/s]\u001b[A\n"
     ]
    },
    {
     "name": "stdout",
     "output_type": "stream",
     "text": [
      "Sarangani_Blaan_sara1326.csv\n"
     ]
    },
    {
     "name": "stderr",
     "output_type": "stream",
     "text": [
      "\n",
      "  0%|                                                  | 0/1000 [00:00<?, ?it/s]\u001b[A\n",
      " 47%|█████████████████▉                    | 472/1000 [00:00<00:00, 4711.95it/s]\u001b[A\n",
      "100%|█████████████████████████████████████| 1000/1000 [00:00<00:00, 4908.49it/s]\u001b[A\n"
     ]
    },
    {
     "name": "stdout",
     "output_type": "stream",
     "text": [
      "Biak_biak1248.csv\n"
     ]
    },
    {
     "name": "stderr",
     "output_type": "stream",
     "text": [
      "\n",
      "  0%|                                                  | 0/1000 [00:00<?, ?it/s]\u001b[A\n",
      "100%|█████████████████████████████████████| 1000/1000 [00:00<00:00, 5490.61it/s]\u001b[A\n"
     ]
    },
    {
     "name": "stdout",
     "output_type": "stream",
     "text": [
      "Cotabato_Manobo_cota1241.csv\n"
     ]
    },
    {
     "name": "stderr",
     "output_type": "stream",
     "text": [
      "\n",
      "  0%|                                                  | 0/1000 [00:00<?, ?it/s]\u001b[A\n",
      "100%|█████████████████████████████████████| 1000/1000 [00:00<00:00, 5237.85it/s]\u001b[A\n"
     ]
    },
    {
     "name": "stdout",
     "output_type": "stream",
     "text": [
      "Seke_(Ske)_seke1241.csv\n"
     ]
    },
    {
     "name": "stderr",
     "output_type": "stream",
     "text": [
      "\n",
      "  0%|                                                  | 0/1000 [00:00<?, ?it/s]\u001b[A\n",
      " 30%|███████████▍                          | 301/1000 [00:00<00:00, 3005.76it/s]\u001b[A\n",
      " 60%|██████████████████████▉               | 602/1000 [00:00<00:00, 2907.15it/s]\u001b[A\n",
      "100%|█████████████████████████████████████| 1000/1000 [00:00<00:00, 2932.06it/s]\u001b[A\n"
     ]
    },
    {
     "name": "stdout",
     "output_type": "stream",
     "text": [
      "Vaekau-Taumako_pile1238.csv\n"
     ]
    },
    {
     "name": "stderr",
     "output_type": "stream",
     "text": [
      "\n",
      "  0%|                                                  | 0/1000 [00:00<?, ?it/s]\u001b[A\n",
      " 30%|███████████▏                          | 295/1000 [00:00<00:00, 2937.95it/s]\u001b[A\n",
      " 59%|██████████████████████▍               | 589/1000 [00:00<00:00, 2676.81it/s]\u001b[A\n",
      "100%|█████████████████████████████████████| 1000/1000 [00:00<00:00, 2749.42it/s]\u001b[A\n"
     ]
    },
    {
     "name": "stdout",
     "output_type": "stream",
     "text": [
      "Tonga_(Tonga_Islands)_tong1325.csv\n",
      "Tagalog_taga1270.csv\n"
     ]
    },
    {
     "name": "stderr",
     "output_type": "stream",
     "text": [
      "\n",
      "  0%|                                                  | 0/1000 [00:00<?, ?it/s]\u001b[A\n",
      " 32%|████████████▏                         | 321/1000 [00:00<00:00, 3205.32it/s]\u001b[A\n",
      " 64%|████████████████████████▍             | 642/1000 [00:00<00:00, 3119.40it/s]\u001b[A\n",
      "100%|█████████████████████████████████████| 1000/1000 [00:00<00:00, 3085.22it/s]\u001b[A\n"
     ]
    },
    {
     "name": "stdout",
     "output_type": "stream",
     "text": [
      "Merei_mere1242.csv\n",
      "Tukang_Besi_South_tuka1249.csv\n"
     ]
    },
    {
     "name": "stderr",
     "output_type": "stream",
     "text": [
      "\n",
      "  0%|                                                  | 0/1000 [00:00<?, ?it/s]\u001b[A\n",
      "100%|█████████████████████████████████████| 1000/1000 [00:00<00:00, 8558.72it/s]\u001b[A\n"
     ]
    },
    {
     "name": "stdout",
     "output_type": "stream",
     "text": [
      "Sungwaloge_(Tauta)_mari1426e.csv\n"
     ]
    },
    {
     "name": "stderr",
     "output_type": "stream",
     "text": [
      "\n",
      "  0%|                                                  | 0/1000 [00:00<?, ?it/s]\u001b[A\n",
      " 31%|███████████▋                          | 306/1000 [00:00<00:00, 3054.50it/s]\u001b[A\n",
      " 61%|███████████████████████▎              | 612/1000 [00:00<00:00, 2816.04it/s]\u001b[A\n",
      "100%|█████████████████████████████████████| 1000/1000 [00:00<00:00, 2862.50it/s]\u001b[A\n"
     ]
    },
    {
     "name": "stdout",
     "output_type": "stream",
     "text": [
      "Lametin_mere1242.csv\n",
      "Sie_(Sye)_siee1239.csv\n"
     ]
    },
    {
     "name": "stderr",
     "output_type": "stream",
     "text": [
      "\n",
      "  0%|                                                  | 0/1000 [00:00<?, ?it/s]\u001b[A\n",
      " 32%|████████████                          | 319/1000 [00:00<00:00, 3182.30it/s]\u001b[A\n",
      "100%|█████████████████████████████████████| 1000/1000 [00:00<00:00, 3634.27it/s]\u001b[A\n"
     ]
    },
    {
     "name": "stdout",
     "output_type": "stream",
     "text": [
      "Dampelas_damp1237.csv\n"
     ]
    },
    {
     "name": "stderr",
     "output_type": "stream",
     "text": [
      "\n",
      "  0%|                                                  | 0/1000 [00:00<?, ?it/s]\u001b[A\n",
      " 22%|████████▌                             | 224/1000 [00:00<00:00, 2233.48it/s]\u001b[A\n",
      " 46%|█████████████████▌                    | 461/1000 [00:00<00:00, 2308.25it/s]\u001b[A\n",
      " 73%|███████████████████████████▌          | 726/1000 [00:00<00:00, 2454.22it/s]\u001b[A\n",
      "100%|█████████████████████████████████████| 1000/1000 [00:00<00:00, 2409.01it/s]\u001b[A\n"
     ]
    },
    {
     "name": "stdout",
     "output_type": "stream",
     "text": [
      "Mono-Alu_mono1273.csv\n"
     ]
    },
    {
     "name": "stderr",
     "output_type": "stream",
     "text": [
      "\n",
      "  0%|                                                  | 0/1000 [00:00<?, ?it/s]\u001b[A\n",
      "100%|█████████████████████████████████████| 1000/1000 [00:00<00:00, 8754.57it/s]\u001b[A\n"
     ]
    },
    {
     "name": "stdout",
     "output_type": "stream",
     "text": [
      "Tubuai_tubu1240.csv\n"
     ]
    },
    {
     "name": "stderr",
     "output_type": "stream",
     "text": [
      "\n",
      "  0%|                                                  | 0/1000 [00:00<?, ?it/s]\u001b[A\n",
      " 48%|██████████████████▍                   | 484/1000 [00:00<00:00, 4837.54it/s]\u001b[A\n",
      "100%|█████████████████████████████████████| 1000/1000 [00:00<00:00, 4757.76it/s]\u001b[A\n"
     ]
    },
    {
     "name": "stdout",
     "output_type": "stream",
     "text": [
      "Ifaluk_Nuclear_Woleaian__nucl1479.csv\n"
     ]
    },
    {
     "name": "stderr",
     "output_type": "stream",
     "text": [
      "\n",
      "  0%|                                                  | 0/1000 [00:00<?, ?it/s]\u001b[A\n",
      " 35%|█████████████▍                        | 354/1000 [00:00<00:00, 3534.64it/s]\u001b[A\n",
      "100%|█████████████████████████████████████| 1000/1000 [00:00<00:00, 3396.81it/s]\u001b[A\n"
     ]
    },
    {
     "name": "stdout",
     "output_type": "stream",
     "text": [
      "Kapingamarangi_kapi1249.csv\n"
     ]
    },
    {
     "name": "stderr",
     "output_type": "stream",
     "text": [
      "\n",
      "  0%|                                                  | 0/1000 [00:00<?, ?it/s]\u001b[A\n",
      " 25%|█████████▌                            | 250/1000 [00:00<00:00, 2497.85it/s]\u001b[A\n",
      " 50%|███████████████████                   | 500/1000 [00:00<00:00, 2478.94it/s]\u001b[A\n",
      "100%|█████████████████████████████████████| 1000/1000 [00:00<00:00, 2575.18it/s]\u001b[A\n"
     ]
    },
    {
     "name": "stdout",
     "output_type": "stream",
     "text": [
      "Sikaiana_sika1261.csv\n"
     ]
    },
    {
     "name": "stderr",
     "output_type": "stream",
     "text": [
      "\n",
      "  0%|                                                  | 0/1000 [00:00<?, ?it/s]\u001b[A\n",
      " 27%|██████████▎                           | 273/1000 [00:00<00:00, 2691.48it/s]\u001b[A\n",
      " 54%|████████████████████▋                 | 543/1000 [00:00<00:00, 2650.10it/s]\u001b[A\n",
      "100%|█████████████████████████████████████| 1000/1000 [00:00<00:00, 2800.93it/s]\u001b[A\n"
     ]
    },
    {
     "name": "stdout",
     "output_type": "stream",
     "text": [
      "Ulawa_ulaw1237.csv\n"
     ]
    },
    {
     "name": "stderr",
     "output_type": "stream",
     "text": [
      "\n",
      "  0%|                                                  | 0/1000 [00:00<?, ?it/s]\u001b[A\n",
      " 37%|█████████████▉                        | 367/1000 [00:00<00:00, 3662.60it/s]\u001b[A\n",
      "100%|█████████████████████████████████████| 1000/1000 [00:00<00:00, 3578.68it/s]\u001b[A\n"
     ]
    },
    {
     "name": "stdout",
     "output_type": "stream",
     "text": [
      "Rennell_Islanders_renn1242.csv\n"
     ]
    },
    {
     "name": "stderr",
     "output_type": "stream",
     "text": [
      "\n",
      "  0%|                                                  | 0/1000 [00:00<?, ?it/s]\u001b[A\n",
      " 28%|██████████▊                           | 285/1000 [00:00<00:00, 2842.81it/s]\u001b[A\n",
      " 59%|██████████████████████▍               | 592/1000 [00:00<00:00, 2973.51it/s]\u001b[A\n",
      "100%|█████████████████████████████████████| 1000/1000 [00:00<00:00, 2916.64it/s]\u001b[A\n"
     ]
    },
    {
     "name": "stdout",
     "output_type": "stream",
     "text": [
      "Magam_maga1262.csv\n"
     ]
    },
    {
     "name": "stderr",
     "output_type": "stream",
     "text": [
      "\n",
      "  0%|                                                  | 0/1000 [00:00<?, ?it/s]\u001b[A\n",
      "100%|█████████████████████████████████████| 1000/1000 [00:00<00:00, 4961.92it/s]\u001b[A\n"
     ]
    },
    {
     "name": "stdout",
     "output_type": "stream",
     "text": [
      "Tirax_(Mae)_maee1241.csv\n"
     ]
    },
    {
     "name": "stderr",
     "output_type": "stream",
     "text": [
      "\n",
      "  0%|                                                  | 0/1000 [00:00<?, ?it/s]\u001b[A\n",
      "100%|█████████████████████████████████████| 1000/1000 [00:00<00:00, 7357.86it/s]\u001b[A\n"
     ]
    },
    {
     "name": "stdout",
     "output_type": "stream",
     "text": [
      "Luburua_(Kara)_lubu1242.csv\n"
     ]
    },
    {
     "name": "stderr",
     "output_type": "stream",
     "text": [
      "\n",
      "  0%|                                                  | 0/1000 [00:00<?, ?it/s]\u001b[A\n",
      "100%|█████████████████████████████████████| 1000/1000 [00:00<00:00, 5333.47it/s]\u001b[A\n"
     ]
    },
    {
     "name": "stdout",
     "output_type": "stream",
     "text": [
      "Atayal_atay1247.csv\n"
     ]
    },
    {
     "name": "stderr",
     "output_type": "stream",
     "text": [
      "\n",
      "  0%|                                                  | 0/1000 [00:00<?, ?it/s]\u001b[A\n",
      "100%|█████████████████████████████████████| 1000/1000 [00:00<00:00, 8781.01it/s]\u001b[A\n"
     ]
    },
    {
     "name": "stdout",
     "output_type": "stream",
     "text": [
      "Brooke's_Point_Palawano_broo1239.csv\n"
     ]
    },
    {
     "name": "stderr",
     "output_type": "stream",
     "text": [
      "\n",
      "  0%|                                                  | 0/1000 [00:00<?, ?it/s]\u001b[A\n",
      " 41%|███████████████▋                      | 414/1000 [00:00<00:00, 4131.05it/s]\u001b[A\n",
      "100%|█████████████████████████████████████| 1000/1000 [00:00<00:00, 4132.69it/s]\u001b[A\n"
     ]
    },
    {
     "name": "stdout",
     "output_type": "stream",
     "text": [
      "Tungag_tung1290.csv\n"
     ]
    },
    {
     "name": "stderr",
     "output_type": "stream",
     "text": [
      "\n",
      "  0%|                                                  | 0/1000 [00:00<?, ?it/s]\u001b[A\n",
      "100%|█████████████████████████████████████| 1000/1000 [00:00<00:00, 7220.84it/s]\u001b[A\n"
     ]
    },
    {
     "name": "stdout",
     "output_type": "stream",
     "text": [
      "Cebuano_cebu1242.csv\n"
     ]
    },
    {
     "name": "stderr",
     "output_type": "stream",
     "text": [
      "\n",
      "  0%|                                                  | 0/1000 [00:00<?, ?it/s]\u001b[A\n",
      " 30%|███████████▏                          | 295/1000 [00:00<00:00, 2944.91it/s]\u001b[A\n",
      " 59%|██████████████████████▍               | 590/1000 [00:00<00:00, 2881.36it/s]\u001b[A\n",
      "100%|█████████████████████████████████████| 1000/1000 [00:00<00:00, 2880.81it/s]\u001b[A\n"
     ]
    },
    {
     "name": "stdout",
     "output_type": "stream",
     "text": [
      "Alangan_alan1249.csv\n"
     ]
    },
    {
     "name": "stderr",
     "output_type": "stream",
     "text": [
      "\n",
      "  0%|                                                  | 0/1000 [00:00<?, ?it/s]\u001b[A\n",
      " 30%|███████████▏                          | 295/1000 [00:00<00:00, 2946.10it/s]\u001b[A\n",
      " 59%|██████████████████████▍               | 590/1000 [00:00<00:00, 2564.23it/s]\u001b[A\n",
      "100%|█████████████████████████████████████| 1000/1000 [00:00<00:00, 2642.45it/s]\u001b[A\n"
     ]
    },
    {
     "name": "stdout",
     "output_type": "stream",
     "text": [
      "Kwamera_kwam1252.csv\n"
     ]
    },
    {
     "name": "stderr",
     "output_type": "stream",
     "text": [
      "\n",
      "  0%|                                                  | 0/1000 [00:00<?, ?it/s]\u001b[A\n",
      " 35%|█████████████▍                        | 353/1000 [00:00<00:00, 3525.74it/s]\u001b[A\n",
      "100%|█████████████████████████████████████| 1000/1000 [00:00<00:00, 3361.02it/s]\u001b[A\n"
     ]
    },
    {
     "name": "stdout",
     "output_type": "stream",
     "text": [
      "Konawe_kona1243.csv\n"
     ]
    },
    {
     "name": "stderr",
     "output_type": "stream",
     "text": [
      "\n",
      "  0%|                                                  | 0/1000 [00:00<?, ?it/s]\u001b[A\n",
      "100%|█████████████████████████████████████| 1000/1000 [00:00<00:00, 8658.90it/s]\u001b[A\n"
     ]
    },
    {
     "name": "stdout",
     "output_type": "stream",
     "text": [
      "Port_Sandwich_port1285.csv\n"
     ]
    },
    {
     "name": "stderr",
     "output_type": "stream",
     "text": [
      "\n",
      "  0%|                                                  | 0/1000 [00:00<?, ?it/s]\u001b[A\n",
      " 40%|███████████████▏                      | 400/1000 [00:00<00:00, 3992.97it/s]\u001b[A\n",
      "100%|█████████████████████████████████████| 1000/1000 [00:00<00:00, 3641.37it/s]\u001b[A\n"
     ]
    },
    {
     "name": "stdout",
     "output_type": "stream",
     "text": [
      "Neve'ei_vinm1237.csv\n"
     ]
    },
    {
     "name": "stderr",
     "output_type": "stream",
     "text": [
      "\n",
      "  0%|                                                  | 0/1000 [00:00<?, ?it/s]\u001b[A\n",
      " 39%|██████████████▉                       | 394/1000 [00:00<00:00, 3939.09it/s]\u001b[A\n",
      "100%|█████████████████████████████████████| 1000/1000 [00:00<00:00, 3840.00it/s]\u001b[A\n"
     ]
    },
    {
     "name": "stdout",
     "output_type": "stream",
     "text": [
      "Ma'anyan_maan1238.csv\n"
     ]
    },
    {
     "name": "stderr",
     "output_type": "stream",
     "text": [
      "\n",
      "  0%|                                                  | 0/1000 [00:00<?, ?it/s]\u001b[A\n",
      " 27%|██████████                            | 266/1000 [00:00<00:00, 2651.78it/s]\u001b[A\n",
      " 53%|████████████████████▏                 | 532/1000 [00:00<00:00, 2254.63it/s]\u001b[A\n",
      "100%|█████████████████████████████████████| 1000/1000 [00:00<00:00, 2474.36it/s]\u001b[A\n"
     ]
    },
    {
     "name": "stdout",
     "output_type": "stream",
     "text": [
      "Vera'a_vera1241.csv\n"
     ]
    },
    {
     "name": "stderr",
     "output_type": "stream",
     "text": [
      "\n",
      "  0%|                                                  | 0/1000 [00:00<?, ?it/s]\u001b[A\n",
      " 50%|██████████████████▉                   | 498/1000 [00:00<00:00, 4976.07it/s]\u001b[A\n",
      "100%|█████████████████████████████████████| 1000/1000 [00:00<00:00, 4918.33it/s]\u001b[A\n"
     ]
    },
    {
     "name": "stdout",
     "output_type": "stream",
     "text": [
      "Bierebo_bier1244.csv\n"
     ]
    },
    {
     "name": "stderr",
     "output_type": "stream",
     "text": [
      "\n",
      "  0%|                                                  | 0/1000 [00:00<?, ?it/s]\u001b[A\n",
      "100%|█████████████████████████████████████| 1000/1000 [00:00<00:00, 8740.10it/s]\u001b[A\n"
     ]
    },
    {
     "name": "stdout",
     "output_type": "stream",
     "text": [
      "Mekeo_(East)_meke1243d.csv\n",
      "Central_Subanen_(Subanung)_cent2089.csv\n"
     ]
    },
    {
     "name": "stderr",
     "output_type": "stream",
     "text": [
      "\n",
      "  0%|                                                  | 0/1000 [00:00<?, ?it/s]\u001b[A\n",
      "100%|█████████████████████████████████████| 1000/1000 [00:00<00:00, 8687.80it/s]\u001b[A\n"
     ]
    },
    {
     "name": "stdout",
     "output_type": "stream",
     "text": [
      "Mori_Atas_mori1269.csv\n"
     ]
    },
    {
     "name": "stderr",
     "output_type": "stream",
     "text": [
      "\n",
      "  0%|                                                  | 0/1000 [00:00<?, ?it/s]\u001b[A\n",
      "100%|█████████████████████████████████████| 1000/1000 [00:00<00:00, 8688.86it/s]\u001b[A\n"
     ]
    },
    {
     "name": "stdout",
     "output_type": "stream",
     "text": [
      "Kankanay_nort2877.csv\n"
     ]
    },
    {
     "name": "stderr",
     "output_type": "stream",
     "text": [
      "\n",
      "  0%|                                                  | 0/1000 [00:00<?, ?it/s]\u001b[A\n",
      "100%|█████████████████████████████████████| 1000/1000 [00:00<00:00, 5825.10it/s]\u001b[A\n"
     ]
    },
    {
     "name": "stdout",
     "output_type": "stream",
     "text": [
      "Mangarevans_mang1401.csv\n"
     ]
    },
    {
     "name": "stderr",
     "output_type": "stream",
     "text": [
      "\n",
      "  0%|                                                  | 0/1000 [00:00<?, ?it/s]\u001b[A\n",
      " 32%|████████████                          | 319/1000 [00:00<00:00, 3187.35it/s]\u001b[A\n",
      " 64%|████████████████████████▏             | 638/1000 [00:00<00:00, 3137.35it/s]\u001b[A\n",
      "100%|█████████████████████████████████████| 1000/1000 [00:00<00:00, 3172.19it/s]\u001b[A\n"
     ]
    },
    {
     "name": "stdout",
     "output_type": "stream",
     "text": [
      "Manggarai_mang1405.csv\n"
     ]
    },
    {
     "name": "stderr",
     "output_type": "stream",
     "text": [
      "\n",
      "  0%|                                                  | 0/1000 [00:00<?, ?it/s]\u001b[A\n",
      " 44%|████████████████▋                     | 440/1000 [00:00<00:00, 4389.12it/s]\u001b[A\n",
      "100%|█████████████████████████████████████| 1000/1000 [00:00<00:00, 4631.06it/s]\u001b[A\n"
     ]
    },
    {
     "name": "stdout",
     "output_type": "stream",
     "text": [
      "Tanampedagi_Taje_taje1237b.csv\n"
     ]
    },
    {
     "name": "stderr",
     "output_type": "stream",
     "text": [
      "\n",
      "  0%|                                                  | 0/1000 [00:00<?, ?it/s]\u001b[A\n",
      " 30%|███████████▍                          | 301/1000 [00:00<00:00, 3003.06it/s]\u001b[A\n",
      " 60%|██████████████████████▉               | 602/1000 [00:00<00:00, 3003.43it/s]\u001b[A\n",
      "100%|█████████████████████████████████████| 1000/1000 [00:00<00:00, 2945.87it/s]\u001b[A\n"
     ]
    },
    {
     "name": "stdout",
     "output_type": "stream",
     "text": [
      "Mungiki_(Bellona)_mung1270.csv\n"
     ]
    },
    {
     "name": "stderr",
     "output_type": "stream",
     "text": [
      "\n",
      "100%|████████████████████████████████████| 1000/1000 [00:00<00:00, 11897.22it/s]\u001b[A\n"
     ]
    },
    {
     "name": "stdout",
     "output_type": "stream",
     "text": [
      "Marshallese_mars1254.csv\n"
     ]
    },
    {
     "name": "stderr",
     "output_type": "stream",
     "text": [
      "\n",
      "  0%|                                                  | 0/1000 [00:00<?, ?it/s]\u001b[A\n",
      "100%|█████████████████████████████████████| 1000/1000 [00:00<00:00, 5842.89it/s]\u001b[A\n"
     ]
    },
    {
     "name": "stdout",
     "output_type": "stream",
     "text": [
      "Totoli_toto1304.csv\n"
     ]
    },
    {
     "name": "stderr",
     "output_type": "stream",
     "text": [
      "\n",
      "  0%|                                                  | 0/1000 [00:00<?, ?it/s]\u001b[A\n",
      " 30%|███████████▍                          | 300/1000 [00:00<00:00, 2997.99it/s]\u001b[A\n",
      " 62%|███████████████████████▍              | 617/1000 [00:00<00:00, 3094.49it/s]\u001b[A\n",
      "100%|█████████████████████████████████████| 1000/1000 [00:00<00:00, 3019.39it/s]\u001b[A\n"
     ]
    },
    {
     "name": "stdout",
     "output_type": "stream",
     "text": [
      "Ellice_tuva1244.csv\n",
      "Lo-Toga_(Loh)_loto1240.csv\n"
     ]
    },
    {
     "name": "stderr",
     "output_type": "stream",
     "text": [
      "\n",
      "  0%|                                                  | 0/1000 [00:00<?, ?it/s]\u001b[A\n",
      " 32%|███████████▉                          | 315/1000 [00:00<00:00, 3145.60it/s]\u001b[A\n",
      " 63%|███████████████████████▉              | 630/1000 [00:00<00:00, 3139.38it/s]\u001b[A\n",
      "100%|█████████████████████████████████████| 1000/1000 [00:00<00:00, 3165.66it/s]\u001b[A\n"
     ]
    },
    {
     "name": "stdout",
     "output_type": "stream",
     "text": [
      "Tahitians_tahi1242.csv\n"
     ]
    },
    {
     "name": "stderr",
     "output_type": "stream",
     "text": [
      "\n",
      "  0%|                                                  | 0/1000 [00:00<?, ?it/s]\u001b[A\n",
      " 27%|██████████▏                           | 267/1000 [00:00<00:00, 2662.51it/s]\u001b[A\n",
      " 53%|████████████████████▎                 | 534/1000 [00:00<00:00, 2396.13it/s]\u001b[A\n",
      "100%|█████████████████████████████████████| 1000/1000 [00:00<00:00, 2673.50it/s]\u001b[A\n"
     ]
    },
    {
     "name": "stdout",
     "output_type": "stream",
     "text": [
      "Pangasinan_pang1290.csv\n"
     ]
    },
    {
     "name": "stderr",
     "output_type": "stream",
     "text": [
      "\n",
      "  0%|                                                  | 0/1000 [00:00<?, ?it/s]\u001b[A\n",
      " 36%|█████████████▌                        | 357/1000 [00:00<00:00, 3552.56it/s]\u001b[A\n",
      "100%|█████████████████████████████████████| 1000/1000 [00:00<00:00, 3494.42it/s]\u001b[A\n"
     ]
    },
    {
     "name": "stdout",
     "output_type": "stream",
     "text": [
      "Unua_unua1237.csv\n",
      "Sawai_sawa1247.csv\n"
     ]
    },
    {
     "name": "stderr",
     "output_type": "stream",
     "text": [
      "\n",
      "  0%|                                                  | 0/1000 [00:00<?, ?it/s]\u001b[A\n",
      " 38%|██████████████▎                       | 377/1000 [00:00<00:00, 3763.61it/s]\u001b[A\n",
      "100%|█████████████████████████████████████| 1000/1000 [00:00<00:00, 3639.75it/s]\u001b[A\n"
     ]
    },
    {
     "name": "stdout",
     "output_type": "stream",
     "text": [
      "Binukid_(Talaandig-Binukid)_binu1244.csv\n"
     ]
    },
    {
     "name": "stderr",
     "output_type": "stream",
     "text": [
      "\n",
      "  0%|                                                  | 0/1000 [00:00<?, ?it/s]\u001b[A\n",
      " 25%|█████████▌                            | 250/1000 [00:00<00:00, 2499.78it/s]\u001b[A\n",
      " 50%|███████████████████                   | 500/1000 [00:00<00:00, 2439.28it/s]\u001b[A\n",
      " 74%|████████████████████████████▎         | 745/1000 [00:00<00:00, 2113.67it/s]\u001b[A\n",
      "100%|█████████████████████████████████████| 1000/1000 [00:00<00:00, 2054.43it/s]\u001b[A\n"
     ]
    },
    {
     "name": "stdout",
     "output_type": "stream",
     "text": [
      "Fordata_ford1242.csv\n"
     ]
    },
    {
     "name": "stderr",
     "output_type": "stream",
     "text": [
      "\n",
      "  0%|                                                  | 0/1000 [00:00<?, ?it/s]\u001b[A\n",
      " 21%|████████▏                             | 214/1000 [00:00<00:00, 2130.14it/s]\u001b[A\n",
      " 43%|████████████████▎                     | 428/1000 [00:00<00:00, 1933.13it/s]\u001b[A\n",
      " 62%|███████████████████████▋              | 623/1000 [00:00<00:00, 1919.15it/s]\u001b[A\n",
      "100%|█████████████████████████████████████| 1000/1000 [00:00<00:00, 1983.47it/s]\u001b[A\n"
     ]
    },
    {
     "name": "stdout",
     "output_type": "stream",
     "text": [
      "Brunei-Sabah_Malay_(Malay)_saba1263.csv\n"
     ]
    },
    {
     "name": "stderr",
     "output_type": "stream",
     "text": [
      "\n",
      "  0%|                                                  | 0/1000 [00:00<?, ?it/s]\u001b[A\n",
      " 26%|█████████▉                            | 263/1000 [00:00<00:00, 2622.52it/s]\u001b[A\n",
      " 55%|████████████████████▋                 | 545/1000 [00:00<00:00, 2738.02it/s]\u001b[A\n",
      "100%|█████████████████████████████████████| 1000/1000 [00:00<00:00, 2666.94it/s]\u001b[A\n"
     ]
    },
    {
     "name": "stdout",
     "output_type": "stream",
     "text": [
      "Samoan_samo1305.csv\n"
     ]
    },
    {
     "name": "stderr",
     "output_type": "stream",
     "text": [
      "\n",
      "  0%|                                                  | 0/1000 [00:00<?, ?it/s]\u001b[A\n",
      " 27%|██████████▎                           | 270/1000 [00:00<00:00, 2697.83it/s]\u001b[A\n",
      " 55%|████████████████████▋                 | 546/1000 [00:00<00:00, 2732.61it/s]\u001b[A\n",
      "100%|█████████████████████████████████████| 1000/1000 [00:00<00:00, 2718.68it/s]\u001b[A\n"
     ]
    },
    {
     "name": "stdout",
     "output_type": "stream",
     "text": [
      "Uma_Juman_(Kayan)_umaj1240.csv\n"
     ]
    },
    {
     "name": "stderr",
     "output_type": "stream",
     "text": [
      "\n",
      "  0%|                                                  | 0/1000 [00:00<?, ?it/s]\u001b[A\n",
      " 23%|████████▋                             | 229/1000 [00:00<00:00, 2284.15it/s]\u001b[A\n",
      " 53%|████████████████████                  | 528/1000 [00:00<00:00, 2697.37it/s]\u001b[A\n",
      "100%|█████████████████████████████████████| 1000/1000 [00:00<00:00, 2888.27it/s]\u001b[A\n"
     ]
    },
    {
     "name": "stdout",
     "output_type": "stream",
     "text": [
      "North_Marquesan_nort2845.csv\n"
     ]
    },
    {
     "name": "stderr",
     "output_type": "stream",
     "text": [
      "\n",
      "  0%|                                                  | 0/1000 [00:00<?, ?it/s]\u001b[A\n",
      " 35%|█████████████▎                        | 351/1000 [00:00<00:00, 3504.65it/s]\u001b[A\n",
      "100%|█████████████████████████████████████| 1000/1000 [00:00<00:00, 3348.34it/s]\u001b[A\n"
     ]
    },
    {
     "name": "stdout",
     "output_type": "stream",
     "text": [
      "Indonesian_indo1316.csv\n"
     ]
    },
    {
     "name": "stderr",
     "output_type": "stream",
     "text": [
      "\n",
      "  0%|                                                  | 0/1000 [00:00<?, ?it/s]\u001b[A\n",
      " 32%|████████████                          | 316/1000 [00:00<00:00, 3148.19it/s]\u001b[A\n",
      " 63%|███████████████████████▉              | 631/1000 [00:00<00:00, 3091.78it/s]\u001b[A\n",
      "100%|█████████████████████████████████████| 1000/1000 [00:00<00:00, 3082.78it/s]\u001b[A\n"
     ]
    },
    {
     "name": "stdout",
     "output_type": "stream",
     "text": [
      "Rapanui_(Easter_Island)_rapa1244.csv\n",
      "Pendau_pend1242.csv\n"
     ]
    },
    {
     "name": "stderr",
     "output_type": "stream",
     "text": [
      "\n",
      "  0%|                                                  | 0/1000 [00:00<?, ?it/s]\u001b[A\n",
      " 31%|███████████▋                          | 306/1000 [00:00<00:00, 3055.76it/s]\u001b[A\n",
      " 61%|███████████████████████▎              | 612/1000 [00:00<00:00, 3008.22it/s]\u001b[A\n",
      "100%|█████████████████████████████████████| 1000/1000 [00:00<00:00, 2946.49it/s]\u001b[A\n"
     ]
    },
    {
     "name": "stdout",
     "output_type": "stream",
     "text": [
      "Numbami_numb1247.csv\n"
     ]
    },
    {
     "name": "stderr",
     "output_type": "stream",
     "text": [
      "\n",
      "  0%|                                                  | 0/1000 [00:00<?, ?it/s]\u001b[A\n",
      " 32%|████████████▏                         | 321/1000 [00:00<00:00, 3208.11it/s]\u001b[A\n",
      " 64%|████████████████████████▍             | 642/1000 [00:00<00:00, 2261.72it/s]\u001b[A\n",
      "100%|█████████████████████████████████████| 1000/1000 [00:00<00:00, 2652.37it/s]\u001b[A\n"
     ]
    },
    {
     "name": "stdout",
     "output_type": "stream",
     "text": [
      "Bau-Jagoi_Bidayuh_baub1235.csv\n",
      "Olal_olal1237.csv\n"
     ]
    },
    {
     "name": "stderr",
     "output_type": "stream",
     "text": [
      "\n",
      "  0%|                                                  | 0/1000 [00:00<?, ?it/s]\u001b[A\n",
      " 44%|████████████████▊                     | 443/1000 [00:00<00:00, 4428.71it/s]\u001b[A\n",
      "100%|█████████████████████████████████████| 1000/1000 [00:00<00:00, 4274.07it/s]\u001b[A\n"
     ]
    },
    {
     "name": "stdout",
     "output_type": "stream",
     "text": [
      "Rotuman_rotu1241.csv\n",
      "Padoe_pado1242.csv\n"
     ]
    },
    {
     "name": "stderr",
     "output_type": "stream",
     "text": [
      "\n",
      "  0%|                                                  | 0/1000 [00:00<?, ?it/s]\u001b[A\n",
      "100%|█████████████████████████████████████| 1000/1000 [00:00<00:00, 9228.92it/s]\u001b[A\n"
     ]
    },
    {
     "name": "stdout",
     "output_type": "stream",
     "text": [
      "Arosi_aros1241.csv\n"
     ]
    },
    {
     "name": "stderr",
     "output_type": "stream",
     "text": [
      "\n",
      "  0%|                                                  | 0/1000 [00:00<?, ?it/s]\u001b[A\n",
      "100%|█████████████████████████████████████| 1000/1000 [00:00<00:00, 7773.62it/s]\u001b[A\n"
     ]
    },
    {
     "name": "stdout",
     "output_type": "stream",
     "text": [
      "Varisi_vari1239.csv\n"
     ]
    },
    {
     "name": "stderr",
     "output_type": "stream",
     "text": [
      "\n",
      "  0%|                                                  | 0/1000 [00:00<?, ?it/s]\u001b[A\n",
      "100%|█████████████████████████████████████| 1000/1000 [00:00<00:00, 5165.36it/s]\u001b[A\n"
     ]
    },
    {
     "name": "stdout",
     "output_type": "stream",
     "text": [
      "Menui_menu1237.csv\n"
     ]
    },
    {
     "name": "stderr",
     "output_type": "stream",
     "text": [
      "\n",
      "  0%|                                                  | 0/1000 [00:00<?, ?it/s]\u001b[A\n",
      "100%|█████████████████████████████████████| 1000/1000 [00:00<00:00, 7544.38it/s]\u001b[A\n"
     ]
    },
    {
     "name": "stdout",
     "output_type": "stream",
     "text": [
      "Mouk_mouk1240.csv\n"
     ]
    },
    {
     "name": "stderr",
     "output_type": "stream",
     "text": [
      "\n",
      "  0%|                                                  | 0/1000 [00:00<?, ?it/s]\u001b[A\n",
      " 36%|█████████████▌                        | 358/1000 [00:00<00:00, 3579.88it/s]\u001b[A\n",
      "100%|█████████████████████████████████████| 1000/1000 [00:00<00:00, 3561.48it/s]\u001b[A\n"
     ]
    },
    {
     "name": "stdout",
     "output_type": "stream",
     "text": [
      "Tonsea_tons1240.csv\n"
     ]
    },
    {
     "name": "stderr",
     "output_type": "stream",
     "text": [
      "\n",
      "  0%|                                                  | 0/1000 [00:00<?, ?it/s]\u001b[A\n",
      " 31%|███████████▉                          | 313/1000 [00:00<00:00, 3121.11it/s]\u001b[A\n",
      " 63%|███████████████████████▉              | 631/1000 [00:00<00:00, 3154.54it/s]\u001b[A\n",
      "100%|█████████████████████████████████████| 1000/1000 [00:00<00:00, 3086.73it/s]\u001b[A\n"
     ]
    },
    {
     "name": "stdout",
     "output_type": "stream",
     "text": [
      "Casiguran_Dumagat_Agta_casi1235.csv\n"
     ]
    },
    {
     "name": "stderr",
     "output_type": "stream",
     "text": [
      "\n",
      "  0%|                                                  | 0/1000 [00:00<?, ?it/s]\u001b[A\n",
      " 29%|███████████                           | 291/1000 [00:00<00:00, 2903.68it/s]\u001b[A\n",
      " 58%|██████████████████████                | 582/1000 [00:00<00:00, 2860.57it/s]\u001b[A\n",
      "100%|█████████████████████████████████████| 1000/1000 [00:00<00:00, 2879.98it/s]\u001b[A\n"
     ]
    },
    {
     "name": "stdout",
     "output_type": "stream",
     "text": [
      "Mekeo_(North)_meke1243c.csv\n",
      "Loniu_loni1238.csv\n"
     ]
    },
    {
     "name": "stderr",
     "output_type": "stream",
     "text": [
      "\n",
      "  0%|                                                  | 0/1000 [00:00<?, ?it/s]\u001b[A\n",
      "100%|█████████████████████████████████████| 1000/1000 [00:00<00:00, 6192.57it/s]\u001b[A\n"
     ]
    },
    {
     "name": "stdout",
     "output_type": "stream",
     "text": [
      "Tahitian_tahi1242.csv\n",
      "Tiale_tial1239.csv\n",
      "Tetum_(Tetun)_tetu1245.csv\n"
     ]
    },
    {
     "name": "stderr",
     "output_type": "stream",
     "text": [
      "\n",
      "  0%|                                                  | 0/1000 [00:00<?, ?it/s]\u001b[A\n",
      "100%|█████████████████████████████████████| 1000/1000 [00:00<00:00, 5425.23it/s]\u001b[A\n"
     ]
    },
    {
     "name": "stdout",
     "output_type": "stream",
     "text": [
      "Mangareva_mang1401.csv\n",
      "Avava_(Bangasa_Dialect)_katb1237.csv\n"
     ]
    },
    {
     "name": "stderr",
     "output_type": "stream",
     "text": [
      "\n",
      "  0%|                                                  | 0/1000 [00:00<?, ?it/s]\u001b[A\n",
      " 47%|█████████████████▊                    | 469/1000 [00:00<00:00, 4684.06it/s]\u001b[A\n",
      "100%|█████████████████████████████████████| 1000/1000 [00:00<00:00, 4593.46it/s]\u001b[A\n"
     ]
    },
    {
     "name": "stdout",
     "output_type": "stream",
     "text": [
      "Petapa_Taje_taje1237a.csv\n"
     ]
    },
    {
     "name": "stderr",
     "output_type": "stream",
     "text": [
      "\n",
      "  0%|                                                  | 0/1000 [00:00<?, ?it/s]\u001b[A\n",
      "100%|█████████████████████████████████████| 1000/1000 [00:00<00:00, 6450.95it/s]\u001b[A\n"
     ]
    },
    {
     "name": "stdout",
     "output_type": "stream",
     "text": [
      "Talise_(Tolo)_tali1259.csv\n"
     ]
    },
    {
     "name": "stderr",
     "output_type": "stream",
     "text": [
      "\n",
      "  0%|                                                  | 0/1000 [00:00<?, ?it/s]\u001b[A\n",
      " 30%|███████████▌                          | 303/1000 [00:00<00:00, 3025.55it/s]\u001b[A\n",
      " 61%|███████████████████████▎              | 612/1000 [00:00<00:00, 3060.59it/s]\u001b[A\n",
      "100%|█████████████████████████████████████| 1000/1000 [00:00<00:00, 2904.19it/s]\u001b[A\n"
     ]
    },
    {
     "name": "stdout",
     "output_type": "stream",
     "text": [
      "Indonesian_Bajau_indo1317.csv\n"
     ]
    },
    {
     "name": "stderr",
     "output_type": "stream",
     "text": [
      "\n",
      "  0%|                                                  | 0/1000 [00:00<?, ?it/s]\u001b[A\n",
      " 30%|███████████▏                          | 296/1000 [00:00<00:00, 2955.70it/s]\u001b[A\n",
      " 59%|██████████████████████▍               | 592/1000 [00:00<00:00, 2878.24it/s]\u001b[A\n",
      "100%|█████████████████████████████████████| 1000/1000 [00:00<00:00, 2889.15it/s]\u001b[A\n"
     ]
    },
    {
     "name": "stdout",
     "output_type": "stream",
     "text": [
      "Xaracuu_(Canala)_xara1244.csv\n"
     ]
    },
    {
     "name": "stderr",
     "output_type": "stream",
     "text": [
      "\n",
      "  0%|                                                  | 0/1000 [00:00<?, ?it/s]\u001b[A\n",
      "100%|█████████████████████████████████████| 1000/1000 [00:00<00:00, 8199.27it/s]\u001b[A\n"
     ]
    },
    {
     "name": "stdout",
     "output_type": "stream",
     "text": [
      "Sungwaloge_(Navenvene)_mari1426d.csv\n"
     ]
    },
    {
     "name": "stderr",
     "output_type": "stream",
     "text": [
      "\n",
      "  0%|                                                  | 0/1000 [00:00<?, ?it/s]\u001b[A\n",
      " 42%|████████████████▏                     | 425/1000 [00:00<00:00, 4246.81it/s]\u001b[A\n",
      "100%|█████████████████████████████████████| 1000/1000 [00:00<00:00, 4160.84it/s]\u001b[A\n"
     ]
    },
    {
     "name": "stdout",
     "output_type": "stream",
     "text": [
      "Tetun_Dili_(Tetum)_tetu1246.csv\n"
     ]
    },
    {
     "name": "stderr",
     "output_type": "stream",
     "text": [
      "\n",
      "  0%|                                                  | 0/1000 [00:00<?, ?it/s]\u001b[A\n",
      "100%|█████████████████████████████████████| 1000/1000 [00:00<00:00, 4965.39it/s]\u001b[A\n"
     ]
    },
    {
     "name": "stdout",
     "output_type": "stream",
     "text": [
      "Hawaii_hawa1245.csv\n",
      "Marquesas_marq1246.csv\n"
     ]
    },
    {
     "name": "stderr",
     "output_type": "stream",
     "text": [
      "\n",
      "  0%|                                                  | 0/1000 [00:00<?, ?it/s]\u001b[A\n",
      " 44%|████████████████▋                     | 439/1000 [00:00<00:00, 4389.13it/s]\u001b[A\n",
      "100%|█████████████████████████████████████| 1000/1000 [00:00<00:00, 4515.12it/s]\u001b[A\n"
     ]
    },
    {
     "name": "stdout",
     "output_type": "stream",
     "text": [
      "Letemboi-Repanbitip_lete1241.csv\n"
     ]
    },
    {
     "name": "stderr",
     "output_type": "stream",
     "text": [
      "\n",
      "  0%|                                                  | 0/1000 [00:00<?, ?it/s]\u001b[A\n",
      "100%|█████████████████████████████████████| 1000/1000 [00:00<00:00, 5287.25it/s]\u001b[A\n"
     ]
    },
    {
     "name": "stdout",
     "output_type": "stream",
     "text": [
      "Kei_keii1239.csv\n"
     ]
    },
    {
     "name": "stderr",
     "output_type": "stream",
     "text": [
      "\n",
      "  0%|                                                  | 0/1000 [00:00<?, ?it/s]\u001b[A\n",
      " 25%|█████████▍                            | 249/1000 [00:00<00:00, 2485.40it/s]\u001b[A\n",
      " 50%|██████████████████▉                   | 498/1000 [00:00<00:00, 2341.45it/s]\u001b[A\n",
      " 74%|████████████████████████████          | 740/1000 [00:00<00:00, 2372.95it/s]\u001b[A\n",
      "100%|█████████████████████████████████████| 1000/1000 [00:00<00:00, 2396.34it/s]\u001b[A\n"
     ]
    },
    {
     "name": "stdout",
     "output_type": "stream",
     "text": [
      "Southeast_Babar_sout2883.csv\n"
     ]
    },
    {
     "name": "stderr",
     "output_type": "stream",
     "text": [
      "\n",
      "  0%|                                                  | 0/1000 [00:00<?, ?it/s]\u001b[A\n",
      "100%|█████████████████████████████████████| 1000/1000 [00:00<00:00, 9291.79it/s]\u001b[A\n"
     ]
    },
    {
     "name": "stdout",
     "output_type": "stream",
     "text": [
      "Butmas-Tur_butm1237.csv\n"
     ]
    },
    {
     "name": "stderr",
     "output_type": "stream",
     "text": [
      "\n",
      "  0%|                                                  | 0/1000 [00:00<?, ?it/s]\u001b[A\n",
      "100%|█████████████████████████████████████| 1000/1000 [00:00<00:00, 5476.82it/s]\u001b[A\n"
     ]
    },
    {
     "name": "stdout",
     "output_type": "stream",
     "text": [
      "Neverver_ling1265.csv\n"
     ]
    },
    {
     "name": "stderr",
     "output_type": "stream",
     "text": [
      "\n",
      "  0%|                                                  | 0/1000 [00:00<?, ?it/s]\u001b[A\n",
      " 30%|███████████▌                          | 303/1000 [00:00<00:00, 3028.97it/s]\u001b[A\n",
      " 61%|███████████████████████               | 606/1000 [00:00<00:00, 2972.98it/s]\u001b[A\n",
      "100%|█████████████████████████████████████| 1000/1000 [00:00<00:00, 2958.12it/s]\u001b[A\n"
     ]
    },
    {
     "name": "stdout",
     "output_type": "stream",
     "text": [
      "West_Futuna_west2515.csv\n"
     ]
    },
    {
     "name": "stderr",
     "output_type": "stream",
     "text": [
      "\n",
      "  0%|                                                  | 0/1000 [00:00<?, ?it/s]\u001b[A\n",
      " 27%|██████████▏                           | 267/1000 [00:00<00:00, 2606.58it/s]\u001b[A\n",
      " 57%|█████████████████████▊                | 574/1000 [00:00<00:00, 2875.27it/s]\u001b[A\n",
      "100%|█████████████████████████████████████| 1000/1000 [00:00<00:00, 2905.09it/s]\u001b[A\n"
     ]
    },
    {
     "name": "stdout",
     "output_type": "stream",
     "text": [
      "North_Ambrym_nort2839.csv\n"
     ]
    },
    {
     "name": "stderr",
     "output_type": "stream",
     "text": [
      "\n",
      "  0%|                                                  | 0/1000 [00:00<?, ?it/s]\u001b[A\n",
      "100%|█████████████████████████████████████| 1000/1000 [00:00<00:00, 5878.82it/s]\u001b[A\n"
     ]
    },
    {
     "name": "stdout",
     "output_type": "stream",
     "text": [
      "Lau_lauu1247.csv\n"
     ]
    },
    {
     "name": "stderr",
     "output_type": "stream",
     "text": [
      "\n",
      "  0%|                                                  | 0/1000 [00:00<?, ?it/s]\u001b[A\n",
      "100%|█████████████████████████████████████| 1000/1000 [00:00<00:00, 5750.90it/s]\u001b[A\n"
     ]
    },
    {
     "name": "stdout",
     "output_type": "stream",
     "text": [
      "Takia_taki1248.csv\n"
     ]
    },
    {
     "name": "stderr",
     "output_type": "stream",
     "text": [
      "\n",
      "  0%|                                                  | 0/1000 [00:00<?, ?it/s]\u001b[A\n",
      " 32%|███████████▉                          | 315/1000 [00:00<00:00, 3143.59it/s]\u001b[A\n",
      " 63%|███████████████████████▉              | 630/1000 [00:00<00:00, 3055.34it/s]\u001b[A\n",
      "100%|█████████████████████████████████████| 1000/1000 [00:00<00:00, 3025.67it/s]\u001b[A\n"
     ]
    },
    {
     "name": "stdout",
     "output_type": "stream",
     "text": [
      "Laiwui_laiw1239.csv\n"
     ]
    },
    {
     "name": "stderr",
     "output_type": "stream",
     "text": [
      "\n",
      "  0%|                                                  | 0/1000 [00:00<?, ?it/s]\u001b[A\n",
      "100%|█████████████████████████████████████| 1000/1000 [00:00<00:00, 8075.92it/s]\u001b[A\n"
     ]
    },
    {
     "name": "stdout",
     "output_type": "stream",
     "text": [
      "Morgan1871_Kings_Mill_Islands_gilb1244.csv\n"
     ]
    },
    {
     "name": "stderr",
     "output_type": "stream",
     "text": [
      "\n",
      "  0%|                                                  | 0/1000 [00:00<?, ?it/s]\u001b[A\n",
      "100%|█████████████████████████████████████| 1000/1000 [00:00<00:00, 5713.66it/s]\u001b[A\n"
     ]
    },
    {
     "name": "stdout",
     "output_type": "stream",
     "text": [
      "Morgan1871_Hawaiian_hawa1245.csv\n",
      "Morgan1871_Kusaien_kosr1238.csv\n"
     ]
    },
    {
     "name": "stderr",
     "output_type": "stream",
     "text": [
      "\n",
      "  0%|                                                  | 0/1000 [00:00<?, ?it/s]\u001b[A\n",
      " 37%|█████████████▉                        | 366/1000 [00:00<00:00, 3658.02it/s]\u001b[A\n",
      "100%|█████████████████████████████████████| 1000/1000 [00:00<00:00, 4415.60it/s]\u001b[A\n",
      " 29%|████████████▌                               | 6/21 [02:37<10:57, 43.86s/it]"
     ]
    },
    {
     "name": "stdout",
     "output_type": "stream",
     "text": [
      "Morgan1871_Maori_maor1246.csv\n",
      "Macushi_macu1259.csv\n"
     ]
    },
    {
     "name": "stderr",
     "output_type": "stream",
     "text": [
      "\n",
      "  0%|                                                  | 0/1000 [00:00<?, ?it/s]\u001b[A\n",
      " 29%|███████████                           | 290/1000 [00:00<00:00, 2898.23it/s]\u001b[A\n",
      " 58%|██████████████████████                | 580/1000 [00:00<00:00, 2547.92it/s]\u001b[A\n",
      "100%|█████████████████████████████████████| 1000/1000 [00:00<00:00, 2672.87it/s]\u001b[A\n"
     ]
    },
    {
     "name": "stdout",
     "output_type": "stream",
     "text": [
      "Galibi_Carib_gali1262.csv\n"
     ]
    },
    {
     "name": "stderr",
     "output_type": "stream",
     "text": [
      "\n",
      "  0%|                                                  | 0/1000 [00:00<?, ?it/s]\u001b[A\n",
      " 22%|████████▏                             | 215/1000 [00:00<00:00, 2143.06it/s]\u001b[A\n",
      " 43%|████████████████▎                     | 430/1000 [00:00<00:00, 2102.45it/s]\u001b[A\n",
      " 64%|████████████████████████▎             | 641/1000 [00:00<00:00, 2092.72it/s]\u001b[A\n",
      "100%|█████████████████████████████████████| 1000/1000 [00:00<00:00, 2060.17it/s]\u001b[A\n"
     ]
    },
    {
     "name": "stdout",
     "output_type": "stream",
     "text": [
      "Waimiri_Atroari_waim1253.csv\n"
     ]
    },
    {
     "name": "stderr",
     "output_type": "stream",
     "text": [
      "\n",
      "  0%|                                                  | 0/1000 [00:00<?, ?it/s]\u001b[A\n",
      " 17%|██████▍                               | 170/1000 [00:00<00:00, 1696.71it/s]\u001b[A\n",
      " 40%|███████████████▎                      | 402/1000 [00:00<00:00, 2059.61it/s]\u001b[A\n",
      " 66%|█████████████████████████             | 661/1000 [00:00<00:00, 2299.84it/s]\u001b[A\n",
      "100%|█████████████████████████████████████| 1000/1000 [00:00<00:00, 2280.86it/s]\u001b[A\n"
     ]
    },
    {
     "name": "stdout",
     "output_type": "stream",
     "text": [
      "De_kwana_Maquiritari__maqu1238.csv\n"
     ]
    },
    {
     "name": "stderr",
     "output_type": "stream",
     "text": [
      "\n",
      "  0%|                                                  | 0/1000 [00:00<?, ?it/s]\u001b[A\n",
      " 31%|███████████▋                          | 306/1000 [00:00<00:00, 3050.85it/s]\u001b[A\n",
      " 61%|███████████████████████▎              | 613/1000 [00:00<00:00, 3054.42it/s]\u001b[A\n",
      "100%|█████████████████████████████████████| 1000/1000 [00:00<00:00, 3021.50it/s]\u001b[A\n"
     ]
    },
    {
     "name": "stdout",
     "output_type": "stream",
     "text": [
      "Panare_enap1235.csv\n"
     ]
    },
    {
     "name": "stderr",
     "output_type": "stream",
     "text": [
      "\n",
      "  0%|                                                  | 0/1000 [00:00<?, ?it/s]\u001b[A\n",
      " 26%|█████████▊                            | 257/1000 [00:00<00:00, 2564.82it/s]\u001b[A\n",
      " 51%|███████████████████▌                  | 514/1000 [00:00<00:00, 2539.40it/s]\u001b[A\n",
      "100%|█████████████████████████████████████| 1000/1000 [00:00<00:00, 2580.19it/s]\u001b[A\n"
     ]
    },
    {
     "name": "stdout",
     "output_type": "stream",
     "text": [
      "Wai_Wai_waiw1244.csv\n"
     ]
    },
    {
     "name": "stderr",
     "output_type": "stream",
     "text": [
      "\n",
      "  0%|                                                  | 0/1000 [00:00<?, ?it/s]\u001b[A\n",
      " 32%|████████████▎                         | 325/1000 [00:00<00:00, 3242.22it/s]\u001b[A\n",
      " 65%|████████████████████████▋             | 650/1000 [00:00<00:00, 3141.79it/s]\u001b[A\n",
      "100%|█████████████████████████████████████| 1000/1000 [00:00<00:00, 3060.04it/s]\u001b[A\n"
     ]
    },
    {
     "name": "stdout",
     "output_type": "stream",
     "text": [
      "Pemon_pemo1248.csv\n"
     ]
    },
    {
     "name": "stderr",
     "output_type": "stream",
     "text": [
      "\n",
      "  0%|                                                  | 0/1000 [00:00<?, ?it/s]\u001b[A\n",
      " 19%|███████▎                              | 193/1000 [00:00<00:00, 1918.45it/s]\u001b[A\n",
      " 38%|██████████████▋                       | 385/1000 [00:00<00:00, 1522.25it/s]\u001b[A\n",
      " 59%|██████████████████████▍               | 591/1000 [00:00<00:00, 1734.50it/s]\u001b[A\n",
      "100%|█████████████████████████████████████| 1000/1000 [00:00<00:00, 1870.81it/s]\u001b[A\n",
      " 33%|██████████████▋                             | 7/21 [02:40<07:07, 30.53s/it]"
     ]
    },
    {
     "name": "stdout",
     "output_type": "stream",
     "text": [
      "Kodava_koda1255.csv\n"
     ]
    },
    {
     "name": "stderr",
     "output_type": "stream",
     "text": [
      "\n",
      "  0%|                                                  | 0/1000 [00:00<?, ?it/s]\u001b[A\n",
      " 42%|████████████████                      | 422/1000 [00:00<00:00, 4214.15it/s]\u001b[A\n",
      "100%|█████████████████████████████████████| 1000/1000 [00:00<00:00, 4025.78it/s]\u001b[A\n"
     ]
    },
    {
     "name": "stdout",
     "output_type": "stream",
     "text": [
      "Malayalam_mala1464.csv\n"
     ]
    },
    {
     "name": "stderr",
     "output_type": "stream",
     "text": [
      "\n",
      "  0%|                                                  | 0/1000 [00:00<?, ?it/s]\u001b[A\n",
      "100%|█████████████████████████████████████| 1000/1000 [00:00<00:00, 6447.04it/s]\u001b[A\n"
     ]
    },
    {
     "name": "stdout",
     "output_type": "stream",
     "text": [
      "Gondi_gond1265.csv\n"
     ]
    },
    {
     "name": "stderr",
     "output_type": "stream",
     "text": [
      "\n",
      "  0%|                                                  | 0/1000 [00:00<?, ?it/s]\u001b[A\n",
      "100%|█████████████████████████████████████| 1000/1000 [00:00<00:00, 7271.99it/s]\u001b[A\n"
     ]
    },
    {
     "name": "stdout",
     "output_type": "stream",
     "text": [
      "Chenchu_chen1255.csv\n"
     ]
    },
    {
     "name": "stderr",
     "output_type": "stream",
     "text": [
      "\n",
      "  0%|                                                  | 0/1000 [00:00<?, ?it/s]\u001b[A\n",
      " 36%|█████████████▋                        | 360/1000 [00:00<00:00, 3594.57it/s]\u001b[A\n",
      "100%|█████████████████████████████████████| 1000/1000 [00:00<00:00, 3308.94it/s]\u001b[A\n"
     ]
    },
    {
     "name": "stdout",
     "output_type": "stream",
     "text": [
      "Kuvi_kuvi1243.csv\n"
     ]
    },
    {
     "name": "stderr",
     "output_type": "stream",
     "text": [
      "\n",
      "  0%|                                                  | 0/1000 [00:00<?, ?it/s]\u001b[A\n",
      "100%|█████████████████████████████████████| 1000/1000 [00:00<00:00, 5048.66it/s]\u001b[A\n"
     ]
    },
    {
     "name": "stdout",
     "output_type": "stream",
     "text": [
      "Yerukula_yeru1240.csv\n"
     ]
    },
    {
     "name": "stderr",
     "output_type": "stream",
     "text": [
      "\n",
      "  0%|                                                  | 0/1000 [00:00<?, ?it/s]\u001b[A\n",
      "100%|█████████████████████████████████████| 1000/1000 [00:00<00:00, 7386.99it/s]\u001b[A\n"
     ]
    },
    {
     "name": "stdout",
     "output_type": "stream",
     "text": [
      "Malapandaram_mala1468.csv\n"
     ]
    },
    {
     "name": "stderr",
     "output_type": "stream",
     "text": [
      "\n",
      "  0%|                                                  | 0/1000 [00:00<?, ?it/s]\u001b[A\n",
      " 36%|█████████████▌                        | 358/1000 [00:00<00:00, 3578.28it/s]\u001b[A\n",
      "100%|█████████████████████████████████████| 1000/1000 [00:00<00:00, 3637.49it/s]\u001b[A\n"
     ]
    },
    {
     "name": "stdout",
     "output_type": "stream",
     "text": [
      "Kui_kuii1252.csv\n"
     ]
    },
    {
     "name": "stderr",
     "output_type": "stream",
     "text": [
      "\n",
      "  0%|                                                  | 0/1000 [00:00<?, ?it/s]\u001b[A\n",
      " 28%|██████████▌                           | 278/1000 [00:00<00:00, 2774.18it/s]\u001b[A\n",
      " 56%|█████████████████████▏                | 556/1000 [00:00<00:00, 2752.00it/s]\u001b[A\n",
      "100%|█████████████████████████████████████| 1000/1000 [00:00<00:00, 2725.75it/s]\u001b[A\n"
     ]
    },
    {
     "name": "stdout",
     "output_type": "stream",
     "text": [
      "Telugu_telu1262.csv\n"
     ]
    },
    {
     "name": "stderr",
     "output_type": "stream",
     "text": [
      "\n",
      "  0%|                                                  | 0/1000 [00:00<?, ?it/s]\u001b[A\n",
      " 25%|█████████▌                            | 253/1000 [00:00<00:00, 2526.51it/s]\u001b[A\n",
      " 51%|███████████████████▏                  | 506/1000 [00:00<00:00, 2508.80it/s]\u001b[A\n",
      "100%|█████████████████████████████████████| 1000/1000 [00:00<00:00, 2139.16it/s]\u001b[A\n"
     ]
    },
    {
     "name": "stdout",
     "output_type": "stream",
     "text": [
      "Kadar_kada1242.csv\n"
     ]
    },
    {
     "name": "stderr",
     "output_type": "stream",
     "text": [
      "\n",
      "  0%|                                                  | 0/1000 [00:00<?, ?it/s]\u001b[A\n",
      "100%|█████████████████████████████████████| 1000/1000 [00:00<00:00, 7650.07it/s]\u001b[A\n"
     ]
    },
    {
     "name": "stdout",
     "output_type": "stream",
     "text": [
      "Koya_koya1251.csv\n"
     ]
    },
    {
     "name": "stderr",
     "output_type": "stream",
     "text": [
      "\n",
      "  0%|                                                  | 0/1000 [00:00<?, ?it/s]\u001b[A\n",
      " 30%|███████████▍                          | 300/1000 [00:00<00:00, 2997.69it/s]\u001b[A\n",
      " 60%|██████████████████████▊               | 600/1000 [00:00<00:00, 2883.00it/s]\u001b[A\n",
      "100%|█████████████████████████████████████| 1000/1000 [00:00<00:00, 2793.47it/s]\u001b[A\n"
     ]
    },
    {
     "name": "stdout",
     "output_type": "stream",
     "text": [
      "Paliyan_pali1274.csv\n"
     ]
    },
    {
     "name": "stderr",
     "output_type": "stream",
     "text": [
      "\n",
      "  0%|                                                  | 0/1000 [00:00<?, ?it/s]\u001b[A\n",
      " 33%|████████████▋                         | 333/1000 [00:00<00:00, 3320.94it/s]\u001b[A\n",
      "100%|█████████████████████████████████████| 1000/1000 [00:00<00:00, 3431.12it/s]\u001b[A\n"
     ]
    },
    {
     "name": "stdout",
     "output_type": "stream",
     "text": [
      "Kurukh_kuru1302.csv\n"
     ]
    },
    {
     "name": "stderr",
     "output_type": "stream",
     "text": [
      "\n",
      "  0%|                                                  | 0/1000 [00:00<?, ?it/s]\u001b[A\n",
      " 44%|████████████████▊                     | 443/1000 [00:00<00:00, 4428.99it/s]\u001b[A\n",
      "100%|█████████████████████████████████████| 1000/1000 [00:00<00:00, 4494.79it/s]\u001b[A\n"
     ]
    },
    {
     "name": "stdout",
     "output_type": "stream",
     "text": [
      "Toda_toda1252.csv\n"
     ]
    },
    {
     "name": "stderr",
     "output_type": "stream",
     "text": [
      "\n",
      "  0%|                                                  | 0/1000 [00:00<?, ?it/s]\u001b[A\n",
      " 30%|███████████▌                          | 305/1000 [00:00<00:00, 3039.35it/s]\u001b[A\n",
      " 61%|███████████████████████▏              | 609/1000 [00:00<00:00, 3025.78it/s]\u001b[A\n",
      "100%|█████████████████████████████████████| 1000/1000 [00:00<00:00, 3017.31it/s]\u001b[A\n"
     ]
    },
    {
     "name": "stdout",
     "output_type": "stream",
     "text": [
      "Tamil_tami1289.csv\n"
     ]
    },
    {
     "name": "stderr",
     "output_type": "stream",
     "text": [
      "\n",
      "  0%|                                                  | 0/1000 [00:00<?, ?it/s]\u001b[A\n",
      " 27%|██████████▎                           | 273/1000 [00:00<00:00, 2722.49it/s]\u001b[A\n",
      " 56%|█████████████████████▍                | 565/1000 [00:00<00:00, 2834.46it/s]\u001b[A\n",
      "100%|█████████████████████████████████████| 1000/1000 [00:00<00:00, 2797.71it/s]\u001b[A\n"
     ]
    },
    {
     "name": "stdout",
     "output_type": "stream",
     "text": [
      "Northern_Gondi_nort2702.csv\n"
     ]
    },
    {
     "name": "stderr",
     "output_type": "stream",
     "text": [
      "\n",
      "  0%|                                                  | 0/1000 [00:00<?, ?it/s]\u001b[A\n",
      "100%|█████████████████████████████████████| 1000/1000 [00:00<00:00, 5191.19it/s]\u001b[A\n"
     ]
    },
    {
     "name": "stdout",
     "output_type": "stream",
     "text": [
      "Dandami_Maria_dand1238.csv\n"
     ]
    },
    {
     "name": "stderr",
     "output_type": "stream",
     "text": [
      "\n",
      "  0%|                                                  | 0/1000 [00:00<?, ?it/s]\u001b[A\n",
      " 36%|█████████████▊                        | 362/1000 [00:00<00:00, 3616.52it/s]\u001b[A\n",
      "100%|█████████████████████████████████████| 1000/1000 [00:00<00:00, 3032.86it/s]\u001b[A\n"
     ]
    },
    {
     "name": "stdout",
     "output_type": "stream",
     "text": [
      "Morgan1871_Tamil_tami1289.csv\n",
      "Morgan1871_Telugu_telu1262.csv\n",
      "Morgan1871_Canarese_nucl1305.csv\n"
     ]
    },
    {
     "name": "stderr",
     "output_type": "stream",
     "text": [
      "\n",
      "  0%|                                                  | 0/1000 [00:00<?, ?it/s]\u001b[A\n",
      " 42%|████████████████▏                     | 425/1000 [00:00<00:00, 4249.62it/s]\u001b[A\n",
      "100%|█████████████████████████████████████| 1000/1000 [00:00<00:00, 4041.90it/s]\u001b[A\n",
      " 38%|████████████████▊                           | 8/21 [02:45<04:51, 22.41s/it]"
     ]
    },
    {
     "name": "stdout",
     "output_type": "stream",
     "text": [
      "Kashmiri_kash1277.csv\n"
     ]
    },
    {
     "name": "stderr",
     "output_type": "stream",
     "text": [
      "\n",
      "  0%|                                                  | 0/1000 [00:00<?, ?it/s]\u001b[A\n",
      " 23%|████████▊                             | 231/1000 [00:00<00:00, 2309.69it/s]\u001b[A\n",
      " 49%|██████████████████▊                   | 494/1000 [00:00<00:00, 2496.18it/s]\u001b[A\n",
      " 74%|████████████████████████████▎         | 744/1000 [00:00<00:00, 2388.87it/s]\u001b[A\n",
      "100%|█████████████████████████████████████| 1000/1000 [00:00<00:00, 2385.08it/s]\u001b[A\n"
     ]
    },
    {
     "name": "stdout",
     "output_type": "stream",
     "text": [
      "Tok_Pisin_tokp1240.csv\n"
     ]
    },
    {
     "name": "stderr",
     "output_type": "stream",
     "text": [
      "\n",
      "  0%|                                                  | 0/1000 [00:00<?, ?it/s]\u001b[A\n",
      " 31%|███████████▋                          | 306/1000 [00:00<00:00, 3057.92it/s]\u001b[A\n",
      " 61%|███████████████████████▎              | 612/1000 [00:00<00:00, 3030.48it/s]\u001b[A\n",
      "100%|█████████████████████████████████████| 1000/1000 [00:00<00:00, 3005.40it/s]\u001b[A\n"
     ]
    },
    {
     "name": "stdout",
     "output_type": "stream",
     "text": [
      "Modern_Welsh_wels1247.csv\n"
     ]
    },
    {
     "name": "stderr",
     "output_type": "stream",
     "text": [
      "\n",
      "  0%|                                                  | 0/1000 [00:00<?, ?it/s]\u001b[A\n",
      " 26%|██████████                            | 265/1000 [00:00<00:00, 2644.11it/s]\u001b[A\n",
      " 53%|████████████████████▏                 | 530/1000 [00:00<00:00, 2628.34it/s]\u001b[A\n",
      "100%|█████████████████████████████████████| 1000/1000 [00:00<00:00, 2635.52it/s]\u001b[A\n"
     ]
    },
    {
     "name": "stdout",
     "output_type": "stream",
     "text": [
      "Slovakian_slov1269.csv\n"
     ]
    },
    {
     "name": "stderr",
     "output_type": "stream",
     "text": [
      "\n",
      "  0%|                                                  | 0/1000 [00:00<?, ?it/s]\u001b[A\n",
      " 27%|██████████▏                           | 268/1000 [00:00<00:00, 2671.05it/s]\u001b[A\n",
      " 54%|████████████████████▎                 | 536/1000 [00:00<00:00, 2644.77it/s]\u001b[A\n",
      "100%|█████████████████████████████████████| 1000/1000 [00:00<00:00, 2460.70it/s]\u001b[A\n"
     ]
    },
    {
     "name": "stdout",
     "output_type": "stream",
     "text": [
      "Polish_poli1260.csv\n"
     ]
    },
    {
     "name": "stderr",
     "output_type": "stream",
     "text": [
      "\n",
      "  0%|                                                  | 0/1000 [00:00<?, ?it/s]\u001b[A\n",
      " 25%|█████████▋                            | 254/1000 [00:00<00:00, 2539.09it/s]\u001b[A\n",
      " 51%|███████████████████▎                  | 508/1000 [00:00<00:00, 2508.60it/s]\u001b[A\n",
      " 76%|████████████████████████████▊         | 759/1000 [00:00<00:00, 2254.16it/s]\u001b[A\n",
      "100%|█████████████████████████████████████| 1000/1000 [00:00<00:00, 2255.30it/s]\u001b[A\n"
     ]
    },
    {
     "name": "stdout",
     "output_type": "stream",
     "text": [
      "Belarusian_bela1254.csv\n"
     ]
    },
    {
     "name": "stderr",
     "output_type": "stream",
     "text": [
      "\n",
      "  0%|                                                  | 0/1000 [00:00<?, ?it/s]\u001b[A\n",
      " 19%|███████▏                              | 190/1000 [00:00<00:00, 1899.58it/s]\u001b[A\n",
      " 43%|████████████████▍                     | 433/1000 [00:00<00:00, 2210.65it/s]\u001b[A\n",
      " 70%|██████████████████████████▋           | 701/1000 [00:00<00:00, 2423.66it/s]\u001b[A\n",
      "100%|█████████████████████████████████████| 1000/1000 [00:00<00:00, 2410.07it/s]\u001b[A\n"
     ]
    },
    {
     "name": "stdout",
     "output_type": "stream",
     "text": [
      "Negerhollands_nege1244.csv\n"
     ]
    },
    {
     "name": "stderr",
     "output_type": "stream",
     "text": [
      "\n",
      "  0%|                                                  | 0/1000 [00:00<?, ?it/s]\u001b[A\n",
      " 41%|███████████████▋                      | 413/1000 [00:00<00:00, 4128.98it/s]\u001b[A\n",
      "100%|█████████████████████████████████████| 1000/1000 [00:00<00:00, 4070.32it/s]\u001b[A\n"
     ]
    },
    {
     "name": "stdout",
     "output_type": "stream",
     "text": [
      "Old_Russian_oldr1238.csv\n"
     ]
    },
    {
     "name": "stderr",
     "output_type": "stream",
     "text": [
      "\n",
      "  0%|                                                  | 0/1000 [00:00<?, ?it/s]\u001b[A\n",
      " 34%|████████████▋                         | 335/1000 [00:00<00:00, 3340.71it/s]\u001b[A\n",
      " 67%|█████████████████████████▍            | 670/1000 [00:00<00:00, 3201.66it/s]\u001b[A\n",
      "100%|█████████████████████████████████████| 1000/1000 [00:00<00:00, 2576.47it/s]\u001b[A\n"
     ]
    },
    {
     "name": "stdout",
     "output_type": "stream",
     "text": [
      "Old_Church_Slavonic_chur1257.csv\n"
     ]
    },
    {
     "name": "stderr",
     "output_type": "stream",
     "text": [
      "\n",
      "  0%|                                                  | 0/1000 [00:00<?, ?it/s]\u001b[A\n",
      " 36%|█████████████▊                        | 364/1000 [00:00<00:00, 3632.99it/s]\u001b[A\n",
      "100%|█████████████████████████████████████| 1000/1000 [00:00<00:00, 3645.67it/s]\u001b[A\n"
     ]
    },
    {
     "name": "stdout",
     "output_type": "stream",
     "text": [
      "Serbocroation_sout1528.csv\n"
     ]
    },
    {
     "name": "stderr",
     "output_type": "stream",
     "text": [
      "\n",
      "  0%|                                                  | 0/1000 [00:00<?, ?it/s]\u001b[A\n",
      " 27%|██████████▏                           | 268/1000 [00:00<00:00, 2676.33it/s]\u001b[A\n",
      " 54%|████████████████████▎                 | 536/1000 [00:00<00:00, 2536.16it/s]\u001b[A\n",
      "100%|█████████████████████████████████████| 1000/1000 [00:00<00:00, 2599.14it/s]\u001b[A\n"
     ]
    },
    {
     "name": "stdout",
     "output_type": "stream",
     "text": [
      "Middle_High_German_midd1343.csv\n"
     ]
    },
    {
     "name": "stderr",
     "output_type": "stream",
     "text": [
      "\n",
      "  0%|                                                  | 0/1000 [00:00<?, ?it/s]\u001b[A\n",
      " 32%|████████████                          | 318/1000 [00:00<00:00, 3173.34it/s]\u001b[A\n",
      " 64%|████████████████████████▏             | 636/1000 [00:00<00:00, 3038.66it/s]\u001b[A\n",
      "100%|█████████████████████████████████████| 1000/1000 [00:00<00:00, 3059.88it/s]\u001b[A\n"
     ]
    },
    {
     "name": "stdout",
     "output_type": "stream",
     "text": [
      "Standard_Spanish_stan1288.csv\n"
     ]
    },
    {
     "name": "stderr",
     "output_type": "stream",
     "text": [
      "\n",
      "  0%|                                                  | 0/1000 [00:00<?, ?it/s]\u001b[A\n",
      " 25%|█████████▌                            | 252/1000 [00:00<00:00, 2519.57it/s]\u001b[A\n",
      " 51%|███████████████████▍                  | 513/1000 [00:00<00:00, 2570.28it/s]\u001b[A\n",
      "100%|█████████████████████████████████████| 1000/1000 [00:00<00:00, 2560.60it/s]\u001b[A\n"
     ]
    },
    {
     "name": "stdout",
     "output_type": "stream",
     "text": [
      "Macedonian_mace1250.csv\n"
     ]
    },
    {
     "name": "stderr",
     "output_type": "stream",
     "text": [
      "\n",
      "  0%|                                                  | 0/1000 [00:00<?, ?it/s]\u001b[A\n",
      " 23%|████████▊                             | 231/1000 [00:00<00:00, 2303.64it/s]\u001b[A\n",
      " 46%|█████████████████▌                    | 462/1000 [00:00<00:00, 1897.71it/s]\u001b[A\n",
      " 69%|██████████████████████████▎           | 692/1000 [00:00<00:00, 2060.01it/s]\u001b[A\n",
      "100%|█████████████████████████████████████| 1000/1000 [00:00<00:00, 2159.46it/s]\u001b[A\n"
     ]
    },
    {
     "name": "stdout",
     "output_type": "stream",
     "text": [
      "Sardinian_sard1257.csv\n"
     ]
    },
    {
     "name": "stderr",
     "output_type": "stream",
     "text": [
      "\n",
      "  0%|                                                  | 0/1000 [00:00<?, ?it/s]\u001b[A\n",
      " 29%|██████████▊                           | 286/1000 [00:00<00:00, 2859.40it/s]\u001b[A\n",
      " 57%|█████████████████████▋                | 572/1000 [00:00<00:00, 2806.27it/s]\u001b[A\n",
      "100%|█████████████████████████████████████| 1000/1000 [00:00<00:00, 2747.36it/s]\u001b[A\n"
     ]
    },
    {
     "name": "stdout",
     "output_type": "stream",
     "text": [
      "Frisian_fris1239.csv\n"
     ]
    },
    {
     "name": "stderr",
     "output_type": "stream",
     "text": [
      "\n",
      "  0%|                                                  | 0/1000 [00:00<?, ?it/s]\u001b[A\n",
      " 29%|██████████▉                           | 287/1000 [00:00<00:00, 2868.42it/s]\u001b[A\n",
      " 57%|█████████████████████▊                | 574/1000 [00:00<00:00, 2479.49it/s]\u001b[A\n",
      "100%|█████████████████████████████████████| 1000/1000 [00:00<00:00, 2530.86it/s]\u001b[A\n"
     ]
    },
    {
     "name": "stdout",
     "output_type": "stream",
     "text": [
      "English_stan1293.csv\n"
     ]
    },
    {
     "name": "stderr",
     "output_type": "stream",
     "text": [
      "\n",
      "  0%|                                                  | 0/1000 [00:00<?, ?it/s]\u001b[A\n",
      " 32%|████████████▏                         | 322/1000 [00:00<00:00, 3218.04it/s]\u001b[A\n",
      " 64%|████████████████████████▍             | 644/1000 [00:00<00:00, 3188.76it/s]\u001b[A\n",
      "100%|█████████████████████████████████████| 1000/1000 [00:00<00:00, 2958.94it/s]\u001b[A\n"
     ]
    },
    {
     "name": "stdout",
     "output_type": "stream",
     "text": [
      "Serbs_serb1264.csv\n"
     ]
    },
    {
     "name": "stderr",
     "output_type": "stream",
     "text": [
      "\n",
      "  0%|                                                  | 0/1000 [00:00<?, ?it/s]\u001b[A\n",
      " 26%|█████████▊                            | 259/1000 [00:00<00:00, 2587.00it/s]\u001b[A\n",
      " 52%|███████████████████▋                  | 518/1000 [00:00<00:00, 2526.67it/s]\u001b[A\n",
      "100%|█████████████████████████████████████| 1000/1000 [00:00<00:00, 2590.51it/s]\u001b[A\n"
     ]
    },
    {
     "name": "stdout",
     "output_type": "stream",
     "text": [
      "Eastern_Pahari_Nepali__east1436.csv\n"
     ]
    },
    {
     "name": "stderr",
     "output_type": "stream",
     "text": [
      "\n",
      "  0%|                                                  | 0/1000 [00:00<?, ?it/s]\u001b[A\n",
      "100%|█████████████████████████████████████| 1000/1000 [00:00<00:00, 6047.82it/s]\u001b[A\n"
     ]
    },
    {
     "name": "stdout",
     "output_type": "stream",
     "text": [
      "Albanian_Tosk__tosk1239.csv\n"
     ]
    },
    {
     "name": "stderr",
     "output_type": "stream",
     "text": [
      "\n",
      "  0%|                                                  | 0/1000 [00:00<?, ?it/s]\u001b[A\n",
      " 30%|███████████▏                          | 295/1000 [00:00<00:00, 2948.02it/s]\u001b[A\n",
      " 59%|██████████████████████▌               | 593/1000 [00:00<00:00, 2965.07it/s]\u001b[A\n",
      "100%|█████████████████████████████████████| 1000/1000 [00:00<00:00, 2756.74it/s]\u001b[A\n"
     ]
    },
    {
     "name": "stdout",
     "output_type": "stream",
     "text": [
      "Sanskrit_sans1269.csv\n"
     ]
    },
    {
     "name": "stderr",
     "output_type": "stream",
     "text": [
      "\n",
      "  0%|                                                  | 0/1000 [00:00<?, ?it/s]\u001b[A\n",
      " 26%|█████████▋                            | 256/1000 [00:00<00:00, 2557.52it/s]\u001b[A\n",
      " 51%|███████████████████▍                  | 512/1000 [00:00<00:00, 2558.53it/s]\u001b[A\n",
      "100%|█████████████████████████████████████| 1000/1000 [00:00<00:00, 2587.77it/s]\u001b[A\n"
     ]
    },
    {
     "name": "stdout",
     "output_type": "stream",
     "text": [
      "Standard_Catalan_stan1289.csv\n"
     ]
    },
    {
     "name": "stderr",
     "output_type": "stream",
     "text": [
      "\n",
      "  0%|                                                  | 0/1000 [00:00<?, ?it/s]\u001b[A\n",
      " 27%|██████████▍                           | 274/1000 [00:00<00:00, 2728.35it/s]\u001b[A\n",
      " 55%|████████████████████▊                 | 548/1000 [00:00<00:00, 2733.46it/s]\u001b[A\n",
      "100%|█████████████████████████████████████| 1000/1000 [00:00<00:00, 2725.59it/s]\u001b[A\n"
     ]
    },
    {
     "name": "stdout",
     "output_type": "stream",
     "text": [
      "Tajik_taji1245.csv\n"
     ]
    },
    {
     "name": "stderr",
     "output_type": "stream",
     "text": [
      "\n",
      "  0%|                                                  | 0/1000 [00:00<?, ?it/s]\u001b[A\n",
      "100%|█████████████████████████████████████| 1000/1000 [00:00<00:00, 7918.67it/s]\u001b[A\n"
     ]
    },
    {
     "name": "stdout",
     "output_type": "stream",
     "text": [
      "Nepali_nepa1254.csv\n"
     ]
    },
    {
     "name": "stderr",
     "output_type": "stream",
     "text": [
      "\n",
      "  0%|                                                  | 0/1000 [00:00<?, ?it/s]\u001b[A\n",
      " 36%|█████████████▊                        | 363/1000 [00:00<00:00, 3621.92it/s]\u001b[A\n",
      "100%|█████████████████████████████████████| 1000/1000 [00:00<00:00, 3597.59it/s]\u001b[A\n"
     ]
    },
    {
     "name": "stdout",
     "output_type": "stream",
     "text": [
      "Bengali_beng1280.csv\n"
     ]
    },
    {
     "name": "stderr",
     "output_type": "stream",
     "text": [
      "\n",
      "  0%|                                                  | 0/1000 [00:00<?, ?it/s]\u001b[A\n",
      " 24%|█████████▎                            | 245/1000 [00:00<00:00, 2445.16it/s]\u001b[A\n",
      " 49%|██████████████████▊                   | 494/1000 [00:00<00:00, 2468.86it/s]\u001b[A\n",
      " 75%|████████████████████████████▍         | 747/1000 [00:00<00:00, 2493.85it/s]\u001b[A\n",
      "100%|█████████████████████████████████████| 1000/1000 [00:00<00:00, 2465.25it/s]\u001b[A\n"
     ]
    },
    {
     "name": "stdout",
     "output_type": "stream",
     "text": [
      "Swedish_swed1254.csv\n"
     ]
    },
    {
     "name": "stderr",
     "output_type": "stream",
     "text": [
      "\n",
      "  0%|                                                  | 0/1000 [00:00<?, ?it/s]\u001b[A\n",
      " 28%|██████████▌                           | 279/1000 [00:00<00:00, 2785.63it/s]\u001b[A\n",
      " 56%|█████████████████████▍                | 564/1000 [00:00<00:00, 2821.51it/s]\u001b[A\n",
      "100%|█████████████████████████████████████| 1000/1000 [00:00<00:00, 2758.81it/s]\u001b[A\n"
     ]
    },
    {
     "name": "stdout",
     "output_type": "stream",
     "text": [
      "Urdu_urdu1245.csv\n"
     ]
    },
    {
     "name": "stderr",
     "output_type": "stream",
     "text": [
      "\n",
      "  0%|                                                  | 0/1000 [00:00<?, ?it/s]\u001b[A\n",
      " 26%|█████████▋                            | 256/1000 [00:00<00:00, 2559.47it/s]\u001b[A\n",
      " 51%|███████████████████▍                  | 512/1000 [00:00<00:00, 2521.63it/s]\u001b[A\n",
      "100%|█████████████████████████████████████| 1000/1000 [00:00<00:00, 2552.22it/s]\u001b[A\n"
     ]
    },
    {
     "name": "stdout",
     "output_type": "stream",
     "text": [
      "Standard_German_stan1295.csv\n"
     ]
    },
    {
     "name": "stderr",
     "output_type": "stream",
     "text": [
      "\n",
      "  0%|                                                  | 0/1000 [00:00<?, ?it/s]\u001b[A\n",
      " 28%|██████████▍                           | 276/1000 [00:00<00:00, 2755.97it/s]\u001b[A\n",
      " 55%|████████████████████▉                 | 552/1000 [00:00<00:00, 2730.28it/s]\u001b[A\n",
      "100%|█████████████████████████████████████| 1000/1000 [00:00<00:00, 2392.68it/s]\u001b[A\n"
     ]
    },
    {
     "name": "stdout",
     "output_type": "stream",
     "text": [
      "Irish_iris1253.csv\n"
     ]
    },
    {
     "name": "stderr",
     "output_type": "stream",
     "text": [
      "\n",
      "  0%|                                                  | 0/1000 [00:00<?, ?it/s]\u001b[A\n",
      " 24%|█████████                             | 238/1000 [00:00<00:00, 2379.52it/s]\u001b[A\n",
      " 48%|██████████████████▏                   | 478/1000 [00:00<00:00, 2387.06it/s]\u001b[A\n",
      " 72%|███████████████████████████▏          | 717/1000 [00:00<00:00, 2300.94it/s]\u001b[A\n",
      "100%|█████████████████████████████████████| 1000/1000 [00:00<00:00, 2379.88it/s]\u001b[A\n"
     ]
    },
    {
     "name": "stdout",
     "output_type": "stream",
     "text": [
      "Ossetian_osse1243.csv\n"
     ]
    },
    {
     "name": "stderr",
     "output_type": "stream",
     "text": [
      "\n",
      "  0%|                                                  | 0/1000 [00:00<?, ?it/s]\u001b[A\n",
      " 26%|█████████▉                            | 260/1000 [00:00<00:00, 2592.50it/s]\u001b[A\n",
      " 52%|███████████████████▊                  | 523/1000 [00:00<00:00, 2610.42it/s]\u001b[A\n",
      "100%|█████████████████████████████████████| 1000/1000 [00:00<00:00, 2546.18it/s]\u001b[A\n"
     ]
    },
    {
     "name": "stdout",
     "output_type": "stream",
     "text": [
      "Latin_lati1261a.csv\n"
     ]
    },
    {
     "name": "stderr",
     "output_type": "stream",
     "text": [
      "\n",
      "  0%|                                                  | 0/1000 [00:00<?, ?it/s]\u001b[A\n",
      " 30%|███████████▏                          | 296/1000 [00:00<00:00, 2956.18it/s]\u001b[A\n",
      " 59%|██████████████████████▌               | 593/1000 [00:00<00:00, 2963.73it/s]\u001b[A\n",
      "100%|█████████████████████████████████████| 1000/1000 [00:00<00:00, 2911.17it/s]\u001b[A\n"
     ]
    },
    {
     "name": "stdout",
     "output_type": "stream",
     "text": [
      "Panjabi_panj1256.csv\n"
     ]
    },
    {
     "name": "stderr",
     "output_type": "stream",
     "text": [
      "\n",
      "  0%|                                                  | 0/1000 [00:00<?, ?it/s]\u001b[A\n",
      " 24%|█████████▎                            | 244/1000 [00:00<00:00, 2431.38it/s]\u001b[A\n",
      " 50%|███████████████████▏                  | 505/1000 [00:00<00:00, 2536.10it/s]\u001b[A\n",
      "100%|█████████████████████████████████████| 1000/1000 [00:00<00:00, 2595.68it/s]\u001b[A\n"
     ]
    },
    {
     "name": "stdout",
     "output_type": "stream",
     "text": [
      "Ancient_Greek_anci1242.csv\n"
     ]
    },
    {
     "name": "stderr",
     "output_type": "stream",
     "text": [
      "\n",
      "  0%|                                                  | 0/1000 [00:00<?, ?it/s]\u001b[A\n",
      " 28%|██████████▋                           | 281/1000 [00:00<00:00, 2802.05it/s]\u001b[A\n",
      " 56%|█████████████████████▎                | 562/1000 [00:00<00:00, 2698.55it/s]\u001b[A\n",
      "100%|█████████████████████████████████████| 1000/1000 [00:00<00:00, 2549.38it/s]\u001b[A\n"
     ]
    },
    {
     "name": "stdout",
     "output_type": "stream",
     "text": [
      "Western_Armenian_homs1234.csv\n"
     ]
    },
    {
     "name": "stderr",
     "output_type": "stream",
     "text": [
      "\n",
      "  0%|                                                  | 0/1000 [00:00<?, ?it/s]\u001b[A\n",
      " 27%|██████████▏                           | 269/1000 [00:00<00:00, 2669.84it/s]\u001b[A\n",
      " 54%|████████████████████▎                 | 536/1000 [00:00<00:00, 2119.64it/s]\u001b[A\n",
      "100%|█████████████████████████████████████| 1000/1000 [00:00<00:00, 2311.41it/s]\u001b[A\n"
     ]
    },
    {
     "name": "stdout",
     "output_type": "stream",
     "text": [
      "Latvian_latv1249.csv\n"
     ]
    },
    {
     "name": "stderr",
     "output_type": "stream",
     "text": [
      "\n",
      "  0%|                                                  | 0/1000 [00:00<?, ?it/s]\u001b[A\n",
      " 26%|█████████▉                            | 262/1000 [00:00<00:00, 2617.25it/s]\u001b[A\n",
      " 52%|███████████████████▉                  | 524/1000 [00:00<00:00, 2500.52it/s]\u001b[A\n",
      "100%|█████████████████████████████████████| 1000/1000 [00:00<00:00, 2553.90it/s]\u001b[A\n"
     ]
    },
    {
     "name": "stdout",
     "output_type": "stream",
     "text": [
      "Czech_czec1258.csv\n"
     ]
    },
    {
     "name": "stderr",
     "output_type": "stream",
     "text": [
      "\n",
      "  0%|                                                  | 0/1000 [00:00<?, ?it/s]\u001b[A\n",
      " 24%|█████████▏                            | 241/1000 [00:00<00:00, 2408.29it/s]\u001b[A\n",
      " 50%|██████████████████▉                   | 499/1000 [00:00<00:00, 2505.27it/s]\u001b[A\n",
      "100%|█████████████████████████████████████| 1000/1000 [00:00<00:00, 2523.93it/s]\u001b[A\n"
     ]
    },
    {
     "name": "stdout",
     "output_type": "stream",
     "text": [
      "Balochi_balo1260.csv\n"
     ]
    },
    {
     "name": "stderr",
     "output_type": "stream",
     "text": [
      "\n",
      "  0%|                                                  | 0/1000 [00:00<?, ?it/s]\u001b[A\n",
      " 36%|█████████████▌                        | 358/1000 [00:00<00:00, 3573.85it/s]\u001b[A\n",
      "100%|█████████████████████████████████████| 1000/1000 [00:00<00:00, 3491.26it/s]\u001b[A\n"
     ]
    },
    {
     "name": "stdout",
     "output_type": "stream",
     "text": [
      "Marathi_mara1378.csv\n"
     ]
    },
    {
     "name": "stderr",
     "output_type": "stream",
     "text": [
      "\n",
      "  0%|                                                  | 0/1000 [00:00<?, ?it/s]\u001b[A\n",
      " 27%|██████████▎                           | 270/1000 [00:00<00:00, 2695.80it/s]\u001b[A\n",
      " 54%|████████████████████▌                 | 540/1000 [00:00<00:00, 2676.67it/s]\u001b[A\n",
      "100%|█████████████████████████████████████| 1000/1000 [00:00<00:00, 2636.82it/s]\u001b[A\n"
     ]
    },
    {
     "name": "stdout",
     "output_type": "stream",
     "text": [
      "Marwari_India__marw1260.csv\n"
     ]
    },
    {
     "name": "stderr",
     "output_type": "stream",
     "text": [
      "\n",
      "  0%|                                                  | 0/1000 [00:00<?, ?it/s]\u001b[A\n",
      " 26%|█████████▊                            | 259/1000 [00:00<00:00, 2583.39it/s]\u001b[A\n",
      " 52%|███████████████████▋                  | 518/1000 [00:00<00:00, 2523.49it/s]\u001b[A\n",
      "100%|█████████████████████████████████████| 1000/1000 [00:00<00:00, 2630.51it/s]\u001b[A\n"
     ]
    },
    {
     "name": "stdout",
     "output_type": "stream",
     "text": [
      "Eastern_Armenian_east2283.csv\n"
     ]
    },
    {
     "name": "stderr",
     "output_type": "stream",
     "text": [
      "\n",
      "  0%|                                                  | 0/1000 [00:00<?, ?it/s]\u001b[A\n",
      " 28%|██████████▌                           | 278/1000 [00:00<00:00, 2775.15it/s]\u001b[A\n",
      " 56%|█████████████████████▏                | 556/1000 [00:00<00:00, 2702.25it/s]\u001b[A\n",
      "100%|█████████████████████████████████████| 1000/1000 [00:00<00:00, 2588.83it/s]\u001b[A\n"
     ]
    },
    {
     "name": "stdout",
     "output_type": "stream",
     "text": [
      "Chavacano_chav1241.csv\n"
     ]
    },
    {
     "name": "stderr",
     "output_type": "stream",
     "text": [
      "\n",
      "  0%|                                                  | 0/1000 [00:00<?, ?it/s]\u001b[A\n",
      " 16%|██████▏                               | 163/1000 [00:00<00:00, 1628.14it/s]\u001b[A\n",
      " 46%|█████████████████▍                    | 459/1000 [00:00<00:00, 2408.16it/s]\u001b[A\n",
      "100%|█████████████████████████████████████| 1000/1000 [00:00<00:00, 2628.31it/s]\u001b[A\n"
     ]
    },
    {
     "name": "stdout",
     "output_type": "stream",
     "text": [
      "Old_Norse_oldn1244.csv\n"
     ]
    },
    {
     "name": "stderr",
     "output_type": "stream",
     "text": [
      "\n",
      "  0%|                                                  | 0/1000 [00:00<?, ?it/s]\u001b[A\n",
      " 29%|██████████▉                           | 287/1000 [00:00<00:00, 2864.21it/s]\u001b[A\n",
      "100%|█████████████████████████████████████| 1000/1000 [00:00<00:00, 3364.92it/s]\u001b[A\n"
     ]
    },
    {
     "name": "stdout",
     "output_type": "stream",
     "text": [
      "Icelandic_icel1247.csv\n"
     ]
    },
    {
     "name": "stderr",
     "output_type": "stream",
     "text": [
      "\n",
      "  0%|                                                  | 0/1000 [00:00<?, ?it/s]\u001b[A\n",
      " 28%|██████████▊                           | 283/1000 [00:00<00:00, 2829.21it/s]\u001b[A\n",
      " 57%|█████████████████████▌                | 568/1000 [00:00<00:00, 2839.80it/s]\u001b[A\n",
      "100%|█████████████████████████████████████| 1000/1000 [00:00<00:00, 2748.62it/s]\u001b[A\n"
     ]
    },
    {
     "name": "stdout",
     "output_type": "stream",
     "text": [
      "Western_Farsi_west2369.csv\n"
     ]
    },
    {
     "name": "stderr",
     "output_type": "stream",
     "text": [
      "\n",
      "  0%|                                                  | 0/1000 [00:00<?, ?it/s]\u001b[A\n",
      " 28%|██████████▌                           | 278/1000 [00:00<00:00, 2774.70it/s]\u001b[A\n",
      " 56%|█████████████████████▏                | 558/1000 [00:00<00:00, 2780.81it/s]\u001b[A\n",
      "100%|█████████████████████████████████████| 1000/1000 [00:00<00:00, 2478.30it/s]\u001b[A\n"
     ]
    },
    {
     "name": "stdout",
     "output_type": "stream",
     "text": [
      "Tokharian_B_tokh1243.csv\n"
     ]
    },
    {
     "name": "stderr",
     "output_type": "stream",
     "text": [
      "\n",
      "  0%|                                                  | 0/1000 [00:00<?, ?it/s]\u001b[A\n",
      "100%|█████████████████████████████████████| 1000/1000 [00:00<00:00, 9543.09it/s]\u001b[A\n"
     ]
    },
    {
     "name": "stdout",
     "output_type": "stream",
     "text": [
      "Standard_English_stan1293.csv\n",
      "Assamese_assa1263.csv\n"
     ]
    },
    {
     "name": "stderr",
     "output_type": "stream",
     "text": [
      "\n",
      "  0%|                                                  | 0/1000 [00:00<?, ?it/s]\u001b[A\n",
      " 33%|████████████▋                         | 333/1000 [00:00<00:00, 3329.23it/s]\u001b[A\n",
      "100%|█████████████████████████████████████| 1000/1000 [00:00<00:00, 3329.91it/s]\u001b[A\n"
     ]
    },
    {
     "name": "stdout",
     "output_type": "stream",
     "text": [
      "Portuguese_port1283.csv\n"
     ]
    },
    {
     "name": "stderr",
     "output_type": "stream",
     "text": [
      "\n",
      "  0%|                                                  | 0/1000 [00:00<?, ?it/s]\u001b[A\n",
      " 27%|██████████▎                           | 271/1000 [00:00<00:00, 2702.84it/s]\u001b[A\n",
      " 56%|█████████████████████▍                | 563/1000 [00:00<00:00, 2829.03it/s]\u001b[A\n",
      "100%|█████████████████████████████████████| 1000/1000 [00:00<00:00, 2721.93it/s]\u001b[A\n"
     ]
    },
    {
     "name": "stdout",
     "output_type": "stream",
     "text": [
      "Kriol_Roper_River_krio1252.csv\n"
     ]
    },
    {
     "name": "stderr",
     "output_type": "stream",
     "text": [
      "\n",
      "  0%|                                                  | 0/1000 [00:00<?, ?it/s]\u001b[A\n",
      " 20%|███████▌                              | 198/1000 [00:00<00:00, 1973.90it/s]\u001b[A\n",
      " 40%|███████████████                       | 396/1000 [00:00<00:00, 1667.22it/s]\u001b[A\n",
      " 57%|█████████████████████▌                | 566/1000 [00:00<00:00, 1671.40it/s]\u001b[A\n",
      " 77%|█████████████████████████████         | 766/1000 [00:00<00:00, 1788.57it/s]\u001b[A\n",
      "100%|█████████████████████████████████████| 1000/1000 [00:00<00:00, 1743.33it/s]\u001b[A\n"
     ]
    },
    {
     "name": "stdout",
     "output_type": "stream",
     "text": [
      "Maithili_mait1250.csv\n"
     ]
    },
    {
     "name": "stderr",
     "output_type": "stream",
     "text": [
      "\n",
      "  0%|                                                  | 0/1000 [00:00<?, ?it/s]\u001b[A\n",
      " 23%|████████▊                             | 231/1000 [00:00<00:00, 2305.32it/s]\u001b[A\n",
      " 48%|██████████████████                    | 476/1000 [00:00<00:00, 2385.79it/s]\u001b[A\n",
      " 73%|███████████████████████████▊          | 732/1000 [00:00<00:00, 2461.34it/s]\u001b[A\n",
      "100%|█████████████████████████████████████| 1000/1000 [00:00<00:00, 2436.90it/s]\u001b[A\n"
     ]
    },
    {
     "name": "stdout",
     "output_type": "stream",
     "text": [
      "Hittite_hitt1242.csv\n"
     ]
    },
    {
     "name": "stderr",
     "output_type": "stream",
     "text": [
      "\n",
      "  0%|                                                  | 0/1000 [00:00<?, ?it/s]\u001b[A\n",
      " 35%|█████████████▍                        | 352/1000 [00:00<00:00, 3519.50it/s]\u001b[A\n",
      "100%|█████████████████████████████████████| 1000/1000 [00:00<00:00, 2953.31it/s]\u001b[A\n"
     ]
    },
    {
     "name": "stdout",
     "output_type": "stream",
     "text": [
      "Luxembourgish_luxe1241.csv\n"
     ]
    },
    {
     "name": "stderr",
     "output_type": "stream",
     "text": [
      "\n",
      "  0%|                                                  | 0/1000 [00:00<?, ?it/s]\u001b[A\n",
      " 25%|█████████▌                            | 251/1000 [00:00<00:00, 2502.57it/s]\u001b[A\n",
      " 50%|███████████████████                   | 502/1000 [00:00<00:00, 2450.43it/s]\u001b[A\n",
      "100%|█████████████████████████████████████| 1000/1000 [00:00<00:00, 2477.18it/s]\u001b[A\n"
     ]
    },
    {
     "name": "stdout",
     "output_type": "stream",
     "text": [
      "German_stan1295.csv\n",
      "Bihari_biha1245.csv\n"
     ]
    },
    {
     "name": "stderr",
     "output_type": "stream",
     "text": [
      "\n",
      "  0%|                                                  | 0/1000 [00:00<?, ?it/s]\u001b[A\n",
      " 49%|██████████████████▌                   | 489/1000 [00:00<00:00, 4884.37it/s]\u001b[A\n",
      "100%|█████████████████████████████████████| 1000/1000 [00:00<00:00, 4896.03it/s]\u001b[A\n"
     ]
    },
    {
     "name": "stdout",
     "output_type": "stream",
     "text": [
      "Eastern_Yiddish_east2295.csv\n"
     ]
    },
    {
     "name": "stderr",
     "output_type": "stream",
     "text": [
      "\n",
      "  0%|                                                  | 0/1000 [00:00<?, ?it/s]\u001b[A\n",
      " 28%|██████████▊                           | 285/1000 [00:00<00:00, 2844.34it/s]\u001b[A\n",
      " 57%|█████████████████████▋                | 570/1000 [00:00<00:00, 2459.27it/s]\u001b[A\n",
      "100%|█████████████████████████████████████| 1000/1000 [00:00<00:00, 2608.08it/s]\u001b[A\n"
     ]
    },
    {
     "name": "stdout",
     "output_type": "stream",
     "text": [
      "Judeo_Tat_jude1256.csv\n"
     ]
    },
    {
     "name": "stderr",
     "output_type": "stream",
     "text": [
      "\n",
      "  0%|                                                  | 0/1000 [00:00<?, ?it/s]\u001b[A\n",
      " 26%|█████████▉                            | 263/1000 [00:00<00:00, 2628.17it/s]\u001b[A\n",
      " 53%|████████████████████                  | 528/1000 [00:00<00:00, 2640.54it/s]\u001b[A\n",
      "100%|█████████████████████████████████████| 1000/1000 [00:00<00:00, 2549.64it/s]\u001b[A\n"
     ]
    },
    {
     "name": "stdout",
     "output_type": "stream",
     "text": [
      "Albanian_alba1267.csv\n"
     ]
    },
    {
     "name": "stderr",
     "output_type": "stream",
     "text": [
      "\n",
      "  0%|                                                  | 0/1000 [00:00<?, ?it/s]\u001b[A\n",
      " 25%|█████████▋                            | 254/1000 [00:00<00:00, 2531.21it/s]\u001b[A\n",
      " 51%|███████████████████▎                  | 508/1000 [00:00<00:00, 2518.50it/s]\u001b[A\n",
      "100%|█████████████████████████████████████| 1000/1000 [00:00<00:00, 2441.86it/s]\u001b[A\n"
     ]
    },
    {
     "name": "stdout",
     "output_type": "stream",
     "text": [
      "Old_English_ca_450_1100__olde1238.csv\n"
     ]
    },
    {
     "name": "stderr",
     "output_type": "stream",
     "text": [
      "\n",
      "  0%|                                                  | 0/1000 [00:00<?, ?it/s]\u001b[A\n",
      " 37%|██████████████▏                       | 373/1000 [00:00<00:00, 3726.20it/s]\u001b[A\n",
      "100%|█████████████████████████████████████| 1000/1000 [00:00<00:00, 3782.35it/s]\u001b[A\n"
     ]
    },
    {
     "name": "stdout",
     "output_type": "stream",
     "text": [
      "Middle_English_midd1317.csv\n"
     ]
    },
    {
     "name": "stderr",
     "output_type": "stream",
     "text": [
      "\n",
      "  0%|                                                  | 0/1000 [00:00<?, ?it/s]\u001b[A\n",
      "100%|█████████████████████████████████████| 1000/1000 [00:00<00:00, 4966.18it/s]\u001b[A\n"
     ]
    },
    {
     "name": "stdout",
     "output_type": "stream",
     "text": [
      "Mahasu_Pahari_maha1287.csv\n"
     ]
    },
    {
     "name": "stderr",
     "output_type": "stream",
     "text": [
      "\n",
      "  0%|                                                  | 0/1000 [00:00<?, ?it/s]\u001b[A\n",
      "100%|█████████████████████████████████████| 1000/1000 [00:00<00:00, 6637.76it/s]\u001b[A\n"
     ]
    },
    {
     "name": "stdout",
     "output_type": "stream",
     "text": [
      "Kristang_(Malacca_Creole_Portugese)_mala1533.csv\n"
     ]
    },
    {
     "name": "stderr",
     "output_type": "stream",
     "text": [
      "\n",
      "  0%|                                                  | 0/1000 [00:00<?, ?it/s]\u001b[A\n",
      " 31%|███████████▋                          | 307/1000 [00:00<00:00, 3063.17it/s]\u001b[A\n",
      " 61%|███████████████████████▎              | 614/1000 [00:00<00:00, 3057.16it/s]\u001b[A\n",
      "100%|█████████████████████████████████████| 1000/1000 [00:00<00:00, 3024.12it/s]\u001b[A\n"
     ]
    },
    {
     "name": "stdout",
     "output_type": "stream",
     "text": [
      "Ossetic_osse1245.csv\n"
     ]
    },
    {
     "name": "stderr",
     "output_type": "stream",
     "text": [
      "\n",
      "100%|█████████████████████████████████████| 1000/1000 [00:00<00:00, 9968.31it/s]\u001b[A\n"
     ]
    },
    {
     "name": "stdout",
     "output_type": "stream",
     "text": [
      "Jamaican_Creole_jama1262.csv\n"
     ]
    },
    {
     "name": "stderr",
     "output_type": "stream",
     "text": [
      "\n",
      "  0%|                                                  | 0/1000 [00:00<?, ?it/s]\u001b[A\n",
      " 27%|██████████▏                           | 268/1000 [00:00<00:00, 2677.30it/s]\u001b[A\n",
      " 56%|█████████████████████▏                | 556/1000 [00:00<00:00, 2793.05it/s]\u001b[A\n",
      "100%|█████████████████████████████████████| 1000/1000 [00:00<00:00, 2762.50it/s]\u001b[A\n"
     ]
    },
    {
     "name": "stdout",
     "output_type": "stream",
     "text": [
      "Saterfriesisch_sate1242.csv\n"
     ]
    },
    {
     "name": "stderr",
     "output_type": "stream",
     "text": [
      "\n",
      "  0%|                                                  | 0/1000 [00:00<?, ?it/s]\u001b[A\n",
      " 21%|███████▉                              | 209/1000 [00:00<00:00, 2081.09it/s]\u001b[A\n",
      " 48%|██████████████████▍                   | 485/1000 [00:00<00:00, 2475.40it/s]\u001b[A\n",
      "100%|█████████████████████████████████████| 1000/1000 [00:00<00:00, 2454.20it/s]\u001b[A\n"
     ]
    },
    {
     "name": "stdout",
     "output_type": "stream",
     "text": [
      "Cornish_corn1251.csv\n"
     ]
    },
    {
     "name": "stderr",
     "output_type": "stream",
     "text": [
      "\n",
      "  0%|                                                  | 0/1000 [00:00<?, ?it/s]\u001b[A\n",
      " 48%|██████████████████▏                   | 477/1000 [00:00<00:00, 4765.80it/s]\u001b[A\n",
      "100%|█████████████████████████████████████| 1000/1000 [00:00<00:00, 4338.08it/s]\u001b[A\n"
     ]
    },
    {
     "name": "stdout",
     "output_type": "stream",
     "text": [
      "Pashto_pash1269.csv\n"
     ]
    },
    {
     "name": "stderr",
     "output_type": "stream",
     "text": [
      "\n",
      "  0%|                                                  | 0/1000 [00:00<?, ?it/s]\u001b[A\n",
      " 26%|█████████▊                            | 258/1000 [00:00<00:00, 2579.89it/s]\u001b[A\n",
      " 52%|███████████████████▌                  | 516/1000 [00:00<00:00, 2515.96it/s]\u001b[A\n",
      "100%|█████████████████████████████████████| 1000/1000 [00:00<00:00, 2324.23it/s]\u001b[A\n"
     ]
    },
    {
     "name": "stdout",
     "output_type": "stream",
     "text": [
      "Italian_ital1282.csv\n"
     ]
    },
    {
     "name": "stderr",
     "output_type": "stream",
     "text": [
      "\n",
      "  0%|                                                  | 0/1000 [00:00<?, ?it/s]\u001b[A\n",
      " 27%|██████████                            | 266/1000 [00:00<00:00, 2653.95it/s]\u001b[A\n",
      " 54%|████████████████████▌                 | 541/1000 [00:00<00:00, 2709.78it/s]\u001b[A\n",
      "100%|█████████████████████████████████████| 1000/1000 [00:00<00:00, 2684.36it/s]\u001b[A\n"
     ]
    },
    {
     "name": "stdout",
     "output_type": "stream",
     "text": [
      "Oriya_oriy1255.csv\n"
     ]
    },
    {
     "name": "stderr",
     "output_type": "stream",
     "text": [
      "\n",
      "  0%|                                                  | 0/1000 [00:00<?, ?it/s]\u001b[A\n",
      " 27%|██████████▎                           | 272/1000 [00:00<00:00, 2712.57it/s]\u001b[A\n",
      " 54%|████████████████████▋                 | 544/1000 [00:00<00:00, 2705.25it/s]\u001b[A\n",
      "100%|█████████████████████████████████████| 1000/1000 [00:00<00:00, 2689.68it/s]\u001b[A\n"
     ]
    },
    {
     "name": "stdout",
     "output_type": "stream",
     "text": [
      "Sindhi_sind1272.csv\n"
     ]
    },
    {
     "name": "stderr",
     "output_type": "stream",
     "text": [
      "\n",
      "  0%|                                                  | 0/1000 [00:00<?, ?it/s]\u001b[A\n",
      " 26%|██████████                            | 265/1000 [00:00<00:00, 2642.60it/s]\u001b[A\n",
      " 54%|████████████████████▍                 | 537/1000 [00:00<00:00, 2684.36it/s]\u001b[A\n",
      "100%|█████████████████████████████████████| 1000/1000 [00:00<00:00, 2704.86it/s]\u001b[A\n"
     ]
    },
    {
     "name": "stdout",
     "output_type": "stream",
     "text": [
      "Breton_bret1244.csv\n"
     ]
    },
    {
     "name": "stderr",
     "output_type": "stream",
     "text": [
      "\n",
      "  0%|                                                  | 0/1000 [00:00<?, ?it/s]\u001b[A\n",
      " 26%|█████████▊                            | 258/1000 [00:00<00:00, 2576.73it/s]\u001b[A\n",
      " 53%|███████████████████▉                  | 526/1000 [00:00<00:00, 2633.39it/s]\u001b[A\n",
      "100%|█████████████████████████████████████| 1000/1000 [00:00<00:00, 2517.34it/s]\u001b[A\n"
     ]
    },
    {
     "name": "stdout",
     "output_type": "stream",
     "text": [
      "Old_Irish_oldi1245.csv\n"
     ]
    },
    {
     "name": "stderr",
     "output_type": "stream",
     "text": [
      "\n",
      "  0%|                                                  | 0/1000 [00:00<?, ?it/s]\u001b[A\n",
      " 43%|████████████████▍                     | 431/1000 [00:00<00:00, 4302.00it/s]\u001b[A\n",
      "100%|█████████████████████████████████████| 1000/1000 [00:00<00:00, 4275.84it/s]\u001b[A\n"
     ]
    },
    {
     "name": "stdout",
     "output_type": "stream",
     "text": [
      "Central_Kurdish_cent1972.csv\n"
     ]
    },
    {
     "name": "stderr",
     "output_type": "stream",
     "text": [
      "\n",
      "  0%|                                                  | 0/1000 [00:00<?, ?it/s]\u001b[A\n",
      " 23%|████████▉                             | 234/1000 [00:00<00:00, 2334.99it/s]\u001b[A\n",
      " 47%|█████████████████▊                    | 468/1000 [00:00<00:00, 1966.74it/s]\u001b[A\n",
      " 70%|██████████████████████████▊           | 704/1000 [00:00<00:00, 2127.12it/s]\u001b[A\n",
      "100%|█████████████████████████████████████| 1000/1000 [00:00<00:00, 2260.35it/s]\u001b[A\n"
     ]
    },
    {
     "name": "stdout",
     "output_type": "stream",
     "text": [
      "Tokharian_A_tokh1242.csv\n"
     ]
    },
    {
     "name": "stderr",
     "output_type": "stream",
     "text": [
      "\n",
      "100%|████████████████████████████████████| 1000/1000 [00:00<00:00, 11370.96it/s]\u001b[A\n"
     ]
    },
    {
     "name": "stdout",
     "output_type": "stream",
     "text": [
      "Old_Welsh_oldw1239.csv\n"
     ]
    },
    {
     "name": "stderr",
     "output_type": "stream",
     "text": [
      "\n",
      "  0%|                                                  | 0/1000 [00:00<?, ?it/s]\u001b[A\n",
      "100%|█████████████████████████████████████| 1000/1000 [00:00<00:00, 7534.20it/s]\u001b[A\n"
     ]
    },
    {
     "name": "stdout",
     "output_type": "stream",
     "text": [
      "Russian_russ1263.csv\n"
     ]
    },
    {
     "name": "stderr",
     "output_type": "stream",
     "text": [
      "\n",
      "  0%|                                                  | 0/1000 [00:00<?, ?it/s]\u001b[A\n",
      " 26%|█████████▋                            | 255/1000 [00:00<00:00, 2542.42it/s]\u001b[A\n",
      " 51%|███████████████████▍                  | 513/1000 [00:00<00:00, 2562.74it/s]\u001b[A\n",
      "100%|█████████████████████████████████████| 1000/1000 [00:00<00:00, 2583.04it/s]\u001b[A\n"
     ]
    },
    {
     "name": "stdout",
     "output_type": "stream",
     "text": [
      "Old_Prussian_prus1238.csv\n"
     ]
    },
    {
     "name": "stderr",
     "output_type": "stream",
     "text": [
      "\n",
      "  0%|                                                  | 0/1000 [00:00<?, ?it/s]\u001b[A\n",
      "100%|█████████████████████████████████████| 1000/1000 [00:00<00:00, 8065.61it/s]\u001b[A\n"
     ]
    },
    {
     "name": "stdout",
     "output_type": "stream",
     "text": [
      "Wallon_wall1255.csv\n"
     ]
    },
    {
     "name": "stderr",
     "output_type": "stream",
     "text": [
      "\n",
      "  0%|                                                  | 0/1000 [00:00<?, ?it/s]\u001b[A\n",
      " 32%|████████████                          | 316/1000 [00:00<00:00, 3157.98it/s]\u001b[A\n",
      " 63%|████████████████████████              | 632/1000 [00:00<00:00, 3136.24it/s]\u001b[A\n",
      "100%|█████████████████████████████████████| 1000/1000 [00:00<00:00, 3035.53it/s]\u001b[A\n"
     ]
    },
    {
     "name": "stdout",
     "output_type": "stream",
     "text": [
      "Kumaoni_kuma1273.csv\n"
     ]
    },
    {
     "name": "stderr",
     "output_type": "stream",
     "text": [
      "\n",
      "  0%|                                                  | 0/1000 [00:00<?, ?it/s]\u001b[A\n",
      " 13%|████▉                                 | 129/1000 [00:00<00:00, 1278.36it/s]\u001b[A\n",
      " 26%|█████████▉                            | 261/1000 [00:00<00:00, 1301.33it/s]\u001b[A\n",
      " 41%|███████████████▍                      | 406/1000 [00:00<00:00, 1365.95it/s]\u001b[A\n",
      " 55%|████████████████████▊                 | 548/1000 [00:00<00:00, 1387.00it/s]\u001b[A\n",
      " 69%|██████████████████████████▏           | 688/1000 [00:00<00:00, 1389.83it/s]\u001b[A\n",
      " 84%|███████████████████████████████▋      | 835/1000 [00:00<00:00, 1415.13it/s]\u001b[A\n",
      "100%|█████████████████████████████████████| 1000/1000 [00:00<00:00, 1349.10it/s]\u001b[A\n"
     ]
    },
    {
     "name": "stdout",
     "output_type": "stream",
     "text": [
      "Russian_russ1263a.csv\n"
     ]
    },
    {
     "name": "stderr",
     "output_type": "stream",
     "text": [
      "\n",
      "  0%|                                                  | 0/1000 [00:00<?, ?it/s]\u001b[A\n",
      " 27%|██████████▏                           | 267/1000 [00:00<00:00, 2662.02it/s]\u001b[A\n",
      " 56%|█████████████████████▎                | 561/1000 [00:00<00:00, 2821.87it/s]\u001b[A\n",
      "100%|█████████████████████████████████████| 1000/1000 [00:00<00:00, 2792.85it/s]\u001b[A\n"
     ]
    },
    {
     "name": "stdout",
     "output_type": "stream",
     "text": [
      "Dutch_dutc1256.csv\n"
     ]
    },
    {
     "name": "stderr",
     "output_type": "stream",
     "text": [
      "\n",
      "  0%|                                                  | 0/1000 [00:00<?, ?it/s]\u001b[A\n",
      " 26%|██████████                            | 264/1000 [00:00<00:00, 2636.47it/s]\u001b[A\n",
      " 54%|████████████████████▎                 | 535/1000 [00:00<00:00, 2678.08it/s]\u001b[A\n",
      "100%|█████████████████████████████████████| 1000/1000 [00:00<00:00, 2637.33it/s]\u001b[A\n"
     ]
    },
    {
     "name": "stdout",
     "output_type": "stream",
     "text": [
      "Lahnda_lahn1241.csv\n"
     ]
    },
    {
     "name": "stderr",
     "output_type": "stream",
     "text": [
      "\n",
      "  0%|                                                  | 0/1000 [00:00<?, ?it/s]\u001b[A\n",
      " 30%|███████████▎                          | 297/1000 [00:00<00:00, 2964.72it/s]\u001b[A\n",
      " 59%|██████████████████████▌               | 594/1000 [00:00<00:00, 1557.57it/s]\u001b[A\n",
      "100%|█████████████████████████████████████| 1000/1000 [00:00<00:00, 1850.22it/s]\u001b[A\n"
     ]
    },
    {
     "name": "stdout",
     "output_type": "stream",
     "text": [
      "Latin_lati1261.csv\n"
     ]
    },
    {
     "name": "stderr",
     "output_type": "stream",
     "text": [
      "\n",
      "  0%|                                                  | 0/1000 [00:00<?, ?it/s]\u001b[A\n",
      " 25%|█████████▍                            | 248/1000 [00:00<00:00, 2479.30it/s]\u001b[A\n",
      " 52%|███████████████████▉                  | 524/1000 [00:00<00:00, 2642.88it/s]\u001b[A\n",
      "100%|█████████████████████████████████████| 1000/1000 [00:00<00:00, 2681.54it/s]\u001b[A\n"
     ]
    },
    {
     "name": "stdout",
     "output_type": "stream",
     "text": [
      "Dari_dari1249.csv\n"
     ]
    },
    {
     "name": "stderr",
     "output_type": "stream",
     "text": [
      "\n",
      "  0%|                                                  | 0/1000 [00:00<?, ?it/s]\u001b[A\n",
      " 25%|█████████▌                            | 253/1000 [00:00<00:00, 2529.54it/s]\u001b[A\n",
      " 51%|███████████████████▏                  | 506/1000 [00:00<00:00, 2524.65it/s]\u001b[A\n",
      "100%|█████████████████████████████████████| 1000/1000 [00:00<00:00, 2550.85it/s]\u001b[A\n"
     ]
    },
    {
     "name": "stdout",
     "output_type": "stream",
     "text": [
      "Lithuanian_lith1251.csv\n"
     ]
    },
    {
     "name": "stderr",
     "output_type": "stream",
     "text": [
      "\n",
      "  0%|                                                  | 0/1000 [00:00<?, ?it/s]\u001b[A\n",
      " 27%|██████████▎                           | 272/1000 [00:00<00:00, 2716.22it/s]\u001b[A\n",
      " 54%|████████████████████▋                 | 544/1000 [00:00<00:00, 2660.61it/s]\u001b[A\n",
      "100%|█████████████████████████████████████| 1000/1000 [00:00<00:00, 2629.83it/s]\u001b[A\n"
     ]
    },
    {
     "name": "stdout",
     "output_type": "stream",
     "text": [
      "Northern_Kurdish_nort2641.csv\n"
     ]
    },
    {
     "name": "stderr",
     "output_type": "stream",
     "text": [
      "\n",
      "  0%|                                                  | 0/1000 [00:00<?, ?it/s]\u001b[A\n",
      " 26%|██████████                            | 265/1000 [00:00<00:00, 2641.02it/s]\u001b[A\n",
      " 53%|████████████████████▏                 | 530/1000 [00:00<00:00, 2619.06it/s]\u001b[A\n",
      "100%|█████████████████████████████████████| 1000/1000 [00:00<00:00, 2619.98it/s]\u001b[A\n"
     ]
    },
    {
     "name": "stdout",
     "output_type": "stream",
     "text": [
      "Boers_afri1274.csv\n"
     ]
    },
    {
     "name": "stderr",
     "output_type": "stream",
     "text": [
      "\n",
      "  0%|                                                  | 0/1000 [00:00<?, ?it/s]\u001b[A\n",
      " 29%|██████████▉                           | 287/1000 [00:00<00:00, 2869.20it/s]\u001b[A\n",
      " 57%|█████████████████████▊                | 574/1000 [00:00<00:00, 2801.19it/s]\u001b[A\n",
      "100%|█████████████████████████████████████| 1000/1000 [00:00<00:00, 2652.94it/s]\u001b[A\n"
     ]
    },
    {
     "name": "stdout",
     "output_type": "stream",
     "text": [
      "Slovenian_slov1268.csv\n"
     ]
    },
    {
     "name": "stderr",
     "output_type": "stream",
     "text": [
      "\n",
      "  0%|                                                  | 0/1000 [00:00<?, ?it/s]\u001b[A\n",
      " 28%|██████████▍                           | 276/1000 [00:00<00:00, 2755.43it/s]\u001b[A\n",
      " 55%|████████████████████▉                 | 552/1000 [00:00<00:00, 2461.17it/s]\u001b[A\n",
      "100%|█████████████████████████████████████| 1000/1000 [00:00<00:00, 2584.57it/s]\u001b[A\n"
     ]
    },
    {
     "name": "stdout",
     "output_type": "stream",
     "text": [
      "Gothic_goth1244.csv\n"
     ]
    },
    {
     "name": "stderr",
     "output_type": "stream",
     "text": [
      "\n",
      "  0%|                                                  | 0/1000 [00:00<?, ?it/s]\u001b[A\n",
      " 44%|████████████████▌                     | 435/1000 [00:00<00:00, 4345.83it/s]\u001b[A\n",
      "100%|█████████████████████████████████████| 1000/1000 [00:00<00:00, 4331.41it/s]\u001b[A\n"
     ]
    },
    {
     "name": "stdout",
     "output_type": "stream",
     "text": [
      "Modern_Greek_mode1248.csv\n"
     ]
    },
    {
     "name": "stderr",
     "output_type": "stream",
     "text": [
      "\n",
      "  0%|                                                  | 0/1000 [00:00<?, ?it/s]\u001b[A\n",
      " 27%|██████████▏                           | 269/1000 [00:00<00:00, 2686.80it/s]\u001b[A\n",
      " 54%|████████████████████▍                 | 538/1000 [00:00<00:00, 2354.86it/s]\u001b[A\n",
      "100%|█████████████████████████████████████| 1000/1000 [00:00<00:00, 2372.16it/s]\u001b[A\n"
     ]
    },
    {
     "name": "stdout",
     "output_type": "stream",
     "text": [
      "Vlax_Romani_vlax1238.csv\n"
     ]
    },
    {
     "name": "stderr",
     "output_type": "stream",
     "text": [
      "\n",
      "  0%|                                                  | 0/1000 [00:00<?, ?it/s]\u001b[A\n",
      " 28%|██████████▊                           | 285/1000 [00:00<00:00, 2849.00it/s]\u001b[A\n",
      " 57%|█████████████████████▋                | 570/1000 [00:00<00:00, 2818.51it/s]\u001b[A\n",
      "100%|█████████████████████████████████████| 1000/1000 [00:00<00:00, 2764.87it/s]\u001b[A\n"
     ]
    },
    {
     "name": "stdout",
     "output_type": "stream",
     "text": [
      "Bulgarian_bulg1262.csv\n"
     ]
    },
    {
     "name": "stderr",
     "output_type": "stream",
     "text": [
      "\n",
      "  0%|                                                  | 0/1000 [00:00<?, ?it/s]\u001b[A\n",
      " 24%|█████████▏                            | 241/1000 [00:00<00:00, 2402.86it/s]\u001b[A\n",
      " 49%|██████████████████▊                   | 494/1000 [00:00<00:00, 2476.05it/s]\u001b[A\n",
      " 74%|████████████████████████████▏         | 742/1000 [00:00<00:00, 2348.53it/s]\u001b[A\n",
      "100%|█████████████████████████████████████| 1000/1000 [00:00<00:00, 2317.65it/s]\u001b[A\n"
     ]
    },
    {
     "name": "stdout",
     "output_type": "stream",
     "text": [
      "Sinhala_sinh1246.csv\n"
     ]
    },
    {
     "name": "stderr",
     "output_type": "stream",
     "text": [
      "\n",
      "  0%|                                                  | 0/1000 [00:00<?, ?it/s]\u001b[A\n",
      " 35%|█████████████▏                        | 348/1000 [00:00<00:00, 3479.27it/s]\u001b[A\n",
      "100%|█████████████████████████████████████| 1000/1000 [00:00<00:00, 3185.37it/s]\u001b[A\n"
     ]
    },
    {
     "name": "stdout",
     "output_type": "stream",
     "text": [
      "Danish_dani1285.csv\n"
     ]
    },
    {
     "name": "stderr",
     "output_type": "stream",
     "text": [
      "\n",
      "  0%|                                                  | 0/1000 [00:00<?, ?it/s]\u001b[A\n",
      " 28%|██████████▌                           | 279/1000 [00:00<00:00, 2789.24it/s]\u001b[A\n",
      " 56%|█████████████████████▏                | 558/1000 [00:00<00:00, 2732.07it/s]\u001b[A\n",
      "100%|█████████████████████████████████████| 1000/1000 [00:00<00:00, 2685.91it/s]\u001b[A\n"
     ]
    },
    {
     "name": "stdout",
     "output_type": "stream",
     "text": [
      "Hindi_hind1269.csv\n"
     ]
    },
    {
     "name": "stderr",
     "output_type": "stream",
     "text": [
      "\n",
      "  0%|                                                  | 0/1000 [00:00<?, ?it/s]\u001b[A\n",
      " 26%|██████████                            | 264/1000 [00:00<00:00, 2632.13it/s]\u001b[A\n",
      " 53%|████████████████████                  | 528/1000 [00:00<00:00, 2603.48it/s]\u001b[A\n",
      "100%|█████████████████████████████████████| 1000/1000 [00:00<00:00, 2547.22it/s]\u001b[A\n"
     ]
    },
    {
     "name": "stdout",
     "output_type": "stream",
     "text": [
      "Ukrainian_ukra1253.csv\n"
     ]
    },
    {
     "name": "stderr",
     "output_type": "stream",
     "text": [
      "\n",
      "  0%|                                                  | 0/1000 [00:00<?, ?it/s]\u001b[A\n",
      " 30%|███████████▍                          | 302/1000 [00:00<00:00, 3015.92it/s]\u001b[A\n",
      " 60%|██████████████████████▉               | 604/1000 [00:00<00:00, 2968.85it/s]\u001b[A\n",
      "100%|█████████████████████████████████████| 1000/1000 [00:00<00:00, 2925.81it/s]\u001b[A\n"
     ]
    },
    {
     "name": "stdout",
     "output_type": "stream",
     "text": [
      "Gujarati_guja1252.csv\n"
     ]
    },
    {
     "name": "stderr",
     "output_type": "stream",
     "text": [
      "\n",
      "  0%|                                                  | 0/1000 [00:00<?, ?it/s]\u001b[A\n",
      " 26%|█████████▊                            | 258/1000 [00:00<00:00, 2574.52it/s]\u001b[A\n",
      " 52%|███████████████████▋                  | 519/1000 [00:00<00:00, 2594.83it/s]\u001b[A\n",
      "100%|█████████████████████████████████████| 1000/1000 [00:00<00:00, 2576.51it/s]\u001b[A\n"
     ]
    },
    {
     "name": "stdout",
     "output_type": "stream",
     "text": [
      "Western_Panjabi_west2386.csv\n"
     ]
    },
    {
     "name": "stderr",
     "output_type": "stream",
     "text": [
      "\n",
      "  0%|                                                  | 0/1000 [00:00<?, ?it/s]\u001b[A\n",
      " 29%|██████████▉                           | 288/1000 [00:00<00:00, 2873.45it/s]\u001b[A\n",
      " 58%|██████████████████████                | 579/1000 [00:00<00:00, 2892.45it/s]\u001b[A\n",
      "100%|█████████████████████████████████████| 1000/1000 [00:00<00:00, 2869.45it/s]\u001b[A\n"
     ]
    },
    {
     "name": "stdout",
     "output_type": "stream",
     "text": [
      "Romanian_roma1327.csv\n"
     ]
    },
    {
     "name": "stderr",
     "output_type": "stream",
     "text": [
      "\n",
      "  0%|                                                  | 0/1000 [00:00<?, ?it/s]\u001b[A\n",
      " 28%|██████████▌                           | 278/1000 [00:00<00:00, 2768.81it/s]\u001b[A\n",
      " 56%|█████████████████████                 | 555/1000 [00:00<00:00, 2652.48it/s]\u001b[A\n",
      "100%|█████████████████████████████████████| 1000/1000 [00:00<00:00, 2689.39it/s]\u001b[A\n"
     ]
    },
    {
     "name": "stdout",
     "output_type": "stream",
     "text": [
      "Armenian_nucl1235.csv\n"
     ]
    },
    {
     "name": "stderr",
     "output_type": "stream",
     "text": [
      "\n",
      "  0%|                                                  | 0/1000 [00:00<?, ?it/s]\u001b[A\n",
      " 17%|██████▍                               | 170/1000 [00:00<00:00, 1690.48it/s]\u001b[A\n",
      " 35%|█████████████▏                        | 348/1000 [00:00<00:00, 1739.87it/s]\u001b[A\n",
      " 60%|██████████████████████▊               | 600/1000 [00:00<00:00, 2093.55it/s]\u001b[A\n",
      "100%|█████████████████████████████████████| 1000/1000 [00:00<00:00, 2166.94it/s]\u001b[A\n"
     ]
    },
    {
     "name": "stdout",
     "output_type": "stream",
     "text": [
      "Standard_French_stan1290.csv\n"
     ]
    },
    {
     "name": "stderr",
     "output_type": "stream",
     "text": [
      "\n",
      "  0%|                                                  | 0/1000 [00:00<?, ?it/s]\u001b[A\n",
      " 20%|███████▊                              | 205/1000 [00:00<00:00, 2045.83it/s]\u001b[A\n",
      " 44%|████████████████▊                     | 443/1000 [00:00<00:00, 2234.25it/s]\u001b[A\n",
      " 70%|██████████████████████████▊           | 705/1000 [00:00<00:00, 2407.17it/s]\u001b[A\n",
      "100%|█████████████████████████████████████| 1000/1000 [00:00<00:00, 2376.66it/s]\u001b[A\n"
     ]
    },
    {
     "name": "stdout",
     "output_type": "stream",
     "text": [
      "Torres_Strait_Creole_(Broken)_torr1261.csv\n"
     ]
    },
    {
     "name": "stderr",
     "output_type": "stream",
     "text": [
      "\n",
      "  0%|                                                  | 0/1000 [00:00<?, ?it/s]\u001b[A\n",
      " 30%|███████████▎                          | 299/1000 [00:00<00:00, 2988.54it/s]\u001b[A\n",
      " 61%|███████████████████████               | 607/1000 [00:00<00:00, 3041.96it/s]\u001b[A\n",
      "100%|█████████████████████████████████████| 1000/1000 [00:00<00:00, 2927.89it/s]\u001b[A\n"
     ]
    },
    {
     "name": "stdout",
     "output_type": "stream",
     "text": [
      "Norwegian_Bokmål_norw1259.csv\n"
     ]
    },
    {
     "name": "stderr",
     "output_type": "stream",
     "text": [
      "\n",
      "  0%|                                                  | 0/1000 [00:00<?, ?it/s]\u001b[A\n",
      " 30%|███████████▎                          | 299/1000 [00:00<00:00, 2989.05it/s]\u001b[A\n",
      " 60%|██████████████████████▋               | 598/1000 [00:00<00:00, 2982.98it/s]\u001b[A\n",
      "100%|█████████████████████████████████████| 1000/1000 [00:00<00:00, 2938.23it/s]\u001b[A\n"
     ]
    },
    {
     "name": "stdout",
     "output_type": "stream",
     "text": [
      "Avestan_aves1237.csv\n"
     ]
    },
    {
     "name": "stderr",
     "output_type": "stream",
     "text": [
      "\n",
      "  0%|                                                  | 0/1000 [00:00<?, ?it/s]\u001b[A\n",
      " 26%|██████████                            | 264/1000 [00:00<00:00, 2635.51it/s]\u001b[A\n",
      " 59%|██████████████████████▎               | 588/1000 [00:00<00:00, 2988.06it/s]\u001b[A\n",
      "100%|█████████████████████████████████████| 1000/1000 [00:00<00:00, 3122.65it/s]\u001b[A\n",
      " 43%|██████████████████▊                         | 9/21 [03:22<05:24, 27.01s/it]"
     ]
    },
    {
     "name": "stdout",
     "output_type": "stream",
     "text": [
      "Morgan1871_Hindi_hind1269.csv\n",
      "Morgan1871_Bengâli_beng1280.csv\n",
      "Morgan1871_Gujarati_guja1252.csv\n",
      "Morgan1871_Marâthî_mara1378.csv\n",
      "Godoberi_ghod1238.csv\n"
     ]
    },
    {
     "name": "stderr",
     "output_type": "stream",
     "text": [
      "\n",
      "  0%|                                                  | 0/1000 [00:00<?, ?it/s]\u001b[A\n",
      " 28%|██████████▌                           | 278/1000 [00:00<00:00, 2779.44it/s]\u001b[A\n",
      " 56%|█████████████████████▏                | 559/1000 [00:00<00:00, 2791.99it/s]\u001b[A\n",
      "100%|█████████████████████████████████████| 1000/1000 [00:00<00:00, 2706.32it/s]\u001b[A\n"
     ]
    },
    {
     "name": "stdout",
     "output_type": "stream",
     "text": [
      "Hinuq_hinu1240.csv\n"
     ]
    },
    {
     "name": "stderr",
     "output_type": "stream",
     "text": [
      "\n",
      "  0%|                                                  | 0/1000 [00:00<?, ?it/s]\u001b[A\n",
      " 27%|██████████▎                           | 270/1000 [00:00<00:00, 2691.28it/s]\u001b[A\n",
      " 55%|████████████████████▉                 | 550/1000 [00:00<00:00, 2750.59it/s]\u001b[A\n",
      "100%|█████████████████████████████████████| 1000/1000 [00:00<00:00, 2681.58it/s]\u001b[A\n"
     ]
    },
    {
     "name": "stdout",
     "output_type": "stream",
     "text": [
      "Archi_arch1244.csv\n"
     ]
    },
    {
     "name": "stderr",
     "output_type": "stream",
     "text": [
      "\n",
      "  0%|                                                  | 0/1000 [00:00<?, ?it/s]\u001b[A\n",
      " 28%|██████████▌                           | 279/1000 [00:00<00:00, 2788.17it/s]\u001b[A\n",
      " 56%|█████████████████████▏                | 559/1000 [00:00<00:00, 2793.84it/s]\u001b[A\n",
      "100%|█████████████████████████████████████| 1000/1000 [00:00<00:00, 2774.16it/s]\u001b[A\n"
     ]
    },
    {
     "name": "stdout",
     "output_type": "stream",
     "text": [
      "Aghul_aghu1253.csv\n"
     ]
    },
    {
     "name": "stderr",
     "output_type": "stream",
     "text": [
      "\n",
      "  0%|                                                  | 0/1000 [00:00<?, ?it/s]\u001b[A\n",
      " 28%|██████████▋                           | 280/1000 [00:00<00:00, 2794.11it/s]\u001b[A\n",
      " 56%|█████████████████████▍                | 565/1000 [00:00<00:00, 2824.22it/s]\u001b[A\n",
      "100%|█████████████████████████████████████| 1000/1000 [00:00<00:00, 2780.20it/s]\u001b[A\n"
     ]
    },
    {
     "name": "stdout",
     "output_type": "stream",
     "text": [
      "Dargwa_Chirag__chir1284.csv\n"
     ]
    },
    {
     "name": "stderr",
     "output_type": "stream",
     "text": [
      "\n",
      "  0%|                                                  | 0/1000 [00:00<?, ?it/s]\u001b[A\n",
      " 28%|██████████▌                           | 277/1000 [00:00<00:00, 2769.67it/s]\u001b[A\n",
      " 56%|█████████████████████                 | 555/1000 [00:00<00:00, 2772.71it/s]\u001b[A\n",
      "100%|█████████████████████████████████████| 1000/1000 [00:00<00:00, 2582.62it/s]\u001b[A\n"
     ]
    },
    {
     "name": "stdout",
     "output_type": "stream",
     "text": [
      "Bats_Tsova_Tush__bats1242.csv\n"
     ]
    },
    {
     "name": "stderr",
     "output_type": "stream",
     "text": [
      "\n",
      "  0%|                                                  | 0/1000 [00:00<?, ?it/s]\u001b[A\n",
      " 29%|██████████▉                           | 289/1000 [00:00<00:00, 2881.31it/s]\u001b[A\n",
      " 58%|█████████████████████▉                | 578/1000 [00:00<00:00, 2814.84it/s]\u001b[A\n",
      "100%|█████████████████████████████████████| 1000/1000 [00:00<00:00, 2824.36it/s]\u001b[A\n"
     ]
    },
    {
     "name": "stdout",
     "output_type": "stream",
     "text": [
      "Avar_avar1256.csv\n"
     ]
    },
    {
     "name": "stderr",
     "output_type": "stream",
     "text": [
      "\n",
      "  0%|                                                  | 0/1000 [00:00<?, ?it/s]\u001b[A\n",
      " 26%|██████████                            | 264/1000 [00:00<00:00, 2635.37it/s]\u001b[A\n",
      " 53%|████████████████████▏                 | 532/1000 [00:00<00:00, 2658.50it/s]\u001b[A\n",
      "100%|█████████████████████████████████████| 1000/1000 [00:00<00:00, 2693.07it/s]\u001b[A\n"
     ]
    },
    {
     "name": "stdout",
     "output_type": "stream",
     "text": [
      "Avaz_Khunzakh__kunz1243.csv\n"
     ]
    },
    {
     "name": "stderr",
     "output_type": "stream",
     "text": [
      "\n",
      "  0%|                                                  | 0/1000 [00:00<?, ?it/s]\u001b[A\n",
      " 28%|██████████▊                           | 284/1000 [00:00<00:00, 2833.22it/s]\u001b[A\n",
      " 57%|█████████████████████▌                | 568/1000 [00:00<00:00, 2445.12it/s]\u001b[A\n",
      "100%|█████████████████████████████████████| 1000/1000 [00:00<00:00, 2538.33it/s]\u001b[A\n"
     ]
    },
    {
     "name": "stdout",
     "output_type": "stream",
     "text": [
      "Dargwa_Itsari__itsa1239.csv\n"
     ]
    },
    {
     "name": "stderr",
     "output_type": "stream",
     "text": [
      "\n",
      "  0%|                                                  | 0/1000 [00:00<?, ?it/s]\u001b[A\n",
      " 27%|██████████▏                           | 268/1000 [00:00<00:00, 2675.99it/s]\u001b[A\n",
      " 54%|████████████████████▎                 | 536/1000 [00:00<00:00, 2674.21it/s]\u001b[A\n",
      "100%|█████████████████████████████████████| 1000/1000 [00:00<00:00, 2593.13it/s]\u001b[A\n"
     ]
    },
    {
     "name": "stdout",
     "output_type": "stream",
     "text": [
      "Chamalal_Gigatli__giga1238.csv\n"
     ]
    },
    {
     "name": "stderr",
     "output_type": "stream",
     "text": [
      "\n",
      "  0%|                                                  | 0/1000 [00:00<?, ?it/s]\u001b[A\n",
      " 28%|██████████▋                           | 280/1000 [00:00<00:00, 2796.89it/s]\u001b[A\n",
      " 56%|█████████████████████▎                | 560/1000 [00:00<00:00, 2744.79it/s]\u001b[A\n",
      "100%|█████████████████████████████████████| 1000/1000 [00:00<00:00, 2721.02it/s]\u001b[A\n"
     ]
    },
    {
     "name": "stdout",
     "output_type": "stream",
     "text": [
      "Avar_Batlux__batl1238.csv\n"
     ]
    },
    {
     "name": "stderr",
     "output_type": "stream",
     "text": [
      "\n",
      "  0%|                                                  | 0/1000 [00:00<?, ?it/s]\u001b[A\n",
      " 14%|█████▎                                | 141/1000 [00:00<00:00, 1409.37it/s]\u001b[A\n",
      " 41%|███████████████▍                      | 407/1000 [00:00<00:00, 2144.08it/s]\u001b[A\n",
      " 68%|██████████████████████████            | 685/1000 [00:00<00:00, 2431.72it/s]\u001b[A\n",
      "100%|█████████████████████████████████████| 1000/1000 [00:00<00:00, 2395.16it/s]\u001b[A\n"
     ]
    },
    {
     "name": "stdout",
     "output_type": "stream",
     "text": [
      "Bahvalal_bagv1239.csv\n"
     ]
    },
    {
     "name": "stderr",
     "output_type": "stream",
     "text": [
      "\n",
      "  0%|                                                  | 0/1000 [00:00<?, ?it/s]\u001b[A\n",
      " 26%|██████████                            | 265/1000 [00:00<00:00, 2649.02it/s]\u001b[A\n",
      " 54%|████████████████████▌                 | 540/1000 [00:00<00:00, 2706.61it/s]\u001b[A\n",
      "100%|█████████████████████████████████████| 1000/1000 [00:00<00:00, 2709.78it/s]\u001b[A\n"
     ]
    },
    {
     "name": "stdout",
     "output_type": "stream",
     "text": [
      "Akhvakh_Northern_Akhvakh__akhv1239.csv\n"
     ]
    },
    {
     "name": "stderr",
     "output_type": "stream",
     "text": [
      "\n",
      "  0%|                                                  | 0/1000 [00:00<?, ?it/s]\u001b[A\n",
      " 27%|██████████▎                           | 272/1000 [00:00<00:00, 2711.08it/s]\u001b[A\n",
      " 54%|████████████████████▋                 | 544/1000 [00:00<00:00, 2583.13it/s]\u001b[A\n",
      "100%|█████████████████████████████████████| 1000/1000 [00:00<00:00, 2526.34it/s]\u001b[A\n"
     ]
    },
    {
     "name": "stdout",
     "output_type": "stream",
     "text": [
      "Avar_Andalal__anda1281.csv\n"
     ]
    },
    {
     "name": "stderr",
     "output_type": "stream",
     "text": [
      "\n",
      "  0%|                                                  | 0/1000 [00:00<?, ?it/s]\u001b[A\n",
      " 28%|██████████▌                           | 277/1000 [00:00<00:00, 2765.35it/s]\u001b[A\n",
      " 55%|█████████████████████                 | 554/1000 [00:00<00:00, 2701.93it/s]\u001b[A\n",
      "100%|█████████████████████████████████████| 1000/1000 [00:00<00:00, 2541.70it/s]\u001b[A\n"
     ]
    },
    {
     "name": "stdout",
     "output_type": "stream",
     "text": [
      "Inxokvari_inxo1238.csv\n"
     ]
    },
    {
     "name": "stderr",
     "output_type": "stream",
     "text": [
      "\n",
      "  0%|                                                  | 0/1000 [00:00<?, ?it/s]\u001b[A\n",
      " 28%|██████████▌                           | 279/1000 [00:00<00:00, 2788.17it/s]\u001b[A\n",
      " 56%|█████████████████████▎                | 560/1000 [00:00<00:00, 2796.22it/s]\u001b[A\n",
      "100%|█████████████████████████████████████| 1000/1000 [00:00<00:00, 2757.68it/s]\u001b[A\n"
     ]
    },
    {
     "name": "stdout",
     "output_type": "stream",
     "text": [
      "Chamalal_cham1309.csv\n"
     ]
    },
    {
     "name": "stderr",
     "output_type": "stream",
     "text": [
      "\n",
      "  0%|                                                  | 0/1000 [00:00<?, ?it/s]\u001b[A\n",
      " 25%|█████████▋                            | 254/1000 [00:00<00:00, 2532.40it/s]\u001b[A\n",
      " 51%|███████████████████▎                  | 508/1000 [00:00<00:00, 2508.63it/s]\u001b[A\n",
      "100%|█████████████████████████████████████| 1000/1000 [00:00<00:00, 2604.51it/s]\u001b[A\n"
     ]
    },
    {
     "name": "stdout",
     "output_type": "stream",
     "text": [
      "Rutul_shin1265.csv\n"
     ]
    },
    {
     "name": "stderr",
     "output_type": "stream",
     "text": [
      "\n",
      "  0%|                                                  | 0/1000 [00:00<?, ?it/s]\u001b[A\n",
      " 26%|█████████▉                            | 263/1000 [00:00<00:00, 2626.22it/s]\u001b[A\n",
      " 54%|████████████████████▎                 | 536/1000 [00:00<00:00, 2685.67it/s]\u001b[A\n",
      "100%|█████████████████████████████████████| 1000/1000 [00:00<00:00, 2705.84it/s]\u001b[A\n"
     ]
    },
    {
     "name": "stdout",
     "output_type": "stream",
     "text": [
      "Hunzib_hunz1247.csv\n"
     ]
    },
    {
     "name": "stderr",
     "output_type": "stream",
     "text": [
      "\n",
      "  0%|                                                  | 0/1000 [00:00<?, ?it/s]\u001b[A\n",
      " 28%|██████████▊                           | 285/1000 [00:00<00:00, 2849.35it/s]\u001b[A\n",
      " 57%|█████████████████████▋                | 570/1000 [00:00<00:00, 2819.10it/s]\u001b[A\n",
      "100%|█████████████████████████████████████| 1000/1000 [00:00<00:00, 2517.86it/s]\u001b[A\n"
     ]
    },
    {
     "name": "stdout",
     "output_type": "stream",
     "text": [
      "Ingush_ingu1240.csv\n"
     ]
    },
    {
     "name": "stderr",
     "output_type": "stream",
     "text": [
      "\n",
      "  0%|                                                  | 0/1000 [00:00<?, ?it/s]\u001b[A\n",
      " 25%|█████████▍                            | 248/1000 [00:00<00:00, 2477.42it/s]\u001b[A\n",
      " 52%|███████████████████▋                  | 518/1000 [00:00<00:00, 2603.66it/s]\u001b[A\n",
      "100%|█████████████████████████████████████| 1000/1000 [00:00<00:00, 2582.04it/s]\u001b[A\n"
     ]
    },
    {
     "name": "stdout",
     "output_type": "stream",
     "text": [
      "Budukh_budu1248.csv\n"
     ]
    },
    {
     "name": "stderr",
     "output_type": "stream",
     "text": [
      "\n",
      "  0%|                                                  | 0/1000 [00:00<?, ?it/s]\u001b[A\n",
      " 28%|██████████▊                           | 283/1000 [00:00<00:00, 2824.64it/s]\u001b[A\n",
      " 57%|█████████████████████▌                | 566/1000 [00:00<00:00, 2803.94it/s]\u001b[A\n",
      "100%|█████████████████████████████████████| 1000/1000 [00:00<00:00, 2765.62it/s]\u001b[A\n"
     ]
    },
    {
     "name": "stdout",
     "output_type": "stream",
     "text": [
      "Bezhta_bezh1248.csv\n"
     ]
    },
    {
     "name": "stderr",
     "output_type": "stream",
     "text": [
      "\n",
      "  0%|                                                  | 0/1000 [00:00<?, ?it/s]\u001b[A\n",
      " 24%|█████████▎                            | 244/1000 [00:00<00:00, 2434.25it/s]\u001b[A\n",
      " 49%|██████████████████▌                   | 488/1000 [00:00<00:00, 2415.62it/s]\u001b[A\n",
      " 75%|████████████████████████████▍         | 748/1000 [00:00<00:00, 2499.17it/s]\u001b[A\n",
      "100%|█████████████████████████████████████| 1000/1000 [00:00<00:00, 2238.67it/s]\u001b[A\n"
     ]
    },
    {
     "name": "stdout",
     "output_type": "stream",
     "text": [
      "Avar_Hid_dialect__hidd1238.csv\n"
     ]
    },
    {
     "name": "stderr",
     "output_type": "stream",
     "text": [
      "\n",
      "  0%|                                                  | 0/1000 [00:00<?, ?it/s]\u001b[A\n",
      " 25%|█████████▍                            | 249/1000 [00:00<00:00, 2482.77it/s]\u001b[A\n",
      " 52%|███████████████████▊                  | 521/1000 [00:00<00:00, 2622.11it/s]\u001b[A\n",
      "100%|█████████████████████████████████████| 1000/1000 [00:00<00:00, 2638.00it/s]\u001b[A\n"
     ]
    },
    {
     "name": "stdout",
     "output_type": "stream",
     "text": [
      "Avar_Ancux__ancu1238.csv\n"
     ]
    },
    {
     "name": "stderr",
     "output_type": "stream",
     "text": [
      "\n",
      "  0%|                                                  | 0/1000 [00:00<?, ?it/s]\u001b[A\n",
      " 26%|█████████▉                            | 261/1000 [00:00<00:00, 2603.72it/s]\u001b[A\n",
      " 53%|████████████████████▏                 | 532/1000 [00:00<00:00, 2664.61it/s]\u001b[A\n",
      "100%|█████████████████████████████████████| 1000/1000 [00:00<00:00, 2667.07it/s]\u001b[A\n"
     ]
    },
    {
     "name": "stdout",
     "output_type": "stream",
     "text": [
      "Andi_andi1255.csv\n"
     ]
    },
    {
     "name": "stderr",
     "output_type": "stream",
     "text": [
      "\n",
      "  0%|                                                  | 0/1000 [00:00<?, ?it/s]\u001b[A\n",
      " 28%|██████████▌                           | 279/1000 [00:00<00:00, 2787.80it/s]\u001b[A\n",
      " 56%|█████████████████████▏                | 558/1000 [00:00<00:00, 2642.88it/s]\u001b[A\n",
      "100%|█████████████████████████████████████| 1000/1000 [00:00<00:00, 2680.05it/s]\u001b[A\n",
      " 48%|████████████████████▍                      | 10/21 [03:32<03:57, 21.62s/it]"
     ]
    },
    {
     "name": "stdout",
     "output_type": "stream",
     "text": [
      "East_Kewa_east2516.csv\n"
     ]
    },
    {
     "name": "stderr",
     "output_type": "stream",
     "text": [
      "\n",
      "  0%|                                                  | 0/1000 [00:00<?, ?it/s]\u001b[A\n",
      " 48%|██████████████████                    | 476/1000 [00:00<00:00, 4756.24it/s]\u001b[A\n",
      "100%|█████████████████████████████████████| 1000/1000 [00:00<00:00, 4521.84it/s]\u001b[A\n"
     ]
    },
    {
     "name": "stdout",
     "output_type": "stream",
     "text": [
      "Proto_Sogeram_soge1235.csv\n"
     ]
    },
    {
     "name": "stderr",
     "output_type": "stream",
     "text": [
      "\n",
      "  0%|                                                  | 0/1000 [00:00<?, ?it/s]\u001b[A\n",
      " 32%|████████████▏                         | 322/1000 [00:00<00:00, 3215.37it/s]\u001b[A\n",
      " 65%|████████████████████████▊             | 653/1000 [00:00<00:00, 3268.14it/s]\u001b[A\n",
      "100%|█████████████████████████████████████| 1000/1000 [00:00<00:00, 3035.62it/s]\u001b[A\n"
     ]
    },
    {
     "name": "stdout",
     "output_type": "stream",
     "text": [
      "Komba_komb1273.csv\n"
     ]
    },
    {
     "name": "stderr",
     "output_type": "stream",
     "text": [
      "\n",
      "  0%|                                                  | 0/1000 [00:00<?, ?it/s]\u001b[A\n",
      " 30%|███████████▍                          | 301/1000 [00:00<00:00, 3008.60it/s]\u001b[A\n",
      " 62%|███████████████████████▌              | 619/1000 [00:00<00:00, 3106.20it/s]\u001b[A\n",
      "100%|█████████████████████████████████████| 1000/1000 [00:00<00:00, 3040.85it/s]\u001b[A\n"
     ]
    },
    {
     "name": "stdout",
     "output_type": "stream",
     "text": [
      "Kalam_kala1397.csv\n"
     ]
    },
    {
     "name": "stderr",
     "output_type": "stream",
     "text": [
      "\n",
      "  0%|                                                  | 0/1000 [00:00<?, ?it/s]\u001b[A\n",
      " 32%|████████████▎                         | 325/1000 [00:00<00:00, 3246.40it/s]\u001b[A\n",
      " 65%|████████████████████████▋             | 650/1000 [00:00<00:00, 3136.90it/s]\u001b[A\n",
      "100%|█████████████████████████████████████| 1000/1000 [00:00<00:00, 3134.89it/s]\u001b[A\n"
     ]
    },
    {
     "name": "stdout",
     "output_type": "stream",
     "text": [
      "Kyaka_kyak1244.csv\n"
     ]
    },
    {
     "name": "stderr",
     "output_type": "stream",
     "text": [
      "\n",
      "  0%|                                                  | 0/1000 [00:00<?, ?it/s]\u001b[A\n",
      " 30%|███████████▎                          | 297/1000 [00:00<00:00, 2968.63it/s]\u001b[A\n",
      " 59%|██████████████████████▌               | 594/1000 [00:00<00:00, 2814.33it/s]\u001b[A\n",
      "100%|█████████████████████████████████████| 1000/1000 [00:00<00:00, 2888.29it/s]\u001b[A\n"
     ]
    },
    {
     "name": "stdout",
     "output_type": "stream",
     "text": [
      "Erave_(South_Kewa)_erav1244.csv\n"
     ]
    },
    {
     "name": "stderr",
     "output_type": "stream",
     "text": [
      "\n",
      "  0%|                                                  | 0/1000 [00:00<?, ?it/s]\u001b[A\n",
      " 46%|█████████████████▎                    | 457/1000 [00:00<00:00, 4568.81it/s]\u001b[A\n",
      "100%|█████████████████████████████████████| 1000/1000 [00:00<00:00, 4529.01it/s]\u001b[A\n"
     ]
    },
    {
     "name": "stdout",
     "output_type": "stream",
     "text": [
      "West_Kewa_west2599.csv\n"
     ]
    },
    {
     "name": "stderr",
     "output_type": "stream",
     "text": [
      "\n",
      "  0%|                                                  | 0/1000 [00:00<?, ?it/s]\u001b[A\n",
      " 37%|█████████████▉                        | 366/1000 [00:00<00:00, 3636.29it/s]\u001b[A\n",
      "100%|█████████████████████████████████████| 1000/1000 [00:00<00:00, 3863.26it/s]\u001b[A\n"
     ]
    },
    {
     "name": "stdout",
     "output_type": "stream",
     "text": [
      "Ku_Waru_boun1245.csv\n"
     ]
    },
    {
     "name": "stderr",
     "output_type": "stream",
     "text": [
      "\n",
      "100%|████████████████████████████████████| 1000/1000 [00:00<00:00, 10742.53it/s]\u001b[A\n",
      " 52%|██████████████████████▌                    | 11/21 [03:34<02:36, 15.68s/it]"
     ]
    },
    {
     "name": "stdout",
     "output_type": "stream",
     "text": [
      "Tlingit_tlin1245.csv\n"
     ]
    },
    {
     "name": "stderr",
     "output_type": "stream",
     "text": [
      "\n",
      "  0%|                                                  | 0/1000 [00:00<?, ?it/s]\u001b[A\n",
      "100%|█████████████████████████████████████| 1000/1000 [00:00<00:00, 6335.29it/s]\u001b[A\n"
     ]
    },
    {
     "name": "stdout",
     "output_type": "stream",
     "text": [
      "Kimaama_kima1246.csv\n"
     ]
    },
    {
     "name": "stderr",
     "output_type": "stream",
     "text": [
      "\n",
      "  0%|                                                  | 0/1000 [00:00<?, ?it/s]\u001b[A\n",
      " 38%|██████████████▎                       | 377/1000 [00:00<00:00, 3766.54it/s]\u001b[A\n",
      "100%|█████████████████████████████████████| 1000/1000 [00:00<00:00, 3536.52it/s]\u001b[A\n"
     ]
    },
    {
     "name": "stdout",
     "output_type": "stream",
     "text": [
      "Mosetén_Chimané_mose1249.csv\n"
     ]
    },
    {
     "name": "stderr",
     "output_type": "stream",
     "text": [
      "\n",
      "  0%|                                                  | 0/1000 [00:00<?, ?it/s]\u001b[A\n",
      "100%|█████████████████████████████████████| 1000/1000 [00:00<00:00, 6194.53it/s]\u001b[A\n"
     ]
    },
    {
     "name": "stdout",
     "output_type": "stream",
     "text": [
      "Kuot_kuot1243.csv\n"
     ]
    },
    {
     "name": "stderr",
     "output_type": "stream",
     "text": [
      "\n",
      "  0%|                                                  | 0/1000 [00:00<?, ?it/s]\u001b[A\n",
      " 44%|████████████████▊                     | 441/1000 [00:00<00:00, 4409.74it/s]\u001b[A\n",
      "100%|█████████████████████████████████████| 1000/1000 [00:00<00:00, 4539.99it/s]\u001b[A\n"
     ]
    },
    {
     "name": "stdout",
     "output_type": "stream",
     "text": [
      "Buin_buin1247.csv\n"
     ]
    },
    {
     "name": "stderr",
     "output_type": "stream",
     "text": [
      "\n",
      "  0%|                                                  | 0/1000 [00:00<?, ?it/s]\u001b[A\n",
      " 46%|█████████████████▎                    | 457/1000 [00:00<00:00, 4567.67it/s]\u001b[A\n",
      "100%|█████████████████████████████████████| 1000/1000 [00:00<00:00, 4485.13it/s]\u001b[A\n"
     ]
    },
    {
     "name": "stdout",
     "output_type": "stream",
     "text": [
      "Nunamiut_nort2944.csv\n"
     ]
    },
    {
     "name": "stderr",
     "output_type": "stream",
     "text": [
      "\n",
      "  0%|                                                  | 0/1000 [00:00<?, ?it/s]\u001b[A\n",
      " 23%|████████▋                             | 228/1000 [00:00<00:00, 2278.26it/s]\u001b[A\n",
      " 46%|█████████████████▎                    | 456/1000 [00:00<00:00, 2277.38it/s]\u001b[A\n",
      " 69%|██████████████████████████            | 686/1000 [00:00<00:00, 2287.64it/s]\u001b[A\n",
      "100%|█████████████████████████████████████| 1000/1000 [00:00<00:00, 2279.59it/s]\u001b[A\n"
     ]
    },
    {
     "name": "stdout",
     "output_type": "stream",
     "text": [
      "Angaite_anga1316.csv\n"
     ]
    },
    {
     "name": "stderr",
     "output_type": "stream",
     "text": [
      "\n",
      "  0%|                                                  | 0/1000 [00:00<?, ?it/s]\u001b[A\n",
      "100%|█████████████████████████████████████| 1000/1000 [00:00<00:00, 6003.08it/s]\u001b[A\n"
     ]
    },
    {
     "name": "stdout",
     "output_type": "stream",
     "text": [
      "Kemtuik_kemt1242.csv\n"
     ]
    },
    {
     "name": "stderr",
     "output_type": "stream",
     "text": [
      "\n",
      "  0%|                                                  | 0/1000 [00:00<?, ?it/s]\u001b[A\n",
      " 35%|█████████████▏                        | 347/1000 [00:00<00:00, 3469.07it/s]\u001b[A\n",
      "100%|█████████████████████████████████████| 1000/1000 [00:00<00:00, 3451.60it/s]\u001b[A\n"
     ]
    },
    {
     "name": "stdout",
     "output_type": "stream",
     "text": [
      "Mblafe_mbla1238.csv\n"
     ]
    },
    {
     "name": "stderr",
     "output_type": "stream",
     "text": [
      "\n",
      "100%|████████████████████████████████████| 1000/1000 [00:00<00:00, 13286.57it/s]\u001b[A\n"
     ]
    },
    {
     "name": "stdout",
     "output_type": "stream",
     "text": [
      "Mairasi_nucl1594.csv\n"
     ]
    },
    {
     "name": "stderr",
     "output_type": "stream",
     "text": [
      "\n",
      "  0%|                                                  | 0/1000 [00:00<?, ?it/s]\u001b[A\n",
      " 38%|██████████████▍                       | 380/1000 [00:00<00:00, 3794.01it/s]\u001b[A\n",
      "100%|█████████████████████████████████████| 1000/1000 [00:00<00:00, 3679.53it/s]\u001b[A\n"
     ]
    },
    {
     "name": "stdout",
     "output_type": "stream",
     "text": [
      "Nimboran_nucl1633.csv\n"
     ]
    },
    {
     "name": "stderr",
     "output_type": "stream",
     "text": [
      "\n",
      "  0%|                                                  | 0/1000 [00:00<?, ?it/s]\u001b[A\n",
      " 33%|████████████▌                         | 329/1000 [00:00<00:00, 3286.48it/s]\u001b[A\n",
      "100%|█████████████████████████████████████| 1000/1000 [00:00<00:00, 3368.64it/s]\u001b[A\n"
     ]
    },
    {
     "name": "stdout",
     "output_type": "stream",
     "text": [
      "Lipan_Apache_lipa1241.csv\n"
     ]
    },
    {
     "name": "stderr",
     "output_type": "stream",
     "text": [
      "\n",
      "  0%|                                                  | 0/1000 [00:00<?, ?it/s]\u001b[A\n",
      " 30%|███████████▏                          | 296/1000 [00:00<00:00, 2952.58it/s]\u001b[A\n",
      " 59%|██████████████████████▍               | 592/1000 [00:00<00:00, 2912.51it/s]\u001b[A\n",
      "100%|█████████████████████████████████████| 1000/1000 [00:00<00:00, 2863.05it/s]\u001b[A\n"
     ]
    },
    {
     "name": "stdout",
     "output_type": "stream",
     "text": [
      "Cocopa_coco1261.csv\n"
     ]
    },
    {
     "name": "stderr",
     "output_type": "stream",
     "text": [
      "\n",
      "  0%|                                                  | 0/1000 [00:00<?, ?it/s]\u001b[A\n",
      " 32%|████████████▎                         | 324/1000 [00:00<00:00, 3225.87it/s]\u001b[A\n",
      " 65%|████████████████████████▌             | 647/1000 [00:00<00:00, 2994.36it/s]\u001b[A\n",
      "100%|█████████████████████████████████████| 1000/1000 [00:00<00:00, 3048.51it/s]\u001b[A\n"
     ]
    },
    {
     "name": "stdout",
     "output_type": "stream",
     "text": [
      "Kamano_kama1370.csv\n"
     ]
    },
    {
     "name": "stderr",
     "output_type": "stream",
     "text": [
      "\n",
      "  0%|                                                  | 0/1000 [00:00<?, ?it/s]\u001b[A\n",
      " 26%|█████████▊                            | 259/1000 [00:00<00:00, 2585.83it/s]\u001b[A\n",
      " 54%|████████████████████▎                 | 535/1000 [00:00<00:00, 2686.00it/s]\u001b[A\n",
      "100%|█████████████████████████████████████| 1000/1000 [00:00<00:00, 2718.07it/s]\u001b[A\n"
     ]
    },
    {
     "name": "stdout",
     "output_type": "stream",
     "text": [
      "Navajo_nava1243.csv\n"
     ]
    },
    {
     "name": "stderr",
     "output_type": "stream",
     "text": [
      "\n",
      "  0%|                                                  | 0/1000 [00:00<?, ?it/s]\u001b[A\n",
      " 36%|█████████████▊                        | 362/1000 [00:00<00:00, 3617.21it/s]\u001b[A\n",
      "100%|█████████████████████████████████████| 1000/1000 [00:00<00:00, 3637.83it/s]\u001b[A\n"
     ]
    },
    {
     "name": "stdout",
     "output_type": "stream",
     "text": [
      "Achuar_achu1249.csv\n"
     ]
    },
    {
     "name": "stderr",
     "output_type": "stream",
     "text": [
      "\n",
      "  0%|                                                  | 0/1000 [00:00<?, ?it/s]\u001b[A\n",
      " 25%|█████████▌                            | 253/1000 [00:00<00:00, 2519.52it/s]\u001b[A\n",
      " 53%|████████████████████                  | 528/1000 [00:00<00:00, 2649.88it/s]\u001b[A\n",
      "100%|█████████████████████████████████████| 1000/1000 [00:00<00:00, 2533.39it/s]\u001b[A\n"
     ]
    },
    {
     "name": "stdout",
     "output_type": "stream",
     "text": [
      "Berik_beri1254.csv\n"
     ]
    },
    {
     "name": "stderr",
     "output_type": "stream",
     "text": [
      "\n",
      "  0%|                                                  | 0/1000 [00:00<?, ?it/s]\u001b[A\n",
      "100%|█████████████████████████████████████| 1000/1000 [00:00<00:00, 5392.05it/s]\u001b[A\n"
     ]
    },
    {
     "name": "stdout",
     "output_type": "stream",
     "text": [
      "Maybrat_maib1239.csv\n"
     ]
    },
    {
     "name": "stderr",
     "output_type": "stream",
     "text": [
      "\n",
      "  0%|                                                  | 0/1000 [00:00<?, ?it/s]\u001b[A\n",
      " 31%|███████████▋                          | 308/1000 [00:00<00:00, 3072.44it/s]\u001b[A\n",
      " 62%|███████████████████████▊              | 625/1000 [00:00<00:00, 3125.84it/s]\u001b[A\n",
      "100%|█████████████████████████████████████| 1000/1000 [00:00<00:00, 3060.45it/s]\u001b[A\n"
     ]
    },
    {
     "name": "stdout",
     "output_type": "stream",
     "text": [
      "Korafe_kora1295.csv\n"
     ]
    },
    {
     "name": "stderr",
     "output_type": "stream",
     "text": [
      "\n",
      "  0%|                                                  | 0/1000 [00:00<?, ?it/s]\u001b[A\n",
      " 34%|█████████████                         | 344/1000 [00:00<00:00, 3433.30it/s]\u001b[A\n",
      "100%|█████████████████████████████████████| 1000/1000 [00:00<00:00, 3528.45it/s]\u001b[A\n"
     ]
    },
    {
     "name": "stdout",
     "output_type": "stream",
     "text": [
      "Marra_mara1385.csv\n"
     ]
    },
    {
     "name": "stderr",
     "output_type": "stream",
     "text": [
      "\n",
      "  0%|                                                  | 0/1000 [00:00<?, ?it/s]\u001b[A\n",
      " 24%|█████████▏                            | 243/1000 [00:00<00:00, 2415.22it/s]\u001b[A\n",
      " 49%|██████████████████▋                   | 493/1000 [00:00<00:00, 2461.98it/s]\u001b[A\n",
      " 74%|████████████████████████████          | 740/1000 [00:00<00:00, 2438.65it/s]\u001b[A\n",
      "100%|█████████████████████████████████████| 1000/1000 [00:00<00:00, 2422.72it/s]\u001b[A\n"
     ]
    },
    {
     "name": "stdout",
     "output_type": "stream",
     "text": [
      "Kemiju_(Jate)_keya1238.csv\n"
     ]
    },
    {
     "name": "stderr",
     "output_type": "stream",
     "text": [
      "\n",
      "  0%|                                                  | 0/1000 [00:00<?, ?it/s]\u001b[A\n",
      " 32%|████████████▏                         | 321/1000 [00:00<00:00, 3209.29it/s]\u001b[A\n",
      " 64%|████████████████████████▍             | 642/1000 [00:00<00:00, 3140.75it/s]\u001b[A\n",
      "100%|█████████████████████████████████████| 1000/1000 [00:00<00:00, 3096.65it/s]\u001b[A\n"
     ]
    },
    {
     "name": "stdout",
     "output_type": "stream",
     "text": [
      "Yalic_yali1257.csv\n"
     ]
    },
    {
     "name": "stderr",
     "output_type": "stream",
     "text": [
      "\n",
      "  0%|                                                  | 0/1000 [00:00<?, ?it/s]\u001b[A\n",
      "100%|█████████████████████████████████████| 1000/1000 [00:00<00:00, 5386.72it/s]\u001b[A\n"
     ]
    },
    {
     "name": "stdout",
     "output_type": "stream",
     "text": [
      "Japanese_nucl1643.csv\n"
     ]
    },
    {
     "name": "stderr",
     "output_type": "stream",
     "text": [
      "\n",
      "  0%|                                                  | 0/1000 [00:00<?, ?it/s]\u001b[A\n",
      " 21%|████████                              | 212/1000 [00:00<00:00, 2109.12it/s]\u001b[A\n",
      " 42%|████████████████                      | 423/1000 [00:00<00:00, 1750.08it/s]\u001b[A\n",
      " 68%|█████████████████████████▊            | 680/1000 [00:00<00:00, 2084.82it/s]\u001b[A\n",
      "100%|█████████████████████████████████████| 1000/1000 [00:00<00:00, 2188.82it/s]\u001b[A\n"
     ]
    },
    {
     "name": "stdout",
     "output_type": "stream",
     "text": [
      "Ayoreo_ayor1240.csv\n"
     ]
    },
    {
     "name": "stderr",
     "output_type": "stream",
     "text": [
      "\n",
      "  0%|                                                  | 0/1000 [00:00<?, ?it/s]\u001b[A\n",
      " 27%|██████████▏                           | 267/1000 [00:00<00:00, 2669.75it/s]\u001b[A\n",
      " 54%|████████████████████▍                 | 539/1000 [00:00<00:00, 2697.73it/s]\u001b[A\n",
      "100%|█████████████████████████████████████| 1000/1000 [00:00<00:00, 2698.01it/s]\u001b[A\n"
     ]
    },
    {
     "name": "stdout",
     "output_type": "stream",
     "text": [
      "Iwam_iwam1256.csv\n"
     ]
    },
    {
     "name": "stderr",
     "output_type": "stream",
     "text": [
      "\n",
      "  0%|                                                  | 0/1000 [00:00<?, ?it/s]\u001b[A\n",
      "100%|█████████████████████████████████████| 1000/1000 [00:00<00:00, 4964.11it/s]\u001b[A\n"
     ]
    },
    {
     "name": "stdout",
     "output_type": "stream",
     "text": [
      "Dalabon_ngal1292.csv\n"
     ]
    },
    {
     "name": "stderr",
     "output_type": "stream",
     "text": [
      "\n",
      "  0%|                                                  | 0/1000 [00:00<?, ?it/s]\u001b[A\n",
      "100%|█████████████████████████████████████| 1000/1000 [00:00<00:00, 5407.65it/s]\u001b[A\n"
     ]
    },
    {
     "name": "stdout",
     "output_type": "stream",
     "text": [
      "Duna_duna1248.csv\n"
     ]
    },
    {
     "name": "stderr",
     "output_type": "stream",
     "text": [
      "\n",
      "  0%|                                                  | 0/1000 [00:00<?, ?it/s]\u001b[A\n",
      " 31%|███████████▋                          | 306/1000 [00:00<00:00, 3046.74it/s]\u001b[A\n",
      " 61%|███████████████████████▏              | 611/1000 [00:00<00:00, 2967.81it/s]\u001b[A\n",
      "100%|█████████████████████████████████████| 1000/1000 [00:00<00:00, 2989.27it/s]\u001b[A\n"
     ]
    },
    {
     "name": "stdout",
     "output_type": "stream",
     "text": [
      "Nyulnyul_nyul1247.csv\n"
     ]
    },
    {
     "name": "stderr",
     "output_type": "stream",
     "text": [
      "\n",
      "  0%|                                                  | 0/1000 [00:00<?, ?it/s]\u001b[A\n",
      " 26%|█████████▊                            | 258/1000 [00:00<00:00, 2576.86it/s]\u001b[A\n",
      " 53%|████████████████████▏                 | 530/1000 [00:00<00:00, 2658.35it/s]\u001b[A\n",
      "100%|█████████████████████████████████████| 1000/1000 [00:00<00:00, 2823.47it/s]\u001b[A\n"
     ]
    },
    {
     "name": "stdout",
     "output_type": "stream",
     "text": [
      "Abui_abui1241.csv\n"
     ]
    },
    {
     "name": "stderr",
     "output_type": "stream",
     "text": [
      "\n",
      "  0%|                                                  | 0/1000 [00:00<?, ?it/s]\u001b[A\n",
      " 46%|█████████████████▌                    | 463/1000 [00:00<00:00, 4627.46it/s]\u001b[A\n",
      "100%|█████████████████████████████████████| 1000/1000 [00:00<00:00, 4856.31it/s]\u001b[A\n"
     ]
    },
    {
     "name": "stdout",
     "output_type": "stream",
     "text": [
      "Dogrib_dogr1252.csv\n"
     ]
    },
    {
     "name": "stderr",
     "output_type": "stream",
     "text": [
      "\n",
      "  0%|                                                  | 0/1000 [00:00<?, ?it/s]\u001b[A\n",
      "100%|█████████████████████████████████████| 1000/1000 [00:00<00:00, 6123.10it/s]\u001b[A\n"
     ]
    },
    {
     "name": "stdout",
     "output_type": "stream",
     "text": [
      "Ket_kett1243.csv\n"
     ]
    },
    {
     "name": "stderr",
     "output_type": "stream",
     "text": [
      "\n",
      "  0%|                                                  | 0/1000 [00:00<?, ?it/s]\u001b[A\n",
      " 33%|████████████▋                         | 333/1000 [00:00<00:00, 3325.08it/s]\u001b[A\n",
      " 67%|█████████████████████████▎            | 666/1000 [00:00<00:00, 3218.60it/s]\u001b[A\n",
      "100%|█████████████████████████████████████| 1000/1000 [00:00<00:00, 3229.26it/s]\u001b[A\n"
     ]
    },
    {
     "name": "stdout",
     "output_type": "stream",
     "text": [
      "Puinave_puin1248.csv\n"
     ]
    },
    {
     "name": "stderr",
     "output_type": "stream",
     "text": [
      "\n",
      "  0%|                                                  | 0/1000 [00:00<?, ?it/s]\u001b[A\n",
      "100%|█████████████████████████████████████| 1000/1000 [00:00<00:00, 5445.32it/s]\u001b[A\n"
     ]
    },
    {
     "name": "stdout",
     "output_type": "stream",
     "text": [
      "Netsilik_nets1241.csv\n"
     ]
    },
    {
     "name": "stderr",
     "output_type": "stream",
     "text": [
      "\n",
      "  0%|                                                  | 0/1000 [00:00<?, ?it/s]\u001b[A\n",
      " 20%|███████▋                              | 201/1000 [00:00<00:00, 2006.87it/s]\u001b[A\n",
      " 44%|████████████████▉                     | 445/1000 [00:00<00:00, 2259.01it/s]\u001b[A\n",
      " 68%|█████████████████████████▊            | 678/1000 [00:00<00:00, 2290.70it/s]\u001b[A\n",
      "100%|█████████████████████████████████████| 1000/1000 [00:00<00:00, 2305.63it/s]\u001b[A\n"
     ]
    },
    {
     "name": "stdout",
     "output_type": "stream",
     "text": [
      "Southern_Coastal_Tsimshian_nucl1649.csv\n"
     ]
    },
    {
     "name": "stderr",
     "output_type": "stream",
     "text": [
      "\n",
      "  0%|                                                  | 0/1000 [00:00<?, ?it/s]\u001b[A\n",
      " 42%|███████████████▉                      | 420/1000 [00:00<00:00, 4192.30it/s]\u001b[A\n",
      "100%|█████████████████████████████████████| 1000/1000 [00:00<00:00, 4190.55it/s]\u001b[A\n"
     ]
    },
    {
     "name": "stdout",
     "output_type": "stream",
     "text": [
      "Foi_foii1241.csv\n"
     ]
    },
    {
     "name": "stderr",
     "output_type": "stream",
     "text": [
      "\n",
      "  0%|                                                  | 0/1000 [00:00<?, ?it/s]\u001b[A\n",
      "100%|█████████████████████████████████████| 1000/1000 [00:00<00:00, 5285.77it/s]\u001b[A\n"
     ]
    },
    {
     "name": "stdout",
     "output_type": "stream",
     "text": [
      "Shasta_shas1239.csv\n"
     ]
    },
    {
     "name": "stderr",
     "output_type": "stream",
     "text": [
      "\n",
      "  0%|                                                  | 0/1000 [00:00<?, ?it/s]\u001b[A\n",
      " 29%|██████████▉                           | 287/1000 [00:00<00:00, 2865.98it/s]\u001b[A\n",
      " 59%|██████████████████████▎               | 586/1000 [00:00<00:00, 2935.43it/s]\u001b[A\n",
      "100%|█████████████████████████████████████| 1000/1000 [00:00<00:00, 2766.28it/s]\u001b[A\n"
     ]
    },
    {
     "name": "stdout",
     "output_type": "stream",
     "text": [
      "Usurufa_usar1243.csv\n"
     ]
    },
    {
     "name": "stderr",
     "output_type": "stream",
     "text": [
      "\n",
      "  0%|                                                  | 0/1000 [00:00<?, ?it/s]\u001b[A\n",
      " 32%|████████████                          | 316/1000 [00:00<00:00, 3155.33it/s]\u001b[A\n",
      " 64%|████████████████████████▏             | 637/1000 [00:00<00:00, 3184.04it/s]\u001b[A\n",
      "100%|█████████████████████████████████████| 1000/1000 [00:00<00:00, 3101.80it/s]\u001b[A\n"
     ]
    },
    {
     "name": "stdout",
     "output_type": "stream",
     "text": [
      "Suki_suki1245.csv\n"
     ]
    },
    {
     "name": "stderr",
     "output_type": "stream",
     "text": [
      "\n",
      "  0%|                                                  | 0/1000 [00:00<?, ?it/s]\u001b[A\n",
      "100%|█████████████████████████████████████| 1000/1000 [00:00<00:00, 5334.64it/s]\u001b[A\n"
     ]
    },
    {
     "name": "stdout",
     "output_type": "stream",
     "text": [
      "Inanwatan_(Suabo)_inan1242.csv\n"
     ]
    },
    {
     "name": "stderr",
     "output_type": "stream",
     "text": [
      "\n",
      "  0%|                                                  | 0/1000 [00:00<?, ?it/s]\u001b[A\n",
      " 44%|████████████████▊                     | 442/1000 [00:00<00:00, 4414.70it/s]\u001b[A\n",
      "100%|█████████████████████████████████████| 1000/1000 [00:00<00:00, 4411.11it/s]\u001b[A\n"
     ]
    },
    {
     "name": "stdout",
     "output_type": "stream",
     "text": [
      "Lardil_lard1243.csv\n"
     ]
    },
    {
     "name": "stderr",
     "output_type": "stream",
     "text": [
      "\n",
      "  0%|                                                  | 0/1000 [00:00<?, ?it/s]\u001b[A\n",
      " 30%|███████████▍                          | 301/1000 [00:00<00:00, 3003.48it/s]\u001b[A\n",
      " 60%|██████████████████████▉               | 602/1000 [00:00<00:00, 2701.43it/s]\u001b[A\n",
      "100%|█████████████████████████████████████| 1000/1000 [00:00<00:00, 2862.13it/s]\u001b[A\n"
     ]
    },
    {
     "name": "stdout",
     "output_type": "stream",
     "text": [
      "Cayubaba_cayu1262.csv\n"
     ]
    },
    {
     "name": "stderr",
     "output_type": "stream",
     "text": [
      "\n",
      "  0%|                                                  | 0/1000 [00:00<?, ?it/s]\u001b[A\n",
      " 42%|████████████████                      | 423/1000 [00:00<00:00, 4229.24it/s]\u001b[A\n",
      "100%|█████████████████████████████████████| 1000/1000 [00:00<00:00, 4162.19it/s]\u001b[A\n"
     ]
    },
    {
     "name": "stdout",
     "output_type": "stream",
     "text": [
      "Dene_Suliné_chip1261.csv\n"
     ]
    },
    {
     "name": "stderr",
     "output_type": "stream",
     "text": [
      "\n",
      "  0%|                                                  | 0/1000 [00:00<?, ?it/s]\u001b[A\n",
      " 28%|██████████▍                           | 276/1000 [00:00<00:00, 2750.54it/s]\u001b[A\n",
      " 55%|█████████████████████                 | 553/1000 [00:00<00:00, 2758.60it/s]\u001b[A\n",
      "100%|█████████████████████████████████████| 1000/1000 [00:00<00:00, 2586.66it/s]\u001b[A\n"
     ]
    },
    {
     "name": "stdout",
     "output_type": "stream",
     "text": [
      "ASF_Auslan_aust1271.csv\n"
     ]
    },
    {
     "name": "stderr",
     "output_type": "stream",
     "text": [
      "\n",
      "  0%|                                                  | 0/1000 [00:00<?, ?it/s]\u001b[A\n",
      " 28%|██████████▌                           | 279/1000 [00:00<00:00, 2778.53it/s]\u001b[A\n",
      " 56%|█████████████████████▏                | 557/1000 [00:00<00:00, 2552.65it/s]\u001b[A\n",
      "100%|█████████████████████████████████████| 1000/1000 [00:00<00:00, 2729.08it/s]\u001b[A\n"
     ]
    },
    {
     "name": "stdout",
     "output_type": "stream",
     "text": [
      "Umbu-Ungu_umbu1258.csv\n"
     ]
    },
    {
     "name": "stderr",
     "output_type": "stream",
     "text": [
      "\n",
      "  0%|                                                  | 0/1000 [00:00<?, ?it/s]\u001b[A\n",
      " 32%|███████████▉                          | 315/1000 [00:00<00:00, 3144.74it/s]\u001b[A\n",
      " 63%|███████████████████████▉              | 630/1000 [00:00<00:00, 3077.07it/s]\u001b[A\n",
      "100%|█████████████████████████████████████| 1000/1000 [00:00<00:00, 3014.23it/s]\u001b[A\n"
     ]
    },
    {
     "name": "stdout",
     "output_type": "stream",
     "text": [
      "Warta_Thuntai_gunt1241.csv\n"
     ]
    },
    {
     "name": "stderr",
     "output_type": "stream",
     "text": [
      "\n",
      "100%|████████████████████████████████████| 1000/1000 [00:00<00:00, 12591.27it/s]\u001b[A\n"
     ]
    },
    {
     "name": "stdout",
     "output_type": "stream",
     "text": [
      "Meyah_meya1236.csv\n"
     ]
    },
    {
     "name": "stderr",
     "output_type": "stream",
     "text": [
      "\n",
      "  0%|                                                  | 0/1000 [00:00<?, ?it/s]\u001b[A\n",
      "100%|█████████████████████████████████████| 1000/1000 [00:00<00:00, 5219.02it/s]\u001b[A\n"
     ]
    },
    {
     "name": "stdout",
     "output_type": "stream",
     "text": [
      "Maklew_makl1246.csv\n"
     ]
    },
    {
     "name": "stderr",
     "output_type": "stream",
     "text": [
      "\n",
      "100%|████████████████████████████████████| 1000/1000 [00:00<00:00, 11170.30it/s]\u001b[A\n"
     ]
    },
    {
     "name": "stdout",
     "output_type": "stream",
     "text": [
      "Meriam_meri1244.csv\n"
     ]
    },
    {
     "name": "stderr",
     "output_type": "stream",
     "text": [
      "\n",
      "  0%|                                                  | 0/1000 [00:00<?, ?it/s]\u001b[A\n",
      " 23%|████████▊                             | 232/1000 [00:00<00:00, 2317.59it/s]\u001b[A\n",
      " 54%|████████████████████▎                 | 535/1000 [00:00<00:00, 2734.17it/s]\u001b[A\n",
      "100%|█████████████████████████████████████| 1000/1000 [00:00<00:00, 2853.75it/s]\u001b[A\n"
     ]
    },
    {
     "name": "stdout",
     "output_type": "stream",
     "text": [
      "Délįne_nort2942.csv\n"
     ]
    },
    {
     "name": "stderr",
     "output_type": "stream",
     "text": [
      "\n",
      "  0%|                                                  | 0/1000 [00:00<?, ?it/s]\u001b[A\n",
      " 29%|███████████                           | 290/1000 [00:00<00:00, 2889.69it/s]\u001b[A\n",
      " 58%|██████████████████████                | 579/1000 [00:00<00:00, 2863.07it/s]\u001b[A\n",
      "100%|█████████████████████████████████████| 1000/1000 [00:00<00:00, 2301.59it/s]\u001b[A\n"
     ]
    },
    {
     "name": "stdout",
     "output_type": "stream",
     "text": [
      "Sanapana_sana1298.csv\n"
     ]
    },
    {
     "name": "stderr",
     "output_type": "stream",
     "text": [
      "\n",
      "  0%|                                                  | 0/1000 [00:00<?, ?it/s]\u001b[A\n",
      " 28%|██████████▌                           | 278/1000 [00:00<00:00, 2774.34it/s]\u001b[A\n",
      " 58%|██████████████████████                | 580/1000 [00:00<00:00, 2914.03it/s]\u001b[A\n",
      "100%|█████████████████████████████████████| 1000/1000 [00:00<00:00, 2755.06it/s]\u001b[A\n"
     ]
    },
    {
     "name": "stdout",
     "output_type": "stream",
     "text": [
      "Galeia_A_gale1259.csv\n"
     ]
    },
    {
     "name": "stderr",
     "output_type": "stream",
     "text": [
      "\n",
      "  0%|                                                  | 0/1000 [00:00<?, ?it/s]\u001b[A\n",
      " 48%|██████████████████                    | 476/1000 [00:00<00:00, 4752.54it/s]\u001b[A\n",
      "100%|█████████████████████████████████████| 1000/1000 [00:00<00:00, 4658.18it/s]\u001b[A\n"
     ]
    },
    {
     "name": "stdout",
     "output_type": "stream",
     "text": [
      "Tuyuca_tuyu1244.csv\n"
     ]
    },
    {
     "name": "stderr",
     "output_type": "stream",
     "text": [
      "\n",
      "  0%|                                                  | 0/1000 [00:00<?, ?it/s]\u001b[A\n",
      " 30%|███████████▎                          | 298/1000 [00:00<00:00, 2972.69it/s]\u001b[A\n",
      " 60%|██████████████████████▉               | 604/1000 [00:00<00:00, 3019.85it/s]\u001b[A\n",
      "100%|█████████████████████████████████████| 1000/1000 [00:00<00:00, 2992.44it/s]\u001b[A\n"
     ]
    },
    {
     "name": "stdout",
     "output_type": "stream",
     "text": [
      "Moni_moni1261.csv\n"
     ]
    },
    {
     "name": "stderr",
     "output_type": "stream",
     "text": [
      "\n",
      "  0%|                                                  | 0/1000 [00:00<?, ?it/s]\u001b[A\n",
      "100%|█████████████████████████████████████| 1000/1000 [00:00<00:00, 5166.17it/s]\u001b[A\n"
     ]
    },
    {
     "name": "stdout",
     "output_type": "stream",
     "text": [
      "Doutai_dout1240.csv\n"
     ]
    },
    {
     "name": "stderr",
     "output_type": "stream",
     "text": [
      "\n",
      "  0%|                                                  | 0/1000 [00:00<?, ?it/s]\u001b[A\n",
      " 38%|██████████████▋                       | 385/1000 [00:00<00:00, 3846.81it/s]\u001b[A\n",
      "100%|█████████████████████████████████████| 1000/1000 [00:00<00:00, 3740.64it/s]\u001b[A\n"
     ]
    },
    {
     "name": "stdout",
     "output_type": "stream",
     "text": [
      "Cubeo_cube1242.csv\n"
     ]
    },
    {
     "name": "stderr",
     "output_type": "stream",
     "text": [
      "\n",
      "  0%|                                                  | 0/1000 [00:00<?, ?it/s]\u001b[A\n",
      " 32%|████████████                          | 319/1000 [00:00<00:00, 3185.58it/s]\u001b[A\n",
      " 64%|████████████████████████▏             | 638/1000 [00:00<00:00, 3111.39it/s]\u001b[A\n",
      "100%|█████████████████████████████████████| 1000/1000 [00:00<00:00, 3108.22it/s]\u001b[A\n"
     ]
    },
    {
     "name": "stdout",
     "output_type": "stream",
     "text": [
      "Kiowa_Apache_kiow1264.csv\n"
     ]
    },
    {
     "name": "stderr",
     "output_type": "stream",
     "text": [
      "\n",
      "  0%|                                                  | 0/1000 [00:00<?, ?it/s]\u001b[A\n",
      "100%|█████████████████████████████████████| 1000/1000 [00:00<00:00, 6726.76it/s]\u001b[A\n"
     ]
    },
    {
     "name": "stdout",
     "output_type": "stream",
     "text": [
      "Western_Pantar_lamm1241.csv\n"
     ]
    },
    {
     "name": "stderr",
     "output_type": "stream",
     "text": [
      "\n",
      "  0%|                                                  | 0/1000 [00:00<?, ?it/s]\u001b[A\n",
      " 31%|███████████▊                          | 312/1000 [00:00<00:00, 3114.24it/s]\u001b[A\n",
      " 62%|███████████████████████▋              | 624/1000 [00:00<00:00, 2812.16it/s]\u001b[A\n",
      "100%|█████████████████████████████████████| 1000/1000 [00:00<00:00, 2192.99it/s]\u001b[A\n"
     ]
    },
    {
     "name": "stdout",
     "output_type": "stream",
     "text": [
      "Nasioi_naas1242.csv\n"
     ]
    },
    {
     "name": "stderr",
     "output_type": "stream",
     "text": [
      "\n",
      "  0%|                                                  | 0/1000 [00:00<?, ?it/s]\u001b[A\n",
      "100%|█████████████████████████████████████| 1000/1000 [00:00<00:00, 4830.92it/s]\u001b[A\n"
     ]
    },
    {
     "name": "stdout",
     "output_type": "stream",
     "text": [
      "Tidore_(version_1)_tido1248.csv\n"
     ]
    },
    {
     "name": "stderr",
     "output_type": "stream",
     "text": [
      "\n",
      "  0%|                                                  | 0/1000 [00:00<?, ?it/s]\u001b[A\n",
      "100%|█████████████████████████████████████| 1000/1000 [00:00<00:00, 7063.29it/s]\u001b[A\n"
     ]
    },
    {
     "name": "stdout",
     "output_type": "stream",
     "text": [
      "Awa_imbo1238.csv\n"
     ]
    },
    {
     "name": "stderr",
     "output_type": "stream",
     "text": [
      "\n",
      "  0%|                                                  | 0/1000 [00:00<?, ?it/s]\u001b[A\n",
      "100%|█████████████████████████████████████| 1000/1000 [00:00<00:00, 5488.12it/s]\u001b[A\n"
     ]
    },
    {
     "name": "stdout",
     "output_type": "stream",
     "text": [
      "Setaman_Baktamin_seta1246.csv\n"
     ]
    },
    {
     "name": "stderr",
     "output_type": "stream",
     "text": [
      "\n",
      "  0%|                                                  | 0/1000 [00:00<?, ?it/s]\u001b[A\n",
      "100%|█████████████████████████████████████| 1000/1000 [00:00<00:00, 5310.70it/s]\u001b[A\n"
     ]
    },
    {
     "name": "stdout",
     "output_type": "stream",
     "text": [
      "Kiwaian_sout2949.csv\n"
     ]
    },
    {
     "name": "stderr",
     "output_type": "stream",
     "text": [
      "\n",
      "  0%|                                                  | 0/1000 [00:00<?, ?it/s]\u001b[A\n",
      " 48%|██████████████████▏                   | 478/1000 [00:00<00:00, 4777.12it/s]\u001b[A\n",
      "100%|█████████████████████████████████████| 1000/1000 [00:00<00:00, 4857.79it/s]\u001b[A\n"
     ]
    },
    {
     "name": "stdout",
     "output_type": "stream",
     "text": [
      "Sion_sion1247.csv\n"
     ]
    },
    {
     "name": "stderr",
     "output_type": "stream",
     "text": [
      "\n",
      "  0%|                                                  | 0/1000 [00:00<?, ?it/s]\u001b[A\n",
      " 36%|█████████████▋                        | 359/1000 [00:00<00:00, 3587.14it/s]\u001b[A\n",
      "100%|█████████████████████████████████████| 1000/1000 [00:00<00:00, 3566.35it/s]\u001b[A\n"
     ]
    },
    {
     "name": "stdout",
     "output_type": "stream",
     "text": [
      "Waffa_waff1241.csv\n"
     ]
    },
    {
     "name": "stderr",
     "output_type": "stream",
     "text": [
      "\n",
      "  0%|                                                  | 0/1000 [00:00<?, ?it/s]\u001b[A\n",
      " 50%|██████████████████▉                   | 498/1000 [00:00<00:00, 4973.00it/s]\u001b[A\n",
      "100%|█████████████████████████████████████| 1000/1000 [00:00<00:00, 4810.24it/s]\u001b[A\n"
     ]
    },
    {
     "name": "stdout",
     "output_type": "stream",
     "text": [
      "Pagu_pagu1249.csv\n"
     ]
    },
    {
     "name": "stderr",
     "output_type": "stream",
     "text": [
      "\n",
      "  0%|                                                  | 0/1000 [00:00<?, ?it/s]\u001b[A\n",
      "100%|█████████████████████████████████████| 1000/1000 [00:00<00:00, 5291.12it/s]\u001b[A\n"
     ]
    },
    {
     "name": "stdout",
     "output_type": "stream",
     "text": [
      "Huli_huli1244.csv\n"
     ]
    },
    {
     "name": "stderr",
     "output_type": "stream",
     "text": [
      "\n",
      "  0%|                                                  | 0/1000 [00:00<?, ?it/s]\u001b[A\n",
      " 30%|███████████▍                          | 301/1000 [00:00<00:00, 3005.25it/s]\u001b[A\n",
      " 60%|██████████████████████▉               | 602/1000 [00:00<00:00, 2897.15it/s]\u001b[A\n",
      "100%|█████████████████████████████████████| 1000/1000 [00:00<00:00, 2751.62it/s]\u001b[A\n"
     ]
    },
    {
     "name": "stdout",
     "output_type": "stream",
     "text": [
      "Kanum_kanu1280.csv\n",
      "Fore_fore1270.csv\n"
     ]
    },
    {
     "name": "stderr",
     "output_type": "stream",
     "text": [
      "\n",
      "  0%|                                                  | 0/1000 [00:00<?, ?it/s]\u001b[A\n",
      "100%|█████████████████████████████████████| 1000/1000 [00:00<00:00, 5076.92it/s]\u001b[A\n"
     ]
    },
    {
     "name": "stdout",
     "output_type": "stream",
     "text": [
      "Trumai_trum1247.csv\n"
     ]
    },
    {
     "name": "stderr",
     "output_type": "stream",
     "text": [
      "\n",
      "  0%|                                                  | 0/1000 [00:00<?, ?it/s]\u001b[A\n",
      "100%|█████████████████████████████████████| 1000/1000 [00:00<00:00, 7052.08it/s]\u001b[A\n"
     ]
    },
    {
     "name": "stdout",
     "output_type": "stream",
     "text": [
      "Kunza_kunz1244.csv\n"
     ]
    },
    {
     "name": "stderr",
     "output_type": "stream",
     "text": [
      "\n",
      "  0%|                                                  | 0/1000 [00:00<?, ?it/s]\u001b[A\n",
      "100%|█████████████████████████████████████| 1000/1000 [00:00<00:00, 7609.67it/s]\u001b[A\n"
     ]
    },
    {
     "name": "stdout",
     "output_type": "stream",
     "text": [
      "Riantana_rian1263.csv\n",
      "Ketengban_kete1254.csv\n"
     ]
    },
    {
     "name": "stderr",
     "output_type": "stream",
     "text": [
      "\n",
      "  0%|                                                  | 0/1000 [00:00<?, ?it/s]\u001b[A\n",
      "100%|█████████████████████████████████████| 1000/1000 [00:00<00:00, 5295.16it/s]\u001b[A\n"
     ]
    },
    {
     "name": "stdout",
     "output_type": "stream",
     "text": [
      "Kalamang_kara1499.csv\n"
     ]
    },
    {
     "name": "stderr",
     "output_type": "stream",
     "text": [
      "\n",
      "  0%|                                                  | 0/1000 [00:00<?, ?it/s]\u001b[A\n",
      " 30%|███████████▌                          | 304/1000 [00:00<00:00, 3037.45it/s]\u001b[A\n",
      " 61%|███████████████████████               | 608/1000 [00:00<00:00, 3027.66it/s]\u001b[A\n",
      "100%|█████████████████████████████████████| 1000/1000 [00:00<00:00, 2998.64it/s]\u001b[A\n"
     ]
    },
    {
     "name": "stdout",
     "output_type": "stream",
     "text": [
      "Cha_palaa_chac1249.csv\n"
     ]
    },
    {
     "name": "stderr",
     "output_type": "stream",
     "text": [
      "\n",
      "  0%|                                                  | 0/1000 [00:00<?, ?it/s]\u001b[A\n",
      "100%|█████████████████████████████████████| 1000/1000 [00:00<00:00, 6490.52it/s]\u001b[A\n"
     ]
    },
    {
     "name": "stdout",
     "output_type": "stream",
     "text": [
      "Bardi_bard1254.csv\n"
     ]
    },
    {
     "name": "stderr",
     "output_type": "stream",
     "text": [
      "\n",
      "  0%|                                                  | 0/1000 [00:00<?, ?it/s]\u001b[A\n",
      "100%|█████████████████████████████████████| 1000/1000 [00:00<00:00, 5420.88it/s]\u001b[A\n"
     ]
    },
    {
     "name": "stdout",
     "output_type": "stream",
     "text": [
      "Midob_mido1240.csv\n"
     ]
    },
    {
     "name": "stderr",
     "output_type": "stream",
     "text": [
      "\n",
      "  0%|                                                  | 0/1000 [00:00<?, ?it/s]\u001b[A\n",
      " 32%|████████████                          | 316/1000 [00:00<00:00, 3158.67it/s]\u001b[A\n",
      " 63%|████████████████████████              | 632/1000 [00:00<00:00, 3133.12it/s]\u001b[A\n",
      "100%|█████████████████████████████████████| 1000/1000 [00:00<00:00, 3121.77it/s]\u001b[A\n"
     ]
    },
    {
     "name": "stdout",
     "output_type": "stream",
     "text": [
      "Waorani_waor1240.csv\n"
     ]
    },
    {
     "name": "stderr",
     "output_type": "stream",
     "text": [
      "\n",
      "  0%|                                                  | 0/1000 [00:00<?, ?it/s]\u001b[A\n",
      " 30%|███████████▎                          | 298/1000 [00:00<00:00, 2960.11it/s]\u001b[A\n",
      " 60%|██████████████████████▌               | 595/1000 [00:00<00:00, 2386.49it/s]\u001b[A\n",
      "100%|█████████████████████████████████████| 1000/1000 [00:00<00:00, 2494.79it/s]\u001b[A\n"
     ]
    },
    {
     "name": "stdout",
     "output_type": "stream",
     "text": [
      "Toba_toba1269.csv\n"
     ]
    },
    {
     "name": "stderr",
     "output_type": "stream",
     "text": [
      "\n",
      "  0%|                                                  | 0/1000 [00:00<?, ?it/s]\u001b[A\n",
      " 18%|██████▉                               | 183/1000 [00:00<00:00, 1827.02it/s]\u001b[A\n",
      " 37%|██████████████                        | 371/1000 [00:00<00:00, 1854.82it/s]\u001b[A\n",
      " 56%|█████████████████████▏                | 557/1000 [00:00<00:00, 1855.50it/s]\u001b[A\n",
      " 75%|████████████████████████████▎         | 746/1000 [00:00<00:00, 1868.22it/s]\u001b[A\n",
      "100%|█████████████████████████████████████| 1000/1000 [00:00<00:00, 1820.28it/s]\u001b[A\n"
     ]
    },
    {
     "name": "stdout",
     "output_type": "stream",
     "text": [
      "Savosavo_savo1255.csv\n"
     ]
    },
    {
     "name": "stderr",
     "output_type": "stream",
     "text": [
      "\n",
      "  0%|                                                  | 0/1000 [00:00<?, ?it/s]\u001b[A\n",
      " 31%|███████████▊                          | 312/1000 [00:00<00:00, 3119.23it/s]\u001b[A\n",
      " 62%|███████████████████████▋              | 624/1000 [00:00<00:00, 2987.90it/s]\u001b[A\n",
      "100%|█████████████████████████████████████| 1000/1000 [00:00<00:00, 2983.35it/s]\u001b[A\n"
     ]
    },
    {
     "name": "stdout",
     "output_type": "stream",
     "text": [
      "Wappo_wapp1239.csv\n"
     ]
    },
    {
     "name": "stderr",
     "output_type": "stream",
     "text": [
      "\n",
      "  0%|                                                  | 0/1000 [00:00<?, ?it/s]\u001b[A\n",
      "100%|█████████████████████████████████████| 1000/1000 [00:00<00:00, 6897.40it/s]\u001b[A\n"
     ]
    },
    {
     "name": "stdout",
     "output_type": "stream",
     "text": [
      "Ende_(Papua_New_Guinea)_ende1235.csv\n"
     ]
    },
    {
     "name": "stderr",
     "output_type": "stream",
     "text": [
      "\n",
      "  0%|                                                  | 0/1000 [00:00<?, ?it/s]\u001b[A\n",
      " 28%|██████████▊                           | 283/1000 [00:00<00:00, 2821.90it/s]\u001b[A\n",
      " 57%|█████████████████████▌                | 566/1000 [00:00<00:00, 2749.21it/s]\u001b[A\n",
      "100%|█████████████████████████████████████| 1000/1000 [00:00<00:00, 2779.42it/s]\u001b[A\n"
     ]
    },
    {
     "name": "stdout",
     "output_type": "stream",
     "text": [
      "Blagar_blag1240.csv\n"
     ]
    },
    {
     "name": "stderr",
     "output_type": "stream",
     "text": [
      "\n",
      "  0%|                                                  | 0/1000 [00:00<?, ?it/s]\u001b[A\n",
      " 37%|█████████████▉                        | 366/1000 [00:00<00:00, 3654.30it/s]\u001b[A\n",
      "100%|█████████████████████████████████████| 1000/1000 [00:00<00:00, 3574.99it/s]\u001b[A\n"
     ]
    },
    {
     "name": "stdout",
     "output_type": "stream",
     "text": [
      "Wari__wari1268.csv\n",
      "Bilua_bilu1245.csv\n"
     ]
    },
    {
     "name": "stderr",
     "output_type": "stream",
     "text": [
      "\n",
      "  0%|                                                  | 0/1000 [00:00<?, ?it/s]\u001b[A\n",
      " 28%|██████████▊                           | 284/1000 [00:00<00:00, 2835.92it/s]\u001b[A\n",
      " 60%|██████████████████████▊               | 600/1000 [00:00<00:00, 3021.80it/s]\u001b[A\n",
      "100%|█████████████████████████████████████| 1000/1000 [00:00<00:00, 2997.44it/s]\u001b[A\n"
     ]
    },
    {
     "name": "stdout",
     "output_type": "stream",
     "text": [
      "Baruya_baru1267.csv\n"
     ]
    },
    {
     "name": "stderr",
     "output_type": "stream",
     "text": [
      "\n",
      "  0%|                                                  | 0/1000 [00:00<?, ?it/s]\u001b[A\n",
      " 46%|█████████████████▌                    | 463/1000 [00:00<00:00, 4614.72it/s]\u001b[A\n",
      "100%|█████████████████████████████████████| 1000/1000 [00:00<00:00, 3986.01it/s]\u001b[A\n"
     ]
    },
    {
     "name": "stdout",
     "output_type": "stream",
     "text": [
      "Rotokas_roto1249.csv\n"
     ]
    },
    {
     "name": "stderr",
     "output_type": "stream",
     "text": [
      "\n",
      "  0%|                                                  | 0/1000 [00:00<?, ?it/s]\u001b[A\n",
      " 30%|███████████▍                          | 302/1000 [00:00<00:00, 3019.73it/s]\u001b[A\n",
      " 60%|██████████████████████▉               | 604/1000 [00:00<00:00, 2776.90it/s]\u001b[A\n",
      "100%|█████████████████████████████████████| 1000/1000 [00:00<00:00, 2758.29it/s]\u001b[A\n"
     ]
    },
    {
     "name": "stdout",
     "output_type": "stream",
     "text": [
      "Mali_mali1284.csv\n"
     ]
    },
    {
     "name": "stderr",
     "output_type": "stream",
     "text": [
      "\n",
      "  0%|                                                  | 0/1000 [00:00<?, ?it/s]\u001b[A\n",
      "100%|█████████████████████████████████████| 1000/1000 [00:00<00:00, 9473.84it/s]\u001b[A\n"
     ]
    },
    {
     "name": "stdout",
     "output_type": "stream",
     "text": [
      "Maca_maca1260.csv\n"
     ]
    },
    {
     "name": "stderr",
     "output_type": "stream",
     "text": [
      "\n",
      "  0%|                                                  | 0/1000 [00:00<?, ?it/s]\u001b[A\n",
      "100%|█████████████████████████████████████| 1000/1000 [00:00<00:00, 5329.76it/s]\u001b[A\n"
     ]
    },
    {
     "name": "stdout",
     "output_type": "stream",
     "text": [
      "Xibe_xibe1242.csv\n"
     ]
    },
    {
     "name": "stderr",
     "output_type": "stream",
     "text": [
      "\n",
      "  0%|                                                  | 0/1000 [00:00<?, ?it/s]\u001b[A\n",
      " 30%|███████████▎                          | 299/1000 [00:00<00:00, 2988.65it/s]\u001b[A\n",
      " 60%|██████████████████████▋               | 598/1000 [00:00<00:00, 2966.48it/s]\u001b[A\n",
      "100%|█████████████████████████████████████| 1000/1000 [00:00<00:00, 2883.14it/s]\u001b[A\n"
     ]
    },
    {
     "name": "stdout",
     "output_type": "stream",
     "text": [
      "Nen_nenn1238.csv\n"
     ]
    },
    {
     "name": "stderr",
     "output_type": "stream",
     "text": [
      "\n",
      "  0%|                                                  | 0/1000 [00:00<?, ?it/s]\u001b[A\n",
      "100%|█████████████████████████████████████| 1000/1000 [00:00<00:00, 5495.15it/s]\u001b[A\n"
     ]
    },
    {
     "name": "stdout",
     "output_type": "stream",
     "text": [
      "Tzeltal_tzel1254.csv\n"
     ]
    },
    {
     "name": "stderr",
     "output_type": "stream",
     "text": [
      "\n",
      "  0%|                                                  | 0/1000 [00:00<?, ?it/s]\u001b[A\n",
      " 36%|█████████████▊                        | 363/1000 [00:00<00:00, 3624.89it/s]\u001b[A\n",
      "100%|█████████████████████████████████████| 1000/1000 [00:00<00:00, 3360.49it/s]\u001b[A\n"
     ]
    },
    {
     "name": "stdout",
     "output_type": "stream",
     "text": [
      "Yele_(Yélî_Dnye)_yele1255.csv\n"
     ]
    },
    {
     "name": "stderr",
     "output_type": "stream",
     "text": [
      "\n",
      "  0%|                                                  | 0/1000 [00:00<?, ?it/s]\u001b[A\n",
      " 25%|█████████▌                            | 250/1000 [00:00<00:00, 2492.77it/s]\u001b[A\n",
      " 52%|███████████████████▊                  | 521/1000 [00:00<00:00, 2619.00it/s]\u001b[A\n",
      "100%|█████████████████████████████████████| 1000/1000 [00:00<00:00, 2799.16it/s]\u001b[A\n"
     ]
    },
    {
     "name": "stdout",
     "output_type": "stream",
     "text": [
      "Kung_juho1239.csv\n"
     ]
    },
    {
     "name": "stderr",
     "output_type": "stream",
     "text": [
      "\n",
      "  0%|                                                  | 0/1000 [00:00<?, ?it/s]\u001b[A\n",
      " 26%|█████████▉                            | 261/1000 [00:00<00:00, 2602.82it/s]\u001b[A\n",
      " 52%|███████████████████▊                  | 522/1000 [00:00<00:00, 2576.35it/s]\u001b[A\n",
      "100%|█████████████████████████████████████| 1000/1000 [00:00<00:00, 2562.51it/s]\u001b[A\n"
     ]
    },
    {
     "name": "stdout",
     "output_type": "stream",
     "text": [
      "Murrinhpatha_murr1258.csv\n"
     ]
    },
    {
     "name": "stderr",
     "output_type": "stream",
     "text": [
      "\n",
      "  0%|                                                  | 0/1000 [00:00<?, ?it/s]\u001b[A\n",
      " 31%|███████████▋                          | 308/1000 [00:00<00:00, 3074.59it/s]\u001b[A\n",
      " 62%|███████████████████████▌              | 620/1000 [00:00<00:00, 3097.13it/s]\u001b[A\n",
      "100%|█████████████████████████████████████| 1000/1000 [00:00<00:00, 3049.44it/s]\u001b[A\n"
     ]
    },
    {
     "name": "stdout",
     "output_type": "stream",
     "text": [
      "Yawa_nucl1454.csv\n"
     ]
    },
    {
     "name": "stderr",
     "output_type": "stream",
     "text": [
      "\n",
      "  0%|                                                  | 0/1000 [00:00<?, ?it/s]\u001b[A\n",
      " 37%|██████████████                        | 369/1000 [00:00<00:00, 3672.85it/s]\u001b[A\n",
      "100%|█████████████████████████████████████| 1000/1000 [00:00<00:00, 3611.78it/s]\u001b[A\n"
     ]
    },
    {
     "name": "stdout",
     "output_type": "stream",
     "text": [
      "Gui_(Gwi)_gwii1239.csv\n"
     ]
    },
    {
     "name": "stderr",
     "output_type": "stream",
     "text": [
      "\n",
      "  0%|                                                  | 0/1000 [00:00<?, ?it/s]\u001b[A\n",
      " 31%|███████████▉                          | 313/1000 [00:00<00:00, 3129.59it/s]\u001b[A\n",
      " 63%|███████████████████████▊              | 626/1000 [00:00<00:00, 3069.18it/s]\u001b[A\n",
      "100%|█████████████████████████████████████| 1000/1000 [00:00<00:00, 2785.10it/s]\u001b[A\n"
     ]
    },
    {
     "name": "stdout",
     "output_type": "stream",
     "text": [
      "Central_Aymara_cent2142.csv\n"
     ]
    },
    {
     "name": "stderr",
     "output_type": "stream",
     "text": [
      "\n",
      "  0%|                                                  | 0/1000 [00:00<?, ?it/s]\u001b[A\n",
      " 22%|████████▎                             | 220/1000 [00:00<00:00, 2193.13it/s]\u001b[A\n",
      " 54%|████████████████████▌                 | 541/1000 [00:00<00:00, 2786.77it/s]\u001b[A\n",
      "100%|█████████████████████████████████████| 1000/1000 [00:00<00:00, 2899.82it/s]\u001b[A\n"
     ]
    },
    {
     "name": "stdout",
     "output_type": "stream",
     "text": [
      "Sawi_sawi1257.csv\n"
     ]
    },
    {
     "name": "stderr",
     "output_type": "stream",
     "text": [
      "\n",
      "  0%|                                                  | 0/1000 [00:00<?, ?it/s]\u001b[A\n",
      "100%|█████████████████████████████████████| 1000/1000 [00:00<00:00, 5370.79it/s]\u001b[A\n"
     ]
    },
    {
     "name": "stdout",
     "output_type": "stream",
     "text": [
      "Gününa_Küne_puel1244.csv\n"
     ]
    },
    {
     "name": "stderr",
     "output_type": "stream",
     "text": [
      "\n",
      "  0%|                                                  | 0/1000 [00:00<?, ?it/s]\u001b[A\n",
      " 27%|██████████▏                           | 269/1000 [00:00<00:00, 2682.15it/s]\u001b[A\n",
      " 54%|████████████████████▋                 | 544/1000 [00:00<00:00, 2717.88it/s]\u001b[A\n",
      "100%|█████████████████████████████████████| 1000/1000 [00:00<00:00, 2700.81it/s]\u001b[A\n"
     ]
    },
    {
     "name": "stdout",
     "output_type": "stream",
     "text": [
      "Teiwa_teiw1235.csv\n"
     ]
    },
    {
     "name": "stderr",
     "output_type": "stream",
     "text": [
      "\n",
      "  0%|                                                  | 0/1000 [00:00<?, ?it/s]\u001b[A\n",
      " 41%|███████████████▍                      | 406/1000 [00:00<00:00, 4053.56it/s]\u001b[A\n",
      "100%|█████████████████████████████████████| 1000/1000 [00:00<00:00, 3900.44it/s]\u001b[A\n"
     ]
    },
    {
     "name": "stdout",
     "output_type": "stream",
     "text": [
      "Yanomámi_yano1262.csv\n"
     ]
    },
    {
     "name": "stderr",
     "output_type": "stream",
     "text": [
      "\n",
      "  0%|                                                  | 0/1000 [00:00<?, ?it/s]\u001b[A\n",
      "100%|█████████████████████████████████████| 1000/1000 [00:00<00:00, 9389.76it/s]\u001b[A\n"
     ]
    },
    {
     "name": "stdout",
     "output_type": "stream",
     "text": [
      "Lake_Miwok_lake1258.csv\n",
      "Nivacle_niva1238.csv\n"
     ]
    },
    {
     "name": "stderr",
     "output_type": "stream",
     "text": [
      "\n",
      "  0%|                                                  | 0/1000 [00:00<?, ?it/s]\u001b[A\n",
      " 32%|████████████▏                         | 322/1000 [00:00<00:00, 3216.24it/s]\u001b[A\n",
      " 64%|████████████████████████▍             | 644/1000 [00:00<00:00, 3114.42it/s]\u001b[A\n",
      "100%|█████████████████████████████████████| 1000/1000 [00:00<00:00, 3117.51it/s]\u001b[A\n"
     ]
    },
    {
     "name": "stdout",
     "output_type": "stream",
     "text": [
      "Sougb_mani1235.csv\n"
     ]
    },
    {
     "name": "stderr",
     "output_type": "stream",
     "text": [
      "\n",
      "  0%|                                                  | 0/1000 [00:00<?, ?it/s]\u001b[A\n",
      "100%|█████████████████████████████████████| 1000/1000 [00:00<00:00, 5247.20it/s]\u001b[A\n"
     ]
    },
    {
     "name": "stdout",
     "output_type": "stream",
     "text": [
      "Kayardild_kaya1318.csv\n"
     ]
    },
    {
     "name": "stderr",
     "output_type": "stream",
     "text": [
      "\n",
      "  0%|                                                  | 0/1000 [00:00<?, ?it/s]\u001b[A\n",
      "100%|█████████████████████████████████████| 1000/1000 [00:00<00:00, 5474.95it/s]\u001b[A\n"
     ]
    },
    {
     "name": "stdout",
     "output_type": "stream",
     "text": [
      "Kwoma_kwom1262.csv\n"
     ]
    },
    {
     "name": "stderr",
     "output_type": "stream",
     "text": [
      "\n",
      "  0%|                                                  | 0/1000 [00:00<?, ?it/s]\u001b[A\n",
      " 37%|██████████████▏                       | 373/1000 [00:00<00:00, 3722.93it/s]\u001b[A\n",
      "100%|█████████████████████████████████████| 1000/1000 [00:00<00:00, 3328.54it/s]\u001b[A\n"
     ]
    },
    {
     "name": "stdout",
     "output_type": "stream",
     "text": [
      "Hewa_hewa1241.csv\n"
     ]
    },
    {
     "name": "stderr",
     "output_type": "stream",
     "text": [
      "\n",
      "  0%|                                                  | 0/1000 [00:00<?, ?it/s]\u001b[A\n",
      " 19%|███████▏                              | 188/1000 [00:00<00:00, 1874.56it/s]\u001b[A\n",
      " 43%|████████████████▎                     | 428/1000 [00:00<00:00, 2181.74it/s]\u001b[A\n",
      " 68%|█████████████████████████▉            | 682/1000 [00:00<00:00, 2342.14it/s]\u001b[A\n",
      "100%|█████████████████████████████████████| 1000/1000 [00:00<00:00, 2414.12it/s]\u001b[A\n"
     ]
    },
    {
     "name": "stdout",
     "output_type": "stream",
     "text": [
      "Limilngan_limi1242.csv\n"
     ]
    },
    {
     "name": "stderr",
     "output_type": "stream",
     "text": [
      "\n",
      "  0%|                                                  | 0/1000 [00:00<?, ?it/s]\u001b[A\n",
      "100%|█████████████████████████████████████| 1000/1000 [00:00<00:00, 6286.50it/s]\u001b[A\n"
     ]
    },
    {
     "name": "stdout",
     "output_type": "stream",
     "text": [
      "Marind_nucl1622.csv\n"
     ]
    },
    {
     "name": "stderr",
     "output_type": "stream",
     "text": [
      "\n",
      "  0%|                                                  | 0/1000 [00:00<?, ?it/s]\u001b[A\n",
      " 28%|██████████▊                           | 285/1000 [00:00<00:00, 2846.90it/s]\u001b[A\n",
      " 58%|██████████████████████▏               | 584/1000 [00:00<00:00, 2929.39it/s]\u001b[A\n",
      "100%|█████████████████████████████████████| 1000/1000 [00:00<00:00, 2885.96it/s]\u001b[A\n"
     ]
    },
    {
     "name": "stdout",
     "output_type": "stream",
     "text": [
      "Miani_mian1254.csv\n"
     ]
    },
    {
     "name": "stderr",
     "output_type": "stream",
     "text": [
      "\n",
      "  0%|                                                  | 0/1000 [00:00<?, ?it/s]\u001b[A\n",
      "100%|█████████████████████████████████████| 1000/1000 [00:00<00:00, 4840.81it/s]\u001b[A\n"
     ]
    },
    {
     "name": "stdout",
     "output_type": "stream",
     "text": [
      "Kombai_komb1274.csv\n"
     ]
    },
    {
     "name": "stderr",
     "output_type": "stream",
     "text": [
      "\n",
      "  0%|                                                  | 0/1000 [00:00<?, ?it/s]\u001b[A\n",
      "100%|█████████████████████████████████████| 1000/1000 [00:00<00:00, 5283.60it/s]\u001b[A\n"
     ]
    },
    {
     "name": "stdout",
     "output_type": "stream",
     "text": [
      "Watam_wata1253.csv\n"
     ]
    },
    {
     "name": "stderr",
     "output_type": "stream",
     "text": [
      "\n",
      "  0%|                                                  | 0/1000 [00:00<?, ?it/s]\u001b[A\n",
      "100%|█████████████████████████████████████| 1000/1000 [00:00<00:00, 5413.89it/s]\u001b[A\n"
     ]
    },
    {
     "name": "stdout",
     "output_type": "stream",
     "text": [
      "Adang_adan1251.csv\n"
     ]
    },
    {
     "name": "stderr",
     "output_type": "stream",
     "text": [
      "\n",
      "  0%|                                                  | 0/1000 [00:00<?, ?it/s]\u001b[A\n",
      " 40%|███████████████                       | 397/1000 [00:00<00:00, 3965.15it/s]\u001b[A\n",
      "100%|█████████████████████████████████████| 1000/1000 [00:00<00:00, 3720.39it/s]\u001b[A\n"
     ]
    },
    {
     "name": "stdout",
     "output_type": "stream",
     "text": [
      "Taiap_taia1239.csv\n"
     ]
    },
    {
     "name": "stderr",
     "output_type": "stream",
     "text": [
      "\n",
      "  0%|                                                  | 0/1000 [00:00<?, ?it/s]\u001b[A\n",
      "100%|█████████████████████████████████████| 1000/1000 [00:00<00:00, 5176.26it/s]\u001b[A\n"
     ]
    },
    {
     "name": "stdout",
     "output_type": "stream",
     "text": [
      "Bininj_Kun-wok_gunw1252.csv\n"
     ]
    },
    {
     "name": "stderr",
     "output_type": "stream",
     "text": [
      "\n",
      "  0%|                                                  | 0/1000 [00:00<?, ?it/s]\u001b[A\n",
      "100%|█████████████████████████████████████| 1000/1000 [00:00<00:00, 5130.21it/s]\u001b[A\n"
     ]
    },
    {
     "name": "stdout",
     "output_type": "stream",
     "text": [
      "Konda_(Western_Dani)_west2594.csv\n"
     ]
    },
    {
     "name": "stderr",
     "output_type": "stream",
     "text": [
      "\n",
      "  0%|                                                  | 0/1000 [00:00<?, ?it/s]\u001b[A\n",
      " 48%|██████████████████                    | 476/1000 [00:00<00:00, 4756.10it/s]\u001b[A\n",
      "100%|█████████████████████████████████████| 1000/1000 [00:00<00:00, 4794.85it/s]\u001b[A\n"
     ]
    },
    {
     "name": "stdout",
     "output_type": "stream",
     "text": [
      "Eyak_eyak1241.csv\n"
     ]
    },
    {
     "name": "stderr",
     "output_type": "stream",
     "text": [
      "\n",
      "  0%|                                                  | 0/1000 [00:00<?, ?it/s]\u001b[A\n",
      "100%|█████████████████████████████████████| 1000/1000 [00:00<00:00, 6318.12it/s]\u001b[A\n"
     ]
    },
    {
     "name": "stdout",
     "output_type": "stream",
     "text": [
      "Northwestern_Maidu_nort2951.csv\n"
     ]
    },
    {
     "name": "stderr",
     "output_type": "stream",
     "text": [
      "\n",
      "  0%|                                                  | 0/1000 [00:00<?, ?it/s]\u001b[A\n",
      " 31%|███████████▉                          | 313/1000 [00:00<00:00, 3128.31it/s]\u001b[A\n",
      " 63%|███████████████████████▉              | 630/1000 [00:00<00:00, 3152.27it/s]\u001b[A\n",
      "100%|█████████████████████████████████████| 1000/1000 [00:00<00:00, 3106.02it/s]\u001b[A\n"
     ]
    },
    {
     "name": "stdout",
     "output_type": "stream",
     "text": [
      "Yuki_yuki1243.csv\n",
      "Amanab_aman1265.csv\n"
     ]
    },
    {
     "name": "stderr",
     "output_type": "stream",
     "text": [
      "\n",
      "  0%|                                                  | 0/1000 [00:00<?, ?it/s]\u001b[A\n",
      " 34%|█████████████                         | 344/1000 [00:00<00:00, 3436.67it/s]\u001b[A\n",
      "100%|█████████████████████████████████████| 1000/1000 [00:00<00:00, 3491.73it/s]\u001b[A\n"
     ]
    },
    {
     "name": "stdout",
     "output_type": "stream",
     "text": [
      "Klon_kelo1247.csv\n",
      "Touo_touo1238.csv\n"
     ]
    },
    {
     "name": "stderr",
     "output_type": "stream",
     "text": [
      "\n",
      "  0%|                                                  | 0/1000 [00:00<?, ?it/s]\u001b[A\n",
      " 29%|███████████▏                          | 293/1000 [00:00<00:00, 2923.86it/s]\u001b[A\n",
      " 59%|██████████████████████▎               | 586/1000 [00:00<00:00, 2841.32it/s]\u001b[A\n",
      "100%|█████████████████████████████████████| 1000/1000 [00:00<00:00, 2893.19it/s]\u001b[A\n"
     ]
    },
    {
     "name": "stdout",
     "output_type": "stream",
     "text": [
      "Nama_nama1266.csv\n"
     ]
    },
    {
     "name": "stderr",
     "output_type": "stream",
     "text": [
      "\n",
      "  0%|                                                  | 0/1000 [00:00<?, ?it/s]\u001b[A\n",
      " 29%|██████████▉                           | 287/1000 [00:00<00:00, 2864.13it/s]\u001b[A\n",
      " 57%|█████████████████████▊                | 574/1000 [00:00<00:00, 2629.86it/s]\u001b[A\n",
      "100%|█████████████████████████████████████| 1000/1000 [00:00<00:00, 2559.57it/s]\u001b[A\n"
     ]
    },
    {
     "name": "stdout",
     "output_type": "stream",
     "text": [
      "Ekari_ekar1243.csv\n"
     ]
    },
    {
     "name": "stderr",
     "output_type": "stream",
     "text": [
      "\n",
      "  0%|                                                  | 0/1000 [00:00<?, ?it/s]\u001b[A\n",
      "100%|█████████████████████████████████████| 1000/1000 [00:00<00:00, 5173.90it/s]\u001b[A\n"
     ]
    },
    {
     "name": "stdout",
     "output_type": "stream",
     "text": [
      "Bari_bari1297.csv\n"
     ]
    },
    {
     "name": "stderr",
     "output_type": "stream",
     "text": [
      "\n",
      "  0%|                                                  | 0/1000 [00:00<?, ?it/s]\u001b[A\n",
      " 27%|██████████▎                           | 270/1000 [00:00<00:00, 2690.13it/s]\u001b[A\n",
      " 54%|████████████████████▌                 | 540/1000 [00:00<00:00, 2094.13it/s]\u001b[A\n",
      "100%|█████████████████████████████████████| 1000/1000 [00:00<00:00, 2331.37it/s]\u001b[A\n"
     ]
    },
    {
     "name": "stdout",
     "output_type": "stream",
     "text": [
      "Idi_nucl1597.csv\n"
     ]
    },
    {
     "name": "stderr",
     "output_type": "stream",
     "text": [
      "\n",
      "  0%|                                                  | 0/1000 [00:00<?, ?it/s]\u001b[A\n",
      "100%|█████████████████████████████████████| 1000/1000 [00:00<00:00, 5658.00it/s]\u001b[A\n"
     ]
    },
    {
     "name": "stdout",
     "output_type": "stream",
     "text": [
      "Lengua_leng1262.csv\n"
     ]
    },
    {
     "name": "stderr",
     "output_type": "stream",
     "text": [
      "\n",
      "  0%|                                                  | 0/1000 [00:00<?, ?it/s]\u001b[A\n",
      " 32%|████████████▏                         | 320/1000 [00:00<00:00, 3196.26it/s]\u001b[A\n",
      " 64%|████████████████████████▎             | 641/1000 [00:00<00:00, 3203.83it/s]\u001b[A\n",
      "100%|█████████████████████████████████████| 1000/1000 [00:00<00:00, 3136.70it/s]\u001b[A\n"
     ]
    },
    {
     "name": "stdout",
     "output_type": "stream",
     "text": [
      "Tehuelche_tehu1242.csv\n"
     ]
    },
    {
     "name": "stderr",
     "output_type": "stream",
     "text": [
      "\n",
      "  0%|                                                  | 0/1000 [00:00<?, ?it/s]\u001b[A\n",
      " 28%|██████████▌                           | 278/1000 [00:00<00:00, 2772.08it/s]\u001b[A\n",
      " 56%|█████████████████████▏                | 559/1000 [00:00<00:00, 2793.15it/s]\u001b[A\n",
      "100%|█████████████████████████████████████| 1000/1000 [00:00<00:00, 2812.66it/s]\u001b[A\n"
     ]
    },
    {
     "name": "stdout",
     "output_type": "stream",
     "text": [
      "Jicarilla_jica1244.csv\n"
     ]
    },
    {
     "name": "stderr",
     "output_type": "stream",
     "text": [
      "\n",
      "  0%|                                                  | 0/1000 [00:00<?, ?it/s]\u001b[A\n",
      " 29%|███████████                           | 292/1000 [00:00<00:00, 2917.58it/s]\u001b[A\n",
      " 58%|██████████████████████▏               | 584/1000 [00:00<00:00, 2512.69it/s]\u001b[A\n",
      "100%|█████████████████████████████████████| 1000/1000 [00:00<00:00, 2616.98it/s]\u001b[A\n"
     ]
    },
    {
     "name": "stdout",
     "output_type": "stream",
     "text": [
      "Muisca_Chibcha__chib1270.csv\n"
     ]
    },
    {
     "name": "stderr",
     "output_type": "stream",
     "text": [
      "\n",
      "  0%|                                                  | 0/1000 [00:00<?, ?it/s]\u001b[A\n",
      "100%|█████████████████████████████████████| 1000/1000 [00:00<00:00, 5515.33it/s]\u001b[A\n"
     ]
    },
    {
     "name": "stdout",
     "output_type": "stream",
     "text": [
      "Au_auuu1241.csv\n"
     ]
    },
    {
     "name": "stderr",
     "output_type": "stream",
     "text": [
      "\n",
      "  0%|                                                  | 0/1000 [00:00<?, ?it/s]\u001b[A\n",
      " 33%|████████████▍                         | 326/1000 [00:00<00:00, 3257.24it/s]\u001b[A\n",
      " 66%|████████████████████████▉             | 657/1000 [00:00<00:00, 3287.92it/s]\u001b[A\n",
      "100%|█████████████████████████████████████| 1000/1000 [00:00<00:00, 3269.83it/s]\u001b[A\n"
     ]
    },
    {
     "name": "stdout",
     "output_type": "stream",
     "text": [
      "Khalkha-Mongolian_mong1331.csv\n"
     ]
    },
    {
     "name": "stderr",
     "output_type": "stream",
     "text": [
      "\n",
      "  0%|                                                  | 0/1000 [00:00<?, ?it/s]\u001b[A\n",
      "100%|█████████████████████████████████████| 1000/1000 [00:00<00:00, 5334.28it/s]\u001b[A\n"
     ]
    },
    {
     "name": "stdout",
     "output_type": "stream",
     "text": [
      "Hunza_hunz1248.csv\n"
     ]
    },
    {
     "name": "stderr",
     "output_type": "stream",
     "text": [
      "\n",
      "  0%|                                                  | 0/1000 [00:00<?, ?it/s]\u001b[A\n",
      " 18%|██████▉                               | 181/1000 [00:00<00:00, 1804.55it/s]\u001b[A\n",
      " 36%|█████████████▊                        | 362/1000 [00:00<00:00, 1788.58it/s]\u001b[A\n",
      " 55%|████████████████████▊                 | 548/1000 [00:00<00:00, 1817.66it/s]\u001b[A\n",
      " 73%|███████████████████████████▋          | 730/1000 [00:00<00:00, 1810.62it/s]\u001b[A\n",
      "100%|█████████████████████████████████████| 1000/1000 [00:00<00:00, 1808.35it/s]\u001b[A\n"
     ]
    },
    {
     "name": "stdout",
     "output_type": "stream",
     "text": [
      "Copper_Inuit_copp1244.csv\n"
     ]
    },
    {
     "name": "stderr",
     "output_type": "stream",
     "text": [
      "\n",
      "  0%|                                                  | 0/1000 [00:00<?, ?it/s]\u001b[A\n",
      " 25%|█████████▎                            | 246/1000 [00:00<00:00, 2457.08it/s]\u001b[A\n",
      " 49%|██████████████████▋                   | 492/1000 [00:00<00:00, 2329.75it/s]\u001b[A\n",
      " 73%|███████████████████████████▌          | 726/1000 [00:00<00:00, 1973.00it/s]\u001b[A\n",
      "100%|█████████████████████████████████████| 1000/1000 [00:00<00:00, 2140.21it/s]\u001b[A\n"
     ]
    },
    {
     "name": "stdout",
     "output_type": "stream",
     "text": [
      "Elamite_elam1244.csv\n"
     ]
    },
    {
     "name": "stderr",
     "output_type": "stream",
     "text": [
      "\n",
      "  0%|                                                  | 0/1000 [00:00<?, ?it/s]\u001b[A\n",
      " 47%|█████████████████▋                    | 467/1000 [00:00<00:00, 4665.39it/s]\u001b[A\n",
      "100%|█████████████████████████████████████| 1000/1000 [00:00<00:00, 4497.70it/s]\u001b[A\n"
     ]
    },
    {
     "name": "stdout",
     "output_type": "stream",
     "text": [
      "Awiakay_awia1234.csv\n"
     ]
    },
    {
     "name": "stderr",
     "output_type": "stream",
     "text": [
      "\n",
      "  0%|                                                  | 0/1000 [00:00<?, ?it/s]\u001b[A\n",
      " 36%|█████████████▌                        | 358/1000 [00:00<00:00, 3569.69it/s]\u001b[A\n",
      "100%|█████████████████████████████████████| 1000/1000 [00:00<00:00, 3453.68it/s]\u001b[A\n"
     ]
    },
    {
     "name": "stdout",
     "output_type": "stream",
     "text": [
      "I'saka_(Krisa)_kris1246.csv\n"
     ]
    },
    {
     "name": "stderr",
     "output_type": "stream",
     "text": [
      "\n",
      "  0%|                                                  | 0/1000 [00:00<?, ?it/s]\u001b[A\n",
      "100%|█████████████████████████████████████| 1000/1000 [00:00<00:00, 7781.25it/s]\u001b[A\n"
     ]
    },
    {
     "name": "stdout",
     "output_type": "stream",
     "text": [
      "Tsafiki_colo1249.csv\n"
     ]
    },
    {
     "name": "stderr",
     "output_type": "stream",
     "text": [
      "\n",
      "  0%|                                                  | 0/1000 [00:00<?, ?it/s]\u001b[A\n",
      "100%|█████████████████████████████████████| 1000/1000 [00:00<00:00, 6428.35it/s]\u001b[A\n"
     ]
    },
    {
     "name": "stdout",
     "output_type": "stream",
     "text": [
      "Wersing_wers1238.csv\n"
     ]
    },
    {
     "name": "stderr",
     "output_type": "stream",
     "text": [
      "\n",
      "  0%|                                                  | 0/1000 [00:00<?, ?it/s]\u001b[A\n",
      "100%|█████████████████████████████████████| 1000/1000 [00:00<00:00, 5159.11it/s]\u001b[A\n"
     ]
    },
    {
     "name": "stdout",
     "output_type": "stream",
     "text": [
      "Itonama_iton1250.csv\n"
     ]
    },
    {
     "name": "stderr",
     "output_type": "stream",
     "text": [
      "\n",
      "  0%|                                                  | 0/1000 [00:00<?, ?it/s]\u001b[A\n",
      " 38%|██████████████▌                       | 382/1000 [00:00<00:00, 3812.31it/s]\u001b[A\n",
      "100%|█████████████████████████████████████| 1000/1000 [00:00<00:00, 3761.07it/s]\u001b[A\n"
     ]
    },
    {
     "name": "stdout",
     "output_type": "stream",
     "text": [
      "Movima_movi1243.csv\n"
     ]
    },
    {
     "name": "stderr",
     "output_type": "stream",
     "text": [
      "\n",
      "  0%|                                                  | 0/1000 [00:00<?, ?it/s]\u001b[A\n",
      "100%|█████████████████████████████████████| 1000/1000 [00:00<00:00, 5880.49it/s]\u001b[A\n"
     ]
    },
    {
     "name": "stdout",
     "output_type": "stream",
     "text": [
      "Yale_kosa1249.csv\n"
     ]
    },
    {
     "name": "stderr",
     "output_type": "stream",
     "text": [
      "\n",
      "  0%|                                                  | 0/1000 [00:00<?, ?it/s]\u001b[A\n",
      "100%|█████████████████████████████████████| 1000/1000 [00:00<00:00, 5266.96it/s]\u001b[A\n"
     ]
    },
    {
     "name": "stdout",
     "output_type": "stream",
     "text": [
      "Yuracare_yura1255.csv\n"
     ]
    },
    {
     "name": "stderr",
     "output_type": "stream",
     "text": [
      "\n",
      "  0%|                                                  | 0/1000 [00:00<?, ?it/s]\u001b[A\n",
      "100%|█████████████████████████████████████| 1000/1000 [00:00<00:00, 5149.09it/s]\u001b[A\n"
     ]
    },
    {
     "name": "stdout",
     "output_type": "stream",
     "text": [
      "Kilmeri_kilm1241.csv\n"
     ]
    },
    {
     "name": "stderr",
     "output_type": "stream",
     "text": [
      "\n",
      "  0%|                                                  | 0/1000 [00:00<?, ?it/s]\u001b[A\n",
      "100%|█████████████████████████████████████| 1000/1000 [00:00<00:00, 5125.13it/s]\u001b[A\n"
     ]
    },
    {
     "name": "stdout",
     "output_type": "stream",
     "text": [
      "Kamang_kama1365.csv\n"
     ]
    },
    {
     "name": "stderr",
     "output_type": "stream",
     "text": [
      "\n",
      "  0%|                                                  | 0/1000 [00:00<?, ?it/s]\u001b[A\n",
      " 37%|██████████████▏                       | 372/1000 [00:00<00:00, 3717.54it/s]\u001b[A\n",
      "100%|█████████████████████████████████████| 1000/1000 [00:00<00:00, 3750.22it/s]\u001b[A\n"
     ]
    },
    {
     "name": "stdout",
     "output_type": "stream",
     "text": [
      "Iau_iauu1242.csv\n"
     ]
    },
    {
     "name": "stderr",
     "output_type": "stream",
     "text": [
      "\n",
      "  0%|                                                  | 0/1000 [00:00<?, ?it/s]\u001b[A\n",
      " 40%|███████████████                       | 398/1000 [00:00<00:00, 3973.12it/s]\u001b[A\n",
      "100%|█████████████████████████████████████| 1000/1000 [00:00<00:00, 3965.63it/s]\u001b[A\n"
     ]
    },
    {
     "name": "stdout",
     "output_type": "stream",
     "text": [
      "Koiari_gras1249.csv\n"
     ]
    },
    {
     "name": "stderr",
     "output_type": "stream",
     "text": [
      "\n",
      "  0%|                                                  | 0/1000 [00:00<?, ?it/s]\u001b[A\n",
      " 33%|████████████▍                         | 327/1000 [00:00<00:00, 3264.72it/s]\u001b[A\n",
      " 65%|████████████████████████▊             | 654/1000 [00:00<00:00, 3109.87it/s]\u001b[A\n",
      "100%|█████████████████████████████████████| 1000/1000 [00:00<00:00, 3125.84it/s]\u001b[A\n"
     ]
    },
    {
     "name": "stdout",
     "output_type": "stream",
     "text": [
      "Páez_paez1247.csv\n"
     ]
    },
    {
     "name": "stderr",
     "output_type": "stream",
     "text": [
      "\n",
      "  0%|                                                  | 0/1000 [00:00<?, ?it/s]\u001b[A\n",
      " 28%|██████████▊                           | 284/1000 [00:00<00:00, 2838.18it/s]\u001b[A\n",
      " 57%|█████████████████████▌                | 569/1000 [00:00<00:00, 2844.23it/s]\u001b[A\n",
      "100%|█████████████████████████████████████| 1000/1000 [00:00<00:00, 2784.18it/s]\u001b[A\n"
     ]
    },
    {
     "name": "stdout",
     "output_type": "stream",
     "text": [
      "Basque_west1508.csv\n"
     ]
    },
    {
     "name": "stderr",
     "output_type": "stream",
     "text": [
      "\n",
      "  0%|                                                  | 0/1000 [00:00<?, ?it/s]\u001b[A\n",
      " 26%|█████████▉                            | 261/1000 [00:00<00:00, 2609.66it/s]\u001b[A\n",
      " 52%|███████████████████▉                  | 524/1000 [00:00<00:00, 2617.66it/s]\u001b[A\n",
      "100%|█████████████████████████████████████| 1000/1000 [00:00<00:00, 2538.28it/s]\u001b[A\n"
     ]
    },
    {
     "name": "stdout",
     "output_type": "stream",
     "text": [
      "Mocoví_moco1246.csv\n"
     ]
    },
    {
     "name": "stderr",
     "output_type": "stream",
     "text": [
      "\n",
      "  0%|                                                  | 0/1000 [00:00<?, ?it/s]\u001b[A\n",
      " 28%|██████████▍                           | 276/1000 [00:00<00:00, 2755.56it/s]\u001b[A\n",
      " 55%|████████████████████▉                 | 552/1000 [00:00<00:00, 2490.36it/s]\u001b[A\n",
      "100%|█████████████████████████████████████| 1000/1000 [00:00<00:00, 2437.49it/s]\u001b[A\n"
     ]
    },
    {
     "name": "stdout",
     "output_type": "stream",
     "text": [
      "Chimariko_chim1301.csv\n"
     ]
    },
    {
     "name": "stderr",
     "output_type": "stream",
     "text": [
      "\n",
      "  0%|                                                  | 0/1000 [00:00<?, ?it/s]\u001b[A\n",
      " 27%|██████████▏                           | 269/1000 [00:00<00:00, 2675.31it/s]\u001b[A\n",
      " 55%|████████████████████▋                 | 546/1000 [00:00<00:00, 2729.78it/s]\u001b[A\n",
      "100%|█████████████████████████████████████| 1000/1000 [00:00<00:00, 2781.01it/s]\u001b[A\n"
     ]
    },
    {
     "name": "stdout",
     "output_type": "stream",
     "text": [
      "Monumbo_nucl1458.csv\n"
     ]
    },
    {
     "name": "stderr",
     "output_type": "stream",
     "text": [
      "\n",
      "  0%|                                                  | 0/1000 [00:00<?, ?it/s]\u001b[A\n",
      "100%|█████████████████████████████████████| 1000/1000 [00:00<00:00, 5133.82it/s]\u001b[A\n"
     ]
    },
    {
     "name": "stdout",
     "output_type": "stream",
     "text": [
      "Kiraman_kira1248.csv\n"
     ]
    },
    {
     "name": "stderr",
     "output_type": "stream",
     "text": [
      "\n",
      "  0%|                                                  | 0/1000 [00:00<?, ?it/s]\u001b[A\n",
      "100%|█████████████████████████████████████| 1000/1000 [00:00<00:00, 6413.63it/s]\u001b[A\n"
     ]
    },
    {
     "name": "stdout",
     "output_type": "stream",
     "text": [
      "Ganggalida_gang1267.csv\n"
     ]
    },
    {
     "name": "stderr",
     "output_type": "stream",
     "text": [
      "\n",
      "  0%|                                                  | 0/1000 [00:00<?, ?it/s]\u001b[A\n",
      " 44%|████████████████▊                     | 444/1000 [00:00<00:00, 4436.71it/s]\u001b[A\n",
      "100%|█████████████████████████████████████| 1000/1000 [00:00<00:00, 4679.11it/s]\u001b[A\n"
     ]
    },
    {
     "name": "stdout",
     "output_type": "stream",
     "text": [
      "Pumé_pume1238.csv\n"
     ]
    },
    {
     "name": "stderr",
     "output_type": "stream",
     "text": [
      "\n",
      "  0%|                                                  | 0/1000 [00:00<?, ?it/s]\u001b[A\n",
      " 27%|██████████▎                           | 272/1000 [00:00<00:00, 2719.06it/s]\u001b[A\n",
      " 55%|████████████████████▋                 | 546/1000 [00:00<00:00, 2730.76it/s]\u001b[A\n",
      "100%|█████████████████████████████████████| 1000/1000 [00:00<00:00, 2741.12it/s]\u001b[A\n"
     ]
    },
    {
     "name": "stdout",
     "output_type": "stream",
     "text": [
      "Cusco_Quechua_cusc1236.csv\n"
     ]
    },
    {
     "name": "stderr",
     "output_type": "stream",
     "text": [
      "\n",
      "  0%|                                                  | 0/1000 [00:00<?, ?it/s]\u001b[A\n",
      " 38%|██████████████▎                       | 375/1000 [00:00<00:00, 3735.11it/s]\u001b[A\n",
      "100%|█████████████████████████████████████| 1000/1000 [00:00<00:00, 3681.02it/s]\u001b[A\n"
     ]
    },
    {
     "name": "stdout",
     "output_type": "stream",
     "text": [
      "Daribi_dadi1250.csv\n"
     ]
    },
    {
     "name": "stderr",
     "output_type": "stream",
     "text": [
      "\n",
      "  0%|                                                  | 0/1000 [00:00<?, ?it/s]\u001b[A\n",
      " 24%|█████████                             | 239/1000 [00:00<00:00, 2389.81it/s]\u001b[A\n",
      " 55%|█████████████████████                 | 554/1000 [00:00<00:00, 2835.65it/s]\u001b[A\n",
      "100%|█████████████████████████████████████| 1000/1000 [00:00<00:00, 2862.36it/s]\u001b[A\n"
     ]
    },
    {
     "name": "stdout",
     "output_type": "stream",
     "text": [
      "Tolowa_tolo1259.csv\n"
     ]
    },
    {
     "name": "stderr",
     "output_type": "stream",
     "text": [
      "\n",
      "  0%|                                                  | 0/1000 [00:00<?, ?it/s]\u001b[A\n",
      " 42%|████████████████                      | 424/1000 [00:00<00:00, 4230.56it/s]\u001b[A\n",
      "100%|█████████████████████████████████████| 1000/1000 [00:00<00:00, 3843.20it/s]\u001b[A\n"
     ]
    },
    {
     "name": "stdout",
     "output_type": "stream",
     "text": [
      "Wailaki_wail1244.csv\n"
     ]
    },
    {
     "name": "stderr",
     "output_type": "stream",
     "text": [
      "\n",
      "  0%|                                                  | 0/1000 [00:00<?, ?it/s]\u001b[A\n",
      " 34%|█████████████                         | 343/1000 [00:00<00:00, 3423.74it/s]\u001b[A\n",
      "100%|█████████████████████████████████████| 1000/1000 [00:00<00:00, 3426.04it/s]\u001b[A\n"
     ]
    },
    {
     "name": "stdout",
     "output_type": "stream",
     "text": [
      "Mapudungun_mapu1245.csv\n"
     ]
    },
    {
     "name": "stderr",
     "output_type": "stream",
     "text": [
      "\n",
      "  0%|                                                  | 0/1000 [00:00<?, ?it/s]\u001b[A\n",
      " 28%|██████████▋                           | 280/1000 [00:00<00:00, 2789.32it/s]\u001b[A\n",
      " 56%|█████████████████████▏                | 559/1000 [00:00<00:00, 2717.84it/s]\u001b[A\n",
      "100%|█████████████████████████████████████| 1000/1000 [00:00<00:00, 2736.95it/s]\u001b[A\n"
     ]
    },
    {
     "name": "stdout",
     "output_type": "stream",
     "text": [
      "Tucanoan_Bará_waim1255.csv\n"
     ]
    },
    {
     "name": "stderr",
     "output_type": "stream",
     "text": [
      "\n",
      "  0%|                                                  | 0/1000 [00:00<?, ?it/s]\u001b[A\n",
      " 37%|██████████████▏                       | 372/1000 [00:00<00:00, 3710.94it/s]\u001b[A\n",
      "100%|█████████████████████████████████████| 1000/1000 [00:00<00:00, 3774.45it/s]\u001b[A\n"
     ]
    },
    {
     "name": "stdout",
     "output_type": "stream",
     "text": [
      "Seri_seri1257.csv\n"
     ]
    },
    {
     "name": "stderr",
     "output_type": "stream",
     "text": [
      "\n",
      "  0%|                                                  | 0/1000 [00:00<?, ?it/s]\u001b[A\n",
      " 31%|███████████▊                          | 310/1000 [00:00<00:00, 3098.30it/s]\u001b[A\n",
      " 62%|███████████████████████▊              | 625/1000 [00:00<00:00, 3125.14it/s]\u001b[A\n",
      "100%|█████████████████████████████████████| 1000/1000 [00:00<00:00, 3046.68it/s]\u001b[A\n"
     ]
    },
    {
     "name": "stdout",
     "output_type": "stream",
     "text": [
      "Cruzeño_cruz1243.csv\n"
     ]
    },
    {
     "name": "stderr",
     "output_type": "stream",
     "text": [
      "\n",
      "100%|████████████████████████████████████| 1000/1000 [00:00<00:00, 10843.04it/s]\u001b[A\n"
     ]
    },
    {
     "name": "stdout",
     "output_type": "stream",
     "text": [
      "Yucatec_Maya_yuca1254.csv\n"
     ]
    },
    {
     "name": "stderr",
     "output_type": "stream",
     "text": [
      "\n",
      "  0%|                                                  | 0/1000 [00:00<?, ?it/s]\u001b[A\n",
      " 43%|████████████████▍                     | 434/1000 [00:00<00:00, 4328.74it/s]\u001b[A\n",
      "100%|█████████████████████████████████████| 1000/1000 [00:00<00:00, 4586.00it/s]\u001b[A\n"
     ]
    },
    {
     "name": "stdout",
     "output_type": "stream",
     "text": [
      "Neme_neme1244.csv\n"
     ]
    },
    {
     "name": "stderr",
     "output_type": "stream",
     "text": [
      "\n",
      "  0%|                                                  | 0/1000 [00:00<?, ?it/s]\u001b[A\n",
      "100%|█████████████████████████████████████| 1000/1000 [00:00<00:00, 7249.53it/s]\u001b[A\n"
     ]
    },
    {
     "name": "stdout",
     "output_type": "stream",
     "text": [
      "DeneTha_South_Slavey__sout2959.csv\n"
     ]
    },
    {
     "name": "stderr",
     "output_type": "stream",
     "text": [
      "\n",
      "  0%|                                                  | 0/1000 [00:00<?, ?it/s]\u001b[A\n",
      " 28%|██████████▋                           | 281/1000 [00:00<00:00, 2803.31it/s]\u001b[A\n",
      " 56%|█████████████████████▍                | 563/1000 [00:00<00:00, 2806.83it/s]\u001b[A\n",
      "100%|█████████████████████████████████████| 1000/1000 [00:00<00:00, 2715.95it/s]\u001b[A\n"
     ]
    },
    {
     "name": "stdout",
     "output_type": "stream",
     "text": [
      "Qawasquar_qawa1238.csv\n"
     ]
    },
    {
     "name": "stderr",
     "output_type": "stream",
     "text": [
      "\n",
      "  0%|                                                  | 0/1000 [00:00<?, ?it/s]\u001b[A\n",
      " 33%|████████████▍                         | 328/1000 [00:00<00:00, 3277.08it/s]\u001b[A\n",
      " 66%|█████████████████████████▏            | 663/1000 [00:00<00:00, 3319.61it/s]\u001b[A\n",
      "100%|█████████████████████████████████████| 1000/1000 [00:00<00:00, 3209.01it/s]\u001b[A\n"
     ]
    },
    {
     "name": "stdout",
     "output_type": "stream",
     "text": [
      "Tabla_tabl1243.csv\n"
     ]
    },
    {
     "name": "stderr",
     "output_type": "stream",
     "text": [
      "\n",
      "  0%|                                                  | 0/1000 [00:00<?, ?it/s]\u001b[A\n",
      " 33%|████████████▌                         | 332/1000 [00:00<00:00, 3309.63it/s]\u001b[A\n",
      "100%|█████████████████████████████████████| 1000/1000 [00:00<00:00, 3336.39it/s]\u001b[A\n"
     ]
    },
    {
     "name": "stdout",
     "output_type": "stream",
     "text": [
      "Kogi_cogu1240.csv\n"
     ]
    },
    {
     "name": "stderr",
     "output_type": "stream",
     "text": [
      "\n",
      "  0%|                                                  | 0/1000 [00:00<?, ?it/s]\u001b[A\n",
      "100%|█████████████████████████████████████| 1000/1000 [00:00<00:00, 6407.42it/s]\u001b[A\n"
     ]
    },
    {
     "name": "stdout",
     "output_type": "stream",
     "text": [
      "Iyojwa_ja_Chorote_iyoj1235.csv\n"
     ]
    },
    {
     "name": "stderr",
     "output_type": "stream",
     "text": [
      "\n",
      "  0%|                                                  | 0/1000 [00:00<?, ?it/s]\u001b[A\n",
      " 29%|███████████                           | 291/1000 [00:00<00:00, 2909.10it/s]\u001b[A\n",
      "100%|█████████████████████████████████████| 1000/1000 [00:00<00:00, 3538.94it/s]\u001b[A\n"
     ]
    },
    {
     "name": "stdout",
     "output_type": "stream",
     "text": [
      "Nungon_yaum1237.csv\n"
     ]
    },
    {
     "name": "stderr",
     "output_type": "stream",
     "text": [
      "\n",
      "  0%|                                                  | 0/1000 [00:00<?, ?it/s]\u001b[A\n",
      " 50%|███████████████████                   | 500/1000 [00:00<00:00, 4991.18it/s]\u001b[A\n",
      "100%|█████████████████████████████████████| 1000/1000 [00:00<00:00, 4802.45it/s]\u001b[A\n"
     ]
    },
    {
     "name": "stdout",
     "output_type": "stream",
     "text": [
      "Chipaya_chip1262.csv\n"
     ]
    },
    {
     "name": "stderr",
     "output_type": "stream",
     "text": [
      "\n",
      "  0%|                                                  | 0/1000 [00:00<?, ?it/s]\u001b[A\n",
      "100%|█████████████████████████████████████| 1000/1000 [00:00<00:00, 9062.91it/s]\u001b[A\n"
     ]
    },
    {
     "name": "stdout",
     "output_type": "stream",
     "text": [
      "Yamana_yama1264.csv\n"
     ]
    },
    {
     "name": "stderr",
     "output_type": "stream",
     "text": [
      "\n",
      "  0%|                                                  | 0/1000 [00:00<?, ?it/s]\u001b[A\n",
      " 27%|██████████▎                           | 272/1000 [00:00<00:00, 2718.65it/s]\u001b[A\n",
      " 54%|████████████████████▋                 | 544/1000 [00:00<00:00, 2674.23it/s]\u001b[A\n",
      "100%|█████████████████████████████████████| 1000/1000 [00:00<00:00, 2583.48it/s]\u001b[A\n"
     ]
    },
    {
     "name": "stdout",
     "output_type": "stream",
     "text": [
      "Karok_karo1304.csv\n"
     ]
    },
    {
     "name": "stderr",
     "output_type": "stream",
     "text": [
      "\n",
      "  0%|                                                  | 0/1000 [00:00<?, ?it/s]\u001b[A\n",
      "100%|█████████████████████████████████████| 1000/1000 [00:00<00:00, 5703.24it/s]\u001b[A\n"
     ]
    },
    {
     "name": "stdout",
     "output_type": "stream",
     "text": [
      "Tidore_tido1249.csv\n"
     ]
    },
    {
     "name": "stderr",
     "output_type": "stream",
     "text": [
      "\n",
      "  0%|                                                  | 0/1000 [00:00<?, ?it/s]\u001b[A\n",
      "100%|█████████████████████████████████████| 1000/1000 [00:00<00:00, 5277.80it/s]\u001b[A\n"
     ]
    },
    {
     "name": "stdout",
     "output_type": "stream",
     "text": [
      "Pilagá_pila1245.csv\n"
     ]
    },
    {
     "name": "stderr",
     "output_type": "stream",
     "text": [
      "\n",
      "  0%|                                                  | 0/1000 [00:00<?, ?it/s]\u001b[A\n",
      " 28%|██████████▌                           | 277/1000 [00:00<00:00, 2764.80it/s]\u001b[A\n",
      " 55%|█████████████████████                 | 554/1000 [00:00<00:00, 2743.32it/s]\u001b[A\n",
      "100%|█████████████████████████████████████| 1000/1000 [00:00<00:00, 2749.50it/s]\u001b[A\n"
     ]
    },
    {
     "name": "stdout",
     "output_type": "stream",
     "text": [
      "Alamblak_alam1246.csv\n"
     ]
    },
    {
     "name": "stderr",
     "output_type": "stream",
     "text": [
      "\n",
      "  0%|                                                  | 0/1000 [00:00<?, ?it/s]\u001b[A\n",
      "100%|█████████████████████████████████████| 1000/1000 [00:00<00:00, 5084.87it/s]\u001b[A\n"
     ]
    },
    {
     "name": "stdout",
     "output_type": "stream",
     "text": [
      "Northeastern_Maidu_nort2952.csv\n"
     ]
    },
    {
     "name": "stderr",
     "output_type": "stream",
     "text": [
      "\n",
      "  0%|                                                  | 0/1000 [00:00<?, ?it/s]\u001b[A\n",
      " 15%|█████▋                                | 151/1000 [00:00<00:00, 1447.15it/s]\u001b[A\n",
      " 31%|███████████▉                          | 314/1000 [00:00<00:00, 1551.91it/s]\u001b[A\n",
      " 58%|██████████████████████▏               | 583/1000 [00:00<00:00, 2063.70it/s]\u001b[A\n",
      "100%|█████████████████████████████████████| 1000/1000 [00:00<00:00, 2158.63it/s]\u001b[A\n"
     ]
    },
    {
     "name": "stdout",
     "output_type": "stream",
     "text": [
      "Negwa_(Yagwoia)_yagw1240.csv\n"
     ]
    },
    {
     "name": "stderr",
     "output_type": "stream",
     "text": [
      "\n",
      "  0%|                                                  | 0/1000 [00:00<?, ?it/s]\u001b[A\n",
      " 46%|█████████████████▎                    | 457/1000 [00:00<00:00, 4567.17it/s]\u001b[A\n",
      "100%|█████████████████████████████████████| 1000/1000 [00:00<00:00, 4626.22it/s]\u001b[A\n"
     ]
    },
    {
     "name": "stdout",
     "output_type": "stream",
     "text": [
      "Wichí_wich1264.csv\n"
     ]
    },
    {
     "name": "stderr",
     "output_type": "stream",
     "text": [
      "\n",
      "  0%|                                                  | 0/1000 [00:00<?, ?it/s]\u001b[A\n",
      "100%|█████████████████████████████████████| 1000/1000 [00:00<00:00, 7894.34it/s]\u001b[A\n"
     ]
    },
    {
     "name": "stdout",
     "output_type": "stream",
     "text": [
      "Eipo_eipo1242.csv\n"
     ]
    },
    {
     "name": "stderr",
     "output_type": "stream",
     "text": [
      "\n",
      "  0%|                                                  | 0/1000 [00:00<?, ?it/s]\u001b[A\n",
      " 30%|███████████▍                          | 302/1000 [00:00<00:00, 3018.76it/s]\u001b[A\n",
      " 60%|██████████████████████▉               | 604/1000 [00:00<00:00, 2975.05it/s]\u001b[A\n",
      "100%|█████████████████████████████████████| 1000/1000 [00:00<00:00, 2984.28it/s]\u001b[A\n"
     ]
    },
    {
     "name": "stdout",
     "output_type": "stream",
     "text": [
      "Isirawa_isir1237.csv\n"
     ]
    },
    {
     "name": "stderr",
     "output_type": "stream",
     "text": [
      "\n",
      "  0%|                                                  | 0/1000 [00:00<?, ?it/s]\u001b[A\n",
      " 36%|█████████████▌                        | 356/1000 [00:00<00:00, 3552.54it/s]\u001b[A\n",
      "100%|█████████████████████████████████████| 1000/1000 [00:00<00:00, 3406.17it/s]\u001b[A\n"
     ]
    },
    {
     "name": "stdout",
     "output_type": "stream",
     "text": [
      "Hupa_hupa1239.csv\n"
     ]
    },
    {
     "name": "stderr",
     "output_type": "stream",
     "text": [
      "\n",
      "  0%|                                                  | 0/1000 [00:00<?, ?it/s]\u001b[A\n",
      "100%|█████████████████████████████████████| 1000/1000 [00:00<00:00, 5192.38it/s]\u001b[A\n"
     ]
    },
    {
     "name": "stdout",
     "output_type": "stream",
     "text": [
      "NorthMuyu_nort2916.csv\n"
     ]
    },
    {
     "name": "stderr",
     "output_type": "stream",
     "text": [
      "\n",
      "  0%|                                                  | 0/1000 [00:00<?, ?it/s]\u001b[A\n",
      " 44%|████████████████▋                     | 438/1000 [00:00<00:00, 4364.06it/s]\u001b[A\n",
      "100%|█████████████████████████████████████| 1000/1000 [00:00<00:00, 4559.40it/s]\u001b[A\n"
     ]
    },
    {
     "name": "stdout",
     "output_type": "stream",
     "text": [
      "Hoti_Yuwana__yuwa1244.csv\n"
     ]
    },
    {
     "name": "stderr",
     "output_type": "stream",
     "text": [
      "\n",
      "  0%|                                                  | 0/1000 [00:00<?, ?it/s]\u001b[A\n",
      "100%|█████████████████████████████████████| 1000/1000 [00:00<00:00, 7898.89it/s]\u001b[A\n"
     ]
    },
    {
     "name": "stdout",
     "output_type": "stream",
     "text": [
      "Wambaya_wamb1258.csv\n"
     ]
    },
    {
     "name": "stderr",
     "output_type": "stream",
     "text": [
      "\n",
      "  0%|                                                  | 0/1000 [00:00<?, ?it/s]\u001b[A\n",
      " 32%|████████████▎                         | 325/1000 [00:00<00:00, 3239.73it/s]\u001b[A\n",
      " 66%|█████████████████████████             | 658/1000 [00:00<00:00, 3292.45it/s]\u001b[A\n",
      "100%|█████████████████████████████████████| 1000/1000 [00:00<00:00, 3185.42it/s]\u001b[A\n"
     ]
    },
    {
     "name": "stdout",
     "output_type": "stream",
     "text": [
      "Northern_Haida_nort2938.csv\n"
     ]
    },
    {
     "name": "stderr",
     "output_type": "stream",
     "text": [
      "\n",
      "  0%|                                                  | 0/1000 [00:00<?, ?it/s]\u001b[A\n",
      "100%|█████████████████████████████████████| 1000/1000 [00:00<00:00, 6179.89it/s]\u001b[A\n"
     ]
    },
    {
     "name": "stdout",
     "output_type": "stream",
     "text": [
      "Epena_epen1239.csv\n"
     ]
    },
    {
     "name": "stderr",
     "output_type": "stream",
     "text": [
      "\n",
      "  0%|                                                  | 0/1000 [00:00<?, ?it/s]\u001b[A\n",
      "100%|█████████████████████████████████████| 1000/1000 [00:00<00:00, 7285.66it/s]\u001b[A\n"
     ]
    },
    {
     "name": "stdout",
     "output_type": "stream",
     "text": [
      "Wipi_wipi1242.csv\n"
     ]
    },
    {
     "name": "stderr",
     "output_type": "stream",
     "text": [
      "\n",
      "100%|████████████████████████████████████| 1000/1000 [00:00<00:00, 12708.93it/s]\u001b[A\n"
     ]
    },
    {
     "name": "stdout",
     "output_type": "stream",
     "text": [
      "Telefol_tele1256.csv\n"
     ]
    },
    {
     "name": "stderr",
     "output_type": "stream",
     "text": [
      "\n",
      "  0%|                                                  | 0/1000 [00:00<?, ?it/s]\u001b[A\n",
      " 30%|███████████▍                          | 301/1000 [00:00<00:00, 3007.69it/s]\u001b[A\n",
      " 60%|██████████████████████▉               | 602/1000 [00:00<00:00, 2990.65it/s]\u001b[A\n",
      "100%|█████████████████████████████████████| 1000/1000 [00:00<00:00, 2982.74it/s]\u001b[A\n"
     ]
    },
    {
     "name": "stdout",
     "output_type": "stream",
     "text": [
      "Cofan_cofa1242.csv\n"
     ]
    },
    {
     "name": "stderr",
     "output_type": "stream",
     "text": [
      "\n",
      "  0%|                                                  | 0/1000 [00:00<?, ?it/s]\u001b[A\n",
      " 41%|███████████████▌                      | 408/1000 [00:00<00:00, 4072.87it/s]\u001b[A\n",
      "100%|█████████████████████████████████████| 1000/1000 [00:00<00:00, 4029.41it/s]\u001b[A\n"
     ]
    },
    {
     "name": "stdout",
     "output_type": "stream",
     "text": [
      "Nagovisi_sibe1248.csv\n"
     ]
    },
    {
     "name": "stderr",
     "output_type": "stream",
     "text": [
      "\n",
      "  0%|                                                  | 0/1000 [00:00<?, ?it/s]\u001b[A\n",
      "100%|█████████████████████████████████████| 1000/1000 [00:00<00:00, 4439.35it/s]\u001b[A\n"
     ]
    },
    {
     "name": "stdout",
     "output_type": "stream",
     "text": [
      "Selk_nam_onaa1245.csv\n"
     ]
    },
    {
     "name": "stderr",
     "output_type": "stream",
     "text": [
      "\n",
      "  0%|                                                  | 0/1000 [00:00<?, ?it/s]\u001b[A\n",
      " 29%|███████████                           | 290/1000 [00:00<00:00, 2898.93it/s]\u001b[A\n",
      " 58%|██████████████████████                | 580/1000 [00:00<00:00, 2813.98it/s]\u001b[A\n",
      "100%|█████████████████████████████████████| 1000/1000 [00:00<00:00, 2787.75it/s]\u001b[A\n"
     ]
    },
    {
     "name": "stdout",
     "output_type": "stream",
     "text": [
      "Loloda-Laba_(Loda)_lolo1264.csv\n"
     ]
    },
    {
     "name": "stderr",
     "output_type": "stream",
     "text": [
      "\n",
      "  0%|                                                  | 0/1000 [00:00<?, ?it/s]\u001b[A\n",
      "100%|█████████████████████████████████████| 1000/1000 [00:00<00:00, 6700.88it/s]\u001b[A\n"
     ]
    },
    {
     "name": "stdout",
     "output_type": "stream",
     "text": [
      "Jingulu_djin1251.csv\n"
     ]
    },
    {
     "name": "stderr",
     "output_type": "stream",
     "text": [
      "\n",
      "  0%|                                                  | 0/1000 [00:00<?, ?it/s]\u001b[A\n",
      "100%|█████████████████████████████████████| 1000/1000 [00:00<00:00, 5111.48it/s]\u001b[A\n"
     ]
    },
    {
     "name": "stdout",
     "output_type": "stream",
     "text": [
      "Mala_mala1294.csv\n"
     ]
    },
    {
     "name": "stderr",
     "output_type": "stream",
     "text": [
      "\n",
      "  0%|                                                  | 0/1000 [00:00<?, ?it/s]\u001b[A\n",
      " 48%|██████████████████▏                   | 479/1000 [00:00<00:00, 4786.88it/s]\u001b[A\n",
      "100%|█████████████████████████████████████| 1000/1000 [00:00<00:00, 4468.43it/s]\u001b[A\n"
     ]
    },
    {
     "name": "stdout",
     "output_type": "stream",
     "text": [
      "Kashaya_kash1280.csv\n"
     ]
    },
    {
     "name": "stderr",
     "output_type": "stream",
     "text": [
      "\n",
      "  0%|                                                  | 0/1000 [00:00<?, ?it/s]\u001b[A\n",
      " 35%|█████████████▎                        | 350/1000 [00:00<00:00, 3494.83it/s]\u001b[A\n",
      "100%|█████████████████████████████████████| 1000/1000 [00:00<00:00, 3268.36it/s]\u001b[A\n"
     ]
    },
    {
     "name": "stdout",
     "output_type": "stream",
     "text": [
      "Zuni_zuni1245.csv\n"
     ]
    },
    {
     "name": "stderr",
     "output_type": "stream",
     "text": [
      "\n",
      "  0%|                                                  | 0/1000 [00:00<?, ?it/s]\u001b[A\n",
      "100%|█████████████████████████████████████| 1000/1000 [00:00<00:00, 7304.87it/s]\u001b[A\n"
     ]
    },
    {
     "name": "stdout",
     "output_type": "stream",
     "text": [
      "Keyagana_(Jate)_keya1238.csv\n",
      "Aguaruna_agua1253.csv\n"
     ]
    },
    {
     "name": "stderr",
     "output_type": "stream",
     "text": [
      "\n",
      "  0%|                                                  | 0/1000 [00:00<?, ?it/s]\u001b[A\n",
      " 26%|██████████                            | 264/1000 [00:00<00:00, 2629.33it/s]\u001b[A\n",
      " 54%|████████████████████▍                 | 538/1000 [00:00<00:00, 2689.68it/s]\u001b[A\n",
      "100%|█████████████████████████████████████| 1000/1000 [00:00<00:00, 2623.64it/s]\u001b[A\n"
     ]
    },
    {
     "name": "stdout",
     "output_type": "stream",
     "text": [
      "Coastal_Yuki_yuki1243b.csv\n",
      "Quechan_quec1382.csv\n"
     ]
    },
    {
     "name": "stderr",
     "output_type": "stream",
     "text": [
      "\n",
      "  0%|                                                  | 0/1000 [00:00<?, ?it/s]\u001b[A\n",
      " 43%|████████████████▍                     | 431/1000 [00:00<00:00, 4308.63it/s]\u001b[A\n",
      "100%|█████████████████████████████████████| 1000/1000 [00:00<00:00, 4225.67it/s]\u001b[A\n"
     ]
    },
    {
     "name": "stdout",
     "output_type": "stream",
     "text": [
      "Ninam_nina1238.csv\n"
     ]
    },
    {
     "name": "stderr",
     "output_type": "stream",
     "text": [
      "\n",
      "  0%|                                                  | 0/1000 [00:00<?, ?it/s]\u001b[A\n",
      " 31%|███████████▊                          | 311/1000 [00:00<00:00, 3109.75it/s]\u001b[A\n",
      " 62%|███████████████████████▋              | 623/1000 [00:00<00:00, 3115.65it/s]\u001b[A\n",
      "100%|█████████████████████████████████████| 1000/1000 [00:00<00:00, 2860.62it/s]\u001b[A\n"
     ]
    },
    {
     "name": "stdout",
     "output_type": "stream",
     "text": [
      "Siwai_Motuna_siwa1245.csv\n"
     ]
    },
    {
     "name": "stderr",
     "output_type": "stream",
     "text": [
      "\n",
      "  0%|                                                  | 0/1000 [00:00<?, ?it/s]\u001b[A\n",
      " 36%|█████████████▌                        | 356/1000 [00:00<00:00, 3552.58it/s]\u001b[A\n",
      "100%|█████████████████████████████████████| 1000/1000 [00:00<00:00, 3793.30it/s]\u001b[A\n"
     ]
    },
    {
     "name": "stdout",
     "output_type": "stream",
     "text": [
      "Yukulta_(Ganggalida)_gang1267a.csv\n"
     ]
    },
    {
     "name": "stderr",
     "output_type": "stream",
     "text": [
      "\n",
      "  0%|                                                  | 0/1000 [00:00<?, ?it/s]\u001b[A\n",
      " 43%|████████████████▎                     | 429/1000 [00:00<00:00, 4286.06it/s]\u001b[A\n",
      "100%|█████████████████████████████████████| 1000/1000 [00:00<00:00, 4111.24it/s]\u001b[A\n"
     ]
    },
    {
     "name": "stdout",
     "output_type": "stream",
     "text": [
      "Galeia_B_gale1259.csv\n",
      "Tidore_(version_2)_tido1248a.csv\n"
     ]
    },
    {
     "name": "stderr",
     "output_type": "stream",
     "text": [
      "\n",
      "  0%|                                                  | 0/1000 [00:00<?, ?it/s]\u001b[A\n",
      "100%|█████████████████████████████████████| 1000/1000 [00:00<00:00, 6901.45it/s]\u001b[A\n"
     ]
    },
    {
     "name": "stdout",
     "output_type": "stream",
     "text": [
      "Komnzo_komn1238.csv\n"
     ]
    },
    {
     "name": "stderr",
     "output_type": "stream",
     "text": [
      "\n",
      "  0%|                                                  | 0/1000 [00:00<?, ?it/s]\u001b[A\n",
      " 32%|████████████                          | 319/1000 [00:00<00:00, 3189.42it/s]\u001b[A\n",
      " 64%|████████████████████████▏             | 638/1000 [00:00<00:00, 3063.55it/s]\u001b[A\n",
      "100%|█████████████████████████████████████| 1000/1000 [00:00<00:00, 2888.40it/s]\u001b[A\n"
     ]
    },
    {
     "name": "stdout",
     "output_type": "stream",
     "text": [
      "Atsugewi_atsu1245.csv\n"
     ]
    },
    {
     "name": "stderr",
     "output_type": "stream",
     "text": [
      "\n",
      "  0%|                                                  | 0/1000 [00:00<?, ?it/s]\u001b[A\n",
      "100%|█████████████████████████████████████| 1000/1000 [00:00<00:00, 5571.94it/s]\u001b[A\n"
     ]
    },
    {
     "name": "stdout",
     "output_type": "stream",
     "text": [
      "Basque_basq1248.csv\n"
     ]
    },
    {
     "name": "stderr",
     "output_type": "stream",
     "text": [
      "\n",
      "  0%|                                                  | 0/1000 [00:00<?, ?it/s]\u001b[A\n",
      " 28%|██████████▋                           | 280/1000 [00:00<00:00, 2799.22it/s]\u001b[A\n",
      " 56%|█████████████████████▎                | 560/1000 [00:00<00:00, 2494.21it/s]\u001b[A\n",
      "100%|█████████████████████████████████████| 1000/1000 [00:00<00:00, 2328.88it/s]\u001b[A\n"
     ]
    },
    {
     "name": "stdout",
     "output_type": "stream",
     "text": [
      "Kuman_kuma1280.csv\n"
     ]
    },
    {
     "name": "stderr",
     "output_type": "stream",
     "text": [
      "\n",
      "  0%|                                                  | 0/1000 [00:00<?, ?it/s]\u001b[A\n",
      " 30%|███████████▌                          | 304/1000 [00:00<00:00, 3031.09it/s]\u001b[A\n",
      " 61%|███████████████████████               | 608/1000 [00:00<00:00, 2351.06it/s]\u001b[A\n",
      "100%|█████████████████████████████████████| 1000/1000 [00:00<00:00, 2479.56it/s]\u001b[A\n"
     ]
    },
    {
     "name": "stdout",
     "output_type": "stream",
     "text": [
      "Kunimaipa_kuni1267.csv\n"
     ]
    },
    {
     "name": "stderr",
     "output_type": "stream",
     "text": [
      "\n",
      "  0%|                                                  | 0/1000 [00:00<?, ?it/s]\u001b[A\n",
      "100%|█████████████████████████████████████| 1000/1000 [00:00<00:00, 5168.22it/s]\u001b[A\n"
     ]
    },
    {
     "name": "stdout",
     "output_type": "stream",
     "text": [
      "Western_Apache_west2615.csv\n"
     ]
    },
    {
     "name": "stderr",
     "output_type": "stream",
     "text": [
      "\n",
      "  0%|                                                  | 0/1000 [00:00<?, ?it/s]\u001b[A\n",
      " 29%|██████████▉                           | 288/1000 [00:00<00:00, 2872.53it/s]\u001b[A\n",
      " 58%|█████████████████████▉                | 576/1000 [00:00<00:00, 2571.01it/s]\u001b[A\n",
      "100%|█████████████████████████████████████| 1000/1000 [00:00<00:00, 2571.83it/s]\u001b[A\n"
     ]
    },
    {
     "name": "stdout",
     "output_type": "stream",
     "text": [
      "Kewa_east2516.csv\n",
      "Kaure_kaur1271.csv\n"
     ]
    },
    {
     "name": "stderr",
     "output_type": "stream",
     "text": [
      "\n",
      "  0%|                                                  | 0/1000 [00:00<?, ?it/s]\u001b[A\n",
      " 45%|█████████████████                     | 450/1000 [00:00<00:00, 4498.87it/s]\u001b[A\n",
      "100%|█████████████████████████████████████| 1000/1000 [00:00<00:00, 4455.12it/s]\u001b[A\n"
     ]
    },
    {
     "name": "stdout",
     "output_type": "stream",
     "text": [
      "Nambo_namb1293.csv\n"
     ]
    },
    {
     "name": "stderr",
     "output_type": "stream",
     "text": [
      "\n",
      "  0%|                                                  | 0/1000 [00:00<?, ?it/s]\u001b[A\n",
      " 42%|████████████████                      | 424/1000 [00:00<00:00, 4233.91it/s]\u001b[A\n",
      "100%|█████████████████████████████████████| 1000/1000 [00:00<00:00, 4532.89it/s]\u001b[A\n"
     ]
    },
    {
     "name": "stdout",
     "output_type": "stream",
     "text": [
      "Edopi_edop1238.csv\n"
     ]
    },
    {
     "name": "stderr",
     "output_type": "stream",
     "text": [
      "\n",
      "  0%|                                                  | 0/1000 [00:00<?, ?it/s]\u001b[A\n",
      " 36%|█████████████▊                        | 365/1000 [00:00<00:00, 3642.28it/s]\u001b[A\n",
      "100%|█████████████████████████████████████| 1000/1000 [00:00<00:00, 3590.78it/s]\u001b[A\n"
     ]
    },
    {
     "name": "stdout",
     "output_type": "stream",
     "text": [
      "Mattole_matt1238.csv\n"
     ]
    },
    {
     "name": "stderr",
     "output_type": "stream",
     "text": [
      "\n",
      "100%|████████████████████████████████████| 1000/1000 [00:00<00:00, 10054.50it/s]\u001b[A\n"
     ]
    },
    {
     "name": "stdout",
     "output_type": "stream",
     "text": [
      "Momu-Fas_fass1245.csv\n"
     ]
    },
    {
     "name": "stderr",
     "output_type": "stream",
     "text": [
      "\n",
      "  0%|                                                  | 0/1000 [00:00<?, ?it/s]\u001b[A\n",
      " 39%|██████████████▊                       | 391/1000 [00:00<00:00, 3903.51it/s]\u001b[A\n",
      "100%|█████████████████████████████████████| 1000/1000 [00:00<00:00, 3907.15it/s]\u001b[A\n"
     ]
    },
    {
     "name": "stdout",
     "output_type": "stream",
     "text": [
      "Madole_modo1249.csv\n"
     ]
    },
    {
     "name": "stderr",
     "output_type": "stream",
     "text": [
      "\n",
      "  0%|                                                  | 0/1000 [00:00<?, ?it/s]\u001b[A\n",
      " 38%|██████████████▌                       | 384/1000 [00:00<00:00, 3835.39it/s]\u001b[A\n",
      "100%|█████████████████████████████████████| 1000/1000 [00:00<00:00, 4160.46it/s]\u001b[A\n"
     ]
    },
    {
     "name": "stdout",
     "output_type": "stream",
     "text": [
      "Degexit_an_dege1248.csv\n"
     ]
    },
    {
     "name": "stderr",
     "output_type": "stream",
     "text": [
      "\n",
      "100%|████████████████████████████████████| 1000/1000 [00:00<00:00, 10549.61it/s]\u001b[A\n"
     ]
    },
    {
     "name": "stdout",
     "output_type": "stream",
     "text": [
      "Chiricahua_mesc1238.csv\n"
     ]
    },
    {
     "name": "stderr",
     "output_type": "stream",
     "text": [
      "\n",
      "  0%|                                                  | 0/1000 [00:00<?, ?it/s]\u001b[A\n",
      " 10%|███▉                                   | 102/1000 [00:00<00:01, 879.15it/s]\u001b[A\n",
      " 19%|███████▍                               | 190/1000 [00:00<00:01, 679.56it/s]\u001b[A\n",
      " 26%|██████████▏                            | 260/1000 [00:00<00:01, 676.75it/s]\u001b[A\n",
      " 49%|██████████████████▌                   | 489/1000 [00:00<00:00, 1236.24it/s]\u001b[A\n",
      " 73%|███████████████████████████▌          | 726/1000 [00:00<00:00, 1610.98it/s]\u001b[A\n",
      "100%|█████████████████████████████████████| 1000/1000 [00:00<00:00, 1434.94it/s]\u001b[A\n"
     ]
    },
    {
     "name": "stdout",
     "output_type": "stream",
     "text": [
      "Korowai_koro1312.csv\n"
     ]
    },
    {
     "name": "stderr",
     "output_type": "stream",
     "text": [
      "\n",
      "  0%|                                                  | 0/1000 [00:00<?, ?it/s]\u001b[A\n",
      " 46%|█████████████████▌                    | 461/1000 [00:00<00:00, 4605.34it/s]\u001b[A\n",
      "100%|█████████████████████████████████████| 1000/1000 [00:00<00:00, 4792.80it/s]\u001b[A\n"
     ]
    },
    {
     "name": "stdout",
     "output_type": "stream",
     "text": [
      "Onobasulu_onob1238.csv\n"
     ]
    },
    {
     "name": "stderr",
     "output_type": "stream",
     "text": [
      "\n",
      "  0%|                                                  | 0/1000 [00:00<?, ?it/s]\u001b[A\n",
      " 30%|███████████▍                          | 301/1000 [00:00<00:00, 2997.89it/s]\u001b[A\n",
      " 60%|██████████████████████▊               | 601/1000 [00:00<00:00, 2947.22it/s]\u001b[A\n",
      "100%|█████████████████████████████████████| 1000/1000 [00:00<00:00, 2988.61it/s]\u001b[A\n"
     ]
    },
    {
     "name": "stdout",
     "output_type": "stream",
     "text": [
      "Gimi_gimi1243.csv\n"
     ]
    },
    {
     "name": "stderr",
     "output_type": "stream",
     "text": [
      "\n",
      "  0%|                                                  | 0/1000 [00:00<?, ?it/s]\u001b[A\n",
      " 30%|███████████▌                          | 304/1000 [00:00<00:00, 3033.57it/s]\u001b[A\n",
      " 61%|███████████████████████               | 608/1000 [00:00<00:00, 3005.54it/s]\u001b[A\n",
      "100%|█████████████████████████████████████| 1000/1000 [00:00<00:00, 3045.08it/s]\u001b[A\n"
     ]
    },
    {
     "name": "stdout",
     "output_type": "stream",
     "text": [
      "Northern_Pomo_nort2966.csv\n"
     ]
    },
    {
     "name": "stderr",
     "output_type": "stream",
     "text": [
      "\n",
      "  0%|                                                  | 0/1000 [00:00<?, ?it/s]\u001b[A\n",
      " 39%|██████████████▉                       | 393/1000 [00:00<00:00, 3924.38it/s]\u001b[A\n",
      "100%|█████████████████████████████████████| 1000/1000 [00:00<00:00, 3887.97it/s]\u001b[A\n"
     ]
    },
    {
     "name": "stdout",
     "output_type": "stream",
     "text": [
      "Agob-Ende-Kawam_agob1244.csv\n"
     ]
    },
    {
     "name": "stderr",
     "output_type": "stream",
     "text": [
      "\n",
      "  0%|                                                  | 0/1000 [00:00<?, ?it/s]\u001b[A\n",
      "100%|█████████████████████████████████████| 1000/1000 [00:00<00:00, 7315.75it/s]\u001b[A\n"
     ]
    },
    {
     "name": "stdout",
     "output_type": "stream",
     "text": [
      "Northern_Embera_nort2972.csv\n"
     ]
    },
    {
     "name": "stderr",
     "output_type": "stream",
     "text": [
      "\n",
      "  0%|                                                  | 0/1000 [00:00<?, ?it/s]\u001b[A\n",
      " 24%|█████████                             | 238/1000 [00:00<00:00, 2368.59it/s]\u001b[A\n",
      " 49%|██████████████████▍                   | 486/1000 [00:00<00:00, 2427.30it/s]\u001b[A\n",
      "100%|█████████████████████████████████████| 1000/1000 [00:00<00:00, 2518.94it/s]\u001b[A\n"
     ]
    },
    {
     "name": "stdout",
     "output_type": "stream",
     "text": [
      "Grand_Valley_Dani_lowe1415.csv\n"
     ]
    },
    {
     "name": "stderr",
     "output_type": "stream",
     "text": [
      "\n",
      "  0%|                                                  | 0/1000 [00:00<?, ?it/s]\u001b[A\n",
      "100%|█████████████████████████████████████| 1000/1000 [00:00<00:00, 5121.46it/s]\u001b[A\n"
     ]
    },
    {
     "name": "stdout",
     "output_type": "stream",
     "text": [
      "Yelmek_yelm1242.csv\n"
     ]
    },
    {
     "name": "stderr",
     "output_type": "stream",
     "text": [
      "\n",
      "  0%|                                                  | 0/1000 [00:00<?, ?it/s]\u001b[A\n",
      "100%|█████████████████████████████████████| 1000/1000 [00:00<00:00, 5175.02it/s]\u001b[A\n"
     ]
    },
    {
     "name": "stdout",
     "output_type": "stream",
     "text": [
      "Nen_nenn1238a.csv\n"
     ]
    },
    {
     "name": "stderr",
     "output_type": "stream",
     "text": [
      "\n",
      "  0%|                                                  | 0/1000 [00:00<?, ?it/s]\u001b[A\n",
      " 42%|████████████████▏                     | 425/1000 [00:00<00:00, 4246.86it/s]\u001b[A\n",
      "100%|█████████████████████████████████████| 1000/1000 [00:00<00:00, 4190.57it/s]\u001b[A\n"
     ]
    },
    {
     "name": "stdout",
     "output_type": "stream",
     "text": [
      "Nuu_Chah_Nulth_nuuc1236.csv\n"
     ]
    },
    {
     "name": "stderr",
     "output_type": "stream",
     "text": [
      "\n",
      "  0%|                                                  | 0/1000 [00:00<?, ?it/s]\u001b[A\n",
      "100%|█████████████████████████████████████| 1000/1000 [00:00<00:00, 7238.66it/s]\u001b[A\n"
     ]
    },
    {
     "name": "stdout",
     "output_type": "stream",
     "text": [
      "Tucano_tuca1252.csv\n"
     ]
    },
    {
     "name": "stderr",
     "output_type": "stream",
     "text": [
      "\n",
      "  0%|                                                  | 0/1000 [00:00<?, ?it/s]\u001b[A\n",
      " 19%|███████▎                              | 191/1000 [00:00<00:00, 1905.90it/s]\u001b[A\n",
      " 38%|██████████████▌                       | 382/1000 [00:00<00:00, 1864.44it/s]\u001b[A\n",
      " 61%|███████████████████████▏              | 611/1000 [00:00<00:00, 2054.11it/s]\u001b[A\n",
      "100%|█████████████████████████████████████| 1000/1000 [00:00<00:00, 2111.20it/s]\u001b[A\n"
     ]
    },
    {
     "name": "stdout",
     "output_type": "stream",
     "text": [
      "Morgan1871_Hare_Indians_or_Tä-nä'-tin-ne_hare1243.csv\n"
     ]
    },
    {
     "name": "stderr",
     "output_type": "stream",
     "text": [
      "\n",
      "  0%|                                                  | 0/1000 [00:00<?, ?it/s]\u001b[A\n",
      " 44%|████████████████▋                     | 439/1000 [00:00<00:00, 4383.56it/s]\u001b[A\n",
      "100%|█████████████████████████████████████| 1000/1000 [00:00<00:00, 3868.62it/s]\u001b[A\n"
     ]
    },
    {
     "name": "stdout",
     "output_type": "stream",
     "text": [
      "Morgan1871_Japanese_japa1256.csv\n"
     ]
    },
    {
     "name": "stderr",
     "output_type": "stream",
     "text": [
      "\n",
      "  0%|                                                  | 0/1000 [00:00<?, ?it/s]\u001b[A\n",
      " 37%|██████████████                        | 370/1000 [00:00<00:00, 3696.30it/s]\u001b[A\n",
      "100%|█████████████████████████████████████| 1000/1000 [00:00<00:00, 3675.09it/s]\u001b[A\n"
     ]
    },
    {
     "name": "stdout",
     "output_type": "stream",
     "text": [
      "Morgan1871_Tabasco_Chontal_(Chontal_Tabasco)_taba1266.csv\n"
     ]
    },
    {
     "name": "stderr",
     "output_type": "stream",
     "text": [
      "\n",
      "  0%|                                                  | 0/1000 [00:00<?, ?it/s]\u001b[A\n",
      "  9%|███▍                                    | 86/1000 [00:00<00:01, 859.36it/s]\u001b[A\n",
      "100%|█████████████████████████████████████| 1000/1000 [00:00<00:00, 3349.22it/s]\u001b[A\n"
     ]
    },
    {
     "name": "stdout",
     "output_type": "stream",
     "text": [
      "Morgan1871_Winnebagoe_winn1245.csv\n"
     ]
    },
    {
     "name": "stderr",
     "output_type": "stream",
     "text": [
      "\n",
      "  0%|                                                  | 0/1000 [00:00<?, ?it/s]\u001b[A\n",
      " 47%|█████████████████▉                    | 473/1000 [00:00<00:00, 4728.85it/s]\u001b[A\n",
      "100%|█████████████████████████████████████| 1000/1000 [00:00<00:00, 4780.71it/s]\u001b[A\n"
     ]
    },
    {
     "name": "stdout",
     "output_type": "stream",
     "text": [
      "Morgan1871_Tukuthe_gwic1235.csv\n"
     ]
    },
    {
     "name": "stderr",
     "output_type": "stream",
     "text": [
      "\n",
      "  0%|                                                  | 0/1000 [00:00<?, ?it/s]\u001b[A\n",
      "100%|█████████████████████████████████████| 1000/1000 [00:00<00:00, 5499.25it/s]\u001b[A\n"
     ]
    },
    {
     "name": "stdout",
     "output_type": "stream",
     "text": [
      "Morgan1871_Dakota_Brule_brul1239.csv\n"
     ]
    },
    {
     "name": "stderr",
     "output_type": "stream",
     "text": [
      "\n",
      "  0%|                                                  | 0/1000 [00:00<?, ?it/s]\u001b[A\n",
      "100%|█████████████████████████████████████| 1000/1000 [00:00<00:00, 5110.75it/s]\u001b[A\n"
     ]
    },
    {
     "name": "stdout",
     "output_type": "stream",
     "text": [
      "Morgan1871_Cayuga_cayu1261.csv\n"
     ]
    },
    {
     "name": "stderr",
     "output_type": "stream",
     "text": [
      "\n",
      "  0%|                                                  | 0/1000 [00:00<?, ?it/s]\u001b[A\n",
      "100%|█████████████████████████████████████| 1000/1000 [00:00<00:00, 5298.94it/s]\u001b[A\n"
     ]
    },
    {
     "name": "stdout",
     "output_type": "stream",
     "text": [
      "Morgan1871_Crow_crow1244.csv\n"
     ]
    },
    {
     "name": "stderr",
     "output_type": "stream",
     "text": [
      "\n",
      "  0%|                                                  | 0/1000 [00:00<?, ?it/s]\u001b[A\n",
      "100%|█████████████████████████████████████| 1000/1000 [00:00<00:00, 4774.43it/s]\u001b[A\n"
     ]
    },
    {
     "name": "stdout",
     "output_type": "stream",
     "text": [
      "Morgan1871_Wyandote_wyan1247.csv\n"
     ]
    },
    {
     "name": "stderr",
     "output_type": "stream",
     "text": [
      "\n",
      "  0%|                                                  | 0/1000 [00:00<?, ?it/s]\u001b[A\n",
      "100%|█████████████████████████████████████| 1000/1000 [00:00<00:00, 5084.86it/s]\u001b[A\n"
     ]
    },
    {
     "name": "stdout",
     "output_type": "stream",
     "text": [
      "Morgan1871_Tesuque_tesu1245.csv\n"
     ]
    },
    {
     "name": "stderr",
     "output_type": "stream",
     "text": [
      "\n",
      "  0%|                                                  | 0/1000 [00:00<?, ?it/s]\u001b[A\n",
      "100%|█████████████████████████████████████| 1000/1000 [00:00<00:00, 7838.96it/s]\u001b[A\n"
     ]
    },
    {
     "name": "stdout",
     "output_type": "stream",
     "text": [
      "Morgan1871_Mountain_Cherokee_cher1273.csv\n"
     ]
    },
    {
     "name": "stderr",
     "output_type": "stream",
     "text": [
      "\n",
      "  0%|                                                  | 0/1000 [00:00<?, ?it/s]\u001b[A\n",
      " 49%|██████████████████▌                   | 488/1000 [00:00<00:00, 4875.36it/s]\u001b[A\n",
      "100%|█████████████████████████████████████| 1000/1000 [00:00<00:00, 4908.45it/s]\u001b[A\n"
     ]
    },
    {
     "name": "stdout",
     "output_type": "stream",
     "text": [
      "Morgan1871_Dakota_Isauntie_dako1258.csv\n"
     ]
    },
    {
     "name": "stderr",
     "output_type": "stream",
     "text": [
      "\n",
      "  0%|                                                  | 0/1000 [00:00<?, ?it/s]\u001b[A\n",
      "100%|█████████████████████████████████████| 1000/1000 [00:00<00:00, 5189.11it/s]\u001b[A\n"
     ]
    },
    {
     "name": "stdout",
     "output_type": "stream",
     "text": [
      "Morgan1871_Tuscarora_tusc1257.csv\n"
     ]
    },
    {
     "name": "stderr",
     "output_type": "stream",
     "text": [
      "\n",
      "  0%|                                                  | 0/1000 [00:00<?, ?it/s]\u001b[A\n",
      " 43%|████████████████▍                     | 433/1000 [00:00<00:00, 4325.89it/s]\u001b[A\n",
      "100%|█████████████████████████████████████| 1000/1000 [00:00<00:00, 4651.44it/s]\u001b[A\n"
     ]
    },
    {
     "name": "stdout",
     "output_type": "stream",
     "text": [
      "Morgan1871_Slave_Lake_Indians_or_A-cha'o-tin-ne_slav1253.csv\n"
     ]
    },
    {
     "name": "stderr",
     "output_type": "stream",
     "text": [
      "\n",
      "  0%|                                                  | 0/1000 [00:00<?, ?it/s]\u001b[A\n",
      "100%|█████████████████████████████████████| 1000/1000 [00:00<00:00, 5361.41it/s]\u001b[A\n"
     ]
    },
    {
     "name": "stdout",
     "output_type": "stream",
     "text": [
      "Morgan1871_Kootenay_kute1249.csv\n"
     ]
    },
    {
     "name": "stderr",
     "output_type": "stream",
     "text": [
      "\n",
      "  0%|                                                  | 0/1000 [00:00<?, ?it/s]\u001b[A\n",
      "100%|█████████████████████████████████████| 1000/1000 [00:00<00:00, 6619.84it/s]\u001b[A\n"
     ]
    },
    {
     "name": "stdout",
     "output_type": "stream",
     "text": [
      "Morgan1871_Dakota_Sisseton_dako1258.csv\n",
      "Morgan1871_Two_Mountain_Iroquios_laur1250.csv\n"
     ]
    },
    {
     "name": "stderr",
     "output_type": "stream",
     "text": [
      "\n",
      "  0%|                                                  | 0/1000 [00:00<?, ?it/s]\u001b[A\n",
      "100%|█████████████████████████████████████| 1000/1000 [00:00<00:00, 5173.71it/s]\u001b[A\n"
     ]
    },
    {
     "name": "stdout",
     "output_type": "stream",
     "text": [
      "Morgan1871_Choctaw_(2)_choc1276.csv\n"
     ]
    },
    {
     "name": "stderr",
     "output_type": "stream",
     "text": [
      "\n",
      "  0%|                                                  | 0/1000 [00:00<?, ?it/s]\u001b[A\n",
      "100%|█████████████████████████████████████| 1000/1000 [00:00<00:00, 5458.70it/s]\u001b[A\n"
     ]
    },
    {
     "name": "stdout",
     "output_type": "stream",
     "text": [
      "Morgan1871_Choctaw_(1)_choc1276.csv\n",
      "Morgan1871_Minnitaree_hida1246.csv\n"
     ]
    },
    {
     "name": "stderr",
     "output_type": "stream",
     "text": [
      "\n",
      "  0%|                                                  | 0/1000 [00:00<?, ?it/s]\u001b[A\n",
      "100%|█████████████████████████████████████| 1000/1000 [00:00<00:00, 5264.68it/s]\u001b[A\n"
     ]
    },
    {
     "name": "stdout",
     "output_type": "stream",
     "text": [
      "Morgan1871_Onondaga_onon1246.csv\n"
     ]
    },
    {
     "name": "stderr",
     "output_type": "stream",
     "text": [
      "\n",
      "  0%|                                                  | 0/1000 [00:00<?, ?it/s]\u001b[A\n",
      " 41%|███████████████▍                      | 407/1000 [00:00<00:00, 4066.54it/s]\u001b[A\n",
      "100%|█████████████████████████████████████| 1000/1000 [00:00<00:00, 3577.81it/s]\u001b[A\n"
     ]
    },
    {
     "name": "stdout",
     "output_type": "stream",
     "text": [
      "Morgan1871_Assiniboine_(Asiniboine)_assi1247.csv\n"
     ]
    },
    {
     "name": "stderr",
     "output_type": "stream",
     "text": [
      "\n",
      "  0%|                                                  | 0/1000 [00:00<?, ?it/s]\u001b[A\n",
      "100%|█████████████████████████████████████| 1000/1000 [00:00<00:00, 5031.06it/s]\u001b[A\n"
     ]
    },
    {
     "name": "stdout",
     "output_type": "stream",
     "text": [
      "Morgan1871_Omahä_omah1247.csv\n"
     ]
    },
    {
     "name": "stderr",
     "output_type": "stream",
     "text": [
      "\n",
      "  0%|                                                  | 0/1000 [00:00<?, ?it/s]\u001b[A\n",
      "100%|█████████████████████████████████████| 1000/1000 [00:00<00:00, 5167.00it/s]\u001b[A\n"
     ]
    },
    {
     "name": "stdout",
     "output_type": "stream",
     "text": [
      "Morgan1871_Cherokee_cher1273.csv\n",
      "Morgan1871_Dakota_Uncpapa_lako1247.csv\n"
     ]
    },
    {
     "name": "stderr",
     "output_type": "stream",
     "text": [
      "\n",
      "  0%|                                                  | 0/1000 [00:00<?, ?it/s]\u001b[A\n",
      "100%|█████████████████████████████████████| 1000/1000 [00:00<00:00, 4971.69it/s]\u001b[A\n"
     ]
    },
    {
     "name": "stdout",
     "output_type": "stream",
     "text": [
      "Morgan1871_Western_Canadian_Inuktitut_(Eskimo,_West_of_Hudson's_Bay)_west2618.csv\n"
     ]
    },
    {
     "name": "stderr",
     "output_type": "stream",
     "text": [
      "\n",
      "100%|████████████████████████████████████| 1000/1000 [00:00<00:00, 10886.60it/s]\u001b[A\n"
     ]
    },
    {
     "name": "stdout",
     "output_type": "stream",
     "text": [
      "Morgan1871_Red-knife,_or_Täl-sote'e-nä_dogr1252.csv\n",
      "Morgan1871_Grand_Pawnee_pawn1254.csv\n"
     ]
    },
    {
     "name": "stderr",
     "output_type": "stream",
     "text": [
      "\n",
      "  0%|                                                  | 0/1000 [00:00<?, ?it/s]\u001b[A\n",
      "100%|█████████████████████████████████████| 1000/1000 [00:00<00:00, 5286.23it/s]\u001b[A\n"
     ]
    },
    {
     "name": "stdout",
     "output_type": "stream",
     "text": [
      "Morgan1871_Dakota_Blackfoot_lako1247.csv\n",
      "Morgan1871_Baffin_Inuktitut_(Eskimo,_Northumberland_Inlet)_baff1241.csv\n"
     ]
    },
    {
     "name": "stderr",
     "output_type": "stream",
     "text": [
      "\n",
      "  0%|                                                  | 0/1000 [00:00<?, ?it/s]\u001b[A\n",
      " 45%|█████████████████▎                    | 454/1000 [00:00<00:00, 4537.32it/s]\u001b[A\n",
      "100%|█████████████████████████████████████| 1000/1000 [00:00<00:00, 4333.41it/s]\u001b[A\n"
     ]
    },
    {
     "name": "stdout",
     "output_type": "stream",
     "text": [
      "Morgan1871_Dakota_Ogalalla_lako1247.csv\n",
      "Morgan1871_Laguna_west2632.csv\n"
     ]
    },
    {
     "name": "stderr",
     "output_type": "stream",
     "text": [
      "\n",
      "  0%|                                                  | 0/1000 [00:00<?, ?it/s]\u001b[A\n",
      "100%|█████████████████████████████████████| 1000/1000 [00:00<00:00, 9547.81it/s]\u001b[A\n"
     ]
    },
    {
     "name": "stdout",
     "output_type": "stream",
     "text": [
      "Morgan1871_Otoe_otoo1241.csv\n"
     ]
    },
    {
     "name": "stderr",
     "output_type": "stream",
     "text": [
      "\n",
      "  0%|                                                  | 0/1000 [00:00<?, ?it/s]\u001b[A\n",
      "100%|█████████████████████████████████████| 1000/1000 [00:00<00:00, 5133.71it/s]\u001b[A\n"
     ]
    },
    {
     "name": "stdout",
     "output_type": "stream",
     "text": [
      "Morgan1871_Punkä_ponc1241.csv\n"
     ]
    },
    {
     "name": "stderr",
     "output_type": "stream",
     "text": [
      "\n",
      "  0%|                                                  | 0/1000 [00:00<?, ?it/s]\u001b[A\n",
      "100%|█████████████████████████████████████| 1000/1000 [00:00<00:00, 5137.08it/s]\u001b[A\n"
     ]
    },
    {
     "name": "stdout",
     "output_type": "stream",
     "text": [
      "Morgan1871_Chickasa_chic1270.csv\n"
     ]
    },
    {
     "name": "stderr",
     "output_type": "stream",
     "text": [
      "\n",
      "  0%|                                                  | 0/1000 [00:00<?, ?it/s]\u001b[A\n",
      "100%|█████████████████████████████████████| 1000/1000 [00:00<00:00, 5097.90it/s]\u001b[A\n"
     ]
    },
    {
     "name": "stdout",
     "output_type": "stream",
     "text": [
      "Morgan1871_Dakota_Yanktonais_dako1258.csv\n",
      "Morgan1871_Chibcha_(New_Granada)_chib1270.csv\n",
      "Morgan1871_Seneca_sene1264.csv\n"
     ]
    },
    {
     "name": "stderr",
     "output_type": "stream",
     "text": [
      "\n",
      "  0%|                                                  | 0/1000 [00:00<?, ?it/s]\u001b[A\n",
      "100%|█████████████████████████████████████| 1000/1000 [00:00<00:00, 5251.74it/s]\u001b[A\n"
     ]
    },
    {
     "name": "stdout",
     "output_type": "stream",
     "text": [
      "Morgan1871_Kaw_kans1243.csv\n"
     ]
    },
    {
     "name": "stderr",
     "output_type": "stream",
     "text": [
      "\n",
      "  0%|                                                  | 0/1000 [00:00<?, ?it/s]\u001b[A\n",
      "100%|█████████████████████████████████████| 1000/1000 [00:00<00:00, 5166.46it/s]\u001b[A\n"
     ]
    },
    {
     "name": "stdout",
     "output_type": "stream",
     "text": [
      "Morgan1871_Kalaallisut_(Eskimo,_Greenland)_kala1399.csv\n"
     ]
    },
    {
     "name": "stderr",
     "output_type": "stream",
     "text": [
      "\n",
      "  0%|                                                  | 0/1000 [00:00<?, ?it/s]\u001b[A\n",
      "100%|█████████████████████████████████████| 1000/1000 [00:00<00:00, 5347.77it/s]\u001b[A\n"
     ]
    },
    {
     "name": "stdout",
     "output_type": "stream",
     "text": [
      "Morgan1871_Mohawk_moha1258.csv\n"
     ]
    },
    {
     "name": "stderr",
     "output_type": "stream",
     "text": [
      "\n",
      "  0%|                                                  | 0/1000 [00:00<?, ?it/s]\u001b[A\n",
      " 50%|██████████████████▊                   | 496/1000 [00:00<00:00, 4952.02it/s]\u001b[A\n",
      "100%|█████████████████████████████████████| 1000/1000 [00:00<00:00, 4184.42it/s]\u001b[A\n"
     ]
    },
    {
     "name": "stdout",
     "output_type": "stream",
     "text": [
      "Morgan1871_Oneida_onei1249.csv\n"
     ]
    },
    {
     "name": "stderr",
     "output_type": "stream",
     "text": [
      "\n",
      "  0%|                                                  | 0/1000 [00:00<?, ?it/s]\u001b[A\n",
      "100%|█████████████████████████████████████| 1000/1000 [00:00<00:00, 5141.17it/s]\u001b[A\n"
     ]
    },
    {
     "name": "stdout",
     "output_type": "stream",
     "text": [
      "Morgan1871_Arikara_(Arickaree)_arik1262.csv\n"
     ]
    },
    {
     "name": "stderr",
     "output_type": "stream",
     "text": [
      "\n",
      "  0%|                                                  | 0/1000 [00:00<?, ?it/s]\u001b[A\n",
      "100%|█████████████████████████████████████| 1000/1000 [00:00<00:00, 5676.63it/s]\u001b[A\n"
     ]
    },
    {
     "name": "stdout",
     "output_type": "stream",
     "text": [
      "Morgan1871_Creek_cree1270.csv\n"
     ]
    },
    {
     "name": "stderr",
     "output_type": "stream",
     "text": [
      "\n",
      "  0%|                                                  | 0/1000 [00:00<?, ?it/s]\u001b[A\n",
      "100%|█████████████████████████████████████| 1000/1000 [00:00<00:00, 5410.58it/s]\u001b[A\n"
     ]
    },
    {
     "name": "stdout",
     "output_type": "stream",
     "text": [
      "Morgan1871_Yakama_yaki1237.csv\n"
     ]
    },
    {
     "name": "stderr",
     "output_type": "stream",
     "text": [
      "\n",
      "  0%|                                                  | 0/1000 [00:00<?, ?it/s]\u001b[A\n",
      "100%|█████████████████████████████████████| 1000/1000 [00:00<00:00, 6748.01it/s]\u001b[A\n"
     ]
    },
    {
     "name": "stdout",
     "output_type": "stream",
     "text": [
      "Morgan1871_Kǔtchin,_or_Louchieux_gwic1235.csv\n",
      "Morgan1871_Dakota_Yankton_dako1258.csv\n",
      "Morgan1871_Iowä_iowa1245.csv\n"
     ]
    },
    {
     "name": "stderr",
     "output_type": "stream",
     "text": [
      "\n",
      "  0%|                                                  | 0/1000 [00:00<?, ?it/s]\u001b[A\n",
      "100%|█████████████████████████████████████| 1000/1000 [00:00<00:00, 5077.87it/s]\u001b[A\n"
     ]
    },
    {
     "name": "stdout",
     "output_type": "stream",
     "text": [
      "Morgan1871_Osage_osag1243.csv\n"
     ]
    },
    {
     "name": "stderr",
     "output_type": "stream",
     "text": [
      "\n",
      "  0%|                                                  | 0/1000 [00:00<?, ?it/s]\u001b[A\n",
      "100%|█████████████████████████████████████| 1000/1000 [00:00<00:00, 5496.68it/s]\u001b[A\n"
     ]
    },
    {
     "name": "stdout",
     "output_type": "stream",
     "text": [
      "Morgan1871_Mandan_mand1446.csv\n"
     ]
    },
    {
     "name": "stderr",
     "output_type": "stream",
     "text": [
      "\n",
      "  0%|                                                  | 0/1000 [00:00<?, ?it/s]\u001b[A\n",
      "100%|█████████████████████████████████████| 1000/1000 [00:00<00:00, 5629.77it/s]\u001b[A\n",
      " 57%|████████████████████████▌                  | 12/21 [04:46<04:55, 32.80s/it]"
     ]
    },
    {
     "name": "stdout",
     "output_type": "stream",
     "text": [
      "Morgan1871_Republican_Pawnee_pawn1254.csv\n",
      "Dhuwal-Dhuwala_(Yolngu)_dhuw1248.csv\n"
     ]
    },
    {
     "name": "stderr",
     "output_type": "stream",
     "text": [
      "\n",
      "  0%|                                                  | 0/1000 [00:00<?, ?it/s]\u001b[A\n",
      " 36%|█████████████▊                        | 364/1000 [00:00<00:00, 3632.01it/s]\u001b[A\n",
      "100%|█████████████████████████████████████| 1000/1000 [00:00<00:00, 3555.37it/s]\u001b[A\n"
     ]
    },
    {
     "name": "stdout",
     "output_type": "stream",
     "text": [
      "Paakantyi_darl1243.csv\n"
     ]
    },
    {
     "name": "stderr",
     "output_type": "stream",
     "text": [
      "\n",
      "  0%|                                                  | 0/1000 [00:00<?, ?it/s]\u001b[A\n",
      " 42%|████████████████                      | 422/1000 [00:00<00:00, 4218.10it/s]\u001b[A\n",
      "100%|█████████████████████████████████████| 1000/1000 [00:00<00:00, 3916.93it/s]\u001b[A\n"
     ]
    },
    {
     "name": "stdout",
     "output_type": "stream",
     "text": [
      "Malgana_malg1242a.csv\n"
     ]
    },
    {
     "name": "stderr",
     "output_type": "stream",
     "text": [
      "\n",
      "100%|████████████████████████████████████| 1000/1000 [00:00<00:00, 12624.02it/s]\u001b[A\n"
     ]
    },
    {
     "name": "stdout",
     "output_type": "stream",
     "text": [
      "Yir-Yoront_yiry1245.csv\n"
     ]
    },
    {
     "name": "stderr",
     "output_type": "stream",
     "text": [
      "\n",
      "  0%|                                                  | 0/1000 [00:00<?, ?it/s]\u001b[A\n",
      "100%|█████████████████████████████████████| 1000/1000 [00:00<00:00, 5490.16it/s]\u001b[A\n"
     ]
    },
    {
     "name": "stdout",
     "output_type": "stream",
     "text": [
      "Wangkangurru_wang1290.csv\n"
     ]
    },
    {
     "name": "stderr",
     "output_type": "stream",
     "text": [
      "\n",
      "  0%|                                                  | 0/1000 [00:00<?, ?it/s]\u001b[A\n",
      " 36%|█████████████▌                        | 358/1000 [00:00<00:00, 3578.43it/s]\u001b[A\n",
      "100%|█████████████████████████████████████| 1000/1000 [00:00<00:00, 3354.36it/s]\u001b[A\n"
     ]
    },
    {
     "name": "stdout",
     "output_type": "stream",
     "text": [
      "Wangkangurru_wang1290a.csv\n"
     ]
    },
    {
     "name": "stderr",
     "output_type": "stream",
     "text": [
      "\n",
      "  0%|                                                  | 0/1000 [00:00<?, ?it/s]\u001b[A\n",
      "100%|█████████████████████████████████████| 1000/1000 [00:00<00:00, 5893.73it/s]\u001b[A\n"
     ]
    },
    {
     "name": "stdout",
     "output_type": "stream",
     "text": [
      "Dharumbal_dhar1248a.csv\n"
     ]
    },
    {
     "name": "stderr",
     "output_type": "stream",
     "text": [
      "\n",
      "  0%|                                                  | 0/1000 [00:00<?, ?it/s]\u001b[A\n",
      "100%|█████████████████████████████████████| 1000/1000 [00:00<00:00, 7541.83it/s]\u001b[A\n"
     ]
    },
    {
     "name": "stdout",
     "output_type": "stream",
     "text": [
      "Yadhaykenu_yadh1237.csv\n"
     ]
    },
    {
     "name": "stderr",
     "output_type": "stream",
     "text": [
      "\n",
      "  0%|                                                  | 0/1000 [00:00<?, ?it/s]\u001b[A\n",
      "100%|█████████████████████████████████████| 1000/1000 [00:00<00:00, 7577.02it/s]\u001b[A\n"
     ]
    },
    {
     "name": "stdout",
     "output_type": "stream",
     "text": [
      "Warlpiri_warl1254.csv\n"
     ]
    },
    {
     "name": "stderr",
     "output_type": "stream",
     "text": [
      "\n",
      "  0%|                                                  | 0/1000 [00:00<?, ?it/s]\u001b[A\n",
      " 27%|██████████                            | 266/1000 [00:00<00:00, 2658.32it/s]\u001b[A\n",
      " 53%|████████████████████▏                 | 532/1000 [00:00<00:00, 2386.57it/s]\u001b[A\n",
      "100%|█████████████████████████████████████| 1000/1000 [00:00<00:00, 2451.84it/s]\u001b[A\n"
     ]
    },
    {
     "name": "stdout",
     "output_type": "stream",
     "text": [
      "Gupapuyngu_gupa1247.csv\n"
     ]
    },
    {
     "name": "stderr",
     "output_type": "stream",
     "text": [
      "\n",
      "  0%|                                                  | 0/1000 [00:00<?, ?it/s]\u001b[A\n",
      " 33%|████████████▌                         | 331/1000 [00:00<00:00, 3307.09it/s]\u001b[A\n",
      " 66%|█████████████████████████▏            | 662/1000 [00:00<00:00, 3192.05it/s]\u001b[A\n",
      "100%|█████████████████████████████████████| 1000/1000 [00:00<00:00, 2966.40it/s]\u001b[A\n"
     ]
    },
    {
     "name": "stdout",
     "output_type": "stream",
     "text": [
      "Ngarinyman_ngar1235.csv\n"
     ]
    },
    {
     "name": "stderr",
     "output_type": "stream",
     "text": [
      "\n",
      "  0%|                                                  | 0/1000 [00:00<?, ?it/s]\u001b[A\n",
      " 24%|█████████                             | 237/1000 [00:00<00:00, 2297.96it/s]\u001b[A\n",
      " 47%|█████████████████▋                    | 467/1000 [00:00<00:00, 1735.74it/s]\u001b[A\n",
      "100%|█████████████████████████████████████| 1000/1000 [00:00<00:00, 2404.20it/s]\u001b[A\n"
     ]
    },
    {
     "name": "stdout",
     "output_type": "stream",
     "text": [
      "Karuwali_karr1236.csv\n"
     ]
    },
    {
     "name": "stderr",
     "output_type": "stream",
     "text": [
      "\n",
      "100%|████████████████████████████████████| 1000/1000 [00:00<00:00, 17708.17it/s]\u001b[A\n"
     ]
    },
    {
     "name": "stdout",
     "output_type": "stream",
     "text": [
      "Warnman_wanm1242.csv\n"
     ]
    },
    {
     "name": "stderr",
     "output_type": "stream",
     "text": [
      "\n",
      "  0%|                                                  | 0/1000 [00:00<?, ?it/s]\u001b[A\n",
      " 37%|█████████████▉                        | 368/1000 [00:00<00:00, 3672.44it/s]\u001b[A\n",
      "100%|█████████████████████████████████████| 1000/1000 [00:00<00:00, 3769.13it/s]\u001b[A\n"
     ]
    },
    {
     "name": "stdout",
     "output_type": "stream",
     "text": [
      "Warumungu_waru1265.csv\n"
     ]
    },
    {
     "name": "stderr",
     "output_type": "stream",
     "text": [
      "\n",
      "  0%|                                                  | 0/1000 [00:00<?, ?it/s]\u001b[A\n",
      " 37%|██████████████                        | 371/1000 [00:00<00:00, 3707.01it/s]\u001b[A\n",
      "100%|█████████████████████████████████████| 1000/1000 [00:00<00:00, 3620.19it/s]\u001b[A\n"
     ]
    },
    {
     "name": "stdout",
     "output_type": "stream",
     "text": [
      "Thayore_(Kuuk_Thaayorre)_thay1249.csv\n"
     ]
    },
    {
     "name": "stderr",
     "output_type": "stream",
     "text": [
      "\n",
      "  0%|                                                  | 0/1000 [00:00<?, ?it/s]\u001b[A\n",
      " 43%|████████████████▎                     | 428/1000 [00:00<00:00, 4272.39it/s]\u001b[A\n",
      "100%|█████████████████████████████████████| 1000/1000 [00:00<00:00, 4145.00it/s]\u001b[A\n"
     ]
    },
    {
     "name": "stdout",
     "output_type": "stream",
     "text": [
      "Wulguru_wulg1239.csv\n"
     ]
    },
    {
     "name": "stderr",
     "output_type": "stream",
     "text": [
      "\n",
      "  0%|                                                  | 0/1000 [00:00<?, ?it/s]\u001b[A\n",
      " 30%|███████████▎                          | 299/1000 [00:00<00:00, 2987.57it/s]\u001b[A\n",
      " 60%|██████████████████████▋               | 598/1000 [00:00<00:00, 2939.78it/s]\u001b[A\n",
      "100%|█████████████████████████████████████| 1000/1000 [00:00<00:00, 2882.96it/s]\u001b[A\n"
     ]
    },
    {
     "name": "stdout",
     "output_type": "stream",
     "text": [
      "WikMungkan_wikm1247.csv\n"
     ]
    },
    {
     "name": "stderr",
     "output_type": "stream",
     "text": [
      "\n",
      "  0%|                                                  | 0/1000 [00:00<?, ?it/s]\u001b[A\n",
      " 50%|██████████████████▊                   | 495/1000 [00:00<00:00, 4945.64it/s]\u001b[A\n",
      "100%|█████████████████████████████████████| 1000/1000 [00:00<00:00, 4795.86it/s]\u001b[A\n"
     ]
    },
    {
     "name": "stdout",
     "output_type": "stream",
     "text": [
      "Yarluyandi_ngam1265.csv\n"
     ]
    },
    {
     "name": "stderr",
     "output_type": "stream",
     "text": [
      "\n",
      "  0%|                                                  | 0/1000 [00:00<?, ?it/s]\u001b[A\n",
      " 40%|███████████████                       | 397/1000 [00:00<00:00, 3963.80it/s]\u001b[A\n",
      "100%|█████████████████████████████████████| 1000/1000 [00:00<00:00, 3819.68it/s]\u001b[A\n"
     ]
    },
    {
     "name": "stdout",
     "output_type": "stream",
     "text": [
      "Arabana_arab1267a.csv\n"
     ]
    },
    {
     "name": "stderr",
     "output_type": "stream",
     "text": [
      "\n",
      "  0%|                                                  | 0/1000 [00:00<?, ?it/s]\u001b[A\n",
      "100%|█████████████████████████████████████| 1000/1000 [00:00<00:00, 5449.00it/s]\u001b[A\n"
     ]
    },
    {
     "name": "stdout",
     "output_type": "stream",
     "text": [
      "Warrnambool_warr1257.csv\n"
     ]
    },
    {
     "name": "stderr",
     "output_type": "stream",
     "text": [
      "\n",
      "  0%|                                                  | 0/1000 [00:00<?, ?it/s]\u001b[A\n",
      "100%|█████████████████████████████████████| 1000/1000 [00:00<00:00, 5138.19it/s]\u001b[A\n"
     ]
    },
    {
     "name": "stdout",
     "output_type": "stream",
     "text": [
      "Adnyamathanha_adny1235.csv\n"
     ]
    },
    {
     "name": "stderr",
     "output_type": "stream",
     "text": [
      "\n",
      "  0%|                                                  | 0/1000 [00:00<?, ?it/s]\u001b[A\n",
      " 37%|██████████████▏                       | 373/1000 [00:00<00:00, 3721.92it/s]\u001b[A\n",
      "100%|█████████████████████████████████████| 1000/1000 [00:00<00:00, 3374.08it/s]\u001b[A\n"
     ]
    },
    {
     "name": "stdout",
     "output_type": "stream",
     "text": [
      "Kaurna_kaur1267.csv\n"
     ]
    },
    {
     "name": "stderr",
     "output_type": "stream",
     "text": [
      "\n",
      "  0%|                                                  | 0/1000 [00:00<?, ?it/s]\u001b[A\n",
      " 28%|██████████▍                           | 276/1000 [00:00<00:00, 2753.37it/s]\u001b[A\n",
      " 56%|█████████████████████▏                | 557/1000 [00:00<00:00, 2785.70it/s]\u001b[A\n",
      "100%|█████████████████████████████████████| 1000/1000 [00:00<00:00, 2670.84it/s]\u001b[A\n"
     ]
    },
    {
     "name": "stdout",
     "output_type": "stream",
     "text": [
      "Yugambal_(Yugambeh)_yuga1244.csv\n"
     ]
    },
    {
     "name": "stderr",
     "output_type": "stream",
     "text": [
      "\n",
      "  0%|                                                  | 0/1000 [00:00<?, ?it/s]\u001b[A\n",
      " 22%|████████▏                             | 217/1000 [00:00<00:00, 2163.31it/s]\u001b[A\n",
      " 43%|████████████████▍                     | 434/1000 [00:00<00:00, 2022.29it/s]\u001b[A\n",
      "100%|█████████████████████████████████████| 1000/1000 [00:00<00:00, 2546.38it/s]\u001b[A\n"
     ]
    },
    {
     "name": "stdout",
     "output_type": "stream",
     "text": [
      "Malgana_malg1242.csv\n"
     ]
    },
    {
     "name": "stderr",
     "output_type": "stream",
     "text": [
      "\n",
      "  0%|                                                  | 0/1000 [00:00<?, ?it/s]\u001b[A\n",
      "100%|█████████████████████████████████████| 1000/1000 [00:00<00:00, 9427.03it/s]\u001b[A\n"
     ]
    },
    {
     "name": "stdout",
     "output_type": "stream",
     "text": [
      "Yulparija_yulp1239.csv\n"
     ]
    },
    {
     "name": "stderr",
     "output_type": "stream",
     "text": [
      "\n",
      "  0%|                                                  | 0/1000 [00:00<?, ?it/s]\u001b[A\n",
      " 43%|████████████████▎                     | 430/1000 [00:00<00:00, 4299.27it/s]\u001b[A\n",
      "100%|█████████████████████████████████████| 1000/1000 [00:00<00:00, 4293.76it/s]\u001b[A\n"
     ]
    },
    {
     "name": "stdout",
     "output_type": "stream",
     "text": [
      "Muruwari_muru1266.csv\n"
     ]
    },
    {
     "name": "stderr",
     "output_type": "stream",
     "text": [
      "\n",
      "  0%|                                                  | 0/1000 [00:00<?, ?it/s]\u001b[A\n",
      " 45%|█████████████████▎                    | 454/1000 [00:00<00:00, 4531.85it/s]\u001b[A\n",
      "100%|█████████████████████████████████████| 1000/1000 [00:00<00:00, 4174.65it/s]\u001b[A\n"
     ]
    },
    {
     "name": "stdout",
     "output_type": "stream",
     "text": [
      "Duungidjawu_duun1241.csv\n"
     ]
    },
    {
     "name": "stderr",
     "output_type": "stream",
     "text": [
      "\n",
      "  0%|                                                  | 0/1000 [00:00<?, ?it/s]\u001b[A\n",
      "100%|█████████████████████████████████████| 1000/1000 [00:00<00:00, 6812.68it/s]\u001b[A\n"
     ]
    },
    {
     "name": "stdout",
     "output_type": "stream",
     "text": [
      "Badimaya_badi1246.csv\n"
     ]
    },
    {
     "name": "stderr",
     "output_type": "stream",
     "text": [
      "\n",
      "  0%|                                                  | 0/1000 [00:00<?, ?it/s]\u001b[A\n",
      "100%|█████████████████████████████████████| 1000/1000 [00:00<00:00, 6449.95it/s]\u001b[A\n"
     ]
    },
    {
     "name": "stdout",
     "output_type": "stream",
     "text": [
      "Ngaanyatjarra_ngaa1240.csv\n"
     ]
    },
    {
     "name": "stderr",
     "output_type": "stream",
     "text": [
      "\n",
      "  0%|                                                  | 0/1000 [00:00<?, ?it/s]\u001b[A\n",
      " 35%|█████████████▏                        | 347/1000 [00:00<00:00, 3467.85it/s]\u001b[A\n",
      "100%|█████████████████████████████████████| 1000/1000 [00:00<00:00, 3482.41it/s]\u001b[A\n"
     ]
    },
    {
     "name": "stdout",
     "output_type": "stream",
     "text": [
      "Payungu_bayu1240.csv\n"
     ]
    },
    {
     "name": "stderr",
     "output_type": "stream",
     "text": [
      "\n",
      "  0%|                                                  | 0/1000 [00:00<?, ?it/s]\u001b[A\n",
      " 42%|███████████████▊                      | 415/1000 [00:00<00:00, 4144.82it/s]\u001b[A\n",
      "100%|█████████████████████████████████████| 1000/1000 [00:00<00:00, 4045.73it/s]\u001b[A\n"
     ]
    },
    {
     "name": "stdout",
     "output_type": "stream",
     "text": [
      "Ngaatjatjarra_ngaa1240.csv\n",
      "Nhanta_nhan1238.csv\n"
     ]
    },
    {
     "name": "stderr",
     "output_type": "stream",
     "text": [
      "\n",
      "  0%|                                                  | 0/1000 [00:00<?, ?it/s]\u001b[A\n",
      " 30%|███████████▍                          | 302/1000 [00:00<00:00, 3019.51it/s]\u001b[A\n",
      " 60%|██████████████████████▉               | 604/1000 [00:00<00:00, 2994.51it/s]\u001b[A\n",
      "100%|█████████████████████████████████████| 1000/1000 [00:00<00:00, 2958.34it/s]\u001b[A\n"
     ]
    },
    {
     "name": "stdout",
     "output_type": "stream",
     "text": [
      "Jaru_jaru1254.csv\n"
     ]
    },
    {
     "name": "stderr",
     "output_type": "stream",
     "text": [
      "\n",
      "  0%|                                                  | 0/1000 [00:00<?, ?it/s]\u001b[A\n",
      " 31%|███████████▊                          | 312/1000 [00:00<00:00, 3113.77it/s]\u001b[A\n",
      " 63%|███████████████████████▉              | 630/1000 [00:00<00:00, 3149.33it/s]\u001b[A\n",
      "100%|█████████████████████████████████████| 1000/1000 [00:00<00:00, 3113.41it/s]\u001b[A\n"
     ]
    },
    {
     "name": "stdout",
     "output_type": "stream",
     "text": [
      "Umpila_umpi1239.csv\n"
     ]
    },
    {
     "name": "stderr",
     "output_type": "stream",
     "text": [
      "\n",
      "  0%|                                                  | 0/1000 [00:00<?, ?it/s]\u001b[A\n",
      " 49%|██████████████████▋                   | 492/1000 [00:00<00:00, 4913.81it/s]\u001b[A\n",
      "100%|█████████████████████████████████████| 1000/1000 [00:00<00:00, 4860.76it/s]\u001b[A\n"
     ]
    },
    {
     "name": "stdout",
     "output_type": "stream",
     "text": [
      "Kuku-Yalanji_kuku1273.csv\n"
     ]
    },
    {
     "name": "stderr",
     "output_type": "stream",
     "text": [
      "\n",
      "  0%|                                                  | 0/1000 [00:00<?, ?it/s]\u001b[A\n",
      " 32%|████████████                          | 317/1000 [00:00<00:00, 3165.41it/s]\u001b[A\n",
      " 63%|████████████████████████              | 634/1000 [00:00<00:00, 2985.25it/s]\u001b[A\n",
      "100%|█████████████████████████████████████| 1000/1000 [00:00<00:00, 3035.80it/s]\u001b[A\n"
     ]
    },
    {
     "name": "stdout",
     "output_type": "stream",
     "text": [
      "Wakaya_waga1260.csv\n"
     ]
    },
    {
     "name": "stderr",
     "output_type": "stream",
     "text": [
      "\n",
      "  0%|                                                  | 0/1000 [00:00<?, ?it/s]\u001b[A\n",
      " 36%|█████████████▋                        | 360/1000 [00:00<00:00, 3594.47it/s]\u001b[A\n",
      "100%|█████████████████████████████████████| 1000/1000 [00:00<00:00, 3577.74it/s]\u001b[A\n"
     ]
    },
    {
     "name": "stdout",
     "output_type": "stream",
     "text": [
      "Yandruwandha_yand1253.csv\n"
     ]
    },
    {
     "name": "stderr",
     "output_type": "stream",
     "text": [
      "\n",
      "  0%|                                                  | 0/1000 [00:00<?, ?it/s]\u001b[A\n",
      " 37%|█████████████▉                        | 367/1000 [00:00<00:00, 3668.35it/s]\u001b[A\n",
      "100%|█████████████████████████████████████| 1000/1000 [00:00<00:00, 3306.02it/s]\u001b[A\n"
     ]
    },
    {
     "name": "stdout",
     "output_type": "stream",
     "text": [
      "Pitjantjatjara_pitj1243.csv\n"
     ]
    },
    {
     "name": "stderr",
     "output_type": "stream",
     "text": [
      "\n",
      "  0%|                                                  | 0/1000 [00:00<?, ?it/s]\u001b[A\n",
      " 37%|██████████████                        | 369/1000 [00:00<00:00, 3672.78it/s]\u001b[A\n",
      "100%|█████████████████████████████████████| 1000/1000 [00:00<00:00, 3865.23it/s]\u001b[A\n"
     ]
    },
    {
     "name": "stdout",
     "output_type": "stream",
     "text": [
      "Nyangumarta_nyan1301.csv\n"
     ]
    },
    {
     "name": "stderr",
     "output_type": "stream",
     "text": [
      "\n",
      "  0%|                                                  | 0/1000 [00:00<?, ?it/s]\u001b[A\n",
      " 36%|█████████████▋                        | 359/1000 [00:00<00:00, 3585.73it/s]\u001b[A\n",
      "100%|█████████████████████████████████████| 1000/1000 [00:00<00:00, 3387.91it/s]\u001b[A\n"
     ]
    },
    {
     "name": "stdout",
     "output_type": "stream",
     "text": [
      "Diyari_dier1241.csv\n"
     ]
    },
    {
     "name": "stderr",
     "output_type": "stream",
     "text": [
      "\n",
      "  0%|                                                  | 0/1000 [00:00<?, ?it/s]\u001b[A\n",
      " 32%|████████████                          | 318/1000 [00:00<00:00, 3172.89it/s]\u001b[A\n",
      " 64%|████████████████████████▎             | 639/1000 [00:00<00:00, 3192.07it/s]\u001b[A\n",
      "100%|█████████████████████████████████████| 1000/1000 [00:00<00:00, 3114.84it/s]\u001b[A\n"
     ]
    },
    {
     "name": "stdout",
     "output_type": "stream",
     "text": [
      "Kariyarra_kari1304.csv\n"
     ]
    },
    {
     "name": "stderr",
     "output_type": "stream",
     "text": [
      "\n",
      "  0%|                                                  | 0/1000 [00:00<?, ?it/s]\u001b[A\n",
      " 27%|██████████▎                           | 273/1000 [00:00<00:00, 2726.62it/s]\u001b[A\n",
      " 56%|█████████████████████▎                | 560/1000 [00:00<00:00, 2808.70it/s]\u001b[A\n",
      "100%|█████████████████████████████████████| 1000/1000 [00:00<00:00, 2686.65it/s]\u001b[A\n"
     ]
    },
    {
     "name": "stdout",
     "output_type": "stream",
     "text": [
      "Dyirbal_dyir1250.csv\n"
     ]
    },
    {
     "name": "stderr",
     "output_type": "stream",
     "text": [
      "\n",
      "  0%|                                                  | 0/1000 [00:00<?, ?it/s]\u001b[A\n",
      " 27%|██████████▏                           | 269/1000 [00:00<00:00, 2679.53it/s]\u001b[A\n",
      " 54%|████████████████████▍                 | 537/1000 [00:00<00:00, 2580.46it/s]\u001b[A\n",
      "100%|█████████████████████████████████████| 1000/1000 [00:00<00:00, 2597.72it/s]\u001b[A\n"
     ]
    },
    {
     "name": "stdout",
     "output_type": "stream",
     "text": [
      "Gunya_guny1241.csv\n"
     ]
    },
    {
     "name": "stderr",
     "output_type": "stream",
     "text": [
      "\n",
      "  0%|                                                  | 0/1000 [00:00<?, ?it/s]\u001b[A\n",
      "100%|█████████████████████████████████████| 1000/1000 [00:00<00:00, 6992.27it/s]\u001b[A\n"
     ]
    },
    {
     "name": "stdout",
     "output_type": "stream",
     "text": [
      "Pitta_Pitta_pitt1247.csv\n"
     ]
    },
    {
     "name": "stderr",
     "output_type": "stream",
     "text": [
      "\n",
      "  0%|                                                  | 0/1000 [00:00<?, ?it/s]\u001b[A\n",
      " 26%|█████████▉                            | 260/1000 [00:00<00:00, 2593.70it/s]\u001b[A\n",
      " 52%|███████████████████▊                  | 520/1000 [00:00<00:00, 2225.71it/s]\u001b[A\n",
      " 75%|████████████████████████████▎         | 746/1000 [00:00<00:00, 2105.34it/s]\u001b[A\n",
      "100%|█████████████████████████████████████| 1000/1000 [00:00<00:00, 2012.35it/s]\u001b[A\n"
     ]
    },
    {
     "name": "stdout",
     "output_type": "stream",
     "text": [
      "KukuYalanji_kuku1273.csv\n",
      "Wangkajunga_wang1288.csv\n"
     ]
    },
    {
     "name": "stderr",
     "output_type": "stream",
     "text": [
      "\n",
      "  0%|                                                  | 0/1000 [00:00<?, ?it/s]\u001b[A\n",
      " 18%|██████▋                               | 176/1000 [00:00<00:00, 1757.86it/s]\u001b[A\n",
      " 39%|██████████████▉                       | 392/1000 [00:00<00:00, 1990.05it/s]\u001b[A\n",
      " 64%|████████████████████████▏             | 635/1000 [00:00<00:00, 2187.84it/s]\u001b[A\n",
      "100%|█████████████████████████████████████| 1000/1000 [00:00<00:00, 2311.50it/s]\u001b[A\n"
     ]
    },
    {
     "name": "stdout",
     "output_type": "stream",
     "text": [
      "Djambarrpuyngu_djam1256.csv\n"
     ]
    },
    {
     "name": "stderr",
     "output_type": "stream",
     "text": [
      "\n",
      "  0%|                                                  | 0/1000 [00:00<?, ?it/s]\u001b[A\n",
      " 30%|███████████▍                          | 301/1000 [00:00<00:00, 3006.39it/s]\u001b[A\n",
      " 60%|██████████████████████▉               | 602/1000 [00:00<00:00, 2968.27it/s]\u001b[A\n",
      "100%|█████████████████████████████████████| 1000/1000 [00:00<00:00, 3065.45it/s]\u001b[A\n"
     ]
    },
    {
     "name": "stdout",
     "output_type": "stream",
     "text": [
      "Yandruwandha_yand1253a.csv\n"
     ]
    },
    {
     "name": "stderr",
     "output_type": "stream",
     "text": [
      "\n",
      "  0%|                                                  | 0/1000 [00:00<?, ?it/s]\u001b[A\n",
      " 45%|█████████████████                     | 450/1000 [00:00<00:00, 4499.46it/s]\u001b[A\n",
      "100%|█████████████████████████████████████| 1000/1000 [00:00<00:00, 4251.12it/s]\u001b[A\n"
     ]
    },
    {
     "name": "stdout",
     "output_type": "stream",
     "text": [
      "Biri_biri1256.csv\n"
     ]
    },
    {
     "name": "stderr",
     "output_type": "stream",
     "text": [
      "\n",
      "  0%|                                                  | 0/1000 [00:00<?, ?it/s]\u001b[A\n",
      " 28%|██████████▊                           | 283/1000 [00:00<00:00, 2829.83it/s]\u001b[A\n",
      " 57%|█████████████████████▌                | 566/1000 [00:00<00:00, 2818.51it/s]\u001b[A\n",
      "100%|█████████████████████████████████████| 1000/1000 [00:00<00:00, 2807.52it/s]\u001b[A\n"
     ]
    },
    {
     "name": "stdout",
     "output_type": "stream",
     "text": [
      "Wangkumara_wong1246.csv\n"
     ]
    },
    {
     "name": "stderr",
     "output_type": "stream",
     "text": [
      "\n",
      "  0%|                                                  | 0/1000 [00:00<?, ?it/s]\u001b[A\n",
      "100%|█████████████████████████████████████| 1000/1000 [00:00<00:00, 6565.13it/s]\u001b[A\n"
     ]
    },
    {
     "name": "stdout",
     "output_type": "stream",
     "text": [
      "Wiradjuri_wira1262.csv\n"
     ]
    },
    {
     "name": "stderr",
     "output_type": "stream",
     "text": [
      "\n",
      "  0%|                                                  | 0/1000 [00:00<?, ?it/s]\u001b[A\n",
      " 28%|██████████▌                           | 277/1000 [00:00<00:00, 2743.56it/s]\u001b[A\n",
      " 56%|█████████████████████▎                | 560/1000 [00:00<00:00, 2793.22it/s]\u001b[A\n",
      "100%|█████████████████████████████████████| 1000/1000 [00:00<00:00, 2761.55it/s]\u001b[A\n"
     ]
    },
    {
     "name": "stdout",
     "output_type": "stream",
     "text": [
      "Bindal_bind1236.csv\n"
     ]
    },
    {
     "name": "stderr",
     "output_type": "stream",
     "text": [
      "\n",
      "100%|████████████████████████████████████| 1000/1000 [00:00<00:00, 12637.10it/s]\u001b[A\n"
     ]
    },
    {
     "name": "stdout",
     "output_type": "stream",
     "text": [
      "Guugu_Yimidhirr_gugu1255.csv\n"
     ]
    },
    {
     "name": "stderr",
     "output_type": "stream",
     "text": [
      "\n",
      "  0%|                                                  | 0/1000 [00:00<?, ?it/s]\u001b[A\n",
      " 35%|█████████████▏                        | 348/1000 [00:00<00:00, 3478.71it/s]\u001b[A\n",
      "100%|█████████████████████████████████████| 1000/1000 [00:00<00:00, 3659.14it/s]\u001b[A\n"
     ]
    },
    {
     "name": "stdout",
     "output_type": "stream",
     "text": [
      "Kala_Lagaw_Ya_kala1377.csv\n"
     ]
    },
    {
     "name": "stderr",
     "output_type": "stream",
     "text": [
      "\n",
      "  0%|                                                  | 0/1000 [00:00<?, ?it/s]\u001b[A\n",
      " 27%|██████████▎                           | 270/1000 [00:00<00:00, 2698.73it/s]\u001b[A\n",
      " 54%|████████████████████▌                 | 540/1000 [00:00<00:00, 2675.65it/s]\u001b[A\n",
      "100%|█████████████████████████████████████| 1000/1000 [00:00<00:00, 2745.52it/s]\u001b[A\n"
     ]
    },
    {
     "name": "stdout",
     "output_type": "stream",
     "text": [
      "Yindjibarndi_yind1247.csv\n"
     ]
    },
    {
     "name": "stderr",
     "output_type": "stream",
     "text": [
      "\n",
      "  0%|                                                  | 0/1000 [00:00<?, ?it/s]\u001b[A\n",
      " 37%|██████████████                        | 369/1000 [00:00<00:00, 3689.15it/s]\u001b[A\n",
      "100%|█████████████████████████████████████| 1000/1000 [00:00<00:00, 3474.24it/s]\u001b[A\n"
     ]
    },
    {
     "name": "stdout",
     "output_type": "stream",
     "text": [
      "Margany_marg1253.csv\n"
     ]
    },
    {
     "name": "stderr",
     "output_type": "stream",
     "text": [
      "\n",
      "  0%|                                                  | 0/1000 [00:00<?, ?it/s]\u001b[A\n",
      "100%|█████████████████████████████████████| 1000/1000 [00:00<00:00, 6359.75it/s]\u001b[A\n"
     ]
    },
    {
     "name": "stdout",
     "output_type": "stream",
     "text": [
      "Yugambeh_yugu1249.csv\n"
     ]
    },
    {
     "name": "stderr",
     "output_type": "stream",
     "text": [
      "\n",
      "  0%|                                                  | 0/1000 [00:00<?, ?it/s]\u001b[A\n",
      " 27%|██████████▏                           | 268/1000 [00:00<00:00, 2672.92it/s]\u001b[A\n",
      " 55%|████████████████████▋                 | 546/1000 [00:00<00:00, 2725.99it/s]\u001b[A\n",
      "100%|█████████████████████████████████████| 1000/1000 [00:00<00:00, 2551.19it/s]\u001b[A\n"
     ]
    },
    {
     "name": "stdout",
     "output_type": "stream",
     "text": [
      "Yalarnnga_yala1262a.csv\n"
     ]
    },
    {
     "name": "stderr",
     "output_type": "stream",
     "text": [
      "\n",
      "  0%|                                                  | 0/1000 [00:00<?, ?it/s]\u001b[A\n",
      " 37%|█████████████▉                        | 368/1000 [00:00<00:00, 3673.93it/s]\u001b[A\n",
      "100%|█████████████████████████████████████| 1000/1000 [00:00<00:00, 3336.45it/s]\u001b[A\n"
     ]
    },
    {
     "name": "stdout",
     "output_type": "stream",
     "text": [
      "Djinang_djin1253.csv\n"
     ]
    },
    {
     "name": "stderr",
     "output_type": "stream",
     "text": [
      "\n",
      "  0%|                                                  | 0/1000 [00:00<?, ?it/s]\u001b[A\n",
      " 33%|████████████▍                         | 328/1000 [00:00<00:00, 3258.75it/s]\u001b[A\n",
      " 65%|████████████████████████▊             | 654/1000 [00:00<00:00, 2644.64it/s]\u001b[A\n",
      "100%|█████████████████████████████████████| 1000/1000 [00:00<00:00, 2812.49it/s]\u001b[A\n"
     ]
    },
    {
     "name": "stdout",
     "output_type": "stream",
     "text": [
      "Kartujarra_kart1247.csv\n"
     ]
    },
    {
     "name": "stderr",
     "output_type": "stream",
     "text": [
      "\n",
      "  0%|                                                  | 0/1000 [00:00<?, ?it/s]\u001b[A\n",
      " 29%|██████████▉                           | 287/1000 [00:00<00:00, 2867.28it/s]\u001b[A\n",
      " 59%|██████████████████████▎               | 586/1000 [00:00<00:00, 2936.72it/s]\u001b[A\n",
      "100%|█████████████████████████████████████| 1000/1000 [00:00<00:00, 2904.75it/s]\u001b[A\n"
     ]
    },
    {
     "name": "stdout",
     "output_type": "stream",
     "text": [
      "Dhuwal_dhuw1249.csv\n"
     ]
    },
    {
     "name": "stderr",
     "output_type": "stream",
     "text": [
      "\n",
      "  0%|                                                  | 0/1000 [00:00<?, ?it/s]\u001b[A\n",
      " 21%|████████                              | 211/1000 [00:00<00:00, 2105.98it/s]\u001b[A\n",
      " 44%|████████████████▋                     | 439/1000 [00:00<00:00, 2207.97it/s]\u001b[A\n",
      " 67%|█████████████████████████▌            | 674/1000 [00:00<00:00, 2268.82it/s]\u001b[A\n",
      "100%|█████████████████████████████████████| 1000/1000 [00:00<00:00, 2105.22it/s]\u001b[A\n"
     ]
    },
    {
     "name": "stdout",
     "output_type": "stream",
     "text": [
      "Diyari_dier1241a.csv\n"
     ]
    },
    {
     "name": "stderr",
     "output_type": "stream",
     "text": [
      "\n",
      "  0%|                                                  | 0/1000 [00:00<?, ?it/s]\u001b[A\n",
      " 30%|███████████▎                          | 297/1000 [00:00<00:00, 2966.06it/s]\u001b[A\n",
      " 59%|██████████████████████▌               | 594/1000 [00:00<00:00, 2851.70it/s]\u001b[A\n",
      "100%|█████████████████████████████████████| 1000/1000 [00:00<00:00, 2733.59it/s]\u001b[A\n"
     ]
    },
    {
     "name": "stdout",
     "output_type": "stream",
     "text": [
      "Gurindji_guri1247.csv\n"
     ]
    },
    {
     "name": "stderr",
     "output_type": "stream",
     "text": [
      "\n",
      "  0%|                                                  | 0/1000 [00:00<?, ?it/s]\u001b[A\n",
      " 36%|█████████████▌                        | 356/1000 [00:00<00:00, 3554.55it/s]\u001b[A\n",
      "100%|█████████████████████████████████████| 1000/1000 [00:00<00:00, 3620.25it/s]\u001b[A\n"
     ]
    },
    {
     "name": "stdout",
     "output_type": "stream",
     "text": [
      "Yalarnnga_yala1262.csv\n"
     ]
    },
    {
     "name": "stderr",
     "output_type": "stream",
     "text": [
      "\n",
      "  0%|                                                  | 0/1000 [00:00<?, ?it/s]\u001b[A\n",
      " 29%|██████████▊                           | 286/1000 [00:00<00:00, 2855.52it/s]\u001b[A\n",
      " 57%|█████████████████████▋                | 572/1000 [00:00<00:00, 2728.08it/s]\u001b[A\n",
      "100%|█████████████████████████████████████| 1000/1000 [00:00<00:00, 2663.58it/s]\u001b[A\n"
     ]
    },
    {
     "name": "stdout",
     "output_type": "stream",
     "text": [
      "Alyawarr_alya1239.csv\n"
     ]
    },
    {
     "name": "stderr",
     "output_type": "stream",
     "text": [
      "\n",
      "  0%|                                                  | 0/1000 [00:00<?, ?it/s]\u001b[A\n",
      " 32%|████████████▏                         | 321/1000 [00:00<00:00, 3193.36it/s]\u001b[A\n",
      " 64%|████████████████████████▌             | 645/1000 [00:00<00:00, 3215.94it/s]\u001b[A\n",
      "100%|█████████████████████████████████████| 1000/1000 [00:00<00:00, 3111.04it/s]\u001b[A\n"
     ]
    },
    {
     "name": "stdout",
     "output_type": "stream",
     "text": [
      "Kuuku_Ya'u_kuuk1238.csv\n"
     ]
    },
    {
     "name": "stderr",
     "output_type": "stream",
     "text": [
      "\n",
      "  0%|                                                  | 0/1000 [00:00<?, ?it/s]\u001b[A\n",
      " 39%|██████████████▋                       | 387/1000 [00:00<00:00, 3869.07it/s]\u001b[A\n",
      "100%|█████████████████████████████████████| 1000/1000 [00:00<00:00, 3923.48it/s]\u001b[A\n"
     ]
    },
    {
     "name": "stdout",
     "output_type": "stream",
     "text": [
      "Warungu_waru1264.csv\n"
     ]
    },
    {
     "name": "stderr",
     "output_type": "stream",
     "text": [
      "\n",
      "  0%|                                                  | 0/1000 [00:00<?, ?it/s]\u001b[A\n",
      "100%|█████████████████████████████████████| 1000/1000 [00:00<00:00, 5187.34it/s]\u001b[A\n"
     ]
    },
    {
     "name": "stdout",
     "output_type": "stream",
     "text": [
      "PintupiLuritja_pint1250.csv\n"
     ]
    },
    {
     "name": "stderr",
     "output_type": "stream",
     "text": [
      "\n",
      "  0%|                                                  | 0/1000 [00:00<?, ?it/s]\u001b[A\n",
      " 32%|████████████▏                         | 322/1000 [00:00<00:00, 3219.26it/s]\u001b[A\n",
      " 64%|████████████████████████▍             | 644/1000 [00:00<00:00, 3057.31it/s]\u001b[A\n",
      "100%|█████████████████████████████████████| 1000/1000 [00:00<00:00, 3116.99it/s]\u001b[A\n"
     ]
    },
    {
     "name": "stdout",
     "output_type": "stream",
     "text": [
      "Mudburra_mudb1240.csv\n"
     ]
    },
    {
     "name": "stderr",
     "output_type": "stream",
     "text": [
      "\n",
      "  0%|                                                  | 0/1000 [00:00<?, ?it/s]\u001b[A\n",
      " 37%|██████████████                        | 370/1000 [00:00<00:00, 3695.53it/s]\u001b[A\n",
      "100%|█████████████████████████████████████| 1000/1000 [00:00<00:00, 3588.01it/s]\u001b[A\n"
     ]
    },
    {
     "name": "stdout",
     "output_type": "stream",
     "text": [
      "Djinang_djin1253a.csv\n"
     ]
    },
    {
     "name": "stderr",
     "output_type": "stream",
     "text": [
      "\n",
      "  0%|                                                  | 0/1000 [00:00<?, ?it/s]\u001b[A\n",
      " 44%|████████████████▊                     | 444/1000 [00:00<00:00, 4435.83it/s]\u001b[A\n",
      "100%|█████████████████████████████████████| 1000/1000 [00:00<00:00, 4322.66it/s]\u001b[A\n"
     ]
    },
    {
     "name": "stdout",
     "output_type": "stream",
     "text": [
      "Yidiny_yidi1250.csv\n"
     ]
    },
    {
     "name": "stderr",
     "output_type": "stream",
     "text": [
      "\n",
      "  0%|                                                  | 0/1000 [00:00<?, ?it/s]\u001b[A\n",
      " 38%|██████████████▍                       | 380/1000 [00:00<00:00, 3795.56it/s]\u001b[A\n",
      "100%|█████████████████████████████████████| 1000/1000 [00:00<00:00, 3620.83it/s]\u001b[A\n"
     ]
    },
    {
     "name": "stdout",
     "output_type": "stream",
     "text": [
      "Uradhi_(Atampaya)_atam1239.csv\n"
     ]
    },
    {
     "name": "stderr",
     "output_type": "stream",
     "text": [
      "\n",
      "  0%|                                                  | 0/1000 [00:00<?, ?it/s]\u001b[A\n",
      "100%|█████████████████████████████████████| 1000/1000 [00:00<00:00, 8634.91it/s]\u001b[A\n"
     ]
    },
    {
     "name": "stdout",
     "output_type": "stream",
     "text": [
      "Ritharrngu_rita1239.csv\n"
     ]
    },
    {
     "name": "stderr",
     "output_type": "stream",
     "text": [
      "\n",
      "  0%|                                                  | 0/1000 [00:00<?, ?it/s]\u001b[A\n",
      " 33%|████████████▋                         | 334/1000 [00:00<00:00, 3336.64it/s]\u001b[A\n",
      " 67%|█████████████████████████▍            | 668/1000 [00:00<00:00, 3153.70it/s]\u001b[A\n",
      "100%|█████████████████████████████████████| 1000/1000 [00:00<00:00, 3136.31it/s]\u001b[A\n"
     ]
    },
    {
     "name": "stdout",
     "output_type": "stream",
     "text": [
      "Ngiyambaa_wang1291.csv\n"
     ]
    },
    {
     "name": "stderr",
     "output_type": "stream",
     "text": [
      "\n",
      "  0%|                                                  | 0/1000 [00:00<?, ?it/s]\u001b[A\n",
      " 33%|████████████▌                         | 332/1000 [00:00<00:00, 3315.00it/s]\u001b[A\n",
      " 66%|█████████████████████████▏            | 664/1000 [00:00<00:00, 3197.66it/s]\u001b[A\n",
      "100%|█████████████████████████████████████| 1000/1000 [00:00<00:00, 3155.82it/s]\u001b[A\n"
     ]
    },
    {
     "name": "stdout",
     "output_type": "stream",
     "text": [
      "Gumbaynggir_kumb1268.csv\n"
     ]
    },
    {
     "name": "stderr",
     "output_type": "stream",
     "text": [
      "\n",
      "  0%|                                                  | 0/1000 [00:00<?, ?it/s]\u001b[A\n",
      " 32%|████████████                          | 316/1000 [00:00<00:00, 3155.59it/s]\u001b[A\n",
      " 63%|████████████████████████              | 632/1000 [00:00<00:00, 3030.15it/s]\u001b[A\n",
      "100%|█████████████████████████████████████| 1000/1000 [00:00<00:00, 2995.12it/s]\u001b[A\n"
     ]
    },
    {
     "name": "stdout",
     "output_type": "stream",
     "text": [
      "Wajarri_waja1257.csv\n"
     ]
    },
    {
     "name": "stderr",
     "output_type": "stream",
     "text": [
      "\n",
      "  0%|                                                  | 0/1000 [00:00<?, ?it/s]\u001b[A\n",
      "100%|█████████████████████████████████████| 1000/1000 [00:00<00:00, 5299.98it/s]\u001b[A\n"
     ]
    },
    {
     "name": "stdout",
     "output_type": "stream",
     "text": [
      "Yidiny_yidi1250a.csv\n"
     ]
    },
    {
     "name": "stderr",
     "output_type": "stream",
     "text": [
      "\n",
      "  0%|                                                  | 0/1000 [00:00<?, ?it/s]\u001b[A\n",
      "100%|█████████████████████████████████████| 1000/1000 [00:00<00:00, 5175.93it/s]\u001b[A\n"
     ]
    },
    {
     "name": "stdout",
     "output_type": "stream",
     "text": [
      "Warlmanpa_warl1255.csv\n"
     ]
    },
    {
     "name": "stderr",
     "output_type": "stream",
     "text": [
      "\n",
      "  0%|                                                  | 0/1000 [00:00<?, ?it/s]\u001b[A\n",
      " 42%|███████████████▊                      | 416/1000 [00:00<00:00, 4143.55it/s]\u001b[A\n",
      "100%|█████████████████████████████████████| 1000/1000 [00:00<00:00, 4098.96it/s]\u001b[A\n"
     ]
    },
    {
     "name": "stdout",
     "output_type": "stream",
     "text": [
      "MartuWangka_mart1256.csv\n"
     ]
    },
    {
     "name": "stderr",
     "output_type": "stream",
     "text": [
      "\n",
      "  0%|                                                  | 0/1000 [00:00<?, ?it/s]\u001b[A\n",
      " 26%|██████████                            | 265/1000 [00:00<00:00, 2647.24it/s]\u001b[A\n",
      " 53%|████████████████████▏                 | 530/1000 [00:00<00:00, 2142.06it/s]\u001b[A\n",
      "100%|█████████████████████████████████████| 1000/1000 [00:00<00:00, 2381.51it/s]\u001b[A\n"
     ]
    },
    {
     "name": "stdout",
     "output_type": "stream",
     "text": [
      "Bandjalang_band1339.csv\n"
     ]
    },
    {
     "name": "stderr",
     "output_type": "stream",
     "text": [
      "\n",
      "  0%|                                                  | 0/1000 [00:00<?, ?it/s]\u001b[A\n",
      " 24%|█████████▏                            | 241/1000 [00:00<00:00, 2401.00it/s]\u001b[A\n",
      " 48%|██████████████████▎                   | 482/1000 [00:00<00:00, 1987.39it/s]\u001b[A\n",
      " 70%|██████████████████████████▍           | 695/1000 [00:00<00:00, 2044.77it/s]\u001b[A\n",
      "100%|█████████████████████████████████████| 1000/1000 [00:00<00:00, 1933.19it/s]\u001b[A\n"
     ]
    },
    {
     "name": "stdout",
     "output_type": "stream",
     "text": [
      "Yuwaalaraay_gami1243.csv\n"
     ]
    },
    {
     "name": "stderr",
     "output_type": "stream",
     "text": [
      "\n",
      "  0%|                                                  | 0/1000 [00:00<?, ?it/s]\u001b[A\n",
      " 25%|█████████▎                            | 246/1000 [00:00<00:00, 2455.39it/s]\u001b[A\n",
      " 57%|█████████████████████▋                | 571/1000 [00:00<00:00, 2918.42it/s]\u001b[A\n",
      "100%|█████████████████████████████████████| 1000/1000 [00:00<00:00, 2701.47it/s]\u001b[A\n"
     ]
    },
    {
     "name": "stdout",
     "output_type": "stream",
     "text": [
      "Yorta_Yorta_yort1237.csv\n"
     ]
    },
    {
     "name": "stderr",
     "output_type": "stream",
     "text": [
      "\n",
      "  0%|                                                  | 0/1000 [00:00<?, ?it/s]\u001b[A\n",
      "100%|█████████████████████████████████████| 1000/1000 [00:00<00:00, 6645.18it/s]\u001b[A\n"
     ]
    },
    {
     "name": "stdout",
     "output_type": "stream",
     "text": [
      "Ngarluma_ngar1287.csv\n"
     ]
    },
    {
     "name": "stderr",
     "output_type": "stream",
     "text": [
      "\n",
      "  0%|                                                  | 0/1000 [00:00<?, ?it/s]\u001b[A\n",
      "100%|█████████████████████████████████████| 1000/1000 [00:00<00:00, 5559.29it/s]\u001b[A\n"
     ]
    },
    {
     "name": "stdout",
     "output_type": "stream",
     "text": [
      "Nyamal_nyam1271.csv\n"
     ]
    },
    {
     "name": "stderr",
     "output_type": "stream",
     "text": [
      "\n",
      "  0%|                                                  | 0/1000 [00:00<?, ?it/s]\u001b[A\n",
      " 34%|████████████▉                         | 340/1000 [00:00<00:00, 3394.77it/s]\u001b[A\n",
      "100%|█████████████████████████████████████| 1000/1000 [00:00<00:00, 3483.79it/s]\u001b[A\n"
     ]
    },
    {
     "name": "stdout",
     "output_type": "stream",
     "text": [
      "Arabana_arab1267.csv\n"
     ]
    },
    {
     "name": "stderr",
     "output_type": "stream",
     "text": [
      "\n",
      "  0%|                                                  | 0/1000 [00:00<?, ?it/s]\u001b[A\n",
      " 34%|████████████▊                         | 337/1000 [00:00<00:00, 3357.64it/s]\u001b[A\n",
      "100%|█████████████████████████████████████| 1000/1000 [00:00<00:00, 3101.99it/s]\u001b[A\n"
     ]
    },
    {
     "name": "stdout",
     "output_type": "stream",
     "text": [
      "Ngadjumaya_ngad1258.csv\n"
     ]
    },
    {
     "name": "stderr",
     "output_type": "stream",
     "text": [
      "\n",
      "  0%|                                                  | 0/1000 [00:00<?, ?it/s]\u001b[A\n",
      "100%|█████████████████████████████████████| 1000/1000 [00:00<00:00, 5872.80it/s]\u001b[A\n"
     ]
    },
    {
     "name": "stdout",
     "output_type": "stream",
     "text": [
      "Kunjen_kunj1248.csv\n"
     ]
    },
    {
     "name": "stderr",
     "output_type": "stream",
     "text": [
      "\n",
      "  0%|                                                  | 0/1000 [00:00<?, ?it/s]\u001b[A\n",
      "100%|█████████████████████████████████████| 1000/1000 [00:00<00:00, 6778.65it/s]\u001b[A\n"
     ]
    },
    {
     "name": "stdout",
     "output_type": "stream",
     "text": [
      "Kukatja_kuka1246.csv\n"
     ]
    },
    {
     "name": "stderr",
     "output_type": "stream",
     "text": [
      "\n",
      "  0%|                                                  | 0/1000 [00:00<?, ?it/s]\u001b[A\n",
      " 27%|██████████▎                           | 273/1000 [00:00<00:00, 2721.21it/s]\u001b[A\n",
      " 56%|█████████████████████▏                | 559/1000 [00:00<00:00, 2801.61it/s]\u001b[A\n",
      "100%|█████████████████████████████████████| 1000/1000 [00:00<00:00, 2706.81it/s]\u001b[A\n"
     ]
    },
    {
     "name": "stdout",
     "output_type": "stream",
     "text": [
      "Djapu_dhuw1249.csv\n",
      "Guugu_Yimidhirr_gugu1255a.csv\n"
     ]
    },
    {
     "name": "stderr",
     "output_type": "stream",
     "text": [
      "\n",
      "  0%|                                                  | 0/1000 [00:00<?, ?it/s]\u001b[A\n",
      " 34%|████████████▊                         | 336/1000 [00:00<00:00, 3354.60it/s]\u001b[A\n",
      "100%|█████████████████████████████████████| 1000/1000 [00:00<00:00, 3230.07it/s]\u001b[A\n"
     ]
    },
    {
     "name": "stdout",
     "output_type": "stream",
     "text": [
      "Ngarla_ngar1286.csv\n"
     ]
    },
    {
     "name": "stderr",
     "output_type": "stream",
     "text": [
      "\n",
      "100%|████████████████████████████████████| 1000/1000 [00:00<00:00, 10601.42it/s]\u001b[A\n"
     ]
    },
    {
     "name": "stdout",
     "output_type": "stream",
     "text": [
      "Kalkatungu_kalk1246.csv\n"
     ]
    },
    {
     "name": "stderr",
     "output_type": "stream",
     "text": [
      "\n",
      "  0%|                                                  | 0/1000 [00:00<?, ?it/s]\u001b[A\n",
      " 26%|█████████▊                            | 258/1000 [00:00<00:00, 2579.05it/s]\u001b[A\n",
      " 52%|███████████████████▌                  | 516/1000 [00:00<00:00, 2548.39it/s]\u001b[A\n",
      "100%|█████████████████████████████████████| 1000/1000 [00:00<00:00, 2577.50it/s]\u001b[A\n"
     ]
    },
    {
     "name": "stdout",
     "output_type": "stream",
     "text": [
      "Nyawaygi_nyaw1247.csv\n"
     ]
    },
    {
     "name": "stderr",
     "output_type": "stream",
     "text": [
      "\n",
      "100%|████████████████████████████████████| 1000/1000 [00:00<00:00, 10348.95it/s]\u001b[A\n"
     ]
    },
    {
     "name": "stdout",
     "output_type": "stream",
     "text": [
      "Karajarri_kara1476.csv\n"
     ]
    },
    {
     "name": "stderr",
     "output_type": "stream",
     "text": [
      "\n",
      "  0%|                                                  | 0/1000 [00:00<?, ?it/s]\u001b[A\n",
      " 11%|████▏                                  | 108/1000 [00:00<00:00, 984.82it/s]\u001b[A\n",
      " 21%|████████                               | 207/1000 [00:00<00:01, 505.69it/s]\u001b[A\n",
      " 30%|███████████▌                           | 297/1000 [00:00<00:01, 620.23it/s]\u001b[A\n",
      " 44%|████████████████▉                      | 435/1000 [00:00<00:00, 843.34it/s]\u001b[A\n",
      " 54%|████████████████████▊                  | 535/1000 [00:00<00:00, 719.91it/s]\u001b[A\n",
      " 70%|███████████████████████████▍           | 703/1000 [00:00<00:00, 963.18it/s]\u001b[A\n",
      "100%|██████████████████████████████████████| 1000/1000 [00:01<00:00, 990.11it/s]\u001b[A\n"
     ]
    },
    {
     "name": "stdout",
     "output_type": "stream",
     "text": [
      "Ngarrindjeri_narr1259.csv\n"
     ]
    },
    {
     "name": "stderr",
     "output_type": "stream",
     "text": [
      "\n",
      "  0%|                                                  | 0/1000 [00:00<?, ?it/s]\u001b[A\n",
      "100%|█████████████████████████████████████| 1000/1000 [00:00<00:00, 4689.62it/s]\u001b[A\n"
     ]
    },
    {
     "name": "stdout",
     "output_type": "stream",
     "text": [
      "Pirriya_pirr1240.csv\n"
     ]
    },
    {
     "name": "stderr",
     "output_type": "stream",
     "text": [
      "\n",
      "  0%|                                                  | 0/1000 [00:00<?, ?it/s]\u001b[A\n",
      "100%|█████████████████████████████████████| 1000/1000 [00:00<00:00, 6817.92it/s]\u001b[A\n"
     ]
    },
    {
     "name": "stdout",
     "output_type": "stream",
     "text": [
      "Wathwurrung_wath1238.csv\n"
     ]
    },
    {
     "name": "stderr",
     "output_type": "stream",
     "text": [
      "\n",
      "  0%|                                                  | 0/1000 [00:00<?, ?it/s]\u001b[A\n",
      "100%|█████████████████████████████████████| 1000/1000 [00:00<00:00, 6483.82it/s]\u001b[A\n"
     ]
    },
    {
     "name": "stdout",
     "output_type": "stream",
     "text": [
      "Warlpiri_warl1254a.csv\n"
     ]
    },
    {
     "name": "stderr",
     "output_type": "stream",
     "text": [
      "\n",
      "  0%|                                                  | 0/1000 [00:00<?, ?it/s]\u001b[A\n",
      " 28%|██████████▍                           | 275/1000 [00:00<00:00, 2745.94it/s]\u001b[A\n",
      " 55%|████████████████████▉                 | 550/1000 [00:00<00:00, 2681.22it/s]\u001b[A\n",
      "100%|█████████████████████████████████████| 1000/1000 [00:00<00:00, 2748.13it/s]\u001b[A\n"
     ]
    },
    {
     "name": "stdout",
     "output_type": "stream",
     "text": [
      "Dharumbal_dhar1248.csv\n"
     ]
    },
    {
     "name": "stderr",
     "output_type": "stream",
     "text": [
      "\n",
      "  0%|                                                  | 0/1000 [00:00<?, ?it/s]\u001b[A\n",
      " 42%|████████████████                      | 423/1000 [00:00<00:00, 4221.05it/s]\u001b[A\n",
      "100%|█████████████████████████████████████| 1000/1000 [00:00<00:00, 3852.61it/s]\u001b[A\n"
     ]
    },
    {
     "name": "stdout",
     "output_type": "stream",
     "text": [
      "Wirangu_wira1265.csv\n"
     ]
    },
    {
     "name": "stderr",
     "output_type": "stream",
     "text": [
      "\n",
      "  0%|                                                  | 0/1000 [00:00<?, ?it/s]\u001b[A\n",
      " 24%|█████████▎                            | 244/1000 [00:00<00:00, 2439.65it/s]\u001b[A\n",
      " 49%|██████████████████▌                   | 488/1000 [00:00<00:00, 2145.68it/s]\u001b[A\n",
      "100%|█████████████████████████████████████| 1000/1000 [00:00<00:00, 2399.15it/s]\u001b[A\n"
     ]
    },
    {
     "name": "stdout",
     "output_type": "stream",
     "text": [
      "Woiwurrung_woiw1237.csv\n"
     ]
    },
    {
     "name": "stderr",
     "output_type": "stream",
     "text": [
      "\n",
      "  0%|                                                  | 0/1000 [00:00<?, ?it/s]\u001b[A\n",
      "100%|█████████████████████████████████████| 1000/1000 [00:00<00:00, 7631.50it/s]\u001b[A\n"
     ]
    },
    {
     "name": "stdout",
     "output_type": "stream",
     "text": [
      "Bunganditj_bung1264.csv\n"
     ]
    },
    {
     "name": "stderr",
     "output_type": "stream",
     "text": [
      "\n",
      "  0%|                                                  | 0/1000 [00:00<?, ?it/s]\u001b[A\n",
      " 29%|██████████▉                           | 288/1000 [00:00<00:00, 2878.82it/s]\u001b[A\n",
      " 58%|█████████████████████▉                | 576/1000 [00:00<00:00, 2879.01it/s]\u001b[A\n",
      "100%|█████████████████████████████████████| 1000/1000 [00:00<00:00, 2795.04it/s]\u001b[A\n"
     ]
    },
    {
     "name": "stdout",
     "output_type": "stream",
     "text": [
      "Yanyuwa_yany1243.csv\n"
     ]
    },
    {
     "name": "stderr",
     "output_type": "stream",
     "text": [
      "\n",
      "  0%|                                                  | 0/1000 [00:00<?, ?it/s]\u001b[A\n",
      " 32%|████████████▏                         | 321/1000 [00:00<00:00, 3206.13it/s]\u001b[A\n",
      " 64%|████████████████████████▍             | 642/1000 [00:00<00:00, 2988.23it/s]\u001b[A\n",
      "100%|█████████████████████████████████████| 1000/1000 [00:00<00:00, 3067.53it/s]\u001b[A\n"
     ]
    },
    {
     "name": "stdout",
     "output_type": "stream",
     "text": [
      "Gumatj_guma1253.csv\n"
     ]
    },
    {
     "name": "stderr",
     "output_type": "stream",
     "text": [
      "\n",
      "  0%|                                                  | 0/1000 [00:00<?, ?it/s]\u001b[A\n",
      " 38%|██████████████▍                       | 380/1000 [00:00<00:00, 3793.65it/s]\u001b[A\n",
      "100%|█████████████████████████████████████| 1000/1000 [00:00<00:00, 3680.69it/s]\u001b[A\n",
      " 62%|██████████████████████████▌                | 13/21 [05:16<04:15, 31.92s/it]"
     ]
    },
    {
     "name": "stdout",
     "output_type": "stream",
     "text": [
      "FlindersIsland_flin1247.csv\n",
      "Shipibo_ship1254.csv\n"
     ]
    },
    {
     "name": "stderr",
     "output_type": "stream",
     "text": [
      "\n",
      "  0%|                                                  | 0/1000 [00:00<?, ?it/s]\u001b[A\n",
      " 25%|█████████▍                            | 249/1000 [00:00<00:00, 2488.06it/s]\u001b[A\n",
      " 50%|██████████████████▉                   | 498/1000 [00:00<00:00, 1872.06it/s]\u001b[A\n",
      "100%|█████████████████████████████████████| 1000/1000 [00:00<00:00, 2193.48it/s]\u001b[A\n",
      " 67%|████████████████████████████▋              | 14/21 [05:17<02:36, 22.42s/it]"
     ]
    },
    {
     "name": "stdout",
     "output_type": "stream",
     "text": [
      "Morgan1871_Spokäne_spok1245.csv\n"
     ]
    },
    {
     "name": "stderr",
     "output_type": "stream",
     "text": [
      "\n",
      "  0%|                                                  | 0/1000 [00:00<?, ?it/s]\u001b[A\n",
      "100%|█████████████████████████████████████| 1000/1000 [00:00<00:00, 5401.08it/s]\u001b[A\n"
     ]
    },
    {
     "name": "stdout",
     "output_type": "stream",
     "text": [
      "Morgan1871_Okinaken_okan1243.csv\n"
     ]
    },
    {
     "name": "stderr",
     "output_type": "stream",
     "text": [
      "\n",
      "  0%|                                                  | 0/1000 [00:00<?, ?it/s]\u001b[A\n",
      "100%|█████████████████████████████████████| 1000/1000 [00:00<00:00, 7625.02it/s]\u001b[A\n",
      " 71%|██████████████████████████████▋            | 15/21 [05:17<01:34, 15.76s/it]"
     ]
    },
    {
     "name": "stdout",
     "output_type": "stream",
     "text": [
      "Burmese_nucl1310.csv\n"
     ]
    },
    {
     "name": "stderr",
     "output_type": "stream",
     "text": [
      "\n",
      "  0%|                                                  | 0/1000 [00:00<?, ?it/s]\u001b[A\n",
      "100%|█████████████████████████████████████| 1000/1000 [00:00<00:00, 5431.71it/s]\u001b[A\n"
     ]
    },
    {
     "name": "stdout",
     "output_type": "stream",
     "text": [
      "Dzonghka_Wang_wang1287.csv\n"
     ]
    },
    {
     "name": "stderr",
     "output_type": "stream",
     "text": [
      "\n",
      "  0%|                                                  | 0/1000 [00:00<?, ?it/s]\u001b[A\n",
      "100%|█████████████████████████████████████| 1000/1000 [00:00<00:00, 5561.86it/s]\u001b[A\n"
     ]
    },
    {
     "name": "stdout",
     "output_type": "stream",
     "text": [
      "Chepang_chep1245.csv\n"
     ]
    },
    {
     "name": "stderr",
     "output_type": "stream",
     "text": [
      "\n",
      "  0%|                                                  | 0/1000 [00:00<?, ?it/s]\u001b[A\n",
      "100%|█████████████████████████████████████| 1000/1000 [00:00<00:00, 5427.05it/s]\u001b[A\n"
     ]
    },
    {
     "name": "stdout",
     "output_type": "stream",
     "text": [
      "Dzonghka_Sha_dzon1239.csv\n"
     ]
    },
    {
     "name": "stderr",
     "output_type": "stream",
     "text": [
      "\n",
      "  0%|                                                  | 0/1000 [00:00<?, ?it/s]\u001b[A\n",
      " 43%|████████████████▍                     | 433/1000 [00:00<00:00, 4328.04it/s]\u001b[A\n",
      "100%|█████████████████████████████████████| 1000/1000 [00:00<00:00, 4728.71it/s]\u001b[A\n"
     ]
    },
    {
     "name": "stdout",
     "output_type": "stream",
     "text": [
      "Dzonghka_Lhop_dzon1239.csv\n",
      "Sangtam_Naga_sang1321.csv\n"
     ]
    },
    {
     "name": "stderr",
     "output_type": "stream",
     "text": [
      "\n",
      "  0%|                                                  | 0/1000 [00:00<?, ?it/s]\u001b[A\n",
      " 48%|██████████████████                    | 476/1000 [00:00<00:00, 4759.29it/s]\u001b[A\n",
      "100%|█████████████████████████████████████| 1000/1000 [00:00<00:00, 4673.79it/s]\u001b[A\n"
     ]
    },
    {
     "name": "stdout",
     "output_type": "stream",
     "text": [
      "Suzhou_suzh1234.csv\n"
     ]
    },
    {
     "name": "stderr",
     "output_type": "stream",
     "text": [
      "\n",
      "  0%|                                                  | 0/1000 [00:00<?, ?it/s]\u001b[A\n",
      " 46%|█████████████████▎                    | 455/1000 [00:00<00:00, 4549.22it/s]\u001b[A\n",
      "100%|█████████████████████████████████████| 1000/1000 [00:00<00:00, 4770.54it/s]\u001b[A\n"
     ]
    },
    {
     "name": "stdout",
     "output_type": "stream",
     "text": [
      "Prakaa_prak1243.csv\n"
     ]
    },
    {
     "name": "stderr",
     "output_type": "stream",
     "text": [
      "\n",
      "  0%|                                                  | 0/1000 [00:00<?, ?it/s]\u001b[A\n",
      "100%|█████████████████████████████████████| 1000/1000 [00:00<00:00, 9643.96it/s]\u001b[A\n"
     ]
    },
    {
     "name": "stdout",
     "output_type": "stream",
     "text": [
      "Suzhou_shan1293.csv\n"
     ]
    },
    {
     "name": "stderr",
     "output_type": "stream",
     "text": [
      "\n",
      "  0%|                                                  | 0/1000 [00:00<?, ?it/s]\u001b[A\n",
      "100%|█████████████████████████████████████| 1000/1000 [00:00<00:00, 5339.42it/s]\u001b[A\n"
     ]
    },
    {
     "name": "stdout",
     "output_type": "stream",
     "text": [
      "Manange_mana1288.csv\n"
     ]
    },
    {
     "name": "stderr",
     "output_type": "stream",
     "text": [
      "\n",
      "  0%|                                                  | 0/1000 [00:00<?, ?it/s]\u001b[A\n",
      " 35%|█████████████▎                        | 350/1000 [00:00<00:00, 3496.39it/s]\u001b[A\n",
      "100%|█████████████████████████████████████| 1000/1000 [00:00<00:00, 3219.22it/s]\u001b[A\n"
     ]
    },
    {
     "name": "stdout",
     "output_type": "stream",
     "text": [
      "Lisu_lisu1250d.csv\n"
     ]
    },
    {
     "name": "stderr",
     "output_type": "stream",
     "text": [
      "\n",
      "  0%|                                                  | 0/1000 [00:00<?, ?it/s]\u001b[A\n",
      "100%|█████████████████████████████████████| 1000/1000 [00:00<00:00, 5540.41it/s]\u001b[A\n"
     ]
    },
    {
     "name": "stdout",
     "output_type": "stream",
     "text": [
      "Sherpa_sher1255.csv\n"
     ]
    },
    {
     "name": "stderr",
     "output_type": "stream",
     "text": [
      "\n",
      "100%|████████████████████████████████████| 1000/1000 [00:00<00:00, 10337.95it/s]\u001b[A\n"
     ]
    },
    {
     "name": "stdout",
     "output_type": "stream",
     "text": [
      "Jinghpaw_jing1260.csv\n"
     ]
    },
    {
     "name": "stderr",
     "output_type": "stream",
     "text": [
      "\n",
      "100%|████████████████████████████████████| 1000/1000 [00:00<00:00, 10161.36it/s]\u001b[A\n"
     ]
    },
    {
     "name": "stdout",
     "output_type": "stream",
     "text": [
      "Lisu_lisu1250b.csv\n"
     ]
    },
    {
     "name": "stderr",
     "output_type": "stream",
     "text": [
      "\n",
      "  0%|                                                  | 0/1000 [00:00<?, ?it/s]\u001b[A\n",
      "100%|█████████████████████████████████████| 1000/1000 [00:00<00:00, 5320.82it/s]\u001b[A\n"
     ]
    },
    {
     "name": "stdout",
     "output_type": "stream",
     "text": [
      "Lisu_lisu1250c.csv\n"
     ]
    },
    {
     "name": "stderr",
     "output_type": "stream",
     "text": [
      "\n",
      "  0%|                                                  | 0/1000 [00:00<?, ?it/s]\u001b[A\n",
      " 45%|█████████████████▎                    | 454/1000 [00:00<00:00, 4536.50it/s]\u001b[A\n",
      "100%|█████████████████████████████████████| 1000/1000 [00:00<00:00, 4816.91it/s]\u001b[A\n"
     ]
    },
    {
     "name": "stdout",
     "output_type": "stream",
     "text": [
      "Lisu_lisu1250a.csv\n"
     ]
    },
    {
     "name": "stderr",
     "output_type": "stream",
     "text": [
      "\n",
      "  0%|                                                  | 0/1000 [00:00<?, ?it/s]\u001b[A\n",
      " 30%|███████████▌                          | 304/1000 [00:00<00:00, 3032.06it/s]\u001b[A\n",
      "100%|█████████████████████████████████████| 1000/1000 [00:00<00:00, 3129.32it/s]\u001b[A\n"
     ]
    },
    {
     "name": "stdout",
     "output_type": "stream",
     "text": [
      "Morgan1871_Burmese_burm1266.csv\n"
     ]
    },
    {
     "name": "stderr",
     "output_type": "stream",
     "text": [
      "\n",
      "  0%|                                                  | 0/1000 [00:00<?, ?it/s]\u001b[A\n",
      " 46%|█████████████████▌                    | 462/1000 [00:00<00:00, 4612.21it/s]\u001b[A\n",
      "100%|█████████████████████████████████████| 1000/1000 [00:00<00:00, 4625.43it/s]\u001b[A\n"
     ]
    },
    {
     "name": "stdout",
     "output_type": "stream",
     "text": [
      "Morgan1871_Karen_kare1337.csv\n"
     ]
    },
    {
     "name": "stderr",
     "output_type": "stream",
     "text": [
      "\n",
      "  0%|                                                  | 0/1000 [00:00<?, ?it/s]\u001b[A\n",
      "100%|█████████████████████████████████████| 1000/1000 [00:00<00:00, 5102.24it/s]\u001b[A\n"
     ]
    },
    {
     "name": "stdout",
     "output_type": "stream",
     "text": [
      "Morgan1871_Chinese_sini1245.csv\n"
     ]
    },
    {
     "name": "stderr",
     "output_type": "stream",
     "text": [
      "\n",
      "  0%|                                                  | 0/1000 [00:00<?, ?it/s]\u001b[A\n",
      "100%|█████████████████████████████████████| 1000/1000 [00:00<00:00, 5180.87it/s]\u001b[A\n"
     ]
    },
    {
     "name": "stdout",
     "output_type": "stream",
     "text": [
      "Morgan1871_Karen_(Pwo_dialect)_pwoo1239.csv\n"
     ]
    },
    {
     "name": "stderr",
     "output_type": "stream",
     "text": [
      "\n",
      "  0%|                                                  | 0/1000 [00:00<?, ?it/s]\u001b[A\n",
      "100%|█████████████████████████████████████| 1000/1000 [00:00<00:00, 5144.75it/s]\u001b[A\n"
     ]
    },
    {
     "name": "stdout",
     "output_type": "stream",
     "text": [
      "Morgan1871_Karen_(Sgau_dialect)_sgaw1245.csv\n"
     ]
    },
    {
     "name": "stderr",
     "output_type": "stream",
     "text": [
      "\n",
      "  0%|                                                  | 0/1000 [00:00<?, ?it/s]\u001b[A\n",
      "100%|█████████████████████████████████████| 1000/1000 [00:00<00:00, 5272.31it/s]\u001b[A\n",
      " 76%|████████████████████████████████▊          | 16/21 [05:21<01:01, 12.34s/it]"
     ]
    },
    {
     "name": "stdout",
     "output_type": "stream",
     "text": [
      "Turung_turu1249.csv\n"
     ]
    },
    {
     "name": "stderr",
     "output_type": "stream",
     "text": [
      "\n",
      "  0%|                                                  | 0/1000 [00:00<?, ?it/s]\u001b[A\n",
      "100%|█████████████████████████████████████| 1000/1000 [00:00<00:00, 5874.75it/s]\u001b[A\n"
     ]
    },
    {
     "name": "stdout",
     "output_type": "stream",
     "text": [
      "Dehong_deho1238.csv\n"
     ]
    },
    {
     "name": "stderr",
     "output_type": "stream",
     "text": [
      "\n",
      "  0%|                                                  | 0/1000 [00:00<?, ?it/s]\u001b[A\n",
      "100%|█████████████████████████████████████| 1000/1000 [00:00<00:00, 6683.95it/s]\u001b[A\n",
      " 81%|██████████████████████████████████▊        | 17/21 [05:22<00:34,  8.75s/it]"
     ]
    },
    {
     "name": "stdout",
     "output_type": "stream",
     "text": [
      "Tenharim_tenh1241.csv\n"
     ]
    },
    {
     "name": "stderr",
     "output_type": "stream",
     "text": [
      "\n",
      "  0%|                                                  | 0/1000 [00:00<?, ?it/s]\u001b[A\n",
      " 25%|█████████▍                            | 248/1000 [00:00<00:00, 2471.58it/s]\u001b[A\n",
      " 52%|███████████████████▊                  | 520/1000 [00:00<00:00, 2616.29it/s]\u001b[A\n",
      "100%|█████████████████████████████████████| 1000/1000 [00:00<00:00, 2635.62it/s]\u001b[A\n"
     ]
    },
    {
     "name": "stdout",
     "output_type": "stream",
     "text": [
      "Tapirapé_tapi1254.csv\n"
     ]
    },
    {
     "name": "stderr",
     "output_type": "stream",
     "text": [
      "\n",
      "  0%|                                                  | 0/1000 [00:00<?, ?it/s]\u001b[A\n",
      " 44%|████████████████▌                     | 437/1000 [00:00<00:00, 4361.79it/s]\u001b[A\n",
      "100%|█████████████████████████████████████| 1000/1000 [00:00<00:00, 4246.91it/s]\u001b[A\n"
     ]
    },
    {
     "name": "stdout",
     "output_type": "stream",
     "text": [
      "Sirionó_siri1273.csv\n"
     ]
    },
    {
     "name": "stderr",
     "output_type": "stream",
     "text": [
      "\n",
      "  0%|                                                  | 0/1000 [00:00<?, ?it/s]\u001b[A\n",
      " 30%|███████████▏                          | 295/1000 [00:00<00:00, 2949.20it/s]\u001b[A\n",
      " 59%|██████████████████████▍               | 590/1000 [00:00<00:00, 2656.50it/s]\u001b[A\n",
      "100%|█████████████████████████████████████| 1000/1000 [00:00<00:00, 2189.54it/s]\u001b[A\n"
     ]
    },
    {
     "name": "stdout",
     "output_type": "stream",
     "text": [
      "Kayabí_kaya1329.csv\n"
     ]
    },
    {
     "name": "stderr",
     "output_type": "stream",
     "text": [
      "\n",
      "  0%|                                                  | 0/1000 [00:00<?, ?it/s]\u001b[A\n",
      " 27%|██████████▎                           | 272/1000 [00:00<00:00, 2716.40it/s]\u001b[A\n",
      " 57%|█████████████████████▌                | 568/1000 [00:00<00:00, 2857.76it/s]\u001b[A\n",
      "100%|█████████████████████████████████████| 1000/1000 [00:00<00:00, 2967.89it/s]\u001b[A\n"
     ]
    },
    {
     "name": "stdout",
     "output_type": "stream",
     "text": [
      "Mbyá_Guaraní_mbya1239.csv\n"
     ]
    },
    {
     "name": "stderr",
     "output_type": "stream",
     "text": [
      "\n",
      "  0%|                                                  | 0/1000 [00:00<?, ?it/s]\u001b[A\n",
      " 28%|██████████▌                           | 278/1000 [00:00<00:00, 2776.11it/s]\u001b[A\n",
      " 56%|█████████████████████▏                | 556/1000 [00:00<00:00, 2744.53it/s]\u001b[A\n",
      "100%|█████████████████████████████████████| 1000/1000 [00:00<00:00, 2588.29it/s]\u001b[A\n"
     ]
    },
    {
     "name": "stdout",
     "output_type": "stream",
     "text": [
      "Pauserna_paus1244.csv\n"
     ]
    },
    {
     "name": "stderr",
     "output_type": "stream",
     "text": [
      "\n",
      "  0%|                                                  | 0/1000 [00:00<?, ?it/s]\u001b[A\n",
      " 42%|████████████████                      | 422/1000 [00:00<00:00, 4213.73it/s]\u001b[A\n",
      "100%|█████████████████████████████████████| 1000/1000 [00:00<00:00, 4076.01it/s]\u001b[A\n"
     ]
    },
    {
     "name": "stdout",
     "output_type": "stream",
     "text": [
      "Avá_Canoeiro_avac1239.csv\n"
     ]
    },
    {
     "name": "stderr",
     "output_type": "stream",
     "text": [
      "\n",
      "100%|████████████████████████████████████| 1000/1000 [00:00<00:00, 12033.41it/s]\u001b[A\n"
     ]
    },
    {
     "name": "stdout",
     "output_type": "stream",
     "text": [
      "Cocama_Cocamilla_coca1259.csv\n"
     ]
    },
    {
     "name": "stderr",
     "output_type": "stream",
     "text": [
      "\n",
      "  0%|                                                  | 0/1000 [00:00<?, ?it/s]\u001b[A\n",
      " 28%|██████████▌                           | 278/1000 [00:00<00:00, 2770.71it/s]\u001b[A\n",
      " 56%|█████████████████████▏                | 556/1000 [00:00<00:00, 2764.70it/s]\u001b[A\n",
      "100%|█████████████████████████████████████| 1000/1000 [00:00<00:00, 2761.00it/s]\u001b[A\n"
     ]
    },
    {
     "name": "stdout",
     "output_type": "stream",
     "text": [
      "Awetí_awet1244.csv\n"
     ]
    },
    {
     "name": "stderr",
     "output_type": "stream",
     "text": [
      "\n",
      "  0%|                                                  | 0/1000 [00:00<?, ?it/s]\u001b[A\n",
      " 27%|██████████                            | 266/1000 [00:00<00:00, 2656.79it/s]\u001b[A\n",
      " 53%|████████████████████▏                 | 532/1000 [00:00<00:00, 2555.15it/s]\u001b[A\n",
      "100%|█████████████████████████████████████| 1000/1000 [00:00<00:00, 2568.83it/s]\u001b[A\n"
     ]
    },
    {
     "name": "stdout",
     "output_type": "stream",
     "text": [
      "Mundurukú_mund1330.csv\n"
     ]
    },
    {
     "name": "stderr",
     "output_type": "stream",
     "text": [
      "\n",
      "  0%|                                                  | 0/1000 [00:00<?, ?it/s]\u001b[A\n",
      " 45%|█████████████████                     | 450/1000 [00:00<00:00, 4494.98it/s]\u001b[A\n",
      "100%|█████████████████████████████████████| 1000/1000 [00:00<00:00, 4489.96it/s]\u001b[A\n"
     ]
    },
    {
     "name": "stdout",
     "output_type": "stream",
     "text": [
      "Araweté_araw1273.csv\n"
     ]
    },
    {
     "name": "stderr",
     "output_type": "stream",
     "text": [
      "\n",
      "  0%|                                                  | 0/1000 [00:00<?, ?it/s]\u001b[A\n",
      " 34%|████████████▊                         | 338/1000 [00:00<00:00, 3372.34it/s]\u001b[A\n",
      "100%|█████████████████████████████████████| 1000/1000 [00:00<00:00, 3319.71it/s]\u001b[A\n"
     ]
    },
    {
     "name": "stdout",
     "output_type": "stream",
     "text": [
      "Tupí_tupi1274.csv\n"
     ]
    },
    {
     "name": "stderr",
     "output_type": "stream",
     "text": [
      "\n",
      "  0%|                                                  | 0/1000 [00:00<?, ?it/s]\u001b[A\n",
      " 29%|██████████▊                           | 286/1000 [00:00<00:00, 2853.38it/s]\u001b[A\n",
      " 57%|█████████████████████▋                | 572/1000 [00:00<00:00, 2803.11it/s]\u001b[A\n",
      "100%|█████████████████████████████████████| 1000/1000 [00:00<00:00, 2801.15it/s]\u001b[A\n"
     ]
    },
    {
     "name": "stdout",
     "output_type": "stream",
     "text": [
      "Emerillon_emer1243.csv\n"
     ]
    },
    {
     "name": "stderr",
     "output_type": "stream",
     "text": [
      "\n",
      "  0%|                                                  | 0/1000 [00:00<?, ?it/s]\u001b[A\n",
      "100%|█████████████████████████████████████| 1000/1000 [00:00<00:00, 7331.16it/s]\u001b[A\n"
     ]
    },
    {
     "name": "stdout",
     "output_type": "stream",
     "text": [
      "Parakanã_para1312.csv\n"
     ]
    },
    {
     "name": "stderr",
     "output_type": "stream",
     "text": [
      "\n",
      "  0%|                                                  | 0/1000 [00:00<?, ?it/s]\u001b[A\n",
      " 33%|████████████▋                         | 334/1000 [00:00<00:00, 3333.57it/s]\u001b[A\n",
      "100%|█████████████████████████████████████| 1000/1000 [00:00<00:00, 3360.42it/s]\u001b[A\n"
     ]
    },
    {
     "name": "stdout",
     "output_type": "stream",
     "text": [
      "Guarayu_guar1292.csv\n"
     ]
    },
    {
     "name": "stderr",
     "output_type": "stream",
     "text": [
      "\n",
      "  0%|                                                  | 0/1000 [00:00<?, ?it/s]\u001b[A\n",
      "100%|█████████████████████████████████████| 1000/1000 [00:00<00:00, 5798.54it/s]\u001b[A\n"
     ]
    },
    {
     "name": "stdout",
     "output_type": "stream",
     "text": [
      "Karitiana_kari1311.csv\n"
     ]
    },
    {
     "name": "stderr",
     "output_type": "stream",
     "text": [
      "\n",
      "  0%|                                                  | 0/1000 [00:00<?, ?it/s]\u001b[A\n",
      "100%|█████████████████████████████████████| 1000/1000 [00:00<00:00, 5832.16it/s]\u001b[A\n"
     ]
    },
    {
     "name": "stdout",
     "output_type": "stream",
     "text": [
      "Kamayurá_kama1373.csv\n"
     ]
    },
    {
     "name": "stderr",
     "output_type": "stream",
     "text": [
      "\n",
      "  0%|                                                  | 0/1000 [00:00<?, ?it/s]\u001b[A\n",
      " 26%|█████████▉                            | 262/1000 [00:00<00:00, 2614.30it/s]\u001b[A\n",
      " 52%|███████████████████▉                  | 524/1000 [00:00<00:00, 2540.26it/s]\u001b[A\n",
      "100%|█████████████████████████████████████| 1000/1000 [00:00<00:00, 2258.55it/s]\u001b[A\n"
     ]
    },
    {
     "name": "stdout",
     "output_type": "stream",
     "text": [
      "Kaiwá_kaiw1246.csv\n"
     ]
    },
    {
     "name": "stderr",
     "output_type": "stream",
     "text": [
      "\n",
      "  0%|                                                  | 0/1000 [00:00<?, ?it/s]\u001b[A\n",
      " 48%|██████████████████▎                   | 481/1000 [00:00<00:00, 4805.67it/s]\u001b[A\n",
      "100%|█████████████████████████████████████| 1000/1000 [00:00<00:00, 4402.11it/s]\u001b[A\n"
     ]
    },
    {
     "name": "stdout",
     "output_type": "stream",
     "text": [
      "Jurúna_juru1256.csv\n"
     ]
    },
    {
     "name": "stderr",
     "output_type": "stream",
     "text": [
      "\n",
      "  0%|                                                  | 0/1000 [00:00<?, ?it/s]\u001b[A\n",
      " 30%|███████████▌                          | 305/1000 [00:00<00:00, 3044.64it/s]\u001b[A\n",
      " 66%|████████████████████████▉             | 655/1000 [00:00<00:00, 3308.84it/s]\u001b[A\n",
      "100%|█████████████████████████████████████| 1000/1000 [00:00<00:00, 3272.96it/s]\u001b[A\n"
     ]
    },
    {
     "name": "stdout",
     "output_type": "stream",
     "text": [
      "Tupinambá_tupi1273.csv\n"
     ]
    },
    {
     "name": "stderr",
     "output_type": "stream",
     "text": [
      "\n",
      "  0%|                                                  | 0/1000 [00:00<?, ?it/s]\u001b[A\n",
      " 40%|███████████████▎                      | 403/1000 [00:00<00:00, 4020.34it/s]\u001b[A\n",
      "100%|█████████████████████████████████████| 1000/1000 [00:00<00:00, 3932.87it/s]\u001b[A\n"
     ]
    },
    {
     "name": "stdout",
     "output_type": "stream",
     "text": [
      "Wayampi_waya1270.csv\n"
     ]
    },
    {
     "name": "stderr",
     "output_type": "stream",
     "text": [
      "\n",
      "  0%|                                                  | 0/1000 [00:00<?, ?it/s]\u001b[A\n",
      " 42%|████████████████                      | 422/1000 [00:00<00:00, 4213.85it/s]\u001b[A\n",
      "100%|█████████████████████████████████████| 1000/1000 [00:00<00:00, 3969.31it/s]\u001b[A\n"
     ]
    },
    {
     "name": "stdout",
     "output_type": "stream",
     "text": [
      "Anambé_anam1249.csv\n"
     ]
    },
    {
     "name": "stderr",
     "output_type": "stream",
     "text": [
      "\n",
      "100%|████████████████████████████████████| 1000/1000 [00:00<00:00, 11501.77it/s]\u001b[A\n"
     ]
    },
    {
     "name": "stdout",
     "output_type": "stream",
     "text": [
      "Paraguayan_Guaraní_para1311.csv\n"
     ]
    },
    {
     "name": "stderr",
     "output_type": "stream",
     "text": [
      "\n",
      "  0%|                                                  | 0/1000 [00:00<?, ?it/s]\u001b[A\n",
      " 27%|██████████▍                           | 274/1000 [00:00<00:00, 2737.91it/s]\u001b[A\n",
      " 55%|████████████████████▊                 | 548/1000 [00:00<00:00, 2701.73it/s]\u001b[A\n",
      "100%|█████████████████████████████████████| 1000/1000 [00:00<00:00, 2463.15it/s]\u001b[A\n"
     ]
    },
    {
     "name": "stdout",
     "output_type": "stream",
     "text": [
      "Suruí_suru1262.csv\n"
     ]
    },
    {
     "name": "stderr",
     "output_type": "stream",
     "text": [
      "\n",
      "  0%|                                                  | 0/1000 [00:00<?, ?it/s]\u001b[A\n",
      " 34%|████████████▉                         | 341/1000 [00:00<00:00, 3402.99it/s]\u001b[A\n",
      "100%|█████████████████████████████████████| 1000/1000 [00:00<00:00, 3319.20it/s]\u001b[A\n"
     ]
    },
    {
     "name": "stdout",
     "output_type": "stream",
     "text": [
      "Sateré_Mawé_sate1243.csv\n"
     ]
    },
    {
     "name": "stderr",
     "output_type": "stream",
     "text": [
      "\n",
      "  0%|                                                  | 0/1000 [00:00<?, ?it/s]\u001b[A\n",
      "100%|█████████████████████████████████████| 1000/1000 [00:00<00:00, 5912.18it/s]\u001b[A\n"
     ]
    },
    {
     "name": "stdout",
     "output_type": "stream",
     "text": [
      "Guajá_guaj1256.csv\n"
     ]
    },
    {
     "name": "stderr",
     "output_type": "stream",
     "text": [
      "\n",
      "  0%|                                                  | 0/1000 [00:00<?, ?it/s]\u001b[A\n",
      " 30%|███████████▍                          | 301/1000 [00:00<00:00, 3004.20it/s]\u001b[A\n",
      " 60%|██████████████████████▉               | 602/1000 [00:00<00:00, 2999.91it/s]\u001b[A\n",
      "100%|█████████████████████████████████████| 1000/1000 [00:00<00:00, 2976.40it/s]\u001b[A\n"
     ]
    },
    {
     "name": "stdout",
     "output_type": "stream",
     "text": [
      "Aché_ache1246.csv\n"
     ]
    },
    {
     "name": "stderr",
     "output_type": "stream",
     "text": [
      "\n",
      "  0%|                                                  | 0/1000 [00:00<?, ?it/s]\u001b[A\n",
      " 27%|██████████▎                           | 272/1000 [00:00<00:00, 2714.90it/s]\u001b[A\n",
      " 55%|████████████████████▊                 | 547/1000 [00:00<00:00, 2732.38it/s]\u001b[A\n",
      "100%|█████████████████████████████████████| 1000/1000 [00:00<00:00, 2665.91it/s]\u001b[A\n"
     ]
    },
    {
     "name": "stdout",
     "output_type": "stream",
     "text": [
      "Proto_Tupi_Guarani_tupi1276.csv\n"
     ]
    },
    {
     "name": "stderr",
     "output_type": "stream",
     "text": [
      "\n",
      "  0%|                                                  | 0/1000 [00:00<?, ?it/s]\u001b[A\n",
      "100%|█████████████████████████████████████| 1000/1000 [00:00<00:00, 5933.81it/s]\u001b[A\n"
     ]
    },
    {
     "name": "stdout",
     "output_type": "stream",
     "text": [
      "Chiriguano_east2555.csv\n"
     ]
    },
    {
     "name": "stderr",
     "output_type": "stream",
     "text": [
      "\n",
      "  0%|                                                  | 0/1000 [00:00<?, ?it/s]\u001b[A\n",
      " 28%|██████████▊                           | 284/1000 [00:00<00:00, 2831.87it/s]\u001b[A\n",
      " 57%|█████████████████████▌                | 568/1000 [00:00<00:00, 2823.24it/s]\u001b[A\n",
      "100%|█████████████████████████████████████| 1000/1000 [00:00<00:00, 2793.96it/s]\u001b[A\n"
     ]
    },
    {
     "name": "stdout",
     "output_type": "stream",
     "text": [
      "Cinta_Larga_cint1239.csv\n"
     ]
    },
    {
     "name": "stderr",
     "output_type": "stream",
     "text": [
      "\n",
      "  0%|                                                  | 0/1000 [00:00<?, ?it/s]\u001b[A\n",
      " 34%|████████████▊                         | 338/1000 [00:00<00:00, 3379.03it/s]\u001b[A\n",
      "100%|█████████████████████████████████████| 1000/1000 [00:00<00:00, 3424.44it/s]\u001b[A\n"
     ]
    },
    {
     "name": "stdout",
     "output_type": "stream",
     "text": [
      "Tembé_temb1276.csv\n"
     ]
    },
    {
     "name": "stderr",
     "output_type": "stream",
     "text": [
      "\n",
      "  0%|                                                  | 0/1000 [00:00<?, ?it/s]\u001b[A\n",
      " 45%|████████████████▉                     | 447/1000 [00:00<00:00, 4466.65it/s]\u001b[A\n",
      "100%|█████████████████████████████████████| 1000/1000 [00:00<00:00, 4560.65it/s]\u001b[A\n"
     ]
    },
    {
     "name": "stdout",
     "output_type": "stream",
     "text": [
      "Tocantins_Asurini_toca1235.csv\n"
     ]
    },
    {
     "name": "stderr",
     "output_type": "stream",
     "text": [
      "\n",
      "  0%|                                                  | 0/1000 [00:00<?, ?it/s]\u001b[A\n",
      " 30%|███████████▍                          | 302/1000 [00:00<00:00, 3013.74it/s]\u001b[A\n",
      " 60%|██████████████████████▉               | 604/1000 [00:00<00:00, 2965.05it/s]\u001b[A\n",
      "100%|█████████████████████████████████████| 1000/1000 [00:00<00:00, 2943.69it/s]\u001b[A\n",
      " 86%|████████████████████████████████████▊      | 18/21 [05:31<00:27,  9.00s/it]"
     ]
    },
    {
     "name": "stdout",
     "output_type": "stream",
     "text": [
      "Nogai_noga1249.csv\n"
     ]
    },
    {
     "name": "stderr",
     "output_type": "stream",
     "text": [
      "\n",
      "  0%|                                                  | 0/1000 [00:00<?, ?it/s]\u001b[A\n",
      " 30%|███████████▎                          | 297/1000 [00:00<00:00, 2966.08it/s]\u001b[A\n",
      " 59%|██████████████████████▌               | 594/1000 [00:00<00:00, 2901.85it/s]\u001b[A\n",
      "100%|█████████████████████████████████████| 1000/1000 [00:00<00:00, 2907.77it/s]\u001b[A\n"
     ]
    },
    {
     "name": "stdout",
     "output_type": "stream",
     "text": [
      "Kumyk_kumy1244.csv\n"
     ]
    },
    {
     "name": "stderr",
     "output_type": "stream",
     "text": [
      "\n",
      "  0%|                                                  | 0/1000 [00:00<?, ?it/s]\u001b[A\n",
      " 18%|██████▉                               | 184/1000 [00:00<00:00, 1836.35it/s]\u001b[A\n",
      " 39%|██████████████▉                       | 394/1000 [00:00<00:00, 1988.94it/s]\u001b[A\n",
      " 63%|███████████████████████▉              | 631/1000 [00:00<00:00, 2156.08it/s]\u001b[A\n",
      "100%|█████████████████████████████████████| 1000/1000 [00:00<00:00, 2219.95it/s]\u001b[A\n"
     ]
    },
    {
     "name": "stdout",
     "output_type": "stream",
     "text": [
      "North_Azerbaijani_nort2697.csv\n"
     ]
    },
    {
     "name": "stderr",
     "output_type": "stream",
     "text": [
      "\n",
      "  0%|                                                  | 0/1000 [00:00<?, ?it/s]\u001b[A\n",
      " 29%|███████████                           | 290/1000 [00:00<00:00, 2899.12it/s]\u001b[A\n",
      " 58%|██████████████████████                | 582/1000 [00:00<00:00, 2906.70it/s]\u001b[A\n",
      "100%|█████████████████████████████████████| 1000/1000 [00:00<00:00, 2778.73it/s]\u001b[A\n"
     ]
    },
    {
     "name": "stdout",
     "output_type": "stream",
     "text": [
      "Turkish_nucl1301.csv\n"
     ]
    },
    {
     "name": "stderr",
     "output_type": "stream",
     "text": [
      "\n",
      "  0%|                                                  | 0/1000 [00:00<?, ?it/s]\u001b[A\n",
      " 28%|██████████▋                           | 281/1000 [00:00<00:00, 2807.05it/s]\u001b[A\n",
      " 56%|█████████████████████▎                | 562/1000 [00:00<00:00, 2691.96it/s]\u001b[A\n",
      "100%|█████████████████████████████████████| 1000/1000 [00:00<00:00, 2460.75it/s]\u001b[A\n"
     ]
    },
    {
     "name": "stdout",
     "output_type": "stream",
     "text": [
      "Kazakh_kaza1248.csv\n"
     ]
    },
    {
     "name": "stderr",
     "output_type": "stream",
     "text": [
      "\n",
      "  0%|                                                  | 0/1000 [00:00<?, ?it/s]\u001b[A\n",
      " 46%|█████████████████▍                    | 458/1000 [00:00<00:00, 4579.27it/s]\u001b[A\n",
      "100%|█████████████████████████████████████| 1000/1000 [00:00<00:00, 4553.57it/s]\u001b[A\n",
      " 90%|██████████████████████████████████████▉    | 19/21 [05:33<00:13,  6.90s/it]"
     ]
    },
    {
     "name": "stdout",
     "output_type": "stream",
     "text": [
      "KazymKhanty_nort2672.csv\n"
     ]
    },
    {
     "name": "stderr",
     "output_type": "stream",
     "text": [
      "\n",
      "  0%|                                                  | 0/1000 [00:00<?, ?it/s]\u001b[A\n",
      " 23%|████████▋                             | 228/1000 [00:00<00:00, 2266.01it/s]\u001b[A\n",
      " 46%|█████████████████▎                    | 455/1000 [00:00<00:00, 2182.03it/s]\u001b[A\n",
      " 67%|█████████████████████████▌            | 674/1000 [00:00<00:00, 2150.12it/s]\u001b[A\n",
      "100%|█████████████████████████████████████| 1000/1000 [00:00<00:00, 2156.29it/s]\u001b[A\n"
     ]
    },
    {
     "name": "stdout",
     "output_type": "stream",
     "text": [
      "Komi_Zyrian_komi1268.csv\n"
     ]
    },
    {
     "name": "stderr",
     "output_type": "stream",
     "text": [
      "\n",
      "  0%|                                                  | 0/1000 [00:00<?, ?it/s]\u001b[A\n",
      " 27%|██████████▍                           | 274/1000 [00:00<00:00, 2734.76it/s]\u001b[A\n",
      " 55%|████████████████████▊                 | 548/1000 [00:00<00:00, 2702.31it/s]\u001b[A\n",
      "100%|█████████████████████████████████████| 1000/1000 [00:00<00:00, 2534.34it/s]\u001b[A\n"
     ]
    },
    {
     "name": "stdout",
     "output_type": "stream",
     "text": [
      "Mansi_mans1258.csv\n"
     ]
    },
    {
     "name": "stderr",
     "output_type": "stream",
     "text": [
      "\n",
      "  0%|                                                  | 0/1000 [00:00<?, ?it/s]\u001b[A\n",
      " 31%|███████████▋                          | 307/1000 [00:00<00:00, 3062.83it/s]\u001b[A\n",
      " 61%|███████████████████████▎              | 614/1000 [00:00<00:00, 2980.45it/s]\u001b[A\n",
      "100%|█████████████████████████████████████| 1000/1000 [00:00<00:00, 2914.31it/s]\u001b[A\n"
     ]
    },
    {
     "name": "stdout",
     "output_type": "stream",
     "text": [
      "Livonian_livv1244.csv\n"
     ]
    },
    {
     "name": "stderr",
     "output_type": "stream",
     "text": [
      "\n",
      "  0%|                                                  | 0/1000 [00:00<?, ?it/s]\u001b[A\n",
      " 26%|█████████▉                            | 261/1000 [00:00<00:00, 2605.94it/s]\u001b[A\n",
      " 52%|███████████████████▊                  | 522/1000 [00:00<00:00, 2590.54it/s]\u001b[A\n",
      "100%|█████████████████████████████████████| 1000/1000 [00:00<00:00, 2623.56it/s]\u001b[A\n"
     ]
    },
    {
     "name": "stdout",
     "output_type": "stream",
     "text": [
      "Udmurt_udmu1245.csv\n"
     ]
    },
    {
     "name": "stderr",
     "output_type": "stream",
     "text": [
      "\n",
      "  0%|                                                  | 0/1000 [00:00<?, ?it/s]\u001b[A\n",
      " 25%|█████████▎                            | 246/1000 [00:00<00:00, 2456.31it/s]\u001b[A\n",
      " 50%|██████████████████▉                   | 497/1000 [00:00<00:00, 2484.53it/s]\u001b[A\n",
      " 75%|████████████████████████████▎         | 746/1000 [00:00<00:00, 2451.59it/s]\u001b[A\n",
      "100%|█████████████████████████████████████| 1000/1000 [00:00<00:00, 2435.45it/s]\u001b[A\n"
     ]
    },
    {
     "name": "stdout",
     "output_type": "stream",
     "text": [
      "KomiZyrian_komi1268.csv\n",
      "NorthSaami_nort2671.csv\n"
     ]
    },
    {
     "name": "stderr",
     "output_type": "stream",
     "text": [
      "\n",
      "  0%|                                                  | 0/1000 [00:00<?, ?it/s]\u001b[A\n",
      " 25%|█████████▌                            | 251/1000 [00:00<00:00, 2509.80it/s]\u001b[A\n",
      " 50%|███████████████████                   | 502/1000 [00:00<00:00, 2439.21it/s]\u001b[A\n",
      " 75%|████████████████████████████▌         | 751/1000 [00:00<00:00, 2461.97it/s]\u001b[A\n",
      "100%|█████████████████████████████████████| 1000/1000 [00:00<00:00, 2408.39it/s]\u001b[A\n"
     ]
    },
    {
     "name": "stdout",
     "output_type": "stream",
     "text": [
      "Veps_veps1250.csv\n"
     ]
    },
    {
     "name": "stderr",
     "output_type": "stream",
     "text": [
      "\n",
      "  0%|                                                  | 0/1000 [00:00<?, ?it/s]\u001b[A\n",
      " 26%|█████████▊                            | 259/1000 [00:00<00:00, 2582.39it/s]\u001b[A\n",
      " 52%|███████████████████▋                  | 518/1000 [00:00<00:00, 2188.73it/s]\u001b[A\n",
      " 74%|████████████████████████████▏         | 741/1000 [00:00<00:00, 2152.98it/s]\u001b[A\n",
      "100%|█████████████████████████████████████| 1000/1000 [00:00<00:00, 2012.49it/s]\u001b[A\n"
     ]
    },
    {
     "name": "stdout",
     "output_type": "stream",
     "text": [
      "TundraNenets_nene1249.csv\n"
     ]
    },
    {
     "name": "stderr",
     "output_type": "stream",
     "text": [
      "\n",
      "  0%|                                                  | 0/1000 [00:00<?, ?it/s]\u001b[A\n",
      " 19%|███████▎                              | 191/1000 [00:00<00:00, 1903.76it/s]\u001b[A\n",
      " 41%|███████████████▋                      | 413/1000 [00:00<00:00, 2088.68it/s]\u001b[A\n",
      " 63%|████████████████████████              | 633/1000 [00:00<00:00, 2138.51it/s]\u001b[A\n",
      "100%|█████████████████████████████████████| 1000/1000 [00:00<00:00, 2064.75it/s]\u001b[A\n"
     ]
    },
    {
     "name": "stdout",
     "output_type": "stream",
     "text": [
      "Magyar_hung1274.csv\n"
     ]
    },
    {
     "name": "stderr",
     "output_type": "stream",
     "text": [
      "\n",
      "  0%|                                                  | 0/1000 [00:00<?, ?it/s]\u001b[A\n",
      " 27%|██████████▎                           | 271/1000 [00:00<00:00, 2702.87it/s]\u001b[A\n",
      " 54%|████████████████████▌                 | 542/1000 [00:00<00:00, 2703.63it/s]\u001b[A\n",
      "100%|█████████████████████████████████████| 1000/1000 [00:00<00:00, 2641.44it/s]\u001b[A\n"
     ]
    },
    {
     "name": "stdout",
     "output_type": "stream",
     "text": [
      "Tundra_Nenets_nene1249.csv\n",
      "Selkup_selk1253.csv\n"
     ]
    },
    {
     "name": "stderr",
     "output_type": "stream",
     "text": [
      "\n",
      "  0%|                                                  | 0/1000 [00:00<?, ?it/s]\u001b[A\n",
      "100%|█████████████████████████████████████| 1000/1000 [00:00<00:00, 5476.45it/s]\u001b[A\n"
     ]
    },
    {
     "name": "stdout",
     "output_type": "stream",
     "text": [
      "MeadowMari_gras1239.csv\n"
     ]
    },
    {
     "name": "stderr",
     "output_type": "stream",
     "text": [
      "\n",
      "  0%|                                                  | 0/1000 [00:00<?, ?it/s]\u001b[A\n",
      " 22%|████████▌                             | 225/1000 [00:00<00:00, 2246.07it/s]\u001b[A\n",
      " 46%|█████████████████▌                    | 462/1000 [00:00<00:00, 2317.50it/s]\u001b[A\n",
      " 69%|██████████████████████████▎           | 694/1000 [00:00<00:00, 2299.00it/s]\u001b[A\n",
      "100%|█████████████████████████████████████| 1000/1000 [00:00<00:00, 2275.47it/s]\u001b[A\n"
     ]
    },
    {
     "name": "stdout",
     "output_type": "stream",
     "text": [
      "Erzya_erzy1239.csv\n"
     ]
    },
    {
     "name": "stderr",
     "output_type": "stream",
     "text": [
      "\n",
      "  0%|                                                  | 0/1000 [00:00<?, ?it/s]\u001b[A\n",
      " 27%|██████████▏                           | 269/1000 [00:00<00:00, 2683.61it/s]\u001b[A\n",
      " 55%|████████████████████▉                 | 552/1000 [00:00<00:00, 2768.89it/s]\u001b[A\n",
      "100%|█████████████████████████████████████| 1000/1000 [00:00<00:00, 2725.55it/s]\u001b[A\n"
     ]
    },
    {
     "name": "stdout",
     "output_type": "stream",
     "text": [
      "HillMari_west2392.csv\n"
     ]
    },
    {
     "name": "stderr",
     "output_type": "stream",
     "text": [
      "\n",
      "  0%|                                                  | 0/1000 [00:00<?, ?it/s]\u001b[A\n",
      " 23%|████████▋                             | 228/1000 [00:00<00:00, 2277.33it/s]\u001b[A\n",
      " 46%|█████████████████▋                    | 464/1000 [00:00<00:00, 2322.36it/s]\u001b[A\n",
      " 70%|██████████████████████████▍           | 697/1000 [00:00<00:00, 2095.18it/s]\u001b[A\n",
      "100%|█████████████████████████████████████| 1000/1000 [00:00<00:00, 2179.62it/s]\u001b[A\n"
     ]
    },
    {
     "name": "stdout",
     "output_type": "stream",
     "text": [
      "Mari_east2328.csv\n"
     ]
    },
    {
     "name": "stderr",
     "output_type": "stream",
     "text": [
      "\n",
      "  0%|                                                  | 0/1000 [00:00<?, ?it/s]\u001b[A\n",
      " 38%|██████████████▌                       | 382/1000 [00:00<00:00, 3816.38it/s]\u001b[A\n",
      "100%|█████████████████████████████████████| 1000/1000 [00:00<00:00, 3981.58it/s]\u001b[A\n"
     ]
    },
    {
     "name": "stdout",
     "output_type": "stream",
     "text": [
      "SouthSaami_sout2674.csv\n"
     ]
    },
    {
     "name": "stderr",
     "output_type": "stream",
     "text": [
      "\n",
      "  0%|                                                  | 0/1000 [00:00<?, ?it/s]\u001b[A\n",
      " 17%|██████▍                               | 169/1000 [00:00<00:00, 1686.40it/s]\u001b[A\n",
      " 39%|██████████████▋                       | 387/1000 [00:00<00:00, 1974.89it/s]\u001b[A\n",
      " 60%|██████████████████████▊               | 601/1000 [00:00<00:00, 2049.91it/s]\u001b[A\n",
      "100%|█████████████████████████████████████| 1000/1000 [00:00<00:00, 2136.68it/s]\u001b[A\n"
     ]
    },
    {
     "name": "stdout",
     "output_type": "stream",
     "text": [
      "Kazym_Berezover_Suryskarer_Khanty_khan1273.csv\n"
     ]
    },
    {
     "name": "stderr",
     "output_type": "stream",
     "text": [
      "\n",
      "  0%|                                                  | 0/1000 [00:00<?, ?it/s]\u001b[A\n",
      " 27%|██████████▎                           | 272/1000 [00:00<00:00, 2713.46it/s]\u001b[A\n",
      " 56%|█████████████████████▏                | 557/1000 [00:00<00:00, 2790.35it/s]\u001b[A\n",
      "100%|█████████████████████████████████████| 1000/1000 [00:00<00:00, 2774.59it/s]\u001b[A\n"
     ]
    },
    {
     "name": "stdout",
     "output_type": "stream",
     "text": [
      "Estonian_esto1258.csv\n"
     ]
    },
    {
     "name": "stderr",
     "output_type": "stream",
     "text": [
      "\n",
      "  0%|                                                  | 0/1000 [00:00<?, ?it/s]\u001b[A\n",
      " 27%|██████████▏                           | 269/1000 [00:00<00:00, 2684.02it/s]\u001b[A\n",
      " 55%|████████████████████▉                 | 552/1000 [00:00<00:00, 2765.04it/s]\u001b[A\n",
      "100%|█████████████████████████████████████| 1000/1000 [00:00<00:00, 2675.41it/s]\u001b[A\n"
     ]
    },
    {
     "name": "stdout",
     "output_type": "stream",
     "text": [
      "Nganasan_ngan1291.csv\n"
     ]
    },
    {
     "name": "stderr",
     "output_type": "stream",
     "text": [
      "\n",
      "  0%|                                                  | 0/1000 [00:00<?, ?it/s]\u001b[A\n",
      " 18%|██████▉                               | 184/1000 [00:00<00:00, 1835.82it/s]\u001b[A\n",
      " 41%|███████████████▍                      | 407/1000 [00:00<00:00, 2066.34it/s]\u001b[A\n",
      " 61%|███████████████████████▎              | 614/1000 [00:00<00:00, 2058.65it/s]\u001b[A\n",
      "100%|█████████████████████████████████████| 1000/1000 [00:00<00:00, 2146.78it/s]\u001b[A\n"
     ]
    },
    {
     "name": "stdout",
     "output_type": "stream",
     "text": [
      "ForestEnets_fore1265.csv\n"
     ]
    },
    {
     "name": "stderr",
     "output_type": "stream",
     "text": [
      "\n",
      "  0%|                                                  | 0/1000 [00:00<?, ?it/s]\u001b[A\n",
      " 25%|█████████▌                            | 250/1000 [00:00<00:00, 2492.39it/s]\u001b[A\n",
      " 50%|███████████████████                   | 503/1000 [00:00<00:00, 2512.14it/s]\u001b[A\n",
      "100%|█████████████████████████████████████| 1000/1000 [00:00<00:00, 2512.68it/s]\u001b[A\n"
     ]
    },
    {
     "name": "stdout",
     "output_type": "stream",
     "text": [
      "Ingrian_ingr1248.csv\n"
     ]
    },
    {
     "name": "stderr",
     "output_type": "stream",
     "text": [
      "\n",
      "  0%|                                                  | 0/1000 [00:00<?, ?it/s]\u001b[A\n",
      " 26%|█████████▉                            | 261/1000 [00:00<00:00, 2609.06it/s]\u001b[A\n",
      " 52%|███████████████████▊                  | 522/1000 [00:00<00:00, 2573.49it/s]\u001b[A\n",
      "100%|█████████████████████████████████████| 1000/1000 [00:00<00:00, 2599.09it/s]\u001b[A\n"
     ]
    },
    {
     "name": "stdout",
     "output_type": "stream",
     "text": [
      "MokshaMordvin_moks1248.csv\n"
     ]
    },
    {
     "name": "stderr",
     "output_type": "stream",
     "text": [
      "\n",
      "  0%|                                                  | 0/1000 [00:00<?, ?it/s]\u001b[A\n",
      " 24%|████████▉                             | 235/1000 [00:00<00:00, 2345.00it/s]\u001b[A\n",
      " 47%|█████████████████▊                    | 470/1000 [00:00<00:00, 2333.84it/s]\u001b[A\n",
      " 70%|██████████████████████████▊           | 704/1000 [00:00<00:00, 2328.11it/s]\u001b[A\n",
      "100%|█████████████████████████████████████| 1000/1000 [00:00<00:00, 2289.39it/s]\u001b[A\n"
     ]
    },
    {
     "name": "stdout",
     "output_type": "stream",
     "text": [
      "ErzyaMordvin_erzy1239.csv\n",
      "Hungarian_hung1274.csv\n",
      "SkoltSaami_skol1241.csv\n"
     ]
    },
    {
     "name": "stderr",
     "output_type": "stream",
     "text": [
      "\n",
      "  0%|                                                  | 0/1000 [00:00<?, ?it/s]\u001b[A\n",
      " 24%|█████████                             | 238/1000 [00:00<00:00, 2378.93it/s]\u001b[A\n",
      " 48%|██████████████████▍                   | 484/1000 [00:00<00:00, 2423.43it/s]\u001b[A\n",
      " 74%|███████████████████████████▉          | 735/1000 [00:00<00:00, 2462.69it/s]\u001b[A\n",
      "100%|█████████████████████████████████████| 1000/1000 [00:00<00:00, 2364.51it/s]\u001b[A\n"
     ]
    },
    {
     "name": "stdout",
     "output_type": "stream",
     "text": [
      "SosvaMansi_nort2677.csv\n"
     ]
    },
    {
     "name": "stderr",
     "output_type": "stream",
     "text": [
      "\n",
      "  0%|                                                  | 0/1000 [00:00<?, ?it/s]\u001b[A\n",
      " 24%|█████████▏                            | 241/1000 [00:00<00:00, 2405.79it/s]\u001b[A\n",
      " 48%|██████████████████▎                   | 482/1000 [00:00<00:00, 2349.53it/s]\u001b[A\n",
      " 72%|███████████████████████████▎          | 718/1000 [00:00<00:00, 2341.11it/s]\u001b[A\n",
      "100%|█████████████████████████████████████| 1000/1000 [00:00<00:00, 2311.68it/s]\u001b[A\n"
     ]
    },
    {
     "name": "stdout",
     "output_type": "stream",
     "text": [
      "Finnish_finn1318.csv\n"
     ]
    },
    {
     "name": "stderr",
     "output_type": "stream",
     "text": [
      "\n",
      "  0%|                                                  | 0/1000 [00:00<?, ?it/s]\u001b[A\n",
      " 26%|█████████▋                            | 255/1000 [00:00<00:00, 2529.59it/s]\u001b[A\n",
      " 51%|███████████████████▎                  | 508/1000 [00:00<00:00, 1931.97it/s]\u001b[A\n",
      "100%|█████████████████████████████████████| 1000/1000 [00:00<00:00, 2251.42it/s]\u001b[A\n",
      " 95%|████████████████████████████████████████▉  | 20/21 [05:43<00:07,  7.84s/it]"
     ]
    },
    {
     "name": "stdout",
     "output_type": "stream",
     "text": [
      "Northern_Sami_nort2671.csv\n",
      "Bannock_bann1248.csv\n"
     ]
    },
    {
     "name": "stderr",
     "output_type": "stream",
     "text": [
      "\n",
      "  0%|                                                  | 0/1000 [00:00<?, ?it/s]\u001b[A\n",
      " 46%|█████████████████▌                    | 463/1000 [00:00<00:00, 4628.18it/s]\u001b[A\n",
      "100%|█████████████████████████████████████| 1000/1000 [00:00<00:00, 4617.61it/s]\u001b[A\n"
     ]
    },
    {
     "name": "stdout",
     "output_type": "stream",
     "text": [
      "Pipil_pipi1250.csv\n",
      "Kawaiisu_kawa1283.csv\n"
     ]
    },
    {
     "name": "stderr",
     "output_type": "stream",
     "text": [
      "\n",
      "  0%|                                                  | 0/1000 [00:00<?, ?it/s]\u001b[A\n",
      "100%|█████████████████████████████████████| 1000/1000 [00:00<00:00, 9411.32it/s]\u001b[A\n"
     ]
    },
    {
     "name": "stdout",
     "output_type": "stream",
     "text": [
      "Highland_Puebla_Nahuatl_high1278.csv\n"
     ]
    },
    {
     "name": "stderr",
     "output_type": "stream",
     "text": [
      "\n",
      "  0%|                                                  | 0/1000 [00:00<?, ?it/s]\u001b[A\n",
      " 38%|██████████████▋                       | 385/1000 [00:00<00:00, 3845.07it/s]\u001b[A\n",
      "100%|█████████████████████████████████████| 1000/1000 [00:00<00:00, 3892.91it/s]\u001b[A\n"
     ]
    },
    {
     "name": "stdout",
     "output_type": "stream",
     "text": [
      "Southern_Paiute_sout2969.csv\n"
     ]
    },
    {
     "name": "stderr",
     "output_type": "stream",
     "text": [
      "\n",
      "  0%|                                                  | 0/1000 [00:00<?, ?it/s]\u001b[A\n",
      "100%|█████████████████████████████████████| 1000/1000 [00:00<00:00, 6394.11it/s]\u001b[A\n"
     ]
    },
    {
     "name": "stdout",
     "output_type": "stream",
     "text": [
      "Southern_Ute_utee1244.csv\n"
     ]
    },
    {
     "name": "stderr",
     "output_type": "stream",
     "text": [
      "\n",
      "  0%|                                                  | 0/1000 [00:00<?, ?it/s]\u001b[A\n",
      "100%|█████████████████████████████████████| 1000/1000 [00:00<00:00, 6249.10it/s]\u001b[A\n"
     ]
    },
    {
     "name": "stdout",
     "output_type": "stream",
     "text": [
      "Southeastern_Tepehuano_sout2976.csv\n"
     ]
    },
    {
     "name": "stderr",
     "output_type": "stream",
     "text": [
      "\n",
      "  0%|                                                  | 0/1000 [00:00<?, ?it/s]\u001b[A\n",
      " 28%|██████████▍                           | 276/1000 [00:00<00:00, 2753.01it/s]\u001b[A\n",
      " 55%|████████████████████▉                 | 552/1000 [00:00<00:00, 2645.35it/s]\u001b[A\n",
      "100%|█████████████████████████████████████| 1000/1000 [00:00<00:00, 2768.42it/s]\u001b[A\n"
     ]
    },
    {
     "name": "stdout",
     "output_type": "stream",
     "text": [
      "Huastec_Nahuatl_huas1257.csv\n"
     ]
    },
    {
     "name": "stderr",
     "output_type": "stream",
     "text": [
      "\n",
      "100%|████████████████████████████████████| 1000/1000 [00:00<00:00, 22659.42it/s]\u001b[A\n"
     ]
    },
    {
     "name": "stdout",
     "output_type": "stream",
     "text": [
      "Pima_de_Yepáchic_chih1238.csv\n",
      "Mayo_mayo1264.csv\n"
     ]
    },
    {
     "name": "stderr",
     "output_type": "stream",
     "text": [
      "\n",
      "  0%|                                                  | 0/1000 [00:00<?, ?it/s]\u001b[A\n",
      "100%|█████████████████████████████████████| 1000/1000 [00:00<00:00, 8276.51it/s]\u001b[A\n"
     ]
    },
    {
     "name": "stdout",
     "output_type": "stream",
     "text": [
      "Tübatülabal_tuba1278.csv\n"
     ]
    },
    {
     "name": "stderr",
     "output_type": "stream",
     "text": [
      "\n",
      "100%|████████████████████████████████████| 1000/1000 [00:00<00:00, 11785.53it/s]\u001b[A\n"
     ]
    },
    {
     "name": "stdout",
     "output_type": "stream",
     "text": [
      "Yaqui_yaqu1251.csv\n"
     ]
    },
    {
     "name": "stderr",
     "output_type": "stream",
     "text": [
      "\n",
      "  0%|                                                  | 0/1000 [00:00<?, ?it/s]\u001b[A\n",
      "100%|█████████████████████████████████████| 1000/1000 [00:00<00:00, 7510.09it/s]\u001b[A\n"
     ]
    },
    {
     "name": "stdout",
     "output_type": "stream",
     "text": [
      "Tümpisha_Shoshoni_pana1305.csv\n"
     ]
    },
    {
     "name": "stderr",
     "output_type": "stream",
     "text": [
      "\n",
      "  0%|                                                  | 0/1000 [00:00<?, ?it/s]\u001b[A\n",
      " 27%|██████████▍                           | 274/1000 [00:00<00:00, 2731.63it/s]\u001b[A\n",
      " 56%|█████████████████████▏                | 557/1000 [00:00<00:00, 2788.55it/s]\u001b[A\n",
      "100%|█████████████████████████████████████| 1000/1000 [00:00<00:00, 2746.54it/s]\u001b[A\n"
     ]
    },
    {
     "name": "stdout",
     "output_type": "stream",
     "text": [
      "Hopi_hopi1249.csv\n"
     ]
    },
    {
     "name": "stderr",
     "output_type": "stream",
     "text": [
      "\n",
      "  0%|                                                  | 0/1000 [00:00<?, ?it/s]\u001b[A\n",
      "100%|█████████████████████████████████████| 1000/1000 [00:00<00:00, 7961.22it/s]\u001b[A\n"
     ]
    },
    {
     "name": "stdout",
     "output_type": "stream",
     "text": [
      "Shoshoni_shos1248.csv\n"
     ]
    },
    {
     "name": "stderr",
     "output_type": "stream",
     "text": [
      "\n",
      "  0%|                                                  | 0/1000 [00:00<?, ?it/s]\u001b[A\n",
      "100%|█████████████████████████████████████| 1000/1000 [00:00<00:00, 8505.37it/s]\u001b[A\n"
     ]
    },
    {
     "name": "stdout",
     "output_type": "stream",
     "text": [
      "Northern_Paiute_nort2954.csv\n"
     ]
    },
    {
     "name": "stderr",
     "output_type": "stream",
     "text": [
      "\n",
      "  0%|                                                  | 0/1000 [00:00<?, ?it/s]\u001b[A\n",
      "100%|█████████████████████████████████████| 1000/1000 [00:00<00:00, 8602.29it/s]\u001b[A\n"
     ]
    },
    {
     "name": "stdout",
     "output_type": "stream",
     "text": [
      "Tohono_O_odham_toho1245.csv\n"
     ]
    },
    {
     "name": "stderr",
     "output_type": "stream",
     "text": [
      "\n",
      "100%|████████████████████████████████████| 1000/1000 [00:00<00:00, 13188.39it/s]\u001b[A\n"
     ]
    },
    {
     "name": "stdout",
     "output_type": "stream",
     "text": [
      "Tubar_tuba1279.csv\n"
     ]
    },
    {
     "name": "stderr",
     "output_type": "stream",
     "text": [
      "\n",
      "100%|████████████████████████████████████| 1000/1000 [00:00<00:00, 15808.83it/s]\u001b[A\n"
     ]
    },
    {
     "name": "stdout",
     "output_type": "stream",
     "text": [
      "Nevome_pima1248b.csv\n",
      "North_Northern_Paiute_nort1551.csv\n"
     ]
    },
    {
     "name": "stderr",
     "output_type": "stream",
     "text": [
      "\n",
      "  0%|                                                  | 0/1000 [00:00<?, ?it/s]\u001b[A\n",
      " 37%|██████████████                        | 371/1000 [00:00<00:00, 3701.63it/s]\u001b[A\n",
      "100%|█████████████████████████████████████| 1000/1000 [00:00<00:00, 3760.84it/s]\u001b[A\n"
     ]
    },
    {
     "name": "stdout",
     "output_type": "stream",
     "text": [
      "Western_Shoshoni_west2622.csv\n",
      "Hopi_S__hopi1249b.csv\n",
      "Cupeño_cupe1243.csv\n"
     ]
    },
    {
     "name": "stderr",
     "output_type": "stream",
     "text": [
      "\n",
      "  0%|                                                  | 0/1000 [00:00<?, ?it/s]\u001b[A\n",
      " 31%|███████████▋                          | 307/1000 [00:00<00:00, 3063.17it/s]\u001b[A\n",
      " 61%|███████████████████████▎              | 614/1000 [00:00<00:00, 2832.64it/s]\u001b[A\n",
      "100%|█████████████████████████████████████| 1000/1000 [00:00<00:00, 2940.31it/s]\u001b[A\n"
     ]
    },
    {
     "name": "stdout",
     "output_type": "stream",
     "text": [
      "Mono_mono1275.csv\n"
     ]
    },
    {
     "name": "stderr",
     "output_type": "stream",
     "text": [
      "\n",
      "  0%|                                                  | 0/1000 [00:00<?, ?it/s]\u001b[A\n",
      " 46%|█████████████████▌                    | 463/1000 [00:00<00:00, 4624.22it/s]\u001b[A\n",
      "100%|█████████████████████████████████████| 1000/1000 [00:00<00:00, 4671.61it/s]\u001b[A\n"
     ]
    },
    {
     "name": "stdout",
     "output_type": "stream",
     "text": [
      "Gabrielino_tong1329.csv\n"
     ]
    },
    {
     "name": "stderr",
     "output_type": "stream",
     "text": [
      "\n",
      "  0%|                                                  | 0/1000 [00:00<?, ?it/s]\u001b[A\n",
      "100%|█████████████████████████████████████| 1000/1000 [00:00<00:00, 7142.71it/s]\u001b[A\n"
     ]
    },
    {
     "name": "stdout",
     "output_type": "stream",
     "text": [
      "Arizona_Yaqui_yaqu1251a.csv\n"
     ]
    },
    {
     "name": "stderr",
     "output_type": "stream",
     "text": [
      "\n",
      "100%|████████████████████████████████████| 1000/1000 [00:00<00:00, 18716.05it/s]\u001b[A\n"
     ]
    },
    {
     "name": "stdout",
     "output_type": "stream",
     "text": [
      "Northern_Tepehuan_nort2959.csv\n"
     ]
    },
    {
     "name": "stderr",
     "output_type": "stream",
     "text": [
      "\n",
      "100%|████████████████████████████████████| 1000/1000 [00:00<00:00, 13674.66it/s]\u001b[A\n"
     ]
    },
    {
     "name": "stdout",
     "output_type": "stream",
     "text": [
      "Eudeve_eude1234.csv\n"
     ]
    },
    {
     "name": "stderr",
     "output_type": "stream",
     "text": [
      "\n",
      "100%|████████████████████████████████████| 1000/1000 [00:00<00:00, 10847.64it/s]\u001b[A\n"
     ]
    },
    {
     "name": "stdout",
     "output_type": "stream",
     "text": [
      "Tarahumara_cent2131.csv\n"
     ]
    },
    {
     "name": "stderr",
     "output_type": "stream",
     "text": [
      "\n",
      "  0%|                                                  | 0/1000 [00:00<?, ?it/s]\u001b[A\n",
      " 41%|███████████████▌                      | 408/1000 [00:00<00:00, 4076.13it/s]\u001b[A\n",
      "100%|█████████████████████████████████████| 1000/1000 [00:00<00:00, 3967.72it/s]\u001b[A\n"
     ]
    },
    {
     "name": "stdout",
     "output_type": "stream",
     "text": [
      "Colorado_Ute_utee1244a.csv\n"
     ]
    },
    {
     "name": "stderr",
     "output_type": "stream",
     "text": [
      "\n",
      "100%|████████████████████████████████████| 1000/1000 [00:00<00:00, 10290.60it/s]\u001b[A\n"
     ]
    },
    {
     "name": "stdout",
     "output_type": "stream",
     "text": [
      "Opata_opat1246.csv\n"
     ]
    },
    {
     "name": "stderr",
     "output_type": "stream",
     "text": [
      "\n",
      "  0%|                                                  | 0/1000 [00:00<?, ?it/s]\u001b[A\n",
      " 28%|██████████▌                           | 279/1000 [00:00<00:00, 2784.59it/s]\u001b[A\n",
      " 56%|█████████████████████▏                | 558/1000 [00:00<00:00, 2774.67it/s]\u001b[A\n",
      "100%|█████████████████████████████████████| 1000/1000 [00:00<00:00, 2806.94it/s]\u001b[A\n"
     ]
    },
    {
     "name": "stdout",
     "output_type": "stream",
     "text": [
      "Huichol_huic1243.csv\n"
     ]
    },
    {
     "name": "stderr",
     "output_type": "stream",
     "text": [
      "\n",
      "100%|████████████████████████████████████| 1000/1000 [00:00<00:00, 19594.70it/s]\u001b[A\n"
     ]
    },
    {
     "name": "stdout",
     "output_type": "stream",
     "text": [
      "White_Mesa_Ute_utee1244b.csv\n"
     ]
    },
    {
     "name": "stderr",
     "output_type": "stream",
     "text": [
      "\n",
      "100%|████████████████████████████████████| 1000/1000 [00:00<00:00, 20586.75it/s]\u001b[A\n"
     ]
    },
    {
     "name": "stdout",
     "output_type": "stream",
     "text": [
      "Kitanemuk_serr1255b.csv\n",
      "Cora_elna1235.csv\n"
     ]
    },
    {
     "name": "stderr",
     "output_type": "stream",
     "text": [
      "\n",
      "100%|████████████████████████████████████| 1000/1000 [00:00<00:00, 11213.79it/s]\u001b[A\n"
     ]
    },
    {
     "name": "stdout",
     "output_type": "stream",
     "text": [
      "Serrano_serr1255.csv\n"
     ]
    },
    {
     "name": "stderr",
     "output_type": "stream",
     "text": [
      "\n",
      "  0%|                                                  | 0/1000 [00:00<?, ?it/s]\u001b[A\n",
      " 36%|█████████████▍                        | 355/1000 [00:00<00:00, 3544.26it/s]\u001b[A\n",
      "100%|█████████████████████████████████████| 1000/1000 [00:00<00:00, 3201.63it/s]\u001b[A\n"
     ]
    },
    {
     "name": "stdout",
     "output_type": "stream",
     "text": [
      "Guarijio_huar1255.csv\n"
     ]
    },
    {
     "name": "stderr",
     "output_type": "stream",
     "text": [
      "\n",
      "  0%|                                                  | 0/1000 [00:00<?, ?it/s]\u001b[A\n",
      "100%|█████████████████████████████████████| 1000/1000 [00:00<00:00, 7969.90it/s]\u001b[A\n"
     ]
    },
    {
     "name": "stdout",
     "output_type": "stream",
     "text": [
      "Southern_Tepehuan_sout2975.csv\n"
     ]
    },
    {
     "name": "stderr",
     "output_type": "stream",
     "text": [
      "\n",
      "100%|████████████████████████████████████| 1000/1000 [00:00<00:00, 10487.67it/s]\u001b[A\n"
     ]
    },
    {
     "name": "stdout",
     "output_type": "stream",
     "text": [
      "Comanche_coma1245.csv\n"
     ]
    },
    {
     "name": "stderr",
     "output_type": "stream",
     "text": [
      "\n",
      "  0%|                                                  | 0/1000 [00:00<?, ?it/s]\u001b[A\n",
      " 23%|████████▉                             | 234/1000 [00:00<00:00, 2338.53it/s]\u001b[A\n",
      " 47%|█████████████████▊                    | 468/1000 [00:00<00:00, 1962.12it/s]\u001b[A\n",
      " 67%|█████████████████████████▍            | 669/1000 [00:00<00:00, 1778.00it/s]\u001b[A\n",
      "100%|█████████████████████████████████████| 1000/1000 [00:00<00:00, 2071.88it/s]\u001b[A\n"
     ]
    },
    {
     "name": "stdout",
     "output_type": "stream",
     "text": [
      "Luiseńo_luis1253.csv\n"
     ]
    },
    {
     "name": "stderr",
     "output_type": "stream",
     "text": [
      "\n",
      "  0%|                                                  | 0/1000 [00:00<?, ?it/s]\u001b[A\n",
      " 33%|████████████▍                         | 326/1000 [00:00<00:00, 3256.75it/s]\u001b[A\n",
      " 65%|████████████████████████▊             | 652/1000 [00:00<00:00, 3197.92it/s]\u001b[A\n",
      "100%|█████████████████████████████████████| 1000/1000 [00:00<00:00, 3090.48it/s]\u001b[A\n"
     ]
    },
    {
     "name": "stdout",
     "output_type": "stream",
     "text": [
      "Southern_Tepehuan_W__sout2977.csv\n",
      "Cahuilla_cahu1264.csv\n"
     ]
    },
    {
     "name": "stderr",
     "output_type": "stream",
     "text": [
      "\n",
      "  0%|                                                  | 0/1000 [00:00<?, ?it/s]\u001b[A\n",
      " 37%|██████████████                        | 369/1000 [00:00<00:00, 3683.81it/s]\u001b[A\n",
      "100%|█████████████████████████████████████| 1000/1000 [00:00<00:00, 3652.54it/s]\u001b[A\n"
     ]
    },
    {
     "name": "stdout",
     "output_type": "stream",
     "text": [
      "Lower_Pima_Pima_Bajo_pima1248.csv\n"
     ]
    },
    {
     "name": "stderr",
     "output_type": "stream",
     "text": [
      "\n",
      "100%|████████████████████████████████████| 1000/1000 [00:00<00:00, 16055.18it/s]\u001b[A\n"
     ]
    },
    {
     "name": "stdout",
     "output_type": "stream",
     "text": [
      "Chemehuevi_chem1251.csv\n"
     ]
    },
    {
     "name": "stderr",
     "output_type": "stream",
     "text": [
      "\n",
      "  0%|                                                  | 0/1000 [00:00<?, ?it/s]\u001b[A\n",
      " 49%|██████████████████▌                   | 490/1000 [00:00<00:00, 4893.25it/s]\u001b[A\n",
      "100%|█████████████████████████████████████| 1000/1000 [00:00<00:00, 4755.90it/s]\u001b[A\n"
     ]
    },
    {
     "name": "stdout",
     "output_type": "stream",
     "text": [
      "Aztec_clas1250.csv\n"
     ]
    },
    {
     "name": "stderr",
     "output_type": "stream",
     "text": [
      "\n",
      "  0%|                                                  | 0/1000 [00:00<?, ?it/s]\u001b[A\n",
      "100%|█████████████████████████████████████| 1000/1000 [00:00<00:00, 5630.63it/s]\u001b[A\n"
     ]
    },
    {
     "name": "stdout",
     "output_type": "stream",
     "text": [
      "Morgan1871_Utahs_(Tabegwaches)_utes1238.csv\n"
     ]
    },
    {
     "name": "stderr",
     "output_type": "stream",
     "text": [
      "\n",
      "  0%|                                                  | 0/1000 [00:00<?, ?it/s]\u001b[A\n",
      "100%|█████████████████████████████████████| 1000/1000 [00:00<00:00, 6201.01it/s]\u001b[A\n",
      "100%|███████████████████████████████████████████| 21/21 [05:51<00:00, 16.72s/it]\n"
     ]
    },
    {
     "data": {
      "text/html": [
       "<div>\n",
       "<style scoped>\n",
       "    .dataframe tbody tr th:only-of-type {\n",
       "        vertical-align: middle;\n",
       "    }\n",
       "\n",
       "    .dataframe tbody tr th {\n",
       "        vertical-align: top;\n",
       "    }\n",
       "\n",
       "    .dataframe thead th {\n",
       "        text-align: right;\n",
       "    }\n",
       "</style>\n",
       "<table border=\"1\" class=\"dataframe\">\n",
       "  <thead>\n",
       "    <tr style=\"text-align: right;\">\n",
       "      <th></th>\n",
       "      <th>language</th>\n",
       "      <th>family</th>\n",
       "      <th>code</th>\n",
       "      <th>average_edit_distance</th>\n",
       "      <th>sample_mean</th>\n",
       "      <th>sd</th>\n",
       "      <th>z</th>\n",
       "    </tr>\n",
       "  </thead>\n",
       "  <tbody>\n",
       "    <tr>\n",
       "      <th>0</th>\n",
       "      <td>Lebanese_Arabic</td>\n",
       "      <td>Afro-Asiatic</td>\n",
       "      <td>stan1323</td>\n",
       "      <td>0.757246</td>\n",
       "      <td>0.861747</td>\n",
       "      <td>0.019073</td>\n",
       "      <td>5.478998</td>\n",
       "    </tr>\n",
       "    <tr>\n",
       "      <th>1</th>\n",
       "      <td>Akkadian</td>\n",
       "      <td>Afro-Asiatic</td>\n",
       "      <td>akka1240</td>\n",
       "      <td>0.865625</td>\n",
       "      <td>0.865625</td>\n",
       "      <td>0.000000</td>\n",
       "      <td>0.000000</td>\n",
       "    </tr>\n",
       "    <tr>\n",
       "      <th>2</th>\n",
       "      <td>Old_Aramaic</td>\n",
       "      <td>Afro-Asiatic</td>\n",
       "      <td>olda1245</td>\n",
       "      <td>0.561538</td>\n",
       "      <td>0.615652</td>\n",
       "      <td>0.015825</td>\n",
       "      <td>3.419518</td>\n",
       "    </tr>\n",
       "    <tr>\n",
       "      <th>3</th>\n",
       "      <td>Hausa</td>\n",
       "      <td>Afro-Asiatic</td>\n",
       "      <td>haus1257</td>\n",
       "      <td>0.822565</td>\n",
       "      <td>0.815510</td>\n",
       "      <td>0.007992</td>\n",
       "      <td>-0.882653</td>\n",
       "    </tr>\n",
       "    <tr>\n",
       "      <th>4</th>\n",
       "      <td>Amharic</td>\n",
       "      <td>Afro-Asiatic</td>\n",
       "      <td>amha1245</td>\n",
       "      <td>0.661723</td>\n",
       "      <td>0.767824</td>\n",
       "      <td>0.014191</td>\n",
       "      <td>7.476419</td>\n",
       "    </tr>\n",
       "    <tr>\n",
       "      <th>...</th>\n",
       "      <td>...</td>\n",
       "      <td>...</td>\n",
       "      <td>...</td>\n",
       "      <td>...</td>\n",
       "      <td>...</td>\n",
       "      <td>...</td>\n",
       "      <td>...</td>\n",
       "    </tr>\n",
       "    <tr>\n",
       "      <th>1140</th>\n",
       "      <td>Cahuilla</td>\n",
       "      <td>Uto-Aztecan</td>\n",
       "      <td>cahu1264</td>\n",
       "      <td>0.909226</td>\n",
       "      <td>0.907201</td>\n",
       "      <td>0.020348</td>\n",
       "      <td>-0.099519</td>\n",
       "    </tr>\n",
       "    <tr>\n",
       "      <th>1141</th>\n",
       "      <td>Lower_Pima_Pima_Bajo</td>\n",
       "      <td>Uto-Aztecan</td>\n",
       "      <td>pima1248</td>\n",
       "      <td>1.000000</td>\n",
       "      <td>1.000000</td>\n",
       "      <td>0.000000</td>\n",
       "      <td>0.000000</td>\n",
       "    </tr>\n",
       "    <tr>\n",
       "      <th>1142</th>\n",
       "      <td>Chemehuevi</td>\n",
       "      <td>Uto-Aztecan</td>\n",
       "      <td>chem1251</td>\n",
       "      <td>0.925000</td>\n",
       "      <td>0.895700</td>\n",
       "      <td>0.015875</td>\n",
       "      <td>-1.845708</td>\n",
       "    </tr>\n",
       "    <tr>\n",
       "      <th>1143</th>\n",
       "      <td>Aztec</td>\n",
       "      <td>Uto-Aztecan</td>\n",
       "      <td>clas1250</td>\n",
       "      <td>0.652778</td>\n",
       "      <td>0.652778</td>\n",
       "      <td>0.000000</td>\n",
       "      <td>0.000000</td>\n",
       "    </tr>\n",
       "    <tr>\n",
       "      <th>1144</th>\n",
       "      <td>Utahs_(Tabegwaches)</td>\n",
       "      <td>Uto-Aztecan</td>\n",
       "      <td>utes1238</td>\n",
       "      <td>0.750158</td>\n",
       "      <td>0.750158</td>\n",
       "      <td>0.000000</td>\n",
       "      <td>0.000000</td>\n",
       "    </tr>\n",
       "  </tbody>\n",
       "</table>\n",
       "<p>1145 rows × 7 columns</p>\n",
       "</div>"
      ],
      "text/plain": [
       "                  language        family      code  average_edit_distance  \\\n",
       "0          Lebanese_Arabic  Afro-Asiatic  stan1323               0.757246   \n",
       "1                 Akkadian  Afro-Asiatic  akka1240               0.865625   \n",
       "2              Old_Aramaic  Afro-Asiatic  olda1245               0.561538   \n",
       "3                    Hausa  Afro-Asiatic  haus1257               0.822565   \n",
       "4                  Amharic  Afro-Asiatic  amha1245               0.661723   \n",
       "...                    ...           ...       ...                    ...   \n",
       "1140              Cahuilla   Uto-Aztecan  cahu1264               0.909226   \n",
       "1141  Lower_Pima_Pima_Bajo   Uto-Aztecan  pima1248               1.000000   \n",
       "1142            Chemehuevi   Uto-Aztecan  chem1251               0.925000   \n",
       "1143                 Aztec   Uto-Aztecan  clas1250               0.652778   \n",
       "1144   Utahs_(Tabegwaches)   Uto-Aztecan  utes1238               0.750158   \n",
       "\n",
       "      sample_mean        sd         z  \n",
       "0        0.861747  0.019073  5.478998  \n",
       "1        0.865625  0.000000  0.000000  \n",
       "2        0.615652  0.015825  3.419518  \n",
       "3        0.815510  0.007992 -0.882653  \n",
       "4        0.767824  0.014191  7.476419  \n",
       "...           ...       ...       ...  \n",
       "1140     0.907201  0.020348 -0.099519  \n",
       "1141     1.000000  0.000000  0.000000  \n",
       "1142     0.895700  0.015875 -1.845708  \n",
       "1143     0.652778  0.000000  0.000000  \n",
       "1144     0.750158  0.000000  0.000000  \n",
       "\n",
       "[1145 rows x 7 columns]"
      ]
     },
     "execution_count": 100,
     "metadata": {},
     "output_type": "execute_result"
    },
    {
     "data": {
      "text/html": [
       "<div>\n",
       "<style scoped>\n",
       "    .dataframe tbody tr th:only-of-type {\n",
       "        vertical-align: middle;\n",
       "    }\n",
       "\n",
       "    .dataframe tbody tr th {\n",
       "        vertical-align: top;\n",
       "    }\n",
       "\n",
       "    .dataframe thead th {\n",
       "        text-align: right;\n",
       "    }\n",
       "</style>\n",
       "<table border=\"1\" class=\"dataframe\">\n",
       "  <thead>\n",
       "    <tr style=\"text-align: right;\">\n",
       "      <th></th>\n",
       "      <th>language</th>\n",
       "      <th>family</th>\n",
       "      <th>code</th>\n",
       "      <th>average_edit_distance</th>\n",
       "      <th>sample_mean</th>\n",
       "      <th>sd</th>\n",
       "      <th>z</th>\n",
       "    </tr>\n",
       "  </thead>\n",
       "  <tbody>\n",
       "    <tr>\n",
       "      <th>0</th>\n",
       "      <td>Amharic</td>\n",
       "      <td>Afro-Asiatic</td>\n",
       "      <td>amha1245</td>\n",
       "      <td>0.583333</td>\n",
       "      <td>0.736583</td>\n",
       "      <td>0.020739</td>\n",
       "      <td>7.389389</td>\n",
       "    </tr>\n",
       "    <tr>\n",
       "      <th>1</th>\n",
       "      <td>Hausa</td>\n",
       "      <td>Afro-Asiatic</td>\n",
       "      <td>haus1257</td>\n",
       "      <td>0.812500</td>\n",
       "      <td>0.814710</td>\n",
       "      <td>0.012208</td>\n",
       "      <td>0.181020</td>\n",
       "    </tr>\n",
       "    <tr>\n",
       "      <th>2</th>\n",
       "      <td>Lebanese_Arabic</td>\n",
       "      <td>Afro-Asiatic</td>\n",
       "      <td>stan1323</td>\n",
       "      <td>0.828125</td>\n",
       "      <td>0.859152</td>\n",
       "      <td>0.012118</td>\n",
       "      <td>2.560453</td>\n",
       "    </tr>\n",
       "    <tr>\n",
       "      <th>3</th>\n",
       "      <td>Old_Aramaic</td>\n",
       "      <td>Afro-Asiatic</td>\n",
       "      <td>olda1245</td>\n",
       "      <td>0.500000</td>\n",
       "      <td>0.507070</td>\n",
       "      <td>0.020917</td>\n",
       "      <td>0.337997</td>\n",
       "    </tr>\n",
       "    <tr>\n",
       "      <th>4</th>\n",
       "      <td>Polci</td>\n",
       "      <td>Afro-Asiatic</td>\n",
       "      <td>polc1243</td>\n",
       "      <td>0.725000</td>\n",
       "      <td>0.751026</td>\n",
       "      <td>0.008222</td>\n",
       "      <td>3.165443</td>\n",
       "    </tr>\n",
       "    <tr>\n",
       "      <th>...</th>\n",
       "      <td>...</td>\n",
       "      <td>...</td>\n",
       "      <td>...</td>\n",
       "      <td>...</td>\n",
       "      <td>...</td>\n",
       "      <td>...</td>\n",
       "      <td>...</td>\n",
       "    </tr>\n",
       "    <tr>\n",
       "      <th>701</th>\n",
       "      <td>Serrano</td>\n",
       "      <td>Uto-Aztecan</td>\n",
       "      <td>serr1255</td>\n",
       "      <td>0.950000</td>\n",
       "      <td>0.924197</td>\n",
       "      <td>0.027407</td>\n",
       "      <td>-0.941470</td>\n",
       "    </tr>\n",
       "    <tr>\n",
       "      <th>702</th>\n",
       "      <td>Southeastern_Tepehuano</td>\n",
       "      <td>Uto-Aztecan</td>\n",
       "      <td>sout2976</td>\n",
       "      <td>0.853175</td>\n",
       "      <td>0.849571</td>\n",
       "      <td>0.015118</td>\n",
       "      <td>-0.238374</td>\n",
       "    </tr>\n",
       "    <tr>\n",
       "      <th>703</th>\n",
       "      <td>Southern_Paiute</td>\n",
       "      <td>Uto-Aztecan</td>\n",
       "      <td>sout2969</td>\n",
       "      <td>0.437500</td>\n",
       "      <td>0.550355</td>\n",
       "      <td>0.086201</td>\n",
       "      <td>1.309197</td>\n",
       "    </tr>\n",
       "    <tr>\n",
       "      <th>704</th>\n",
       "      <td>Tarahumara</td>\n",
       "      <td>Uto-Aztecan</td>\n",
       "      <td>cent2131</td>\n",
       "      <td>0.835417</td>\n",
       "      <td>0.906725</td>\n",
       "      <td>0.032813</td>\n",
       "      <td>2.173178</td>\n",
       "    </tr>\n",
       "    <tr>\n",
       "      <th>705</th>\n",
       "      <td>Tümpisha_Shoshoni</td>\n",
       "      <td>Uto-Aztecan</td>\n",
       "      <td>pana1305</td>\n",
       "      <td>0.787698</td>\n",
       "      <td>0.793676</td>\n",
       "      <td>0.032357</td>\n",
       "      <td>0.184746</td>\n",
       "    </tr>\n",
       "  </tbody>\n",
       "</table>\n",
       "<p>706 rows × 7 columns</p>\n",
       "</div>"
      ],
      "text/plain": [
       "                   language        family      code  average_edit_distance  \\\n",
       "0                   Amharic  Afro-Asiatic  amha1245               0.583333   \n",
       "1                     Hausa  Afro-Asiatic  haus1257               0.812500   \n",
       "2           Lebanese_Arabic  Afro-Asiatic  stan1323               0.828125   \n",
       "3               Old_Aramaic  Afro-Asiatic  olda1245               0.500000   \n",
       "4                     Polci  Afro-Asiatic  polc1243               0.725000   \n",
       "..                      ...           ...       ...                    ...   \n",
       "701                 Serrano   Uto-Aztecan  serr1255               0.950000   \n",
       "702  Southeastern_Tepehuano   Uto-Aztecan  sout2976               0.853175   \n",
       "703         Southern_Paiute   Uto-Aztecan  sout2969               0.437500   \n",
       "704              Tarahumara   Uto-Aztecan  cent2131               0.835417   \n",
       "705       Tümpisha_Shoshoni   Uto-Aztecan  pana1305               0.787698   \n",
       "\n",
       "     sample_mean        sd         z  \n",
       "0       0.736583  0.020739  7.389389  \n",
       "1       0.814710  0.012208  0.181020  \n",
       "2       0.859152  0.012118  2.560453  \n",
       "3       0.507070  0.020917  0.337997  \n",
       "4       0.751026  0.008222  3.165443  \n",
       "..           ...       ...       ...  \n",
       "701     0.924197  0.027407 -0.941470  \n",
       "702     0.849571  0.015118 -0.238374  \n",
       "703     0.550355  0.086201  1.309197  \n",
       "704     0.906725  0.032813  2.173178  \n",
       "705     0.793676  0.032357  0.184746  \n",
       "\n",
       "[706 rows x 7 columns]"
      ]
     },
     "execution_count": 42,
     "metadata": {},
     "output_type": "execute_result"
    }
   ],
   "source": [
    "sample_distance(families, 1000, 'average_edit_distance')"
   ]
  },
  {
   "cell_type": "code",
   "execution_count": 77,
   "id": "053b99e4",
   "metadata": {
    "scrolled": true
   },
   "outputs": [
    {
     "name": "stdout",
     "output_type": "stream",
     "text": [
      "{'fDD': 'dhevtī', 'meZ': 'dīdī', 'mF': 'bāp', 'mM': 'mātā', 'mSS': 'potā', 'mSD': 'potī', 'mDS': 'dhevtā', 'mFB': 'tāū', 'mFZ': 'buā', 'mFyB': 'cācā', 'mFeB': 'tāū', 'mFeZ': 'buā', 'mFyZ': 'buā', 'mBS': 'bhatījā', 'mBD': 'bhatījī', 'mZS': 'bhānjā', 'mZD': 'bhānjī', 'meBS': 'bhatījā', 'myBS': 'bhatījā', 'meBD': 'bhatījī', 'myBD': 'bhatījī', 'meZS': 'bhānjā', 'myZS': 'bhānjā', 'meZD': 'bhānjī', 'myZD': 'bhānjī', 'mBW': 'bhābahū', 'mZH': 'bahenoī', 'mWB': 'sālā', 'mHB': 'devar', 'mSW': 'bahū', 'mDH': 'jamāī', 'feZ': 'dīdī', 'fF': 'bāp', 'fM': 'mātā', 'fSS': 'potā', 'fSD': 'potī', 'fDS': 'dhevtā', 'fFB': 'tāū', 'fFZ': 'buā', 'fFyB': 'cācā', 'fFeB': 'tāū', 'fFeZ': 'buā', 'fFyZ': 'buā', 'fBS': 'bhatījā', 'fBD': 'bhatījī', 'fZS': 'bhānjā', 'fZD': 'bhānjī', 'feBS': 'bhatījā', 'fyBS': 'bhatījā', 'feBD': 'bhatījī', 'fyBD': 'bhatījī', 'feZS': 'bhānjā', 'fyZS': 'bhānjā', 'feZD': 'bhānjī', 'fyZD': 'bhānjī', 'fBW': 'bhābahū', 'fZH': 'bahenoī', 'fWB': 'sālā', 'fHB': 'devar', 'fSW': 'bahū', 'fDH': 'jamāī', 'mH': 'pati', 'mW': 'bahū', 'fH': 'pati', 'fW': 'bahū', 'mB': 'bhāī', 'mZ': 'bahan', 'mS': 'beṭā', 'mD': 'beṭī', 'mFF': 'dādā', 'mFM': 'dādī', 'mMM': 'nānī', 'mDD': 'dhevtī', 'mMB': 'māmā', 'mMZ': 'mausī', 'mMeZ': 'mausī', 'mMyZ': 'mausī', 'mMeB': 'māmā', 'mMyB': 'māmā', 'mFZD': 'phupheri bahan', 'mFBD': 'caceri bahan', 'mMBD': 'mameri bahan', 'mMZD': 'mɔseri bahan', 'mFBS': 'cacera bhai', 'mFZS': 'phuphera bhai', 'mMBS': 'mamera bhai', 'mFeBS': 'cacera bhai', 'mFyBS': 'cacera bhai', 'mFeZS': 'phuphera bhai', 'mFyZS': 'phuphera bhai', 'mFeBD': 'caceri bahan', 'mFyBD': 'caceri bahan', 'mFeZD': 'phupheri bahan', 'mFyZD': 'phupheri bahan', 'mMeBS': 'mamera bhai', 'mMyBS': 'mamera bhai', 'mMeBD': 'mameri bahan', 'mMyBD': 'mameri bahan', 'mMeZD': 'mɔseri bahan', 'mMyZD': 'mɔseri bahan', 'mFBeS': 'cacera bhai', 'mFByS': 'cacera bhai', 'mFZeS': 'phuphera bhai', 'mFZyS': 'phuphera bhai', 'mFBeD': 'caceri bahan', 'mFByD': 'caceri bahan', 'mFZeD': 'phupheri bahan', 'mFZyD': 'phupheri bahan', 'mMBeS': 'mamera bhai', 'mMByS': 'mamera bhai', 'mMBeD': 'mameri bahan', 'mMByD': 'mameri bahan', 'mMZeD': 'mɔseri bahan', 'mMZyD': 'mɔseri bahan', 'mHF': 'sasur', 'mHM': 'sās', 'mWF': 'sasur', 'mWM': 'sās', 'mWZ': 'sālī', 'mHZ': 'nanad', 'fB': 'bhāī', 'fZ': 'bahan', 'fS': 'beṭā', 'fD': 'beṭī', 'fFF': 'dādā', 'fFM': 'dādī', 'fMM': 'nānī', 'fMB': 'māmā', 'fMZ': 'mausī', 'fMeZ': 'mausī', 'fMyZ': 'mausī', 'fMeB': 'māmā', 'fMyB': 'māmā', 'fFZD': 'phupheri bahan', 'fFBD': 'caceri bahan', 'fMBD': 'mameri bahan', 'fMZD': 'mɔseri bahan', 'fFBS': 'cacera bhai', 'fFZS': 'phuphera bhai', 'fMBS': 'mamera bhai', 'fFeBS': 'cacera bhai', 'fFyBS': 'cacera bhai', 'fFeZS': 'phuphera bhai', 'fFyZS': 'phuphera bhai', 'fFeBD': 'caceri bahan', 'fFyBD': 'caceri bahan', 'fFeZD': 'phupheri bahan', 'fFyZD': 'phupheri bahan', 'fMeBS': 'mamera bhai', 'fMyBS': 'mamera bhai', 'fMeBD': 'mameri bahan', 'fMyBD': 'mameri bahan', 'fMeZD': 'mɔseri bahan', 'fMyZD': 'mɔseri bahan', 'fFBeS': 'cacera bhai', 'fFByS': 'cacera bhai', 'fFZeS': 'phuphera bhai', 'fFZyS': 'phuphera bhai', 'fFBeD': 'caceri bahan', 'fFByD': 'caceri bahan', 'fFZeD': 'phupheri bahan', 'fFZyD': 'phupheri bahan', 'fMBeS': 'mamera bhai', 'fMByS': 'mamera bhai', 'fMBeD': 'mameri bahan', 'fMByD': 'mameri bahan', 'fMZeD': 'mɔseri bahan', 'fMZyD': 'mɔseri bahan', 'fHF': 'sasur', 'fHM': 'sās', 'fWF': 'sasur', 'fWM': 'sās', 'fWZ': 'sālī', 'fHZ': 'nanad', 'meB': 'baṛa bhai', 'myZ': 'choṭī bhan', 'mA': 'purvaj', 'mMF': 'nānā', 'mSWM': 'sambandhi', 'mSWF': 'sambandhi', 'mFZH': 'fufa-ji', 'mFBW': 'chahu', 'mMZH': 'maasu', 'mMBW': 'mami', 'feB': 'baṛa bhai', 'fyZ': 'choṭī bhan', 'fA': 'purvaj', 'fMF': 'nānā', 'fSWM': 'sambandhi', 'fSWF': 'sambandhi', 'fFZH': 'fufa-ji', 'fFBW': 'chachu', 'fMZH': 'maasu', 'fMBW': 'mami', 'mMZS': 'mɔsera bhai', 'mMeZS': 'mɔsera bhai', 'mMyZS': 'mɔsera bhai', 'mMZeS': 'mɔsera bhai', 'mMZyS': 'mɔsera bhai', 'fMZS': 'mɔsera bhai', 'fMeZS': 'mɔsera bhai', 'fMyZS': 'mɔsera bhai', 'fMZeS': 'mɔsera bhai', 'fMZyS': 'mɔsera bhai', 'myB': 'choṭā bhāī', 'fyB': 'choṭā bhāī'}\n",
      "[('mātā', 'baṛa bhai'), ('mātā', 'choṭā bhāī'), ('bāp', 'baṛa bhai'), ('bāp', 'choṭā bhāī'), ('mātā', 'dīdī'), ('mātā', 'choṭī bhan'), ('bāp', 'dīdī'), ('bāp', 'choṭī bhan'), ('mātā', 'baṛa bhai'), ('mātā', 'choṭā bhāī'), ('bāp', 'baṛa bhai'), ('bāp', 'choṭā bhāī'), ('mātā', 'dīdī'), ('mātā', 'choṭī bhan'), ('bāp', 'dīdī'), ('bāp', 'choṭī bhan'), ('māmā', 'mamera bhai'), ('māmā', 'mameri bahan'), ('māmā', 'mamera bhai'), ('māmā', 'mameri bahan'), ('māmā', 'mamera bhai'), ('māmā', 'mameri bahan'), ('māmā', 'mamera bhai'), ('māmā', 'mameri bahan'), ('mausī', 'mɔsera bhai'), ('mausī', 'mɔseri bahan'), ('mausī', 'mɔsera bhai'), ('mausī', 'mɔseri bahan'), ('mausī', 'mɔsera bhai'), ('mausī', 'mɔseri bahan'), ('mausī', 'mɔsera bhai'), ('mausī', 'mɔseri bahan'), ('tāū', 'cacera bhai'), ('tāū', 'caceri bahan'), ('cācā', 'cacera bhai'), ('cācā', 'caceri bahan'), ('tāū', 'cacera bhai'), ('tāū', 'caceri bahan'), ('cācā', 'cacera bhai'), ('cācā', 'caceri bahan'), ('buā', 'phuphera bhai'), ('buā', 'phupheri bahan'), ('buā', 'phuphera bhai'), ('buā', 'phupheri bahan'), ('buā', 'phuphera bhai'), ('buā', 'phupheri bahan'), ('buā', 'phuphera bhai'), ('buā', 'phupheri bahan')]\n"
     ]
    }
   ],
   "source": [
    "cornish = get_kin_terms('../../kinbank/Cornish_corn1251.csv')\n",
    "bende = get_kin_terms('../../kinbank/Bende_bend1258.csv')\n",
    "tagalog = get_kin_terms('../../kinbank/Tagalog_taga1270.csv')\n",
    "andi = get_kin_terms('../../kinbank/Andi_andi1255.csv')\n",
    "hindi = get_kin_terms('../../kinbank/Hindi_hind1269.csv')\n",
    "\n",
    "cornish_pairs = get_pairs(get_kin_terms('../../kinbank/Cornish_corn1251.csv'))\n",
    "\n",
    "english_pairs = get_pairs(get_kin_terms('../../kinbank/English_stan1293.csv'))\n",
    "\n",
    "bende_pairs = get_pairs(bende)\n",
    "\n",
    "tagalog_pairs = get_pairs(tagalog)\n",
    "\n",
    "andi_pairs = get_pairs(andi)\n",
    "\n",
    "hindi_pairs = get_pairs(hindi)\n",
    "\n",
    "print(hindi)\n",
    "print(hindi_pairs)"
   ]
  },
  {
   "cell_type": "code",
   "execution_count": 80,
   "id": "419723d8",
   "metadata": {},
   "outputs": [
    {
     "data": {
      "text/plain": [
       "0.8895733895733896"
      ]
     },
     "execution_count": 80,
     "metadata": {},
     "output_type": "execute_result"
    }
   ],
   "source": [
    "dists = []\n",
    "for pair in hindi_pairs:\n",
    "    dists.append(lvs_dist(pair[0],pair[1]) / max(len(pair[0]),len(pair[1])))\n",
    "\n",
    "statistics.mean(dists)\n",
    "\n"
   ]
  },
  {
   "cell_type": "code",
   "execution_count": 84,
   "id": "c69bee30-7aed-474e-8676-a81c40c5ee8c",
   "metadata": {},
   "outputs": [
    {
     "data": {
      "text/plain": [
       "0.9270613275613275"
      ]
     },
     "execution_count": 84,
     "metadata": {},
     "output_type": "execute_result"
    }
   ],
   "source": [
    "sample_avgs = []\n",
    "\n",
    "for i in range(50):\n",
    "    sample = shuffle_ks(hindi)\n",
    "    sample_pairs = get_pairs(sample)\n",
    "    distances = []\n",
    "    for pair in sample_pairs:\n",
    "        try:\n",
    "            sample_ed = lvs_dist(pair[0],pair[1]) / max(len(pair[0]),len(pair[1]))\n",
    "            distances.append(sample_ed)\n",
    "        except:\n",
    "            continue\n",
    "    sample_avg = statistics.mean(distances)\n",
    "    sample_avgs.append(sample_avg)\n",
    "\n",
    "statistics.mean(sample_avgs)"
   ]
  },
  {
   "cell_type": "markdown",
   "id": "769c82f9-8725-408f-a28e-7fce3b48321f",
   "metadata": {},
   "source": [
    "ottowa_ojibwa otta1242\n",
    "yurok yuro 1248\n",
    "wapishana wapi 1253\n",
    "mokpwe mokp1239"
   ]
  },
  {
   "cell_type": "code",
   "execution_count": 120,
   "id": "2ddb3487-873a-4fb7-b83d-1ca734f2f5d9",
   "metadata": {},
   "outputs": [],
   "source": [
    "def get_pairs(ks: dict) -> list:\n",
    "    pairs_of_terms = []\n",
    "    parent_types = []\n",
    "\n",
    "    for pair in kt.pairs_no_parents:\n",
    "        if pair[0] in ks and pair[1] in ks:\n",
    "            pairs_of_terms.append((ks[pair[0]],ks[pair[1]]))\n",
    "            parent_types.append(pair[0])\n",
    "                \n",
    "    return pairs_of_terms"
   ]
  },
  {
   "cell_type": "code",
   "execution_count": 119,
   "id": "b995bc04-793b-46f6-a668-3130a7d5ce5f",
   "metadata": {},
   "outputs": [
    {
     "name": "stdout",
     "output_type": "stream",
     "text": [
      "{'mMeBS': 'mwanyango', 'mMyBS': 'mwanyango', 'mMeZS': 'mwanyango', 'mMyZS': 'mwanyango', 'mMeBD': 'ndomé', 'mMyBD': 'ndomé', 'mMeZD': 'ndomé', 'mMyZD': 'ndomé', 'fMeBS': 'ndomé', 'fMyBS': 'ndomé', 'fMeZS': 'ndomé', 'fMyZS': 'ndomé', 'fMeBD': 'mwanyango', 'fMyBD': 'mwanyango', 'fMeZD': 'mwanyango', 'fMyZD': 'mwanyango', 'mFeBS': 'mwanyango', 'mFyBS': 'mwanyango', 'mFeZS': 'mwanyango', 'mFyZS': 'mwanyango', 'mFeBD': 'ndomé', 'mFyBD': 'ndomé', 'mFeZD': 'ndomé', 'mFyZD': 'ndomé', 'fFeBS': 'ndomé', 'fFyBS': 'ndomé', 'fFeZS': 'ndomé', 'fFyZS': 'ndomé', 'fFeBD': 'mwanyango', 'fFyBD': 'mwanyango', 'fFeZD': 'mwanyango', 'fFyZD': 'mwanyango', 'meB': 'waólúlu', 'myB': 'wenongoni', 'meZ': 'waólúlu', 'myZ': 'wenongoni', 'feB': 'waólúlu', 'fyB': 'wenongoni', 'feZ': 'waólúlu', 'fyZ': 'wenongoni'} \n",
      "\n",
      " {'mFeB': 'melá', 'mFyB': 'melá', 'mFeZ': 'atí', 'mFyZ': 'atí', 'mMeZ': 'atí', 'mMyZ': 'atí', 'fFeB': 'melá', 'fFyB': 'melá', 'fFeZ': 'atí', 'fFyZ': 'atí', 'fMeZ': 'atí', 'fMyZ': 'atí', 'mF': 'rángó', 'mM': 'jéjé', 'mMeB': 'móla', 'mMyB': 'móla', 'fF': 'rángó', 'fM': 'jéjé', 'fMeB': 'móla', 'fMyB': 'móla'} \n",
      "\n",
      "[('jéjé', 'waólúlu'), ('jéjé', 'wenongoni'), ('rángó', 'waólúlu'), ('rángó', 'wenongoni'), ('jéjé', 'waólúlu'), ('jéjé', 'wenongoni'), ('rángó', 'waólúlu'), ('rángó', 'wenongoni'), ('jéjé', 'waólúlu'), ('jéjé', 'wenongoni'), ('rángó', 'waólúlu'), ('rángó', 'wenongoni'), ('jéjé', 'waólúlu'), ('jéjé', 'wenongoni'), ('rángó', 'waólúlu'), ('rángó', 'wenongoni'), ('móla', 'mwanyango'), ('móla', 'ndomé'), ('móla', 'mwanyango'), ('móla', 'ndomé'), ('móla', 'ndomé'), ('móla', 'mwanyango'), ('móla', 'ndomé'), ('móla', 'mwanyango'), ('atí', 'mwanyango'), ('atí', 'ndomé'), ('atí', 'mwanyango'), ('atí', 'ndomé'), ('atí', 'ndomé'), ('atí', 'mwanyango'), ('atí', 'ndomé'), ('atí', 'mwanyango'), ('melá', 'mwanyango'), ('melá', 'ndomé'), ('melá', 'mwanyango'), ('melá', 'ndomé'), ('melá', 'ndomé'), ('melá', 'mwanyango'), ('melá', 'ndomé'), ('melá', 'mwanyango'), ('atí', 'mwanyango'), ('atí', 'ndomé'), ('atí', 'mwanyango'), ('atí', 'ndomé'), ('atí', 'ndomé'), ('atí', 'mwanyango'), ('atí', 'ndomé'), ('atí', 'mwanyango')]\n"
     ]
    }
   ],
   "source": [
    "ojibwa = get_kin_terms('../../kinbank/Ottowa_Ojibwa_otta1242.csv') # missing cell values, need to remove empty strings\n",
    "yurok = get_kin_terms('../../kinbank/Yurok_yuro1248.csv') # nuncles and cousins split by gender, siblings split by age + gender\n",
    "wapishana = get_kin_terms('../../kinbank/Wapishana_wapi1253.csv') # older siblings split by age and gender, younger not split by gender. cousins all the same. nuncles split by gender and side of the family\n",
    "mokpwe = get_kin_terms('../../kinbank/Mokpwe_mokp1239.csv') # opposite gender cousins split by gender, siblings split by age, nuncles split by gender and mother's brother distinguished\n",
    "\n",
    "print(split_ks(mokpwe)[0], '\\n\\n', split_ks(mokpwe)[1], '\\n')\n",
    "print(get_pairs(mokpwe))"
   ]
  },
  {
   "cell_type": "code",
   "execution_count": 131,
   "id": "4978fe1e-ddaf-4a8c-a4ad-7bfc57924ec5",
   "metadata": {},
   "outputs": [
    {
     "data": {
      "text/plain": [
       "0.9183"
      ]
     },
     "execution_count": 131,
     "metadata": {},
     "output_type": "execute_result"
    }
   ],
   "source": [
    "mutual_information(get_pairs(mokpwe))"
   ]
  },
  {
   "cell_type": "markdown",
   "id": "518fa90d-ab2a-4eeb-8745-20b2f182a909",
   "metadata": {},
   "source": [
    "Lots of languages get an MI score of 0.9183 because that's what you get if your cousins and nuncles have an MI of 0, but your parents and siblings are distinct from them. This is not a problem! It is still interesting from a structural point of view - namely, that languages seek to distinguish parents and siblings from cousins and nuncles because you can specify people more informatively that way."
   ]
  },
  {
   "cell_type": "code",
   "execution_count": null,
   "id": "91c3f17f-a7d0-4f26-a6be-cc46691ece18",
   "metadata": {},
   "outputs": [],
   "source": []
  }
 ],
 "metadata": {
  "kernelspec": {
   "display_name": "Python 3 (ipykernel)",
   "language": "python",
   "name": "python3"
  },
  "language_info": {
   "codemirror_mode": {
    "name": "ipython",
    "version": 3
   },
   "file_extension": ".py",
   "mimetype": "text/x-python",
   "name": "python",
   "nbconvert_exporter": "python",
   "pygments_lexer": "ipython3",
   "version": "3.12.2"
  }
 },
 "nbformat": 4,
 "nbformat_minor": 5
}
