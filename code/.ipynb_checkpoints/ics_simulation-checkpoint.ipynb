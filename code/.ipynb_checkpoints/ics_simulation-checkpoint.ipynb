{
 "cells": [
  {
   "cell_type": "code",
   "execution_count": 49,
   "id": "313bdcab",
   "metadata": {},
   "outputs": [],
   "source": [
    "import csv # for writing dataframes to csv\n",
    "import random # for making a random choice\n",
    "import os # for scanning directories\n",
    "import itertools\n",
    "import string # for generating strings\n",
    "from collections import Counter\n",
    "\n",
    "import kintypes as kt # bringing large lists of kin types into the namespace\n",
    "import math # for calculating logs\n",
    "import pandas as pd\n",
    "\n",
    "testing = True # set to True to run code blocks with tests and examples"
   ]
  },
  {
   "cell_type": "markdown",
   "id": "b05da48a",
   "metadata": {},
   "source": [
    "# Internal co-selection\n",
    "\n",
    "Internal co-selection refers to the tendency for kinship systems to have cross-generational consistency in the terminological distinctions or mergers that are made. That is, if your parents' elder brothers share a kin term, then so too will their children. Or if your parents' sisters are distinguished from your parents' brothers, so too will their children be distinguished. \n",
    "\n",
    "Imagine a kinship system like so: as in English, you call your parents' brothers are  *uncles*, and their sisters *aunts*. You call the child of your uncle a *chuncle*, and the child of your aunt a *chaunt*. Thus, you make the same sorts of distinctions among your parents' siblings' generation of kin as are made among your own generation of kin - and you can be certain about which children belong to which parents as a result. This is an example of internal co-selection.\n",
    "\n",
    "In this notebook, we will gather information about the robustness of this tendency cross-linguistically, using data from Kinbank, a global database of kin terminology. We will also create simulations of existing kinship systems to find out whether internal co-selection is more common in kinship systems cross-linguistically (for a given amount of terminological variation) than we would expect by chance.\n",
    "\n",
    "We will measure internal co-selection in terms of the **mutual information** between Generation N and Generation N+1 in a particular kinship system. That tells us how much information can be gained from one generation by observing the other - how certain we can be about which children 'go with' which parents. This can be calculated as the **entropy** of one generation (how much unpredictable variation there is) minus the **conditional entropy** between the two generations (how much unpredictability remains in one generation after observing another).\n",
    "\n",
    "## The procedure\n",
    "\n",
    "To calculate the mutual information (MI) of a particular kinship system, we must perform the following steps:\n",
    "\n",
    "1. Extract kin terminology data from Kinbank for this language.\n",
    "2. Condense the full kinship system down to the terms we are interested in: Ego's generation and Ego's parents' generation.\n",
    "3. Calculate the probabilities of each kin term within the generation in which it belongs; and the probabilities of each parent-child pair.\n",
    "4. Calculate entropy, conditional entropy, subtract them from each other to get the mutual information of the system.\n",
    "\n",
    "After we get that going, we can do these same calculations on simulated kinship systems.\n",
    "\n",
    "### Extract kin terminology from Kinbank\n",
    "\n",
    "First, let's actually load our data in. The following function `get_kb_files()` pulls the full list of Kinbank filenames. Later, we can iterate through these to generate MI values for every language in our dataset."
   ]
  },
  {
   "cell_type": "code",
   "execution_count": 3,
   "id": "ceffb229",
   "metadata": {},
   "outputs": [],
   "source": [
    "def get_kb_files() -> list:\n",
    "    files = []\n",
    "    path = '../languages/kinbank'\n",
    "    directory = os.scandir(path)\n",
    "    for file in directory:\n",
    "        files.append(file.name)\n",
    "    return files\n",
    "\n",
    "all_kb_files = get_kb_files()"
   ]
  },
  {
   "cell_type": "markdown",
   "id": "add38301",
   "metadata": {},
   "source": [
    "Using one of these filenames, we can extract the kin terminology from that file and populate a dictionary with it. We're only interested in two columns from the Kinbank data: `parameter`, which contains a short code indicating a **kin type**, and `word`, which contains the **kin term** associated with that kin type. An example of a row in the English data would be `mMeB, uncle`, where `mMeB` means 'male speaker's mother's older brother', and `uncle` is the term associated with that person."
   ]
  },
  {
   "cell_type": "code",
   "execution_count": 2,
   "id": "f4d30100",
   "metadata": {},
   "outputs": [],
   "source": [
    "def get_kin_terms(filepath: str) -> dict:\n",
    "    kin_system = {}\n",
    "    with open(filepath, encoding='utf8') as f:\n",
    "        csv_reader = csv.DictReader(f)\n",
    "        next(csv_reader) # to skip the header row\n",
    "        for line in csv_reader:\n",
    "            kin_type = line['parameter']\n",
    "            kin_term = line['word']\n",
    "            kin_system[kin_type] = kin_term\n",
    "    return kin_system"
   ]
  },
  {
   "cell_type": "markdown",
   "id": "7d868130",
   "metadata": {},
   "source": [
    "Let's pick a random kinship system to test with throughout this notebook."
   ]
  },
  {
   "cell_type": "code",
   "execution_count": 4,
   "id": "00518f4c",
   "metadata": {},
   "outputs": [
    {
     "name": "stdout",
     "output_type": "stream",
     "text": [
      "Nogai_noga1249.csv {'mG': 'karɨndas', 'mB': 'adanas', 'mZ': 'karɨndas', 'myB': 'ini', 'myZ': 'siŋli', 'mF': 'ata', 'mM': 'ana', 'mC': 'tuwgailar', 'mS': 'kede', 'mD': 'kɨz', 'mFF': 'atay', 'mFM': 'tetey', 'mMF': 'atay', 'mMM': 'tetey', 'mSS': 'yiyen', 'mSD': 'yiyеn kɨz', 'mDS': 'yiyen', 'mDD': 'yiyеn kɨz', 'mFB': 'akay', 'mFZ': 'abay', 'mMB': 'nagaš akay', 'mMZ': 'abay', 'mBS': 'yiyen', 'mBD': 'yiyеn kɨz', 'mZS': 'yiyen', 'mZD': 'yiyеn kɨz', 'mFZD': 'bölе', 'mFBD': 'bölе', 'mMBD': 'bölе', 'mMZD': 'bölе', 'mFBS': 'bölе', 'mFZS': 'bölе', 'mMBS': 'bölе', 'mMZS': 'bölе', 'mH': 'kiew', 'mW': 'pišе', 'mHF': 'kaynata', 'mHM': 'kaynana', 'mWF': 'kaynata', 'mWM': 'kaynana', 'mSW': 'kеšеk', 'mDH': 'kiеw', 'meB': 'adanas', 'meZ': 'karɨndas', 'mFeB': 'akay', 'mFyB': 'akay', 'mFeZ': 'abay', 'mFyZ': 'abay', 'mMeZ': 'abay', 'mMyZ': 'abay', 'mMeB': 'nagaš akay', 'mMyB': 'nagaš akay', 'meBS': 'yiyen', 'myBS': 'yiyen', 'meBD': 'yiyеn kɨz', 'myBD': 'yiyеn kɨz', 'meZS': 'yiyen', 'myZS': 'yiyen', 'meZD': 'yiyеn kɨz', 'myZD': 'yiyеn kɨz', 'mFeBS': 'bölе', 'mFyBS': 'bölе', 'mFeZS': 'bölе', 'mFyZS': 'bölе', 'mFeBD': 'bölе', 'mFyBD': 'bölе', 'mFeZD': 'bölе', 'mFyZD': 'bölе', 'mMeBS': 'bölе', 'mMyBS': 'bölе', 'mMeZS': 'bölе', 'mMyZS': 'bölе', 'mMeBD': 'bölе', 'mMyBD': 'bölе', 'mMeZD': 'bölе', 'mMyZD': 'bölе', 'mFBeS': 'bölе', 'mFByS': 'bölе', 'mFZeS': 'bölе', 'mFZyS': 'bölе', 'mFBeD': 'bölе', 'mFByD': 'bölе', 'mFZeD': 'bölе', 'mFZyD': 'bölе', 'mMBeS': 'bölе', 'mMByS': 'bölе', 'mMZeS': 'bölе', 'mMZyS': 'bölе', 'mMBeD': 'bölе', 'mMByD': 'bölе', 'mMZeD': 'bölе', 'mMZyD': 'bölе', 'fG': 'karɨndas', 'fB': 'adanas', 'fZ': 'karɨndas', 'fyB': 'ini', 'fyZ': 'siŋli', 'fF': 'ata', 'fM': 'ana', 'fC': 'tuwgailar', 'fS': 'kede', 'fD': 'kɨz', 'fFF': 'atay', 'fFM': 'tetey', 'fMF': 'atay', 'fMM': 'tetey', 'fSS': 'yiyen', 'fSD': 'yiyеn kɨz', 'fDS': 'yiyen', 'fDD': 'yiyеn kɨz', 'fFB': 'akay', 'fFZ': 'abay', 'fMB': 'nagaš akay', 'fMZ': 'abay', 'fBS': 'yiyen', 'fBD': 'yiyеn kɨz', 'fZS': 'yiyen', 'fZD': 'yiyеn kɨz', 'fFZD': 'bölе', 'fFBD': 'bölе', 'fMBD': 'bölе', 'fMZD': 'bölе', 'fFBS': 'bölе', 'fFZS': 'bölе', 'fMBS': 'bölе', 'fMZS': 'bölе', 'fH': 'kiew', 'fW': 'pišе', 'fHF': 'kaynata', 'fHM': 'kaynana', 'fWF': 'kaynata', 'fWM': 'kaynana', 'fSW': 'kеšеk', 'fDH': 'kiеw', 'feB': 'adanas', 'feZ': 'karɨndas', 'fFeB': 'akay', 'fFyB': 'akay', 'fFeZ': 'abay', 'fFyZ': 'abay', 'fMeZ': 'abay', 'fMyZ': 'abay', 'fMeB': 'nagaš akay', 'fMyB': 'nagaš akay', 'feBS': 'yiyen', 'fyBS': 'yiyen', 'feBD': 'yiyеn kɨz', 'fyBD': 'yiyеn kɨz', 'feZS': 'yiyen', 'fyZS': 'yiyen', 'feZD': 'yiyеn kɨz', 'fyZD': 'yiyеn kɨz', 'fFeBS': 'bölе', 'fFyBS': 'bölе', 'fFeZS': 'bölе', 'fFyZS': 'bölе', 'fFeBD': 'bölе', 'fFyBD': 'bölе', 'fFeZD': 'bölе', 'fFyZD': 'bölе', 'fMeBS': 'bölе', 'fMyBS': 'bölе', 'fMeZS': 'bölе', 'fMyZS': 'bölе', 'fMeBD': 'bölе', 'fMyBD': 'bölе', 'fMeZD': 'bölе', 'fMyZD': 'bölе', 'fFBeS': 'bölе', 'fFByS': 'bölе', 'fFZeS': 'bölе', 'fFZyS': 'bölе', 'fFBeD': 'bölе', 'fFByD': 'bölе', 'fFZeD': 'bölе', 'fFZyD': 'bölе', 'fMBeS': 'bölе', 'fMByS': 'bölе', 'fMZeS': 'bölе', 'fMZyS': 'bölе', 'fMBeD': 'bölе', 'fMByD': 'bölе', 'fMZeD': 'bölе', 'fMZyD': 'bölе'}\n"
     ]
    }
   ],
   "source": [
    "if testing:\n",
    "    \n",
    "    random.seed(47) # set a seed for reproducibility\n",
    "\n",
    "    file = random.choice(all_kb_files) # pick a random filename from all_kb_files\n",
    "\n",
    "    filepath = '../languages/kinbank/' # the filepath where the kinbank files are kept\n",
    "\n",
    "    k = get_kin_terms(filepath + file)\n",
    "\n",
    "    print(file,k)"
   ]
  },
  {
   "cell_type": "markdown",
   "id": "79137a60",
   "metadata": {},
   "source": [
    "Our random language is Nogai, a Turkic language spoken in Southeastern European Russia, Kazakhstan, Uzbekistan, Ukraine, Bulgaria, Romania and Turkey. But as we can see from printing the system, there's a lot of extra kin terms here that we don't need for our experiment today. We're only interested in Ego and Ego's parents' generations, but the system contains kin types like `mS` (male speaker's son) or `mDD` (make speaker's daughter's daughter). In the next section, we'll reduce `k` down to just the terms we're interested in.\n",
    "\n",
    "### Condense the system down\n",
    "\n",
    "Perhaps unintuitively, our first step will not be to filter by the kin type codes for the kinship terms in Ego and Ego's parents' generations. Instead, in `kintypes.py`, another file in this directory, I have written **a list of pairs of kin types**, where the first element in the pair is a parent type, and the second is their child; e.g. `mMeB` and `mMeBD` (mother's elder brother and mother's elder brother's daughter). We will be filtering our full kinship system `k` according to this list of pairs. There are two reasons for this:\n",
    "\n",
    "1. Not every language has complete data in Kinbank. There may be some languages where a parent term is recorded and a corresponding child term is not. Incomplete data such as this will skew our probability distributions later, and cause problems with calculating MI. It's easier if we filter these out at this stage.\n",
    "2. Since we're interested in whether kinship systems maintain patterns of terminological distinctions and mergers across these two generations, we will need to know which parent terms 'go with' which child terms.\n",
    "\n",
    "The following function takes a kinship system as input, and outputs a list of tuples. The first element in the tuple is the parent term, the second is the corresponding child term."
   ]
  },
  {
   "cell_type": "code",
   "execution_count": 8,
   "id": "bb1f61b6",
   "metadata": {},
   "outputs": [],
   "source": [
    "def get_pairs(ks: dict) -> list:\n",
    "    pairs_of_terms = []\n",
    "    \n",
    "    for pair in kt.ics_pairs:\n",
    "        if pair[0] in ks and pair[1] in ks: # if both kin types are recorded in the kinship system,\n",
    "            pairs_of_terms.append((ks[pair[0]],ks[pair[1]])) # then add the terms associated with those types to \n",
    "                                                             # pairs_of_terms\n",
    "            \n",
    "    return pairs_of_terms"
   ]
  },
  {
   "cell_type": "markdown",
   "id": "be492ed6",
   "metadata": {},
   "source": [
    "But for our calculations, we'll still need to know which terms belong to which generation. Luckily, we know that the 0th element in each tuple is from Ego's parents' generation and the 1st element is from Ego's generation. So we can happily split these tuples down the middle and populate two lists with the terms."
   ]
  },
  {
   "cell_type": "code",
   "execution_count": 14,
   "id": "bc23c34f",
   "metadata": {},
   "outputs": [],
   "source": [
    "def split_pairs(pairs: list) -> list:\n",
    "    gn = []\n",
    "    gn1 = []\n",
    "    for pair in pairs:\n",
    "        gn.append(pair[1])\n",
    "        gn1.append(pair[0])\n",
    "    \n",
    "    return gn,gn1"
   ]
  },
  {
   "cell_type": "markdown",
   "id": "35aa2bd4",
   "metadata": {},
   "source": [
    "To illustrate what these functions do, let's test them out with our random kinship system, `k`."
   ]
  },
  {
   "cell_type": "code",
   "execution_count": 11,
   "id": "be8d4b3a",
   "metadata": {
    "collapsed": true
   },
   "outputs": [
    {
     "name": "stdout",
     "output_type": "stream",
     "text": [
      "[('nagaš akay', 'bölе'), ('nagaš akay', 'bölе'), ('nagaš akay', 'bölе'), ('nagaš akay', 'bölе'), ('nagaš akay', 'bölе'), ('nagaš akay', 'bölе'), ('nagaš akay', 'bölе'), ('nagaš akay', 'bölе'), ('nagaš akay', 'bölе'), ('nagaš akay', 'bölе'), ('akay', 'bölе'), ('akay', 'bölе'), ('akay', 'bölе'), ('akay', 'bölе'), ('akay', 'bölе'), ('akay', 'bölе'), ('akay', 'bölе'), ('akay', 'bölе'), ('akay', 'bölе'), ('akay', 'bölе'), ('abay', 'bölе'), ('abay', 'bölе'), ('abay', 'bölе'), ('abay', 'bölе'), ('abay', 'bölе'), ('abay', 'bölе'), ('abay', 'bölе'), ('abay', 'bölе'), ('abay', 'bölе'), ('abay', 'bölе'), ('abay', 'bölе'), ('abay', 'bölе'), ('abay', 'bölе'), ('abay', 'bölе'), ('abay', 'bölе'), ('abay', 'bölе'), ('abay', 'bölе'), ('abay', 'bölе'), ('abay', 'bölе'), ('abay', 'bölе'), ('nagaš akay', 'bölе'), ('nagaš akay', 'bölе'), ('nagaš akay', 'bölе'), ('nagaš akay', 'bölе'), ('nagaš akay', 'bölе'), ('nagaš akay', 'bölе'), ('nagaš akay', 'bölе'), ('nagaš akay', 'bölе'), ('nagaš akay', 'bölе'), ('nagaš akay', 'bölе'), ('akay', 'bölе'), ('akay', 'bölе'), ('akay', 'bölе'), ('akay', 'bölе'), ('akay', 'bölе'), ('akay', 'bölе'), ('akay', 'bölе'), ('akay', 'bölе'), ('akay', 'bölе'), ('akay', 'bölе'), ('abay', 'bölе'), ('abay', 'bölе'), ('abay', 'bölе'), ('abay', 'bölе'), ('abay', 'bölе'), ('abay', 'bölе'), ('abay', 'bölе'), ('abay', 'bölе'), ('abay', 'bölе'), ('abay', 'bölе'), ('abay', 'bölе'), ('abay', 'bölе'), ('abay', 'bölе'), ('abay', 'bölе'), ('abay', 'bölе'), ('abay', 'bölе'), ('abay', 'bölе'), ('abay', 'bölе'), ('abay', 'bölе'), ('abay', 'bölе')]\n"
     ]
    }
   ],
   "source": [
    "if testing:\n",
    "    \n",
    "    k_pairs = get_pairs(k)\n",
    "    print(k_pairs)"
   ]
  },
  {
   "cell_type": "code",
   "execution_count": 15,
   "id": "f95c6a56",
   "metadata": {
    "collapsed": true
   },
   "outputs": [
    {
     "name": "stdout",
     "output_type": "stream",
     "text": [
      "Ego's generation:  ['bölе', 'bölе', 'bölе', 'bölе', 'bölе', 'bölе', 'bölе', 'bölе', 'bölе', 'bölе', 'bölе', 'bölе', 'bölе', 'bölе', 'bölе', 'bölе', 'bölе', 'bölе', 'bölе', 'bölе', 'bölе', 'bölе', 'bölе', 'bölе', 'bölе', 'bölе', 'bölе', 'bölе', 'bölе', 'bölе', 'bölе', 'bölе', 'bölе', 'bölе', 'bölе', 'bölе', 'bölе', 'bölе', 'bölе', 'bölе', 'bölе', 'bölе', 'bölе', 'bölе', 'bölе', 'bölе', 'bölе', 'bölе', 'bölе', 'bölе', 'bölе', 'bölе', 'bölе', 'bölе', 'bölе', 'bölе', 'bölе', 'bölе', 'bölе', 'bölе', 'bölе', 'bölе', 'bölе', 'bölе', 'bölе', 'bölе', 'bölе', 'bölе', 'bölе', 'bölе', 'bölе', 'bölе', 'bölе', 'bölе', 'bölе', 'bölе', 'bölе', 'bölе', 'bölе', 'bölе'] \n",
      "\n",
      "Ego's parents' generation:  ['nagaš akay', 'nagaš akay', 'nagaš akay', 'nagaš akay', 'nagaš akay', 'nagaš akay', 'nagaš akay', 'nagaš akay', 'nagaš akay', 'nagaš akay', 'akay', 'akay', 'akay', 'akay', 'akay', 'akay', 'akay', 'akay', 'akay', 'akay', 'abay', 'abay', 'abay', 'abay', 'abay', 'abay', 'abay', 'abay', 'abay', 'abay', 'abay', 'abay', 'abay', 'abay', 'abay', 'abay', 'abay', 'abay', 'abay', 'abay', 'nagaš akay', 'nagaš akay', 'nagaš akay', 'nagaš akay', 'nagaš akay', 'nagaš akay', 'nagaš akay', 'nagaš akay', 'nagaš akay', 'nagaš akay', 'akay', 'akay', 'akay', 'akay', 'akay', 'akay', 'akay', 'akay', 'akay', 'akay', 'abay', 'abay', 'abay', 'abay', 'abay', 'abay', 'abay', 'abay', 'abay', 'abay', 'abay', 'abay', 'abay', 'abay', 'abay', 'abay', 'abay', 'abay', 'abay', 'abay']\n"
     ]
    }
   ],
   "source": [
    "if testing:\n",
    "    \n",
    "    k_gn,k_gn1 = split_pairs(k_pairs)\n",
    "\n",
    "    print(\"Ego's generation: \", k_gn, '\\n')\n",
    "\n",
    "    print(\"Ego's parents' generation: \", k_gn1)"
   ]
  },
  {
   "cell_type": "markdown",
   "id": "0f800fcd",
   "metadata": {},
   "source": [
    "`get_pairs()` gives us a long list of pairs, with lots of repetition. This is because some kin types will correspond to the same kin term in a language. For example, in English, mother's elder brother, mother's younger brother, father's elder brother and father's younger brother all correspond to the term 'uncle'. All of those people's children correspond to the word 'cousin'! So we'll end up with duplicate entries for these terms in some languages, but not all.\n",
    "\n",
    "`split_pairs()` takes this long list of pairs and sorts it into terms that belong to Ego's generation and terms that belong to Ego's parents' generation. Importantly, since the order of the `pairs` list is preserved when we run `split_generations()`, we can still work out which terms form a parent-child pair by indexing `gn` and `gn1`.\n",
    "\n",
    "Now we have our data structures, we can start to do some calculations.\n",
    "\n",
    "### Calculating probabilities"
   ]
  },
  {
   "cell_type": "markdown",
   "id": "1626ddc0",
   "metadata": {},
   "source": [
    "To calculate entropy, we need a probability distribution over the terms in one single generation of a kinship system. So let's start with a function that can calculate the probability of a particular term.\n",
    "\n",
    "Given a term and the full list of terms in the same generation, this function counts how many times that term exists in `generation` and divides that by the total length of `generation`."
   ]
  },
  {
   "cell_type": "code",
   "execution_count": 17,
   "id": "7b516e70",
   "metadata": {},
   "outputs": [],
   "source": [
    "def probability(term: str, generation: list) -> float:\n",
    "    return generation.count(term)/len(generation)"
   ]
  },
  {
   "cell_type": "markdown",
   "id": "526bbba2",
   "metadata": {},
   "source": [
    "So if we pick a term at random from our Nogai kinship system, it will output the probability of picking that term."
   ]
  },
  {
   "cell_type": "code",
   "execution_count": 20,
   "id": "6f87bc72",
   "metadata": {},
   "outputs": [
    {
     "name": "stdout",
     "output_type": "stream",
     "text": [
      "nagaš akay 0.25\n"
     ]
    }
   ],
   "source": [
    "if testing:\n",
    "    k_term = random.choice(k_gn1)\n",
    "    print(k_term, probability(k_term,k_gn1))"
   ]
  },
  {
   "cell_type": "markdown",
   "id": "4b14121d",
   "metadata": {},
   "source": [
    "When calculating mutual information, we also need the **conditional entropy** of our system. To calculate this, we will need not only the probabilities of terms in a generation, but also the **joint probabilities** of every pair of terms across those two generations. In other words, we need to calculate the probabilities of our `pairs` output by `get_pairs`.\n",
    "\n",
    "Given two terms, this function counts how many pairs made of those two terms exist in `pairs`, then divides that by the total length of `pairs`."
   ]
  },
  {
   "cell_type": "code",
   "execution_count": 22,
   "id": "87b57658",
   "metadata": {},
   "outputs": [],
   "source": [
    "def joint_probability(term1: str, term2: str, pairs: list) -> float:\n",
    "    pair = (term1,term2)\n",
    "    return pairs.count(pair)/len(pairs)"
   ]
  },
  {
   "cell_type": "markdown",
   "id": "4a96d701",
   "metadata": {},
   "source": [
    "Once again, we can test this with a random pair from our Nogai list of pairs:"
   ]
  },
  {
   "cell_type": "code",
   "execution_count": 25,
   "id": "419e2462",
   "metadata": {},
   "outputs": [
    {
     "name": "stdout",
     "output_type": "stream",
     "text": [
      "('abay', 'bölе') 0.5\n"
     ]
    }
   ],
   "source": [
    "if testing:\n",
    "    k_pair = random.choice(k_pairs)\n",
    "    print(k_pair, joint_probability(k_pair[0],k_pair[1],k_pairs))"
   ]
  },
  {
   "cell_type": "markdown",
   "id": "047d1cde",
   "metadata": {},
   "source": [
    "Now we can calculate probabilities, we can use these functions to calculate entropy, conditional entropy, and mutual information.\n",
    "\n",
    "### Calculating entropy and mutual information\n",
    "\n",
    "Entropy is defined as \n",
    "\n",
    "**INSERT EQUATION HERE LOL**\n",
    "\n",
    "or, in English, it is the inverse sum over a distribution X of the probability of y * the log probability of y.\n",
    "\n",
    "Entropy is a measure of the average level of uncertainty about the possible outcomes of a variable.\n",
    "\n",
    "The functions we defined above only calculate a single probability at a time, so our next functions will need to iterate over the kinship system in order to have a full probability distribution. First, let's define a function that will iterate over a generation of the kinship system to output the entropy of that generation. \n",
    "\n",
    "Note: we only need one generation's entropy score to calculate mutual information - we will make the arbitrary choice to calculate the entropy of Ego's parents' generation later in this notebook."
   ]
  },
  {
   "cell_type": "code",
   "execution_count": 40,
   "id": "5a086427",
   "metadata": {},
   "outputs": [],
   "source": [
    "def entropy(generation: list) -> list:\n",
    "    entropy = 0\n",
    "    for term in set(generation): # using a set as we want to count each unique term only once\n",
    "        p = probability(term,generation)\n",
    "        #print('entropy of',term,p*math.log(p))\n",
    "        entropy += p*math.log(p)\n",
    "    return -entropy"
   ]
  },
  {
   "cell_type": "code",
   "execution_count": 33,
   "id": "f9f2423b",
   "metadata": {},
   "outputs": [
    {
     "name": "stdout",
     "output_type": "stream",
     "text": [
      "entropy of nagaš akay -0.34657359027997264\n",
      "entropy of akay -0.34657359027997264\n",
      "entropy of abay -0.34657359027997264\n"
     ]
    },
    {
     "data": {
      "text/plain": [
       "1.0397207708399179"
      ]
     },
     "execution_count": 33,
     "metadata": {},
     "output_type": "execute_result"
    }
   ],
   "source": [
    "#if testing:\n",
    "entropy(k_gn1)"
   ]
  },
  {
   "cell_type": "markdown",
   "id": "3ac5f0b2",
   "metadata": {},
   "source": [
    "Moving on, conditional entropy is defined as\n",
    "\n",
    "**ANOTHER EQUATION PLEASE**\n",
    "\n",
    "or in English, the inverse sum over two distributions Y and X of the probability of each y * the log probability of each y given x.\n",
    "\n",
    "Conditional entropy is the amount of information needed to describe the outcome of a random variable Y given that we already know the value of another random variable X.\n",
    "\n",
    "To calculate it, we need the joint probability of each pair (given by `joint_probability()`) and the probability of one member of that pair (given by `probability()`). We can then calculate the conditional probability of parent term given child term as the joint probability of those terms over the probability of the parent term.\n",
    "\n",
    "As before, we will define a function that iterates over all pairs to output the conditional entropy of Ego's generation given Ego's parents' generation."
   ]
  },
  {
   "cell_type": "code",
   "execution_count": 34,
   "id": "f51cfe47",
   "metadata": {},
   "outputs": [],
   "source": [
    "def conditional_entropy(gn: list, gn1:list, pairs:list) -> float:\n",
    "    entropy = 0\n",
    "    for x,y in set(pairs): # x = parent, y = child\n",
    "        p_xy = joint_probability(x,y,pairs)\n",
    "        p_y = probability(y,g1)\n",
    "        if p_xy > 0 and p_y > 0:\n",
    "            #print('p(', x, '|', y,') = ', p_xy/p_y, 'p(y) = ', p_y)\n",
    "            entropy += p_xy * math.log(p_xy/p_y)\n",
    "    return -entropy"
   ]
  },
  {
   "cell_type": "code",
   "execution_count": 36,
   "id": "0daccf34",
   "metadata": {},
   "outputs": [
    {
     "data": {
      "text/plain": [
       "1.0397207708399179"
      ]
     },
     "execution_count": 36,
     "metadata": {},
     "output_type": "execute_result"
    }
   ],
   "source": [
    "if testing:\n",
    "    conditional_entropy(k_gn,k_gn1,k_pairs)"
   ]
  },
  {
   "cell_type": "markdown",
   "id": "2cff5687",
   "metadata": {},
   "source": [
    "Finally, mutual information is defined as\n",
    "\n",
    "**LAST EQUATION**\n",
    "\n",
    "or in English, entropy of X minus the conditional entropy of X given Y.\n",
    "\n",
    "In this study, it is equal to the entropy of Ego's parents' generation minus the conditional entropy of Ego's parents' generation given Ego's generation. It tells us how much mutual dependence there is between these two generations; i.e. how much we can know about one by observing the other.\n",
    "\n",
    "So long as we make sure to input the right entropy and conditional entropy values, we only need a simple function for this one:"
   ]
  },
  {
   "cell_type": "code",
   "execution_count": 38,
   "id": "3d3cbd45",
   "metadata": {},
   "outputs": [],
   "source": [
    "def mutual_information(e,ce):\n",
    "    return e - ce"
   ]
  },
  {
   "cell_type": "code",
   "execution_count": 50,
   "id": "5821e74e",
   "metadata": {},
   "outputs": [
    {
     "data": {
      "text/plain": [
       "0.0"
      ]
     },
     "execution_count": 50,
     "metadata": {},
     "output_type": "execute_result"
    }
   ],
   "source": [
    "if testing:\n",
    "    mutual_information(entropy(k_gn1),conditional_entropy(k_gn,k_gn1,k_pairs))"
   ]
  },
  {
   "cell_type": "markdown",
   "id": "bf3c8388",
   "metadata": {},
   "source": [
    "Because entropy of Ego's parents' generation in Nogai and conditional entropy for Nogai are equal, the mutual information is 0. In other words, there is no mutual dependence between Ego's generation and Ego's parents' generation in Nogai.\n",
    "\n",
    "And there we have it! Step 4 complete. We can now take any Kinbank file and output the mutual information between Ego's generation and Ego's parents' generation in that language.\n",
    "\n",
    "But right at the beginning of this notebook, I mentioned using **simulations** to test the robustness of our claim that languages exhibit internal co-selection in their kinship systems. These simulations give us a baseline with which to compare the MI scores of real languages. Do languages across the world have greater mutual information between two generations than we would expect by chance?\n",
    "\n",
    "## Simulations\n",
    "\n",
    "If we want to argue that internal co-selection is a product of cultural evolution, we need to dispel the possibility that it occurs by chance.\n",
    "\n",
    "To get an idea of what chance is, we need to create some randomly generated kinship systems. We can compare the MI of these simulations to the real languages to see whether the real languages have significantly greater mutual information between generations.\n",
    "\n",
    "An important aspect of MI that we have not discussed so far: it is dependent on the amount of variation within the kinship system. A system with only one unique term in each generation would have MI of 0, which seems pretty terrible! But given this very limited variation (indeed, no variation), 0 is the highest MI such a language could have. As such, we perhaps need to modify our claim that kinship systems have \"high MI\" to be more specific: kinship systems in the wild have high MI *for the amount of variation in terminology they have*.\n",
    "\n",
    "To compare real languages to simulations, we need a simulation which maintains the number of terms while randomising which child terms pair with which parent terms. To do this, we will take each language in our data, and randomly scramble which terms go with which types (within generation). This will randomise the syncretisms within the generations while maintaining the same amount of variation across the system overall.\n",
    "\n",
    "To do this, we need to take the following steps:\n",
    "\n",
    "1. Extract the kinship system of a language from kinbank (check!)\n",
    "2. Filter the two generations we are interested in (check!)\n",
    "3. Randomly reassign the kinship terms to new types.\n",
    "4. Repeat the process a bunch of times for each language.\n",
    "\n",
    "We already have the infrastructure for the first two! `get_kin_terms()`,  `get_pairs()` and `split_pairs()` will do this for us. So let's skip to 3, and write a function that randomises which terms form pairs, assuming that we have already extracted the kinship system and filtered the relevant pairs.\n",
    "\n",
    "Remember that the order of `pairs` is preserved when we run `split_pairs()`. So when we pass `gn` and `gn1` to `shuffle_pairs()`, we know that we can re-unite our pairs by using the same index. Equally, when we shuffle `gn` and `gn1` in place, we know that we can safely combine them to make a new, randomised pair in place of the 'real' Nogai pair."
   ]
  },
  {
   "cell_type": "code",
   "execution_count": 51,
   "id": "d65d88d5",
   "metadata": {},
   "outputs": [],
   "source": [
    "def shuffle_pairs(gn,gn1):\n",
    "    random.shuffle(gn)\n",
    "    random.shuffle(gn1)\n",
    "    random_pairs = []\n",
    "    for x,y in zip(gn,gn1):\n",
    "        random_pairs.append((y,x))\n",
    "    return random_pairs"
   ]
  },
  {
   "cell_type": "code",
   "execution_count": 56,
   "id": "b1b73a40",
   "metadata": {},
   "outputs": [
    {
     "name": "stdout",
     "output_type": "stream",
     "text": [
      "[('abay', 'bölе'), ('abay', 'bölе'), ('abay', 'bölе'), ('abay', 'bölе'), ('abay', 'bölе'), ('abay', 'bölе'), ('akay', 'bölе'), ('akay', 'bölе'), ('abay', 'bölе'), ('abay', 'bölе'), ('nagaš akay', 'bölе'), ('nagaš akay', 'bölе'), ('nagaš akay', 'bölе'), ('akay', 'bölе'), ('abay', 'bölе'), ('abay', 'bölе'), ('nagaš akay', 'bölе'), ('akay', 'bölе'), ('akay', 'bölе'), ('nagaš akay', 'bölе'), ('nagaš akay', 'bölе'), ('abay', 'bölе'), ('abay', 'bölе'), ('nagaš akay', 'bölе'), ('abay', 'bölе'), ('nagaš akay', 'bölе'), ('abay', 'bölе'), ('nagaš akay', 'bölе'), ('nagaš akay', 'bölе'), ('akay', 'bölе'), ('nagaš akay', 'bölе'), ('abay', 'bölе'), ('abay', 'bölе'), ('nagaš akay', 'bölе'), ('akay', 'bölе'), ('nagaš akay', 'bölе'), ('abay', 'bölе'), ('abay', 'bölе'), ('akay', 'bölе'), ('akay', 'bölе'), ('abay', 'bölе'), ('akay', 'bölе'), ('abay', 'bölе'), ('abay', 'bölе'), ('akay', 'bölе'), ('nagaš akay', 'bölе'), ('nagaš akay', 'bölе'), ('abay', 'bölе'), ('nagaš akay', 'bölе'), ('abay', 'bölе'), ('abay', 'bölе'), ('abay', 'bölе'), ('akay', 'bölе'), ('nagaš akay', 'bölе'), ('abay', 'bölе'), ('akay', 'bölе'), ('akay', 'bölе'), ('akay', 'bölе'), ('akay', 'bölе'), ('akay', 'bölе'), ('nagaš akay', 'bölе'), ('akay', 'bölе'), ('abay', 'bölе'), ('abay', 'bölе'), ('abay', 'bölе'), ('abay', 'bölе'), ('abay', 'bölе'), ('abay', 'bölе'), ('abay', 'bölе'), ('abay', 'bölе'), ('abay', 'bölе'), ('nagaš akay', 'bölе'), ('abay', 'bölе'), ('abay', 'bölе'), ('akay', 'bölе'), ('abay', 'bölе'), ('nagaš akay', 'bölе'), ('abay', 'bölе'), ('akay', 'bölе'), ('abay', 'bölе')] [('nagaš akay', 'bölе'), ('nagaš akay', 'bölе'), ('nagaš akay', 'bölе'), ('nagaš akay', 'bölе'), ('nagaš akay', 'bölе'), ('nagaš akay', 'bölе'), ('nagaš akay', 'bölе'), ('nagaš akay', 'bölе'), ('nagaš akay', 'bölе'), ('nagaš akay', 'bölе'), ('akay', 'bölе'), ('akay', 'bölе'), ('akay', 'bölе'), ('akay', 'bölе'), ('akay', 'bölе'), ('akay', 'bölе'), ('akay', 'bölе'), ('akay', 'bölе'), ('akay', 'bölе'), ('akay', 'bölе'), ('abay', 'bölе'), ('abay', 'bölе'), ('abay', 'bölе'), ('abay', 'bölе'), ('abay', 'bölе'), ('abay', 'bölе'), ('abay', 'bölе'), ('abay', 'bölе'), ('abay', 'bölе'), ('abay', 'bölе'), ('abay', 'bölе'), ('abay', 'bölе'), ('abay', 'bölе'), ('abay', 'bölе'), ('abay', 'bölе'), ('abay', 'bölе'), ('abay', 'bölе'), ('abay', 'bölе'), ('abay', 'bölе'), ('abay', 'bölе'), ('nagaš akay', 'bölе'), ('nagaš akay', 'bölе'), ('nagaš akay', 'bölе'), ('nagaš akay', 'bölе'), ('nagaš akay', 'bölе'), ('nagaš akay', 'bölе'), ('nagaš akay', 'bölе'), ('nagaš akay', 'bölе'), ('nagaš akay', 'bölе'), ('nagaš akay', 'bölе'), ('akay', 'bölе'), ('akay', 'bölе'), ('akay', 'bölе'), ('akay', 'bölе'), ('akay', 'bölе'), ('akay', 'bölе'), ('akay', 'bölе'), ('akay', 'bölе'), ('akay', 'bölе'), ('akay', 'bölе'), ('abay', 'bölе'), ('abay', 'bölе'), ('abay', 'bölе'), ('abay', 'bölе'), ('abay', 'bölе'), ('abay', 'bölе'), ('abay', 'bölе'), ('abay', 'bölе'), ('abay', 'bölе'), ('abay', 'bölе'), ('abay', 'bölе'), ('abay', 'bölе'), ('abay', 'bölе'), ('abay', 'bölе'), ('abay', 'bölе'), ('abay', 'bölе'), ('abay', 'bölе'), ('abay', 'bölе'), ('abay', 'bölе'), ('abay', 'bölе')]\n"
     ]
    }
   ],
   "source": [
    "if testing:\n",
    "    sim_pairs = shuffle_pairs(k_gn,k_gn1)\n",
    "    print(sim_pairs,k_pairs) # for comparison\n"
   ]
  },
  {
   "cell_type": "markdown",
   "id": "eb3e8ef3",
   "metadata": {},
   "source": [
    "Now we can treat `sim_pairs` just as we treated `pairs`! Let's calculate the entropy, conditional entropy, and mutual information of this simulated system."
   ]
  },
  {
   "cell_type": "code",
   "execution_count": 57,
   "id": "65ac19f8",
   "metadata": {},
   "outputs": [
    {
     "name": "stdout",
     "output_type": "stream",
     "text": [
      "1.0397207708399179 1.0397207708399179 0.0\n"
     ]
    }
   ],
   "source": [
    "if testing:\n",
    "    sim_gn,sim_gn1 = split_pairs(sim_pairs)\n",
    "    e = entropy(sim_gn1)\n",
    "    ce = conditional_entropy(sim_gn,sim_gn1,sim_pairs)\n",
    "    mi = mutual_information(e,ce)\n",
    "    print(e,ce,mi)"
   ]
  },
  {
   "cell_type": "markdown",
   "id": "8185c8cc",
   "metadata": {},
   "source": [
    "Wait! That's exactly the same values as the real Nogai kinship system! I thought this was a randomised simulation - what gives?\n",
    "\n",
    "Variation gives! Because Nogai only has one unique term in Ego's generation, its highest MI is 0, and the conditional entropy of Ego's parents' generation given Ego's generation is equal to entropy. Entropy remains the same regardless, because the amount of variation in the simulation **does not change** by design.\n",
    "\n",
    "Let's pick a new random language that has more variation, so we can really see the difference."
   ]
  },
  {
   "cell_type": "code",
   "execution_count": 72,
   "id": "f0b822ee",
   "metadata": {},
   "outputs": [
    {
     "name": "stdout",
     "output_type": "stream",
     "text": [
      "Sungwaloge_(Nalemba_Simeone_Tari)_mari1426f.csv\n",
      "Sungwaloge: 1.3862943611198906 0.6931471805599453 0.6931471805599453\n",
      "Simulation: 1.3862943611198906 1.234244945579329 0.15204941554056162\n"
     ]
    }
   ],
   "source": [
    "if testing:\n",
    "    random.seed(11)\n",
    "    file2 = random.choice(all_kb_files)\n",
    "    print(file2)\n",
    "    k2 = get_kin_terms(filepath + file2)\n",
    "\n",
    "    k2_pairs = get_pairs(k2)\n",
    "    k2_gn,k2_gn1 = split_pairs(k2_pairs)\n",
    "    k2_e = entropy(k2_gn1)\n",
    "    k2_ce = conditional_entropy(k2_gn,k2_gn1,k2_pairs)\n",
    "    k2_mi = mutual_information(k2_e, k2_ce)\n",
    "    \n",
    "    k2_sim = shuffle_pairs(k2_gn,k2_gn1)\n",
    "    k2_sim_gn,k2_sim_gn1 = split_pairs(k2_sim)\n",
    "    k2_sim_e = entropy(k2_sim_gn1)\n",
    "    k2_sim_ce = conditional_entropy(k2_sim_gn,k2_sim_gn1,k2_sim)\n",
    "    k2_sim_mi = mutual_information(k2_sim_e,k2_sim_ce)\n",
    "    \n",
    "    print('Sungwaloge:', k2_e,k2_ce,k2_mi)\n",
    "    print('Simulation:',k2_sim_e,k2_sim_ce,k2_sim_mi)\n"
   ]
  },
  {
   "cell_type": "markdown",
   "id": "c3fc4113",
   "metadata": {},
   "source": [
    "Now we see that while the entropy of our new language, Sungwaloge, and its simulation are equal, the conditional entropy for the simulation is greater and therefore the mutual information of the simulation is lower. What about if we did this 1000 times? How often would the mutual information of the simulation be lower then?\n",
    "\n",
    "## Tidying up\n",
    "\n",
    "We have all the pieces we need now to calculate MI and simulate kinship systems - all we need to do is write a few more functions that stick all of those pieces together in a neat parcel.\n",
    "\n",
    "First, a function that takes pairs and spits out entropy, conditional entropy, and MI:"
   ]
  },
  {
   "cell_type": "code",
   "execution_count": 81,
   "id": "c9623eeb",
   "metadata": {},
   "outputs": [],
   "source": [
    "def calculate_mi(pairs: list):\n",
    "    gn,gn1 = split_pairs(pairs)\n",
    "    e = entropy(gn1)\n",
    "    ce = conditional_entropy(gn,gn1,pairs)\n",
    "    mi = mutual_information(e,ce)\n",
    "    return e,ce,mi"
   ]
  },
  {
   "cell_type": "markdown",
   "id": "c5d30360",
   "metadata": {},
   "source": [
    "Second, a function that builds a simulation from scratch:"
   ]
  },
  {
   "cell_type": "code",
   "execution_count": 86,
   "id": "acb5e793",
   "metadata": {},
   "outputs": [],
   "source": [
    "def simulate_ks(ks: dict) -> list:\n",
    "    pairs = get_pairs(ks)\n",
    "    gn,gn1 = split_pairs(pairs)\n",
    "    simulation = shuffle_pairs(gn,gn1)\n",
    "    return simulation"
   ]
  },
  {
   "cell_type": "markdown",
   "id": "2f27468d",
   "metadata": {},
   "source": [
    "And a function that puts everything together, saves the results to a separate file, and outputs a `pandas` dataframe so that we can take a good look."
   ]
  },
  {
   "cell_type": "code",
   "execution_count": 92,
   "id": "3c27ba2b",
   "metadata": {},
   "outputs": [],
   "source": [
    "def ics_simulation(all_files:list, times):\n",
    "    df = []\n",
    "    \n",
    "    for file in all_files:\n",
    "        ks = get_kin_terms(filepath + file)\n",
    "        language = file[:-13]\n",
    "    \n",
    "    \n",
    "        for i in range(times):\n",
    "            pairs = simulate_ks(ks)\n",
    "            e,ce,mi = calculate_mi(pairs)\n",
    "            mi2 = easy_mi(pairs)\n",
    "\n",
    "            results = {}\n",
    "            results['language'] = language\n",
    "            results['simulation_number'] = str(i)\n",
    "            results['mutual_information'] = mi\n",
    "            results['CHECK mutual_information'] = mi2\n",
    "            results['entropy'] = e\n",
    "            results['conditional_entropy'] = ce\n",
    "\n",
    "            df.append(results)\n",
    "    \n",
    "    #pd.DataFrame(df).to_csv('../data/raw/ics_sims.csv',index=False)\n",
    "    \n",
    "    return pd.DataFrame(df)"
   ]
  },
  {
   "cell_type": "code",
   "execution_count": 83,
   "id": "20e62d88",
   "metadata": {},
   "outputs": [],
   "source": [
    "def ics_real(all_files):\n",
    "    df = []\n",
    "    \n",
    "    for file in all_files:\n",
    "        ks = get_kin_terms(filepath + file)\n",
    "        language = file[:-13]\n",
    "        pairs = get_pairs(ks)\n",
    "        e,ce,mi = calculate_mi(pairs)\n",
    "        \n",
    "        results = {}\n",
    "        results['language'] = language\n",
    "        results['simulation_number'] = 'REAL'\n",
    "        results['mutual_information'] = mi\n",
    "        results['entropy'] = e\n",
    "        results['conditional_entropy'] = ce\n",
    "\n",
    "        df.append(results)\n",
    "        \n",
    "    #pd.DataFrame(df).to_csv('..data/raw/ics_real.csv',index=False)\n",
    "    \n",
    "    return pd.DataFrame(df)"
   ]
  },
  {
   "cell_type": "code",
   "execution_count": 84,
   "id": "99e081ad",
   "metadata": {},
   "outputs": [
    {
     "data": {
      "text/html": [
       "<div>\n",
       "<style scoped>\n",
       "    .dataframe tbody tr th:only-of-type {\n",
       "        vertical-align: middle;\n",
       "    }\n",
       "\n",
       "    .dataframe tbody tr th {\n",
       "        vertical-align: top;\n",
       "    }\n",
       "\n",
       "    .dataframe thead th {\n",
       "        text-align: right;\n",
       "    }\n",
       "</style>\n",
       "<table border=\"1\" class=\"dataframe\">\n",
       "  <thead>\n",
       "    <tr style=\"text-align: right;\">\n",
       "      <th></th>\n",
       "      <th>language</th>\n",
       "      <th>simulation_number</th>\n",
       "      <th>mutual_information</th>\n",
       "      <th>entropy</th>\n",
       "      <th>conditional_entropy</th>\n",
       "    </tr>\n",
       "  </thead>\n",
       "  <tbody>\n",
       "    <tr>\n",
       "      <th>0</th>\n",
       "      <td>'Are'are</td>\n",
       "      <td>REAL</td>\n",
       "      <td>0.693147</td>\n",
       "      <td>0.693147</td>\n",
       "      <td>-0.000000</td>\n",
       "    </tr>\n",
       "    <tr>\n",
       "      <th>1</th>\n",
       "      <td>Abui</td>\n",
       "      <td>REAL</td>\n",
       "      <td>0.000000</td>\n",
       "      <td>0.000000</td>\n",
       "      <td>0.000000</td>\n",
       "    </tr>\n",
       "    <tr>\n",
       "      <th>2</th>\n",
       "      <td>Achinese</td>\n",
       "      <td>REAL</td>\n",
       "      <td>0.000000</td>\n",
       "      <td>0.000000</td>\n",
       "      <td>0.000000</td>\n",
       "    </tr>\n",
       "    <tr>\n",
       "      <th>3</th>\n",
       "      <td>Achuar</td>\n",
       "      <td>REAL</td>\n",
       "      <td>0.257123</td>\n",
       "      <td>1.504788</td>\n",
       "      <td>1.247665</td>\n",
       "    </tr>\n",
       "    <tr>\n",
       "      <th>4</th>\n",
       "      <td>Aché</td>\n",
       "      <td>REAL</td>\n",
       "      <td>0.779452</td>\n",
       "      <td>0.974315</td>\n",
       "      <td>0.194863</td>\n",
       "    </tr>\n",
       "    <tr>\n",
       "      <th>...</th>\n",
       "      <td>...</td>\n",
       "      <td>...</td>\n",
       "      <td>...</td>\n",
       "      <td>...</td>\n",
       "      <td>...</td>\n",
       "    </tr>\n",
       "    <tr>\n",
       "      <th>1151</th>\n",
       "      <td>Zabana_(Kia)</td>\n",
       "      <td>REAL</td>\n",
       "      <td>0.000000</td>\n",
       "      <td>0.000000</td>\n",
       "      <td>0.000000</td>\n",
       "    </tr>\n",
       "    <tr>\n",
       "      <th>1152</th>\n",
       "      <td>Zigula</td>\n",
       "      <td>REAL</td>\n",
       "      <td>0.000000</td>\n",
       "      <td>-0.000000</td>\n",
       "      <td>-0.000000</td>\n",
       "    </tr>\n",
       "    <tr>\n",
       "      <th>1153</th>\n",
       "      <td>Zinza</td>\n",
       "      <td>REAL</td>\n",
       "      <td>0.000000</td>\n",
       "      <td>0.000000</td>\n",
       "      <td>0.000000</td>\n",
       "    </tr>\n",
       "    <tr>\n",
       "      <th>1154</th>\n",
       "      <td>Zulu</td>\n",
       "      <td>REAL</td>\n",
       "      <td>1.039721</td>\n",
       "      <td>1.623862</td>\n",
       "      <td>0.584141</td>\n",
       "    </tr>\n",
       "    <tr>\n",
       "      <th>1155</th>\n",
       "      <td>Zuni</td>\n",
       "      <td>REAL</td>\n",
       "      <td>0.000000</td>\n",
       "      <td>0.000000</td>\n",
       "      <td>0.000000</td>\n",
       "    </tr>\n",
       "  </tbody>\n",
       "</table>\n",
       "<p>1156 rows × 5 columns</p>\n",
       "</div>"
      ],
      "text/plain": [
       "          language simulation_number  mutual_information   entropy  \\\n",
       "0         'Are'are              REAL            0.693147  0.693147   \n",
       "1             Abui              REAL            0.000000  0.000000   \n",
       "2         Achinese              REAL            0.000000  0.000000   \n",
       "3           Achuar              REAL            0.257123  1.504788   \n",
       "4             Aché              REAL            0.779452  0.974315   \n",
       "...            ...               ...                 ...       ...   \n",
       "1151  Zabana_(Kia)              REAL            0.000000  0.000000   \n",
       "1152        Zigula              REAL            0.000000 -0.000000   \n",
       "1153         Zinza              REAL            0.000000  0.000000   \n",
       "1154          Zulu              REAL            1.039721  1.623862   \n",
       "1155          Zuni              REAL            0.000000  0.000000   \n",
       "\n",
       "      conditional_entropy  \n",
       "0               -0.000000  \n",
       "1                0.000000  \n",
       "2                0.000000  \n",
       "3                1.247665  \n",
       "4                0.194863  \n",
       "...                   ...  \n",
       "1151             0.000000  \n",
       "1152            -0.000000  \n",
       "1153             0.000000  \n",
       "1154             0.584141  \n",
       "1155             0.000000  \n",
       "\n",
       "[1156 rows x 5 columns]"
      ]
     },
     "execution_count": 84,
     "metadata": {},
     "output_type": "execute_result"
    }
   ],
   "source": [
    "ics_real(all_kb_files)"
   ]
  },
  {
   "cell_type": "code",
   "execution_count": 96,
   "id": "89bd6cda",
   "metadata": {},
   "outputs": [
    {
     "data": {
      "text/html": [
       "<div>\n",
       "<style scoped>\n",
       "    .dataframe tbody tr th:only-of-type {\n",
       "        vertical-align: middle;\n",
       "    }\n",
       "\n",
       "    .dataframe tbody tr th {\n",
       "        vertical-align: top;\n",
       "    }\n",
       "\n",
       "    .dataframe thead th {\n",
       "        text-align: right;\n",
       "    }\n",
       "</style>\n",
       "<table border=\"1\" class=\"dataframe\">\n",
       "  <thead>\n",
       "    <tr style=\"text-align: right;\">\n",
       "      <th></th>\n",
       "      <th>language</th>\n",
       "      <th>simulation_number</th>\n",
       "      <th>mutual_information</th>\n",
       "      <th>CHECK mutual_information</th>\n",
       "      <th>entropy</th>\n",
       "      <th>conditional_entropy</th>\n",
       "    </tr>\n",
       "  </thead>\n",
       "  <tbody>\n",
       "    <tr>\n",
       "      <th>0</th>\n",
       "      <td>Nogai</td>\n",
       "      <td>0</td>\n",
       "      <td>0.0</td>\n",
       "      <td>0.0</td>\n",
       "      <td>1.039721</td>\n",
       "      <td>1.039721</td>\n",
       "    </tr>\n",
       "    <tr>\n",
       "      <th>1</th>\n",
       "      <td>Nogai</td>\n",
       "      <td>1</td>\n",
       "      <td>0.0</td>\n",
       "      <td>0.0</td>\n",
       "      <td>1.039721</td>\n",
       "      <td>1.039721</td>\n",
       "    </tr>\n",
       "    <tr>\n",
       "      <th>2</th>\n",
       "      <td>Nogai</td>\n",
       "      <td>2</td>\n",
       "      <td>0.0</td>\n",
       "      <td>0.0</td>\n",
       "      <td>1.039721</td>\n",
       "      <td>1.039721</td>\n",
       "    </tr>\n",
       "    <tr>\n",
       "      <th>3</th>\n",
       "      <td>Nogai</td>\n",
       "      <td>3</td>\n",
       "      <td>0.0</td>\n",
       "      <td>0.0</td>\n",
       "      <td>1.039721</td>\n",
       "      <td>1.039721</td>\n",
       "    </tr>\n",
       "    <tr>\n",
       "      <th>4</th>\n",
       "      <td>Nogai</td>\n",
       "      <td>4</td>\n",
       "      <td>0.0</td>\n",
       "      <td>0.0</td>\n",
       "      <td>1.039721</td>\n",
       "      <td>1.039721</td>\n",
       "    </tr>\n",
       "    <tr>\n",
       "      <th>5</th>\n",
       "      <td>Nogai</td>\n",
       "      <td>5</td>\n",
       "      <td>0.0</td>\n",
       "      <td>0.0</td>\n",
       "      <td>1.039721</td>\n",
       "      <td>1.039721</td>\n",
       "    </tr>\n",
       "    <tr>\n",
       "      <th>6</th>\n",
       "      <td>Nogai</td>\n",
       "      <td>6</td>\n",
       "      <td>0.0</td>\n",
       "      <td>0.0</td>\n",
       "      <td>1.039721</td>\n",
       "      <td>1.039721</td>\n",
       "    </tr>\n",
       "    <tr>\n",
       "      <th>7</th>\n",
       "      <td>Nogai</td>\n",
       "      <td>7</td>\n",
       "      <td>0.0</td>\n",
       "      <td>0.0</td>\n",
       "      <td>1.039721</td>\n",
       "      <td>1.039721</td>\n",
       "    </tr>\n",
       "    <tr>\n",
       "      <th>8</th>\n",
       "      <td>Nogai</td>\n",
       "      <td>8</td>\n",
       "      <td>0.0</td>\n",
       "      <td>0.0</td>\n",
       "      <td>1.039721</td>\n",
       "      <td>1.039721</td>\n",
       "    </tr>\n",
       "    <tr>\n",
       "      <th>9</th>\n",
       "      <td>Nogai</td>\n",
       "      <td>9</td>\n",
       "      <td>0.0</td>\n",
       "      <td>0.0</td>\n",
       "      <td>1.039721</td>\n",
       "      <td>1.039721</td>\n",
       "    </tr>\n",
       "  </tbody>\n",
       "</table>\n",
       "</div>"
      ],
      "text/plain": [
       "  language simulation_number  mutual_information  CHECK mutual_information  \\\n",
       "0    Nogai                 0                 0.0                       0.0   \n",
       "1    Nogai                 1                 0.0                       0.0   \n",
       "2    Nogai                 2                 0.0                       0.0   \n",
       "3    Nogai                 3                 0.0                       0.0   \n",
       "4    Nogai                 4                 0.0                       0.0   \n",
       "5    Nogai                 5                 0.0                       0.0   \n",
       "6    Nogai                 6                 0.0                       0.0   \n",
       "7    Nogai                 7                 0.0                       0.0   \n",
       "8    Nogai                 8                 0.0                       0.0   \n",
       "9    Nogai                 9                 0.0                       0.0   \n",
       "\n",
       "    entropy  conditional_entropy  \n",
       "0  1.039721             1.039721  \n",
       "1  1.039721             1.039721  \n",
       "2  1.039721             1.039721  \n",
       "3  1.039721             1.039721  \n",
       "4  1.039721             1.039721  \n",
       "5  1.039721             1.039721  \n",
       "6  1.039721             1.039721  \n",
       "7  1.039721             1.039721  \n",
       "8  1.039721             1.039721  \n",
       "9  1.039721             1.039721  "
      ]
     },
     "execution_count": 96,
     "metadata": {},
     "output_type": "execute_result"
    }
   ],
   "source": [
    "ics_simulation([file],10)"
   ]
  },
  {
   "cell_type": "code",
   "execution_count": 94,
   "id": "c0e72a18",
   "metadata": {},
   "outputs": [],
   "source": [
    "# testing purposes only\n",
    "\n",
    "from sklearn.metrics import mutual_info_score\n",
    "\n",
    "def easy_mi(pairs):\n",
    "        gn,gn1 = split_pairs(pairs)\n",
    "        mi = mutual_info_score(gn,gn1)\n",
    "\n",
    "        return mi"
   ]
  },
  {
   "cell_type": "markdown",
   "id": "5c4160b1",
   "metadata": {},
   "source": [
    "## TO DO\n",
    "\n",
    "*remove languages where there's no data (they output 0 and may be conflated with actual 0 score languages)\n",
    "*add commentary to final section\n",
    "*run!!!!!!!!!!!!!!!!"
   ]
  }
 ],
 "metadata": {
  "kernelspec": {
   "display_name": "Python 3 (ipykernel)",
   "language": "python",
   "name": "python3"
  },
  "language_info": {
   "codemirror_mode": {
    "name": "ipython",
    "version": 3
   },
   "file_extension": ".py",
   "mimetype": "text/x-python",
   "name": "python",
   "nbconvert_exporter": "python",
   "pygments_lexer": "ipython3",
   "version": "3.9.12"
  }
 },
 "nbformat": 4,
 "nbformat_minor": 5
}
