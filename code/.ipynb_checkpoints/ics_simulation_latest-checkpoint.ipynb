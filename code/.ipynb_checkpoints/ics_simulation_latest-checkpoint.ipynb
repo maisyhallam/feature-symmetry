{
 "cells": [
  {
   "cell_type": "code",
   "execution_count": null,
   "id": "169c3b9c",
   "metadata": {},
   "outputs": [],
   "source": [
    "import csv # for writing dataframes to csv\n",
    "import random # for making a random choice\n",
    "import os # for scanning directories\n",
    "import itertools\n",
    "import string # for generating strings\n",
    "from collections import Counter\n",
    "\n",
    "import kintypes as kt # bringing large lists of kin types into the namespace\n",
    "import math # for calculating logs\n",
    "import pandas as pd\n",
    "import re\n",
    "\n",
    "testing = False # set to True to run code blocks with tests and examples"
   ]
  },
  {
   "cell_type": "markdown",
   "id": "f8983359",
   "metadata": {},
   "source": [
    "# Internal co-selection\n",
    "\n",
    "Internal co-selection refers to the tendency for kinship systems to have cross-generational consistency in the terminological distinctions or mergers that are made. That is, if your parents' elder brothers share a kin term, then so too will their children. Or if your parents' sisters are distinguished from your parents' brothers, so too will their children be distinguished. \n",
    "\n",
    "Imagine a kinship system like so: as in English, you call your parents' brothers are  *uncles*, and their sisters *aunts*. You call the child of your uncle a *chuncle*, and the child of your aunt a *chaunt*. Thus, you make the same sorts of distinctions among your parents' siblings' generation of kin as are made among your own generation of kin - and you can be certain about which children belong to which parents as a result. This is an example of internal co-selection.\n",
    "\n",
    "In this notebook, we will gather information about the robustness of this tendency cross-linguistically, using data from Kinbank, a global database of kin terminology. We will also create simulations of existing kinship systems to find out whether internal co-selection is more common in kinship systems cross-linguistically (for a given amount of terminological variation) than we would expect by chance.\n",
    "\n",
    "We will measure internal co-selection in terms of the **mutual information** between Generation N and Generation N+1 in a particular kinship system. That tells us how much information can be gained from one generation by observing the other - how certain we can be about which children 'go with' which parents. This can be calculated as the **entropy** of one generation (how much unpredictable variation there is) minus the **conditional entropy** between the two generations (how much unpredictability remains in one generation after observing another).\n",
    "\n",
    "## The procedure\n",
    "\n",
    "To calculate the mutual information (MI) of a particular kinship system, we must perform the following steps:\n",
    "\n",
    "1. Extract kin terminology data from Kinbank for this language.\n",
    "2. Condense the full kinship system down to the terms we are interested in: Ego's generation and Ego's parents' generation.\n",
    "3. Calculate the probabilities of each kin term within the generation in which it belongs; and the probabilities of each parent-child pair.\n",
    "4. Calculate entropy, conditional entropy, subtract them from each other to get the mutual information of the system.\n",
    "\n",
    "After we get that going, we can do these same calculations on simulated kinship systems.\n",
    "\n",
    "### Extract kin terminology from Kinbank\n",
    "\n",
    "First, let's actually load our data in. The following function `get_kb_files()` pulls the full list of Kinbank filenames. Later, we can iterate through these to generate MI values for every language in our dataset."
   ]
  },
  {
   "cell_type": "code",
   "execution_count": null,
   "id": "bd79acfc",
   "metadata": {},
   "outputs": [],
   "source": [
    "def get_kb_files() -> list:\n",
    "    files = []\n",
    "    path = '../languages/kinbank'\n",
    "    directory = os.scandir(path)\n",
    "    for file in directory:\n",
    "        files.append(file.name)\n",
    "    return files\n",
    "\n",
    "all_kb_files = get_kb_files()"
   ]
  },
  {
   "cell_type": "markdown",
   "id": "ccc57e94",
   "metadata": {},
   "source": [
    "Using one of these filenames, we can extract the kin terminology from that file and populate a dictionary with it. We're only interested in two columns from the Kinbank data: `parameter`, which contains a short code indicating a **kin type**, and `word`, which contains the **kin term** associated with that kin type. An example of a row in the English data would be `mMeB, uncle`, where `mMeB` means 'male speaker's mother's older brother', and `uncle` is the term associated with that person."
   ]
  },
  {
   "cell_type": "code",
   "execution_count": null,
   "id": "187e540c",
   "metadata": {},
   "outputs": [],
   "source": [
    "def get_kin_terms(filepath: str) -> dict:\n",
    "    kin_system = {}\n",
    "    with open(filepath, encoding='utf8') as f:\n",
    "        csv_reader = csv.DictReader(f)\n",
    "        next(csv_reader) # to skip the header row\n",
    "        for line in csv_reader:\n",
    "            kin_type = line['parameter']\n",
    "            kin_term = line['word']\n",
    "            kin_system[kin_type] = kin_term\n",
    "    return kin_system"
   ]
  },
  {
   "cell_type": "markdown",
   "id": "dad884c7",
   "metadata": {},
   "source": [
    "Let's pick a random kinship system to test with throughout this notebook."
   ]
  },
  {
   "cell_type": "code",
   "execution_count": null,
   "id": "63a3e70c",
   "metadata": {},
   "outputs": [],
   "source": [
    "if testing:\n",
    "    \n",
    "    random.seed(47) # set a seed for reproducibility\n",
    "\n",
    "    file = random.choice(all_kb_files) # pick a random filename from all_kb_files\n",
    "\n",
    "    filepath = '../languages/kinbank/' # the filepath where the kinbank files are kept\n",
    "\n",
    "    k = get_kin_terms(filepath + file)\n",
    "\n",
    "    print(file,k)"
   ]
  },
  {
   "cell_type": "markdown",
   "id": "f29ac3ae",
   "metadata": {},
   "source": [
    "Our random language is Nogai, a Turkic language spoken in Southeastern European Russia, Kazakhstan, Uzbekistan, Ukraine, Bulgaria, Romania and Turkey. But as we can see from printing the system, there's a lot of extra kin terms here that we don't need for our experiment today. We're only interested in Ego and Ego's parents' generations, but the system contains kin types like `mS` (male speaker's son) or `mDD` (make speaker's daughter's daughter). In the next section, we'll reduce `k` down to just the terms we're interested in.\n",
    "\n",
    "### Condense the system down\n",
    "\n",
    "The list of possible **kin types** is far larger and more unwieldy than the set of **kin terms** in any language. For instance, while 'father's elder brother' and 'father's younger brother' are not distinguished in English (both take the term *uncle*), these distinctions are indeed encoded by terminology in other languages, like Hindi.\n",
    "\n",
    "In the Kinbank datasets, kin types are recorded even if they are not distinguished terminologically in a given language. Thus, the English data has an entry for father's elder and younger brothers, and for father's elder and younger brother's sons and daughters. As a result, our dictionary `k` will have many duplicate entries. To avoid overinflating the amount of variation in each language later on, we want to filter out these duplicate entries at this point.\n",
    "\n",
    "Instead, in `kintypes.py`, another file in this directory, I have created some data structures which group together kin types - so father's brother, father's elder brother, and father's younger brother are grouped together. The following code takes these data structures, compares them against the full kinship system we extracted above, and in the case of a match within these groups, it discards any duplicates and takes only the first matching entry.\n",
    "\n",
    "We do this separately for Ego's generation and Ego's parents' generation because we want the Ego generation entries to match their parents - that is, we only want to have mother's elder brother's son if we also have mother's elder brother in the system."
   ]
  },
  {
   "cell_type": "code",
   "execution_count": null,
   "id": "d5a7cc5a",
   "metadata": {},
   "outputs": [],
   "source": [
    "def filter_gn(cous: dict, filtered_ks: dict,ks):\n",
    "    for kin in cous:\n",
    "        kl = cous[kin]\n",
    "        if kin in filtered_ks:\n",
    "            if kl[1] in ks and kl[2] in ks:\n",
    "                if ks[kl[1]] == ks[kl[2]]:\n",
    "                    filtered_ks[kl[0]] = ks[kl[1]]\n",
    "                else:\n",
    "                    filtered_ks[kl[1]] = ks[kl[1]]\n",
    "                    filtered_ks[kl[2]] = ks[kl[2]]\n",
    "        \n",
    "            elif kl[0] in ks:\n",
    "                filtered_ks[kl[0]] = ks[kl[0]]\n",
    "            \n",
    "            else:\n",
    "                pass"
   ]
  },
  {
   "cell_type": "code",
   "execution_count": null,
   "id": "319d4bce",
   "metadata": {},
   "outputs": [],
   "source": [
    "def filter_gn1(par_sib,filtered_ks,ks):\n",
    "    \n",
    "    for kin in par_sib:\n",
    "        kin_list = par_sib[kin]\n",
    "        if kin_list[1] in ks and kin_list[2] in ks:\n",
    "            if ks[kin_list[1]] == ks[kin_list[2]]:\n",
    "                    filtered_ks[kin_list[0]] = ks[kin_list[1]]\n",
    "            else:\n",
    "                filtered_ks[kin_list[1]] = ks[kin_list[1]]\n",
    "                filtered_ks[kin_list[2]] = ks[kin_list[2]]\n",
    "                \n",
    "        elif kin_list[0] in ks:\n",
    "            filtered_ks[kin_list[0]] = ks[kin_list[0]]\n",
    "        \n",
    "        else:\n",
    "            pass    "
   ]
  },
  {
   "cell_type": "code",
   "execution_count": null,
   "id": "8199bfaf",
   "metadata": {},
   "outputs": [],
   "source": [
    "def filter_ks(ks):\n",
    "    filtered_ks = {}\n",
    "    \n",
    "    filter_gn1(kt.Mpar_sib,filtered_ks,ks)\n",
    "    filter_gn1(kt.Fpar_sib,filtered_ks,ks)\n",
    "        \n",
    "    filter_gn(kt.cousMS,filtered_ks,ks)\n",
    "    filter_gn(kt.cousMD,filtered_ks,ks)\n",
    "    \n",
    "    filter_gn(kt.cousFS,filtered_ks,ks)\n",
    "    filter_gn(kt.cousFD,filtered_ks,ks)\n",
    "    \n",
    "       \n",
    "    return filtered_ks"
   ]
  },
  {
   "cell_type": "code",
   "execution_count": null,
   "id": "150ccf9b",
   "metadata": {},
   "outputs": [],
   "source": [
    "if testing:\n",
    "    k = filter_ks(k)\n",
    "    print(k)"
   ]
  },
  {
   "cell_type": "markdown",
   "id": "74f3d8cc",
   "metadata": {},
   "source": [
    "Now we have our kinship system filtered for relevant terms and duplicates, we also want to create a data structure that pairs up these terms for us. In `kintypes`, you will also find **a list of pairs of kin types**, where the first element in the pair is a parent type, and the second is their child; e.g. `mMeB` and `mMeBD` (mother's elder brother and mother's elder brother's daughter). We will be filtering our full kinship system `k` according to this list of pairs. This is because we're interested in whether kinship systems maintain patterns of terminological distinctions and mergers across these two generations, we will need to know which parent terms 'go with' which child terms.\n",
    "\n",
    "The following function takes a kinship system as input, and outputs a list of tuples. The first element in the tuple is the parent term, the second is the corresponding child term. \n",
    "\n",
    "We also perform a check on the number of different kin types from Ego's parents' generation included across all the pairs in the kinship system. As has been established, the Kinbank data is very broad but not 100% complete for every language recorded. So, if the only pairs we are able to extract from the data include Ego's mother and father **and no other member of Ego's parents' generation** we will not continue to analyse this language, as this is not sufficient evidence to identify internal co-selection."
   ]
  },
  {
   "cell_type": "code",
   "execution_count": null,
   "id": "fe182e1f",
   "metadata": {},
   "outputs": [],
   "source": [
    "def get_pairs(ks: dict) -> list:\n",
    "    pairs_of_terms = []\n",
    "    parent_types = []\n",
    "\n",
    "    for pair in kt.ics_pairs:\n",
    "        if pair[0] in ks and pair[1] in ks:\n",
    "            pairs_of_terms.append((ks[pair[0]],ks[pair[1]]))\n",
    "            parent_types.append(pair[0])\n",
    "            \n",
    "    if len(set(parent_types)) > 4:\n",
    "        return pairs_of_terms\n"
   ]
  },
  {
   "cell_type": "markdown",
   "id": "975bb747",
   "metadata": {},
   "source": [
    "But for our calculations, we'll still need to know which terms belong to which generation. Luckily, we know that the 0th element in each tuple is from Ego's parents' generation and the 1st element is from Ego's generation. So we can happily split these tuples down the middle and populate two lists with the terms."
   ]
  },
  {
   "cell_type": "code",
   "execution_count": null,
   "id": "6ede57c4",
   "metadata": {},
   "outputs": [],
   "source": [
    "def split_pairs(pairs: list) -> list:\n",
    "    gn = []\n",
    "    gn1 = []\n",
    "    for pair in pairs:\n",
    "        gn.append(pair[1])\n",
    "        gn1.append(pair[0])\n",
    "    \n",
    "    return gn,gn1"
   ]
  },
  {
   "cell_type": "markdown",
   "id": "fd3e1058",
   "metadata": {},
   "source": [
    "To illustrate what these functions do, let's test them out with our random kinship system, `k`."
   ]
  },
  {
   "cell_type": "code",
   "execution_count": null,
   "id": "cc7c847c",
   "metadata": {},
   "outputs": [],
   "source": [
    "if testing:\n",
    "    \n",
    "    k_pairs = get_pairs(k)\n",
    "    print(k_pairs)"
   ]
  },
  {
   "cell_type": "code",
   "execution_count": null,
   "id": "1e3924bc",
   "metadata": {},
   "outputs": [],
   "source": [
    "if testing:\n",
    "    \n",
    "    k_gn,k_gn1 = split_pairs(k_pairs)\n",
    "\n",
    "    print(\"Ego's generation: \", k_gn, '\\n')\n",
    "\n",
    "    print(\"Ego's parents' generation: \", k_gn1)"
   ]
  },
  {
   "cell_type": "markdown",
   "id": "d98db6f2",
   "metadata": {},
   "source": [
    "`get_pairs()` gives us a long list of pairs, with lots of repetition. This is because some kin types will correspond to the same kin term in a language. For example, in English, mother's elder brother, mother's younger brother, father's elder brother and father's younger brother all correspond to the term 'uncle'. All of those people's children correspond to the word 'cousin'! So we'll end up with duplicate entries for these terms in some languages, but not all.\n",
    "\n",
    "`split_pairs()` takes this long list of pairs and sorts it into terms that belong to Ego's generation and terms that belong to Ego's parents' generation. Importantly, since the order of the `pairs` list is preserved when we run `split_generations()`, we can still work out which terms form a parent-child pair by indexing `gn` and `gn1`.\n",
    "\n",
    "Now we have our data structures, we can start to do some calculations.\n",
    "\n",
    "### Calculating probabilities"
   ]
  },
  {
   "cell_type": "markdown",
   "id": "79314427",
   "metadata": {},
   "source": [
    "To calculate entropy, we need a probability distribution over the terms in one single generation of a kinship system. So let's start with a function that can calculate the probability of a particular term.\n",
    "\n",
    "Given a term and the full list of terms in the same generation, this function counts how many times that term exists in `generation` and divides that by the total length of `generation`."
   ]
  },
  {
   "cell_type": "code",
   "execution_count": null,
   "id": "1f0bd92c",
   "metadata": {},
   "outputs": [],
   "source": [
    "def probability(term: str, generation: list) -> float:\n",
    "    return generation.count(term)/len(generation)"
   ]
  },
  {
   "cell_type": "markdown",
   "id": "97324517",
   "metadata": {},
   "source": [
    "So if we pick a term at random from our Nogai kinship system, it will output the probability of picking that term."
   ]
  },
  {
   "cell_type": "code",
   "execution_count": null,
   "id": "bb7e5a39",
   "metadata": {},
   "outputs": [],
   "source": [
    "if testing:\n",
    "    k_term = random.choice(k_gn1)\n",
    "    print(k_term, probability(k_term,k_gn1))"
   ]
  },
  {
   "cell_type": "markdown",
   "id": "2d63468b",
   "metadata": {},
   "source": [
    "When calculating mutual information, we also need the **conditional entropy** of our system. To calculate this, we will need not only the probabilities of terms in a generation, but also the **joint probabilities** of every pair of terms across those two generations. In other words, we need to calculate the probabilities of our `pairs` output by `get_pairs`.\n",
    "\n",
    "Given two terms, this function counts how many pairs made of those two terms exist in `pairs`, then divides that by the total length of `pairs`."
   ]
  },
  {
   "cell_type": "code",
   "execution_count": null,
   "id": "b878e2f1",
   "metadata": {},
   "outputs": [],
   "source": [
    "def joint_probability(term1: str, term2: str, pairs: list) -> float:\n",
    "    pair = (term1,term2)\n",
    "    return pairs.count(pair)/len(pairs)"
   ]
  },
  {
   "cell_type": "markdown",
   "id": "e4e21575",
   "metadata": {},
   "source": [
    "Once again, we can test this with a random pair from our Nogai list of pairs:"
   ]
  },
  {
   "cell_type": "code",
   "execution_count": null,
   "id": "bb88183e",
   "metadata": {},
   "outputs": [],
   "source": [
    "if testing:\n",
    "    for pair in set(k_pairs):\n",
    "        print(pair, joint_probability(pair[0],pair[1],k_pairs))"
   ]
  },
  {
   "cell_type": "markdown",
   "id": "2d1da569",
   "metadata": {},
   "source": [
    "Now we can calculate probabilities, we can use these functions to calculate entropy, conditional entropy, and mutual information.\n",
    "\n",
    "### Calculating entropy and mutual information\n",
    "\n",
    "Entropy is defined as \n",
    "\n",
    "**INSERT EQUATION HERE LOL**\n",
    "\n",
    "or, in English, it is the inverse sum over a distribution X of the probability of y * the log probability of y.\n",
    "\n",
    "Entropy is a measure of the average level of uncertainty about the possible outcomes of a variable.\n",
    "\n",
    "The functions we defined above only calculate a single probability at a time, so our next functions will need to iterate over the kinship system in order to have a full probability distribution. First, let's define a function that will iterate over a generation of the kinship system to output the entropy of that generation. \n",
    "\n",
    "Note: we only need one generation's entropy score to calculate mutual information - we will make the arbitrary choice to calculate the entropy of Ego's parents' generation later in this notebook."
   ]
  },
  {
   "cell_type": "code",
   "execution_count": null,
   "id": "75d59325",
   "metadata": {},
   "outputs": [],
   "source": [
    "def entropy(generation: list) -> list:\n",
    "    entropy = 0\n",
    "    for term in set(generation): # using a set as we want to count each unique term only once\n",
    "        p = probability(term,generation)\n",
    "        #print('entropy of',term,p*math.log(p))\n",
    "        entropy += p*math.log2(p)\n",
    "    return -entropy"
   ]
  },
  {
   "cell_type": "code",
   "execution_count": null,
   "id": "2b25f7eb",
   "metadata": {},
   "outputs": [],
   "source": [
    "if testing:\n",
    "    entropy(k_gn1)"
   ]
  },
  {
   "cell_type": "markdown",
   "id": "476a2f49",
   "metadata": {},
   "source": [
    "Moving on, conditional entropy is defined as\n",
    "\n",
    "**ANOTHER EQUATION PLEASE**\n",
    "\n",
    "or in English, the inverse sum over two distributions Y and X of the probability of each y * the log probability of each y given x.\n",
    "\n",
    "Conditional entropy is the amount of information needed to describe the outcome of a random variable Y given that we already know the value of another random variable X.\n",
    "\n",
    "To calculate it, we need the joint probability of each pair (given by `joint_probability()`) and the probability of one member of that pair (given by `probability()`). We can then calculate the conditional probability of parent term given child term as the joint probability of those terms over the probability of the parent term.\n",
    "\n",
    "As before, we will define a function that iterates over all pairs to output the conditional entropy of Ego's generation given Ego's parents' generation."
   ]
  },
  {
   "cell_type": "code",
   "execution_count": null,
   "id": "67cc6ce2",
   "metadata": {},
   "outputs": [],
   "source": [
    "def conditional_entropy(gn: list, pairs:list) -> float:\n",
    "    entropy = 0\n",
    "    for x,y in set(pairs): # x = parent, y = child\n",
    "        p_xy = joint_probability(x,y,pairs)\n",
    "        p_y = probability(y,gn)\n",
    "        if p_xy > 0 and p_y > 0:\n",
    "            #print('p(', x, '|', y,') = ', p_xy/p_y, 'p(y) = ', p_y)\n",
    "            entropy += p_xy * math.log2(p_xy/p_y)\n",
    "    return -entropy"
   ]
  },
  {
   "cell_type": "code",
   "execution_count": null,
   "id": "105eaf99",
   "metadata": {},
   "outputs": [],
   "source": [
    "if testing:\n",
    "    conditional_entropy(k_gn,k_pairs)"
   ]
  },
  {
   "cell_type": "markdown",
   "id": "63ef71be",
   "metadata": {},
   "source": [
    "Finally, mutual information is defined as\n",
    "\n",
    "**LAST EQUATION**\n",
    "\n",
    "or in English, entropy of X minus the conditional entropy of X given Y.\n",
    "\n",
    "In this study, it is equal to the entropy of Ego's parents' generation minus the conditional entropy of Ego's parents' generation given Ego's generation. It tells us how much mutual dependence there is between these two generations; i.e. how much we can know about one by observing the other.\n",
    "\n",
    "So long as we make sure to input the right entropy and conditional entropy values, we only need a simple function for this one:"
   ]
  },
  {
   "cell_type": "code",
   "execution_count": null,
   "id": "52b353c5",
   "metadata": {},
   "outputs": [],
   "source": [
    "def mutual_information(pairs: list):\n",
    "    gn,gn1 = split_pairs(pairs)\n",
    "    e = entropy(gn1)\n",
    "    ce = conditional_entropy(gn,pairs)\n",
    "    mi = e - ce\n",
    "    return mi"
   ]
  },
  {
   "cell_type": "code",
   "execution_count": null,
   "id": "f82cb8de",
   "metadata": {},
   "outputs": [],
   "source": [
    "if testing:\n",
    "    print(mutual_information(k_pairs))"
   ]
  },
  {
   "cell_type": "markdown",
   "id": "83c9f722",
   "metadata": {},
   "source": [
    "Because entropy of Ego's parents' generation in Nogai and conditional entropy for Nogai are equal, the mutual information is 0. In other words, there is no mutual dependence between Ego's generation and Ego's parents' generation in Nogai.\n",
    "\n",
    "And there we have it! Step 4 complete. We can now take any Kinbank file and output the mutual information between Ego's generation and Ego's parents' generation in that language.\n",
    "\n",
    "But right at the beginning of this notebook, I mentioned using **simulations** to test the robustness of our claim that languages exhibit internal co-selection in their kinship systems. These simulations give us a baseline with which to compare the MI scores of real languages. Do languages across the world have greater mutual information between two generations than we would expect by chance?\n",
    "\n",
    "## Simulations\n",
    "\n",
    "If we want to argue that internal co-selection is a product of cultural evolution, we need to dispel the possibility that it occurs by chance.\n",
    "\n",
    "To get an idea of what chance is, we need to create some randomly generated kinship systems. We can compare the MI of these simulations to the real languages to see whether the real languages have significantly greater mutual information between generations.\n",
    "\n",
    "An important aspect of MI that we have not discussed so far: it is dependent on the amount of variation within the kinship system. A system with only one unique term in each generation would have MI of 0, which seems pretty terrible! But given this very limited variation (indeed, no variation), 0 is the highest MI such a language could have. As such, we perhaps need to modify our claim that kinship systems have \"high MI\" to be more specific: kinship systems in the wild have high MI *for the amount of variation in terminology they have*.\n",
    "\n",
    "To compare real languages to simulations, we need a simulation which maintains the number of terms while randomising which child terms pair with which parent terms. To do this, we will take each language in our data, and randomly scramble which terms go with which types (within generation). This will randomise the syncretisms within the generations while maintaining the same amount of variation across the system overall.\n",
    "\n",
    "To do this, we need to take the following steps:\n",
    "\n",
    "1. Extract the kinship system of a language from kinbank (check!)\n",
    "2. Filter the two generations we are interested in (check!)\n",
    "3. Randomly reassign the kinship terms to new types.\n",
    "4. Repeat the process a bunch of times for each language.\n",
    "\n",
    "We already have the infrastructure for the first two! `get_kin_terms()`,  `get_pairs()` and `split_pairs()` will do this for us. So let's skip to 3, and write a function that randomises which terms form pairs, assuming that we have already extracted the kinship system and filtered the relevant pairs.\n",
    "\n",
    "Remember that the order of `pairs` is preserved when we run `split_pairs()`. So when we pass `gn` and `gn1` to `shuffle_pairs()`, we know that we can re-unite our pairs by using the same index. Equally, when we shuffle `gn` and `gn1` in place, we know that we can safely combine them to make a new, randomised pair in place of the 'real' Nogai pair."
   ]
  },
  {
   "cell_type": "code",
   "execution_count": null,
   "id": "404f9209",
   "metadata": {},
   "outputs": [],
   "source": [
    "# def shuffle_pairs(gn,gn1):\n",
    "#     random.shuffle(gn)\n",
    "#     random.shuffle(gn1)\n",
    "#     random_pairs = []\n",
    "#     for x,y in zip(gn,gn1):\n",
    "#         random_pairs.append((y,x))\n",
    "#     return random_pairs"
   ]
  },
  {
   "cell_type": "code",
   "execution_count": null,
   "id": "f6de1ffc",
   "metadata": {},
   "outputs": [],
   "source": [
    "def shuffle_pairs(pairs):\n",
    "    gn,gn1 = split_pairs(pairs)\n",
    "    random.shuffle(gn)\n",
    "    #print(Counter(gn))\n",
    "    random_pairs = []\n",
    "    \n",
    "    for pair in set(pairs):\n",
    "        #print(term)\n",
    "        #for i in range(gn1.count(term)): # however many times this term forms a unique pair\n",
    "        new_pair = pick_new_pair(random_pairs,gn,pair[0])\n",
    "        for i in range(pairs.count(pair)):\n",
    "            random_pairs.append(new_pair)\n",
    "        \n",
    "            \n",
    "    return random_pairs"
   ]
  },
  {
   "cell_type": "code",
   "execution_count": null,
   "id": "4bcc30c5",
   "metadata": {},
   "outputs": [],
   "source": [
    "# def shuffle_pairs(pairs):\n",
    "#     gn,gn1 = split_pairs(pairs)\n",
    "#     print(Counter(gn))\n",
    "#     new_pairs = []\n",
    "#     for pair in set(pairs):\n",
    "#         choices = list(set(gn))\n",
    "#         random_term = random.choice(choices)\n",
    "#         new_pair = (pair[0],random_term)\n",
    "#         print(new_pair)\n",
    "#         for x in pairs:\n",
    "#             if x == pair:\n",
    "#                 new_pairs.append(new_pair)\n",
    "#     #print(new_pairs)\n",
    "#     return new_pairs"
   ]
  },
  {
   "cell_type": "code",
   "execution_count": null,
   "id": "41c20189",
   "metadata": {},
   "outputs": [],
   "source": [
    "def pick_new_pair(random_pairs,gn,term):\n",
    "    choices = gn\n",
    "    random_term = random.choice(choices)\n",
    "    pair = (term,random_term)\n",
    "    if pair in random_pairs:\n",
    "        return pick_new_pair(random_pairs,choices,term)\n",
    "    else:\n",
    "        gn.remove(random_term)\n",
    "        return pair"
   ]
  },
  {
   "cell_type": "code",
   "execution_count": null,
   "id": "ef3005fc",
   "metadata": {},
   "outputs": [],
   "source": [
    "if testing:\n",
    "    sim_pairs = shuffle_pairs(k_gn,k_gn1)\n",
    "    sim_gn,sim_gn1 = split_pairs(sim_pairs)\n",
    "    print(Counter(sim_gn1))\n",
    "    print(sim_pairs)\n"
   ]
  },
  {
   "cell_type": "markdown",
   "id": "f56b6ea6",
   "metadata": {},
   "source": [
    "Now we can treat `sim_pairs` just as we treated `pairs`! Let's calculate the entropy, conditional entropy, and mutual information of this simulated system."
   ]
  },
  {
   "cell_type": "code",
   "execution_count": null,
   "id": "ffc70307",
   "metadata": {},
   "outputs": [],
   "source": [
    "if testing:\n",
    "    sim_gn,sim_gn1 = split_pairs(sim_pairs)\n",
    "    e = entropy(sim_gn1)\n",
    "    ce = conditional_entropy(sim_gn,sim_pairs)\n",
    "    mi = mutual_information(sim_pairs)\n",
    "    print(e,ce,mi)"
   ]
  },
  {
   "cell_type": "code",
   "execution_count": null,
   "id": "7d7b8d4d",
   "metadata": {},
   "outputs": [],
   "source": [
    "if testing:\n",
    "    sim_pairs = shuffle_pairs(k_pairs)\n",
    "    sim_gn,sim_gn1 = split_pairs(sim_pairs)\n",
    "    e = entropy(sim_gn1)\n",
    "    ce = conditional_entropy(sim_gn,sim_pairs)\n",
    "    mi = mutual_information(sim_pairs)\n",
    "    print(e,ce,mi)\n",
    "    print(len(k_pairs),len(sim_pairs))"
   ]
  },
  {
   "cell_type": "markdown",
   "id": "4fae6cfd",
   "metadata": {},
   "source": [
    "Wait! Some of these values are exactly the same as the real Nogai kinship system! I thought this was a randomised simulation - what gives? \n",
    "\n",
    "Variation gives! Entropy remains the same regardless, because the amount of variation in the simulation **does not change** by design.\n",
    "\n",
    "The MI of these two systems (and by extension, the conditional entropy) **does** vary, which is what we want. Let's try with another language:"
   ]
  },
  {
   "cell_type": "code",
   "execution_count": null,
   "id": "7dd8479b",
   "metadata": {},
   "outputs": [],
   "source": [
    "if testing:\n",
    "    random.seed(11)\n",
    "    file2 = random.choice(all_kb_files)\n",
    "    print(file2)\n",
    "    k2 = filter_ks(get_kin_terms(filepath + file2))\n",
    "\n",
    "    k2_pairs = get_pairs(k2)\n",
    "    k2_gn,k2_gn1 = split_pairs(k2_pairs)\n",
    "    k2_e = entropy(k2_gn1)\n",
    "    k2_ce = conditional_entropy(k2_gn,k2_pairs)\n",
    "    k2_mi = mutual_information(k2_pairs)\n",
    "    \n",
    "    k2_sim = shuffle_pairs(k2_pairs)\n",
    "    k2_sim_gn,k2_sim_gn1 = split_pairs(k2_sim)\n",
    "    k2_sim_e = entropy(k2_sim_gn1)\n",
    "    k2_sim_ce = conditional_entropy(k2_sim_gn,k2_sim)\n",
    "    k2_sim_mi = mutual_information(k2_sim)\n",
    "    \n",
    "    print('Sungwaloge:', k2_e,k2_ce,k2_mi)\n",
    "    print('Simulation:',k2_sim_e,k2_sim_ce,k2_sim_mi)\n",
    "    \n",
    "    print(len(k2_sim),len(k2_pairs))\n",
    "    \n",
    "    for i in k2_pairs:\n",
    "        if i not in k2_sim:\n",
    "            print(i)\n",
    "            \n",
    "    for i in k2_sim:\n",
    "        if i not in k2_pairs:\n",
    "            print(i)\n"
   ]
  },
  {
   "cell_type": "markdown",
   "id": "be79186d",
   "metadata": {},
   "source": [
    "Now we see that while the entropy of our new language, Sungwaloge, and its simulation are equal, the conditional entropy for the simulation is greater and therefore the mutual information of the simulation is lower. What about if we did this 1000 times? How often would the mutual information of the simulation be lower then?\n",
    "\n",
    "## Tidying up\n",
    "\n",
    "We have all the pieces we need now to calculate MI and simulate kinship systems - all we need to do is write a few more functions that stick all of those pieces together in a neat parcel.\n",
    "\n",
    "First, a function that takes pairs and spits out entropy, conditional entropy, and MI:"
   ]
  },
  {
   "cell_type": "markdown",
   "id": "b7ef1a0e",
   "metadata": {},
   "source": [
    "Second, a function that builds a simulated list of pairs when we pass in a kinship system:"
   ]
  },
  {
   "cell_type": "code",
   "execution_count": null,
   "id": "efa525cf",
   "metadata": {},
   "outputs": [],
   "source": [
    "def simulate_ks(ks: dict) -> list:\n",
    "    pairs = get_pairs(ks)\n",
    "    if pairs:\n",
    "        #gn,gn1 = split_pairs(pairs)\n",
    "        simulation = shuffle_pairs(pairs)\n",
    "        return simulation"
   ]
  },
  {
   "cell_type": "code",
   "execution_count": null,
   "id": "fe35dff2",
   "metadata": {},
   "outputs": [],
   "source": [
    "def write_data(pairs,results):\n",
    "    gn,gn1 = split_pairs(pairs)\n",
    "    egn = entropy(gn)\n",
    "    egn1 = entropy(gn1)\n",
    "    ce = conditional_entropy(gn,pairs)\n",
    "    mi = mutual_information(pairs)\n",
    "    \n",
    "    results['mutual_information'] = mi\n",
    "    results['entropy_gn'] = egn\n",
    "    results['entropy_gn1'] = egn1\n",
    "    results['conditional_entropy'] = ce\n",
    "    results['variation_gn'] = len(set(gn))\n",
    "    results['variation_gn1'] = len(set(gn1))\n",
    "    results['number_of_pairs'] = len(set(pairs))\n",
    "    \n",
    "    return results"
   ]
  },
  {
   "cell_type": "markdown",
   "id": "6d3deafb",
   "metadata": {},
   "source": [
    "And a couple of functions that put everything together, saves the results to a separate file, and output a `pandas` dataframe so that we can take a good look. `ics_simulation` takes the full list of Kinbank filenames, extracts the relevant kin terms, performs the randomisation simulation on it a specified number of times, calculates entropy, conditional entropy, and MI for each simulation, and saves all that data to a separate file. It also performs some regex magic on the filename so that we get each language's unique code as well as each language's name in full."
   ]
  },
  {
   "cell_type": "code",
   "execution_count": null,
   "id": "9064c34e",
   "metadata": {},
   "outputs": [],
   "source": [
    "def ics_simulation(filepath,all_files:list, times):\n",
    "    df = []\n",
    "    \n",
    "    for file in all_files:\n",
    "        match = re.search('[a-z]{4}[0-9]{4}', file)\n",
    "        code = match.group()\n",
    "        language = file.split('_' + code)[0]\n",
    "        \n",
    "        ks = filter_ks(get_kin_terms(filepath + file))\n",
    "\n",
    "        for i in range(times):\n",
    "            pairs = simulate_ks(ks)\n",
    "            if pairs:\n",
    "                results = {}\n",
    "                results['language'] = language\n",
    "                results['simulation_code'] = code + '_' + str(i)\n",
    "                results['simulation'] = 'Y'\n",
    "                write_data(pairs,results)\n",
    "\n",
    "                df.append(results)\n",
    "    \n",
    "    pd.DataFrame(df).to_csv('../data/raw/ics_sims.csv',index=False)\n",
    "    \n",
    "    return pd.DataFrame(df)"
   ]
  },
  {
   "cell_type": "markdown",
   "id": "e95579fa",
   "metadata": {},
   "source": [
    "`ics_real` performs similarly to `ics_simulation`, but instead of performing the randomisation, it calculates entropy, conditional entropy, and MI for the language as-is. It does this for every file in the Kinbank data and saves the data to a separate file."
   ]
  },
  {
   "cell_type": "code",
   "execution_count": null,
   "id": "924ce47c",
   "metadata": {},
   "outputs": [],
   "source": [
    "def ics_real(filepath,all_files):\n",
    "    df = []\n",
    "    \n",
    "    for file in all_files:\n",
    "        match = re.search(\"[a-z]{4}[0-9]{4}[a-z]?\", file)\n",
    "        code = match.group()\n",
    "        language = file.split('_' + code)[0]\n",
    "        \n",
    "        ks = filter_ks(get_kin_terms(filepath + file))\n",
    "        pairs = get_pairs(ks)\n",
    "        \n",
    "        if pairs: # if pairs is not empty\n",
    "            mi = mutual_information(pairs)\n",
    "\n",
    "            results = {}\n",
    "            results['language'] = language\n",
    "            results['simulation_code'] = code + '_REAL'\n",
    "            results['simulation'] = 'N'\n",
    "            write_data(pairs,results)\n",
    "\n",
    "            df.append(results)\n",
    "        \n",
    "    pd.DataFrame(df).to_csv('../data/raw/ics_real.csv',index=False)\n",
    "    #print(len(df))\n",
    "    \n",
    "    return pd.DataFrame(df)"
   ]
  },
  {
   "cell_type": "markdown",
   "id": "0b91e834",
   "metadata": {},
   "source": [
    "## Let's go!\n",
    "\n",
    "If we want to create a dataset from the real language data, we just have to run:"
   ]
  },
  {
   "cell_type": "code",
   "execution_count": null,
   "id": "148423d0",
   "metadata": {},
   "outputs": [],
   "source": [
    "filepath = '../languages/kinbank/' # the filepath where the kinbank files are kept\n",
    "\n",
    "# ics_real(filepath,all_kb_files)"
   ]
  },
  {
   "cell_type": "markdown",
   "id": "1ae6e85b",
   "metadata": {},
   "source": [
    "And if we want to run a simulation on a single file:"
   ]
  },
  {
   "cell_type": "code",
   "execution_count": null,
   "id": "53d51a6e",
   "metadata": {},
   "outputs": [],
   "source": [
    "if testing:\n",
    "    ics_simulation([file2],100)"
   ]
  },
  {
   "cell_type": "markdown",
   "id": "d25eb5ca",
   "metadata": {},
   "source": [
    "And finally, the full set of simulations from all the kinbank data, run 1000 times on each language."
   ]
  },
  {
   "cell_type": "code",
   "execution_count": null,
   "id": "f227b89c",
   "metadata": {
    "scrolled": true
   },
   "outputs": [],
   "source": [
    "ics_simulation(filepath,all_kb_files,1000)"
   ]
  },
  {
   "cell_type": "markdown",
   "id": "70043607",
   "metadata": {},
   "source": [
    "### Notes\n",
    "\n",
    "*If a term only pairs with one other term in the real language, it should still only pair with one term in the simulation. What that term is can vary! But not how many terms it pairs with.\n",
    "*Maybe need to filter for meaningless duplicates e.g. English only has one term for meB and myB, but I'm still extracting both\n",
    "\n",
    "What would a function look like that filtered each language for the kin types it actually meaningfully has?"
   ]
  },
  {
   "cell_type": "code",
   "execution_count": null,
   "id": "c789ff49",
   "metadata": {},
   "outputs": [],
   "source": [
    "newk = filter_ks(k)"
   ]
  },
  {
   "cell_type": "code",
   "execution_count": null,
   "id": "ba984d2d",
   "metadata": {},
   "outputs": [],
   "source": [
    "newk_pairs = get_pairs(newk)\n",
    "\n",
    "newk_gn,newk_gn1 = split_pairs(newk_pairs)\n",
    "\n",
    "print(newk_pairs)"
   ]
  },
  {
   "cell_type": "code",
   "execution_count": null,
   "id": "256831bf",
   "metadata": {},
   "outputs": [],
   "source": [
    "print(entropy(newk_gn1), mutual_information(newk_pairs))"
   ]
  },
  {
   "cell_type": "code",
   "execution_count": null,
   "id": "c2a742ed",
   "metadata": {},
   "outputs": [],
   "source": [
    "sim_newk = simulate_ks(newk)"
   ]
  },
  {
   "cell_type": "code",
   "execution_count": null,
   "id": "83e51394",
   "metadata": {},
   "outputs": [],
   "source": [
    "snewk_gn,snewk_gn1 = split_pairs(sim_newk)"
   ]
  },
  {
   "cell_type": "code",
   "execution_count": null,
   "id": "c2bb0278",
   "metadata": {},
   "outputs": [],
   "source": [
    "print(entropy(snewk_gn1),mutual_information(sim_newk))"
   ]
  },
  {
   "cell_type": "code",
   "execution_count": null,
   "id": "27c81ddf",
   "metadata": {},
   "outputs": [],
   "source": [
    "print(newk_pairs,'\\n\\n',sim_newk)\n",
    "\n",
    "print(Counter(newk_gn),Counter(snewk_gn))"
   ]
  },
  {
   "cell_type": "code",
   "execution_count": null,
   "id": "7b93206f",
   "metadata": {},
   "outputs": [],
   "source": []
  }
 ],
 "metadata": {
  "kernelspec": {
   "display_name": "Python 3 (ipykernel)",
   "language": "python",
   "name": "python3"
  },
  "language_info": {
   "codemirror_mode": {
    "name": "ipython",
    "version": 3
   },
   "file_extension": ".py",
   "mimetype": "text/x-python",
   "name": "python",
   "nbconvert_exporter": "python",
   "pygments_lexer": "ipython3",
   "version": "3.9.12"
  }
 },
 "nbformat": 4,
 "nbformat_minor": 5
}
