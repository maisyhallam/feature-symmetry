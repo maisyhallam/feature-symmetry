{
 "cells": [
  {
   "cell_type": "code",
   "execution_count": 1,
   "id": "25c4ecd5",
   "metadata": {},
   "outputs": [],
   "source": [
    "import csv # for writing dataframes to csv\n",
    "import random # for making a random choice\n",
    "import os # for scanning directories\n",
    "import itertools\n",
    "import string # for generating strings\n",
    "from collections import Counter\n",
    "\n",
    "import kintypes as kt # bringing large lists of kin types into the namespace\n",
    "import math # for calculating logs\n",
    "import pandas as pd"
   ]
  },
  {
   "cell_type": "markdown",
   "id": "0604ef4d",
   "metadata": {},
   "source": [
    "# Internal co-selection\n",
    "\n",
    "Internal co-selection refers to the tendency for kinship systems to have cross-generational consistency in the terminological distinctions or mergers that are made. That is, if your parents' elder brothers share a kin term, then so too will their children. If your parents' sisters are distinguished from your parents' brothers, so too will their children be distinguished. We can test the robustness of this tendency using our frankenlanguages, to see whether internal co-selection occurs at a higher rate than chance.\n",
    "\n",
    "We will measure internal co-selection in terms of the **mutual information** between Generation N and Generation N+1 in a particular kinship system. That tells us how much information can be gained from one generation by observing the other - we can think of this as the benefit of internal co-selection. That is, we need to work out the conditional entropy between every possible pair of parent and child terms, and the entropy over an entire generation. This will tell us how much information is shared across the two generations; or how much we can predict about one generation given the other.\n",
    "\n",
    "To do this, we need to do the following:\n",
    "\n",
    "* Get a list of parent-child pairs for each language.\n",
    "* Work out the probability of each pair (the joint probability of term A and term B)\n",
    "* Work out the probabilities of each individual term in a generation.\n",
    "* Calculate the conditional entropy of the system using 2 and 3, and the entropy of one generation using C.\n",
    "* Calculate the mutual information of the system.\n",
    "\n",
    "Luckily, we can re-use some of the infrastructure we already have. For ease, I will write out again the functions that extract kin terms from a kinbank file."
   ]
  },
  {
   "cell_type": "code",
   "execution_count": 2,
   "id": "fb399128",
   "metadata": {},
   "outputs": [],
   "source": [
    "# to get a list of all the kinbank filenames\n",
    "\n",
    "def get_kb_files():\n",
    "    files = []\n",
    "    path = '../languages/kinbank'\n",
    "    directory = os.scandir(path)\n",
    "    for file in directory:\n",
    "        files.append(file.name)\n",
    "    return files"
   ]
  },
  {
   "cell_type": "code",
   "execution_count": 3,
   "id": "bc4f8ed3",
   "metadata": {},
   "outputs": [],
   "source": [
    "# to pick a file at random\n",
    "\n",
    "def random_language(all_data):\n",
    "    language = random.choice(all_data)\n",
    "    # print(language)\n",
    "    return language"
   ]
  },
  {
   "cell_type": "code",
   "execution_count": 4,
   "id": "251321df",
   "metadata": {},
   "outputs": [],
   "source": [
    "# to extract kin terms from one of those files\n",
    "\n",
    "def get_kin_terms(filepath):\n",
    "    kin_system = {}\n",
    "    with open(filepath, encoding='utf8') as f:\n",
    "        csv_reader = csv.DictReader(f)\n",
    "        next(csv_reader) # to skip the header row\n",
    "        for line in csv_reader:\n",
    "            kin_type = line['parameter']\n",
    "            kin_term = line['word']\n",
    "            kin_system[kin_type] = kin_term\n",
    "    return kin_system"
   ]
  },
  {
   "cell_type": "code",
   "execution_count": 5,
   "id": "e3f03c87",
   "metadata": {},
   "outputs": [],
   "source": [
    "all_kb_files = get_kb_files()"
   ]
  },
  {
   "cell_type": "code",
   "execution_count": 108,
   "id": "112a4e3f",
   "metadata": {},
   "outputs": [
    {
     "name": "stdout",
     "output_type": "stream",
     "text": [
      "Mongo_mong1338.csv {'meB': 'nsómí', 'myB': 'bokume', 'mF': 'tata', 'mPP': 'nkoko', 'mSS': 'nkoko', 'mSD': 'nkoko', 'mDS': 'bonkana', 'mDD': 'bonkana', 'mFB': 'tantinkune', 'mFZ': 'faomoto', 'mMZ': 'nyango', 'mMeZ': 'nyango', 'meBS': 'bona', 'myBS': 'bona', 'meBD': 'bona', 'myBD': 'bona', 'meZS': 'bona', 'myZS': 'bona', 'meZD': 'bona', 'myZD': 'bona', 'mFBD': 'nkanea jende', 'mMBD': 'nkana', 'mMBS': 'nkana', 'mFBeS': 'botomolo', 'mFByS': 'bokume', 'mFBeD': 'nkåna', 'mFByD': 'nkåna', 'mMBeS': 'bona', 'mMByS': 'bona', 'mMBeD': 'bona', 'mMByD': 'bona', 'mFZH': 'bokilo', 'mFBW': 'bokilo', 'mMZH': 'bokilo', 'mMBW': 'bokilo', 'myZ': 'nkaneomoto', 'mFeB': 'tantinkune', 'mFeZ': 'faomoto', 'mFyZ': 'faomoto', 'mFeBD': 'nkanea jende', 'mFyBD': 'nkanea jende', 'mMeBS': 'nkana', 'mMyBS': 'nkana', 'mMeBD': 'nkana', 'mMyBD': 'nkana', 'fZ': 'nkaneomoto', 'feB': 'nsómí', 'fyB': 'bokume', 'fF': 'tata', 'fPP': 'nkoko', 'fSS': 'nkoko', 'fSD': 'nkoko', 'fDS': 'bonkana', 'fDD': 'bonkana', 'fFB': 'tantinkune', 'fFZ': 'faomoto', 'fMZ': 'nyango', 'fMeZ': 'nyango', 'feBS': 'bona', 'fyBS': 'bona', 'feBD': 'bona', 'fyBD': 'bona', 'feZS': 'bona', 'fyZS': 'bona', 'feZD': 'bona', 'fyZD': 'bona', 'fFBD': 'nkanea jende', 'fMBD': 'nkana', 'fMBS': 'nkana', 'fFBeS': 'botomolo', 'fFByS': 'bokume', 'fFBeD': 'nkåna', 'fFByD': 'nkåna', 'fMBeS': 'bona', 'fMByS': 'bona', 'fMBeD': 'bona', 'fMByD': 'bona', 'fFZH': 'bokilo', 'fFBW': 'bokilo', 'fMZH': 'bokilo', 'fMBW': 'bokilo', 'fyZ': 'nkaneomoto', 'fFeB': 'tantinkune', 'fFeZ': 'faomoto', 'fFyZ': 'faomoto', 'fFeBD': 'nkanea jende', 'fFyBD': 'nkanea jende', 'fMeBS': 'nkana', 'fMyBS': 'nkana', 'fMeBD': 'nkana', 'fMyBD': 'nkana', 'mB': 'nkanea jende', 'mZ': 'nkaneomoto', 'meZ': 'nsómí', 'mM': 'nyango', 'mC': 'bona', 'mS': 'bona', 'mD': 'djipoku', 'mA': 'bankokoolo', 'mFF': 'nkoko', 'mFM': 'nkoko', 'mMF': 'nkoko', 'mMM': 'nkoko', 'mMB': 'nyangompame', 'mFyB': \"tat'inkune\", 'mMyZ': \"mam'inkune\", 'mBS': 'bononkana', 'mBD': 'bonankana', 'mZS': 'bonankana', 'mZD': 'bononkana', 'mFZD': 'nkana', 'mMZD': 'nkana', 'mFBS': 'nkana', 'mFZS': 'nkana', 'mMZS': 'nkana', 'mH': 'bome', 'mW': 'waji', 'mHF': 'bokilo', 'mHM': 'bokilo', 'mWF': 'bokilo', 'mWM': 'bokilo', 'mBW': 'bokilo', 'mZH': 'bokilo', 'mWB': 'bokilo', 'mWZ': 'bokilo', 'mHB': 'bokilo', 'mHZ': 'bokilo', 'mSW': 'bokilo', 'mSWM': 'bokilo', 'mSWF': 'bokilo', 'mDH': 'bokilo', 'mDHM': 'bokilo', 'mDHF': 'bokilo', 'mMeB': 'nyangompame', 'mMyB': 'nyangompame', 'mFeBS': 'nkana', 'mFyBS': 'nkana', 'mFeZS': 'nkana', 'mFyZS': 'nkana', 'mFeZD': 'nkana', 'mFyZD': 'nkana', 'mMeZS': 'nkana', 'mMyZS': 'nkana', 'mMeZD': 'nkana', 'mMyZD': 'nkana', 'mFZeS': 'nkana', 'mFZyS': 'nkana', 'mFZeD': 'nkana', 'mFZyD': 'nkana', 'mMZeS': 'nkana', 'mMZyS': 'nkana', 'mMZeD': 'nkana', 'mMZyD': 'nkana', 'fB': 'nkanea jende', 'feZ': 'nsómí', 'fM': 'nyango', 'fC': 'bona', 'fS': 'bona', 'fD': 'djipoku', 'fA': 'bankokoolo', 'fFF': 'nkoko', 'fFM': 'nkoko', 'fMF': 'nkoko', 'fMM': 'nkoko', 'fMB': 'nyangompame', 'fFyB': \"tat'inkune\", 'fMyZ': \"mam'inkune\", 'fBS': 'bononkana', 'fBD': 'bonankana', 'fZS': 'bonankana', 'fZD': 'bononkana', 'fFZD': 'nkana', 'fMZD': 'nkana', 'fFBS': 'nkana', 'fFZS': 'nkana', 'fMZS': 'nkana', 'fH': 'bome', 'fW': 'waji', 'fHF': 'bokilo', 'fHM': 'bokilo', 'fWF': 'bokilo', 'fWM': 'bokilo', 'fBW': 'bokilo', 'fZH': 'bokilo', 'fWB': 'bokilo', 'fWZ': 'bokilo', 'fHB': 'bokilo', 'fHZ': 'bokilo', 'fSW': 'bokilo', 'fSWM': 'bokilo', 'fSWF': 'bokilo', 'fDH': 'bokilo', 'fDHM': 'bokilo', 'fDHF': 'bokilo', 'fMeB': 'nyangompame', 'fMyB': 'nyangompame', 'fFeBS': 'nkana', 'fFyBS': 'nkana', 'fFeZS': 'nkana', 'fFyZS': 'nkana', 'fFeZD': 'nkana', 'fFyZD': 'nkana', 'fMeZS': 'nkana', 'fMyZS': 'nkana', 'fMeZD': 'nkana', 'fMyZD': 'nkana', 'fFZeS': 'nkana', 'fFZyS': 'nkana', 'fFZeD': 'nkana', 'fFZyD': 'nkana', 'fMZeS': 'nkana', 'fMZyS': 'nkana', 'fMZeD': 'nkana', 'fMZyD': 'nkana'}\n"
     ]
    }
   ],
   "source": [
    "random.seed(52)\n",
    "file = random_language(all_kb_files)\n",
    "filepath = '../languages/kinbank/'\n",
    "\n",
    "l = get_kin_terms(filepath + file)\n",
    "\n",
    "print(file,l)"
   ]
  },
  {
   "cell_type": "markdown",
   "id": "3d99a06a",
   "metadata": {},
   "source": [
    "## Getting the relevant terms\n",
    "\n",
    "The first thing we can do is filter our full kinship system so we just have the kin types that we're interested in - that is, the kin from generation N and generation N+1. We will do this by comparing the kin types in the kinbank file against a list of pairs of kin types - parent-child pairs like 'mother's older brother' and 'mother's older brother's son'."
   ]
  },
  {
   "cell_type": "code",
   "execution_count": 52,
   "id": "88bf4ce5",
   "metadata": {},
   "outputs": [],
   "source": [
    "def get_pairs(ks,d = False):\n",
    "    pairs_of_terms = {}\n",
    "    placeholder = []\n",
    "    \n",
    "    for pair in kt.ics_pairs:\n",
    "        if pair[0] in ks and pair[1] in ks:\n",
    "            pairs_of_terms[pair] = (ks[pair[0]],ks[pair[1]])\n",
    "            placeholder.append(pair)\n",
    "            \n",
    "    if d: # if we want terms mapped to types, return a dictionary\n",
    "        return pairs_of_terms\n",
    "    else: # if not, just return a list of pairs\n",
    "        return list(pairs_of_terms.values())"
   ]
  },
  {
   "cell_type": "code",
   "execution_count": 83,
   "id": "b16488c6",
   "metadata": {},
   "outputs": [],
   "source": [
    "def split_pairs_unique(pairs: dict):\n",
    "    gn = {}\n",
    "    gn1 = {}\n",
    "    for pair in pairs:\n",
    "        gn1[pair[0]] = pairs[pair][0]\n",
    "        gn[pair[1]] = pairs[pair][1]\n",
    "    \n",
    "    return gn,gn1\n",
    "        "
   ]
  },
  {
   "cell_type": "code",
   "execution_count": 84,
   "id": "78ea56fe",
   "metadata": {},
   "outputs": [],
   "source": [
    "def split_pairs(pairs:list):\n",
    "    gn = []\n",
    "    gn1 = []\n",
    "    for pair in pairs:\n",
    "        gn.append(pair[1])\n",
    "        gn1.append(pair[0])\n",
    "        \n",
    "    return gn,gn1"
   ]
  },
  {
   "cell_type": "code",
   "execution_count": 64,
   "id": "c1c3383a",
   "metadata": {},
   "outputs": [],
   "source": [
    "gn,gn1 = split_pairs(l_pairs)"
   ]
  },
  {
   "cell_type": "markdown",
   "id": "c20afbe8",
   "metadata": {},
   "source": [
    "Now we have a new kinship system with only the relevant terms - much easier to work with. We still need to filter out the **pairs of terms** that interest us, though. In order to calculate mutual information, we need two lists of terms that are equal in length. So even though "
   ]
  },
  {
   "cell_type": "code",
   "execution_count": 16,
   "id": "62e2ede8",
   "metadata": {},
   "outputs": [],
   "source": [
    "def make_list(dictionary):\n",
    "    return list(dictionary.values())"
   ]
  },
  {
   "cell_type": "markdown",
   "id": "e80575b9",
   "metadata": {},
   "source": [
    "## Calculating entropy\n",
    "\n",
    "Next, we need some functions to calculate probabilities for us."
   ]
  },
  {
   "cell_type": "code",
   "execution_count": 11,
   "id": "671ed8dd",
   "metadata": {},
   "outputs": [],
   "source": [
    "def probability(term: str, generation: list) -> float:\n",
    "    return generation.count(term)/len(generation)"
   ]
  },
  {
   "cell_type": "markdown",
   "id": "ac592b98",
   "metadata": {},
   "source": [
    "And a function to calculate entropy over a list of data."
   ]
  },
  {
   "cell_type": "code",
   "execution_count": 19,
   "id": "6d9e20f7",
   "metadata": {},
   "outputs": [],
   "source": [
    "def entropy(generation):\n",
    "    entropy = 0\n",
    "    for term in set(generation):\n",
    "        p = probability(term,generation)\n",
    "        entropy += p*math.log(p)\n",
    "    return -entropy"
   ]
  },
  {
   "cell_type": "code",
   "execution_count": 21,
   "id": "fae71705",
   "metadata": {},
   "outputs": [
    {
     "data": {
      "text/plain": [
       "1.0397207708399179"
      ]
     },
     "execution_count": 21,
     "metadata": {},
     "output_type": "execute_result"
    }
   ],
   "source": [
    "entropy(make_list(gn1))"
   ]
  },
  {
   "cell_type": "markdown",
   "id": "dd2cbe75",
   "metadata": {},
   "source": [
    "## Calculating mutual information\n",
    "\n",
    "Lucky for us, the `sklearn` package has a built in function for calculating mutual information, `mutual_info_score`. We can give it our two generations and it will give us back the mutual information between them measured in nats."
   ]
  },
  {
   "cell_type": "code",
   "execution_count": 62,
   "id": "08e6a5d8",
   "metadata": {},
   "outputs": [
    {
     "ename": "ValueError",
     "evalue": "math domain error",
     "output_type": "error",
     "traceback": [
      "\u001b[1;31m---------------------------------------------------------------------------\u001b[0m",
      "\u001b[1;31mValueError\u001b[0m                                Traceback (most recent call last)",
      "Input \u001b[1;32mIn [62]\u001b[0m, in \u001b[0;36m<cell line: 3>\u001b[1;34m()\u001b[0m\n\u001b[0;32m      1\u001b[0m \u001b[38;5;28;01mfrom\u001b[39;00m \u001b[38;5;21;01msklearn\u001b[39;00m\u001b[38;5;21;01m.\u001b[39;00m\u001b[38;5;21;01mmetrics\u001b[39;00m \u001b[38;5;28;01mimport\u001b[39;00m mutual_info_score\n\u001b[1;32m----> 3\u001b[0m \u001b[43mmutual_info_score\u001b[49m\u001b[43m(\u001b[49m\u001b[43mmake_list\u001b[49m\u001b[43m(\u001b[49m\u001b[43mgn\u001b[49m\u001b[43m)\u001b[49m\u001b[43m,\u001b[49m\u001b[43mmake_list\u001b[49m\u001b[43m(\u001b[49m\u001b[43mgn1\u001b[49m\u001b[43m)\u001b[49m\u001b[43m)\u001b[49m\n",
      "File \u001b[1;32mC:\\Anaconda\\lib\\site-packages\\sklearn\\metrics\\cluster\\_supervised.py:810\u001b[0m, in \u001b[0;36mmutual_info_score\u001b[1;34m(labels_true, labels_pred, contingency)\u001b[0m\n\u001b[0;32m    806\u001b[0m \u001b[38;5;66;03m# Don't need to calculate the full outer product, just for non-zeroes\u001b[39;00m\n\u001b[0;32m    807\u001b[0m outer \u001b[38;5;241m=\u001b[39m pi\u001b[38;5;241m.\u001b[39mtake(nzx)\u001b[38;5;241m.\u001b[39mastype(np\u001b[38;5;241m.\u001b[39mint64, copy\u001b[38;5;241m=\u001b[39m\u001b[38;5;28;01mFalse\u001b[39;00m) \u001b[38;5;241m*\u001b[39m pj\u001b[38;5;241m.\u001b[39mtake(nzy)\u001b[38;5;241m.\u001b[39mastype(\n\u001b[0;32m    808\u001b[0m     np\u001b[38;5;241m.\u001b[39mint64, copy\u001b[38;5;241m=\u001b[39m\u001b[38;5;28;01mFalse\u001b[39;00m\n\u001b[0;32m    809\u001b[0m )\n\u001b[1;32m--> 810\u001b[0m log_outer \u001b[38;5;241m=\u001b[39m \u001b[38;5;241m-\u001b[39mnp\u001b[38;5;241m.\u001b[39mlog(outer) \u001b[38;5;241m+\u001b[39m \u001b[43mlog\u001b[49m\u001b[43m(\u001b[49m\u001b[43mpi\u001b[49m\u001b[38;5;241;43m.\u001b[39;49m\u001b[43msum\u001b[49m\u001b[43m(\u001b[49m\u001b[43m)\u001b[49m\u001b[43m)\u001b[49m \u001b[38;5;241m+\u001b[39m log(pj\u001b[38;5;241m.\u001b[39msum())\n\u001b[0;32m    811\u001b[0m mi \u001b[38;5;241m=\u001b[39m (\n\u001b[0;32m    812\u001b[0m     contingency_nm \u001b[38;5;241m*\u001b[39m (log_contingency_nm \u001b[38;5;241m-\u001b[39m log(contingency_sum))\n\u001b[0;32m    813\u001b[0m     \u001b[38;5;241m+\u001b[39m contingency_nm \u001b[38;5;241m*\u001b[39m log_outer\n\u001b[0;32m    814\u001b[0m )\n\u001b[0;32m    815\u001b[0m mi \u001b[38;5;241m=\u001b[39m np\u001b[38;5;241m.\u001b[39mwhere(np\u001b[38;5;241m.\u001b[39mabs(mi) \u001b[38;5;241m<\u001b[39m np\u001b[38;5;241m.\u001b[39mfinfo(mi\u001b[38;5;241m.\u001b[39mdtype)\u001b[38;5;241m.\u001b[39meps, \u001b[38;5;241m0.0\u001b[39m, mi)\n",
      "\u001b[1;31mValueError\u001b[0m: math domain error"
     ]
    }
   ],
   "source": [
    "from sklearn.metrics import mutual_info_score\n",
    "\n",
    "mutual_info_score(make_list(gn),make_list(gn1))"
   ]
  },
  {
   "cell_type": "markdown",
   "id": "d4a1f8e1",
   "metadata": {},
   "source": [
    "In this case, the entropy and the mutual information are the same, as the conditional entropy of this system is 0.0. We know this because all the terms in one of the generations are the same."
   ]
  },
  {
   "cell_type": "markdown",
   "id": "695c5a13",
   "metadata": {},
   "source": [
    "## Simulating kinship systems"
   ]
  },
  {
   "cell_type": "markdown",
   "id": "5cb062f6",
   "metadata": {},
   "source": [
    "We don't just want to run this on real kinship systems. We also want to calculate the mutual information of kinship systems that we've simulated, so we can test whether real languages have higher mutual information than we would expect to occur by chance for a particular amount of variation. In other words, do kinship systems exhibit higher than expected mutual information between GN and GN+1 given the number of terms available in the system?\n",
    "\n",
    "We already have a way to extract the terms we're interested in - now we need to randomise them and recombine them. This will give us a kinship system with the same amount of variation, but with the relationships between terms randomised."
   ]
  },
  {
   "cell_type": "code",
   "execution_count": 79,
   "id": "dfc5d09e",
   "metadata": {},
   "outputs": [],
   "source": [
    "def randomise_generation(g):\n",
    "    sim_g = {}\n",
    "    terms = list(g.values())\n",
    "    print(Counter(terms))\n",
    "    types = list(g.keys())\n",
    "    random.shuffle(terms)\n",
    "    print(Counter(terms))\n",
    "    \n",
    "    for i in range(len(g)):\n",
    "        random_term = terms[i]\n",
    "        kintype = types[i]\n",
    "        sim_g[kintype] = random_term\n",
    "        \n",
    "    return sim_g"
   ]
  },
  {
   "cell_type": "code",
   "execution_count": 85,
   "id": "f74681f7",
   "metadata": {},
   "outputs": [
    {
     "name": "stdout",
     "output_type": "stream",
     "text": [
      "Counter({'abay': 12, 'nagaš akay': 6, 'akay': 6})\n",
      "Counter({'abay': 12, 'nagaš akay': 6, 'akay': 6})\n",
      "{'mMB': 'nagaš akay', 'mMeB': 'nagaš akay', 'mMyB': 'nagaš akay', 'mFB': 'akay', 'mFeB': 'akay', 'mFyB': 'akay', 'mMZ': 'abay', 'mMeZ': 'abay', 'mMyZ': 'abay', 'mFZ': 'abay', 'mFeZ': 'abay', 'mFyZ': 'abay', 'fMB': 'nagaš akay', 'fMeB': 'nagaš akay', 'fMyB': 'nagaš akay', 'fFB': 'akay', 'fFeB': 'akay', 'fFyB': 'akay', 'fMZ': 'abay', 'fMeZ': 'abay', 'fMyZ': 'abay', 'fFZ': 'abay', 'fFeZ': 'abay', 'fFyZ': 'abay'}\n"
     ]
    }
   ],
   "source": [
    "randomise_generation(gn1)\n",
    "\n",
    "print(gn1)"
   ]
  },
  {
   "cell_type": "code",
   "execution_count": 82,
   "id": "6f5c6f23",
   "metadata": {},
   "outputs": [],
   "source": [
    "def shuffle_system(g1,g2):\n",
    "    g1 = randomise_generation(g1)\n",
    "    g2 = randomise_generation(g2)\n",
    "    return {**g1,**g2}"
   ]
  },
  {
   "cell_type": "markdown",
   "id": "9bffdc27",
   "metadata": {},
   "source": [
    "## Calculating mutual information en masse\n",
    "\n",
    "Now we have all the pieces, we can calculate the mutual information and entropy of both real kinship systems and simulated ones. Let's wrap everything up in a function."
   ]
  },
  {
   "cell_type": "code",
   "execution_count": 87,
   "id": "de451a20",
   "metadata": {},
   "outputs": [],
   "source": [
    "def calculate_ics(file,simulation = False,times = False):\n",
    "    ks = get_kin_terms(filepath + file)\n",
    "    pairs = get_pairs(ks,True)\n",
    "    g1,g2 = split_pairs_unique(pairs)\n",
    "    language = file[:-13]\n",
    "\n",
    "    df = []\n",
    "    \n",
    "    if simulation:\n",
    "        for i in range(times):\n",
    "            shuffled_system = shuffle_ks(g1,g2)\n",
    "            pairs = get_pairs(shuffled_system)\n",
    "            g1,g2 = split(pairs)\n",
    "            e = entropy(g2)\n",
    "            mi = mutual_info_score(g1,g2)\n",
    "            results = {}\n",
    "            results['simulation_number'] = sim\n",
    "            results['mutual_information'] = mi\n",
    "            results['entropy'] = e\n",
    "            for i in g1:\n",
    "                results[i] = g1[i]\n",
    "            for i in g2:\n",
    "                results[i] = g2[i]\n",
    "            df.append(results)\n",
    "        pd.DataFrame(df).to_csv('../data/raw/ics_' + language + '.csv',index=False)\n",
    "\n",
    "    else:\n",
    "        e = entropy(make_list(g2))\n",
    "        mi = mutual_info_score(make_list(g1),make_list(g2))\n",
    "        results = {}\n",
    "        results['language'] = language\n",
    "        results['mutual_information'] = mi\n",
    "        results['entropy'] = e\n",
    "        for i in g1:\n",
    "            results[i] = g1[i]\n",
    "        for i in g2:\n",
    "            results[i] = g2[i]\n",
    "        df.append(results)\n",
    "        pd.DataFrame(df).to_csv('../data/raw/ics_real_languages.csv',index=False)\n",
    "\n",
    "  \n",
    "        \n",
    "    return pd.DataFrame(df)\n",
    "    "
   ]
  },
  {
   "cell_type": "code",
   "execution_count": 95,
   "id": "9e7fc668",
   "metadata": {},
   "outputs": [],
   "source": [
    "def calculate_mi(ks):\n",
    "    pairs = get_pairs(real_ks)\n",
    "    print(pairs)\n",
    "    gn,gn1 = split_pairs(pairs)\n",
    "    print(gn,gn1)\n",
    "    e = entropy(gn1)\n",
    "    mi = mutual_info_score(gn,gn1)\n",
    "    return e,mi"
   ]
  },
  {
   "cell_type": "code",
   "execution_count": 109,
   "id": "f69c452c",
   "metadata": {},
   "outputs": [
    {
     "name": "stdout",
     "output_type": "stream",
     "text": [
      "[('nyangompame', 'nkana'), ('nyangompame', 'bona'), ('nyangompame', 'bona'), ('nyangompame', 'nkana'), ('nyangompame', 'bona'), ('nyangompame', 'bona'), ('nyangompame', 'nkana'), ('nyangompame', 'nkana'), ('nyangompame', 'nkana'), ('nyangompame', 'nkana'), ('tantinkune', 'nkana'), ('tantinkune', 'botomolo'), ('tantinkune', 'bokume'), ('tantinkune', 'nkanea jende'), ('tantinkune', 'nkåna'), ('tantinkune', 'nkåna'), ('tantinkune', 'nkana'), ('tantinkune', 'nkanea jende'), (\"tat'inkune\", 'nkana'), (\"tat'inkune\", 'nkanea jende'), ('nyango', 'nkana'), ('nyango', 'nkana'), ('nyango', 'nkana'), ('nyango', 'nkana'), ('nyango', 'nkana'), ('nyango', 'nkana'), ('nyango', 'nkana'), ('nyango', 'nkana'), (\"mam'inkune\", 'nkana'), (\"mam'inkune\", 'nkana'), ('faomoto', 'nkana'), ('faomoto', 'nkana'), ('faomoto', 'nkana'), ('faomoto', 'nkana'), ('faomoto', 'nkana'), ('faomoto', 'nkana'), ('faomoto', 'nkana'), ('faomoto', 'nkana'), ('faomoto', 'nkana'), ('faomoto', 'nkana'), ('nyangompame', 'nkana'), ('nyangompame', 'bona'), ('nyangompame', 'bona'), ('nyangompame', 'nkana'), ('nyangompame', 'bona'), ('nyangompame', 'bona'), ('nyangompame', 'nkana'), ('nyangompame', 'nkana'), ('nyangompame', 'nkana'), ('nyangompame', 'nkana'), ('tantinkune', 'nkana'), ('tantinkune', 'botomolo'), ('tantinkune', 'bokume'), ('tantinkune', 'nkanea jende'), ('tantinkune', 'nkåna'), ('tantinkune', 'nkåna'), ('tantinkune', 'nkana'), ('tantinkune', 'nkanea jende'), (\"tat'inkune\", 'nkana'), (\"tat'inkune\", 'nkanea jende'), ('nyango', 'nkana'), ('nyango', 'nkana'), ('nyango', 'nkana'), ('nyango', 'nkana'), ('nyango', 'nkana'), ('nyango', 'nkana'), ('nyango', 'nkana'), ('nyango', 'nkana'), (\"mam'inkune\", 'nkana'), (\"mam'inkune\", 'nkana'), ('faomoto', 'nkana'), ('faomoto', 'nkana'), ('faomoto', 'nkana'), ('faomoto', 'nkana'), ('faomoto', 'nkana'), ('faomoto', 'nkana'), ('faomoto', 'nkana'), ('faomoto', 'nkana'), ('faomoto', 'nkana'), ('faomoto', 'nkana')]\n",
      "['nkana', 'bona', 'bona', 'nkana', 'bona', 'bona', 'nkana', 'nkana', 'nkana', 'nkana', 'nkana', 'botomolo', 'bokume', 'nkanea jende', 'nkåna', 'nkåna', 'nkana', 'nkanea jende', 'nkana', 'nkanea jende', 'nkana', 'nkana', 'nkana', 'nkana', 'nkana', 'nkana', 'nkana', 'nkana', 'nkana', 'nkana', 'nkana', 'nkana', 'nkana', 'nkana', 'nkana', 'nkana', 'nkana', 'nkana', 'nkana', 'nkana', 'nkana', 'bona', 'bona', 'nkana', 'bona', 'bona', 'nkana', 'nkana', 'nkana', 'nkana', 'nkana', 'botomolo', 'bokume', 'nkanea jende', 'nkåna', 'nkåna', 'nkana', 'nkanea jende', 'nkana', 'nkanea jende', 'nkana', 'nkana', 'nkana', 'nkana', 'nkana', 'nkana', 'nkana', 'nkana', 'nkana', 'nkana', 'nkana', 'nkana', 'nkana', 'nkana', 'nkana', 'nkana', 'nkana', 'nkana', 'nkana', 'nkana'] ['nyangompame', 'nyangompame', 'nyangompame', 'nyangompame', 'nyangompame', 'nyangompame', 'nyangompame', 'nyangompame', 'nyangompame', 'nyangompame', 'tantinkune', 'tantinkune', 'tantinkune', 'tantinkune', 'tantinkune', 'tantinkune', 'tantinkune', 'tantinkune', \"tat'inkune\", \"tat'inkune\", 'nyango', 'nyango', 'nyango', 'nyango', 'nyango', 'nyango', 'nyango', 'nyango', \"mam'inkune\", \"mam'inkune\", 'faomoto', 'faomoto', 'faomoto', 'faomoto', 'faomoto', 'faomoto', 'faomoto', 'faomoto', 'faomoto', 'faomoto', 'nyangompame', 'nyangompame', 'nyangompame', 'nyangompame', 'nyangompame', 'nyangompame', 'nyangompame', 'nyangompame', 'nyangompame', 'nyangompame', 'tantinkune', 'tantinkune', 'tantinkune', 'tantinkune', 'tantinkune', 'tantinkune', 'tantinkune', 'tantinkune', \"tat'inkune\", \"tat'inkune\", 'nyango', 'nyango', 'nyango', 'nyango', 'nyango', 'nyango', 'nyango', 'nyango', \"mam'inkune\", \"mam'inkune\", 'faomoto', 'faomoto', 'faomoto', 'faomoto', 'faomoto', 'faomoto', 'faomoto', 'faomoto', 'faomoto', 'faomoto']\n"
     ]
    },
    {
     "data": {
      "text/plain": [
       "(1.6364955728889845, 0.47708075355136104)"
      ]
     },
     "execution_count": 109,
     "metadata": {},
     "output_type": "execute_result"
    }
   ],
   "source": [
    "calculate_mi(l)"
   ]
  },
  {
   "cell_type": "code",
   "execution_count": 99,
   "id": "569817fd",
   "metadata": {},
   "outputs": [],
   "source": [
    "def simulation(ks):\n",
    "    pairs = get_pairs(ks,True)\n",
    "    gn,gn1 = split_pairs_unique(pairs)\n",
    "    sim_ks = shuffle_system(gn,gn1)\n",
    "    sim_pairs = get_pairs(sim_ks)\n",
    "    simgn,simgn1 = split_pairs(sim_pairs)\n",
    "    e = entropy(simgn1)\n",
    "    mi = mutual_info_score(simgn,simgn1)\n",
    "    return e,mi"
   ]
  },
  {
   "cell_type": "code",
   "execution_count": 110,
   "id": "bce6b862",
   "metadata": {},
   "outputs": [
    {
     "name": "stdout",
     "output_type": "stream",
     "text": [
      "Counter({'nkana': 58, 'bona': 8, 'nkanea jende': 6, 'nkåna': 4, 'botomolo': 2, 'bokume': 2})\n",
      "Counter({'nkana': 58, 'bona': 8, 'nkanea jende': 6, 'nkåna': 4, 'botomolo': 2, 'bokume': 2})\n",
      "Counter({'nyangompame': 6, 'faomoto': 6, 'tantinkune': 4, 'nyango': 4, \"tat'inkune\": 2, \"mam'inkune\": 2})\n",
      "Counter({'faomoto': 6, 'nyangompame': 6, 'tantinkune': 4, 'nyango': 4, \"tat'inkune\": 2, \"mam'inkune\": 2})\n"
     ]
    },
    {
     "data": {
      "text/plain": [
       "(1.6238619959281992, 0.1333852226223921)"
      ]
     },
     "execution_count": 110,
     "metadata": {},
     "output_type": "execute_result"
    }
   ],
   "source": [
    "simulation(l)"
   ]
  },
  {
   "cell_type": "code",
   "execution_count": 101,
   "id": "82ac2578",
   "metadata": {},
   "outputs": [],
   "source": [
    "file = 'Koya_koya1251.csv'\n",
    "l2 = get_kin_terms(filepath + file)"
   ]
  },
  {
   "cell_type": "code",
   "execution_count": 102,
   "id": "095f85ec",
   "metadata": {},
   "outputs": [
    {
     "name": "stdout",
     "output_type": "stream",
     "text": [
      "[('māmā', 'yeruḷ'), ('māmā', 'yeruḷ'), ('māmā', 'yeruḷ'), ('māmā', 'pekki'), ('māmā', 'pekki'), ('māmā', 'pekki'), ('māmā', 'yeruḷ'), ('māmā', 'pekki'), ('māmā', 'yeruḷ'), ('māmā', 'pekki'), ('pépe', 'tammuḍu'), ('pépe', 'tammuḍu'), ('pépe', 'tammuḍu'), ('pépe', 'piki'), ('pépe', 'piki'), ('pépe', 'piki'), ('pépe', 'tammuḍu'), ('pépe', 'piki'), ('pépe', 'tammuḍu'), ('pépe', 'piki'), ('pedi', 'tammuḍu'), ('pedi', 'piki'), ('kuci', 'tammuḍu'), ('kuci', 'piki'), ('poyé', 'yeruḷ'), ('poyé', 'yeruḷ'), ('poyé', 'yeruḷ'), ('poyé', 'pekki'), ('poyé', 'pekki'), ('poyé', 'pekki'), ('poyé', 'yeruḷ'), ('poyé', 'pekki'), ('poyé', 'yeruḷ'), ('poyé', 'pekki'), ('māmā', 'yeruḷ'), ('māmā', 'yeruḷ'), ('māmā', 'yeruḷ'), ('māmā', 'pekki'), ('māmā', 'pekki'), ('māmā', 'pekki'), ('māmā', 'yeruḷ'), ('māmā', 'pekki'), ('māmā', 'yeruḷ'), ('māmā', 'pekki'), ('pépe', 'tammuḍu'), ('pépe', 'tammuḍu'), ('pépe', 'tammuḍu'), ('pépe', 'piki'), ('pépe', 'piki'), ('pépe', 'piki'), ('pépe', 'tammuḍu'), ('pépe', 'piki'), ('pépe', 'tammuḍu'), ('pépe', 'piki'), ('pedi', 'tammuḍu'), ('pedi', 'piki'), ('kuci', 'tammuḍu'), ('kuci', 'piki'), ('poyé', 'yeruḷ'), ('poyé', 'yeruḷ'), ('poyé', 'yeruḷ'), ('poyé', 'pekki'), ('poyé', 'pekki'), ('poyé', 'pekki'), ('poyé', 'yeruḷ'), ('poyé', 'pekki'), ('poyé', 'yeruḷ'), ('poyé', 'pekki')]\n",
      "['yeruḷ', 'yeruḷ', 'yeruḷ', 'pekki', 'pekki', 'pekki', 'yeruḷ', 'pekki', 'yeruḷ', 'pekki', 'tammuḍu', 'tammuḍu', 'tammuḍu', 'piki', 'piki', 'piki', 'tammuḍu', 'piki', 'tammuḍu', 'piki', 'tammuḍu', 'piki', 'tammuḍu', 'piki', 'yeruḷ', 'yeruḷ', 'yeruḷ', 'pekki', 'pekki', 'pekki', 'yeruḷ', 'pekki', 'yeruḷ', 'pekki', 'yeruḷ', 'yeruḷ', 'yeruḷ', 'pekki', 'pekki', 'pekki', 'yeruḷ', 'pekki', 'yeruḷ', 'pekki', 'tammuḍu', 'tammuḍu', 'tammuḍu', 'piki', 'piki', 'piki', 'tammuḍu', 'piki', 'tammuḍu', 'piki', 'tammuḍu', 'piki', 'tammuḍu', 'piki', 'yeruḷ', 'yeruḷ', 'yeruḷ', 'pekki', 'pekki', 'pekki', 'yeruḷ', 'pekki', 'yeruḷ', 'pekki'] ['māmā', 'māmā', 'māmā', 'māmā', 'māmā', 'māmā', 'māmā', 'māmā', 'māmā', 'māmā', 'pépe', 'pépe', 'pépe', 'pépe', 'pépe', 'pépe', 'pépe', 'pépe', 'pépe', 'pépe', 'pedi', 'pedi', 'kuci', 'kuci', 'poyé', 'poyé', 'poyé', 'poyé', 'poyé', 'poyé', 'poyé', 'poyé', 'poyé', 'poyé', 'māmā', 'māmā', 'māmā', 'māmā', 'māmā', 'māmā', 'māmā', 'māmā', 'māmā', 'māmā', 'pépe', 'pépe', 'pépe', 'pépe', 'pépe', 'pépe', 'pépe', 'pépe', 'pépe', 'pépe', 'pedi', 'pedi', 'kuci', 'kuci', 'poyé', 'poyé', 'poyé', 'poyé', 'poyé', 'poyé', 'poyé', 'poyé', 'poyé', 'poyé']\n"
     ]
    },
    {
     "data": {
      "text/plain": [
       "(1.4131210683790687, 0.6774944044487079)"
      ]
     },
     "execution_count": 102,
     "metadata": {},
     "output_type": "execute_result"
    }
   ],
   "source": [
    "calculate_mi(l2)"
   ]
  },
  {
   "cell_type": "code",
   "execution_count": 103,
   "id": "655035b5",
   "metadata": {},
   "outputs": [
    {
     "name": "stdout",
     "output_type": "stream",
     "text": [
      "Counter({'yeruḷ': 20, 'pekki': 20, 'tammuḍu': 14, 'piki': 14})\n",
      "Counter({'yeruḷ': 20, 'pekki': 20, 'piki': 14, 'tammuḍu': 14})\n",
      "Counter({'māmā': 6, 'pépe': 6, 'poyé': 6, 'pedi': 2, 'kuci': 2})\n",
      "Counter({'māmā': 6, 'pépe': 6, 'poyé': 6, 'kuci': 2, 'pedi': 2})\n"
     ]
    },
    {
     "data": {
      "text/plain": [
       "(1.478751524647954, 0.15546925032761302)"
      ]
     },
     "execution_count": 103,
     "metadata": {},
     "output_type": "execute_result"
    }
   ],
   "source": [
    "simulation(l2)"
   ]
  },
  {
   "cell_type": "code",
   "execution_count": null,
   "id": "7aa744e2",
   "metadata": {},
   "outputs": [],
   "source": []
  }
 ],
 "metadata": {
  "kernelspec": {
   "display_name": "Python 3 (ipykernel)",
   "language": "python",
   "name": "python3"
  },
  "language_info": {
   "codemirror_mode": {
    "name": "ipython",
    "version": 3
   },
   "file_extension": ".py",
   "mimetype": "text/x-python",
   "name": "python",
   "nbconvert_exporter": "python",
   "pygments_lexer": "ipython3",
   "version": "3.9.12"
  }
 },
 "nbformat": 4,
 "nbformat_minor": 5
}
