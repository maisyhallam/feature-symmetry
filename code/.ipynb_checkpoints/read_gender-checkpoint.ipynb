{
 "cells": [
  {
   "cell_type": "code",
   "execution_count": 1,
   "id": "5cbf5ede-1551-4f96-b97b-b95da50a6799",
   "metadata": {},
   "outputs": [],
   "source": [
    "import os"
   ]
  },
  {
   "cell_type": "markdown",
   "id": "8a41d570-a721-4fc1-a847-b6c5d409a248",
   "metadata": {},
   "source": [
    "# Extracting gendered pairs from kinbank\n",
    "\n",
    "First, some infrastructure for loading in a kinbank file and reading the kin terms. First we extract a list of all the filenames."
   ]
  },
  {
   "cell_type": "code",
   "execution_count": 2,
   "id": "69f91af4-18cc-49bc-bace-d6b163571674",
   "metadata": {},
   "outputs": [],
   "source": [
    "def get_kb_files(path) -> list:\n",
    "    files = []\n",
    "    directory = os.scandir(path)\n",
    "    for file in directory:\n",
    "        files.append(file.name)\n",
    "    return files\n",
    "\n",
    "all_kb_files = get_kb_files('databases/kinbank')"
   ]
  },
  {
   "cell_type": "markdown",
   "id": "2cd0c6bb-f7b7-4d81-bc30-da5048e36e1c",
   "metadata": {},
   "source": [
    "Using a filename, we can read the kin terms from that file."
   ]
  },
  {
   "cell_type": "code",
   "execution_count": 3,
   "id": "b4c3c17f-2538-49bf-b6cf-dc77c1ea52c6",
   "metadata": {},
   "outputs": [],
   "source": [
    "def get_kin_terms(filepath: str) -> dict:\n",
    "    kin_system = {}\n",
    "    with open(filepath, encoding='utf8') as f:\n",
    "        csv_reader = csv.DictReader(f)\n",
    "        next(csv_reader) # to skip the header row\n",
    "        for line in csv_reader:\n",
    "            kin_type = line['parameter']\n",
    "            kin_term = line['word']\n",
    "            kin_system[kin_type] = kin_term\n",
    "    return kin_system"
   ]
  },
  {
   "cell_type": "markdown",
   "id": "cae2058e-f2bc-4b87-acbe-dbc1795a5a35",
   "metadata": {},
   "source": [
    "We also need the culture names for the cultures we have third gender data for."
   ]
  },
  {
   "cell_type": "code",
   "execution_count": null,
   "id": "4e912f16-4a7c-4e8e-8215-985f0b207585",
   "metadata": {},
   "outputs": [],
   "source": [
    "cultures = []\n",
    "\n",
    "with open('../gender-crossdressing-codes.csv') as f:\n",
    "    csv_reader = csv.DictReader(f)\n",
    "    next(csv_reader)\n",
    "    for line in csv_reader:\n",
    "        cultures.append(line['Culture'])\n",
    "\n",
    "print(cultures)"
   ]
  }
 ],
 "metadata": {
  "kernelspec": {
   "display_name": "Python 3 (ipykernel)",
   "language": "python",
   "name": "python3"
  },
  "language_info": {
   "codemirror_mode": {
    "name": "ipython",
    "version": 3
   },
   "file_extension": ".py",
   "mimetype": "text/x-python",
   "name": "python",
   "nbconvert_exporter": "python",
   "pygments_lexer": "ipython3",
   "version": "3.8.6"
  }
 },
 "nbformat": 4,
 "nbformat_minor": 5
}
